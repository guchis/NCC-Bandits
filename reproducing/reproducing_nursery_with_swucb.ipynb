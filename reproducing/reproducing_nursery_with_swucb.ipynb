{
 "cells": [
  {
   "cell_type": "markdown",
   "id": "bd264323",
   "metadata": {},
   "source": [
    "# Experiments on the Nursery dataset\n",
    "\n",
    "In this notebook we fully reproduce the experiments from the paper \"Online Learning with Costly Features in Non-stationary Environments\".\n",
    "\n",
    "    \n",
    "## Table Of Contents:\n",
    "* [**1 Preparing the data**](#1-preparing-the-data)\n",
    "    - [**1.1 Preprocessing nursery dataset**](#1-1-preprocessing-nursery)\n",
    "    - [**1.2 Introducing reward non-stationarity**](#1-2-introducing-reward-non-stationarity)\n",
    "    - [**1.3 Introducing feature costs**](#1-3-introducing-feature-costs)\n",
    "\n",
    "\n",
    "* [**2 Evaluating bandit algorithms**](#2-evaluating-bandit-algorithms)\n",
    "\n",
    "\n",
    "* [**3 Plotting figures**](#3-plotting-figures)\n",
    "    - [**3.1 Regret**](#3-1-regret)\n",
    "    - [**3.2 Reward-cost barchart**](#3-2-reward-cost-barchart)\n",
    "    - [**3.3 Arm selection histogram**](#3-3-arm-selection-histogram)\n",
    "    - [**3.4 Accuracy**](#3-4-accuracy)"
   ]
  },
  {
   "cell_type": "markdown",
   "id": "579cf40c",
   "metadata": {},
   "source": [
    "### Import necessary libraries and modules"
   ]
  },
  {
   "cell_type": "code",
   "execution_count": 1,
   "id": "ba49eee3",
   "metadata": {},
   "outputs": [],
   "source": [
    "import os\n",
    "os.chdir(\"../\")"
   ]
  },
  {
   "cell_type": "code",
   "execution_count": 2,
   "id": "0b748cbc",
   "metadata": {},
   "outputs": [],
   "source": [
    "%load_ext autoreload\n",
    "%autoreload 2\n",
    "\n",
    "import matplotlib.pyplot as plt\n",
    "import numpy as np\n",
    "import pandas as pd\n",
    "import time\n",
    "import pickle\n",
    "\n",
    "from src import algorithms, evaluation, costs, plotting, preprocessing"
   ]
  },
  {
   "cell_type": "code",
   "execution_count": 3,
   "id": "e225d680",
   "metadata": {},
   "outputs": [],
   "source": [
    "# Set random seed for reproducibility.\n",
    "np.random.seed(42)"
   ]
  },
  {
   "cell_type": "markdown",
   "id": "63b1051e",
   "metadata": {},
   "source": [
    "# 1 Preparing the data <a class=\"anchor\" id=\"1-preparing-the-data\"></a>\n",
    "\n"
   ]
  },
  {
   "cell_type": "markdown",
   "id": "0d6d2cd7",
   "metadata": {},
   "source": [
    "## 1.1 Preprocessing nursery dataset <a class=\"anchor\" id=\"1-1-preprocessing-nursery\"></a>\n",
    "\n",
    "We preprocess the Nursery dataset to create a simulation environment for evaluating bandit algorithms. The environment has a time horizon $T$. At each time $t$ the environment draws a state (or context) vector $\\phi_t$ of dimension $D$ and presents the agent with $A$ arms. The agent choses a subset of features $\\phi[i]$ to observe, pays the correspond costs $c_t[i]$. After that the decision maker chooses one action $a_t$ and receives a reward $r_t$. \n",
    "\n",
    "**States:** In our experiment each $\\phi_t$ is a row of the Nursery dataset. We set $D=5$ and chose 5 of the features of the original data. Namely, the columns `\"form\"`, `\"children\"`, `\"finance\"`, `\"housing\"` and `\"health\"`.\n",
    "\n",
    "**Rewards:** Each arm corresponds to a nursery application class in the dataset. This is the column `\"final evaluation\"`. We set $A=3$ and only consider classes  `not recommended - (1)`, `priority_acceptance - (4)` and `special priority - (5)`, because classes `recommend - (2)` and `very recommend - (3)` are very rare and we don't want to have arms with very low mean rewards. Each of the three arms corresponds to one class. So at each time $t$ only one arm has reward 1 - the one corresponding to the correct class for the given row of the Nursery dataset.\n",
    "\n",
    "\n",
    "Later, in section [**1.2 Introducing reward non-stationarity**](#1-2-introducing-reward-non-stationarity) we simulate a non-stationary reward generating process.\n",
    "\n",
    "Costs are also introduced later, in section [**1.3 Introducing feature costs**](#1-3-introducing-feature-costs).\n",
    "\n",
    "**Subsampling:** We use 10k points for evaluation. The remaining points were used to find the optimal hyperparameter values (not in this document). This notebook uses the tuned parameter values."
   ]
  },
  {
   "cell_type": "code",
   "execution_count": 4,
   "id": "ff920ae2",
   "metadata": {},
   "outputs": [],
   "source": [
    "# This file was downloaded from here https://www.kaggle.com/datasets/heitornunes/nursery\n",
    "# We provide it together with the repository.\n",
    "csv_file = 'experiments/nursery/nursery.csv'"
   ]
  },
  {
   "cell_type": "code",
   "execution_count": 5,
   "id": "07bea9af",
   "metadata": {},
   "outputs": [],
   "source": [
    "# Data only contains categorical features. \n",
    "df_num = pd.read_csv(csv_file, dtype='category')"
   ]
  },
  {
   "cell_type": "code",
   "execution_count": 6,
   "id": "da51b28d",
   "metadata": {},
   "outputs": [],
   "source": [
    "# Order categories correctly, because order has meaning.\n",
    "df_num.parents = df_num.parents.cat.reorder_categories(['usual', 'pretentious', 'great_pret'])\n",
    "df_num.has_nurs = df_num.has_nurs.cat.reorder_categories(\n",
    "    ['proper', 'less_proper',  'improper', 'critical', 'very_crit']\n",
    ")\n",
    "df_num.form = df_num.form.cat.reorder_categories(['complete', 'completed', 'incomplete', 'foster'])\n",
    "df_num.children = df_num.children.cat.reorder_categories(['1', '2', '3', 'more'])\n",
    "df_num.housing = df_num.housing.cat.reorder_categories(['convenient', 'less_conv', 'critical'])\n",
    "df_num.finance = df_num.finance.cat.reorder_categories(['convenient', 'inconv'])\n",
    "df_num.social = df_num.social.cat.reorder_categories(['nonprob', 'slightly_prob', 'problematic'])\n",
    "df_num.health = df_num.health.cat.reorder_categories(['not_recom', 'recommended', 'priority'])\n",
    "df_num['final evaluation'] = df_num['final evaluation'].cat.reorder_categories(\n",
    "    ['not_recom', 'recommend',  'very_recom', 'priority', 'spec_prior',]\n",
    ")\n"
   ]
  },
  {
   "cell_type": "code",
   "execution_count": 7,
   "id": "4a3c9a69",
   "metadata": {},
   "outputs": [],
   "source": [
    "# Make features have natural number ranges.\n",
    "for colname in df_num:\n",
    "    df_num[colname] = df_num[colname].cat.codes + 1"
   ]
  },
  {
   "cell_type": "code",
   "execution_count": 8,
   "id": "c780010b",
   "metadata": {},
   "outputs": [],
   "source": [
    "# Features are dropped according to their usefulness for the offline regression model.\n",
    "# final evaluation is target variable\n",
    "all_contexts = df_num.drop(['parents', 'has_nurs', 'social', 'social', 'final evaluation'], axis=1)"
   ]
  },
  {
   "cell_type": "code",
   "execution_count": 9,
   "id": "adcb5045",
   "metadata": {},
   "outputs": [
    {
     "data": {
      "text/html": [
       "<div>\n",
       "<style scoped>\n",
       "    .dataframe tbody tr th:only-of-type {\n",
       "        vertical-align: middle;\n",
       "    }\n",
       "\n",
       "    .dataframe tbody tr th {\n",
       "        vertical-align: top;\n",
       "    }\n",
       "\n",
       "    .dataframe thead th {\n",
       "        text-align: right;\n",
       "    }\n",
       "</style>\n",
       "<table border=\"1\" class=\"dataframe\">\n",
       "  <thead>\n",
       "    <tr style=\"text-align: right;\">\n",
       "      <th></th>\n",
       "      <th>form</th>\n",
       "      <th>children</th>\n",
       "      <th>housing</th>\n",
       "      <th>finance</th>\n",
       "      <th>health</th>\n",
       "    </tr>\n",
       "  </thead>\n",
       "  <tbody>\n",
       "    <tr>\n",
       "      <th>0</th>\n",
       "      <td>1</td>\n",
       "      <td>1</td>\n",
       "      <td>1</td>\n",
       "      <td>1</td>\n",
       "      <td>2</td>\n",
       "    </tr>\n",
       "    <tr>\n",
       "      <th>1</th>\n",
       "      <td>1</td>\n",
       "      <td>1</td>\n",
       "      <td>1</td>\n",
       "      <td>1</td>\n",
       "      <td>3</td>\n",
       "    </tr>\n",
       "    <tr>\n",
       "      <th>2</th>\n",
       "      <td>1</td>\n",
       "      <td>1</td>\n",
       "      <td>1</td>\n",
       "      <td>1</td>\n",
       "      <td>1</td>\n",
       "    </tr>\n",
       "    <tr>\n",
       "      <th>3</th>\n",
       "      <td>1</td>\n",
       "      <td>1</td>\n",
       "      <td>1</td>\n",
       "      <td>1</td>\n",
       "      <td>2</td>\n",
       "    </tr>\n",
       "    <tr>\n",
       "      <th>4</th>\n",
       "      <td>1</td>\n",
       "      <td>1</td>\n",
       "      <td>1</td>\n",
       "      <td>1</td>\n",
       "      <td>3</td>\n",
       "    </tr>\n",
       "    <tr>\n",
       "      <th>...</th>\n",
       "      <td>...</td>\n",
       "      <td>...</td>\n",
       "      <td>...</td>\n",
       "      <td>...</td>\n",
       "      <td>...</td>\n",
       "    </tr>\n",
       "    <tr>\n",
       "      <th>12955</th>\n",
       "      <td>4</td>\n",
       "      <td>4</td>\n",
       "      <td>3</td>\n",
       "      <td>2</td>\n",
       "      <td>3</td>\n",
       "    </tr>\n",
       "    <tr>\n",
       "      <th>12956</th>\n",
       "      <td>4</td>\n",
       "      <td>4</td>\n",
       "      <td>3</td>\n",
       "      <td>2</td>\n",
       "      <td>1</td>\n",
       "    </tr>\n",
       "    <tr>\n",
       "      <th>12957</th>\n",
       "      <td>4</td>\n",
       "      <td>4</td>\n",
       "      <td>3</td>\n",
       "      <td>2</td>\n",
       "      <td>2</td>\n",
       "    </tr>\n",
       "    <tr>\n",
       "      <th>12958</th>\n",
       "      <td>4</td>\n",
       "      <td>4</td>\n",
       "      <td>3</td>\n",
       "      <td>2</td>\n",
       "      <td>3</td>\n",
       "    </tr>\n",
       "    <tr>\n",
       "      <th>12959</th>\n",
       "      <td>4</td>\n",
       "      <td>4</td>\n",
       "      <td>3</td>\n",
       "      <td>2</td>\n",
       "      <td>1</td>\n",
       "    </tr>\n",
       "  </tbody>\n",
       "</table>\n",
       "<p>12960 rows × 5 columns</p>\n",
       "</div>"
      ],
      "text/plain": [
       "       form  children  housing  finance  health\n",
       "0         1         1        1        1       2\n",
       "1         1         1        1        1       3\n",
       "2         1         1        1        1       1\n",
       "3         1         1        1        1       2\n",
       "4         1         1        1        1       3\n",
       "...     ...       ...      ...      ...     ...\n",
       "12955     4         4        3        2       3\n",
       "12956     4         4        3        2       1\n",
       "12957     4         4        3        2       2\n",
       "12958     4         4        3        2       3\n",
       "12959     4         4        3        2       1\n",
       "\n",
       "[12960 rows x 5 columns]"
      ]
     },
     "execution_count": 9,
     "metadata": {},
     "output_type": "execute_result"
    }
   ],
   "source": [
    "all_contexts"
   ]
  },
  {
   "cell_type": "code",
   "execution_count": 10,
   "id": "ababbe60",
   "metadata": {},
   "outputs": [],
   "source": [
    "y = df_num['final evaluation']"
   ]
  },
  {
   "cell_type": "code",
   "execution_count": 11,
   "id": "2afd40f4",
   "metadata": {},
   "outputs": [],
   "source": [
    "# Drop arms with small rewards\n",
    "\n",
    "# Values meaning:\n",
    "# not recommended (1)\n",
    "# recommend (2)\n",
    "# very recommend (3)\n",
    "# priority acceptance (4)\n",
    "# special priority (5)\n",
    "\n",
    "all_contexts = all_contexts[(y != 3) & (y != 2)]\n",
    "\n",
    "y = y[(y != 3) & (y != 2)]"
   ]
  },
  {
   "cell_type": "code",
   "execution_count": 12,
   "id": "a7632b7e",
   "metadata": {},
   "outputs": [],
   "source": [
    "# Create arms for bandit evaluation from y values.\n",
    "unique = np.unique(y)\n",
    "all_rewards = np.zeros((y.shape[0], len(unique)))\n",
    "for n_arm, y_value in enumerate(unique):\n",
    "    all_rewards[:, n_arm] = np.where(y == y_value, 1, 0)\n",
    "    "
   ]
  },
  {
   "cell_type": "code",
   "execution_count": 13,
   "id": "f3863d79",
   "metadata": {},
   "outputs": [],
   "source": [
    "# Split dataset into tuning and evaluation parts\n",
    "TUNING_SIZE = 2630\n",
    "\n",
    "tuning_idx = np.random.choice(a=all_contexts.shape[0], replace=False, size=TUNING_SIZE)\n",
    "tuning_idx.sort()\n",
    "tng_idx_set = set(tuning_idx)\n",
    "\n",
    "evaluation_idx = np.array([i for i in range(all_contexts.shape[0]) if i not in tng_idx_set])\n",
    "\n",
    "contexts_tuning = all_contexts.iloc[tuning_idx, :]\n",
    "contexts_evaluation = all_contexts.iloc[evaluation_idx, :]\n",
    "\n",
    "rewards_tuning = all_rewards[tuning_idx, :]\n",
    "rewards_evaluation = all_rewards[evaluation_idx, :]\n",
    "\n",
    "# Only use evaluation data\n",
    "all_contexts = contexts_evaluation\n",
    "all_rewards = rewards_evaluation"
   ]
  },
  {
   "cell_type": "code",
   "execution_count": 14,
   "id": "7bd753bb",
   "metadata": {},
   "outputs": [
    {
     "data": {
      "text/html": [
       "<div>\n",
       "<style scoped>\n",
       "    .dataframe tbody tr th:only-of-type {\n",
       "        vertical-align: middle;\n",
       "    }\n",
       "\n",
       "    .dataframe tbody tr th {\n",
       "        vertical-align: top;\n",
       "    }\n",
       "\n",
       "    .dataframe thead th {\n",
       "        text-align: right;\n",
       "    }\n",
       "</style>\n",
       "<table border=\"1\" class=\"dataframe\">\n",
       "  <thead>\n",
       "    <tr style=\"text-align: right;\">\n",
       "      <th></th>\n",
       "      <th>form</th>\n",
       "      <th>children</th>\n",
       "      <th>housing</th>\n",
       "      <th>finance</th>\n",
       "      <th>health</th>\n",
       "    </tr>\n",
       "  </thead>\n",
       "  <tbody>\n",
       "    <tr>\n",
       "      <th>2</th>\n",
       "      <td>1</td>\n",
       "      <td>1</td>\n",
       "      <td>1</td>\n",
       "      <td>1</td>\n",
       "      <td>1</td>\n",
       "    </tr>\n",
       "    <tr>\n",
       "      <th>4</th>\n",
       "      <td>1</td>\n",
       "      <td>1</td>\n",
       "      <td>1</td>\n",
       "      <td>1</td>\n",
       "      <td>3</td>\n",
       "    </tr>\n",
       "    <tr>\n",
       "      <th>6</th>\n",
       "      <td>1</td>\n",
       "      <td>1</td>\n",
       "      <td>1</td>\n",
       "      <td>1</td>\n",
       "      <td>2</td>\n",
       "    </tr>\n",
       "    <tr>\n",
       "      <th>7</th>\n",
       "      <td>1</td>\n",
       "      <td>1</td>\n",
       "      <td>1</td>\n",
       "      <td>1</td>\n",
       "      <td>3</td>\n",
       "    </tr>\n",
       "    <tr>\n",
       "      <th>8</th>\n",
       "      <td>1</td>\n",
       "      <td>1</td>\n",
       "      <td>1</td>\n",
       "      <td>1</td>\n",
       "      <td>1</td>\n",
       "    </tr>\n",
       "    <tr>\n",
       "      <th>...</th>\n",
       "      <td>...</td>\n",
       "      <td>...</td>\n",
       "      <td>...</td>\n",
       "      <td>...</td>\n",
       "      <td>...</td>\n",
       "    </tr>\n",
       "    <tr>\n",
       "      <th>12952</th>\n",
       "      <td>4</td>\n",
       "      <td>4</td>\n",
       "      <td>3</td>\n",
       "      <td>2</td>\n",
       "      <td>3</td>\n",
       "    </tr>\n",
       "    <tr>\n",
       "      <th>12953</th>\n",
       "      <td>4</td>\n",
       "      <td>4</td>\n",
       "      <td>3</td>\n",
       "      <td>2</td>\n",
       "      <td>1</td>\n",
       "    </tr>\n",
       "    <tr>\n",
       "      <th>12955</th>\n",
       "      <td>4</td>\n",
       "      <td>4</td>\n",
       "      <td>3</td>\n",
       "      <td>2</td>\n",
       "      <td>3</td>\n",
       "    </tr>\n",
       "    <tr>\n",
       "      <th>12956</th>\n",
       "      <td>4</td>\n",
       "      <td>4</td>\n",
       "      <td>3</td>\n",
       "      <td>2</td>\n",
       "      <td>1</td>\n",
       "    </tr>\n",
       "    <tr>\n",
       "      <th>12957</th>\n",
       "      <td>4</td>\n",
       "      <td>4</td>\n",
       "      <td>3</td>\n",
       "      <td>2</td>\n",
       "      <td>2</td>\n",
       "    </tr>\n",
       "  </tbody>\n",
       "</table>\n",
       "<p>10000 rows × 5 columns</p>\n",
       "</div>"
      ],
      "text/plain": [
       "       form  children  housing  finance  health\n",
       "2         1         1        1        1       1\n",
       "4         1         1        1        1       3\n",
       "6         1         1        1        1       2\n",
       "7         1         1        1        1       3\n",
       "8         1         1        1        1       1\n",
       "...     ...       ...      ...      ...     ...\n",
       "12952     4         4        3        2       3\n",
       "12953     4         4        3        2       1\n",
       "12955     4         4        3        2       3\n",
       "12956     4         4        3        2       1\n",
       "12957     4         4        3        2       2\n",
       "\n",
       "[10000 rows x 5 columns]"
      ]
     },
     "execution_count": 14,
     "metadata": {},
     "output_type": "execute_result"
    }
   ],
   "source": [
    "all_contexts"
   ]
  },
  {
   "cell_type": "markdown",
   "id": "64df23a0",
   "metadata": {},
   "source": [
    "## 1.2 Introducing reward non-stationarity <a class=\"anchor\" id=\"1-2-introducing-reward-non-stationarity\"></a>\n",
    "\n",
    "We simulate a non-stationary reward generating process by cyclically shifting class labels at designated change points.\n",
    "\n",
    "At times $t = [1000, 2000, 5000, 8000]$ the class labels are shifted cyclically by some amount. This leads to a change in the underlying dependency between contexts and rewards. In the nursery application scenario this corresponds to a change in preferences of the authority over nursery applications (e.g. start to prefer kids from larger, rather then smaller families).\n"
   ]
  },
  {
   "cell_type": "code",
   "execution_count": 15,
   "id": "0aaea10e",
   "metadata": {},
   "outputs": [],
   "source": [
    "stationarity_regions = [\n",
    "    slice(0, 1000),\n",
    "    slice(1000, 2000),\n",
    "    slice(2000, 5000),\n",
    "    slice(5000, 8000),\n",
    "    slice(8000, all_contexts.shape[0]),\n",
    "]"
   ]
  },
  {
   "cell_type": "code",
   "execution_count": 16,
   "id": "99234270",
   "metadata": {},
   "outputs": [],
   "source": [
    "change_point_values = [x.start for x in stationarity_regions] + [stationarity_regions[-1].stop]\n",
    "change_point_values[0] += 1"
   ]
  },
  {
   "cell_type": "code",
   "execution_count": 17,
   "id": "07baf156",
   "metadata": {},
   "outputs": [
    {
     "data": {
      "text/plain": [
       "[1, 1000, 2000, 5000, 8000, 10000]"
      ]
     },
     "execution_count": 17,
     "metadata": {},
     "output_type": "execute_result"
    }
   ],
   "source": [
    "change_point_values"
   ]
  },
  {
   "cell_type": "code",
   "execution_count": 18,
   "id": "2ad6b353",
   "metadata": {},
   "outputs": [],
   "source": [
    "nonstationary_rewards = np.copy(all_rewards)\n",
    "nonstationary_contexts = np.copy(all_contexts)\n",
    "\n",
    "mean_rewards = np.zeros(nonstationary_rewards.shape)\n",
    "\n",
    "n_arms = all_rewards.shape[1]\n",
    "\n",
    "for i, region in enumerate(stationarity_regions):\n",
    "    for arm_from in range(n_arms):\n",
    "        \n",
    "        additional_shift = 0\n",
    "        if i == 1 or i == 3:\n",
    "            additional_shift = 1\n",
    "        elif i == 2:\n",
    "            additional_shift = 2\n",
    "        \n",
    "        # Cyclic shift of class labels\n",
    "        arm_to = (arm_from + i + additional_shift) % n_arms\n",
    "        if i > 0:\n",
    "            nonstationary_rewards[region, arm_to] = all_rewards[region, arm_from]\n",
    "        \n",
    "        # For plotting\n",
    "        mean_rewards[region, arm_to] = (\n",
    "            np.ones(nonstationary_rewards[region, arm_to].shape) * np.mean(nonstationary_rewards[region, arm_to])\n",
    "        )"
   ]
  },
  {
   "cell_type": "code",
   "execution_count": 19,
   "id": "1fcad487",
   "metadata": {},
   "outputs": [
    {
     "data": {
      "text/plain": [
       "((10000, 5), (10000, 3))"
      ]
     },
     "execution_count": 19,
     "metadata": {},
     "output_type": "execute_result"
    }
   ],
   "source": [
    "nonstationary_contexts.shape, nonstationary_rewards.shape"
   ]
  },
  {
   "cell_type": "markdown",
   "id": "6f65866d",
   "metadata": {},
   "source": [
    "# Plot expected reward before row exchanges\n",
    "\n",
    "Here we plot sample mean of rewards of each arm (averaged over all contexts inside one stationary period)."
   ]
  },
  {
   "cell_type": "code",
   "execution_count": 20,
   "id": "ba5cf647",
   "metadata": {},
   "outputs": [
    {
     "data": {
      "image/png": "[encoded data removed]",
      "text/plain": [
       "<Figure size 1100x500 with 1 Axes>"
      ]
     },
     "metadata": {},
     "output_type": "display_data"
    }
   ],
   "source": [
    "fig, ax = plt.subplots(1,1, figsize=(11,5))\n",
    "for arm in range(n_arms):\n",
    "    expected_gain = mean_rewards[:, arm] \n",
    "    ax.plot(expected_gain, label=f\"Arm {arm}\", linestyle=':', linewidth=5)\n",
    "    \n",
    "extraticks = change_point_values\n",
    "plt.xticks(extraticks, rotation=35, fontsize=16)\n",
    "\n",
    "plt.yticks(fontsize=16)\n",
    "\n",
    "ax.set_xlabel('Time step', fontsize=20)\n",
    "ax.set_ylabel(f\"Mean reward\", fontsize=20)\n",
    "\n",
    "lgd = ax.legend(loc=9, ncol=5, bbox_to_anchor=(0.5, 1.132), prop={'size': 15})\n",
    "\n",
    "plt.show()"
   ]
  },
  {
   "cell_type": "markdown",
   "id": "09f961fe",
   "metadata": {},
   "source": [
    "## Exchange rows\n",
    "Here we exchange rows between stationarity regions. We do this so that mean (averaged over all contexts) rewards of each arm have the following pattern: after each change point arm with best mean reward changes and the mean reward of the previous best drops significantly. The best arms change cyclically one by one.\n",
    "\n",
    "#### How this works:\n",
    "We take 2 arms: `arm_1` and `arm_2` and try to rebalance them between 2 stationarity regions `region_1` and `region_2`. We take a `percentage` of rows inside `region_1` where `arm_1` has reward 1 and exchange them with the same number of rows from `region_2` where `arm_2` has reward 1. \\\n",
    "In the nursery application ranking scenario this corresponds to applicants arriving in a different order."
   ]
  },
  {
   "cell_type": "code",
   "execution_count": 21,
   "id": "7e7b9d32",
   "metadata": {},
   "outputs": [],
   "source": [
    "arm_rebalancing_config = [\n",
    "    {\"arm_1\": 1, \"arm_2\": 2, \"region_1\":2, \"region_2\":3, \"percentage\": 0.7},\n",
    "    {\"arm_1\": 0, \"arm_2\": 1, \"region_1\":3, \"region_2\":4, \"percentage\": 0.6},\n",
    "    {\"arm_1\": 2, \"arm_2\": 1, \"region_1\":1, \"region_2\":4, \"percentage\": 0.7},\n",
    "    {\"arm_1\": 0, \"arm_2\": 1, \"region_1\":3, \"region_2\":1, \"percentage\": 0.7},\n",
    "    {\"arm_1\": 0, \"arm_2\": 2, \"region_1\":2, \"region_2\":3, \"percentage\": 0.7},\n",
    "    {\"arm_1\": 0, \"arm_2\": 1, \"region_1\":2, \"region_2\":4, \"percentage\": 0.8},\n",
    "]"
   ]
  },
  {
   "cell_type": "code",
   "execution_count": 22,
   "id": "a5e7dc76",
   "metadata": {},
   "outputs": [],
   "source": [
    "np.random.seed(42)\n",
    "\n",
    "new_contexts, new_rewards = nonstationary_contexts, nonstationary_rewards\n",
    "\n",
    "for arm_rebalance_params in arm_rebalancing_config:\n",
    "    new_contexts, new_rewards = preprocessing.rebalance_arms_between_regions(\n",
    "        contexts=new_contexts,\n",
    "        rewards=new_rewards,\n",
    "        stationarity_regions=stationarity_regions,\n",
    "        arm_1=arm_rebalance_params[\"arm_1\"], \n",
    "        arm_2=arm_rebalance_params[\"arm_2\"], \n",
    "        region_1=arm_rebalance_params[\"region_1\"], \n",
    "        region_2=arm_rebalance_params[\"region_2\"], \n",
    "        percentage=arm_rebalance_params[\"percentage\"], \n",
    "    )"
   ]
  },
  {
   "cell_type": "markdown",
   "id": "f697974f",
   "metadata": {},
   "source": [
    "## Plot expected reward after row exchanges"
   ]
  },
  {
   "cell_type": "code",
   "execution_count": 23,
   "id": "b833179c",
   "metadata": {},
   "outputs": [],
   "source": [
    "# compute mean rewards\n",
    "mean_rewards = np.zeros(new_rewards.shape)\n",
    "for i, region in enumerate(stationarity_regions):\n",
    "    for arm_from in range(n_arms):\n",
    "        # For plotting\n",
    "        mean_rewards[region, arm_from] = (\n",
    "            np.ones(new_rewards[region, arm_from].shape) * np.mean(new_rewards[region, arm_from])\n",
    "        )"
   ]
  },
  {
   "cell_type": "code",
   "execution_count": 24,
   "id": "6f590277",
   "metadata": {},
   "outputs": [
    {
     "data": {
      "image/png": "[encoded data removed]",
      "text/plain": [
       "<Figure size 1100x500 with 1 Axes>"
      ]
     },
     "metadata": {},
     "output_type": "display_data"
    }
   ],
   "source": [
    "fig, ax = plt.subplots(1,1, figsize=(11,5))\n",
    "for arm in range(n_arms):\n",
    "    expected_gain = mean_rewards[:, arm] \n",
    "    ax.plot(expected_gain, label=f\"Arm {arm}\", linestyle=':', linewidth=5)\n",
    "#     print(f\"Min expected reward for arm {arm}: {min(expected_gain)}\")\n",
    "    \n",
    "extraticks = change_point_values\n",
    "plt.xticks(extraticks, rotation=35, fontsize=16)\n",
    "plt.yticks(fontsize=16)\n",
    "\n",
    "ax.set_xlabel('Time step', fontsize=20)\n",
    "ax.set_ylabel(\"Mean reward\", fontsize=20)\n",
    "\n",
    "lgd = ax.legend(loc=9, ncol=5, bbox_to_anchor=(0.5, 1.132), prop={'size': 15})\n",
    "plt.show()"
   ]
  },
  {
   "cell_type": "markdown",
   "id": "add10d45",
   "metadata": {},
   "source": [
    "## Validate the row exchange\n",
    "\n",
    "Validate that no rows disappeared and now new rows appeared."
   ]
  },
  {
   "cell_type": "code",
   "execution_count": 25,
   "id": "2d6e4c62",
   "metadata": {},
   "outputs": [],
   "source": [
    "assert (np.sort(nonstationary_contexts, axis=0) == np.sort(new_contexts, axis=0)).all()"
   ]
  },
  {
   "cell_type": "code",
   "execution_count": 26,
   "id": "d40092f6",
   "metadata": {},
   "outputs": [],
   "source": [
    "assert (np.sort(nonstationary_rewards, axis=0) == np.sort(new_rewards, axis=0)).all()"
   ]
  },
  {
   "cell_type": "markdown",
   "id": "26d99c0d",
   "metadata": {},
   "source": [
    "## 1.3 Introducing feature costs <a class=\"anchor\" id=\"1-3-introducing-feature-costs\"></a>\n",
    "\n",
    "Here we create a vector of instantaneous costs of each feature for the full time horizon.\n",
    "\n",
    "Costs of features are generated by a non-stationary process. Cost of each feature at time $t$ is sampled from a Gaussian distribution with $std=0.001$ and a piece-wise constant mean. At each of the change points $t=[1, 3000, 5000, 7000, 9000]$ a new mean is sampled from a uniform distribution over the interval $[0.03, 0.08]$. Below is a figure that depicts instanteneous costs of each feature for the full time horizon."
   ]
  },
  {
   "cell_type": "code",
   "execution_count": 27,
   "id": "085901b7",
   "metadata": {},
   "outputs": [],
   "source": [
    "np.random.seed(42)"
   ]
  },
  {
   "cell_type": "code",
   "execution_count": 28,
   "id": "a96b928e",
   "metadata": {},
   "outputs": [],
   "source": [
    "cost_change_points = [3000, 5000, 7000, 9000]\n",
    "interval_count = len(cost_change_points) + 1"
   ]
  },
  {
   "cell_type": "code",
   "execution_count": 29,
   "id": "6d042946",
   "metadata": {},
   "outputs": [],
   "source": [
    "cost_means_range = [0.03, 0.08]\n",
    "COSTS_RANGE_SIZE = cost_means_range[1] - cost_means_range[0]"
   ]
  },
  {
   "cell_type": "code",
   "execution_count": 30,
   "id": "7b4ce894",
   "metadata": {},
   "outputs": [],
   "source": [
    "# Mean of gaussian distribution random in interval cost_means_range\n",
    "interval_means = [\n",
    "    np.random.uniform(\n",
    "        cost_means_range[0], cost_means_range[1], size=(new_contexts.shape[1],)\n",
    "    ) for i in range(interval_count)\n",
    "]"
   ]
  },
  {
   "cell_type": "code",
   "execution_count": 31,
   "id": "d801df91",
   "metadata": {},
   "outputs": [
    {
     "data": {
      "text/plain": [
       "[array([0.04872701, 0.07753572, 0.0665997 , 0.05993292, 0.03780093]),\n",
       " array([0.03779973, 0.03290418, 0.07330881, 0.06005575, 0.06540363]),\n",
       " array([0.03102922, 0.07849549, 0.07162213, 0.04061696, 0.03909125]),\n",
       " array([0.03917023, 0.04521211, 0.05623782, 0.05159725, 0.04456146]),\n",
       " array([0.06059264, 0.03697469, 0.04460723, 0.04831809, 0.0528035 ])]"
      ]
     },
     "execution_count": 31,
     "metadata": {},
     "output_type": "execute_result"
    }
   ],
   "source": [
    "interval_means"
   ]
  },
  {
   "cell_type": "code",
   "execution_count": 32,
   "id": "59ba2ffd",
   "metadata": {},
   "outputs": [],
   "source": [
    "# Fixed std\n",
    "interval_stds = [[0.001]*new_contexts.shape[1]]*interval_count"
   ]
  },
  {
   "cell_type": "code",
   "execution_count": 33,
   "id": "28de8f86",
   "metadata": {},
   "outputs": [],
   "source": [
    "def get_costs():\n",
    "    return costs.NonstationaryGaussianCosts(\n",
    "        feature_vector_size=new_contexts.shape[1],\n",
    "        change_points=cost_change_points,\n",
    "        interval_means=interval_means,\n",
    "        interval_stds=interval_stds,\n",
    "        random_seed=42,\n",
    "    )\n",
    "    "
   ]
  },
  {
   "cell_type": "markdown",
   "id": "97c45128",
   "metadata": {},
   "source": [
    "### Figure of costs of each feature"
   ]
  },
  {
   "cell_type": "code",
   "execution_count": 34,
   "id": "3ac89d71",
   "metadata": {},
   "outputs": [
    {
     "data": {
      "image/png": "[encoded data removed]",
      "text/plain": [
       "<Figure size 1500x800 with 1 Axes>"
      ]
     },
     "execution_count": 34,
     "metadata": {},
     "output_type": "execute_result"
    }
   ],
   "source": [
    "plotting.costs.plot_costs(get_costs(), new_contexts.shape[0])"
   ]
  },
  {
   "cell_type": "code",
   "execution_count": 35,
   "id": "65bd80bc",
   "metadata": {},
   "outputs": [],
   "source": [
    "costs_obj = get_costs()"
   ]
  },
  {
   "cell_type": "code",
   "execution_count": 36,
   "id": "40ccb3da",
   "metadata": {},
   "outputs": [],
   "source": [
    "costs_vector = []\n",
    "for t in range(new_contexts.shape[0]):\n",
    "    costs_at_t = np.array(costs_obj.get_separate_costs(trial=t))\n",
    "    costs_vector.append(costs_at_t)\n",
    "\n",
    "costs_vector = np.stack(costs_vector)"
   ]
  },
  {
   "cell_type": "code",
   "execution_count": 37,
   "id": "ca8fc603",
   "metadata": {},
   "outputs": [
    {
     "data": {
      "text/plain": [
       "(10000, 5)"
      ]
     },
     "execution_count": 37,
     "metadata": {},
     "output_type": "execute_result"
    }
   ],
   "source": [
    "costs_vector.shape"
   ]
  },
  {
   "cell_type": "markdown",
   "id": "e439348f",
   "metadata": {},
   "source": [
    "Compute variables needed for the Oracle policy."
   ]
  },
  {
   "cell_type": "code",
   "execution_count": 38,
   "id": "e678025f",
   "metadata": {},
   "outputs": [],
   "source": [
    "all_change_point_values = sorted(list(set(cost_change_points).union(set(change_point_values)) ))\n",
    "all_stationarity_regions = [(l, r) for l,r in zip(all_change_point_values, all_change_point_values[1:])]\n",
    "N_STATIONARY_PERIODS = len(all_stationarity_regions)\n",
    "\n",
    "cost_means = np.zeros((N_STATIONARY_PERIODS, costs_vector.shape[1]))\n",
    "for reg_num, region in enumerate(all_stationarity_regions):\n",
    "    region_costs = costs_vector[slice(*region)]\n",
    "    cost_means[reg_num, :] = region_costs.mean(axis=0)"
   ]
  },
  {
   "cell_type": "markdown",
   "id": "1cc87272",
   "metadata": {},
   "source": [
    "# 2 Evaluating bandit algorithms <a class=\"anchor\" id=\"2-evaluating-bandit-algorithms\"></a>"
   ]
  },
  {
   "cell_type": "markdown",
   "id": "3d984073",
   "metadata": {},
   "source": [
    "Set the parameters for the experiments."
   ]
  },
  {
   "cell_type": "code",
   "execution_count": 39,
   "id": "2fbfaf26",
   "metadata": {},
   "outputs": [],
   "source": [
    "NUM_OF_TRIALS = all_contexts.shape[0] \n",
    "NUM_REPETITIONS = 5"
   ]
  },
  {
   "cell_type": "markdown",
   "id": "e190a5ee",
   "metadata": {},
   "source": [
    "Configure algorithms for which we run the evaluation. Here we also set the hyperparameters."
   ]
  },
  {
   "cell_type": "code",
   "execution_count": 40,
   "id": "f9f6be29",
   "metadata": {},
   "outputs": [],
   "source": [
    "# Objects in this dict are callables. They generate a new policy object each time they are called.\n",
    "policy_generators = {\n",
    "    'Random': lambda: algorithms.RandomPolicy(),\n",
    "    \n",
    "    r'$\\epsilon$-greedy': lambda: algorithms.EpsilonGreedy(epsilon=0.03, n_arms=new_rewards.shape[1]),\n",
    "    \n",
    "    'UCB1': lambda: algorithms.UCB1(\n",
    "        n_trials=NUM_OF_TRIALS,\n",
    "        n_arms=new_rewards.shape[1],\n",
    "        alpha=0.6,\n",
    "    ),\n",
    "    'SW-UCB': lambda: algorithms.SW_UCB(\n",
    "        n_trials=NUM_OF_TRIALS,\n",
    "        n_arms=new_rewards.shape[1],\n",
    "        alpha=0.1,\n",
    "        tau=100,\n",
    "    ),\n",
    "    \n",
    "\n",
    "    'LinUCB': lambda: algorithms.LinUCB(\n",
    "        n_trials=NUM_OF_TRIALS,\n",
    "        context_dimension=new_contexts.shape[1],\n",
    "        n_arms=new_rewards.shape[1],\n",
    "        alpha=0.5,\n",
    "    ),\n",
    "    \n",
    "    'PS-LinUCB': lambda: algorithms.PSLinUCB(\n",
    "        n_trials=NUM_OF_TRIALS,\n",
    "        context_dimension=new_contexts.shape[1],\n",
    "        n_arms=new_rewards.shape[1],\n",
    "        alpha=0.7,\n",
    "        omega=100,\n",
    "        delta=0.05,\n",
    "    ),\n",
    "    \n",
    "    'Sim-OOS': lambda:  algorithms.SimOOSAlgorithm(\n",
    "        all_contexts=new_contexts, \n",
    "        number_of_actions=new_rewards.shape[1],\n",
    "        max_num_observations=new_contexts.shape[1],\n",
    "        delta=0.8,\n",
    "    ),\n",
    "    \n",
    "    'NCC-UCRL2': lambda: algorithms.Algorithm1(\n",
    "        all_contexts=new_contexts, \n",
    "        number_of_actions=new_rewards.shape[1],\n",
    "        max_num_observations=new_contexts.shape[1],\n",
    "        delta=0.04,\n",
    "        window_length=250,\n",
    "        costs_range=COSTS_RANGE_SIZE,\n",
    "    ),\n",
    "    \n",
    "    'Oracle': lambda: algorithms.Algorithm1_Oracle(\n",
    "        all_contexts=new_contexts, \n",
    "        all_rewards=new_rewards,\n",
    "        cost_means=cost_means,\n",
    "        stationarity_periods=all_stationarity_regions,\n",
    "        number_of_actions=new_rewards.shape[1],\n",
    "        max_num_observations=new_contexts.shape[1],\n",
    "    ),\n",
    "    \n",
    "    \n",
    "}"
   ]
  },
  {
   "cell_type": "markdown",
   "id": "94a08b9c",
   "metadata": {},
   "source": [
    "Run each algorithm `NUM_REPETITIONS` times, gather valuable metrics, average them."
   ]
  },
  {
   "cell_type": "code",
   "execution_count": 41,
   "id": "a75bd83d",
   "metadata": {
    "scrolled": false
   },
   "outputs": [
    {
     "name": "stdout",
     "output_type": "stream",
     "text": [
      "\tStarting Random evaluation\n",
      "Random policy\n",
      "Beta = 1.0\n",
      "Total gain: 3364.0\n",
      "\tTotal reward: 3364.0\n",
      "\tTotal cost: 0\n",
      "Execution time: 0.1s\n",
      "Random policy\n",
      "Beta = 1.0\n",
      "Total gain: 3333.0\n",
      "\tTotal reward: 3333.0\n",
      "\tTotal cost: 0\n",
      "Execution time: 0.0s\n",
      "Random policy\n",
      "Beta = 1.0\n",
      "Total gain: 3284.0\n",
      "\tTotal reward: 3284.0\n",
      "\tTotal cost: 0\n",
      "Execution time: 0.0s\n",
      "Random policy\n",
      "Beta = 1.0\n",
      "Total gain: 3301.0\n",
      "\tTotal reward: 3301.0\n",
      "\tTotal cost: 0\n",
      "Execution time: 0.0s\n",
      "Random policy\n",
      "Beta = 1.0\n",
      "Total gain: 3405.0\n",
      "\tTotal reward: 3405.0\n",
      "\tTotal cost: 0\n",
      "Execution time: 0.0s\n",
      "\tRandom, Average gain: 3337.40\n",
      "____________________________________________________________________________________________________\n",
      "\n",
      "\tStarting $\\epsilon$-greedy evaluation\n",
      "E-greedy(epsilon=0.03)\n",
      "Beta = 1.0\n",
      "Total gain: 3796.0\n",
      "\tTotal reward: 3796.0\n",
      "\tTotal cost: 0\n",
      "Execution time: 0.1s\n",
      "E-greedy(epsilon=0.03)\n",
      "Beta = 1.0\n",
      "Total gain: 3816.0\n",
      "\tTotal reward: 3816.0\n",
      "\tTotal cost: 0\n",
      "Execution time: 0.1s\n",
      "E-greedy(epsilon=0.03)\n",
      "Beta = 1.0\n",
      "Total gain: 4161.0\n",
      "\tTotal reward: 4161.0\n",
      "\tTotal cost: 0\n",
      "Execution time: 0.1s\n",
      "E-greedy(epsilon=0.03)\n",
      "Beta = 1.0\n",
      "Total gain: 3720.0\n",
      "\tTotal reward: 3720.0\n",
      "\tTotal cost: 0\n",
      "Execution time: 0.1s\n",
      "E-greedy(epsilon=0.03)\n",
      "Beta = 1.0\n",
      "Total gain: 3427.0\n",
      "\tTotal reward: 3427.0\n",
      "\tTotal cost: 0\n",
      "Execution time: 0.1s\n",
      "\t$\\epsilon$-greedy, Average gain: 3784.00\n",
      "____________________________________________________________________________________________________\n",
      "\n",
      "\tStarting UCB1 evaluation\n",
      "UCB1 (α=0.6)\n",
      "Beta = 1.0\n",
      "Total gain: 5809.0\n",
      "\tTotal reward: 5809.0\n",
      "\tTotal cost: 0\n",
      "Execution time: 0.1s\n",
      "UCB1 (α=0.6)\n",
      "Beta = 1.0\n",
      "Total gain: 5809.0\n",
      "\tTotal reward: 5809.0\n",
      "\tTotal cost: 0\n",
      "Execution time: 0.1s\n",
      "UCB1 (α=0.6)\n",
      "Beta = 1.0\n",
      "Total gain: 5809.0\n",
      "\tTotal reward: 5809.0\n",
      "\tTotal cost: 0\n",
      "Execution time: 0.1s\n",
      "UCB1 (α=0.6)\n",
      "Beta = 1.0\n",
      "Total gain: 5809.0\n",
      "\tTotal reward: 5809.0\n",
      "\tTotal cost: 0\n",
      "Execution time: 0.1s\n",
      "UCB1 (α=0.6)\n",
      "Beta = 1.0\n",
      "Total gain: 5809.0\n",
      "\tTotal reward: 5809.0\n",
      "\tTotal cost: 0\n",
      "Execution time: 0.1s\n",
      "\tUCB1, Average gain: 5809.00\n",
      "____________________________________________________________________________________________________\n",
      "\n",
      "\tStarting SW-UCB evaluation\n",
      "SW-UCB (α=0.1, τ=100)\n",
      "Beta = 1.0\n",
      "Total gain: 6794.0\n",
      "\tTotal reward: 6794.0\n",
      "\tTotal cost: 0\n",
      "Execution time: 0.3s\n",
      "SW-UCB (α=0.1, τ=100)\n",
      "Beta = 1.0\n",
      "Total gain: 6794.0\n",
      "\tTotal reward: 6794.0\n",
      "\tTotal cost: 0\n",
      "Execution time: 0.3s\n",
      "SW-UCB (α=0.1, τ=100)\n",
      "Beta = 1.0\n",
      "Total gain: 6794.0\n",
      "\tTotal reward: 6794.0\n",
      "\tTotal cost: 0\n",
      "Execution time: 0.3s\n",
      "SW-UCB (α=0.1, τ=100)\n",
      "Beta = 1.0\n",
      "Total gain: 6794.0\n",
      "\tTotal reward: 6794.0\n",
      "\tTotal cost: 0\n",
      "Execution time: 0.3s\n",
      "SW-UCB (α=0.1, τ=100)\n",
      "Beta = 1.0\n",
      "Total gain: 6794.0\n",
      "\tTotal reward: 6794.0\n",
      "\tTotal cost: 0\n",
      "Execution time: 0.3s\n",
      "\tSW-UCB, Average gain: 6794.00\n",
      "____________________________________________________________________________________________________\n",
      "\n",
      "\tStarting LinUCB evaluation\n",
      "LinUCB (alpha=0.5)\n",
      "Beta = 1.0\n",
      "Total gain: 4354.682208247001\n",
      "\tTotal reward: 7004.0\n",
      "\tTotal cost: 2649.317791753\n",
      "Execution time: 0.5s\n",
      "LinUCB (alpha=0.5)\n",
      "Beta = 1.0\n",
      "Total gain: 4354.682208247001\n",
      "\tTotal reward: 7004.0\n",
      "\tTotal cost: 2649.317791753\n",
      "Execution time: 0.4s\n",
      "LinUCB (alpha=0.5)\n",
      "Beta = 1.0\n",
      "Total gain: 4354.682208247001\n",
      "\tTotal reward: 7004.0\n",
      "\tTotal cost: 2649.317791753\n",
      "Execution time: 0.4s\n",
      "LinUCB (alpha=0.5)\n",
      "Beta = 1.0\n",
      "Total gain: 4354.682208247001\n",
      "\tTotal reward: 7004.0\n",
      "\tTotal cost: 2649.317791753\n",
      "Execution time: 0.4s\n",
      "LinUCB (alpha=0.5)\n",
      "Beta = 1.0\n",
      "Total gain: 4354.682208247001\n",
      "\tTotal reward: 7004.0\n",
      "\tTotal cost: 2649.317791753\n",
      "Execution time: 0.5s\n",
      "\tLinUCB, Average gain: 4354.68\n",
      "____________________________________________________________________________________________________\n",
      "\n",
      "\tStarting PS-LinUCB evaluation\n",
      "PSLinUCB (alpha=0.7, omega=100, delta=0.05)\n",
      "Beta = 1.0\n",
      "Total gain: 5742.682208246992\n",
      "\tTotal reward: 8392.0\n",
      "\tTotal cost: 2649.317791753\n",
      "Execution time: 0.6s\n",
      "PSLinUCB (alpha=0.7, omega=100, delta=0.05)\n",
      "Beta = 1.0\n",
      "Total gain: 5742.682208246992\n",
      "\tTotal reward: 8392.0\n",
      "\tTotal cost: 2649.317791753\n",
      "Execution time: 0.6s\n",
      "PSLinUCB (alpha=0.7, omega=100, delta=0.05)\n",
      "Beta = 1.0\n",
      "Total gain: 5742.682208246992\n",
      "\tTotal reward: 8392.0\n",
      "\tTotal cost: 2649.317791753\n",
      "Execution time: 0.6s\n",
      "PSLinUCB (alpha=0.7, omega=100, delta=0.05)\n",
      "Beta = 1.0\n",
      "Total gain: 5742.682208246992\n",
      "\tTotal reward: 8392.0\n",
      "\tTotal cost: 2649.317791753\n",
      "Execution time: 0.6s\n",
      "PSLinUCB (alpha=0.7, omega=100, delta=0.05)\n",
      "Beta = 1.0\n",
      "Total gain: 5742.682208246992\n",
      "\tTotal reward: 8392.0\n",
      "\tTotal cost: 2649.317791753\n",
      "Execution time: 0.6s\n",
      "\tPS-LinUCB, Average gain: 5742.68\n",
      "____________________________________________________________________________________________________\n",
      "\n",
      "\tStarting Sim-OOS evaluation\n",
      "Trial 0, time 2023-12-19 12:34:26.906389\n"
     ]
    },
    {
     "name": "stderr",
     "output_type": "stream",
     "text": [
      "/Users/sbokupripeku/miniforge3/lib/python3.9/site-packages/cvxpy/reductions/solvers/solving_chain.py:336: FutureWarning: \n",
      "    Your problem is being solved with the ECOS solver by default. Starting in \n",
      "    CVXPY 1.5.0, Clarabel will be used as the default solver instead. To continue \n",
      "    using ECOS, specify the ECOS solver explicitly using the ``solver=cp.ECOS`` \n",
      "    argument to the ``problem.solve`` method.\n",
      "    \n",
      "  warnings.warn(ECOS_DEPRECATION_MSG, FutureWarning)\n"
     ]
    },
    {
     "name": "stdout",
     "output_type": "stream",
     "text": [
      "Trial 1000, time 2023-12-19 12:34:48.118484\n",
      "Trial 2000, time 2023-12-19 12:35:00.094801\n",
      "Trial 3000, time 2023-12-19 12:35:19.787248\n",
      "Trial 4000, time 2023-12-19 12:35:56.077974\n",
      "Trial 5000, time 2023-12-19 12:36:00.701358\n",
      "Trial 6000, time 2023-12-19 12:36:02.202116\n",
      "Trial 7000, time 2023-12-19 12:36:02.755846\n",
      "Trial 8000, time 2023-12-19 12:36:03.170029\n",
      "Trial 9000, time 2023-12-19 12:36:03.435029\n",
      "SimOOS (beta=1.0, delta=0.8)\n",
      "Beta = 1.0\n",
      "Total gain: 4048.5069226328087\n",
      "\tTotal reward: 5700.0\n",
      "\tTotal cost: 1651.4930773671929\n",
      "Execution time: 1.7m\n",
      "Trial 0, time 2023-12-19 12:36:05.986455\n",
      "Trial 1000, time 2023-12-19 12:36:23.501732\n",
      "Trial 2000, time 2023-12-19 12:36:33.134293\n",
      "Trial 3000, time 2023-12-19 12:36:51.191850\n",
      "Trial 4000, time 2023-12-19 12:36:57.341168\n",
      "Trial 5000, time 2023-12-19 12:37:06.298336\n",
      "Trial 6000, time 2023-12-19 12:37:07.745198\n",
      "Trial 7000, time 2023-12-19 12:37:11.555601\n",
      "Trial 8000, time 2023-12-19 12:37:13.186486\n",
      "Trial 9000, time 2023-12-19 12:37:15.089710\n",
      "SimOOS (beta=1.0, delta=0.8)\n",
      "Beta = 1.0\n",
      "Total gain: 3334.145743936097\n",
      "\tTotal reward: 4671.0\n",
      "\tTotal cost: 1336.854256063901\n",
      "Execution time: 1.2m\n",
      "Trial 0, time 2023-12-19 12:37:19.264290\n",
      "Trial 1000, time 2023-12-19 12:37:54.358870\n",
      "Trial 2000, time 2023-12-19 12:38:06.181154\n",
      "Trial 3000, time 2023-12-19 12:38:28.257223\n",
      "Trial 4000, time 2023-12-19 12:38:33.303539\n",
      "Trial 5000, time 2023-12-19 12:38:34.540175\n",
      "Trial 6000, time 2023-12-19 12:38:38.926295\n",
      "Trial 7000, time 2023-12-19 12:38:44.859168\n",
      "Trial 8000, time 2023-12-19 12:38:56.575891\n",
      "Trial 9000, time 2023-12-19 12:38:58.070168\n",
      "SimOOS (beta=1.0, delta=0.8)\n",
      "Beta = 1.0\n",
      "Total gain: 4048.752068496856\n",
      "\tTotal reward: 5468.0\n",
      "\tTotal cost: 1419.2479315031478\n",
      "Execution time: 1.7m\n",
      "Trial 0, time 2023-12-19 12:39:01.226329\n",
      "Trial 1000, time 2023-12-19 12:39:20.467622\n",
      "Trial 2000, time 2023-12-19 12:39:44.826819\n",
      "Trial 3000, time 2023-12-19 12:39:48.906341\n",
      "Trial 4000, time 2023-12-19 12:40:06.367606\n",
      "Trial 5000, time 2023-12-19 12:40:07.347154\n",
      "Trial 6000, time 2023-12-19 12:40:14.513668\n",
      "Trial 7000, time 2023-12-19 12:40:23.331433\n",
      "Trial 8000, time 2023-12-19 12:40:25.527611\n",
      "Trial 9000, time 2023-12-19 12:40:36.072098\n",
      "SimOOS (beta=1.0, delta=0.8)\n",
      "Beta = 1.0\n",
      "Total gain: 3906.366619705739\n",
      "\tTotal reward: 5224.0\n",
      "\tTotal cost: 1317.6333802942631\n",
      "Execution time: 1.6m\n",
      "Trial 0, time 2023-12-19 12:40:39.063136\n",
      "Trial 1000, time 2023-12-19 12:40:57.757453\n",
      "Trial 2000, time 2023-12-19 12:41:08.176693\n",
      "Trial 3000, time 2023-12-19 12:41:32.352056\n",
      "Trial 4000, time 2023-12-19 12:41:33.145560\n",
      "Trial 5000, time 2023-12-19 12:41:34.598063\n",
      "Trial 6000, time 2023-12-19 12:41:50.526523\n",
      "Trial 7000, time 2023-12-19 12:41:51.608928\n",
      "Trial 8000, time 2023-12-19 12:41:52.026945\n",
      "Trial 9000, time 2023-12-19 12:42:12.515495\n",
      "SimOOS (beta=1.0, delta=0.8)\n",
      "Beta = 1.0\n",
      "Total gain: 5677.939343940132\n",
      "\tTotal reward: 7208.0\n",
      "\tTotal cost: 1530.060656059855\n",
      "Execution time: 1.7m\n",
      "\tSim-OOS, Average gain: 4203.14\n",
      "____________________________________________________________________________________________________\n",
      "\n",
      "\tStarting NCC-UCRL2 evaluation\n",
      "Round 0, time 2023-12-19 12:42:21.044863\n",
      "Round 1000, time 2023-12-19 12:44:25.591721\n",
      "Round 2000, time 2023-12-19 12:46:33.671772\n",
      "Round 3000, time 2023-12-19 12:48:43.099920\n",
      "Round 4000, time 2023-12-19 12:50:52.404769\n",
      "Round 5000, time 2023-12-19 12:53:04.193096\n",
      "Round 6000, time 2023-12-19 12:55:14.799956\n",
      "Round 7000, time 2023-12-19 12:57:30.590850\n",
      "Round 8000, time 2023-12-19 12:59:47.666533\n",
      "Round 9000, time 2023-12-19 13:02:04.512394\n",
      "Algorithm1 (beta=1.0, delta=0.04, w=250)\n",
      "Beta = 1.0\n",
      "Total gain: 7490.325501183527\n",
      "\tTotal reward: 8598.0\n",
      "\tTotal cost: 1107.6744988164764\n",
      "Execution time: 21.9m\n",
      "Round 0, time 2023-12-19 13:04:13.353603\n",
      "Round 1000, time 2023-12-19 13:06:17.196312\n",
      "Round 2000, time 2023-12-19 13:08:26.972159\n",
      "Round 3000, time 2023-12-19 13:10:38.380654\n",
      "Round 4000, time 2023-12-19 13:12:50.182193\n",
      "Round 5000, time 2023-12-19 13:15:03.116728\n",
      "Round 6000, time 2023-12-19 13:17:13.484513\n",
      "Round 7000, time 2023-12-19 13:19:24.528092\n",
      "Round 8000, time 2023-12-19 13:21:41.660480\n",
      "Round 9000, time 2023-12-19 13:23:54.056542\n",
      "Algorithm1 (beta=1.0, delta=0.04, w=250)\n",
      "Beta = 1.0\n",
      "Total gain: 7640.850540752089\n",
      "\tTotal reward: 8530.0\n",
      "\tTotal cost: 889.149459247919\n",
      "Execution time: 21.9m\n",
      "Round 0, time 2023-12-19 13:26:04.864360\n",
      "Round 1000, time 2023-12-19 13:28:09.028990\n",
      "Round 2000, time 2023-12-19 13:30:18.720545\n",
      "Round 3000, time 2023-12-19 13:32:31.974940\n",
      "Round 4000, time 2023-12-19 13:34:43.309171\n",
      "Round 5000, time 2023-12-19 13:36:52.444296\n",
      "Round 6000, time 2023-12-19 13:39:00.870563\n",
      "Round 7000, time 2023-12-19 13:41:13.263781\n",
      "Round 8000, time 2023-12-19 13:43:33.155632\n",
      "Round 9000, time 2023-12-19 13:45:41.185057\n",
      "Algorithm1 (beta=1.0, delta=0.04, w=250)\n",
      "Beta = 1.0\n",
      "Total gain: 7534.242368200914\n",
      "\tTotal reward: 8442.0\n",
      "\tTotal cost: 907.7576317990957\n",
      "Execution time: 21.7m\n",
      "Round 0, time 2023-12-19 13:47:46.843922\n",
      "Round 1000, time 2023-12-19 13:49:56.230518\n",
      "Round 2000, time 2023-12-19 13:52:07.017511\n",
      "Round 3000, time 2023-12-19 13:54:17.906040\n",
      "Round 4000, time 2023-12-19 13:56:23.804751\n",
      "Round 5000, time 2023-12-19 13:58:29.670940\n",
      "Round 6000, time 2023-12-19 14:00:35.068490\n",
      "Round 7000, time 2023-12-19 14:02:40.083054\n",
      "Round 8000, time 2023-12-19 14:04:45.675440\n",
      "Round 9000, time 2023-12-19 14:06:51.614388\n",
      "Algorithm1 (beta=1.0, delta=0.04, w=250)\n",
      "Beta = 1.0\n",
      "Total gain: 6583.9556990952615\n",
      "\tTotal reward: 8053.0\n",
      "\tTotal cost: 1469.044300904728\n",
      "Execution time: 21.2m\n",
      "Round 0, time 2023-12-19 14:08:57.189872\n",
      "Round 1000, time 2023-12-19 14:10:58.130157\n",
      "Round 2000, time 2023-12-19 14:13:03.428692\n",
      "Round 3000, time 2023-12-19 14:15:08.766743\n",
      "Round 4000, time 2023-12-19 14:17:14.117775\n",
      "Round 5000, time 2023-12-19 14:19:19.266507\n",
      "Round 6000, time 2023-12-19 14:21:30.005535\n",
      "Round 7000, time 2023-12-19 14:23:38.656819\n",
      "Round 8000, time 2023-12-19 14:25:51.380847\n",
      "Round 9000, time 2023-12-19 14:28:04.200801\n",
      "Algorithm1 (beta=1.0, delta=0.04, w=250)\n",
      "Beta = 1.0\n",
      "Total gain: 6971.80806641811\n",
      "\tTotal reward: 8391.0\n",
      "\tTotal cost: 1419.1919335818757\n",
      "Execution time: 21.3m\n",
      "\tNCC-UCRL2, Average gain: 7244.24\n",
      "____________________________________________________________________________________________________\n",
      "\n",
      "\tStarting Oracle evaluation\n",
      "Algorithm1-Oracle (beta=1.0)\n",
      "Beta = 1.0\n",
      "Total gain: 8780.69062052404\n",
      "\tTotal reward: 9245.0\n",
      "\tTotal cost: 464.3093794759759\n",
      "Execution time: 0.1s\n",
      "Algorithm1-Oracle (beta=1.0)\n",
      "Beta = 1.0\n",
      "Total gain: 8780.69062052404\n",
      "\tTotal reward: 9245.0\n",
      "\tTotal cost: 464.3093794759759\n",
      "Execution time: 0.1s\n",
      "Algorithm1-Oracle (beta=1.0)\n",
      "Beta = 1.0\n",
      "Total gain: 8780.69062052404\n",
      "\tTotal reward: 9245.0\n",
      "\tTotal cost: 464.3093794759759\n",
      "Execution time: 0.1s\n",
      "Algorithm1-Oracle (beta=1.0)\n",
      "Beta = 1.0\n",
      "Total gain: 8780.69062052404\n",
      "\tTotal reward: 9245.0\n",
      "\tTotal cost: 464.3093794759759\n",
      "Execution time: 0.1s\n",
      "Algorithm1-Oracle (beta=1.0)\n",
      "Beta = 1.0\n",
      "Total gain: 8780.69062052404\n",
      "\tTotal reward: 9245.0\n",
      "\tTotal cost: 464.3093794759759\n",
      "Execution time: 0.1s\n",
      "\tOracle, Average gain: 8780.69\n",
      "____________________________________________________________________________________________________\n",
      "\n"
     ]
    }
   ],
   "source": [
    "results = {}\n",
    "\n",
    "for policy_name, policy_generator in policy_generators.items():\n",
    "    print(f\"\\tStarting {policy_name} evaluation\")\n",
    "    policy_results = results[policy_name] = {}\n",
    "    \n",
    "    policy_results['gains'] = np.zeros((NUM_REPETITIONS, NUM_OF_TRIALS))\n",
    "    policy_results['rewards'] = np.zeros((NUM_REPETITIONS, NUM_OF_TRIALS))\n",
    "    policy_results['costs'] = np.zeros((NUM_REPETITIONS, NUM_OF_TRIALS))\n",
    "    policy_results['arms'] = np.zeros((NUM_REPETITIONS, NUM_OF_TRIALS))\n",
    "    policy_results['objects'] = []\n",
    "    \n",
    "    for i in range(NUM_REPETITIONS):\n",
    "        policy = policy_generator()\n",
    "        gain, reward, cost, arms = evaluation.evaluate_on_synthetic_data(\n",
    "            policy,\n",
    "            new_contexts,\n",
    "            new_rewards,\n",
    "            costs_vector,\n",
    "            stop_after=NUM_OF_TRIALS,\n",
    "            return_full=True,\n",
    "        )\n",
    "        policy_results['gains'][i, :] = gain\n",
    "        policy_results['rewards'][i, :] = reward\n",
    "        policy_results['costs'][i, :] = cost\n",
    "        policy_results['arms'][i, :] = arms\n",
    "        policy_results['objects'].append(policy)\n",
    "    \n",
    "    policy_results['gain'] = np.mean(policy_results['gains'], axis=0)\n",
    "    policy_results['reward'] = np.mean(policy_results['rewards'], axis=0)\n",
    "    policy_results['cost'] = np.mean(policy_results['costs'], axis=0)\n",
    "    print(f\"\\t{policy_name}, Average gain: {policy_results['gain'][-1]:.2f}\")\n",
    "    print(\"_\"*100 + \"\\n\")\n",
    "    "
   ]
  },
  {
   "cell_type": "code",
   "execution_count": 42,
   "id": "24fd71c0",
   "metadata": {},
   "outputs": [],
   "source": []
  },
  {
   "cell_type": "code",
   "execution_count": 67,
   "id": "141a2d25",
   "metadata": {},
   "outputs": [],
   "source": [
    "gains = {p_name:results[p_name]['gain'] for p_name in results}\n",
    "rewards = {p_name:results[p_name]['reward'] for p_name in results}\n",
    "costs = {p_name:results[p_name]['cost'] for p_name in results}"
   ]
  },
  {
   "cell_type": "code",
   "execution_count": 70,
   "id": "778aedd3",
   "metadata": {},
   "outputs": [
    {
     "data": {
      "text/plain": [
       "[3000, 5000, 7000, 9000]"
      ]
     },
     "execution_count": 70,
     "metadata": {},
     "output_type": "execute_result"
    }
   ],
   "source": [
    "cost_change_points"
   ]
  },
  {
   "cell_type": "code",
   "execution_count": 68,
   "id": "82575123",
   "metadata": {},
   "outputs": [],
   "source": [
    "\n",
    "data_to_save = {\n",
    "    'gains': gains,\n",
    "    'rewards': rewards,\n",
    "    'costs': costs,\n",
    "    'reward_change_points': change_point_values,\n",
    "    'cost_change_points': cost_change_points,\n",
    "    'all_change_points': all_change_point_values,\n",
    "}"
   ]
  },
  {
   "cell_type": "code",
   "execution_count": 69,
   "id": "f6b82c1d",
   "metadata": {},
   "outputs": [],
   "source": [
    "with open('results/results_with_swucb.pkl', 'wb') as f:\n",
    "    pickle.dump(data_to_save, f)"
   ]
  },
  {
   "cell_type": "markdown",
   "id": "4e5fccd5",
   "metadata": {},
   "source": [
    "# 3 Plotting figures <a class=\"anchor\" id=\"3-plotting-figures\"></a>"
   ]
  },
  {
   "cell_type": "markdown",
   "id": "f93ba6b1",
   "metadata": {},
   "source": [
    "Cumulative gain of each policy."
   ]
  },
  {
   "cell_type": "code",
   "execution_count": 45,
   "id": "336739ae",
   "metadata": {},
   "outputs": [],
   "source": [
    "gains = {p_name:results[p_name]['gain'] for p_name in results if p_name != 'Oracle'}"
   ]
  },
  {
   "cell_type": "code",
   "execution_count": 46,
   "id": "5efd1154",
   "metadata": {},
   "outputs": [
    {
     "data": {
      "text/plain": [
       "{'Random': array([4.0000e-01, 8.0000e-01, 1.2000e+00, ..., 3.3366e+03, 3.3370e+03,\n",
       "        3.3374e+03]),\n",
       " '$\\\\epsilon$-greedy': array([1.0000e+00, 1.0000e+00, 1.0000e+00, ..., 3.7832e+03, 3.7836e+03,\n",
       "        3.7840e+03]),\n",
       " 'UCB1': array([1.000e+00, 1.000e+00, 2.000e+00, ..., 5.807e+03, 5.808e+03,\n",
       "        5.809e+03]),\n",
       " 'SW-UCB': array([1.000e+00, 2.000e+00, 2.000e+00, ..., 6.792e+03, 6.793e+03,\n",
       "        6.794e+03]),\n",
       " 'LinUCB': array([7.10399012e-01, 4.22163164e-01, 1.12824892e+00, ...,\n",
       "        4.35417304e+03, 4.35493076e+03, 4.35468221e+03]),\n",
       " 'PS-LinUCB': array([7.10399012e-01, 4.22163164e-01, 1.12824892e+00, ...,\n",
       "        5.74117304e+03, 5.74193076e+03, 5.74268221e+03]),\n",
       " 'Sim-OOS': array([2.00000000e-01, 3.63052112e-01, 5.01991946e-01, ...,\n",
       "        4.20161224e+03, 4.20247929e+03, 4.20314214e+03]),\n",
       " 'NCC-UCRL2': array([2.00000000e-01, 5.63052112e-01, 1.10199195e+00, ...,\n",
       "        7.24249333e+03, 7.24336603e+03, 7.24423644e+03])}"
      ]
     },
     "execution_count": 46,
     "metadata": {},
     "output_type": "execute_result"
    }
   ],
   "source": [
    "gains"
   ]
  },
  {
   "cell_type": "code",
   "execution_count": null,
   "id": "8aa3b530",
   "metadata": {},
   "outputs": [],
   "source": [
    "plotting.gains.plot_gains(\n",
    "    gains,\n",
    "    reward_change_points=change_point_values,\n",
    "    cost_change_points=cost_change_points,\n",
    ")\n"
   ]
  },
  {
   "cell_type": "markdown",
   "id": "47c68a62",
   "metadata": {},
   "source": [
    "## 3.1 Regret <a class=\"anchor\" id=\"3-1-regret\"></a>\n",
    "\n",
    "Plot instantaneous regret of each policy. Instantaneous regret is defined as instantaneous gain of Oracle minus instantaneous gain of given policy at each time step."
   ]
  },
  {
   "cell_type": "code",
   "execution_count": null,
   "id": "3b775c0b",
   "metadata": {},
   "outputs": [],
   "source": [
    "regrets = {p_name:results['Oracle']['gain'] - gains[p_name] for p_name in gains}"
   ]
  },
  {
   "cell_type": "code",
   "execution_count": null,
   "id": "593c5dd1",
   "metadata": {},
   "outputs": [],
   "source": [
    "plotting.regrets.plot_regrets(\n",
    "    regrets,\n",
    "    reward_change_points=all_change_point_values,\n",
    "    cost_change_points=all_change_point_values,\n",
    "    all_change_point_values=all_change_point_values,\n",
    ")\n"
   ]
  },
  {
   "cell_type": "markdown",
   "id": "4302eb3f",
   "metadata": {},
   "source": [
    "## 3.2 Reward-cost barchart <a class=\"anchor\" id=\"3-2-reward-cost-barchart\"></a>\n",
    "\n",
    "Plot the barchart of total accumulated rewards, costs and gains for each policy. This helps better understand the  proportions between them."
   ]
  },
  {
   "cell_type": "code",
   "execution_count": null,
   "id": "11a414bd",
   "metadata": {},
   "outputs": [],
   "source": [
    "gains_by_alg = {p_name:results[p_name]['gain'] for p_name in results}\n",
    "rewards_by_alg = {p_name:results[p_name]['reward'] for p_name in results}\n",
    "costs_by_alg = {p_name:results[p_name]['cost'] for p_name in results}\n",
    "\n",
    "labels = sorted(gains_by_alg.keys(), key=lambda x: gains_by_alg[x][-1], reverse=True)\n",
    "\n",
    "final_rewards = [rewards_by_alg[label][-1] for label in labels]\n",
    "final_costs = [costs_by_alg[label][-1] for label in labels]\n",
    "final_gains = [gains_by_alg[label][-1] for label in labels]"
   ]
  },
  {
   "cell_type": "code",
   "execution_count": null,
   "id": "dbbb8c55",
   "metadata": {},
   "outputs": [],
   "source": [
    "plotting.reward_cost_barchart.plot_reward_cost_barchart(\n",
    "    labels, final_rewards, final_costs, final_gains,\n",
    ")"
   ]
  },
  {
   "cell_type": "markdown",
   "id": "04afbd31",
   "metadata": {},
   "source": [
    "## 3.3 Arm selection histogram <a class=\"anchor\" id=\"3-3-arm-selection-histogram\"></a>\n",
    "\n",
    "Compare the arm choices of Oracle, NCC-UCRL2 and UCB1 policies. Matching the pattern of the Oracle corresponds to better performance."
   ]
  },
  {
   "cell_type": "code",
   "execution_count": null,
   "id": "d0243fe9",
   "metadata": {},
   "outputs": [],
   "source": [
    "histograms = {\n",
    "    p_name: np.mean(\n",
    "        [algorithms.utilities.get_histograms(arms, all_stationarity_regions) for arms in results[p_name]['arms']],\n",
    "        axis=0,\n",
    "    )\n",
    "    for p_name in results\n",
    "}\n",
    "\n",
    "N_STATIONARY_PERIODS = len(all_stationarity_regions)\n",
    "algs_to_plot = [\"Oracle\", \"NCC-UCRL2\", \"UCB1\"]\n",
    "colors = ['cyan', 'red', 'blue']"
   ]
  },
  {
   "cell_type": "code",
   "execution_count": null,
   "id": "d4ad3521",
   "metadata": {},
   "outputs": [],
   "source": [
    "plotting.histogram.plot_histogram(\n",
    "    histograms, all_stationarity_regions, algs_to_plot, colors, N_STATIONARY_PERIODS\n",
    ")"
   ]
  },
  {
   "cell_type": "markdown",
   "id": "ee07d254",
   "metadata": {},
   "source": [
    "## 3.4 Accuracy <a class=\"anchor\" id=\"3-4-accuracy\"></a>\n",
    "\n",
    "We define accuracy when up to $l$ observations are made as\n",
    "$\n",
    "(\\sum_{j=0}^{l}{\\sum_{t=1}^{T}{r_t \\mathbb{1}\\{|I_t| = j \\}}}) / \n",
    "(\\sum_{j=0}^{l}{\\sum_{t=1}^{T}{\\mathbb{1}\\{|I_t| = j \\}}})\n",
    "$.\n",
    "We call this Accuracy because receiving reward 1 corresponds to correctly classifying a nursery application. This illustrates how observing more features marginally affects the performance of the algorithms."
   ]
  },
  {
   "cell_type": "code",
   "execution_count": null,
   "id": "ed7a6271",
   "metadata": {},
   "outputs": [],
   "source": [
    "accuracies = {\n",
    "    \"NCC-UCRL2\": np.mean(\n",
    "        np.stack([algorithms.utilities.get_accuracy(ncc) for ncc in results[\"NCC-UCRL2\"][\"objects\"]]),\n",
    "        axis=0\n",
    "    ),\n",
    "    \"Sim-OOS\": np.mean(\n",
    "        np.stack([algorithms.utilities.get_accuracy(simoos) for simoos in results[\"Sim-OOS\"][\"objects\"]]),\n",
    "        axis=0\n",
    "    ),\n",
    "} \n",
    "\n",
    "    "
   ]
  },
  {
   "cell_type": "code",
   "execution_count": null,
   "id": "bd0e10b3",
   "metadata": {},
   "outputs": [],
   "source": [
    "plotting.accuracy.plot_accuracy(accuracies)"
   ]
  },
  {
   "cell_type": "code",
   "execution_count": null,
   "id": "0c54648e",
   "metadata": {},
   "outputs": [],
   "source": []
  }
 ],
 "metadata": {
  "kernelspec": {
   "display_name": "Python 3 (ipykernel)",
   "language": "python",
   "name": "python3"
  },
  "language_info": {
   "codemirror_mode": {
    "name": "ipython",
    "version": 3
   },
   "file_extension": ".py",
   "mimetype": "text/x-python",
   "name": "python",
   "nbconvert_exporter": "python",
   "pygments_lexer": "ipython3",
   "version": "3.9.16"
  },
  "toc": {
   "base_numbering": 1,
   "nav_menu": {},
   "number_sections": true,
   "sideBar": true,
   "skip_h1_title": false,
   "title_cell": "Table of Contents",
   "title_sidebar": "Contents",
   "toc_cell": false,
   "toc_position": {},
   "toc_section_display": true,
   "toc_window_display": false
  },
  "varInspector": {
   "cols": {
    "lenName": 16,
    "lenType": 16,
    "lenVar": 40
   },
   "kernels_config": {
    "python": {
     "delete_cmd_postfix": "",
     "delete_cmd_prefix": "del ",
     "library": "var_list.py",
     "varRefreshCmd": "print(var_dic_list())"
    },
    "r": {
     "delete_cmd_postfix": ") ",
     "delete_cmd_prefix": "rm(",
     "library": "var_list.r",
     "varRefreshCmd": "cat(var_dic_list()) "
    }
   },
   "types_to_exclude": [
    "module",
    "function",
    "builtin_function_or_method",
    "instance",
    "_Feature"
   ],
   "window_display": false
  }
 },
 "nbformat": 4,
 "nbformat_minor": 5
}
