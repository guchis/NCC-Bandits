{
 "cells": [
  {
   "cell_type": "code",
   "execution_count": 1,
   "id": "517d610d",
   "metadata": {},
   "outputs": [
    {
     "data": {
      "text/plain": [
       "'/Users/sbokupripeku/git/work/examples/costly_nonstationary_bandits'"
      ]
     },
     "execution_count": 1,
     "metadata": {},
     "output_type": "execute_result"
    }
   ],
   "source": [
    "import os\n",
    "os.chdir(\"../..\")\n",
    "os.getcwd()"
   ]
  },
  {
   "cell_type": "code",
   "execution_count": 2,
   "id": "c3c772f4",
   "metadata": {},
   "outputs": [],
   "source": [
    "import matplotlib.pyplot as plt\n",
    "import numpy as np\n",
    "import pandas as pd\n",
    "import time\n",
    "\n",
    "import algorithms\n",
    "import evaluation"
   ]
  },
  {
   "cell_type": "code",
   "execution_count": 3,
   "id": "3e4495dc",
   "metadata": {},
   "outputs": [],
   "source": [
    "np.random.seed(42)"
   ]
  },
  {
   "cell_type": "code",
   "execution_count": 4,
   "id": "d72c65a5",
   "metadata": {},
   "outputs": [],
   "source": [
    "excel_file = 'experiments/medical/Breast_Cancer_Chemotherapy_Dataset_121515.xlsx'\n",
    "sheet_1 = 'Dataset(Context,Action,Reward)'\n",
    "sheet_2 = 'TransferReward'"
   ]
  },
  {
   "cell_type": "code",
   "execution_count": 5,
   "id": "e3aa4bdb",
   "metadata": {},
   "outputs": [
    {
     "name": "stdout",
     "output_type": "stream",
     "text": [
      "Sheet 1:\n"
     ]
    },
    {
     "data": {
      "text/html": [
       "<div>\n",
       "<style scoped>\n",
       "    .dataframe tbody tr th:only-of-type {\n",
       "        vertical-align: middle;\n",
       "    }\n",
       "\n",
       "    .dataframe tbody tr th {\n",
       "        vertical-align: top;\n",
       "    }\n",
       "\n",
       "    .dataframe thead th {\n",
       "        text-align: right;\n",
       "    }\n",
       "</style>\n",
       "<table border=\"1\" class=\"dataframe\">\n",
       "  <thead>\n",
       "    <tr style=\"text-align: right;\">\n",
       "      <th></th>\n",
       "      <th>Patient ID</th>\n",
       "      <th>Feature</th>\n",
       "      <th>Unnamed: 2</th>\n",
       "      <th>Unnamed: 3</th>\n",
       "      <th>Unnamed: 4</th>\n",
       "      <th>Unnamed: 5</th>\n",
       "      <th>Unnamed: 6</th>\n",
       "      <th>Unnamed: 7</th>\n",
       "      <th>Unnamed: 8</th>\n",
       "      <th>Unnamed: 9</th>\n",
       "      <th>Unnamed: 10</th>\n",
       "      <th>Unnamed: 11</th>\n",
       "      <th>Unnamed: 12</th>\n",
       "      <th>Unnamed: 13</th>\n",
       "      <th>Unnamed: 14</th>\n",
       "      <th>Unnamed: 15</th>\n",
       "      <th>Action</th>\n",
       "      <th>Reward</th>\n",
       "    </tr>\n",
       "  </thead>\n",
       "  <tbody>\n",
       "    <tr>\n",
       "      <th>0</th>\n",
       "      <td>NaN</td>\n",
       "      <td>Age</td>\n",
       "      <td>Menopausal</td>\n",
       "      <td>Race</td>\n",
       "      <td>Estrogen Receptor</td>\n",
       "      <td>Progesterone Receptor</td>\n",
       "      <td>HER2NUE</td>\n",
       "      <td>Tumor Stage</td>\n",
       "      <td>Tumor Grade</td>\n",
       "      <td>PLNC</td>\n",
       "      <td>Lymph Node Status</td>\n",
       "      <td>WHO Score</td>\n",
       "      <td>Surgery Type</td>\n",
       "      <td>Prior Radiotherapy</td>\n",
       "      <td>Prior Chemotherapy</td>\n",
       "      <td>Histology</td>\n",
       "      <td>NaN</td>\n",
       "      <td>NaN</td>\n",
       "    </tr>\n",
       "    <tr>\n",
       "      <th>1</th>\n",
       "      <td>1.0</td>\n",
       "      <td>3</td>\n",
       "      <td>2</td>\n",
       "      <td>1</td>\n",
       "      <td>2</td>\n",
       "      <td>1</td>\n",
       "      <td>1</td>\n",
       "      <td>1</td>\n",
       "      <td>2</td>\n",
       "      <td>3</td>\n",
       "      <td>2</td>\n",
       "      <td>1</td>\n",
       "      <td>2</td>\n",
       "      <td>2</td>\n",
       "      <td>1</td>\n",
       "      <td>1</td>\n",
       "      <td>2.0</td>\n",
       "      <td>0.334351</td>\n",
       "    </tr>\n",
       "    <tr>\n",
       "      <th>2</th>\n",
       "      <td>2.0</td>\n",
       "      <td>1</td>\n",
       "      <td>1</td>\n",
       "      <td>3</td>\n",
       "      <td>2</td>\n",
       "      <td>2</td>\n",
       "      <td>2</td>\n",
       "      <td>1</td>\n",
       "      <td>3</td>\n",
       "      <td>3</td>\n",
       "      <td>2</td>\n",
       "      <td>2</td>\n",
       "      <td>2</td>\n",
       "      <td>1</td>\n",
       "      <td>2</td>\n",
       "      <td>1</td>\n",
       "      <td>1.0</td>\n",
       "      <td>0.355958</td>\n",
       "    </tr>\n",
       "    <tr>\n",
       "      <th>3</th>\n",
       "      <td>3.0</td>\n",
       "      <td>3</td>\n",
       "      <td>1</td>\n",
       "      <td>1</td>\n",
       "      <td>1</td>\n",
       "      <td>1</td>\n",
       "      <td>2</td>\n",
       "      <td>2</td>\n",
       "      <td>2</td>\n",
       "      <td>3</td>\n",
       "      <td>1</td>\n",
       "      <td>1</td>\n",
       "      <td>1</td>\n",
       "      <td>2</td>\n",
       "      <td>2</td>\n",
       "      <td>1</td>\n",
       "      <td>2.0</td>\n",
       "      <td>0.394279</td>\n",
       "    </tr>\n",
       "    <tr>\n",
       "      <th>4</th>\n",
       "      <td>4.0</td>\n",
       "      <td>2</td>\n",
       "      <td>1</td>\n",
       "      <td>1</td>\n",
       "      <td>2</td>\n",
       "      <td>2</td>\n",
       "      <td>1</td>\n",
       "      <td>2</td>\n",
       "      <td>3</td>\n",
       "      <td>1</td>\n",
       "      <td>1</td>\n",
       "      <td>1</td>\n",
       "      <td>2</td>\n",
       "      <td>1</td>\n",
       "      <td>2</td>\n",
       "      <td>1</td>\n",
       "      <td>1.0</td>\n",
       "      <td>0.773465</td>\n",
       "    </tr>\n",
       "  </tbody>\n",
       "</table>\n",
       "</div>"
      ],
      "text/plain": [
       "   Patient ID Feature  Unnamed: 2 Unnamed: 3         Unnamed: 4  \\\n",
       "0         NaN     Age  Menopausal       Race  Estrogen Receptor   \n",
       "1         1.0       3           2          1                  2   \n",
       "2         2.0       1           1          3                  2   \n",
       "3         3.0       3           1          1                  1   \n",
       "4         4.0       2           1          1                  2   \n",
       "\n",
       "              Unnamed: 5 Unnamed: 6   Unnamed: 7   Unnamed: 8 Unnamed: 9  \\\n",
       "0  Progesterone Receptor    HER2NUE  Tumor Stage  Tumor Grade       PLNC   \n",
       "1                      1          1            1            2          3   \n",
       "2                      2          2            1            3          3   \n",
       "3                      1          2            2            2          3   \n",
       "4                      2          1            2            3          1   \n",
       "\n",
       "         Unnamed: 10 Unnamed: 11   Unnamed: 12         Unnamed: 13  \\\n",
       "0  Lymph Node Status   WHO Score  Surgery Type  Prior Radiotherapy   \n",
       "1                  2           1             2                   2   \n",
       "2                  2           2             2                   1   \n",
       "3                  1           1             1                   2   \n",
       "4                  1           1             2                   1   \n",
       "\n",
       "          Unnamed: 14 Unnamed: 15  Action    Reward  \n",
       "0  Prior Chemotherapy   Histology     NaN       NaN  \n",
       "1                   1           1     2.0  0.334351  \n",
       "2                   2           1     1.0  0.355958  \n",
       "3                   2           1     2.0  0.394279  \n",
       "4                   2           1     1.0  0.773465  "
      ]
     },
     "execution_count": 5,
     "metadata": {},
     "output_type": "execute_result"
    }
   ],
   "source": [
    "print(\"Sheet 1:\")\n",
    "pd.read_excel(excel_file, sheet_name=sheet_1).head()\n"
   ]
  },
  {
   "cell_type": "code",
   "execution_count": 6,
   "id": "c2287167",
   "metadata": {},
   "outputs": [
    {
     "name": "stdout",
     "output_type": "stream",
     "text": [
      "Sheet 2:\n"
     ]
    },
    {
     "data": {
      "text/html": [
       "<div>\n",
       "<style scoped>\n",
       "    .dataframe tbody tr th:only-of-type {\n",
       "        vertical-align: middle;\n",
       "    }\n",
       "\n",
       "    .dataframe tbody tr th {\n",
       "        vertical-align: top;\n",
       "    }\n",
       "\n",
       "    .dataframe thead th {\n",
       "        text-align: right;\n",
       "    }\n",
       "</style>\n",
       "<table border=\"1\" class=\"dataframe\">\n",
       "  <thead>\n",
       "    <tr style=\"text-align: right;\">\n",
       "      <th></th>\n",
       "      <th>Unnamed: 0</th>\n",
       "      <th>Transfer Reward (Normalized)</th>\n",
       "      <th>Unnamed: 2</th>\n",
       "      <th>Unnamed: 3</th>\n",
       "      <th>Unnamed: 4</th>\n",
       "      <th>Unnamed: 5</th>\n",
       "      <th>Unnamed: 6</th>\n",
       "    </tr>\n",
       "  </thead>\n",
       "  <tbody>\n",
       "    <tr>\n",
       "      <th>0</th>\n",
       "      <td>Patient ID</td>\n",
       "      <td>Chemo 1</td>\n",
       "      <td>Chemo 2</td>\n",
       "      <td>Chemo 3</td>\n",
       "      <td>Chemo 4</td>\n",
       "      <td>Chemo 5</td>\n",
       "      <td>Chemo 6</td>\n",
       "    </tr>\n",
       "    <tr>\n",
       "      <th>1</th>\n",
       "      <td>1</td>\n",
       "      <td>0.132838</td>\n",
       "      <td>0.334351</td>\n",
       "      <td>0.054796</td>\n",
       "      <td>0.037213</td>\n",
       "      <td>0.054395</td>\n",
       "      <td>0.110552</td>\n",
       "    </tr>\n",
       "    <tr>\n",
       "      <th>2</th>\n",
       "      <td>2</td>\n",
       "      <td>0.355958</td>\n",
       "      <td>0.337438</td>\n",
       "      <td>0.028174</td>\n",
       "      <td>0.007678</td>\n",
       "      <td>0.151268</td>\n",
       "      <td>0.237898</td>\n",
       "    </tr>\n",
       "    <tr>\n",
       "      <th>3</th>\n",
       "      <td>3</td>\n",
       "      <td>0.287652</td>\n",
       "      <td>0.394279</td>\n",
       "      <td>0.027879</td>\n",
       "      <td>0.066609</td>\n",
       "      <td>0.031137</td>\n",
       "      <td>0.059067</td>\n",
       "    </tr>\n",
       "    <tr>\n",
       "      <th>4</th>\n",
       "      <td>4</td>\n",
       "      <td>0.773465</td>\n",
       "      <td>0.275363</td>\n",
       "      <td>0.02762</td>\n",
       "      <td>0.004676</td>\n",
       "      <td>0.232115</td>\n",
       "      <td>0.25493</td>\n",
       "    </tr>\n",
       "  </tbody>\n",
       "</table>\n",
       "</div>"
      ],
      "text/plain": [
       "   Unnamed: 0 Transfer Reward (Normalized) Unnamed: 2 Unnamed: 3 Unnamed: 4  \\\n",
       "0  Patient ID                      Chemo 1    Chemo 2    Chemo 3    Chemo 4   \n",
       "1           1                     0.132838   0.334351   0.054796   0.037213   \n",
       "2           2                     0.355958   0.337438   0.028174   0.007678   \n",
       "3           3                     0.287652   0.394279   0.027879   0.066609   \n",
       "4           4                     0.773465   0.275363    0.02762   0.004676   \n",
       "\n",
       "  Unnamed: 5 Unnamed: 6  \n",
       "0    Chemo 5    Chemo 6  \n",
       "1   0.054395   0.110552  \n",
       "2   0.151268   0.237898  \n",
       "3   0.031137   0.059067  \n",
       "4   0.232115    0.25493  "
      ]
     },
     "execution_count": 6,
     "metadata": {},
     "output_type": "execute_result"
    }
   ],
   "source": [
    "print(\"Sheet 2:\")\n",
    "pd.read_excel(excel_file, sheet_name=sheet_2).head()"
   ]
  },
  {
   "cell_type": "code",
   "execution_count": 7,
   "id": "587acd06",
   "metadata": {},
   "outputs": [],
   "source": [
    "cols2skip_c = [0,16,17]\n",
    "cols2skip_tr = [0]\n",
    "context_index = [i for i in range(18) if i not in cols2skip_c]\n",
    "tranfer_reward_index = [i for i in range(6) if i not in cols2skip_tr]\n",
    "\n",
    "data_context = pd.read_excel(excel_file, sheet_name=sheet_1, header=None, skiprows=2, usecols=context_index)\n",
    "data_transfer_rewards = pd.read_excel(\n",
    "    excel_file, sheet_name=sheet_2, header=None, skiprows=2, usecols=tranfer_reward_index\n",
    ")\n",
    "\n",
    "data = pd.read_excel(excel_file)"
   ]
  },
  {
   "cell_type": "code",
   "execution_count": 8,
   "id": "86a6f969",
   "metadata": {},
   "outputs": [
    {
     "data": {
      "text/html": [
       "<div>\n",
       "<style scoped>\n",
       "    .dataframe tbody tr th:only-of-type {\n",
       "        vertical-align: middle;\n",
       "    }\n",
       "\n",
       "    .dataframe tbody tr th {\n",
       "        vertical-align: top;\n",
       "    }\n",
       "\n",
       "    .dataframe thead th {\n",
       "        text-align: right;\n",
       "    }\n",
       "</style>\n",
       "<table border=\"1\" class=\"dataframe\">\n",
       "  <thead>\n",
       "    <tr style=\"text-align: right;\">\n",
       "      <th></th>\n",
       "      <th>Patient ID</th>\n",
       "      <th>Feature</th>\n",
       "      <th>Unnamed: 2</th>\n",
       "      <th>Unnamed: 3</th>\n",
       "      <th>Unnamed: 4</th>\n",
       "      <th>Unnamed: 5</th>\n",
       "      <th>Unnamed: 6</th>\n",
       "      <th>Unnamed: 7</th>\n",
       "      <th>Unnamed: 8</th>\n",
       "      <th>Unnamed: 9</th>\n",
       "      <th>Unnamed: 10</th>\n",
       "      <th>Unnamed: 11</th>\n",
       "      <th>Unnamed: 12</th>\n",
       "      <th>Unnamed: 13</th>\n",
       "      <th>Unnamed: 14</th>\n",
       "      <th>Unnamed: 15</th>\n",
       "      <th>Action</th>\n",
       "      <th>Reward</th>\n",
       "    </tr>\n",
       "  </thead>\n",
       "  <tbody>\n",
       "    <tr>\n",
       "      <th>0</th>\n",
       "      <td>NaN</td>\n",
       "      <td>Age</td>\n",
       "      <td>Menopausal</td>\n",
       "      <td>Race</td>\n",
       "      <td>Estrogen Receptor</td>\n",
       "      <td>Progesterone Receptor</td>\n",
       "      <td>HER2NUE</td>\n",
       "      <td>Tumor Stage</td>\n",
       "      <td>Tumor Grade</td>\n",
       "      <td>PLNC</td>\n",
       "      <td>Lymph Node Status</td>\n",
       "      <td>WHO Score</td>\n",
       "      <td>Surgery Type</td>\n",
       "      <td>Prior Radiotherapy</td>\n",
       "      <td>Prior Chemotherapy</td>\n",
       "      <td>Histology</td>\n",
       "      <td>NaN</td>\n",
       "      <td>NaN</td>\n",
       "    </tr>\n",
       "    <tr>\n",
       "      <th>1</th>\n",
       "      <td>1.0</td>\n",
       "      <td>3</td>\n",
       "      <td>2</td>\n",
       "      <td>1</td>\n",
       "      <td>2</td>\n",
       "      <td>1</td>\n",
       "      <td>1</td>\n",
       "      <td>1</td>\n",
       "      <td>2</td>\n",
       "      <td>3</td>\n",
       "      <td>2</td>\n",
       "      <td>1</td>\n",
       "      <td>2</td>\n",
       "      <td>2</td>\n",
       "      <td>1</td>\n",
       "      <td>1</td>\n",
       "      <td>2.0</td>\n",
       "      <td>0.334351</td>\n",
       "    </tr>\n",
       "    <tr>\n",
       "      <th>2</th>\n",
       "      <td>2.0</td>\n",
       "      <td>1</td>\n",
       "      <td>1</td>\n",
       "      <td>3</td>\n",
       "      <td>2</td>\n",
       "      <td>2</td>\n",
       "      <td>2</td>\n",
       "      <td>1</td>\n",
       "      <td>3</td>\n",
       "      <td>3</td>\n",
       "      <td>2</td>\n",
       "      <td>2</td>\n",
       "      <td>2</td>\n",
       "      <td>1</td>\n",
       "      <td>2</td>\n",
       "      <td>1</td>\n",
       "      <td>1.0</td>\n",
       "      <td>0.355958</td>\n",
       "    </tr>\n",
       "    <tr>\n",
       "      <th>3</th>\n",
       "      <td>3.0</td>\n",
       "      <td>3</td>\n",
       "      <td>1</td>\n",
       "      <td>1</td>\n",
       "      <td>1</td>\n",
       "      <td>1</td>\n",
       "      <td>2</td>\n",
       "      <td>2</td>\n",
       "      <td>2</td>\n",
       "      <td>3</td>\n",
       "      <td>1</td>\n",
       "      <td>1</td>\n",
       "      <td>1</td>\n",
       "      <td>2</td>\n",
       "      <td>2</td>\n",
       "      <td>1</td>\n",
       "      <td>2.0</td>\n",
       "      <td>0.394279</td>\n",
       "    </tr>\n",
       "    <tr>\n",
       "      <th>4</th>\n",
       "      <td>4.0</td>\n",
       "      <td>2</td>\n",
       "      <td>1</td>\n",
       "      <td>1</td>\n",
       "      <td>2</td>\n",
       "      <td>2</td>\n",
       "      <td>1</td>\n",
       "      <td>2</td>\n",
       "      <td>3</td>\n",
       "      <td>1</td>\n",
       "      <td>1</td>\n",
       "      <td>1</td>\n",
       "      <td>2</td>\n",
       "      <td>1</td>\n",
       "      <td>2</td>\n",
       "      <td>1</td>\n",
       "      <td>1.0</td>\n",
       "      <td>0.773465</td>\n",
       "    </tr>\n",
       "    <tr>\n",
       "      <th>...</th>\n",
       "      <td>...</td>\n",
       "      <td>...</td>\n",
       "      <td>...</td>\n",
       "      <td>...</td>\n",
       "      <td>...</td>\n",
       "      <td>...</td>\n",
       "      <td>...</td>\n",
       "      <td>...</td>\n",
       "      <td>...</td>\n",
       "      <td>...</td>\n",
       "      <td>...</td>\n",
       "      <td>...</td>\n",
       "      <td>...</td>\n",
       "      <td>...</td>\n",
       "      <td>...</td>\n",
       "      <td>...</td>\n",
       "      <td>...</td>\n",
       "      <td>...</td>\n",
       "    </tr>\n",
       "    <tr>\n",
       "      <th>9996</th>\n",
       "      <td>9996.0</td>\n",
       "      <td>3</td>\n",
       "      <td>1</td>\n",
       "      <td>1</td>\n",
       "      <td>2</td>\n",
       "      <td>1</td>\n",
       "      <td>1</td>\n",
       "      <td>1</td>\n",
       "      <td>2</td>\n",
       "      <td>3</td>\n",
       "      <td>1</td>\n",
       "      <td>2</td>\n",
       "      <td>1</td>\n",
       "      <td>1</td>\n",
       "      <td>2</td>\n",
       "      <td>1</td>\n",
       "      <td>2.0</td>\n",
       "      <td>0.277812</td>\n",
       "    </tr>\n",
       "    <tr>\n",
       "      <th>9997</th>\n",
       "      <td>9997.0</td>\n",
       "      <td>2</td>\n",
       "      <td>2</td>\n",
       "      <td>1</td>\n",
       "      <td>1</td>\n",
       "      <td>2</td>\n",
       "      <td>2</td>\n",
       "      <td>2</td>\n",
       "      <td>2</td>\n",
       "      <td>2</td>\n",
       "      <td>2</td>\n",
       "      <td>2</td>\n",
       "      <td>1</td>\n",
       "      <td>2</td>\n",
       "      <td>1</td>\n",
       "      <td>1</td>\n",
       "      <td>1.0</td>\n",
       "      <td>0.458562</td>\n",
       "    </tr>\n",
       "    <tr>\n",
       "      <th>9998</th>\n",
       "      <td>9998.0</td>\n",
       "      <td>4</td>\n",
       "      <td>1</td>\n",
       "      <td>2</td>\n",
       "      <td>1</td>\n",
       "      <td>1</td>\n",
       "      <td>1</td>\n",
       "      <td>2</td>\n",
       "      <td>1</td>\n",
       "      <td>2</td>\n",
       "      <td>1</td>\n",
       "      <td>3</td>\n",
       "      <td>2</td>\n",
       "      <td>1</td>\n",
       "      <td>2</td>\n",
       "      <td>2</td>\n",
       "      <td>1.0</td>\n",
       "      <td>0.385728</td>\n",
       "    </tr>\n",
       "    <tr>\n",
       "      <th>9999</th>\n",
       "      <td>9999.0</td>\n",
       "      <td>1</td>\n",
       "      <td>1</td>\n",
       "      <td>1</td>\n",
       "      <td>2</td>\n",
       "      <td>1</td>\n",
       "      <td>1</td>\n",
       "      <td>1</td>\n",
       "      <td>3</td>\n",
       "      <td>2</td>\n",
       "      <td>2</td>\n",
       "      <td>1</td>\n",
       "      <td>1</td>\n",
       "      <td>1</td>\n",
       "      <td>2</td>\n",
       "      <td>1</td>\n",
       "      <td>5.0</td>\n",
       "      <td>0.406130</td>\n",
       "    </tr>\n",
       "    <tr>\n",
       "      <th>10000</th>\n",
       "      <td>10000.0</td>\n",
       "      <td>4</td>\n",
       "      <td>1</td>\n",
       "      <td>1</td>\n",
       "      <td>2</td>\n",
       "      <td>2</td>\n",
       "      <td>2</td>\n",
       "      <td>3</td>\n",
       "      <td>1</td>\n",
       "      <td>1</td>\n",
       "      <td>2</td>\n",
       "      <td>1</td>\n",
       "      <td>1</td>\n",
       "      <td>1</td>\n",
       "      <td>2</td>\n",
       "      <td>1</td>\n",
       "      <td>6.0</td>\n",
       "      <td>0.308630</td>\n",
       "    </tr>\n",
       "  </tbody>\n",
       "</table>\n",
       "<p>10001 rows × 18 columns</p>\n",
       "</div>"
      ],
      "text/plain": [
       "       Patient ID Feature  Unnamed: 2 Unnamed: 3         Unnamed: 4  \\\n",
       "0             NaN     Age  Menopausal       Race  Estrogen Receptor   \n",
       "1             1.0       3           2          1                  2   \n",
       "2             2.0       1           1          3                  2   \n",
       "3             3.0       3           1          1                  1   \n",
       "4             4.0       2           1          1                  2   \n",
       "...           ...     ...         ...        ...                ...   \n",
       "9996       9996.0       3           1          1                  2   \n",
       "9997       9997.0       2           2          1                  1   \n",
       "9998       9998.0       4           1          2                  1   \n",
       "9999       9999.0       1           1          1                  2   \n",
       "10000     10000.0       4           1          1                  2   \n",
       "\n",
       "                  Unnamed: 5 Unnamed: 6   Unnamed: 7   Unnamed: 8 Unnamed: 9  \\\n",
       "0      Progesterone Receptor    HER2NUE  Tumor Stage  Tumor Grade       PLNC   \n",
       "1                          1          1            1            2          3   \n",
       "2                          2          2            1            3          3   \n",
       "3                          1          2            2            2          3   \n",
       "4                          2          1            2            3          1   \n",
       "...                      ...        ...          ...          ...        ...   \n",
       "9996                       1          1            1            2          3   \n",
       "9997                       2          2            2            2          2   \n",
       "9998                       1          1            2            1          2   \n",
       "9999                       1          1            1            3          2   \n",
       "10000                      2          2            3            1          1   \n",
       "\n",
       "             Unnamed: 10 Unnamed: 11   Unnamed: 12         Unnamed: 13  \\\n",
       "0      Lymph Node Status   WHO Score  Surgery Type  Prior Radiotherapy   \n",
       "1                      2           1             2                   2   \n",
       "2                      2           2             2                   1   \n",
       "3                      1           1             1                   2   \n",
       "4                      1           1             2                   1   \n",
       "...                  ...         ...           ...                 ...   \n",
       "9996                   1           2             1                   1   \n",
       "9997                   2           2             1                   2   \n",
       "9998                   1           3             2                   1   \n",
       "9999                   2           1             1                   1   \n",
       "10000                  2           1             1                   1   \n",
       "\n",
       "              Unnamed: 14 Unnamed: 15  Action    Reward  \n",
       "0      Prior Chemotherapy   Histology     NaN       NaN  \n",
       "1                       1           1     2.0  0.334351  \n",
       "2                       2           1     1.0  0.355958  \n",
       "3                       2           1     2.0  0.394279  \n",
       "4                       2           1     1.0  0.773465  \n",
       "...                   ...         ...     ...       ...  \n",
       "9996                    2           1     2.0  0.277812  \n",
       "9997                    1           1     1.0  0.458562  \n",
       "9998                    2           2     1.0  0.385728  \n",
       "9999                    2           1     5.0  0.406130  \n",
       "10000                   2           1     6.0  0.308630  \n",
       "\n",
       "[10001 rows x 18 columns]"
      ]
     },
     "execution_count": 8,
     "metadata": {},
     "output_type": "execute_result"
    }
   ],
   "source": [
    "data"
   ]
  },
  {
   "cell_type": "code",
   "execution_count": 9,
   "id": "bf9e50a6",
   "metadata": {},
   "outputs": [
    {
     "name": "stdout",
     "output_type": "stream",
     "text": [
      "first 5 contexts:\n"
     ]
    },
    {
     "data": {
      "text/html": [
       "<div>\n",
       "<style scoped>\n",
       "    .dataframe tbody tr th:only-of-type {\n",
       "        vertical-align: middle;\n",
       "    }\n",
       "\n",
       "    .dataframe tbody tr th {\n",
       "        vertical-align: top;\n",
       "    }\n",
       "\n",
       "    .dataframe thead th {\n",
       "        text-align: right;\n",
       "    }\n",
       "</style>\n",
       "<table border=\"1\" class=\"dataframe\">\n",
       "  <thead>\n",
       "    <tr style=\"text-align: right;\">\n",
       "      <th></th>\n",
       "      <th>1</th>\n",
       "      <th>2</th>\n",
       "      <th>3</th>\n",
       "      <th>4</th>\n",
       "      <th>5</th>\n",
       "      <th>6</th>\n",
       "      <th>7</th>\n",
       "      <th>8</th>\n",
       "      <th>9</th>\n",
       "      <th>10</th>\n",
       "      <th>11</th>\n",
       "      <th>12</th>\n",
       "      <th>13</th>\n",
       "      <th>14</th>\n",
       "      <th>15</th>\n",
       "    </tr>\n",
       "  </thead>\n",
       "  <tbody>\n",
       "    <tr>\n",
       "      <th>0</th>\n",
       "      <td>3</td>\n",
       "      <td>2</td>\n",
       "      <td>1</td>\n",
       "      <td>2</td>\n",
       "      <td>1</td>\n",
       "      <td>1</td>\n",
       "      <td>1</td>\n",
       "      <td>2</td>\n",
       "      <td>3</td>\n",
       "      <td>2</td>\n",
       "      <td>1</td>\n",
       "      <td>2</td>\n",
       "      <td>2</td>\n",
       "      <td>1</td>\n",
       "      <td>1</td>\n",
       "    </tr>\n",
       "    <tr>\n",
       "      <th>1</th>\n",
       "      <td>1</td>\n",
       "      <td>1</td>\n",
       "      <td>3</td>\n",
       "      <td>2</td>\n",
       "      <td>2</td>\n",
       "      <td>2</td>\n",
       "      <td>1</td>\n",
       "      <td>3</td>\n",
       "      <td>3</td>\n",
       "      <td>2</td>\n",
       "      <td>2</td>\n",
       "      <td>2</td>\n",
       "      <td>1</td>\n",
       "      <td>2</td>\n",
       "      <td>1</td>\n",
       "    </tr>\n",
       "    <tr>\n",
       "      <th>2</th>\n",
       "      <td>3</td>\n",
       "      <td>1</td>\n",
       "      <td>1</td>\n",
       "      <td>1</td>\n",
       "      <td>1</td>\n",
       "      <td>2</td>\n",
       "      <td>2</td>\n",
       "      <td>2</td>\n",
       "      <td>3</td>\n",
       "      <td>1</td>\n",
       "      <td>1</td>\n",
       "      <td>1</td>\n",
       "      <td>2</td>\n",
       "      <td>2</td>\n",
       "      <td>1</td>\n",
       "    </tr>\n",
       "    <tr>\n",
       "      <th>3</th>\n",
       "      <td>2</td>\n",
       "      <td>1</td>\n",
       "      <td>1</td>\n",
       "      <td>2</td>\n",
       "      <td>2</td>\n",
       "      <td>1</td>\n",
       "      <td>2</td>\n",
       "      <td>3</td>\n",
       "      <td>1</td>\n",
       "      <td>1</td>\n",
       "      <td>1</td>\n",
       "      <td>2</td>\n",
       "      <td>1</td>\n",
       "      <td>2</td>\n",
       "      <td>1</td>\n",
       "    </tr>\n",
       "    <tr>\n",
       "      <th>4</th>\n",
       "      <td>3</td>\n",
       "      <td>1</td>\n",
       "      <td>1</td>\n",
       "      <td>2</td>\n",
       "      <td>2</td>\n",
       "      <td>0</td>\n",
       "      <td>2</td>\n",
       "      <td>1</td>\n",
       "      <td>1</td>\n",
       "      <td>1</td>\n",
       "      <td>2</td>\n",
       "      <td>1</td>\n",
       "      <td>2</td>\n",
       "      <td>1</td>\n",
       "      <td>2</td>\n",
       "    </tr>\n",
       "  </tbody>\n",
       "</table>\n",
       "</div>"
      ],
      "text/plain": [
       "   1   2   3   4   5   6   7   8   9   10  11  12  13  14  15\n",
       "0   3   2   1   2   1   1   1   2   3   2   1   2   2   1   1\n",
       "1   1   1   3   2   2   2   1   3   3   2   2   2   1   2   1\n",
       "2   3   1   1   1   1   2   2   2   3   1   1   1   2   2   1\n",
       "3   2   1   1   2   2   1   2   3   1   1   1   2   1   2   1\n",
       "4   3   1   1   2   2   0   2   1   1   1   2   1   2   1   2"
      ]
     },
     "execution_count": 9,
     "metadata": {},
     "output_type": "execute_result"
    }
   ],
   "source": [
    "print(\"first 5 contexts:\")\n",
    "data_context.head()"
   ]
  },
  {
   "cell_type": "code",
   "execution_count": 10,
   "id": "0ea11eb6",
   "metadata": {},
   "outputs": [
    {
     "name": "stdout",
     "output_type": "stream",
     "text": [
      "first 5 rewards:\n"
     ]
    },
    {
     "data": {
      "text/html": [
       "<div>\n",
       "<style scoped>\n",
       "    .dataframe tbody tr th:only-of-type {\n",
       "        vertical-align: middle;\n",
       "    }\n",
       "\n",
       "    .dataframe tbody tr th {\n",
       "        vertical-align: top;\n",
       "    }\n",
       "\n",
       "    .dataframe thead th {\n",
       "        text-align: right;\n",
       "    }\n",
       "</style>\n",
       "<table border=\"1\" class=\"dataframe\">\n",
       "  <thead>\n",
       "    <tr style=\"text-align: right;\">\n",
       "      <th></th>\n",
       "      <th>1</th>\n",
       "      <th>2</th>\n",
       "      <th>3</th>\n",
       "      <th>4</th>\n",
       "      <th>5</th>\n",
       "    </tr>\n",
       "  </thead>\n",
       "  <tbody>\n",
       "    <tr>\n",
       "      <th>0</th>\n",
       "      <td>0.132838</td>\n",
       "      <td>0.334351</td>\n",
       "      <td>0.054796</td>\n",
       "      <td>0.037213</td>\n",
       "      <td>0.054395</td>\n",
       "    </tr>\n",
       "    <tr>\n",
       "      <th>1</th>\n",
       "      <td>0.355958</td>\n",
       "      <td>0.337438</td>\n",
       "      <td>0.028174</td>\n",
       "      <td>0.007678</td>\n",
       "      <td>0.151268</td>\n",
       "    </tr>\n",
       "    <tr>\n",
       "      <th>2</th>\n",
       "      <td>0.287652</td>\n",
       "      <td>0.394279</td>\n",
       "      <td>0.027879</td>\n",
       "      <td>0.066609</td>\n",
       "      <td>0.031137</td>\n",
       "    </tr>\n",
       "    <tr>\n",
       "      <th>3</th>\n",
       "      <td>0.773465</td>\n",
       "      <td>0.275363</td>\n",
       "      <td>0.027620</td>\n",
       "      <td>0.004676</td>\n",
       "      <td>0.232115</td>\n",
       "    </tr>\n",
       "    <tr>\n",
       "      <th>4</th>\n",
       "      <td>0.226727</td>\n",
       "      <td>0.276641</td>\n",
       "      <td>0.043145</td>\n",
       "      <td>0.065420</td>\n",
       "      <td>0.121219</td>\n",
       "    </tr>\n",
       "  </tbody>\n",
       "</table>\n",
       "</div>"
      ],
      "text/plain": [
       "          1         2         3         4         5\n",
       "0  0.132838  0.334351  0.054796  0.037213  0.054395\n",
       "1  0.355958  0.337438  0.028174  0.007678  0.151268\n",
       "2  0.287652  0.394279  0.027879  0.066609  0.031137\n",
       "3  0.773465  0.275363  0.027620  0.004676  0.232115\n",
       "4  0.226727  0.276641  0.043145  0.065420  0.121219"
      ]
     },
     "execution_count": 10,
     "metadata": {},
     "output_type": "execute_result"
    }
   ],
   "source": [
    "print(\"first 5 rewards:\")\n",
    "data_transfer_rewards.head()"
   ]
  },
  {
   "cell_type": "code",
   "execution_count": 11,
   "id": "cb386e71",
   "metadata": {},
   "outputs": [
    {
     "name": "stdout",
     "output_type": "stream",
     "text": [
      "all contexts shape:(10000, 15)\n",
      "all rewards shape:(10000, 5)\n"
     ]
    }
   ],
   "source": [
    "#create the matrices\n",
    "all_contexts = data_context.values\n",
    "print(\"all contexts shape:\" + str(all_contexts.shape))\n",
    "all_rewards = data_transfer_rewards.values\n",
    "print(\"all rewards shape:\" + str(all_rewards.shape))"
   ]
  },
  {
   "cell_type": "code",
   "execution_count": 12,
   "id": "de380d12",
   "metadata": {},
   "outputs": [
    {
     "name": "stdout",
     "output_type": "stream",
     "text": [
      "all contexts shape:(10000, 4)\n",
      "all rewards large shape:(10000, 3)\n",
      "all rewards shape:(10000, 2)\n"
     ]
    }
   ],
   "source": [
    "#Select the contexts and actions\n",
    "alpha = 2 \n",
    "all_contexts = all_contexts[:, [0, 3, 6, 11]]\n",
    "print(\"all contexts shape:\" + str(all_contexts.shape))\n",
    "all_rewards_large = all_rewards[:, [0,1,2]]\n",
    "print(\"all rewards large shape:\" + str(all_rewards_large.shape))\n",
    "all_rewards = all_rewards[:, [0, 1]]\n",
    "print(\"all rewards shape:\" + str(all_rewards.shape))"
   ]
  },
  {
   "cell_type": "code",
   "execution_count": 13,
   "id": "7480a2ec",
   "metadata": {},
   "outputs": [
    {
     "data": {
      "text/plain": [
       "array([[0.13283783, 0.33435069, 0.0547964 ],\n",
       "       [0.35595785, 0.33743778, 0.02817364],\n",
       "       [0.28765227, 0.39427861, 0.02787924],\n",
       "       ...,\n",
       "       [0.38572802, 0.33934693, 0.03532575],\n",
       "       [0.17639942, 0.30865811, 0.03973829],\n",
       "       [0.07528787, 0.27973324, 0.0585417 ]])"
      ]
     },
     "execution_count": 13,
     "metadata": {},
     "output_type": "execute_result"
    }
   ],
   "source": [
    "all_rewards_large"
   ]
  },
  {
   "cell_type": "code",
   "execution_count": 14,
   "id": "66e5faa4",
   "metadata": {},
   "outputs": [],
   "source": [
    "#change the reward into 0 or 1\n",
    "for i in range(10000):\n",
    "    sorted_index = np.argsort(all_rewards_large[i,:])\n",
    "    all_rewards_large[i,sorted_index[2]] = 1\n",
    "    all_rewards_large[i,sorted_index[1]] = 0\n",
    "    all_rewards_large[i,sorted_index[0]] = 0"
   ]
  },
  {
   "cell_type": "code",
   "execution_count": 15,
   "id": "afafa45d",
   "metadata": {},
   "outputs": [
    {
     "data": {
      "text/plain": [
       "array([[0., 1., 0.],\n",
       "       [1., 0., 0.],\n",
       "       [0., 1., 0.],\n",
       "       ...,\n",
       "       [1., 0., 0.],\n",
       "       [0., 1., 0.],\n",
       "       [0., 1., 0.]])"
      ]
     },
     "execution_count": 15,
     "metadata": {},
     "output_type": "execute_result"
    }
   ],
   "source": [
    "all_rewards_large"
   ]
  },
  {
   "cell_type": "code",
   "execution_count": 16,
   "id": "982ad568",
   "metadata": {},
   "outputs": [],
   "source": [
    "#change the reward into 0 or 1\n",
    "for i in range(10000):\n",
    "    sorted_index = np.argsort(all_rewards[i,:])\n",
    "    all_rewards[i,sorted_index[1]] = 1\n",
    "    all_rewards[i,sorted_index[0]] = 0"
   ]
  },
  {
   "cell_type": "code",
   "execution_count": 17,
   "id": "86a6f083",
   "metadata": {},
   "outputs": [
    {
     "data": {
      "text/plain": [
       "array([[0., 1.],\n",
       "       [1., 0.],\n",
       "       [0., 1.],\n",
       "       ...,\n",
       "       [1., 0.],\n",
       "       [0., 1.],\n",
       "       [0., 1.]])"
      ]
     },
     "execution_count": 17,
     "metadata": {},
     "output_type": "execute_result"
    }
   ],
   "source": [
    "all_rewards"
   ]
  },
  {
   "cell_type": "code",
   "execution_count": 18,
   "id": "f132b8e9",
   "metadata": {},
   "outputs": [
    {
     "name": "stdout",
     "output_type": "stream",
     "text": [
      "all contexts shape:(10000, 4)\n",
      "all rewards shape:(10000, 2)\n"
     ]
    },
    {
     "data": {
      "text/plain": [
       "array([0., 1.])"
      ]
     },
     "execution_count": 18,
     "metadata": {},
     "output_type": "execute_result"
    }
   ],
   "source": [
    "print(\"all contexts shape:\" + str(all_contexts.shape))\n",
    "print(\"all rewards shape:\" + str(all_rewards.shape))\n",
    "all_rewards[300,:]"
   ]
  },
  {
   "cell_type": "code",
   "execution_count": 19,
   "id": "1ee8b815",
   "metadata": {},
   "outputs": [
    {
     "data": {
      "text/plain": [
       "array([[3, 2, 1, 2],\n",
       "       [1, 2, 1, 2],\n",
       "       [3, 1, 2, 1],\n",
       "       ...,\n",
       "       [4, 1, 2, 2],\n",
       "       [1, 2, 1, 1],\n",
       "       [4, 2, 3, 1]])"
      ]
     },
     "execution_count": 19,
     "metadata": {},
     "output_type": "execute_result"
    }
   ],
   "source": [
    "all_contexts"
   ]
  },
  {
   "cell_type": "code",
   "execution_count": 20,
   "id": "e1bcc75f",
   "metadata": {},
   "outputs": [
    {
     "data": {
      "text/plain": [
       "array([[0., 1.],\n",
       "       [1., 0.],\n",
       "       [0., 1.],\n",
       "       ...,\n",
       "       [1., 0.],\n",
       "       [0., 1.],\n",
       "       [0., 1.]])"
      ]
     },
     "execution_count": 20,
     "metadata": {},
     "output_type": "execute_result"
    }
   ],
   "source": [
    "all_rewards"
   ]
  },
  {
   "cell_type": "markdown",
   "id": "651aaeb3",
   "metadata": {},
   "source": [
    "### Fixed costs"
   ]
  },
  {
   "cell_type": "code",
   "execution_count": 21,
   "id": "17cac5f3",
   "metadata": {},
   "outputs": [
    {
     "data": {
      "text/plain": [
       "(10000, 4)"
      ]
     },
     "execution_count": 21,
     "metadata": {},
     "output_type": "execute_result"
    }
   ],
   "source": [
    "costs_vector = np.zeros(all_contexts.shape)\n",
    "for i in range(all_contexts.shape[0]):\n",
    "    costs_vector[i, :] = np.array([0.01]*all_contexts.shape[1])\n",
    "\n",
    "costs_vector.shape"
   ]
  },
  {
   "cell_type": "markdown",
   "id": "d9ab9d10",
   "metadata": {},
   "source": [
    "## Checking for non-stationarity\n",
    "\n",
    "We check for non-stationarity by moving a sliding window over the dataset and fitting a separate logistic regression model for each arm. This gives an array of parameters for each arm, which we plot to see if they change significantly"
   ]
  },
  {
   "cell_type": "code",
   "execution_count": 23,
   "id": "e0a38cec",
   "metadata": {},
   "outputs": [],
   "source": [
    "WINDOW_SIZE = 1000"
   ]
  },
  {
   "cell_type": "code",
   "execution_count": 24,
   "id": "08e143a2",
   "metadata": {},
   "outputs": [
    {
     "data": {
      "text/plain": [
       "(10000, 2)"
      ]
     },
     "execution_count": 24,
     "metadata": {},
     "output_type": "execute_result"
    }
   ],
   "source": [
    "all_rewards.shape"
   ]
  },
  {
   "cell_type": "code",
   "execution_count": 25,
   "id": "a41e47cd",
   "metadata": {},
   "outputs": [],
   "source": [
    "from sklearn.linear_model import LogisticRegression, LinearRegression\n",
    "\n",
    "arm_parameters = {}\n",
    "\n",
    "for a in range(all_rewards.shape[1]):\n",
    "    arm_parameters[a] = np.zeros((all_contexts.shape[0]-WINDOW_SIZE, all_contexts.shape[1]))\n",
    "    for i in range(0, all_contexts.shape[0] - WINDOW_SIZE):\n",
    "        window_contexts = all_contexts[i:i+WINDOW_SIZE, :]\n",
    "        window_rewards = all_rewards[i:i+WINDOW_SIZE, a]\n",
    "        clf = LogisticRegression().fit(window_contexts, window_rewards)\n",
    "        arm_parameters[a][i, :] = clf.coef_"
   ]
  },
  {
   "cell_type": "code",
   "execution_count": 26,
   "id": "90079f20",
   "metadata": {},
   "outputs": [
    {
     "data": {
      "image/png": "[encoded data removed]",
      "text/plain": [
       "<Figure size 936x1080 with 2 Axes>"
      ]
     },
     "metadata": {
      "needs_background": "light"
     },
     "output_type": "display_data"
    }
   ],
   "source": [
    "fig, axs = plt.subplots(len(arm_parameters), 1, figsize=(13, 15))\n",
    "\n",
    "for a in arm_parameters:\n",
    "    ax = axs[a]\n",
    "    param_matrix = arm_parameters[a]\n",
    "    for feat in range(param_matrix.shape[1]):\n",
    "        ax.plot(param_matrix[:, feat], label=f\"Feature {feat}\")\n",
    "        \n",
    "    ax.set_title(f\"Arm {a}\")\n",
    "    ax.legend()\n",
    "        \n",
    "plt.show()"
   ]
  },
  {
   "cell_type": "markdown",
   "id": "ffbc4efa",
   "metadata": {},
   "source": [
    "$E[r | x]$ \n",
    "\\\n",
    "$E[r]$"
   ]
  },
  {
   "cell_type": "code",
   "execution_count": 27,
   "id": "a960e496",
   "metadata": {},
   "outputs": [
    {
     "data": {
      "text/plain": [
       "2"
      ]
     },
     "execution_count": 27,
     "metadata": {},
     "output_type": "execute_result"
    }
   ],
   "source": [
    "len(arm_parameters)"
   ]
  },
  {
   "cell_type": "code",
   "execution_count": 28,
   "id": "83ed3ac2",
   "metadata": {},
   "outputs": [],
   "source": [
    "clf = LogisticRegression(random_state=42).fit(all_contexts, all_rewards[:, 0])"
   ]
  },
  {
   "cell_type": "code",
   "execution_count": 29,
   "id": "c5357aa5",
   "metadata": {},
   "outputs": [
    {
     "data": {
      "text/plain": [
       "array([[-0.73640947, -0.47947979, -0.17766745,  0.53832573]])"
      ]
     },
     "execution_count": 29,
     "metadata": {},
     "output_type": "execute_result"
    }
   ],
   "source": [
    "clf.coef_"
   ]
  },
  {
   "cell_type": "code",
   "execution_count": 30,
   "id": "72b73673",
   "metadata": {},
   "outputs": [],
   "source": [
    "clf = LogisticRegression(random_state=42).fit(all_contexts, all_rewards[:, 1])"
   ]
  },
  {
   "cell_type": "code",
   "execution_count": 31,
   "id": "9e4572a0",
   "metadata": {},
   "outputs": [
    {
     "data": {
      "text/plain": [
       "array([[ 0.73640947,  0.47947979,  0.17766745, -0.53832573]])"
      ]
     },
     "execution_count": 31,
     "metadata": {},
     "output_type": "execute_result"
    }
   ],
   "source": [
    "clf.coef_"
   ]
  },
  {
   "cell_type": "markdown",
   "id": "e9ed1fc2",
   "metadata": {},
   "source": [
    "## Algorithm evaluation"
   ]
  },
  {
   "cell_type": "code",
   "execution_count": 32,
   "id": "dfd79ebc",
   "metadata": {},
   "outputs": [],
   "source": [
    "NUM_OF_TRIALS = 10000"
   ]
  },
  {
   "cell_type": "code",
   "execution_count": 33,
   "id": "36b4816b",
   "metadata": {},
   "outputs": [],
   "source": [
    "np.random.seed(42)"
   ]
  },
  {
   "cell_type": "code",
   "execution_count": 34,
   "id": "93576046",
   "metadata": {},
   "outputs": [
    {
     "name": "stdout",
     "output_type": "stream",
     "text": [
      "Random policy\n",
      "Total gain: 5021.0\n",
      "\tTotal reward: 5021.0\n",
      "\tTotal cost: 0\n",
      "Execution time: 0.1s\n"
     ]
    }
   ],
   "source": [
    "p_random = algorithms.RandomPolicy()\n",
    "gain_random = evaluation.evaluate_on_synthetic_data(\n",
    "    p_random,\n",
    "    all_contexts,\n",
    "    all_rewards,\n",
    "    costs_vector,\n",
    "    stop_after=NUM_OF_TRIALS,\n",
    ")"
   ]
  },
  {
   "cell_type": "code",
   "execution_count": 35,
   "id": "4a9be179",
   "metadata": {},
   "outputs": [
    {
     "name": "stdout",
     "output_type": "stream",
     "text": [
      "E-greedy(epsilon=0.1)\n",
      "Total gain: 5908.0\n",
      "\tTotal reward: 5908.0\n",
      "\tTotal cost: 0\n",
      "Execution time: 0.1s\n"
     ]
    }
   ],
   "source": [
    "egreedy = algorithms.EpsilonGreedy(epsilon=0.1, n_arms=all_rewards.shape[1])\n",
    "\n",
    "gain_egreedy = evaluation.evaluate_on_synthetic_data(\n",
    "    egreedy,\n",
    "    all_contexts,\n",
    "    all_rewards,\n",
    "    costs_vector,\n",
    "    stop_after=NUM_OF_TRIALS,\n",
    ")"
   ]
  },
  {
   "cell_type": "code",
   "execution_count": 36,
   "id": "1643bd80",
   "metadata": {},
   "outputs": [
    {
     "name": "stdout",
     "output_type": "stream",
     "text": [
      "UCB1 (α=0.15)\n",
      "Total gain: 5997.0\n",
      "\tTotal reward: 5997.0\n",
      "\tTotal cost: 0\n",
      "Execution time: 0.1s\n"
     ]
    }
   ],
   "source": [
    "ucb_alg = algorithms.UCB1(\n",
    "        n_trials=NUM_OF_TRIALS,\n",
    "        n_arms=all_rewards.shape[1],\n",
    "        alpha=0.15,\n",
    "    )\n",
    "\n",
    "gain_ucb = evaluation.evaluate_on_synthetic_data(\n",
    "    ucb_alg,\n",
    "    all_contexts,\n",
    "    all_rewards,\n",
    "    costs_vector,\n",
    "    stop_after=NUM_OF_TRIALS,\n",
    ")"
   ]
  },
  {
   "cell_type": "code",
   "execution_count": 37,
   "id": "7bb43c4c",
   "metadata": {},
   "outputs": [
    {
     "name": "stdout",
     "output_type": "stream",
     "text": [
      "LinUCB (alpha=0.25)\n",
      "Total gain: 6213.0000000003265\n",
      "\tTotal reward: 6613.0\n",
      "\tTotal cost: 400.000000000057\n",
      "Execution time: 1.2s\n"
     ]
    }
   ],
   "source": [
    "linucb = algorithms.LinUCB(\n",
    "    context_dimension=all_contexts.shape[1],\n",
    "    n_arms=all_rewards.shape[1],\n",
    "    alpha=0.25,\n",
    ")\n",
    "gain_linucb = evaluation.evaluate_on_synthetic_data(\n",
    "    linucb,\n",
    "    all_contexts,\n",
    "    all_rewards,\n",
    "    costs_vector,\n",
    "    stop_after=NUM_OF_TRIALS,\n",
    ")"
   ]
  },
  {
   "cell_type": "code",
   "execution_count": 38,
   "id": "e15c05b0",
   "metadata": {},
   "outputs": [
    {
     "name": "stdout",
     "output_type": "stream",
     "text": [
      "PSLinUCB (alpha=0.2, omega=250, delta=0.03)\n",
      "Total gain: 6165.0000000003265\n",
      "\tTotal reward: 6565.0\n",
      "\tTotal cost: 400.000000000057\n",
      "Execution time: 2.1s\n"
     ]
    }
   ],
   "source": [
    "ps_linucb = algorithms.PSLinUCB(\n",
    "    context_dimension=all_contexts.shape[1],\n",
    "    n_arms=all_rewards.shape[1],\n",
    "    alpha=0.2,\n",
    "    omega=250,\n",
    "    delta=0.03,\n",
    ")\n",
    "\n",
    "\n",
    "gain_pslinucb = evaluation.evaluate_on_synthetic_data(\n",
    "    ps_linucb,\n",
    "    all_contexts,\n",
    "    all_rewards,\n",
    "    costs_vector,\n",
    "    stop_after=NUM_OF_TRIALS,\n",
    ")\n",
    "change_points = ps_linucb.change_points"
   ]
  },
  {
   "cell_type": "code",
   "execution_count": 39,
   "id": "81bee4ac",
   "metadata": {},
   "outputs": [
    {
     "name": "stdout",
     "output_type": "stream",
     "text": [
      "Took 0.015676021575927734 seconds\n",
      "Trial 0, time 2022-03-31 15:16:29.932396\n",
      "Trial 500, time 2022-03-31 15:16:41.351933\n",
      "Trial 1000, time 2022-03-31 15:16:41.844346\n",
      "Trial 1500, time 2022-03-31 15:16:42.141108\n",
      "Trial 2000, time 2022-03-31 15:16:42.483804\n",
      "Trial 2500, time 2022-03-31 15:16:42.678088\n",
      "Trial 3000, time 2022-03-31 15:16:42.925571\n",
      "Trial 3500, time 2022-03-31 15:16:43.052636\n",
      "Trial 4000, time 2022-03-31 15:16:43.306207\n",
      "Trial 4500, time 2022-03-31 15:16:43.430632\n",
      "Trial 5000, time 2022-03-31 15:16:43.562648\n",
      "Trial 5500, time 2022-03-31 15:16:43.690153\n",
      "Trial 6000, time 2022-03-31 15:16:44.069099\n",
      "Trial 6500, time 2022-03-31 15:16:44.214661\n",
      "Trial 7000, time 2022-03-31 15:16:44.349247\n",
      "Trial 7500, time 2022-03-31 15:16:44.475797\n",
      "Trial 8000, time 2022-03-31 15:16:44.617102\n",
      "Trial 8500, time 2022-03-31 15:16:44.762447\n",
      "Trial 9000, time 2022-03-31 15:16:44.872344\n",
      "Trial 9500, time 2022-03-31 15:16:58.679748\n",
      "SimOOS (beta=0.2, delta=0.3)\n",
      "Total gain: 4828.079999999385\n",
      "\tTotal reward: 5135.0\n",
      "\tTotal cost: 306.9200000000027\n",
      "Execution time: 34.6s\n",
      "Took 34.62034893035889 seconds\n"
     ]
    }
   ],
   "source": [
    "s = time.time()\n",
    "p_simoos = algorithms.SimOOSAlgorithm(\n",
    "    all_contexts=all_contexts, \n",
    "    number_of_actions=all_rewards.shape[1],\n",
    "    max_no_red_context=all_contexts.shape[1],\n",
    "    beta_SimOOS=0.2,\n",
    "    delta_SimOOS=0.3,\n",
    ")\n",
    "print(f\"Took {time.time() - s} seconds\")\n",
    "\n",
    "import warnings\n",
    "with warnings.catch_warnings():\n",
    "    warnings.simplefilter(\"ignore\")\n",
    "    s = time.time()\n",
    "    gain_simoos = evaluation.evaluate_on_synthetic_data(\n",
    "        p_simoos,\n",
    "        all_contexts[:NUM_OF_TRIALS],\n",
    "        all_rewards[:NUM_OF_TRIALS],\n",
    "        costs_vector[:NUM_OF_TRIALS],\n",
    "        stop_after=NUM_OF_TRIALS,\n",
    "    )\n",
    "    print(f\"Took {time.time() - s} seconds\")\n"
   ]
  },
  {
   "cell_type": "code",
   "execution_count": 40,
   "id": "9a488477",
   "metadata": {},
   "outputs": [
    {
     "name": "stdout",
     "output_type": "stream",
     "text": [
      "Took 0.010039806365966797 seconds\n",
      "Round 500, time 2022-03-31 15:18:09.085774\n",
      "Round 1000, time 2022-03-31 15:19:50.086949\n",
      "Round 1500, time 2022-03-31 15:21:47.742497\n",
      "Round 2000, time 2022-03-31 15:23:41.243236\n",
      "Round 2500, time 2022-03-31 15:25:37.088292\n",
      "Round 3000, time 2022-03-31 15:27:30.376992\n",
      "Round 3500, time 2022-03-31 15:29:26.276942\n",
      "Round 4000, time 2022-03-31 15:31:29.478193\n",
      "Round 4500, time 2022-03-31 15:33:35.016170\n",
      "Round 5000, time 2022-03-31 15:35:27.528029\n",
      "Round 5500, time 2022-03-31 15:37:21.942838\n",
      "Round 6000, time 2022-03-31 15:39:10.998369\n",
      "Round 6500, time 2022-03-31 15:40:55.982530\n",
      "Round 7000, time 2022-03-31 15:42:40.558937\n",
      "Round 7500, time 2022-03-31 15:44:23.825024\n",
      "Round 8000, time 2022-03-31 15:46:11.266983\n",
      "Round 8500, time 2022-03-31 15:47:58.313353\n",
      "Round 9000, time 2022-03-31 15:49:45.467387\n",
      "Round 9500, time 2022-03-31 15:51:33.245350\n",
      "Algorithm1 (beta=1.0, delta=0.1, w=1000)\n",
      "Total gain: 5733.140000000007\n",
      "\tTotal reward: 5743.0\n",
      "\tTotal cost: 9.85999999999986\n",
      "Execution time: 36.3m\n",
      "Took 2179.861064195633 seconds\n"
     ]
    }
   ],
   "source": [
    "s = time.time()\n",
    "p_alg1 = algorithms.Algorithm1(\n",
    "    all_contexts=all_contexts, \n",
    "    number_of_actions=all_rewards.shape[1],\n",
    "    max_no_red_context=all_contexts.shape[1],\n",
    "    beta=1.0,\n",
    "    delta=0.1,\n",
    "    window_length=1000,\n",
    ")\n",
    "print(f\"Took {time.time() - s} seconds\")\n",
    "\n",
    "import warnings\n",
    "with warnings.catch_warnings():\n",
    "    warnings.simplefilter(\"ignore\")\n",
    "    s = time.time()\n",
    "    gain_alg1 = evaluation.evaluate_on_synthetic_data(\n",
    "        p_alg1,\n",
    "        all_contexts[:NUM_OF_TRIALS],\n",
    "        all_rewards[:NUM_OF_TRIALS],\n",
    "        costs_vector[:NUM_OF_TRIALS],\n",
    "        stop_after=NUM_OF_TRIALS,\n",
    "    )\n",
    "    print(f\"Took {time.time() - s} seconds\")\n"
   ]
  },
  {
   "cell_type": "code",
   "execution_count": 41,
   "id": "01ae5d6c",
   "metadata": {},
   "outputs": [],
   "source": [
    "def plot_gains(gain_dict, change_points=()):\n",
    "    fig, ax = plt.subplots(1,1, figsize=(11, 6));\n",
    "        \n",
    "    max_vline=0\n",
    "    \n",
    "    ind_to_params = {\n",
    "        # ind: (mark, color)\n",
    "        0: ('x', 'k'),\n",
    "        1: ('o','g'),\n",
    "        2: ('s','r'),\n",
    "        3: ('^','blue'),\n",
    "        4: ('d','olive'),\n",
    "        5: ('>', 'm'),\n",
    "        6: ('*', 'c'),\n",
    "    }\n",
    "    \n",
    "    sorted_gain_dict = {\n",
    "        k:v for k,v in sorted(gain_dict.items(), key=lambda x: x[1][-1], reverse=True)\n",
    "    }\n",
    "    \n",
    "    for ind, (label, gain) in enumerate(sorted_gain_dict.items()):\n",
    "        \n",
    "        mark, color = ind_to_params[ind]\n",
    "        ax.plot(gain, label=label, linestyle=':', marker=mark, markevery=750, fillstyle='none', color=color)\n",
    "        max_vline=max(max_vline, max(gain))\n",
    "    \n",
    "    extraticks = [1, 500, 1000]\n",
    "    plt.xticks(list(plt.xticks()[0][2:-1]) + extraticks, rotation=35, fontsize=16)\n",
    "    plt.yticks(fontsize=16)\n",
    "    \n",
    "    ax.set_xlabel('Time step', fontsize=20)\n",
    "    ax.set_ylabel('Cumulative gain', fontsize=20)\n",
    "    \n",
    "\n",
    "\n",
    "    plt.legend(prop={'size': 16});\n",
    "    plt.show();"
   ]
  },
  {
   "cell_type": "code",
   "execution_count": 42,
   "id": "e84c60a8",
   "metadata": {},
   "outputs": [
    {
     "data": {
      "image/png": "[encoded data removed]",
      "text/plain": [
       "<Figure size 792x432 with 1 Axes>"
      ]
     },
     "metadata": {
      "needs_background": "light"
     },
     "output_type": "display_data"
    }
   ],
   "source": [
    "plot_gains({\n",
    "    'Random': gain_random,\n",
    "    'E-greedy': gain_egreedy,\n",
    "    'UCB1': gain_ucb,\n",
    "    'LinUCB': gain_linucb,\n",
    "    'PS-LinUCB': gain_pslinucb,\n",
    "    'SimOOS': gain_simoos,\n",
    "    'Algorithm1': gain_alg1,\n",
    "},\n",
    ")\n"
   ]
  },
  {
   "cell_type": "code",
   "execution_count": null,
   "id": "2f564148",
   "metadata": {},
   "outputs": [],
   "source": []
  }
 ],
 "metadata": {
  "kernelspec": {
   "display_name": "Python 3 (ipykernel)",
   "language": "python",
   "name": "python3"
  },
  "language_info": {
   "codemirror_mode": {
    "name": "ipython",
    "version": 3
   },
   "file_extension": ".py",
   "mimetype": "text/x-python",
   "name": "python",
   "nbconvert_exporter": "python",
   "pygments_lexer": "ipython3",
   "version": "3.10.2"
  }
 },
 "nbformat": 4,
 "nbformat_minor": 5
}
