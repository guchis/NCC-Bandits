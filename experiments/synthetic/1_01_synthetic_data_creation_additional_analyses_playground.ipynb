{
 "cells": [
  {
   "cell_type": "markdown",
   "id": "45f784c1",
   "metadata": {},
   "source": [
    "## Creating context vectors"
   ]
  },
  {
   "cell_type": "code",
   "execution_count": 5,
   "id": "cceecd5a",
   "metadata": {},
   "outputs": [],
   "source": [
    "def categorical(values, distribution, length):\n",
    "    assert len(values) == len(distribution)\n",
    "    values = np.array(values)\n",
    "    sample = np.random.multinomial(1, distribution, size=(length,))\n",
    "    indices = np.argmax(sample, axis=1)\n",
    "    return values[indices]"
   ]
  },
  {
   "cell_type": "code",
   "execution_count": 6,
   "id": "db875142",
   "metadata": {},
   "outputs": [
    {
     "data": {
      "text/plain": [
       "array([  6,   7, 120,   7,   5,   5,   7])"
      ]
     },
     "execution_count": 6,
     "metadata": {},
     "output_type": "execute_result"
    }
   ],
   "source": [
    "values = [5,6,7,120]\n",
    "distribution = [0.2, 0.1, 0.4, 0.3]\n",
    "categorical(values, distribution, length=7)"
   ]
  },
  {
   "cell_type": "code",
   "execution_count": 7,
   "id": "15b85e4f",
   "metadata": {},
   "outputs": [],
   "source": [
    "feature_config = {\n",
    "    0: {\n",
    "        'values': [1,2,3,4],\n",
    "        'distribution': [0.25]*4,\n",
    "    },\n",
    "    1: {\n",
    "        'values': [1, 2],\n",
    "        'distribution': [0.2, 0.8],\n",
    "    },\n",
    "    2: {\n",
    "        'values': [1, 2, 3],\n",
    "        'distribution': [ 0.6, 0.3, 0.1],\n",
    "    },\n",
    "    3: {\n",
    "        'values': [1,2,3,4],\n",
    "        'distribution': [0.1, 0.2, 0.3, 0.4],\n",
    "    },\n",
    "    \n",
    "    4: {\n",
    "        'values': [1,2,3,4,5],\n",
    "        'distribution': [0.15, 0.2, 0.3, 0.2, 0.15],\n",
    "    },\n",
    "    5: {\n",
    "        'values': [1,2],\n",
    "        'distribution': [0.1, 0.9],\n",
    "    },\n",
    "    6: {\n",
    "        'values': [1,2,3,4],\n",
    "        'distribution': [0.25]*4,\n",
    "    },\n",
    "    7: {\n",
    "        'values': [1,2,3,4],\n",
    "        'distribution': [0.25]*4,\n",
    "    },\n",
    "    8: {\n",
    "        'values': [1,2,3,4],\n",
    "        'distribution': [0.4, 0.3, 0.2, 0.1],\n",
    "    },\n",
    "    9: {\n",
    "        'values': [1, 2,3,4,5,6,7,8,9,10,11],\n",
    "        'distribution': [0.01, 0.03, 0.08, 0.12, 0.16, 0.20, 0.16, 0.12 ,0.08, 0.03, 0.01],\n",
    "    },\n",
    "}"
   ]
  },
  {
   "cell_type": "code",
   "execution_count": 8,
   "id": "6f73024a",
   "metadata": {},
   "outputs": [],
   "source": [
    "contexts = np.zeros((TIME_POINTS, NUM_FEATURES))\n",
    "\n",
    "for i in range(NUM_FEATURES):\n",
    "    values = feature_config[i]['values']\n",
    "    distribution = feature_config[i]['distribution']\n",
    "    contexts[:, i] = categorical(values, distribution, length=TIME_POINTS)"
   ]
  },
  {
   "cell_type": "code",
   "execution_count": 9,
   "id": "39b5cde6",
   "metadata": {},
   "outputs": [
    {
     "data": {
      "text/plain": [
       "(array([[4., 2., 2., 4., 4.],\n",
       "        [4., 2., 1., 3., 4.],\n",
       "        [4., 1., 1., 3., 5.],\n",
       "        ...,\n",
       "        [2., 2., 1., 4., 2.],\n",
       "        [1., 2., 1., 4., 3.],\n",
       "        [2., 2., 1., 4., 5.]]),\n",
       " (10000, 5))"
      ]
     },
     "execution_count": 9,
     "metadata": {},
     "output_type": "execute_result"
    }
   ],
   "source": [
    "contexts, contexts.shape"
   ]
  },
  {
   "cell_type": "markdown",
   "id": "0ae58152",
   "metadata": {},
   "source": [
    "### Visualizing context features"
   ]
  },
  {
   "cell_type": "code",
   "execution_count": 10,
   "id": "9d72ede9",
   "metadata": {},
   "outputs": [
    {
     "data": {
      "image/png": "[encoded data removed]",
      "text/plain": [
       "<Figure size 1152x432 with 6 Axes>"
      ]
     },
     "metadata": {
      "needs_background": "light"
     },
     "output_type": "display_data"
    }
   ],
   "source": [
    "fig, axs = plt.subplots(2, math.ceil(NUM_FEATURES/2), figsize=(16,6))\n",
    "for i, ax in zip(range(NUM_FEATURES), axs.flatten()):\n",
    "    ax.hist(contexts[:, i])\n",
    "    ax.set_xlabel(f\"Feature {i}\")\n",
    "fig.suptitle('Feature distributions')\n",
    "plt.tight_layout()"
   ]
  },
  {
   "cell_type": "markdown",
   "id": "154e91f6",
   "metadata": {},
   "source": [
    "## Creating rewards"
   ]
  },
  {
   "cell_type": "code",
   "execution_count": 19,
   "id": "78507e5f",
   "metadata": {},
   "outputs": [],
   "source": [
    "rewards = np.zeros((TIME_POINTS, N_ARMS))"
   ]
  },
  {
   "cell_type": "code",
   "execution_count": 20,
   "id": "98808f63",
   "metadata": {},
   "outputs": [],
   "source": [
    "slices = [\n",
    "    slice(0,500),\n",
    "    slice(500,1000),\n",
    "    slice(1000,2000),\n",
    "    slice(2000,4000),\n",
    "    slice(4000,6000),\n",
    "    slice(6000,8000),\n",
    "    slice(8000,10000),\n",
    "]"
   ]
  },
  {
   "cell_type": "code",
   "execution_count": 21,
   "id": "685e568f",
   "metadata": {},
   "outputs": [],
   "source": [
    "HIGH_REWARD_RANGE = [0.6, 0.99]\n",
    "LOW_REWARD_RANGE = [0.01, 0.45]"
   ]
  },
  {
   "cell_type": "code",
   "execution_count": 22,
   "id": "bffb3d02",
   "metadata": {},
   "outputs": [],
   "source": [
    "def sigmoid(x):\n",
    "  return 1 / (1 + np.exp(-x))"
   ]
  },
  {
   "cell_type": "code",
   "execution_count": 23,
   "id": "86354fd6",
   "metadata": {},
   "outputs": [
    {
     "name": "stdout",
     "output_type": "stream",
     "text": [
      "Slice 0:\n",
      "  Arm 0: p=0.65, mean reward=0.64   reward estimated by linear regression 0.63\n",
      "  Arm 1: p=0.25, mean reward=0.22   reward estimated by linear regression 0.22\n",
      "  Arm 2: p=0.05, mean reward=0.06   reward estimated by linear regression 0.06\n",
      "  Arm 3: p=0.39, mean reward=0.36   reward estimated by linear regression 0.35\n",
      "  Arm 4: p=0.08, mean reward=0.07   reward estimated by linear regression 0.06\n",
      "Slice 1:\n",
      "  Arm 0: p=0.27, mean reward=0.28   reward estimated by linear regression 0.27\n",
      "  Arm 1: p=0.70, mean reward=0.66   reward estimated by linear regression 0.65\n",
      "  Arm 2: p=0.24, mean reward=0.22   reward estimated by linear regression 0.22\n",
      "  Arm 3: p=0.30, mean reward=0.32   reward estimated by linear regression 0.31\n",
      "  Arm 4: p=0.28, mean reward=0.26   reward estimated by linear regression 0.26\n",
      "Slice 2:\n",
      "  Arm 0: p=0.02, mean reward=0.02   reward estimated by linear regression 0.02\n",
      "  Arm 1: p=0.11, mean reward=0.11   reward estimated by linear regression 0.10\n",
      "  Arm 2: p=0.76, mean reward=0.76   reward estimated by linear regression 0.75\n",
      "  Arm 3: p=0.35, mean reward=0.35   reward estimated by linear regression 0.34\n",
      "  Arm 4: p=0.43, mean reward=0.45   reward estimated by linear regression 0.44\n",
      "Slice 3:\n",
      "  Arm 0: p=0.40, mean reward=0.41   reward estimated by linear regression 0.40\n",
      "  Arm 1: p=0.05, mean reward=0.06   reward estimated by linear regression 0.06\n",
      "  Arm 2: p=0.25, mean reward=0.23   reward estimated by linear regression 0.23\n",
      "  Arm 3: p=0.61, mean reward=0.61   reward estimated by linear regression 0.60\n",
      "  Arm 4: p=0.30, mean reward=0.29   reward estimated by linear regression 0.28\n",
      "Slice 4:\n",
      "  Arm 0: p=0.18, mean reward=0.17   reward estimated by linear regression 0.17\n",
      "  Arm 1: p=0.32, mean reward=0.29   reward estimated by linear regression 0.29\n",
      "  Arm 2: p=0.38, mean reward=0.39   reward estimated by linear regression 0.38\n",
      "  Arm 3: p=0.18, mean reward=0.18   reward estimated by linear regression 0.18\n",
      "  Arm 4: p=0.83, mean reward=0.83   reward estimated by linear regression 0.81\n",
      "Slice 5:\n",
      "  Arm 0: p=0.95, mean reward=0.95   reward estimated by linear regression 0.93\n",
      "  Arm 1: p=0.02, mean reward=0.02   reward estimated by linear regression 0.02\n",
      "  Arm 2: p=0.25, mean reward=0.24   reward estimated by linear regression 0.23\n",
      "  Arm 3: p=0.15, mean reward=0.14   reward estimated by linear regression 0.14\n",
      "  Arm 4: p=0.29, mean reward=0.29   reward estimated by linear regression 0.28\n",
      "Slice 6:\n",
      "  Arm 0: p=0.28, mean reward=0.29   reward estimated by linear regression 0.28\n",
      "  Arm 1: p=0.73, mean reward=0.70   reward estimated by linear regression 0.69\n",
      "  Arm 2: p=0.21, mean reward=0.22   reward estimated by linear regression 0.21\n",
      "  Arm 3: p=0.28, mean reward=0.28   reward estimated by linear regression 0.27\n",
      "  Arm 4: p=0.28, mean reward=0.29   reward estimated by linear regression 0.28\n"
     ]
    },
    {
     "name": "stderr",
     "output_type": "stream",
     "text": [
      "/var/folders/_g/d2bwsxss6v9_1830lrh6wyth0000gn/T/ipykernel_44880/492892621.py:32: FutureWarning: `rcond` parameter will change to the default of machine precision times ``max(M, N)`` where M and N are the input matrix dimensions.\n",
      "To use the future default and silence this warning we advise to pass `rcond=None`, to keep using the old, explicitly pass `rcond=-1`.\n",
      "  linreg_theta,res,rank,s = np.linalg.lstsq(a=context_slice, b=slice_rewards)\n"
     ]
    }
   ],
   "source": [
    "# Here reward is stationary for given slice, arm.\n",
    "# So piece-wise stationary for a given arm, not depending on context.\n",
    "\n",
    "mean_rewards = np.zeros(rewards.shape)\n",
    "\n",
    "\n",
    "for i, interval_slice in enumerate(slices):\n",
    "    context_slice = contexts[interval_slice, :]\n",
    "    slice_len = context_slice.shape[0]\n",
    "    print(f\"Slice {i}:\")\n",
    "    high_reward_arm = np.random.choice(N_ARMS)\n",
    "    \n",
    "    high_reward_arm = i % N_ARMS\n",
    "    for arm in range(N_ARMS):\n",
    "\n",
    "        # Use p from config (reward range is config)\n",
    "        if arm == high_reward_arm:\n",
    "            reward_range = HIGH_REWARD_RANGE\n",
    "        else:\n",
    "            reward_range = LOW_REWARD_RANGE\n",
    "        \n",
    "        p = np.random.uniform(reward_range[0], reward_range[1])\n",
    "\n",
    "        # Sample rewards from the obtained distribution.\n",
    "        slice_rewards = np.random.binomial(n=1, p=p, size=(slice_len,))\n",
    "        rewards[interval_slice, arm] = slice_rewards\n",
    "        \n",
    "        # Check that thetas found by linear regression give estimation of expected reward close to\n",
    "        # true expected reward. \n",
    "        \n",
    "        # thetas found by solving linear regression problem\n",
    "        linreg_theta,res,rank,s = np.linalg.lstsq(a=context_slice, b=slice_rewards)\n",
    "        \n",
    "        estimated_reward = np.mean(context_slice @ linreg_theta, axis=0)\n",
    "        \n",
    "        print(\n",
    "            f\"  Arm {arm}: p={np.mean(p):.2f}, mean reward={np.mean(slice_rewards):.2f}\",\n",
    "            f\"  reward estimated by linear regression {estimated_reward:.2f}\", \n",
    "        )\n",
    "        \n",
    "        # for visualization\n",
    "        mean_rewards[interval_slice, arm] = np.ones(slice_rewards.shape) * np.mean(slice_rewards)\n",
    "\n",
    "    "
   ]
  },
  {
   "cell_type": "markdown",
   "id": "35fd09ca",
   "metadata": {},
   "source": [
    "### Visualising rewards"
   ]
  },
  {
   "cell_type": "code",
   "execution_count": 24,
   "id": "52f758a3",
   "metadata": {},
   "outputs": [
    {
     "data": {
      "image/png": "[encoded data removed]",
      "text/plain": [
       "<Figure size 792x360 with 1 Axes>"
      ]
     },
     "metadata": {
      "needs_background": "light"
     },
     "output_type": "display_data"
    }
   ],
   "source": [
    "fig, ax = plt.subplots(1,1, figsize=(11,5))\n",
    "for arm in range(N_ARMS):\n",
    "    ax.plot(mean_rewards[:, arm], label=f\"Arm {arm+1}\", linestyle=':', linewidth=5)\n",
    "    \n",
    "\n",
    "    \n",
    "extraticks = [1, 500, 1000]\n",
    "plt.xticks(list(plt.xticks()[0][2:-1]) + extraticks, rotation=35, fontsize=16)\n",
    "plt.yticks(fontsize=16)\n",
    "\n",
    "ax.set_xlabel('Time step', fontsize=20)\n",
    "ax.set_ylabel('Mean reward', fontsize=20)\n",
    "\n",
    "lgd = ax.legend(loc=9, ncol=5, bbox_to_anchor=(0.5, 1.132), prop={'size': 15})\n",
    "plt.savefig('mean_rewards.pdf', dpi=300, bbox_extra_artists=(lgd,), bbox_inches='tight')\n",
    "\n",
    "\n",
    "plt.show()\n"
   ]
  },
  {
   "cell_type": "code",
   "execution_count": null,
   "id": "8b2acd80",
   "metadata": {},
   "outputs": [],
   "source": []
  },
  {
   "cell_type": "code",
   "execution_count": null,
   "id": "7547af0c",
   "metadata": {},
   "outputs": [],
   "source": []
  },
  {
   "cell_type": "markdown",
   "id": "9a5edd55",
   "metadata": {},
   "source": [
    "### Additional analyses on the created synthetic dataset\n",
    "\n",
    "This notebook loads data saved at the end of 1_synthetic_data_creation.ipynb.\n",
    "Please run this only after running that notebook till the end."
   ]
  },
  {
   "cell_type": "code",
   "execution_count": null,
   "id": "ce46c980",
   "metadata": {},
   "outputs": [],
   "source": [
    "import os\n",
    "os.chdir('../..')\n",
    "os.getcwd()"
   ]
  },
  {
   "cell_type": "code",
   "execution_count": null,
   "id": "847e2b1e",
   "metadata": {},
   "outputs": [],
   "source": [
    "%load_ext autoreload\n",
    "%autoreload 2\n",
    "import numpy as np\n",
    "import matplotlib.pyplot as plt\n",
    "import time\n",
    "import math\n",
    "\n",
    "import costs\n",
    "import algorithms\n",
    "import evaluation\n",
    "from plotting.costs import plot_costs"
   ]
  },
  {
   "cell_type": "code",
   "execution_count": null,
   "id": "74c31c3a",
   "metadata": {},
   "outputs": [],
   "source": [
    "# Set random seeds for reproducibility\n",
    "np.random.seed(42)"
   ]
  },
  {
   "cell_type": "markdown",
   "id": "dec3c5d0",
   "metadata": {},
   "source": [
    "## Load the saved dataset"
   ]
  },
  {
   "cell_type": "code",
   "execution_count": null,
   "id": "991ad691",
   "metadata": {},
   "outputs": [],
   "source": [
    "import pickle\n",
    "\n",
    "with open('dataset/synthetic/context_dependent.pickle', 'rb') as f:\n",
    "    data = pickle.load(f)\n",
    "    \n",
    "contexts, rewards, costs_vector = data"
   ]
  },
  {
   "cell_type": "code",
   "execution_count": null,
   "id": "058f2f63",
   "metadata": {},
   "outputs": [],
   "source": [
    "TIME_POINTS = contexts.shape[0]"
   ]
  },
  {
   "cell_type": "code",
   "execution_count": 53,
   "id": "07aa807d",
   "metadata": {},
   "outputs": [],
   "source": [
    "NUM_FEATURES = contexts.shape[1]"
   ]
  },
  {
   "cell_type": "code",
   "execution_count": null,
   "id": "3a52108d",
   "metadata": {},
   "outputs": [],
   "source": [
    "N_ARMS = rewards.shape[1]"
   ]
  },
  {
   "cell_type": "code",
   "execution_count": null,
   "id": "dee167f0",
   "metadata": {},
   "outputs": [],
   "source": [
    "TIME_POINTS, NUM_FEATURES, N_ARMS"
   ]
  },
  {
   "cell_type": "markdown",
   "id": "a1c2b780",
   "metadata": {},
   "source": [
    "## Visualize contexts and rewards"
   ]
  },
  {
   "cell_type": "code",
   "execution_count": null,
   "id": "4336b321",
   "metadata": {},
   "outputs": [],
   "source": [
    "fig, axs = plt.subplots(2, math.ceil(NUM_FEATURES/2), figsize=(16,6))\n",
    "for i, ax in zip(range(NUM_FEATURES), axs.flatten()):\n",
    "    ax.hist(contexts[:, i])\n",
    "    ax.set_xlabel(f\"Feature {i}\")\n",
    "fig.suptitle('Feature distributions')\n",
    "plt.tight_layout()"
   ]
  },
  {
   "cell_type": "code",
   "execution_count": null,
   "id": "d91cf786",
   "metadata": {},
   "outputs": [],
   "source": [
    "fig, ax = plt.subplots(1,1, figsize=(11,5))\n",
    "for arm in range(N_ARMS):\n",
    "    ax.plot(mean_rewards[:, arm], label=f\"Arm {arm+1}\", linestyle=':', linewidth=5)\n",
    "    \n",
    "\n",
    "    \n",
    "extraticks = [1, 500, 1000]\n",
    "plt.xticks(list(plt.xticks()[0][2:-1]) + extraticks, rotation=35, fontsize=16)\n",
    "plt.yticks(fontsize=16)\n",
    "\n",
    "ax.set_xlabel('Time step', fontsize=20)\n",
    "ax.set_ylabel('Mean reward', fontsize=20)\n",
    "\n",
    "lgd = ax.legend(loc=9, ncol=5, bbox_to_anchor=(0.5, 1.132), prop={'size': 15})\n",
    "plt.savefig('mean_rewards.pdf', dpi=300, bbox_extra_artists=(lgd,), bbox_inches='tight')\n",
    "\n",
    "\n",
    "plt.show()\n"
   ]
  },
  {
   "cell_type": "code",
   "execution_count": null,
   "id": "30eca613",
   "metadata": {},
   "outputs": [],
   "source": [
    "contexts.shape"
   ]
  },
  {
   "cell_type": "code",
   "execution_count": 25,
   "id": "a369228f",
   "metadata": {},
   "outputs": [
    {
     "data": {
      "text/plain": [
       "(10000, 5)"
      ]
     },
     "execution_count": 25,
     "metadata": {},
     "output_type": "execute_result"
    }
   ],
   "source": [
    "rewards.shape"
   ]
  },
  {
   "cell_type": "code",
   "execution_count": 26,
   "id": "edf7a2c1",
   "metadata": {},
   "outputs": [
    {
     "data": {
      "text/plain": [
       "(10000, 5)"
      ]
     },
     "execution_count": 26,
     "metadata": {},
     "output_type": "execute_result"
    }
   ],
   "source": [
    "costs_vector.shape"
   ]
  },
  {
   "cell_type": "markdown",
   "id": "cdc222f6",
   "metadata": {},
   "source": [
    "## Calculating performance of contextual algorithms\n",
    "\n",
    "We define the performance of an algorithm as the total\n",
    "obtained rewards, i.e., the number of times that the optimal\n",
    "action is chosen, divided by the total cost paid to observe\n",
    "the features’ states.\n",
    "\n",
    "We calculate performance for various cost ranges varying the upper border of the range of cost means."
   ]
  },
  {
   "cell_type": "code",
   "execution_count": 29,
   "id": "190f99d4",
   "metadata": {},
   "outputs": [],
   "source": [
    "NUM_OF_TRIALS = 10000"
   ]
  },
  {
   "cell_type": "code",
   "execution_count": 30,
   "id": "1520235c",
   "metadata": {},
   "outputs": [],
   "source": [
    "def get_costs_vector(max_cost_mean):\n",
    "    # Mean of gaussian distribution random in interval [0, max_cost_mean] \n",
    "    interval_means = [np.random.uniform(0, max_cost_mean, size=(NUM_FEATURES,)) for i in range(5)]\n",
    "    # Fixed std\n",
    "    interval_stds = [[0.0005]*NUM_FEATURES]*5\n",
    "    \n",
    "    def get_costs():\n",
    "        return costs.NonstationaryGaussianCosts(\n",
    "            feature_vector_size=NUM_FEATURES,\n",
    "            change_points=[3000, 4500, 5500, 8000],\n",
    "            interval_means=interval_means,\n",
    "            interval_stds=interval_stds,\n",
    "            random_seed=42,\n",
    "        )\n",
    "    \n",
    "#     fig = plot_costs(get_costs(), 10000)\n",
    "    \n",
    "    costs_obj = get_costs()\n",
    "    costs_vector = []\n",
    "    for t in range(TIME_POINTS):\n",
    "        costs_at_t = np.array(costs_obj.get_separate_costs(trial=t))\n",
    "        costs_vector.append(costs_at_t)\n",
    "\n",
    "    costs_vector = np.stack(costs_vector)\n",
    "    return costs_vector"
   ]
  },
  {
   "cell_type": "code",
   "execution_count": 38,
   "id": "beae60e7",
   "metadata": {},
   "outputs": [],
   "source": [
    "all_policies = [\n",
    "    algorithms.LinUCB(\n",
    "        context_dimension=contexts.shape[1],\n",
    "        n_arms=rewards.shape[1],\n",
    "        alpha=0.4,\n",
    "    ),\n",
    "    algorithms.PSLinUCB(\n",
    "        context_dimension=contexts.shape[1],\n",
    "        n_arms=rewards.shape[1],\n",
    "        alpha=0.6,\n",
    "        omega=100,\n",
    "        delta=0.05,\n",
    "    ),\n",
    "    algorithms.SimOOSAlgorithm(\n",
    "        all_contexts=contexts, \n",
    "        number_of_actions=rewards.shape[1],\n",
    "        max_no_red_context=contexts.shape[1],\n",
    "        beta_SimOOS=0.6,\n",
    "        delta_SimOOS=0.2,\n",
    "    ),\n",
    "#     algorithms.Algorithm1(\n",
    "#         all_contexts=contexts, \n",
    "#         number_of_actions=rewards.shape[1],\n",
    "#         max_no_red_context=contexts.shape[1],\n",
    "#         beta=1.0,\n",
    "#         delta=0.15,\n",
    "#         window_length=1250,\n",
    "#     )\n",
    "]"
   ]
  },
  {
   "cell_type": "code",
   "execution_count": 83,
   "id": "d81611bd",
   "metadata": {},
   "outputs": [],
   "source": [
    "np.random.seed(42)\n",
    "costs_vector_all = []\n",
    "for max_cost_mean in [0.01, 0.02, 0.03, 0.04, 0.05, 0.06, 0.07, 0.08, 0.09]:\n",
    "    costs_vector_all.append(get_costs_vector(max_cost_mean))"
   ]
  },
  {
   "cell_type": "code",
   "execution_count": 84,
   "id": "487c8308",
   "metadata": {},
   "outputs": [],
   "source": [
    "import pickle\n",
    "for i,cost_vector_i in enumerate(costs_vector_all):\n",
    "    data_costs = contexts, rewards, cost_vector_i\n",
    "    with open(f\"dataset/synthetic/synthetic_data_costs_{i}.pickle\", \"wb\") as f:\n",
    "        pickle.dump(data_costs, f)"
   ]
  },
  {
   "cell_type": "code",
   "execution_count": 39,
   "id": "fb2c2b4d",
   "metadata": {
    "scrolled": true
   },
   "outputs": [
    {
     "name": "stdout",
     "output_type": "stream",
     "text": [
      "Starting repetition 0:\n",
      "LinUCB (alpha=0.4)\n",
      "Total gain: 4348.460532946839\n",
      "\tTotal reward: 4581.0\n",
      "\tTotal cost: 232.53946705315016\n",
      "Execution time: 0.5s\n",
      "\n",
      "Starting repetition 0:\n",
      "PSLinUCB (alpha=0.6, omega=100, delta=0.05)\n",
      "Total gain: 6532.460532946868\n",
      "\tTotal reward: 6765.0\n",
      "\tTotal cost: 232.53946705315016\n",
      "Execution time: 0.9s\n",
      "\n",
      "Starting repetition 0:\n",
      "Trial 0, time 2022-04-05 14:50:15.997947\n",
      "Trial 500, time 2022-04-05 14:50:26.668814\n",
      "Trial 1000, time 2022-04-05 14:50:30.982168\n",
      "Trial 1500, time 2022-04-05 14:50:34.092142\n",
      "Trial 2000, time 2022-04-05 14:50:36.146508\n",
      "Trial 2500, time 2022-04-05 14:50:40.635982\n",
      "Trial 3000, time 2022-04-05 14:50:42.944420\n",
      "Trial 3500, time 2022-04-05 14:50:44.046844\n",
      "Trial 4000, time 2022-04-05 14:50:45.002967\n",
      "Trial 4500, time 2022-04-05 14:50:46.996730\n",
      "Trial 5000, time 2022-04-05 14:50:48.246956\n",
      "Trial 5500, time 2022-04-05 14:50:49.498495\n",
      "Trial 6000, time 2022-04-05 14:50:52.901746\n",
      "Trial 6500, time 2022-04-05 14:50:58.666830\n",
      "Trial 7000, time 2022-04-05 14:51:00.223005\n",
      "Trial 7500, time 2022-04-05 14:51:01.623461\n",
      "Trial 8000, time 2022-04-05 14:51:02.263251\n",
      "Trial 8500, time 2022-04-05 14:51:03.247980\n",
      "Trial 9000, time 2022-04-05 14:51:07.190281\n",
      "Trial 9500, time 2022-04-05 14:51:12.298732\n",
      "SimOOS (beta=0.6, delta=0.2)\n",
      "Total gain: 5206.499141422116\n",
      "\tTotal reward: 5232.0\n",
      "\tTotal cost: 25.500858577872243\n",
      "Execution time: 57.8s\n",
      "\n",
      "Starting repetition 0:\n",
      "LinUCB (alpha=0.4)\n",
      "Total gain: 3617.393023226451\n",
      "\tTotal reward: 4113.0\n",
      "\tTotal cost: 495.6069767735669\n",
      "Execution time: 0.4s\n",
      "\n",
      "Starting repetition 0:\n",
      "PSLinUCB (alpha=0.6, omega=100, delta=0.05)\n",
      "Total gain: 6005.393023226416\n",
      "\tTotal reward: 6501.0\n",
      "\tTotal cost: 495.6069767735669\n",
      "Execution time: 1.0s\n",
      "\n",
      "Starting repetition 0:\n",
      "Trial 0, time 2022-04-05 14:51:15.331476\n",
      "Trial 500, time 2022-04-05 14:51:16.616878\n",
      "Trial 1000, time 2022-04-05 14:51:17.524307\n",
      "Trial 1500, time 2022-04-05 14:51:18.314721\n",
      "Trial 2000, time 2022-04-05 14:51:19.097148\n",
      "Trial 2500, time 2022-04-05 14:51:20.261650\n",
      "Trial 3000, time 2022-04-05 14:51:20.858252\n",
      "Trial 3500, time 2022-04-05 14:51:21.581293\n",
      "Trial 4000, time 2022-04-05 14:51:22.537920\n",
      "Trial 4500, time 2022-04-05 14:51:23.506513\n",
      "Trial 5000, time 2022-04-05 14:51:29.176703\n",
      "Trial 5500, time 2022-04-05 14:51:30.370413\n",
      "Trial 6000, time 2022-04-05 14:51:31.374598\n",
      "Trial 6500, time 2022-04-05 14:51:32.379428\n",
      "Trial 7000, time 2022-04-05 14:51:32.929082\n",
      "Trial 7500, time 2022-04-05 14:51:33.735756\n",
      "Trial 8000, time 2022-04-05 14:51:34.704657\n",
      "Trial 8500, time 2022-04-05 14:51:35.703645\n",
      "Trial 9000, time 2022-04-05 14:51:36.263746\n",
      "Trial 9500, time 2022-04-05 14:51:37.065443\n",
      "SimOOS (beta=0.6, delta=0.2)\n",
      "Total gain: 4048.0755563254893\n",
      "\tTotal reward: 4114.0\n",
      "\tTotal cost: 65.9244436745121\n",
      "Execution time: 22.7s\n",
      "\n",
      "Starting repetition 0:\n",
      "LinUCB (alpha=0.4)\n",
      "Total gain: 3150.065272687472\n",
      "\tTotal reward: 3962.0\n",
      "\tTotal cost: 811.9347273125431\n",
      "Execution time: 0.6s\n",
      "\n",
      "Starting repetition 0:\n",
      "PSLinUCB (alpha=0.6, omega=100, delta=0.05)\n",
      "Total gain: 5545.065272687466\n",
      "\tTotal reward: 6357.0\n",
      "\tTotal cost: 811.9347273125431\n",
      "Execution time: 1.0s\n",
      "\n",
      "Starting repetition 0:\n",
      "Trial 0, time 2022-04-05 14:51:39.807248\n",
      "Trial 500, time 2022-04-05 14:52:10.161435\n",
      "Trial 1000, time 2022-04-05 14:52:13.847694\n",
      "Trial 1500, time 2022-04-05 14:52:18.164359\n",
      "Trial 2000, time 2022-04-05 14:52:21.379330\n",
      "Trial 2500, time 2022-04-05 14:52:24.423278\n",
      "Trial 3000, time 2022-04-05 14:52:27.785476\n",
      "Trial 3500, time 2022-04-05 14:52:32.212752\n",
      "Trial 4000, time 2022-04-05 14:52:34.245582\n",
      "Trial 4500, time 2022-04-05 14:52:35.671765\n",
      "Trial 5000, time 2022-04-05 14:52:39.410320\n",
      "Trial 5500, time 2022-04-05 14:52:41.110361\n",
      "Trial 6000, time 2022-04-05 14:52:42.971413\n",
      "Trial 6500, time 2022-04-05 14:52:46.195121\n",
      "Trial 7000, time 2022-04-05 14:52:48.293284\n",
      "Trial 7500, time 2022-04-05 14:52:49.880274\n",
      "Trial 8000, time 2022-04-05 14:52:51.933338\n",
      "Trial 8500, time 2022-04-05 14:52:53.371519\n",
      "Trial 9000, time 2022-04-05 14:52:54.665635\n",
      "Trial 9500, time 2022-04-05 14:52:55.581270\n",
      "SimOOS (beta=0.6, delta=0.2)\n",
      "Total gain: 4137.000214492155\n",
      "\tTotal reward: 4479.0\n",
      "\tTotal cost: 341.9997855078604\n",
      "Execution time: 1.3m\n",
      "\n",
      "Starting repetition 0:\n",
      "LinUCB (alpha=0.4)\n",
      "Total gain: 2889.8236547564807\n",
      "\tTotal reward: 3946.0\n",
      "\tTotal cost: 1056.1763452435082\n",
      "Execution time: 0.5s\n",
      "\n",
      "Starting repetition 0:\n",
      "PSLinUCB (alpha=0.6, omega=100, delta=0.05)\n",
      "Total gain: 5298.82365475648\n",
      "\tTotal reward: 6355.0\n",
      "\tTotal cost: 1056.1763452435082\n",
      "Execution time: 0.9s\n",
      "\n",
      "Starting repetition 0:\n",
      "Trial 0, time 2022-04-05 14:53:00.144474\n",
      "Trial 500, time 2022-04-05 14:54:11.130897\n",
      "Trial 1000, time 2022-04-05 14:54:40.776326\n",
      "Trial 1500, time 2022-04-05 14:55:00.642500\n",
      "Trial 2000, time 2022-04-05 14:55:12.061188\n",
      "Trial 2500, time 2022-04-05 14:55:20.959560\n",
      "Trial 3000, time 2022-04-05 14:55:29.796470\n",
      "Trial 3500, time 2022-04-05 14:55:37.112235\n",
      "Trial 4000, time 2022-04-05 14:55:42.278768\n",
      "Trial 4500, time 2022-04-05 14:55:46.967072\n",
      "Trial 5000, time 2022-04-05 14:55:50.704375\n",
      "Trial 5500, time 2022-04-05 14:55:53.488145\n",
      "Trial 6000, time 2022-04-05 14:55:56.689989\n",
      "Trial 6500, time 2022-04-05 14:56:01.236470\n",
      "Trial 7000, time 2022-04-05 14:56:06.262895\n",
      "Trial 7500, time 2022-04-05 14:56:10.562400\n",
      "Trial 8000, time 2022-04-05 14:56:14.307261\n",
      "Trial 8500, time 2022-04-05 14:56:19.448063\n",
      "Trial 9000, time 2022-04-05 14:56:22.573446\n",
      "Trial 9500, time 2022-04-05 14:56:25.027788\n",
      "SimOOS (beta=0.6, delta=0.2)\n",
      "Total gain: 3149.0674143382244\n",
      "\tTotal reward: 3969.0\n",
      "\tTotal cost: 819.9325856617631\n",
      "Execution time: 3.5m\n",
      "\n",
      "Starting repetition 0:\n",
      "LinUCB (alpha=0.4)\n",
      "Total gain: 2875.549884467171\n",
      "\tTotal reward: 3975.0\n",
      "\tTotal cost: 1099.4501155328214\n",
      "Execution time: 0.6s\n",
      "\n",
      "Starting repetition 0:\n",
      "PSLinUCB (alpha=0.6, omega=100, delta=0.05)\n",
      "Total gain: 5259.549884467193\n",
      "\tTotal reward: 6359.0\n",
      "\tTotal cost: 1099.4501155328214\n",
      "Execution time: 0.8s\n",
      "\n",
      "Starting repetition 0:\n",
      "Trial 0, time 2022-04-05 14:56:28.755655\n",
      "Trial 500, time 2022-04-05 14:56:35.633286\n",
      "Trial 1000, time 2022-04-05 14:56:37.599185\n",
      "Trial 1500, time 2022-04-05 14:56:40.228230\n",
      "Trial 2000, time 2022-04-05 14:56:42.210595\n",
      "Trial 2500, time 2022-04-05 14:56:45.047725\n",
      "Trial 3000, time 2022-04-05 14:56:47.471412\n",
      "Trial 3500, time 2022-04-05 14:56:49.455044\n",
      "Trial 4000, time 2022-04-05 14:56:51.955011\n",
      "Trial 4500, time 2022-04-05 14:56:53.482839\n",
      "Trial 5000, time 2022-04-05 14:56:56.490504\n",
      "Trial 5500, time 2022-04-05 14:56:58.175514\n",
      "Trial 6000, time 2022-04-05 14:57:00.801667\n",
      "Trial 6500, time 2022-04-05 14:57:02.505176\n",
      "Trial 7000, time 2022-04-05 14:57:03.813664\n",
      "Trial 7500, time 2022-04-05 14:57:04.856649\n",
      "Trial 8000, time 2022-04-05 14:57:07.133929\n",
      "Trial 8500, time 2022-04-05 14:57:09.780719\n",
      "Trial 9000, time 2022-04-05 14:57:11.430114\n",
      "Trial 9500, time 2022-04-05 14:57:13.512252\n",
      "SimOOS (beta=0.6, delta=0.2)\n",
      "Total gain: 3317.7994073021896\n",
      "\tTotal reward: 4150.0\n",
      "\tTotal cost: 832.2005926978007\n",
      "Execution time: 46.1s\n",
      "\n",
      "Starting repetition 0:\n",
      "LinUCB (alpha=0.4)\n",
      "Total gain: 2546.4583640425963\n",
      "\tTotal reward: 3787.0\n",
      "\tTotal cost: 1240.54163595741\n",
      "Execution time: 0.6s\n",
      "\n",
      "Starting repetition 0:\n",
      "PSLinUCB (alpha=0.6, omega=100, delta=0.05)\n",
      "Total gain: 4701.458364042573\n",
      "\tTotal reward: 5942.0\n",
      "\tTotal cost: 1240.54163595741\n",
      "Execution time: 0.7s\n",
      "\n",
      "Starting repetition 0:\n",
      "Trial 0, time 2022-04-05 14:57:16.341571\n",
      "Trial 500, time 2022-04-05 14:57:23.627784\n",
      "Trial 1000, time 2022-04-05 14:57:25.205365\n",
      "Trial 1500, time 2022-04-05 14:57:26.378216\n",
      "Trial 2000, time 2022-04-05 14:57:27.714355\n",
      "Trial 2500, time 2022-04-05 14:57:28.612762\n",
      "Trial 3000, time 2022-04-05 14:57:29.626792\n",
      "Trial 3500, time 2022-04-05 14:57:30.505519\n",
      "Trial 4000, time 2022-04-05 14:57:31.516970\n",
      "Trial 4500, time 2022-04-05 14:57:34.296511\n",
      "Trial 5000, time 2022-04-05 14:57:36.785769\n",
      "Trial 5500, time 2022-04-05 14:57:38.022958\n",
      "Trial 6000, time 2022-04-05 14:57:39.050648\n",
      "Trial 6500, time 2022-04-05 14:57:40.542703\n",
      "Trial 7000, time 2022-04-05 14:57:41.366979\n",
      "Trial 7500, time 2022-04-05 14:57:43.075942\n",
      "Trial 8000, time 2022-04-05 14:57:44.324078\n",
      "Trial 8500, time 2022-04-05 14:57:45.634954\n",
      "Trial 9000, time 2022-04-05 14:57:47.049164\n",
      "Trial 9500, time 2022-04-05 14:57:48.305530\n",
      "SimOOS (beta=0.6, delta=0.2)\n",
      "Total gain: 2997.195818634701\n",
      "\tTotal reward: 3967.0\n",
      "\tTotal cost: 969.8041813653016\n",
      "Execution time: 33.5s\n",
      "\n",
      "Starting repetition 0:\n",
      "LinUCB (alpha=0.4)\n",
      "Total gain: 2057.055477785549\n",
      "\tTotal reward: 3898.0\n",
      "\tTotal cost: 1840.944522214454\n",
      "Execution time: 0.4s\n",
      "\n",
      "Starting repetition 0:\n"
     ]
    },
    {
     "name": "stdout",
     "output_type": "stream",
     "text": [
      "PSLinUCB (alpha=0.6, omega=100, delta=0.05)\n",
      "Total gain: 4250.055477785544\n",
      "\tTotal reward: 6091.0\n",
      "\tTotal cost: 1840.944522214454\n",
      "Execution time: 0.9s\n",
      "\n",
      "Starting repetition 0:\n",
      "Trial 0, time 2022-04-05 14:57:51.257816\n",
      "Trial 500, time 2022-04-05 14:58:48.140315\n",
      "Trial 1000, time 2022-04-05 14:59:01.894924\n",
      "Trial 1500, time 2022-04-05 14:59:09.555329\n",
      "Trial 2000, time 2022-04-05 14:59:14.988449\n",
      "Trial 2500, time 2022-04-05 14:59:19.301200\n",
      "Trial 3000, time 2022-04-05 14:59:24.445913\n",
      "Trial 3500, time 2022-04-05 14:59:28.860090\n",
      "Trial 4000, time 2022-04-05 14:59:31.445988\n",
      "Trial 4500, time 2022-04-05 14:59:33.589616\n",
      "Trial 5000, time 2022-04-05 14:59:36.483940\n",
      "Trial 5500, time 2022-04-05 14:59:38.950078\n",
      "Trial 6000, time 2022-04-05 14:59:41.077449\n",
      "Trial 6500, time 2022-04-05 14:59:44.226997\n",
      "Trial 7000, time 2022-04-05 14:59:46.910339\n",
      "Trial 7500, time 2022-04-05 14:59:48.332869\n",
      "Trial 8000, time 2022-04-05 14:59:51.887840\n",
      "Trial 8500, time 2022-04-05 14:59:54.900297\n",
      "Trial 9000, time 2022-04-05 14:59:57.263513\n",
      "Trial 9500, time 2022-04-05 14:59:58.256897\n",
      "SimOOS (beta=0.6, delta=0.2)\n",
      "Total gain: 3022.4282098502044\n",
      "\tTotal reward: 4269.0\n",
      "\tTotal cost: 1246.5717901497892\n",
      "Execution time: 2.1m\n",
      "\n",
      "Starting repetition 0:\n",
      "LinUCB (alpha=0.4)\n",
      "Total gain: 1729.8653681463393\n",
      "\tTotal reward: 3845.0\n",
      "\tTotal cost: 2115.1346318536584\n",
      "Execution time: 0.9s\n",
      "\n",
      "Starting repetition 0:\n",
      "PSLinUCB (alpha=0.6, omega=100, delta=0.05)\n",
      "Total gain: 4338.865368146341\n",
      "\tTotal reward: 6454.0\n",
      "\tTotal cost: 2115.1346318536584\n",
      "Execution time: 0.8s\n",
      "\n",
      "Starting repetition 0:\n",
      "Trial 0, time 2022-04-05 15:00:01.261560\n",
      "Trial 500, time 2022-04-05 15:00:06.749192\n",
      "Trial 1000, time 2022-04-05 15:00:09.154851\n",
      "Trial 1500, time 2022-04-05 15:00:11.141204\n",
      "Trial 2000, time 2022-04-05 15:00:14.501729\n",
      "Trial 2500, time 2022-04-05 15:00:16.418441\n",
      "Trial 3000, time 2022-04-05 15:00:18.222967\n",
      "Trial 3500, time 2022-04-05 15:00:19.362428\n",
      "Trial 4000, time 2022-04-05 15:00:20.872552\n",
      "Trial 4500, time 2022-04-05 15:00:21.600345\n",
      "Trial 5000, time 2022-04-05 15:00:22.548122\n",
      "Trial 5500, time 2022-04-05 15:00:24.044000\n",
      "Trial 6000, time 2022-04-05 15:00:25.949438\n",
      "Trial 6500, time 2022-04-05 15:00:28.764808\n",
      "Trial 7000, time 2022-04-05 15:00:31.911976\n",
      "Trial 7500, time 2022-04-05 15:00:34.414128\n",
      "Trial 8000, time 2022-04-05 15:00:35.795491\n",
      "Trial 8500, time 2022-04-05 15:00:36.887171\n",
      "Trial 9000, time 2022-04-05 15:00:38.436314\n",
      "Trial 9500, time 2022-04-05 15:00:40.068436\n",
      "SimOOS (beta=0.6, delta=0.2)\n",
      "Total gain: 2552.7877586604454\n",
      "\tTotal reward: 3996.0\n",
      "\tTotal cost: 1443.212241339565\n",
      "Execution time: 40.3s\n",
      "\n",
      "Starting repetition 0:\n",
      "LinUCB (alpha=0.4)\n",
      "Total gain: 1573.4802522871344\n",
      "\tTotal reward: 3968.0\n",
      "\tTotal cost: 2394.5197477128636\n",
      "Execution time: 0.7s\n",
      "\n",
      "Starting repetition 0:\n",
      "PSLinUCB (alpha=0.6, omega=100, delta=0.05)\n",
      "Total gain: 3781.4802522871323\n",
      "\tTotal reward: 6176.0\n",
      "\tTotal cost: 2394.5197477128636\n",
      "Execution time: 1.2s\n",
      "\n",
      "Starting repetition 0:\n",
      "Trial 0, time 2022-04-05 15:00:43.633955\n",
      "Trial 500, time 2022-04-05 15:00:47.858212\n",
      "Trial 1000, time 2022-04-05 15:00:49.427194\n",
      "Trial 1500, time 2022-04-05 15:00:50.661032\n",
      "Trial 2000, time 2022-04-05 15:00:51.425787\n",
      "Trial 2500, time 2022-04-05 15:00:53.222134\n",
      "Trial 3000, time 2022-04-05 15:00:55.088874\n",
      "Trial 3500, time 2022-04-05 15:00:56.603885\n",
      "Trial 4000, time 2022-04-05 15:00:58.041521\n",
      "Trial 4500, time 2022-04-05 15:01:00.623349\n",
      "Trial 5000, time 2022-04-05 15:01:01.728109\n",
      "Trial 5500, time 2022-04-05 15:01:03.295892\n",
      "Trial 6000, time 2022-04-05 15:01:05.815162\n",
      "Trial 6500, time 2022-04-05 15:01:08.157509\n",
      "Trial 7000, time 2022-04-05 15:01:09.941955\n",
      "Trial 7500, time 2022-04-05 15:01:11.716339\n",
      "Trial 8000, time 2022-04-05 15:01:12.542070\n",
      "Trial 8500, time 2022-04-05 15:01:13.241579\n",
      "Trial 9000, time 2022-04-05 15:01:14.544682\n",
      "Trial 9500, time 2022-04-05 15:01:15.560714\n",
      "SimOOS (beta=0.6, delta=0.2)\n",
      "Total gain: 2990.064704071984\n",
      "\tTotal reward: 4166.0\n",
      "\tTotal cost: 1175.9352959280102\n",
      "Execution time: 32.9s\n",
      "\n"
     ]
    }
   ],
   "source": [
    "from collections import defaultdict\n",
    "import warnings\n",
    "\n",
    "np.random.seed(42)\n",
    "\n",
    "\n",
    "performance = defaultdict(list)\n",
    "\n",
    "mean_cost_upper_bounds = [0.01, 0.02, 0.03, 0.04, 0.05, 0.06, 0.07, 0.08, 0.09]\n",
    "\n",
    "for max_cost_mean in [0.01, 0.02, 0.03, 0.04, 0.05, 0.06, 0.07, 0.08, 0.09]:\n",
    "    costs_vector = get_costs_vector(max_cost_mean)\n",
    "    for policy in all_policies:\n",
    "        \n",
    "        with warnings.catch_warnings():\n",
    "            warnings.simplefilter(\"ignore\")\n",
    "            gains, achieved_rewards, paid_costs = evaluation.evaluate_on_synthetic_data(\n",
    "                policy,\n",
    "                contexts,\n",
    "                rewards,\n",
    "                costs_vector,\n",
    "                stop_after=NUM_OF_TRIALS,\n",
    "                return_full=True\n",
    "            )\n",
    "        performance[policy.name].append(achieved_rewards[-1] / paid_costs[-1])"
   ]
  },
  {
   "cell_type": "code",
   "execution_count": 85,
   "id": "d5c37301",
   "metadata": {},
   "outputs": [],
   "source": [
    "performance['Algorithm 1'] = [\n",
    "    15368.849639300735,\n",
    "    10077.420900617191,\n",
    "    3431.075070190538,\n",
    "    5264.931213451215,\n",
    "    142.135594413383,\n",
    "    2738.190418830252,\n",
    "    2220.4967578796177,\n",
    "    2315.1877884207174,\n",
    "    1999.2460825423361,\n",
    "]"
   ]
  },
  {
   "cell_type": "markdown",
   "id": "83a33d3c",
   "metadata": {},
   "source": [
    "## Plot performance"
   ]
  },
  {
   "cell_type": "code",
   "execution_count": 93,
   "id": "7a1e096b",
   "metadata": {},
   "outputs": [
    {
     "data": {
      "image/png": "[encoded data removed]",
      "text/plain": [
       "<Figure size 792x432 with 1 Axes>"
      ]
     },
     "metadata": {
      "needs_background": "light"
     },
     "output_type": "display_data"
    }
   ],
   "source": [
    "fig, ax = plt.subplots(1,1, figsize=(11, 6))\n",
    "\n",
    "ind_to_params = {\n",
    "        # ind: (mark, color)\n",
    "        0: ('s', 'k'),\n",
    "        1: ('o','blue'),\n",
    "        2: ('d','r'),\n",
    "        3: ('>','g'),\n",
    "        4: ('x','olive'),\n",
    "        5: ('^', 'm'),\n",
    "        6: ('*', 'blue'),\n",
    "    }\n",
    "\n",
    "sorted_perf_dict = {\n",
    "        k:v for k,v in sorted(performance.items(), key=lambda x: np.mean(x[1]), reverse=True)\n",
    "    }\n",
    "\n",
    "x = [0.01, 0.02, 0.03, 0.04, 0.05, 0.06, 0.07, 0.08, 0.09]\n",
    "for ind, (alg_name, alg_perf) in enumerate(list(sorted_perf_dict.items())[0:]):\n",
    "    mark, color = ind_to_params[ind]\n",
    "    ax.plot(x, alg_perf, label=alg_name.split()[0], marker=mark, fillstyle='none', color=color)\n",
    "    \n",
    "plt.xticks(fontsize=16)\n",
    "plt.yticks(fontsize=16)\n",
    "    \n",
    "ax.set_xlabel('Maximum Mean Cost', fontsize=20)\n",
    "ax.set_ylabel('Performance', fontsize=20)\n",
    "    \n",
    "plt.legend(prop={'size': 25});\n",
    "# plt.savefig('performance_synthetic.pdf', dpi=300, bbox_extra_artists=(lgd,), bbox_inches='tight')\n",
    "\n",
    "\n",
    "plt.show();"
   ]
  },
  {
   "cell_type": "code",
   "execution_count": null,
   "id": "7bb80934",
   "metadata": {},
   "outputs": [],
   "source": []
  },
  {
   "cell_type": "code",
   "execution_count": null,
   "id": "2578d2f0",
   "metadata": {},
   "outputs": [],
   "source": []
  },
  {
   "cell_type": "code",
   "execution_count": null,
   "id": "67d4ab1f",
   "metadata": {},
   "outputs": [],
   "source": []
  },
  {
   "cell_type": "code",
   "execution_count": null,
   "id": "3b106b2a",
   "metadata": {},
   "outputs": [],
   "source": []
  },
  {
   "cell_type": "code",
   "execution_count": null,
   "id": "9d928666",
   "metadata": {},
   "outputs": [],
   "source": []
  },
  {
   "cell_type": "code",
   "execution_count": null,
   "id": "9c3189e9",
   "metadata": {},
   "outputs": [],
   "source": []
  }
 ],
 "metadata": {
  "kernelspec": {
   "display_name": "Python 3 (ipykernel)",
   "language": "python",
   "name": "python3"
  },
  "language_info": {
   "codemirror_mode": {
    "name": "ipython",
    "version": 3
   },
   "file_extension": ".py",
   "mimetype": "text/x-python",
   "name": "python",
   "nbconvert_exporter": "python",
   "pygments_lexer": "ipython3",
   "version": "3.10.2"
  }
 },
 "nbformat": 4,
 "nbformat_minor": 5
}
