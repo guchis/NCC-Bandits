{
 "cells": [
  {
   "cell_type": "markdown",
   "id": "890470b4",
   "metadata": {},
   "source": [
    "# Synthetic dataset creation\n",
    "\n",
    "In this notebook I create a synthetic dataset to test the proposed bandit algorithm and compare it to benchmarks.\n",
    "Synthetic dataset will have following features:\n",
    "- 10,000 time points\n",
    "- At each time $t$ the environment generates a context vector $x_t$ of dimension 6. Each feature $x_t^{(i)}$ is **categorical**, and lies in range(1,feature_size). This is needed for the `state_extract` function in SimOOS to correctly number all the states.\n",
    "- Each context vector $x_t$ is associated with a cost vector $c_t$. Cost of each feature $c_t^{i}$ follows a Gaussian distribution with fixed standard deviation and **piecewise-constant** mean lying in range $[0; 0.07]$. Change-points of costs are different from change points of rewards.\n",
    "- A fixed (for all $t$) set $\\mathcal{A}$ of 5 arms are available for the algorithm to choose from.\n",
    "- Rewards associated with each arm and context follow a Bernoulli distribution, parametrized by $p = \\sigma(\\bar{x_t}^T\\theta_{t,a})$. Here $\\bar{x_t}$ is not context observed at time t, but rather it is expected context inside one stationarity interval.  Also $\\sigma()$ is the sigmoid function and $\\theta_{t,a}$ is the ground truth bandit parameter (not disclosed to the algorithm) associated with each arm $a_i$ at time $t$. Bandit parameter satisfies condition $\\lVert\\theta_{t,a}\\rVert_2 \\le 1$.  For each arm $a_i$, parameter $\\theta_{t,a}$ is piecewise-constant and thus the corresponding **generating process of rewards is piecewise-stationary** with change points every 2000 steps.\n",
    "This method of generating rewards from contexts follows [1] and [2], but instead of Gaussian reward with mean $x_t^T\\theta_{t,a}$ the reward is Bernoulli with parameter $\\sigma(\\bar{x_t}^T\\theta_{t,a})$\n",
    "\n",
    "[1] Learning Contextual Bandits in a Non-stationary Environment, Wu et al.\n",
    "\n",
    "[2] Contextual-Bandit Based Personalized Recommendation with Time-Varying User Interests, Xu et al."
   ]
  },
  {
   "cell_type": "code",
   "execution_count": 1,
   "id": "8c8c261c",
   "metadata": {},
   "outputs": [
    {
     "data": {
      "text/plain": [
       "'/Users/sbokupripeku/git/work/examples/costly_nonstationary_bandits'"
      ]
     },
     "execution_count": 1,
     "metadata": {},
     "output_type": "execute_result"
    }
   ],
   "source": [
    "import os\n",
    "os.chdir('../..')\n",
    "os.getcwd()"
   ]
  },
  {
   "cell_type": "code",
   "execution_count": 2,
   "id": "f45111ea",
   "metadata": {},
   "outputs": [],
   "source": [
    "%load_ext autoreload\n",
    "%autoreload 2\n",
    "\n",
    "\n",
    "import numpy as np\n",
    "import matplotlib.pyplot as plt\n",
    "import time\n",
    "import math\n",
    "\n",
    "import costs\n",
    "from plotting.costs import plot_costs\n",
    "\n",
    "import algorithms\n",
    "import evaluation"
   ]
  },
  {
   "cell_type": "code",
   "execution_count": 3,
   "id": "bdca1f81",
   "metadata": {},
   "outputs": [],
   "source": [
    "# Set random seeds for reproducibility\n",
    "np.random.seed(42)"
   ]
  },
  {
   "cell_type": "markdown",
   "id": "24bb3334",
   "metadata": {},
   "source": [
    "#### Setting important constants"
   ]
  },
  {
   "cell_type": "code",
   "execution_count": 4,
   "id": "e5f38f75",
   "metadata": {},
   "outputs": [],
   "source": [
    "TIME_POINTS = 10000\n",
    "NUM_FEATURES = 4\n",
    "N_ARMS = 5"
   ]
  },
  {
   "cell_type": "markdown",
   "id": "45f784c1",
   "metadata": {},
   "source": [
    "## Creating context vectors"
   ]
  },
  {
   "cell_type": "code",
   "execution_count": 5,
   "id": "cceecd5a",
   "metadata": {},
   "outputs": [],
   "source": [
    "def categorical(values, distribution, length):\n",
    "    assert len(values) == len(distribution)\n",
    "    values = np.array(values)\n",
    "    sample = np.random.multinomial(1, distribution, size=(length,))\n",
    "    indices = np.argmax(sample, axis=1)\n",
    "    return values[indices]"
   ]
  },
  {
   "cell_type": "code",
   "execution_count": 6,
   "id": "db875142",
   "metadata": {},
   "outputs": [
    {
     "data": {
      "text/plain": [
       "array([  6,   7, 120,   7,   5,   5,   7])"
      ]
     },
     "execution_count": 6,
     "metadata": {},
     "output_type": "execute_result"
    }
   ],
   "source": [
    "values = [5,6,7,120]\n",
    "distribution = [0.2, 0.1, 0.4, 0.3]\n",
    "categorical(values, distribution, length=7)"
   ]
  },
  {
   "cell_type": "code",
   "execution_count": 7,
   "id": "15b85e4f",
   "metadata": {},
   "outputs": [],
   "source": [
    "feature_config = {\n",
    "    0: {\n",
    "        'values': [1,2,3,4],\n",
    "        'distribution': [0.25]*4,\n",
    "    },\n",
    "    1: {\n",
    "        'values': [1,2],\n",
    "        'distribution': [0.2, 0.8],\n",
    "    },\n",
    "    2: {\n",
    "        'values': [1,2,3],\n",
    "        'distribution': [ 0.6, 0.3, 0.1],\n",
    "    },\n",
    "    3: {\n",
    "        'values': [1,2,3,4],\n",
    "        'distribution': [0.1, 0.2, 0.3, 0.4],\n",
    "    },\n",
    "    \n",
    "    4: {\n",
    "        'values': [1,2,3,4,5],\n",
    "        'distribution': [0.15, 0.2, 0.3, 0.2, 0.15],\n",
    "    },\n",
    "    5: {\n",
    "        'values': [1,2],\n",
    "        'distribution': [0.1, 0.9],\n",
    "    },\n",
    "    6: {\n",
    "        'values': [1,2,3,4],\n",
    "        'distribution': [0.25]*4,\n",
    "    },\n",
    "    7: {\n",
    "        'values': [1,2,3,4],\n",
    "        'distribution': [0.25]*4,\n",
    "    },\n",
    "    8: {\n",
    "        'values': [1,2,3,4],\n",
    "        'distribution': [0.4, 0.3, 0.2, 0.1],\n",
    "    },\n",
    "    9: {\n",
    "        'values': [1, 2,3,4,5,6,7,8,9,10,11],\n",
    "        'distribution': [0.01, 0.03, 0.08, 0.12, 0.16, 0.20, 0.16, 0.12 ,0.08, 0.03, 0.01],\n",
    "    },\n",
    "}"
   ]
  },
  {
   "cell_type": "code",
   "execution_count": 8,
   "id": "6f73024a",
   "metadata": {},
   "outputs": [],
   "source": [
    "contexts = np.zeros((TIME_POINTS, NUM_FEATURES))\n",
    "\n",
    "for i in range(NUM_FEATURES):\n",
    "    values = feature_config[i]['values']\n",
    "    distribution = feature_config[i]['distribution']\n",
    "    contexts[:, i] = categorical(values, distribution, length=TIME_POINTS)"
   ]
  },
  {
   "cell_type": "code",
   "execution_count": 9,
   "id": "39b5cde6",
   "metadata": {},
   "outputs": [
    {
     "data": {
      "text/plain": [
       "(array([[4., 2., 2., 4.],\n",
       "        [4., 2., 1., 3.],\n",
       "        [4., 1., 1., 3.],\n",
       "        ...,\n",
       "        [2., 2., 1., 4.],\n",
       "        [1., 2., 1., 4.],\n",
       "        [2., 2., 1., 4.]]),\n",
       " (10000, 4))"
      ]
     },
     "execution_count": 9,
     "metadata": {},
     "output_type": "execute_result"
    }
   ],
   "source": [
    "contexts, contexts.shape"
   ]
  },
  {
   "cell_type": "markdown",
   "id": "0ae58152",
   "metadata": {},
   "source": [
    "### Visualizing context features"
   ]
  },
  {
   "cell_type": "code",
   "execution_count": 10,
   "id": "9d72ede9",
   "metadata": {},
   "outputs": [
    {
     "data": {
      "image/png": "[encoded data removed]",
      "text/plain": [
       "<Figure size 1152x432 with 4 Axes>"
      ]
     },
     "metadata": {
      "needs_background": "light"
     },
     "output_type": "display_data"
    }
   ],
   "source": [
    "fig, axs = plt.subplots(2, math.ceil(NUM_FEATURES/2), figsize=(16,6))\n",
    "for i, ax in zip(range(NUM_FEATURES), axs.flatten()):\n",
    "    ax.hist(contexts[:, i])\n",
    "    ax.set_xlabel(f\"Feature {i}\")\n",
    "fig.suptitle('Feature distributions')\n",
    "plt.tight_layout()"
   ]
  },
  {
   "cell_type": "markdown",
   "id": "37b52b90",
   "metadata": {},
   "source": [
    "## Creating cost vectors"
   ]
  },
  {
   "cell_type": "code",
   "execution_count": 11,
   "id": "c518496d",
   "metadata": {},
   "outputs": [],
   "source": [
    "# Mean of gaussian distribution random in interval [0, 0.1] \n",
    "interval_means = [np.random.uniform(0, 0.05, size=(NUM_FEATURES,)) for i in range(5)]"
   ]
  },
  {
   "cell_type": "code",
   "execution_count": 12,
   "id": "c3895972",
   "metadata": {},
   "outputs": [],
   "source": [
    "# Fixed std\n",
    "interval_stds = [[0.0005]*NUM_FEATURES]*5"
   ]
  },
  {
   "cell_type": "code",
   "execution_count": 13,
   "id": "efa8ef93",
   "metadata": {},
   "outputs": [],
   "source": [
    "def get_costs():\n",
    "    return costs.NonstationaryGaussianCosts(\n",
    "        feature_vector_size=NUM_FEATURES,\n",
    "        change_points=[3000, 4500, 5500, 8000],\n",
    "        interval_means=interval_means,\n",
    "        interval_stds=interval_stds,\n",
    "        random_seed=42,\n",
    "    )\n",
    "    "
   ]
  },
  {
   "cell_type": "code",
   "execution_count": 14,
   "id": "00ae27e5",
   "metadata": {},
   "outputs": [
    {
     "data": {
      "image/png": "[encoded data removed]",
      "text/plain": [
       "<Figure size 1080x576 with 1 Axes>"
      ]
     },
     "execution_count": 14,
     "metadata": {},
     "output_type": "execute_result"
    }
   ],
   "source": [
    "plot_costs(get_costs(), 10000)"
   ]
  },
  {
   "cell_type": "code",
   "execution_count": 15,
   "id": "e42e753e",
   "metadata": {},
   "outputs": [],
   "source": [
    "costs_obj = get_costs()"
   ]
  },
  {
   "cell_type": "code",
   "execution_count": 16,
   "id": "ccae90af",
   "metadata": {},
   "outputs": [],
   "source": [
    "costs_vector = []\n",
    "for t in range(TIME_POINTS):\n",
    "    costs_at_t = np.array(costs_obj.get_separate_costs(trial=t))\n",
    "    costs_vector.append(costs_at_t)\n",
    "\n",
    "costs_vector = np.stack(costs_vector)"
   ]
  },
  {
   "cell_type": "code",
   "execution_count": 17,
   "id": "d306fb30",
   "metadata": {},
   "outputs": [
    {
     "data": {
      "text/plain": [
       "(10000, 4)"
      ]
     },
     "execution_count": 17,
     "metadata": {},
     "output_type": "execute_result"
    }
   ],
   "source": [
    "costs_vector.shape"
   ]
  },
  {
   "cell_type": "markdown",
   "id": "154e91f6",
   "metadata": {},
   "source": [
    "## Creating rewards"
   ]
  },
  {
   "cell_type": "code",
   "execution_count": 18,
   "id": "78507e5f",
   "metadata": {},
   "outputs": [],
   "source": [
    "rewards = np.zeros((TIME_POINTS, N_ARMS))"
   ]
  },
  {
   "cell_type": "code",
   "execution_count": 19,
   "id": "98808f63",
   "metadata": {},
   "outputs": [],
   "source": [
    "slices = [\n",
    "    slice(0,2000),\n",
    "    slice(2000,4000),\n",
    "    slice(4000,6000),\n",
    "    slice(6000,8000),\n",
    "    slice(8000,10000),\n",
    "]"
   ]
  },
  {
   "cell_type": "code",
   "execution_count": 20,
   "id": "bffb3d02",
   "metadata": {},
   "outputs": [],
   "source": [
    "def sigmoid(x):\n",
    "  return 1 / (1 + np.exp(-x))"
   ]
  },
  {
   "cell_type": "code",
   "execution_count": 21,
   "id": "3edc65eb",
   "metadata": {},
   "outputs": [],
   "source": [
    "np.random.seed(42)"
   ]
  },
  {
   "cell_type": "code",
   "execution_count": 22,
   "id": "86354fd6",
   "metadata": {},
   "outputs": [
    {
     "name": "stdout",
     "output_type": "stream",
     "text": [
      "Slice 0:\n",
      "  Arm 0: p=0.98, mean reward=0.98   reward estimated by linear regression 0.95\n",
      "  Arm 1: p=0.76, mean reward=0.76   reward estimated by linear regression 0.75\n",
      "  Arm 2: p=0.03, mean reward=0.03   reward estimated by linear regression 0.03\n",
      "  Arm 3: p=0.80, mean reward=0.80   reward estimated by linear regression 0.78\n",
      "  Arm 4: p=0.91, mean reward=0.92   reward estimated by linear regression 0.90\n",
      "Slice 1:\n",
      "  Arm 0: p=0.91, mean reward=0.91   reward estimated by linear regression 0.89\n",
      "  Arm 1: p=0.48, mean reward=0.47   reward estimated by linear regression 0.46\n",
      "  Arm 2: p=0.36, mean reward=0.36   reward estimated by linear regression 0.35\n",
      "  Arm 3: p=0.20, mean reward=0.19   reward estimated by linear regression 0.19\n",
      "  Arm 4: p=0.96, mean reward=0.95   reward estimated by linear regression 0.93\n",
      "Slice 2:\n",
      "  Arm 0: p=0.56, mean reward=0.54   reward estimated by linear regression 0.53\n",
      "  Arm 1: p=0.03, mean reward=0.04   reward estimated by linear regression 0.04\n",
      "  Arm 2: p=0.04, mean reward=0.04   reward estimated by linear regression 0.04\n",
      "  Arm 3: p=0.97, mean reward=0.97   reward estimated by linear regression 0.95\n",
      "  Arm 4: p=0.97, mean reward=0.97   reward estimated by linear regression 0.95\n",
      "Slice 3:\n",
      "  Arm 0: p=0.03, mean reward=0.03   reward estimated by linear regression 0.03\n",
      "  Arm 1: p=0.12, mean reward=0.12   reward estimated by linear regression 0.11\n",
      "  Arm 2: p=0.13, mean reward=0.12   reward estimated by linear regression 0.12\n",
      "  Arm 3: p=0.17, mean reward=0.17   reward estimated by linear regression 0.16\n",
      "  Arm 4: p=0.91, mean reward=0.90   reward estimated by linear regression 0.88\n",
      "Slice 4:\n",
      "  Arm 0: p=0.99, mean reward=0.98   reward estimated by linear regression 0.96\n",
      "  Arm 1: p=0.74, mean reward=0.75   reward estimated by linear regression 0.73\n",
      "  Arm 2: p=0.45, mean reward=0.45   reward estimated by linear regression 0.44\n",
      "  Arm 3: p=0.34, mean reward=0.36   reward estimated by linear regression 0.35\n",
      "  Arm 4: p=0.34, mean reward=0.33   reward estimated by linear regression 0.32\n"
     ]
    },
    {
     "name": "stderr",
     "output_type": "stream",
     "text": [
      "/var/folders/_g/d2bwsxss6v9_1830lrh6wyth0000gn/T/ipykernel_7417/3873145888.py:31: FutureWarning: `rcond` parameter will change to the default of machine precision times ``max(M, N)`` where M and N are the input matrix dimensions.\n",
      "To use the future default and silence this warning we advise to pass `rcond=None`, to keep using the old, explicitly pass `rcond=-1`.\n",
      "  linreg_theta,res,rank,s = np.linalg.lstsq(a=context_slice, b=slice_rewards)\n"
     ]
    }
   ],
   "source": [
    "# Separate all timesteps into slices. For each slice and for each arm generate ground truth bandit parameter theta.\n",
    "# Take dot product of theta with expected context and put this through sigmoid to get p for Bernoulli distribution. \n",
    "# Sample reward for each slice and arm from this distribution.\n",
    "\n",
    "# Here reward is stationary for given slice, arm.\n",
    "# So piece-wise stationary for a given arm, not depending on context.\n",
    "\n",
    "for i, interval_slice in enumerate(slices):\n",
    "    context_slice = contexts[interval_slice, :]\n",
    "    slice_len = context_slice.shape[0]\n",
    "    print(f\"Slice {i}:\")\n",
    "    for arm in range(N_ARMS):\n",
    "        # Ground truth bandit parameter for given arm. These parameters are piecewise-constant.\n",
    "        random_vec = np.random.normal(size=NUM_FEATURES)\n",
    "        theta = random_vec / np.linalg.norm(random_vec)\n",
    "\n",
    "        expected_context = np.mean(context_slice, axis=0)\n",
    "        z = expected_context @ theta\n",
    "        \n",
    "        # Parameter of bernoulli distribution of rewards for this slice and arm.\n",
    "        p = sigmoid(z)\n",
    "        \n",
    "        # Sample rewards from the obtained distribution.\n",
    "        slice_rewards = np.random.binomial(n=1, p=p, size=(slice_len,))\n",
    "        rewards[interval_slice, arm] = slice_rewards\n",
    "        \n",
    "        # Check that thetas found by linear regression give estimation of expected reward close to\n",
    "        # true expected reward. \n",
    "        \n",
    "        # thetas found by solving linear regression problem\n",
    "        linreg_theta,res,rank,s = np.linalg.lstsq(a=context_slice, b=slice_rewards)\n",
    "        \n",
    "        estimated_reward = np.mean(context_slice @ linreg_theta, axis=0)\n",
    "        \n",
    "        print(\n",
    "            f\"  Arm {arm}: p={np.mean(p):.2f}, mean reward={np.mean(slice_rewards):.2f}\",\n",
    "            f\"  reward estimated by linear regression {estimated_reward:.2f}\", \n",
    "        )\n",
    "\n",
    "\n",
    "    "
   ]
  },
  {
   "cell_type": "raw",
   "id": "923b4f6d",
   "metadata": {},
   "source": [
    "contexts.shape"
   ]
  },
  {
   "cell_type": "code",
   "execution_count": 23,
   "id": "a369228f",
   "metadata": {},
   "outputs": [
    {
     "data": {
      "text/plain": [
       "(10000, 5)"
      ]
     },
     "execution_count": 23,
     "metadata": {},
     "output_type": "execute_result"
    }
   ],
   "source": [
    "rewards.shape"
   ]
  },
  {
   "cell_type": "code",
   "execution_count": 24,
   "id": "edf7a2c1",
   "metadata": {},
   "outputs": [
    {
     "data": {
      "text/plain": [
       "(10000, 4)"
      ]
     },
     "execution_count": 24,
     "metadata": {},
     "output_type": "execute_result"
    }
   ],
   "source": [
    "costs_vector.shape"
   ]
  },
  {
   "cell_type": "markdown",
   "id": "cdc222f6",
   "metadata": {},
   "source": [
    "## Testing algorithms on synthetic data"
   ]
  },
  {
   "cell_type": "code",
   "execution_count": 25,
   "id": "85e38f2a",
   "metadata": {},
   "outputs": [],
   "source": [
    "NUM_OF_TRIALS = 10000"
   ]
  },
  {
   "cell_type": "code",
   "execution_count": 26,
   "id": "094630c9",
   "metadata": {},
   "outputs": [
    {
     "name": "stdout",
     "output_type": "stream",
     "text": [
      "Random policy\n",
      "Total gain: 5311.0\n",
      "\tTotal reward: 5311.0\n",
      "\tTotal cost: 0\n",
      "Execution time: 0.1s\n"
     ]
    }
   ],
   "source": [
    "p_random = algorithms.RandomPolicy()\n",
    "gain_random = evaluation.evaluate_on_synthetic_data(\n",
    "    p_random,\n",
    "    contexts,\n",
    "    rewards,\n",
    "    costs_vector,\n",
    "    stop_after=NUM_OF_TRIALS,\n",
    ")"
   ]
  },
  {
   "cell_type": "code",
   "execution_count": 27,
   "id": "46136af3",
   "metadata": {},
   "outputs": [
    {
     "name": "stdout",
     "output_type": "stream",
     "text": [
      "E-greedy(epsilon=0.01)\n",
      "Total gain: 9414.0\n",
      "\tTotal reward: 9414.0\n",
      "\tTotal cost: 0\n",
      "Execution time: 0.1s\n"
     ]
    }
   ],
   "source": [
    "egreedy = algorithms.EpsilonGreedy(epsilon=0.01, n_arms=rewards.shape[1])\n",
    "\n",
    "gain_egreedy = evaluation.evaluate_on_synthetic_data(\n",
    "    egreedy,\n",
    "    contexts,\n",
    "    rewards,\n",
    "    costs_vector,\n",
    "    stop_after=NUM_OF_TRIALS,\n",
    ")"
   ]
  },
  {
   "cell_type": "code",
   "execution_count": 28,
   "id": "cbfd8489",
   "metadata": {},
   "outputs": [
    {
     "name": "stdout",
     "output_type": "stream",
     "text": [
      "UCB1 (α=0.4)\n",
      "Total gain: 9423.0\n",
      "\tTotal reward: 9423.0\n",
      "\tTotal cost: 0\n",
      "Execution time: 0.1s\n"
     ]
    }
   ],
   "source": [
    "ucb_alg = algorithms.UCB1(\n",
    "        n_trials=NUM_OF_TRIALS,\n",
    "        n_arms=rewards.shape[1],\n",
    "        alpha=0.4,\n",
    "    )\n",
    "\n",
    "gain_ucb = evaluation.evaluate_on_synthetic_data(\n",
    "    ucb_alg,\n",
    "    contexts,\n",
    "    rewards,\n",
    "    costs_vector,\n",
    "    stop_after=NUM_OF_TRIALS,\n",
    ")"
   ]
  },
  {
   "cell_type": "code",
   "execution_count": 29,
   "id": "82185b7f",
   "metadata": {},
   "outputs": [
    {
     "name": "stdout",
     "output_type": "stream",
     "text": [
      "LinUCB (alpha=0.4)\n",
      "Total gain: 7413.851784868798\n",
      "\tTotal reward: 8195.0\n",
      "\tTotal cost: 781.1482151311807\n",
      "Execution time: 0.3s\n"
     ]
    }
   ],
   "source": [
    "linucb = algorithms.LinUCB(\n",
    "    context_dimension=contexts.shape[1],\n",
    "    n_arms=rewards.shape[1],\n",
    "    alpha=0.4,\n",
    ")\n",
    "gain_linucb = evaluation.evaluate_on_synthetic_data(\n",
    "    linucb,\n",
    "    contexts,\n",
    "    rewards,\n",
    "    costs_vector,\n",
    "    stop_after=NUM_OF_TRIALS,\n",
    ")"
   ]
  },
  {
   "cell_type": "code",
   "execution_count": 30,
   "id": "bdcdc01d",
   "metadata": {},
   "outputs": [
    {
     "name": "stdout",
     "output_type": "stream",
     "text": [
      "PSLinUCB (alpha=0.3, omega=200, delta=0.1)\n",
      "Total gain: 8033.851784868796\n",
      "\tTotal reward: 8815.0\n",
      "\tTotal cost: 781.1482151311807\n",
      "Execution time: 1.2s\n"
     ]
    }
   ],
   "source": [
    "ps_linucb = algorithms.PSLinUCB(\n",
    "    context_dimension=contexts.shape[1],\n",
    "    n_arms=rewards.shape[1],\n",
    "    alpha=0.3,\n",
    "    omega=200,\n",
    "    delta=0.1,\n",
    ")\n",
    "\n",
    "\n",
    "gain_pslinucb = evaluation.evaluate_on_synthetic_data(\n",
    "    ps_linucb,\n",
    "    contexts,\n",
    "    rewards,\n",
    "    costs_vector,\n",
    "    stop_after=NUM_OF_TRIALS,\n",
    ")\n",
    "change_points = ps_linucb.change_points"
   ]
  },
  {
   "cell_type": "code",
   "execution_count": 31,
   "id": "41cb78ef",
   "metadata": {},
   "outputs": [],
   "source": [
    "np.random.seed(42)"
   ]
  },
  {
   "cell_type": "code",
   "execution_count": 32,
   "id": "73ca8674",
   "metadata": {},
   "outputs": [
    {
     "name": "stdout",
     "output_type": "stream",
     "text": [
      "Took 0.02271723747253418 seconds\n"
     ]
    }
   ],
   "source": [
    "s = time.time()\n",
    "p_simoos = algorithms.SimOOSAlgorithm(\n",
    "    all_contexts=contexts, \n",
    "    number_of_actions=rewards.shape[1],\n",
    "    max_no_red_context=contexts.shape[1],\n",
    "    beta_SimOOS=1,\n",
    "    delta_SimOOS=0.1,\n",
    ")\n",
    "print(f\"Took {time.time() - s} seconds\")"
   ]
  },
  {
   "cell_type": "code",
   "execution_count": 33,
   "id": "e1a6f5f7",
   "metadata": {
    "scrolled": true
   },
   "outputs": [
    {
     "ename": "KeyboardInterrupt",
     "evalue": "",
     "output_type": "error",
     "traceback": [
      "\u001b[0;31m---------------------------------------------------------------------------\u001b[0m",
      "\u001b[0;31mKeyboardInterrupt\u001b[0m                         Traceback (most recent call last)",
      "Input \u001b[0;32mIn [33]\u001b[0m, in \u001b[0;36m<cell line: 2>\u001b[0;34m()\u001b[0m\n\u001b[1;32m      3\u001b[0m warnings\u001b[38;5;241m.\u001b[39msimplefilter(\u001b[38;5;124m\"\u001b[39m\u001b[38;5;124mignore\u001b[39m\u001b[38;5;124m\"\u001b[39m)\n\u001b[1;32m      4\u001b[0m s \u001b[38;5;241m=\u001b[39m time\u001b[38;5;241m.\u001b[39mtime()\n\u001b[0;32m----> 5\u001b[0m gain_simoos \u001b[38;5;241m=\u001b[39m \u001b[43mevaluation\u001b[49m\u001b[38;5;241;43m.\u001b[39;49m\u001b[43mevaluate_on_synthetic_data\u001b[49m\u001b[43m(\u001b[49m\n\u001b[1;32m      6\u001b[0m \u001b[43m    \u001b[49m\u001b[43mp_simoos\u001b[49m\u001b[43m,\u001b[49m\n\u001b[1;32m      7\u001b[0m \u001b[43m    \u001b[49m\u001b[43mcontexts\u001b[49m\u001b[43m[\u001b[49m\u001b[43m:\u001b[49m\u001b[43mNUM_OF_TRIALS\u001b[49m\u001b[43m]\u001b[49m\u001b[43m,\u001b[49m\n\u001b[1;32m      8\u001b[0m \u001b[43m    \u001b[49m\u001b[43mrewards\u001b[49m\u001b[43m[\u001b[49m\u001b[43m:\u001b[49m\u001b[43mNUM_OF_TRIALS\u001b[49m\u001b[43m]\u001b[49m\u001b[43m,\u001b[49m\n\u001b[1;32m      9\u001b[0m \u001b[43m    \u001b[49m\u001b[43mcosts_vector\u001b[49m\u001b[43m[\u001b[49m\u001b[43m:\u001b[49m\u001b[43mNUM_OF_TRIALS\u001b[49m\u001b[43m]\u001b[49m\u001b[43m,\u001b[49m\n\u001b[1;32m     10\u001b[0m \u001b[43m    \u001b[49m\u001b[43mstop_after\u001b[49m\u001b[38;5;241;43m=\u001b[39;49m\u001b[43mNUM_OF_TRIALS\u001b[49m\u001b[43m,\u001b[49m\n\u001b[1;32m     11\u001b[0m \u001b[43m\u001b[49m\u001b[43m)\u001b[49m\n\u001b[1;32m     12\u001b[0m \u001b[38;5;28mprint\u001b[39m(\u001b[38;5;124mf\u001b[39m\u001b[38;5;124m\"\u001b[39m\u001b[38;5;124mTook \u001b[39m\u001b[38;5;132;01m{\u001b[39;00mtime\u001b[38;5;241m.\u001b[39mtime() \u001b[38;5;241m-\u001b[39m s\u001b[38;5;132;01m}\u001b[39;00m\u001b[38;5;124m seconds\u001b[39m\u001b[38;5;124m\"\u001b[39m)\n",
      "File \u001b[0;32m~/git/work/examples/costly_nonstationary_bandits/evaluation.py:162\u001b[0m, in \u001b[0;36mevaluate_on_synthetic_data\u001b[0;34m(bandit_algorithm, contexts, rewards, costs_vector, stop_after)\u001b[0m\n\u001b[1;32m    159\u001b[0m context_at_t \u001b[38;5;241m=\u001b[39m contexts[trial]\n\u001b[1;32m    160\u001b[0m cost_vector_at_t \u001b[38;5;241m=\u001b[39m costs_vector[trial]\n\u001b[0;32m--> 162\u001b[0m features_to_observe \u001b[38;5;241m=\u001b[39m \u001b[43mbandit_algorithm\u001b[49m\u001b[38;5;241;43m.\u001b[39;49m\u001b[43mchoose_features_to_observe\u001b[49m\u001b[43m(\u001b[49m\n\u001b[1;32m    163\u001b[0m \u001b[43m    \u001b[49m\u001b[43mtrial\u001b[49m\u001b[43m,\u001b[49m\u001b[43m \u001b[49m\u001b[43mfeature_indices\u001b[49m\u001b[38;5;241;43m=\u001b[39;49m\u001b[38;5;28;43mlist\u001b[39;49m\u001b[43m(\u001b[49m\u001b[38;5;28;43mrange\u001b[39;49m\u001b[43m(\u001b[49m\u001b[43mnum_features\u001b[49m\u001b[43m)\u001b[49m\u001b[43m)\u001b[49m\u001b[43m,\u001b[49m\u001b[43m \u001b[49m\u001b[43mcost_vector\u001b[49m\u001b[38;5;241;43m=\u001b[39;49m\u001b[43mcost_vector_at_t\u001b[49m\u001b[43m,\u001b[49m\n\u001b[1;32m    164\u001b[0m \u001b[43m\u001b[49m\u001b[43m)\u001b[49m\n\u001b[1;32m    165\u001b[0m observed_features \u001b[38;5;241m=\u001b[39m np\u001b[38;5;241m.\u001b[39marray(\n\u001b[1;32m    166\u001b[0m     [\n\u001b[1;32m    167\u001b[0m         feature \u001b[38;5;28;01mif\u001b[39;00m index \u001b[38;5;129;01min\u001b[39;00m features_to_observe \u001b[38;5;28;01melse\u001b[39;00m \u001b[38;5;28;01mNone\u001b[39;00m\n\u001b[1;32m    168\u001b[0m         \u001b[38;5;28;01mfor\u001b[39;00m index, feature \u001b[38;5;129;01min\u001b[39;00m \u001b[38;5;28menumerate\u001b[39m(context_at_t)\n\u001b[1;32m    169\u001b[0m     ]\n\u001b[1;32m    170\u001b[0m )\n\u001b[1;32m    172\u001b[0m pool_indices \u001b[38;5;241m=\u001b[39m \u001b[38;5;28mlist\u001b[39m(\u001b[38;5;28mrange\u001b[39m(num_arms))\n",
      "File \u001b[0;32m~/git/work/examples/costly_nonstationary_bandits/algorithms/sim_oos.py:286\u001b[0m, in \u001b[0;36mSimOOSAlgorithm.choose_features_to_observe\u001b[0;34m(self, t, feature_indices, cost_vector)\u001b[0m\n\u001b[1;32m    283\u001b[0m \u001b[38;5;28;01melse\u001b[39;00m:\n\u001b[1;32m    284\u001b[0m     \u001b[38;5;66;03m# Optimistic Policy Optimization\u001b[39;00m\n\u001b[1;32m    285\u001b[0m     \u001b[38;5;28;01mif\u001b[39;00m \u001b[38;5;28mself\u001b[39m\u001b[38;5;241m.\u001b[39mnew_round \u001b[38;5;241m==\u001b[39m \u001b[38;5;241m1\u001b[39m:\n\u001b[0;32m--> 286\u001b[0m         \u001b[38;5;28;43mself\u001b[39;49m\u001b[38;5;241;43m.\u001b[39;49m\u001b[43minitialize_new_round\u001b[49m\u001b[43m(\u001b[49m\u001b[43mt\u001b[49m\u001b[43m,\u001b[49m\u001b[43m \u001b[49m\u001b[43mcost_vector\u001b[49m\u001b[43m)\u001b[49m\n\u001b[1;32m    287\u001b[0m     \u001b[38;5;28mself\u001b[39m\u001b[38;5;241m.\u001b[39mobservation_action_at_t \u001b[38;5;241m=\u001b[39m \u001b[38;5;28mself\u001b[39m\u001b[38;5;241m.\u001b[39mselected_observation_action_at_t\n\u001b[1;32m    288\u001b[0m \u001b[38;5;28;01mreturn\u001b[39;00m [ind \u001b[38;5;28;01mfor\u001b[39;00m ind, value \u001b[38;5;129;01min\u001b[39;00m \u001b[38;5;28menumerate\u001b[39m(\u001b[38;5;28mself\u001b[39m\u001b[38;5;241m.\u001b[39mobservation_action_at_t) \u001b[38;5;28;01mif\u001b[39;00m value]\n",
      "File \u001b[0;32m~/git/work/examples/costly_nonstationary_bandits/algorithms/sim_oos.py:265\u001b[0m, in \u001b[0;36mSimOOSAlgorithm.initialize_new_round\u001b[0;34m(self, t, cost_vector)\u001b[0m\n\u001b[1;32m    261\u001b[0m constraints \u001b[38;5;241m=\u001b[39m [cp\u001b[38;5;241m.\u001b[39mnorm((prob_tilde \u001b[38;5;241m-\u001b[39m prob_hat), \u001b[38;5;241m1\u001b[39m) \u001b[38;5;241m<\u001b[39m\u001b[38;5;241m=\u001b[39m confidence_interval_2, cp\u001b[38;5;241m.\u001b[39msum(prob_tilde) \u001b[38;5;241m==\u001b[39m \u001b[38;5;241m1\u001b[39m]\n\u001b[1;32m    263\u001b[0m prob \u001b[38;5;241m=\u001b[39m cp\u001b[38;5;241m.\u001b[39mProblem(objective, constraints)\n\u001b[0;32m--> 265\u001b[0m \u001b[43mprob\u001b[49m\u001b[38;5;241;43m.\u001b[39;49m\u001b[43msolve\u001b[49m\u001b[43m(\u001b[49m\u001b[43m)\u001b[49m\n\u001b[1;32m    267\u001b[0m \u001b[38;5;66;03m# Similar to paper, set V_hat[i] = nu_t[i] as the maximizer\u001b[39;00m\n\u001b[1;32m    268\u001b[0m \u001b[38;5;28mself\u001b[39m\u001b[38;5;241m.\u001b[39mnu_t[i] \u001b[38;5;241m=\u001b[39m prob\u001b[38;5;241m.\u001b[39mvalue\n",
      "File \u001b[0;32m~/miniforge3/envs/costly_nonstationary_bandits/lib/python3.10/site-packages/cvxpy/problems/problem.py:473\u001b[0m, in \u001b[0;36mProblem.solve\u001b[0;34m(self, *args, **kwargs)\u001b[0m\n\u001b[1;32m    471\u001b[0m \u001b[38;5;28;01melse\u001b[39;00m:\n\u001b[1;32m    472\u001b[0m     solve_func \u001b[38;5;241m=\u001b[39m Problem\u001b[38;5;241m.\u001b[39m_solve\n\u001b[0;32m--> 473\u001b[0m \u001b[38;5;28;01mreturn\u001b[39;00m \u001b[43msolve_func\u001b[49m\u001b[43m(\u001b[49m\u001b[38;5;28;43mself\u001b[39;49m\u001b[43m,\u001b[49m\u001b[43m \u001b[49m\u001b[38;5;241;43m*\u001b[39;49m\u001b[43margs\u001b[49m\u001b[43m,\u001b[49m\u001b[43m \u001b[49m\u001b[38;5;241;43m*\u001b[39;49m\u001b[38;5;241;43m*\u001b[39;49m\u001b[43mkwargs\u001b[49m\u001b[43m)\u001b[49m\n",
      "File \u001b[0;32m~/miniforge3/envs/costly_nonstationary_bandits/lib/python3.10/site-packages/cvxpy/problems/problem.py:966\u001b[0m, in \u001b[0;36mProblem._solve\u001b[0;34m(self, solver, warm_start, verbose, gp, qcp, requires_grad, enforce_dpp, **kwargs)\u001b[0m\n\u001b[1;32m    963\u001b[0m         \u001b[38;5;28mself\u001b[39m\u001b[38;5;241m.\u001b[39munpack(chain\u001b[38;5;241m.\u001b[39mretrieve(soln))\n\u001b[1;32m    964\u001b[0m         \u001b[38;5;28;01mreturn\u001b[39;00m \u001b[38;5;28mself\u001b[39m\u001b[38;5;241m.\u001b[39mvalue\n\u001b[0;32m--> 966\u001b[0m data, solving_chain, inverse_data \u001b[38;5;241m=\u001b[39m \u001b[38;5;28;43mself\u001b[39;49m\u001b[38;5;241;43m.\u001b[39;49m\u001b[43mget_problem_data\u001b[49m\u001b[43m(\u001b[49m\n\u001b[1;32m    967\u001b[0m \u001b[43m    \u001b[49m\u001b[43msolver\u001b[49m\u001b[43m,\u001b[49m\u001b[43m \u001b[49m\u001b[43mgp\u001b[49m\u001b[43m,\u001b[49m\u001b[43m \u001b[49m\u001b[43menforce_dpp\u001b[49m\u001b[43m,\u001b[49m\u001b[43m \u001b[49m\u001b[43mverbose\u001b[49m\u001b[43m)\u001b[49m\n\u001b[1;32m    969\u001b[0m \u001b[38;5;28;01mif\u001b[39;00m verbose:\n\u001b[1;32m    970\u001b[0m     \u001b[38;5;28mprint\u001b[39m(_NUM_SOLVER_STR)\n",
      "File \u001b[0;32m~/miniforge3/envs/costly_nonstationary_bandits/lib/python3.10/site-packages/cvxpy/problems/problem.py:581\u001b[0m, in \u001b[0;36mProblem.get_problem_data\u001b[0;34m(self, solver, gp, enforce_dpp, verbose)\u001b[0m\n\u001b[1;32m    579\u001b[0m \u001b[38;5;28;01mif\u001b[39;00m key \u001b[38;5;241m!=\u001b[39m \u001b[38;5;28mself\u001b[39m\u001b[38;5;241m.\u001b[39m_cache\u001b[38;5;241m.\u001b[39mkey:\n\u001b[1;32m    580\u001b[0m     \u001b[38;5;28mself\u001b[39m\u001b[38;5;241m.\u001b[39m_cache\u001b[38;5;241m.\u001b[39minvalidate()\n\u001b[0;32m--> 581\u001b[0m     solving_chain \u001b[38;5;241m=\u001b[39m \u001b[38;5;28;43mself\u001b[39;49m\u001b[38;5;241;43m.\u001b[39;49m\u001b[43m_construct_chain\u001b[49m\u001b[43m(\u001b[49m\n\u001b[1;32m    582\u001b[0m \u001b[43m        \u001b[49m\u001b[43msolver\u001b[49m\u001b[38;5;241;43m=\u001b[39;49m\u001b[43msolver\u001b[49m\u001b[43m,\u001b[49m\u001b[43m \u001b[49m\u001b[43mgp\u001b[49m\u001b[38;5;241;43m=\u001b[39;49m\u001b[43mgp\u001b[49m\u001b[43m,\u001b[49m\u001b[43m \u001b[49m\u001b[43menforce_dpp\u001b[49m\u001b[38;5;241;43m=\u001b[39;49m\u001b[43menforce_dpp\u001b[49m\u001b[43m)\u001b[49m\n\u001b[1;32m    583\u001b[0m     \u001b[38;5;28mself\u001b[39m\u001b[38;5;241m.\u001b[39m_cache\u001b[38;5;241m.\u001b[39mkey \u001b[38;5;241m=\u001b[39m key\n\u001b[1;32m    584\u001b[0m     \u001b[38;5;28mself\u001b[39m\u001b[38;5;241m.\u001b[39m_cache\u001b[38;5;241m.\u001b[39msolving_chain \u001b[38;5;241m=\u001b[39m solving_chain\n",
      "File \u001b[0;32m~/miniforge3/envs/costly_nonstationary_bandits/lib/python3.10/site-packages/cvxpy/problems/problem.py:809\u001b[0m, in \u001b[0;36mProblem._construct_chain\u001b[0;34m(self, solver, gp, enforce_dpp)\u001b[0m\n\u001b[1;32m    807\u001b[0m candidate_solvers \u001b[38;5;241m=\u001b[39m \u001b[38;5;28mself\u001b[39m\u001b[38;5;241m.\u001b[39m_find_candidate_solvers(solver\u001b[38;5;241m=\u001b[39msolver, gp\u001b[38;5;241m=\u001b[39mgp)\n\u001b[1;32m    808\u001b[0m \u001b[38;5;28mself\u001b[39m\u001b[38;5;241m.\u001b[39m_sort_candidate_solvers(candidate_solvers)\n\u001b[0;32m--> 809\u001b[0m \u001b[38;5;28;01mreturn\u001b[39;00m \u001b[43mconstruct_solving_chain\u001b[49m\u001b[43m(\u001b[49m\u001b[38;5;28;43mself\u001b[39;49m\u001b[43m,\u001b[49m\u001b[43m \u001b[49m\u001b[43mcandidate_solvers\u001b[49m\u001b[43m,\u001b[49m\u001b[43m \u001b[49m\u001b[43mgp\u001b[49m\u001b[38;5;241;43m=\u001b[39;49m\u001b[43mgp\u001b[49m\u001b[43m,\u001b[49m\n\u001b[1;32m    810\u001b[0m \u001b[43m                               \u001b[49m\u001b[43menforce_dpp\u001b[49m\u001b[38;5;241;43m=\u001b[39;49m\u001b[43menforce_dpp\u001b[49m\u001b[43m)\u001b[49m\n",
      "File \u001b[0;32m~/miniforge3/envs/costly_nonstationary_bandits/lib/python3.10/site-packages/cvxpy/reductions/solvers/solving_chain.py:165\u001b[0m, in \u001b[0;36mconstruct_solving_chain\u001b[0;34m(problem, candidates, gp, enforce_dpp)\u001b[0m\n\u001b[1;32m    157\u001b[0m dpp_context \u001b[38;5;241m=\u001b[39m \u001b[38;5;124m'\u001b[39m\u001b[38;5;124mdcp\u001b[39m\u001b[38;5;124m'\u001b[39m \u001b[38;5;28;01mif\u001b[39;00m \u001b[38;5;129;01mnot\u001b[39;00m gp \u001b[38;5;28;01melse\u001b[39;00m \u001b[38;5;124m'\u001b[39m\u001b[38;5;124mdgp\u001b[39m\u001b[38;5;124m'\u001b[39m\n\u001b[1;32m    158\u001b[0m dpp_error_msg \u001b[38;5;241m=\u001b[39m (\n\u001b[1;32m    159\u001b[0m         \u001b[38;5;124m\"\u001b[39m\u001b[38;5;124mYou are solving a parameterized problem that is not DPP. \u001b[39m\u001b[38;5;124m\"\u001b[39m\n\u001b[1;32m    160\u001b[0m         \u001b[38;5;124m\"\u001b[39m\u001b[38;5;124mBecause the problem is not DPP, subsequent solves will not be \u001b[39m\u001b[38;5;124m\"\u001b[39m\n\u001b[0;32m   (...)\u001b[0m\n\u001b[1;32m    163\u001b[0m         \u001b[38;5;124m\"\u001b[39m\u001b[38;5;130;01m\\t\u001b[39;00m\u001b[38;5;124mhttps://www.cvxpy.org/tutorial/advanced/index.html#\u001b[39m\u001b[38;5;124m\"\u001b[39m\n\u001b[1;32m    164\u001b[0m         \u001b[38;5;124m\"\u001b[39m\u001b[38;5;124mdisciplined-parametrized-programming\u001b[39m\u001b[38;5;124m\"\u001b[39m)\n\u001b[0;32m--> 165\u001b[0m \u001b[38;5;28;01mif\u001b[39;00m \u001b[38;5;129;01mnot\u001b[39;00m \u001b[43mproblem\u001b[49m\u001b[38;5;241;43m.\u001b[39;49m\u001b[43mis_dpp\u001b[49m\u001b[43m(\u001b[49m\u001b[43mdpp_context\u001b[49m\u001b[43m)\u001b[49m:\n\u001b[1;32m    166\u001b[0m     \u001b[38;5;28;01mif\u001b[39;00m \u001b[38;5;129;01mnot\u001b[39;00m enforce_dpp:\n\u001b[1;32m    167\u001b[0m         warnings\u001b[38;5;241m.\u001b[39mwarn(dpp_error_msg)\n",
      "File \u001b[0;32m~/miniforge3/envs/costly_nonstationary_bandits/lib/python3.10/site-packages/cvxpy/utilities/performance_utils.py:73\u001b[0m, in \u001b[0;36mcompute_once.<locals>._compute_once\u001b[0;34m(self, *args, **kwargs)\u001b[0m\n\u001b[1;32m     71\u001b[0m \u001b[38;5;28;01mif\u001b[39;00m key \u001b[38;5;129;01min\u001b[39;00m cache:\n\u001b[1;32m     72\u001b[0m     \u001b[38;5;28;01mreturn\u001b[39;00m cache[key]\n\u001b[0;32m---> 73\u001b[0m result \u001b[38;5;241m=\u001b[39m \u001b[43mfunc\u001b[49m\u001b[43m(\u001b[49m\u001b[38;5;28;43mself\u001b[39;49m\u001b[43m,\u001b[49m\u001b[43m \u001b[49m\u001b[38;5;241;43m*\u001b[39;49m\u001b[43margs\u001b[49m\u001b[43m,\u001b[49m\u001b[43m \u001b[49m\u001b[38;5;241;43m*\u001b[39;49m\u001b[38;5;241;43m*\u001b[39;49m\u001b[43mkwargs\u001b[49m\u001b[43m)\u001b[49m\n\u001b[1;32m     74\u001b[0m cache[key] \u001b[38;5;241m=\u001b[39m result\n\u001b[1;32m     75\u001b[0m \u001b[38;5;28;01mreturn\u001b[39;00m result\n",
      "File \u001b[0;32m~/miniforge3/envs/costly_nonstationary_bandits/lib/python3.10/site-packages/cvxpy/problems/problem.py:299\u001b[0m, in \u001b[0;36mProblem.is_dpp\u001b[0;34m(self, context)\u001b[0m\n\u001b[1;32m    276\u001b[0m \u001b[38;5;124;03m\"\"\"Does the problem satisfy DPP rules?\u001b[39;00m\n\u001b[1;32m    277\u001b[0m \n\u001b[1;32m    278\u001b[0m \u001b[38;5;124;03mDPP is a mild restriction of DGP. When a problem involving\u001b[39;00m\n\u001b[0;32m   (...)\u001b[0m\n\u001b[1;32m    296\u001b[0m \u001b[38;5;124;03m    Whether the problem satisfies the DPP rules.\u001b[39;00m\n\u001b[1;32m    297\u001b[0m \u001b[38;5;124;03m\"\"\"\u001b[39;00m\n\u001b[1;32m    298\u001b[0m \u001b[38;5;28;01mif\u001b[39;00m context\u001b[38;5;241m.\u001b[39mlower() \u001b[38;5;241m==\u001b[39m \u001b[38;5;124m'\u001b[39m\u001b[38;5;124mdcp\u001b[39m\u001b[38;5;124m'\u001b[39m:\n\u001b[0;32m--> 299\u001b[0m     \u001b[38;5;28;01mreturn\u001b[39;00m \u001b[38;5;28;43mself\u001b[39;49m\u001b[38;5;241;43m.\u001b[39;49m\u001b[43mis_dcp\u001b[49m\u001b[43m(\u001b[49m\u001b[43mdpp\u001b[49m\u001b[38;5;241;43m=\u001b[39;49m\u001b[38;5;28;43;01mTrue\u001b[39;49;00m\u001b[43m)\u001b[49m\n\u001b[1;32m    300\u001b[0m \u001b[38;5;28;01melif\u001b[39;00m context\u001b[38;5;241m.\u001b[39mlower() \u001b[38;5;241m==\u001b[39m \u001b[38;5;124m'\u001b[39m\u001b[38;5;124mdgp\u001b[39m\u001b[38;5;124m'\u001b[39m:\n\u001b[1;32m    301\u001b[0m     \u001b[38;5;28;01mreturn\u001b[39;00m \u001b[38;5;28mself\u001b[39m\u001b[38;5;241m.\u001b[39mis_dgp(dpp\u001b[38;5;241m=\u001b[39m\u001b[38;5;28;01mTrue\u001b[39;00m)\n",
      "File \u001b[0;32m~/miniforge3/envs/costly_nonstationary_bandits/lib/python3.10/site-packages/cvxpy/utilities/performance_utils.py:73\u001b[0m, in \u001b[0;36mcompute_once.<locals>._compute_once\u001b[0;34m(self, *args, **kwargs)\u001b[0m\n\u001b[1;32m     71\u001b[0m \u001b[38;5;28;01mif\u001b[39;00m key \u001b[38;5;129;01min\u001b[39;00m cache:\n\u001b[1;32m     72\u001b[0m     \u001b[38;5;28;01mreturn\u001b[39;00m cache[key]\n\u001b[0;32m---> 73\u001b[0m result \u001b[38;5;241m=\u001b[39m \u001b[43mfunc\u001b[49m\u001b[43m(\u001b[49m\u001b[38;5;28;43mself\u001b[39;49m\u001b[43m,\u001b[49m\u001b[43m \u001b[49m\u001b[38;5;241;43m*\u001b[39;49m\u001b[43margs\u001b[49m\u001b[43m,\u001b[49m\u001b[43m \u001b[49m\u001b[38;5;241;43m*\u001b[39;49m\u001b[38;5;241;43m*\u001b[39;49m\u001b[43mkwargs\u001b[49m\u001b[43m)\u001b[49m\n\u001b[1;32m     74\u001b[0m cache[key] \u001b[38;5;241m=\u001b[39m result\n\u001b[1;32m     75\u001b[0m \u001b[38;5;28;01mreturn\u001b[39;00m result\n",
      "File \u001b[0;32m~/miniforge3/envs/costly_nonstationary_bandits/lib/python3.10/site-packages/cvxpy/problems/problem.py:241\u001b[0m, in \u001b[0;36mProblem.is_dcp\u001b[0;34m(self, dpp)\u001b[0m\n\u001b[1;32m    221\u001b[0m \u001b[38;5;129m@perf\u001b[39m\u001b[38;5;241m.\u001b[39mcompute_once\n\u001b[1;32m    222\u001b[0m \u001b[38;5;28;01mdef\u001b[39;00m \u001b[38;5;21mis_dcp\u001b[39m(\u001b[38;5;28mself\u001b[39m, dpp: \u001b[38;5;28mbool\u001b[39m \u001b[38;5;241m=\u001b[39m \u001b[38;5;28;01mFalse\u001b[39;00m) \u001b[38;5;241m-\u001b[39m\u001b[38;5;241m>\u001b[39m \u001b[38;5;28mbool\u001b[39m:\n\u001b[1;32m    223\u001b[0m     \u001b[38;5;124;03m\"\"\"Does the problem satisfy DCP rules?\u001b[39;00m\n\u001b[1;32m    224\u001b[0m \n\u001b[1;32m    225\u001b[0m \u001b[38;5;124;03m    Arguments\u001b[39;00m\n\u001b[0;32m   (...)\u001b[0m\n\u001b[1;32m    239\u001b[0m \u001b[38;5;124;03m        True if the Expression is DCP, False otherwise.\u001b[39;00m\n\u001b[1;32m    240\u001b[0m \u001b[38;5;124;03m    \"\"\"\u001b[39;00m\n\u001b[0;32m--> 241\u001b[0m     \u001b[38;5;28;01mreturn\u001b[39;00m \u001b[38;5;28;43mall\u001b[39;49m\u001b[43m(\u001b[49m\n\u001b[1;32m    242\u001b[0m \u001b[43m      \u001b[49m\u001b[43mexpr\u001b[49m\u001b[38;5;241;43m.\u001b[39;49m\u001b[43mis_dcp\u001b[49m\u001b[43m(\u001b[49m\u001b[43mdpp\u001b[49m\u001b[43m)\u001b[49m\u001b[43m \u001b[49m\u001b[38;5;28;43;01mfor\u001b[39;49;00m\u001b[43m \u001b[49m\u001b[43mexpr\u001b[49m\u001b[43m \u001b[49m\u001b[38;5;129;43;01min\u001b[39;49;00m\u001b[43m \u001b[49m\u001b[38;5;28;43mself\u001b[39;49m\u001b[38;5;241;43m.\u001b[39;49m\u001b[43mconstraints\u001b[49m\u001b[43m \u001b[49m\u001b[38;5;241;43m+\u001b[39;49m\u001b[43m \u001b[49m\u001b[43m[\u001b[49m\u001b[38;5;28;43mself\u001b[39;49m\u001b[38;5;241;43m.\u001b[39;49m\u001b[43mobjective\u001b[49m\u001b[43m]\u001b[49m\u001b[43m)\u001b[49m\n",
      "File \u001b[0;32m~/miniforge3/envs/costly_nonstationary_bandits/lib/python3.10/site-packages/cvxpy/problems/problem.py:242\u001b[0m, in \u001b[0;36m<genexpr>\u001b[0;34m(.0)\u001b[0m\n\u001b[1;32m    221\u001b[0m \u001b[38;5;129m@perf\u001b[39m\u001b[38;5;241m.\u001b[39mcompute_once\n\u001b[1;32m    222\u001b[0m \u001b[38;5;28;01mdef\u001b[39;00m \u001b[38;5;21mis_dcp\u001b[39m(\u001b[38;5;28mself\u001b[39m, dpp: \u001b[38;5;28mbool\u001b[39m \u001b[38;5;241m=\u001b[39m \u001b[38;5;28;01mFalse\u001b[39;00m) \u001b[38;5;241m-\u001b[39m\u001b[38;5;241m>\u001b[39m \u001b[38;5;28mbool\u001b[39m:\n\u001b[1;32m    223\u001b[0m     \u001b[38;5;124;03m\"\"\"Does the problem satisfy DCP rules?\u001b[39;00m\n\u001b[1;32m    224\u001b[0m \n\u001b[1;32m    225\u001b[0m \u001b[38;5;124;03m    Arguments\u001b[39;00m\n\u001b[0;32m   (...)\u001b[0m\n\u001b[1;32m    239\u001b[0m \u001b[38;5;124;03m        True if the Expression is DCP, False otherwise.\u001b[39;00m\n\u001b[1;32m    240\u001b[0m \u001b[38;5;124;03m    \"\"\"\u001b[39;00m\n\u001b[1;32m    241\u001b[0m     \u001b[38;5;28;01mreturn\u001b[39;00m \u001b[38;5;28mall\u001b[39m(\n\u001b[0;32m--> 242\u001b[0m       \u001b[43mexpr\u001b[49m\u001b[38;5;241;43m.\u001b[39;49m\u001b[43mis_dcp\u001b[49m\u001b[43m(\u001b[49m\u001b[43mdpp\u001b[49m\u001b[43m)\u001b[49m \u001b[38;5;28;01mfor\u001b[39;00m expr \u001b[38;5;129;01min\u001b[39;00m \u001b[38;5;28mself\u001b[39m\u001b[38;5;241m.\u001b[39mconstraints \u001b[38;5;241m+\u001b[39m [\u001b[38;5;28mself\u001b[39m\u001b[38;5;241m.\u001b[39mobjective])\n",
      "File \u001b[0;32m~/miniforge3/envs/costly_nonstationary_bandits/lib/python3.10/site-packages/cvxpy/constraints/nonpos.py:184\u001b[0m, in \u001b[0;36mInequality.is_dcp\u001b[0;34m(self, dpp)\u001b[0m\n\u001b[1;32m    182\u001b[0m \u001b[38;5;28;01mif\u001b[39;00m dpp:\n\u001b[1;32m    183\u001b[0m     \u001b[38;5;28;01mwith\u001b[39;00m scopes\u001b[38;5;241m.\u001b[39mdpp_scope():\n\u001b[0;32m--> 184\u001b[0m         \u001b[38;5;28;01mreturn\u001b[39;00m \u001b[38;5;28;43mself\u001b[39;49m\u001b[38;5;241;43m.\u001b[39;49m\u001b[43mexpr\u001b[49m\u001b[38;5;241;43m.\u001b[39;49m\u001b[43mis_convex\u001b[49m\u001b[43m(\u001b[49m\u001b[43m)\u001b[49m\n\u001b[1;32m    185\u001b[0m \u001b[38;5;28;01mreturn\u001b[39;00m \u001b[38;5;28mself\u001b[39m\u001b[38;5;241m.\u001b[39mexpr\u001b[38;5;241m.\u001b[39mis_convex()\n",
      "File \u001b[0;32m~/miniforge3/envs/costly_nonstationary_bandits/lib/python3.10/site-packages/cvxpy/utilities/performance_utils.py:73\u001b[0m, in \u001b[0;36mcompute_once.<locals>._compute_once\u001b[0;34m(self, *args, **kwargs)\u001b[0m\n\u001b[1;32m     71\u001b[0m \u001b[38;5;28;01mif\u001b[39;00m key \u001b[38;5;129;01min\u001b[39;00m cache:\n\u001b[1;32m     72\u001b[0m     \u001b[38;5;28;01mreturn\u001b[39;00m cache[key]\n\u001b[0;32m---> 73\u001b[0m result \u001b[38;5;241m=\u001b[39m \u001b[43mfunc\u001b[49m\u001b[43m(\u001b[49m\u001b[38;5;28;43mself\u001b[39;49m\u001b[43m,\u001b[49m\u001b[43m \u001b[49m\u001b[38;5;241;43m*\u001b[39;49m\u001b[43margs\u001b[49m\u001b[43m,\u001b[49m\u001b[43m \u001b[49m\u001b[38;5;241;43m*\u001b[39;49m\u001b[38;5;241;43m*\u001b[39;49m\u001b[43mkwargs\u001b[49m\u001b[43m)\u001b[49m\n\u001b[1;32m     74\u001b[0m cache[key] \u001b[38;5;241m=\u001b[39m result\n\u001b[1;32m     75\u001b[0m \u001b[38;5;28;01mreturn\u001b[39;00m result\n",
      "File \u001b[0;32m~/miniforge3/envs/costly_nonstationary_bandits/lib/python3.10/site-packages/cvxpy/atoms/atom.py:174\u001b[0m, in \u001b[0;36mAtom.is_convex\u001b[0;34m(self)\u001b[0m\n\u001b[1;32m    171\u001b[0m \u001b[38;5;124;03m\"\"\"Is the expression convex?\u001b[39;00m\n\u001b[1;32m    172\u001b[0m \u001b[38;5;124;03m\"\"\"\u001b[39;00m\n\u001b[1;32m    173\u001b[0m \u001b[38;5;66;03m# Applies DCP composition rule.\u001b[39;00m\n\u001b[0;32m--> 174\u001b[0m \u001b[38;5;28;01mif\u001b[39;00m \u001b[38;5;28;43mself\u001b[39;49m\u001b[38;5;241;43m.\u001b[39;49m\u001b[43mis_constant\u001b[49m\u001b[43m(\u001b[49m\u001b[43m)\u001b[49m:\n\u001b[1;32m    175\u001b[0m     \u001b[38;5;28;01mreturn\u001b[39;00m \u001b[38;5;28;01mTrue\u001b[39;00m\n\u001b[1;32m    176\u001b[0m \u001b[38;5;28;01melif\u001b[39;00m \u001b[38;5;28mself\u001b[39m\u001b[38;5;241m.\u001b[39mis_atom_convex():\n",
      "File \u001b[0;32m~/miniforge3/envs/costly_nonstationary_bandits/lib/python3.10/site-packages/cvxpy/utilities/performance_utils.py:73\u001b[0m, in \u001b[0;36mcompute_once.<locals>._compute_once\u001b[0;34m(self, *args, **kwargs)\u001b[0m\n\u001b[1;32m     71\u001b[0m \u001b[38;5;28;01mif\u001b[39;00m key \u001b[38;5;129;01min\u001b[39;00m cache:\n\u001b[1;32m     72\u001b[0m     \u001b[38;5;28;01mreturn\u001b[39;00m cache[key]\n\u001b[0;32m---> 73\u001b[0m result \u001b[38;5;241m=\u001b[39m \u001b[43mfunc\u001b[49m\u001b[43m(\u001b[49m\u001b[38;5;28;43mself\u001b[39;49m\u001b[43m,\u001b[49m\u001b[43m \u001b[49m\u001b[38;5;241;43m*\u001b[39;49m\u001b[43margs\u001b[49m\u001b[43m,\u001b[49m\u001b[43m \u001b[49m\u001b[38;5;241;43m*\u001b[39;49m\u001b[38;5;241;43m*\u001b[39;49m\u001b[43mkwargs\u001b[49m\u001b[43m)\u001b[49m\n\u001b[1;32m     74\u001b[0m cache[key] \u001b[38;5;241m=\u001b[39m result\n\u001b[1;32m     75\u001b[0m \u001b[38;5;28;01mreturn\u001b[39;00m result\n",
      "File \u001b[0;32m~/miniforge3/envs/costly_nonstationary_bandits/lib/python3.10/site-packages/cvxpy/expressions/expression.py:181\u001b[0m, in \u001b[0;36mExpression.is_constant\u001b[0;34m(self)\u001b[0m\n\u001b[1;32m    177\u001b[0m \u001b[38;5;129m@perf\u001b[39m\u001b[38;5;241m.\u001b[39mcompute_once\n\u001b[1;32m    178\u001b[0m \u001b[38;5;28;01mdef\u001b[39;00m \u001b[38;5;21mis_constant\u001b[39m(\u001b[38;5;28mself\u001b[39m) \u001b[38;5;241m-\u001b[39m\u001b[38;5;241m>\u001b[39m \u001b[38;5;28mbool\u001b[39m:\n\u001b[1;32m    179\u001b[0m     \u001b[38;5;124;03m\"\"\"Is the expression constant?\u001b[39;00m\n\u001b[1;32m    180\u001b[0m \u001b[38;5;124;03m    \"\"\"\u001b[39;00m\n\u001b[0;32m--> 181\u001b[0m     \u001b[38;5;28;01mreturn\u001b[39;00m \u001b[38;5;241m0\u001b[39m \u001b[38;5;129;01min\u001b[39;00m \u001b[38;5;28mself\u001b[39m\u001b[38;5;241m.\u001b[39mshape \u001b[38;5;129;01mor\u001b[39;00m \u001b[38;5;28;43mall\u001b[39;49m\u001b[43m(\u001b[49m\n\u001b[1;32m    182\u001b[0m \u001b[43m        \u001b[49m\u001b[43marg\u001b[49m\u001b[38;5;241;43m.\u001b[39;49m\u001b[43mis_constant\u001b[49m\u001b[43m(\u001b[49m\u001b[43m)\u001b[49m\u001b[43m \u001b[49m\u001b[38;5;28;43;01mfor\u001b[39;49;00m\u001b[43m \u001b[49m\u001b[43marg\u001b[49m\u001b[43m \u001b[49m\u001b[38;5;129;43;01min\u001b[39;49;00m\u001b[43m \u001b[49m\u001b[38;5;28;43mself\u001b[39;49m\u001b[38;5;241;43m.\u001b[39;49m\u001b[43margs\u001b[49m\u001b[43m)\u001b[49m\n",
      "File \u001b[0;32m~/miniforge3/envs/costly_nonstationary_bandits/lib/python3.10/site-packages/cvxpy/expressions/expression.py:182\u001b[0m, in \u001b[0;36m<genexpr>\u001b[0;34m(.0)\u001b[0m\n\u001b[1;32m    177\u001b[0m \u001b[38;5;129m@perf\u001b[39m\u001b[38;5;241m.\u001b[39mcompute_once\n\u001b[1;32m    178\u001b[0m \u001b[38;5;28;01mdef\u001b[39;00m \u001b[38;5;21mis_constant\u001b[39m(\u001b[38;5;28mself\u001b[39m) \u001b[38;5;241m-\u001b[39m\u001b[38;5;241m>\u001b[39m \u001b[38;5;28mbool\u001b[39m:\n\u001b[1;32m    179\u001b[0m     \u001b[38;5;124;03m\"\"\"Is the expression constant?\u001b[39;00m\n\u001b[1;32m    180\u001b[0m \u001b[38;5;124;03m    \"\"\"\u001b[39;00m\n\u001b[1;32m    181\u001b[0m     \u001b[38;5;28;01mreturn\u001b[39;00m \u001b[38;5;241m0\u001b[39m \u001b[38;5;129;01min\u001b[39;00m \u001b[38;5;28mself\u001b[39m\u001b[38;5;241m.\u001b[39mshape \u001b[38;5;129;01mor\u001b[39;00m \u001b[38;5;28mall\u001b[39m(\n\u001b[0;32m--> 182\u001b[0m         \u001b[43marg\u001b[49m\u001b[38;5;241;43m.\u001b[39;49m\u001b[43mis_constant\u001b[49m\u001b[43m(\u001b[49m\u001b[43m)\u001b[49m \u001b[38;5;28;01mfor\u001b[39;00m arg \u001b[38;5;129;01min\u001b[39;00m \u001b[38;5;28mself\u001b[39m\u001b[38;5;241m.\u001b[39margs)\n",
      "File \u001b[0;32m~/miniforge3/envs/costly_nonstationary_bandits/lib/python3.10/site-packages/cvxpy/utilities/performance_utils.py:73\u001b[0m, in \u001b[0;36mcompute_once.<locals>._compute_once\u001b[0;34m(self, *args, **kwargs)\u001b[0m\n\u001b[1;32m     71\u001b[0m \u001b[38;5;28;01mif\u001b[39;00m key \u001b[38;5;129;01min\u001b[39;00m cache:\n\u001b[1;32m     72\u001b[0m     \u001b[38;5;28;01mreturn\u001b[39;00m cache[key]\n\u001b[0;32m---> 73\u001b[0m result \u001b[38;5;241m=\u001b[39m \u001b[43mfunc\u001b[49m\u001b[43m(\u001b[49m\u001b[38;5;28;43mself\u001b[39;49m\u001b[43m,\u001b[49m\u001b[43m \u001b[49m\u001b[38;5;241;43m*\u001b[39;49m\u001b[43margs\u001b[49m\u001b[43m,\u001b[49m\u001b[43m \u001b[49m\u001b[38;5;241;43m*\u001b[39;49m\u001b[38;5;241;43m*\u001b[39;49m\u001b[43mkwargs\u001b[49m\u001b[43m)\u001b[49m\n\u001b[1;32m     74\u001b[0m cache[key] \u001b[38;5;241m=\u001b[39m result\n\u001b[1;32m     75\u001b[0m \u001b[38;5;28;01mreturn\u001b[39;00m result\n",
      "File \u001b[0;32m~/miniforge3/envs/costly_nonstationary_bandits/lib/python3.10/site-packages/cvxpy/expressions/expression.py:181\u001b[0m, in \u001b[0;36mExpression.is_constant\u001b[0;34m(self)\u001b[0m\n\u001b[1;32m    177\u001b[0m \u001b[38;5;129m@perf\u001b[39m\u001b[38;5;241m.\u001b[39mcompute_once\n\u001b[1;32m    178\u001b[0m \u001b[38;5;28;01mdef\u001b[39;00m \u001b[38;5;21mis_constant\u001b[39m(\u001b[38;5;28mself\u001b[39m) \u001b[38;5;241m-\u001b[39m\u001b[38;5;241m>\u001b[39m \u001b[38;5;28mbool\u001b[39m:\n\u001b[1;32m    179\u001b[0m     \u001b[38;5;124;03m\"\"\"Is the expression constant?\u001b[39;00m\n\u001b[1;32m    180\u001b[0m \u001b[38;5;124;03m    \"\"\"\u001b[39;00m\n\u001b[0;32m--> 181\u001b[0m     \u001b[38;5;28;01mreturn\u001b[39;00m \u001b[38;5;241m0\u001b[39m \u001b[38;5;129;01min\u001b[39;00m \u001b[38;5;28mself\u001b[39m\u001b[38;5;241m.\u001b[39mshape \u001b[38;5;129;01mor\u001b[39;00m \u001b[38;5;28;43mall\u001b[39;49m\u001b[43m(\u001b[49m\n\u001b[1;32m    182\u001b[0m \u001b[43m        \u001b[49m\u001b[43marg\u001b[49m\u001b[38;5;241;43m.\u001b[39;49m\u001b[43mis_constant\u001b[49m\u001b[43m(\u001b[49m\u001b[43m)\u001b[49m\u001b[43m \u001b[49m\u001b[38;5;28;43;01mfor\u001b[39;49;00m\u001b[43m \u001b[49m\u001b[43marg\u001b[49m\u001b[43m \u001b[49m\u001b[38;5;129;43;01min\u001b[39;49;00m\u001b[43m \u001b[49m\u001b[38;5;28;43mself\u001b[39;49m\u001b[38;5;241;43m.\u001b[39;49m\u001b[43margs\u001b[49m\u001b[43m)\u001b[49m\n",
      "File \u001b[0;32m~/miniforge3/envs/costly_nonstationary_bandits/lib/python3.10/site-packages/cvxpy/expressions/expression.py:182\u001b[0m, in \u001b[0;36m<genexpr>\u001b[0;34m(.0)\u001b[0m\n\u001b[1;32m    177\u001b[0m \u001b[38;5;129m@perf\u001b[39m\u001b[38;5;241m.\u001b[39mcompute_once\n\u001b[1;32m    178\u001b[0m \u001b[38;5;28;01mdef\u001b[39;00m \u001b[38;5;21mis_constant\u001b[39m(\u001b[38;5;28mself\u001b[39m) \u001b[38;5;241m-\u001b[39m\u001b[38;5;241m>\u001b[39m \u001b[38;5;28mbool\u001b[39m:\n\u001b[1;32m    179\u001b[0m     \u001b[38;5;124;03m\"\"\"Is the expression constant?\u001b[39;00m\n\u001b[1;32m    180\u001b[0m \u001b[38;5;124;03m    \"\"\"\u001b[39;00m\n\u001b[1;32m    181\u001b[0m     \u001b[38;5;28;01mreturn\u001b[39;00m \u001b[38;5;241m0\u001b[39m \u001b[38;5;129;01min\u001b[39;00m \u001b[38;5;28mself\u001b[39m\u001b[38;5;241m.\u001b[39mshape \u001b[38;5;129;01mor\u001b[39;00m \u001b[38;5;28mall\u001b[39m(\n\u001b[0;32m--> 182\u001b[0m         \u001b[43marg\u001b[49m\u001b[38;5;241;43m.\u001b[39;49m\u001b[43mis_constant\u001b[49m\u001b[43m(\u001b[49m\u001b[43m)\u001b[49m \u001b[38;5;28;01mfor\u001b[39;00m arg \u001b[38;5;129;01min\u001b[39;00m \u001b[38;5;28mself\u001b[39m\u001b[38;5;241m.\u001b[39margs)\n",
      "File \u001b[0;32m~/miniforge3/envs/costly_nonstationary_bandits/lib/python3.10/site-packages/cvxpy/utilities/performance_utils.py:73\u001b[0m, in \u001b[0;36mcompute_once.<locals>._compute_once\u001b[0;34m(self, *args, **kwargs)\u001b[0m\n\u001b[1;32m     71\u001b[0m \u001b[38;5;28;01mif\u001b[39;00m key \u001b[38;5;129;01min\u001b[39;00m cache:\n\u001b[1;32m     72\u001b[0m     \u001b[38;5;28;01mreturn\u001b[39;00m cache[key]\n\u001b[0;32m---> 73\u001b[0m result \u001b[38;5;241m=\u001b[39m \u001b[43mfunc\u001b[49m\u001b[43m(\u001b[49m\u001b[38;5;28;43mself\u001b[39;49m\u001b[43m,\u001b[49m\u001b[43m \u001b[49m\u001b[38;5;241;43m*\u001b[39;49m\u001b[43margs\u001b[49m\u001b[43m,\u001b[49m\u001b[43m \u001b[49m\u001b[38;5;241;43m*\u001b[39;49m\u001b[38;5;241;43m*\u001b[39;49m\u001b[43mkwargs\u001b[49m\u001b[43m)\u001b[49m\n\u001b[1;32m     74\u001b[0m cache[key] \u001b[38;5;241m=\u001b[39m result\n\u001b[1;32m     75\u001b[0m \u001b[38;5;28;01mreturn\u001b[39;00m result\n",
      "File \u001b[0;32m~/miniforge3/envs/costly_nonstationary_bandits/lib/python3.10/site-packages/cvxpy/expressions/expression.py:181\u001b[0m, in \u001b[0;36mExpression.is_constant\u001b[0;34m(self)\u001b[0m\n\u001b[1;32m    177\u001b[0m \u001b[38;5;129m@perf\u001b[39m\u001b[38;5;241m.\u001b[39mcompute_once\n\u001b[1;32m    178\u001b[0m \u001b[38;5;28;01mdef\u001b[39;00m \u001b[38;5;21mis_constant\u001b[39m(\u001b[38;5;28mself\u001b[39m) \u001b[38;5;241m-\u001b[39m\u001b[38;5;241m>\u001b[39m \u001b[38;5;28mbool\u001b[39m:\n\u001b[1;32m    179\u001b[0m     \u001b[38;5;124;03m\"\"\"Is the expression constant?\u001b[39;00m\n\u001b[1;32m    180\u001b[0m \u001b[38;5;124;03m    \"\"\"\u001b[39;00m\n\u001b[0;32m--> 181\u001b[0m     \u001b[38;5;28;01mreturn\u001b[39;00m \u001b[38;5;241m0\u001b[39m \u001b[38;5;129;01min\u001b[39;00m \u001b[38;5;28mself\u001b[39m\u001b[38;5;241m.\u001b[39mshape \u001b[38;5;129;01mor\u001b[39;00m \u001b[38;5;28mall\u001b[39m(\n\u001b[1;32m    182\u001b[0m         arg\u001b[38;5;241m.\u001b[39mis_constant() \u001b[38;5;28;01mfor\u001b[39;00m arg \u001b[38;5;129;01min\u001b[39;00m \u001b[38;5;28mself\u001b[39m\u001b[38;5;241m.\u001b[39margs)\n",
      "\u001b[0;31mKeyboardInterrupt\u001b[0m: "
     ]
    }
   ],
   "source": [
    "import warnings\n",
    "with warnings.catch_warnings():\n",
    "    warnings.simplefilter(\"ignore\")\n",
    "    s = time.time()\n",
    "    gain_simoos = evaluation.evaluate_on_synthetic_data(\n",
    "        p_simoos,\n",
    "        contexts[:NUM_OF_TRIALS],\n",
    "        rewards[:NUM_OF_TRIALS],\n",
    "        costs_vector[:NUM_OF_TRIALS],\n",
    "        stop_after=NUM_OF_TRIALS,\n",
    "    )\n",
    "    print(f\"Took {time.time() - s} seconds\")\n"
   ]
  },
  {
   "cell_type": "code",
   "execution_count": 34,
   "id": "793c4d0a",
   "metadata": {},
   "outputs": [],
   "source": [
    "np.random.seed(42)"
   ]
  },
  {
   "cell_type": "code",
   "execution_count": 35,
   "id": "6b60c734",
   "metadata": {},
   "outputs": [
    {
     "name": "stdout",
     "output_type": "stream",
     "text": [
      "Took 0.04080820083618164 seconds\n"
     ]
    }
   ],
   "source": [
    "s = time.time()\n",
    "p_alg1 = algorithms.Algorithm1(\n",
    "    all_contexts=contexts, \n",
    "    number_of_actions=rewards.shape[1],\n",
    "    max_no_red_context=contexts.shape[1],\n",
    "    beta_SimOOS=1,\n",
    "    delta_SimOOS=0.1,\n",
    "    window_length=100,\n",
    ")\n",
    "print(f\"Took {time.time() - s} seconds\")"
   ]
  },
  {
   "cell_type": "code",
   "execution_count": 36,
   "id": "b5b8403e",
   "metadata": {},
   "outputs": [
    {
     "name": "stdout",
     "output_type": "stream",
     "text": [
      "Round 500, time 2022-03-12 11:54:48.479574\n",
      "Round 1000, time 2022-03-12 11:55:18.974425\n",
      "Round 1500, time 2022-03-12 11:55:49.304359\n",
      "Round 2000, time 2022-03-12 11:56:19.954908\n",
      "Round 2500, time 2022-03-12 11:56:50.482729\n",
      "Round 3000, time 2022-03-12 11:57:21.791526\n",
      "Round 3500, time 2022-03-12 11:57:53.644675\n",
      "Round 4000, time 2022-03-12 11:58:25.456901\n",
      "Round 4500, time 2022-03-12 11:58:56.176373\n",
      "Round 5000, time 2022-03-12 11:59:26.933197\n",
      "Round 5500, time 2022-03-12 11:59:59.206451\n",
      "Round 6000, time 2022-03-12 12:00:31.806321\n",
      "Round 6500, time 2022-03-12 12:01:03.290470\n",
      "Round 7000, time 2022-03-12 12:01:35.633637\n",
      "Round 7500, time 2022-03-12 12:02:07.807822\n",
      "Round 8000, time 2022-03-12 12:02:39.109680\n",
      "Round 8500, time 2022-03-12 12:03:11.649814\n",
      "Round 9000, time 2022-03-12 12:03:43.810435\n",
      "Round 9500, time 2022-03-12 12:04:16.744894\n",
      "Algorithm1 (beta=1, delta=0.1, w=100)\n",
      "Total gain: 7486.737297318084\n",
      "\tTotal reward: 7799.0\n",
      "\tTotal cost: 312.26270268189967\n",
      "Execution time: 10.5m\n",
      "Took 629.2455730438232 seconds\n"
     ]
    }
   ],
   "source": [
    "import warnings\n",
    "with warnings.catch_warnings():\n",
    "    warnings.simplefilter(\"ignore\")\n",
    "    s = time.time()\n",
    "    gain_alg1 = evaluation.evaluate_on_synthetic_data(\n",
    "        p_alg1,\n",
    "        contexts[:NUM_OF_TRIALS],\n",
    "        rewards[:NUM_OF_TRIALS],\n",
    "        costs_vector[:NUM_OF_TRIALS],\n",
    "        stop_after=NUM_OF_TRIALS,\n",
    "    )\n",
    "    print(f\"Took {time.time() - s} seconds\")\n"
   ]
  },
  {
   "cell_type": "code",
   "execution_count": 39,
   "id": "c923e6ca",
   "metadata": {},
   "outputs": [
    {
     "name": "stdout",
     "output_type": "stream",
     "text": [
      "Took 0.02438974380493164 seconds\n"
     ]
    }
   ],
   "source": [
    "s = time.time()\n",
    "p_alg1 = algorithms.Algorithm1(\n",
    "    all_contexts=contexts, \n",
    "    number_of_actions=rewards.shape[1],\n",
    "    max_no_red_context=contexts.shape[1],\n",
    "    beta_SimOOS=1,\n",
    "    delta_SimOOS=0.1,\n",
    "    window_length=500,\n",
    ")\n",
    "print(f\"Took {time.time() - s} seconds\")"
   ]
  },
  {
   "cell_type": "code",
   "execution_count": 40,
   "id": "5fe15299",
   "metadata": {},
   "outputs": [
    {
     "name": "stdout",
     "output_type": "stream",
     "text": [
      "Round 500, time 2022-03-12 12:08:07.153522\n",
      "Round 1000, time 2022-03-12 12:09:00.388018\n",
      "Round 1500, time 2022-03-12 12:09:52.257471\n",
      "Round 2000, time 2022-03-12 12:10:45.049233\n",
      "Round 2500, time 2022-03-12 12:11:36.290715\n",
      "Round 3000, time 2022-03-12 12:12:28.728046\n",
      "Round 3500, time 2022-03-12 12:13:22.160374\n",
      "Round 4000, time 2022-03-12 12:14:16.778138\n",
      "Round 4500, time 2022-03-12 12:15:12.455090\n",
      "Round 5000, time 2022-03-12 12:16:06.335619\n",
      "Round 5500, time 2022-03-12 12:16:57.874457\n",
      "Round 6000, time 2022-03-12 12:17:52.270656\n",
      "Round 6500, time 2022-03-12 12:18:44.522492\n",
      "Round 7000, time 2022-03-12 12:19:39.406843\n",
      "Round 7500, time 2022-03-12 12:20:31.967122\n",
      "Round 8000, time 2022-03-12 12:21:23.949160\n",
      "Round 8500, time 2022-03-12 12:22:19.009624\n",
      "Round 9000, time 2022-03-12 12:23:15.802622\n",
      "Round 9500, time 2022-03-12 12:24:09.214630\n",
      "Algorithm1 (beta=1, delta=0.1, w=500)\n",
      "Total gain: 7516.767748297035\n",
      "\tTotal reward: 7991.0\n",
      "\tTotal cost: 474.23225170294654\n",
      "Execution time: 17.5m\n",
      "Took 1051.5095632076263 seconds\n"
     ]
    }
   ],
   "source": [
    "import warnings\n",
    "with warnings.catch_warnings():\n",
    "    warnings.simplefilter(\"ignore\")\n",
    "    s = time.time()\n",
    "    gain_alg1 = evaluation.evaluate_on_synthetic_data(\n",
    "        p_alg1,\n",
    "        contexts[:NUM_OF_TRIALS],\n",
    "        rewards[:NUM_OF_TRIALS],\n",
    "        costs_vector[:NUM_OF_TRIALS],\n",
    "        stop_after=NUM_OF_TRIALS,\n",
    "    )\n",
    "    print(f\"Took {time.time() - s} seconds\")\n"
   ]
  },
  {
   "cell_type": "code",
   "execution_count": 41,
   "id": "32fa519e",
   "metadata": {},
   "outputs": [
    {
     "name": "stdout",
     "output_type": "stream",
     "text": [
      "Took 0.030312061309814453 seconds\n"
     ]
    }
   ],
   "source": [
    "s = time.time()\n",
    "p_alg1 = algorithms.Algorithm1(\n",
    "    all_contexts=contexts, \n",
    "    number_of_actions=rewards.shape[1],\n",
    "    max_no_red_context=contexts.shape[1],\n",
    "    beta_SimOOS=1,\n",
    "    delta_SimOOS=0.1,\n",
    "    window_length=250,\n",
    ")\n",
    "print(f\"Took {time.time() - s} seconds\")"
   ]
  },
  {
   "cell_type": "code",
   "execution_count": null,
   "id": "22510134",
   "metadata": {},
   "outputs": [
    {
     "name": "stdout",
     "output_type": "stream",
     "text": [
      "Round 500, time 2022-03-12 12:25:34.593653\n",
      "Round 1000, time 2022-03-12 12:26:12.721156\n",
      "Round 1500, time 2022-03-12 12:26:50.634571\n",
      "Round 2000, time 2022-03-12 12:27:28.866387\n",
      "Round 2500, time 2022-03-12 12:28:07.255619\n",
      "Round 3000, time 2022-03-12 12:28:46.009287\n",
      "Round 3500, time 2022-03-12 12:29:25.511055\n"
     ]
    }
   ],
   "source": [
    "import warnings\n",
    "with warnings.catch_warnings():\n",
    "    warnings.simplefilter(\"ignore\")\n",
    "    s = time.time()\n",
    "    gain_alg1 = evaluation.evaluate_on_synthetic_data(\n",
    "        p_alg1,\n",
    "        contexts[:NUM_OF_TRIALS],\n",
    "        rewards[:NUM_OF_TRIALS],\n",
    "        costs_vector[:NUM_OF_TRIALS],\n",
    "        stop_after=NUM_OF_TRIALS,\n",
    "    )\n",
    "    print(f\"Took {time.time() - s} seconds\")\n"
   ]
  },
  {
   "cell_type": "code",
   "execution_count": null,
   "id": "c01169c2",
   "metadata": {},
   "outputs": [],
   "source": []
  },
  {
   "cell_type": "code",
   "execution_count": null,
   "id": "190b51fd",
   "metadata": {},
   "outputs": [],
   "source": []
  },
  {
   "cell_type": "code",
   "execution_count": null,
   "id": "1b9ee7e4",
   "metadata": {},
   "outputs": [],
   "source": []
  },
  {
   "cell_type": "code",
   "execution_count": null,
   "id": "5f28915a",
   "metadata": {},
   "outputs": [],
   "source": []
  },
  {
   "cell_type": "code",
   "execution_count": null,
   "id": "18f5b47a",
   "metadata": {},
   "outputs": [],
   "source": []
  },
  {
   "cell_type": "code",
   "execution_count": null,
   "id": "569b67eb",
   "metadata": {},
   "outputs": [],
   "source": [
    "p_alg1.rounds"
   ]
  },
  {
   "cell_type": "code",
   "execution_count": null,
   "id": "04c2ff2f",
   "metadata": {},
   "outputs": [],
   "source": [
    "p_simoos.rounds"
   ]
  },
  {
   "cell_type": "code",
   "execution_count": null,
   "id": "604f3ca7",
   "metadata": {},
   "outputs": [],
   "source": [
    "def plot_gains(gain_dict, change_points=()):\n",
    "    fig, ax = plt.subplots(1,1, figsize=(16, 8));\n",
    "        \n",
    "    max_vline=0\n",
    "    \n",
    "    for label, gain in gain_dict.items():\n",
    "        ax.plot(gain, label=label)\n",
    "        max_vline=max(max_vline, max(gain))\n",
    "    ax.set_xlabel('Trial')\n",
    "    ax.set_ylabel('Cumulative gain')\n",
    "    ax.set_title('Evaluation on synthetic data')\n",
    "    \n",
    "    ax.vlines(change_points, 0, max_vline, label='change points', color='pink')\n",
    "\n",
    "    plt.legend();\n",
    "    plt.show();"
   ]
  },
  {
   "cell_type": "code",
   "execution_count": null,
   "id": "930f1b94",
   "metadata": {},
   "outputs": [],
   "source": [
    "plot_gains({\n",
    "    'Random': gain_random,\n",
    "#     'E-greedy': gain_egreedy,\n",
    "#     'UCB1': gain_ucb,\n",
    "    'LinUCB': gain_linucb,\n",
    "    'PS-LinUCB': gain_pslinucb,\n",
    "#     'SimOOS': gain_simoos,\n",
    "    'Algorithm1': gain_alg1,\n",
    "},\n",
    ")\n"
   ]
  },
  {
   "cell_type": "code",
   "execution_count": null,
   "id": "a577ec17",
   "metadata": {},
   "outputs": [],
   "source": []
  }
 ],
 "metadata": {
  "kernelspec": {
   "display_name": "Python 3 (ipykernel)",
   "language": "python",
   "name": "python3"
  },
  "language_info": {
   "codemirror_mode": {
    "name": "ipython",
    "version": 3
   },
   "file_extension": ".py",
   "mimetype": "text/x-python",
   "name": "python",
   "nbconvert_exporter": "python",
   "pygments_lexer": "ipython3",
   "version": "3.10.2"
  }
 },
 "nbformat": 4,
 "nbformat_minor": 5
}
