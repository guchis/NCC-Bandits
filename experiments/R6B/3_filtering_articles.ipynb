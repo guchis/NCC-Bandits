{
 "cells": [
  {
   "cell_type": "markdown",
   "id": "2de0c734",
   "metadata": {},
   "source": [
    "# Filtering data\n",
    "We want to emphasize the non-stationary character of the data. To do this we filter out articles that exist for less than 18 hours, because they tend to have constant popularity."
   ]
  },
  {
   "cell_type": "code",
   "execution_count": 1,
   "id": "768643d4",
   "metadata": {},
   "outputs": [
    {
     "data": {
      "text/plain": [
       "'/Users/sbokupripeku/git/work/examples/costly_nonstationary_bandits'"
      ]
     },
     "execution_count": 1,
     "metadata": {},
     "output_type": "execute_result"
    }
   ],
   "source": [
    "import os\n",
    "os.chdir('../..')\n",
    "os.getcwd()"
   ]
  },
  {
   "cell_type": "code",
   "execution_count": 2,
   "id": "9aeb9989",
   "metadata": {},
   "outputs": [],
   "source": [
    "%load_ext autoreload\n",
    "%autoreload 2\n",
    "\n",
    "from datetime import timedelta\n",
    "import time\n",
    "import numpy as np\n",
    "import pickle\n",
    "\n",
    "import dataset\n",
    "from plotting.average_ctr import get_average_ctr_plot"
   ]
  },
  {
   "cell_type": "markdown",
   "id": "8b3573c2",
   "metadata": {},
   "source": [
    "### Let's find the short lived articles\n",
    "We do this by checking already gathered average ctr data.\n",
    "The timestamps were averaged over 4000 points, so its an approximation. But usually there are much more than 4000 timestamps in one hour."
   ]
  },
  {
   "cell_type": "code",
   "execution_count": 3,
   "id": "939b0372",
   "metadata": {},
   "outputs": [],
   "source": [
    "with open('dataset/r6b/total_click_through_rates.pickle', 'rb') as f:\n",
    "    article_ctrs = pickle.load(f)"
   ]
  },
  {
   "cell_type": "code",
   "execution_count": 4,
   "id": "38eebb52",
   "metadata": {},
   "outputs": [],
   "source": [
    "article_lives = []\n",
    "zero_length = []\n",
    "for article_id, (ctrs, tss) in article_ctrs.items():\n",
    "    if not tss:\n",
    "        zero_length.append(article_id)\n",
    "        continue\n",
    "    start_ts = tss[0]\n",
    "    end_ts = tss[-1]\n",
    "    life = end_ts - start_ts\n",
    "    article_lives.append((article_id, life))"
   ]
  },
  {
   "cell_type": "code",
   "execution_count": 6,
   "id": "327dfd68",
   "metadata": {},
   "outputs": [
    {
     "data": {
      "text/plain": [
       "[('id-583860', 126701.17425012589),\n",
       " ('id-569364', 128819.20175004005),\n",
       " ('id-583812', 133423.28824996948),\n",
       " ('id-575000', 136402.3440001011),\n",
       " ('id-555317', 139422.9059998989),\n",
       " ('id-579677', 144995.2582499981),\n",
       " ('id-607161', 150649.08350014687),\n",
       " ('id-605518', 175181.74850010872),\n",
       " ('id-605378', 177596.73150014877),\n",
       " ('id-600430', 179014.5910000801)]"
      ]
     },
     "execution_count": 6,
     "metadata": {},
     "output_type": "execute_result"
    }
   ],
   "source": [
    "sorted_lives = list(sorted(article_lives, key=lambda x: x[1], reverse=False))\n",
    "sorted_lives[-10:]"
   ]
  },
  {
   "cell_type": "code",
   "execution_count": 7,
   "id": "acbaad4d",
   "metadata": {},
   "outputs": [],
   "source": [
    "short_lived_ids = [art_id for art_id, life in sorted_lives if life < 18*3600]"
   ]
  },
  {
   "cell_type": "code",
   "execution_count": 8,
   "id": "08c81dca",
   "metadata": {},
   "outputs": [],
   "source": [
    "filtered_ids = []\n",
    "filtered_ids += short_lived_ids\n",
    "filtered_ctrs = {k:v for k,v in article_ctrs.items() if k not in filtered_ids}"
   ]
  },
  {
   "cell_type": "code",
   "execution_count": 9,
   "id": "e05702a4",
   "metadata": {},
   "outputs": [],
   "source": [
    "import plotly.io as pio\n",
    "pio.renderers.default = 'browser'\n",
    "get_average_ctr_plot(filtered_ctrs)"
   ]
  },
  {
   "cell_type": "code",
   "execution_count": 10,
   "id": "27829273",
   "metadata": {},
   "outputs": [
    {
     "data": {
      "text/plain": [
       "284"
      ]
     },
     "execution_count": 10,
     "metadata": {},
     "output_type": "execute_result"
    }
   ],
   "source": [
    "len(filtered_ids)"
   ]
  },
  {
   "cell_type": "code",
   "execution_count": 11,
   "id": "b685c429",
   "metadata": {},
   "outputs": [],
   "source": [
    "with open('dataset/r6b/filtered_article_ids.pickle', 'wb') as f:\n",
    "        pickle.dump(filtered_ids, f)"
   ]
  },
  {
   "cell_type": "markdown",
   "id": "a4f662fd",
   "metadata": {},
   "source": [
    "## Saving subsets of data\n",
    "Here we save subsets of data for later use.\n",
    "Small data for quick testing, medium and big to verify results on a larger timescale."
   ]
  },
  {
   "cell_type": "code",
   "execution_count": 15,
   "id": "8e23112f",
   "metadata": {},
   "outputs": [
    {
     "name": "stdout",
     "output_type": "stream",
     "text": [
      "1171318 events with 58 articles, from files  ['dataset/r6b/ydata-fp-td-clicks-v2_0.20111006']\n",
      "CPU times: user 4min 37s, sys: 1.98 s, total: 4min 39s\n",
      "Wall time: 14min 48s\n"
     ]
    }
   ],
   "source": [
    "%%time\n",
    "small_data_06 = dataset.Dataset()\n",
    "small_data_06.fill_yahoo_events_second_version_r6b(\n",
    "    filenames=[\"dataset/r6b/ydata-fp-td-clicks-v2_0.20111006\"],\n",
    "    filtered_ids=filtered_ids\n",
    ")"
   ]
  },
  {
   "cell_type": "code",
   "execution_count": 16,
   "id": "971d432e",
   "metadata": {},
   "outputs": [
    {
     "data": {
      "text/plain": [
       "1171318"
      ]
     },
     "execution_count": 16,
     "metadata": {},
     "output_type": "execute_result"
    }
   ],
   "source": [
    "len(small_data_06.events)"
   ]
  },
  {
   "cell_type": "code",
   "execution_count": 17,
   "id": "1b044838",
   "metadata": {},
   "outputs": [
    {
     "data": {
      "text/plain": [
       "58"
      ]
     },
     "execution_count": 17,
     "metadata": {},
     "output_type": "execute_result"
    }
   ],
   "source": [
    "len(small_data_06.articles)"
   ]
  },
  {
   "cell_type": "code",
   "execution_count": 20,
   "id": "4f9040da",
   "metadata": {},
   "outputs": [
    {
     "name": "stdout",
     "output_type": "stream",
     "text": [
      "CPU times: user 4.79 s, sys: 817 ms, total: 5.61 s\n",
      "Wall time: 6.22 s\n"
     ]
    }
   ],
   "source": [
    "%%time\n",
    "import gc\n",
    "with open(\"dataset/r6b/subsample/data_06.pickle\", \"wb\") as f:\n",
    "    gc.disable()\n",
    "    pickle.dump(small_data_06, f, protocol=-1)\n",
    "    gc.enable()\n",
    "del small_data_06"
   ]
  },
  {
   "cell_type": "code",
   "execution_count": 12,
   "id": "9215a1a7",
   "metadata": {},
   "outputs": [
    {
     "name": "stdout",
     "output_type": "stream",
     "text": [
      "2834841 events with 98 articles, from files  ['dataset/r6b/ydata-fp-td-clicks-v2_0.20111006', 'dataset/r6b/ydata-fp-td-clicks-v2_0.20111007']\n",
      "CPU times: user 12min 33s, sys: 5.89 s, total: 12min 39s\n",
      "Wall time: 12min 44s\n"
     ]
    }
   ],
   "source": [
    "%%time\n",
    "medium_data_06_07 = dataset.Dataset()\n",
    "medium_data_06_07.fill_yahoo_events_second_version_r6b(\n",
    "    filenames=[\n",
    "        \"dataset/r6b/ydata-fp-td-clicks-v2_0.20111006\",\n",
    "        \"dataset/r6b/ydata-fp-td-clicks-v2_0.20111007\",\n",
    "    ],\n",
    "    filtered_ids=filtered_ids\n",
    ")"
   ]
  },
  {
   "cell_type": "code",
   "execution_count": 13,
   "id": "35a08ab3",
   "metadata": {},
   "outputs": [
    {
     "data": {
      "text/plain": [
       "2834841"
      ]
     },
     "execution_count": 13,
     "metadata": {},
     "output_type": "execute_result"
    }
   ],
   "source": [
    "len(medium_data_06_07.events)"
   ]
  },
  {
   "cell_type": "code",
   "execution_count": 14,
   "id": "2e3037c7",
   "metadata": {},
   "outputs": [
    {
     "data": {
      "text/plain": [
       "98"
      ]
     },
     "execution_count": 14,
     "metadata": {},
     "output_type": "execute_result"
    }
   ],
   "source": [
    "len(medium_data_06_07.articles)"
   ]
  },
  {
   "cell_type": "code",
   "execution_count": 15,
   "id": "eed3f7a2",
   "metadata": {},
   "outputs": [
    {
     "name": "stdout",
     "output_type": "stream",
     "text": [
      "CPU times: user 13.3 s, sys: 5.13 s, total: 18.5 s\n",
      "Wall time: 21.4 s\n"
     ]
    }
   ],
   "source": [
    "%%time\n",
    "import gc\n",
    "with open(\"dataset/r6b/subsample/data_06_07.pickle\", \"wb\") as f:\n",
    "    gc.disable()\n",
    "    pickle.dump(medium_data_06_07, f, protocol=-1)\n",
    "    gc.enable()\n",
    "del medium_data_06_07"
   ]
  },
  {
   "cell_type": "code",
   "execution_count": 16,
   "id": "22cb3c87",
   "metadata": {},
   "outputs": [
    {
     "name": "stdout",
     "output_type": "stream",
     "text": [
      "1751665 events with 50 articles, from files  ['dataset/r6b/ydata-fp-td-clicks-v2_0.20111010']\n",
      "CPU times: user 5min 15s, sys: 1.85 s, total: 5min 17s\n",
      "Wall time: 5min 19s\n"
     ]
    }
   ],
   "source": [
    "%%time\n",
    "small_data_10 = dataset.Dataset()\n",
    "small_data_10.fill_yahoo_events_second_version_r6b(\n",
    "    filenames=[\n",
    "        \"dataset/r6b/ydata-fp-td-clicks-v2_0.20111010\",\n",
    "    ],\n",
    "    filtered_ids=filtered_ids\n",
    ")"
   ]
  },
  {
   "cell_type": "code",
   "execution_count": 17,
   "id": "3b623aa1",
   "metadata": {},
   "outputs": [
    {
     "data": {
      "text/plain": [
       "1751665"
      ]
     },
     "execution_count": 17,
     "metadata": {},
     "output_type": "execute_result"
    }
   ],
   "source": [
    "len(small_data_10.events)"
   ]
  },
  {
   "cell_type": "code",
   "execution_count": 18,
   "id": "10ba19bf",
   "metadata": {},
   "outputs": [
    {
     "data": {
      "text/plain": [
       "50"
      ]
     },
     "execution_count": 18,
     "metadata": {},
     "output_type": "execute_result"
    }
   ],
   "source": [
    "len(small_data_10.articles)"
   ]
  },
  {
   "cell_type": "code",
   "execution_count": 19,
   "id": "bb3a5a01",
   "metadata": {},
   "outputs": [
    {
     "name": "stdout",
     "output_type": "stream",
     "text": [
      "CPU times: user 7.94 s, sys: 1.96 s, total: 9.91 s\n",
      "Wall time: 11 s\n"
     ]
    }
   ],
   "source": [
    "%%time\n",
    "import gc\n",
    "with open(\"dataset/r6b/subsample/data_10.pickle\", \"wb\") as f:\n",
    "    gc.disable()\n",
    "    pickle.dump(small_data_10, f, protocol=-1)\n",
    "    gc.enable()\n",
    "del small_data_10"
   ]
  },
  {
   "cell_type": "code",
   "execution_count": 20,
   "id": "ae64747c",
   "metadata": {},
   "outputs": [
    {
     "name": "stdout",
     "output_type": "stream",
     "text": [
      "3033740 events with 79 articles, from files  ['dataset/r6b/ydata-fp-td-clicks-v2_0.20111010', 'dataset/r6b/ydata-fp-td-clicks-v2_0.20111011']\n",
      "CPU times: user 10min 21s, sys: 6.11 s, total: 10min 28s\n",
      "Wall time: 10min 33s\n"
     ]
    }
   ],
   "source": [
    "%%time\n",
    "medium_data_10_11 = dataset.Dataset()\n",
    "medium_data_10_11.fill_yahoo_events_second_version_r6b(\n",
    "    filenames=[\n",
    "        \"dataset/r6b/ydata-fp-td-clicks-v2_0.20111010\",\n",
    "        \"dataset/r6b/ydata-fp-td-clicks-v2_0.20111011\",\n",
    "    ],\n",
    "    filtered_ids=filtered_ids\n",
    ")"
   ]
  },
  {
   "cell_type": "code",
   "execution_count": 21,
   "id": "703b41a3",
   "metadata": {},
   "outputs": [
    {
     "data": {
      "text/plain": [
       "3033740"
      ]
     },
     "execution_count": 21,
     "metadata": {},
     "output_type": "execute_result"
    }
   ],
   "source": [
    "len(medium_data_10_11.events)"
   ]
  },
  {
   "cell_type": "code",
   "execution_count": 22,
   "id": "2ec0249a",
   "metadata": {},
   "outputs": [
    {
     "data": {
      "text/plain": [
       "79"
      ]
     },
     "execution_count": 22,
     "metadata": {},
     "output_type": "execute_result"
    }
   ],
   "source": [
    "len(medium_data_10_11.articles)"
   ]
  },
  {
   "cell_type": "code",
   "execution_count": null,
   "id": "feea9631",
   "metadata": {},
   "outputs": [
    {
     "name": "stdout",
     "output_type": "stream",
     "text": [
      "CPU times: user 14 s, sys: 5.96 s, total: 20 s\n",
      "Wall time: 25.9 s\n"
     ]
    }
   ],
   "source": [
    "%%time\n",
    "import gc\n",
    "with open(\"dataset/r6b/subsample/data_10_11.pickle\", \"wb\") as f:\n",
    "    gc.disable()\n",
    "    pickle.dump(medium_data_10_11, f, protocol=-1)\n",
    "    gc.enable()\n",
    "del medium_data_10_11"
   ]
  }
 ],
 "metadata": {
  "kernelspec": {
   "display_name": "Python 3 (ipykernel)",
   "language": "python",
   "name": "python3"
  },
  "language_info": {
   "codemirror_mode": {
    "name": "ipython",
    "version": 3
   },
   "file_extension": ".py",
   "mimetype": "text/x-python",
   "name": "python",
   "nbconvert_exporter": "python",
   "pygments_lexer": "ipython3",
   "version": "3.9.5"
  }
 },
 "nbformat": 4,
 "nbformat_minor": 5
}
