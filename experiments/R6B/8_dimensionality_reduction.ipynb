{
 "cells": [
  {
   "cell_type": "markdown",
   "id": "d7f1e764",
   "metadata": {},
   "source": [
    "### Trying out R6B with feature dimensionality reduced\n",
    "\n",
    "Algorithm performance on R6B is different to that of R6A. E-greedy and UCB1 perform better than contextual algorithms. My hypothesis is that it might be due to feature vectors being raw and high dimensional. I want to check if reducing the feature vector dimension will change the relative performance of contextual and context-free algorithms."
   ]
  },
  {
   "cell_type": "markdown",
   "id": "22f442a4",
   "metadata": {},
   "source": [
    "Plan:\n",
    "\n",
    "#### 1st part:\n",
    "- Create X - matrix of features from events of shape (3033740, 136)\n",
    "- Try truncated svd on this matrix\n",
    "- compute the square average risk and find appropriate k - dimension \n",
    "- try running ucb and linucb on it\n",
    "\n",
    "#### 2nd part, centroid method:\n",
    "- Cluster all the users into k clusters using K-means\n",
    "- For each user calculate the Soft membership in the k clusters computed with a Gaussian kernel and then normalized"
   ]
  },
  {
   "cell_type": "code",
   "execution_count": 1,
   "id": "31df08ac",
   "metadata": {},
   "outputs": [
    {
     "data": {
      "text/plain": [
       "'/Users/sbokupripeku/git/work/examples/costly_nonstationary_bandits'"
      ]
     },
     "execution_count": 1,
     "metadata": {},
     "output_type": "execute_result"
    }
   ],
   "source": [
    "import os\n",
    "os.chdir('../..')\n",
    "os.getcwd()"
   ]
  },
  {
   "cell_type": "code",
   "execution_count": 2,
   "id": "d9b2fac4",
   "metadata": {},
   "outputs": [],
   "source": [
    "%load_ext autoreload\n",
    "%autoreload 2\n",
    "\n",
    "import pickle\n",
    "import matplotlib.pyplot as plt\n",
    "import numpy as np\n",
    "from sklearn.decomposition import TruncatedSVD\n",
    "\n",
    "import algorithms\n",
    "import evaluation\n",
    "import dataset\n",
    "from plotting.average_ctr import get_average_ctr_plot"
   ]
  },
  {
   "cell_type": "code",
   "execution_count": 62,
   "id": "9d3ea6e8",
   "metadata": {},
   "outputs": [
    {
     "name": "stdout",
     "output_type": "stream",
     "text": [
      "CPU times: user 5.95 s, sys: 3.4 s, total: 9.35 s\n",
      "Wall time: 37 s\n"
     ]
    }
   ],
   "source": [
    "%%time\n",
    "import gc\n",
    "\n",
    "with open(\"dataset/r6b/subsample/data_10_11.pickle\", \"rb\") as f:\n",
    "    gc.disable()\n",
    "    data = pickle.load(f)\n",
    "    gc.enable()"
   ]
  },
  {
   "cell_type": "code",
   "execution_count": 63,
   "id": "6878f338",
   "metadata": {},
   "outputs": [
    {
     "data": {
      "text/plain": [
       "Dataset(n_arms=79,n_events=3033740)"
      ]
     },
     "execution_count": 63,
     "metadata": {},
     "output_type": "execute_result"
    }
   ],
   "source": [
    "data"
   ]
  },
  {
   "cell_type": "code",
   "execution_count": 64,
   "id": "3e40b06d",
   "metadata": {},
   "outputs": [],
   "source": [
    "X = np.stack(\n",
    " [\n",
    "     ev.user_features for ev in data.events\n",
    " ]\n",
    ")\n"
   ]
  },
  {
   "cell_type": "code",
   "execution_count": 20,
   "id": "dc5365d4",
   "metadata": {},
   "outputs": [],
   "source": [
    "svd = TruncatedSVD(n_components=30, random_state=42)\n",
    "X_reduced = svd.fit_transform(X)"
   ]
  },
  {
   "cell_type": "code",
   "execution_count": 21,
   "id": "a1d101a3",
   "metadata": {},
   "outputs": [
    {
     "data": {
      "text/plain": [
       "(1000, 30)"
      ]
     },
     "execution_count": 21,
     "metadata": {},
     "output_type": "execute_result"
    }
   ],
   "source": [
    "X_reduced.shape"
   ]
  },
  {
   "cell_type": "code",
   "execution_count": 22,
   "id": "113c369e",
   "metadata": {},
   "outputs": [],
   "source": [
    "X_undo = svd.inverse_transform(X_reduced)"
   ]
  },
  {
   "cell_type": "code",
   "execution_count": 38,
   "id": "8d680fb4",
   "metadata": {},
   "outputs": [],
   "source": [
    "def mean_reconstruction_error(original, reconstructed):\n",
    "    assert original.shape == reconstructed.shape\n",
    "    return ((original - reconstructed)**2).sum(axis=1).mean()\n",
    "    "
   ]
  },
  {
   "cell_type": "code",
   "execution_count": 39,
   "id": "35b991e7",
   "metadata": {},
   "outputs": [
    {
     "data": {
      "text/plain": [
       "1.0903405126404406"
      ]
     },
     "execution_count": 39,
     "metadata": {},
     "output_type": "execute_result"
    }
   ],
   "source": [
    "mean_recostruction_error(X, X_undo)"
   ]
  },
  {
   "cell_type": "markdown",
   "id": "e48f143f",
   "metadata": {},
   "source": [
    "#### Run algorithms with reduced dimension"
   ]
  },
  {
   "cell_type": "code",
   "execution_count": 89,
   "id": "25155f41",
   "metadata": {},
   "outputs": [],
   "source": [
    "DIMENSION = 2\n",
    "\n",
    "svd = TruncatedSVD(n_components=DIMENSION, random_state=42)\n",
    "X_reduced = svd.fit_transform(X)"
   ]
  },
  {
   "cell_type": "code",
   "execution_count": 90,
   "id": "b1af63f1",
   "metadata": {},
   "outputs": [],
   "source": [
    "for event, x in zip(data.events,X_reduced):\n",
    "    event.user_features = x"
   ]
  },
  {
   "cell_type": "code",
   "execution_count": 91,
   "id": "1e748d57",
   "metadata": {},
   "outputs": [
    {
     "data": {
      "text/plain": [
       "Event(timestamp=1318204491, displayed_pool_index=16, user_click=0, user_features=array([2.80092935, 0.49373705]), pool_indices=[0, 1, 2, 3, 4, 5, 6, 7, 8, 9, 10, 11, 12, 13, 14, 15, 16, 17, 18, 19, 20, 21, 22, 23, 24])"
      ]
     },
     "execution_count": 91,
     "metadata": {},
     "output_type": "execute_result"
    }
   ],
   "source": [
    "data.events[0]"
   ]
  },
  {
   "cell_type": "code",
   "execution_count": null,
   "id": "1304927c",
   "metadata": {},
   "outputs": [],
   "source": []
  },
  {
   "cell_type": "code",
   "execution_count": null,
   "id": "3f7f0502",
   "metadata": {},
   "outputs": [],
   "source": []
  },
  {
   "cell_type": "code",
   "execution_count": 92,
   "id": "686fdcce",
   "metadata": {},
   "outputs": [],
   "source": [
    "NUM_OF_TRIALS = 40000"
   ]
  },
  {
   "cell_type": "code",
   "execution_count": 93,
   "id": "b3becf7f",
   "metadata": {},
   "outputs": [
    {
     "name": "stdout",
     "output_type": "stream",
     "text": [
      "E-greedy(epsilon=0.1) with ZeroCosts\n",
      "Average reward: 0.0591\n",
      "Execution time: 9.4s\n"
     ]
    }
   ],
   "source": [
    "egreedy = algorithms.EpsilonGreedy(epsilon=0.1, n_arms=data.n_arms)\n",
    "ctr_egreedy = evaluation.evaluate(egreedy, data, stop_after=NUM_OF_TRIALS)"
   ]
  },
  {
   "cell_type": "code",
   "execution_count": 94,
   "id": "ac24e567",
   "metadata": {},
   "outputs": [
    {
     "name": "stdout",
     "output_type": "stream",
     "text": [
      "UCB1 (α=0.01) with ZeroCosts\n",
      "Average reward: 0.0622\n",
      "Execution time: 16.2s\n"
     ]
    }
   ],
   "source": [
    "ucb_alg = algorithms.UCB1(\n",
    "        n_arms=data.n_arms,\n",
    "        alpha=0.01,\n",
    "    )\n",
    "ctr_ucb = evaluation.evaluate(ucb_alg, data, stop_after=NUM_OF_TRIALS)"
   ]
  },
  {
   "cell_type": "code",
   "execution_count": 95,
   "id": "8cf7b959",
   "metadata": {},
   "outputs": [
    {
     "name": "stdout",
     "output_type": "stream",
     "text": [
      "LinUCB (alpha=0.03) with ZeroCosts\n",
      "Average reward: 0.0527\n",
      "Execution time: 36.8s\n"
     ]
    }
   ],
   "source": [
    "linucb = algorithms.LinUCB(\n",
    "    context_dimension=len(data.events[0].user_features),\n",
    "    n_arms=data.n_arms,\n",
    "    alpha=0.03,\n",
    ")\n",
    "ctr_linucb = evaluation.evaluate(linucb, data, stop_after=NUM_OF_TRIALS)"
   ]
  },
  {
   "cell_type": "code",
   "execution_count": null,
   "id": "dac28bdd",
   "metadata": {},
   "outputs": [],
   "source": [
    "0.0542"
   ]
  },
  {
   "cell_type": "code",
   "execution_count": 96,
   "id": "5aaeeed2",
   "metadata": {},
   "outputs": [],
   "source": [
    "def plot_ctrs(ctr_dict, change_points=()):\n",
    "    fig, ax = plt.subplots(1,1, figsize=(16, 8));\n",
    "    \n",
    "    N = 40\n",
    "    \n",
    "    max_vline=0\n",
    "    \n",
    "    for label, ctr in ctr_dict.items():\n",
    "        ax.plot(ctr[N:], label=label)\n",
    "        max_vline=max(max_vline, max(ctr[N:]))\n",
    "    ax.set_xlabel('Trial')\n",
    "    ax.set_ylabel('CTR')\n",
    "    ax.set_title('Evaluation without costs')\n",
    "    \n",
    "    ax.vlines(change_points, 0, max_vline, label='change points', color='pink')\n",
    "\n",
    "    plt.legend();\n",
    "    plt.show();"
   ]
  },
  {
   "cell_type": "code",
   "execution_count": 97,
   "id": "80110ccd",
   "metadata": {},
   "outputs": [
    {
     "data": {
      "image/png": "[encoded data removed]",
      "text/plain": [
       "<Figure size 1152x576 with 1 Axes>"
      ]
     },
     "metadata": {
      "needs_background": "light"
     },
     "output_type": "display_data"
    }
   ],
   "source": [
    "plot_ctrs({\n",
    "    'E-greedy': ctr_egreedy,\n",
    "    'UCB1': ctr_ucb,\n",
    "    'LinUCB': ctr_linucb,\n",
    "},\n",
    ")\n"
   ]
  },
  {
   "cell_type": "markdown",
   "id": "631c1b92",
   "metadata": {},
   "source": [
    "### Part 2 - Clustering and Gaussian distances to centroids"
   ]
  },
  {
   "cell_type": "code",
   "execution_count": null,
   "id": "4ddc6be4",
   "metadata": {},
   "outputs": [],
   "source": []
  }
 ],
 "metadata": {
  "kernelspec": {
   "display_name": "Python 3 (ipykernel)",
   "language": "python",
   "name": "python3"
  },
  "language_info": {
   "codemirror_mode": {
    "name": "ipython",
    "version": 3
   },
   "file_extension": ".py",
   "mimetype": "text/x-python",
   "name": "python",
   "nbconvert_exporter": "python",
   "pygments_lexer": "ipython3",
   "version": "3.9.5"
  }
 },
 "nbformat": 4,
 "nbformat_minor": 5
}
