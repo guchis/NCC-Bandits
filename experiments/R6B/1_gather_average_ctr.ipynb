{
 "cells": [
  {
   "cell_type": "code",
   "execution_count": 1,
   "id": "796a5990",
   "metadata": {},
   "outputs": [
    {
     "data": {
      "text/plain": [
       "'/Users/sbokupripeku/git/work/examples/costly_nonstationary_bandits'"
      ]
     },
     "execution_count": 1,
     "metadata": {},
     "output_type": "execute_result"
    }
   ],
   "source": [
    "import os\n",
    "os.chdir('../..')\n",
    "os.getcwd()"
   ]
  },
  {
   "cell_type": "code",
   "execution_count": 2,
   "id": "aa0c790f",
   "metadata": {},
   "outputs": [],
   "source": [
    "%load_ext autoreload\n",
    "%autoreload 2\n",
    "\n",
    "from datetime import datetime, timedelta\n",
    "from matplotlib import pyplot as plt\n",
    "\n",
    "import dataset\n"
   ]
  },
  {
   "cell_type": "code",
   "execution_count": 3,
   "id": "32a3ed14",
   "metadata": {},
   "outputs": [],
   "source": [
    "files = [\n",
    "    \"ydata-fp-td-clicks-v2_0.20111002.gz\",\n",
    "]"
   ]
  },
  {
   "cell_type": "code",
   "execution_count": 14,
   "id": "fcca2b84",
   "metadata": {},
   "outputs": [
    {
     "name": "stdout",
     "output_type": "stream",
     "text": [
      "1607525 events with 49 articles, from files  ['dataset/r6b/ydata-fp-td-clicks-v2_0.20111002']\n",
      "Reading events from file took 0:00:54.017250\n",
      "Gathering ctr took 0:00:08.309542\n",
      "2220905 events with 67 articles, from files  ['dataset/r6b/ydata-fp-td-clicks-v2_0.20111003']\n",
      "Reading events from file took 0:01:42.462164\n",
      "Gathering ctr took 0:00:23.708292\n",
      "2189981 events with 92 articles, from files  ['dataset/r6b/ydata-fp-td-clicks-v2_0.20111004']\n",
      "Reading events from file took 0:02:47.899936\n",
      "Gathering ctr took 0:01:00.919341\n",
      "1373877 events with 97 articles, from files  ['dataset/r6b/ydata-fp-td-clicks-v2_0.20111005']\n",
      "Reading events from file took 0:02:01.705304\n",
      "Gathering ctr took 0:00:17.055142\n",
      "1921382 events with 95 articles, from files  ['dataset/r6b/ydata-fp-td-clicks-v2_0.20111006']\n",
      "Reading events from file took 0:02:51.052733\n",
      "Gathering ctr took 0:01:01.979455\n",
      "2040503 events with 94 articles, from files  ['dataset/r6b/ydata-fp-td-clicks-v2_0.20111007']\n",
      "Reading events from file took 0:02:53.255766\n",
      "Gathering ctr took 0:00:54.283615\n",
      "1571772 events with 74 articles, from files  ['dataset/r6b/ydata-fp-td-clicks-v2_0.20111008']\n",
      "Reading events from file took 0:01:50.781092\n",
      "Gathering ctr took 0:00:17.467342\n",
      "1594054 events with 47 articles, from files  ['dataset/r6b/ydata-fp-td-clicks-v2_0.20111009']\n",
      "Reading events from file took 0:00:54.362027\n",
      "Gathering ctr took 0:00:11.161539\n",
      "2184768 events with 73 articles, from files  ['dataset/r6b/ydata-fp-td-clicks-v2_0.20111010']\n",
      "Reading events from file took 0:01:59.904388\n",
      "Gathering ctr took 0:00:24.885554\n",
      "1607525 events with 49 articles, from files  ['dataset/r6b/ydata-fp-td-clicks-v2_0.20111002']\n",
      "Reading events from file took 0:00:54.159675\n",
      "Gathering ctr took 0:00:08.311935\n",
      "2230762 events with 105 articles, from files  ['dataset/r6b/ydata-fp-td-clicks-v2_0.20111011']\n",
      "Reading events from file took 0:03:38.451692\n",
      "Gathering ctr took 0:00:37.726669\n",
      "2222593 events with 88 articles, from files  ['dataset/r6b/ydata-fp-td-clicks-v2_0.20111012']\n",
      "Reading events from file took 0:02:28.438786\n",
      "Gathering ctr took 0:00:29.831117\n",
      "1674315 events with 95 articles, from files  ['dataset/r6b/ydata-fp-td-clicks-v2_0.20111013']\n",
      "Reading events from file took 0:02:30.098117\n",
      "Gathering ctr took 0:00:23.645675\n",
      "2060943 events with 94 articles, from files  ['dataset/r6b/ydata-fp-td-clicks-v2_0.20111014']\n",
      "Reading events from file took 0:02:50.802216\n",
      "Gathering ctr took 0:00:31.911355\n",
      "1592077 events with 75 articles, from files  ['dataset/r6b/ydata-fp-td-clicks-v2_0.20111015']\n",
      "Reading events from file took 0:01:44.437834\n",
      "Gathering ctr took 0:00:17.368445\n",
      "1292238 events with 70 articles, from files  ['dataset/r6b/ydata-fp-td-clicks-v2_0.20111016']\n",
      "Reading events from file took 0:01:03.011376\n",
      "Gathering ctr took 0:00:09.767636\n",
      "CPU times: user 36min 11s, sys: 2min 13s, total: 38min 25s\n",
      "Wall time: 40min 23s\n"
     ]
    }
   ],
   "source": [
    "%%time\n",
    "import time\n",
    "\n",
    "files = [\n",
    "    \"dataset/r6b/ydata-fp-td-clicks-v2_0.20111002\",\n",
    "    \"dataset/r6b/ydata-fp-td-clicks-v2_0.20111003\",\n",
    "    \"dataset/r6b/ydata-fp-td-clicks-v2_0.20111004\",\n",
    "    \"dataset/r6b/ydata-fp-td-clicks-v2_0.20111005\",\n",
    "    \"dataset/r6b/ydata-fp-td-clicks-v2_0.20111006\",\n",
    "    \"dataset/r6b/ydata-fp-td-clicks-v2_0.20111007\",\n",
    "    \"dataset/r6b/ydata-fp-td-clicks-v2_0.20111008\",\n",
    "    \"dataset/r6b/ydata-fp-td-clicks-v2_0.20111009\",\n",
    "    \"dataset/r6b/ydata-fp-td-clicks-v2_0.20111010\",\n",
    "    \"dataset/r6b/ydata-fp-td-clicks-v2_0.20111002\",\n",
    "    \"dataset/r6b/ydata-fp-td-clicks-v2_0.20111011\",\n",
    "    \"dataset/r6b/ydata-fp-td-clicks-v2_0.20111012\",\n",
    "    \"dataset/r6b/ydata-fp-td-clicks-v2_0.20111013\",\n",
    "    \"dataset/r6b/ydata-fp-td-clicks-v2_0.20111014\",\n",
    "    \"dataset/r6b/ydata-fp-td-clicks-v2_0.20111015\",\n",
    "    \"dataset/r6b/ydata-fp-td-clicks-v2_0.20111016\",\n",
    "]\n",
    "\n",
    "file_ctrs = []\n",
    "\n",
    "for file in files:\n",
    "    begin = time.time()\n",
    "    \n",
    "    file_data = dataset.Dataset()\n",
    "    file_data.fill_yahoo_events_second_version_r6b([file])\n",
    "    \n",
    "    fill_ts = time.time()\n",
    "    fill_time = str(timedelta(seconds=fill_ts - begin))\n",
    "    print(f'Reading events from file took {fill_time}')\n",
    "    \n",
    "    file_ctrs.append(\n",
    "        file_data.gather_all_average_ctrs(average_over=4000)\n",
    "    )\n",
    "    \n",
    "    gather_ctr_time = str(timedelta(seconds=time.time() - fill_ts))\n",
    "    print(f'Gathering ctr took {gather_ctr_time}')\n",
    "    "
   ]
  },
  {
   "cell_type": "code",
   "execution_count": 15,
   "id": "06e05961",
   "metadata": {},
   "outputs": [],
   "source": [
    "def combine_file_ctrs(file_ctrs):\n",
    "    total_ctrs = {}\n",
    "    for file_ctr in file_ctrs:\n",
    "        for art_id in file_ctr.keys():\n",
    "            ctrs, tss = file_ctr[art_id]\n",
    "            if art_id in total_ctrs:\n",
    "                article_ctr = total_ctrs[art_id]\n",
    "            else:\n",
    "                article_ctr = ([], [])\n",
    "            article_ctr[0].extend(ctrs)\n",
    "            article_ctr[1].extend(tss)\n",
    "            total_ctrs[art_id] = article_ctr\n",
    "    return total_ctrs"
   ]
  },
  {
   "cell_type": "code",
   "execution_count": 16,
   "id": "c504a513",
   "metadata": {},
   "outputs": [
    {
     "name": "stdout",
     "output_type": "stream",
     "text": [
      "CPU times: user 1.56 ms, sys: 857 µs, total: 2.42 ms\n",
      "Wall time: 2.42 ms\n"
     ]
    }
   ],
   "source": [
    "%%time\n",
    "total_ctrs = combine_file_ctrs(file_ctrs)"
   ]
  },
  {
   "cell_type": "code",
   "execution_count": 17,
   "id": "04481702",
   "metadata": {},
   "outputs": [],
   "source": [
    "import pickle\n",
    "with open('dataset/r6b/total_click_through_rates.pickle', 'wb') as f:\n",
    "    pickle.dump(total_ctrs, f)"
   ]
  },
  {
   "cell_type": "code",
   "execution_count": null,
   "id": "e82c2ec0",
   "metadata": {},
   "outputs": [],
   "source": []
  },
  {
   "cell_type": "code",
   "execution_count": null,
   "id": "7dfe227d",
   "metadata": {},
   "outputs": [],
   "source": []
  },
  {
   "cell_type": "code",
   "execution_count": null,
   "id": "5bd4634e",
   "metadata": {},
   "outputs": [],
   "source": []
  }
 ],
 "metadata": {
  "kernelspec": {
   "display_name": "Python 3 (ipykernel)",
   "language": "python",
   "name": "python3"
  },
  "language_info": {
   "codemirror_mode": {
    "name": "ipython",
    "version": 3
   },
   "file_extension": ".py",
   "mimetype": "text/x-python",
   "name": "python",
   "nbconvert_exporter": "python",
   "pygments_lexer": "ipython3",
   "version": "3.9.5"
  }
 },
 "nbformat": 4,
 "nbformat_minor": 5
}
