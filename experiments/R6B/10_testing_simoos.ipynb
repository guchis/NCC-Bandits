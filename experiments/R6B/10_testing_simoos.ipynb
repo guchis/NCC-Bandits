{
 "cells": [
  {
   "cell_type": "markdown",
   "id": "dd96b5e8",
   "metadata": {},
   "source": [
    "### Testing SimOOS\n",
    "This notebook contains tests of SimOOS algorithm on R6B dataset."
   ]
  },
  {
   "cell_type": "code",
   "execution_count": 1,
   "id": "fac2109e",
   "metadata": {},
   "outputs": [
    {
     "data": {
      "text/plain": [
       "'/Users/sbokupripeku/git/work/examples/costly_nonstationary_bandits'"
      ]
     },
     "execution_count": 1,
     "metadata": {},
     "output_type": "execute_result"
    }
   ],
   "source": [
    "import os\n",
    "os.chdir('../..')\n",
    "os.getcwd()"
   ]
  },
  {
   "cell_type": "code",
   "execution_count": 2,
   "id": "c1f02e16",
   "metadata": {},
   "outputs": [],
   "source": [
    "%load_ext autoreload\n",
    "%autoreload 2\n",
    "\n",
    "import pickle\n",
    "import matplotlib.pyplot as plt\n",
    "import numpy as np\n",
    "import itertools \n",
    "import time\n",
    "\n",
    "import algorithms\n",
    "import costs\n",
    "import evaluation\n",
    "import dataset\n",
    "from plotting.average_ctr import get_average_ctr_plot"
   ]
  },
  {
   "cell_type": "code",
   "execution_count": 3,
   "id": "e22d9b90",
   "metadata": {},
   "outputs": [
    {
     "name": "stdout",
     "output_type": "stream",
     "text": [
      "CPU times: user 3.18 s, sys: 1.03 s, total: 4.22 s\n",
      "Wall time: 12.2 s\n"
     ]
    }
   ],
   "source": [
    "%%time\n",
    "import gc\n",
    "\n",
    "with open(\"dataset/r6b/subsample/data_10.pickle\", \"rb\") as f:\n",
    "    gc.disable()\n",
    "    data = pickle.load(f)\n",
    "    gc.enable()"
   ]
  },
  {
   "cell_type": "code",
   "execution_count": 4,
   "id": "4defd825",
   "metadata": {},
   "outputs": [],
   "source": [
    "NUM_OF_TRIALS = 5000"
   ]
  },
  {
   "cell_type": "code",
   "execution_count": 5,
   "id": "fb89f4f4",
   "metadata": {},
   "outputs": [
    {
     "name": "stdout",
     "output_type": "stream",
     "text": [
      "Random policy with ZeroCosts\n",
      "Average reward: 0.0354\n",
      "Execution time: 17.2s\n"
     ]
    }
   ],
   "source": [
    "p_random = algorithms.RandomPolicy()\n",
    "ctr_random = evaluation.evaluate(p_random, data, stop_after=NUM_OF_TRIALS)"
   ]
  },
  {
   "cell_type": "code",
   "execution_count": 6,
   "id": "af00db0a",
   "metadata": {},
   "outputs": [],
   "source": [
    "all_contexts = np.stack(\n",
    " [\n",
    "     ev.user_features for ev in data.events\n",
    " ]\n",
    ")\n"
   ]
  },
  {
   "cell_type": "code",
   "execution_count": 7,
   "id": "a6aa8d41",
   "metadata": {},
   "outputs": [],
   "source": [
    "N_FEATURES = 10"
   ]
  },
  {
   "cell_type": "code",
   "execution_count": 8,
   "id": "907bbfa5",
   "metadata": {},
   "outputs": [],
   "source": [
    "short_contexts = all_contexts[:, :N_FEATURES]"
   ]
  },
  {
   "cell_type": "code",
   "execution_count": 9,
   "id": "e3aa1ee0",
   "metadata": {},
   "outputs": [],
   "source": [
    "for event, short_x in zip(data.events, short_contexts+1):\n",
    "    event.user_features = short_x"
   ]
  },
  {
   "cell_type": "code",
   "execution_count": 10,
   "id": "40cebb5e",
   "metadata": {},
   "outputs": [
    {
     "data": {
      "text/plain": [
       "(1751665, 10)"
      ]
     },
     "execution_count": 10,
     "metadata": {},
     "output_type": "execute_result"
    }
   ],
   "source": [
    "short_contexts.shape"
   ]
  },
  {
   "cell_type": "code",
   "execution_count": null,
   "id": "3b71fe2d",
   "metadata": {},
   "outputs": [],
   "source": []
  },
  {
   "cell_type": "code",
   "execution_count": 11,
   "id": "12a5fc0d",
   "metadata": {},
   "outputs": [
    {
     "name": "stdout",
     "output_type": "stream",
     "text": [
      "Took 378.0268540382385 seconds\n"
     ]
    }
   ],
   "source": [
    "s = time.time()\n",
    "p_simoos = algorithms.SimOOSAlgorithm(\n",
    "    all_contexts=(short_contexts+1), \n",
    "    number_of_actions=data.n_arms,\n",
    "    max_no_red_context=short_contexts.shape[1],\n",
    "    beta_SimOOS=1,\n",
    "    delta_SimOOS=0.1,\n",
    ")\n",
    "print(f\"Took {time.time() - s} seconds\")"
   ]
  },
  {
   "cell_type": "code",
   "execution_count": null,
   "id": "8f70f705",
   "metadata": {},
   "outputs": [],
   "source": [
    "ctr_simoos = evaluation.evaluate(\n",
    "    p_simoos,\n",
    "    data, \n",
    "    stop_after=NUM_OF_TRIALS,\n",
    "    feature_costs=costs.ConstantCosts(5, [0.0000]*13)\n",
    ")"
   ]
  },
  {
   "cell_type": "code",
   "execution_count": null,
   "id": "fc2ae9f0",
   "metadata": {},
   "outputs": [],
   "source": [
    "def plot_ctrs(ctr_dict, change_points=()):\n",
    "    fig, ax = plt.subplots(1,1, figsize=(16, 8));\n",
    "    \n",
    "    N = 40\n",
    "    \n",
    "    max_vline=0\n",
    "    \n",
    "    for label, ctr in ctr_dict.items():\n",
    "        ax.plot(ctr[N:], label=label)\n",
    "        max_vline=max(max_vline, max(ctr[N:]))\n",
    "    ax.set_xlabel('Trial')\n",
    "    ax.set_ylabel('CTR')\n",
    "    ax.set_title('Evaluation without costs')\n",
    "    \n",
    "    ax.vlines(change_points, 0, max_vline, label='change points', color='pink')\n",
    "\n",
    "    plt.legend();\n",
    "    plt.show();"
   ]
  },
  {
   "cell_type": "code",
   "execution_count": null,
   "id": "0fdc05e1",
   "metadata": {},
   "outputs": [],
   "source": [
    "plot_ctrs({\n",
    "    'Random': ctr_random,\n",
    "    'SimOOS': ctr_simoos,\n",
    "}\n",
    ")\n"
   ]
  },
  {
   "cell_type": "code",
   "execution_count": null,
   "id": "69f6bf6f",
   "metadata": {},
   "outputs": [],
   "source": [
    "vars(p_simoos)"
   ]
  },
  {
   "cell_type": "code",
   "execution_count": null,
   "id": "d509487a",
   "metadata": {},
   "outputs": [],
   "source": [
    "list(p_simoos.nu_t)"
   ]
  },
  {
   "cell_type": "code",
   "execution_count": null,
   "id": "8f0f97ea",
   "metadata": {},
   "outputs": [],
   "source": [
    "list(p_simoos.upsilon_t)"
   ]
  },
  {
   "cell_type": "code",
   "execution_count": null,
   "id": "78c2bdbb",
   "metadata": {},
   "outputs": [],
   "source": [
    "(p_simoos.upsilon_t == np.zeros(p_simoos.upsilon_t.shape)).flatten().all()"
   ]
  },
  {
   "cell_type": "code",
   "execution_count": null,
   "id": "ecaff99b",
   "metadata": {},
   "outputs": [],
   "source": [
    "list(p_simoos.N_t_o)"
   ]
  },
  {
   "cell_type": "code",
   "execution_count": null,
   "id": "1f1a1dad",
   "metadata": {},
   "outputs": [],
   "source": [
    "list(p_simoos.selected_context_SimOOS)"
   ]
  },
  {
   "cell_type": "code",
   "execution_count": null,
   "id": "8dedb145",
   "metadata": {},
   "outputs": [],
   "source": []
  }
 ],
 "metadata": {
  "kernelspec": {
   "display_name": "Python 3 (ipykernel)",
   "language": "python",
   "name": "python3"
  },
  "language_info": {
   "codemirror_mode": {
    "name": "ipython",
    "version": 3
   },
   "file_extension": ".py",
   "mimetype": "text/x-python",
   "name": "python",
   "nbconvert_exporter": "python",
   "pygments_lexer": "ipython3",
   "version": "3.9.5"
  }
 },
 "nbformat": 4,
 "nbformat_minor": 5
}
