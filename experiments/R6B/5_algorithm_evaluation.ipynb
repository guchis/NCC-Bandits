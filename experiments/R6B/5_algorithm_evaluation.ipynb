{
 "cells": [
  {
   "cell_type": "markdown",
   "id": "6e4a54e2",
   "metadata": {},
   "source": [
    "### This notebook contains algorithm comparison without costs\n",
    "\n",
    "Just run the algorithms of interest without costs."
   ]
  },
  {
   "cell_type": "code",
   "execution_count": 1,
   "id": "bfef7d19",
   "metadata": {},
   "outputs": [
    {
     "data": {
      "text/plain": [
       "'/Users/sbokupripeku/git/work/examples/costly_nonstationary_bandits'"
      ]
     },
     "execution_count": 1,
     "metadata": {},
     "output_type": "execute_result"
    }
   ],
   "source": [
    "import os\n",
    "os.chdir('../..')\n",
    "os.getcwd()"
   ]
  },
  {
   "cell_type": "code",
   "execution_count": 2,
   "id": "c40600bb",
   "metadata": {},
   "outputs": [],
   "source": [
    "%load_ext autoreload\n",
    "%autoreload 2\n",
    "\n",
    "import pickle\n",
    "import matplotlib.pyplot as plt\n",
    "\n",
    "import algorithms\n",
    "import costs\n",
    "import evaluation\n",
    "import dataset\n",
    "from plotting.average_ctr import get_average_ctr_plot"
   ]
  },
  {
   "cell_type": "code",
   "execution_count": 3,
   "id": "d022a4b5",
   "metadata": {},
   "outputs": [
    {
     "name": "stdout",
     "output_type": "stream",
     "text": [
      "CPU times: user 2.2 s, sys: 629 ms, total: 2.83 s\n",
      "Wall time: 6.36 s\n"
     ]
    }
   ],
   "source": [
    "%%time\n",
    "import gc\n",
    "\n",
    "with open(\"dataset/r6b/subsample/data_06.pickle\", \"rb\") as f:\n",
    "    gc.disable()\n",
    "    data = pickle.load(f)\n",
    "    gc.enable()"
   ]
  },
  {
   "cell_type": "code",
   "execution_count": 9,
   "id": "acae0a4d",
   "metadata": {},
   "outputs": [],
   "source": [
    "NUM_OF_TRIALS = None"
   ]
  },
  {
   "cell_type": "code",
   "execution_count": 10,
   "id": "e8e543d1",
   "metadata": {},
   "outputs": [
    {
     "name": "stdout",
     "output_type": "stream",
     "text": [
      "Random policy with ZeroCosts\n",
      "Average reward: 0.042\n",
      "Execution time: 2.2m\n"
     ]
    }
   ],
   "source": [
    "p_random = algorithms.RandomPolicy()\n",
    "ctr_random = evaluation.evaluate(p_random, data, stop_after=NUM_OF_TRIALS)"
   ]
  },
  {
   "cell_type": "code",
   "execution_count": 11,
   "id": "6b7eb1a3",
   "metadata": {},
   "outputs": [
    {
     "name": "stdout",
     "output_type": "stream",
     "text": [
      "E-greedy(epsilon=0.2) with ZeroCosts\n",
      "Average reward: 0.0953\n",
      "Execution time: 2.3m\n"
     ]
    }
   ],
   "source": [
    "egreedy = algorithms.EpsilonGreedy(epsilon=0.2, total_n_arms=data.n_arms)\n",
    "ctr_egreedy = evaluation.evaluate(egreedy, data, stop_after=NUM_OF_TRIALS)"
   ]
  },
  {
   "cell_type": "code",
   "execution_count": 12,
   "id": "9a683c99",
   "metadata": {},
   "outputs": [
    {
     "name": "stdout",
     "output_type": "stream",
     "text": [
      "LinUCB (alpha=0.1 with ZeroCosts\n",
      "Average reward: 0.0819\n",
      "Execution time: 18.3m\n"
     ]
    }
   ],
   "source": [
    "linucb = algorithms.LinUCB(\n",
    "    context_dimension=len(data.events[0].user_features),\n",
    "    n_arms=data.n_arms,\n",
    "    alpha=0.1,\n",
    ")\n",
    "ctr_linucb = evaluation.evaluate(linucb, data, stop_after=NUM_OF_TRIALS)"
   ]
  },
  {
   "cell_type": "code",
   "execution_count": 21,
   "id": "87e85ab2",
   "metadata": {},
   "outputs": [],
   "source": [
    "def plot_ctrs(ctr_dict):\n",
    "    fig, ax = plt.subplots(1,1, figsize=(10, 5));\n",
    "    \n",
    "    N = 40\n",
    "    \n",
    "    for label, ctr in ctr_dict.items():\n",
    "        ax.plot(ctr[N:], label=label)\n",
    "    ax.set_xlabel('Trial')\n",
    "    ax.set_ylabel('CTR')\n",
    "    ax.set_title('Evaluation without costs')\n",
    "\n",
    "    plt.legend();\n",
    "    plt.show();"
   ]
  },
  {
   "cell_type": "code",
   "execution_count": null,
   "id": "f464a097",
   "metadata": {},
   "outputs": [],
   "source": [
    "plot_ctrs({\n",
    "    'Random': ctr_random,\n",
    "    'E-greedy': ctr_egreedy,\n",
    "    'LinUCB': ctr_linucb\n",
    "})\n"
   ]
  },
  {
   "cell_type": "code",
   "execution_count": 22,
   "id": "299268dd",
   "metadata": {},
   "outputs": [
    {
     "data": {
      "image/png": "[encoded data removed]",
      "text/plain": [
       "<Figure size 720x360 with 1 Axes>"
      ]
     },
     "metadata": {
      "needs_background": "light"
     },
     "output_type": "display_data"
    }
   ],
   "source": [
    "plot_ctrs({\n",
    "    'Random': ctr_random,\n",
    "    'E-greedy': ctr_egreedy,\n",
    "    'LinUCB': ctr_linucb\n",
    "})\n"
   ]
  },
  {
   "cell_type": "code",
   "execution_count": 16,
   "id": "746b8056",
   "metadata": {},
   "outputs": [
    {
     "name": "stdout",
     "output_type": "stream",
     "text": [
      "CPU times: user 9.72 s, sys: 14.2 s, total: 23.9 s\n",
      "Wall time: 35.7 s\n"
     ]
    },
    {
     "data": {
      "application/vnd.plotly.v1+json": {
       "config": {
        "plotlyServerURL": "https://plot.ly"
       },
       "data": [
        {
         "mode": "lines",
         "name": "id-569350",
         "type": "scatter",
         "x": [],
         "y": []
        },
        {
         "mode": "lines",
         "name": "id-569364",
         "type": "scatter",
         "x": [
          "2011-10-06T02:21:41.045000",
          "2011-10-06T05:28:27.832500",
          "2011-10-06T06:42:42.112000",
          "2011-10-06T08:33:49.650000",
          "2011-10-06T11:17:17.430000",
          "2011-10-06T13:28:01.789500",
          "2011-10-06T14:45:21.871500"
         ],
         "y": [
          0.02,
          0.023,
          0.02,
          0.021,
          0.018,
          0.02,
          0.0245
         ]
        },
        {
         "mode": "lines",
         "name": "id-569479",
         "type": "scatter",
         "x": [
          "2011-10-06T02:21:08.104000",
          "2011-10-06T05:27:00.367000",
          "2011-10-06T06:39:53.274000",
          "2011-10-06T08:27:39.087000",
          "2011-10-06T11:08:39.311500",
          "2011-10-06T13:25:39.576000",
          "2011-10-06T14:45:10.984000",
          "2011-10-06T15:39:53.663000",
          "2011-10-06T16:26:18.294000",
          "2011-10-06T17:06:50.323000",
          "2011-10-06T17:45:04.978000",
          "2011-10-06T18:24:00.391000",
          "2011-10-06T19:02:37.035500",
          "2011-10-06T19:39:40.294000",
          "2011-10-06T20:16:43.251500",
          "2011-10-06T20:56:04.054000",
          "2011-10-06T21:38:04.454500",
          "2011-10-06T22:17:49.485500",
          "2011-10-06T22:57:34.161000",
          "2011-10-06T23:42:11.762500",
          "2011-10-07T00:30:17.961500"
         ],
         "y": [
          0.0285,
          0.0355,
          0.0305,
          0.026,
          0.0265,
          0.0305,
          0.028,
          0.0255,
          0.025,
          0.028,
          0.029,
          0.028,
          0.0245,
          0.03,
          0.0275,
          0.025,
          0.022,
          0.0265,
          0.025,
          0.021,
          0.0265
         ]
        },
        {
         "mode": "lines",
         "name": "id-571077",
         "type": "scatter",
         "x": [
          "2011-10-06T02:21:49.643000",
          "2011-10-06T05:27:20.765000",
          "2011-10-06T06:43:59.798500",
          "2011-10-06T08:36:29.720000",
          "2011-10-06T11:23:06.485000",
          "2011-10-06T13:33:37.239000",
          "2011-10-06T14:47:00.790500",
          "2011-10-06T15:41:47.337000",
          "2011-10-06T16:27:37.317000",
          "2011-10-06T17:08:36.882500"
         ],
         "y": [
          0.0215,
          0.024,
          0.02,
          0.02,
          0.013,
          0.025,
          0.022,
          0.016,
          0.0145,
          0.022
         ]
        },
        {
         "mode": "lines",
         "name": "id-571566",
         "type": "scatter",
         "x": [
          "2011-10-06T22:30:45.998500",
          "2011-10-06T23:12:21.075000",
          "2011-10-06T23:59:13.811500",
          "2011-10-07T00:50:18.758000"
         ],
         "y": [
          0.055,
          0.067,
          0.0575,
          0.06
         ]
        },
        {
         "mode": "lines",
         "name": "id-571691",
         "type": "scatter",
         "x": [
          "2011-10-06T20:48:33.961000",
          "2011-10-06T21:27:40.220500",
          "2011-10-06T22:07:19.857500",
          "2011-10-06T22:47:21.230000",
          "2011-10-06T23:30:46.691500",
          "2011-10-07T00:18:08.539500",
          "2011-10-07T01:08:39.033000"
         ],
         "y": [
          0.0195,
          0.018,
          0.018,
          0.018,
          0.021,
          0.011,
          0.013
         ]
        },
        {
         "mode": "lines",
         "name": "id-572076",
         "type": "scatter",
         "x": [
          "2011-10-06T02:25:36.098000",
          "2011-10-06T05:28:21.795000",
          "2011-10-06T06:44:53.407000",
          "2011-10-06T08:47:02.189000",
          "2011-10-06T11:40:40.189000",
          "2011-10-06T13:41:25.614500"
         ],
         "y": [
          0.011,
          0.013,
          0.0115,
          0.01,
          0.01,
          0.0055
         ]
        },
        {
         "mode": "lines",
         "name": "id-572219",
         "type": "scatter",
         "x": [
          "2011-10-06T02:23:17.814500",
          "2011-10-06T05:28:44.947000",
          "2011-10-06T06:45:33.237000",
          "2011-10-06T08:37:48.537000",
          "2011-10-06T11:26:03.998000"
         ],
         "y": [
          0.0385,
          0.042,
          0.029,
          0.03,
          0.023
         ]
        },
        {
         "mode": "lines",
         "name": "id-572306",
         "type": "scatter",
         "x": [
          "2011-10-06T02:26:04.176500",
          "2011-10-06T05:28:40.511500",
          "2011-10-06T06:43:00.766000",
          "2011-10-06T08:38:46.521500",
          "2011-10-06T11:30:07.902000",
          "2011-10-06T13:40:33.848000",
          "2011-10-06T14:51:54.000500",
          "2011-10-06T15:44:39.075500",
          "2011-10-06T16:30:54.869000",
          "2011-10-06T17:10:34.523000",
          "2011-10-06T17:47:59.113000",
          "2011-10-06T18:27:11.378500",
          "2011-10-06T19:04:55.533000",
          "2011-10-06T19:41:27.738000",
          "2011-10-06T20:18:41.516000",
          "2011-10-06T20:58:26.741500",
          "2011-10-06T21:38:42.271500",
          "2011-10-06T22:20:17.589000",
          "2011-10-06T23:04:04.163000",
          "2011-10-06T23:50:02.315500",
          "2011-10-07T00:40:07.503500"
         ],
         "y": [
          0.029,
          0.0285,
          0.0295,
          0.0295,
          0.027,
          0.027,
          0.0265,
          0.0335,
          0.025,
          0.0265,
          0.029,
          0.036,
          0.0325,
          0.025,
          0.0295,
          0.0275,
          0.0215,
          0.03,
          0.017,
          0.0245,
          0.0195
         ]
        },
        {
         "mode": "lines",
         "name": "id-572615",
         "type": "scatter",
         "x": [
          "2011-10-06T02:21:29.292000",
          "2011-10-06T05:28:29.302500",
          "2011-10-06T06:42:47.424000",
          "2011-10-06T08:33:58.389500",
          "2011-10-06T11:22:25.965000",
          "2011-10-06T13:34:18.707500"
         ],
         "y": [
          0.033,
          0.0405,
          0.029,
          0.0225,
          0.0135,
          0.0225
         ]
        },
        {
         "mode": "lines",
         "name": "id-572770",
         "type": "scatter",
         "x": [
          "2011-10-06T02:26:24.336000",
          "2011-10-06T05:27:59.035000",
          "2011-10-06T06:41:24.757000",
          "2011-10-06T08:33:00.847500",
          "2011-10-06T11:16:30.743500",
          "2011-10-06T13:34:16.448000",
          "2011-10-06T14:48:52.018000",
          "2011-10-06T15:41:15.099500",
          "2011-10-06T16:27:13.515000",
          "2011-10-06T17:07:42.128000",
          "2011-10-06T17:45:12.505000",
          "2011-10-06T18:23:12.856000",
          "2011-10-06T19:01:21.231000",
          "2011-10-06T19:38:25.376000",
          "2011-10-06T20:15:27.536500",
          "2011-10-06T20:53:49.638500",
          "2011-10-06T21:34:51.322000",
          "2011-10-06T22:14:43.377000",
          "2011-10-06T22:56:10.477500",
          "2011-10-06T23:40:27.736000",
          "2011-10-07T00:27:53.138500",
          "2011-10-07T01:16:57.031500"
         ],
         "y": [
          0.0205,
          0.029,
          0.0255,
          0.0225,
          0.027,
          0.0345,
          0.028,
          0.0355,
          0.028,
          0.032,
          0.034,
          0.0245,
          0.028,
          0.026,
          0.027,
          0.0295,
          0.031,
          0.0295,
          0.0225,
          0.02,
          0.029,
          0.0215
         ]
        },
        {
         "mode": "lines",
         "name": "id-572780",
         "type": "scatter",
         "x": [
          "2011-10-06T21:42:06.465500",
          "2011-10-06T22:24:06.196000",
          "2011-10-06T23:06:37.660000",
          "2011-10-06T23:50:44.783500",
          "2011-10-07T00:39:36.576500",
          "2011-10-07T01:29:20.617000"
         ],
         "y": [
          0.034,
          0.028,
          0.022,
          0.0195,
          0.024,
          0.0255
         ]
        },
        {
         "mode": "lines",
         "name": "id-572797",
         "type": "scatter",
         "x": [],
         "y": []
        },
        {
         "mode": "lines",
         "name": "id-574160",
         "type": "scatter",
         "x": [
          "2011-10-06T02:21:03.771500",
          "2011-10-06T05:27:23.611500",
          "2011-10-06T06:43:16.577500",
          "2011-10-06T08:38:01.996500",
          "2011-10-06T11:26:45.532500",
          "2011-10-06T13:34:52.249500"
         ],
         "y": [
          0.025,
          0.022,
          0.025,
          0.0195,
          0.02,
          0.0215
         ]
        },
        {
         "mode": "lines",
         "name": "id-574244",
         "type": "scatter",
         "x": [
          "2011-10-06T02:22:38.578500",
          "2011-10-06T05:26:50.694000",
          "2011-10-06T06:37:36.415500",
          "2011-10-06T08:28:19.915000",
          "2011-10-06T11:13:31.173000",
          "2011-10-06T13:25:56.566000",
          "2011-10-06T14:43:27.751500",
          "2011-10-06T15:37:29.509000",
          "2011-10-06T16:23:31.184000"
         ],
         "y": [
          0.019,
          0.024,
          0.02,
          0.02,
          0.0185,
          0.022,
          0.016,
          0.0235,
          0.019
         ]
        },
        {
         "mode": "lines",
         "name": "id-574512",
         "type": "scatter",
         "x": [
          "2011-10-06T02:25:25.441500",
          "2011-10-06T05:28:33.803000",
          "2011-10-06T06:42:00.891500",
          "2011-10-06T08:29:46.910500",
          "2011-10-06T11:19:03.621500",
          "2011-10-06T13:32:22.127500",
          "2011-10-06T14:50:25.116000",
          "2011-10-06T15:45:40.055500",
          "2011-10-06T16:32:36.713000",
          "2011-10-06T17:12:46.757000",
          "2011-10-06T17:51:13.357500",
          "2011-10-06T18:30:49.800500",
          "2011-10-06T19:08:32.543500",
          "2011-10-06T19:45:54.459000",
          "2011-10-06T20:22:51.494500",
          "2011-10-06T21:01:52.790000"
         ],
         "y": [
          0.0545,
          0.064,
          0.053,
          0.0445,
          0.0385,
          0.0565,
          0.066,
          0.061,
          0.0625,
          0.0655,
          0.061,
          0.054,
          0.0565,
          0.0605,
          0.0615,
          0.057
         ]
        },
        {
         "mode": "lines",
         "name": "id-574541",
         "type": "scatter",
         "x": [
          "2011-10-06T02:21:04.589500",
          "2011-10-06T05:27:33.184500",
          "2011-10-06T06:41:44.924000",
          "2011-10-06T08:33:45.902500",
          "2011-10-06T11:22:11.045500",
          "2011-10-06T13:32:41.868500",
          "2011-10-06T14:48:18.528500",
          "2011-10-06T15:42:09.062000",
          "2011-10-06T16:27:15.268500",
          "2011-10-06T17:05:34.738500",
          "2011-10-06T17:42:28.832500",
          "2011-10-06T18:20:07.304500",
          "2011-10-06T18:58:23.948500",
          "2011-10-06T19:35:07.359000",
          "2011-10-06T20:13:33.878500"
         ],
         "y": [
          0.0245,
          0.021,
          0.017,
          0.0115,
          0.011,
          0.018,
          0.0265,
          0.0175,
          0.019,
          0.0215,
          0.025,
          0.0255,
          0.0255,
          0.0185,
          0.0255
         ]
        },
        {
         "mode": "lines",
         "name": "id-574791",
         "type": "scatter",
         "x": [
          "2011-10-06T16:18:51.644500",
          "2011-10-06T17:01:10.068500",
          "2011-10-06T17:40:31.487000",
          "2011-10-06T18:18:45.997500",
          "2011-10-06T18:55:50.021500",
          "2011-10-06T19:31:54.080500",
          "2011-10-06T20:08:40.473500",
          "2011-10-06T20:47:06.290500",
          "2011-10-06T21:27:47.972500",
          "2011-10-06T22:07:42.476000",
          "2011-10-06T22:47:40.483000",
          "2011-10-06T23:30:43.430000",
          "2011-10-07T00:18:20.813000",
          "2011-10-07T01:09:07.531000"
         ],
         "y": [
          0.018,
          0.021,
          0.019,
          0.025,
          0.0195,
          0.028,
          0.0225,
          0.023,
          0.023,
          0.0175,
          0.022,
          0.0205,
          0.0185,
          0.022
         ]
        },
        {
         "mode": "lines",
         "name": "id-574828",
         "type": "scatter",
         "x": [
          "2011-10-06T02:22:23.066000",
          "2011-10-06T05:28:44.347000",
          "2011-10-06T06:44:24.034500",
          "2011-10-06T08:36:40.009500",
          "2011-10-06T11:26:09.814000",
          "2011-10-06T13:39:32.355500",
          "2011-10-06T14:54:13.205000",
          "2011-10-06T15:46:03.836500",
          "2011-10-06T16:29:40.525000"
         ],
         "y": [
          0.0555,
          0.0665,
          0.0745,
          0.08,
          0.0535,
          0.0575,
          0.07,
          0.062,
          0.0725
         ]
        },
        {
         "mode": "lines",
         "name": "id-574842",
         "type": "scatter",
         "x": [
          "2011-10-06T02:26:52.580000",
          "2011-10-06T05:28:53.716000",
          "2011-10-06T06:43:43.004500",
          "2011-10-06T08:36:53.851000",
          "2011-10-06T11:21:39.336000",
          "2011-10-06T13:32:00.913000",
          "2011-10-06T14:45:26.491500",
          "2011-10-06T15:40:19.334000",
          "2011-10-06T16:27:16.829000",
          "2011-10-06T17:07:17.695000",
          "2011-10-06T17:45:17.388500"
         ],
         "y": [
          0.021,
          0.027,
          0.035,
          0.0285,
          0.017,
          0.0185,
          0.0165,
          0.0165,
          0.021,
          0.026,
          0.019
         ]
        },
        {
         "mode": "lines",
         "name": "id-574957",
         "type": "scatter",
         "x": [
          "2011-10-06T02:26:50.478000",
          "2011-10-06T05:30:42.292000",
          "2011-10-06T06:47:06.344000",
          "2011-10-06T08:42:34.037500",
          "2011-10-06T11:32:02.831000",
          "2011-10-06T13:39:59.344000",
          "2011-10-06T14:52:35.098500",
          "2011-10-06T15:45:46.769000",
          "2011-10-06T16:31:21.983000",
          "2011-10-06T17:11:33.180000",
          "2011-10-06T17:49:01.749000",
          "2011-10-06T18:27:00.822000",
          "2011-10-06T19:03:28.868000",
          "2011-10-06T19:39:39.980500",
          "2011-10-06T20:16:22.994500",
          "2011-10-06T20:55:43.524000",
          "2011-10-06T21:36:26.929000",
          "2011-10-06T22:17:11.164000",
          "2011-10-06T22:58:50.635500",
          "2011-10-06T23:44:38.760500",
          "2011-10-07T00:33:28.976000",
          "2011-10-07T01:22:08.994500"
         ],
         "y": [
          0.081,
          0.0785,
          0.0755,
          0.057,
          0.057,
          0.0735,
          0.091,
          0.0845,
          0.0895,
          0.081,
          0.0795,
          0.0825,
          0.0795,
          0.087,
          0.0865,
          0.079,
          0.0795,
          0.075,
          0.069,
          0.068,
          0.07,
          0.064
         ]
        },
        {
         "mode": "lines",
         "name": "id-574980",
         "type": "scatter",
         "x": [
          "2011-10-06T02:20:31.267500",
          "2011-10-06T05:27:12.485500",
          "2011-10-06T06:40:41.389000",
          "2011-10-06T08:34:29.081000",
          "2011-10-06T11:18:03.962000",
          "2011-10-06T13:31:30.411000",
          "2011-10-06T14:48:40.866000",
          "2011-10-06T15:42:43.100000",
          "2011-10-06T16:27:17.738500",
          "2011-10-06T17:07:22.700500",
          "2011-10-06T17:45:21.235000"
         ],
         "y": [
          0.036,
          0.041,
          0.0335,
          0.028,
          0.0215,
          0.0375,
          0.0425,
          0.042,
          0.034,
          0.0325,
          0.043
         ]
        },
        {
         "mode": "lines",
         "name": "id-575000",
         "type": "scatter",
         "x": [
          "2011-10-06T02:19:46.520500",
          "2011-10-06T05:27:25.410500",
          "2011-10-06T06:39:24.991500",
          "2011-10-06T08:25:47.585000",
          "2011-10-06T11:07:24.785500",
          "2011-10-06T13:26:07.340500",
          "2011-10-06T14:44:25.686500",
          "2011-10-06T15:38:51.462500",
          "2011-10-06T16:24:31.322500",
          "2011-10-06T17:05:19.632500",
          "2011-10-06T17:42:57.544000",
          "2011-10-06T18:21:05.590000",
          "2011-10-06T18:59:20.772000",
          "2011-10-06T19:34:21.188500",
          "2011-10-06T20:11:08.753000",
          "2011-10-06T20:50:05.230000",
          "2011-10-06T21:29:48.626000",
          "2011-10-06T22:10:38.416000",
          "2011-10-06T22:52:25.578000",
          "2011-10-06T23:37:17.743500",
          "2011-10-07T00:23:53.891500",
          "2011-10-07T01:12:54.705000"
         ],
         "y": [
          0.0615,
          0.0555,
          0.0655,
          0.058,
          0.0455,
          0.058,
          0.06,
          0.0525,
          0.0585,
          0.0575,
          0.0605,
          0.0575,
          0.055,
          0.048,
          0.058,
          0.059,
          0.061,
          0.0615,
          0.0495,
          0.058,
          0.053,
          0.047
         ]
        },
        {
         "mode": "lines",
         "name": "id-575157",
         "type": "scatter",
         "x": [
          "2011-10-06T02:25:18.212500",
          "2011-10-06T05:29:18.415500",
          "2011-10-06T06:45:18",
          "2011-10-06T08:42:59.847000",
          "2011-10-06T11:32:16.263000",
          "2011-10-06T13:39:25.156500",
          "2011-10-06T14:51:14.310500",
          "2011-10-06T15:44:03.966500",
          "2011-10-06T16:28:30.145000",
          "2011-10-06T17:08:46.858000",
          "2011-10-06T17:46:22.248000",
          "2011-10-06T18:24:27.068000",
          "2011-10-06T19:02:30.091000",
          "2011-10-06T19:40:22.253500",
          "2011-10-06T20:19:16.687000"
         ],
         "y": [
          0.0185,
          0.0215,
          0.019,
          0.0185,
          0.0145,
          0.018,
          0.0255,
          0.0175,
          0.0195,
          0.0235,
          0.0225,
          0.022,
          0.0225,
          0.023,
          0.0185
         ]
        },
        {
         "mode": "lines",
         "name": "id-575220",
         "type": "scatter",
         "x": [
          "2011-10-06T02:20:07.183500",
          "2011-10-06T05:27:39.518000",
          "2011-10-06T06:39:46.661000",
          "2011-10-06T08:30:21.673500",
          "2011-10-06T11:18:00.870500",
          "2011-10-06T13:31:02.921500",
          "2011-10-06T14:44:43.326500",
          "2011-10-06T15:37:49.971500",
          "2011-10-06T16:24:07.602500",
          "2011-10-06T17:04:46.996500",
          "2011-10-06T17:42:37.201500"
         ],
         "y": [
          0.0415,
          0.041,
          0.0345,
          0.031,
          0.033,
          0.042,
          0.039,
          0.033,
          0.0445,
          0.036,
          0.05
         ]
        },
        {
         "mode": "lines",
         "name": "id-575574",
         "type": "scatter",
         "x": [
          "2011-10-06T13:28:57.927500",
          "2011-10-06T14:44:31.744500",
          "2011-10-06T15:37:42.980500",
          "2011-10-06T16:22:03.917000",
          "2011-10-06T17:02:03.912500",
          "2011-10-06T17:41:42.231000"
         ],
         "y": [
          0.0265,
          0.026,
          0.03,
          0.0315,
          0.0315,
          0.0285
         ]
        },
        {
         "mode": "lines",
         "name": "id-575768",
         "type": "scatter",
         "x": [
          "2011-10-06T02:27:12.491000",
          "2011-10-06T05:29:41.071500",
          "2011-10-06T06:43:02.521500",
          "2011-10-06T08:36:43.381500",
          "2011-10-06T11:25:01.880500",
          "2011-10-06T13:34:22.453500",
          "2011-10-06T14:48:40.230500",
          "2011-10-06T15:42:31.686000",
          "2011-10-06T16:27:20.520500",
          "2011-10-06T17:08:52.253000",
          "2011-10-06T17:45:44.084500",
          "2011-10-06T18:23:27.078000",
          "2011-10-06T19:00:32.892500",
          "2011-10-06T19:37:16.662500",
          "2011-10-06T20:15:11.524000",
          "2011-10-06T20:53:30.212500",
          "2011-10-06T21:33:45.463500",
          "2011-10-06T22:14:07.241500",
          "2011-10-06T22:56:16.426500",
          "2011-10-06T23:41:06.760500",
          "2011-10-07T00:28:40.991000"
         ],
         "y": [
          0.024,
          0.025,
          0.02,
          0.022,
          0.024,
          0.029,
          0.0285,
          0.0205,
          0.0275,
          0.0245,
          0.0245,
          0.0245,
          0.0275,
          0.026,
          0.03,
          0.0275,
          0.022,
          0.022,
          0.0185,
          0.022,
          0.0205
         ]
        },
        {
         "mode": "lines",
         "name": "id-575912",
         "type": "scatter",
         "x": [
          "2011-10-06T02:19:24.992500",
          "2011-10-06T05:26:15.423500",
          "2011-10-06T06:41:07.439000",
          "2011-10-06T08:33:12.161000",
          "2011-10-06T11:18:00.928500",
          "2011-10-06T13:31:16.042000",
          "2011-10-06T14:46:00.371000",
          "2011-10-06T15:40:26.822500",
          "2011-10-06T16:25:06.015000",
          "2011-10-06T17:06:58.436000",
          "2011-10-06T17:45:18.884000",
          "2011-10-06T18:24:52.345000"
         ],
         "y": [
          0.036,
          0.035,
          0.0415,
          0.026,
          0.025,
          0.0355,
          0.0395,
          0.0465,
          0.038,
          0.037,
          0.045,
          0.038
         ]
        },
        {
         "mode": "lines",
         "name": "id-575934",
         "type": "scatter",
         "x": [
          "2011-10-06T02:27:13.557000",
          "2011-10-06T05:27:56.570500",
          "2011-10-06T06:38:47.730000",
          "2011-10-06T08:27:11.508500",
          "2011-10-06T11:10:38.005500",
          "2011-10-06T13:25:26.116000",
          "2011-10-06T14:41:28.004000",
          "2011-10-06T15:37:33.550500",
          "2011-10-06T16:24:49.417000",
          "2011-10-06T17:05:37.474000",
          "2011-10-06T17:42:29.422000",
          "2011-10-06T18:20:54.554500",
          "2011-10-06T18:59:10.540000",
          "2011-10-06T19:36:24.675000",
          "2011-10-06T20:13:29.749000",
          "2011-10-06T20:52:17.662000",
          "2011-10-06T21:33:21.717500",
          "2011-10-06T22:13:36.417500",
          "2011-10-06T22:55:21.131500",
          "2011-10-06T23:38:24.784000",
          "2011-10-07T00:25:37.281500",
          "2011-10-07T01:15:31.546000"
         ],
         "y": [
          0.0455,
          0.041,
          0.044,
          0.0345,
          0.028,
          0.0395,
          0.045,
          0.044,
          0.0475,
          0.045,
          0.055,
          0.052,
          0.049,
          0.048,
          0.0525,
          0.057,
          0.0405,
          0.047,
          0.0395,
          0.04,
          0.046,
          0.039
         ]
        },
        {
         "mode": "lines",
         "name": "id-576018",
         "type": "scatter",
         "x": [
          "2011-10-06T05:23:43.339000",
          "2011-10-06T06:36:26.616000",
          "2011-10-06T08:27:06.938500",
          "2011-10-06T11:15:57.350500",
          "2011-10-06T13:32:04.467000",
          "2011-10-06T14:45:41.130500",
          "2011-10-06T15:40:36.038500",
          "2011-10-06T16:27:08.741000",
          "2011-10-06T17:06:52.881000",
          "2011-10-06T17:44:54.552000",
          "2011-10-06T18:23:52.705000",
          "2011-10-06T19:01:09.629000",
          "2011-10-06T19:37:05.709000",
          "2011-10-06T20:14:54.137000",
          "2011-10-06T20:54:33.944000",
          "2011-10-06T21:35:54.330500",
          "2011-10-06T22:15:47.408500",
          "2011-10-06T22:57:35.520500",
          "2011-10-06T23:44:05.365500",
          "2011-10-07T00:33:38.209000"
         ],
         "y": [
          0.058,
          0.0575,
          0.0425,
          0.04,
          0.0515,
          0.056,
          0.0645,
          0.059,
          0.063,
          0.056,
          0.0595,
          0.063,
          0.0565,
          0.052,
          0.05,
          0.055,
          0.0475,
          0.052,
          0.042,
          0.0455
         ]
        },
        {
         "mode": "lines",
         "name": "id-576048",
         "type": "scatter",
         "x": [
          "2011-10-07T00:38:00.921000",
          "2011-10-07T01:27:27.239000"
         ],
         "y": [
          0.0475,
          0.039
         ]
        },
        {
         "mode": "lines",
         "name": "id-576101",
         "type": "scatter",
         "x": [
          "2011-10-06T02:25:35.169000",
          "2011-10-06T05:28:39.789000",
          "2011-10-06T06:40:49.964500",
          "2011-10-06T08:30:36.381500",
          "2011-10-06T11:21:07.674500",
          "2011-10-06T13:35:19.199000",
          "2011-10-06T14:47:59.259500",
          "2011-10-06T15:41:08.869500",
          "2011-10-06T16:26:36.007500",
          "2011-10-06T17:06:40.518500",
          "2011-10-06T17:44:01.985500",
          "2011-10-06T18:21:50.941500",
          "2011-10-06T19:00:59.726000",
          "2011-10-06T19:37:02.053000",
          "2011-10-06T20:14:22.776000",
          "2011-10-06T20:54:07.987500",
          "2011-10-06T21:35:18.808500",
          "2011-10-06T22:16:04.138500",
          "2011-10-06T22:56:52.105500",
          "2011-10-06T23:39:39.503500",
          "2011-10-07T00:26:15.433000"
         ],
         "y": [
          0.0335,
          0.0405,
          0.039,
          0.0405,
          0.0285,
          0.032,
          0.0285,
          0.0505,
          0.036,
          0.04,
          0.0355,
          0.0345,
          0.039,
          0.035,
          0.0345,
          0.0365,
          0.0345,
          0.035,
          0.0375,
          0.026,
          0.037
         ]
        },
        {
         "mode": "lines",
         "name": "id-576414",
         "type": "scatter",
         "x": [
          "2011-10-06T23:39:29.837500",
          "2011-10-07T00:26:34.726000",
          "2011-10-07T01:15:13.038000"
         ],
         "y": [
          0.045,
          0.037,
          0.041
         ]
        },
        {
         "mode": "lines",
         "name": "id-576453",
         "type": "scatter",
         "x": [
          "2011-10-06T21:35:58.616000",
          "2011-10-06T22:17:25.267000",
          "2011-10-06T22:59:25.715500",
          "2011-10-06T23:44:28.801000",
          "2011-10-07T00:34:26.477500",
          "2011-10-07T01:25:08.331000"
         ],
         "y": [
          0.0425,
          0.0415,
          0.036,
          0.037,
          0.0355,
          0.0305
         ]
        },
        {
         "mode": "lines",
         "name": "id-576958",
         "type": "scatter",
         "x": [
          "2011-10-06T17:46:23.478500",
          "2011-10-06T18:24:36.655000",
          "2011-10-06T19:01:42.679000",
          "2011-10-06T19:37:26.769500",
          "2011-10-06T20:13:34.939500",
          "2011-10-06T20:52:02.982000",
          "2011-10-06T21:33:15.853500",
          "2011-10-06T22:14:23.548500",
          "2011-10-06T22:55:48.683000",
          "2011-10-06T23:40:40.967500",
          "2011-10-07T00:28:01.293500",
          "2011-10-07T01:16:56.903000"
         ],
         "y": [
          0.091,
          0.0915,
          0.0855,
          0.0915,
          0.0705,
          0.0765,
          0.067,
          0.067,
          0.071,
          0.07,
          0.0565,
          0.062
         ]
        },
        {
         "mode": "lines",
         "name": "id-577169",
         "type": "scatter",
         "x": [
          "2011-10-06T19:46:15.436000",
          "2011-10-06T20:24:01.288000",
          "2011-10-06T21:03:17.484000",
          "2011-10-06T21:43:36.005000",
          "2011-10-06T22:25:06.034500",
          "2011-10-06T23:06:32.643000",
          "2011-10-06T23:52:25.656500",
          "2011-10-07T00:42:29.569000",
          "2011-10-07T01:31:27.257500"
         ],
         "y": [
          0.0215,
          0.0225,
          0.0155,
          0.021,
          0.021,
          0.017,
          0.034,
          0.0485,
          0.034
         ]
        },
        {
         "mode": "lines",
         "name": "id-577182",
         "type": "scatter",
         "x": [
          "2011-10-06T05:24:12.352000"
         ],
         "y": [
          0.066
         ]
        },
        {
         "mode": "lines",
         "name": "id-577365",
         "type": "scatter",
         "x": [
          "2011-10-06T14:43:35.189000",
          "2011-10-06T15:38:34.543000",
          "2011-10-06T16:26:07.356500",
          "2011-10-06T17:06:51.636000",
          "2011-10-06T17:46:15.920000",
          "2011-10-06T18:25:21.636500",
          "2011-10-06T19:03:01.212500",
          "2011-10-06T19:39:32.648500",
          "2011-10-06T20:18:20.365000",
          "2011-10-06T20:58:28.092500",
          "2011-10-06T21:39:04.388000",
          "2011-10-06T22:20:00.415000",
          "2011-10-06T23:02:44.470500",
          "2011-10-06T23:48:10.123000",
          "2011-10-07T00:36:14.685500",
          "2011-10-07T01:25:20.958500"
         ],
         "y": [
          0.0315,
          0.04,
          0.0345,
          0.0235,
          0.0315,
          0.0335,
          0.0365,
          0.035,
          0.0315,
          0.0315,
          0.0245,
          0.0275,
          0.0335,
          0.0265,
          0.0255,
          0.0305
         ]
        },
        {
         "mode": "lines",
         "name": "id-577437",
         "type": "scatter",
         "x": [
          "2011-10-06T13:00:43.258000",
          "2011-10-06T14:27:06.820500",
          "2011-10-06T15:23:33.190000",
          "2011-10-06T16:10:57.281500",
          "2011-10-06T16:53:33.001000",
          "2011-10-06T17:31:54.943000",
          "2011-10-06T18:09:45.401500",
          "2011-10-06T18:47:58.727500",
          "2011-10-06T19:24:40.449500",
          "2011-10-06T20:02:00.577000",
          "2011-10-06T20:40:34.837500",
          "2011-10-06T21:20:30.589000",
          "2011-10-06T22:00:50.070000",
          "2011-10-06T22:40:57.872000",
          "2011-10-06T23:24:44.365500",
          "2011-10-07T00:11:48.568000",
          "2011-10-07T01:01:27.100000"
         ],
         "y": [
          0.033,
          0.0335,
          0.025,
          0.0325,
          0.0205,
          0.0235,
          0.028,
          0.021,
          0.0225,
          0.0185,
          0.021,
          0.02,
          0.014,
          0.0175,
          0.015,
          0.018,
          0.013
         ]
        },
        {
         "mode": "lines",
         "name": "id-577446",
         "type": "scatter",
         "x": [
          "2011-10-06T07:53:56.787500"
         ],
         "y": [
          0.066
         ]
        },
        {
         "mode": "lines",
         "name": "id-578144",
         "type": "scatter",
         "x": [
          "2011-10-06T15:29:39.902500",
          "2011-10-06T16:18:41.855500",
          "2011-10-06T17:02:00.752000",
          "2011-10-06T17:39:48.016500",
          "2011-10-06T18:17:28.606000",
          "2011-10-06T18:55:09.981000",
          "2011-10-06T19:30:48.871000",
          "2011-10-06T20:07:45.477000",
          "2011-10-06T20:46:41.876500",
          "2011-10-06T21:26:10.600000",
          "2011-10-06T22:04:39.871000",
          "2011-10-06T22:45:51.048500",
          "2011-10-06T23:29:00.349000",
          "2011-10-07T00:15:54.039000",
          "2011-10-07T01:06:17.086000"
         ],
         "y": [
          0.0445,
          0.0465,
          0.041,
          0.041,
          0.0555,
          0.046,
          0.046,
          0.039,
          0.051,
          0.0345,
          0.031,
          0.043,
          0.033,
          0.036,
          0.0375
         ]
        },
        {
         "mode": "lines",
         "name": "id-578704",
         "type": "scatter",
         "x": [
          "2011-10-06T17:49:08.204000",
          "2011-10-06T18:28:02.993500",
          "2011-10-06T19:05:59.196000",
          "2011-10-06T19:42:29.417000",
          "2011-10-06T20:19:18.001500",
          "2011-10-06T20:58:05.298500",
          "2011-10-06T21:38:54.931000",
          "2011-10-06T22:18:59.964500",
          "2011-10-06T23:00:24.111500",
          "2011-10-06T23:45:14.318000",
          "2011-10-07T00:32:47.922500",
          "2011-10-07T01:20:58.073000"
         ],
         "y": [
          0.0815,
          0.075,
          0.076,
          0.0815,
          0.085,
          0.064,
          0.067,
          0.063,
          0.052,
          0.0605,
          0.056,
          0.0485
         ]
        },
        {
         "mode": "lines",
         "name": "id-578942",
         "type": "scatter",
         "x": [
          "2011-10-06T18:50:26.078000",
          "2011-10-06T19:27:24.883500",
          "2011-10-06T20:05:00.585500",
          "2011-10-06T20:43:41.483500",
          "2011-10-06T21:23:36.659000",
          "2011-10-06T22:04:56.225000",
          "2011-10-06T22:45:48.582500",
          "2011-10-06T23:28:58.606500",
          "2011-10-07T00:16:03.146000",
          "2011-10-07T01:05:56.116000"
         ],
         "y": [
          0.0285,
          0.0215,
          0.0195,
          0.0225,
          0.018,
          0.0135,
          0.019,
          0.0155,
          0.022,
          0.0235
         ]
        },
        {
         "mode": "lines",
         "name": "id-578967",
         "type": "scatter",
         "x": [
          "2011-10-06T18:28:45.633000",
          "2011-10-06T19:10:26.031500",
          "2011-10-06T19:56:19.971000",
          "2011-10-06T20:40:16.291500",
          "2011-10-06T21:24:20.915000",
          "2011-10-06T22:07:15.634500",
          "2011-10-06T22:50:53.699000",
          "2011-10-06T23:35:06.091500",
          "2011-10-07T00:22:47.725000",
          "2011-10-07T01:13:43.969500"
         ],
         "y": [
          0.1525,
          0.1565,
          0.141,
          0.147,
          0.14,
          0.13,
          0.121,
          0.103,
          0.1095,
          0.0825
         ]
        },
        {
         "mode": "lines",
         "name": "id-579145",
         "type": "scatter",
         "x": [
          "2011-10-06T19:19:56.623500",
          "2011-10-06T19:59:02.062000",
          "2011-10-06T20:37:37.138000",
          "2011-10-06T21:18:24.839000",
          "2011-10-06T22:01:18.768500",
          "2011-10-06T22:44:14.059500",
          "2011-10-06T23:30:39.875500",
          "2011-10-07T00:21:36.666000",
          "2011-10-07T01:12:12.065500"
         ],
         "y": [
          0.0595,
          0.059,
          0.063,
          0.054,
          0.054,
          0.058,
          0.0405,
          0.043,
          0.041
         ]
        },
        {
         "mode": "lines",
         "name": "id-579209",
         "type": "scatter",
         "x": [
          "2011-10-06T19:38:11.140000",
          "2011-10-06T20:16:03.659000",
          "2011-10-06T20:55:31.319500",
          "2011-10-06T21:36:18.129500",
          "2011-10-06T22:16:55.367000",
          "2011-10-06T22:58:43.204000",
          "2011-10-06T23:43:44.900500",
          "2011-10-07T00:33:38.080500",
          "2011-10-07T01:23:15.619500"
         ],
         "y": [
          0.037,
          0.0315,
          0.0315,
          0.0265,
          0.03,
          0.0255,
          0.0265,
          0.0165,
          0.023
         ]
        },
        {
         "mode": "lines",
         "name": "id-579418",
         "type": "scatter",
         "x": [
          "2011-10-06T20:31:35.368000",
          "2011-10-06T21:11:55.647000",
          "2011-10-06T21:53:35.088000",
          "2011-10-06T22:34:15.799500",
          "2011-10-06T23:16:31.762000",
          "2011-10-07T00:02:45.440000",
          "2011-10-07T00:51:34.562000"
         ],
         "y": [
          0.139,
          0.122,
          0.132,
          0.1095,
          0.0975,
          0.09,
          0.0785
         ]
        },
        {
         "mode": "lines",
         "name": "id-579435",
         "type": "scatter",
         "x": [
          "2011-10-06T21:09:10.049000",
          "2011-10-06T21:50:18.561500",
          "2011-10-06T22:30:39.422000",
          "2011-10-06T23:12:36.201500",
          "2011-10-06T23:59:03.486000",
          "2011-10-07T00:49:05.737000"
         ],
         "y": [
          0.147,
          0.1485,
          0.144,
          0.134,
          0.138,
          0.1225
         ]
        },
        {
         "mode": "lines",
         "name": "id-579665",
         "type": "scatter",
         "x": [
          "2011-10-06T21:28:55.104500",
          "2011-10-06T22:10:03.096000",
          "2011-10-06T22:52:02.914000",
          "2011-10-06T23:35:09.533000",
          "2011-10-07T00:22:27.917500",
          "2011-10-07T01:11:22.307500"
         ],
         "y": [
          0.036,
          0.0375,
          0.0325,
          0.03,
          0.0315,
          0.018
         ]
        },
        {
         "mode": "lines",
         "name": "id-579692",
         "type": "scatter",
         "x": [
          "2011-10-06T20:58:57.009500",
          "2011-10-06T21:39:42.757000",
          "2011-10-06T22:22:20.021500",
          "2011-10-06T23:05:47.263000",
          "2011-10-06T23:51:29.075500",
          "2011-10-07T00:40:31.948000",
          "2011-10-07T01:29:35.686000"
         ],
         "y": [
          0.028,
          0.0325,
          0.027,
          0.032,
          0.028,
          0.0285,
          0.0235
         ]
        },
        {
         "mode": "lines",
         "name": "id-579718",
         "type": "scatter",
         "x": [
          "2011-10-06T22:41:09.899500",
          "2011-10-06T23:26:16.659500",
          "2011-10-07T00:15:39.637000",
          "2011-10-07T01:05:48.253500"
         ],
         "y": [
          0.0315,
          0.0315,
          0.032,
          0.0235
         ]
        },
        {
         "mode": "lines",
         "name": "id-579837",
         "type": "scatter",
         "x": [
          "2011-10-06T21:51:58.077000",
          "2011-10-06T22:33:18.208000",
          "2011-10-06T23:14:59.495500",
          "2011-10-07T00:01:10.483000",
          "2011-10-07T00:50:07.664500"
         ],
         "y": [
          0.229,
          0.2125,
          0.1935,
          0.1655,
          0.147
         ]
        },
        {
         "mode": "lines",
         "name": "id-579840",
         "type": "scatter",
         "x": [
          "2011-10-07T01:18:23.604000"
         ],
         "y": [
          0.0525
         ]
        },
        {
         "mode": "lines",
         "name": "id-580040",
         "type": "scatter",
         "x": [
          "2011-10-06T22:14:18.507000",
          "2011-10-06T22:55:20.532500",
          "2011-10-06T23:38:14.034000",
          "2011-10-07T00:26:46.402500",
          "2011-10-07T01:16:24.466500"
         ],
         "y": [
          0.031,
          0.0415,
          0.036,
          0.0335,
          0.034
         ]
        },
        {
         "mode": "lines",
         "name": "id-580208",
         "type": "scatter",
         "x": [
          "2011-10-06T23:07:38.250000",
          "2011-10-06T23:55:18.971000",
          "2011-10-07T00:44:43.053500"
         ],
         "y": [
          0.0685,
          0.053,
          0.044
         ]
        },
        {
         "mode": "lines",
         "name": "id-580290",
         "type": "scatter",
         "x": [
          "2011-10-06T22:23:51.738500",
          "2011-10-06T23:07:55.893000",
          "2011-10-06T23:54:54.478500",
          "2011-10-07T00:43:46.717000"
         ],
         "y": [
          0.045,
          0.034,
          0.039,
          0.036
         ]
        },
        {
         "mode": "lines",
         "name": "id-581124",
         "type": "scatter",
         "x": [
          "2011-10-07T01:31:09.780000"
         ],
         "y": [
          0.056
         ]
        },
        {
         "mode": "lines",
         "name": "id-581272",
         "type": "scatter",
         "x": [],
         "y": []
        }
       ],
       "layout": {
        "template": {
         "data": {
          "bar": [
           {
            "error_x": {
             "color": "#2a3f5f"
            },
            "error_y": {
             "color": "#2a3f5f"
            },
            "marker": {
             "line": {
              "color": "#E5ECF6",
              "width": 0.5
             },
             "pattern": {
              "fillmode": "overlay",
              "size": 10,
              "solidity": 0.2
             }
            },
            "type": "bar"
           }
          ],
          "barpolar": [
           {
            "marker": {
             "line": {
              "color": "#E5ECF6",
              "width": 0.5
             },
             "pattern": {
              "fillmode": "overlay",
              "size": 10,
              "solidity": 0.2
             }
            },
            "type": "barpolar"
           }
          ],
          "carpet": [
           {
            "aaxis": {
             "endlinecolor": "#2a3f5f",
             "gridcolor": "white",
             "linecolor": "white",
             "minorgridcolor": "white",
             "startlinecolor": "#2a3f5f"
            },
            "baxis": {
             "endlinecolor": "#2a3f5f",
             "gridcolor": "white",
             "linecolor": "white",
             "minorgridcolor": "white",
             "startlinecolor": "#2a3f5f"
            },
            "type": "carpet"
           }
          ],
          "choropleth": [
           {
            "colorbar": {
             "outlinewidth": 0,
             "ticks": ""
            },
            "type": "choropleth"
           }
          ],
          "contour": [
           {
            "colorbar": {
             "outlinewidth": 0,
             "ticks": ""
            },
            "colorscale": [
             [
              0,
              "#0d0887"
             ],
             [
              0.1111111111111111,
              "#46039f"
             ],
             [
              0.2222222222222222,
              "#7201a8"
             ],
             [
              0.3333333333333333,
              "#9c179e"
             ],
             [
              0.4444444444444444,
              "#bd3786"
             ],
             [
              0.5555555555555556,
              "#d8576b"
             ],
             [
              0.6666666666666666,
              "#ed7953"
             ],
             [
              0.7777777777777778,
              "#fb9f3a"
             ],
             [
              0.8888888888888888,
              "#fdca26"
             ],
             [
              1,
              "#f0f921"
             ]
            ],
            "type": "contour"
           }
          ],
          "contourcarpet": [
           {
            "colorbar": {
             "outlinewidth": 0,
             "ticks": ""
            },
            "type": "contourcarpet"
           }
          ],
          "heatmap": [
           {
            "colorbar": {
             "outlinewidth": 0,
             "ticks": ""
            },
            "colorscale": [
             [
              0,
              "#0d0887"
             ],
             [
              0.1111111111111111,
              "#46039f"
             ],
             [
              0.2222222222222222,
              "#7201a8"
             ],
             [
              0.3333333333333333,
              "#9c179e"
             ],
             [
              0.4444444444444444,
              "#bd3786"
             ],
             [
              0.5555555555555556,
              "#d8576b"
             ],
             [
              0.6666666666666666,
              "#ed7953"
             ],
             [
              0.7777777777777778,
              "#fb9f3a"
             ],
             [
              0.8888888888888888,
              "#fdca26"
             ],
             [
              1,
              "#f0f921"
             ]
            ],
            "type": "heatmap"
           }
          ],
          "heatmapgl": [
           {
            "colorbar": {
             "outlinewidth": 0,
             "ticks": ""
            },
            "colorscale": [
             [
              0,
              "#0d0887"
             ],
             [
              0.1111111111111111,
              "#46039f"
             ],
             [
              0.2222222222222222,
              "#7201a8"
             ],
             [
              0.3333333333333333,
              "#9c179e"
             ],
             [
              0.4444444444444444,
              "#bd3786"
             ],
             [
              0.5555555555555556,
              "#d8576b"
             ],
             [
              0.6666666666666666,
              "#ed7953"
             ],
             [
              0.7777777777777778,
              "#fb9f3a"
             ],
             [
              0.8888888888888888,
              "#fdca26"
             ],
             [
              1,
              "#f0f921"
             ]
            ],
            "type": "heatmapgl"
           }
          ],
          "histogram": [
           {
            "marker": {
             "pattern": {
              "fillmode": "overlay",
              "size": 10,
              "solidity": 0.2
             }
            },
            "type": "histogram"
           }
          ],
          "histogram2d": [
           {
            "colorbar": {
             "outlinewidth": 0,
             "ticks": ""
            },
            "colorscale": [
             [
              0,
              "#0d0887"
             ],
             [
              0.1111111111111111,
              "#46039f"
             ],
             [
              0.2222222222222222,
              "#7201a8"
             ],
             [
              0.3333333333333333,
              "#9c179e"
             ],
             [
              0.4444444444444444,
              "#bd3786"
             ],
             [
              0.5555555555555556,
              "#d8576b"
             ],
             [
              0.6666666666666666,
              "#ed7953"
             ],
             [
              0.7777777777777778,
              "#fb9f3a"
             ],
             [
              0.8888888888888888,
              "#fdca26"
             ],
             [
              1,
              "#f0f921"
             ]
            ],
            "type": "histogram2d"
           }
          ],
          "histogram2dcontour": [
           {
            "colorbar": {
             "outlinewidth": 0,
             "ticks": ""
            },
            "colorscale": [
             [
              0,
              "#0d0887"
             ],
             [
              0.1111111111111111,
              "#46039f"
             ],
             [
              0.2222222222222222,
              "#7201a8"
             ],
             [
              0.3333333333333333,
              "#9c179e"
             ],
             [
              0.4444444444444444,
              "#bd3786"
             ],
             [
              0.5555555555555556,
              "#d8576b"
             ],
             [
              0.6666666666666666,
              "#ed7953"
             ],
             [
              0.7777777777777778,
              "#fb9f3a"
             ],
             [
              0.8888888888888888,
              "#fdca26"
             ],
             [
              1,
              "#f0f921"
             ]
            ],
            "type": "histogram2dcontour"
           }
          ],
          "mesh3d": [
           {
            "colorbar": {
             "outlinewidth": 0,
             "ticks": ""
            },
            "type": "mesh3d"
           }
          ],
          "parcoords": [
           {
            "line": {
             "colorbar": {
              "outlinewidth": 0,
              "ticks": ""
             }
            },
            "type": "parcoords"
           }
          ],
          "pie": [
           {
            "automargin": true,
            "type": "pie"
           }
          ],
          "scatter": [
           {
            "marker": {
             "colorbar": {
              "outlinewidth": 0,
              "ticks": ""
             }
            },
            "type": "scatter"
           }
          ],
          "scatter3d": [
           {
            "line": {
             "colorbar": {
              "outlinewidth": 0,
              "ticks": ""
             }
            },
            "marker": {
             "colorbar": {
              "outlinewidth": 0,
              "ticks": ""
             }
            },
            "type": "scatter3d"
           }
          ],
          "scattercarpet": [
           {
            "marker": {
             "colorbar": {
              "outlinewidth": 0,
              "ticks": ""
             }
            },
            "type": "scattercarpet"
           }
          ],
          "scattergeo": [
           {
            "marker": {
             "colorbar": {
              "outlinewidth": 0,
              "ticks": ""
             }
            },
            "type": "scattergeo"
           }
          ],
          "scattergl": [
           {
            "marker": {
             "colorbar": {
              "outlinewidth": 0,
              "ticks": ""
             }
            },
            "type": "scattergl"
           }
          ],
          "scattermapbox": [
           {
            "marker": {
             "colorbar": {
              "outlinewidth": 0,
              "ticks": ""
             }
            },
            "type": "scattermapbox"
           }
          ],
          "scatterpolar": [
           {
            "marker": {
             "colorbar": {
              "outlinewidth": 0,
              "ticks": ""
             }
            },
            "type": "scatterpolar"
           }
          ],
          "scatterpolargl": [
           {
            "marker": {
             "colorbar": {
              "outlinewidth": 0,
              "ticks": ""
             }
            },
            "type": "scatterpolargl"
           }
          ],
          "scatterternary": [
           {
            "marker": {
             "colorbar": {
              "outlinewidth": 0,
              "ticks": ""
             }
            },
            "type": "scatterternary"
           }
          ],
          "surface": [
           {
            "colorbar": {
             "outlinewidth": 0,
             "ticks": ""
            },
            "colorscale": [
             [
              0,
              "#0d0887"
             ],
             [
              0.1111111111111111,
              "#46039f"
             ],
             [
              0.2222222222222222,
              "#7201a8"
             ],
             [
              0.3333333333333333,
              "#9c179e"
             ],
             [
              0.4444444444444444,
              "#bd3786"
             ],
             [
              0.5555555555555556,
              "#d8576b"
             ],
             [
              0.6666666666666666,
              "#ed7953"
             ],
             [
              0.7777777777777778,
              "#fb9f3a"
             ],
             [
              0.8888888888888888,
              "#fdca26"
             ],
             [
              1,
              "#f0f921"
             ]
            ],
            "type": "surface"
           }
          ],
          "table": [
           {
            "cells": {
             "fill": {
              "color": "#EBF0F8"
             },
             "line": {
              "color": "white"
             }
            },
            "header": {
             "fill": {
              "color": "#C8D4E3"
             },
             "line": {
              "color": "white"
             }
            },
            "type": "table"
           }
          ]
         },
         "layout": {
          "annotationdefaults": {
           "arrowcolor": "#2a3f5f",
           "arrowhead": 0,
           "arrowwidth": 1
          },
          "autotypenumbers": "strict",
          "coloraxis": {
           "colorbar": {
            "outlinewidth": 0,
            "ticks": ""
           }
          },
          "colorscale": {
           "diverging": [
            [
             0,
             "#8e0152"
            ],
            [
             0.1,
             "#c51b7d"
            ],
            [
             0.2,
             "#de77ae"
            ],
            [
             0.3,
             "#f1b6da"
            ],
            [
             0.4,
             "#fde0ef"
            ],
            [
             0.5,
             "#f7f7f7"
            ],
            [
             0.6,
             "#e6f5d0"
            ],
            [
             0.7,
             "#b8e186"
            ],
            [
             0.8,
             "#7fbc41"
            ],
            [
             0.9,
             "#4d9221"
            ],
            [
             1,
             "#276419"
            ]
           ],
           "sequential": [
            [
             0,
             "#0d0887"
            ],
            [
             0.1111111111111111,
             "#46039f"
            ],
            [
             0.2222222222222222,
             "#7201a8"
            ],
            [
             0.3333333333333333,
             "#9c179e"
            ],
            [
             0.4444444444444444,
             "#bd3786"
            ],
            [
             0.5555555555555556,
             "#d8576b"
            ],
            [
             0.6666666666666666,
             "#ed7953"
            ],
            [
             0.7777777777777778,
             "#fb9f3a"
            ],
            [
             0.8888888888888888,
             "#fdca26"
            ],
            [
             1,
             "#f0f921"
            ]
           ],
           "sequentialminus": [
            [
             0,
             "#0d0887"
            ],
            [
             0.1111111111111111,
             "#46039f"
            ],
            [
             0.2222222222222222,
             "#7201a8"
            ],
            [
             0.3333333333333333,
             "#9c179e"
            ],
            [
             0.4444444444444444,
             "#bd3786"
            ],
            [
             0.5555555555555556,
             "#d8576b"
            ],
            [
             0.6666666666666666,
             "#ed7953"
            ],
            [
             0.7777777777777778,
             "#fb9f3a"
            ],
            [
             0.8888888888888888,
             "#fdca26"
            ],
            [
             1,
             "#f0f921"
            ]
           ]
          },
          "colorway": [
           "#636efa",
           "#EF553B",
           "#00cc96",
           "#ab63fa",
           "#FFA15A",
           "#19d3f3",
           "#FF6692",
           "#B6E880",
           "#FF97FF",
           "#FECB52"
          ],
          "font": {
           "color": "#2a3f5f"
          },
          "geo": {
           "bgcolor": "white",
           "lakecolor": "white",
           "landcolor": "#E5ECF6",
           "showlakes": true,
           "showland": true,
           "subunitcolor": "white"
          },
          "hoverlabel": {
           "align": "left"
          },
          "hovermode": "closest",
          "mapbox": {
           "style": "light"
          },
          "paper_bgcolor": "white",
          "plot_bgcolor": "#E5ECF6",
          "polar": {
           "angularaxis": {
            "gridcolor": "white",
            "linecolor": "white",
            "ticks": ""
           },
           "bgcolor": "#E5ECF6",
           "radialaxis": {
            "gridcolor": "white",
            "linecolor": "white",
            "ticks": ""
           }
          },
          "scene": {
           "xaxis": {
            "backgroundcolor": "#E5ECF6",
            "gridcolor": "white",
            "gridwidth": 2,
            "linecolor": "white",
            "showbackground": true,
            "ticks": "",
            "zerolinecolor": "white"
           },
           "yaxis": {
            "backgroundcolor": "#E5ECF6",
            "gridcolor": "white",
            "gridwidth": 2,
            "linecolor": "white",
            "showbackground": true,
            "ticks": "",
            "zerolinecolor": "white"
           },
           "zaxis": {
            "backgroundcolor": "#E5ECF6",
            "gridcolor": "white",
            "gridwidth": 2,
            "linecolor": "white",
            "showbackground": true,
            "ticks": "",
            "zerolinecolor": "white"
           }
          },
          "shapedefaults": {
           "line": {
            "color": "#2a3f5f"
           }
          },
          "ternary": {
           "aaxis": {
            "gridcolor": "white",
            "linecolor": "white",
            "ticks": ""
           },
           "baxis": {
            "gridcolor": "white",
            "linecolor": "white",
            "ticks": ""
           },
           "bgcolor": "#E5ECF6",
           "caxis": {
            "gridcolor": "white",
            "linecolor": "white",
            "ticks": ""
           }
          },
          "title": {
           "x": 0.05
          },
          "xaxis": {
           "automargin": true,
           "gridcolor": "white",
           "linecolor": "white",
           "ticks": "",
           "title": {
            "standoff": 15
           },
           "zerolinecolor": "white",
           "zerolinewidth": 2
          },
          "yaxis": {
           "automargin": true,
           "gridcolor": "white",
           "linecolor": "white",
           "ticks": "",
           "title": {
            "standoff": 15
           },
           "zerolinecolor": "white",
           "zerolinewidth": 2
          }
         }
        }
       }
      },
      "text/html": [
       "<div>                            <div id=\"9958ee28-703c-401c-8bec-2522f3a7359d\" class=\"plotly-graph-div\" style=\"height:525px; width:100%;\"></div>            <script type=\"text/javascript\">                require([\"plotly\"], function(Plotly) {                    window.PLOTLYENV=window.PLOTLYENV || {};                                    if (document.getElementById(\"9958ee28-703c-401c-8bec-2522f3a7359d\")) {                    Plotly.newPlot(                        \"9958ee28-703c-401c-8bec-2522f3a7359d\",                        [{\"mode\":\"lines\",\"name\":\"id-569350\",\"type\":\"scatter\",\"x\":[],\"y\":[]},{\"mode\":\"lines\",\"name\":\"id-569364\",\"type\":\"scatter\",\"x\":[\"2011-10-06T02:21:41.045000\",\"2011-10-06T05:28:27.832500\",\"2011-10-06T06:42:42.112000\",\"2011-10-06T08:33:49.650000\",\"2011-10-06T11:17:17.430000\",\"2011-10-06T13:28:01.789500\",\"2011-10-06T14:45:21.871500\"],\"y\":[0.02,0.023,0.02,0.021,0.018,0.02,0.0245]},{\"mode\":\"lines\",\"name\":\"id-569479\",\"type\":\"scatter\",\"x\":[\"2011-10-06T02:21:08.104000\",\"2011-10-06T05:27:00.367000\",\"2011-10-06T06:39:53.274000\",\"2011-10-06T08:27:39.087000\",\"2011-10-06T11:08:39.311500\",\"2011-10-06T13:25:39.576000\",\"2011-10-06T14:45:10.984000\",\"2011-10-06T15:39:53.663000\",\"2011-10-06T16:26:18.294000\",\"2011-10-06T17:06:50.323000\",\"2011-10-06T17:45:04.978000\",\"2011-10-06T18:24:00.391000\",\"2011-10-06T19:02:37.035500\",\"2011-10-06T19:39:40.294000\",\"2011-10-06T20:16:43.251500\",\"2011-10-06T20:56:04.054000\",\"2011-10-06T21:38:04.454500\",\"2011-10-06T22:17:49.485500\",\"2011-10-06T22:57:34.161000\",\"2011-10-06T23:42:11.762500\",\"2011-10-07T00:30:17.961500\"],\"y\":[0.0285,0.0355,0.0305,0.026,0.0265,0.0305,0.028,0.0255,0.025,0.028,0.029,0.028,0.0245,0.03,0.0275,0.025,0.022,0.0265,0.025,0.021,0.0265]},{\"mode\":\"lines\",\"name\":\"id-571077\",\"type\":\"scatter\",\"x\":[\"2011-10-06T02:21:49.643000\",\"2011-10-06T05:27:20.765000\",\"2011-10-06T06:43:59.798500\",\"2011-10-06T08:36:29.720000\",\"2011-10-06T11:23:06.485000\",\"2011-10-06T13:33:37.239000\",\"2011-10-06T14:47:00.790500\",\"2011-10-06T15:41:47.337000\",\"2011-10-06T16:27:37.317000\",\"2011-10-06T17:08:36.882500\"],\"y\":[0.0215,0.024,0.02,0.02,0.013,0.025,0.022,0.016,0.0145,0.022]},{\"mode\":\"lines\",\"name\":\"id-571566\",\"type\":\"scatter\",\"x\":[\"2011-10-06T22:30:45.998500\",\"2011-10-06T23:12:21.075000\",\"2011-10-06T23:59:13.811500\",\"2011-10-07T00:50:18.758000\"],\"y\":[0.055,0.067,0.0575,0.06]},{\"mode\":\"lines\",\"name\":\"id-571691\",\"type\":\"scatter\",\"x\":[\"2011-10-06T20:48:33.961000\",\"2011-10-06T21:27:40.220500\",\"2011-10-06T22:07:19.857500\",\"2011-10-06T22:47:21.230000\",\"2011-10-06T23:30:46.691500\",\"2011-10-07T00:18:08.539500\",\"2011-10-07T01:08:39.033000\"],\"y\":[0.0195,0.018,0.018,0.018,0.021,0.011,0.013]},{\"mode\":\"lines\",\"name\":\"id-572076\",\"type\":\"scatter\",\"x\":[\"2011-10-06T02:25:36.098000\",\"2011-10-06T05:28:21.795000\",\"2011-10-06T06:44:53.407000\",\"2011-10-06T08:47:02.189000\",\"2011-10-06T11:40:40.189000\",\"2011-10-06T13:41:25.614500\"],\"y\":[0.011,0.013,0.0115,0.01,0.01,0.0055]},{\"mode\":\"lines\",\"name\":\"id-572219\",\"type\":\"scatter\",\"x\":[\"2011-10-06T02:23:17.814500\",\"2011-10-06T05:28:44.947000\",\"2011-10-06T06:45:33.237000\",\"2011-10-06T08:37:48.537000\",\"2011-10-06T11:26:03.998000\"],\"y\":[0.0385,0.042,0.029,0.03,0.023]},{\"mode\":\"lines\",\"name\":\"id-572306\",\"type\":\"scatter\",\"x\":[\"2011-10-06T02:26:04.176500\",\"2011-10-06T05:28:40.511500\",\"2011-10-06T06:43:00.766000\",\"2011-10-06T08:38:46.521500\",\"2011-10-06T11:30:07.902000\",\"2011-10-06T13:40:33.848000\",\"2011-10-06T14:51:54.000500\",\"2011-10-06T15:44:39.075500\",\"2011-10-06T16:30:54.869000\",\"2011-10-06T17:10:34.523000\",\"2011-10-06T17:47:59.113000\",\"2011-10-06T18:27:11.378500\",\"2011-10-06T19:04:55.533000\",\"2011-10-06T19:41:27.738000\",\"2011-10-06T20:18:41.516000\",\"2011-10-06T20:58:26.741500\",\"2011-10-06T21:38:42.271500\",\"2011-10-06T22:20:17.589000\",\"2011-10-06T23:04:04.163000\",\"2011-10-06T23:50:02.315500\",\"2011-10-07T00:40:07.503500\"],\"y\":[0.029,0.0285,0.0295,0.0295,0.027,0.027,0.0265,0.0335,0.025,0.0265,0.029,0.036,0.0325,0.025,0.0295,0.0275,0.0215,0.03,0.017,0.0245,0.0195]},{\"mode\":\"lines\",\"name\":\"id-572615\",\"type\":\"scatter\",\"x\":[\"2011-10-06T02:21:29.292000\",\"2011-10-06T05:28:29.302500\",\"2011-10-06T06:42:47.424000\",\"2011-10-06T08:33:58.389500\",\"2011-10-06T11:22:25.965000\",\"2011-10-06T13:34:18.707500\"],\"y\":[0.033,0.0405,0.029,0.0225,0.0135,0.0225]},{\"mode\":\"lines\",\"name\":\"id-572770\",\"type\":\"scatter\",\"x\":[\"2011-10-06T02:26:24.336000\",\"2011-10-06T05:27:59.035000\",\"2011-10-06T06:41:24.757000\",\"2011-10-06T08:33:00.847500\",\"2011-10-06T11:16:30.743500\",\"2011-10-06T13:34:16.448000\",\"2011-10-06T14:48:52.018000\",\"2011-10-06T15:41:15.099500\",\"2011-10-06T16:27:13.515000\",\"2011-10-06T17:07:42.128000\",\"2011-10-06T17:45:12.505000\",\"2011-10-06T18:23:12.856000\",\"2011-10-06T19:01:21.231000\",\"2011-10-06T19:38:25.376000\",\"2011-10-06T20:15:27.536500\",\"2011-10-06T20:53:49.638500\",\"2011-10-06T21:34:51.322000\",\"2011-10-06T22:14:43.377000\",\"2011-10-06T22:56:10.477500\",\"2011-10-06T23:40:27.736000\",\"2011-10-07T00:27:53.138500\",\"2011-10-07T01:16:57.031500\"],\"y\":[0.0205,0.029,0.0255,0.0225,0.027,0.0345,0.028,0.0355,0.028,0.032,0.034,0.0245,0.028,0.026,0.027,0.0295,0.031,0.0295,0.0225,0.02,0.029,0.0215]},{\"mode\":\"lines\",\"name\":\"id-572780\",\"type\":\"scatter\",\"x\":[\"2011-10-06T21:42:06.465500\",\"2011-10-06T22:24:06.196000\",\"2011-10-06T23:06:37.660000\",\"2011-10-06T23:50:44.783500\",\"2011-10-07T00:39:36.576500\",\"2011-10-07T01:29:20.617000\"],\"y\":[0.034,0.028,0.022,0.0195,0.024,0.0255]},{\"mode\":\"lines\",\"name\":\"id-572797\",\"type\":\"scatter\",\"x\":[],\"y\":[]},{\"mode\":\"lines\",\"name\":\"id-574160\",\"type\":\"scatter\",\"x\":[\"2011-10-06T02:21:03.771500\",\"2011-10-06T05:27:23.611500\",\"2011-10-06T06:43:16.577500\",\"2011-10-06T08:38:01.996500\",\"2011-10-06T11:26:45.532500\",\"2011-10-06T13:34:52.249500\"],\"y\":[0.025,0.022,0.025,0.0195,0.02,0.0215]},{\"mode\":\"lines\",\"name\":\"id-574244\",\"type\":\"scatter\",\"x\":[\"2011-10-06T02:22:38.578500\",\"2011-10-06T05:26:50.694000\",\"2011-10-06T06:37:36.415500\",\"2011-10-06T08:28:19.915000\",\"2011-10-06T11:13:31.173000\",\"2011-10-06T13:25:56.566000\",\"2011-10-06T14:43:27.751500\",\"2011-10-06T15:37:29.509000\",\"2011-10-06T16:23:31.184000\"],\"y\":[0.019,0.024,0.02,0.02,0.0185,0.022,0.016,0.0235,0.019]},{\"mode\":\"lines\",\"name\":\"id-574512\",\"type\":\"scatter\",\"x\":[\"2011-10-06T02:25:25.441500\",\"2011-10-06T05:28:33.803000\",\"2011-10-06T06:42:00.891500\",\"2011-10-06T08:29:46.910500\",\"2011-10-06T11:19:03.621500\",\"2011-10-06T13:32:22.127500\",\"2011-10-06T14:50:25.116000\",\"2011-10-06T15:45:40.055500\",\"2011-10-06T16:32:36.713000\",\"2011-10-06T17:12:46.757000\",\"2011-10-06T17:51:13.357500\",\"2011-10-06T18:30:49.800500\",\"2011-10-06T19:08:32.543500\",\"2011-10-06T19:45:54.459000\",\"2011-10-06T20:22:51.494500\",\"2011-10-06T21:01:52.790000\"],\"y\":[0.0545,0.064,0.053,0.0445,0.0385,0.0565,0.066,0.061,0.0625,0.0655,0.061,0.054,0.0565,0.0605,0.0615,0.057]},{\"mode\":\"lines\",\"name\":\"id-574541\",\"type\":\"scatter\",\"x\":[\"2011-10-06T02:21:04.589500\",\"2011-10-06T05:27:33.184500\",\"2011-10-06T06:41:44.924000\",\"2011-10-06T08:33:45.902500\",\"2011-10-06T11:22:11.045500\",\"2011-10-06T13:32:41.868500\",\"2011-10-06T14:48:18.528500\",\"2011-10-06T15:42:09.062000\",\"2011-10-06T16:27:15.268500\",\"2011-10-06T17:05:34.738500\",\"2011-10-06T17:42:28.832500\",\"2011-10-06T18:20:07.304500\",\"2011-10-06T18:58:23.948500\",\"2011-10-06T19:35:07.359000\",\"2011-10-06T20:13:33.878500\"],\"y\":[0.0245,0.021,0.017,0.0115,0.011,0.018,0.0265,0.0175,0.019,0.0215,0.025,0.0255,0.0255,0.0185,0.0255]},{\"mode\":\"lines\",\"name\":\"id-574791\",\"type\":\"scatter\",\"x\":[\"2011-10-06T16:18:51.644500\",\"2011-10-06T17:01:10.068500\",\"2011-10-06T17:40:31.487000\",\"2011-10-06T18:18:45.997500\",\"2011-10-06T18:55:50.021500\",\"2011-10-06T19:31:54.080500\",\"2011-10-06T20:08:40.473500\",\"2011-10-06T20:47:06.290500\",\"2011-10-06T21:27:47.972500\",\"2011-10-06T22:07:42.476000\",\"2011-10-06T22:47:40.483000\",\"2011-10-06T23:30:43.430000\",\"2011-10-07T00:18:20.813000\",\"2011-10-07T01:09:07.531000\"],\"y\":[0.018,0.021,0.019,0.025,0.0195,0.028,0.0225,0.023,0.023,0.0175,0.022,0.0205,0.0185,0.022]},{\"mode\":\"lines\",\"name\":\"id-574828\",\"type\":\"scatter\",\"x\":[\"2011-10-06T02:22:23.066000\",\"2011-10-06T05:28:44.347000\",\"2011-10-06T06:44:24.034500\",\"2011-10-06T08:36:40.009500\",\"2011-10-06T11:26:09.814000\",\"2011-10-06T13:39:32.355500\",\"2011-10-06T14:54:13.205000\",\"2011-10-06T15:46:03.836500\",\"2011-10-06T16:29:40.525000\"],\"y\":[0.0555,0.0665,0.0745,0.08,0.0535,0.0575,0.07,0.062,0.0725]},{\"mode\":\"lines\",\"name\":\"id-574842\",\"type\":\"scatter\",\"x\":[\"2011-10-06T02:26:52.580000\",\"2011-10-06T05:28:53.716000\",\"2011-10-06T06:43:43.004500\",\"2011-10-06T08:36:53.851000\",\"2011-10-06T11:21:39.336000\",\"2011-10-06T13:32:00.913000\",\"2011-10-06T14:45:26.491500\",\"2011-10-06T15:40:19.334000\",\"2011-10-06T16:27:16.829000\",\"2011-10-06T17:07:17.695000\",\"2011-10-06T17:45:17.388500\"],\"y\":[0.021,0.027,0.035,0.0285,0.017,0.0185,0.0165,0.0165,0.021,0.026,0.019]},{\"mode\":\"lines\",\"name\":\"id-574957\",\"type\":\"scatter\",\"x\":[\"2011-10-06T02:26:50.478000\",\"2011-10-06T05:30:42.292000\",\"2011-10-06T06:47:06.344000\",\"2011-10-06T08:42:34.037500\",\"2011-10-06T11:32:02.831000\",\"2011-10-06T13:39:59.344000\",\"2011-10-06T14:52:35.098500\",\"2011-10-06T15:45:46.769000\",\"2011-10-06T16:31:21.983000\",\"2011-10-06T17:11:33.180000\",\"2011-10-06T17:49:01.749000\",\"2011-10-06T18:27:00.822000\",\"2011-10-06T19:03:28.868000\",\"2011-10-06T19:39:39.980500\",\"2011-10-06T20:16:22.994500\",\"2011-10-06T20:55:43.524000\",\"2011-10-06T21:36:26.929000\",\"2011-10-06T22:17:11.164000\",\"2011-10-06T22:58:50.635500\",\"2011-10-06T23:44:38.760500\",\"2011-10-07T00:33:28.976000\",\"2011-10-07T01:22:08.994500\"],\"y\":[0.081,0.0785,0.0755,0.057,0.057,0.0735,0.091,0.0845,0.0895,0.081,0.0795,0.0825,0.0795,0.087,0.0865,0.079,0.0795,0.075,0.069,0.068,0.07,0.064]},{\"mode\":\"lines\",\"name\":\"id-574980\",\"type\":\"scatter\",\"x\":[\"2011-10-06T02:20:31.267500\",\"2011-10-06T05:27:12.485500\",\"2011-10-06T06:40:41.389000\",\"2011-10-06T08:34:29.081000\",\"2011-10-06T11:18:03.962000\",\"2011-10-06T13:31:30.411000\",\"2011-10-06T14:48:40.866000\",\"2011-10-06T15:42:43.100000\",\"2011-10-06T16:27:17.738500\",\"2011-10-06T17:07:22.700500\",\"2011-10-06T17:45:21.235000\"],\"y\":[0.036,0.041,0.0335,0.028,0.0215,0.0375,0.0425,0.042,0.034,0.0325,0.043]},{\"mode\":\"lines\",\"name\":\"id-575000\",\"type\":\"scatter\",\"x\":[\"2011-10-06T02:19:46.520500\",\"2011-10-06T05:27:25.410500\",\"2011-10-06T06:39:24.991500\",\"2011-10-06T08:25:47.585000\",\"2011-10-06T11:07:24.785500\",\"2011-10-06T13:26:07.340500\",\"2011-10-06T14:44:25.686500\",\"2011-10-06T15:38:51.462500\",\"2011-10-06T16:24:31.322500\",\"2011-10-06T17:05:19.632500\",\"2011-10-06T17:42:57.544000\",\"2011-10-06T18:21:05.590000\",\"2011-10-06T18:59:20.772000\",\"2011-10-06T19:34:21.188500\",\"2011-10-06T20:11:08.753000\",\"2011-10-06T20:50:05.230000\",\"2011-10-06T21:29:48.626000\",\"2011-10-06T22:10:38.416000\",\"2011-10-06T22:52:25.578000\",\"2011-10-06T23:37:17.743500\",\"2011-10-07T00:23:53.891500\",\"2011-10-07T01:12:54.705000\"],\"y\":[0.0615,0.0555,0.0655,0.058,0.0455,0.058,0.06,0.0525,0.0585,0.0575,0.0605,0.0575,0.055,0.048,0.058,0.059,0.061,0.0615,0.0495,0.058,0.053,0.047]},{\"mode\":\"lines\",\"name\":\"id-575157\",\"type\":\"scatter\",\"x\":[\"2011-10-06T02:25:18.212500\",\"2011-10-06T05:29:18.415500\",\"2011-10-06T06:45:18\",\"2011-10-06T08:42:59.847000\",\"2011-10-06T11:32:16.263000\",\"2011-10-06T13:39:25.156500\",\"2011-10-06T14:51:14.310500\",\"2011-10-06T15:44:03.966500\",\"2011-10-06T16:28:30.145000\",\"2011-10-06T17:08:46.858000\",\"2011-10-06T17:46:22.248000\",\"2011-10-06T18:24:27.068000\",\"2011-10-06T19:02:30.091000\",\"2011-10-06T19:40:22.253500\",\"2011-10-06T20:19:16.687000\"],\"y\":[0.0185,0.0215,0.019,0.0185,0.0145,0.018,0.0255,0.0175,0.0195,0.0235,0.0225,0.022,0.0225,0.023,0.0185]},{\"mode\":\"lines\",\"name\":\"id-575220\",\"type\":\"scatter\",\"x\":[\"2011-10-06T02:20:07.183500\",\"2011-10-06T05:27:39.518000\",\"2011-10-06T06:39:46.661000\",\"2011-10-06T08:30:21.673500\",\"2011-10-06T11:18:00.870500\",\"2011-10-06T13:31:02.921500\",\"2011-10-06T14:44:43.326500\",\"2011-10-06T15:37:49.971500\",\"2011-10-06T16:24:07.602500\",\"2011-10-06T17:04:46.996500\",\"2011-10-06T17:42:37.201500\"],\"y\":[0.0415,0.041,0.0345,0.031,0.033,0.042,0.039,0.033,0.0445,0.036,0.05]},{\"mode\":\"lines\",\"name\":\"id-575574\",\"type\":\"scatter\",\"x\":[\"2011-10-06T13:28:57.927500\",\"2011-10-06T14:44:31.744500\",\"2011-10-06T15:37:42.980500\",\"2011-10-06T16:22:03.917000\",\"2011-10-06T17:02:03.912500\",\"2011-10-06T17:41:42.231000\"],\"y\":[0.0265,0.026,0.03,0.0315,0.0315,0.0285]},{\"mode\":\"lines\",\"name\":\"id-575768\",\"type\":\"scatter\",\"x\":[\"2011-10-06T02:27:12.491000\",\"2011-10-06T05:29:41.071500\",\"2011-10-06T06:43:02.521500\",\"2011-10-06T08:36:43.381500\",\"2011-10-06T11:25:01.880500\",\"2011-10-06T13:34:22.453500\",\"2011-10-06T14:48:40.230500\",\"2011-10-06T15:42:31.686000\",\"2011-10-06T16:27:20.520500\",\"2011-10-06T17:08:52.253000\",\"2011-10-06T17:45:44.084500\",\"2011-10-06T18:23:27.078000\",\"2011-10-06T19:00:32.892500\",\"2011-10-06T19:37:16.662500\",\"2011-10-06T20:15:11.524000\",\"2011-10-06T20:53:30.212500\",\"2011-10-06T21:33:45.463500\",\"2011-10-06T22:14:07.241500\",\"2011-10-06T22:56:16.426500\",\"2011-10-06T23:41:06.760500\",\"2011-10-07T00:28:40.991000\"],\"y\":[0.024,0.025,0.02,0.022,0.024,0.029,0.0285,0.0205,0.0275,0.0245,0.0245,0.0245,0.0275,0.026,0.03,0.0275,0.022,0.022,0.0185,0.022,0.0205]},{\"mode\":\"lines\",\"name\":\"id-575912\",\"type\":\"scatter\",\"x\":[\"2011-10-06T02:19:24.992500\",\"2011-10-06T05:26:15.423500\",\"2011-10-06T06:41:07.439000\",\"2011-10-06T08:33:12.161000\",\"2011-10-06T11:18:00.928500\",\"2011-10-06T13:31:16.042000\",\"2011-10-06T14:46:00.371000\",\"2011-10-06T15:40:26.822500\",\"2011-10-06T16:25:06.015000\",\"2011-10-06T17:06:58.436000\",\"2011-10-06T17:45:18.884000\",\"2011-10-06T18:24:52.345000\"],\"y\":[0.036,0.035,0.0415,0.026,0.025,0.0355,0.0395,0.0465,0.038,0.037,0.045,0.038]},{\"mode\":\"lines\",\"name\":\"id-575934\",\"type\":\"scatter\",\"x\":[\"2011-10-06T02:27:13.557000\",\"2011-10-06T05:27:56.570500\",\"2011-10-06T06:38:47.730000\",\"2011-10-06T08:27:11.508500\",\"2011-10-06T11:10:38.005500\",\"2011-10-06T13:25:26.116000\",\"2011-10-06T14:41:28.004000\",\"2011-10-06T15:37:33.550500\",\"2011-10-06T16:24:49.417000\",\"2011-10-06T17:05:37.474000\",\"2011-10-06T17:42:29.422000\",\"2011-10-06T18:20:54.554500\",\"2011-10-06T18:59:10.540000\",\"2011-10-06T19:36:24.675000\",\"2011-10-06T20:13:29.749000\",\"2011-10-06T20:52:17.662000\",\"2011-10-06T21:33:21.717500\",\"2011-10-06T22:13:36.417500\",\"2011-10-06T22:55:21.131500\",\"2011-10-06T23:38:24.784000\",\"2011-10-07T00:25:37.281500\",\"2011-10-07T01:15:31.546000\"],\"y\":[0.0455,0.041,0.044,0.0345,0.028,0.0395,0.045,0.044,0.0475,0.045,0.055,0.052,0.049,0.048,0.0525,0.057,0.0405,0.047,0.0395,0.04,0.046,0.039]},{\"mode\":\"lines\",\"name\":\"id-576018\",\"type\":\"scatter\",\"x\":[\"2011-10-06T05:23:43.339000\",\"2011-10-06T06:36:26.616000\",\"2011-10-06T08:27:06.938500\",\"2011-10-06T11:15:57.350500\",\"2011-10-06T13:32:04.467000\",\"2011-10-06T14:45:41.130500\",\"2011-10-06T15:40:36.038500\",\"2011-10-06T16:27:08.741000\",\"2011-10-06T17:06:52.881000\",\"2011-10-06T17:44:54.552000\",\"2011-10-06T18:23:52.705000\",\"2011-10-06T19:01:09.629000\",\"2011-10-06T19:37:05.709000\",\"2011-10-06T20:14:54.137000\",\"2011-10-06T20:54:33.944000\",\"2011-10-06T21:35:54.330500\",\"2011-10-06T22:15:47.408500\",\"2011-10-06T22:57:35.520500\",\"2011-10-06T23:44:05.365500\",\"2011-10-07T00:33:38.209000\"],\"y\":[0.058,0.0575,0.0425,0.04,0.0515,0.056,0.0645,0.059,0.063,0.056,0.0595,0.063,0.0565,0.052,0.05,0.055,0.0475,0.052,0.042,0.0455]},{\"mode\":\"lines\",\"name\":\"id-576048\",\"type\":\"scatter\",\"x\":[\"2011-10-07T00:38:00.921000\",\"2011-10-07T01:27:27.239000\"],\"y\":[0.0475,0.039]},{\"mode\":\"lines\",\"name\":\"id-576101\",\"type\":\"scatter\",\"x\":[\"2011-10-06T02:25:35.169000\",\"2011-10-06T05:28:39.789000\",\"2011-10-06T06:40:49.964500\",\"2011-10-06T08:30:36.381500\",\"2011-10-06T11:21:07.674500\",\"2011-10-06T13:35:19.199000\",\"2011-10-06T14:47:59.259500\",\"2011-10-06T15:41:08.869500\",\"2011-10-06T16:26:36.007500\",\"2011-10-06T17:06:40.518500\",\"2011-10-06T17:44:01.985500\",\"2011-10-06T18:21:50.941500\",\"2011-10-06T19:00:59.726000\",\"2011-10-06T19:37:02.053000\",\"2011-10-06T20:14:22.776000\",\"2011-10-06T20:54:07.987500\",\"2011-10-06T21:35:18.808500\",\"2011-10-06T22:16:04.138500\",\"2011-10-06T22:56:52.105500\",\"2011-10-06T23:39:39.503500\",\"2011-10-07T00:26:15.433000\"],\"y\":[0.0335,0.0405,0.039,0.0405,0.0285,0.032,0.0285,0.0505,0.036,0.04,0.0355,0.0345,0.039,0.035,0.0345,0.0365,0.0345,0.035,0.0375,0.026,0.037]},{\"mode\":\"lines\",\"name\":\"id-576414\",\"type\":\"scatter\",\"x\":[\"2011-10-06T23:39:29.837500\",\"2011-10-07T00:26:34.726000\",\"2011-10-07T01:15:13.038000\"],\"y\":[0.045,0.037,0.041]},{\"mode\":\"lines\",\"name\":\"id-576453\",\"type\":\"scatter\",\"x\":[\"2011-10-06T21:35:58.616000\",\"2011-10-06T22:17:25.267000\",\"2011-10-06T22:59:25.715500\",\"2011-10-06T23:44:28.801000\",\"2011-10-07T00:34:26.477500\",\"2011-10-07T01:25:08.331000\"],\"y\":[0.0425,0.0415,0.036,0.037,0.0355,0.0305]},{\"mode\":\"lines\",\"name\":\"id-576958\",\"type\":\"scatter\",\"x\":[\"2011-10-06T17:46:23.478500\",\"2011-10-06T18:24:36.655000\",\"2011-10-06T19:01:42.679000\",\"2011-10-06T19:37:26.769500\",\"2011-10-06T20:13:34.939500\",\"2011-10-06T20:52:02.982000\",\"2011-10-06T21:33:15.853500\",\"2011-10-06T22:14:23.548500\",\"2011-10-06T22:55:48.683000\",\"2011-10-06T23:40:40.967500\",\"2011-10-07T00:28:01.293500\",\"2011-10-07T01:16:56.903000\"],\"y\":[0.091,0.0915,0.0855,0.0915,0.0705,0.0765,0.067,0.067,0.071,0.07,0.0565,0.062]},{\"mode\":\"lines\",\"name\":\"id-577169\",\"type\":\"scatter\",\"x\":[\"2011-10-06T19:46:15.436000\",\"2011-10-06T20:24:01.288000\",\"2011-10-06T21:03:17.484000\",\"2011-10-06T21:43:36.005000\",\"2011-10-06T22:25:06.034500\",\"2011-10-06T23:06:32.643000\",\"2011-10-06T23:52:25.656500\",\"2011-10-07T00:42:29.569000\",\"2011-10-07T01:31:27.257500\"],\"y\":[0.0215,0.0225,0.0155,0.021,0.021,0.017,0.034,0.0485,0.034]},{\"mode\":\"lines\",\"name\":\"id-577182\",\"type\":\"scatter\",\"x\":[\"2011-10-06T05:24:12.352000\"],\"y\":[0.066]},{\"mode\":\"lines\",\"name\":\"id-577365\",\"type\":\"scatter\",\"x\":[\"2011-10-06T14:43:35.189000\",\"2011-10-06T15:38:34.543000\",\"2011-10-06T16:26:07.356500\",\"2011-10-06T17:06:51.636000\",\"2011-10-06T17:46:15.920000\",\"2011-10-06T18:25:21.636500\",\"2011-10-06T19:03:01.212500\",\"2011-10-06T19:39:32.648500\",\"2011-10-06T20:18:20.365000\",\"2011-10-06T20:58:28.092500\",\"2011-10-06T21:39:04.388000\",\"2011-10-06T22:20:00.415000\",\"2011-10-06T23:02:44.470500\",\"2011-10-06T23:48:10.123000\",\"2011-10-07T00:36:14.685500\",\"2011-10-07T01:25:20.958500\"],\"y\":[0.0315,0.04,0.0345,0.0235,0.0315,0.0335,0.0365,0.035,0.0315,0.0315,0.0245,0.0275,0.0335,0.0265,0.0255,0.0305]},{\"mode\":\"lines\",\"name\":\"id-577437\",\"type\":\"scatter\",\"x\":[\"2011-10-06T13:00:43.258000\",\"2011-10-06T14:27:06.820500\",\"2011-10-06T15:23:33.190000\",\"2011-10-06T16:10:57.281500\",\"2011-10-06T16:53:33.001000\",\"2011-10-06T17:31:54.943000\",\"2011-10-06T18:09:45.401500\",\"2011-10-06T18:47:58.727500\",\"2011-10-06T19:24:40.449500\",\"2011-10-06T20:02:00.577000\",\"2011-10-06T20:40:34.837500\",\"2011-10-06T21:20:30.589000\",\"2011-10-06T22:00:50.070000\",\"2011-10-06T22:40:57.872000\",\"2011-10-06T23:24:44.365500\",\"2011-10-07T00:11:48.568000\",\"2011-10-07T01:01:27.100000\"],\"y\":[0.033,0.0335,0.025,0.0325,0.0205,0.0235,0.028,0.021,0.0225,0.0185,0.021,0.02,0.014,0.0175,0.015,0.018,0.013]},{\"mode\":\"lines\",\"name\":\"id-577446\",\"type\":\"scatter\",\"x\":[\"2011-10-06T07:53:56.787500\"],\"y\":[0.066]},{\"mode\":\"lines\",\"name\":\"id-578144\",\"type\":\"scatter\",\"x\":[\"2011-10-06T15:29:39.902500\",\"2011-10-06T16:18:41.855500\",\"2011-10-06T17:02:00.752000\",\"2011-10-06T17:39:48.016500\",\"2011-10-06T18:17:28.606000\",\"2011-10-06T18:55:09.981000\",\"2011-10-06T19:30:48.871000\",\"2011-10-06T20:07:45.477000\",\"2011-10-06T20:46:41.876500\",\"2011-10-06T21:26:10.600000\",\"2011-10-06T22:04:39.871000\",\"2011-10-06T22:45:51.048500\",\"2011-10-06T23:29:00.349000\",\"2011-10-07T00:15:54.039000\",\"2011-10-07T01:06:17.086000\"],\"y\":[0.0445,0.0465,0.041,0.041,0.0555,0.046,0.046,0.039,0.051,0.0345,0.031,0.043,0.033,0.036,0.0375]},{\"mode\":\"lines\",\"name\":\"id-578704\",\"type\":\"scatter\",\"x\":[\"2011-10-06T17:49:08.204000\",\"2011-10-06T18:28:02.993500\",\"2011-10-06T19:05:59.196000\",\"2011-10-06T19:42:29.417000\",\"2011-10-06T20:19:18.001500\",\"2011-10-06T20:58:05.298500\",\"2011-10-06T21:38:54.931000\",\"2011-10-06T22:18:59.964500\",\"2011-10-06T23:00:24.111500\",\"2011-10-06T23:45:14.318000\",\"2011-10-07T00:32:47.922500\",\"2011-10-07T01:20:58.073000\"],\"y\":[0.0815,0.075,0.076,0.0815,0.085,0.064,0.067,0.063,0.052,0.0605,0.056,0.0485]},{\"mode\":\"lines\",\"name\":\"id-578942\",\"type\":\"scatter\",\"x\":[\"2011-10-06T18:50:26.078000\",\"2011-10-06T19:27:24.883500\",\"2011-10-06T20:05:00.585500\",\"2011-10-06T20:43:41.483500\",\"2011-10-06T21:23:36.659000\",\"2011-10-06T22:04:56.225000\",\"2011-10-06T22:45:48.582500\",\"2011-10-06T23:28:58.606500\",\"2011-10-07T00:16:03.146000\",\"2011-10-07T01:05:56.116000\"],\"y\":[0.0285,0.0215,0.0195,0.0225,0.018,0.0135,0.019,0.0155,0.022,0.0235]},{\"mode\":\"lines\",\"name\":\"id-578967\",\"type\":\"scatter\",\"x\":[\"2011-10-06T18:28:45.633000\",\"2011-10-06T19:10:26.031500\",\"2011-10-06T19:56:19.971000\",\"2011-10-06T20:40:16.291500\",\"2011-10-06T21:24:20.915000\",\"2011-10-06T22:07:15.634500\",\"2011-10-06T22:50:53.699000\",\"2011-10-06T23:35:06.091500\",\"2011-10-07T00:22:47.725000\",\"2011-10-07T01:13:43.969500\"],\"y\":[0.1525,0.1565,0.141,0.147,0.14,0.13,0.121,0.103,0.1095,0.0825]},{\"mode\":\"lines\",\"name\":\"id-579145\",\"type\":\"scatter\",\"x\":[\"2011-10-06T19:19:56.623500\",\"2011-10-06T19:59:02.062000\",\"2011-10-06T20:37:37.138000\",\"2011-10-06T21:18:24.839000\",\"2011-10-06T22:01:18.768500\",\"2011-10-06T22:44:14.059500\",\"2011-10-06T23:30:39.875500\",\"2011-10-07T00:21:36.666000\",\"2011-10-07T01:12:12.065500\"],\"y\":[0.0595,0.059,0.063,0.054,0.054,0.058,0.0405,0.043,0.041]},{\"mode\":\"lines\",\"name\":\"id-579209\",\"type\":\"scatter\",\"x\":[\"2011-10-06T19:38:11.140000\",\"2011-10-06T20:16:03.659000\",\"2011-10-06T20:55:31.319500\",\"2011-10-06T21:36:18.129500\",\"2011-10-06T22:16:55.367000\",\"2011-10-06T22:58:43.204000\",\"2011-10-06T23:43:44.900500\",\"2011-10-07T00:33:38.080500\",\"2011-10-07T01:23:15.619500\"],\"y\":[0.037,0.0315,0.0315,0.0265,0.03,0.0255,0.0265,0.0165,0.023]},{\"mode\":\"lines\",\"name\":\"id-579418\",\"type\":\"scatter\",\"x\":[\"2011-10-06T20:31:35.368000\",\"2011-10-06T21:11:55.647000\",\"2011-10-06T21:53:35.088000\",\"2011-10-06T22:34:15.799500\",\"2011-10-06T23:16:31.762000\",\"2011-10-07T00:02:45.440000\",\"2011-10-07T00:51:34.562000\"],\"y\":[0.139,0.122,0.132,0.1095,0.0975,0.09,0.0785]},{\"mode\":\"lines\",\"name\":\"id-579435\",\"type\":\"scatter\",\"x\":[\"2011-10-06T21:09:10.049000\",\"2011-10-06T21:50:18.561500\",\"2011-10-06T22:30:39.422000\",\"2011-10-06T23:12:36.201500\",\"2011-10-06T23:59:03.486000\",\"2011-10-07T00:49:05.737000\"],\"y\":[0.147,0.1485,0.144,0.134,0.138,0.1225]},{\"mode\":\"lines\",\"name\":\"id-579665\",\"type\":\"scatter\",\"x\":[\"2011-10-06T21:28:55.104500\",\"2011-10-06T22:10:03.096000\",\"2011-10-06T22:52:02.914000\",\"2011-10-06T23:35:09.533000\",\"2011-10-07T00:22:27.917500\",\"2011-10-07T01:11:22.307500\"],\"y\":[0.036,0.0375,0.0325,0.03,0.0315,0.018]},{\"mode\":\"lines\",\"name\":\"id-579692\",\"type\":\"scatter\",\"x\":[\"2011-10-06T20:58:57.009500\",\"2011-10-06T21:39:42.757000\",\"2011-10-06T22:22:20.021500\",\"2011-10-06T23:05:47.263000\",\"2011-10-06T23:51:29.075500\",\"2011-10-07T00:40:31.948000\",\"2011-10-07T01:29:35.686000\"],\"y\":[0.028,0.0325,0.027,0.032,0.028,0.0285,0.0235]},{\"mode\":\"lines\",\"name\":\"id-579718\",\"type\":\"scatter\",\"x\":[\"2011-10-06T22:41:09.899500\",\"2011-10-06T23:26:16.659500\",\"2011-10-07T00:15:39.637000\",\"2011-10-07T01:05:48.253500\"],\"y\":[0.0315,0.0315,0.032,0.0235]},{\"mode\":\"lines\",\"name\":\"id-579837\",\"type\":\"scatter\",\"x\":[\"2011-10-06T21:51:58.077000\",\"2011-10-06T22:33:18.208000\",\"2011-10-06T23:14:59.495500\",\"2011-10-07T00:01:10.483000\",\"2011-10-07T00:50:07.664500\"],\"y\":[0.229,0.2125,0.1935,0.1655,0.147]},{\"mode\":\"lines\",\"name\":\"id-579840\",\"type\":\"scatter\",\"x\":[\"2011-10-07T01:18:23.604000\"],\"y\":[0.0525]},{\"mode\":\"lines\",\"name\":\"id-580040\",\"type\":\"scatter\",\"x\":[\"2011-10-06T22:14:18.507000\",\"2011-10-06T22:55:20.532500\",\"2011-10-06T23:38:14.034000\",\"2011-10-07T00:26:46.402500\",\"2011-10-07T01:16:24.466500\"],\"y\":[0.031,0.0415,0.036,0.0335,0.034]},{\"mode\":\"lines\",\"name\":\"id-580208\",\"type\":\"scatter\",\"x\":[\"2011-10-06T23:07:38.250000\",\"2011-10-06T23:55:18.971000\",\"2011-10-07T00:44:43.053500\"],\"y\":[0.0685,0.053,0.044]},{\"mode\":\"lines\",\"name\":\"id-580290\",\"type\":\"scatter\",\"x\":[\"2011-10-06T22:23:51.738500\",\"2011-10-06T23:07:55.893000\",\"2011-10-06T23:54:54.478500\",\"2011-10-07T00:43:46.717000\"],\"y\":[0.045,0.034,0.039,0.036]},{\"mode\":\"lines\",\"name\":\"id-581124\",\"type\":\"scatter\",\"x\":[\"2011-10-07T01:31:09.780000\"],\"y\":[0.056]},{\"mode\":\"lines\",\"name\":\"id-581272\",\"type\":\"scatter\",\"x\":[],\"y\":[]}],                        {\"template\":{\"data\":{\"bar\":[{\"error_x\":{\"color\":\"#2a3f5f\"},\"error_y\":{\"color\":\"#2a3f5f\"},\"marker\":{\"line\":{\"color\":\"#E5ECF6\",\"width\":0.5},\"pattern\":{\"fillmode\":\"overlay\",\"size\":10,\"solidity\":0.2}},\"type\":\"bar\"}],\"barpolar\":[{\"marker\":{\"line\":{\"color\":\"#E5ECF6\",\"width\":0.5},\"pattern\":{\"fillmode\":\"overlay\",\"size\":10,\"solidity\":0.2}},\"type\":\"barpolar\"}],\"carpet\":[{\"aaxis\":{\"endlinecolor\":\"#2a3f5f\",\"gridcolor\":\"white\",\"linecolor\":\"white\",\"minorgridcolor\":\"white\",\"startlinecolor\":\"#2a3f5f\"},\"baxis\":{\"endlinecolor\":\"#2a3f5f\",\"gridcolor\":\"white\",\"linecolor\":\"white\",\"minorgridcolor\":\"white\",\"startlinecolor\":\"#2a3f5f\"},\"type\":\"carpet\"}],\"choropleth\":[{\"colorbar\":{\"outlinewidth\":0,\"ticks\":\"\"},\"type\":\"choropleth\"}],\"contour\":[{\"colorbar\":{\"outlinewidth\":0,\"ticks\":\"\"},\"colorscale\":[[0.0,\"#0d0887\"],[0.1111111111111111,\"#46039f\"],[0.2222222222222222,\"#7201a8\"],[0.3333333333333333,\"#9c179e\"],[0.4444444444444444,\"#bd3786\"],[0.5555555555555556,\"#d8576b\"],[0.6666666666666666,\"#ed7953\"],[0.7777777777777778,\"#fb9f3a\"],[0.8888888888888888,\"#fdca26\"],[1.0,\"#f0f921\"]],\"type\":\"contour\"}],\"contourcarpet\":[{\"colorbar\":{\"outlinewidth\":0,\"ticks\":\"\"},\"type\":\"contourcarpet\"}],\"heatmap\":[{\"colorbar\":{\"outlinewidth\":0,\"ticks\":\"\"},\"colorscale\":[[0.0,\"#0d0887\"],[0.1111111111111111,\"#46039f\"],[0.2222222222222222,\"#7201a8\"],[0.3333333333333333,\"#9c179e\"],[0.4444444444444444,\"#bd3786\"],[0.5555555555555556,\"#d8576b\"],[0.6666666666666666,\"#ed7953\"],[0.7777777777777778,\"#fb9f3a\"],[0.8888888888888888,\"#fdca26\"],[1.0,\"#f0f921\"]],\"type\":\"heatmap\"}],\"heatmapgl\":[{\"colorbar\":{\"outlinewidth\":0,\"ticks\":\"\"},\"colorscale\":[[0.0,\"#0d0887\"],[0.1111111111111111,\"#46039f\"],[0.2222222222222222,\"#7201a8\"],[0.3333333333333333,\"#9c179e\"],[0.4444444444444444,\"#bd3786\"],[0.5555555555555556,\"#d8576b\"],[0.6666666666666666,\"#ed7953\"],[0.7777777777777778,\"#fb9f3a\"],[0.8888888888888888,\"#fdca26\"],[1.0,\"#f0f921\"]],\"type\":\"heatmapgl\"}],\"histogram\":[{\"marker\":{\"pattern\":{\"fillmode\":\"overlay\",\"size\":10,\"solidity\":0.2}},\"type\":\"histogram\"}],\"histogram2d\":[{\"colorbar\":{\"outlinewidth\":0,\"ticks\":\"\"},\"colorscale\":[[0.0,\"#0d0887\"],[0.1111111111111111,\"#46039f\"],[0.2222222222222222,\"#7201a8\"],[0.3333333333333333,\"#9c179e\"],[0.4444444444444444,\"#bd3786\"],[0.5555555555555556,\"#d8576b\"],[0.6666666666666666,\"#ed7953\"],[0.7777777777777778,\"#fb9f3a\"],[0.8888888888888888,\"#fdca26\"],[1.0,\"#f0f921\"]],\"type\":\"histogram2d\"}],\"histogram2dcontour\":[{\"colorbar\":{\"outlinewidth\":0,\"ticks\":\"\"},\"colorscale\":[[0.0,\"#0d0887\"],[0.1111111111111111,\"#46039f\"],[0.2222222222222222,\"#7201a8\"],[0.3333333333333333,\"#9c179e\"],[0.4444444444444444,\"#bd3786\"],[0.5555555555555556,\"#d8576b\"],[0.6666666666666666,\"#ed7953\"],[0.7777777777777778,\"#fb9f3a\"],[0.8888888888888888,\"#fdca26\"],[1.0,\"#f0f921\"]],\"type\":\"histogram2dcontour\"}],\"mesh3d\":[{\"colorbar\":{\"outlinewidth\":0,\"ticks\":\"\"},\"type\":\"mesh3d\"}],\"parcoords\":[{\"line\":{\"colorbar\":{\"outlinewidth\":0,\"ticks\":\"\"}},\"type\":\"parcoords\"}],\"pie\":[{\"automargin\":true,\"type\":\"pie\"}],\"scatter\":[{\"marker\":{\"colorbar\":{\"outlinewidth\":0,\"ticks\":\"\"}},\"type\":\"scatter\"}],\"scatter3d\":[{\"line\":{\"colorbar\":{\"outlinewidth\":0,\"ticks\":\"\"}},\"marker\":{\"colorbar\":{\"outlinewidth\":0,\"ticks\":\"\"}},\"type\":\"scatter3d\"}],\"scattercarpet\":[{\"marker\":{\"colorbar\":{\"outlinewidth\":0,\"ticks\":\"\"}},\"type\":\"scattercarpet\"}],\"scattergeo\":[{\"marker\":{\"colorbar\":{\"outlinewidth\":0,\"ticks\":\"\"}},\"type\":\"scattergeo\"}],\"scattergl\":[{\"marker\":{\"colorbar\":{\"outlinewidth\":0,\"ticks\":\"\"}},\"type\":\"scattergl\"}],\"scattermapbox\":[{\"marker\":{\"colorbar\":{\"outlinewidth\":0,\"ticks\":\"\"}},\"type\":\"scattermapbox\"}],\"scatterpolar\":[{\"marker\":{\"colorbar\":{\"outlinewidth\":0,\"ticks\":\"\"}},\"type\":\"scatterpolar\"}],\"scatterpolargl\":[{\"marker\":{\"colorbar\":{\"outlinewidth\":0,\"ticks\":\"\"}},\"type\":\"scatterpolargl\"}],\"scatterternary\":[{\"marker\":{\"colorbar\":{\"outlinewidth\":0,\"ticks\":\"\"}},\"type\":\"scatterternary\"}],\"surface\":[{\"colorbar\":{\"outlinewidth\":0,\"ticks\":\"\"},\"colorscale\":[[0.0,\"#0d0887\"],[0.1111111111111111,\"#46039f\"],[0.2222222222222222,\"#7201a8\"],[0.3333333333333333,\"#9c179e\"],[0.4444444444444444,\"#bd3786\"],[0.5555555555555556,\"#d8576b\"],[0.6666666666666666,\"#ed7953\"],[0.7777777777777778,\"#fb9f3a\"],[0.8888888888888888,\"#fdca26\"],[1.0,\"#f0f921\"]],\"type\":\"surface\"}],\"table\":[{\"cells\":{\"fill\":{\"color\":\"#EBF0F8\"},\"line\":{\"color\":\"white\"}},\"header\":{\"fill\":{\"color\":\"#C8D4E3\"},\"line\":{\"color\":\"white\"}},\"type\":\"table\"}]},\"layout\":{\"annotationdefaults\":{\"arrowcolor\":\"#2a3f5f\",\"arrowhead\":0,\"arrowwidth\":1},\"autotypenumbers\":\"strict\",\"coloraxis\":{\"colorbar\":{\"outlinewidth\":0,\"ticks\":\"\"}},\"colorscale\":{\"diverging\":[[0,\"#8e0152\"],[0.1,\"#c51b7d\"],[0.2,\"#de77ae\"],[0.3,\"#f1b6da\"],[0.4,\"#fde0ef\"],[0.5,\"#f7f7f7\"],[0.6,\"#e6f5d0\"],[0.7,\"#b8e186\"],[0.8,\"#7fbc41\"],[0.9,\"#4d9221\"],[1,\"#276419\"]],\"sequential\":[[0.0,\"#0d0887\"],[0.1111111111111111,\"#46039f\"],[0.2222222222222222,\"#7201a8\"],[0.3333333333333333,\"#9c179e\"],[0.4444444444444444,\"#bd3786\"],[0.5555555555555556,\"#d8576b\"],[0.6666666666666666,\"#ed7953\"],[0.7777777777777778,\"#fb9f3a\"],[0.8888888888888888,\"#fdca26\"],[1.0,\"#f0f921\"]],\"sequentialminus\":[[0.0,\"#0d0887\"],[0.1111111111111111,\"#46039f\"],[0.2222222222222222,\"#7201a8\"],[0.3333333333333333,\"#9c179e\"],[0.4444444444444444,\"#bd3786\"],[0.5555555555555556,\"#d8576b\"],[0.6666666666666666,\"#ed7953\"],[0.7777777777777778,\"#fb9f3a\"],[0.8888888888888888,\"#fdca26\"],[1.0,\"#f0f921\"]]},\"colorway\":[\"#636efa\",\"#EF553B\",\"#00cc96\",\"#ab63fa\",\"#FFA15A\",\"#19d3f3\",\"#FF6692\",\"#B6E880\",\"#FF97FF\",\"#FECB52\"],\"font\":{\"color\":\"#2a3f5f\"},\"geo\":{\"bgcolor\":\"white\",\"lakecolor\":\"white\",\"landcolor\":\"#E5ECF6\",\"showlakes\":true,\"showland\":true,\"subunitcolor\":\"white\"},\"hoverlabel\":{\"align\":\"left\"},\"hovermode\":\"closest\",\"mapbox\":{\"style\":\"light\"},\"paper_bgcolor\":\"white\",\"plot_bgcolor\":\"#E5ECF6\",\"polar\":{\"angularaxis\":{\"gridcolor\":\"white\",\"linecolor\":\"white\",\"ticks\":\"\"},\"bgcolor\":\"#E5ECF6\",\"radialaxis\":{\"gridcolor\":\"white\",\"linecolor\":\"white\",\"ticks\":\"\"}},\"scene\":{\"xaxis\":{\"backgroundcolor\":\"#E5ECF6\",\"gridcolor\":\"white\",\"gridwidth\":2,\"linecolor\":\"white\",\"showbackground\":true,\"ticks\":\"\",\"zerolinecolor\":\"white\"},\"yaxis\":{\"backgroundcolor\":\"#E5ECF6\",\"gridcolor\":\"white\",\"gridwidth\":2,\"linecolor\":\"white\",\"showbackground\":true,\"ticks\":\"\",\"zerolinecolor\":\"white\"},\"zaxis\":{\"backgroundcolor\":\"#E5ECF6\",\"gridcolor\":\"white\",\"gridwidth\":2,\"linecolor\":\"white\",\"showbackground\":true,\"ticks\":\"\",\"zerolinecolor\":\"white\"}},\"shapedefaults\":{\"line\":{\"color\":\"#2a3f5f\"}},\"ternary\":{\"aaxis\":{\"gridcolor\":\"white\",\"linecolor\":\"white\",\"ticks\":\"\"},\"baxis\":{\"gridcolor\":\"white\",\"linecolor\":\"white\",\"ticks\":\"\"},\"bgcolor\":\"#E5ECF6\",\"caxis\":{\"gridcolor\":\"white\",\"linecolor\":\"white\",\"ticks\":\"\"}},\"title\":{\"x\":0.05},\"xaxis\":{\"automargin\":true,\"gridcolor\":\"white\",\"linecolor\":\"white\",\"ticks\":\"\",\"title\":{\"standoff\":15},\"zerolinecolor\":\"white\",\"zerolinewidth\":2},\"yaxis\":{\"automargin\":true,\"gridcolor\":\"white\",\"linecolor\":\"white\",\"ticks\":\"\",\"title\":{\"standoff\":15},\"zerolinecolor\":\"white\",\"zerolinewidth\":2}}}},                        {\"responsive\": true}                    ).then(function(){\n",
       "                            \n",
       "var gd = document.getElementById('9958ee28-703c-401c-8bec-2522f3a7359d');\n",
       "var x = new MutationObserver(function (mutations, observer) {{\n",
       "        var display = window.getComputedStyle(gd).display;\n",
       "        if (!display || display === 'none') {{\n",
       "            console.log([gd, 'removed!']);\n",
       "            Plotly.purge(gd);\n",
       "            observer.disconnect();\n",
       "        }}\n",
       "}});\n",
       "\n",
       "// Listen for the removal of the full notebook cells\n",
       "var notebookContainer = gd.closest('#notebook-container');\n",
       "if (notebookContainer) {{\n",
       "    x.observe(notebookContainer, {childList: true});\n",
       "}}\n",
       "\n",
       "// Listen for the clearing of the current output cell\n",
       "var outputEl = gd.closest('.output');\n",
       "if (outputEl) {{\n",
       "    x.observe(outputEl, {childList: true});\n",
       "}}\n",
       "\n",
       "                        })                };                });            </script>        </div>"
      ]
     },
     "metadata": {},
     "output_type": "display_data"
    }
   ],
   "source": [
    "%%time\n",
    "ctr = data.gather_all_average_ctrs(2000)\n",
    "get_average_ctr_plot(ctr)"
   ]
  },
  {
   "cell_type": "code",
   "execution_count": 23,
   "id": "eda3d146",
   "metadata": {},
   "outputs": [
    {
     "name": "stdout",
     "output_type": "stream",
     "text": [
      "CPU times: user 5.5 s, sys: 2.36 s, total: 7.86 s\n",
      "Wall time: 26.3 s\n"
     ]
    }
   ],
   "source": [
    "%%time\n",
    "import gc\n",
    "\n",
    "with open(\"dataset/r6b/subsample/data_06_07.pickle\", \"rb\") as f:\n",
    "    gc.disable()\n",
    "    data = pickle.load(f)\n",
    "    gc.enable()"
   ]
  },
  {
   "cell_type": "code",
   "execution_count": 24,
   "id": "452a3eeb",
   "metadata": {},
   "outputs": [
    {
     "name": "stdout",
     "output_type": "stream",
     "text": [
      "Random policy with ZeroCosts\n",
      "Average reward: 0.0441\n",
      "Execution time: 5.5m\n",
      "E-greedy(epsilon=0.2) with ZeroCosts\n",
      "Average reward: 0.0964\n",
      "Execution time: 5.7m\n"
     ]
    }
   ],
   "source": [
    "p_random = algorithms.RandomPolicy()\n",
    "ctr_random = evaluation.evaluate(p_random, data, stop_after=NUM_OF_TRIALS)\n",
    "\n",
    "egreedy = algorithms.EpsilonGreedy(epsilon=0.2, total_n_arms=data.n_arms)\n",
    "ctr_egreedy = evaluation.evaluate(egreedy, data, stop_after=NUM_OF_TRIALS)"
   ]
  },
  {
   "cell_type": "code",
   "execution_count": 25,
   "id": "30c79517",
   "metadata": {},
   "outputs": [
    {
     "name": "stdout",
     "output_type": "stream",
     "text": [
      "LinUCB (alpha=0.1 with ZeroCosts\n",
      "Average reward: 0.0884\n",
      "Execution time: 51.0m\n"
     ]
    }
   ],
   "source": [
    "linucb = algorithms.LinUCB(\n",
    "    context_dimension=len(data.events[0].user_features),\n",
    "    n_arms=data.n_arms,\n",
    "    alpha=0.1,\n",
    ")\n",
    "ctr_linucb = evaluation.evaluate(linucb, data, stop_after=NUM_OF_TRIALS)"
   ]
  },
  {
   "cell_type": "code",
   "execution_count": 26,
   "id": "cd89e0e6",
   "metadata": {},
   "outputs": [
    {
     "data": {
      "image/png": "[encoded data removed]",
      "text/plain": [
       "<Figure size 720x360 with 1 Axes>"
      ]
     },
     "metadata": {
      "needs_background": "light"
     },
     "output_type": "display_data"
    }
   ],
   "source": [
    "plot_ctrs({\n",
    "    'Random': ctr_random,\n",
    "    'E-greedy': ctr_egreedy,\n",
    "    'LinUCB': ctr_linucb\n",
    "})\n"
   ]
  },
  {
   "cell_type": "code",
   "execution_count": 27,
   "id": "f0666909",
   "metadata": {},
   "outputs": [
    {
     "name": "stdout",
     "output_type": "stream",
     "text": [
      "CPU times: user 48.7 s, sys: 1min 56s, total: 2min 44s\n",
      "Wall time: 4min 17s\n"
     ]
    },
    {
     "data": {
      "application/vnd.plotly.v1+json": {
       "config": {
        "plotlyServerURL": "https://plot.ly"
       },
       "data": [
        {
         "mode": "lines",
         "name": "id-569350",
         "type": "scatter",
         "x": [],
         "y": []
        },
        {
         "mode": "lines",
         "name": "id-569364",
         "type": "scatter",
         "x": [
          "2011-10-06T02:21:41.045000",
          "2011-10-06T05:28:27.832500",
          "2011-10-06T06:42:42.112000",
          "2011-10-06T08:33:49.650000",
          "2011-10-06T11:17:17.430000",
          "2011-10-06T13:28:01.789500",
          "2011-10-06T14:45:21.871500"
         ],
         "y": [
          0.02,
          0.023,
          0.02,
          0.021,
          0.018,
          0.02,
          0.0245
         ]
        },
        {
         "mode": "lines",
         "name": "id-569479",
         "type": "scatter",
         "x": [
          "2011-10-06T02:21:08.104000",
          "2011-10-06T05:27:00.367000",
          "2011-10-06T06:39:53.274000",
          "2011-10-06T08:27:39.087000",
          "2011-10-06T11:08:39.311500",
          "2011-10-06T13:25:39.576000",
          "2011-10-06T14:45:10.984000",
          "2011-10-06T15:39:53.663000",
          "2011-10-06T16:26:18.294000",
          "2011-10-06T17:06:50.323000",
          "2011-10-06T17:45:04.978000",
          "2011-10-06T18:24:00.391000",
          "2011-10-06T19:02:37.035500",
          "2011-10-06T19:39:40.294000",
          "2011-10-06T20:16:43.251500",
          "2011-10-06T20:56:04.054000",
          "2011-10-06T21:38:04.454500",
          "2011-10-06T22:17:49.485500",
          "2011-10-06T22:57:34.161000",
          "2011-10-06T23:42:11.762500",
          "2011-10-07T00:30:17.961500"
         ],
         "y": [
          0.0285,
          0.0355,
          0.0305,
          0.026,
          0.0265,
          0.0305,
          0.028,
          0.0255,
          0.025,
          0.028,
          0.029,
          0.028,
          0.0245,
          0.03,
          0.0275,
          0.025,
          0.022,
          0.0265,
          0.025,
          0.021,
          0.0265
         ]
        },
        {
         "mode": "lines",
         "name": "id-571077",
         "type": "scatter",
         "x": [
          "2011-10-06T02:21:49.643000",
          "2011-10-06T05:27:20.765000",
          "2011-10-06T06:43:59.798500",
          "2011-10-06T08:36:29.720000",
          "2011-10-06T11:23:06.485000",
          "2011-10-06T13:33:37.239000",
          "2011-10-06T14:47:00.790500",
          "2011-10-06T15:41:47.337000",
          "2011-10-06T16:27:37.317000",
          "2011-10-06T17:08:36.882500"
         ],
         "y": [
          0.0215,
          0.024,
          0.02,
          0.02,
          0.013,
          0.025,
          0.022,
          0.016,
          0.0145,
          0.022
         ]
        },
        {
         "mode": "lines",
         "name": "id-571566",
         "type": "scatter",
         "x": [
          "2011-10-06T22:30:45.998500",
          "2011-10-06T23:12:21.075000",
          "2011-10-06T23:59:13.811500",
          "2011-10-07T00:50:18.758000",
          "2011-10-07T01:39:16.346000",
          "2011-10-07T02:25:12.883500",
          "2011-10-07T03:09:13.558500",
          "2011-10-07T03:55:02.099000",
          "2011-10-07T04:45:50.896000",
          "2011-10-07T05:44:01.187000",
          "2011-10-07T07:02:14.197000",
          "2011-10-07T09:08:31.358500",
          "2011-10-07T11:56:33.205000",
          "2011-10-07T13:40:23.640000",
          "2011-10-07T14:41:52.465500",
          "2011-10-07T15:33:29.150500",
          "2011-10-07T16:18:09.564000",
          "2011-10-07T16:57:12.178000",
          "2011-10-07T17:37:00.055500",
          "2011-10-07T18:16:07.875000",
          "2011-10-07T19:00:10.851000",
          "2011-10-07T19:47:15.077000",
          "2011-10-07T20:36:51.027000",
          "2011-10-07T21:28:10.979000",
          "2011-10-07T22:18:32.585500"
         ],
         "y": [
          0.055,
          0.067,
          0.0575,
          0.06,
          0.0595,
          0.054,
          0.059,
          0.065,
          0.056,
          0.055,
          0.0415,
          0.039,
          0.0275,
          0.0525,
          0.051,
          0.051,
          0.0565,
          0.056,
          0.0505,
          0.0515,
          0.042,
          0.046,
          0.049,
          0.055,
          0.0475
         ]
        },
        {
         "mode": "lines",
         "name": "id-571691",
         "type": "scatter",
         "x": [
          "2011-10-06T20:48:33.961000",
          "2011-10-06T21:27:40.220500",
          "2011-10-06T22:07:19.857500",
          "2011-10-06T22:47:21.230000",
          "2011-10-06T23:30:46.691500",
          "2011-10-07T00:18:08.539500",
          "2011-10-07T01:08:39.033000",
          "2011-10-07T01:55:13.006500",
          "2011-10-07T02:39:38.683500",
          "2011-10-07T03:23:23.208500",
          "2011-10-07T04:08:32.599000",
          "2011-10-07T04:57:57.121000",
          "2011-10-07T06:00:22.239000",
          "2011-10-07T07:29:16.842000",
          "2011-10-07T09:51:22.885500",
          "2011-10-07T12:28:28.727000",
          "2011-10-07T13:57:53.960000",
          "2011-10-07T14:56:14.571500",
          "2011-10-07T15:46:38.850000",
          "2011-10-07T16:29:29.645000",
          "2011-10-07T17:08:55.851500",
          "2011-10-07T17:48:56.503000",
          "2011-10-07T18:29:38.952000",
          "2011-10-07T19:13:35.850000",
          "2011-10-07T20:01:12.817500",
          "2011-10-07T20:51:13.291000"
         ],
         "y": [
          0.0195,
          0.018,
          0.018,
          0.018,
          0.021,
          0.011,
          0.013,
          0.012,
          0.02,
          0.0155,
          0.013,
          0.0165,
          0.0205,
          0.016,
          0.0105,
          0.0095,
          0.0165,
          0.0215,
          0.014,
          0.0175,
          0.017,
          0.0135,
          0.0125,
          0.014,
          0.012,
          0.014
         ]
        },
        {
         "mode": "lines",
         "name": "id-572076",
         "type": "scatter",
         "x": [
          "2011-10-06T02:25:36.098000",
          "2011-10-06T05:28:21.795000",
          "2011-10-06T06:44:53.407000",
          "2011-10-06T08:47:02.189000",
          "2011-10-06T11:40:40.189000",
          "2011-10-06T13:41:25.614500"
         ],
         "y": [
          0.011,
          0.013,
          0.0115,
          0.01,
          0.01,
          0.0055
         ]
        },
        {
         "mode": "lines",
         "name": "id-572219",
         "type": "scatter",
         "x": [
          "2011-10-06T02:23:17.814500",
          "2011-10-06T05:28:44.947000",
          "2011-10-06T06:45:33.237000",
          "2011-10-06T08:37:48.537000",
          "2011-10-06T11:26:03.998000"
         ],
         "y": [
          0.0385,
          0.042,
          0.029,
          0.03,
          0.023
         ]
        },
        {
         "mode": "lines",
         "name": "id-572306",
         "type": "scatter",
         "x": [
          "2011-10-06T02:26:04.176500",
          "2011-10-06T05:28:40.511500",
          "2011-10-06T06:43:00.766000",
          "2011-10-06T08:38:46.521500",
          "2011-10-06T11:30:07.902000",
          "2011-10-06T13:40:33.848000",
          "2011-10-06T14:51:54.000500",
          "2011-10-06T15:44:39.075500",
          "2011-10-06T16:30:54.869000",
          "2011-10-06T17:10:34.523000",
          "2011-10-06T17:47:59.113000",
          "2011-10-06T18:27:11.378500",
          "2011-10-06T19:04:55.533000",
          "2011-10-06T19:41:27.738000",
          "2011-10-06T20:18:41.516000",
          "2011-10-06T20:58:26.741500",
          "2011-10-06T21:38:42.271500",
          "2011-10-06T22:20:17.589000",
          "2011-10-06T23:04:04.163000",
          "2011-10-06T23:50:02.315500",
          "2011-10-07T00:40:07.503500"
         ],
         "y": [
          0.029,
          0.0285,
          0.0295,
          0.0295,
          0.027,
          0.027,
          0.0265,
          0.0335,
          0.025,
          0.0265,
          0.029,
          0.036,
          0.0325,
          0.025,
          0.0295,
          0.0275,
          0.0215,
          0.03,
          0.017,
          0.0245,
          0.0195
         ]
        },
        {
         "mode": "lines",
         "name": "id-572615",
         "type": "scatter",
         "x": [
          "2011-10-06T02:21:29.292000",
          "2011-10-06T05:28:29.302500",
          "2011-10-06T06:42:47.424000",
          "2011-10-06T08:33:58.389500",
          "2011-10-06T11:22:25.965000",
          "2011-10-06T13:34:18.707500"
         ],
         "y": [
          0.033,
          0.0405,
          0.029,
          0.0225,
          0.0135,
          0.0225
         ]
        },
        {
         "mode": "lines",
         "name": "id-572770",
         "type": "scatter",
         "x": [
          "2011-10-06T02:26:24.336000",
          "2011-10-06T05:27:59.035000",
          "2011-10-06T06:41:24.757000",
          "2011-10-06T08:33:00.847500",
          "2011-10-06T11:16:30.743500",
          "2011-10-06T13:34:16.448000",
          "2011-10-06T14:48:52.018000",
          "2011-10-06T15:41:15.099500",
          "2011-10-06T16:27:13.515000",
          "2011-10-06T17:07:42.128000",
          "2011-10-06T17:45:12.505000",
          "2011-10-06T18:23:12.856000",
          "2011-10-06T19:01:21.231000",
          "2011-10-06T19:38:25.376000",
          "2011-10-06T20:15:27.536500",
          "2011-10-06T20:53:49.638500",
          "2011-10-06T21:34:51.322000",
          "2011-10-06T22:14:43.377000",
          "2011-10-06T22:56:10.477500",
          "2011-10-06T23:40:27.736000",
          "2011-10-07T00:27:53.138500",
          "2011-10-07T01:16:57.031500"
         ],
         "y": [
          0.0205,
          0.029,
          0.0255,
          0.0225,
          0.027,
          0.0345,
          0.028,
          0.0355,
          0.028,
          0.032,
          0.034,
          0.0245,
          0.028,
          0.026,
          0.027,
          0.0295,
          0.031,
          0.0295,
          0.0225,
          0.02,
          0.029,
          0.0215
         ]
        },
        {
         "mode": "lines",
         "name": "id-572780",
         "type": "scatter",
         "x": [
          "2011-10-06T21:42:06.465500",
          "2011-10-06T22:24:06.196000",
          "2011-10-06T23:06:37.660000",
          "2011-10-06T23:50:44.783500",
          "2011-10-07T00:39:36.576500",
          "2011-10-07T01:29:20.617000",
          "2011-10-07T02:13:53.846500",
          "2011-10-07T02:58:21.244500",
          "2011-10-07T03:43:19.827500",
          "2011-10-07T04:29:57.805500",
          "2011-10-07T05:23:34.098000",
          "2011-10-07T06:33:39.323500",
          "2011-10-07T08:17:48.372500",
          "2011-10-07T10:57:49.115500",
          "2011-10-07T13:09:38.385000",
          "2011-10-07T14:21:51.216000",
          "2011-10-07T15:15:22.132500",
          "2011-10-07T16:02:56.999000",
          "2011-10-07T16:43:21.119000",
          "2011-10-07T17:21:01.418500",
          "2011-10-07T18:00:22.027500",
          "2011-10-07T18:41:24.004500",
          "2011-10-07T19:26:27.716000"
         ],
         "y": [
          0.034,
          0.028,
          0.022,
          0.0195,
          0.024,
          0.0255,
          0.0155,
          0.0225,
          0.0175,
          0.023,
          0.0175,
          0.0245,
          0.0185,
          0.0155,
          0.021,
          0.016,
          0.0225,
          0.0195,
          0.022,
          0.023,
          0.0215,
          0.018,
          0.018
         ]
        },
        {
         "mode": "lines",
         "name": "id-572797",
         "type": "scatter",
         "x": [],
         "y": []
        },
        {
         "mode": "lines",
         "name": "id-574160",
         "type": "scatter",
         "x": [
          "2011-10-06T02:21:03.771500",
          "2011-10-06T05:27:23.611500",
          "2011-10-06T06:43:16.577500",
          "2011-10-06T08:38:01.996500",
          "2011-10-06T11:26:45.532500",
          "2011-10-06T13:34:52.249500"
         ],
         "y": [
          0.025,
          0.022,
          0.025,
          0.0195,
          0.02,
          0.0215
         ]
        },
        {
         "mode": "lines",
         "name": "id-574244",
         "type": "scatter",
         "x": [
          "2011-10-06T02:22:38.578500",
          "2011-10-06T05:26:50.694000",
          "2011-10-06T06:37:36.415500",
          "2011-10-06T08:28:19.915000",
          "2011-10-06T11:13:31.173000",
          "2011-10-06T13:25:56.566000",
          "2011-10-06T14:43:27.751500",
          "2011-10-06T15:37:29.509000",
          "2011-10-06T16:23:31.184000"
         ],
         "y": [
          0.019,
          0.024,
          0.02,
          0.02,
          0.0185,
          0.022,
          0.016,
          0.0235,
          0.019
         ]
        },
        {
         "mode": "lines",
         "name": "id-574512",
         "type": "scatter",
         "x": [
          "2011-10-06T02:25:25.441500",
          "2011-10-06T05:28:33.803000",
          "2011-10-06T06:42:00.891500",
          "2011-10-06T08:29:46.910500",
          "2011-10-06T11:19:03.621500",
          "2011-10-06T13:32:22.127500",
          "2011-10-06T14:50:25.116000",
          "2011-10-06T15:45:40.055500",
          "2011-10-06T16:32:36.713000",
          "2011-10-06T17:12:46.757000",
          "2011-10-06T17:51:13.357500",
          "2011-10-06T18:30:49.800500",
          "2011-10-06T19:08:32.543500",
          "2011-10-06T19:45:54.459000",
          "2011-10-06T20:22:51.494500",
          "2011-10-06T21:01:52.790000"
         ],
         "y": [
          0.0545,
          0.064,
          0.053,
          0.0445,
          0.0385,
          0.0565,
          0.066,
          0.061,
          0.0625,
          0.0655,
          0.061,
          0.054,
          0.0565,
          0.0605,
          0.0615,
          0.057
         ]
        },
        {
         "mode": "lines",
         "name": "id-574541",
         "type": "scatter",
         "x": [
          "2011-10-06T02:21:04.589500",
          "2011-10-06T05:27:33.184500",
          "2011-10-06T06:41:44.924000",
          "2011-10-06T08:33:45.902500",
          "2011-10-06T11:22:11.045500",
          "2011-10-06T13:32:41.868500",
          "2011-10-06T14:48:18.528500",
          "2011-10-06T15:42:09.062000",
          "2011-10-06T16:27:15.268500",
          "2011-10-06T17:05:34.738500",
          "2011-10-06T17:42:28.832500",
          "2011-10-06T18:20:07.304500",
          "2011-10-06T18:58:23.948500",
          "2011-10-06T19:35:07.359000",
          "2011-10-06T20:13:33.878500"
         ],
         "y": [
          0.0245,
          0.021,
          0.017,
          0.0115,
          0.011,
          0.018,
          0.0265,
          0.0175,
          0.019,
          0.0215,
          0.025,
          0.0255,
          0.0255,
          0.0185,
          0.0255
         ]
        },
        {
         "mode": "lines",
         "name": "id-574791",
         "type": "scatter",
         "x": [
          "2011-10-06T16:18:51.644500",
          "2011-10-06T17:01:10.068500",
          "2011-10-06T17:40:31.487000",
          "2011-10-06T18:18:45.997500",
          "2011-10-06T18:55:50.021500",
          "2011-10-06T19:31:54.080500",
          "2011-10-06T20:08:40.473500",
          "2011-10-06T20:47:06.290500",
          "2011-10-06T21:27:47.972500",
          "2011-10-06T22:07:42.476000",
          "2011-10-06T22:47:40.483000",
          "2011-10-06T23:30:43.430000",
          "2011-10-07T00:18:20.813000",
          "2011-10-07T01:09:07.531000",
          "2011-10-07T01:55:38.793000",
          "2011-10-07T02:40:03.931000",
          "2011-10-07T03:23:35.219500",
          "2011-10-07T04:08:27.531500",
          "2011-10-07T04:58:30.529500",
          "2011-10-07T06:00:45.276000",
          "2011-10-07T07:29:06.786500",
          "2011-10-07T09:47:28.033500",
          "2011-10-07T12:25:10.603500",
          "2011-10-07T13:55:24.795500",
          "2011-10-07T14:55:05.569000",
          "2011-10-07T15:45:18.309500"
         ],
         "y": [
          0.018,
          0.021,
          0.019,
          0.025,
          0.0195,
          0.028,
          0.0225,
          0.023,
          0.023,
          0.0175,
          0.022,
          0.0205,
          0.0185,
          0.022,
          0.023,
          0.021,
          0.0205,
          0.0245,
          0.0245,
          0.0195,
          0.018,
          0.018,
          0.0135,
          0.016,
          0.0185,
          0.012
         ]
        },
        {
         "mode": "lines",
         "name": "id-574828",
         "type": "scatter",
         "x": [
          "2011-10-06T02:22:23.066000",
          "2011-10-06T05:28:44.347000",
          "2011-10-06T06:44:24.034500",
          "2011-10-06T08:36:40.009500",
          "2011-10-06T11:26:09.814000",
          "2011-10-06T13:39:32.355500",
          "2011-10-06T14:54:13.205000",
          "2011-10-06T15:46:03.836500",
          "2011-10-06T16:29:40.525000"
         ],
         "y": [
          0.0555,
          0.0665,
          0.0745,
          0.08,
          0.0535,
          0.0575,
          0.07,
          0.062,
          0.0725
         ]
        },
        {
         "mode": "lines",
         "name": "id-574842",
         "type": "scatter",
         "x": [
          "2011-10-06T02:26:52.580000",
          "2011-10-06T05:28:53.716000",
          "2011-10-06T06:43:43.004500",
          "2011-10-06T08:36:53.851000",
          "2011-10-06T11:21:39.336000",
          "2011-10-06T13:32:00.913000",
          "2011-10-06T14:45:26.491500",
          "2011-10-06T15:40:19.334000",
          "2011-10-06T16:27:16.829000",
          "2011-10-06T17:07:17.695000",
          "2011-10-06T17:45:17.388500"
         ],
         "y": [
          0.021,
          0.027,
          0.035,
          0.0285,
          0.017,
          0.0185,
          0.0165,
          0.0165,
          0.021,
          0.026,
          0.019
         ]
        },
        {
         "mode": "lines",
         "name": "id-574957",
         "type": "scatter",
         "x": [
          "2011-10-06T02:26:50.478000",
          "2011-10-06T05:30:42.292000",
          "2011-10-06T06:47:06.344000",
          "2011-10-06T08:42:34.037500",
          "2011-10-06T11:32:02.831000",
          "2011-10-06T13:39:59.344000",
          "2011-10-06T14:52:35.098500",
          "2011-10-06T15:45:46.769000",
          "2011-10-06T16:31:21.983000",
          "2011-10-06T17:11:33.180000",
          "2011-10-06T17:49:01.749000",
          "2011-10-06T18:27:00.822000",
          "2011-10-06T19:03:28.868000",
          "2011-10-06T19:39:39.980500",
          "2011-10-06T20:16:22.994500",
          "2011-10-06T20:55:43.524000",
          "2011-10-06T21:36:26.929000",
          "2011-10-06T22:17:11.164000",
          "2011-10-06T22:58:50.635500",
          "2011-10-06T23:44:38.760500",
          "2011-10-07T00:33:28.976000",
          "2011-10-07T01:22:08.994500",
          "2011-10-07T02:09:15.196000",
          "2011-10-07T02:53:24.034000",
          "2011-10-07T03:38:10.861500",
          "2011-10-07T04:25:44.100000",
          "2011-10-07T05:19:18.331500",
          "2011-10-07T06:28:22.245000",
          "2011-10-07T08:16:42.816500",
          "2011-10-07T10:57:49.536500"
         ],
         "y": [
          0.081,
          0.0785,
          0.0755,
          0.057,
          0.057,
          0.0735,
          0.091,
          0.0845,
          0.0895,
          0.081,
          0.0795,
          0.0825,
          0.0795,
          0.087,
          0.0865,
          0.079,
          0.0795,
          0.075,
          0.069,
          0.068,
          0.07,
          0.064,
          0.064,
          0.0575,
          0.0525,
          0.059,
          0.067,
          0.0505,
          0.045,
          0.0415
         ]
        },
        {
         "mode": "lines",
         "name": "id-574980",
         "type": "scatter",
         "x": [
          "2011-10-06T02:20:31.267500",
          "2011-10-06T05:27:12.485500",
          "2011-10-06T06:40:41.389000",
          "2011-10-06T08:34:29.081000",
          "2011-10-06T11:18:03.962000",
          "2011-10-06T13:31:30.411000",
          "2011-10-06T14:48:40.866000",
          "2011-10-06T15:42:43.100000",
          "2011-10-06T16:27:17.738500",
          "2011-10-06T17:07:22.700500",
          "2011-10-06T17:45:21.235000"
         ],
         "y": [
          0.036,
          0.041,
          0.0335,
          0.028,
          0.0215,
          0.0375,
          0.0425,
          0.042,
          0.034,
          0.0325,
          0.043
         ]
        },
        {
         "mode": "lines",
         "name": "id-575000",
         "type": "scatter",
         "x": [
          "2011-10-06T02:19:46.520500",
          "2011-10-06T05:27:25.410500",
          "2011-10-06T06:39:24.991500",
          "2011-10-06T08:25:47.585000",
          "2011-10-06T11:07:24.785500",
          "2011-10-06T13:26:07.340500",
          "2011-10-06T14:44:25.686500",
          "2011-10-06T15:38:51.462500",
          "2011-10-06T16:24:31.322500",
          "2011-10-06T17:05:19.632500",
          "2011-10-06T17:42:57.544000",
          "2011-10-06T18:21:05.590000",
          "2011-10-06T18:59:20.772000",
          "2011-10-06T19:34:21.188500",
          "2011-10-06T20:11:08.753000",
          "2011-10-06T20:50:05.230000",
          "2011-10-06T21:29:48.626000",
          "2011-10-06T22:10:38.416000",
          "2011-10-06T22:52:25.578000",
          "2011-10-06T23:37:17.743500",
          "2011-10-07T00:23:53.891500",
          "2011-10-07T01:12:54.705000",
          "2011-10-07T01:58:49.454000",
          "2011-10-07T02:43:57.151000",
          "2011-10-07T03:25:43.804000",
          "2011-10-07T04:11:27.103000",
          "2011-10-07T05:02:26.910000",
          "2011-10-07T06:07:25.444000",
          "2011-10-07T07:42:19.226500",
          "2011-10-07T10:09:39.414500"
         ],
         "y": [
          0.0615,
          0.0555,
          0.0655,
          0.058,
          0.0455,
          0.058,
          0.06,
          0.0525,
          0.0585,
          0.0575,
          0.0605,
          0.0575,
          0.055,
          0.048,
          0.058,
          0.059,
          0.061,
          0.0615,
          0.0495,
          0.058,
          0.053,
          0.047,
          0.0525,
          0.045,
          0.043,
          0.043,
          0.0515,
          0.043,
          0.0475,
          0.0415
         ]
        },
        {
         "mode": "lines",
         "name": "id-575157",
         "type": "scatter",
         "x": [
          "2011-10-06T02:25:18.212500",
          "2011-10-06T05:29:18.415500",
          "2011-10-06T06:45:18",
          "2011-10-06T08:42:59.847000",
          "2011-10-06T11:32:16.263000",
          "2011-10-06T13:39:25.156500",
          "2011-10-06T14:51:14.310500",
          "2011-10-06T15:44:03.966500",
          "2011-10-06T16:28:30.145000",
          "2011-10-06T17:08:46.858000",
          "2011-10-06T17:46:22.248000",
          "2011-10-06T18:24:27.068000",
          "2011-10-06T19:02:30.091000",
          "2011-10-06T19:40:22.253500",
          "2011-10-06T20:19:16.687000"
         ],
         "y": [
          0.0185,
          0.0215,
          0.019,
          0.0185,
          0.0145,
          0.018,
          0.0255,
          0.0175,
          0.0195,
          0.0235,
          0.0225,
          0.022,
          0.0225,
          0.023,
          0.0185
         ]
        },
        {
         "mode": "lines",
         "name": "id-575220",
         "type": "scatter",
         "x": [
          "2011-10-06T02:20:07.183500",
          "2011-10-06T05:27:39.518000",
          "2011-10-06T06:39:46.661000",
          "2011-10-06T08:30:21.673500",
          "2011-10-06T11:18:00.870500",
          "2011-10-06T13:31:02.921500",
          "2011-10-06T14:44:43.326500",
          "2011-10-06T15:37:49.971500",
          "2011-10-06T16:24:07.602500",
          "2011-10-06T17:04:46.996500",
          "2011-10-06T17:42:37.201500"
         ],
         "y": [
          0.0415,
          0.041,
          0.0345,
          0.031,
          0.033,
          0.042,
          0.039,
          0.033,
          0.0445,
          0.036,
          0.05
         ]
        },
        {
         "mode": "lines",
         "name": "id-575574",
         "type": "scatter",
         "x": [
          "2011-10-06T13:28:57.927500",
          "2011-10-06T14:44:31.744500",
          "2011-10-06T15:37:42.980500",
          "2011-10-06T16:22:03.917000",
          "2011-10-06T17:02:03.912500",
          "2011-10-06T17:41:42.231000",
          "2011-10-07T02:15:33.328500",
          "2011-10-07T09:30:22.675500"
         ],
         "y": [
          0.0265,
          0.026,
          0.03,
          0.0315,
          0.0315,
          0.0285,
          0.022,
          0.014
         ]
        },
        {
         "mode": "lines",
         "name": "id-575768",
         "type": "scatter",
         "x": [
          "2011-10-06T02:27:12.491000",
          "2011-10-06T05:29:41.071500",
          "2011-10-06T06:43:02.521500",
          "2011-10-06T08:36:43.381500",
          "2011-10-06T11:25:01.880500",
          "2011-10-06T13:34:22.453500",
          "2011-10-06T14:48:40.230500",
          "2011-10-06T15:42:31.686000",
          "2011-10-06T16:27:20.520500",
          "2011-10-06T17:08:52.253000",
          "2011-10-06T17:45:44.084500",
          "2011-10-06T18:23:27.078000",
          "2011-10-06T19:00:32.892500",
          "2011-10-06T19:37:16.662500",
          "2011-10-06T20:15:11.524000",
          "2011-10-06T20:53:30.212500",
          "2011-10-06T21:33:45.463500",
          "2011-10-06T22:14:07.241500",
          "2011-10-06T22:56:16.426500",
          "2011-10-06T23:41:06.760500",
          "2011-10-07T00:28:40.991000"
         ],
         "y": [
          0.024,
          0.025,
          0.02,
          0.022,
          0.024,
          0.029,
          0.0285,
          0.0205,
          0.0275,
          0.0245,
          0.0245,
          0.0245,
          0.0275,
          0.026,
          0.03,
          0.0275,
          0.022,
          0.022,
          0.0185,
          0.022,
          0.0205
         ]
        },
        {
         "mode": "lines",
         "name": "id-575912",
         "type": "scatter",
         "x": [
          "2011-10-06T02:19:24.992500",
          "2011-10-06T05:26:15.423500",
          "2011-10-06T06:41:07.439000",
          "2011-10-06T08:33:12.161000",
          "2011-10-06T11:18:00.928500",
          "2011-10-06T13:31:16.042000",
          "2011-10-06T14:46:00.371000",
          "2011-10-06T15:40:26.822500",
          "2011-10-06T16:25:06.015000",
          "2011-10-06T17:06:58.436000",
          "2011-10-06T17:45:18.884000",
          "2011-10-06T18:24:52.345000"
         ],
         "y": [
          0.036,
          0.035,
          0.0415,
          0.026,
          0.025,
          0.0355,
          0.0395,
          0.0465,
          0.038,
          0.037,
          0.045,
          0.038
         ]
        },
        {
         "mode": "lines",
         "name": "id-575934",
         "type": "scatter",
         "x": [
          "2011-10-06T02:27:13.557000",
          "2011-10-06T05:27:56.570500",
          "2011-10-06T06:38:47.730000",
          "2011-10-06T08:27:11.508500",
          "2011-10-06T11:10:38.005500",
          "2011-10-06T13:25:26.116000",
          "2011-10-06T14:41:28.004000",
          "2011-10-06T15:37:33.550500",
          "2011-10-06T16:24:49.417000",
          "2011-10-06T17:05:37.474000",
          "2011-10-06T17:42:29.422000",
          "2011-10-06T18:20:54.554500",
          "2011-10-06T18:59:10.540000",
          "2011-10-06T19:36:24.675000",
          "2011-10-06T20:13:29.749000",
          "2011-10-06T20:52:17.662000",
          "2011-10-06T21:33:21.717500",
          "2011-10-06T22:13:36.417500",
          "2011-10-06T22:55:21.131500",
          "2011-10-06T23:38:24.784000",
          "2011-10-07T00:25:37.281500",
          "2011-10-07T01:15:31.546000",
          "2011-10-07T02:02:33.529500",
          "2011-10-07T02:46:39.986500",
          "2011-10-07T03:31:36.433500",
          "2011-10-07T04:18:45.433500",
          "2011-10-07T05:11:49.990500",
          "2011-10-07T06:15:36.510500"
         ],
         "y": [
          0.0455,
          0.041,
          0.044,
          0.0345,
          0.028,
          0.0395,
          0.045,
          0.044,
          0.0475,
          0.045,
          0.055,
          0.052,
          0.049,
          0.048,
          0.0525,
          0.057,
          0.0405,
          0.047,
          0.0395,
          0.04,
          0.046,
          0.039,
          0.0295,
          0.039,
          0.035,
          0.0335,
          0.0345,
          0.034
         ]
        },
        {
         "mode": "lines",
         "name": "id-576018",
         "type": "scatter",
         "x": [
          "2011-10-06T05:23:43.339000",
          "2011-10-06T06:36:26.616000",
          "2011-10-06T08:27:06.938500",
          "2011-10-06T11:15:57.350500",
          "2011-10-06T13:32:04.467000",
          "2011-10-06T14:45:41.130500",
          "2011-10-06T15:40:36.038500",
          "2011-10-06T16:27:08.741000",
          "2011-10-06T17:06:52.881000",
          "2011-10-06T17:44:54.552000",
          "2011-10-06T18:23:52.705000",
          "2011-10-06T19:01:09.629000",
          "2011-10-06T19:37:05.709000",
          "2011-10-06T20:14:54.137000",
          "2011-10-06T20:54:33.944000",
          "2011-10-06T21:35:54.330500",
          "2011-10-06T22:15:47.408500",
          "2011-10-06T22:57:35.520500",
          "2011-10-06T23:44:05.365500",
          "2011-10-07T00:33:38.209000"
         ],
         "y": [
          0.058,
          0.0575,
          0.0425,
          0.04,
          0.0515,
          0.056,
          0.0645,
          0.059,
          0.063,
          0.056,
          0.0595,
          0.063,
          0.0565,
          0.052,
          0.05,
          0.055,
          0.0475,
          0.052,
          0.042,
          0.0455
         ]
        },
        {
         "mode": "lines",
         "name": "id-576048",
         "type": "scatter",
         "x": [
          "2011-10-07T00:38:00.921000",
          "2011-10-07T01:27:27.239000",
          "2011-10-07T02:14:40.140000",
          "2011-10-07T02:58:24.917000",
          "2011-10-07T03:42:03.637000",
          "2011-10-07T04:30:09.604000",
          "2011-10-07T05:24:01.795500",
          "2011-10-07T06:35:44.954000",
          "2011-10-07T08:24:25.088000",
          "2011-10-07T11:07:14.546500",
          "2011-10-07T13:17:05.951000",
          "2011-10-07T14:28:32.596000",
          "2011-10-07T15:21:58.375500",
          "2011-10-07T16:08:44.481000",
          "2011-10-07T16:48:26.508000",
          "2011-10-07T17:26:56.628500",
          "2011-10-07T18:04:36.508500",
          "2011-10-07T18:46:32.377000",
          "2011-10-07T19:32:09.147500",
          "2011-10-07T20:21:14.182000",
          "2011-10-07T21:12:03.635000",
          "2011-10-07T22:02:33.622500",
          "2011-10-07T22:51:35.560500"
         ],
         "y": [
          0.0475,
          0.039,
          0.038,
          0.0365,
          0.0435,
          0.0465,
          0.0405,
          0.0395,
          0.0305,
          0.0285,
          0.034,
          0.0375,
          0.0385,
          0.0435,
          0.0405,
          0.0405,
          0.0375,
          0.043,
          0.0455,
          0.0405,
          0.038,
          0.038,
          0.043
         ]
        },
        {
         "mode": "lines",
         "name": "id-576101",
         "type": "scatter",
         "x": [
          "2011-10-06T02:25:35.169000",
          "2011-10-06T05:28:39.789000",
          "2011-10-06T06:40:49.964500",
          "2011-10-06T08:30:36.381500",
          "2011-10-06T11:21:07.674500",
          "2011-10-06T13:35:19.199000",
          "2011-10-06T14:47:59.259500",
          "2011-10-06T15:41:08.869500",
          "2011-10-06T16:26:36.007500",
          "2011-10-06T17:06:40.518500",
          "2011-10-06T17:44:01.985500",
          "2011-10-06T18:21:50.941500",
          "2011-10-06T19:00:59.726000",
          "2011-10-06T19:37:02.053000",
          "2011-10-06T20:14:22.776000",
          "2011-10-06T20:54:07.987500",
          "2011-10-06T21:35:18.808500",
          "2011-10-06T22:16:04.138500",
          "2011-10-06T22:56:52.105500",
          "2011-10-06T23:39:39.503500",
          "2011-10-07T00:26:15.433000"
         ],
         "y": [
          0.0335,
          0.0405,
          0.039,
          0.0405,
          0.0285,
          0.032,
          0.0285,
          0.0505,
          0.036,
          0.04,
          0.0355,
          0.0345,
          0.039,
          0.035,
          0.0345,
          0.0365,
          0.0345,
          0.035,
          0.0375,
          0.026,
          0.037
         ]
        },
        {
         "mode": "lines",
         "name": "id-576414",
         "type": "scatter",
         "x": [
          "2011-10-06T23:39:29.837500",
          "2011-10-07T00:26:34.726000",
          "2011-10-07T01:15:13.038000",
          "2011-10-07T02:00:55.896000",
          "2011-10-07T02:44:10.105000",
          "2011-10-07T03:28:24.969000",
          "2011-10-07T04:13:48.100000",
          "2011-10-07T05:04:58.566500",
          "2011-10-07T06:08:09.758500",
          "2011-10-07T07:43:09.121500",
          "2011-10-07T10:09:34.451000",
          "2011-10-07T12:46:18.811000",
          "2011-10-07T14:07:07.849000",
          "2011-10-07T15:04:46.192500",
          "2011-10-07T15:53:43.477000",
          "2011-10-07T16:35:45.177000",
          "2011-10-07T17:15:12.529500",
          "2011-10-07T17:54:10.583000",
          "2011-10-07T18:35:54.561500",
          "2011-10-07T19:21:21.771000",
          "2011-10-07T20:09:00.984000",
          "2011-10-07T21:00:02.053000",
          "2011-10-07T21:51:15.141500",
          "2011-10-07T22:41:48.240000",
          "2011-10-07T23:32:31.472000",
          "2011-10-08T00:25:06.831000"
         ],
         "y": [
          0.045,
          0.037,
          0.041,
          0.0365,
          0.042,
          0.037,
          0.0435,
          0.0395,
          0.034,
          0.0345,
          0.031,
          0.025,
          0.0295,
          0.031,
          0.0385,
          0.037,
          0.034,
          0.034,
          0.034,
          0.035,
          0.0355,
          0.036,
          0.021,
          0.029,
          0.0315,
          0.029
         ]
        },
        {
         "mode": "lines",
         "name": "id-576453",
         "type": "scatter",
         "x": [
          "2011-10-06T21:35:58.616000",
          "2011-10-06T22:17:25.267000",
          "2011-10-06T22:59:25.715500",
          "2011-10-06T23:44:28.801000",
          "2011-10-07T00:34:26.477500",
          "2011-10-07T01:25:08.331000",
          "2011-10-07T02:12:14.323500",
          "2011-10-07T02:56:50.821500",
          "2011-10-07T03:41:03.616500",
          "2011-10-07T04:28:44.682000",
          "2011-10-07T05:22:39.679500",
          "2011-10-07T06:32:21.611000",
          "2011-10-07T08:21:26.982500",
          "2011-10-07T11:02:36.201500",
          "2011-10-07T13:13:19.082000",
          "2011-10-07T14:26:54.733500",
          "2011-10-07T15:21:12.914000",
          "2011-10-07T16:11:31.258000",
          "2011-10-07T16:54:39.395500",
          "2011-10-07T17:37:25.712000",
          "2011-10-07T18:20:46.627500",
          "2011-10-07T19:08:23.958500",
          "2011-10-07T19:59:11.527000",
          "2011-10-07T20:52:26.540000"
         ],
         "y": [
          0.0425,
          0.0415,
          0.036,
          0.037,
          0.0355,
          0.0305,
          0.0295,
          0.031,
          0.027,
          0.034,
          0.039,
          0.0265,
          0.024,
          0.0215,
          0.0305,
          0.0365,
          0.0355,
          0.0375,
          0.026,
          0.028,
          0.0315,
          0.033,
          0.0385,
          0.032
         ]
        },
        {
         "mode": "lines",
         "name": "id-576958",
         "type": "scatter",
         "x": [
          "2011-10-06T17:46:23.478500",
          "2011-10-06T18:24:36.655000",
          "2011-10-06T19:01:42.679000",
          "2011-10-06T19:37:26.769500",
          "2011-10-06T20:13:34.939500",
          "2011-10-06T20:52:02.982000",
          "2011-10-06T21:33:15.853500",
          "2011-10-06T22:14:23.548500",
          "2011-10-06T22:55:48.683000",
          "2011-10-06T23:40:40.967500",
          "2011-10-07T00:28:01.293500",
          "2011-10-07T01:16:56.903000",
          "2011-10-07T02:02:14.085500",
          "2011-10-07T02:46:46.558000",
          "2011-10-07T03:31:55.834000",
          "2011-10-07T04:17:42.611500",
          "2011-10-07T05:11:06.272000",
          "2011-10-07T06:18:59.711000",
          "2011-10-07T07:57:34.334500",
          "2011-10-07T10:34:45.195000",
          "2011-10-07T12:59:14.722500",
          "2011-10-07T14:14:07.179500",
          "2011-10-07T15:08:11.202500",
          "2011-10-07T15:56:43.604500"
         ],
         "y": [
          0.091,
          0.0915,
          0.0855,
          0.0915,
          0.0705,
          0.0765,
          0.067,
          0.067,
          0.071,
          0.07,
          0.0565,
          0.062,
          0.052,
          0.06,
          0.065,
          0.054,
          0.061,
          0.0545,
          0.0375,
          0.034,
          0.05,
          0.0505,
          0.0585,
          0.0545
         ]
        },
        {
         "mode": "lines",
         "name": "id-577169",
         "type": "scatter",
         "x": [
          "2011-10-06T19:46:15.436000",
          "2011-10-06T20:24:01.288000",
          "2011-10-06T21:03:17.484000",
          "2011-10-06T21:43:36.005000",
          "2011-10-06T22:25:06.034500",
          "2011-10-06T23:06:32.643000",
          "2011-10-06T23:52:25.656500",
          "2011-10-07T00:42:29.569000",
          "2011-10-07T01:31:27.257500",
          "2011-10-07T02:17:26.327000",
          "2011-10-07T03:02:31.336500",
          "2011-10-07T03:48:19.368500",
          "2011-10-07T04:34:51.375000",
          "2011-10-07T05:31:06.760500",
          "2011-10-07T06:42:20.396000",
          "2011-10-07T08:35:27.635000",
          "2011-10-07T11:20:38.920000",
          "2011-10-07T13:23:13.057000",
          "2011-10-07T14:31:43.458500",
          "2011-10-07T15:25:40.955500",
          "2011-10-07T16:12:30.588000",
          "2011-10-07T16:51:11.121000",
          "2011-10-07T17:30:23.141500",
          "2011-10-07T18:10:15.334000",
          "2011-10-07T18:51:11.193500"
         ],
         "y": [
          0.0215,
          0.0225,
          0.0155,
          0.021,
          0.021,
          0.017,
          0.034,
          0.0485,
          0.034,
          0.035,
          0.0285,
          0.036,
          0.041,
          0.061,
          0.058,
          0.053,
          0.0455,
          0.053,
          0.067,
          0.0615,
          0.064,
          0.066,
          0.0775,
          0.052,
          0.072
         ]
        },
        {
         "mode": "lines",
         "name": "id-577182",
         "type": "scatter",
         "x": [
          "2011-10-06T05:24:12.352000"
         ],
         "y": [
          0.066
         ]
        },
        {
         "mode": "lines",
         "name": "id-577365",
         "type": "scatter",
         "x": [
          "2011-10-06T14:43:35.189000",
          "2011-10-06T15:38:34.543000",
          "2011-10-06T16:26:07.356500",
          "2011-10-06T17:06:51.636000",
          "2011-10-06T17:46:15.920000",
          "2011-10-06T18:25:21.636500",
          "2011-10-06T19:03:01.212500",
          "2011-10-06T19:39:32.648500",
          "2011-10-06T20:18:20.365000",
          "2011-10-06T20:58:28.092500",
          "2011-10-06T21:39:04.388000",
          "2011-10-06T22:20:00.415000",
          "2011-10-06T23:02:44.470500",
          "2011-10-06T23:48:10.123000",
          "2011-10-07T00:36:14.685500",
          "2011-10-07T01:25:20.958500",
          "2011-10-07T02:09:26.806500",
          "2011-10-07T02:52:33.799500",
          "2011-10-07T03:36:20.558000",
          "2011-10-07T04:20:56.517500",
          "2011-10-07T05:13:59.263000",
          "2011-10-07T06:21:48.674500",
          "2011-10-07T08:05:19.250500",
          "2011-10-07T10:45:39.526000"
         ],
         "y": [
          0.0315,
          0.04,
          0.0345,
          0.0235,
          0.0315,
          0.0335,
          0.0365,
          0.035,
          0.0315,
          0.0315,
          0.0245,
          0.0275,
          0.0335,
          0.0265,
          0.0255,
          0.0305,
          0.026,
          0.028,
          0.0325,
          0.029,
          0.028,
          0.028,
          0.035,
          0.0285
         ]
        },
        {
         "mode": "lines",
         "name": "id-577437",
         "type": "scatter",
         "x": [
          "2011-10-06T13:00:43.258000",
          "2011-10-06T14:27:06.820500",
          "2011-10-06T15:23:33.190000",
          "2011-10-06T16:10:57.281500",
          "2011-10-06T16:53:33.001000",
          "2011-10-06T17:31:54.943000",
          "2011-10-06T18:09:45.401500",
          "2011-10-06T18:47:58.727500",
          "2011-10-06T19:24:40.449500",
          "2011-10-06T20:02:00.577000",
          "2011-10-06T20:40:34.837500",
          "2011-10-06T21:20:30.589000",
          "2011-10-06T22:00:50.070000",
          "2011-10-06T22:40:57.872000",
          "2011-10-06T23:24:44.365500",
          "2011-10-07T00:11:48.568000",
          "2011-10-07T01:01:27.100000",
          "2011-10-07T01:49:03.204500",
          "2011-10-07T02:34:41.256500",
          "2011-10-07T03:18:11.479000",
          "2011-10-07T04:02:37.665500",
          "2011-10-07T04:52:10.260000",
          "2011-10-07T05:51:03.491500",
          "2011-10-07T07:13:03.573000",
          "2011-10-07T09:23:53.298500"
         ],
         "y": [
          0.033,
          0.0335,
          0.025,
          0.0325,
          0.0205,
          0.0235,
          0.028,
          0.021,
          0.0225,
          0.0185,
          0.021,
          0.02,
          0.014,
          0.0175,
          0.015,
          0.018,
          0.013,
          0.015,
          0.0155,
          0.013,
          0.018,
          0.016,
          0.0185,
          0.02,
          0.0215
         ]
        },
        {
         "mode": "lines",
         "name": "id-577446",
         "type": "scatter",
         "x": [
          "2011-10-06T07:53:56.787500"
         ],
         "y": [
          0.066
         ]
        },
        {
         "mode": "lines",
         "name": "id-578144",
         "type": "scatter",
         "x": [
          "2011-10-06T15:29:39.902500",
          "2011-10-06T16:18:41.855500",
          "2011-10-06T17:02:00.752000",
          "2011-10-06T17:39:48.016500",
          "2011-10-06T18:17:28.606000",
          "2011-10-06T18:55:09.981000",
          "2011-10-06T19:30:48.871000",
          "2011-10-06T20:07:45.477000",
          "2011-10-06T20:46:41.876500",
          "2011-10-06T21:26:10.600000",
          "2011-10-06T22:04:39.871000",
          "2011-10-06T22:45:51.048500",
          "2011-10-06T23:29:00.349000",
          "2011-10-07T00:15:54.039000",
          "2011-10-07T01:06:17.086000",
          "2011-10-07T01:53:13.158000",
          "2011-10-07T02:38:07.397500",
          "2011-10-07T03:21:43.778000",
          "2011-10-07T04:07:57.853500",
          "2011-10-07T04:58:30.278000",
          "2011-10-07T06:02:15.920000",
          "2011-10-07T07:33:25.519000",
          "2011-10-07T09:57:19.184500",
          "2011-10-07T12:35:42.345000",
          "2011-10-07T14:02:57.651500"
         ],
         "y": [
          0.0445,
          0.0465,
          0.041,
          0.041,
          0.0555,
          0.046,
          0.046,
          0.039,
          0.051,
          0.0345,
          0.031,
          0.043,
          0.033,
          0.036,
          0.0375,
          0.031,
          0.0345,
          0.034,
          0.0355,
          0.036,
          0.0345,
          0.0355,
          0.031,
          0.0295,
          0.0295
         ]
        },
        {
         "mode": "lines",
         "name": "id-578577",
         "type": "scatter",
         "x": [
          "2011-10-07T14:03:32.576500",
          "2011-10-07T15:01:53.496000",
          "2011-10-07T15:51:11.554500",
          "2011-10-07T16:35:16.934000",
          "2011-10-07T17:14:57.303000",
          "2011-10-07T17:53:50.631500",
          "2011-10-07T18:34:57.915000",
          "2011-10-07T19:20:26.276000",
          "2011-10-07T20:07:29.480000",
          "2011-10-07T20:56:52.020000",
          "2011-10-07T21:48:19.051000",
          "2011-10-07T22:37:29.696000",
          "2011-10-07T23:29:12.338000",
          "2011-10-08T00:23:16.759500",
          "2011-10-08T01:23:28.728500"
         ],
         "y": [
          0.066,
          0.056,
          0.0585,
          0.065,
          0.0555,
          0.073,
          0.0585,
          0.054,
          0.0515,
          0.055,
          0.0465,
          0.0565,
          0.0465,
          0.0465,
          0.048
         ]
        },
        {
         "mode": "lines",
         "name": "id-578704",
         "type": "scatter",
         "x": [
          "2011-10-06T17:49:08.204000",
          "2011-10-06T18:28:02.993500",
          "2011-10-06T19:05:59.196000",
          "2011-10-06T19:42:29.417000",
          "2011-10-06T20:19:18.001500",
          "2011-10-06T20:58:05.298500",
          "2011-10-06T21:38:54.931000",
          "2011-10-06T22:18:59.964500",
          "2011-10-06T23:00:24.111500",
          "2011-10-06T23:45:14.318000",
          "2011-10-07T00:32:47.922500",
          "2011-10-07T01:20:58.073000",
          "2011-10-07T02:05:18.351500",
          "2011-10-07T02:49:57.084000",
          "2011-10-07T03:33:34.376000",
          "2011-10-07T04:20:57.197500",
          "2011-10-07T05:15:54.914500",
          "2011-10-07T06:26:32.936000",
          "2011-10-07T08:10:19.124000",
          "2011-10-07T10:47:48.177000",
          "2011-10-07T13:04:45.400500",
          "2011-10-07T14:19:12.918500",
          "2011-10-07T15:15:49.870500",
          "2011-10-07T16:02:12.040500",
          "2011-10-07T16:42:25.988000"
         ],
         "y": [
          0.0815,
          0.075,
          0.076,
          0.0815,
          0.085,
          0.064,
          0.067,
          0.063,
          0.052,
          0.0605,
          0.056,
          0.0485,
          0.0485,
          0.055,
          0.0485,
          0.044,
          0.047,
          0.037,
          0.0305,
          0.037,
          0.0345,
          0.056,
          0.051,
          0.0435,
          0.0405
         ]
        },
        {
         "mode": "lines",
         "name": "id-578942",
         "type": "scatter",
         "x": [
          "2011-10-06T18:50:26.078000",
          "2011-10-06T19:27:24.883500",
          "2011-10-06T20:05:00.585500",
          "2011-10-06T20:43:41.483500",
          "2011-10-06T21:23:36.659000",
          "2011-10-06T22:04:56.225000",
          "2011-10-06T22:45:48.582500",
          "2011-10-06T23:28:58.606500",
          "2011-10-07T00:16:03.146000",
          "2011-10-07T01:05:56.116000",
          "2011-10-07T01:52:46.636000",
          "2011-10-07T02:37:32.870000",
          "2011-10-07T03:23:06.696000",
          "2011-10-07T04:10:10.066000",
          "2011-10-07T05:02:20.799000",
          "2011-10-07T06:06:15.710000",
          "2011-10-07T07:36:51.236500",
          "2011-10-07T10:01:07.167000",
          "2011-10-07T12:39:17.435500",
          "2011-10-07T14:04:27.135500",
          "2011-10-07T15:01:44.309000",
          "2011-10-07T15:51:15.370000",
          "2011-10-07T16:33:39.759500"
         ],
         "y": [
          0.0285,
          0.0215,
          0.0195,
          0.0225,
          0.018,
          0.0135,
          0.019,
          0.0155,
          0.022,
          0.0235,
          0.02,
          0.02,
          0.0185,
          0.021,
          0.016,
          0.0155,
          0.0205,
          0.0115,
          0.0105,
          0.009,
          0.0155,
          0.0135,
          0.012
         ]
        },
        {
         "mode": "lines",
         "name": "id-578967",
         "type": "scatter",
         "x": [
          "2011-10-06T18:28:45.633000",
          "2011-10-06T19:10:26.031500",
          "2011-10-06T19:56:19.971000",
          "2011-10-06T20:40:16.291500",
          "2011-10-06T21:24:20.915000",
          "2011-10-06T22:07:15.634500",
          "2011-10-06T22:50:53.699000",
          "2011-10-06T23:35:06.091500",
          "2011-10-07T00:22:47.725000",
          "2011-10-07T01:13:43.969500",
          "2011-10-07T02:00:38.549000",
          "2011-10-07T02:44:55.570000",
          "2011-10-07T03:28:33.021500",
          "2011-10-07T04:15:19.424500",
          "2011-10-07T05:09:05.824500",
          "2011-10-07T06:17:08.232500",
          "2011-10-07T07:54:27.412000",
          "2011-10-07T10:29:35.268500",
          "2011-10-07T12:56:57.853000",
          "2011-10-07T14:16:10.828500",
          "2011-10-07T15:12:22.800500",
          "2011-10-07T15:59:48.271000",
          "2011-10-07T16:41:06.429000",
          "2011-10-07T17:20:36.867500",
          "2011-10-07T18:00:32.772500"
         ],
         "y": [
          0.1525,
          0.1565,
          0.141,
          0.147,
          0.14,
          0.13,
          0.121,
          0.103,
          0.1095,
          0.0825,
          0.1005,
          0.1025,
          0.109,
          0.095,
          0.0855,
          0.086,
          0.0765,
          0.0495,
          0.0865,
          0.11,
          0.107,
          0.0905,
          0.0945,
          0.0995,
          0.0855
         ]
        },
        {
         "mode": "lines",
         "name": "id-579145",
         "type": "scatter",
         "x": [
          "2011-10-06T19:19:56.623500",
          "2011-10-06T19:59:02.062000",
          "2011-10-06T20:37:37.138000",
          "2011-10-06T21:18:24.839000",
          "2011-10-06T22:01:18.768500",
          "2011-10-06T22:44:14.059500",
          "2011-10-06T23:30:39.875500",
          "2011-10-07T00:21:36.666000",
          "2011-10-07T01:12:12.065500",
          "2011-10-07T02:00:13.090000",
          "2011-10-07T02:45:40.815000",
          "2011-10-07T03:30:18.112500",
          "2011-10-07T04:20:32.489500",
          "2011-10-07T05:17:44.675000",
          "2011-10-07T06:28:32.852500",
          "2011-10-07T08:18:00.199500",
          "2011-10-07T11:00:50.524500",
          "2011-10-07T13:11:35.614500",
          "2011-10-07T14:25:54.996000",
          "2011-10-07T15:21:14.671500"
         ],
         "y": [
          0.0595,
          0.059,
          0.063,
          0.054,
          0.054,
          0.058,
          0.0405,
          0.043,
          0.041,
          0.047,
          0.043,
          0.033,
          0.0415,
          0.04,
          0.0395,
          0.038,
          0.0265,
          0.0345,
          0.0335,
          0.042
         ]
        },
        {
         "mode": "lines",
         "name": "id-579209",
         "type": "scatter",
         "x": [
          "2011-10-06T19:38:11.140000",
          "2011-10-06T20:16:03.659000",
          "2011-10-06T20:55:31.319500",
          "2011-10-06T21:36:18.129500",
          "2011-10-06T22:16:55.367000",
          "2011-10-06T22:58:43.204000",
          "2011-10-06T23:43:44.900500",
          "2011-10-07T00:33:38.080500",
          "2011-10-07T01:23:15.619500",
          "2011-10-07T02:09:43.176000",
          "2011-10-07T02:54:13.856500",
          "2011-10-07T03:38:43.329500",
          "2011-10-07T04:25:08.167000",
          "2011-10-07T05:20:10.920500",
          "2011-10-07T06:30:22.388500",
          "2011-10-07T08:15:53.324000",
          "2011-10-07T10:54:58.048500",
          "2011-10-07T13:09:22.548000",
          "2011-10-07T14:21:52.796500",
          "2011-10-07T15:16:14.482500",
          "2011-10-07T16:03:52.960500",
          "2011-10-07T16:45:08.478500"
         ],
         "y": [
          0.037,
          0.0315,
          0.0315,
          0.0265,
          0.03,
          0.0255,
          0.0265,
          0.0165,
          0.023,
          0.0205,
          0.028,
          0.027,
          0.027,
          0.022,
          0.021,
          0.017,
          0.015,
          0.024,
          0.0245,
          0.0205,
          0.0185,
          0.0165
         ]
        },
        {
         "mode": "lines",
         "name": "id-579418",
         "type": "scatter",
         "x": [
          "2011-10-06T20:31:35.368000",
          "2011-10-06T21:11:55.647000",
          "2011-10-06T21:53:35.088000",
          "2011-10-06T22:34:15.799500",
          "2011-10-06T23:16:31.762000",
          "2011-10-07T00:02:45.440000",
          "2011-10-07T00:51:34.562000",
          "2011-10-07T01:39:20.655000",
          "2011-10-07T02:24:06.652500",
          "2011-10-07T03:07:20.850000",
          "2011-10-07T03:51:12.421500",
          "2011-10-07T04:39:33.928000",
          "2011-10-07T05:36:17.677500",
          "2011-10-07T06:50:46.292000",
          "2011-10-07T08:46:29.776500",
          "2011-10-07T11:33:40.871000",
          "2011-10-07T13:29:41.521000",
          "2011-10-07T14:35:12.029500",
          "2011-10-07T15:27:55.303000",
          "2011-10-07T16:13:17.658000",
          "2011-10-07T16:52:53.208000"
         ],
         "y": [
          0.139,
          0.122,
          0.132,
          0.1095,
          0.0975,
          0.09,
          0.0785,
          0.0855,
          0.0755,
          0.08,
          0.078,
          0.0795,
          0.063,
          0.065,
          0.056,
          0.045,
          0.0735,
          0.0975,
          0.076,
          0.0855,
          0.0875
         ]
        },
        {
         "mode": "lines",
         "name": "id-579435",
         "type": "scatter",
         "x": [
          "2011-10-06T21:09:10.049000",
          "2011-10-06T21:50:18.561500",
          "2011-10-06T22:30:39.422000",
          "2011-10-06T23:12:36.201500",
          "2011-10-06T23:59:03.486000",
          "2011-10-07T00:49:05.737000",
          "2011-10-07T01:38:46.373500",
          "2011-10-07T02:24:36.050000",
          "2011-10-07T03:08:49.287000",
          "2011-10-07T03:54:25.353500",
          "2011-10-07T04:43:12.572000",
          "2011-10-07T05:41:49.424500",
          "2011-10-07T07:01:13.406500",
          "2011-10-07T09:10:32.968000",
          "2011-10-07T11:54:15.979000",
          "2011-10-07T13:39:44.145000",
          "2011-10-07T14:43:39.281000",
          "2011-10-07T15:34:13.206500",
          "2011-10-07T16:19:16.371000",
          "2011-10-07T16:59:01.225500",
          "2011-10-07T17:39:08.950000",
          "2011-10-07T18:20:16.242500",
          "2011-10-07T19:04:18.307000",
          "2011-10-07T19:50:59.111500",
          "2011-10-07T20:38:40.233500",
          "2011-10-07T21:28:27.073000"
         ],
         "y": [
          0.147,
          0.1485,
          0.144,
          0.134,
          0.138,
          0.1225,
          0.129,
          0.1295,
          0.1365,
          0.125,
          0.115,
          0.1075,
          0.1045,
          0.0835,
          0.0825,
          0.0985,
          0.102,
          0.096,
          0.1105,
          0.114,
          0.1085,
          0.0965,
          0.0865,
          0.106,
          0.113,
          0.096
         ]
        },
        {
         "mode": "lines",
         "name": "id-579665",
         "type": "scatter",
         "x": [
          "2011-10-06T21:28:55.104500",
          "2011-10-06T22:10:03.096000",
          "2011-10-06T22:52:02.914000",
          "2011-10-06T23:35:09.533000",
          "2011-10-07T00:22:27.917500",
          "2011-10-07T01:11:22.307500",
          "2011-10-07T01:58:43.811500",
          "2011-10-07T02:42:29.041000",
          "2011-10-07T03:26:40.152500",
          "2011-10-07T04:12:53.485000",
          "2011-10-07T05:04:19.000500",
          "2011-10-07T06:07:48.327000",
          "2011-10-07T07:36:58.647500",
          "2011-10-07T10:02:19.894500",
          "2011-10-07T12:37:28.508500",
          "2011-10-07T14:02:06.339000",
          "2011-10-07T14:59:42.713000",
          "2011-10-07T15:50:24.121000",
          "2011-10-07T16:33:38.339500",
          "2011-10-07T17:12:41.587000",
          "2011-10-07T17:51:21.417000",
          "2011-10-07T18:31:07.185500",
          "2011-10-07T19:16:03.537000",
          "2011-10-07T20:03:05.406500"
         ],
         "y": [
          0.036,
          0.0375,
          0.0325,
          0.03,
          0.0315,
          0.018,
          0.0215,
          0.02,
          0.022,
          0.021,
          0.02,
          0.0265,
          0.018,
          0.011,
          0.0175,
          0.025,
          0.0255,
          0.026,
          0.02,
          0.024,
          0.027,
          0.023,
          0.0225,
          0.0205
         ]
        },
        {
         "mode": "lines",
         "name": "id-579692",
         "type": "scatter",
         "x": [
          "2011-10-06T20:58:57.009500",
          "2011-10-06T21:39:42.757000",
          "2011-10-06T22:22:20.021500",
          "2011-10-06T23:05:47.263000",
          "2011-10-06T23:51:29.075500",
          "2011-10-07T00:40:31.948000",
          "2011-10-07T01:29:35.686000",
          "2011-10-07T02:13:58.369500",
          "2011-10-07T02:57:08.796500",
          "2011-10-07T03:40:12.098500",
          "2011-10-07T04:27:34.260500",
          "2011-10-07T05:21:47.487000",
          "2011-10-07T06:32:28.423000",
          "2011-10-07T08:21:23.694000",
          "2011-10-07T11:09:02.210500",
          "2011-10-07T13:15:34.394000",
          "2011-10-07T14:24:48.810500",
          "2011-10-07T15:17:55.464500",
          "2011-10-07T16:03:53.158000",
          "2011-10-07T16:43:25.706500"
         ],
         "y": [
          0.028,
          0.0325,
          0.027,
          0.032,
          0.028,
          0.0285,
          0.0235,
          0.0215,
          0.0205,
          0.024,
          0.029,
          0.026,
          0.0275,
          0.028,
          0.0185,
          0.02,
          0.026,
          0.024,
          0.0205,
          0.023
         ]
        },
        {
         "mode": "lines",
         "name": "id-579718",
         "type": "scatter",
         "x": [
          "2011-10-06T22:41:09.899500",
          "2011-10-06T23:26:16.659500",
          "2011-10-07T00:15:39.637000",
          "2011-10-07T01:05:48.253500",
          "2011-10-07T01:53:17.538500",
          "2011-10-07T02:38:48.169500",
          "2011-10-07T03:22:50.617000",
          "2011-10-07T04:08:47.096500",
          "2011-10-07T05:01:10.586000",
          "2011-10-07T06:04:11.142500",
          "2011-10-07T07:33:35.499000",
          "2011-10-07T09:55:52.134000",
          "2011-10-07T12:32:47.213500",
          "2011-10-07T14:02:08.716500",
          "2011-10-07T14:59:49.090000",
          "2011-10-07T15:49:46.976000",
          "2011-10-07T16:33:08.110000",
          "2011-10-07T17:13:11.576000",
          "2011-10-07T17:53:05.393000",
          "2011-10-07T18:34:17.501500",
          "2011-10-07T19:18:34.573500",
          "2011-10-07T20:06:58.121000",
          "2011-10-07T20:54:44.811500",
          "2011-10-07T21:45:38.141000",
          "2011-10-07T22:36:05.977000"
         ],
         "y": [
          0.0315,
          0.0315,
          0.032,
          0.0235,
          0.0285,
          0.0185,
          0.022,
          0.028,
          0.03,
          0.027,
          0.023,
          0.0245,
          0.0185,
          0.0225,
          0.0235,
          0.0245,
          0.028,
          0.026,
          0.0245,
          0.026,
          0.025,
          0.0235,
          0.0275,
          0.019,
          0.0215
         ]
        },
        {
         "mode": "lines",
         "name": "id-579837",
         "type": "scatter",
         "x": [
          "2011-10-06T21:51:58.077000",
          "2011-10-06T22:33:18.208000",
          "2011-10-06T23:14:59.495500",
          "2011-10-07T00:01:10.483000",
          "2011-10-07T00:50:07.664500",
          "2011-10-07T01:37:29.526000",
          "2011-10-07T02:23:02.093000",
          "2011-10-07T03:07:06.200500",
          "2011-10-07T03:52:00.640500",
          "2011-10-07T04:41:32.601000",
          "2011-10-07T05:38:52.267500",
          "2011-10-07T06:53:52.326500",
          "2011-10-07T08:53:46.575500",
          "2011-10-07T11:44:39.576500",
          "2011-10-07T13:34:39.355500",
          "2011-10-07T14:38:42.304500",
          "2011-10-07T15:29:51.337000",
          "2011-10-07T16:15:03.855000",
          "2011-10-07T16:56:14.560000",
          "2011-10-07T17:36:31.460500",
          "2011-10-07T18:15:01.440500",
          "2011-10-07T18:58:58.485000",
          "2011-10-07T19:44:53.684500",
          "2011-10-07T20:31:04.005000",
          "2011-10-07T21:21:37.727500"
         ],
         "y": [
          0.229,
          0.2125,
          0.1935,
          0.1655,
          0.147,
          0.1435,
          0.1265,
          0.137,
          0.1385,
          0.1465,
          0.135,
          0.1215,
          0.111,
          0.0975,
          0.1135,
          0.1325,
          0.129,
          0.117,
          0.13,
          0.129,
          0.105,
          0.116,
          0.108,
          0.1285,
          0.1015
         ]
        },
        {
         "mode": "lines",
         "name": "id-579840",
         "type": "scatter",
         "x": [
          "2011-10-07T01:18:23.604000",
          "2011-10-07T02:05:44.096000",
          "2011-10-07T02:49:18.134000",
          "2011-10-07T03:32:36.980000",
          "2011-10-07T04:17:13.994500",
          "2011-10-07T05:08:42.345500",
          "2011-10-07T06:13:30.675000",
          "2011-10-07T07:49:17.894500",
          "2011-10-07T10:27:23.500500",
          "2011-10-07T12:55:05.684500",
          "2011-10-07T14:13:05.652000",
          "2011-10-07T15:10:07.798000",
          "2011-10-07T16:01:00.153000",
          "2011-10-07T16:42:08.265500",
          "2011-10-07T17:21:27.698000",
          "2011-10-07T18:00:53.109000",
          "2011-10-07T18:42:05.761500",
          "2011-10-07T19:27:23.073500",
          "2011-10-07T20:17:41.755000",
          "2011-10-07T21:08:21.630500",
          "2011-10-07T21:59:07.902000",
          "2011-10-07T22:49:04.295500"
         ],
         "y": [
          0.0525,
          0.045,
          0.0455,
          0.0465,
          0.0515,
          0.0455,
          0.049,
          0.049,
          0.038,
          0.036,
          0.048,
          0.037,
          0.048,
          0.042,
          0.046,
          0.038,
          0.0375,
          0.0325,
          0.046,
          0.037,
          0.038,
          0.041
         ]
        },
        {
         "mode": "lines",
         "name": "id-580040",
         "type": "scatter",
         "x": [
          "2011-10-06T22:14:18.507000",
          "2011-10-06T22:55:20.532500",
          "2011-10-06T23:38:14.034000",
          "2011-10-07T00:26:46.402500",
          "2011-10-07T01:16:24.466500",
          "2011-10-07T02:03:16.708000",
          "2011-10-07T02:48:14.275500",
          "2011-10-07T03:32:33.826500",
          "2011-10-07T04:19:20.349000",
          "2011-10-07T05:13:04.412500",
          "2011-10-07T06:19:04.149500",
          "2011-10-07T07:56:49.503500",
          "2011-10-07T10:34:00.542500",
          "2011-10-07T12:57:43.545000",
          "2011-10-07T14:13:16.045000",
          "2011-10-07T15:08:24.598000",
          "2011-10-07T15:56:46.306500",
          "2011-10-07T16:38:05.024500",
          "2011-10-07T17:17:19.564000",
          "2011-10-07T17:57:08.724000",
          "2011-10-07T18:38:42.979000",
          "2011-10-07T19:25:23.257500",
          "2011-10-07T20:14:41.940000",
          "2011-10-07T21:04:47.929000"
         ],
         "y": [
          0.031,
          0.0415,
          0.036,
          0.0335,
          0.034,
          0.0255,
          0.0235,
          0.0305,
          0.029,
          0.033,
          0.0305,
          0.025,
          0.0195,
          0.0235,
          0.038,
          0.0225,
          0.032,
          0.0295,
          0.027,
          0.0365,
          0.026,
          0.031,
          0.0265,
          0.0275
         ]
        },
        {
         "mode": "lines",
         "name": "id-580167",
         "type": "scatter",
         "x": [
          "2011-10-07T13:46:27.369500",
          "2011-10-07T14:48:38.287000",
          "2011-10-07T15:38:04.759000",
          "2011-10-07T16:22:32.686500",
          "2011-10-07T17:02:09.607000",
          "2011-10-07T17:42:32.813000",
          "2011-10-07T18:23:29.767000",
          "2011-10-07T19:08:04.747000",
          "2011-10-07T19:54:52.792000",
          "2011-10-07T20:45:45.410500",
          "2011-10-07T21:37:53.600000",
          "2011-10-07T22:28:36.914500",
          "2011-10-07T23:19:15.151000",
          "2011-10-08T00:11:44.632500",
          "2011-10-08T01:08:41.545000"
         ],
         "y": [
          0.066,
          0.06,
          0.0535,
          0.074,
          0.057,
          0.0695,
          0.0705,
          0.067,
          0.0685,
          0.0565,
          0.0745,
          0.0635,
          0.0525,
          0.067,
          0.0565
         ]
        },
        {
         "mode": "lines",
         "name": "id-580174",
         "type": "scatter",
         "x": [
          "2011-10-07T19:14:53.022000",
          "2011-10-07T20:02:29.503000",
          "2011-10-07T20:53:24.101500",
          "2011-10-07T21:44:28.711500",
          "2011-10-07T22:34:48.073500",
          "2011-10-07T23:25:36.492000",
          "2011-10-08T00:18:01.684500",
          "2011-10-08T01:18:03.157500"
         ],
         "y": [
          0.036,
          0.025,
          0.022,
          0.033,
          0.0205,
          0.022,
          0.023,
          0.0185
         ]
        },
        {
         "mode": "lines",
         "name": "id-580208",
         "type": "scatter",
         "x": [
          "2011-10-06T23:07:38.250000",
          "2011-10-06T23:55:18.971000",
          "2011-10-07T00:44:43.053500",
          "2011-10-07T01:33:12.102000",
          "2011-10-07T02:18:31.086500",
          "2011-10-07T03:01:04.796000",
          "2011-10-07T03:46:38.023500",
          "2011-10-07T04:34:29.008500",
          "2011-10-07T05:28:42.383500",
          "2011-10-07T06:39:55.386000",
          "2011-10-07T08:34:51.417500",
          "2011-10-07T11:20:09.374500",
          "2011-10-07T13:20:48.835500",
          "2011-10-07T14:28:48.800000",
          "2011-10-07T15:22:14.744000",
          "2011-10-07T16:10:42.550500",
          "2011-10-07T16:51:03.673500",
          "2011-10-07T17:30:30.295000",
          "2011-10-07T18:09:59.992500",
          "2011-10-07T18:52:46.465500",
          "2011-10-07T19:39:32.418000",
          "2011-10-07T20:28:45.312500",
          "2011-10-07T21:19:08.316500"
         ],
         "y": [
          0.0685,
          0.053,
          0.044,
          0.044,
          0.0405,
          0.0355,
          0.0495,
          0.042,
          0.046,
          0.046,
          0.031,
          0.0295,
          0.038,
          0.0525,
          0.046,
          0.0495,
          0.044,
          0.044,
          0.0415,
          0.0515,
          0.045,
          0.0425,
          0.0575
         ]
        },
        {
         "mode": "lines",
         "name": "id-580257",
         "type": "scatter",
         "x": [
          "2011-10-07T03:12:47.469000",
          "2011-10-07T03:55:55.294000",
          "2011-10-07T04:45:03.131000",
          "2011-10-07T05:44:27.267500",
          "2011-10-07T07:05:28.265000",
          "2011-10-07T09:13:10.021500",
          "2011-10-07T11:55:55.362000",
          "2011-10-07T13:40:52.892500",
          "2011-10-07T14:45:54.252500",
          "2011-10-07T15:37:58.060000",
          "2011-10-07T16:22:53.006500",
          "2011-10-07T17:01:45.611000",
          "2011-10-07T17:40:41.392000",
          "2011-10-07T18:21:24.335000",
          "2011-10-07T19:05:05.685000",
          "2011-10-07T19:52:17.423000",
          "2011-10-07T20:42:59.759500",
          "2011-10-07T21:33:50.607000",
          "2011-10-07T22:25:05.978000",
          "2011-10-07T23:17:28.145500"
         ],
         "y": [
          0.043,
          0.044,
          0.0405,
          0.041,
          0.0365,
          0.0265,
          0.0285,
          0.0405,
          0.045,
          0.0395,
          0.0425,
          0.0455,
          0.0485,
          0.0515,
          0.033,
          0.033,
          0.034,
          0.0495,
          0.039,
          0.042
         ]
        },
        {
         "mode": "lines",
         "name": "id-580290",
         "type": "scatter",
         "x": [
          "2011-10-06T22:23:51.738500",
          "2011-10-06T23:07:55.893000",
          "2011-10-06T23:54:54.478500",
          "2011-10-07T00:43:46.717000",
          "2011-10-07T01:31:56.321500",
          "2011-10-07T02:17:46.821000",
          "2011-10-07T03:01:15.798000",
          "2011-10-07T03:44:59.544500",
          "2011-10-07T04:30:33.443500",
          "2011-10-07T05:25:56.536000",
          "2011-10-07T06:37:05.264500",
          "2011-10-07T08:28:38.655000",
          "2011-10-07T11:11:44.498500",
          "2011-10-07T13:18:09.485000",
          "2011-10-07T14:26:35.876500",
          "2011-10-07T15:20:11.941500",
          "2011-10-07T16:07:16.203500",
          "2011-10-07T16:47:10.243000",
          "2011-10-07T17:25:20.537500",
          "2011-10-07T18:04:39.520500",
          "2011-10-07T18:47:26.465000",
          "2011-10-07T19:35:19.401000",
          "2011-10-07T20:23:50.027500",
          "2011-10-07T21:13:57.471500",
          "2011-10-07T22:06:07.778500"
         ],
         "y": [
          0.045,
          0.034,
          0.039,
          0.036,
          0.034,
          0.031,
          0.0305,
          0.0325,
          0.0345,
          0.0275,
          0.0245,
          0.019,
          0.0125,
          0.0305,
          0.0285,
          0.0285,
          0.025,
          0.0275,
          0.0295,
          0.029,
          0.0265,
          0.0255,
          0.0315,
          0.028,
          0.029
         ]
        },
        {
         "mode": "lines",
         "name": "id-580535",
         "type": "scatter",
         "x": [
          "2011-10-07T17:42:57.001500",
          "2011-10-07T18:23:49.171000",
          "2011-10-07T19:09:03.971500",
          "2011-10-07T19:56:48.646000",
          "2011-10-07T20:45:15.240000",
          "2011-10-07T21:34:20.707500",
          "2011-10-07T22:24:17.671000",
          "2011-10-07T23:15:29.816500",
          "2011-10-08T00:07:10.934500",
          "2011-10-08T01:04:37.238000"
         ],
         "y": [
          0.041,
          0.0345,
          0.0225,
          0.0195,
          0.029,
          0.025,
          0.0195,
          0.021,
          0.0215,
          0.0205
         ]
        },
        {
         "mode": "lines",
         "name": "id-580638",
         "type": "scatter",
         "x": [
          "2011-10-07T22:20:23.182000",
          "2011-10-07T23:09:03.282500",
          "2011-10-08T00:01:26.606000",
          "2011-10-08T00:57:18.187000"
         ],
         "y": [
          0.0755,
          0.077,
          0.073,
          0.0655
         ]
        },
        {
         "mode": "lines",
         "name": "id-580891",
         "type": "scatter",
         "x": [
          "2011-10-07T20:42:37.940500",
          "2011-10-07T21:33:14.152000",
          "2011-10-07T22:23:47.478000",
          "2011-10-07T23:14:19.994500",
          "2011-10-08T00:06:45.827000",
          "2011-10-08T01:05:13.684000"
         ],
         "y": [
          0.0365,
          0.0395,
          0.035,
          0.0335,
          0.041,
          0.027
         ]
        },
        {
         "mode": "lines",
         "name": "id-580911",
         "type": "scatter",
         "x": [
          "2011-10-07T19:39:10.636000",
          "2011-10-07T20:28:31.474000",
          "2011-10-07T21:18:30.817500",
          "2011-10-07T22:09:25.047000",
          "2011-10-07T22:59:50.297500",
          "2011-10-07T23:52:25.633500",
          "2011-10-08T00:49:28.798500"
         ],
         "y": [
          0.0465,
          0.047,
          0.0425,
          0.0345,
          0.031,
          0.0345,
          0.032
         ]
        },
        {
         "mode": "lines",
         "name": "id-581020",
         "type": "scatter",
         "x": [
          "2011-10-07T02:20:24.462000",
          "2011-10-07T03:05:10.377500",
          "2011-10-07T03:49:18.639500",
          "2011-10-07T04:35:52.668000",
          "2011-10-07T05:33:36.104500",
          "2011-10-07T06:48:10.828500",
          "2011-10-07T08:48:05.760500",
          "2011-10-07T11:38:04.355500",
          "2011-10-07T13:31:32.021000",
          "2011-10-07T14:37:25.797000",
          "2011-10-07T15:28:57.551000",
          "2011-10-07T16:16:30.428500",
          "2011-10-07T16:56:28.643000",
          "2011-10-07T17:35:06.593500",
          "2011-10-07T18:13:43.157000",
          "2011-10-07T18:55:57.568000",
          "2011-10-07T19:43:07.760000",
          "2011-10-07T20:30:36.563500",
          "2011-10-07T21:21:12.470000",
          "2011-10-07T22:12:22.050500",
          "2011-10-07T23:02:52.530500",
          "2011-10-07T23:55:53.870500",
          "2011-10-08T00:53:16.785000"
         ],
         "y": [
          0.0395,
          0.0305,
          0.0305,
          0.036,
          0.0315,
          0.0325,
          0.0255,
          0.022,
          0.024,
          0.0285,
          0.028,
          0.029,
          0.0265,
          0.025,
          0.025,
          0.0295,
          0.0315,
          0.0335,
          0.0305,
          0.03,
          0.0265,
          0.028,
          0.018
         ]
        },
        {
         "mode": "lines",
         "name": "id-581124",
         "type": "scatter",
         "x": [
          "2011-10-07T01:31:09.780000",
          "2011-10-07T02:17:17.434500",
          "2011-10-07T03:02:27.169000",
          "2011-10-07T03:47:36.616000",
          "2011-10-07T04:36:19.515000",
          "2011-10-07T05:34:21.617000",
          "2011-10-07T06:50:30.570500",
          "2011-10-07T08:43:38.421500",
          "2011-10-07T11:30:08.206500",
          "2011-10-07T13:27:16.445500",
          "2011-10-07T14:33:03.014000",
          "2011-10-07T15:25:21.011500",
          "2011-10-07T16:11:03.669000",
          "2011-10-07T16:51:26.137000",
          "2011-10-07T17:31:29.434000",
          "2011-10-07T18:10:32.353500",
          "2011-10-07T18:52:49.343000",
          "2011-10-07T19:39:38.867000",
          "2011-10-07T20:30:28.134000",
          "2011-10-07T21:22:30.639000",
          "2011-10-07T22:13:42.069500",
          "2011-10-07T23:04:24.482000",
          "2011-10-07T23:57:14.842000",
          "2011-10-08T00:51:49.372000"
         ],
         "y": [
          0.056,
          0.0425,
          0.058,
          0.0435,
          0.049,
          0.0395,
          0.051,
          0.0335,
          0.0275,
          0.043,
          0.0535,
          0.046,
          0.047,
          0.044,
          0.043,
          0.0465,
          0.0435,
          0.053,
          0.0425,
          0.0405,
          0.0365,
          0.041,
          0.0335,
          0.039
         ]
        },
        {
         "mode": "lines",
         "name": "id-581212",
         "type": "scatter",
         "x": [
          "2011-10-07T23:10:42.414500",
          "2011-10-08T00:02:15.587500",
          "2011-10-08T01:00:36.990500"
         ],
         "y": [
          0.0255,
          0.02,
          0.0205
         ]
        },
        {
         "mode": "lines",
         "name": "id-581272",
         "type": "scatter",
         "x": [
          "2011-10-07T01:50:36.091000",
          "2011-10-07T02:35:28.666000",
          "2011-10-07T03:19:10.398000",
          "2011-10-07T04:03:36.315500",
          "2011-10-07T04:53:42.456500",
          "2011-10-07T05:54:49.271000",
          "2011-10-07T07:21:37.035000",
          "2011-10-07T09:41:13.888500",
          "2011-10-07T12:21:50.697500",
          "2011-10-07T13:54:20.958500",
          "2011-10-07T14:52:33.952500",
          "2011-10-07T15:44:10.272000",
          "2011-10-07T16:28:14.821000",
          "2011-10-07T17:07:53.207500",
          "2011-10-07T17:48:06.525500",
          "2011-10-07T18:28:33.704500",
          "2011-10-07T19:13:19.483000",
          "2011-10-07T20:02:01.435500",
          "2011-10-07T20:51:12.260500",
          "2011-10-07T21:41:49.999000"
         ],
         "y": [
          0.0625,
          0.062,
          0.0555,
          0.0625,
          0.0535,
          0.0535,
          0.0485,
          0.039,
          0.043,
          0.0495,
          0.058,
          0.0575,
          0.06,
          0.058,
          0.0525,
          0.06,
          0.0555,
          0.0535,
          0.057,
          0.0545
         ]
        },
        {
         "mode": "lines",
         "name": "id-581428",
         "type": "scatter",
         "x": [
          "2011-10-07T19:02:32.808500",
          "2011-10-07T19:50:00.196000",
          "2011-10-07T20:39:22.304500",
          "2011-10-07T21:31:00.001000",
          "2011-10-07T22:23:19.629500",
          "2011-10-07T23:15:22.540000",
          "2011-10-08T00:09:13.556500",
          "2011-10-08T01:06:49.510000"
         ],
         "y": [
          0.1,
          0.093,
          0.092,
          0.095,
          0.0795,
          0.0795,
          0.083,
          0.064
         ]
        },
        {
         "mode": "lines",
         "name": "id-581450",
         "type": "scatter",
         "x": [
          "2011-10-07T21:59:11.993000",
          "2011-10-07T22:48:19.504500",
          "2011-10-07T23:38:13.014500",
          "2011-10-08T00:33:16.748500"
         ],
         "y": [
          0.037,
          0.0455,
          0.0325,
          0.0345
         ]
        },
        {
         "mode": "lines",
         "name": "id-581483",
         "type": "scatter",
         "x": [
          "2011-10-08T01:14:31.472500"
         ],
         "y": [
          0.056
         ]
        },
        {
         "mode": "lines",
         "name": "id-581506",
         "type": "scatter",
         "x": [
          "2011-10-07T04:27:35.854000",
          "2011-10-07T05:21:52.190500",
          "2011-10-07T06:34:57.030500",
          "2011-10-07T08:28:19.384000",
          "2011-10-07T11:12:32.847500",
          "2011-10-07T13:19:09.893500",
          "2011-10-07T14:30:23.186500",
          "2011-10-07T15:24:12.926000",
          "2011-10-07T16:11:33.187500",
          "2011-10-07T16:50:12.886500",
          "2011-10-07T17:30:13.849000",
          "2011-10-07T18:10:14.220500",
          "2011-10-07T18:54:25.036000",
          "2011-10-07T19:41:44.020500",
          "2011-10-07T20:30:21.102000",
          "2011-10-07T21:21:22.318000",
          "2011-10-07T22:11:48.824000",
          "2011-10-07T23:00:59.598000",
          "2011-10-07T23:50:55.394000",
          "2011-10-08T00:45:33.378000"
         ],
         "y": [
          0.1065,
          0.095,
          0.087,
          0.0695,
          0.0555,
          0.084,
          0.0915,
          0.0735,
          0.08,
          0.085,
          0.09,
          0.086,
          0.09,
          0.0825,
          0.075,
          0.0825,
          0.074,
          0.0695,
          0.0695,
          0.068
         ]
        },
        {
         "mode": "lines",
         "name": "id-581732",
         "type": "scatter",
         "x": [
          "2011-10-07T04:36:24.560000",
          "2011-10-07T05:31:53.504000",
          "2011-10-07T06:44:29.107500",
          "2011-10-07T08:42:19.336000",
          "2011-10-07T11:32:09.781500",
          "2011-10-07T13:29:27.745000",
          "2011-10-07T14:37:30.613500",
          "2011-10-07T15:29:42.605000",
          "2011-10-07T16:15:02.442500",
          "2011-10-07T16:54:19.244500",
          "2011-10-07T17:33:19.801000",
          "2011-10-07T18:13:33.282000",
          "2011-10-07T18:57:26.546500",
          "2011-10-07T19:44:27.037500",
          "2011-10-07T20:33:33.104500",
          "2011-10-07T21:25:29.673500",
          "2011-10-07T22:16:07.823000",
          "2011-10-07T23:07:43.904000",
          "2011-10-07T23:59:17.835000",
          "2011-10-08T00:54:25.434500"
         ],
         "y": [
          0.0555,
          0.054,
          0.0515,
          0.044,
          0.03,
          0.034,
          0.0415,
          0.0405,
          0.0425,
          0.0375,
          0.04,
          0.0485,
          0.045,
          0.042,
          0.045,
          0.035,
          0.0385,
          0.042,
          0.0455,
          0.035
         ]
        },
        {
         "mode": "lines",
         "name": "id-581953",
         "type": "scatter",
         "x": [
          "2011-10-07T13:57:45.945500",
          "2011-10-07T14:56:10.762500",
          "2011-10-07T15:44:18.809000",
          "2011-10-07T16:27:49.142000",
          "2011-10-07T17:07:19.298500",
          "2011-10-07T17:46:36.438500",
          "2011-10-07T18:26:47.387000",
          "2011-10-07T19:10:52.456500",
          "2011-10-07T19:57:34.288500",
          "2011-10-07T20:46:23.993500",
          "2011-10-07T21:38:13.419000",
          "2011-10-07T22:29:39.468000",
          "2011-10-07T23:19:32.685000",
          "2011-10-08T00:12:19.021500",
          "2011-10-08T01:10:36.144500"
         ],
         "y": [
          0.013,
          0.018,
          0.02,
          0.0205,
          0.0195,
          0.014,
          0.017,
          0.017,
          0.0135,
          0.0115,
          0.022,
          0.0145,
          0.0155,
          0.017,
          0.0125
         ]
        },
        {
         "mode": "lines",
         "name": "id-582065",
         "type": "scatter",
         "x": [
          "2011-10-07T07:42:53.801500",
          "2011-10-07T10:04:58.976500",
          "2011-10-07T12:37:37.417500",
          "2011-10-07T14:02:58.319500",
          "2011-10-07T15:00:39.004000",
          "2011-10-07T15:50:52.799500",
          "2011-10-07T16:34:07.010500",
          "2011-10-07T17:13:21.321500",
          "2011-10-07T17:52:39.656500",
          "2011-10-07T18:34:11.964500",
          "2011-10-07T19:19:34.396000",
          "2011-10-07T20:07:13.770500",
          "2011-10-07T20:57:06.489500",
          "2011-10-07T21:49:14.938000",
          "2011-10-07T22:39:01.387500",
          "2011-10-07T23:30:05.284000",
          "2011-10-08T00:24:58.310500"
         ],
         "y": [
          0.041,
          0.0295,
          0.0205,
          0.0365,
          0.0335,
          0.0315,
          0.0315,
          0.0335,
          0.0365,
          0.035,
          0.039,
          0.0355,
          0.0225,
          0.0315,
          0.0315,
          0.03,
          0.0245
         ]
        },
        {
         "mode": "lines",
         "name": "id-583144",
         "type": "scatter",
         "x": [
          "2011-10-07T17:06:59.303000",
          "2011-10-07T17:46:20.170000",
          "2011-10-07T18:25:56.309500",
          "2011-10-07T19:09:05.087500",
          "2011-10-07T19:57:44.870000",
          "2011-10-07T20:48:02.664500",
          "2011-10-07T21:39:09.397500",
          "2011-10-07T22:28:48.917500",
          "2011-10-07T23:19:30.320500",
          "2011-10-08T00:11:12.712500",
          "2011-10-08T01:10:18.729000"
         ],
         "y": [
          0.0565,
          0.061,
          0.0535,
          0.052,
          0.055,
          0.055,
          0.044,
          0.04,
          0.046,
          0.0485,
          0.045
         ]
        },
        {
         "mode": "lines",
         "name": "id-583364",
         "type": "scatter",
         "x": [
          "2011-10-07T17:33:01.200000",
          "2011-10-07T18:12:27.522500",
          "2011-10-07T18:54:45.467000",
          "2011-10-07T19:41:27.491500",
          "2011-10-07T20:30:32.261000",
          "2011-10-07T21:22:50.721000",
          "2011-10-07T22:13:14.417500",
          "2011-10-07T23:03:05.651500",
          "2011-10-07T23:54:48.538000",
          "2011-10-08T00:51:30.863500"
         ],
         "y": [
          0.0725,
          0.062,
          0.0655,
          0.049,
          0.0615,
          0.055,
          0.058,
          0.05,
          0.0525,
          0.041
         ]
        },
        {
         "mode": "lines",
         "name": "id-583545",
         "type": "scatter",
         "x": [
          "2011-10-07T17:46:23.098000",
          "2011-10-07T18:27:22.728500",
          "2011-10-07T19:13:13.793000",
          "2011-10-07T20:01:54.204500",
          "2011-10-07T20:52:16.759000",
          "2011-10-07T21:42:52.089000",
          "2011-10-07T22:32:23.614000",
          "2011-10-07T23:22:56.245000",
          "2011-10-08T00:15:32.396500",
          "2011-10-08T01:14:32.506500"
         ],
         "y": [
          0.116,
          0.1005,
          0.091,
          0.1015,
          0.0905,
          0.081,
          0.0855,
          0.0755,
          0.076,
          0.065
         ]
        },
        {
         "mode": "lines",
         "name": "id-583553",
         "type": "scatter",
         "x": [
          "2011-10-07T18:07:51.358500",
          "2011-10-07T18:49:54.552500",
          "2011-10-07T19:35:57.717000",
          "2011-10-07T20:23:35.223000",
          "2011-10-07T21:15:00.895500",
          "2011-10-07T22:07:04.752000",
          "2011-10-07T22:58:58.726500",
          "2011-10-07T23:49:36.061000",
          "2011-10-08T00:44:59.300500"
         ],
         "y": [
          0.1095,
          0.1005,
          0.089,
          0.106,
          0.1015,
          0.085,
          0.0745,
          0.0885,
          0.0875
         ]
        },
        {
         "mode": "lines",
         "name": "id-583691",
         "type": "scatter",
         "x": [
          "2011-10-07T18:33:12.163500",
          "2011-10-07T19:17:03.519000",
          "2011-10-07T20:03:31.600500",
          "2011-10-07T20:52:07.877500",
          "2011-10-07T21:43:21.313500",
          "2011-10-07T22:34:03.731500",
          "2011-10-07T23:25:19.304000",
          "2011-10-08T00:18:30.726000",
          "2011-10-08T01:15:38.450500"
         ],
         "y": [
          0.0855,
          0.0725,
          0.078,
          0.074,
          0.069,
          0.063,
          0.0725,
          0.0695,
          0.05
         ]
        },
        {
         "mode": "lines",
         "name": "id-583713",
         "type": "scatter",
         "x": [
          "2011-10-07T18:16:38.378000",
          "2011-10-07T18:59:25.842000",
          "2011-10-07T19:47:03.413500",
          "2011-10-07T20:34:43.678500",
          "2011-10-07T21:25:53.503000",
          "2011-10-07T22:16:48.591500",
          "2011-10-07T23:05:46.431500",
          "2011-10-07T23:56:33.292500",
          "2011-10-08T00:53:07.248500"
         ],
         "y": [
          0.0445,
          0.039,
          0.038,
          0.045,
          0.0385,
          0.038,
          0.034,
          0.037,
          0.037
         ]
        },
        {
         "mode": "lines",
         "name": "id-583861",
         "type": "scatter",
         "x": [
          "2011-10-07T19:27:31.061000",
          "2011-10-07T20:14:55.534000",
          "2011-10-07T21:05:56.279500",
          "2011-10-07T21:56:58.158500",
          "2011-10-07T22:46:08.182500",
          "2011-10-07T23:37:52.587000",
          "2011-10-08T00:31:53.124500"
         ],
         "y": [
          0.043,
          0.035,
          0.0315,
          0.04,
          0.0295,
          0.024,
          0.0345
         ]
        },
        {
         "mode": "lines",
         "name": "id-583970",
         "type": "scatter",
         "x": [
          "2011-10-07T20:00:59.420000",
          "2011-10-07T20:49:08.550000",
          "2011-10-07T21:39:24.205500",
          "2011-10-07T22:29:44.026000",
          "2011-10-07T23:19:37.936500",
          "2011-10-08T00:12:09.538000",
          "2011-10-08T01:11:39.629500"
         ],
         "y": [
          0.0425,
          0.052,
          0.0425,
          0.047,
          0.039,
          0.03,
          0.027
         ]
        },
        {
         "mode": "lines",
         "name": "id-584029",
         "type": "scatter",
         "x": [
          "2011-10-07T20:10:18.116000",
          "2011-10-07T20:59:43.110500",
          "2011-10-07T21:50:18.849500",
          "2011-10-07T22:39:29.869500",
          "2011-10-07T23:31:46.891500",
          "2011-10-08T00:25:20.817500"
         ],
         "y": [
          0.0225,
          0.0275,
          0.0285,
          0.028,
          0.024,
          0.027
         ]
        },
        {
         "mode": "lines",
         "name": "id-584199",
         "type": "scatter",
         "x": [
          "2011-10-07T21:00:41.584000",
          "2011-10-07T21:51:07.109000",
          "2011-10-07T22:43:17.179000",
          "2011-10-07T23:36:47.383000",
          "2011-10-08T00:34:43.398500"
         ],
         "y": [
          0.0635,
          0.077,
          0.0565,
          0.0465,
          0.042
         ]
        },
        {
         "mode": "lines",
         "name": "id-584221",
         "type": "scatter",
         "x": [
          "2011-10-07T20:56:17.100000",
          "2011-10-07T21:47:35.485000",
          "2011-10-07T22:38:31.091000",
          "2011-10-07T23:29:59.299500",
          "2011-10-08T00:23:36.475000",
          "2011-10-08T01:22:20.138500"
         ],
         "y": [
          0.0605,
          0.0525,
          0.048,
          0.0565,
          0.0485,
          0.0445
         ]
        },
        {
         "mode": "lines",
         "name": "id-584274",
         "type": "scatter",
         "x": [
          "2011-10-07T22:14:07.577000",
          "2011-10-07T23:05:11.442500",
          "2011-10-07T23:57:50.750000",
          "2011-10-08T00:54:20.516500"
         ],
         "y": [
          0.042,
          0.0415,
          0.0425,
          0.035
         ]
        },
        {
         "mode": "lines",
         "name": "id-584443",
         "type": "scatter",
         "x": [
          "2011-10-07T22:55:40.969500",
          "2011-10-07T23:46:06.832000",
          "2011-10-08T00:40:56.770000"
         ],
         "y": [
          0.0885,
          0.086,
          0.07
         ]
        },
        {
         "mode": "lines",
         "name": "id-584506",
         "type": "scatter",
         "x": [
          "2011-10-07T22:02:33.230000",
          "2011-10-07T22:53:12.124500",
          "2011-10-07T23:45:14.809500",
          "2011-10-08T00:41:13.491500"
         ],
         "y": [
          0.037,
          0.038,
          0.037,
          0.027
         ]
        },
        {
         "mode": "lines",
         "name": "id-584696",
         "type": "scatter",
         "x": [
          "2011-10-07T22:33:57.979000",
          "2011-10-07T23:25:39.576000",
          "2011-10-08T00:18:11.403500",
          "2011-10-08T01:15:44.500500"
         ],
         "y": [
          0.022,
          0.027,
          0.0255,
          0.025
         ]
        },
        {
         "mode": "lines",
         "name": "id-584712",
         "type": "scatter",
         "x": [
          "2011-10-07T23:23:15.234000",
          "2011-10-08T00:16:56.146000",
          "2011-10-08T01:17:50.976000"
         ],
         "y": [
          0.1205,
          0.0995,
          0.096
         ]
        },
        {
         "mode": "lines",
         "name": "id-584898",
         "type": "scatter",
         "x": [
          "2011-10-08T00:32:26.127000"
         ],
         "y": [
          0.0425
         ]
        },
        {
         "mode": "lines",
         "name": "id-585035",
         "type": "scatter",
         "x": [
          "2011-10-08T00:00:13.014500",
          "2011-10-08T00:56:29.917000"
         ],
         "y": [
          0.032,
          0.03
         ]
        },
        {
         "mode": "lines",
         "name": "id-585212",
         "type": "scatter",
         "x": [
          "2011-10-08T00:42:11.834000"
         ],
         "y": [
          0.058
         ]
        },
        {
         "mode": "lines",
         "name": "id-585251",
         "type": "scatter",
         "x": [
          "2011-10-08T00:36:02.432500"
         ],
         "y": [
          0.0215
         ]
        },
        {
         "mode": "lines",
         "name": "id-585487",
         "type": "scatter",
         "x": [],
         "y": []
        },
        {
         "mode": "lines",
         "name": "id-585495",
         "type": "scatter",
         "x": [],
         "y": []
        },
        {
         "mode": "lines",
         "name": "id-585795",
         "type": "scatter",
         "x": [],
         "y": []
        }
       ],
       "layout": {
        "template": {
         "data": {
          "bar": [
           {
            "error_x": {
             "color": "#2a3f5f"
            },
            "error_y": {
             "color": "#2a3f5f"
            },
            "marker": {
             "line": {
              "color": "#E5ECF6",
              "width": 0.5
             },
             "pattern": {
              "fillmode": "overlay",
              "size": 10,
              "solidity": 0.2
             }
            },
            "type": "bar"
           }
          ],
          "barpolar": [
           {
            "marker": {
             "line": {
              "color": "#E5ECF6",
              "width": 0.5
             },
             "pattern": {
              "fillmode": "overlay",
              "size": 10,
              "solidity": 0.2
             }
            },
            "type": "barpolar"
           }
          ],
          "carpet": [
           {
            "aaxis": {
             "endlinecolor": "#2a3f5f",
             "gridcolor": "white",
             "linecolor": "white",
             "minorgridcolor": "white",
             "startlinecolor": "#2a3f5f"
            },
            "baxis": {
             "endlinecolor": "#2a3f5f",
             "gridcolor": "white",
             "linecolor": "white",
             "minorgridcolor": "white",
             "startlinecolor": "#2a3f5f"
            },
            "type": "carpet"
           }
          ],
          "choropleth": [
           {
            "colorbar": {
             "outlinewidth": 0,
             "ticks": ""
            },
            "type": "choropleth"
           }
          ],
          "contour": [
           {
            "colorbar": {
             "outlinewidth": 0,
             "ticks": ""
            },
            "colorscale": [
             [
              0,
              "#0d0887"
             ],
             [
              0.1111111111111111,
              "#46039f"
             ],
             [
              0.2222222222222222,
              "#7201a8"
             ],
             [
              0.3333333333333333,
              "#9c179e"
             ],
             [
              0.4444444444444444,
              "#bd3786"
             ],
             [
              0.5555555555555556,
              "#d8576b"
             ],
             [
              0.6666666666666666,
              "#ed7953"
             ],
             [
              0.7777777777777778,
              "#fb9f3a"
             ],
             [
              0.8888888888888888,
              "#fdca26"
             ],
             [
              1,
              "#f0f921"
             ]
            ],
            "type": "contour"
           }
          ],
          "contourcarpet": [
           {
            "colorbar": {
             "outlinewidth": 0,
             "ticks": ""
            },
            "type": "contourcarpet"
           }
          ],
          "heatmap": [
           {
            "colorbar": {
             "outlinewidth": 0,
             "ticks": ""
            },
            "colorscale": [
             [
              0,
              "#0d0887"
             ],
             [
              0.1111111111111111,
              "#46039f"
             ],
             [
              0.2222222222222222,
              "#7201a8"
             ],
             [
              0.3333333333333333,
              "#9c179e"
             ],
             [
              0.4444444444444444,
              "#bd3786"
             ],
             [
              0.5555555555555556,
              "#d8576b"
             ],
             [
              0.6666666666666666,
              "#ed7953"
             ],
             [
              0.7777777777777778,
              "#fb9f3a"
             ],
             [
              0.8888888888888888,
              "#fdca26"
             ],
             [
              1,
              "#f0f921"
             ]
            ],
            "type": "heatmap"
           }
          ],
          "heatmapgl": [
           {
            "colorbar": {
             "outlinewidth": 0,
             "ticks": ""
            },
            "colorscale": [
             [
              0,
              "#0d0887"
             ],
             [
              0.1111111111111111,
              "#46039f"
             ],
             [
              0.2222222222222222,
              "#7201a8"
             ],
             [
              0.3333333333333333,
              "#9c179e"
             ],
             [
              0.4444444444444444,
              "#bd3786"
             ],
             [
              0.5555555555555556,
              "#d8576b"
             ],
             [
              0.6666666666666666,
              "#ed7953"
             ],
             [
              0.7777777777777778,
              "#fb9f3a"
             ],
             [
              0.8888888888888888,
              "#fdca26"
             ],
             [
              1,
              "#f0f921"
             ]
            ],
            "type": "heatmapgl"
           }
          ],
          "histogram": [
           {
            "marker": {
             "pattern": {
              "fillmode": "overlay",
              "size": 10,
              "solidity": 0.2
             }
            },
            "type": "histogram"
           }
          ],
          "histogram2d": [
           {
            "colorbar": {
             "outlinewidth": 0,
             "ticks": ""
            },
            "colorscale": [
             [
              0,
              "#0d0887"
             ],
             [
              0.1111111111111111,
              "#46039f"
             ],
             [
              0.2222222222222222,
              "#7201a8"
             ],
             [
              0.3333333333333333,
              "#9c179e"
             ],
             [
              0.4444444444444444,
              "#bd3786"
             ],
             [
              0.5555555555555556,
              "#d8576b"
             ],
             [
              0.6666666666666666,
              "#ed7953"
             ],
             [
              0.7777777777777778,
              "#fb9f3a"
             ],
             [
              0.8888888888888888,
              "#fdca26"
             ],
             [
              1,
              "#f0f921"
             ]
            ],
            "type": "histogram2d"
           }
          ],
          "histogram2dcontour": [
           {
            "colorbar": {
             "outlinewidth": 0,
             "ticks": ""
            },
            "colorscale": [
             [
              0,
              "#0d0887"
             ],
             [
              0.1111111111111111,
              "#46039f"
             ],
             [
              0.2222222222222222,
              "#7201a8"
             ],
             [
              0.3333333333333333,
              "#9c179e"
             ],
             [
              0.4444444444444444,
              "#bd3786"
             ],
             [
              0.5555555555555556,
              "#d8576b"
             ],
             [
              0.6666666666666666,
              "#ed7953"
             ],
             [
              0.7777777777777778,
              "#fb9f3a"
             ],
             [
              0.8888888888888888,
              "#fdca26"
             ],
             [
              1,
              "#f0f921"
             ]
            ],
            "type": "histogram2dcontour"
           }
          ],
          "mesh3d": [
           {
            "colorbar": {
             "outlinewidth": 0,
             "ticks": ""
            },
            "type": "mesh3d"
           }
          ],
          "parcoords": [
           {
            "line": {
             "colorbar": {
              "outlinewidth": 0,
              "ticks": ""
             }
            },
            "type": "parcoords"
           }
          ],
          "pie": [
           {
            "automargin": true,
            "type": "pie"
           }
          ],
          "scatter": [
           {
            "marker": {
             "colorbar": {
              "outlinewidth": 0,
              "ticks": ""
             }
            },
            "type": "scatter"
           }
          ],
          "scatter3d": [
           {
            "line": {
             "colorbar": {
              "outlinewidth": 0,
              "ticks": ""
             }
            },
            "marker": {
             "colorbar": {
              "outlinewidth": 0,
              "ticks": ""
             }
            },
            "type": "scatter3d"
           }
          ],
          "scattercarpet": [
           {
            "marker": {
             "colorbar": {
              "outlinewidth": 0,
              "ticks": ""
             }
            },
            "type": "scattercarpet"
           }
          ],
          "scattergeo": [
           {
            "marker": {
             "colorbar": {
              "outlinewidth": 0,
              "ticks": ""
             }
            },
            "type": "scattergeo"
           }
          ],
          "scattergl": [
           {
            "marker": {
             "colorbar": {
              "outlinewidth": 0,
              "ticks": ""
             }
            },
            "type": "scattergl"
           }
          ],
          "scattermapbox": [
           {
            "marker": {
             "colorbar": {
              "outlinewidth": 0,
              "ticks": ""
             }
            },
            "type": "scattermapbox"
           }
          ],
          "scatterpolar": [
           {
            "marker": {
             "colorbar": {
              "outlinewidth": 0,
              "ticks": ""
             }
            },
            "type": "scatterpolar"
           }
          ],
          "scatterpolargl": [
           {
            "marker": {
             "colorbar": {
              "outlinewidth": 0,
              "ticks": ""
             }
            },
            "type": "scatterpolargl"
           }
          ],
          "scatterternary": [
           {
            "marker": {
             "colorbar": {
              "outlinewidth": 0,
              "ticks": ""
             }
            },
            "type": "scatterternary"
           }
          ],
          "surface": [
           {
            "colorbar": {
             "outlinewidth": 0,
             "ticks": ""
            },
            "colorscale": [
             [
              0,
              "#0d0887"
             ],
             [
              0.1111111111111111,
              "#46039f"
             ],
             [
              0.2222222222222222,
              "#7201a8"
             ],
             [
              0.3333333333333333,
              "#9c179e"
             ],
             [
              0.4444444444444444,
              "#bd3786"
             ],
             [
              0.5555555555555556,
              "#d8576b"
             ],
             [
              0.6666666666666666,
              "#ed7953"
             ],
             [
              0.7777777777777778,
              "#fb9f3a"
             ],
             [
              0.8888888888888888,
              "#fdca26"
             ],
             [
              1,
              "#f0f921"
             ]
            ],
            "type": "surface"
           }
          ],
          "table": [
           {
            "cells": {
             "fill": {
              "color": "#EBF0F8"
             },
             "line": {
              "color": "white"
             }
            },
            "header": {
             "fill": {
              "color": "#C8D4E3"
             },
             "line": {
              "color": "white"
             }
            },
            "type": "table"
           }
          ]
         },
         "layout": {
          "annotationdefaults": {
           "arrowcolor": "#2a3f5f",
           "arrowhead": 0,
           "arrowwidth": 1
          },
          "autotypenumbers": "strict",
          "coloraxis": {
           "colorbar": {
            "outlinewidth": 0,
            "ticks": ""
           }
          },
          "colorscale": {
           "diverging": [
            [
             0,
             "#8e0152"
            ],
            [
             0.1,
             "#c51b7d"
            ],
            [
             0.2,
             "#de77ae"
            ],
            [
             0.3,
             "#f1b6da"
            ],
            [
             0.4,
             "#fde0ef"
            ],
            [
             0.5,
             "#f7f7f7"
            ],
            [
             0.6,
             "#e6f5d0"
            ],
            [
             0.7,
             "#b8e186"
            ],
            [
             0.8,
             "#7fbc41"
            ],
            [
             0.9,
             "#4d9221"
            ],
            [
             1,
             "#276419"
            ]
           ],
           "sequential": [
            [
             0,
             "#0d0887"
            ],
            [
             0.1111111111111111,
             "#46039f"
            ],
            [
             0.2222222222222222,
             "#7201a8"
            ],
            [
             0.3333333333333333,
             "#9c179e"
            ],
            [
             0.4444444444444444,
             "#bd3786"
            ],
            [
             0.5555555555555556,
             "#d8576b"
            ],
            [
             0.6666666666666666,
             "#ed7953"
            ],
            [
             0.7777777777777778,
             "#fb9f3a"
            ],
            [
             0.8888888888888888,
             "#fdca26"
            ],
            [
             1,
             "#f0f921"
            ]
           ],
           "sequentialminus": [
            [
             0,
             "#0d0887"
            ],
            [
             0.1111111111111111,
             "#46039f"
            ],
            [
             0.2222222222222222,
             "#7201a8"
            ],
            [
             0.3333333333333333,
             "#9c179e"
            ],
            [
             0.4444444444444444,
             "#bd3786"
            ],
            [
             0.5555555555555556,
             "#d8576b"
            ],
            [
             0.6666666666666666,
             "#ed7953"
            ],
            [
             0.7777777777777778,
             "#fb9f3a"
            ],
            [
             0.8888888888888888,
             "#fdca26"
            ],
            [
             1,
             "#f0f921"
            ]
           ]
          },
          "colorway": [
           "#636efa",
           "#EF553B",
           "#00cc96",
           "#ab63fa",
           "#FFA15A",
           "#19d3f3",
           "#FF6692",
           "#B6E880",
           "#FF97FF",
           "#FECB52"
          ],
          "font": {
           "color": "#2a3f5f"
          },
          "geo": {
           "bgcolor": "white",
           "lakecolor": "white",
           "landcolor": "#E5ECF6",
           "showlakes": true,
           "showland": true,
           "subunitcolor": "white"
          },
          "hoverlabel": {
           "align": "left"
          },
          "hovermode": "closest",
          "mapbox": {
           "style": "light"
          },
          "paper_bgcolor": "white",
          "plot_bgcolor": "#E5ECF6",
          "polar": {
           "angularaxis": {
            "gridcolor": "white",
            "linecolor": "white",
            "ticks": ""
           },
           "bgcolor": "#E5ECF6",
           "radialaxis": {
            "gridcolor": "white",
            "linecolor": "white",
            "ticks": ""
           }
          },
          "scene": {
           "xaxis": {
            "backgroundcolor": "#E5ECF6",
            "gridcolor": "white",
            "gridwidth": 2,
            "linecolor": "white",
            "showbackground": true,
            "ticks": "",
            "zerolinecolor": "white"
           },
           "yaxis": {
            "backgroundcolor": "#E5ECF6",
            "gridcolor": "white",
            "gridwidth": 2,
            "linecolor": "white",
            "showbackground": true,
            "ticks": "",
            "zerolinecolor": "white"
           },
           "zaxis": {
            "backgroundcolor": "#E5ECF6",
            "gridcolor": "white",
            "gridwidth": 2,
            "linecolor": "white",
            "showbackground": true,
            "ticks": "",
            "zerolinecolor": "white"
           }
          },
          "shapedefaults": {
           "line": {
            "color": "#2a3f5f"
           }
          },
          "ternary": {
           "aaxis": {
            "gridcolor": "white",
            "linecolor": "white",
            "ticks": ""
           },
           "baxis": {
            "gridcolor": "white",
            "linecolor": "white",
            "ticks": ""
           },
           "bgcolor": "#E5ECF6",
           "caxis": {
            "gridcolor": "white",
            "linecolor": "white",
            "ticks": ""
           }
          },
          "title": {
           "x": 0.05
          },
          "xaxis": {
           "automargin": true,
           "gridcolor": "white",
           "linecolor": "white",
           "ticks": "",
           "title": {
            "standoff": 15
           },
           "zerolinecolor": "white",
           "zerolinewidth": 2
          },
          "yaxis": {
           "automargin": true,
           "gridcolor": "white",
           "linecolor": "white",
           "ticks": "",
           "title": {
            "standoff": 15
           },
           "zerolinecolor": "white",
           "zerolinewidth": 2
          }
         }
        }
       }
      },
      "text/html": [
       "<div>                            <div id=\"9a801bda-8b7c-49c4-859d-004701d8b842\" class=\"plotly-graph-div\" style=\"height:525px; width:100%;\"></div>            <script type=\"text/javascript\">                require([\"plotly\"], function(Plotly) {                    window.PLOTLYENV=window.PLOTLYENV || {};                                    if (document.getElementById(\"9a801bda-8b7c-49c4-859d-004701d8b842\")) {                    Plotly.newPlot(                        \"9a801bda-8b7c-49c4-859d-004701d8b842\",                        [{\"mode\":\"lines\",\"name\":\"id-569350\",\"type\":\"scatter\",\"x\":[],\"y\":[]},{\"mode\":\"lines\",\"name\":\"id-569364\",\"type\":\"scatter\",\"x\":[\"2011-10-06T02:21:41.045000\",\"2011-10-06T05:28:27.832500\",\"2011-10-06T06:42:42.112000\",\"2011-10-06T08:33:49.650000\",\"2011-10-06T11:17:17.430000\",\"2011-10-06T13:28:01.789500\",\"2011-10-06T14:45:21.871500\"],\"y\":[0.02,0.023,0.02,0.021,0.018,0.02,0.0245]},{\"mode\":\"lines\",\"name\":\"id-569479\",\"type\":\"scatter\",\"x\":[\"2011-10-06T02:21:08.104000\",\"2011-10-06T05:27:00.367000\",\"2011-10-06T06:39:53.274000\",\"2011-10-06T08:27:39.087000\",\"2011-10-06T11:08:39.311500\",\"2011-10-06T13:25:39.576000\",\"2011-10-06T14:45:10.984000\",\"2011-10-06T15:39:53.663000\",\"2011-10-06T16:26:18.294000\",\"2011-10-06T17:06:50.323000\",\"2011-10-06T17:45:04.978000\",\"2011-10-06T18:24:00.391000\",\"2011-10-06T19:02:37.035500\",\"2011-10-06T19:39:40.294000\",\"2011-10-06T20:16:43.251500\",\"2011-10-06T20:56:04.054000\",\"2011-10-06T21:38:04.454500\",\"2011-10-06T22:17:49.485500\",\"2011-10-06T22:57:34.161000\",\"2011-10-06T23:42:11.762500\",\"2011-10-07T00:30:17.961500\"],\"y\":[0.0285,0.0355,0.0305,0.026,0.0265,0.0305,0.028,0.0255,0.025,0.028,0.029,0.028,0.0245,0.03,0.0275,0.025,0.022,0.0265,0.025,0.021,0.0265]},{\"mode\":\"lines\",\"name\":\"id-571077\",\"type\":\"scatter\",\"x\":[\"2011-10-06T02:21:49.643000\",\"2011-10-06T05:27:20.765000\",\"2011-10-06T06:43:59.798500\",\"2011-10-06T08:36:29.720000\",\"2011-10-06T11:23:06.485000\",\"2011-10-06T13:33:37.239000\",\"2011-10-06T14:47:00.790500\",\"2011-10-06T15:41:47.337000\",\"2011-10-06T16:27:37.317000\",\"2011-10-06T17:08:36.882500\"],\"y\":[0.0215,0.024,0.02,0.02,0.013,0.025,0.022,0.016,0.0145,0.022]},{\"mode\":\"lines\",\"name\":\"id-571566\",\"type\":\"scatter\",\"x\":[\"2011-10-06T22:30:45.998500\",\"2011-10-06T23:12:21.075000\",\"2011-10-06T23:59:13.811500\",\"2011-10-07T00:50:18.758000\",\"2011-10-07T01:39:16.346000\",\"2011-10-07T02:25:12.883500\",\"2011-10-07T03:09:13.558500\",\"2011-10-07T03:55:02.099000\",\"2011-10-07T04:45:50.896000\",\"2011-10-07T05:44:01.187000\",\"2011-10-07T07:02:14.197000\",\"2011-10-07T09:08:31.358500\",\"2011-10-07T11:56:33.205000\",\"2011-10-07T13:40:23.640000\",\"2011-10-07T14:41:52.465500\",\"2011-10-07T15:33:29.150500\",\"2011-10-07T16:18:09.564000\",\"2011-10-07T16:57:12.178000\",\"2011-10-07T17:37:00.055500\",\"2011-10-07T18:16:07.875000\",\"2011-10-07T19:00:10.851000\",\"2011-10-07T19:47:15.077000\",\"2011-10-07T20:36:51.027000\",\"2011-10-07T21:28:10.979000\",\"2011-10-07T22:18:32.585500\"],\"y\":[0.055,0.067,0.0575,0.06,0.0595,0.054,0.059,0.065,0.056,0.055,0.0415,0.039,0.0275,0.0525,0.051,0.051,0.0565,0.056,0.0505,0.0515,0.042,0.046,0.049,0.055,0.0475]},{\"mode\":\"lines\",\"name\":\"id-571691\",\"type\":\"scatter\",\"x\":[\"2011-10-06T20:48:33.961000\",\"2011-10-06T21:27:40.220500\",\"2011-10-06T22:07:19.857500\",\"2011-10-06T22:47:21.230000\",\"2011-10-06T23:30:46.691500\",\"2011-10-07T00:18:08.539500\",\"2011-10-07T01:08:39.033000\",\"2011-10-07T01:55:13.006500\",\"2011-10-07T02:39:38.683500\",\"2011-10-07T03:23:23.208500\",\"2011-10-07T04:08:32.599000\",\"2011-10-07T04:57:57.121000\",\"2011-10-07T06:00:22.239000\",\"2011-10-07T07:29:16.842000\",\"2011-10-07T09:51:22.885500\",\"2011-10-07T12:28:28.727000\",\"2011-10-07T13:57:53.960000\",\"2011-10-07T14:56:14.571500\",\"2011-10-07T15:46:38.850000\",\"2011-10-07T16:29:29.645000\",\"2011-10-07T17:08:55.851500\",\"2011-10-07T17:48:56.503000\",\"2011-10-07T18:29:38.952000\",\"2011-10-07T19:13:35.850000\",\"2011-10-07T20:01:12.817500\",\"2011-10-07T20:51:13.291000\"],\"y\":[0.0195,0.018,0.018,0.018,0.021,0.011,0.013,0.012,0.02,0.0155,0.013,0.0165,0.0205,0.016,0.0105,0.0095,0.0165,0.0215,0.014,0.0175,0.017,0.0135,0.0125,0.014,0.012,0.014]},{\"mode\":\"lines\",\"name\":\"id-572076\",\"type\":\"scatter\",\"x\":[\"2011-10-06T02:25:36.098000\",\"2011-10-06T05:28:21.795000\",\"2011-10-06T06:44:53.407000\",\"2011-10-06T08:47:02.189000\",\"2011-10-06T11:40:40.189000\",\"2011-10-06T13:41:25.614500\"],\"y\":[0.011,0.013,0.0115,0.01,0.01,0.0055]},{\"mode\":\"lines\",\"name\":\"id-572219\",\"type\":\"scatter\",\"x\":[\"2011-10-06T02:23:17.814500\",\"2011-10-06T05:28:44.947000\",\"2011-10-06T06:45:33.237000\",\"2011-10-06T08:37:48.537000\",\"2011-10-06T11:26:03.998000\"],\"y\":[0.0385,0.042,0.029,0.03,0.023]},{\"mode\":\"lines\",\"name\":\"id-572306\",\"type\":\"scatter\",\"x\":[\"2011-10-06T02:26:04.176500\",\"2011-10-06T05:28:40.511500\",\"2011-10-06T06:43:00.766000\",\"2011-10-06T08:38:46.521500\",\"2011-10-06T11:30:07.902000\",\"2011-10-06T13:40:33.848000\",\"2011-10-06T14:51:54.000500\",\"2011-10-06T15:44:39.075500\",\"2011-10-06T16:30:54.869000\",\"2011-10-06T17:10:34.523000\",\"2011-10-06T17:47:59.113000\",\"2011-10-06T18:27:11.378500\",\"2011-10-06T19:04:55.533000\",\"2011-10-06T19:41:27.738000\",\"2011-10-06T20:18:41.516000\",\"2011-10-06T20:58:26.741500\",\"2011-10-06T21:38:42.271500\",\"2011-10-06T22:20:17.589000\",\"2011-10-06T23:04:04.163000\",\"2011-10-06T23:50:02.315500\",\"2011-10-07T00:40:07.503500\"],\"y\":[0.029,0.0285,0.0295,0.0295,0.027,0.027,0.0265,0.0335,0.025,0.0265,0.029,0.036,0.0325,0.025,0.0295,0.0275,0.0215,0.03,0.017,0.0245,0.0195]},{\"mode\":\"lines\",\"name\":\"id-572615\",\"type\":\"scatter\",\"x\":[\"2011-10-06T02:21:29.292000\",\"2011-10-06T05:28:29.302500\",\"2011-10-06T06:42:47.424000\",\"2011-10-06T08:33:58.389500\",\"2011-10-06T11:22:25.965000\",\"2011-10-06T13:34:18.707500\"],\"y\":[0.033,0.0405,0.029,0.0225,0.0135,0.0225]},{\"mode\":\"lines\",\"name\":\"id-572770\",\"type\":\"scatter\",\"x\":[\"2011-10-06T02:26:24.336000\",\"2011-10-06T05:27:59.035000\",\"2011-10-06T06:41:24.757000\",\"2011-10-06T08:33:00.847500\",\"2011-10-06T11:16:30.743500\",\"2011-10-06T13:34:16.448000\",\"2011-10-06T14:48:52.018000\",\"2011-10-06T15:41:15.099500\",\"2011-10-06T16:27:13.515000\",\"2011-10-06T17:07:42.128000\",\"2011-10-06T17:45:12.505000\",\"2011-10-06T18:23:12.856000\",\"2011-10-06T19:01:21.231000\",\"2011-10-06T19:38:25.376000\",\"2011-10-06T20:15:27.536500\",\"2011-10-06T20:53:49.638500\",\"2011-10-06T21:34:51.322000\",\"2011-10-06T22:14:43.377000\",\"2011-10-06T22:56:10.477500\",\"2011-10-06T23:40:27.736000\",\"2011-10-07T00:27:53.138500\",\"2011-10-07T01:16:57.031500\"],\"y\":[0.0205,0.029,0.0255,0.0225,0.027,0.0345,0.028,0.0355,0.028,0.032,0.034,0.0245,0.028,0.026,0.027,0.0295,0.031,0.0295,0.0225,0.02,0.029,0.0215]},{\"mode\":\"lines\",\"name\":\"id-572780\",\"type\":\"scatter\",\"x\":[\"2011-10-06T21:42:06.465500\",\"2011-10-06T22:24:06.196000\",\"2011-10-06T23:06:37.660000\",\"2011-10-06T23:50:44.783500\",\"2011-10-07T00:39:36.576500\",\"2011-10-07T01:29:20.617000\",\"2011-10-07T02:13:53.846500\",\"2011-10-07T02:58:21.244500\",\"2011-10-07T03:43:19.827500\",\"2011-10-07T04:29:57.805500\",\"2011-10-07T05:23:34.098000\",\"2011-10-07T06:33:39.323500\",\"2011-10-07T08:17:48.372500\",\"2011-10-07T10:57:49.115500\",\"2011-10-07T13:09:38.385000\",\"2011-10-07T14:21:51.216000\",\"2011-10-07T15:15:22.132500\",\"2011-10-07T16:02:56.999000\",\"2011-10-07T16:43:21.119000\",\"2011-10-07T17:21:01.418500\",\"2011-10-07T18:00:22.027500\",\"2011-10-07T18:41:24.004500\",\"2011-10-07T19:26:27.716000\"],\"y\":[0.034,0.028,0.022,0.0195,0.024,0.0255,0.0155,0.0225,0.0175,0.023,0.0175,0.0245,0.0185,0.0155,0.021,0.016,0.0225,0.0195,0.022,0.023,0.0215,0.018,0.018]},{\"mode\":\"lines\",\"name\":\"id-572797\",\"type\":\"scatter\",\"x\":[],\"y\":[]},{\"mode\":\"lines\",\"name\":\"id-574160\",\"type\":\"scatter\",\"x\":[\"2011-10-06T02:21:03.771500\",\"2011-10-06T05:27:23.611500\",\"2011-10-06T06:43:16.577500\",\"2011-10-06T08:38:01.996500\",\"2011-10-06T11:26:45.532500\",\"2011-10-06T13:34:52.249500\"],\"y\":[0.025,0.022,0.025,0.0195,0.02,0.0215]},{\"mode\":\"lines\",\"name\":\"id-574244\",\"type\":\"scatter\",\"x\":[\"2011-10-06T02:22:38.578500\",\"2011-10-06T05:26:50.694000\",\"2011-10-06T06:37:36.415500\",\"2011-10-06T08:28:19.915000\",\"2011-10-06T11:13:31.173000\",\"2011-10-06T13:25:56.566000\",\"2011-10-06T14:43:27.751500\",\"2011-10-06T15:37:29.509000\",\"2011-10-06T16:23:31.184000\"],\"y\":[0.019,0.024,0.02,0.02,0.0185,0.022,0.016,0.0235,0.019]},{\"mode\":\"lines\",\"name\":\"id-574512\",\"type\":\"scatter\",\"x\":[\"2011-10-06T02:25:25.441500\",\"2011-10-06T05:28:33.803000\",\"2011-10-06T06:42:00.891500\",\"2011-10-06T08:29:46.910500\",\"2011-10-06T11:19:03.621500\",\"2011-10-06T13:32:22.127500\",\"2011-10-06T14:50:25.116000\",\"2011-10-06T15:45:40.055500\",\"2011-10-06T16:32:36.713000\",\"2011-10-06T17:12:46.757000\",\"2011-10-06T17:51:13.357500\",\"2011-10-06T18:30:49.800500\",\"2011-10-06T19:08:32.543500\",\"2011-10-06T19:45:54.459000\",\"2011-10-06T20:22:51.494500\",\"2011-10-06T21:01:52.790000\"],\"y\":[0.0545,0.064,0.053,0.0445,0.0385,0.0565,0.066,0.061,0.0625,0.0655,0.061,0.054,0.0565,0.0605,0.0615,0.057]},{\"mode\":\"lines\",\"name\":\"id-574541\",\"type\":\"scatter\",\"x\":[\"2011-10-06T02:21:04.589500\",\"2011-10-06T05:27:33.184500\",\"2011-10-06T06:41:44.924000\",\"2011-10-06T08:33:45.902500\",\"2011-10-06T11:22:11.045500\",\"2011-10-06T13:32:41.868500\",\"2011-10-06T14:48:18.528500\",\"2011-10-06T15:42:09.062000\",\"2011-10-06T16:27:15.268500\",\"2011-10-06T17:05:34.738500\",\"2011-10-06T17:42:28.832500\",\"2011-10-06T18:20:07.304500\",\"2011-10-06T18:58:23.948500\",\"2011-10-06T19:35:07.359000\",\"2011-10-06T20:13:33.878500\"],\"y\":[0.0245,0.021,0.017,0.0115,0.011,0.018,0.0265,0.0175,0.019,0.0215,0.025,0.0255,0.0255,0.0185,0.0255]},{\"mode\":\"lines\",\"name\":\"id-574791\",\"type\":\"scatter\",\"x\":[\"2011-10-06T16:18:51.644500\",\"2011-10-06T17:01:10.068500\",\"2011-10-06T17:40:31.487000\",\"2011-10-06T18:18:45.997500\",\"2011-10-06T18:55:50.021500\",\"2011-10-06T19:31:54.080500\",\"2011-10-06T20:08:40.473500\",\"2011-10-06T20:47:06.290500\",\"2011-10-06T21:27:47.972500\",\"2011-10-06T22:07:42.476000\",\"2011-10-06T22:47:40.483000\",\"2011-10-06T23:30:43.430000\",\"2011-10-07T00:18:20.813000\",\"2011-10-07T01:09:07.531000\",\"2011-10-07T01:55:38.793000\",\"2011-10-07T02:40:03.931000\",\"2011-10-07T03:23:35.219500\",\"2011-10-07T04:08:27.531500\",\"2011-10-07T04:58:30.529500\",\"2011-10-07T06:00:45.276000\",\"2011-10-07T07:29:06.786500\",\"2011-10-07T09:47:28.033500\",\"2011-10-07T12:25:10.603500\",\"2011-10-07T13:55:24.795500\",\"2011-10-07T14:55:05.569000\",\"2011-10-07T15:45:18.309500\"],\"y\":[0.018,0.021,0.019,0.025,0.0195,0.028,0.0225,0.023,0.023,0.0175,0.022,0.0205,0.0185,0.022,0.023,0.021,0.0205,0.0245,0.0245,0.0195,0.018,0.018,0.0135,0.016,0.0185,0.012]},{\"mode\":\"lines\",\"name\":\"id-574828\",\"type\":\"scatter\",\"x\":[\"2011-10-06T02:22:23.066000\",\"2011-10-06T05:28:44.347000\",\"2011-10-06T06:44:24.034500\",\"2011-10-06T08:36:40.009500\",\"2011-10-06T11:26:09.814000\",\"2011-10-06T13:39:32.355500\",\"2011-10-06T14:54:13.205000\",\"2011-10-06T15:46:03.836500\",\"2011-10-06T16:29:40.525000\"],\"y\":[0.0555,0.0665,0.0745,0.08,0.0535,0.0575,0.07,0.062,0.0725]},{\"mode\":\"lines\",\"name\":\"id-574842\",\"type\":\"scatter\",\"x\":[\"2011-10-06T02:26:52.580000\",\"2011-10-06T05:28:53.716000\",\"2011-10-06T06:43:43.004500\",\"2011-10-06T08:36:53.851000\",\"2011-10-06T11:21:39.336000\",\"2011-10-06T13:32:00.913000\",\"2011-10-06T14:45:26.491500\",\"2011-10-06T15:40:19.334000\",\"2011-10-06T16:27:16.829000\",\"2011-10-06T17:07:17.695000\",\"2011-10-06T17:45:17.388500\"],\"y\":[0.021,0.027,0.035,0.0285,0.017,0.0185,0.0165,0.0165,0.021,0.026,0.019]},{\"mode\":\"lines\",\"name\":\"id-574957\",\"type\":\"scatter\",\"x\":[\"2011-10-06T02:26:50.478000\",\"2011-10-06T05:30:42.292000\",\"2011-10-06T06:47:06.344000\",\"2011-10-06T08:42:34.037500\",\"2011-10-06T11:32:02.831000\",\"2011-10-06T13:39:59.344000\",\"2011-10-06T14:52:35.098500\",\"2011-10-06T15:45:46.769000\",\"2011-10-06T16:31:21.983000\",\"2011-10-06T17:11:33.180000\",\"2011-10-06T17:49:01.749000\",\"2011-10-06T18:27:00.822000\",\"2011-10-06T19:03:28.868000\",\"2011-10-06T19:39:39.980500\",\"2011-10-06T20:16:22.994500\",\"2011-10-06T20:55:43.524000\",\"2011-10-06T21:36:26.929000\",\"2011-10-06T22:17:11.164000\",\"2011-10-06T22:58:50.635500\",\"2011-10-06T23:44:38.760500\",\"2011-10-07T00:33:28.976000\",\"2011-10-07T01:22:08.994500\",\"2011-10-07T02:09:15.196000\",\"2011-10-07T02:53:24.034000\",\"2011-10-07T03:38:10.861500\",\"2011-10-07T04:25:44.100000\",\"2011-10-07T05:19:18.331500\",\"2011-10-07T06:28:22.245000\",\"2011-10-07T08:16:42.816500\",\"2011-10-07T10:57:49.536500\"],\"y\":[0.081,0.0785,0.0755,0.057,0.057,0.0735,0.091,0.0845,0.0895,0.081,0.0795,0.0825,0.0795,0.087,0.0865,0.079,0.0795,0.075,0.069,0.068,0.07,0.064,0.064,0.0575,0.0525,0.059,0.067,0.0505,0.045,0.0415]},{\"mode\":\"lines\",\"name\":\"id-574980\",\"type\":\"scatter\",\"x\":[\"2011-10-06T02:20:31.267500\",\"2011-10-06T05:27:12.485500\",\"2011-10-06T06:40:41.389000\",\"2011-10-06T08:34:29.081000\",\"2011-10-06T11:18:03.962000\",\"2011-10-06T13:31:30.411000\",\"2011-10-06T14:48:40.866000\",\"2011-10-06T15:42:43.100000\",\"2011-10-06T16:27:17.738500\",\"2011-10-06T17:07:22.700500\",\"2011-10-06T17:45:21.235000\"],\"y\":[0.036,0.041,0.0335,0.028,0.0215,0.0375,0.0425,0.042,0.034,0.0325,0.043]},{\"mode\":\"lines\",\"name\":\"id-575000\",\"type\":\"scatter\",\"x\":[\"2011-10-06T02:19:46.520500\",\"2011-10-06T05:27:25.410500\",\"2011-10-06T06:39:24.991500\",\"2011-10-06T08:25:47.585000\",\"2011-10-06T11:07:24.785500\",\"2011-10-06T13:26:07.340500\",\"2011-10-06T14:44:25.686500\",\"2011-10-06T15:38:51.462500\",\"2011-10-06T16:24:31.322500\",\"2011-10-06T17:05:19.632500\",\"2011-10-06T17:42:57.544000\",\"2011-10-06T18:21:05.590000\",\"2011-10-06T18:59:20.772000\",\"2011-10-06T19:34:21.188500\",\"2011-10-06T20:11:08.753000\",\"2011-10-06T20:50:05.230000\",\"2011-10-06T21:29:48.626000\",\"2011-10-06T22:10:38.416000\",\"2011-10-06T22:52:25.578000\",\"2011-10-06T23:37:17.743500\",\"2011-10-07T00:23:53.891500\",\"2011-10-07T01:12:54.705000\",\"2011-10-07T01:58:49.454000\",\"2011-10-07T02:43:57.151000\",\"2011-10-07T03:25:43.804000\",\"2011-10-07T04:11:27.103000\",\"2011-10-07T05:02:26.910000\",\"2011-10-07T06:07:25.444000\",\"2011-10-07T07:42:19.226500\",\"2011-10-07T10:09:39.414500\"],\"y\":[0.0615,0.0555,0.0655,0.058,0.0455,0.058,0.06,0.0525,0.0585,0.0575,0.0605,0.0575,0.055,0.048,0.058,0.059,0.061,0.0615,0.0495,0.058,0.053,0.047,0.0525,0.045,0.043,0.043,0.0515,0.043,0.0475,0.0415]},{\"mode\":\"lines\",\"name\":\"id-575157\",\"type\":\"scatter\",\"x\":[\"2011-10-06T02:25:18.212500\",\"2011-10-06T05:29:18.415500\",\"2011-10-06T06:45:18\",\"2011-10-06T08:42:59.847000\",\"2011-10-06T11:32:16.263000\",\"2011-10-06T13:39:25.156500\",\"2011-10-06T14:51:14.310500\",\"2011-10-06T15:44:03.966500\",\"2011-10-06T16:28:30.145000\",\"2011-10-06T17:08:46.858000\",\"2011-10-06T17:46:22.248000\",\"2011-10-06T18:24:27.068000\",\"2011-10-06T19:02:30.091000\",\"2011-10-06T19:40:22.253500\",\"2011-10-06T20:19:16.687000\"],\"y\":[0.0185,0.0215,0.019,0.0185,0.0145,0.018,0.0255,0.0175,0.0195,0.0235,0.0225,0.022,0.0225,0.023,0.0185]},{\"mode\":\"lines\",\"name\":\"id-575220\",\"type\":\"scatter\",\"x\":[\"2011-10-06T02:20:07.183500\",\"2011-10-06T05:27:39.518000\",\"2011-10-06T06:39:46.661000\",\"2011-10-06T08:30:21.673500\",\"2011-10-06T11:18:00.870500\",\"2011-10-06T13:31:02.921500\",\"2011-10-06T14:44:43.326500\",\"2011-10-06T15:37:49.971500\",\"2011-10-06T16:24:07.602500\",\"2011-10-06T17:04:46.996500\",\"2011-10-06T17:42:37.201500\"],\"y\":[0.0415,0.041,0.0345,0.031,0.033,0.042,0.039,0.033,0.0445,0.036,0.05]},{\"mode\":\"lines\",\"name\":\"id-575574\",\"type\":\"scatter\",\"x\":[\"2011-10-06T13:28:57.927500\",\"2011-10-06T14:44:31.744500\",\"2011-10-06T15:37:42.980500\",\"2011-10-06T16:22:03.917000\",\"2011-10-06T17:02:03.912500\",\"2011-10-06T17:41:42.231000\",\"2011-10-07T02:15:33.328500\",\"2011-10-07T09:30:22.675500\"],\"y\":[0.0265,0.026,0.03,0.0315,0.0315,0.0285,0.022,0.014]},{\"mode\":\"lines\",\"name\":\"id-575768\",\"type\":\"scatter\",\"x\":[\"2011-10-06T02:27:12.491000\",\"2011-10-06T05:29:41.071500\",\"2011-10-06T06:43:02.521500\",\"2011-10-06T08:36:43.381500\",\"2011-10-06T11:25:01.880500\",\"2011-10-06T13:34:22.453500\",\"2011-10-06T14:48:40.230500\",\"2011-10-06T15:42:31.686000\",\"2011-10-06T16:27:20.520500\",\"2011-10-06T17:08:52.253000\",\"2011-10-06T17:45:44.084500\",\"2011-10-06T18:23:27.078000\",\"2011-10-06T19:00:32.892500\",\"2011-10-06T19:37:16.662500\",\"2011-10-06T20:15:11.524000\",\"2011-10-06T20:53:30.212500\",\"2011-10-06T21:33:45.463500\",\"2011-10-06T22:14:07.241500\",\"2011-10-06T22:56:16.426500\",\"2011-10-06T23:41:06.760500\",\"2011-10-07T00:28:40.991000\"],\"y\":[0.024,0.025,0.02,0.022,0.024,0.029,0.0285,0.0205,0.0275,0.0245,0.0245,0.0245,0.0275,0.026,0.03,0.0275,0.022,0.022,0.0185,0.022,0.0205]},{\"mode\":\"lines\",\"name\":\"id-575912\",\"type\":\"scatter\",\"x\":[\"2011-10-06T02:19:24.992500\",\"2011-10-06T05:26:15.423500\",\"2011-10-06T06:41:07.439000\",\"2011-10-06T08:33:12.161000\",\"2011-10-06T11:18:00.928500\",\"2011-10-06T13:31:16.042000\",\"2011-10-06T14:46:00.371000\",\"2011-10-06T15:40:26.822500\",\"2011-10-06T16:25:06.015000\",\"2011-10-06T17:06:58.436000\",\"2011-10-06T17:45:18.884000\",\"2011-10-06T18:24:52.345000\"],\"y\":[0.036,0.035,0.0415,0.026,0.025,0.0355,0.0395,0.0465,0.038,0.037,0.045,0.038]},{\"mode\":\"lines\",\"name\":\"id-575934\",\"type\":\"scatter\",\"x\":[\"2011-10-06T02:27:13.557000\",\"2011-10-06T05:27:56.570500\",\"2011-10-06T06:38:47.730000\",\"2011-10-06T08:27:11.508500\",\"2011-10-06T11:10:38.005500\",\"2011-10-06T13:25:26.116000\",\"2011-10-06T14:41:28.004000\",\"2011-10-06T15:37:33.550500\",\"2011-10-06T16:24:49.417000\",\"2011-10-06T17:05:37.474000\",\"2011-10-06T17:42:29.422000\",\"2011-10-06T18:20:54.554500\",\"2011-10-06T18:59:10.540000\",\"2011-10-06T19:36:24.675000\",\"2011-10-06T20:13:29.749000\",\"2011-10-06T20:52:17.662000\",\"2011-10-06T21:33:21.717500\",\"2011-10-06T22:13:36.417500\",\"2011-10-06T22:55:21.131500\",\"2011-10-06T23:38:24.784000\",\"2011-10-07T00:25:37.281500\",\"2011-10-07T01:15:31.546000\",\"2011-10-07T02:02:33.529500\",\"2011-10-07T02:46:39.986500\",\"2011-10-07T03:31:36.433500\",\"2011-10-07T04:18:45.433500\",\"2011-10-07T05:11:49.990500\",\"2011-10-07T06:15:36.510500\"],\"y\":[0.0455,0.041,0.044,0.0345,0.028,0.0395,0.045,0.044,0.0475,0.045,0.055,0.052,0.049,0.048,0.0525,0.057,0.0405,0.047,0.0395,0.04,0.046,0.039,0.0295,0.039,0.035,0.0335,0.0345,0.034]},{\"mode\":\"lines\",\"name\":\"id-576018\",\"type\":\"scatter\",\"x\":[\"2011-10-06T05:23:43.339000\",\"2011-10-06T06:36:26.616000\",\"2011-10-06T08:27:06.938500\",\"2011-10-06T11:15:57.350500\",\"2011-10-06T13:32:04.467000\",\"2011-10-06T14:45:41.130500\",\"2011-10-06T15:40:36.038500\",\"2011-10-06T16:27:08.741000\",\"2011-10-06T17:06:52.881000\",\"2011-10-06T17:44:54.552000\",\"2011-10-06T18:23:52.705000\",\"2011-10-06T19:01:09.629000\",\"2011-10-06T19:37:05.709000\",\"2011-10-06T20:14:54.137000\",\"2011-10-06T20:54:33.944000\",\"2011-10-06T21:35:54.330500\",\"2011-10-06T22:15:47.408500\",\"2011-10-06T22:57:35.520500\",\"2011-10-06T23:44:05.365500\",\"2011-10-07T00:33:38.209000\"],\"y\":[0.058,0.0575,0.0425,0.04,0.0515,0.056,0.0645,0.059,0.063,0.056,0.0595,0.063,0.0565,0.052,0.05,0.055,0.0475,0.052,0.042,0.0455]},{\"mode\":\"lines\",\"name\":\"id-576048\",\"type\":\"scatter\",\"x\":[\"2011-10-07T00:38:00.921000\",\"2011-10-07T01:27:27.239000\",\"2011-10-07T02:14:40.140000\",\"2011-10-07T02:58:24.917000\",\"2011-10-07T03:42:03.637000\",\"2011-10-07T04:30:09.604000\",\"2011-10-07T05:24:01.795500\",\"2011-10-07T06:35:44.954000\",\"2011-10-07T08:24:25.088000\",\"2011-10-07T11:07:14.546500\",\"2011-10-07T13:17:05.951000\",\"2011-10-07T14:28:32.596000\",\"2011-10-07T15:21:58.375500\",\"2011-10-07T16:08:44.481000\",\"2011-10-07T16:48:26.508000\",\"2011-10-07T17:26:56.628500\",\"2011-10-07T18:04:36.508500\",\"2011-10-07T18:46:32.377000\",\"2011-10-07T19:32:09.147500\",\"2011-10-07T20:21:14.182000\",\"2011-10-07T21:12:03.635000\",\"2011-10-07T22:02:33.622500\",\"2011-10-07T22:51:35.560500\"],\"y\":[0.0475,0.039,0.038,0.0365,0.0435,0.0465,0.0405,0.0395,0.0305,0.0285,0.034,0.0375,0.0385,0.0435,0.0405,0.0405,0.0375,0.043,0.0455,0.0405,0.038,0.038,0.043]},{\"mode\":\"lines\",\"name\":\"id-576101\",\"type\":\"scatter\",\"x\":[\"2011-10-06T02:25:35.169000\",\"2011-10-06T05:28:39.789000\",\"2011-10-06T06:40:49.964500\",\"2011-10-06T08:30:36.381500\",\"2011-10-06T11:21:07.674500\",\"2011-10-06T13:35:19.199000\",\"2011-10-06T14:47:59.259500\",\"2011-10-06T15:41:08.869500\",\"2011-10-06T16:26:36.007500\",\"2011-10-06T17:06:40.518500\",\"2011-10-06T17:44:01.985500\",\"2011-10-06T18:21:50.941500\",\"2011-10-06T19:00:59.726000\",\"2011-10-06T19:37:02.053000\",\"2011-10-06T20:14:22.776000\",\"2011-10-06T20:54:07.987500\",\"2011-10-06T21:35:18.808500\",\"2011-10-06T22:16:04.138500\",\"2011-10-06T22:56:52.105500\",\"2011-10-06T23:39:39.503500\",\"2011-10-07T00:26:15.433000\"],\"y\":[0.0335,0.0405,0.039,0.0405,0.0285,0.032,0.0285,0.0505,0.036,0.04,0.0355,0.0345,0.039,0.035,0.0345,0.0365,0.0345,0.035,0.0375,0.026,0.037]},{\"mode\":\"lines\",\"name\":\"id-576414\",\"type\":\"scatter\",\"x\":[\"2011-10-06T23:39:29.837500\",\"2011-10-07T00:26:34.726000\",\"2011-10-07T01:15:13.038000\",\"2011-10-07T02:00:55.896000\",\"2011-10-07T02:44:10.105000\",\"2011-10-07T03:28:24.969000\",\"2011-10-07T04:13:48.100000\",\"2011-10-07T05:04:58.566500\",\"2011-10-07T06:08:09.758500\",\"2011-10-07T07:43:09.121500\",\"2011-10-07T10:09:34.451000\",\"2011-10-07T12:46:18.811000\",\"2011-10-07T14:07:07.849000\",\"2011-10-07T15:04:46.192500\",\"2011-10-07T15:53:43.477000\",\"2011-10-07T16:35:45.177000\",\"2011-10-07T17:15:12.529500\",\"2011-10-07T17:54:10.583000\",\"2011-10-07T18:35:54.561500\",\"2011-10-07T19:21:21.771000\",\"2011-10-07T20:09:00.984000\",\"2011-10-07T21:00:02.053000\",\"2011-10-07T21:51:15.141500\",\"2011-10-07T22:41:48.240000\",\"2011-10-07T23:32:31.472000\",\"2011-10-08T00:25:06.831000\"],\"y\":[0.045,0.037,0.041,0.0365,0.042,0.037,0.0435,0.0395,0.034,0.0345,0.031,0.025,0.0295,0.031,0.0385,0.037,0.034,0.034,0.034,0.035,0.0355,0.036,0.021,0.029,0.0315,0.029]},{\"mode\":\"lines\",\"name\":\"id-576453\",\"type\":\"scatter\",\"x\":[\"2011-10-06T21:35:58.616000\",\"2011-10-06T22:17:25.267000\",\"2011-10-06T22:59:25.715500\",\"2011-10-06T23:44:28.801000\",\"2011-10-07T00:34:26.477500\",\"2011-10-07T01:25:08.331000\",\"2011-10-07T02:12:14.323500\",\"2011-10-07T02:56:50.821500\",\"2011-10-07T03:41:03.616500\",\"2011-10-07T04:28:44.682000\",\"2011-10-07T05:22:39.679500\",\"2011-10-07T06:32:21.611000\",\"2011-10-07T08:21:26.982500\",\"2011-10-07T11:02:36.201500\",\"2011-10-07T13:13:19.082000\",\"2011-10-07T14:26:54.733500\",\"2011-10-07T15:21:12.914000\",\"2011-10-07T16:11:31.258000\",\"2011-10-07T16:54:39.395500\",\"2011-10-07T17:37:25.712000\",\"2011-10-07T18:20:46.627500\",\"2011-10-07T19:08:23.958500\",\"2011-10-07T19:59:11.527000\",\"2011-10-07T20:52:26.540000\"],\"y\":[0.0425,0.0415,0.036,0.037,0.0355,0.0305,0.0295,0.031,0.027,0.034,0.039,0.0265,0.024,0.0215,0.0305,0.0365,0.0355,0.0375,0.026,0.028,0.0315,0.033,0.0385,0.032]},{\"mode\":\"lines\",\"name\":\"id-576958\",\"type\":\"scatter\",\"x\":[\"2011-10-06T17:46:23.478500\",\"2011-10-06T18:24:36.655000\",\"2011-10-06T19:01:42.679000\",\"2011-10-06T19:37:26.769500\",\"2011-10-06T20:13:34.939500\",\"2011-10-06T20:52:02.982000\",\"2011-10-06T21:33:15.853500\",\"2011-10-06T22:14:23.548500\",\"2011-10-06T22:55:48.683000\",\"2011-10-06T23:40:40.967500\",\"2011-10-07T00:28:01.293500\",\"2011-10-07T01:16:56.903000\",\"2011-10-07T02:02:14.085500\",\"2011-10-07T02:46:46.558000\",\"2011-10-07T03:31:55.834000\",\"2011-10-07T04:17:42.611500\",\"2011-10-07T05:11:06.272000\",\"2011-10-07T06:18:59.711000\",\"2011-10-07T07:57:34.334500\",\"2011-10-07T10:34:45.195000\",\"2011-10-07T12:59:14.722500\",\"2011-10-07T14:14:07.179500\",\"2011-10-07T15:08:11.202500\",\"2011-10-07T15:56:43.604500\"],\"y\":[0.091,0.0915,0.0855,0.0915,0.0705,0.0765,0.067,0.067,0.071,0.07,0.0565,0.062,0.052,0.06,0.065,0.054,0.061,0.0545,0.0375,0.034,0.05,0.0505,0.0585,0.0545]},{\"mode\":\"lines\",\"name\":\"id-577169\",\"type\":\"scatter\",\"x\":[\"2011-10-06T19:46:15.436000\",\"2011-10-06T20:24:01.288000\",\"2011-10-06T21:03:17.484000\",\"2011-10-06T21:43:36.005000\",\"2011-10-06T22:25:06.034500\",\"2011-10-06T23:06:32.643000\",\"2011-10-06T23:52:25.656500\",\"2011-10-07T00:42:29.569000\",\"2011-10-07T01:31:27.257500\",\"2011-10-07T02:17:26.327000\",\"2011-10-07T03:02:31.336500\",\"2011-10-07T03:48:19.368500\",\"2011-10-07T04:34:51.375000\",\"2011-10-07T05:31:06.760500\",\"2011-10-07T06:42:20.396000\",\"2011-10-07T08:35:27.635000\",\"2011-10-07T11:20:38.920000\",\"2011-10-07T13:23:13.057000\",\"2011-10-07T14:31:43.458500\",\"2011-10-07T15:25:40.955500\",\"2011-10-07T16:12:30.588000\",\"2011-10-07T16:51:11.121000\",\"2011-10-07T17:30:23.141500\",\"2011-10-07T18:10:15.334000\",\"2011-10-07T18:51:11.193500\"],\"y\":[0.0215,0.0225,0.0155,0.021,0.021,0.017,0.034,0.0485,0.034,0.035,0.0285,0.036,0.041,0.061,0.058,0.053,0.0455,0.053,0.067,0.0615,0.064,0.066,0.0775,0.052,0.072]},{\"mode\":\"lines\",\"name\":\"id-577182\",\"type\":\"scatter\",\"x\":[\"2011-10-06T05:24:12.352000\"],\"y\":[0.066]},{\"mode\":\"lines\",\"name\":\"id-577365\",\"type\":\"scatter\",\"x\":[\"2011-10-06T14:43:35.189000\",\"2011-10-06T15:38:34.543000\",\"2011-10-06T16:26:07.356500\",\"2011-10-06T17:06:51.636000\",\"2011-10-06T17:46:15.920000\",\"2011-10-06T18:25:21.636500\",\"2011-10-06T19:03:01.212500\",\"2011-10-06T19:39:32.648500\",\"2011-10-06T20:18:20.365000\",\"2011-10-06T20:58:28.092500\",\"2011-10-06T21:39:04.388000\",\"2011-10-06T22:20:00.415000\",\"2011-10-06T23:02:44.470500\",\"2011-10-06T23:48:10.123000\",\"2011-10-07T00:36:14.685500\",\"2011-10-07T01:25:20.958500\",\"2011-10-07T02:09:26.806500\",\"2011-10-07T02:52:33.799500\",\"2011-10-07T03:36:20.558000\",\"2011-10-07T04:20:56.517500\",\"2011-10-07T05:13:59.263000\",\"2011-10-07T06:21:48.674500\",\"2011-10-07T08:05:19.250500\",\"2011-10-07T10:45:39.526000\"],\"y\":[0.0315,0.04,0.0345,0.0235,0.0315,0.0335,0.0365,0.035,0.0315,0.0315,0.0245,0.0275,0.0335,0.0265,0.0255,0.0305,0.026,0.028,0.0325,0.029,0.028,0.028,0.035,0.0285]},{\"mode\":\"lines\",\"name\":\"id-577437\",\"type\":\"scatter\",\"x\":[\"2011-10-06T13:00:43.258000\",\"2011-10-06T14:27:06.820500\",\"2011-10-06T15:23:33.190000\",\"2011-10-06T16:10:57.281500\",\"2011-10-06T16:53:33.001000\",\"2011-10-06T17:31:54.943000\",\"2011-10-06T18:09:45.401500\",\"2011-10-06T18:47:58.727500\",\"2011-10-06T19:24:40.449500\",\"2011-10-06T20:02:00.577000\",\"2011-10-06T20:40:34.837500\",\"2011-10-06T21:20:30.589000\",\"2011-10-06T22:00:50.070000\",\"2011-10-06T22:40:57.872000\",\"2011-10-06T23:24:44.365500\",\"2011-10-07T00:11:48.568000\",\"2011-10-07T01:01:27.100000\",\"2011-10-07T01:49:03.204500\",\"2011-10-07T02:34:41.256500\",\"2011-10-07T03:18:11.479000\",\"2011-10-07T04:02:37.665500\",\"2011-10-07T04:52:10.260000\",\"2011-10-07T05:51:03.491500\",\"2011-10-07T07:13:03.573000\",\"2011-10-07T09:23:53.298500\"],\"y\":[0.033,0.0335,0.025,0.0325,0.0205,0.0235,0.028,0.021,0.0225,0.0185,0.021,0.02,0.014,0.0175,0.015,0.018,0.013,0.015,0.0155,0.013,0.018,0.016,0.0185,0.02,0.0215]},{\"mode\":\"lines\",\"name\":\"id-577446\",\"type\":\"scatter\",\"x\":[\"2011-10-06T07:53:56.787500\"],\"y\":[0.066]},{\"mode\":\"lines\",\"name\":\"id-578144\",\"type\":\"scatter\",\"x\":[\"2011-10-06T15:29:39.902500\",\"2011-10-06T16:18:41.855500\",\"2011-10-06T17:02:00.752000\",\"2011-10-06T17:39:48.016500\",\"2011-10-06T18:17:28.606000\",\"2011-10-06T18:55:09.981000\",\"2011-10-06T19:30:48.871000\",\"2011-10-06T20:07:45.477000\",\"2011-10-06T20:46:41.876500\",\"2011-10-06T21:26:10.600000\",\"2011-10-06T22:04:39.871000\",\"2011-10-06T22:45:51.048500\",\"2011-10-06T23:29:00.349000\",\"2011-10-07T00:15:54.039000\",\"2011-10-07T01:06:17.086000\",\"2011-10-07T01:53:13.158000\",\"2011-10-07T02:38:07.397500\",\"2011-10-07T03:21:43.778000\",\"2011-10-07T04:07:57.853500\",\"2011-10-07T04:58:30.278000\",\"2011-10-07T06:02:15.920000\",\"2011-10-07T07:33:25.519000\",\"2011-10-07T09:57:19.184500\",\"2011-10-07T12:35:42.345000\",\"2011-10-07T14:02:57.651500\"],\"y\":[0.0445,0.0465,0.041,0.041,0.0555,0.046,0.046,0.039,0.051,0.0345,0.031,0.043,0.033,0.036,0.0375,0.031,0.0345,0.034,0.0355,0.036,0.0345,0.0355,0.031,0.0295,0.0295]},{\"mode\":\"lines\",\"name\":\"id-578577\",\"type\":\"scatter\",\"x\":[\"2011-10-07T14:03:32.576500\",\"2011-10-07T15:01:53.496000\",\"2011-10-07T15:51:11.554500\",\"2011-10-07T16:35:16.934000\",\"2011-10-07T17:14:57.303000\",\"2011-10-07T17:53:50.631500\",\"2011-10-07T18:34:57.915000\",\"2011-10-07T19:20:26.276000\",\"2011-10-07T20:07:29.480000\",\"2011-10-07T20:56:52.020000\",\"2011-10-07T21:48:19.051000\",\"2011-10-07T22:37:29.696000\",\"2011-10-07T23:29:12.338000\",\"2011-10-08T00:23:16.759500\",\"2011-10-08T01:23:28.728500\"],\"y\":[0.066,0.056,0.0585,0.065,0.0555,0.073,0.0585,0.054,0.0515,0.055,0.0465,0.0565,0.0465,0.0465,0.048]},{\"mode\":\"lines\",\"name\":\"id-578704\",\"type\":\"scatter\",\"x\":[\"2011-10-06T17:49:08.204000\",\"2011-10-06T18:28:02.993500\",\"2011-10-06T19:05:59.196000\",\"2011-10-06T19:42:29.417000\",\"2011-10-06T20:19:18.001500\",\"2011-10-06T20:58:05.298500\",\"2011-10-06T21:38:54.931000\",\"2011-10-06T22:18:59.964500\",\"2011-10-06T23:00:24.111500\",\"2011-10-06T23:45:14.318000\",\"2011-10-07T00:32:47.922500\",\"2011-10-07T01:20:58.073000\",\"2011-10-07T02:05:18.351500\",\"2011-10-07T02:49:57.084000\",\"2011-10-07T03:33:34.376000\",\"2011-10-07T04:20:57.197500\",\"2011-10-07T05:15:54.914500\",\"2011-10-07T06:26:32.936000\",\"2011-10-07T08:10:19.124000\",\"2011-10-07T10:47:48.177000\",\"2011-10-07T13:04:45.400500\",\"2011-10-07T14:19:12.918500\",\"2011-10-07T15:15:49.870500\",\"2011-10-07T16:02:12.040500\",\"2011-10-07T16:42:25.988000\"],\"y\":[0.0815,0.075,0.076,0.0815,0.085,0.064,0.067,0.063,0.052,0.0605,0.056,0.0485,0.0485,0.055,0.0485,0.044,0.047,0.037,0.0305,0.037,0.0345,0.056,0.051,0.0435,0.0405]},{\"mode\":\"lines\",\"name\":\"id-578942\",\"type\":\"scatter\",\"x\":[\"2011-10-06T18:50:26.078000\",\"2011-10-06T19:27:24.883500\",\"2011-10-06T20:05:00.585500\",\"2011-10-06T20:43:41.483500\",\"2011-10-06T21:23:36.659000\",\"2011-10-06T22:04:56.225000\",\"2011-10-06T22:45:48.582500\",\"2011-10-06T23:28:58.606500\",\"2011-10-07T00:16:03.146000\",\"2011-10-07T01:05:56.116000\",\"2011-10-07T01:52:46.636000\",\"2011-10-07T02:37:32.870000\",\"2011-10-07T03:23:06.696000\",\"2011-10-07T04:10:10.066000\",\"2011-10-07T05:02:20.799000\",\"2011-10-07T06:06:15.710000\",\"2011-10-07T07:36:51.236500\",\"2011-10-07T10:01:07.167000\",\"2011-10-07T12:39:17.435500\",\"2011-10-07T14:04:27.135500\",\"2011-10-07T15:01:44.309000\",\"2011-10-07T15:51:15.370000\",\"2011-10-07T16:33:39.759500\"],\"y\":[0.0285,0.0215,0.0195,0.0225,0.018,0.0135,0.019,0.0155,0.022,0.0235,0.02,0.02,0.0185,0.021,0.016,0.0155,0.0205,0.0115,0.0105,0.009,0.0155,0.0135,0.012]},{\"mode\":\"lines\",\"name\":\"id-578967\",\"type\":\"scatter\",\"x\":[\"2011-10-06T18:28:45.633000\",\"2011-10-06T19:10:26.031500\",\"2011-10-06T19:56:19.971000\",\"2011-10-06T20:40:16.291500\",\"2011-10-06T21:24:20.915000\",\"2011-10-06T22:07:15.634500\",\"2011-10-06T22:50:53.699000\",\"2011-10-06T23:35:06.091500\",\"2011-10-07T00:22:47.725000\",\"2011-10-07T01:13:43.969500\",\"2011-10-07T02:00:38.549000\",\"2011-10-07T02:44:55.570000\",\"2011-10-07T03:28:33.021500\",\"2011-10-07T04:15:19.424500\",\"2011-10-07T05:09:05.824500\",\"2011-10-07T06:17:08.232500\",\"2011-10-07T07:54:27.412000\",\"2011-10-07T10:29:35.268500\",\"2011-10-07T12:56:57.853000\",\"2011-10-07T14:16:10.828500\",\"2011-10-07T15:12:22.800500\",\"2011-10-07T15:59:48.271000\",\"2011-10-07T16:41:06.429000\",\"2011-10-07T17:20:36.867500\",\"2011-10-07T18:00:32.772500\"],\"y\":[0.1525,0.1565,0.141,0.147,0.14,0.13,0.121,0.103,0.1095,0.0825,0.1005,0.1025,0.109,0.095,0.0855,0.086,0.0765,0.0495,0.0865,0.11,0.107,0.0905,0.0945,0.0995,0.0855]},{\"mode\":\"lines\",\"name\":\"id-579145\",\"type\":\"scatter\",\"x\":[\"2011-10-06T19:19:56.623500\",\"2011-10-06T19:59:02.062000\",\"2011-10-06T20:37:37.138000\",\"2011-10-06T21:18:24.839000\",\"2011-10-06T22:01:18.768500\",\"2011-10-06T22:44:14.059500\",\"2011-10-06T23:30:39.875500\",\"2011-10-07T00:21:36.666000\",\"2011-10-07T01:12:12.065500\",\"2011-10-07T02:00:13.090000\",\"2011-10-07T02:45:40.815000\",\"2011-10-07T03:30:18.112500\",\"2011-10-07T04:20:32.489500\",\"2011-10-07T05:17:44.675000\",\"2011-10-07T06:28:32.852500\",\"2011-10-07T08:18:00.199500\",\"2011-10-07T11:00:50.524500\",\"2011-10-07T13:11:35.614500\",\"2011-10-07T14:25:54.996000\",\"2011-10-07T15:21:14.671500\"],\"y\":[0.0595,0.059,0.063,0.054,0.054,0.058,0.0405,0.043,0.041,0.047,0.043,0.033,0.0415,0.04,0.0395,0.038,0.0265,0.0345,0.0335,0.042]},{\"mode\":\"lines\",\"name\":\"id-579209\",\"type\":\"scatter\",\"x\":[\"2011-10-06T19:38:11.140000\",\"2011-10-06T20:16:03.659000\",\"2011-10-06T20:55:31.319500\",\"2011-10-06T21:36:18.129500\",\"2011-10-06T22:16:55.367000\",\"2011-10-06T22:58:43.204000\",\"2011-10-06T23:43:44.900500\",\"2011-10-07T00:33:38.080500\",\"2011-10-07T01:23:15.619500\",\"2011-10-07T02:09:43.176000\",\"2011-10-07T02:54:13.856500\",\"2011-10-07T03:38:43.329500\",\"2011-10-07T04:25:08.167000\",\"2011-10-07T05:20:10.920500\",\"2011-10-07T06:30:22.388500\",\"2011-10-07T08:15:53.324000\",\"2011-10-07T10:54:58.048500\",\"2011-10-07T13:09:22.548000\",\"2011-10-07T14:21:52.796500\",\"2011-10-07T15:16:14.482500\",\"2011-10-07T16:03:52.960500\",\"2011-10-07T16:45:08.478500\"],\"y\":[0.037,0.0315,0.0315,0.0265,0.03,0.0255,0.0265,0.0165,0.023,0.0205,0.028,0.027,0.027,0.022,0.021,0.017,0.015,0.024,0.0245,0.0205,0.0185,0.0165]},{\"mode\":\"lines\",\"name\":\"id-579418\",\"type\":\"scatter\",\"x\":[\"2011-10-06T20:31:35.368000\",\"2011-10-06T21:11:55.647000\",\"2011-10-06T21:53:35.088000\",\"2011-10-06T22:34:15.799500\",\"2011-10-06T23:16:31.762000\",\"2011-10-07T00:02:45.440000\",\"2011-10-07T00:51:34.562000\",\"2011-10-07T01:39:20.655000\",\"2011-10-07T02:24:06.652500\",\"2011-10-07T03:07:20.850000\",\"2011-10-07T03:51:12.421500\",\"2011-10-07T04:39:33.928000\",\"2011-10-07T05:36:17.677500\",\"2011-10-07T06:50:46.292000\",\"2011-10-07T08:46:29.776500\",\"2011-10-07T11:33:40.871000\",\"2011-10-07T13:29:41.521000\",\"2011-10-07T14:35:12.029500\",\"2011-10-07T15:27:55.303000\",\"2011-10-07T16:13:17.658000\",\"2011-10-07T16:52:53.208000\"],\"y\":[0.139,0.122,0.132,0.1095,0.0975,0.09,0.0785,0.0855,0.0755,0.08,0.078,0.0795,0.063,0.065,0.056,0.045,0.0735,0.0975,0.076,0.0855,0.0875]},{\"mode\":\"lines\",\"name\":\"id-579435\",\"type\":\"scatter\",\"x\":[\"2011-10-06T21:09:10.049000\",\"2011-10-06T21:50:18.561500\",\"2011-10-06T22:30:39.422000\",\"2011-10-06T23:12:36.201500\",\"2011-10-06T23:59:03.486000\",\"2011-10-07T00:49:05.737000\",\"2011-10-07T01:38:46.373500\",\"2011-10-07T02:24:36.050000\",\"2011-10-07T03:08:49.287000\",\"2011-10-07T03:54:25.353500\",\"2011-10-07T04:43:12.572000\",\"2011-10-07T05:41:49.424500\",\"2011-10-07T07:01:13.406500\",\"2011-10-07T09:10:32.968000\",\"2011-10-07T11:54:15.979000\",\"2011-10-07T13:39:44.145000\",\"2011-10-07T14:43:39.281000\",\"2011-10-07T15:34:13.206500\",\"2011-10-07T16:19:16.371000\",\"2011-10-07T16:59:01.225500\",\"2011-10-07T17:39:08.950000\",\"2011-10-07T18:20:16.242500\",\"2011-10-07T19:04:18.307000\",\"2011-10-07T19:50:59.111500\",\"2011-10-07T20:38:40.233500\",\"2011-10-07T21:28:27.073000\"],\"y\":[0.147,0.1485,0.144,0.134,0.138,0.1225,0.129,0.1295,0.1365,0.125,0.115,0.1075,0.1045,0.0835,0.0825,0.0985,0.102,0.096,0.1105,0.114,0.1085,0.0965,0.0865,0.106,0.113,0.096]},{\"mode\":\"lines\",\"name\":\"id-579665\",\"type\":\"scatter\",\"x\":[\"2011-10-06T21:28:55.104500\",\"2011-10-06T22:10:03.096000\",\"2011-10-06T22:52:02.914000\",\"2011-10-06T23:35:09.533000\",\"2011-10-07T00:22:27.917500\",\"2011-10-07T01:11:22.307500\",\"2011-10-07T01:58:43.811500\",\"2011-10-07T02:42:29.041000\",\"2011-10-07T03:26:40.152500\",\"2011-10-07T04:12:53.485000\",\"2011-10-07T05:04:19.000500\",\"2011-10-07T06:07:48.327000\",\"2011-10-07T07:36:58.647500\",\"2011-10-07T10:02:19.894500\",\"2011-10-07T12:37:28.508500\",\"2011-10-07T14:02:06.339000\",\"2011-10-07T14:59:42.713000\",\"2011-10-07T15:50:24.121000\",\"2011-10-07T16:33:38.339500\",\"2011-10-07T17:12:41.587000\",\"2011-10-07T17:51:21.417000\",\"2011-10-07T18:31:07.185500\",\"2011-10-07T19:16:03.537000\",\"2011-10-07T20:03:05.406500\"],\"y\":[0.036,0.0375,0.0325,0.03,0.0315,0.018,0.0215,0.02,0.022,0.021,0.02,0.0265,0.018,0.011,0.0175,0.025,0.0255,0.026,0.02,0.024,0.027,0.023,0.0225,0.0205]},{\"mode\":\"lines\",\"name\":\"id-579692\",\"type\":\"scatter\",\"x\":[\"2011-10-06T20:58:57.009500\",\"2011-10-06T21:39:42.757000\",\"2011-10-06T22:22:20.021500\",\"2011-10-06T23:05:47.263000\",\"2011-10-06T23:51:29.075500\",\"2011-10-07T00:40:31.948000\",\"2011-10-07T01:29:35.686000\",\"2011-10-07T02:13:58.369500\",\"2011-10-07T02:57:08.796500\",\"2011-10-07T03:40:12.098500\",\"2011-10-07T04:27:34.260500\",\"2011-10-07T05:21:47.487000\",\"2011-10-07T06:32:28.423000\",\"2011-10-07T08:21:23.694000\",\"2011-10-07T11:09:02.210500\",\"2011-10-07T13:15:34.394000\",\"2011-10-07T14:24:48.810500\",\"2011-10-07T15:17:55.464500\",\"2011-10-07T16:03:53.158000\",\"2011-10-07T16:43:25.706500\"],\"y\":[0.028,0.0325,0.027,0.032,0.028,0.0285,0.0235,0.0215,0.0205,0.024,0.029,0.026,0.0275,0.028,0.0185,0.02,0.026,0.024,0.0205,0.023]},{\"mode\":\"lines\",\"name\":\"id-579718\",\"type\":\"scatter\",\"x\":[\"2011-10-06T22:41:09.899500\",\"2011-10-06T23:26:16.659500\",\"2011-10-07T00:15:39.637000\",\"2011-10-07T01:05:48.253500\",\"2011-10-07T01:53:17.538500\",\"2011-10-07T02:38:48.169500\",\"2011-10-07T03:22:50.617000\",\"2011-10-07T04:08:47.096500\",\"2011-10-07T05:01:10.586000\",\"2011-10-07T06:04:11.142500\",\"2011-10-07T07:33:35.499000\",\"2011-10-07T09:55:52.134000\",\"2011-10-07T12:32:47.213500\",\"2011-10-07T14:02:08.716500\",\"2011-10-07T14:59:49.090000\",\"2011-10-07T15:49:46.976000\",\"2011-10-07T16:33:08.110000\",\"2011-10-07T17:13:11.576000\",\"2011-10-07T17:53:05.393000\",\"2011-10-07T18:34:17.501500\",\"2011-10-07T19:18:34.573500\",\"2011-10-07T20:06:58.121000\",\"2011-10-07T20:54:44.811500\",\"2011-10-07T21:45:38.141000\",\"2011-10-07T22:36:05.977000\"],\"y\":[0.0315,0.0315,0.032,0.0235,0.0285,0.0185,0.022,0.028,0.03,0.027,0.023,0.0245,0.0185,0.0225,0.0235,0.0245,0.028,0.026,0.0245,0.026,0.025,0.0235,0.0275,0.019,0.0215]},{\"mode\":\"lines\",\"name\":\"id-579837\",\"type\":\"scatter\",\"x\":[\"2011-10-06T21:51:58.077000\",\"2011-10-06T22:33:18.208000\",\"2011-10-06T23:14:59.495500\",\"2011-10-07T00:01:10.483000\",\"2011-10-07T00:50:07.664500\",\"2011-10-07T01:37:29.526000\",\"2011-10-07T02:23:02.093000\",\"2011-10-07T03:07:06.200500\",\"2011-10-07T03:52:00.640500\",\"2011-10-07T04:41:32.601000\",\"2011-10-07T05:38:52.267500\",\"2011-10-07T06:53:52.326500\",\"2011-10-07T08:53:46.575500\",\"2011-10-07T11:44:39.576500\",\"2011-10-07T13:34:39.355500\",\"2011-10-07T14:38:42.304500\",\"2011-10-07T15:29:51.337000\",\"2011-10-07T16:15:03.855000\",\"2011-10-07T16:56:14.560000\",\"2011-10-07T17:36:31.460500\",\"2011-10-07T18:15:01.440500\",\"2011-10-07T18:58:58.485000\",\"2011-10-07T19:44:53.684500\",\"2011-10-07T20:31:04.005000\",\"2011-10-07T21:21:37.727500\"],\"y\":[0.229,0.2125,0.1935,0.1655,0.147,0.1435,0.1265,0.137,0.1385,0.1465,0.135,0.1215,0.111,0.0975,0.1135,0.1325,0.129,0.117,0.13,0.129,0.105,0.116,0.108,0.1285,0.1015]},{\"mode\":\"lines\",\"name\":\"id-579840\",\"type\":\"scatter\",\"x\":[\"2011-10-07T01:18:23.604000\",\"2011-10-07T02:05:44.096000\",\"2011-10-07T02:49:18.134000\",\"2011-10-07T03:32:36.980000\",\"2011-10-07T04:17:13.994500\",\"2011-10-07T05:08:42.345500\",\"2011-10-07T06:13:30.675000\",\"2011-10-07T07:49:17.894500\",\"2011-10-07T10:27:23.500500\",\"2011-10-07T12:55:05.684500\",\"2011-10-07T14:13:05.652000\",\"2011-10-07T15:10:07.798000\",\"2011-10-07T16:01:00.153000\",\"2011-10-07T16:42:08.265500\",\"2011-10-07T17:21:27.698000\",\"2011-10-07T18:00:53.109000\",\"2011-10-07T18:42:05.761500\",\"2011-10-07T19:27:23.073500\",\"2011-10-07T20:17:41.755000\",\"2011-10-07T21:08:21.630500\",\"2011-10-07T21:59:07.902000\",\"2011-10-07T22:49:04.295500\"],\"y\":[0.0525,0.045,0.0455,0.0465,0.0515,0.0455,0.049,0.049,0.038,0.036,0.048,0.037,0.048,0.042,0.046,0.038,0.0375,0.0325,0.046,0.037,0.038,0.041]},{\"mode\":\"lines\",\"name\":\"id-580040\",\"type\":\"scatter\",\"x\":[\"2011-10-06T22:14:18.507000\",\"2011-10-06T22:55:20.532500\",\"2011-10-06T23:38:14.034000\",\"2011-10-07T00:26:46.402500\",\"2011-10-07T01:16:24.466500\",\"2011-10-07T02:03:16.708000\",\"2011-10-07T02:48:14.275500\",\"2011-10-07T03:32:33.826500\",\"2011-10-07T04:19:20.349000\",\"2011-10-07T05:13:04.412500\",\"2011-10-07T06:19:04.149500\",\"2011-10-07T07:56:49.503500\",\"2011-10-07T10:34:00.542500\",\"2011-10-07T12:57:43.545000\",\"2011-10-07T14:13:16.045000\",\"2011-10-07T15:08:24.598000\",\"2011-10-07T15:56:46.306500\",\"2011-10-07T16:38:05.024500\",\"2011-10-07T17:17:19.564000\",\"2011-10-07T17:57:08.724000\",\"2011-10-07T18:38:42.979000\",\"2011-10-07T19:25:23.257500\",\"2011-10-07T20:14:41.940000\",\"2011-10-07T21:04:47.929000\"],\"y\":[0.031,0.0415,0.036,0.0335,0.034,0.0255,0.0235,0.0305,0.029,0.033,0.0305,0.025,0.0195,0.0235,0.038,0.0225,0.032,0.0295,0.027,0.0365,0.026,0.031,0.0265,0.0275]},{\"mode\":\"lines\",\"name\":\"id-580167\",\"type\":\"scatter\",\"x\":[\"2011-10-07T13:46:27.369500\",\"2011-10-07T14:48:38.287000\",\"2011-10-07T15:38:04.759000\",\"2011-10-07T16:22:32.686500\",\"2011-10-07T17:02:09.607000\",\"2011-10-07T17:42:32.813000\",\"2011-10-07T18:23:29.767000\",\"2011-10-07T19:08:04.747000\",\"2011-10-07T19:54:52.792000\",\"2011-10-07T20:45:45.410500\",\"2011-10-07T21:37:53.600000\",\"2011-10-07T22:28:36.914500\",\"2011-10-07T23:19:15.151000\",\"2011-10-08T00:11:44.632500\",\"2011-10-08T01:08:41.545000\"],\"y\":[0.066,0.06,0.0535,0.074,0.057,0.0695,0.0705,0.067,0.0685,0.0565,0.0745,0.0635,0.0525,0.067,0.0565]},{\"mode\":\"lines\",\"name\":\"id-580174\",\"type\":\"scatter\",\"x\":[\"2011-10-07T19:14:53.022000\",\"2011-10-07T20:02:29.503000\",\"2011-10-07T20:53:24.101500\",\"2011-10-07T21:44:28.711500\",\"2011-10-07T22:34:48.073500\",\"2011-10-07T23:25:36.492000\",\"2011-10-08T00:18:01.684500\",\"2011-10-08T01:18:03.157500\"],\"y\":[0.036,0.025,0.022,0.033,0.0205,0.022,0.023,0.0185]},{\"mode\":\"lines\",\"name\":\"id-580208\",\"type\":\"scatter\",\"x\":[\"2011-10-06T23:07:38.250000\",\"2011-10-06T23:55:18.971000\",\"2011-10-07T00:44:43.053500\",\"2011-10-07T01:33:12.102000\",\"2011-10-07T02:18:31.086500\",\"2011-10-07T03:01:04.796000\",\"2011-10-07T03:46:38.023500\",\"2011-10-07T04:34:29.008500\",\"2011-10-07T05:28:42.383500\",\"2011-10-07T06:39:55.386000\",\"2011-10-07T08:34:51.417500\",\"2011-10-07T11:20:09.374500\",\"2011-10-07T13:20:48.835500\",\"2011-10-07T14:28:48.800000\",\"2011-10-07T15:22:14.744000\",\"2011-10-07T16:10:42.550500\",\"2011-10-07T16:51:03.673500\",\"2011-10-07T17:30:30.295000\",\"2011-10-07T18:09:59.992500\",\"2011-10-07T18:52:46.465500\",\"2011-10-07T19:39:32.418000\",\"2011-10-07T20:28:45.312500\",\"2011-10-07T21:19:08.316500\"],\"y\":[0.0685,0.053,0.044,0.044,0.0405,0.0355,0.0495,0.042,0.046,0.046,0.031,0.0295,0.038,0.0525,0.046,0.0495,0.044,0.044,0.0415,0.0515,0.045,0.0425,0.0575]},{\"mode\":\"lines\",\"name\":\"id-580257\",\"type\":\"scatter\",\"x\":[\"2011-10-07T03:12:47.469000\",\"2011-10-07T03:55:55.294000\",\"2011-10-07T04:45:03.131000\",\"2011-10-07T05:44:27.267500\",\"2011-10-07T07:05:28.265000\",\"2011-10-07T09:13:10.021500\",\"2011-10-07T11:55:55.362000\",\"2011-10-07T13:40:52.892500\",\"2011-10-07T14:45:54.252500\",\"2011-10-07T15:37:58.060000\",\"2011-10-07T16:22:53.006500\",\"2011-10-07T17:01:45.611000\",\"2011-10-07T17:40:41.392000\",\"2011-10-07T18:21:24.335000\",\"2011-10-07T19:05:05.685000\",\"2011-10-07T19:52:17.423000\",\"2011-10-07T20:42:59.759500\",\"2011-10-07T21:33:50.607000\",\"2011-10-07T22:25:05.978000\",\"2011-10-07T23:17:28.145500\"],\"y\":[0.043,0.044,0.0405,0.041,0.0365,0.0265,0.0285,0.0405,0.045,0.0395,0.0425,0.0455,0.0485,0.0515,0.033,0.033,0.034,0.0495,0.039,0.042]},{\"mode\":\"lines\",\"name\":\"id-580290\",\"type\":\"scatter\",\"x\":[\"2011-10-06T22:23:51.738500\",\"2011-10-06T23:07:55.893000\",\"2011-10-06T23:54:54.478500\",\"2011-10-07T00:43:46.717000\",\"2011-10-07T01:31:56.321500\",\"2011-10-07T02:17:46.821000\",\"2011-10-07T03:01:15.798000\",\"2011-10-07T03:44:59.544500\",\"2011-10-07T04:30:33.443500\",\"2011-10-07T05:25:56.536000\",\"2011-10-07T06:37:05.264500\",\"2011-10-07T08:28:38.655000\",\"2011-10-07T11:11:44.498500\",\"2011-10-07T13:18:09.485000\",\"2011-10-07T14:26:35.876500\",\"2011-10-07T15:20:11.941500\",\"2011-10-07T16:07:16.203500\",\"2011-10-07T16:47:10.243000\",\"2011-10-07T17:25:20.537500\",\"2011-10-07T18:04:39.520500\",\"2011-10-07T18:47:26.465000\",\"2011-10-07T19:35:19.401000\",\"2011-10-07T20:23:50.027500\",\"2011-10-07T21:13:57.471500\",\"2011-10-07T22:06:07.778500\"],\"y\":[0.045,0.034,0.039,0.036,0.034,0.031,0.0305,0.0325,0.0345,0.0275,0.0245,0.019,0.0125,0.0305,0.0285,0.0285,0.025,0.0275,0.0295,0.029,0.0265,0.0255,0.0315,0.028,0.029]},{\"mode\":\"lines\",\"name\":\"id-580535\",\"type\":\"scatter\",\"x\":[\"2011-10-07T17:42:57.001500\",\"2011-10-07T18:23:49.171000\",\"2011-10-07T19:09:03.971500\",\"2011-10-07T19:56:48.646000\",\"2011-10-07T20:45:15.240000\",\"2011-10-07T21:34:20.707500\",\"2011-10-07T22:24:17.671000\",\"2011-10-07T23:15:29.816500\",\"2011-10-08T00:07:10.934500\",\"2011-10-08T01:04:37.238000\"],\"y\":[0.041,0.0345,0.0225,0.0195,0.029,0.025,0.0195,0.021,0.0215,0.0205]},{\"mode\":\"lines\",\"name\":\"id-580638\",\"type\":\"scatter\",\"x\":[\"2011-10-07T22:20:23.182000\",\"2011-10-07T23:09:03.282500\",\"2011-10-08T00:01:26.606000\",\"2011-10-08T00:57:18.187000\"],\"y\":[0.0755,0.077,0.073,0.0655]},{\"mode\":\"lines\",\"name\":\"id-580891\",\"type\":\"scatter\",\"x\":[\"2011-10-07T20:42:37.940500\",\"2011-10-07T21:33:14.152000\",\"2011-10-07T22:23:47.478000\",\"2011-10-07T23:14:19.994500\",\"2011-10-08T00:06:45.827000\",\"2011-10-08T01:05:13.684000\"],\"y\":[0.0365,0.0395,0.035,0.0335,0.041,0.027]},{\"mode\":\"lines\",\"name\":\"id-580911\",\"type\":\"scatter\",\"x\":[\"2011-10-07T19:39:10.636000\",\"2011-10-07T20:28:31.474000\",\"2011-10-07T21:18:30.817500\",\"2011-10-07T22:09:25.047000\",\"2011-10-07T22:59:50.297500\",\"2011-10-07T23:52:25.633500\",\"2011-10-08T00:49:28.798500\"],\"y\":[0.0465,0.047,0.0425,0.0345,0.031,0.0345,0.032]},{\"mode\":\"lines\",\"name\":\"id-581020\",\"type\":\"scatter\",\"x\":[\"2011-10-07T02:20:24.462000\",\"2011-10-07T03:05:10.377500\",\"2011-10-07T03:49:18.639500\",\"2011-10-07T04:35:52.668000\",\"2011-10-07T05:33:36.104500\",\"2011-10-07T06:48:10.828500\",\"2011-10-07T08:48:05.760500\",\"2011-10-07T11:38:04.355500\",\"2011-10-07T13:31:32.021000\",\"2011-10-07T14:37:25.797000\",\"2011-10-07T15:28:57.551000\",\"2011-10-07T16:16:30.428500\",\"2011-10-07T16:56:28.643000\",\"2011-10-07T17:35:06.593500\",\"2011-10-07T18:13:43.157000\",\"2011-10-07T18:55:57.568000\",\"2011-10-07T19:43:07.760000\",\"2011-10-07T20:30:36.563500\",\"2011-10-07T21:21:12.470000\",\"2011-10-07T22:12:22.050500\",\"2011-10-07T23:02:52.530500\",\"2011-10-07T23:55:53.870500\",\"2011-10-08T00:53:16.785000\"],\"y\":[0.0395,0.0305,0.0305,0.036,0.0315,0.0325,0.0255,0.022,0.024,0.0285,0.028,0.029,0.0265,0.025,0.025,0.0295,0.0315,0.0335,0.0305,0.03,0.0265,0.028,0.018]},{\"mode\":\"lines\",\"name\":\"id-581124\",\"type\":\"scatter\",\"x\":[\"2011-10-07T01:31:09.780000\",\"2011-10-07T02:17:17.434500\",\"2011-10-07T03:02:27.169000\",\"2011-10-07T03:47:36.616000\",\"2011-10-07T04:36:19.515000\",\"2011-10-07T05:34:21.617000\",\"2011-10-07T06:50:30.570500\",\"2011-10-07T08:43:38.421500\",\"2011-10-07T11:30:08.206500\",\"2011-10-07T13:27:16.445500\",\"2011-10-07T14:33:03.014000\",\"2011-10-07T15:25:21.011500\",\"2011-10-07T16:11:03.669000\",\"2011-10-07T16:51:26.137000\",\"2011-10-07T17:31:29.434000\",\"2011-10-07T18:10:32.353500\",\"2011-10-07T18:52:49.343000\",\"2011-10-07T19:39:38.867000\",\"2011-10-07T20:30:28.134000\",\"2011-10-07T21:22:30.639000\",\"2011-10-07T22:13:42.069500\",\"2011-10-07T23:04:24.482000\",\"2011-10-07T23:57:14.842000\",\"2011-10-08T00:51:49.372000\"],\"y\":[0.056,0.0425,0.058,0.0435,0.049,0.0395,0.051,0.0335,0.0275,0.043,0.0535,0.046,0.047,0.044,0.043,0.0465,0.0435,0.053,0.0425,0.0405,0.0365,0.041,0.0335,0.039]},{\"mode\":\"lines\",\"name\":\"id-581212\",\"type\":\"scatter\",\"x\":[\"2011-10-07T23:10:42.414500\",\"2011-10-08T00:02:15.587500\",\"2011-10-08T01:00:36.990500\"],\"y\":[0.0255,0.02,0.0205]},{\"mode\":\"lines\",\"name\":\"id-581272\",\"type\":\"scatter\",\"x\":[\"2011-10-07T01:50:36.091000\",\"2011-10-07T02:35:28.666000\",\"2011-10-07T03:19:10.398000\",\"2011-10-07T04:03:36.315500\",\"2011-10-07T04:53:42.456500\",\"2011-10-07T05:54:49.271000\",\"2011-10-07T07:21:37.035000\",\"2011-10-07T09:41:13.888500\",\"2011-10-07T12:21:50.697500\",\"2011-10-07T13:54:20.958500\",\"2011-10-07T14:52:33.952500\",\"2011-10-07T15:44:10.272000\",\"2011-10-07T16:28:14.821000\",\"2011-10-07T17:07:53.207500\",\"2011-10-07T17:48:06.525500\",\"2011-10-07T18:28:33.704500\",\"2011-10-07T19:13:19.483000\",\"2011-10-07T20:02:01.435500\",\"2011-10-07T20:51:12.260500\",\"2011-10-07T21:41:49.999000\"],\"y\":[0.0625,0.062,0.0555,0.0625,0.0535,0.0535,0.0485,0.039,0.043,0.0495,0.058,0.0575,0.06,0.058,0.0525,0.06,0.0555,0.0535,0.057,0.0545]},{\"mode\":\"lines\",\"name\":\"id-581428\",\"type\":\"scatter\",\"x\":[\"2011-10-07T19:02:32.808500\",\"2011-10-07T19:50:00.196000\",\"2011-10-07T20:39:22.304500\",\"2011-10-07T21:31:00.001000\",\"2011-10-07T22:23:19.629500\",\"2011-10-07T23:15:22.540000\",\"2011-10-08T00:09:13.556500\",\"2011-10-08T01:06:49.510000\"],\"y\":[0.1,0.093,0.092,0.095,0.0795,0.0795,0.083,0.064]},{\"mode\":\"lines\",\"name\":\"id-581450\",\"type\":\"scatter\",\"x\":[\"2011-10-07T21:59:11.993000\",\"2011-10-07T22:48:19.504500\",\"2011-10-07T23:38:13.014500\",\"2011-10-08T00:33:16.748500\"],\"y\":[0.037,0.0455,0.0325,0.0345]},{\"mode\":\"lines\",\"name\":\"id-581483\",\"type\":\"scatter\",\"x\":[\"2011-10-08T01:14:31.472500\"],\"y\":[0.056]},{\"mode\":\"lines\",\"name\":\"id-581506\",\"type\":\"scatter\",\"x\":[\"2011-10-07T04:27:35.854000\",\"2011-10-07T05:21:52.190500\",\"2011-10-07T06:34:57.030500\",\"2011-10-07T08:28:19.384000\",\"2011-10-07T11:12:32.847500\",\"2011-10-07T13:19:09.893500\",\"2011-10-07T14:30:23.186500\",\"2011-10-07T15:24:12.926000\",\"2011-10-07T16:11:33.187500\",\"2011-10-07T16:50:12.886500\",\"2011-10-07T17:30:13.849000\",\"2011-10-07T18:10:14.220500\",\"2011-10-07T18:54:25.036000\",\"2011-10-07T19:41:44.020500\",\"2011-10-07T20:30:21.102000\",\"2011-10-07T21:21:22.318000\",\"2011-10-07T22:11:48.824000\",\"2011-10-07T23:00:59.598000\",\"2011-10-07T23:50:55.394000\",\"2011-10-08T00:45:33.378000\"],\"y\":[0.1065,0.095,0.087,0.0695,0.0555,0.084,0.0915,0.0735,0.08,0.085,0.09,0.086,0.09,0.0825,0.075,0.0825,0.074,0.0695,0.0695,0.068]},{\"mode\":\"lines\",\"name\":\"id-581732\",\"type\":\"scatter\",\"x\":[\"2011-10-07T04:36:24.560000\",\"2011-10-07T05:31:53.504000\",\"2011-10-07T06:44:29.107500\",\"2011-10-07T08:42:19.336000\",\"2011-10-07T11:32:09.781500\",\"2011-10-07T13:29:27.745000\",\"2011-10-07T14:37:30.613500\",\"2011-10-07T15:29:42.605000\",\"2011-10-07T16:15:02.442500\",\"2011-10-07T16:54:19.244500\",\"2011-10-07T17:33:19.801000\",\"2011-10-07T18:13:33.282000\",\"2011-10-07T18:57:26.546500\",\"2011-10-07T19:44:27.037500\",\"2011-10-07T20:33:33.104500\",\"2011-10-07T21:25:29.673500\",\"2011-10-07T22:16:07.823000\",\"2011-10-07T23:07:43.904000\",\"2011-10-07T23:59:17.835000\",\"2011-10-08T00:54:25.434500\"],\"y\":[0.0555,0.054,0.0515,0.044,0.03,0.034,0.0415,0.0405,0.0425,0.0375,0.04,0.0485,0.045,0.042,0.045,0.035,0.0385,0.042,0.0455,0.035]},{\"mode\":\"lines\",\"name\":\"id-581953\",\"type\":\"scatter\",\"x\":[\"2011-10-07T13:57:45.945500\",\"2011-10-07T14:56:10.762500\",\"2011-10-07T15:44:18.809000\",\"2011-10-07T16:27:49.142000\",\"2011-10-07T17:07:19.298500\",\"2011-10-07T17:46:36.438500\",\"2011-10-07T18:26:47.387000\",\"2011-10-07T19:10:52.456500\",\"2011-10-07T19:57:34.288500\",\"2011-10-07T20:46:23.993500\",\"2011-10-07T21:38:13.419000\",\"2011-10-07T22:29:39.468000\",\"2011-10-07T23:19:32.685000\",\"2011-10-08T00:12:19.021500\",\"2011-10-08T01:10:36.144500\"],\"y\":[0.013,0.018,0.02,0.0205,0.0195,0.014,0.017,0.017,0.0135,0.0115,0.022,0.0145,0.0155,0.017,0.0125]},{\"mode\":\"lines\",\"name\":\"id-582065\",\"type\":\"scatter\",\"x\":[\"2011-10-07T07:42:53.801500\",\"2011-10-07T10:04:58.976500\",\"2011-10-07T12:37:37.417500\",\"2011-10-07T14:02:58.319500\",\"2011-10-07T15:00:39.004000\",\"2011-10-07T15:50:52.799500\",\"2011-10-07T16:34:07.010500\",\"2011-10-07T17:13:21.321500\",\"2011-10-07T17:52:39.656500\",\"2011-10-07T18:34:11.964500\",\"2011-10-07T19:19:34.396000\",\"2011-10-07T20:07:13.770500\",\"2011-10-07T20:57:06.489500\",\"2011-10-07T21:49:14.938000\",\"2011-10-07T22:39:01.387500\",\"2011-10-07T23:30:05.284000\",\"2011-10-08T00:24:58.310500\"],\"y\":[0.041,0.0295,0.0205,0.0365,0.0335,0.0315,0.0315,0.0335,0.0365,0.035,0.039,0.0355,0.0225,0.0315,0.0315,0.03,0.0245]},{\"mode\":\"lines\",\"name\":\"id-583144\",\"type\":\"scatter\",\"x\":[\"2011-10-07T17:06:59.303000\",\"2011-10-07T17:46:20.170000\",\"2011-10-07T18:25:56.309500\",\"2011-10-07T19:09:05.087500\",\"2011-10-07T19:57:44.870000\",\"2011-10-07T20:48:02.664500\",\"2011-10-07T21:39:09.397500\",\"2011-10-07T22:28:48.917500\",\"2011-10-07T23:19:30.320500\",\"2011-10-08T00:11:12.712500\",\"2011-10-08T01:10:18.729000\"],\"y\":[0.0565,0.061,0.0535,0.052,0.055,0.055,0.044,0.04,0.046,0.0485,0.045]},{\"mode\":\"lines\",\"name\":\"id-583364\",\"type\":\"scatter\",\"x\":[\"2011-10-07T17:33:01.200000\",\"2011-10-07T18:12:27.522500\",\"2011-10-07T18:54:45.467000\",\"2011-10-07T19:41:27.491500\",\"2011-10-07T20:30:32.261000\",\"2011-10-07T21:22:50.721000\",\"2011-10-07T22:13:14.417500\",\"2011-10-07T23:03:05.651500\",\"2011-10-07T23:54:48.538000\",\"2011-10-08T00:51:30.863500\"],\"y\":[0.0725,0.062,0.0655,0.049,0.0615,0.055,0.058,0.05,0.0525,0.041]},{\"mode\":\"lines\",\"name\":\"id-583545\",\"type\":\"scatter\",\"x\":[\"2011-10-07T17:46:23.098000\",\"2011-10-07T18:27:22.728500\",\"2011-10-07T19:13:13.793000\",\"2011-10-07T20:01:54.204500\",\"2011-10-07T20:52:16.759000\",\"2011-10-07T21:42:52.089000\",\"2011-10-07T22:32:23.614000\",\"2011-10-07T23:22:56.245000\",\"2011-10-08T00:15:32.396500\",\"2011-10-08T01:14:32.506500\"],\"y\":[0.116,0.1005,0.091,0.1015,0.0905,0.081,0.0855,0.0755,0.076,0.065]},{\"mode\":\"lines\",\"name\":\"id-583553\",\"type\":\"scatter\",\"x\":[\"2011-10-07T18:07:51.358500\",\"2011-10-07T18:49:54.552500\",\"2011-10-07T19:35:57.717000\",\"2011-10-07T20:23:35.223000\",\"2011-10-07T21:15:00.895500\",\"2011-10-07T22:07:04.752000\",\"2011-10-07T22:58:58.726500\",\"2011-10-07T23:49:36.061000\",\"2011-10-08T00:44:59.300500\"],\"y\":[0.1095,0.1005,0.089,0.106,0.1015,0.085,0.0745,0.0885,0.0875]},{\"mode\":\"lines\",\"name\":\"id-583691\",\"type\":\"scatter\",\"x\":[\"2011-10-07T18:33:12.163500\",\"2011-10-07T19:17:03.519000\",\"2011-10-07T20:03:31.600500\",\"2011-10-07T20:52:07.877500\",\"2011-10-07T21:43:21.313500\",\"2011-10-07T22:34:03.731500\",\"2011-10-07T23:25:19.304000\",\"2011-10-08T00:18:30.726000\",\"2011-10-08T01:15:38.450500\"],\"y\":[0.0855,0.0725,0.078,0.074,0.069,0.063,0.0725,0.0695,0.05]},{\"mode\":\"lines\",\"name\":\"id-583713\",\"type\":\"scatter\",\"x\":[\"2011-10-07T18:16:38.378000\",\"2011-10-07T18:59:25.842000\",\"2011-10-07T19:47:03.413500\",\"2011-10-07T20:34:43.678500\",\"2011-10-07T21:25:53.503000\",\"2011-10-07T22:16:48.591500\",\"2011-10-07T23:05:46.431500\",\"2011-10-07T23:56:33.292500\",\"2011-10-08T00:53:07.248500\"],\"y\":[0.0445,0.039,0.038,0.045,0.0385,0.038,0.034,0.037,0.037]},{\"mode\":\"lines\",\"name\":\"id-583861\",\"type\":\"scatter\",\"x\":[\"2011-10-07T19:27:31.061000\",\"2011-10-07T20:14:55.534000\",\"2011-10-07T21:05:56.279500\",\"2011-10-07T21:56:58.158500\",\"2011-10-07T22:46:08.182500\",\"2011-10-07T23:37:52.587000\",\"2011-10-08T00:31:53.124500\"],\"y\":[0.043,0.035,0.0315,0.04,0.0295,0.024,0.0345]},{\"mode\":\"lines\",\"name\":\"id-583970\",\"type\":\"scatter\",\"x\":[\"2011-10-07T20:00:59.420000\",\"2011-10-07T20:49:08.550000\",\"2011-10-07T21:39:24.205500\",\"2011-10-07T22:29:44.026000\",\"2011-10-07T23:19:37.936500\",\"2011-10-08T00:12:09.538000\",\"2011-10-08T01:11:39.629500\"],\"y\":[0.0425,0.052,0.0425,0.047,0.039,0.03,0.027]},{\"mode\":\"lines\",\"name\":\"id-584029\",\"type\":\"scatter\",\"x\":[\"2011-10-07T20:10:18.116000\",\"2011-10-07T20:59:43.110500\",\"2011-10-07T21:50:18.849500\",\"2011-10-07T22:39:29.869500\",\"2011-10-07T23:31:46.891500\",\"2011-10-08T00:25:20.817500\"],\"y\":[0.0225,0.0275,0.0285,0.028,0.024,0.027]},{\"mode\":\"lines\",\"name\":\"id-584199\",\"type\":\"scatter\",\"x\":[\"2011-10-07T21:00:41.584000\",\"2011-10-07T21:51:07.109000\",\"2011-10-07T22:43:17.179000\",\"2011-10-07T23:36:47.383000\",\"2011-10-08T00:34:43.398500\"],\"y\":[0.0635,0.077,0.0565,0.0465,0.042]},{\"mode\":\"lines\",\"name\":\"id-584221\",\"type\":\"scatter\",\"x\":[\"2011-10-07T20:56:17.100000\",\"2011-10-07T21:47:35.485000\",\"2011-10-07T22:38:31.091000\",\"2011-10-07T23:29:59.299500\",\"2011-10-08T00:23:36.475000\",\"2011-10-08T01:22:20.138500\"],\"y\":[0.0605,0.0525,0.048,0.0565,0.0485,0.0445]},{\"mode\":\"lines\",\"name\":\"id-584274\",\"type\":\"scatter\",\"x\":[\"2011-10-07T22:14:07.577000\",\"2011-10-07T23:05:11.442500\",\"2011-10-07T23:57:50.750000\",\"2011-10-08T00:54:20.516500\"],\"y\":[0.042,0.0415,0.0425,0.035]},{\"mode\":\"lines\",\"name\":\"id-584443\",\"type\":\"scatter\",\"x\":[\"2011-10-07T22:55:40.969500\",\"2011-10-07T23:46:06.832000\",\"2011-10-08T00:40:56.770000\"],\"y\":[0.0885,0.086,0.07]},{\"mode\":\"lines\",\"name\":\"id-584506\",\"type\":\"scatter\",\"x\":[\"2011-10-07T22:02:33.230000\",\"2011-10-07T22:53:12.124500\",\"2011-10-07T23:45:14.809500\",\"2011-10-08T00:41:13.491500\"],\"y\":[0.037,0.038,0.037,0.027]},{\"mode\":\"lines\",\"name\":\"id-584696\",\"type\":\"scatter\",\"x\":[\"2011-10-07T22:33:57.979000\",\"2011-10-07T23:25:39.576000\",\"2011-10-08T00:18:11.403500\",\"2011-10-08T01:15:44.500500\"],\"y\":[0.022,0.027,0.0255,0.025]},{\"mode\":\"lines\",\"name\":\"id-584712\",\"type\":\"scatter\",\"x\":[\"2011-10-07T23:23:15.234000\",\"2011-10-08T00:16:56.146000\",\"2011-10-08T01:17:50.976000\"],\"y\":[0.1205,0.0995,0.096]},{\"mode\":\"lines\",\"name\":\"id-584898\",\"type\":\"scatter\",\"x\":[\"2011-10-08T00:32:26.127000\"],\"y\":[0.0425]},{\"mode\":\"lines\",\"name\":\"id-585035\",\"type\":\"scatter\",\"x\":[\"2011-10-08T00:00:13.014500\",\"2011-10-08T00:56:29.917000\"],\"y\":[0.032,0.03]},{\"mode\":\"lines\",\"name\":\"id-585212\",\"type\":\"scatter\",\"x\":[\"2011-10-08T00:42:11.834000\"],\"y\":[0.058]},{\"mode\":\"lines\",\"name\":\"id-585251\",\"type\":\"scatter\",\"x\":[\"2011-10-08T00:36:02.432500\"],\"y\":[0.0215]},{\"mode\":\"lines\",\"name\":\"id-585487\",\"type\":\"scatter\",\"x\":[],\"y\":[]},{\"mode\":\"lines\",\"name\":\"id-585495\",\"type\":\"scatter\",\"x\":[],\"y\":[]},{\"mode\":\"lines\",\"name\":\"id-585795\",\"type\":\"scatter\",\"x\":[],\"y\":[]}],                        {\"template\":{\"data\":{\"bar\":[{\"error_x\":{\"color\":\"#2a3f5f\"},\"error_y\":{\"color\":\"#2a3f5f\"},\"marker\":{\"line\":{\"color\":\"#E5ECF6\",\"width\":0.5},\"pattern\":{\"fillmode\":\"overlay\",\"size\":10,\"solidity\":0.2}},\"type\":\"bar\"}],\"barpolar\":[{\"marker\":{\"line\":{\"color\":\"#E5ECF6\",\"width\":0.5},\"pattern\":{\"fillmode\":\"overlay\",\"size\":10,\"solidity\":0.2}},\"type\":\"barpolar\"}],\"carpet\":[{\"aaxis\":{\"endlinecolor\":\"#2a3f5f\",\"gridcolor\":\"white\",\"linecolor\":\"white\",\"minorgridcolor\":\"white\",\"startlinecolor\":\"#2a3f5f\"},\"baxis\":{\"endlinecolor\":\"#2a3f5f\",\"gridcolor\":\"white\",\"linecolor\":\"white\",\"minorgridcolor\":\"white\",\"startlinecolor\":\"#2a3f5f\"},\"type\":\"carpet\"}],\"choropleth\":[{\"colorbar\":{\"outlinewidth\":0,\"ticks\":\"\"},\"type\":\"choropleth\"}],\"contour\":[{\"colorbar\":{\"outlinewidth\":0,\"ticks\":\"\"},\"colorscale\":[[0.0,\"#0d0887\"],[0.1111111111111111,\"#46039f\"],[0.2222222222222222,\"#7201a8\"],[0.3333333333333333,\"#9c179e\"],[0.4444444444444444,\"#bd3786\"],[0.5555555555555556,\"#d8576b\"],[0.6666666666666666,\"#ed7953\"],[0.7777777777777778,\"#fb9f3a\"],[0.8888888888888888,\"#fdca26\"],[1.0,\"#f0f921\"]],\"type\":\"contour\"}],\"contourcarpet\":[{\"colorbar\":{\"outlinewidth\":0,\"ticks\":\"\"},\"type\":\"contourcarpet\"}],\"heatmap\":[{\"colorbar\":{\"outlinewidth\":0,\"ticks\":\"\"},\"colorscale\":[[0.0,\"#0d0887\"],[0.1111111111111111,\"#46039f\"],[0.2222222222222222,\"#7201a8\"],[0.3333333333333333,\"#9c179e\"],[0.4444444444444444,\"#bd3786\"],[0.5555555555555556,\"#d8576b\"],[0.6666666666666666,\"#ed7953\"],[0.7777777777777778,\"#fb9f3a\"],[0.8888888888888888,\"#fdca26\"],[1.0,\"#f0f921\"]],\"type\":\"heatmap\"}],\"heatmapgl\":[{\"colorbar\":{\"outlinewidth\":0,\"ticks\":\"\"},\"colorscale\":[[0.0,\"#0d0887\"],[0.1111111111111111,\"#46039f\"],[0.2222222222222222,\"#7201a8\"],[0.3333333333333333,\"#9c179e\"],[0.4444444444444444,\"#bd3786\"],[0.5555555555555556,\"#d8576b\"],[0.6666666666666666,\"#ed7953\"],[0.7777777777777778,\"#fb9f3a\"],[0.8888888888888888,\"#fdca26\"],[1.0,\"#f0f921\"]],\"type\":\"heatmapgl\"}],\"histogram\":[{\"marker\":{\"pattern\":{\"fillmode\":\"overlay\",\"size\":10,\"solidity\":0.2}},\"type\":\"histogram\"}],\"histogram2d\":[{\"colorbar\":{\"outlinewidth\":0,\"ticks\":\"\"},\"colorscale\":[[0.0,\"#0d0887\"],[0.1111111111111111,\"#46039f\"],[0.2222222222222222,\"#7201a8\"],[0.3333333333333333,\"#9c179e\"],[0.4444444444444444,\"#bd3786\"],[0.5555555555555556,\"#d8576b\"],[0.6666666666666666,\"#ed7953\"],[0.7777777777777778,\"#fb9f3a\"],[0.8888888888888888,\"#fdca26\"],[1.0,\"#f0f921\"]],\"type\":\"histogram2d\"}],\"histogram2dcontour\":[{\"colorbar\":{\"outlinewidth\":0,\"ticks\":\"\"},\"colorscale\":[[0.0,\"#0d0887\"],[0.1111111111111111,\"#46039f\"],[0.2222222222222222,\"#7201a8\"],[0.3333333333333333,\"#9c179e\"],[0.4444444444444444,\"#bd3786\"],[0.5555555555555556,\"#d8576b\"],[0.6666666666666666,\"#ed7953\"],[0.7777777777777778,\"#fb9f3a\"],[0.8888888888888888,\"#fdca26\"],[1.0,\"#f0f921\"]],\"type\":\"histogram2dcontour\"}],\"mesh3d\":[{\"colorbar\":{\"outlinewidth\":0,\"ticks\":\"\"},\"type\":\"mesh3d\"}],\"parcoords\":[{\"line\":{\"colorbar\":{\"outlinewidth\":0,\"ticks\":\"\"}},\"type\":\"parcoords\"}],\"pie\":[{\"automargin\":true,\"type\":\"pie\"}],\"scatter\":[{\"marker\":{\"colorbar\":{\"outlinewidth\":0,\"ticks\":\"\"}},\"type\":\"scatter\"}],\"scatter3d\":[{\"line\":{\"colorbar\":{\"outlinewidth\":0,\"ticks\":\"\"}},\"marker\":{\"colorbar\":{\"outlinewidth\":0,\"ticks\":\"\"}},\"type\":\"scatter3d\"}],\"scattercarpet\":[{\"marker\":{\"colorbar\":{\"outlinewidth\":0,\"ticks\":\"\"}},\"type\":\"scattercarpet\"}],\"scattergeo\":[{\"marker\":{\"colorbar\":{\"outlinewidth\":0,\"ticks\":\"\"}},\"type\":\"scattergeo\"}],\"scattergl\":[{\"marker\":{\"colorbar\":{\"outlinewidth\":0,\"ticks\":\"\"}},\"type\":\"scattergl\"}],\"scattermapbox\":[{\"marker\":{\"colorbar\":{\"outlinewidth\":0,\"ticks\":\"\"}},\"type\":\"scattermapbox\"}],\"scatterpolar\":[{\"marker\":{\"colorbar\":{\"outlinewidth\":0,\"ticks\":\"\"}},\"type\":\"scatterpolar\"}],\"scatterpolargl\":[{\"marker\":{\"colorbar\":{\"outlinewidth\":0,\"ticks\":\"\"}},\"type\":\"scatterpolargl\"}],\"scatterternary\":[{\"marker\":{\"colorbar\":{\"outlinewidth\":0,\"ticks\":\"\"}},\"type\":\"scatterternary\"}],\"surface\":[{\"colorbar\":{\"outlinewidth\":0,\"ticks\":\"\"},\"colorscale\":[[0.0,\"#0d0887\"],[0.1111111111111111,\"#46039f\"],[0.2222222222222222,\"#7201a8\"],[0.3333333333333333,\"#9c179e\"],[0.4444444444444444,\"#bd3786\"],[0.5555555555555556,\"#d8576b\"],[0.6666666666666666,\"#ed7953\"],[0.7777777777777778,\"#fb9f3a\"],[0.8888888888888888,\"#fdca26\"],[1.0,\"#f0f921\"]],\"type\":\"surface\"}],\"table\":[{\"cells\":{\"fill\":{\"color\":\"#EBF0F8\"},\"line\":{\"color\":\"white\"}},\"header\":{\"fill\":{\"color\":\"#C8D4E3\"},\"line\":{\"color\":\"white\"}},\"type\":\"table\"}]},\"layout\":{\"annotationdefaults\":{\"arrowcolor\":\"#2a3f5f\",\"arrowhead\":0,\"arrowwidth\":1},\"autotypenumbers\":\"strict\",\"coloraxis\":{\"colorbar\":{\"outlinewidth\":0,\"ticks\":\"\"}},\"colorscale\":{\"diverging\":[[0,\"#8e0152\"],[0.1,\"#c51b7d\"],[0.2,\"#de77ae\"],[0.3,\"#f1b6da\"],[0.4,\"#fde0ef\"],[0.5,\"#f7f7f7\"],[0.6,\"#e6f5d0\"],[0.7,\"#b8e186\"],[0.8,\"#7fbc41\"],[0.9,\"#4d9221\"],[1,\"#276419\"]],\"sequential\":[[0.0,\"#0d0887\"],[0.1111111111111111,\"#46039f\"],[0.2222222222222222,\"#7201a8\"],[0.3333333333333333,\"#9c179e\"],[0.4444444444444444,\"#bd3786\"],[0.5555555555555556,\"#d8576b\"],[0.6666666666666666,\"#ed7953\"],[0.7777777777777778,\"#fb9f3a\"],[0.8888888888888888,\"#fdca26\"],[1.0,\"#f0f921\"]],\"sequentialminus\":[[0.0,\"#0d0887\"],[0.1111111111111111,\"#46039f\"],[0.2222222222222222,\"#7201a8\"],[0.3333333333333333,\"#9c179e\"],[0.4444444444444444,\"#bd3786\"],[0.5555555555555556,\"#d8576b\"],[0.6666666666666666,\"#ed7953\"],[0.7777777777777778,\"#fb9f3a\"],[0.8888888888888888,\"#fdca26\"],[1.0,\"#f0f921\"]]},\"colorway\":[\"#636efa\",\"#EF553B\",\"#00cc96\",\"#ab63fa\",\"#FFA15A\",\"#19d3f3\",\"#FF6692\",\"#B6E880\",\"#FF97FF\",\"#FECB52\"],\"font\":{\"color\":\"#2a3f5f\"},\"geo\":{\"bgcolor\":\"white\",\"lakecolor\":\"white\",\"landcolor\":\"#E5ECF6\",\"showlakes\":true,\"showland\":true,\"subunitcolor\":\"white\"},\"hoverlabel\":{\"align\":\"left\"},\"hovermode\":\"closest\",\"mapbox\":{\"style\":\"light\"},\"paper_bgcolor\":\"white\",\"plot_bgcolor\":\"#E5ECF6\",\"polar\":{\"angularaxis\":{\"gridcolor\":\"white\",\"linecolor\":\"white\",\"ticks\":\"\"},\"bgcolor\":\"#E5ECF6\",\"radialaxis\":{\"gridcolor\":\"white\",\"linecolor\":\"white\",\"ticks\":\"\"}},\"scene\":{\"xaxis\":{\"backgroundcolor\":\"#E5ECF6\",\"gridcolor\":\"white\",\"gridwidth\":2,\"linecolor\":\"white\",\"showbackground\":true,\"ticks\":\"\",\"zerolinecolor\":\"white\"},\"yaxis\":{\"backgroundcolor\":\"#E5ECF6\",\"gridcolor\":\"white\",\"gridwidth\":2,\"linecolor\":\"white\",\"showbackground\":true,\"ticks\":\"\",\"zerolinecolor\":\"white\"},\"zaxis\":{\"backgroundcolor\":\"#E5ECF6\",\"gridcolor\":\"white\",\"gridwidth\":2,\"linecolor\":\"white\",\"showbackground\":true,\"ticks\":\"\",\"zerolinecolor\":\"white\"}},\"shapedefaults\":{\"line\":{\"color\":\"#2a3f5f\"}},\"ternary\":{\"aaxis\":{\"gridcolor\":\"white\",\"linecolor\":\"white\",\"ticks\":\"\"},\"baxis\":{\"gridcolor\":\"white\",\"linecolor\":\"white\",\"ticks\":\"\"},\"bgcolor\":\"#E5ECF6\",\"caxis\":{\"gridcolor\":\"white\",\"linecolor\":\"white\",\"ticks\":\"\"}},\"title\":{\"x\":0.05},\"xaxis\":{\"automargin\":true,\"gridcolor\":\"white\",\"linecolor\":\"white\",\"ticks\":\"\",\"title\":{\"standoff\":15},\"zerolinecolor\":\"white\",\"zerolinewidth\":2},\"yaxis\":{\"automargin\":true,\"gridcolor\":\"white\",\"linecolor\":\"white\",\"ticks\":\"\",\"title\":{\"standoff\":15},\"zerolinecolor\":\"white\",\"zerolinewidth\":2}}}},                        {\"responsive\": true}                    ).then(function(){\n",
       "                            \n",
       "var gd = document.getElementById('9a801bda-8b7c-49c4-859d-004701d8b842');\n",
       "var x = new MutationObserver(function (mutations, observer) {{\n",
       "        var display = window.getComputedStyle(gd).display;\n",
       "        if (!display || display === 'none') {{\n",
       "            console.log([gd, 'removed!']);\n",
       "            Plotly.purge(gd);\n",
       "            observer.disconnect();\n",
       "        }}\n",
       "}});\n",
       "\n",
       "// Listen for the removal of the full notebook cells\n",
       "var notebookContainer = gd.closest('#notebook-container');\n",
       "if (notebookContainer) {{\n",
       "    x.observe(notebookContainer, {childList: true});\n",
       "}}\n",
       "\n",
       "// Listen for the clearing of the current output cell\n",
       "var outputEl = gd.closest('.output');\n",
       "if (outputEl) {{\n",
       "    x.observe(outputEl, {childList: true});\n",
       "}}\n",
       "\n",
       "                        })                };                });            </script>        </div>"
      ]
     },
     "metadata": {},
     "output_type": "display_data"
    }
   ],
   "source": [
    "%%time\n",
    "ctr = data.gather_all_average_ctrs(2000)\n",
    "get_average_ctr_plot(ctr)"
   ]
  },
  {
   "cell_type": "code",
   "execution_count": 28,
   "id": "9f0e6b56",
   "metadata": {},
   "outputs": [
    {
     "name": "stdout",
     "output_type": "stream",
     "text": [
      "CPU times: user 4.41 s, sys: 4.25 s, total: 8.66 s\n",
      "Wall time: 12 s\n"
     ]
    }
   ],
   "source": [
    "%%time\n",
    "import gc\n",
    "\n",
    "with open(\"dataset/r6b/subsample/data_10.pickle\", \"rb\") as f:\n",
    "    gc.disable()\n",
    "    data = pickle.load(f)\n",
    "    gc.enable()"
   ]
  },
  {
   "cell_type": "code",
   "execution_count": 29,
   "id": "546dec53",
   "metadata": {},
   "outputs": [
    {
     "name": "stdout",
     "output_type": "stream",
     "text": [
      "Random policy with ZeroCosts\n",
      "Average reward: 0.0352\n",
      "Execution time: 3.4m\n",
      "E-greedy(epsilon=0.2) with ZeroCosts\n",
      "Average reward: 0.0686\n",
      "Execution time: 3.6m\n"
     ]
    }
   ],
   "source": [
    "p_random = algorithms.RandomPolicy()\n",
    "ctr_random = evaluation.evaluate(p_random, data, stop_after=NUM_OF_TRIALS)\n",
    "\n",
    "egreedy = algorithms.EpsilonGreedy(epsilon=0.2, total_n_arms=data.n_arms)\n",
    "ctr_egreedy = evaluation.evaluate(egreedy, data, stop_after=NUM_OF_TRIALS)"
   ]
  },
  {
   "cell_type": "code",
   "execution_count": 30,
   "id": "b33b52a6",
   "metadata": {},
   "outputs": [
    {
     "name": "stdout",
     "output_type": "stream",
     "text": [
      "LinUCB (alpha=0.1 with ZeroCosts\n",
      "Average reward: 0.0559\n",
      "Execution time: 25.9m\n"
     ]
    }
   ],
   "source": [
    "linucb = algorithms.LinUCB(\n",
    "    context_dimension=len(data.events[0].user_features),\n",
    "    n_arms=data.n_arms,\n",
    "    alpha=0.1,\n",
    ")\n",
    "ctr_linucb = evaluation.evaluate(linucb, data, stop_after=NUM_OF_TRIALS)"
   ]
  },
  {
   "cell_type": "code",
   "execution_count": 31,
   "id": "e5984f99",
   "metadata": {},
   "outputs": [
    {
     "data": {
      "image/png": "[encoded data removed]",
      "text/plain": [
       "<Figure size 720x360 with 1 Axes>"
      ]
     },
     "metadata": {
      "needs_background": "light"
     },
     "output_type": "display_data"
    }
   ],
   "source": [
    "plot_ctrs({\n",
    "    'Random': ctr_random,\n",
    "    'E-greedy': ctr_egreedy,\n",
    "    'LinUCB': ctr_linucb\n",
    "})\n"
   ]
  },
  {
   "cell_type": "code",
   "execution_count": 32,
   "id": "f562fed4",
   "metadata": {},
   "outputs": [
    {
     "name": "stdout",
     "output_type": "stream",
     "text": [
      "CPU times: user 23.2 s, sys: 1min 11s, total: 1min 34s\n",
      "Wall time: 2min 22s\n"
     ]
    },
    {
     "data": {
      "application/vnd.plotly.v1+json": {
       "config": {
        "plotlyServerURL": "https://plot.ly"
       },
       "data": [
        {
         "mode": "lines",
         "name": "id-555317",
         "type": "scatter",
         "x": [
          "2011-10-10T02:09:38.981000",
          "2011-10-10T02:38:07.170500",
          "2011-10-10T03:07:23.081500",
          "2011-10-10T03:37:37.107000",
          "2011-10-10T04:09:52.146500",
          "2011-10-10T04:44:43.556000",
          "2011-10-10T05:23:35.609500",
          "2011-10-10T06:06:42.046000",
          "2011-10-10T06:58:57.681500",
          "2011-10-10T08:07:27.209000",
          "2011-10-10T09:38:14.780000",
          "2011-10-10T11:25:41.586500"
         ],
         "y": [
          0.0215,
          0.0195,
          0.0155,
          0.0225,
          0.0165,
          0.0255,
          0.0205,
          0.022,
          0.0255,
          0.0195,
          0.016,
          0.015
         ]
        },
        {
         "mode": "lines",
         "name": "id-576762",
         "type": "scatter",
         "x": [
          "2011-10-10T02:09:42.261000",
          "2011-10-10T02:38:32.830000",
          "2011-10-10T03:07:47.796000",
          "2011-10-10T03:37:23.357500",
          "2011-10-10T04:10:08.643500",
          "2011-10-10T04:46:28.238500",
          "2011-10-10T05:25:59.225500",
          "2011-10-10T06:08:08.924000",
          "2011-10-10T07:00:11.544000",
          "2011-10-10T08:08:36.464500",
          "2011-10-10T09:39:50.977000",
          "2011-10-10T11:28:32.716000"
         ],
         "y": [
          0.028,
          0.0255,
          0.03,
          0.019,
          0.022,
          0.0175,
          0.019,
          0.019,
          0.022,
          0.018,
          0.0145,
          0.016
         ]
        },
        {
         "mode": "lines",
         "name": "id-576772",
         "type": "scatter",
         "x": [
          "2011-10-10T18:09:13.034000",
          "2011-10-10T18:37:41.040000",
          "2011-10-10T19:09:18.867000",
          "2011-10-10T19:40:29.859500",
          "2011-10-10T20:13:41.059500",
          "2011-10-10T20:47:02.168500",
          "2011-10-10T21:21:00.889500",
          "2011-10-10T21:58:11.786000",
          "2011-10-10T22:34:41.015500",
          "2011-10-10T23:14:02.413500",
          "2011-10-10T23:55:46.682500",
          "2011-10-11T00:42:32.946000",
          "2011-10-11T01:30:50.044500"
         ],
         "y": [
          0.0225,
          0.03,
          0.0265,
          0.031,
          0.021,
          0.0255,
          0.024,
          0.021,
          0.022,
          0.0195,
          0.0195,
          0.0215,
          0.02
         ]
        },
        {
         "mode": "lines",
         "name": "id-579677",
         "type": "scatter",
         "x": [
          "2011-10-10T02:09:55.790000",
          "2011-10-10T02:38:48.665000",
          "2011-10-10T03:08:06.922000",
          "2011-10-10T03:37:33.662500",
          "2011-10-10T04:09:02.812000",
          "2011-10-10T04:44:44.116000",
          "2011-10-10T05:22:55.669500",
          "2011-10-10T06:04:08.628500",
          "2011-10-10T06:54:48.630000",
          "2011-10-10T08:02:15.314500",
          "2011-10-10T09:28:53.314500",
          "2011-10-10T11:14:21.754000"
         ],
         "y": [
          0.0315,
          0.0275,
          0.0285,
          0.0235,
          0.0255,
          0.0365,
          0.03,
          0.026,
          0.0265,
          0.026,
          0.0285,
          0.0125
         ]
        },
        {
         "mode": "lines",
         "name": "id-579985",
         "type": "scatter",
         "x": [
          "2011-10-10T02:10:16.597000",
          "2011-10-10T02:39:16.795500",
          "2011-10-10T03:08:58.530000",
          "2011-10-10T03:39:21.247500",
          "2011-10-10T04:12:07.241500",
          "2011-10-10T04:47:20.712000",
          "2011-10-10T05:25:51.243500",
          "2011-10-10T06:08:23.961500",
          "2011-10-10T07:00:36.648000",
          "2011-10-10T08:06:18.646500",
          "2011-10-10T09:38:35.484500",
          "2011-10-10T11:26:43.775500",
          "2011-10-10T12:51:47.105500",
          "2011-10-10T13:46:41.504500",
          "2011-10-10T14:26:09.593500",
          "2011-10-10T14:58:54.718000",
          "2011-10-10T15:28:30.387000"
         ],
         "y": [
          0.021,
          0.022,
          0.0155,
          0.0185,
          0.0245,
          0.0265,
          0.027,
          0.024,
          0.0305,
          0.0215,
          0.0225,
          0.0155,
          0.0205,
          0.0215,
          0.025,
          0.0245,
          0.018
         ]
        },
        {
         "mode": "lines",
         "name": "id-580489",
         "type": "scatter",
         "x": [
          "2011-10-10T02:09:56.801500",
          "2011-10-10T02:39:50.761500",
          "2011-10-10T03:08:42.460000",
          "2011-10-10T03:39:13.695000",
          "2011-10-10T04:12:03.620500",
          "2011-10-10T04:47:34.669000",
          "2011-10-10T05:26:00.287000",
          "2011-10-10T06:09:22.667000",
          "2011-10-10T07:02:39.867500",
          "2011-10-10T08:08:51.572000",
          "2011-10-10T09:39:03.346500",
          "2011-10-10T11:22:34.877500",
          "2011-10-10T12:48:31.377000",
          "2011-10-10T13:43:26.847500",
          "2011-10-10T14:23:23.576000",
          "2011-10-10T14:55:24.413000",
          "2011-10-10T15:24:06.709000"
         ],
         "y": [
          0.0565,
          0.058,
          0.049,
          0.051,
          0.056,
          0.053,
          0.0675,
          0.055,
          0.0515,
          0.04,
          0.0395,
          0.037,
          0.039,
          0.047,
          0.0465,
          0.055,
          0.048
         ]
        },
        {
         "mode": "lines",
         "name": "id-581413",
         "type": "scatter",
         "x": [
          "2011-10-10T13:02:08.842500",
          "2011-10-10T13:53:10.308000",
          "2011-10-10T14:30:43.559000",
          "2011-10-10T15:03:21.874000",
          "2011-10-10T15:32:49.402000",
          "2011-10-10T16:00:16.903000",
          "2011-10-10T16:26:43.667000",
          "2011-10-10T16:52:07.845000",
          "2011-10-10T17:17:32.537500",
          "2011-10-10T17:43:11.272000",
          "2011-10-10T18:11:20.644500",
          "2011-10-10T18:40:12.591500",
          "2011-10-10T19:10:37.687500",
          "2011-10-10T19:41:32.089500",
          "2011-10-10T20:14:37.100500",
          "2011-10-10T20:47:48.074500",
          "2011-10-10T21:21:46.789500",
          "2011-10-10T21:56:50.807000",
          "2011-10-10T22:34:33.092500",
          "2011-10-10T23:15:56.811500",
          "2011-10-10T23:58:13.382500",
          "2011-10-11T00:45:29.203000"
         ],
         "y": [
          0.0295,
          0.0225,
          0.0185,
          0.0215,
          0.0155,
          0.0245,
          0.0145,
          0.022,
          0.0205,
          0.0215,
          0.0205,
          0.0195,
          0.0175,
          0.022,
          0.021,
          0.0185,
          0.019,
          0.016,
          0.022,
          0.0155,
          0.0235,
          0.0155
         ]
        },
        {
         "mode": "lines",
         "name": "id-581414",
         "type": "scatter",
         "x": [
          "2011-10-10T02:09:43.528000",
          "2011-10-10T02:38:52.997000",
          "2011-10-10T03:08:28.269500",
          "2011-10-10T03:38:56.387500",
          "2011-10-10T04:11:22.957500",
          "2011-10-10T04:45:49.456500"
         ],
         "y": [
          0.0135,
          0.015,
          0.014,
          0.0155,
          0.01,
          0.0135
         ]
        },
        {
         "mode": "lines",
         "name": "id-583812",
         "type": "scatter",
         "x": [
          "2011-10-10T02:09:28.763000",
          "2011-10-10T02:39:01.225000",
          "2011-10-10T03:08:34.646500",
          "2011-10-10T03:39:43.088000",
          "2011-10-10T04:12:48.308500",
          "2011-10-10T04:48:04.484500",
          "2011-10-10T05:26:37.797000",
          "2011-10-10T06:10:01.644500",
          "2011-10-10T07:03:29.909500",
          "2011-10-10T08:13:41.187500",
          "2011-10-10T09:47:41.920000"
         ],
         "y": [
          0.039,
          0.036,
          0.037,
          0.029,
          0.042,
          0.041,
          0.037,
          0.036,
          0.0405,
          0.036,
          0.022
         ]
        },
        {
         "mode": "lines",
         "name": "id-583860",
         "type": "scatter",
         "x": [
          "2011-10-10T02:08:54.895000",
          "2011-10-10T02:37:07.611000",
          "2011-10-10T03:06:58.155500",
          "2011-10-10T03:38:05.735500",
          "2011-10-10T04:10:48.764500",
          "2011-10-10T04:45:41.487000",
          "2011-10-10T05:24:42.327500",
          "2011-10-10T06:08:15.114500",
          "2011-10-10T07:02:12.611500",
          "2011-10-10T08:09:54.876000",
          "2011-10-10T09:39:34.747000",
          "2011-10-10T11:25:12.116500"
         ],
         "y": [
          0.018,
          0.0295,
          0.02,
          0.02,
          0.0285,
          0.019,
          0.024,
          0.0265,
          0.0255,
          0.0205,
          0.0215,
          0.0155
         ]
        },
        {
         "mode": "lines",
         "name": "id-583936",
         "type": "scatter",
         "x": [
          "2011-10-10T02:08:55.089000",
          "2011-10-10T02:37:56.340500",
          "2011-10-10T03:06:48.667000",
          "2011-10-10T03:37:30.349000",
          "2011-10-10T04:09:57.626500",
          "2011-10-10T04:44:20.697500",
          "2011-10-10T05:24:09.559000",
          "2011-10-10T06:07:21.938000",
          "2011-10-10T07:00:06.323500",
          "2011-10-10T08:06:53.634500",
          "2011-10-10T09:35:18.097000",
          "2011-10-10T11:23:12.525000",
          "2011-10-10T12:51:59.555000",
          "2011-10-10T13:45:42.449500",
          "2011-10-10T14:23:58.888500",
          "2011-10-10T14:56:22.097500",
          "2011-10-10T15:25:20.267500",
          "2011-10-10T15:53:43.406000",
          "2011-10-10T16:21:00.674000",
          "2011-10-10T16:46:47.868000",
          "2011-10-10T17:12:42.874500",
          "2011-10-10T17:38:46.561000",
          "2011-10-10T18:05:04.137000",
          "2011-10-10T18:33:20.738000",
          "2011-10-10T19:03:41.013500",
          "2011-10-10T19:35:33.799500",
          "2011-10-10T20:08:43.699000",
          "2011-10-10T20:41:43.835000",
          "2011-10-10T21:15:39.173000",
          "2011-10-10T21:51:34.942500",
          "2011-10-10T22:28:19.802000",
          "2011-10-10T23:08:07.535000",
          "2011-10-10T23:49:28.796000",
          "2011-10-11T00:36:24.229500",
          "2011-10-11T01:24:25.988500"
         ],
         "y": [
          0.0495,
          0.0425,
          0.043,
          0.036,
          0.0455,
          0.037,
          0.041,
          0.043,
          0.045,
          0.0345,
          0.031,
          0.024,
          0.0285,
          0.0345,
          0.029,
          0.0375,
          0.0325,
          0.0315,
          0.029,
          0.025,
          0.032,
          0.029,
          0.039,
          0.0275,
          0.03,
          0.033,
          0.0275,
          0.032,
          0.0345,
          0.02,
          0.032,
          0.032,
          0.023,
          0.028,
          0.028
         ]
        },
        {
         "mode": "lines",
         "name": "id-583972",
         "type": "scatter",
         "x": [
          "2011-10-10T02:09:08.260000",
          "2011-10-10T02:38:46.697500",
          "2011-10-10T03:08:32.255000",
          "2011-10-10T03:39:40.380500",
          "2011-10-10T04:12:34.336000",
          "2011-10-10T04:48:05.484500",
          "2011-10-10T05:26:38.880500",
          "2011-10-10T06:09:03.728500",
          "2011-10-10T07:01:42.201500",
          "2011-10-10T08:06:11.952000",
          "2011-10-10T09:33:58.223500",
          "2011-10-10T11:24:14.488500",
          "2011-10-10T12:51:37.627000",
          "2011-10-10T13:45:38.277500",
          "2011-10-10T14:23:57.299500",
          "2011-10-10T14:56:40.574000",
          "2011-10-10T15:25:11.847000",
          "2011-10-10T15:52:59.172000",
          "2011-10-10T16:19:05.729500",
          "2011-10-10T16:44:05.041000",
          "2011-10-10T17:08:58.808000",
          "2011-10-10T17:34:53.036000",
          "2011-10-10T18:00:57.246000",
          "2011-10-10T18:29:37.712000"
         ],
         "y": [
          0.0185,
          0.0255,
          0.019,
          0.0185,
          0.0265,
          0.022,
          0.025,
          0.016,
          0.0155,
          0.016,
          0.014,
          0.0105,
          0.025,
          0.0195,
          0.021,
          0.0205,
          0.0225,
          0.0155,
          0.016,
          0.022,
          0.02,
          0.027,
          0.0195,
          0.023
         ]
        },
        {
         "mode": "lines",
         "name": "id-584027",
         "type": "scatter",
         "x": [
          "2011-10-10T13:18:27.075500",
          "2011-10-10T14:05:20.676500",
          "2011-10-10T14:42:16.124500",
          "2011-10-10T15:13:48.479000",
          "2011-10-10T15:42:23.762000",
          "2011-10-10T16:09:25.859000",
          "2011-10-10T16:35:36.149500",
          "2011-10-10T17:01:27.539000",
          "2011-10-10T17:26:30.208000",
          "2011-10-10T17:52:02.159500",
          "2011-10-10T18:20:58.319000",
          "2011-10-10T18:50:58.598500",
          "2011-10-10T19:23:53.311000",
          "2011-10-10T19:56:21.617000",
          "2011-10-10T20:29:48.327000",
          "2011-10-10T21:03:02.257000",
          "2011-10-10T21:37:21.816000",
          "2011-10-10T22:15:22.038500",
          "2011-10-10T22:54:49.531500",
          "2011-10-10T23:34:40.334500",
          "2011-10-11T00:19:21.857000",
          "2011-10-11T01:07:59.495500"
         ],
         "y": [
          0.057,
          0.0635,
          0.0555,
          0.069,
          0.0545,
          0.0605,
          0.0505,
          0.0575,
          0.052,
          0.068,
          0.0635,
          0.0575,
          0.0605,
          0.0665,
          0.0485,
          0.05,
          0.0595,
          0.0525,
          0.047,
          0.055,
          0.0505,
          0.0495
         ]
        },
        {
         "mode": "lines",
         "name": "id-584145",
         "type": "scatter",
         "x": [
          "2011-10-10T16:05:58.598500",
          "2011-10-10T16:31:57.249500",
          "2011-10-10T16:57:39.308500",
          "2011-10-10T17:23:54.280500",
          "2011-10-10T17:49:48.594000",
          "2011-10-10T18:18:49.607500",
          "2011-10-10T18:48:36.150000",
          "2011-10-10T19:19:38.800000",
          "2011-10-10T19:50:34.674500",
          "2011-10-10T20:23:42.873000",
          "2011-10-10T20:58:04.577500",
          "2011-10-10T21:33:31.234000",
          "2011-10-10T22:10:43.397000",
          "2011-10-10T22:49:36.512000",
          "2011-10-10T23:30:04.383500",
          "2011-10-11T00:14:43.508500",
          "2011-10-11T01:02:18.051000"
         ],
         "y": [
          0.015,
          0.012,
          0.015,
          0.0235,
          0.0155,
          0.019,
          0.013,
          0.014,
          0.0185,
          0.019,
          0.014,
          0.015,
          0.013,
          0.016,
          0.0125,
          0.018,
          0.0105
         ]
        },
        {
         "mode": "lines",
         "name": "id-584290",
         "type": "scatter",
         "x": [
          "2011-10-10T02:10:11.242500",
          "2011-10-10T02:40:07.611000",
          "2011-10-10T03:09:25.827500",
          "2011-10-10T03:39:01.489500",
          "2011-10-10T04:11:23.041500",
          "2011-10-10T04:47:04.558500",
          "2011-10-10T05:25:35.183000",
          "2011-10-10T06:07:04.843000",
          "2011-10-10T06:59:52.587000",
          "2011-10-10T08:09:30.517500",
          "2011-10-10T09:42:23.164000",
          "2011-10-10T11:28:05.323000"
         ],
         "y": [
          0.0235,
          0.032,
          0.029,
          0.0235,
          0.028,
          0.0325,
          0.028,
          0.0355,
          0.0305,
          0.0285,
          0.021,
          0.0145
         ]
        },
        {
         "mode": "lines",
         "name": "id-584408",
         "type": "scatter",
         "x": [
          "2011-10-10T13:24:00.828500",
          "2011-10-10T14:09:16.631000",
          "2011-10-10T14:43:54.547500",
          "2011-10-10T15:14:01.324500",
          "2011-10-10T15:41:53.356000",
          "2011-10-10T16:08:49.624000",
          "2011-10-10T16:34:21.450000",
          "2011-10-10T16:59:47.348500",
          "2011-10-10T17:25:21.576000",
          "2011-10-10T17:51:25.923500",
          "2011-10-10T18:20:12.248500",
          "2011-10-10T18:49:48.246000",
          "2011-10-10T19:21:32.343500",
          "2011-10-10T19:52:37.896500",
          "2011-10-10T20:25:30.236000",
          "2011-10-10T20:58:37.373000",
          "2011-10-10T21:33:26.942500",
          "2011-10-10T22:11:47.309000",
          "2011-10-10T22:50:56.572500",
          "2011-10-10T23:31:08.509500",
          "2011-10-11T00:15:37.502000",
          "2011-10-11T01:04:36.249000"
         ],
         "y": [
          0.049,
          0.06,
          0.0615,
          0.0645,
          0.049,
          0.053,
          0.052,
          0.0595,
          0.0555,
          0.056,
          0.05,
          0.047,
          0.053,
          0.046,
          0.0415,
          0.0435,
          0.052,
          0.048,
          0.0505,
          0.0495,
          0.0515,
          0.047
         ]
        },
        {
         "mode": "lines",
         "name": "id-584552",
         "type": "scatter",
         "x": [
          "2011-10-10T19:35:01.337000",
          "2011-10-10T20:07:20.305500",
          "2011-10-10T20:40:25.754500",
          "2011-10-10T21:14:06.812000",
          "2011-10-10T21:51:59.478500",
          "2011-10-10T22:30:21.290500",
          "2011-10-10T23:10:11.263000",
          "2011-10-10T23:53:06.274500",
          "2011-10-11T00:41:11.223500",
          "2011-10-11T01:29:41.291000"
         ],
         "y": [
          0.065,
          0.0425,
          0.0595,
          0.0465,
          0.0545,
          0.0575,
          0.049,
          0.0345,
          0.0475,
          0.0345
         ]
        },
        {
         "mode": "lines",
         "name": "id-584825",
         "type": "scatter",
         "x": [
          "2011-10-10T17:53:31.105000",
          "2011-10-10T18:21:12.566000",
          "2011-10-10T18:50:35.309500",
          "2011-10-10T19:21:53.549500",
          "2011-10-10T19:53:11.879000",
          "2011-10-10T20:26:55.457000",
          "2011-10-10T20:59:44.497500",
          "2011-10-10T21:34:54.329500",
          "2011-10-10T22:10:50.279500",
          "2011-10-10T22:49:33.010500",
          "2011-10-10T23:29:23.670500",
          "2011-10-11T00:13:18.583500",
          "2011-10-11T00:59:39.420000"
         ],
         "y": [
          0.036,
          0.032,
          0.0235,
          0.0285,
          0.0335,
          0.024,
          0.0245,
          0.0275,
          0.0275,
          0.028,
          0.019,
          0.0245,
          0.018
         ]
        },
        {
         "mode": "lines",
         "name": "id-584998",
         "type": "scatter",
         "x": [
          "2011-10-10T02:09:37.746500",
          "2011-10-10T02:38:29.669000",
          "2011-10-10T03:08:35.318000",
          "2011-10-10T03:38:45.646000",
          "2011-10-10T04:11:41.629500",
          "2011-10-10T04:45:49.316500",
          "2011-10-10T05:24:57.399500",
          "2011-10-10T06:08:39.069000",
          "2011-10-10T07:01:30.233000",
          "2011-10-10T08:11:25.147000",
          "2011-10-10T09:40:52.200000",
          "2011-10-10T11:27:40.210000",
          "2011-10-10T12:51:36.680000",
          "2011-10-10T13:47:01.499000",
          "2011-10-10T14:25:07.401000",
          "2011-10-10T14:58:02.423000",
          "2011-10-10T15:27:19.168000",
          "2011-10-10T15:54:36.141500",
          "2011-10-10T16:20:35.915500",
          "2011-10-10T16:46:54.325000",
          "2011-10-10T17:12:11.954000",
          "2011-10-10T17:37:24.200500",
          "2011-10-10T18:04:14.910000",
          "2011-10-10T18:34:18.052000",
          "2011-10-10T19:05:31.707000",
          "2011-10-10T19:37:31.750000",
          "2011-10-10T20:11:28.004000",
          "2011-10-10T20:43:55.422500",
          "2011-10-10T21:17:59.393000",
          "2011-10-10T21:53:50.802500",
          "2011-10-10T22:31:04.796000",
          "2011-10-10T23:09:52.617500",
          "2011-10-10T23:52:41.525500",
          "2011-10-11T00:40:33.924000",
          "2011-10-11T01:29:11.765500"
         ],
         "y": [
          0.066,
          0.072,
          0.066,
          0.0735,
          0.058,
          0.0555,
          0.06,
          0.0515,
          0.0495,
          0.0385,
          0.0435,
          0.04,
          0.0515,
          0.064,
          0.07,
          0.0695,
          0.0655,
          0.0645,
          0.051,
          0.0485,
          0.069,
          0.055,
          0.052,
          0.0585,
          0.0505,
          0.0565,
          0.056,
          0.0615,
          0.0575,
          0.0505,
          0.0525,
          0.0505,
          0.0545,
          0.046,
          0.0505
         ]
        },
        {
         "mode": "lines",
         "name": "id-585006",
         "type": "scatter",
         "x": [
          "2011-10-10T23:58:54.542500",
          "2011-10-11T00:47:07.097500"
         ],
         "y": [
          0.0105,
          0.01
         ]
        },
        {
         "mode": "lines",
         "name": "id-585034",
         "type": "scatter",
         "x": [
          "2011-10-10T02:09:08.224500",
          "2011-10-10T02:36:26.879000",
          "2011-10-10T03:04:50.233500",
          "2011-10-10T03:33:25.063000",
          "2011-10-10T04:05:16.666000",
          "2011-10-10T04:39:35.585000",
          "2011-10-10T05:16:37.077000",
          "2011-10-10T05:59:40.505000",
          "2011-10-10T06:49:59.717500",
          "2011-10-10T07:52:04.472500",
          "2011-10-10T09:19:37.886000",
          "2011-10-10T11:07:08.021000"
         ],
         "y": [
          0.055,
          0.0455,
          0.046,
          0.044,
          0.046,
          0.045,
          0.0445,
          0.0425,
          0.0405,
          0.0335,
          0.031,
          0.036
         ]
        },
        {
         "mode": "lines",
         "name": "id-585184",
         "type": "scatter",
         "x": [
          "2011-10-10T02:09:22.314000",
          "2011-10-10T02:38:49.650000",
          "2011-10-10T03:07:53.979000",
          "2011-10-10T03:37:51.711500",
          "2011-10-10T04:10:46.379500",
          "2011-10-10T04:45:54.538000",
          "2011-10-10T05:24:21.867500",
          "2011-10-10T06:08:14.149000",
          "2011-10-10T06:59:02.301500",
          "2011-10-10T08:05:52.997500",
          "2011-10-10T09:34:03.351500",
          "2011-10-10T11:19:44.062500",
          "2011-10-10T12:46:16.861500",
          "2011-10-10T13:40:34.263000",
          "2011-10-10T14:22:10.991000",
          "2011-10-10T14:56:04.124500",
          "2011-10-10T15:25:47.122000",
          "2011-10-10T15:53:05.732500",
          "2011-10-10T16:19:23.045000",
          "2011-10-10T16:45:11.550500",
          "2011-10-10T17:11:05.638500",
          "2011-10-10T17:37:08.272000",
          "2011-10-10T18:03:53.639000",
          "2011-10-10T18:32:46.051000",
          "2011-10-10T19:04:17.713500",
          "2011-10-10T19:36:08.585500",
          "2011-10-10T20:09:41.596000",
          "2011-10-10T20:42:15.794500",
          "2011-10-10T21:16:25.205000",
          "2011-10-10T21:51:16.798000",
          "2011-10-10T22:29:02.230500",
          "2011-10-10T23:08:28.864000",
          "2011-10-10T23:52:12.273500",
          "2011-10-11T00:41:11.896000",
          "2011-10-11T01:30:08.126000"
         ],
         "y": [
          0.065,
          0.07,
          0.061,
          0.056,
          0.056,
          0.064,
          0.0625,
          0.05,
          0.054,
          0.05,
          0.0385,
          0.039,
          0.0495,
          0.0515,
          0.0565,
          0.051,
          0.0625,
          0.06,
          0.0575,
          0.066,
          0.0585,
          0.0565,
          0.0545,
          0.0555,
          0.056,
          0.0475,
          0.052,
          0.049,
          0.046,
          0.043,
          0.0425,
          0.04,
          0.038,
          0.0385,
          0.0435
         ]
        },
        {
         "mode": "lines",
         "name": "id-585686",
         "type": "scatter",
         "x": [
          "2011-10-10T02:09:38.251000",
          "2011-10-10T02:40:06.308500",
          "2011-10-10T03:10:09.991500",
          "2011-10-10T03:41:32.092000",
          "2011-10-10T04:14:25.738000",
          "2011-10-10T04:49:03.618500",
          "2011-10-10T05:27:47.326000",
          "2011-10-10T06:10:41.592500",
          "2011-10-10T07:02:11.597000",
          "2011-10-10T08:11:20.042000",
          "2011-10-10T09:41:34.903000",
          "2011-10-10T11:25:31.383500",
          "2011-10-10T12:49:50.426000",
          "2011-10-10T13:43:43.349000",
          "2011-10-10T14:23:22.976500",
          "2011-10-10T14:56:23.495000",
          "2011-10-10T15:25:51.989000",
          "2011-10-10T15:53:26.143000",
          "2011-10-10T16:20:07.920500",
          "2011-10-10T16:46:07.473000",
          "2011-10-10T17:12:24.392000",
          "2011-10-10T17:38:09.912500",
          "2011-10-10T18:04:26.963000",
          "2011-10-10T18:32:52.318000",
          "2011-10-10T19:04:04.698000",
          "2011-10-10T19:35:08.493500",
          "2011-10-10T20:07:10.728500",
          "2011-10-10T20:39:57.866000",
          "2011-10-10T21:13:34.733000",
          "2011-10-10T21:47:34.533500",
          "2011-10-10T22:24:12.155500",
          "2011-10-10T23:04:56.404000",
          "2011-10-10T23:47:10.286000",
          "2011-10-11T00:32:56.985500",
          "2011-10-11T01:19:42.118500"
         ],
         "y": [
          0.016,
          0.018,
          0.0195,
          0.012,
          0.013,
          0.016,
          0.0155,
          0.014,
          0.018,
          0.0175,
          0.0125,
          0.0145,
          0.011,
          0.0125,
          0.017,
          0.014,
          0.0115,
          0.0075,
          0.009,
          0.0115,
          0.008,
          0.0155,
          0.0155,
          0.0105,
          0.0115,
          0.013,
          0.011,
          0.0085,
          0.0105,
          0.0135,
          0.015,
          0.011,
          0.0125,
          0.01,
          0.0135
         ]
        },
        {
         "mode": "lines",
         "name": "id-587385",
         "type": "scatter",
         "x": [
          "2011-10-10T02:10:09.254000",
          "2011-10-10T02:40:40.102500",
          "2011-10-10T03:10:34.257000",
          "2011-10-10T03:41:13.880500",
          "2011-10-10T04:13:51.802000",
          "2011-10-10T04:48:54.820500"
         ],
         "y": [
          0.0345,
          0.033,
          0.0345,
          0.0435,
          0.0385,
          0.0325
         ]
        },
        {
         "mode": "lines",
         "name": "id-587427",
         "type": "scatter",
         "x": [
          "2011-10-10T02:08:56.653000",
          "2011-10-10T02:37:16.156000"
         ],
         "y": [
          0.023,
          0.0215
         ]
        },
        {
         "mode": "lines",
         "name": "id-587956",
         "type": "scatter",
         "x": [
          "2011-10-10T02:09:40.290000",
          "2011-10-10T02:39:17.723500",
          "2011-10-10T03:08:58.438500",
          "2011-10-10T03:40:19.552000",
          "2011-10-10T04:12:53.818000",
          "2011-10-10T04:48:45.702000",
          "2011-10-10T05:28:17.032500",
          "2011-10-10T06:13:08.820000",
          "2011-10-10T07:08:51.813000",
          "2011-10-10T08:20:49.468000",
          "2011-10-10T09:54:29.725500",
          "2011-10-10T11:40:40.540000",
          "2011-10-10T12:59:23.004000",
          "2011-10-10T13:50:25.709000",
          "2011-10-10T14:28:15.995000",
          "2011-10-10T15:00:49.170500",
          "2011-10-10T15:31:08.816500",
          "2011-10-10T15:59:01.838000",
          "2011-10-10T16:25:06.344000",
          "2011-10-10T16:50:54.788500",
          "2011-10-10T17:16:55.442000"
         ],
         "y": [
          0.024,
          0.0205,
          0.025,
          0.024,
          0.027,
          0.026,
          0.0265,
          0.022,
          0.028,
          0.026,
          0.0205,
          0.021,
          0.017,
          0.02,
          0.0205,
          0.0255,
          0.031,
          0.023,
          0.0155,
          0.018,
          0.027
         ]
        },
        {
         "mode": "lines",
         "name": "id-588082",
         "type": "scatter",
         "x": [
          "2011-10-10T02:09:25.572000",
          "2011-10-10T02:38:01.237500",
          "2011-10-10T03:07:14.287000",
          "2011-10-10T03:35:51.995500",
          "2011-10-10T04:08:06.917500",
          "2011-10-10T04:41:28.423500",
          "2011-10-10T05:18:41.863500",
          "2011-10-10T06:00:25.910000",
          "2011-10-10T06:50:50.707000",
          "2011-10-10T07:55:27.943500",
          "2011-10-10T09:19:54.844500",
          "2011-10-10T11:03:50.881000",
          "2011-10-10T12:35:01.344000",
          "2011-10-10T13:33:56.714500",
          "2011-10-10T14:16:00.109500",
          "2011-10-10T14:49:55.434000",
          "2011-10-10T15:19:39.027500",
          "2011-10-10T15:47:15.258000",
          "2011-10-10T16:13:56.895500",
          "2011-10-10T16:39:32.145500",
          "2011-10-10T17:05:28.200000"
         ],
         "y": [
          0.015,
          0.019,
          0.0145,
          0.0215,
          0.0165,
          0.021,
          0.014,
          0.0175,
          0.0175,
          0.016,
          0.012,
          0.0165,
          0.0135,
          0.0165,
          0.0135,
          0.0165,
          0.0155,
          0.018,
          0.016,
          0.0175,
          0.015
         ]
        },
        {
         "mode": "lines",
         "name": "id-588119",
         "type": "scatter",
         "x": [
          "2011-10-10T02:09:48.891000",
          "2011-10-10T02:38:45.114000",
          "2011-10-10T03:07:44.336500",
          "2011-10-10T03:37:38.192500",
          "2011-10-10T04:10:22.777500",
          "2011-10-10T04:45:14.938500",
          "2011-10-10T05:23:23.152500",
          "2011-10-10T06:06:29.448500",
          "2011-10-10T07:00:25.764000",
          "2011-10-10T08:06:01.364500",
          "2011-10-10T09:35:09.184000",
          "2011-10-10T11:21:24.696000",
          "2011-10-10T12:48:14.181500",
          "2011-10-10T13:43:38.892000",
          "2011-10-10T14:23:13.005000",
          "2011-10-10T14:55:58.807000",
          "2011-10-10T15:24:53.953500",
          "2011-10-10T15:52:19.484500",
          "2011-10-10T16:18:11.001500",
          "2011-10-10T16:43:56.541000",
          "2011-10-10T17:08:55.731500",
          "2011-10-10T17:35:04.225000",
          "2011-10-10T18:01:47.557500",
          "2011-10-10T18:30:09.818000",
          "2011-10-10T19:00:39.230500"
         ],
         "y": [
          0.0535,
          0.0625,
          0.062,
          0.0515,
          0.0595,
          0.0445,
          0.047,
          0.05,
          0.0445,
          0.0345,
          0.033,
          0.0385,
          0.036,
          0.043,
          0.051,
          0.046,
          0.0485,
          0.044,
          0.0405,
          0.047,
          0.042,
          0.037,
          0.043,
          0.0365,
          0.0375
         ]
        },
        {
         "mode": "lines",
         "name": "id-588171",
         "type": "scatter",
         "x": [
          "2011-10-10T02:09:15.590000",
          "2011-10-10T02:38:50.320500",
          "2011-10-10T03:07:55.832500",
          "2011-10-10T03:39:07.185000",
          "2011-10-10T04:11:22.419500",
          "2011-10-10T04:45:37.753000",
          "2011-10-10T05:22:30.983500",
          "2011-10-10T06:05:36.763500",
          "2011-10-10T06:56:26.198000",
          "2011-10-10T08:01:29.071000",
          "2011-10-10T09:26:59.794500",
          "2011-10-10T11:11:17.969500",
          "2011-10-10T12:42:10.233000",
          "2011-10-10T13:39:24.243500",
          "2011-10-10T14:19:47.963000",
          "2011-10-10T14:53:13.158500",
          "2011-10-10T15:22:59.622000",
          "2011-10-10T15:50:20.624500",
          "2011-10-10T16:16:54.025000",
          "2011-10-10T16:43:05.235000",
          "2011-10-10T17:08:53.723000"
         ],
         "y": [
          0.017,
          0.0225,
          0.0155,
          0.0195,
          0.021,
          0.0195,
          0.0155,
          0.0205,
          0.0195,
          0.013,
          0.015,
          0.014,
          0.016,
          0.018,
          0.0155,
          0.023,
          0.017,
          0.0155,
          0.017,
          0.0085,
          0.013
         ]
        },
        {
         "mode": "lines",
         "name": "id-588233",
         "type": "scatter",
         "x": [
          "2011-10-10T02:09:39.620000",
          "2011-10-10T02:39:37.039000",
          "2011-10-10T03:08:49.172500",
          "2011-10-10T03:39:00.904000",
          "2011-10-10T04:11:47.753000",
          "2011-10-10T04:46:12.450000",
          "2011-10-10T05:25:05.526000",
          "2011-10-10T06:07:47.606000",
          "2011-10-10T07:00:06.451000",
          "2011-10-10T08:07:59.780000",
          "2011-10-10T09:36:37.771000",
          "2011-10-10T11:24:36.398000",
          "2011-10-10T12:51:33.332000",
          "2011-10-10T13:46:08.740000",
          "2011-10-10T14:26:12.082000",
          "2011-10-10T14:58:47.051000",
          "2011-10-10T15:27:13.105500",
          "2011-10-10T15:54:40.605500",
          "2011-10-10T16:20:37.723500",
          "2011-10-10T16:45:44.631000",
          "2011-10-10T17:10:47.760000",
          "2011-10-10T17:36:42.218000",
          "2011-10-10T18:03:27.757000",
          "2011-10-10T18:31:37.252500",
          "2011-10-10T19:01:55.529000"
         ],
         "y": [
          0.045,
          0.0435,
          0.048,
          0.051,
          0.0455,
          0.0535,
          0.042,
          0.0395,
          0.0455,
          0.0385,
          0.039,
          0.0225,
          0.0355,
          0.0305,
          0.0345,
          0.04,
          0.041,
          0.045,
          0.0385,
          0.041,
          0.038,
          0.041,
          0.0365,
          0.036,
          0.041
         ]
        },
        {
         "mode": "lines",
         "name": "id-588235",
         "type": "scatter",
         "x": [
          "2011-10-10T02:24:26.417000",
          "2011-10-10T02:53:46.097500",
          "2011-10-10T03:22:56.576000",
          "2011-10-10T03:53:54.377000",
          "2011-10-10T04:28:10.910000",
          "2011-10-10T05:04:37.378000",
          "2011-10-10T05:46:25.509500",
          "2011-10-10T06:33:57.362500",
          "2011-10-10T07:31:57.993000",
          "2011-10-10T08:46:20.315000",
          "2011-10-10T10:23:03.067000",
          "2011-10-10T12:07:08.695000",
          "2011-10-10T13:18:06.953500",
          "2011-10-10T14:03:53.567500",
          "2011-10-10T14:38:58.643500",
          "2011-10-10T15:10:17.487000",
          "2011-10-10T15:39:29.223000",
          "2011-10-10T16:06:43.226000",
          "2011-10-10T16:33:12.582000",
          "2011-10-10T16:58:43.001000",
          "2011-10-10T17:24:08.684500",
          "2011-10-10T17:49:42.196500",
          "2011-10-10T18:17:42.390000",
          "2011-10-10T18:47:58.889000",
          "2011-10-10T19:20:17.885500",
          "2011-10-10T19:53:09.815000",
          "2011-10-10T20:26:38.275000",
          "2011-10-10T20:58:39.939500",
          "2011-10-10T21:34:24.960500",
          "2011-10-10T22:12:15.900000",
          "2011-10-10T22:50:33.311000",
          "2011-10-10T23:30:59.115500",
          "2011-10-11T00:16:29.825500"
         ],
         "y": [
          0.0345,
          0.041,
          0.034,
          0.029,
          0.033,
          0.028,
          0.0285,
          0.025,
          0.0275,
          0.014,
          0.018,
          0.0205,
          0.026,
          0.0225,
          0.0265,
          0.0245,
          0.031,
          0.026,
          0.025,
          0.024,
          0.025,
          0.019,
          0.023,
          0.027,
          0.022,
          0.027,
          0.027,
          0.0255,
          0.023,
          0.0175,
          0.0235,
          0.026,
          0.025
         ]
        },
        {
         "mode": "lines",
         "name": "id-588270",
         "type": "scatter",
         "x": [
          "2011-10-10T02:09:43.543500",
          "2011-10-10T02:39:11.273500",
          "2011-10-10T03:10:02.952500",
          "2011-10-10T03:40:39.937000",
          "2011-10-10T04:12:40.621500",
          "2011-10-10T04:47:03.642500",
          "2011-10-10T05:25:00.004000",
          "2011-10-10T06:07:56.744500",
          "2011-10-10T07:00:48.687500",
          "2011-10-10T08:09:01.100000",
          "2011-10-10T09:37:31.177000",
          "2011-10-10T11:19:39.004500",
          "2011-10-10T12:47:53.808500",
          "2011-10-10T13:42:36.362000",
          "2011-10-10T14:22:58.333000",
          "2011-10-10T14:55:49.488500",
          "2011-10-10T15:24:42.180000",
          "2011-10-10T15:52:01.899500",
          "2011-10-10T16:18:46.696000",
          "2011-10-10T16:44:31.708500",
          "2011-10-10T17:09:30.415000",
          "2011-10-10T17:35:40.267000",
          "2011-10-10T18:02:46.071500",
          "2011-10-10T18:32:17.249000",
          "2011-10-10T19:03:23.107500",
          "2011-10-10T19:35:35.331000"
         ],
         "y": [
          0.053,
          0.054,
          0.054,
          0.0535,
          0.045,
          0.0435,
          0.045,
          0.0445,
          0.04,
          0.0365,
          0.0225,
          0.025,
          0.036,
          0.0385,
          0.0405,
          0.035,
          0.0405,
          0.0295,
          0.04,
          0.0375,
          0.0325,
          0.0295,
          0.0315,
          0.038,
          0.033,
          0.033
         ]
        },
        {
         "mode": "lines",
         "name": "id-588379",
         "type": "scatter",
         "x": [
          "2011-10-10T02:08:31.853500",
          "2011-10-10T02:37:47.644500",
          "2011-10-10T03:07:01.990000",
          "2011-10-10T03:36:41.870000",
          "2011-10-10T04:08:11.891000",
          "2011-10-10T04:42:27.879500",
          "2011-10-10T05:20:34.905000",
          "2011-10-10T06:01:47.081500",
          "2011-10-10T06:53:33.653500",
          "2011-10-10T08:01:55.419500",
          "2011-10-10T09:26:45.107500",
          "2011-10-10T11:11:52.285500",
          "2011-10-10T12:40:49.287500",
          "2011-10-10T13:37:08.342500",
          "2011-10-10T14:18:06.183500",
          "2011-10-10T14:51:41.545500",
          "2011-10-10T15:21:26.927000",
          "2011-10-10T15:48:38.508000",
          "2011-10-10T16:14:44.081000",
          "2011-10-10T16:40:42.942500",
          "2011-10-10T17:06:06.470500",
          "2011-10-10T17:31:28.280500",
          "2011-10-10T17:56:41.525000",
          "2011-10-10T18:25:31.097000",
          "2011-10-10T18:55:18.986500",
          "2011-10-10T19:26:40.869000",
          "2011-10-10T19:59:56.206500",
          "2011-10-10T20:33:26.119500",
          "2011-10-10T21:06:56.399500",
          "2011-10-10T21:42:33.170500"
         ],
         "y": [
          0.046,
          0.0475,
          0.0485,
          0.051,
          0.0365,
          0.0385,
          0.0425,
          0.029,
          0.042,
          0.031,
          0.021,
          0.025,
          0.033,
          0.0325,
          0.035,
          0.0525,
          0.032,
          0.0345,
          0.033,
          0.037,
          0.0315,
          0.033,
          0.0355,
          0.0325,
          0.032,
          0.0265,
          0.0275,
          0.029,
          0.0315,
          0.034
         ]
        },
        {
         "mode": "lines",
         "name": "id-588382",
         "type": "scatter",
         "x": [
          "2011-10-10T18:04:07.008500",
          "2011-10-10T18:32:51.313000",
          "2011-10-10T19:03:08.890500",
          "2011-10-10T19:34:43.227000",
          "2011-10-10T20:06:41.623000",
          "2011-10-10T20:39:57.662000",
          "2011-10-10T21:14:15.499500",
          "2011-10-10T21:51:07.016500",
          "2011-10-10T22:28:21.240000",
          "2011-10-10T23:07:30.933500",
          "2011-10-10T23:48:17.107500",
          "2011-10-11T00:34:59.240000",
          "2011-10-11T01:23:26.102500"
         ],
         "y": [
          0.018,
          0.0125,
          0.0105,
          0.0135,
          0.0125,
          0.0125,
          0.0115,
          0.0155,
          0.012,
          0.009,
          0.0145,
          0.0115,
          0.007
         ]
        },
        {
         "mode": "lines",
         "name": "id-588386",
         "type": "scatter",
         "x": [
          "2011-10-10T02:09:40.350000",
          "2011-10-10T02:38:06.403500",
          "2011-10-10T03:06:52.388000",
          "2011-10-10T03:36:56.487000",
          "2011-10-10T04:08:30.683500",
          "2011-10-10T04:43:07.726500",
          "2011-10-10T05:21:00.617000",
          "2011-10-10T06:04:55.798000",
          "2011-10-10T06:57:13.461000",
          "2011-10-10T08:01:49.700000",
          "2011-10-10T09:31:25.298000",
          "2011-10-10T11:16:31.336000",
          "2011-10-10T12:44:21.687500",
          "2011-10-10T13:41:29.690500",
          "2011-10-10T14:21:35.461500",
          "2011-10-10T14:54:35.859500",
          "2011-10-10T15:23:30.303000",
          "2011-10-10T15:51:04.624500",
          "2011-10-10T16:17:12.392000",
          "2011-10-10T16:43:24.050500",
          "2011-10-10T17:10:07.873500",
          "2011-10-10T17:37:13.193000",
          "2011-10-10T18:04:49.436000",
          "2011-10-10T18:33:51.618500",
          "2011-10-10T19:04:59.841500",
          "2011-10-10T19:36:27.508500",
          "2011-10-10T20:09:11.450000"
         ],
         "y": [
          0.0435,
          0.039,
          0.0405,
          0.048,
          0.0385,
          0.0345,
          0.039,
          0.037,
          0.0305,
          0.0325,
          0.028,
          0.031,
          0.029,
          0.039,
          0.048,
          0.035,
          0.0365,
          0.032,
          0.0355,
          0.032,
          0.0375,
          0.0385,
          0.034,
          0.04,
          0.0335,
          0.0445,
          0.035
         ]
        },
        {
         "mode": "lines",
         "name": "id-588460",
         "type": "scatter",
         "x": [
          "2011-10-10T04:09:18.001500",
          "2011-10-10T04:44:24.643000",
          "2011-10-10T05:22:25.104000",
          "2011-10-10T06:06:30.280500",
          "2011-10-10T06:59:53.689000",
          "2011-10-10T08:05:56.438500",
          "2011-10-10T09:31:41.434500",
          "2011-10-10T11:16:52.415500",
          "2011-10-10T12:44:53.993000",
          "2011-10-10T13:40:49.034000",
          "2011-10-10T14:21:44.123500",
          "2011-10-10T14:55:49.867500",
          "2011-10-10T15:24:59.325000",
          "2011-10-10T15:53:07.104000",
          "2011-10-10T16:20:08.486500",
          "2011-10-10T16:46:11.896500",
          "2011-10-10T17:11:06.989000",
          "2011-10-10T17:36:28.499500",
          "2011-10-10T18:02:34.316000",
          "2011-10-10T18:32:12.073000",
          "2011-10-10T19:02:28.634000",
          "2011-10-10T19:34:29.762000",
          "2011-10-10T20:08:16.974500",
          "2011-10-10T20:40:54.034000",
          "2011-10-10T21:15:29.545000",
          "2011-10-10T21:52:20.312000",
          "2011-10-10T22:32:13.921000",
          "2011-10-10T23:14:13.001000",
          "2011-10-10T23:59:36.843500",
          "2011-10-11T00:48:08.708500"
         ],
         "y": [
          0.07,
          0.0565,
          0.0665,
          0.0615,
          0.0395,
          0.043,
          0.028,
          0.0345,
          0.0455,
          0.0595,
          0.0635,
          0.0585,
          0.055,
          0.0545,
          0.049,
          0.051,
          0.0555,
          0.051,
          0.049,
          0.0455,
          0.047,
          0.0515,
          0.0505,
          0.038,
          0.0425,
          0.0385,
          0.0415,
          0.044,
          0.0475,
          0.036
         ]
        },
        {
         "mode": "lines",
         "name": "id-588486",
         "type": "scatter",
         "x": [
          "2011-10-10T02:45:52.412500",
          "2011-10-10T03:16:11.275500",
          "2011-10-10T03:47:20.175500",
          "2011-10-10T04:19:37.307000",
          "2011-10-10T04:55:12.739500",
          "2011-10-10T05:35:36.351000",
          "2011-10-10T06:19:54.722500",
          "2011-10-10T07:16:41.807500",
          "2011-10-10T08:29:10.927000",
          "2011-10-10T10:04:05.468500",
          "2011-10-10T11:48:24.456000",
          "2011-10-10T13:04:36.107500",
          "2011-10-10T13:55:40.545500",
          "2011-10-10T14:33:08.883000",
          "2011-10-10T15:05:23.022500",
          "2011-10-10T15:34:40.724500",
          "2011-10-10T16:02:01.908500",
          "2011-10-10T16:28:21.112500",
          "2011-10-10T16:53:47.094500",
          "2011-10-10T17:20:48.191500",
          "2011-10-10T17:47:06.963500",
          "2011-10-10T18:15:36.113500",
          "2011-10-10T18:45:04.524000",
          "2011-10-10T19:17:07.102500",
          "2011-10-10T19:48:28.591000",
          "2011-10-10T20:21:36.324500",
          "2011-10-10T20:54:48.921000",
          "2011-10-10T21:29:01.664000",
          "2011-10-10T22:06:24.795000",
          "2011-10-10T22:46:26.069500",
          "2011-10-10T23:25:26.028500",
          "2011-10-11T00:10:07.400500"
         ],
         "y": [
          0.0885,
          0.085,
          0.073,
          0.0845,
          0.0755,
          0.0675,
          0.0685,
          0.0495,
          0.0415,
          0.039,
          0.0455,
          0.0675,
          0.0665,
          0.067,
          0.074,
          0.0635,
          0.067,
          0.062,
          0.0585,
          0.0555,
          0.051,
          0.0545,
          0.046,
          0.0485,
          0.045,
          0.052,
          0.046,
          0.0465,
          0.0455,
          0.0525,
          0.0385,
          0.033
         ]
        },
        {
         "mode": "lines",
         "name": "id-588576",
         "type": "scatter",
         "x": [
          "2011-10-10T03:33:17.933500",
          "2011-10-10T04:06:10.364500",
          "2011-10-10T04:40:45.415500",
          "2011-10-10T05:19:10.446500",
          "2011-10-10T06:02:16.882500",
          "2011-10-10T06:55:47.955500",
          "2011-10-10T08:01:41.419000",
          "2011-10-10T09:28:15.991000",
          "2011-10-10T11:14:21.822000",
          "2011-10-10T12:46:10.870000",
          "2011-10-10T13:42:49.009500",
          "2011-10-10T14:22:11.777000",
          "2011-10-10T14:55:30.043000",
          "2011-10-10T15:24:40.236000",
          "2011-10-10T15:52:31.228000",
          "2011-10-10T16:19:40.510500",
          "2011-10-10T16:45:44.359000",
          "2011-10-10T17:11:00.281500",
          "2011-10-10T17:36:17.413500",
          "2011-10-10T18:02:58.437500",
          "2011-10-10T18:30:55.620500",
          "2011-10-10T19:00:56.309000",
          "2011-10-10T19:31:54.292500",
          "2011-10-10T20:04:09.036000",
          "2011-10-10T20:37:38.104500",
          "2011-10-10T21:09:59.910000",
          "2011-10-10T21:44:28.522500",
          "2011-10-10T22:22:16.793500",
          "2011-10-10T23:02:13.667500",
          "2011-10-10T23:43:41.399000",
          "2011-10-11T00:30:39.192500"
         ],
         "y": [
          0.0165,
          0.0135,
          0.0155,
          0.0135,
          0.016,
          0.018,
          0.0115,
          0.01,
          0.007,
          0.005,
          0.0075,
          0.0145,
          0.0135,
          0.0125,
          0.0075,
          0.013,
          0.0125,
          0.0065,
          0.013,
          0.009,
          0.0095,
          0.016,
          0.0075,
          0.01,
          0.015,
          0.0085,
          0.0095,
          0.0115,
          0.0105,
          0.005,
          0.0065
         ]
        },
        {
         "mode": "lines",
         "name": "id-588738",
         "type": "scatter",
         "x": [
          "2011-10-10T05:52:28.961500",
          "2011-10-10T06:41:08.275000",
          "2011-10-10T07:43:02.904000",
          "2011-10-10T09:03:04.127500",
          "2011-10-10T10:45:48.685000",
          "2011-10-10T12:25:02.454500",
          "2011-10-10T13:27:58.207000",
          "2011-10-10T14:10:37.370000",
          "2011-10-10T14:45:10.827000",
          "2011-10-10T15:16:16.485500",
          "2011-10-10T15:45:25.194500",
          "2011-10-10T16:13:16.538500",
          "2011-10-10T16:39:15.190500",
          "2011-10-10T17:04:50.648000",
          "2011-10-10T17:30:52.215000",
          "2011-10-10T17:57:38.961500",
          "2011-10-10T18:27:54.987000",
          "2011-10-10T18:58:25.644500",
          "2011-10-10T19:30:01.585500",
          "2011-10-10T20:03:12.427000",
          "2011-10-10T20:37:10.408000",
          "2011-10-10T21:11:10.179500",
          "2011-10-10T21:47:41.888500",
          "2011-10-10T22:26:09.106000",
          "2011-10-10T23:05:49.973500",
          "2011-10-10T23:48:05.774000",
          "2011-10-11T00:35:17.155000",
          "2011-10-11T01:23:14.694500"
         ],
         "y": [
          0.04,
          0.0305,
          0.0225,
          0.018,
          0.015,
          0.019,
          0.023,
          0.027,
          0.0275,
          0.0315,
          0.0315,
          0.0245,
          0.03,
          0.021,
          0.0255,
          0.024,
          0.0265,
          0.024,
          0.021,
          0.023,
          0.022,
          0.018,
          0.0255,
          0.0145,
          0.022,
          0.022,
          0.0155,
          0.02
         ]
        },
        {
         "mode": "lines",
         "name": "id-589906",
         "type": "scatter",
         "x": [
          "2011-10-10T18:28:53.057500",
          "2011-10-10T18:59:07.001500",
          "2011-10-10T19:30:46.458000",
          "2011-10-10T20:02:26.205500",
          "2011-10-10T20:34:35.186500",
          "2011-10-10T21:07:46.267000",
          "2011-10-10T21:43:45.202000",
          "2011-10-10T22:21:44.524500",
          "2011-10-10T23:00:28.734000",
          "2011-10-10T23:41:11.677000",
          "2011-10-11T00:26:41.676000",
          "2011-10-11T01:15:46.654000"
         ],
         "y": [
          0.0945,
          0.095,
          0.0895,
          0.085,
          0.0835,
          0.083,
          0.079,
          0.069,
          0.0655,
          0.0695,
          0.0655,
          0.0605
         ]
        },
        {
         "mode": "lines",
         "name": "id-590187",
         "type": "scatter",
         "x": [
          "2011-10-10T19:20:40.364500",
          "2011-10-10T19:52:33.228000",
          "2011-10-10T20:25:48.859000",
          "2011-10-10T20:58:51.239500",
          "2011-10-10T21:34:22.417000",
          "2011-10-10T22:10:54.047500",
          "2011-10-10T22:50:01.708000",
          "2011-10-10T23:31:25.114500",
          "2011-10-11T00:16:33.907000",
          "2011-10-11T01:06:03.196500"
         ],
         "y": [
          0.0725,
          0.066,
          0.0615,
          0.0575,
          0.064,
          0.051,
          0.0545,
          0.048,
          0.031,
          0.0385
         ]
        },
        {
         "mode": "lines",
         "name": "id-590298",
         "type": "scatter",
         "x": [
          "2011-10-10T20:03:23.624000",
          "2011-10-10T20:36:28.124500",
          "2011-10-10T21:09:11.574000",
          "2011-10-10T21:43:55.578500",
          "2011-10-10T22:21:10.585500",
          "2011-10-10T23:00:27.804000",
          "2011-10-10T23:42:02.851000",
          "2011-10-11T00:29:13.294000",
          "2011-10-11T01:18:16.898500"
         ],
         "y": [
          0.032,
          0.031,
          0.0355,
          0.034,
          0.0315,
          0.029,
          0.0315,
          0.032,
          0.0255
         ]
        },
        {
         "mode": "lines",
         "name": "id-590365",
         "type": "scatter",
         "x": [
          "2011-10-10T21:02:54.484000",
          "2011-10-10T21:37:28.039000",
          "2011-10-10T22:15:20.016000",
          "2011-10-10T22:53:58.266500",
          "2011-10-10T23:35:20.765000",
          "2011-10-11T00:21:31.597000",
          "2011-10-11T01:09:56.376500"
         ],
         "y": [
          0.015,
          0.016,
          0.01,
          0.0115,
          0.018,
          0.011,
          0.0105
         ]
        },
        {
         "mode": "lines",
         "name": "id-590390",
         "type": "scatter",
         "x": [
          "2011-10-10T20:08:21.859000",
          "2011-10-10T20:41:18.532000",
          "2011-10-10T21:15:29.522500",
          "2011-10-10T21:53:03.076000",
          "2011-10-10T22:31:38.063500",
          "2011-10-10T23:11:54.214000",
          "2011-10-10T23:54:41.857000",
          "2011-10-11T00:41:25.974500",
          "2011-10-11T01:28:53.775500"
         ],
         "y": [
          0.1505,
          0.1385,
          0.1295,
          0.1325,
          0.119,
          0.111,
          0.112,
          0.098,
          0.093
         ]
        },
        {
         "mode": "lines",
         "name": "id-590405",
         "type": "scatter",
         "x": [
          "2011-10-10T21:18:00.039500",
          "2011-10-10T21:54:35.517500",
          "2011-10-10T22:32:14.305000",
          "2011-10-10T23:11:10.058000",
          "2011-10-10T23:51:55.561500",
          "2011-10-11T00:38:39.676500",
          "2011-10-11T01:27:05.567500"
         ],
         "y": [
          0.035,
          0.042,
          0.0385,
          0.033,
          0.022,
          0.0255,
          0.026
         ]
        },
        {
         "mode": "lines",
         "name": "id-590761",
         "type": "scatter",
         "x": [
          "2011-10-10T22:32:47.882000",
          "2011-10-10T23:12:28.638000",
          "2011-10-10T23:55:39.462000",
          "2011-10-11T00:42:10.564500",
          "2011-10-11T01:29:50.535500"
         ],
         "y": [
          0.06,
          0.045,
          0.032,
          0.037,
          0.0345
         ]
        },
        {
         "mode": "lines",
         "name": "id-590806",
         "type": "scatter",
         "x": [
          "2011-10-10T21:55:59.284500",
          "2011-10-10T22:35:19.380500",
          "2011-10-10T23:15:52.873500",
          "2011-10-10T23:58:54.141000",
          "2011-10-11T00:46:08.400500"
         ],
         "y": [
          0.051,
          0.0445,
          0.0425,
          0.036,
          0.037
         ]
        },
        {
         "mode": "lines",
         "name": "id-590824",
         "type": "scatter",
         "x": [
          "2011-10-10T22:07:15.799500",
          "2011-10-10T22:47:02.405500",
          "2011-10-10T23:27:31.871500",
          "2011-10-11T00:12:00.267500",
          "2011-10-11T00:58:40.803000"
         ],
         "y": [
          0.0795,
          0.0865,
          0.0725,
          0.0675,
          0.0655
         ]
        },
        {
         "mode": "lines",
         "name": "id-590958",
         "type": "scatter",
         "x": [
          "2011-10-11T00:04:59.182000",
          "2011-10-11T00:53:30.416000"
         ],
         "y": [
          0.048,
          0.05
         ]
        },
        {
         "mode": "lines",
         "name": "id-591319",
         "type": "scatter",
         "x": [
          "2011-10-11T00:11:22.321500",
          "2011-10-11T00:59:47.350500"
         ],
         "y": [
          0.0275,
          0.0255
         ]
        }
       ],
       "layout": {
        "template": {
         "data": {
          "bar": [
           {
            "error_x": {
             "color": "#2a3f5f"
            },
            "error_y": {
             "color": "#2a3f5f"
            },
            "marker": {
             "line": {
              "color": "#E5ECF6",
              "width": 0.5
             },
             "pattern": {
              "fillmode": "overlay",
              "size": 10,
              "solidity": 0.2
             }
            },
            "type": "bar"
           }
          ],
          "barpolar": [
           {
            "marker": {
             "line": {
              "color": "#E5ECF6",
              "width": 0.5
             },
             "pattern": {
              "fillmode": "overlay",
              "size": 10,
              "solidity": 0.2
             }
            },
            "type": "barpolar"
           }
          ],
          "carpet": [
           {
            "aaxis": {
             "endlinecolor": "#2a3f5f",
             "gridcolor": "white",
             "linecolor": "white",
             "minorgridcolor": "white",
             "startlinecolor": "#2a3f5f"
            },
            "baxis": {
             "endlinecolor": "#2a3f5f",
             "gridcolor": "white",
             "linecolor": "white",
             "minorgridcolor": "white",
             "startlinecolor": "#2a3f5f"
            },
            "type": "carpet"
           }
          ],
          "choropleth": [
           {
            "colorbar": {
             "outlinewidth": 0,
             "ticks": ""
            },
            "type": "choropleth"
           }
          ],
          "contour": [
           {
            "colorbar": {
             "outlinewidth": 0,
             "ticks": ""
            },
            "colorscale": [
             [
              0,
              "#0d0887"
             ],
             [
              0.1111111111111111,
              "#46039f"
             ],
             [
              0.2222222222222222,
              "#7201a8"
             ],
             [
              0.3333333333333333,
              "#9c179e"
             ],
             [
              0.4444444444444444,
              "#bd3786"
             ],
             [
              0.5555555555555556,
              "#d8576b"
             ],
             [
              0.6666666666666666,
              "#ed7953"
             ],
             [
              0.7777777777777778,
              "#fb9f3a"
             ],
             [
              0.8888888888888888,
              "#fdca26"
             ],
             [
              1,
              "#f0f921"
             ]
            ],
            "type": "contour"
           }
          ],
          "contourcarpet": [
           {
            "colorbar": {
             "outlinewidth": 0,
             "ticks": ""
            },
            "type": "contourcarpet"
           }
          ],
          "heatmap": [
           {
            "colorbar": {
             "outlinewidth": 0,
             "ticks": ""
            },
            "colorscale": [
             [
              0,
              "#0d0887"
             ],
             [
              0.1111111111111111,
              "#46039f"
             ],
             [
              0.2222222222222222,
              "#7201a8"
             ],
             [
              0.3333333333333333,
              "#9c179e"
             ],
             [
              0.4444444444444444,
              "#bd3786"
             ],
             [
              0.5555555555555556,
              "#d8576b"
             ],
             [
              0.6666666666666666,
              "#ed7953"
             ],
             [
              0.7777777777777778,
              "#fb9f3a"
             ],
             [
              0.8888888888888888,
              "#fdca26"
             ],
             [
              1,
              "#f0f921"
             ]
            ],
            "type": "heatmap"
           }
          ],
          "heatmapgl": [
           {
            "colorbar": {
             "outlinewidth": 0,
             "ticks": ""
            },
            "colorscale": [
             [
              0,
              "#0d0887"
             ],
             [
              0.1111111111111111,
              "#46039f"
             ],
             [
              0.2222222222222222,
              "#7201a8"
             ],
             [
              0.3333333333333333,
              "#9c179e"
             ],
             [
              0.4444444444444444,
              "#bd3786"
             ],
             [
              0.5555555555555556,
              "#d8576b"
             ],
             [
              0.6666666666666666,
              "#ed7953"
             ],
             [
              0.7777777777777778,
              "#fb9f3a"
             ],
             [
              0.8888888888888888,
              "#fdca26"
             ],
             [
              1,
              "#f0f921"
             ]
            ],
            "type": "heatmapgl"
           }
          ],
          "histogram": [
           {
            "marker": {
             "pattern": {
              "fillmode": "overlay",
              "size": 10,
              "solidity": 0.2
             }
            },
            "type": "histogram"
           }
          ],
          "histogram2d": [
           {
            "colorbar": {
             "outlinewidth": 0,
             "ticks": ""
            },
            "colorscale": [
             [
              0,
              "#0d0887"
             ],
             [
              0.1111111111111111,
              "#46039f"
             ],
             [
              0.2222222222222222,
              "#7201a8"
             ],
             [
              0.3333333333333333,
              "#9c179e"
             ],
             [
              0.4444444444444444,
              "#bd3786"
             ],
             [
              0.5555555555555556,
              "#d8576b"
             ],
             [
              0.6666666666666666,
              "#ed7953"
             ],
             [
              0.7777777777777778,
              "#fb9f3a"
             ],
             [
              0.8888888888888888,
              "#fdca26"
             ],
             [
              1,
              "#f0f921"
             ]
            ],
            "type": "histogram2d"
           }
          ],
          "histogram2dcontour": [
           {
            "colorbar": {
             "outlinewidth": 0,
             "ticks": ""
            },
            "colorscale": [
             [
              0,
              "#0d0887"
             ],
             [
              0.1111111111111111,
              "#46039f"
             ],
             [
              0.2222222222222222,
              "#7201a8"
             ],
             [
              0.3333333333333333,
              "#9c179e"
             ],
             [
              0.4444444444444444,
              "#bd3786"
             ],
             [
              0.5555555555555556,
              "#d8576b"
             ],
             [
              0.6666666666666666,
              "#ed7953"
             ],
             [
              0.7777777777777778,
              "#fb9f3a"
             ],
             [
              0.8888888888888888,
              "#fdca26"
             ],
             [
              1,
              "#f0f921"
             ]
            ],
            "type": "histogram2dcontour"
           }
          ],
          "mesh3d": [
           {
            "colorbar": {
             "outlinewidth": 0,
             "ticks": ""
            },
            "type": "mesh3d"
           }
          ],
          "parcoords": [
           {
            "line": {
             "colorbar": {
              "outlinewidth": 0,
              "ticks": ""
             }
            },
            "type": "parcoords"
           }
          ],
          "pie": [
           {
            "automargin": true,
            "type": "pie"
           }
          ],
          "scatter": [
           {
            "marker": {
             "colorbar": {
              "outlinewidth": 0,
              "ticks": ""
             }
            },
            "type": "scatter"
           }
          ],
          "scatter3d": [
           {
            "line": {
             "colorbar": {
              "outlinewidth": 0,
              "ticks": ""
             }
            },
            "marker": {
             "colorbar": {
              "outlinewidth": 0,
              "ticks": ""
             }
            },
            "type": "scatter3d"
           }
          ],
          "scattercarpet": [
           {
            "marker": {
             "colorbar": {
              "outlinewidth": 0,
              "ticks": ""
             }
            },
            "type": "scattercarpet"
           }
          ],
          "scattergeo": [
           {
            "marker": {
             "colorbar": {
              "outlinewidth": 0,
              "ticks": ""
             }
            },
            "type": "scattergeo"
           }
          ],
          "scattergl": [
           {
            "marker": {
             "colorbar": {
              "outlinewidth": 0,
              "ticks": ""
             }
            },
            "type": "scattergl"
           }
          ],
          "scattermapbox": [
           {
            "marker": {
             "colorbar": {
              "outlinewidth": 0,
              "ticks": ""
             }
            },
            "type": "scattermapbox"
           }
          ],
          "scatterpolar": [
           {
            "marker": {
             "colorbar": {
              "outlinewidth": 0,
              "ticks": ""
             }
            },
            "type": "scatterpolar"
           }
          ],
          "scatterpolargl": [
           {
            "marker": {
             "colorbar": {
              "outlinewidth": 0,
              "ticks": ""
             }
            },
            "type": "scatterpolargl"
           }
          ],
          "scatterternary": [
           {
            "marker": {
             "colorbar": {
              "outlinewidth": 0,
              "ticks": ""
             }
            },
            "type": "scatterternary"
           }
          ],
          "surface": [
           {
            "colorbar": {
             "outlinewidth": 0,
             "ticks": ""
            },
            "colorscale": [
             [
              0,
              "#0d0887"
             ],
             [
              0.1111111111111111,
              "#46039f"
             ],
             [
              0.2222222222222222,
              "#7201a8"
             ],
             [
              0.3333333333333333,
              "#9c179e"
             ],
             [
              0.4444444444444444,
              "#bd3786"
             ],
             [
              0.5555555555555556,
              "#d8576b"
             ],
             [
              0.6666666666666666,
              "#ed7953"
             ],
             [
              0.7777777777777778,
              "#fb9f3a"
             ],
             [
              0.8888888888888888,
              "#fdca26"
             ],
             [
              1,
              "#f0f921"
             ]
            ],
            "type": "surface"
           }
          ],
          "table": [
           {
            "cells": {
             "fill": {
              "color": "#EBF0F8"
             },
             "line": {
              "color": "white"
             }
            },
            "header": {
             "fill": {
              "color": "#C8D4E3"
             },
             "line": {
              "color": "white"
             }
            },
            "type": "table"
           }
          ]
         },
         "layout": {
          "annotationdefaults": {
           "arrowcolor": "#2a3f5f",
           "arrowhead": 0,
           "arrowwidth": 1
          },
          "autotypenumbers": "strict",
          "coloraxis": {
           "colorbar": {
            "outlinewidth": 0,
            "ticks": ""
           }
          },
          "colorscale": {
           "diverging": [
            [
             0,
             "#8e0152"
            ],
            [
             0.1,
             "#c51b7d"
            ],
            [
             0.2,
             "#de77ae"
            ],
            [
             0.3,
             "#f1b6da"
            ],
            [
             0.4,
             "#fde0ef"
            ],
            [
             0.5,
             "#f7f7f7"
            ],
            [
             0.6,
             "#e6f5d0"
            ],
            [
             0.7,
             "#b8e186"
            ],
            [
             0.8,
             "#7fbc41"
            ],
            [
             0.9,
             "#4d9221"
            ],
            [
             1,
             "#276419"
            ]
           ],
           "sequential": [
            [
             0,
             "#0d0887"
            ],
            [
             0.1111111111111111,
             "#46039f"
            ],
            [
             0.2222222222222222,
             "#7201a8"
            ],
            [
             0.3333333333333333,
             "#9c179e"
            ],
            [
             0.4444444444444444,
             "#bd3786"
            ],
            [
             0.5555555555555556,
             "#d8576b"
            ],
            [
             0.6666666666666666,
             "#ed7953"
            ],
            [
             0.7777777777777778,
             "#fb9f3a"
            ],
            [
             0.8888888888888888,
             "#fdca26"
            ],
            [
             1,
             "#f0f921"
            ]
           ],
           "sequentialminus": [
            [
             0,
             "#0d0887"
            ],
            [
             0.1111111111111111,
             "#46039f"
            ],
            [
             0.2222222222222222,
             "#7201a8"
            ],
            [
             0.3333333333333333,
             "#9c179e"
            ],
            [
             0.4444444444444444,
             "#bd3786"
            ],
            [
             0.5555555555555556,
             "#d8576b"
            ],
            [
             0.6666666666666666,
             "#ed7953"
            ],
            [
             0.7777777777777778,
             "#fb9f3a"
            ],
            [
             0.8888888888888888,
             "#fdca26"
            ],
            [
             1,
             "#f0f921"
            ]
           ]
          },
          "colorway": [
           "#636efa",
           "#EF553B",
           "#00cc96",
           "#ab63fa",
           "#FFA15A",
           "#19d3f3",
           "#FF6692",
           "#B6E880",
           "#FF97FF",
           "#FECB52"
          ],
          "font": {
           "color": "#2a3f5f"
          },
          "geo": {
           "bgcolor": "white",
           "lakecolor": "white",
           "landcolor": "#E5ECF6",
           "showlakes": true,
           "showland": true,
           "subunitcolor": "white"
          },
          "hoverlabel": {
           "align": "left"
          },
          "hovermode": "closest",
          "mapbox": {
           "style": "light"
          },
          "paper_bgcolor": "white",
          "plot_bgcolor": "#E5ECF6",
          "polar": {
           "angularaxis": {
            "gridcolor": "white",
            "linecolor": "white",
            "ticks": ""
           },
           "bgcolor": "#E5ECF6",
           "radialaxis": {
            "gridcolor": "white",
            "linecolor": "white",
            "ticks": ""
           }
          },
          "scene": {
           "xaxis": {
            "backgroundcolor": "#E5ECF6",
            "gridcolor": "white",
            "gridwidth": 2,
            "linecolor": "white",
            "showbackground": true,
            "ticks": "",
            "zerolinecolor": "white"
           },
           "yaxis": {
            "backgroundcolor": "#E5ECF6",
            "gridcolor": "white",
            "gridwidth": 2,
            "linecolor": "white",
            "showbackground": true,
            "ticks": "",
            "zerolinecolor": "white"
           },
           "zaxis": {
            "backgroundcolor": "#E5ECF6",
            "gridcolor": "white",
            "gridwidth": 2,
            "linecolor": "white",
            "showbackground": true,
            "ticks": "",
            "zerolinecolor": "white"
           }
          },
          "shapedefaults": {
           "line": {
            "color": "#2a3f5f"
           }
          },
          "ternary": {
           "aaxis": {
            "gridcolor": "white",
            "linecolor": "white",
            "ticks": ""
           },
           "baxis": {
            "gridcolor": "white",
            "linecolor": "white",
            "ticks": ""
           },
           "bgcolor": "#E5ECF6",
           "caxis": {
            "gridcolor": "white",
            "linecolor": "white",
            "ticks": ""
           }
          },
          "title": {
           "x": 0.05
          },
          "xaxis": {
           "automargin": true,
           "gridcolor": "white",
           "linecolor": "white",
           "ticks": "",
           "title": {
            "standoff": 15
           },
           "zerolinecolor": "white",
           "zerolinewidth": 2
          },
          "yaxis": {
           "automargin": true,
           "gridcolor": "white",
           "linecolor": "white",
           "ticks": "",
           "title": {
            "standoff": 15
           },
           "zerolinecolor": "white",
           "zerolinewidth": 2
          }
         }
        }
       }
      },
      "text/html": [
       "<div>                            <div id=\"5beea34f-0535-476b-b68d-3be65bfd1ad2\" class=\"plotly-graph-div\" style=\"height:525px; width:100%;\"></div>            <script type=\"text/javascript\">                require([\"plotly\"], function(Plotly) {                    window.PLOTLYENV=window.PLOTLYENV || {};                                    if (document.getElementById(\"5beea34f-0535-476b-b68d-3be65bfd1ad2\")) {                    Plotly.newPlot(                        \"5beea34f-0535-476b-b68d-3be65bfd1ad2\",                        [{\"mode\":\"lines\",\"name\":\"id-555317\",\"type\":\"scatter\",\"x\":[\"2011-10-10T02:09:38.981000\",\"2011-10-10T02:38:07.170500\",\"2011-10-10T03:07:23.081500\",\"2011-10-10T03:37:37.107000\",\"2011-10-10T04:09:52.146500\",\"2011-10-10T04:44:43.556000\",\"2011-10-10T05:23:35.609500\",\"2011-10-10T06:06:42.046000\",\"2011-10-10T06:58:57.681500\",\"2011-10-10T08:07:27.209000\",\"2011-10-10T09:38:14.780000\",\"2011-10-10T11:25:41.586500\"],\"y\":[0.0215,0.0195,0.0155,0.0225,0.0165,0.0255,0.0205,0.022,0.0255,0.0195,0.016,0.015]},{\"mode\":\"lines\",\"name\":\"id-576762\",\"type\":\"scatter\",\"x\":[\"2011-10-10T02:09:42.261000\",\"2011-10-10T02:38:32.830000\",\"2011-10-10T03:07:47.796000\",\"2011-10-10T03:37:23.357500\",\"2011-10-10T04:10:08.643500\",\"2011-10-10T04:46:28.238500\",\"2011-10-10T05:25:59.225500\",\"2011-10-10T06:08:08.924000\",\"2011-10-10T07:00:11.544000\",\"2011-10-10T08:08:36.464500\",\"2011-10-10T09:39:50.977000\",\"2011-10-10T11:28:32.716000\"],\"y\":[0.028,0.0255,0.03,0.019,0.022,0.0175,0.019,0.019,0.022,0.018,0.0145,0.016]},{\"mode\":\"lines\",\"name\":\"id-576772\",\"type\":\"scatter\",\"x\":[\"2011-10-10T18:09:13.034000\",\"2011-10-10T18:37:41.040000\",\"2011-10-10T19:09:18.867000\",\"2011-10-10T19:40:29.859500\",\"2011-10-10T20:13:41.059500\",\"2011-10-10T20:47:02.168500\",\"2011-10-10T21:21:00.889500\",\"2011-10-10T21:58:11.786000\",\"2011-10-10T22:34:41.015500\",\"2011-10-10T23:14:02.413500\",\"2011-10-10T23:55:46.682500\",\"2011-10-11T00:42:32.946000\",\"2011-10-11T01:30:50.044500\"],\"y\":[0.0225,0.03,0.0265,0.031,0.021,0.0255,0.024,0.021,0.022,0.0195,0.0195,0.0215,0.02]},{\"mode\":\"lines\",\"name\":\"id-579677\",\"type\":\"scatter\",\"x\":[\"2011-10-10T02:09:55.790000\",\"2011-10-10T02:38:48.665000\",\"2011-10-10T03:08:06.922000\",\"2011-10-10T03:37:33.662500\",\"2011-10-10T04:09:02.812000\",\"2011-10-10T04:44:44.116000\",\"2011-10-10T05:22:55.669500\",\"2011-10-10T06:04:08.628500\",\"2011-10-10T06:54:48.630000\",\"2011-10-10T08:02:15.314500\",\"2011-10-10T09:28:53.314500\",\"2011-10-10T11:14:21.754000\"],\"y\":[0.0315,0.0275,0.0285,0.0235,0.0255,0.0365,0.03,0.026,0.0265,0.026,0.0285,0.0125]},{\"mode\":\"lines\",\"name\":\"id-579985\",\"type\":\"scatter\",\"x\":[\"2011-10-10T02:10:16.597000\",\"2011-10-10T02:39:16.795500\",\"2011-10-10T03:08:58.530000\",\"2011-10-10T03:39:21.247500\",\"2011-10-10T04:12:07.241500\",\"2011-10-10T04:47:20.712000\",\"2011-10-10T05:25:51.243500\",\"2011-10-10T06:08:23.961500\",\"2011-10-10T07:00:36.648000\",\"2011-10-10T08:06:18.646500\",\"2011-10-10T09:38:35.484500\",\"2011-10-10T11:26:43.775500\",\"2011-10-10T12:51:47.105500\",\"2011-10-10T13:46:41.504500\",\"2011-10-10T14:26:09.593500\",\"2011-10-10T14:58:54.718000\",\"2011-10-10T15:28:30.387000\"],\"y\":[0.021,0.022,0.0155,0.0185,0.0245,0.0265,0.027,0.024,0.0305,0.0215,0.0225,0.0155,0.0205,0.0215,0.025,0.0245,0.018]},{\"mode\":\"lines\",\"name\":\"id-580489\",\"type\":\"scatter\",\"x\":[\"2011-10-10T02:09:56.801500\",\"2011-10-10T02:39:50.761500\",\"2011-10-10T03:08:42.460000\",\"2011-10-10T03:39:13.695000\",\"2011-10-10T04:12:03.620500\",\"2011-10-10T04:47:34.669000\",\"2011-10-10T05:26:00.287000\",\"2011-10-10T06:09:22.667000\",\"2011-10-10T07:02:39.867500\",\"2011-10-10T08:08:51.572000\",\"2011-10-10T09:39:03.346500\",\"2011-10-10T11:22:34.877500\",\"2011-10-10T12:48:31.377000\",\"2011-10-10T13:43:26.847500\",\"2011-10-10T14:23:23.576000\",\"2011-10-10T14:55:24.413000\",\"2011-10-10T15:24:06.709000\"],\"y\":[0.0565,0.058,0.049,0.051,0.056,0.053,0.0675,0.055,0.0515,0.04,0.0395,0.037,0.039,0.047,0.0465,0.055,0.048]},{\"mode\":\"lines\",\"name\":\"id-581413\",\"type\":\"scatter\",\"x\":[\"2011-10-10T13:02:08.842500\",\"2011-10-10T13:53:10.308000\",\"2011-10-10T14:30:43.559000\",\"2011-10-10T15:03:21.874000\",\"2011-10-10T15:32:49.402000\",\"2011-10-10T16:00:16.903000\",\"2011-10-10T16:26:43.667000\",\"2011-10-10T16:52:07.845000\",\"2011-10-10T17:17:32.537500\",\"2011-10-10T17:43:11.272000\",\"2011-10-10T18:11:20.644500\",\"2011-10-10T18:40:12.591500\",\"2011-10-10T19:10:37.687500\",\"2011-10-10T19:41:32.089500\",\"2011-10-10T20:14:37.100500\",\"2011-10-10T20:47:48.074500\",\"2011-10-10T21:21:46.789500\",\"2011-10-10T21:56:50.807000\",\"2011-10-10T22:34:33.092500\",\"2011-10-10T23:15:56.811500\",\"2011-10-10T23:58:13.382500\",\"2011-10-11T00:45:29.203000\"],\"y\":[0.0295,0.0225,0.0185,0.0215,0.0155,0.0245,0.0145,0.022,0.0205,0.0215,0.0205,0.0195,0.0175,0.022,0.021,0.0185,0.019,0.016,0.022,0.0155,0.0235,0.0155]},{\"mode\":\"lines\",\"name\":\"id-581414\",\"type\":\"scatter\",\"x\":[\"2011-10-10T02:09:43.528000\",\"2011-10-10T02:38:52.997000\",\"2011-10-10T03:08:28.269500\",\"2011-10-10T03:38:56.387500\",\"2011-10-10T04:11:22.957500\",\"2011-10-10T04:45:49.456500\"],\"y\":[0.0135,0.015,0.014,0.0155,0.01,0.0135]},{\"mode\":\"lines\",\"name\":\"id-583812\",\"type\":\"scatter\",\"x\":[\"2011-10-10T02:09:28.763000\",\"2011-10-10T02:39:01.225000\",\"2011-10-10T03:08:34.646500\",\"2011-10-10T03:39:43.088000\",\"2011-10-10T04:12:48.308500\",\"2011-10-10T04:48:04.484500\",\"2011-10-10T05:26:37.797000\",\"2011-10-10T06:10:01.644500\",\"2011-10-10T07:03:29.909500\",\"2011-10-10T08:13:41.187500\",\"2011-10-10T09:47:41.920000\"],\"y\":[0.039,0.036,0.037,0.029,0.042,0.041,0.037,0.036,0.0405,0.036,0.022]},{\"mode\":\"lines\",\"name\":\"id-583860\",\"type\":\"scatter\",\"x\":[\"2011-10-10T02:08:54.895000\",\"2011-10-10T02:37:07.611000\",\"2011-10-10T03:06:58.155500\",\"2011-10-10T03:38:05.735500\",\"2011-10-10T04:10:48.764500\",\"2011-10-10T04:45:41.487000\",\"2011-10-10T05:24:42.327500\",\"2011-10-10T06:08:15.114500\",\"2011-10-10T07:02:12.611500\",\"2011-10-10T08:09:54.876000\",\"2011-10-10T09:39:34.747000\",\"2011-10-10T11:25:12.116500\"],\"y\":[0.018,0.0295,0.02,0.02,0.0285,0.019,0.024,0.0265,0.0255,0.0205,0.0215,0.0155]},{\"mode\":\"lines\",\"name\":\"id-583936\",\"type\":\"scatter\",\"x\":[\"2011-10-10T02:08:55.089000\",\"2011-10-10T02:37:56.340500\",\"2011-10-10T03:06:48.667000\",\"2011-10-10T03:37:30.349000\",\"2011-10-10T04:09:57.626500\",\"2011-10-10T04:44:20.697500\",\"2011-10-10T05:24:09.559000\",\"2011-10-10T06:07:21.938000\",\"2011-10-10T07:00:06.323500\",\"2011-10-10T08:06:53.634500\",\"2011-10-10T09:35:18.097000\",\"2011-10-10T11:23:12.525000\",\"2011-10-10T12:51:59.555000\",\"2011-10-10T13:45:42.449500\",\"2011-10-10T14:23:58.888500\",\"2011-10-10T14:56:22.097500\",\"2011-10-10T15:25:20.267500\",\"2011-10-10T15:53:43.406000\",\"2011-10-10T16:21:00.674000\",\"2011-10-10T16:46:47.868000\",\"2011-10-10T17:12:42.874500\",\"2011-10-10T17:38:46.561000\",\"2011-10-10T18:05:04.137000\",\"2011-10-10T18:33:20.738000\",\"2011-10-10T19:03:41.013500\",\"2011-10-10T19:35:33.799500\",\"2011-10-10T20:08:43.699000\",\"2011-10-10T20:41:43.835000\",\"2011-10-10T21:15:39.173000\",\"2011-10-10T21:51:34.942500\",\"2011-10-10T22:28:19.802000\",\"2011-10-10T23:08:07.535000\",\"2011-10-10T23:49:28.796000\",\"2011-10-11T00:36:24.229500\",\"2011-10-11T01:24:25.988500\"],\"y\":[0.0495,0.0425,0.043,0.036,0.0455,0.037,0.041,0.043,0.045,0.0345,0.031,0.024,0.0285,0.0345,0.029,0.0375,0.0325,0.0315,0.029,0.025,0.032,0.029,0.039,0.0275,0.03,0.033,0.0275,0.032,0.0345,0.02,0.032,0.032,0.023,0.028,0.028]},{\"mode\":\"lines\",\"name\":\"id-583972\",\"type\":\"scatter\",\"x\":[\"2011-10-10T02:09:08.260000\",\"2011-10-10T02:38:46.697500\",\"2011-10-10T03:08:32.255000\",\"2011-10-10T03:39:40.380500\",\"2011-10-10T04:12:34.336000\",\"2011-10-10T04:48:05.484500\",\"2011-10-10T05:26:38.880500\",\"2011-10-10T06:09:03.728500\",\"2011-10-10T07:01:42.201500\",\"2011-10-10T08:06:11.952000\",\"2011-10-10T09:33:58.223500\",\"2011-10-10T11:24:14.488500\",\"2011-10-10T12:51:37.627000\",\"2011-10-10T13:45:38.277500\",\"2011-10-10T14:23:57.299500\",\"2011-10-10T14:56:40.574000\",\"2011-10-10T15:25:11.847000\",\"2011-10-10T15:52:59.172000\",\"2011-10-10T16:19:05.729500\",\"2011-10-10T16:44:05.041000\",\"2011-10-10T17:08:58.808000\",\"2011-10-10T17:34:53.036000\",\"2011-10-10T18:00:57.246000\",\"2011-10-10T18:29:37.712000\"],\"y\":[0.0185,0.0255,0.019,0.0185,0.0265,0.022,0.025,0.016,0.0155,0.016,0.014,0.0105,0.025,0.0195,0.021,0.0205,0.0225,0.0155,0.016,0.022,0.02,0.027,0.0195,0.023]},{\"mode\":\"lines\",\"name\":\"id-584027\",\"type\":\"scatter\",\"x\":[\"2011-10-10T13:18:27.075500\",\"2011-10-10T14:05:20.676500\",\"2011-10-10T14:42:16.124500\",\"2011-10-10T15:13:48.479000\",\"2011-10-10T15:42:23.762000\",\"2011-10-10T16:09:25.859000\",\"2011-10-10T16:35:36.149500\",\"2011-10-10T17:01:27.539000\",\"2011-10-10T17:26:30.208000\",\"2011-10-10T17:52:02.159500\",\"2011-10-10T18:20:58.319000\",\"2011-10-10T18:50:58.598500\",\"2011-10-10T19:23:53.311000\",\"2011-10-10T19:56:21.617000\",\"2011-10-10T20:29:48.327000\",\"2011-10-10T21:03:02.257000\",\"2011-10-10T21:37:21.816000\",\"2011-10-10T22:15:22.038500\",\"2011-10-10T22:54:49.531500\",\"2011-10-10T23:34:40.334500\",\"2011-10-11T00:19:21.857000\",\"2011-10-11T01:07:59.495500\"],\"y\":[0.057,0.0635,0.0555,0.069,0.0545,0.0605,0.0505,0.0575,0.052,0.068,0.0635,0.0575,0.0605,0.0665,0.0485,0.05,0.0595,0.0525,0.047,0.055,0.0505,0.0495]},{\"mode\":\"lines\",\"name\":\"id-584145\",\"type\":\"scatter\",\"x\":[\"2011-10-10T16:05:58.598500\",\"2011-10-10T16:31:57.249500\",\"2011-10-10T16:57:39.308500\",\"2011-10-10T17:23:54.280500\",\"2011-10-10T17:49:48.594000\",\"2011-10-10T18:18:49.607500\",\"2011-10-10T18:48:36.150000\",\"2011-10-10T19:19:38.800000\",\"2011-10-10T19:50:34.674500\",\"2011-10-10T20:23:42.873000\",\"2011-10-10T20:58:04.577500\",\"2011-10-10T21:33:31.234000\",\"2011-10-10T22:10:43.397000\",\"2011-10-10T22:49:36.512000\",\"2011-10-10T23:30:04.383500\",\"2011-10-11T00:14:43.508500\",\"2011-10-11T01:02:18.051000\"],\"y\":[0.015,0.012,0.015,0.0235,0.0155,0.019,0.013,0.014,0.0185,0.019,0.014,0.015,0.013,0.016,0.0125,0.018,0.0105]},{\"mode\":\"lines\",\"name\":\"id-584290\",\"type\":\"scatter\",\"x\":[\"2011-10-10T02:10:11.242500\",\"2011-10-10T02:40:07.611000\",\"2011-10-10T03:09:25.827500\",\"2011-10-10T03:39:01.489500\",\"2011-10-10T04:11:23.041500\",\"2011-10-10T04:47:04.558500\",\"2011-10-10T05:25:35.183000\",\"2011-10-10T06:07:04.843000\",\"2011-10-10T06:59:52.587000\",\"2011-10-10T08:09:30.517500\",\"2011-10-10T09:42:23.164000\",\"2011-10-10T11:28:05.323000\"],\"y\":[0.0235,0.032,0.029,0.0235,0.028,0.0325,0.028,0.0355,0.0305,0.0285,0.021,0.0145]},{\"mode\":\"lines\",\"name\":\"id-584408\",\"type\":\"scatter\",\"x\":[\"2011-10-10T13:24:00.828500\",\"2011-10-10T14:09:16.631000\",\"2011-10-10T14:43:54.547500\",\"2011-10-10T15:14:01.324500\",\"2011-10-10T15:41:53.356000\",\"2011-10-10T16:08:49.624000\",\"2011-10-10T16:34:21.450000\",\"2011-10-10T16:59:47.348500\",\"2011-10-10T17:25:21.576000\",\"2011-10-10T17:51:25.923500\",\"2011-10-10T18:20:12.248500\",\"2011-10-10T18:49:48.246000\",\"2011-10-10T19:21:32.343500\",\"2011-10-10T19:52:37.896500\",\"2011-10-10T20:25:30.236000\",\"2011-10-10T20:58:37.373000\",\"2011-10-10T21:33:26.942500\",\"2011-10-10T22:11:47.309000\",\"2011-10-10T22:50:56.572500\",\"2011-10-10T23:31:08.509500\",\"2011-10-11T00:15:37.502000\",\"2011-10-11T01:04:36.249000\"],\"y\":[0.049,0.06,0.0615,0.0645,0.049,0.053,0.052,0.0595,0.0555,0.056,0.05,0.047,0.053,0.046,0.0415,0.0435,0.052,0.048,0.0505,0.0495,0.0515,0.047]},{\"mode\":\"lines\",\"name\":\"id-584552\",\"type\":\"scatter\",\"x\":[\"2011-10-10T19:35:01.337000\",\"2011-10-10T20:07:20.305500\",\"2011-10-10T20:40:25.754500\",\"2011-10-10T21:14:06.812000\",\"2011-10-10T21:51:59.478500\",\"2011-10-10T22:30:21.290500\",\"2011-10-10T23:10:11.263000\",\"2011-10-10T23:53:06.274500\",\"2011-10-11T00:41:11.223500\",\"2011-10-11T01:29:41.291000\"],\"y\":[0.065,0.0425,0.0595,0.0465,0.0545,0.0575,0.049,0.0345,0.0475,0.0345]},{\"mode\":\"lines\",\"name\":\"id-584825\",\"type\":\"scatter\",\"x\":[\"2011-10-10T17:53:31.105000\",\"2011-10-10T18:21:12.566000\",\"2011-10-10T18:50:35.309500\",\"2011-10-10T19:21:53.549500\",\"2011-10-10T19:53:11.879000\",\"2011-10-10T20:26:55.457000\",\"2011-10-10T20:59:44.497500\",\"2011-10-10T21:34:54.329500\",\"2011-10-10T22:10:50.279500\",\"2011-10-10T22:49:33.010500\",\"2011-10-10T23:29:23.670500\",\"2011-10-11T00:13:18.583500\",\"2011-10-11T00:59:39.420000\"],\"y\":[0.036,0.032,0.0235,0.0285,0.0335,0.024,0.0245,0.0275,0.0275,0.028,0.019,0.0245,0.018]},{\"mode\":\"lines\",\"name\":\"id-584998\",\"type\":\"scatter\",\"x\":[\"2011-10-10T02:09:37.746500\",\"2011-10-10T02:38:29.669000\",\"2011-10-10T03:08:35.318000\",\"2011-10-10T03:38:45.646000\",\"2011-10-10T04:11:41.629500\",\"2011-10-10T04:45:49.316500\",\"2011-10-10T05:24:57.399500\",\"2011-10-10T06:08:39.069000\",\"2011-10-10T07:01:30.233000\",\"2011-10-10T08:11:25.147000\",\"2011-10-10T09:40:52.200000\",\"2011-10-10T11:27:40.210000\",\"2011-10-10T12:51:36.680000\",\"2011-10-10T13:47:01.499000\",\"2011-10-10T14:25:07.401000\",\"2011-10-10T14:58:02.423000\",\"2011-10-10T15:27:19.168000\",\"2011-10-10T15:54:36.141500\",\"2011-10-10T16:20:35.915500\",\"2011-10-10T16:46:54.325000\",\"2011-10-10T17:12:11.954000\",\"2011-10-10T17:37:24.200500\",\"2011-10-10T18:04:14.910000\",\"2011-10-10T18:34:18.052000\",\"2011-10-10T19:05:31.707000\",\"2011-10-10T19:37:31.750000\",\"2011-10-10T20:11:28.004000\",\"2011-10-10T20:43:55.422500\",\"2011-10-10T21:17:59.393000\",\"2011-10-10T21:53:50.802500\",\"2011-10-10T22:31:04.796000\",\"2011-10-10T23:09:52.617500\",\"2011-10-10T23:52:41.525500\",\"2011-10-11T00:40:33.924000\",\"2011-10-11T01:29:11.765500\"],\"y\":[0.066,0.072,0.066,0.0735,0.058,0.0555,0.06,0.0515,0.0495,0.0385,0.0435,0.04,0.0515,0.064,0.07,0.0695,0.0655,0.0645,0.051,0.0485,0.069,0.055,0.052,0.0585,0.0505,0.0565,0.056,0.0615,0.0575,0.0505,0.0525,0.0505,0.0545,0.046,0.0505]},{\"mode\":\"lines\",\"name\":\"id-585006\",\"type\":\"scatter\",\"x\":[\"2011-10-10T23:58:54.542500\",\"2011-10-11T00:47:07.097500\"],\"y\":[0.0105,0.01]},{\"mode\":\"lines\",\"name\":\"id-585034\",\"type\":\"scatter\",\"x\":[\"2011-10-10T02:09:08.224500\",\"2011-10-10T02:36:26.879000\",\"2011-10-10T03:04:50.233500\",\"2011-10-10T03:33:25.063000\",\"2011-10-10T04:05:16.666000\",\"2011-10-10T04:39:35.585000\",\"2011-10-10T05:16:37.077000\",\"2011-10-10T05:59:40.505000\",\"2011-10-10T06:49:59.717500\",\"2011-10-10T07:52:04.472500\",\"2011-10-10T09:19:37.886000\",\"2011-10-10T11:07:08.021000\"],\"y\":[0.055,0.0455,0.046,0.044,0.046,0.045,0.0445,0.0425,0.0405,0.0335,0.031,0.036]},{\"mode\":\"lines\",\"name\":\"id-585184\",\"type\":\"scatter\",\"x\":[\"2011-10-10T02:09:22.314000\",\"2011-10-10T02:38:49.650000\",\"2011-10-10T03:07:53.979000\",\"2011-10-10T03:37:51.711500\",\"2011-10-10T04:10:46.379500\",\"2011-10-10T04:45:54.538000\",\"2011-10-10T05:24:21.867500\",\"2011-10-10T06:08:14.149000\",\"2011-10-10T06:59:02.301500\",\"2011-10-10T08:05:52.997500\",\"2011-10-10T09:34:03.351500\",\"2011-10-10T11:19:44.062500\",\"2011-10-10T12:46:16.861500\",\"2011-10-10T13:40:34.263000\",\"2011-10-10T14:22:10.991000\",\"2011-10-10T14:56:04.124500\",\"2011-10-10T15:25:47.122000\",\"2011-10-10T15:53:05.732500\",\"2011-10-10T16:19:23.045000\",\"2011-10-10T16:45:11.550500\",\"2011-10-10T17:11:05.638500\",\"2011-10-10T17:37:08.272000\",\"2011-10-10T18:03:53.639000\",\"2011-10-10T18:32:46.051000\",\"2011-10-10T19:04:17.713500\",\"2011-10-10T19:36:08.585500\",\"2011-10-10T20:09:41.596000\",\"2011-10-10T20:42:15.794500\",\"2011-10-10T21:16:25.205000\",\"2011-10-10T21:51:16.798000\",\"2011-10-10T22:29:02.230500\",\"2011-10-10T23:08:28.864000\",\"2011-10-10T23:52:12.273500\",\"2011-10-11T00:41:11.896000\",\"2011-10-11T01:30:08.126000\"],\"y\":[0.065,0.07,0.061,0.056,0.056,0.064,0.0625,0.05,0.054,0.05,0.0385,0.039,0.0495,0.0515,0.0565,0.051,0.0625,0.06,0.0575,0.066,0.0585,0.0565,0.0545,0.0555,0.056,0.0475,0.052,0.049,0.046,0.043,0.0425,0.04,0.038,0.0385,0.0435]},{\"mode\":\"lines\",\"name\":\"id-585686\",\"type\":\"scatter\",\"x\":[\"2011-10-10T02:09:38.251000\",\"2011-10-10T02:40:06.308500\",\"2011-10-10T03:10:09.991500\",\"2011-10-10T03:41:32.092000\",\"2011-10-10T04:14:25.738000\",\"2011-10-10T04:49:03.618500\",\"2011-10-10T05:27:47.326000\",\"2011-10-10T06:10:41.592500\",\"2011-10-10T07:02:11.597000\",\"2011-10-10T08:11:20.042000\",\"2011-10-10T09:41:34.903000\",\"2011-10-10T11:25:31.383500\",\"2011-10-10T12:49:50.426000\",\"2011-10-10T13:43:43.349000\",\"2011-10-10T14:23:22.976500\",\"2011-10-10T14:56:23.495000\",\"2011-10-10T15:25:51.989000\",\"2011-10-10T15:53:26.143000\",\"2011-10-10T16:20:07.920500\",\"2011-10-10T16:46:07.473000\",\"2011-10-10T17:12:24.392000\",\"2011-10-10T17:38:09.912500\",\"2011-10-10T18:04:26.963000\",\"2011-10-10T18:32:52.318000\",\"2011-10-10T19:04:04.698000\",\"2011-10-10T19:35:08.493500\",\"2011-10-10T20:07:10.728500\",\"2011-10-10T20:39:57.866000\",\"2011-10-10T21:13:34.733000\",\"2011-10-10T21:47:34.533500\",\"2011-10-10T22:24:12.155500\",\"2011-10-10T23:04:56.404000\",\"2011-10-10T23:47:10.286000\",\"2011-10-11T00:32:56.985500\",\"2011-10-11T01:19:42.118500\"],\"y\":[0.016,0.018,0.0195,0.012,0.013,0.016,0.0155,0.014,0.018,0.0175,0.0125,0.0145,0.011,0.0125,0.017,0.014,0.0115,0.0075,0.009,0.0115,0.008,0.0155,0.0155,0.0105,0.0115,0.013,0.011,0.0085,0.0105,0.0135,0.015,0.011,0.0125,0.01,0.0135]},{\"mode\":\"lines\",\"name\":\"id-587385\",\"type\":\"scatter\",\"x\":[\"2011-10-10T02:10:09.254000\",\"2011-10-10T02:40:40.102500\",\"2011-10-10T03:10:34.257000\",\"2011-10-10T03:41:13.880500\",\"2011-10-10T04:13:51.802000\",\"2011-10-10T04:48:54.820500\"],\"y\":[0.0345,0.033,0.0345,0.0435,0.0385,0.0325]},{\"mode\":\"lines\",\"name\":\"id-587427\",\"type\":\"scatter\",\"x\":[\"2011-10-10T02:08:56.653000\",\"2011-10-10T02:37:16.156000\"],\"y\":[0.023,0.0215]},{\"mode\":\"lines\",\"name\":\"id-587956\",\"type\":\"scatter\",\"x\":[\"2011-10-10T02:09:40.290000\",\"2011-10-10T02:39:17.723500\",\"2011-10-10T03:08:58.438500\",\"2011-10-10T03:40:19.552000\",\"2011-10-10T04:12:53.818000\",\"2011-10-10T04:48:45.702000\",\"2011-10-10T05:28:17.032500\",\"2011-10-10T06:13:08.820000\",\"2011-10-10T07:08:51.813000\",\"2011-10-10T08:20:49.468000\",\"2011-10-10T09:54:29.725500\",\"2011-10-10T11:40:40.540000\",\"2011-10-10T12:59:23.004000\",\"2011-10-10T13:50:25.709000\",\"2011-10-10T14:28:15.995000\",\"2011-10-10T15:00:49.170500\",\"2011-10-10T15:31:08.816500\",\"2011-10-10T15:59:01.838000\",\"2011-10-10T16:25:06.344000\",\"2011-10-10T16:50:54.788500\",\"2011-10-10T17:16:55.442000\"],\"y\":[0.024,0.0205,0.025,0.024,0.027,0.026,0.0265,0.022,0.028,0.026,0.0205,0.021,0.017,0.02,0.0205,0.0255,0.031,0.023,0.0155,0.018,0.027]},{\"mode\":\"lines\",\"name\":\"id-588082\",\"type\":\"scatter\",\"x\":[\"2011-10-10T02:09:25.572000\",\"2011-10-10T02:38:01.237500\",\"2011-10-10T03:07:14.287000\",\"2011-10-10T03:35:51.995500\",\"2011-10-10T04:08:06.917500\",\"2011-10-10T04:41:28.423500\",\"2011-10-10T05:18:41.863500\",\"2011-10-10T06:00:25.910000\",\"2011-10-10T06:50:50.707000\",\"2011-10-10T07:55:27.943500\",\"2011-10-10T09:19:54.844500\",\"2011-10-10T11:03:50.881000\",\"2011-10-10T12:35:01.344000\",\"2011-10-10T13:33:56.714500\",\"2011-10-10T14:16:00.109500\",\"2011-10-10T14:49:55.434000\",\"2011-10-10T15:19:39.027500\",\"2011-10-10T15:47:15.258000\",\"2011-10-10T16:13:56.895500\",\"2011-10-10T16:39:32.145500\",\"2011-10-10T17:05:28.200000\"],\"y\":[0.015,0.019,0.0145,0.0215,0.0165,0.021,0.014,0.0175,0.0175,0.016,0.012,0.0165,0.0135,0.0165,0.0135,0.0165,0.0155,0.018,0.016,0.0175,0.015]},{\"mode\":\"lines\",\"name\":\"id-588119\",\"type\":\"scatter\",\"x\":[\"2011-10-10T02:09:48.891000\",\"2011-10-10T02:38:45.114000\",\"2011-10-10T03:07:44.336500\",\"2011-10-10T03:37:38.192500\",\"2011-10-10T04:10:22.777500\",\"2011-10-10T04:45:14.938500\",\"2011-10-10T05:23:23.152500\",\"2011-10-10T06:06:29.448500\",\"2011-10-10T07:00:25.764000\",\"2011-10-10T08:06:01.364500\",\"2011-10-10T09:35:09.184000\",\"2011-10-10T11:21:24.696000\",\"2011-10-10T12:48:14.181500\",\"2011-10-10T13:43:38.892000\",\"2011-10-10T14:23:13.005000\",\"2011-10-10T14:55:58.807000\",\"2011-10-10T15:24:53.953500\",\"2011-10-10T15:52:19.484500\",\"2011-10-10T16:18:11.001500\",\"2011-10-10T16:43:56.541000\",\"2011-10-10T17:08:55.731500\",\"2011-10-10T17:35:04.225000\",\"2011-10-10T18:01:47.557500\",\"2011-10-10T18:30:09.818000\",\"2011-10-10T19:00:39.230500\"],\"y\":[0.0535,0.0625,0.062,0.0515,0.0595,0.0445,0.047,0.05,0.0445,0.0345,0.033,0.0385,0.036,0.043,0.051,0.046,0.0485,0.044,0.0405,0.047,0.042,0.037,0.043,0.0365,0.0375]},{\"mode\":\"lines\",\"name\":\"id-588171\",\"type\":\"scatter\",\"x\":[\"2011-10-10T02:09:15.590000\",\"2011-10-10T02:38:50.320500\",\"2011-10-10T03:07:55.832500\",\"2011-10-10T03:39:07.185000\",\"2011-10-10T04:11:22.419500\",\"2011-10-10T04:45:37.753000\",\"2011-10-10T05:22:30.983500\",\"2011-10-10T06:05:36.763500\",\"2011-10-10T06:56:26.198000\",\"2011-10-10T08:01:29.071000\",\"2011-10-10T09:26:59.794500\",\"2011-10-10T11:11:17.969500\",\"2011-10-10T12:42:10.233000\",\"2011-10-10T13:39:24.243500\",\"2011-10-10T14:19:47.963000\",\"2011-10-10T14:53:13.158500\",\"2011-10-10T15:22:59.622000\",\"2011-10-10T15:50:20.624500\",\"2011-10-10T16:16:54.025000\",\"2011-10-10T16:43:05.235000\",\"2011-10-10T17:08:53.723000\"],\"y\":[0.017,0.0225,0.0155,0.0195,0.021,0.0195,0.0155,0.0205,0.0195,0.013,0.015,0.014,0.016,0.018,0.0155,0.023,0.017,0.0155,0.017,0.0085,0.013]},{\"mode\":\"lines\",\"name\":\"id-588233\",\"type\":\"scatter\",\"x\":[\"2011-10-10T02:09:39.620000\",\"2011-10-10T02:39:37.039000\",\"2011-10-10T03:08:49.172500\",\"2011-10-10T03:39:00.904000\",\"2011-10-10T04:11:47.753000\",\"2011-10-10T04:46:12.450000\",\"2011-10-10T05:25:05.526000\",\"2011-10-10T06:07:47.606000\",\"2011-10-10T07:00:06.451000\",\"2011-10-10T08:07:59.780000\",\"2011-10-10T09:36:37.771000\",\"2011-10-10T11:24:36.398000\",\"2011-10-10T12:51:33.332000\",\"2011-10-10T13:46:08.740000\",\"2011-10-10T14:26:12.082000\",\"2011-10-10T14:58:47.051000\",\"2011-10-10T15:27:13.105500\",\"2011-10-10T15:54:40.605500\",\"2011-10-10T16:20:37.723500\",\"2011-10-10T16:45:44.631000\",\"2011-10-10T17:10:47.760000\",\"2011-10-10T17:36:42.218000\",\"2011-10-10T18:03:27.757000\",\"2011-10-10T18:31:37.252500\",\"2011-10-10T19:01:55.529000\"],\"y\":[0.045,0.0435,0.048,0.051,0.0455,0.0535,0.042,0.0395,0.0455,0.0385,0.039,0.0225,0.0355,0.0305,0.0345,0.04,0.041,0.045,0.0385,0.041,0.038,0.041,0.0365,0.036,0.041]},{\"mode\":\"lines\",\"name\":\"id-588235\",\"type\":\"scatter\",\"x\":[\"2011-10-10T02:24:26.417000\",\"2011-10-10T02:53:46.097500\",\"2011-10-10T03:22:56.576000\",\"2011-10-10T03:53:54.377000\",\"2011-10-10T04:28:10.910000\",\"2011-10-10T05:04:37.378000\",\"2011-10-10T05:46:25.509500\",\"2011-10-10T06:33:57.362500\",\"2011-10-10T07:31:57.993000\",\"2011-10-10T08:46:20.315000\",\"2011-10-10T10:23:03.067000\",\"2011-10-10T12:07:08.695000\",\"2011-10-10T13:18:06.953500\",\"2011-10-10T14:03:53.567500\",\"2011-10-10T14:38:58.643500\",\"2011-10-10T15:10:17.487000\",\"2011-10-10T15:39:29.223000\",\"2011-10-10T16:06:43.226000\",\"2011-10-10T16:33:12.582000\",\"2011-10-10T16:58:43.001000\",\"2011-10-10T17:24:08.684500\",\"2011-10-10T17:49:42.196500\",\"2011-10-10T18:17:42.390000\",\"2011-10-10T18:47:58.889000\",\"2011-10-10T19:20:17.885500\",\"2011-10-10T19:53:09.815000\",\"2011-10-10T20:26:38.275000\",\"2011-10-10T20:58:39.939500\",\"2011-10-10T21:34:24.960500\",\"2011-10-10T22:12:15.900000\",\"2011-10-10T22:50:33.311000\",\"2011-10-10T23:30:59.115500\",\"2011-10-11T00:16:29.825500\"],\"y\":[0.0345,0.041,0.034,0.029,0.033,0.028,0.0285,0.025,0.0275,0.014,0.018,0.0205,0.026,0.0225,0.0265,0.0245,0.031,0.026,0.025,0.024,0.025,0.019,0.023,0.027,0.022,0.027,0.027,0.0255,0.023,0.0175,0.0235,0.026,0.025]},{\"mode\":\"lines\",\"name\":\"id-588270\",\"type\":\"scatter\",\"x\":[\"2011-10-10T02:09:43.543500\",\"2011-10-10T02:39:11.273500\",\"2011-10-10T03:10:02.952500\",\"2011-10-10T03:40:39.937000\",\"2011-10-10T04:12:40.621500\",\"2011-10-10T04:47:03.642500\",\"2011-10-10T05:25:00.004000\",\"2011-10-10T06:07:56.744500\",\"2011-10-10T07:00:48.687500\",\"2011-10-10T08:09:01.100000\",\"2011-10-10T09:37:31.177000\",\"2011-10-10T11:19:39.004500\",\"2011-10-10T12:47:53.808500\",\"2011-10-10T13:42:36.362000\",\"2011-10-10T14:22:58.333000\",\"2011-10-10T14:55:49.488500\",\"2011-10-10T15:24:42.180000\",\"2011-10-10T15:52:01.899500\",\"2011-10-10T16:18:46.696000\",\"2011-10-10T16:44:31.708500\",\"2011-10-10T17:09:30.415000\",\"2011-10-10T17:35:40.267000\",\"2011-10-10T18:02:46.071500\",\"2011-10-10T18:32:17.249000\",\"2011-10-10T19:03:23.107500\",\"2011-10-10T19:35:35.331000\"],\"y\":[0.053,0.054,0.054,0.0535,0.045,0.0435,0.045,0.0445,0.04,0.0365,0.0225,0.025,0.036,0.0385,0.0405,0.035,0.0405,0.0295,0.04,0.0375,0.0325,0.0295,0.0315,0.038,0.033,0.033]},{\"mode\":\"lines\",\"name\":\"id-588379\",\"type\":\"scatter\",\"x\":[\"2011-10-10T02:08:31.853500\",\"2011-10-10T02:37:47.644500\",\"2011-10-10T03:07:01.990000\",\"2011-10-10T03:36:41.870000\",\"2011-10-10T04:08:11.891000\",\"2011-10-10T04:42:27.879500\",\"2011-10-10T05:20:34.905000\",\"2011-10-10T06:01:47.081500\",\"2011-10-10T06:53:33.653500\",\"2011-10-10T08:01:55.419500\",\"2011-10-10T09:26:45.107500\",\"2011-10-10T11:11:52.285500\",\"2011-10-10T12:40:49.287500\",\"2011-10-10T13:37:08.342500\",\"2011-10-10T14:18:06.183500\",\"2011-10-10T14:51:41.545500\",\"2011-10-10T15:21:26.927000\",\"2011-10-10T15:48:38.508000\",\"2011-10-10T16:14:44.081000\",\"2011-10-10T16:40:42.942500\",\"2011-10-10T17:06:06.470500\",\"2011-10-10T17:31:28.280500\",\"2011-10-10T17:56:41.525000\",\"2011-10-10T18:25:31.097000\",\"2011-10-10T18:55:18.986500\",\"2011-10-10T19:26:40.869000\",\"2011-10-10T19:59:56.206500\",\"2011-10-10T20:33:26.119500\",\"2011-10-10T21:06:56.399500\",\"2011-10-10T21:42:33.170500\"],\"y\":[0.046,0.0475,0.0485,0.051,0.0365,0.0385,0.0425,0.029,0.042,0.031,0.021,0.025,0.033,0.0325,0.035,0.0525,0.032,0.0345,0.033,0.037,0.0315,0.033,0.0355,0.0325,0.032,0.0265,0.0275,0.029,0.0315,0.034]},{\"mode\":\"lines\",\"name\":\"id-588382\",\"type\":\"scatter\",\"x\":[\"2011-10-10T18:04:07.008500\",\"2011-10-10T18:32:51.313000\",\"2011-10-10T19:03:08.890500\",\"2011-10-10T19:34:43.227000\",\"2011-10-10T20:06:41.623000\",\"2011-10-10T20:39:57.662000\",\"2011-10-10T21:14:15.499500\",\"2011-10-10T21:51:07.016500\",\"2011-10-10T22:28:21.240000\",\"2011-10-10T23:07:30.933500\",\"2011-10-10T23:48:17.107500\",\"2011-10-11T00:34:59.240000\",\"2011-10-11T01:23:26.102500\"],\"y\":[0.018,0.0125,0.0105,0.0135,0.0125,0.0125,0.0115,0.0155,0.012,0.009,0.0145,0.0115,0.007]},{\"mode\":\"lines\",\"name\":\"id-588386\",\"type\":\"scatter\",\"x\":[\"2011-10-10T02:09:40.350000\",\"2011-10-10T02:38:06.403500\",\"2011-10-10T03:06:52.388000\",\"2011-10-10T03:36:56.487000\",\"2011-10-10T04:08:30.683500\",\"2011-10-10T04:43:07.726500\",\"2011-10-10T05:21:00.617000\",\"2011-10-10T06:04:55.798000\",\"2011-10-10T06:57:13.461000\",\"2011-10-10T08:01:49.700000\",\"2011-10-10T09:31:25.298000\",\"2011-10-10T11:16:31.336000\",\"2011-10-10T12:44:21.687500\",\"2011-10-10T13:41:29.690500\",\"2011-10-10T14:21:35.461500\",\"2011-10-10T14:54:35.859500\",\"2011-10-10T15:23:30.303000\",\"2011-10-10T15:51:04.624500\",\"2011-10-10T16:17:12.392000\",\"2011-10-10T16:43:24.050500\",\"2011-10-10T17:10:07.873500\",\"2011-10-10T17:37:13.193000\",\"2011-10-10T18:04:49.436000\",\"2011-10-10T18:33:51.618500\",\"2011-10-10T19:04:59.841500\",\"2011-10-10T19:36:27.508500\",\"2011-10-10T20:09:11.450000\"],\"y\":[0.0435,0.039,0.0405,0.048,0.0385,0.0345,0.039,0.037,0.0305,0.0325,0.028,0.031,0.029,0.039,0.048,0.035,0.0365,0.032,0.0355,0.032,0.0375,0.0385,0.034,0.04,0.0335,0.0445,0.035]},{\"mode\":\"lines\",\"name\":\"id-588460\",\"type\":\"scatter\",\"x\":[\"2011-10-10T04:09:18.001500\",\"2011-10-10T04:44:24.643000\",\"2011-10-10T05:22:25.104000\",\"2011-10-10T06:06:30.280500\",\"2011-10-10T06:59:53.689000\",\"2011-10-10T08:05:56.438500\",\"2011-10-10T09:31:41.434500\",\"2011-10-10T11:16:52.415500\",\"2011-10-10T12:44:53.993000\",\"2011-10-10T13:40:49.034000\",\"2011-10-10T14:21:44.123500\",\"2011-10-10T14:55:49.867500\",\"2011-10-10T15:24:59.325000\",\"2011-10-10T15:53:07.104000\",\"2011-10-10T16:20:08.486500\",\"2011-10-10T16:46:11.896500\",\"2011-10-10T17:11:06.989000\",\"2011-10-10T17:36:28.499500\",\"2011-10-10T18:02:34.316000\",\"2011-10-10T18:32:12.073000\",\"2011-10-10T19:02:28.634000\",\"2011-10-10T19:34:29.762000\",\"2011-10-10T20:08:16.974500\",\"2011-10-10T20:40:54.034000\",\"2011-10-10T21:15:29.545000\",\"2011-10-10T21:52:20.312000\",\"2011-10-10T22:32:13.921000\",\"2011-10-10T23:14:13.001000\",\"2011-10-10T23:59:36.843500\",\"2011-10-11T00:48:08.708500\"],\"y\":[0.07,0.0565,0.0665,0.0615,0.0395,0.043,0.028,0.0345,0.0455,0.0595,0.0635,0.0585,0.055,0.0545,0.049,0.051,0.0555,0.051,0.049,0.0455,0.047,0.0515,0.0505,0.038,0.0425,0.0385,0.0415,0.044,0.0475,0.036]},{\"mode\":\"lines\",\"name\":\"id-588486\",\"type\":\"scatter\",\"x\":[\"2011-10-10T02:45:52.412500\",\"2011-10-10T03:16:11.275500\",\"2011-10-10T03:47:20.175500\",\"2011-10-10T04:19:37.307000\",\"2011-10-10T04:55:12.739500\",\"2011-10-10T05:35:36.351000\",\"2011-10-10T06:19:54.722500\",\"2011-10-10T07:16:41.807500\",\"2011-10-10T08:29:10.927000\",\"2011-10-10T10:04:05.468500\",\"2011-10-10T11:48:24.456000\",\"2011-10-10T13:04:36.107500\",\"2011-10-10T13:55:40.545500\",\"2011-10-10T14:33:08.883000\",\"2011-10-10T15:05:23.022500\",\"2011-10-10T15:34:40.724500\",\"2011-10-10T16:02:01.908500\",\"2011-10-10T16:28:21.112500\",\"2011-10-10T16:53:47.094500\",\"2011-10-10T17:20:48.191500\",\"2011-10-10T17:47:06.963500\",\"2011-10-10T18:15:36.113500\",\"2011-10-10T18:45:04.524000\",\"2011-10-10T19:17:07.102500\",\"2011-10-10T19:48:28.591000\",\"2011-10-10T20:21:36.324500\",\"2011-10-10T20:54:48.921000\",\"2011-10-10T21:29:01.664000\",\"2011-10-10T22:06:24.795000\",\"2011-10-10T22:46:26.069500\",\"2011-10-10T23:25:26.028500\",\"2011-10-11T00:10:07.400500\"],\"y\":[0.0885,0.085,0.073,0.0845,0.0755,0.0675,0.0685,0.0495,0.0415,0.039,0.0455,0.0675,0.0665,0.067,0.074,0.0635,0.067,0.062,0.0585,0.0555,0.051,0.0545,0.046,0.0485,0.045,0.052,0.046,0.0465,0.0455,0.0525,0.0385,0.033]},{\"mode\":\"lines\",\"name\":\"id-588576\",\"type\":\"scatter\",\"x\":[\"2011-10-10T03:33:17.933500\",\"2011-10-10T04:06:10.364500\",\"2011-10-10T04:40:45.415500\",\"2011-10-10T05:19:10.446500\",\"2011-10-10T06:02:16.882500\",\"2011-10-10T06:55:47.955500\",\"2011-10-10T08:01:41.419000\",\"2011-10-10T09:28:15.991000\",\"2011-10-10T11:14:21.822000\",\"2011-10-10T12:46:10.870000\",\"2011-10-10T13:42:49.009500\",\"2011-10-10T14:22:11.777000\",\"2011-10-10T14:55:30.043000\",\"2011-10-10T15:24:40.236000\",\"2011-10-10T15:52:31.228000\",\"2011-10-10T16:19:40.510500\",\"2011-10-10T16:45:44.359000\",\"2011-10-10T17:11:00.281500\",\"2011-10-10T17:36:17.413500\",\"2011-10-10T18:02:58.437500\",\"2011-10-10T18:30:55.620500\",\"2011-10-10T19:00:56.309000\",\"2011-10-10T19:31:54.292500\",\"2011-10-10T20:04:09.036000\",\"2011-10-10T20:37:38.104500\",\"2011-10-10T21:09:59.910000\",\"2011-10-10T21:44:28.522500\",\"2011-10-10T22:22:16.793500\",\"2011-10-10T23:02:13.667500\",\"2011-10-10T23:43:41.399000\",\"2011-10-11T00:30:39.192500\"],\"y\":[0.0165,0.0135,0.0155,0.0135,0.016,0.018,0.0115,0.01,0.007,0.005,0.0075,0.0145,0.0135,0.0125,0.0075,0.013,0.0125,0.0065,0.013,0.009,0.0095,0.016,0.0075,0.01,0.015,0.0085,0.0095,0.0115,0.0105,0.005,0.0065]},{\"mode\":\"lines\",\"name\":\"id-588738\",\"type\":\"scatter\",\"x\":[\"2011-10-10T05:52:28.961500\",\"2011-10-10T06:41:08.275000\",\"2011-10-10T07:43:02.904000\",\"2011-10-10T09:03:04.127500\",\"2011-10-10T10:45:48.685000\",\"2011-10-10T12:25:02.454500\",\"2011-10-10T13:27:58.207000\",\"2011-10-10T14:10:37.370000\",\"2011-10-10T14:45:10.827000\",\"2011-10-10T15:16:16.485500\",\"2011-10-10T15:45:25.194500\",\"2011-10-10T16:13:16.538500\",\"2011-10-10T16:39:15.190500\",\"2011-10-10T17:04:50.648000\",\"2011-10-10T17:30:52.215000\",\"2011-10-10T17:57:38.961500\",\"2011-10-10T18:27:54.987000\",\"2011-10-10T18:58:25.644500\",\"2011-10-10T19:30:01.585500\",\"2011-10-10T20:03:12.427000\",\"2011-10-10T20:37:10.408000\",\"2011-10-10T21:11:10.179500\",\"2011-10-10T21:47:41.888500\",\"2011-10-10T22:26:09.106000\",\"2011-10-10T23:05:49.973500\",\"2011-10-10T23:48:05.774000\",\"2011-10-11T00:35:17.155000\",\"2011-10-11T01:23:14.694500\"],\"y\":[0.04,0.0305,0.0225,0.018,0.015,0.019,0.023,0.027,0.0275,0.0315,0.0315,0.0245,0.03,0.021,0.0255,0.024,0.0265,0.024,0.021,0.023,0.022,0.018,0.0255,0.0145,0.022,0.022,0.0155,0.02]},{\"mode\":\"lines\",\"name\":\"id-589906\",\"type\":\"scatter\",\"x\":[\"2011-10-10T18:28:53.057500\",\"2011-10-10T18:59:07.001500\",\"2011-10-10T19:30:46.458000\",\"2011-10-10T20:02:26.205500\",\"2011-10-10T20:34:35.186500\",\"2011-10-10T21:07:46.267000\",\"2011-10-10T21:43:45.202000\",\"2011-10-10T22:21:44.524500\",\"2011-10-10T23:00:28.734000\",\"2011-10-10T23:41:11.677000\",\"2011-10-11T00:26:41.676000\",\"2011-10-11T01:15:46.654000\"],\"y\":[0.0945,0.095,0.0895,0.085,0.0835,0.083,0.079,0.069,0.0655,0.0695,0.0655,0.0605]},{\"mode\":\"lines\",\"name\":\"id-590187\",\"type\":\"scatter\",\"x\":[\"2011-10-10T19:20:40.364500\",\"2011-10-10T19:52:33.228000\",\"2011-10-10T20:25:48.859000\",\"2011-10-10T20:58:51.239500\",\"2011-10-10T21:34:22.417000\",\"2011-10-10T22:10:54.047500\",\"2011-10-10T22:50:01.708000\",\"2011-10-10T23:31:25.114500\",\"2011-10-11T00:16:33.907000\",\"2011-10-11T01:06:03.196500\"],\"y\":[0.0725,0.066,0.0615,0.0575,0.064,0.051,0.0545,0.048,0.031,0.0385]},{\"mode\":\"lines\",\"name\":\"id-590298\",\"type\":\"scatter\",\"x\":[\"2011-10-10T20:03:23.624000\",\"2011-10-10T20:36:28.124500\",\"2011-10-10T21:09:11.574000\",\"2011-10-10T21:43:55.578500\",\"2011-10-10T22:21:10.585500\",\"2011-10-10T23:00:27.804000\",\"2011-10-10T23:42:02.851000\",\"2011-10-11T00:29:13.294000\",\"2011-10-11T01:18:16.898500\"],\"y\":[0.032,0.031,0.0355,0.034,0.0315,0.029,0.0315,0.032,0.0255]},{\"mode\":\"lines\",\"name\":\"id-590365\",\"type\":\"scatter\",\"x\":[\"2011-10-10T21:02:54.484000\",\"2011-10-10T21:37:28.039000\",\"2011-10-10T22:15:20.016000\",\"2011-10-10T22:53:58.266500\",\"2011-10-10T23:35:20.765000\",\"2011-10-11T00:21:31.597000\",\"2011-10-11T01:09:56.376500\"],\"y\":[0.015,0.016,0.01,0.0115,0.018,0.011,0.0105]},{\"mode\":\"lines\",\"name\":\"id-590390\",\"type\":\"scatter\",\"x\":[\"2011-10-10T20:08:21.859000\",\"2011-10-10T20:41:18.532000\",\"2011-10-10T21:15:29.522500\",\"2011-10-10T21:53:03.076000\",\"2011-10-10T22:31:38.063500\",\"2011-10-10T23:11:54.214000\",\"2011-10-10T23:54:41.857000\",\"2011-10-11T00:41:25.974500\",\"2011-10-11T01:28:53.775500\"],\"y\":[0.1505,0.1385,0.1295,0.1325,0.119,0.111,0.112,0.098,0.093]},{\"mode\":\"lines\",\"name\":\"id-590405\",\"type\":\"scatter\",\"x\":[\"2011-10-10T21:18:00.039500\",\"2011-10-10T21:54:35.517500\",\"2011-10-10T22:32:14.305000\",\"2011-10-10T23:11:10.058000\",\"2011-10-10T23:51:55.561500\",\"2011-10-11T00:38:39.676500\",\"2011-10-11T01:27:05.567500\"],\"y\":[0.035,0.042,0.0385,0.033,0.022,0.0255,0.026]},{\"mode\":\"lines\",\"name\":\"id-590761\",\"type\":\"scatter\",\"x\":[\"2011-10-10T22:32:47.882000\",\"2011-10-10T23:12:28.638000\",\"2011-10-10T23:55:39.462000\",\"2011-10-11T00:42:10.564500\",\"2011-10-11T01:29:50.535500\"],\"y\":[0.06,0.045,0.032,0.037,0.0345]},{\"mode\":\"lines\",\"name\":\"id-590806\",\"type\":\"scatter\",\"x\":[\"2011-10-10T21:55:59.284500\",\"2011-10-10T22:35:19.380500\",\"2011-10-10T23:15:52.873500\",\"2011-10-10T23:58:54.141000\",\"2011-10-11T00:46:08.400500\"],\"y\":[0.051,0.0445,0.0425,0.036,0.037]},{\"mode\":\"lines\",\"name\":\"id-590824\",\"type\":\"scatter\",\"x\":[\"2011-10-10T22:07:15.799500\",\"2011-10-10T22:47:02.405500\",\"2011-10-10T23:27:31.871500\",\"2011-10-11T00:12:00.267500\",\"2011-10-11T00:58:40.803000\"],\"y\":[0.0795,0.0865,0.0725,0.0675,0.0655]},{\"mode\":\"lines\",\"name\":\"id-590958\",\"type\":\"scatter\",\"x\":[\"2011-10-11T00:04:59.182000\",\"2011-10-11T00:53:30.416000\"],\"y\":[0.048,0.05]},{\"mode\":\"lines\",\"name\":\"id-591319\",\"type\":\"scatter\",\"x\":[\"2011-10-11T00:11:22.321500\",\"2011-10-11T00:59:47.350500\"],\"y\":[0.0275,0.0255]}],                        {\"template\":{\"data\":{\"bar\":[{\"error_x\":{\"color\":\"#2a3f5f\"},\"error_y\":{\"color\":\"#2a3f5f\"},\"marker\":{\"line\":{\"color\":\"#E5ECF6\",\"width\":0.5},\"pattern\":{\"fillmode\":\"overlay\",\"size\":10,\"solidity\":0.2}},\"type\":\"bar\"}],\"barpolar\":[{\"marker\":{\"line\":{\"color\":\"#E5ECF6\",\"width\":0.5},\"pattern\":{\"fillmode\":\"overlay\",\"size\":10,\"solidity\":0.2}},\"type\":\"barpolar\"}],\"carpet\":[{\"aaxis\":{\"endlinecolor\":\"#2a3f5f\",\"gridcolor\":\"white\",\"linecolor\":\"white\",\"minorgridcolor\":\"white\",\"startlinecolor\":\"#2a3f5f\"},\"baxis\":{\"endlinecolor\":\"#2a3f5f\",\"gridcolor\":\"white\",\"linecolor\":\"white\",\"minorgridcolor\":\"white\",\"startlinecolor\":\"#2a3f5f\"},\"type\":\"carpet\"}],\"choropleth\":[{\"colorbar\":{\"outlinewidth\":0,\"ticks\":\"\"},\"type\":\"choropleth\"}],\"contour\":[{\"colorbar\":{\"outlinewidth\":0,\"ticks\":\"\"},\"colorscale\":[[0.0,\"#0d0887\"],[0.1111111111111111,\"#46039f\"],[0.2222222222222222,\"#7201a8\"],[0.3333333333333333,\"#9c179e\"],[0.4444444444444444,\"#bd3786\"],[0.5555555555555556,\"#d8576b\"],[0.6666666666666666,\"#ed7953\"],[0.7777777777777778,\"#fb9f3a\"],[0.8888888888888888,\"#fdca26\"],[1.0,\"#f0f921\"]],\"type\":\"contour\"}],\"contourcarpet\":[{\"colorbar\":{\"outlinewidth\":0,\"ticks\":\"\"},\"type\":\"contourcarpet\"}],\"heatmap\":[{\"colorbar\":{\"outlinewidth\":0,\"ticks\":\"\"},\"colorscale\":[[0.0,\"#0d0887\"],[0.1111111111111111,\"#46039f\"],[0.2222222222222222,\"#7201a8\"],[0.3333333333333333,\"#9c179e\"],[0.4444444444444444,\"#bd3786\"],[0.5555555555555556,\"#d8576b\"],[0.6666666666666666,\"#ed7953\"],[0.7777777777777778,\"#fb9f3a\"],[0.8888888888888888,\"#fdca26\"],[1.0,\"#f0f921\"]],\"type\":\"heatmap\"}],\"heatmapgl\":[{\"colorbar\":{\"outlinewidth\":0,\"ticks\":\"\"},\"colorscale\":[[0.0,\"#0d0887\"],[0.1111111111111111,\"#46039f\"],[0.2222222222222222,\"#7201a8\"],[0.3333333333333333,\"#9c179e\"],[0.4444444444444444,\"#bd3786\"],[0.5555555555555556,\"#d8576b\"],[0.6666666666666666,\"#ed7953\"],[0.7777777777777778,\"#fb9f3a\"],[0.8888888888888888,\"#fdca26\"],[1.0,\"#f0f921\"]],\"type\":\"heatmapgl\"}],\"histogram\":[{\"marker\":{\"pattern\":{\"fillmode\":\"overlay\",\"size\":10,\"solidity\":0.2}},\"type\":\"histogram\"}],\"histogram2d\":[{\"colorbar\":{\"outlinewidth\":0,\"ticks\":\"\"},\"colorscale\":[[0.0,\"#0d0887\"],[0.1111111111111111,\"#46039f\"],[0.2222222222222222,\"#7201a8\"],[0.3333333333333333,\"#9c179e\"],[0.4444444444444444,\"#bd3786\"],[0.5555555555555556,\"#d8576b\"],[0.6666666666666666,\"#ed7953\"],[0.7777777777777778,\"#fb9f3a\"],[0.8888888888888888,\"#fdca26\"],[1.0,\"#f0f921\"]],\"type\":\"histogram2d\"}],\"histogram2dcontour\":[{\"colorbar\":{\"outlinewidth\":0,\"ticks\":\"\"},\"colorscale\":[[0.0,\"#0d0887\"],[0.1111111111111111,\"#46039f\"],[0.2222222222222222,\"#7201a8\"],[0.3333333333333333,\"#9c179e\"],[0.4444444444444444,\"#bd3786\"],[0.5555555555555556,\"#d8576b\"],[0.6666666666666666,\"#ed7953\"],[0.7777777777777778,\"#fb9f3a\"],[0.8888888888888888,\"#fdca26\"],[1.0,\"#f0f921\"]],\"type\":\"histogram2dcontour\"}],\"mesh3d\":[{\"colorbar\":{\"outlinewidth\":0,\"ticks\":\"\"},\"type\":\"mesh3d\"}],\"parcoords\":[{\"line\":{\"colorbar\":{\"outlinewidth\":0,\"ticks\":\"\"}},\"type\":\"parcoords\"}],\"pie\":[{\"automargin\":true,\"type\":\"pie\"}],\"scatter\":[{\"marker\":{\"colorbar\":{\"outlinewidth\":0,\"ticks\":\"\"}},\"type\":\"scatter\"}],\"scatter3d\":[{\"line\":{\"colorbar\":{\"outlinewidth\":0,\"ticks\":\"\"}},\"marker\":{\"colorbar\":{\"outlinewidth\":0,\"ticks\":\"\"}},\"type\":\"scatter3d\"}],\"scattercarpet\":[{\"marker\":{\"colorbar\":{\"outlinewidth\":0,\"ticks\":\"\"}},\"type\":\"scattercarpet\"}],\"scattergeo\":[{\"marker\":{\"colorbar\":{\"outlinewidth\":0,\"ticks\":\"\"}},\"type\":\"scattergeo\"}],\"scattergl\":[{\"marker\":{\"colorbar\":{\"outlinewidth\":0,\"ticks\":\"\"}},\"type\":\"scattergl\"}],\"scattermapbox\":[{\"marker\":{\"colorbar\":{\"outlinewidth\":0,\"ticks\":\"\"}},\"type\":\"scattermapbox\"}],\"scatterpolar\":[{\"marker\":{\"colorbar\":{\"outlinewidth\":0,\"ticks\":\"\"}},\"type\":\"scatterpolar\"}],\"scatterpolargl\":[{\"marker\":{\"colorbar\":{\"outlinewidth\":0,\"ticks\":\"\"}},\"type\":\"scatterpolargl\"}],\"scatterternary\":[{\"marker\":{\"colorbar\":{\"outlinewidth\":0,\"ticks\":\"\"}},\"type\":\"scatterternary\"}],\"surface\":[{\"colorbar\":{\"outlinewidth\":0,\"ticks\":\"\"},\"colorscale\":[[0.0,\"#0d0887\"],[0.1111111111111111,\"#46039f\"],[0.2222222222222222,\"#7201a8\"],[0.3333333333333333,\"#9c179e\"],[0.4444444444444444,\"#bd3786\"],[0.5555555555555556,\"#d8576b\"],[0.6666666666666666,\"#ed7953\"],[0.7777777777777778,\"#fb9f3a\"],[0.8888888888888888,\"#fdca26\"],[1.0,\"#f0f921\"]],\"type\":\"surface\"}],\"table\":[{\"cells\":{\"fill\":{\"color\":\"#EBF0F8\"},\"line\":{\"color\":\"white\"}},\"header\":{\"fill\":{\"color\":\"#C8D4E3\"},\"line\":{\"color\":\"white\"}},\"type\":\"table\"}]},\"layout\":{\"annotationdefaults\":{\"arrowcolor\":\"#2a3f5f\",\"arrowhead\":0,\"arrowwidth\":1},\"autotypenumbers\":\"strict\",\"coloraxis\":{\"colorbar\":{\"outlinewidth\":0,\"ticks\":\"\"}},\"colorscale\":{\"diverging\":[[0,\"#8e0152\"],[0.1,\"#c51b7d\"],[0.2,\"#de77ae\"],[0.3,\"#f1b6da\"],[0.4,\"#fde0ef\"],[0.5,\"#f7f7f7\"],[0.6,\"#e6f5d0\"],[0.7,\"#b8e186\"],[0.8,\"#7fbc41\"],[0.9,\"#4d9221\"],[1,\"#276419\"]],\"sequential\":[[0.0,\"#0d0887\"],[0.1111111111111111,\"#46039f\"],[0.2222222222222222,\"#7201a8\"],[0.3333333333333333,\"#9c179e\"],[0.4444444444444444,\"#bd3786\"],[0.5555555555555556,\"#d8576b\"],[0.6666666666666666,\"#ed7953\"],[0.7777777777777778,\"#fb9f3a\"],[0.8888888888888888,\"#fdca26\"],[1.0,\"#f0f921\"]],\"sequentialminus\":[[0.0,\"#0d0887\"],[0.1111111111111111,\"#46039f\"],[0.2222222222222222,\"#7201a8\"],[0.3333333333333333,\"#9c179e\"],[0.4444444444444444,\"#bd3786\"],[0.5555555555555556,\"#d8576b\"],[0.6666666666666666,\"#ed7953\"],[0.7777777777777778,\"#fb9f3a\"],[0.8888888888888888,\"#fdca26\"],[1.0,\"#f0f921\"]]},\"colorway\":[\"#636efa\",\"#EF553B\",\"#00cc96\",\"#ab63fa\",\"#FFA15A\",\"#19d3f3\",\"#FF6692\",\"#B6E880\",\"#FF97FF\",\"#FECB52\"],\"font\":{\"color\":\"#2a3f5f\"},\"geo\":{\"bgcolor\":\"white\",\"lakecolor\":\"white\",\"landcolor\":\"#E5ECF6\",\"showlakes\":true,\"showland\":true,\"subunitcolor\":\"white\"},\"hoverlabel\":{\"align\":\"left\"},\"hovermode\":\"closest\",\"mapbox\":{\"style\":\"light\"},\"paper_bgcolor\":\"white\",\"plot_bgcolor\":\"#E5ECF6\",\"polar\":{\"angularaxis\":{\"gridcolor\":\"white\",\"linecolor\":\"white\",\"ticks\":\"\"},\"bgcolor\":\"#E5ECF6\",\"radialaxis\":{\"gridcolor\":\"white\",\"linecolor\":\"white\",\"ticks\":\"\"}},\"scene\":{\"xaxis\":{\"backgroundcolor\":\"#E5ECF6\",\"gridcolor\":\"white\",\"gridwidth\":2,\"linecolor\":\"white\",\"showbackground\":true,\"ticks\":\"\",\"zerolinecolor\":\"white\"},\"yaxis\":{\"backgroundcolor\":\"#E5ECF6\",\"gridcolor\":\"white\",\"gridwidth\":2,\"linecolor\":\"white\",\"showbackground\":true,\"ticks\":\"\",\"zerolinecolor\":\"white\"},\"zaxis\":{\"backgroundcolor\":\"#E5ECF6\",\"gridcolor\":\"white\",\"gridwidth\":2,\"linecolor\":\"white\",\"showbackground\":true,\"ticks\":\"\",\"zerolinecolor\":\"white\"}},\"shapedefaults\":{\"line\":{\"color\":\"#2a3f5f\"}},\"ternary\":{\"aaxis\":{\"gridcolor\":\"white\",\"linecolor\":\"white\",\"ticks\":\"\"},\"baxis\":{\"gridcolor\":\"white\",\"linecolor\":\"white\",\"ticks\":\"\"},\"bgcolor\":\"#E5ECF6\",\"caxis\":{\"gridcolor\":\"white\",\"linecolor\":\"white\",\"ticks\":\"\"}},\"title\":{\"x\":0.05},\"xaxis\":{\"automargin\":true,\"gridcolor\":\"white\",\"linecolor\":\"white\",\"ticks\":\"\",\"title\":{\"standoff\":15},\"zerolinecolor\":\"white\",\"zerolinewidth\":2},\"yaxis\":{\"automargin\":true,\"gridcolor\":\"white\",\"linecolor\":\"white\",\"ticks\":\"\",\"title\":{\"standoff\":15},\"zerolinecolor\":\"white\",\"zerolinewidth\":2}}}},                        {\"responsive\": true}                    ).then(function(){\n",
       "                            \n",
       "var gd = document.getElementById('5beea34f-0535-476b-b68d-3be65bfd1ad2');\n",
       "var x = new MutationObserver(function (mutations, observer) {{\n",
       "        var display = window.getComputedStyle(gd).display;\n",
       "        if (!display || display === 'none') {{\n",
       "            console.log([gd, 'removed!']);\n",
       "            Plotly.purge(gd);\n",
       "            observer.disconnect();\n",
       "        }}\n",
       "}});\n",
       "\n",
       "// Listen for the removal of the full notebook cells\n",
       "var notebookContainer = gd.closest('#notebook-container');\n",
       "if (notebookContainer) {{\n",
       "    x.observe(notebookContainer, {childList: true});\n",
       "}}\n",
       "\n",
       "// Listen for the clearing of the current output cell\n",
       "var outputEl = gd.closest('.output');\n",
       "if (outputEl) {{\n",
       "    x.observe(outputEl, {childList: true});\n",
       "}}\n",
       "\n",
       "                        })                };                });            </script>        </div>"
      ]
     },
     "metadata": {},
     "output_type": "display_data"
    }
   ],
   "source": [
    "%%time\n",
    "ctr = data.gather_all_average_ctrs(2000)\n",
    "get_average_ctr_plot(ctr)"
   ]
  },
  {
   "cell_type": "code",
   "execution_count": 33,
   "id": "0395769f",
   "metadata": {},
   "outputs": [
    {
     "name": "stdout",
     "output_type": "stream",
     "text": [
      "CPU times: user 6.58 s, sys: 5.48 s, total: 12.1 s\n",
      "Wall time: 39 s\n"
     ]
    }
   ],
   "source": [
    "%%time\n",
    "import gc\n",
    "\n",
    "with open(\"dataset/r6b/subsample/data_10_11.pickle\", \"rb\") as f:\n",
    "    gc.disable()\n",
    "    data = pickle.load(f)\n",
    "    gc.enable()"
   ]
  },
  {
   "cell_type": "code",
   "execution_count": 34,
   "id": "4560cb79",
   "metadata": {},
   "outputs": [
    {
     "name": "stdout",
     "output_type": "stream",
     "text": [
      "Random policy with ZeroCosts\n",
      "Average reward: 0.036\n",
      "Execution time: 5.9m\n",
      "E-greedy(epsilon=0.2) with ZeroCosts\n",
      "Average reward: 0.0704\n",
      "Execution time: 6.1m\n"
     ]
    }
   ],
   "source": [
    "p_random = algorithms.RandomPolicy()\n",
    "ctr_random = evaluation.evaluate(p_random, data, stop_after=NUM_OF_TRIALS)\n",
    "\n",
    "egreedy = algorithms.EpsilonGreedy(epsilon=0.2, total_n_arms=data.n_arms)\n",
    "ctr_egreedy = evaluation.evaluate(egreedy, data, stop_after=NUM_OF_TRIALS)"
   ]
  },
  {
   "cell_type": "code",
   "execution_count": 35,
   "id": "a4280b7a",
   "metadata": {},
   "outputs": [
    {
     "name": "stdout",
     "output_type": "stream",
     "text": [
      "LinUCB (alpha=0.1 with ZeroCosts\n",
      "Average reward: 0.0632\n",
      "Execution time: 44.3m\n"
     ]
    }
   ],
   "source": [
    "linucb = algorithms.LinUCB(\n",
    "    context_dimension=len(data.events[0].user_features),\n",
    "    n_arms=data.n_arms,\n",
    "    alpha=0.1,\n",
    ")\n",
    "ctr_linucb = evaluation.evaluate(linucb, data, stop_after=NUM_OF_TRIALS)"
   ]
  },
  {
   "cell_type": "code",
   "execution_count": 36,
   "id": "ee227e5e",
   "metadata": {},
   "outputs": [
    {
     "data": {
      "image/png": "[encoded data removed]",
      "text/plain": [
       "<Figure size 720x360 with 1 Axes>"
      ]
     },
     "metadata": {
      "needs_background": "light"
     },
     "output_type": "display_data"
    }
   ],
   "source": [
    "plot_ctrs({\n",
    "    'Random': ctr_random,\n",
    "    'E-greedy': ctr_egreedy,\n",
    "    'LinUCB': ctr_linucb\n",
    "})\n"
   ]
  },
  {
   "cell_type": "code",
   "execution_count": 37,
   "id": "5d02b889",
   "metadata": {},
   "outputs": [
    {
     "name": "stdout",
     "output_type": "stream",
     "text": [
      "CPU times: user 49.8 s, sys: 2min 11s, total: 3min 1s\n",
      "Wall time: 4min 24s\n"
     ]
    },
    {
     "data": {
      "application/vnd.plotly.v1+json": {
       "config": {
        "plotlyServerURL": "https://plot.ly"
       },
       "data": [
        {
         "mode": "lines",
         "name": "id-555317",
         "type": "scatter",
         "x": [
          "2011-10-10T02:09:38.981000",
          "2011-10-10T02:38:07.170500",
          "2011-10-10T03:07:23.081500",
          "2011-10-10T03:37:37.107000",
          "2011-10-10T04:09:52.146500",
          "2011-10-10T04:44:43.556000",
          "2011-10-10T05:23:35.609500",
          "2011-10-10T06:06:42.046000",
          "2011-10-10T06:58:57.681500",
          "2011-10-10T08:07:27.209000",
          "2011-10-10T09:38:14.780000",
          "2011-10-10T11:25:41.586500"
         ],
         "y": [
          0.0215,
          0.0195,
          0.0155,
          0.0225,
          0.0165,
          0.0255,
          0.0205,
          0.022,
          0.0255,
          0.0195,
          0.016,
          0.015
         ]
        },
        {
         "mode": "lines",
         "name": "id-571470",
         "type": "scatter",
         "x": [],
         "y": []
        },
        {
         "mode": "lines",
         "name": "id-572262",
         "type": "scatter",
         "x": [],
         "y": []
        },
        {
         "mode": "lines",
         "name": "id-572797",
         "type": "scatter",
         "x": [],
         "y": []
        },
        {
         "mode": "lines",
         "name": "id-576762",
         "type": "scatter",
         "x": [
          "2011-10-10T02:09:42.261000",
          "2011-10-10T02:38:32.830000",
          "2011-10-10T03:07:47.796000",
          "2011-10-10T03:37:23.357500",
          "2011-10-10T04:10:08.643500",
          "2011-10-10T04:46:28.238500",
          "2011-10-10T05:25:59.225500",
          "2011-10-10T06:08:08.924000",
          "2011-10-10T07:00:11.544000",
          "2011-10-10T08:08:36.464500",
          "2011-10-10T09:39:50.977000",
          "2011-10-10T11:28:32.716000"
         ],
         "y": [
          0.028,
          0.0255,
          0.03,
          0.019,
          0.022,
          0.0175,
          0.019,
          0.019,
          0.022,
          0.018,
          0.0145,
          0.016
         ]
        },
        {
         "mode": "lines",
         "name": "id-576772",
         "type": "scatter",
         "x": [
          "2011-10-10T18:09:13.034000",
          "2011-10-10T18:37:41.040000",
          "2011-10-10T19:09:18.867000",
          "2011-10-10T19:40:29.859500",
          "2011-10-10T20:13:41.059500",
          "2011-10-10T20:47:02.168500",
          "2011-10-10T21:21:00.889500",
          "2011-10-10T21:58:11.786000",
          "2011-10-10T22:34:41.015500",
          "2011-10-10T23:14:02.413500",
          "2011-10-10T23:55:46.682500",
          "2011-10-11T00:42:32.946000",
          "2011-10-11T01:30:50.044500",
          "2011-10-11T02:16:44.758500",
          "2011-10-11T03:00:40.341000",
          "2011-10-11T03:47:40.081500",
          "2011-10-11T04:36:23.567500",
          "2011-10-11T05:32:00.665000",
          "2011-10-11T06:42:41.908000",
          "2011-10-11T08:26:57.312000",
          "2011-10-11T11:00:17.269500",
          "2011-10-11T13:04:34.932000",
          "2011-10-11T14:11:55.670000",
          "2011-10-11T15:02:20.584000",
          "2011-10-11T15:45:24.883000",
          "2011-10-11T16:23:30.663000",
          "2011-10-11T17:00:20.804500",
          "2011-10-11T17:37:20.723500",
          "2011-10-11T18:13:39.128000",
          "2011-10-11T18:52:45.047500",
          "2011-10-11T19:31:32.886000",
          "2011-10-11T20:10:33.208500"
         ],
         "y": [
          0.0225,
          0.03,
          0.0265,
          0.031,
          0.021,
          0.0255,
          0.024,
          0.021,
          0.022,
          0.0195,
          0.0195,
          0.0215,
          0.02,
          0.023,
          0.0205,
          0.0185,
          0.0205,
          0.024,
          0.024,
          0.019,
          0.012,
          0.011,
          0.023,
          0.012,
          0.021,
          0.014,
          0.0155,
          0.018,
          0.0175,
          0.019,
          0.015,
          0.016
         ]
        },
        {
         "mode": "lines",
         "name": "id-579677",
         "type": "scatter",
         "x": [
          "2011-10-10T02:09:55.790000",
          "2011-10-10T02:38:48.665000",
          "2011-10-10T03:08:06.922000",
          "2011-10-10T03:37:33.662500",
          "2011-10-10T04:09:02.812000",
          "2011-10-10T04:44:44.116000",
          "2011-10-10T05:22:55.669500",
          "2011-10-10T06:04:08.628500",
          "2011-10-10T06:54:48.630000",
          "2011-10-10T08:02:15.314500",
          "2011-10-10T09:28:53.314500",
          "2011-10-10T11:14:21.754000"
         ],
         "y": [
          0.0315,
          0.0275,
          0.0285,
          0.0235,
          0.0255,
          0.0365,
          0.03,
          0.026,
          0.0265,
          0.026,
          0.0285,
          0.0125
         ]
        },
        {
         "mode": "lines",
         "name": "id-579985",
         "type": "scatter",
         "x": [
          "2011-10-10T02:10:16.597000",
          "2011-10-10T02:39:16.795500",
          "2011-10-10T03:08:58.530000",
          "2011-10-10T03:39:21.247500",
          "2011-10-10T04:12:07.241500",
          "2011-10-10T04:47:20.712000",
          "2011-10-10T05:25:51.243500",
          "2011-10-10T06:08:23.961500",
          "2011-10-10T07:00:36.648000",
          "2011-10-10T08:06:18.646500",
          "2011-10-10T09:38:35.484500",
          "2011-10-10T11:26:43.775500",
          "2011-10-10T12:51:47.105500",
          "2011-10-10T13:46:41.504500",
          "2011-10-10T14:26:09.593500",
          "2011-10-10T14:58:54.718000",
          "2011-10-10T15:28:30.387000"
         ],
         "y": [
          0.021,
          0.022,
          0.0155,
          0.0185,
          0.0245,
          0.0265,
          0.027,
          0.024,
          0.0305,
          0.0215,
          0.0225,
          0.0155,
          0.0205,
          0.0215,
          0.025,
          0.0245,
          0.018
         ]
        },
        {
         "mode": "lines",
         "name": "id-580489",
         "type": "scatter",
         "x": [
          "2011-10-10T02:09:56.801500",
          "2011-10-10T02:39:50.761500",
          "2011-10-10T03:08:42.460000",
          "2011-10-10T03:39:13.695000",
          "2011-10-10T04:12:03.620500",
          "2011-10-10T04:47:34.669000",
          "2011-10-10T05:26:00.287000",
          "2011-10-10T06:09:22.667000",
          "2011-10-10T07:02:39.867500",
          "2011-10-10T08:08:51.572000",
          "2011-10-10T09:39:03.346500",
          "2011-10-10T11:22:34.877500",
          "2011-10-10T12:48:31.377000",
          "2011-10-10T13:43:26.847500",
          "2011-10-10T14:23:23.576000",
          "2011-10-10T14:55:24.413000",
          "2011-10-10T15:24:06.709000"
         ],
         "y": [
          0.0565,
          0.058,
          0.049,
          0.051,
          0.056,
          0.053,
          0.0675,
          0.055,
          0.0515,
          0.04,
          0.0395,
          0.037,
          0.039,
          0.047,
          0.0465,
          0.055,
          0.048
         ]
        },
        {
         "mode": "lines",
         "name": "id-581413",
         "type": "scatter",
         "x": [
          "2011-10-10T13:02:08.842500",
          "2011-10-10T13:53:10.308000",
          "2011-10-10T14:30:43.559000",
          "2011-10-10T15:03:21.874000",
          "2011-10-10T15:32:49.402000",
          "2011-10-10T16:00:16.903000",
          "2011-10-10T16:26:43.667000",
          "2011-10-10T16:52:07.845000",
          "2011-10-10T17:17:32.537500",
          "2011-10-10T17:43:11.272000",
          "2011-10-10T18:11:20.644500",
          "2011-10-10T18:40:12.591500",
          "2011-10-10T19:10:37.687500",
          "2011-10-10T19:41:32.089500",
          "2011-10-10T20:14:37.100500",
          "2011-10-10T20:47:48.074500",
          "2011-10-10T21:21:46.789500",
          "2011-10-10T21:56:50.807000",
          "2011-10-10T22:34:33.092500",
          "2011-10-10T23:15:56.811500",
          "2011-10-10T23:58:13.382500",
          "2011-10-11T00:45:29.203000",
          "2011-10-11T01:33:02.040500",
          "2011-10-11T02:17:33.039000",
          "2011-10-11T03:03:17.746000",
          "2011-10-11T03:48:50.557500",
          "2011-10-11T04:38:17.410000",
          "2011-10-11T05:38:04.891000",
          "2011-10-11T06:52:39.134500",
          "2011-10-11T08:44:36.144500",
          "2011-10-11T11:22:50.670500",
          "2011-10-11T13:12:35.871000",
          "2011-10-11T14:15:29.267500",
          "2011-10-11T15:05:42.759500",
          "2011-10-11T15:47:31.710000",
          "2011-10-11T16:25:57.806500",
          "2011-10-11T17:01:43.586500"
         ],
         "y": [
          0.0295,
          0.0225,
          0.0185,
          0.0215,
          0.0155,
          0.0245,
          0.0145,
          0.022,
          0.0205,
          0.0215,
          0.0205,
          0.0195,
          0.0175,
          0.022,
          0.021,
          0.0185,
          0.019,
          0.016,
          0.022,
          0.0155,
          0.0235,
          0.0155,
          0.023,
          0.018,
          0.0215,
          0.0175,
          0.016,
          0.0185,
          0.017,
          0.016,
          0.0205,
          0.013,
          0.0165,
          0.018,
          0.01,
          0.0165,
          0.014
         ]
        },
        {
         "mode": "lines",
         "name": "id-581414",
         "type": "scatter",
         "x": [
          "2011-10-10T02:09:43.528000",
          "2011-10-10T02:38:52.997000",
          "2011-10-10T03:08:28.269500",
          "2011-10-10T03:38:56.387500",
          "2011-10-10T04:11:22.957500",
          "2011-10-10T04:45:49.456500"
         ],
         "y": [
          0.0135,
          0.015,
          0.014,
          0.0155,
          0.01,
          0.0135
         ]
        },
        {
         "mode": "lines",
         "name": "id-583812",
         "type": "scatter",
         "x": [
          "2011-10-10T02:09:28.763000",
          "2011-10-10T02:39:01.225000",
          "2011-10-10T03:08:34.646500",
          "2011-10-10T03:39:43.088000",
          "2011-10-10T04:12:48.308500",
          "2011-10-10T04:48:04.484500",
          "2011-10-10T05:26:37.797000",
          "2011-10-10T06:10:01.644500",
          "2011-10-10T07:03:29.909500",
          "2011-10-10T08:13:41.187500",
          "2011-10-10T09:47:41.920000"
         ],
         "y": [
          0.039,
          0.036,
          0.037,
          0.029,
          0.042,
          0.041,
          0.037,
          0.036,
          0.0405,
          0.036,
          0.022
         ]
        },
        {
         "mode": "lines",
         "name": "id-583860",
         "type": "scatter",
         "x": [
          "2011-10-10T02:08:54.895000",
          "2011-10-10T02:37:07.611000",
          "2011-10-10T03:06:58.155500",
          "2011-10-10T03:38:05.735500",
          "2011-10-10T04:10:48.764500",
          "2011-10-10T04:45:41.487000",
          "2011-10-10T05:24:42.327500",
          "2011-10-10T06:08:15.114500",
          "2011-10-10T07:02:12.611500",
          "2011-10-10T08:09:54.876000",
          "2011-10-10T09:39:34.747000",
          "2011-10-10T11:25:12.116500"
         ],
         "y": [
          0.018,
          0.0295,
          0.02,
          0.02,
          0.0285,
          0.019,
          0.024,
          0.0265,
          0.0255,
          0.0205,
          0.0215,
          0.0155
         ]
        },
        {
         "mode": "lines",
         "name": "id-583936",
         "type": "scatter",
         "x": [
          "2011-10-10T02:08:55.089000",
          "2011-10-10T02:37:56.340500",
          "2011-10-10T03:06:48.667000",
          "2011-10-10T03:37:30.349000",
          "2011-10-10T04:09:57.626500",
          "2011-10-10T04:44:20.697500",
          "2011-10-10T05:24:09.559000",
          "2011-10-10T06:07:21.938000",
          "2011-10-10T07:00:06.323500",
          "2011-10-10T08:06:53.634500",
          "2011-10-10T09:35:18.097000",
          "2011-10-10T11:23:12.525000",
          "2011-10-10T12:51:59.555000",
          "2011-10-10T13:45:42.449500",
          "2011-10-10T14:23:58.888500",
          "2011-10-10T14:56:22.097500",
          "2011-10-10T15:25:20.267500",
          "2011-10-10T15:53:43.406000",
          "2011-10-10T16:21:00.674000",
          "2011-10-10T16:46:47.868000",
          "2011-10-10T17:12:42.874500",
          "2011-10-10T17:38:46.561000",
          "2011-10-10T18:05:04.137000",
          "2011-10-10T18:33:20.738000",
          "2011-10-10T19:03:41.013500",
          "2011-10-10T19:35:33.799500",
          "2011-10-10T20:08:43.699000",
          "2011-10-10T20:41:43.835000",
          "2011-10-10T21:15:39.173000",
          "2011-10-10T21:51:34.942500",
          "2011-10-10T22:28:19.802000",
          "2011-10-10T23:08:07.535000",
          "2011-10-10T23:49:28.796000",
          "2011-10-11T00:36:24.229500",
          "2011-10-11T01:24:25.988500",
          "2011-10-11T02:10:06.507000",
          "2011-10-11T02:55:10.625500",
          "2011-10-11T03:43:19.664000"
         ],
         "y": [
          0.0495,
          0.0425,
          0.043,
          0.036,
          0.0455,
          0.037,
          0.041,
          0.043,
          0.045,
          0.0345,
          0.031,
          0.024,
          0.0285,
          0.0345,
          0.029,
          0.0375,
          0.0325,
          0.0315,
          0.029,
          0.025,
          0.032,
          0.029,
          0.039,
          0.0275,
          0.03,
          0.033,
          0.0275,
          0.032,
          0.0345,
          0.02,
          0.032,
          0.032,
          0.023,
          0.028,
          0.028,
          0.025,
          0.0205,
          0.0335
         ]
        },
        {
         "mode": "lines",
         "name": "id-583972",
         "type": "scatter",
         "x": [
          "2011-10-10T02:09:08.260000",
          "2011-10-10T02:38:46.697500",
          "2011-10-10T03:08:32.255000",
          "2011-10-10T03:39:40.380500",
          "2011-10-10T04:12:34.336000",
          "2011-10-10T04:48:05.484500",
          "2011-10-10T05:26:38.880500",
          "2011-10-10T06:09:03.728500",
          "2011-10-10T07:01:42.201500",
          "2011-10-10T08:06:11.952000",
          "2011-10-10T09:33:58.223500",
          "2011-10-10T11:24:14.488500",
          "2011-10-10T12:51:37.627000",
          "2011-10-10T13:45:38.277500",
          "2011-10-10T14:23:57.299500",
          "2011-10-10T14:56:40.574000",
          "2011-10-10T15:25:11.847000",
          "2011-10-10T15:52:59.172000",
          "2011-10-10T16:19:05.729500",
          "2011-10-10T16:44:05.041000",
          "2011-10-10T17:08:58.808000",
          "2011-10-10T17:34:53.036000",
          "2011-10-10T18:00:57.246000",
          "2011-10-10T18:29:37.712000"
         ],
         "y": [
          0.0185,
          0.0255,
          0.019,
          0.0185,
          0.0265,
          0.022,
          0.025,
          0.016,
          0.0155,
          0.016,
          0.014,
          0.0105,
          0.025,
          0.0195,
          0.021,
          0.0205,
          0.0225,
          0.0155,
          0.016,
          0.022,
          0.02,
          0.027,
          0.0195,
          0.023
         ]
        },
        {
         "mode": "lines",
         "name": "id-584027",
         "type": "scatter",
         "x": [
          "2011-10-10T13:18:27.075500",
          "2011-10-10T14:05:20.676500",
          "2011-10-10T14:42:16.124500",
          "2011-10-10T15:13:48.479000",
          "2011-10-10T15:42:23.762000",
          "2011-10-10T16:09:25.859000",
          "2011-10-10T16:35:36.149500",
          "2011-10-10T17:01:27.539000",
          "2011-10-10T17:26:30.208000",
          "2011-10-10T17:52:02.159500",
          "2011-10-10T18:20:58.319000",
          "2011-10-10T18:50:58.598500",
          "2011-10-10T19:23:53.311000",
          "2011-10-10T19:56:21.617000",
          "2011-10-10T20:29:48.327000",
          "2011-10-10T21:03:02.257000",
          "2011-10-10T21:37:21.816000",
          "2011-10-10T22:15:22.038500",
          "2011-10-10T22:54:49.531500",
          "2011-10-10T23:34:40.334500",
          "2011-10-11T00:19:21.857000",
          "2011-10-11T01:07:59.495500",
          "2011-10-11T01:55:39.851500",
          "2011-10-11T02:40:12.511000",
          "2011-10-11T03:25:40.161000",
          "2011-10-11T04:12:29.447000",
          "2011-10-11T05:05:20.139000",
          "2011-10-11T06:09:34.337500",
          "2011-10-11T07:38:40.629500",
          "2011-10-11T09:59:55.465000",
          "2011-10-11T12:30:12.383000",
          "2011-10-11T13:49:11.313000"
         ],
         "y": [
          0.057,
          0.0635,
          0.0555,
          0.069,
          0.0545,
          0.0605,
          0.0505,
          0.0575,
          0.052,
          0.068,
          0.0635,
          0.0575,
          0.0605,
          0.0665,
          0.0485,
          0.05,
          0.0595,
          0.0525,
          0.047,
          0.055,
          0.0505,
          0.0495,
          0.0425,
          0.0405,
          0.0485,
          0.051,
          0.0495,
          0.044,
          0.0435,
          0.034,
          0.043,
          0.0305
         ]
        },
        {
         "mode": "lines",
         "name": "id-584145",
         "type": "scatter",
         "x": [
          "2011-10-10T16:05:58.598500",
          "2011-10-10T16:31:57.249500",
          "2011-10-10T16:57:39.308500",
          "2011-10-10T17:23:54.280500",
          "2011-10-10T17:49:48.594000",
          "2011-10-10T18:18:49.607500",
          "2011-10-10T18:48:36.150000",
          "2011-10-10T19:19:38.800000",
          "2011-10-10T19:50:34.674500",
          "2011-10-10T20:23:42.873000",
          "2011-10-10T20:58:04.577500",
          "2011-10-10T21:33:31.234000",
          "2011-10-10T22:10:43.397000",
          "2011-10-10T22:49:36.512000",
          "2011-10-10T23:30:04.383500",
          "2011-10-11T00:14:43.508500",
          "2011-10-11T01:02:18.051000",
          "2011-10-11T01:50:01.051500",
          "2011-10-11T02:35:41.991000",
          "2011-10-11T03:22:11.553000",
          "2011-10-11T04:08:48.512000",
          "2011-10-11T04:59:18.032500",
          "2011-10-11T05:57:59.088000",
          "2011-10-11T07:20:34.871000",
          "2011-10-11T09:29:30.766500",
          "2011-10-11T12:06:16.958500",
          "2011-10-11T13:36:42.583500",
          "2011-10-11T14:33:53.176500",
          "2011-10-11T15:20:19.918000",
          "2011-10-11T16:01:38.998000"
         ],
         "y": [
          0.015,
          0.012,
          0.015,
          0.0235,
          0.0155,
          0.019,
          0.013,
          0.014,
          0.0185,
          0.019,
          0.014,
          0.015,
          0.013,
          0.016,
          0.0125,
          0.018,
          0.0105,
          0.017,
          0.011,
          0.016,
          0.0125,
          0.0185,
          0.01,
          0.0125,
          0.0155,
          0.011,
          0.012,
          0.013,
          0.0135,
          0.0185
         ]
        },
        {
         "mode": "lines",
         "name": "id-584290",
         "type": "scatter",
         "x": [
          "2011-10-10T02:10:11.242500",
          "2011-10-10T02:40:07.611000",
          "2011-10-10T03:09:25.827500",
          "2011-10-10T03:39:01.489500",
          "2011-10-10T04:11:23.041500",
          "2011-10-10T04:47:04.558500",
          "2011-10-10T05:25:35.183000",
          "2011-10-10T06:07:04.843000",
          "2011-10-10T06:59:52.587000",
          "2011-10-10T08:09:30.517500",
          "2011-10-10T09:42:23.164000",
          "2011-10-10T11:28:05.323000"
         ],
         "y": [
          0.0235,
          0.032,
          0.029,
          0.0235,
          0.028,
          0.0325,
          0.028,
          0.0355,
          0.0305,
          0.0285,
          0.021,
          0.0145
         ]
        },
        {
         "mode": "lines",
         "name": "id-584408",
         "type": "scatter",
         "x": [
          "2011-10-10T13:24:00.828500",
          "2011-10-10T14:09:16.631000",
          "2011-10-10T14:43:54.547500",
          "2011-10-10T15:14:01.324500",
          "2011-10-10T15:41:53.356000",
          "2011-10-10T16:08:49.624000",
          "2011-10-10T16:34:21.450000",
          "2011-10-10T16:59:47.348500",
          "2011-10-10T17:25:21.576000",
          "2011-10-10T17:51:25.923500",
          "2011-10-10T18:20:12.248500",
          "2011-10-10T18:49:48.246000",
          "2011-10-10T19:21:32.343500",
          "2011-10-10T19:52:37.896500",
          "2011-10-10T20:25:30.236000",
          "2011-10-10T20:58:37.373000",
          "2011-10-10T21:33:26.942500",
          "2011-10-10T22:11:47.309000",
          "2011-10-10T22:50:56.572500",
          "2011-10-10T23:31:08.509500",
          "2011-10-11T00:15:37.502000",
          "2011-10-11T01:04:36.249000",
          "2011-10-11T01:51:35.496500",
          "2011-10-11T02:37:16.165000",
          "2011-10-11T03:23:41.988000",
          "2011-10-11T04:11:54.795500",
          "2011-10-11T05:05:11.956500",
          "2011-10-11T06:09:32.721500",
          "2011-10-11T07:40:33.849500",
          "2011-10-11T09:57:57.279000",
          "2011-10-11T12:24:04.872500",
          "2011-10-11T13:44:52.223500"
         ],
         "y": [
          0.049,
          0.06,
          0.0615,
          0.0645,
          0.049,
          0.053,
          0.052,
          0.0595,
          0.0555,
          0.056,
          0.05,
          0.047,
          0.053,
          0.046,
          0.0415,
          0.0435,
          0.052,
          0.048,
          0.0505,
          0.0495,
          0.0515,
          0.047,
          0.041,
          0.0445,
          0.051,
          0.042,
          0.0445,
          0.0385,
          0.033,
          0.0235,
          0.0305,
          0.0385
         ]
        },
        {
         "mode": "lines",
         "name": "id-584552",
         "type": "scatter",
         "x": [
          "2011-10-10T19:35:01.337000",
          "2011-10-10T20:07:20.305500",
          "2011-10-10T20:40:25.754500",
          "2011-10-10T21:14:06.812000",
          "2011-10-10T21:51:59.478500",
          "2011-10-10T22:30:21.290500",
          "2011-10-10T23:10:11.263000",
          "2011-10-10T23:53:06.274500",
          "2011-10-11T00:41:11.223500",
          "2011-10-11T01:29:41.291000",
          "2011-10-11T02:16:28.464500",
          "2011-10-11T03:02:52.149500",
          "2011-10-11T03:49:01.661000",
          "2011-10-11T04:36:47.959000",
          "2011-10-11T05:30:56.189500",
          "2011-10-11T06:42:34.255500",
          "2011-10-11T08:25:43.625500",
          "2011-10-11T11:01:48.198000",
          "2011-10-11T13:03:29.688500",
          "2011-10-11T14:09:49.051500",
          "2011-10-11T14:58:56.748500",
          "2011-10-11T15:42:05.172000",
          "2011-10-11T16:20:35.362000",
          "2011-10-11T16:57:10.510000",
          "2011-10-11T17:33:23.894000",
          "2011-10-11T18:09:22.843500"
         ],
         "y": [
          0.065,
          0.0425,
          0.0595,
          0.0465,
          0.0545,
          0.0575,
          0.049,
          0.0345,
          0.0475,
          0.0345,
          0.0435,
          0.033,
          0.031,
          0.0375,
          0.0375,
          0.0375,
          0.033,
          0.03,
          0.032,
          0.037,
          0.0435,
          0.038,
          0.0465,
          0.042,
          0.037,
          0.046
         ]
        },
        {
         "mode": "lines",
         "name": "id-584825",
         "type": "scatter",
         "x": [
          "2011-10-10T17:53:31.105000",
          "2011-10-10T18:21:12.566000",
          "2011-10-10T18:50:35.309500",
          "2011-10-10T19:21:53.549500",
          "2011-10-10T19:53:11.879000",
          "2011-10-10T20:26:55.457000",
          "2011-10-10T20:59:44.497500",
          "2011-10-10T21:34:54.329500",
          "2011-10-10T22:10:50.279500",
          "2011-10-10T22:49:33.010500",
          "2011-10-10T23:29:23.670500",
          "2011-10-11T00:13:18.583500",
          "2011-10-11T00:59:39.420000",
          "2011-10-11T01:47:19.254000",
          "2011-10-11T02:33:33.655000",
          "2011-10-11T03:19:06.594000",
          "2011-10-11T04:07:45.923500",
          "2011-10-11T05:00:37.415000",
          "2011-10-11T06:01:49.509500",
          "2011-10-11T07:25:29.860000",
          "2011-10-11T09:33:38.038000",
          "2011-10-11T12:05:39.994000",
          "2011-10-11T13:35:09.410500",
          "2011-10-11T14:31:02.181000",
          "2011-10-11T15:16:32.505500",
          "2011-10-11T15:58:05.589000",
          "2011-10-11T16:35:29.367500",
          "2011-10-11T17:11:29.686000",
          "2011-10-11T17:46:10.168000",
          "2011-10-11T18:22:31.517500"
         ],
         "y": [
          0.036,
          0.032,
          0.0235,
          0.0285,
          0.0335,
          0.024,
          0.0245,
          0.0275,
          0.0275,
          0.028,
          0.019,
          0.0245,
          0.018,
          0.0205,
          0.0185,
          0.0225,
          0.0195,
          0.016,
          0.0225,
          0.0125,
          0.0135,
          0.0165,
          0.017,
          0.0215,
          0.0225,
          0.024,
          0.025,
          0.0205,
          0.018,
          0.019
         ]
        },
        {
         "mode": "lines",
         "name": "id-584998",
         "type": "scatter",
         "x": [
          "2011-10-10T02:09:37.746500",
          "2011-10-10T02:38:29.669000",
          "2011-10-10T03:08:35.318000",
          "2011-10-10T03:38:45.646000",
          "2011-10-10T04:11:41.629500",
          "2011-10-10T04:45:49.316500",
          "2011-10-10T05:24:57.399500",
          "2011-10-10T06:08:39.069000",
          "2011-10-10T07:01:30.233000",
          "2011-10-10T08:11:25.147000",
          "2011-10-10T09:40:52.200000",
          "2011-10-10T11:27:40.210000",
          "2011-10-10T12:51:36.680000",
          "2011-10-10T13:47:01.499000",
          "2011-10-10T14:25:07.401000",
          "2011-10-10T14:58:02.423000",
          "2011-10-10T15:27:19.168000",
          "2011-10-10T15:54:36.141500",
          "2011-10-10T16:20:35.915500",
          "2011-10-10T16:46:54.325000",
          "2011-10-10T17:12:11.954000",
          "2011-10-10T17:37:24.200500",
          "2011-10-10T18:04:14.910000",
          "2011-10-10T18:34:18.052000",
          "2011-10-10T19:05:31.707000",
          "2011-10-10T19:37:31.750000",
          "2011-10-10T20:11:28.004000",
          "2011-10-10T20:43:55.422500",
          "2011-10-10T21:17:59.393000",
          "2011-10-10T21:53:50.802500",
          "2011-10-10T22:31:04.796000",
          "2011-10-10T23:09:52.617500",
          "2011-10-10T23:52:41.525500",
          "2011-10-11T00:40:33.924000",
          "2011-10-11T01:29:11.765500",
          "2011-10-11T02:13:32.350500",
          "2011-10-11T02:58:11.809000",
          "2011-10-11T03:44:07.934500",
          "2011-10-11T04:32:49.447000",
          "2011-10-11T05:29:44.580500",
          "2011-10-11T06:38:44.092500",
          "2011-10-11T08:23:55.993500",
          "2011-10-11T10:58:44.511500"
         ],
         "y": [
          0.066,
          0.072,
          0.066,
          0.0735,
          0.058,
          0.0555,
          0.06,
          0.0515,
          0.0495,
          0.0385,
          0.0435,
          0.04,
          0.0515,
          0.064,
          0.07,
          0.0695,
          0.0655,
          0.0645,
          0.051,
          0.0485,
          0.069,
          0.055,
          0.052,
          0.0585,
          0.0505,
          0.0565,
          0.056,
          0.0615,
          0.0575,
          0.0505,
          0.0525,
          0.0505,
          0.0545,
          0.046,
          0.0505,
          0.0425,
          0.036,
          0.047,
          0.0445,
          0.041,
          0.0355,
          0.031,
          0.0245
         ]
        },
        {
         "mode": "lines",
         "name": "id-585006",
         "type": "scatter",
         "x": [
          "2011-10-10T23:58:54.542500",
          "2011-10-11T00:47:07.097500",
          "2011-10-11T01:34:09.062000",
          "2011-10-11T02:19:54.202500",
          "2011-10-11T03:04:31.839500",
          "2011-10-11T03:51:13.131000",
          "2011-10-11T04:40:23.844000",
          "2011-10-11T05:38:04.676000",
          "2011-10-11T06:55:15.654500",
          "2011-10-11T08:54:12.160500",
          "2011-10-11T11:33:07.954500",
          "2011-10-11T13:19:28.246500",
          "2011-10-11T14:20:24.032000",
          "2011-10-11T15:08:39.807500",
          "2011-10-11T15:50:21.476500",
          "2011-10-11T16:28:32.111000",
          "2011-10-11T17:04:29.388000",
          "2011-10-11T17:39:38.703000",
          "2011-10-11T18:14:49.140500",
          "2011-10-11T18:52:57.342500",
          "2011-10-11T19:31:33.337000",
          "2011-10-11T20:11:09.455000",
          "2011-10-11T20:52:02.547000"
         ],
         "y": [
          0.0105,
          0.01,
          0.012,
          0.0095,
          0.0085,
          0.011,
          0.0105,
          0.01,
          0.014,
          0.0095,
          0.0115,
          0.0125,
          0.012,
          0.012,
          0.011,
          0.0095,
          0.0145,
          0.0135,
          0.008,
          0.0115,
          0.014,
          0.012,
          0.0105
         ]
        },
        {
         "mode": "lines",
         "name": "id-585034",
         "type": "scatter",
         "x": [
          "2011-10-10T02:09:08.224500",
          "2011-10-10T02:36:26.879000",
          "2011-10-10T03:04:50.233500",
          "2011-10-10T03:33:25.063000",
          "2011-10-10T04:05:16.666000",
          "2011-10-10T04:39:35.585000",
          "2011-10-10T05:16:37.077000",
          "2011-10-10T05:59:40.505000",
          "2011-10-10T06:49:59.717500",
          "2011-10-10T07:52:04.472500",
          "2011-10-10T09:19:37.886000",
          "2011-10-10T11:07:08.021000"
         ],
         "y": [
          0.055,
          0.0455,
          0.046,
          0.044,
          0.046,
          0.045,
          0.0445,
          0.0425,
          0.0405,
          0.0335,
          0.031,
          0.036
         ]
        },
        {
         "mode": "lines",
         "name": "id-585184",
         "type": "scatter",
         "x": [
          "2011-10-10T02:09:22.314000",
          "2011-10-10T02:38:49.650000",
          "2011-10-10T03:07:53.979000",
          "2011-10-10T03:37:51.711500",
          "2011-10-10T04:10:46.379500",
          "2011-10-10T04:45:54.538000",
          "2011-10-10T05:24:21.867500",
          "2011-10-10T06:08:14.149000",
          "2011-10-10T06:59:02.301500",
          "2011-10-10T08:05:52.997500",
          "2011-10-10T09:34:03.351500",
          "2011-10-10T11:19:44.062500",
          "2011-10-10T12:46:16.861500",
          "2011-10-10T13:40:34.263000",
          "2011-10-10T14:22:10.991000",
          "2011-10-10T14:56:04.124500",
          "2011-10-10T15:25:47.122000",
          "2011-10-10T15:53:05.732500",
          "2011-10-10T16:19:23.045000",
          "2011-10-10T16:45:11.550500",
          "2011-10-10T17:11:05.638500",
          "2011-10-10T17:37:08.272000",
          "2011-10-10T18:03:53.639000",
          "2011-10-10T18:32:46.051000",
          "2011-10-10T19:04:17.713500",
          "2011-10-10T19:36:08.585500",
          "2011-10-10T20:09:41.596000",
          "2011-10-10T20:42:15.794500",
          "2011-10-10T21:16:25.205000",
          "2011-10-10T21:51:16.798000",
          "2011-10-10T22:29:02.230500",
          "2011-10-10T23:08:28.864000",
          "2011-10-10T23:52:12.273500",
          "2011-10-11T00:41:11.896000",
          "2011-10-11T01:30:08.126000",
          "2011-10-11T02:15:39.698500",
          "2011-10-11T02:59:54.948000",
          "2011-10-11T03:45:51.695500",
          "2011-10-11T04:34:04.201000",
          "2011-10-11T05:30:35.100500",
          "2011-10-11T06:43:30.422000",
          "2011-10-11T08:31:43.783000",
          "2011-10-11T11:09:55.338000"
         ],
         "y": [
          0.065,
          0.07,
          0.061,
          0.056,
          0.056,
          0.064,
          0.0625,
          0.05,
          0.054,
          0.05,
          0.0385,
          0.039,
          0.0495,
          0.0515,
          0.0565,
          0.051,
          0.0625,
          0.06,
          0.0575,
          0.066,
          0.0585,
          0.0565,
          0.0545,
          0.0555,
          0.056,
          0.0475,
          0.052,
          0.049,
          0.046,
          0.043,
          0.0425,
          0.04,
          0.038,
          0.0385,
          0.0435,
          0.0345,
          0.03,
          0.0375,
          0.037,
          0.035,
          0.037,
          0.024,
          0.025
         ]
        },
        {
         "mode": "lines",
         "name": "id-585686",
         "type": "scatter",
         "x": [
          "2011-10-10T02:09:38.251000",
          "2011-10-10T02:40:06.308500",
          "2011-10-10T03:10:09.991500",
          "2011-10-10T03:41:32.092000",
          "2011-10-10T04:14:25.738000",
          "2011-10-10T04:49:03.618500",
          "2011-10-10T05:27:47.326000",
          "2011-10-10T06:10:41.592500",
          "2011-10-10T07:02:11.597000",
          "2011-10-10T08:11:20.042000",
          "2011-10-10T09:41:34.903000",
          "2011-10-10T11:25:31.383500",
          "2011-10-10T12:49:50.426000",
          "2011-10-10T13:43:43.349000",
          "2011-10-10T14:23:22.976500",
          "2011-10-10T14:56:23.495000",
          "2011-10-10T15:25:51.989000",
          "2011-10-10T15:53:26.143000",
          "2011-10-10T16:20:07.920500",
          "2011-10-10T16:46:07.473000",
          "2011-10-10T17:12:24.392000",
          "2011-10-10T17:38:09.912500",
          "2011-10-10T18:04:26.963000",
          "2011-10-10T18:32:52.318000",
          "2011-10-10T19:04:04.698000",
          "2011-10-10T19:35:08.493500",
          "2011-10-10T20:07:10.728500",
          "2011-10-10T20:39:57.866000",
          "2011-10-10T21:13:34.733000",
          "2011-10-10T21:47:34.533500",
          "2011-10-10T22:24:12.155500",
          "2011-10-10T23:04:56.404000",
          "2011-10-10T23:47:10.286000",
          "2011-10-11T00:32:56.985500",
          "2011-10-11T01:19:42.118500",
          "2011-10-11T02:06:01.326000",
          "2011-10-11T02:50:28.121500"
         ],
         "y": [
          0.016,
          0.018,
          0.0195,
          0.012,
          0.013,
          0.016,
          0.0155,
          0.014,
          0.018,
          0.0175,
          0.0125,
          0.0145,
          0.011,
          0.0125,
          0.017,
          0.014,
          0.0115,
          0.0075,
          0.009,
          0.0115,
          0.008,
          0.0155,
          0.0155,
          0.0105,
          0.0115,
          0.013,
          0.011,
          0.0085,
          0.0105,
          0.0135,
          0.015,
          0.011,
          0.0125,
          0.01,
          0.0135,
          0.0115,
          0.0085
         ]
        },
        {
         "mode": "lines",
         "name": "id-587385",
         "type": "scatter",
         "x": [
          "2011-10-10T02:10:09.254000",
          "2011-10-10T02:40:40.102500",
          "2011-10-10T03:10:34.257000",
          "2011-10-10T03:41:13.880500",
          "2011-10-10T04:13:51.802000",
          "2011-10-10T04:48:54.820500"
         ],
         "y": [
          0.0345,
          0.033,
          0.0345,
          0.0435,
          0.0385,
          0.0325
         ]
        },
        {
         "mode": "lines",
         "name": "id-587427",
         "type": "scatter",
         "x": [
          "2011-10-10T02:08:56.653000",
          "2011-10-10T02:37:16.156000"
         ],
         "y": [
          0.023,
          0.0215
         ]
        },
        {
         "mode": "lines",
         "name": "id-587956",
         "type": "scatter",
         "x": [
          "2011-10-10T02:09:40.290000",
          "2011-10-10T02:39:17.723500",
          "2011-10-10T03:08:58.438500",
          "2011-10-10T03:40:19.552000",
          "2011-10-10T04:12:53.818000",
          "2011-10-10T04:48:45.702000",
          "2011-10-10T05:28:17.032500",
          "2011-10-10T06:13:08.820000",
          "2011-10-10T07:08:51.813000",
          "2011-10-10T08:20:49.468000",
          "2011-10-10T09:54:29.725500",
          "2011-10-10T11:40:40.540000",
          "2011-10-10T12:59:23.004000",
          "2011-10-10T13:50:25.709000",
          "2011-10-10T14:28:15.995000",
          "2011-10-10T15:00:49.170500",
          "2011-10-10T15:31:08.816500",
          "2011-10-10T15:59:01.838000",
          "2011-10-10T16:25:06.344000",
          "2011-10-10T16:50:54.788500",
          "2011-10-10T17:16:55.442000"
         ],
         "y": [
          0.024,
          0.0205,
          0.025,
          0.024,
          0.027,
          0.026,
          0.0265,
          0.022,
          0.028,
          0.026,
          0.0205,
          0.021,
          0.017,
          0.02,
          0.0205,
          0.0255,
          0.031,
          0.023,
          0.0155,
          0.018,
          0.027
         ]
        },
        {
         "mode": "lines",
         "name": "id-588082",
         "type": "scatter",
         "x": [
          "2011-10-10T02:09:25.572000",
          "2011-10-10T02:38:01.237500",
          "2011-10-10T03:07:14.287000",
          "2011-10-10T03:35:51.995500",
          "2011-10-10T04:08:06.917500",
          "2011-10-10T04:41:28.423500",
          "2011-10-10T05:18:41.863500",
          "2011-10-10T06:00:25.910000",
          "2011-10-10T06:50:50.707000",
          "2011-10-10T07:55:27.943500",
          "2011-10-10T09:19:54.844500",
          "2011-10-10T11:03:50.881000",
          "2011-10-10T12:35:01.344000",
          "2011-10-10T13:33:56.714500",
          "2011-10-10T14:16:00.109500",
          "2011-10-10T14:49:55.434000",
          "2011-10-10T15:19:39.027500",
          "2011-10-10T15:47:15.258000",
          "2011-10-10T16:13:56.895500",
          "2011-10-10T16:39:32.145500",
          "2011-10-10T17:05:28.200000"
         ],
         "y": [
          0.015,
          0.019,
          0.0145,
          0.0215,
          0.0165,
          0.021,
          0.014,
          0.0175,
          0.0175,
          0.016,
          0.012,
          0.0165,
          0.0135,
          0.0165,
          0.0135,
          0.0165,
          0.0155,
          0.018,
          0.016,
          0.0175,
          0.015
         ]
        },
        {
         "mode": "lines",
         "name": "id-588119",
         "type": "scatter",
         "x": [
          "2011-10-10T02:09:48.891000",
          "2011-10-10T02:38:45.114000",
          "2011-10-10T03:07:44.336500",
          "2011-10-10T03:37:38.192500",
          "2011-10-10T04:10:22.777500",
          "2011-10-10T04:45:14.938500",
          "2011-10-10T05:23:23.152500",
          "2011-10-10T06:06:29.448500",
          "2011-10-10T07:00:25.764000",
          "2011-10-10T08:06:01.364500",
          "2011-10-10T09:35:09.184000",
          "2011-10-10T11:21:24.696000",
          "2011-10-10T12:48:14.181500",
          "2011-10-10T13:43:38.892000",
          "2011-10-10T14:23:13.005000",
          "2011-10-10T14:55:58.807000",
          "2011-10-10T15:24:53.953500",
          "2011-10-10T15:52:19.484500",
          "2011-10-10T16:18:11.001500",
          "2011-10-10T16:43:56.541000",
          "2011-10-10T17:08:55.731500",
          "2011-10-10T17:35:04.225000",
          "2011-10-10T18:01:47.557500",
          "2011-10-10T18:30:09.818000",
          "2011-10-10T19:00:39.230500"
         ],
         "y": [
          0.0535,
          0.0625,
          0.062,
          0.0515,
          0.0595,
          0.0445,
          0.047,
          0.05,
          0.0445,
          0.0345,
          0.033,
          0.0385,
          0.036,
          0.043,
          0.051,
          0.046,
          0.0485,
          0.044,
          0.0405,
          0.047,
          0.042,
          0.037,
          0.043,
          0.0365,
          0.0375
         ]
        },
        {
         "mode": "lines",
         "name": "id-588171",
         "type": "scatter",
         "x": [
          "2011-10-10T02:09:15.590000",
          "2011-10-10T02:38:50.320500",
          "2011-10-10T03:07:55.832500",
          "2011-10-10T03:39:07.185000",
          "2011-10-10T04:11:22.419500",
          "2011-10-10T04:45:37.753000",
          "2011-10-10T05:22:30.983500",
          "2011-10-10T06:05:36.763500",
          "2011-10-10T06:56:26.198000",
          "2011-10-10T08:01:29.071000",
          "2011-10-10T09:26:59.794500",
          "2011-10-10T11:11:17.969500",
          "2011-10-10T12:42:10.233000",
          "2011-10-10T13:39:24.243500",
          "2011-10-10T14:19:47.963000",
          "2011-10-10T14:53:13.158500",
          "2011-10-10T15:22:59.622000",
          "2011-10-10T15:50:20.624500",
          "2011-10-10T16:16:54.025000",
          "2011-10-10T16:43:05.235000",
          "2011-10-10T17:08:53.723000"
         ],
         "y": [
          0.017,
          0.0225,
          0.0155,
          0.0195,
          0.021,
          0.0195,
          0.0155,
          0.0205,
          0.0195,
          0.013,
          0.015,
          0.014,
          0.016,
          0.018,
          0.0155,
          0.023,
          0.017,
          0.0155,
          0.017,
          0.0085,
          0.013
         ]
        },
        {
         "mode": "lines",
         "name": "id-588233",
         "type": "scatter",
         "x": [
          "2011-10-10T02:09:39.620000",
          "2011-10-10T02:39:37.039000",
          "2011-10-10T03:08:49.172500",
          "2011-10-10T03:39:00.904000",
          "2011-10-10T04:11:47.753000",
          "2011-10-10T04:46:12.450000",
          "2011-10-10T05:25:05.526000",
          "2011-10-10T06:07:47.606000",
          "2011-10-10T07:00:06.451000",
          "2011-10-10T08:07:59.780000",
          "2011-10-10T09:36:37.771000",
          "2011-10-10T11:24:36.398000",
          "2011-10-10T12:51:33.332000",
          "2011-10-10T13:46:08.740000",
          "2011-10-10T14:26:12.082000",
          "2011-10-10T14:58:47.051000",
          "2011-10-10T15:27:13.105500",
          "2011-10-10T15:54:40.605500",
          "2011-10-10T16:20:37.723500",
          "2011-10-10T16:45:44.631000",
          "2011-10-10T17:10:47.760000",
          "2011-10-10T17:36:42.218000",
          "2011-10-10T18:03:27.757000",
          "2011-10-10T18:31:37.252500",
          "2011-10-10T19:01:55.529000"
         ],
         "y": [
          0.045,
          0.0435,
          0.048,
          0.051,
          0.0455,
          0.0535,
          0.042,
          0.0395,
          0.0455,
          0.0385,
          0.039,
          0.0225,
          0.0355,
          0.0305,
          0.0345,
          0.04,
          0.041,
          0.045,
          0.0385,
          0.041,
          0.038,
          0.041,
          0.0365,
          0.036,
          0.041
         ]
        },
        {
         "mode": "lines",
         "name": "id-588235",
         "type": "scatter",
         "x": [
          "2011-10-10T02:24:26.417000",
          "2011-10-10T02:53:46.097500",
          "2011-10-10T03:22:56.576000",
          "2011-10-10T03:53:54.377000",
          "2011-10-10T04:28:10.910000",
          "2011-10-10T05:04:37.378000",
          "2011-10-10T05:46:25.509500",
          "2011-10-10T06:33:57.362500",
          "2011-10-10T07:31:57.993000",
          "2011-10-10T08:46:20.315000",
          "2011-10-10T10:23:03.067000",
          "2011-10-10T12:07:08.695000",
          "2011-10-10T13:18:06.953500",
          "2011-10-10T14:03:53.567500",
          "2011-10-10T14:38:58.643500",
          "2011-10-10T15:10:17.487000",
          "2011-10-10T15:39:29.223000",
          "2011-10-10T16:06:43.226000",
          "2011-10-10T16:33:12.582000",
          "2011-10-10T16:58:43.001000",
          "2011-10-10T17:24:08.684500",
          "2011-10-10T17:49:42.196500",
          "2011-10-10T18:17:42.390000",
          "2011-10-10T18:47:58.889000",
          "2011-10-10T19:20:17.885500",
          "2011-10-10T19:53:09.815000",
          "2011-10-10T20:26:38.275000",
          "2011-10-10T20:58:39.939500",
          "2011-10-10T21:34:24.960500",
          "2011-10-10T22:12:15.900000",
          "2011-10-10T22:50:33.311000",
          "2011-10-10T23:30:59.115500",
          "2011-10-11T00:16:29.825500"
         ],
         "y": [
          0.0345,
          0.041,
          0.034,
          0.029,
          0.033,
          0.028,
          0.0285,
          0.025,
          0.0275,
          0.014,
          0.018,
          0.0205,
          0.026,
          0.0225,
          0.0265,
          0.0245,
          0.031,
          0.026,
          0.025,
          0.024,
          0.025,
          0.019,
          0.023,
          0.027,
          0.022,
          0.027,
          0.027,
          0.0255,
          0.023,
          0.0175,
          0.0235,
          0.026,
          0.025
         ]
        },
        {
         "mode": "lines",
         "name": "id-588270",
         "type": "scatter",
         "x": [
          "2011-10-10T02:09:43.543500",
          "2011-10-10T02:39:11.273500",
          "2011-10-10T03:10:02.952500",
          "2011-10-10T03:40:39.937000",
          "2011-10-10T04:12:40.621500",
          "2011-10-10T04:47:03.642500",
          "2011-10-10T05:25:00.004000",
          "2011-10-10T06:07:56.744500",
          "2011-10-10T07:00:48.687500",
          "2011-10-10T08:09:01.100000",
          "2011-10-10T09:37:31.177000",
          "2011-10-10T11:19:39.004500",
          "2011-10-10T12:47:53.808500",
          "2011-10-10T13:42:36.362000",
          "2011-10-10T14:22:58.333000",
          "2011-10-10T14:55:49.488500",
          "2011-10-10T15:24:42.180000",
          "2011-10-10T15:52:01.899500",
          "2011-10-10T16:18:46.696000",
          "2011-10-10T16:44:31.708500",
          "2011-10-10T17:09:30.415000",
          "2011-10-10T17:35:40.267000",
          "2011-10-10T18:02:46.071500",
          "2011-10-10T18:32:17.249000",
          "2011-10-10T19:03:23.107500",
          "2011-10-10T19:35:35.331000"
         ],
         "y": [
          0.053,
          0.054,
          0.054,
          0.0535,
          0.045,
          0.0435,
          0.045,
          0.0445,
          0.04,
          0.0365,
          0.0225,
          0.025,
          0.036,
          0.0385,
          0.0405,
          0.035,
          0.0405,
          0.0295,
          0.04,
          0.0375,
          0.0325,
          0.0295,
          0.0315,
          0.038,
          0.033,
          0.033
         ]
        },
        {
         "mode": "lines",
         "name": "id-588379",
         "type": "scatter",
         "x": [
          "2011-10-10T02:08:31.853500",
          "2011-10-10T02:37:47.644500",
          "2011-10-10T03:07:01.990000",
          "2011-10-10T03:36:41.870000",
          "2011-10-10T04:08:11.891000",
          "2011-10-10T04:42:27.879500",
          "2011-10-10T05:20:34.905000",
          "2011-10-10T06:01:47.081500",
          "2011-10-10T06:53:33.653500",
          "2011-10-10T08:01:55.419500",
          "2011-10-10T09:26:45.107500",
          "2011-10-10T11:11:52.285500",
          "2011-10-10T12:40:49.287500",
          "2011-10-10T13:37:08.342500",
          "2011-10-10T14:18:06.183500",
          "2011-10-10T14:51:41.545500",
          "2011-10-10T15:21:26.927000",
          "2011-10-10T15:48:38.508000",
          "2011-10-10T16:14:44.081000",
          "2011-10-10T16:40:42.942500",
          "2011-10-10T17:06:06.470500",
          "2011-10-10T17:31:28.280500",
          "2011-10-10T17:56:41.525000",
          "2011-10-10T18:25:31.097000",
          "2011-10-10T18:55:18.986500",
          "2011-10-10T19:26:40.869000",
          "2011-10-10T19:59:56.206500",
          "2011-10-10T20:33:26.119500",
          "2011-10-10T21:06:56.399500",
          "2011-10-10T21:42:33.170500"
         ],
         "y": [
          0.046,
          0.0475,
          0.0485,
          0.051,
          0.0365,
          0.0385,
          0.0425,
          0.029,
          0.042,
          0.031,
          0.021,
          0.025,
          0.033,
          0.0325,
          0.035,
          0.0525,
          0.032,
          0.0345,
          0.033,
          0.037,
          0.0315,
          0.033,
          0.0355,
          0.0325,
          0.032,
          0.0265,
          0.0275,
          0.029,
          0.0315,
          0.034
         ]
        },
        {
         "mode": "lines",
         "name": "id-588382",
         "type": "scatter",
         "x": [
          "2011-10-10T18:04:07.008500",
          "2011-10-10T18:32:51.313000",
          "2011-10-10T19:03:08.890500",
          "2011-10-10T19:34:43.227000",
          "2011-10-10T20:06:41.623000",
          "2011-10-10T20:39:57.662000",
          "2011-10-10T21:14:15.499500",
          "2011-10-10T21:51:07.016500",
          "2011-10-10T22:28:21.240000",
          "2011-10-10T23:07:30.933500",
          "2011-10-10T23:48:17.107500",
          "2011-10-11T00:34:59.240000",
          "2011-10-11T01:23:26.102500",
          "2011-10-11T02:09:10.168000",
          "2011-10-11T02:52:52.225500",
          "2011-10-11T03:39:03.998000",
          "2011-10-11T04:27:17.179500",
          "2011-10-11T05:23:26.305500",
          "2011-10-11T06:34:19.952500",
          "2011-10-11T08:15:46.680500",
          "2011-10-11T10:46:19.979500",
          "2011-10-11T12:53:42.300500",
          "2011-10-11T14:02:43.512000",
          "2011-10-11T14:54:39.771500",
          "2011-10-11T15:38:25.442500",
          "2011-10-11T16:16:49.086000",
          "2011-10-11T16:52:31.075000",
          "2011-10-11T17:28:16.571000",
          "2011-10-11T18:03:36.345000",
          "2011-10-11T18:42:02.830500",
          "2011-10-11T19:21:50.900500",
          "2011-10-11T20:02:28.859000",
          "2011-10-11T20:42:00.997000"
         ],
         "y": [
          0.018,
          0.0125,
          0.0105,
          0.0135,
          0.0125,
          0.0125,
          0.0115,
          0.0155,
          0.012,
          0.009,
          0.0145,
          0.0115,
          0.007,
          0.01,
          0.009,
          0.0085,
          0.013,
          0.0065,
          0.0095,
          0.0105,
          0.006,
          0.0155,
          0.0085,
          0.011,
          0.0045,
          0.01,
          0.0075,
          0.012,
          0.0095,
          0.011,
          0.007,
          0.0085,
          0.009
         ]
        },
        {
         "mode": "lines",
         "name": "id-588386",
         "type": "scatter",
         "x": [
          "2011-10-10T02:09:40.350000",
          "2011-10-10T02:38:06.403500",
          "2011-10-10T03:06:52.388000",
          "2011-10-10T03:36:56.487000",
          "2011-10-10T04:08:30.683500",
          "2011-10-10T04:43:07.726500",
          "2011-10-10T05:21:00.617000",
          "2011-10-10T06:04:55.798000",
          "2011-10-10T06:57:13.461000",
          "2011-10-10T08:01:49.700000",
          "2011-10-10T09:31:25.298000",
          "2011-10-10T11:16:31.336000",
          "2011-10-10T12:44:21.687500",
          "2011-10-10T13:41:29.690500",
          "2011-10-10T14:21:35.461500",
          "2011-10-10T14:54:35.859500",
          "2011-10-10T15:23:30.303000",
          "2011-10-10T15:51:04.624500",
          "2011-10-10T16:17:12.392000",
          "2011-10-10T16:43:24.050500",
          "2011-10-10T17:10:07.873500",
          "2011-10-10T17:37:13.193000",
          "2011-10-10T18:04:49.436000",
          "2011-10-10T18:33:51.618500",
          "2011-10-10T19:04:59.841500",
          "2011-10-10T19:36:27.508500",
          "2011-10-10T20:09:11.450000"
         ],
         "y": [
          0.0435,
          0.039,
          0.0405,
          0.048,
          0.0385,
          0.0345,
          0.039,
          0.037,
          0.0305,
          0.0325,
          0.028,
          0.031,
          0.029,
          0.039,
          0.048,
          0.035,
          0.0365,
          0.032,
          0.0355,
          0.032,
          0.0375,
          0.0385,
          0.034,
          0.04,
          0.0335,
          0.0445,
          0.035
         ]
        },
        {
         "mode": "lines",
         "name": "id-588460",
         "type": "scatter",
         "x": [
          "2011-10-10T04:09:18.001500",
          "2011-10-10T04:44:24.643000",
          "2011-10-10T05:22:25.104000",
          "2011-10-10T06:06:30.280500",
          "2011-10-10T06:59:53.689000",
          "2011-10-10T08:05:56.438500",
          "2011-10-10T09:31:41.434500",
          "2011-10-10T11:16:52.415500",
          "2011-10-10T12:44:53.993000",
          "2011-10-10T13:40:49.034000",
          "2011-10-10T14:21:44.123500",
          "2011-10-10T14:55:49.867500",
          "2011-10-10T15:24:59.325000",
          "2011-10-10T15:53:07.104000",
          "2011-10-10T16:20:08.486500",
          "2011-10-10T16:46:11.896500",
          "2011-10-10T17:11:06.989000",
          "2011-10-10T17:36:28.499500",
          "2011-10-10T18:02:34.316000",
          "2011-10-10T18:32:12.073000",
          "2011-10-10T19:02:28.634000",
          "2011-10-10T19:34:29.762000",
          "2011-10-10T20:08:16.974500",
          "2011-10-10T20:40:54.034000",
          "2011-10-10T21:15:29.545000",
          "2011-10-10T21:52:20.312000",
          "2011-10-10T22:32:13.921000",
          "2011-10-10T23:14:13.001000",
          "2011-10-10T23:59:36.843500",
          "2011-10-11T00:48:08.708500",
          "2011-10-11T01:36:30.175000"
         ],
         "y": [
          0.07,
          0.0565,
          0.0665,
          0.0615,
          0.0395,
          0.043,
          0.028,
          0.0345,
          0.0455,
          0.0595,
          0.0635,
          0.0585,
          0.055,
          0.0545,
          0.049,
          0.051,
          0.0555,
          0.051,
          0.049,
          0.0455,
          0.047,
          0.0515,
          0.0505,
          0.038,
          0.0425,
          0.0385,
          0.0415,
          0.044,
          0.0475,
          0.036,
          0.0425
         ]
        },
        {
         "mode": "lines",
         "name": "id-588486",
         "type": "scatter",
         "x": [
          "2011-10-10T02:45:52.412500",
          "2011-10-10T03:16:11.275500",
          "2011-10-10T03:47:20.175500",
          "2011-10-10T04:19:37.307000",
          "2011-10-10T04:55:12.739500",
          "2011-10-10T05:35:36.351000",
          "2011-10-10T06:19:54.722500",
          "2011-10-10T07:16:41.807500",
          "2011-10-10T08:29:10.927000",
          "2011-10-10T10:04:05.468500",
          "2011-10-10T11:48:24.456000",
          "2011-10-10T13:04:36.107500",
          "2011-10-10T13:55:40.545500",
          "2011-10-10T14:33:08.883000",
          "2011-10-10T15:05:23.022500",
          "2011-10-10T15:34:40.724500",
          "2011-10-10T16:02:01.908500",
          "2011-10-10T16:28:21.112500",
          "2011-10-10T16:53:47.094500",
          "2011-10-10T17:20:48.191500",
          "2011-10-10T17:47:06.963500",
          "2011-10-10T18:15:36.113500",
          "2011-10-10T18:45:04.524000",
          "2011-10-10T19:17:07.102500",
          "2011-10-10T19:48:28.591000",
          "2011-10-10T20:21:36.324500",
          "2011-10-10T20:54:48.921000",
          "2011-10-10T21:29:01.664000",
          "2011-10-10T22:06:24.795000",
          "2011-10-10T22:46:26.069500",
          "2011-10-10T23:25:26.028500",
          "2011-10-11T00:10:07.400500"
         ],
         "y": [
          0.0885,
          0.085,
          0.073,
          0.0845,
          0.0755,
          0.0675,
          0.0685,
          0.0495,
          0.0415,
          0.039,
          0.0455,
          0.0675,
          0.0665,
          0.067,
          0.074,
          0.0635,
          0.067,
          0.062,
          0.0585,
          0.0555,
          0.051,
          0.0545,
          0.046,
          0.0485,
          0.045,
          0.052,
          0.046,
          0.0465,
          0.0455,
          0.0525,
          0.0385,
          0.033
         ]
        },
        {
         "mode": "lines",
         "name": "id-588576",
         "type": "scatter",
         "x": [
          "2011-10-10T03:33:17.933500",
          "2011-10-10T04:06:10.364500",
          "2011-10-10T04:40:45.415500",
          "2011-10-10T05:19:10.446500",
          "2011-10-10T06:02:16.882500",
          "2011-10-10T06:55:47.955500",
          "2011-10-10T08:01:41.419000",
          "2011-10-10T09:28:15.991000",
          "2011-10-10T11:14:21.822000",
          "2011-10-10T12:46:10.870000",
          "2011-10-10T13:42:49.009500",
          "2011-10-10T14:22:11.777000",
          "2011-10-10T14:55:30.043000",
          "2011-10-10T15:24:40.236000",
          "2011-10-10T15:52:31.228000",
          "2011-10-10T16:19:40.510500",
          "2011-10-10T16:45:44.359000",
          "2011-10-10T17:11:00.281500",
          "2011-10-10T17:36:17.413500",
          "2011-10-10T18:02:58.437500",
          "2011-10-10T18:30:55.620500",
          "2011-10-10T19:00:56.309000",
          "2011-10-10T19:31:54.292500",
          "2011-10-10T20:04:09.036000",
          "2011-10-10T20:37:38.104500",
          "2011-10-10T21:09:59.910000",
          "2011-10-10T21:44:28.522500",
          "2011-10-10T22:22:16.793500",
          "2011-10-10T23:02:13.667500",
          "2011-10-10T23:43:41.399000",
          "2011-10-11T00:30:39.192500"
         ],
         "y": [
          0.0165,
          0.0135,
          0.0155,
          0.0135,
          0.016,
          0.018,
          0.0115,
          0.01,
          0.007,
          0.005,
          0.0075,
          0.0145,
          0.0135,
          0.0125,
          0.0075,
          0.013,
          0.0125,
          0.0065,
          0.013,
          0.009,
          0.0095,
          0.016,
          0.0075,
          0.01,
          0.015,
          0.0085,
          0.0095,
          0.0115,
          0.0105,
          0.005,
          0.0065
         ]
        },
        {
         "mode": "lines",
         "name": "id-588738",
         "type": "scatter",
         "x": [
          "2011-10-10T05:52:28.961500",
          "2011-10-10T06:41:08.275000",
          "2011-10-10T07:43:02.904000",
          "2011-10-10T09:03:04.127500",
          "2011-10-10T10:45:48.685000",
          "2011-10-10T12:25:02.454500",
          "2011-10-10T13:27:58.207000",
          "2011-10-10T14:10:37.370000",
          "2011-10-10T14:45:10.827000",
          "2011-10-10T15:16:16.485500",
          "2011-10-10T15:45:25.194500",
          "2011-10-10T16:13:16.538500",
          "2011-10-10T16:39:15.190500",
          "2011-10-10T17:04:50.648000",
          "2011-10-10T17:30:52.215000",
          "2011-10-10T17:57:38.961500",
          "2011-10-10T18:27:54.987000",
          "2011-10-10T18:58:25.644500",
          "2011-10-10T19:30:01.585500",
          "2011-10-10T20:03:12.427000",
          "2011-10-10T20:37:10.408000",
          "2011-10-10T21:11:10.179500",
          "2011-10-10T21:47:41.888500",
          "2011-10-10T22:26:09.106000",
          "2011-10-10T23:05:49.973500",
          "2011-10-10T23:48:05.774000",
          "2011-10-11T00:35:17.155000",
          "2011-10-11T01:23:14.694500"
         ],
         "y": [
          0.04,
          0.0305,
          0.0225,
          0.018,
          0.015,
          0.019,
          0.023,
          0.027,
          0.0275,
          0.0315,
          0.0315,
          0.0245,
          0.03,
          0.021,
          0.0255,
          0.024,
          0.0265,
          0.024,
          0.021,
          0.023,
          0.022,
          0.018,
          0.0255,
          0.0145,
          0.022,
          0.022,
          0.0155,
          0.02
         ]
        },
        {
         "mode": "lines",
         "name": "id-589906",
         "type": "scatter",
         "x": [
          "2011-10-10T18:28:53.057500",
          "2011-10-10T18:59:07.001500",
          "2011-10-10T19:30:46.458000",
          "2011-10-10T20:02:26.205500",
          "2011-10-10T20:34:35.186500",
          "2011-10-10T21:07:46.267000",
          "2011-10-10T21:43:45.202000",
          "2011-10-10T22:21:44.524500",
          "2011-10-10T23:00:28.734000",
          "2011-10-10T23:41:11.677000",
          "2011-10-11T00:26:41.676000",
          "2011-10-11T01:15:46.654000",
          "2011-10-11T02:01:06.864500",
          "2011-10-11T02:45:49.329000",
          "2011-10-11T03:32:56.578500",
          "2011-10-11T04:20:16.573000",
          "2011-10-11T05:13:57.788500",
          "2011-10-11T06:15:31.560500",
          "2011-10-11T07:44:01.305000",
          "2011-10-11T10:02:12.175000",
          "2011-10-11T12:24:35.883000",
          "2011-10-11T13:44:37.179000",
          "2011-10-11T14:39:37.790500",
          "2011-10-11T15:23:47.546000",
          "2011-10-11T16:03:52.664000",
          "2011-10-11T16:40:47.061000",
          "2011-10-11T17:17:10.819500"
         ],
         "y": [
          0.0945,
          0.095,
          0.0895,
          0.085,
          0.0835,
          0.083,
          0.079,
          0.069,
          0.0655,
          0.0695,
          0.0655,
          0.0605,
          0.0565,
          0.068,
          0.0555,
          0.053,
          0.054,
          0.0545,
          0.041,
          0.0365,
          0.0425,
          0.0545,
          0.0565,
          0.0575,
          0.048,
          0.049,
          0.0485
         ]
        },
        {
         "mode": "lines",
         "name": "id-590187",
         "type": "scatter",
         "x": [
          "2011-10-10T19:20:40.364500",
          "2011-10-10T19:52:33.228000",
          "2011-10-10T20:25:48.859000",
          "2011-10-10T20:58:51.239500",
          "2011-10-10T21:34:22.417000",
          "2011-10-10T22:10:54.047500",
          "2011-10-10T22:50:01.708000",
          "2011-10-10T23:31:25.114500",
          "2011-10-11T00:16:33.907000",
          "2011-10-11T01:06:03.196500",
          "2011-10-11T01:53:40.117000",
          "2011-10-11T02:38:18.662000",
          "2011-10-11T03:23:52.208500",
          "2011-10-11T04:11:00.888500",
          "2011-10-11T05:02:59.663000",
          "2011-10-11T06:05:45.698000",
          "2011-10-11T07:34:08.738500",
          "2011-10-11T09:47:31.419000",
          "2011-10-11T12:15:33.082500",
          "2011-10-11T13:40:08.260500",
          "2011-10-11T14:37:00.995000",
          "2011-10-11T15:23:03.181500"
         ],
         "y": [
          0.0725,
          0.066,
          0.0615,
          0.0575,
          0.064,
          0.051,
          0.0545,
          0.048,
          0.031,
          0.0385,
          0.0445,
          0.039,
          0.037,
          0.036,
          0.033,
          0.031,
          0.025,
          0.0235,
          0.032,
          0.027,
          0.044,
          0.0355
         ]
        },
        {
         "mode": "lines",
         "name": "id-590298",
         "type": "scatter",
         "x": [
          "2011-10-10T20:03:23.624000",
          "2011-10-10T20:36:28.124500",
          "2011-10-10T21:09:11.574000",
          "2011-10-10T21:43:55.578500",
          "2011-10-10T22:21:10.585500",
          "2011-10-10T23:00:27.804000",
          "2011-10-10T23:42:02.851000",
          "2011-10-11T00:29:13.294000",
          "2011-10-11T01:18:16.898500",
          "2011-10-11T02:04:52.696000",
          "2011-10-11T02:49:45.657500",
          "2011-10-11T03:35:57.195000",
          "2011-10-11T04:24:09.970500",
          "2011-10-11T05:16:33.205500",
          "2011-10-11T06:21:07.127000",
          "2011-10-11T07:55:48.763000",
          "2011-10-11T10:21:37.466000",
          "2011-10-11T12:39:03.645500",
          "2011-10-11T13:54:49.473000",
          "2011-10-11T14:47:20.508000",
          "2011-10-11T15:30:19.889000",
          "2011-10-11T16:09:29.008000",
          "2011-10-11T16:46:51.500500",
          "2011-10-11T17:21:56.723000",
          "2011-10-11T17:55:42.510500",
          "2011-10-11T18:32:32.262000"
         ],
         "y": [
          0.032,
          0.031,
          0.0355,
          0.034,
          0.0315,
          0.029,
          0.0315,
          0.032,
          0.0255,
          0.0275,
          0.021,
          0.018,
          0.0275,
          0.028,
          0.0225,
          0.0245,
          0.0145,
          0.0185,
          0.0245,
          0.023,
          0.0235,
          0.0225,
          0.0305,
          0.0215,
          0.0265,
          0.0275
         ]
        },
        {
         "mode": "lines",
         "name": "id-590365",
         "type": "scatter",
         "x": [
          "2011-10-10T21:02:54.484000",
          "2011-10-10T21:37:28.039000",
          "2011-10-10T22:15:20.016000",
          "2011-10-10T22:53:58.266500",
          "2011-10-10T23:35:20.765000",
          "2011-10-11T00:21:31.597000",
          "2011-10-11T01:09:56.376500",
          "2011-10-11T01:55:32.010000",
          "2011-10-11T02:39:15.209500",
          "2011-10-11T03:26:03.183500",
          "2011-10-11T04:12:20.608000",
          "2011-10-11T05:04:39.015000",
          "2011-10-11T06:07:08.119000",
          "2011-10-11T07:34:24.336500",
          "2011-10-11T09:51:44.932500",
          "2011-10-11T12:19:35.949000",
          "2011-10-11T13:46:11.807500",
          "2011-10-11T14:40:55.847500",
          "2011-10-11T15:25:42.819500",
          "2011-10-11T16:06:12.880000",
          "2011-10-11T16:43:01.348000",
          "2011-10-11T17:18:36.068500",
          "2011-10-11T17:54:11.463000"
         ],
         "y": [
          0.015,
          0.016,
          0.01,
          0.0115,
          0.018,
          0.011,
          0.0105,
          0.0125,
          0.0135,
          0.0145,
          0.0155,
          0.014,
          0.011,
          0.012,
          0.009,
          0.0095,
          0.0125,
          0.0145,
          0.0175,
          0.009,
          0.0125,
          0.018,
          0.012
         ]
        },
        {
         "mode": "lines",
         "name": "id-590390",
         "type": "scatter",
         "x": [
          "2011-10-10T20:08:21.859000",
          "2011-10-10T20:41:18.532000",
          "2011-10-10T21:15:29.522500",
          "2011-10-10T21:53:03.076000",
          "2011-10-10T22:31:38.063500",
          "2011-10-10T23:11:54.214000",
          "2011-10-10T23:54:41.857000",
          "2011-10-11T00:41:25.974500",
          "2011-10-11T01:28:53.775500",
          "2011-10-11T02:15:23.632000",
          "2011-10-11T02:58:20.314000",
          "2011-10-11T03:44:54.827500",
          "2011-10-11T04:31:38.205500",
          "2011-10-11T05:27:08.241000",
          "2011-10-11T06:36:41.107000",
          "2011-10-11T08:18:27.074500",
          "2011-10-11T10:47:55.130500",
          "2011-10-11T12:56:30.315000",
          "2011-10-11T14:04:59.124500",
          "2011-10-11T14:54:37.639000",
          "2011-10-11T15:37:21.594500",
          "2011-10-11T16:15:31.477000",
          "2011-10-11T16:52:01.223000",
          "2011-10-11T17:28:40.779500",
          "2011-10-11T18:04:23.075000",
          "2011-10-11T18:41:23.053000",
          "2011-10-11T19:20:28.454500",
          "2011-10-11T19:59:13.301000",
          "2011-10-11T20:39:27.058500"
         ],
         "y": [
          0.1505,
          0.1385,
          0.1295,
          0.1325,
          0.119,
          0.111,
          0.112,
          0.098,
          0.093,
          0.0795,
          0.093,
          0.093,
          0.0895,
          0.0805,
          0.079,
          0.0615,
          0.0445,
          0.0715,
          0.0865,
          0.0885,
          0.083,
          0.0875,
          0.08,
          0.0785,
          0.084,
          0.085,
          0.087,
          0.071,
          0.065
         ]
        },
        {
         "mode": "lines",
         "name": "id-590405",
         "type": "scatter",
         "x": [
          "2011-10-10T21:18:00.039500",
          "2011-10-10T21:54:35.517500",
          "2011-10-10T22:32:14.305000",
          "2011-10-10T23:11:10.058000",
          "2011-10-10T23:51:55.561500",
          "2011-10-11T00:38:39.676500",
          "2011-10-11T01:27:05.567500",
          "2011-10-11T02:12:38.869500",
          "2011-10-11T02:57:49.223000",
          "2011-10-11T03:45:19.588000",
          "2011-10-11T04:35:20.015000",
          "2011-10-11T05:31:25.955000",
          "2011-10-11T06:39:56.375000",
          "2011-10-11T08:20:31.865000",
          "2011-10-11T10:49:53.761000",
          "2011-10-11T12:58:39.519500",
          "2011-10-11T14:06:40.029500",
          "2011-10-11T14:57:21.101000",
          "2011-10-11T15:40:16.378000",
          "2011-10-11T16:18:13.684500",
          "2011-10-11T16:54:14.501500",
          "2011-10-11T17:30:10.960500",
          "2011-10-11T18:06:11.493500"
         ],
         "y": [
          0.035,
          0.042,
          0.0385,
          0.033,
          0.022,
          0.0255,
          0.026,
          0.0255,
          0.0245,
          0.02,
          0.02,
          0.0255,
          0.0215,
          0.0185,
          0.0155,
          0.0175,
          0.021,
          0.026,
          0.0275,
          0.0225,
          0.025,
          0.024,
          0.0305
         ]
        },
        {
         "mode": "lines",
         "name": "id-590761",
         "type": "scatter",
         "x": [
          "2011-10-10T22:32:47.882000",
          "2011-10-10T23:12:28.638000",
          "2011-10-10T23:55:39.462000",
          "2011-10-11T00:42:10.564500",
          "2011-10-11T01:29:50.535500",
          "2011-10-11T02:16:46.138500",
          "2011-10-11T03:01:15.973500",
          "2011-10-11T03:48:03.224500",
          "2011-10-11T04:37:27.185000",
          "2011-10-11T05:33:48.508500",
          "2011-10-11T06:43:55.174000",
          "2011-10-11T08:27:54.489500",
          "2011-10-11T11:05:33.336000",
          "2011-10-11T13:05:24.598500",
          "2011-10-11T14:11:20.555500",
          "2011-10-11T15:00:40.286000",
          "2011-10-11T15:42:12.011500",
          "2011-10-11T16:20:49.162500",
          "2011-10-11T16:57:29.100500",
          "2011-10-11T17:33:39.117500",
          "2011-10-11T18:08:38.712500",
          "2011-10-11T18:47:00.553000",
          "2011-10-11T19:25:06.792000",
          "2011-10-11T20:05:22.314000",
          "2011-10-11T20:45:51.034000"
         ],
         "y": [
          0.06,
          0.045,
          0.032,
          0.037,
          0.0345,
          0.0375,
          0.033,
          0.036,
          0.0375,
          0.0335,
          0.0355,
          0.0275,
          0.0275,
          0.0315,
          0.0375,
          0.0395,
          0.0395,
          0.0395,
          0.0395,
          0.0415,
          0.036,
          0.0335,
          0.035,
          0.0345,
          0.0325
         ]
        },
        {
         "mode": "lines",
         "name": "id-590806",
         "type": "scatter",
         "x": [
          "2011-10-10T21:55:59.284500",
          "2011-10-10T22:35:19.380500",
          "2011-10-10T23:15:52.873500",
          "2011-10-10T23:58:54.141000",
          "2011-10-11T00:46:08.400500",
          "2011-10-11T01:33:47.547000",
          "2011-10-11T02:19:18.871500",
          "2011-10-11T03:03:40.885500",
          "2011-10-11T03:52:26.017000",
          "2011-10-11T04:43:25.770000",
          "2011-10-11T05:41:10.923000",
          "2011-10-11T06:52:51.255000",
          "2011-10-11T08:39:56.956500",
          "2011-10-11T11:17:30.003000",
          "2011-10-11T13:11:42.631500",
          "2011-10-11T14:15:06.114500",
          "2011-10-11T15:02:32.688500",
          "2011-10-11T15:44:28.260000",
          "2011-10-11T16:22:34.369500",
          "2011-10-11T16:58:31.669000",
          "2011-10-11T17:32:56.729500",
          "2011-10-11T18:07:39.995500",
          "2011-10-11T18:45:34.433000",
          "2011-10-11T19:23:01.686000",
          "2011-10-11T20:01:40.826000",
          "2011-10-11T20:41:42.759000",
          "2011-10-11T21:22:18.753000"
         ],
         "y": [
          0.051,
          0.0445,
          0.0425,
          0.036,
          0.037,
          0.038,
          0.0415,
          0.0355,
          0.044,
          0.037,
          0.037,
          0.035,
          0.0385,
          0.039,
          0.03,
          0.0315,
          0.032,
          0.0325,
          0.0245,
          0.033,
          0.029,
          0.025,
          0.0335,
          0.0375,
          0.0205,
          0.024,
          0.0285
         ]
        },
        {
         "mode": "lines",
         "name": "id-590824",
         "type": "scatter",
         "x": [
          "2011-10-10T22:07:15.799500",
          "2011-10-10T22:47:02.405500",
          "2011-10-10T23:27:31.871500",
          "2011-10-11T00:12:00.267500",
          "2011-10-11T00:58:40.803000",
          "2011-10-11T01:44:25.876000",
          "2011-10-11T02:29:42.487500",
          "2011-10-11T03:15:15.860500",
          "2011-10-11T04:02:58.258500",
          "2011-10-11T04:53:32.317000",
          "2011-10-11T05:54:47.148500",
          "2011-10-11T07:18:29.657000",
          "2011-10-11T09:29:44.514000",
          "2011-10-11T12:04:57.651500",
          "2011-10-11T13:33:12.998000",
          "2011-10-11T14:30:27.594000",
          "2011-10-11T15:16:38.663000",
          "2011-10-11T15:57:16.778500",
          "2011-10-11T16:33:57.474500",
          "2011-10-11T17:10:15.627500",
          "2011-10-11T17:45:49.914000",
          "2011-10-11T18:22:34.024500",
          "2011-10-11T18:59:57.221500",
          "2011-10-11T19:38:54.779000",
          "2011-10-11T20:18:57.948000"
         ],
         "y": [
          0.0795,
          0.0865,
          0.0725,
          0.0675,
          0.0655,
          0.0685,
          0.055,
          0.06,
          0.048,
          0.0575,
          0.0545,
          0.0435,
          0.0385,
          0.0375,
          0.0525,
          0.058,
          0.067,
          0.058,
          0.0615,
          0.053,
          0.059,
          0.058,
          0.066,
          0.053,
          0.047
         ]
        },
        {
         "mode": "lines",
         "name": "id-590857",
         "type": "scatter",
         "x": [
          "2011-10-11T18:32:37.092500",
          "2011-10-11T19:09:43.109000",
          "2011-10-11T19:48:22.588000",
          "2011-10-11T20:29:34.562000",
          "2011-10-11T21:09:57.599000",
          "2011-10-11T21:46:11.772500",
          "2011-10-11T22:20:31.928000",
          "2011-10-11T22:54:40.073000",
          "2011-10-11T23:32:41.147500",
          "2011-10-12T00:14:49.067000",
          "2011-10-12T00:58:37.852000"
         ],
         "y": [
          0.076,
          0.066,
          0.0535,
          0.0475,
          0.061,
          0.054,
          0.065,
          0.056,
          0.057,
          0.0525,
          0.042
         ]
        },
        {
         "mode": "lines",
         "name": "id-590958",
         "type": "scatter",
         "x": [
          "2011-10-11T00:04:59.182000",
          "2011-10-11T00:53:30.416000",
          "2011-10-11T01:40:07.966500",
          "2011-10-11T02:25:47.721500",
          "2011-10-11T03:12:08.336500",
          "2011-10-11T03:59:52.189500",
          "2011-10-11T04:51:29.713500",
          "2011-10-11T05:52:19.479500",
          "2011-10-11T07:16:53.141000",
          "2011-10-11T09:22:31.925000",
          "2011-10-11T11:59:03.064000",
          "2011-10-11T13:34:55.168500",
          "2011-10-11T14:31:50.640500",
          "2011-10-11T15:18:56.635500",
          "2011-10-11T16:01:02.490000",
          "2011-10-11T16:36:57.177500",
          "2011-10-11T17:12:16.765500",
          "2011-10-11T17:47:39.491500",
          "2011-10-11T18:24:32.193000",
          "2011-10-11T19:03:12.465500",
          "2011-10-11T19:41:16.479500",
          "2011-10-11T20:22:25.361000"
         ],
         "y": [
          0.048,
          0.05,
          0.0485,
          0.0345,
          0.0405,
          0.034,
          0.043,
          0.034,
          0.035,
          0.033,
          0.032,
          0.0335,
          0.0365,
          0.0355,
          0.037,
          0.037,
          0.034,
          0.0295,
          0.0275,
          0.041,
          0.029,
          0.029
         ]
        },
        {
         "mode": "lines",
         "name": "id-591085",
         "type": "scatter",
         "x": [
          "2011-10-11T18:30:38.826000",
          "2011-10-11T19:08:48.318500",
          "2011-10-11T19:47:50.291000",
          "2011-10-11T20:29:00.715500",
          "2011-10-11T21:10:20.638500",
          "2011-10-11T21:46:32.662500",
          "2011-10-11T22:20:38.025500",
          "2011-10-11T22:56:07.346500",
          "2011-10-11T23:34:35.506500",
          "2011-10-12T00:16:36.720500",
          "2011-10-12T01:01:00.970500"
         ],
         "y": [
          0.0515,
          0.0555,
          0.049,
          0.0375,
          0.04,
          0.047,
          0.0425,
          0.045,
          0.0375,
          0.037,
          0.031
         ]
        },
        {
         "mode": "lines",
         "name": "id-591223",
         "type": "scatter",
         "x": [
          "2011-10-11T14:41:51.438000",
          "2011-10-11T15:26:14.364500",
          "2011-10-11T16:06:57.473500",
          "2011-10-11T16:43:08.939000",
          "2011-10-11T17:19:24.214000",
          "2011-10-11T17:53:32.935000",
          "2011-10-11T18:30:18.836500",
          "2011-10-11T19:09:25.810000",
          "2011-10-11T19:48:08.980500",
          "2011-10-11T20:30:09.056500",
          "2011-10-11T21:13:27.062000",
          "2011-10-11T21:52:07.014000",
          "2011-10-11T22:27:43.822000",
          "2011-10-11T23:04:41.206000",
          "2011-10-11T23:46:18.252500",
          "2011-10-12T00:29:44.026500",
          "2011-10-12T01:14:50.657000"
         ],
         "y": [
          0.051,
          0.0665,
          0.06,
          0.0765,
          0.0525,
          0.0625,
          0.06,
          0.0675,
          0.0555,
          0.0425,
          0.049,
          0.0475,
          0.0525,
          0.0465,
          0.0545,
          0.045,
          0.041
         ]
        },
        {
         "mode": "lines",
         "name": "id-591266",
         "type": "scatter",
         "x": [
          "2011-10-11T23:52:20.651000",
          "2011-10-12T00:35:26.050000",
          "2011-10-12T01:18:55.804500"
         ],
         "y": [
          0.048,
          0.049,
          0.035
         ]
        },
        {
         "mode": "lines",
         "name": "id-591319",
         "type": "scatter",
         "x": [
          "2011-10-11T00:11:22.321500",
          "2011-10-11T00:59:47.350500",
          "2011-10-11T01:45:09.619500",
          "2011-10-11T02:31:37.633500",
          "2011-10-11T03:18:08.804000",
          "2011-10-11T04:05:21.493000",
          "2011-10-11T04:57:37.921000",
          "2011-10-11T05:58:31.640500",
          "2011-10-11T07:20:07.376000",
          "2011-10-11T09:29:31.524000",
          "2011-10-11T12:06:44.133500",
          "2011-10-11T13:36:40.243000",
          "2011-10-11T14:33:47.572000",
          "2011-10-11T15:19:24.921000",
          "2011-10-11T16:00:59.375000",
          "2011-10-11T16:39:03.632500",
          "2011-10-11T17:14:40.839500",
          "2011-10-11T17:49:58.033500",
          "2011-10-11T18:27:11.178000",
          "2011-10-11T19:06:51.547000",
          "2011-10-11T19:45:54.211000",
          "2011-10-11T20:27:04.012000"
         ],
         "y": [
          0.0275,
          0.0255,
          0.0215,
          0.024,
          0.025,
          0.026,
          0.0295,
          0.026,
          0.033,
          0.0225,
          0.016,
          0.017,
          0.021,
          0.0245,
          0.0225,
          0.0145,
          0.025,
          0.0195,
          0.02,
          0.023,
          0.016,
          0.019
         ]
        },
        {
         "mode": "lines",
         "name": "id-591423",
         "type": "scatter",
         "x": [
          "2011-10-11T20:10:30.046500",
          "2011-10-11T20:49:07.203500",
          "2011-10-11T21:27:35.649000",
          "2011-10-11T22:03:44.934000",
          "2011-10-11T22:38:51.530500",
          "2011-10-11T23:15:01.578500",
          "2011-10-11T23:54:34.045500",
          "2011-10-12T00:36:49.959500",
          "2011-10-12T01:20:57.044000"
         ],
         "y": [
          0.0155,
          0.0115,
          0.015,
          0.015,
          0.0145,
          0.0125,
          0.013,
          0.0145,
          0.01
         ]
        },
        {
         "mode": "lines",
         "name": "id-591432",
         "type": "scatter",
         "x": [
          "2011-10-11T14:49:18.947000",
          "2011-10-11T15:33:40.385500",
          "2011-10-11T16:12:27.266500",
          "2011-10-11T16:47:53.436000",
          "2011-10-11T17:23:08.748500",
          "2011-10-11T17:58:51.548000",
          "2011-10-11T18:35:25.625000",
          "2011-10-11T19:12:31.290000",
          "2011-10-11T19:51:32.135000",
          "2011-10-11T20:33:53.354000",
          "2011-10-11T21:14:58.473000",
          "2011-10-11T21:51:01.192000",
          "2011-10-11T22:25:28.522500",
          "2011-10-11T23:00:06.982500",
          "2011-10-11T23:39:21.516000",
          "2011-10-12T00:21:37.219500",
          "2011-10-12T01:05:37.190500"
         ],
         "y": [
          0.0235,
          0.025,
          0.0245,
          0.0255,
          0.027,
          0.021,
          0.0255,
          0.022,
          0.0195,
          0.026,
          0.0265,
          0.0185,
          0.021,
          0.023,
          0.015,
          0.0145,
          0.019
         ]
        },
        {
         "mode": "lines",
         "name": "id-591728",
         "type": "scatter",
         "x": [
          "2011-10-11T02:27:18.031500",
          "2011-10-11T03:12:25.309500",
          "2011-10-11T03:59:09.914000",
          "2011-10-11T04:50:38.262000",
          "2011-10-11T05:49:36.896500",
          "2011-10-11T07:09:45.059000",
          "2011-10-11T09:07:55.032500",
          "2011-10-11T11:41:35.736500",
          "2011-10-11T13:22:54.099000",
          "2011-10-11T14:23:03.945000",
          "2011-10-11T15:09:56.174000",
          "2011-10-11T15:51:53.204500",
          "2011-10-11T16:29:56.537000",
          "2011-10-11T17:05:51.926500",
          "2011-10-11T17:41:22.438000",
          "2011-10-11T18:16:57.281500",
          "2011-10-11T18:54:18.868500",
          "2011-10-11T19:32:53.271000",
          "2011-10-11T20:13:15.186500",
          "2011-10-11T20:54:45.622000",
          "2011-10-11T21:34:08.269500",
          "2011-10-11T22:09:28.281500",
          "2011-10-11T22:43:04.498000",
          "2011-10-11T23:19:25.974500",
          "2011-10-12T00:00:42.073500"
         ],
         "y": [
          0.13,
          0.116,
          0.1225,
          0.1205,
          0.0995,
          0.0925,
          0.059,
          0.0685,
          0.0985,
          0.105,
          0.0985,
          0.1005,
          0.105,
          0.1065,
          0.108,
          0.094,
          0.0975,
          0.0965,
          0.0865,
          0.0875,
          0.0975,
          0.089,
          0.0905,
          0.0935,
          0.0805
         ]
        },
        {
         "mode": "lines",
         "name": "id-592124",
         "type": "scatter",
         "x": [
          "2011-10-11T04:34:42.349500",
          "2011-10-11T05:30:23.071000",
          "2011-10-11T06:41:21.257000",
          "2011-10-11T08:30:26.124500",
          "2011-10-11T11:08:13.858500",
          "2011-10-11T13:08:45.400000",
          "2011-10-11T14:12:36.779500",
          "2011-10-11T15:01:36.707000",
          "2011-10-11T15:44:29.027000",
          "2011-10-11T16:22:35.620500",
          "2011-10-11T16:58:03.119000",
          "2011-10-11T17:34:14.857000",
          "2011-10-11T18:10:26.284000",
          "2011-10-11T18:49:00.956000",
          "2011-10-11T19:27:52.981500",
          "2011-10-11T20:08:08.741500",
          "2011-10-11T20:49:35.725500",
          "2011-10-11T21:29:19.452000",
          "2011-10-11T22:03:48.408000",
          "2011-10-11T22:37:23.816000",
          "2011-10-11T23:12:14.646000",
          "2011-10-11T23:52:11.625500",
          "2011-10-12T00:33:57.528500",
          "2011-10-12T01:17:42.025000"
         ],
         "y": [
          0.057,
          0.055,
          0.053,
          0.0455,
          0.041,
          0.033,
          0.0535,
          0.042,
          0.0495,
          0.045,
          0.0475,
          0.047,
          0.048,
          0.043,
          0.0465,
          0.0385,
          0.0375,
          0.037,
          0.0415,
          0.0345,
          0.0425,
          0.0435,
          0.034,
          0.03
         ]
        },
        {
         "mode": "lines",
         "name": "id-592156",
         "type": "scatter",
         "x": [
          "2011-10-11T03:11:01.341000",
          "2011-10-11T03:56:23.277000",
          "2011-10-11T04:45:05.915500",
          "2011-10-11T05:42:30.520500",
          "2011-10-11T06:56:39.083500",
          "2011-10-11T08:49:09.420500",
          "2011-10-11T11:20:48.327000",
          "2011-10-11T13:14:01.702500",
          "2011-10-11T14:17:00.845000",
          "2011-10-11T15:05:14.434000",
          "2011-10-11T15:47:01.788500",
          "2011-10-11T16:23:48.187000",
          "2011-10-11T16:58:36.010500",
          "2011-10-11T17:33:28.847500",
          "2011-10-11T18:08:10.040000",
          "2011-10-11T18:45:38.058000",
          "2011-10-11T19:23:41.052500",
          "2011-10-11T20:03:38.256000",
          "2011-10-11T20:44:45.692500",
          "2011-10-11T21:25:19.225000",
          "2011-10-11T22:01:01.374500",
          "2011-10-11T22:36:42.905500",
          "2011-10-11T23:13:42.247000",
          "2011-10-11T23:53:41.652500",
          "2011-10-12T00:36:41.508000"
         ],
         "y": [
          0.076,
          0.074,
          0.0725,
          0.067,
          0.0705,
          0.049,
          0.048,
          0.057,
          0.071,
          0.069,
          0.0695,
          0.0655,
          0.0635,
          0.07,
          0.0705,
          0.0655,
          0.074,
          0.0695,
          0.058,
          0.065,
          0.0635,
          0.0545,
          0.052,
          0.0555,
          0.054
         ]
        },
        {
         "mode": "lines",
         "name": "id-592444",
         "type": "scatter",
         "x": [
          "2011-10-11T04:40:38.477500",
          "2011-10-11T05:35:40.805000",
          "2011-10-11T06:45:59.797000",
          "2011-10-11T08:32:50.867500",
          "2011-10-11T11:11:03.971500",
          "2011-10-11T13:09:51.977000",
          "2011-10-11T14:14:01.684000",
          "2011-10-11T15:03:35.340000",
          "2011-10-11T15:46:34.639000",
          "2011-10-11T16:23:47.522000",
          "2011-10-11T16:59:32.526500",
          "2011-10-11T17:35:01.793500",
          "2011-10-11T18:09:28.283500",
          "2011-10-11T18:48:16.394000",
          "2011-10-11T19:26:31.242500",
          "2011-10-11T20:06:49.329000",
          "2011-10-11T20:48:43.922500",
          "2011-10-11T21:28:52.156000",
          "2011-10-11T22:03:15.521000",
          "2011-10-11T22:37:03.716000",
          "2011-10-11T23:13:10.979000",
          "2011-10-11T23:53:13.351500",
          "2011-10-12T00:34:32.684000"
         ],
         "y": [
          0.033,
          0.0375,
          0.036,
          0.03,
          0.02,
          0.0195,
          0.0235,
          0.0295,
          0.0305,
          0.033,
          0.0365,
          0.0295,
          0.0305,
          0.03,
          0.03,
          0.0255,
          0.018,
          0.031,
          0.0315,
          0.03,
          0.0255,
          0.0335,
          0.0315
         ]
        },
        {
         "mode": "lines",
         "name": "id-593589",
         "type": "scatter",
         "x": [
          "2011-10-11T16:28:20.262000",
          "2011-10-11T17:04:11.432500",
          "2011-10-11T17:38:27.731000",
          "2011-10-11T18:14:05.089000",
          "2011-10-11T18:51:48.930500",
          "2011-10-11T19:29:24.412000",
          "2011-10-11T20:09:43.102500",
          "2011-10-11T20:50:08.200000",
          "2011-10-11T21:29:11.679000",
          "2011-10-11T22:04:35.302500",
          "2011-10-11T22:38:16.638500",
          "2011-10-11T23:13:44.660500",
          "2011-10-11T23:54:10.346000",
          "2011-10-12T00:37:36.430000",
          "2011-10-12T01:21:09.265000"
         ],
         "y": [
          0.022,
          0.022,
          0.022,
          0.0145,
          0.0205,
          0.0215,
          0.011,
          0.017,
          0.0215,
          0.018,
          0.025,
          0.0235,
          0.0155,
          0.0135,
          0.014
         ]
        },
        {
         "mode": "lines",
         "name": "id-593986",
         "type": "scatter",
         "x": [
          "2011-10-11T22:35:28.717500",
          "2011-10-11T23:12:44.825500",
          "2011-10-11T23:53:10.518000",
          "2011-10-12T00:36:34.862500",
          "2011-10-12T01:19:53.902000"
         ],
         "y": [
          0.029,
          0.0325,
          0.032,
          0.0325,
          0.0335
         ]
        },
        {
         "mode": "lines",
         "name": "id-594038",
         "type": "scatter",
         "x": [
          "2011-10-11T18:18:54.834000",
          "2011-10-11T18:57:03.661500",
          "2011-10-11T19:35:18.122500",
          "2011-10-11T20:16:25.828500",
          "2011-10-11T20:58:01.139500",
          "2011-10-11T21:37:33.254500",
          "2011-10-11T22:12:43.943500",
          "2011-10-11T22:47:27.127000",
          "2011-10-11T23:25:22.944500",
          "2011-10-12T00:06:47.649000",
          "2011-10-12T00:50:21.933500",
          "2011-10-12T01:32:38.829000"
         ],
         "y": [
          0.0555,
          0.0465,
          0.0615,
          0.0395,
          0.046,
          0.042,
          0.037,
          0.046,
          0.0355,
          0.035,
          0.025,
          0.0255
         ]
        },
        {
         "mode": "lines",
         "name": "id-594211",
         "type": "scatter",
         "x": [
          "2011-10-11T19:14:07.587500",
          "2011-10-11T19:51:43.817000",
          "2011-10-11T20:32:15.600000",
          "2011-10-11T21:12:17.748000",
          "2011-10-11T21:48:13.105000",
          "2011-10-11T22:22:26.997000",
          "2011-10-11T22:57:43.330500",
          "2011-10-11T23:35:45.611000",
          "2011-10-12T00:18:06.234000",
          "2011-10-12T01:03:32.974000"
         ],
         "y": [
          0.089,
          0.08,
          0.0625,
          0.058,
          0.062,
          0.0725,
          0.0785,
          0.0715,
          0.059,
          0.0495
         ]
        },
        {
         "mode": "lines",
         "name": "id-594223",
         "type": "scatter",
         "x": [
          "2011-10-11T19:11:29.397500",
          "2011-10-11T19:50:30.220000",
          "2011-10-11T20:30:26.615500",
          "2011-10-11T21:11:31.630500",
          "2011-10-11T21:48:12.528500",
          "2011-10-11T22:22:41.768500",
          "2011-10-11T22:58:36.881000",
          "2011-10-11T23:37:40.192000",
          "2011-10-12T00:18:44.688000",
          "2011-10-12T01:03:13.353500"
         ],
         "y": [
          0.0705,
          0.0635,
          0.0685,
          0.063,
          0.061,
          0.067,
          0.056,
          0.0505,
          0.0535,
          0.0495
         ]
        },
        {
         "mode": "lines",
         "name": "id-594458",
         "type": "scatter",
         "x": [
          "2011-10-11T23:02:41.583000",
          "2011-10-11T23:41:20.357000",
          "2011-10-12T00:24:38.386000",
          "2011-10-12T01:09:28.330500"
         ],
         "y": [
          0.06,
          0.0505,
          0.041,
          0.033
         ]
        },
        {
         "mode": "lines",
         "name": "id-594501",
         "type": "scatter",
         "x": [
          "2011-10-11T20:15:43.760000",
          "2011-10-11T20:57:13.756500",
          "2011-10-11T21:35:49.065500",
          "2011-10-11T22:10:39.321500",
          "2011-10-11T22:45:14.673500",
          "2011-10-11T23:21:40.461500",
          "2011-10-12T00:03:08.769000",
          "2011-10-12T00:46:58.445500",
          "2011-10-12T01:30:31.097500"
         ],
         "y": [
          0.048,
          0.0495,
          0.042,
          0.049,
          0.0475,
          0.046,
          0.037,
          0.0355,
          0.0415
         ]
        },
        {
         "mode": "lines",
         "name": "id-594694",
         "type": "scatter",
         "x": [
          "2011-10-11T22:29:17.352500",
          "2011-10-11T23:05:35.472000",
          "2011-10-11T23:44:13.930500",
          "2011-10-12T00:25:53.468500",
          "2011-10-12T01:10:35.942500"
         ],
         "y": [
          0.0465,
          0.057,
          0.052,
          0.0445,
          0.0335
         ]
        },
        {
         "mode": "lines",
         "name": "id-594771",
         "type": "scatter",
         "x": [
          "2011-10-11T20:52:10.106000",
          "2011-10-11T21:32:26.866500",
          "2011-10-11T22:08:02.006500",
          "2011-10-11T22:43:01.710500",
          "2011-10-11T23:19:40.908000",
          "2011-10-11T23:58:41.004000",
          "2011-10-12T00:41:45.696000",
          "2011-10-12T01:25:45.818000"
         ],
         "y": [
          0.054,
          0.0495,
          0.0545,
          0.047,
          0.0505,
          0.0475,
          0.0395,
          0.036
         ]
        },
        {
         "mode": "lines",
         "name": "id-595085",
         "type": "scatter",
         "x": [
          "2011-10-11T21:33:04.641500",
          "2011-10-11T22:08:12.647500",
          "2011-10-11T22:43:52.098000",
          "2011-10-11T23:20:44.077500",
          "2011-10-12T00:01:51.025500",
          "2011-10-12T00:46:23.634500",
          "2011-10-12T01:29:24.366000"
         ],
         "y": [
          0.0225,
          0.025,
          0.0225,
          0.0255,
          0.0165,
          0.0195,
          0.0155
         ]
        },
        {
         "mode": "lines",
         "name": "id-595203",
         "type": "scatter",
         "x": [
          "2011-10-11T21:35:39.385500",
          "2011-10-11T22:08:54.283000",
          "2011-10-11T22:43:18.724000",
          "2011-10-11T23:19:52.419000",
          "2011-10-11T23:59:20.336500",
          "2011-10-12T00:42:19.629000",
          "2011-10-12T01:25:34.955000"
         ],
         "y": [
          0.024,
          0.0195,
          0.0265,
          0.0165,
          0.025,
          0.016,
          0.0145
         ]
        },
        {
         "mode": "lines",
         "name": "id-595249",
         "type": "scatter",
         "x": [
          "2011-10-11T21:15:11.434500",
          "2011-10-11T21:50:18.631500",
          "2011-10-11T22:24:37.687500",
          "2011-10-11T23:00:01.071500",
          "2011-10-11T23:39:30.645000",
          "2011-10-12T00:22:24.787000",
          "2011-10-12T01:06:31.520000"
         ],
         "y": [
          0.0665,
          0.0715,
          0.0715,
          0.0585,
          0.062,
          0.043,
          0.0525
         ]
        },
        {
         "mode": "lines",
         "name": "id-595770",
         "type": "scatter",
         "x": [],
         "y": []
        },
        {
         "mode": "lines",
         "name": "id-595843",
         "type": "scatter",
         "x": [
          "2011-10-11T23:37:09.140500",
          "2011-10-12T00:18:46.453000",
          "2011-10-12T01:02:54.223500"
         ],
         "y": [
          0.0515,
          0.0525,
          0.048
         ]
        },
        {
         "mode": "lines",
         "name": "id-596081",
         "type": "scatter",
         "x": [
          "2011-10-12T01:09:30.255500"
         ],
         "y": [
          0.0155
         ]
        },
        {
         "mode": "lines",
         "name": "id-596258",
         "type": "scatter",
         "x": [
          "2011-10-12T00:56:53.797500"
         ],
         "y": [
          0.0225
         ]
        }
       ],
       "layout": {
        "template": {
         "data": {
          "bar": [
           {
            "error_x": {
             "color": "#2a3f5f"
            },
            "error_y": {
             "color": "#2a3f5f"
            },
            "marker": {
             "line": {
              "color": "#E5ECF6",
              "width": 0.5
             },
             "pattern": {
              "fillmode": "overlay",
              "size": 10,
              "solidity": 0.2
             }
            },
            "type": "bar"
           }
          ],
          "barpolar": [
           {
            "marker": {
             "line": {
              "color": "#E5ECF6",
              "width": 0.5
             },
             "pattern": {
              "fillmode": "overlay",
              "size": 10,
              "solidity": 0.2
             }
            },
            "type": "barpolar"
           }
          ],
          "carpet": [
           {
            "aaxis": {
             "endlinecolor": "#2a3f5f",
             "gridcolor": "white",
             "linecolor": "white",
             "minorgridcolor": "white",
             "startlinecolor": "#2a3f5f"
            },
            "baxis": {
             "endlinecolor": "#2a3f5f",
             "gridcolor": "white",
             "linecolor": "white",
             "minorgridcolor": "white",
             "startlinecolor": "#2a3f5f"
            },
            "type": "carpet"
           }
          ],
          "choropleth": [
           {
            "colorbar": {
             "outlinewidth": 0,
             "ticks": ""
            },
            "type": "choropleth"
           }
          ],
          "contour": [
           {
            "colorbar": {
             "outlinewidth": 0,
             "ticks": ""
            },
            "colorscale": [
             [
              0,
              "#0d0887"
             ],
             [
              0.1111111111111111,
              "#46039f"
             ],
             [
              0.2222222222222222,
              "#7201a8"
             ],
             [
              0.3333333333333333,
              "#9c179e"
             ],
             [
              0.4444444444444444,
              "#bd3786"
             ],
             [
              0.5555555555555556,
              "#d8576b"
             ],
             [
              0.6666666666666666,
              "#ed7953"
             ],
             [
              0.7777777777777778,
              "#fb9f3a"
             ],
             [
              0.8888888888888888,
              "#fdca26"
             ],
             [
              1,
              "#f0f921"
             ]
            ],
            "type": "contour"
           }
          ],
          "contourcarpet": [
           {
            "colorbar": {
             "outlinewidth": 0,
             "ticks": ""
            },
            "type": "contourcarpet"
           }
          ],
          "heatmap": [
           {
            "colorbar": {
             "outlinewidth": 0,
             "ticks": ""
            },
            "colorscale": [
             [
              0,
              "#0d0887"
             ],
             [
              0.1111111111111111,
              "#46039f"
             ],
             [
              0.2222222222222222,
              "#7201a8"
             ],
             [
              0.3333333333333333,
              "#9c179e"
             ],
             [
              0.4444444444444444,
              "#bd3786"
             ],
             [
              0.5555555555555556,
              "#d8576b"
             ],
             [
              0.6666666666666666,
              "#ed7953"
             ],
             [
              0.7777777777777778,
              "#fb9f3a"
             ],
             [
              0.8888888888888888,
              "#fdca26"
             ],
             [
              1,
              "#f0f921"
             ]
            ],
            "type": "heatmap"
           }
          ],
          "heatmapgl": [
           {
            "colorbar": {
             "outlinewidth": 0,
             "ticks": ""
            },
            "colorscale": [
             [
              0,
              "#0d0887"
             ],
             [
              0.1111111111111111,
              "#46039f"
             ],
             [
              0.2222222222222222,
              "#7201a8"
             ],
             [
              0.3333333333333333,
              "#9c179e"
             ],
             [
              0.4444444444444444,
              "#bd3786"
             ],
             [
              0.5555555555555556,
              "#d8576b"
             ],
             [
              0.6666666666666666,
              "#ed7953"
             ],
             [
              0.7777777777777778,
              "#fb9f3a"
             ],
             [
              0.8888888888888888,
              "#fdca26"
             ],
             [
              1,
              "#f0f921"
             ]
            ],
            "type": "heatmapgl"
           }
          ],
          "histogram": [
           {
            "marker": {
             "pattern": {
              "fillmode": "overlay",
              "size": 10,
              "solidity": 0.2
             }
            },
            "type": "histogram"
           }
          ],
          "histogram2d": [
           {
            "colorbar": {
             "outlinewidth": 0,
             "ticks": ""
            },
            "colorscale": [
             [
              0,
              "#0d0887"
             ],
             [
              0.1111111111111111,
              "#46039f"
             ],
             [
              0.2222222222222222,
              "#7201a8"
             ],
             [
              0.3333333333333333,
              "#9c179e"
             ],
             [
              0.4444444444444444,
              "#bd3786"
             ],
             [
              0.5555555555555556,
              "#d8576b"
             ],
             [
              0.6666666666666666,
              "#ed7953"
             ],
             [
              0.7777777777777778,
              "#fb9f3a"
             ],
             [
              0.8888888888888888,
              "#fdca26"
             ],
             [
              1,
              "#f0f921"
             ]
            ],
            "type": "histogram2d"
           }
          ],
          "histogram2dcontour": [
           {
            "colorbar": {
             "outlinewidth": 0,
             "ticks": ""
            },
            "colorscale": [
             [
              0,
              "#0d0887"
             ],
             [
              0.1111111111111111,
              "#46039f"
             ],
             [
              0.2222222222222222,
              "#7201a8"
             ],
             [
              0.3333333333333333,
              "#9c179e"
             ],
             [
              0.4444444444444444,
              "#bd3786"
             ],
             [
              0.5555555555555556,
              "#d8576b"
             ],
             [
              0.6666666666666666,
              "#ed7953"
             ],
             [
              0.7777777777777778,
              "#fb9f3a"
             ],
             [
              0.8888888888888888,
              "#fdca26"
             ],
             [
              1,
              "#f0f921"
             ]
            ],
            "type": "histogram2dcontour"
           }
          ],
          "mesh3d": [
           {
            "colorbar": {
             "outlinewidth": 0,
             "ticks": ""
            },
            "type": "mesh3d"
           }
          ],
          "parcoords": [
           {
            "line": {
             "colorbar": {
              "outlinewidth": 0,
              "ticks": ""
             }
            },
            "type": "parcoords"
           }
          ],
          "pie": [
           {
            "automargin": true,
            "type": "pie"
           }
          ],
          "scatter": [
           {
            "marker": {
             "colorbar": {
              "outlinewidth": 0,
              "ticks": ""
             }
            },
            "type": "scatter"
           }
          ],
          "scatter3d": [
           {
            "line": {
             "colorbar": {
              "outlinewidth": 0,
              "ticks": ""
             }
            },
            "marker": {
             "colorbar": {
              "outlinewidth": 0,
              "ticks": ""
             }
            },
            "type": "scatter3d"
           }
          ],
          "scattercarpet": [
           {
            "marker": {
             "colorbar": {
              "outlinewidth": 0,
              "ticks": ""
             }
            },
            "type": "scattercarpet"
           }
          ],
          "scattergeo": [
           {
            "marker": {
             "colorbar": {
              "outlinewidth": 0,
              "ticks": ""
             }
            },
            "type": "scattergeo"
           }
          ],
          "scattergl": [
           {
            "marker": {
             "colorbar": {
              "outlinewidth": 0,
              "ticks": ""
             }
            },
            "type": "scattergl"
           }
          ],
          "scattermapbox": [
           {
            "marker": {
             "colorbar": {
              "outlinewidth": 0,
              "ticks": ""
             }
            },
            "type": "scattermapbox"
           }
          ],
          "scatterpolar": [
           {
            "marker": {
             "colorbar": {
              "outlinewidth": 0,
              "ticks": ""
             }
            },
            "type": "scatterpolar"
           }
          ],
          "scatterpolargl": [
           {
            "marker": {
             "colorbar": {
              "outlinewidth": 0,
              "ticks": ""
             }
            },
            "type": "scatterpolargl"
           }
          ],
          "scatterternary": [
           {
            "marker": {
             "colorbar": {
              "outlinewidth": 0,
              "ticks": ""
             }
            },
            "type": "scatterternary"
           }
          ],
          "surface": [
           {
            "colorbar": {
             "outlinewidth": 0,
             "ticks": ""
            },
            "colorscale": [
             [
              0,
              "#0d0887"
             ],
             [
              0.1111111111111111,
              "#46039f"
             ],
             [
              0.2222222222222222,
              "#7201a8"
             ],
             [
              0.3333333333333333,
              "#9c179e"
             ],
             [
              0.4444444444444444,
              "#bd3786"
             ],
             [
              0.5555555555555556,
              "#d8576b"
             ],
             [
              0.6666666666666666,
              "#ed7953"
             ],
             [
              0.7777777777777778,
              "#fb9f3a"
             ],
             [
              0.8888888888888888,
              "#fdca26"
             ],
             [
              1,
              "#f0f921"
             ]
            ],
            "type": "surface"
           }
          ],
          "table": [
           {
            "cells": {
             "fill": {
              "color": "#EBF0F8"
             },
             "line": {
              "color": "white"
             }
            },
            "header": {
             "fill": {
              "color": "#C8D4E3"
             },
             "line": {
              "color": "white"
             }
            },
            "type": "table"
           }
          ]
         },
         "layout": {
          "annotationdefaults": {
           "arrowcolor": "#2a3f5f",
           "arrowhead": 0,
           "arrowwidth": 1
          },
          "autotypenumbers": "strict",
          "coloraxis": {
           "colorbar": {
            "outlinewidth": 0,
            "ticks": ""
           }
          },
          "colorscale": {
           "diverging": [
            [
             0,
             "#8e0152"
            ],
            [
             0.1,
             "#c51b7d"
            ],
            [
             0.2,
             "#de77ae"
            ],
            [
             0.3,
             "#f1b6da"
            ],
            [
             0.4,
             "#fde0ef"
            ],
            [
             0.5,
             "#f7f7f7"
            ],
            [
             0.6,
             "#e6f5d0"
            ],
            [
             0.7,
             "#b8e186"
            ],
            [
             0.8,
             "#7fbc41"
            ],
            [
             0.9,
             "#4d9221"
            ],
            [
             1,
             "#276419"
            ]
           ],
           "sequential": [
            [
             0,
             "#0d0887"
            ],
            [
             0.1111111111111111,
             "#46039f"
            ],
            [
             0.2222222222222222,
             "#7201a8"
            ],
            [
             0.3333333333333333,
             "#9c179e"
            ],
            [
             0.4444444444444444,
             "#bd3786"
            ],
            [
             0.5555555555555556,
             "#d8576b"
            ],
            [
             0.6666666666666666,
             "#ed7953"
            ],
            [
             0.7777777777777778,
             "#fb9f3a"
            ],
            [
             0.8888888888888888,
             "#fdca26"
            ],
            [
             1,
             "#f0f921"
            ]
           ],
           "sequentialminus": [
            [
             0,
             "#0d0887"
            ],
            [
             0.1111111111111111,
             "#46039f"
            ],
            [
             0.2222222222222222,
             "#7201a8"
            ],
            [
             0.3333333333333333,
             "#9c179e"
            ],
            [
             0.4444444444444444,
             "#bd3786"
            ],
            [
             0.5555555555555556,
             "#d8576b"
            ],
            [
             0.6666666666666666,
             "#ed7953"
            ],
            [
             0.7777777777777778,
             "#fb9f3a"
            ],
            [
             0.8888888888888888,
             "#fdca26"
            ],
            [
             1,
             "#f0f921"
            ]
           ]
          },
          "colorway": [
           "#636efa",
           "#EF553B",
           "#00cc96",
           "#ab63fa",
           "#FFA15A",
           "#19d3f3",
           "#FF6692",
           "#B6E880",
           "#FF97FF",
           "#FECB52"
          ],
          "font": {
           "color": "#2a3f5f"
          },
          "geo": {
           "bgcolor": "white",
           "lakecolor": "white",
           "landcolor": "#E5ECF6",
           "showlakes": true,
           "showland": true,
           "subunitcolor": "white"
          },
          "hoverlabel": {
           "align": "left"
          },
          "hovermode": "closest",
          "mapbox": {
           "style": "light"
          },
          "paper_bgcolor": "white",
          "plot_bgcolor": "#E5ECF6",
          "polar": {
           "angularaxis": {
            "gridcolor": "white",
            "linecolor": "white",
            "ticks": ""
           },
           "bgcolor": "#E5ECF6",
           "radialaxis": {
            "gridcolor": "white",
            "linecolor": "white",
            "ticks": ""
           }
          },
          "scene": {
           "xaxis": {
            "backgroundcolor": "#E5ECF6",
            "gridcolor": "white",
            "gridwidth": 2,
            "linecolor": "white",
            "showbackground": true,
            "ticks": "",
            "zerolinecolor": "white"
           },
           "yaxis": {
            "backgroundcolor": "#E5ECF6",
            "gridcolor": "white",
            "gridwidth": 2,
            "linecolor": "white",
            "showbackground": true,
            "ticks": "",
            "zerolinecolor": "white"
           },
           "zaxis": {
            "backgroundcolor": "#E5ECF6",
            "gridcolor": "white",
            "gridwidth": 2,
            "linecolor": "white",
            "showbackground": true,
            "ticks": "",
            "zerolinecolor": "white"
           }
          },
          "shapedefaults": {
           "line": {
            "color": "#2a3f5f"
           }
          },
          "ternary": {
           "aaxis": {
            "gridcolor": "white",
            "linecolor": "white",
            "ticks": ""
           },
           "baxis": {
            "gridcolor": "white",
            "linecolor": "white",
            "ticks": ""
           },
           "bgcolor": "#E5ECF6",
           "caxis": {
            "gridcolor": "white",
            "linecolor": "white",
            "ticks": ""
           }
          },
          "title": {
           "x": 0.05
          },
          "xaxis": {
           "automargin": true,
           "gridcolor": "white",
           "linecolor": "white",
           "ticks": "",
           "title": {
            "standoff": 15
           },
           "zerolinecolor": "white",
           "zerolinewidth": 2
          },
          "yaxis": {
           "automargin": true,
           "gridcolor": "white",
           "linecolor": "white",
           "ticks": "",
           "title": {
            "standoff": 15
           },
           "zerolinecolor": "white",
           "zerolinewidth": 2
          }
         }
        }
       }
      },
      "text/html": [
       "<div>                            <div id=\"539aadd6-3e6c-45a1-a906-caf2ccbc5b5b\" class=\"plotly-graph-div\" style=\"height:525px; width:100%;\"></div>            <script type=\"text/javascript\">                require([\"plotly\"], function(Plotly) {                    window.PLOTLYENV=window.PLOTLYENV || {};                                    if (document.getElementById(\"539aadd6-3e6c-45a1-a906-caf2ccbc5b5b\")) {                    Plotly.newPlot(                        \"539aadd6-3e6c-45a1-a906-caf2ccbc5b5b\",                        [{\"mode\":\"lines\",\"name\":\"id-555317\",\"type\":\"scatter\",\"x\":[\"2011-10-10T02:09:38.981000\",\"2011-10-10T02:38:07.170500\",\"2011-10-10T03:07:23.081500\",\"2011-10-10T03:37:37.107000\",\"2011-10-10T04:09:52.146500\",\"2011-10-10T04:44:43.556000\",\"2011-10-10T05:23:35.609500\",\"2011-10-10T06:06:42.046000\",\"2011-10-10T06:58:57.681500\",\"2011-10-10T08:07:27.209000\",\"2011-10-10T09:38:14.780000\",\"2011-10-10T11:25:41.586500\"],\"y\":[0.0215,0.0195,0.0155,0.0225,0.0165,0.0255,0.0205,0.022,0.0255,0.0195,0.016,0.015]},{\"mode\":\"lines\",\"name\":\"id-571470\",\"type\":\"scatter\",\"x\":[],\"y\":[]},{\"mode\":\"lines\",\"name\":\"id-572262\",\"type\":\"scatter\",\"x\":[],\"y\":[]},{\"mode\":\"lines\",\"name\":\"id-572797\",\"type\":\"scatter\",\"x\":[],\"y\":[]},{\"mode\":\"lines\",\"name\":\"id-576762\",\"type\":\"scatter\",\"x\":[\"2011-10-10T02:09:42.261000\",\"2011-10-10T02:38:32.830000\",\"2011-10-10T03:07:47.796000\",\"2011-10-10T03:37:23.357500\",\"2011-10-10T04:10:08.643500\",\"2011-10-10T04:46:28.238500\",\"2011-10-10T05:25:59.225500\",\"2011-10-10T06:08:08.924000\",\"2011-10-10T07:00:11.544000\",\"2011-10-10T08:08:36.464500\",\"2011-10-10T09:39:50.977000\",\"2011-10-10T11:28:32.716000\"],\"y\":[0.028,0.0255,0.03,0.019,0.022,0.0175,0.019,0.019,0.022,0.018,0.0145,0.016]},{\"mode\":\"lines\",\"name\":\"id-576772\",\"type\":\"scatter\",\"x\":[\"2011-10-10T18:09:13.034000\",\"2011-10-10T18:37:41.040000\",\"2011-10-10T19:09:18.867000\",\"2011-10-10T19:40:29.859500\",\"2011-10-10T20:13:41.059500\",\"2011-10-10T20:47:02.168500\",\"2011-10-10T21:21:00.889500\",\"2011-10-10T21:58:11.786000\",\"2011-10-10T22:34:41.015500\",\"2011-10-10T23:14:02.413500\",\"2011-10-10T23:55:46.682500\",\"2011-10-11T00:42:32.946000\",\"2011-10-11T01:30:50.044500\",\"2011-10-11T02:16:44.758500\",\"2011-10-11T03:00:40.341000\",\"2011-10-11T03:47:40.081500\",\"2011-10-11T04:36:23.567500\",\"2011-10-11T05:32:00.665000\",\"2011-10-11T06:42:41.908000\",\"2011-10-11T08:26:57.312000\",\"2011-10-11T11:00:17.269500\",\"2011-10-11T13:04:34.932000\",\"2011-10-11T14:11:55.670000\",\"2011-10-11T15:02:20.584000\",\"2011-10-11T15:45:24.883000\",\"2011-10-11T16:23:30.663000\",\"2011-10-11T17:00:20.804500\",\"2011-10-11T17:37:20.723500\",\"2011-10-11T18:13:39.128000\",\"2011-10-11T18:52:45.047500\",\"2011-10-11T19:31:32.886000\",\"2011-10-11T20:10:33.208500\"],\"y\":[0.0225,0.03,0.0265,0.031,0.021,0.0255,0.024,0.021,0.022,0.0195,0.0195,0.0215,0.02,0.023,0.0205,0.0185,0.0205,0.024,0.024,0.019,0.012,0.011,0.023,0.012,0.021,0.014,0.0155,0.018,0.0175,0.019,0.015,0.016]},{\"mode\":\"lines\",\"name\":\"id-579677\",\"type\":\"scatter\",\"x\":[\"2011-10-10T02:09:55.790000\",\"2011-10-10T02:38:48.665000\",\"2011-10-10T03:08:06.922000\",\"2011-10-10T03:37:33.662500\",\"2011-10-10T04:09:02.812000\",\"2011-10-10T04:44:44.116000\",\"2011-10-10T05:22:55.669500\",\"2011-10-10T06:04:08.628500\",\"2011-10-10T06:54:48.630000\",\"2011-10-10T08:02:15.314500\",\"2011-10-10T09:28:53.314500\",\"2011-10-10T11:14:21.754000\"],\"y\":[0.0315,0.0275,0.0285,0.0235,0.0255,0.0365,0.03,0.026,0.0265,0.026,0.0285,0.0125]},{\"mode\":\"lines\",\"name\":\"id-579985\",\"type\":\"scatter\",\"x\":[\"2011-10-10T02:10:16.597000\",\"2011-10-10T02:39:16.795500\",\"2011-10-10T03:08:58.530000\",\"2011-10-10T03:39:21.247500\",\"2011-10-10T04:12:07.241500\",\"2011-10-10T04:47:20.712000\",\"2011-10-10T05:25:51.243500\",\"2011-10-10T06:08:23.961500\",\"2011-10-10T07:00:36.648000\",\"2011-10-10T08:06:18.646500\",\"2011-10-10T09:38:35.484500\",\"2011-10-10T11:26:43.775500\",\"2011-10-10T12:51:47.105500\",\"2011-10-10T13:46:41.504500\",\"2011-10-10T14:26:09.593500\",\"2011-10-10T14:58:54.718000\",\"2011-10-10T15:28:30.387000\"],\"y\":[0.021,0.022,0.0155,0.0185,0.0245,0.0265,0.027,0.024,0.0305,0.0215,0.0225,0.0155,0.0205,0.0215,0.025,0.0245,0.018]},{\"mode\":\"lines\",\"name\":\"id-580489\",\"type\":\"scatter\",\"x\":[\"2011-10-10T02:09:56.801500\",\"2011-10-10T02:39:50.761500\",\"2011-10-10T03:08:42.460000\",\"2011-10-10T03:39:13.695000\",\"2011-10-10T04:12:03.620500\",\"2011-10-10T04:47:34.669000\",\"2011-10-10T05:26:00.287000\",\"2011-10-10T06:09:22.667000\",\"2011-10-10T07:02:39.867500\",\"2011-10-10T08:08:51.572000\",\"2011-10-10T09:39:03.346500\",\"2011-10-10T11:22:34.877500\",\"2011-10-10T12:48:31.377000\",\"2011-10-10T13:43:26.847500\",\"2011-10-10T14:23:23.576000\",\"2011-10-10T14:55:24.413000\",\"2011-10-10T15:24:06.709000\"],\"y\":[0.0565,0.058,0.049,0.051,0.056,0.053,0.0675,0.055,0.0515,0.04,0.0395,0.037,0.039,0.047,0.0465,0.055,0.048]},{\"mode\":\"lines\",\"name\":\"id-581413\",\"type\":\"scatter\",\"x\":[\"2011-10-10T13:02:08.842500\",\"2011-10-10T13:53:10.308000\",\"2011-10-10T14:30:43.559000\",\"2011-10-10T15:03:21.874000\",\"2011-10-10T15:32:49.402000\",\"2011-10-10T16:00:16.903000\",\"2011-10-10T16:26:43.667000\",\"2011-10-10T16:52:07.845000\",\"2011-10-10T17:17:32.537500\",\"2011-10-10T17:43:11.272000\",\"2011-10-10T18:11:20.644500\",\"2011-10-10T18:40:12.591500\",\"2011-10-10T19:10:37.687500\",\"2011-10-10T19:41:32.089500\",\"2011-10-10T20:14:37.100500\",\"2011-10-10T20:47:48.074500\",\"2011-10-10T21:21:46.789500\",\"2011-10-10T21:56:50.807000\",\"2011-10-10T22:34:33.092500\",\"2011-10-10T23:15:56.811500\",\"2011-10-10T23:58:13.382500\",\"2011-10-11T00:45:29.203000\",\"2011-10-11T01:33:02.040500\",\"2011-10-11T02:17:33.039000\",\"2011-10-11T03:03:17.746000\",\"2011-10-11T03:48:50.557500\",\"2011-10-11T04:38:17.410000\",\"2011-10-11T05:38:04.891000\",\"2011-10-11T06:52:39.134500\",\"2011-10-11T08:44:36.144500\",\"2011-10-11T11:22:50.670500\",\"2011-10-11T13:12:35.871000\",\"2011-10-11T14:15:29.267500\",\"2011-10-11T15:05:42.759500\",\"2011-10-11T15:47:31.710000\",\"2011-10-11T16:25:57.806500\",\"2011-10-11T17:01:43.586500\"],\"y\":[0.0295,0.0225,0.0185,0.0215,0.0155,0.0245,0.0145,0.022,0.0205,0.0215,0.0205,0.0195,0.0175,0.022,0.021,0.0185,0.019,0.016,0.022,0.0155,0.0235,0.0155,0.023,0.018,0.0215,0.0175,0.016,0.0185,0.017,0.016,0.0205,0.013,0.0165,0.018,0.01,0.0165,0.014]},{\"mode\":\"lines\",\"name\":\"id-581414\",\"type\":\"scatter\",\"x\":[\"2011-10-10T02:09:43.528000\",\"2011-10-10T02:38:52.997000\",\"2011-10-10T03:08:28.269500\",\"2011-10-10T03:38:56.387500\",\"2011-10-10T04:11:22.957500\",\"2011-10-10T04:45:49.456500\"],\"y\":[0.0135,0.015,0.014,0.0155,0.01,0.0135]},{\"mode\":\"lines\",\"name\":\"id-583812\",\"type\":\"scatter\",\"x\":[\"2011-10-10T02:09:28.763000\",\"2011-10-10T02:39:01.225000\",\"2011-10-10T03:08:34.646500\",\"2011-10-10T03:39:43.088000\",\"2011-10-10T04:12:48.308500\",\"2011-10-10T04:48:04.484500\",\"2011-10-10T05:26:37.797000\",\"2011-10-10T06:10:01.644500\",\"2011-10-10T07:03:29.909500\",\"2011-10-10T08:13:41.187500\",\"2011-10-10T09:47:41.920000\"],\"y\":[0.039,0.036,0.037,0.029,0.042,0.041,0.037,0.036,0.0405,0.036,0.022]},{\"mode\":\"lines\",\"name\":\"id-583860\",\"type\":\"scatter\",\"x\":[\"2011-10-10T02:08:54.895000\",\"2011-10-10T02:37:07.611000\",\"2011-10-10T03:06:58.155500\",\"2011-10-10T03:38:05.735500\",\"2011-10-10T04:10:48.764500\",\"2011-10-10T04:45:41.487000\",\"2011-10-10T05:24:42.327500\",\"2011-10-10T06:08:15.114500\",\"2011-10-10T07:02:12.611500\",\"2011-10-10T08:09:54.876000\",\"2011-10-10T09:39:34.747000\",\"2011-10-10T11:25:12.116500\"],\"y\":[0.018,0.0295,0.02,0.02,0.0285,0.019,0.024,0.0265,0.0255,0.0205,0.0215,0.0155]},{\"mode\":\"lines\",\"name\":\"id-583936\",\"type\":\"scatter\",\"x\":[\"2011-10-10T02:08:55.089000\",\"2011-10-10T02:37:56.340500\",\"2011-10-10T03:06:48.667000\",\"2011-10-10T03:37:30.349000\",\"2011-10-10T04:09:57.626500\",\"2011-10-10T04:44:20.697500\",\"2011-10-10T05:24:09.559000\",\"2011-10-10T06:07:21.938000\",\"2011-10-10T07:00:06.323500\",\"2011-10-10T08:06:53.634500\",\"2011-10-10T09:35:18.097000\",\"2011-10-10T11:23:12.525000\",\"2011-10-10T12:51:59.555000\",\"2011-10-10T13:45:42.449500\",\"2011-10-10T14:23:58.888500\",\"2011-10-10T14:56:22.097500\",\"2011-10-10T15:25:20.267500\",\"2011-10-10T15:53:43.406000\",\"2011-10-10T16:21:00.674000\",\"2011-10-10T16:46:47.868000\",\"2011-10-10T17:12:42.874500\",\"2011-10-10T17:38:46.561000\",\"2011-10-10T18:05:04.137000\",\"2011-10-10T18:33:20.738000\",\"2011-10-10T19:03:41.013500\",\"2011-10-10T19:35:33.799500\",\"2011-10-10T20:08:43.699000\",\"2011-10-10T20:41:43.835000\",\"2011-10-10T21:15:39.173000\",\"2011-10-10T21:51:34.942500\",\"2011-10-10T22:28:19.802000\",\"2011-10-10T23:08:07.535000\",\"2011-10-10T23:49:28.796000\",\"2011-10-11T00:36:24.229500\",\"2011-10-11T01:24:25.988500\",\"2011-10-11T02:10:06.507000\",\"2011-10-11T02:55:10.625500\",\"2011-10-11T03:43:19.664000\"],\"y\":[0.0495,0.0425,0.043,0.036,0.0455,0.037,0.041,0.043,0.045,0.0345,0.031,0.024,0.0285,0.0345,0.029,0.0375,0.0325,0.0315,0.029,0.025,0.032,0.029,0.039,0.0275,0.03,0.033,0.0275,0.032,0.0345,0.02,0.032,0.032,0.023,0.028,0.028,0.025,0.0205,0.0335]},{\"mode\":\"lines\",\"name\":\"id-583972\",\"type\":\"scatter\",\"x\":[\"2011-10-10T02:09:08.260000\",\"2011-10-10T02:38:46.697500\",\"2011-10-10T03:08:32.255000\",\"2011-10-10T03:39:40.380500\",\"2011-10-10T04:12:34.336000\",\"2011-10-10T04:48:05.484500\",\"2011-10-10T05:26:38.880500\",\"2011-10-10T06:09:03.728500\",\"2011-10-10T07:01:42.201500\",\"2011-10-10T08:06:11.952000\",\"2011-10-10T09:33:58.223500\",\"2011-10-10T11:24:14.488500\",\"2011-10-10T12:51:37.627000\",\"2011-10-10T13:45:38.277500\",\"2011-10-10T14:23:57.299500\",\"2011-10-10T14:56:40.574000\",\"2011-10-10T15:25:11.847000\",\"2011-10-10T15:52:59.172000\",\"2011-10-10T16:19:05.729500\",\"2011-10-10T16:44:05.041000\",\"2011-10-10T17:08:58.808000\",\"2011-10-10T17:34:53.036000\",\"2011-10-10T18:00:57.246000\",\"2011-10-10T18:29:37.712000\"],\"y\":[0.0185,0.0255,0.019,0.0185,0.0265,0.022,0.025,0.016,0.0155,0.016,0.014,0.0105,0.025,0.0195,0.021,0.0205,0.0225,0.0155,0.016,0.022,0.02,0.027,0.0195,0.023]},{\"mode\":\"lines\",\"name\":\"id-584027\",\"type\":\"scatter\",\"x\":[\"2011-10-10T13:18:27.075500\",\"2011-10-10T14:05:20.676500\",\"2011-10-10T14:42:16.124500\",\"2011-10-10T15:13:48.479000\",\"2011-10-10T15:42:23.762000\",\"2011-10-10T16:09:25.859000\",\"2011-10-10T16:35:36.149500\",\"2011-10-10T17:01:27.539000\",\"2011-10-10T17:26:30.208000\",\"2011-10-10T17:52:02.159500\",\"2011-10-10T18:20:58.319000\",\"2011-10-10T18:50:58.598500\",\"2011-10-10T19:23:53.311000\",\"2011-10-10T19:56:21.617000\",\"2011-10-10T20:29:48.327000\",\"2011-10-10T21:03:02.257000\",\"2011-10-10T21:37:21.816000\",\"2011-10-10T22:15:22.038500\",\"2011-10-10T22:54:49.531500\",\"2011-10-10T23:34:40.334500\",\"2011-10-11T00:19:21.857000\",\"2011-10-11T01:07:59.495500\",\"2011-10-11T01:55:39.851500\",\"2011-10-11T02:40:12.511000\",\"2011-10-11T03:25:40.161000\",\"2011-10-11T04:12:29.447000\",\"2011-10-11T05:05:20.139000\",\"2011-10-11T06:09:34.337500\",\"2011-10-11T07:38:40.629500\",\"2011-10-11T09:59:55.465000\",\"2011-10-11T12:30:12.383000\",\"2011-10-11T13:49:11.313000\"],\"y\":[0.057,0.0635,0.0555,0.069,0.0545,0.0605,0.0505,0.0575,0.052,0.068,0.0635,0.0575,0.0605,0.0665,0.0485,0.05,0.0595,0.0525,0.047,0.055,0.0505,0.0495,0.0425,0.0405,0.0485,0.051,0.0495,0.044,0.0435,0.034,0.043,0.0305]},{\"mode\":\"lines\",\"name\":\"id-584145\",\"type\":\"scatter\",\"x\":[\"2011-10-10T16:05:58.598500\",\"2011-10-10T16:31:57.249500\",\"2011-10-10T16:57:39.308500\",\"2011-10-10T17:23:54.280500\",\"2011-10-10T17:49:48.594000\",\"2011-10-10T18:18:49.607500\",\"2011-10-10T18:48:36.150000\",\"2011-10-10T19:19:38.800000\",\"2011-10-10T19:50:34.674500\",\"2011-10-10T20:23:42.873000\",\"2011-10-10T20:58:04.577500\",\"2011-10-10T21:33:31.234000\",\"2011-10-10T22:10:43.397000\",\"2011-10-10T22:49:36.512000\",\"2011-10-10T23:30:04.383500\",\"2011-10-11T00:14:43.508500\",\"2011-10-11T01:02:18.051000\",\"2011-10-11T01:50:01.051500\",\"2011-10-11T02:35:41.991000\",\"2011-10-11T03:22:11.553000\",\"2011-10-11T04:08:48.512000\",\"2011-10-11T04:59:18.032500\",\"2011-10-11T05:57:59.088000\",\"2011-10-11T07:20:34.871000\",\"2011-10-11T09:29:30.766500\",\"2011-10-11T12:06:16.958500\",\"2011-10-11T13:36:42.583500\",\"2011-10-11T14:33:53.176500\",\"2011-10-11T15:20:19.918000\",\"2011-10-11T16:01:38.998000\"],\"y\":[0.015,0.012,0.015,0.0235,0.0155,0.019,0.013,0.014,0.0185,0.019,0.014,0.015,0.013,0.016,0.0125,0.018,0.0105,0.017,0.011,0.016,0.0125,0.0185,0.01,0.0125,0.0155,0.011,0.012,0.013,0.0135,0.0185]},{\"mode\":\"lines\",\"name\":\"id-584290\",\"type\":\"scatter\",\"x\":[\"2011-10-10T02:10:11.242500\",\"2011-10-10T02:40:07.611000\",\"2011-10-10T03:09:25.827500\",\"2011-10-10T03:39:01.489500\",\"2011-10-10T04:11:23.041500\",\"2011-10-10T04:47:04.558500\",\"2011-10-10T05:25:35.183000\",\"2011-10-10T06:07:04.843000\",\"2011-10-10T06:59:52.587000\",\"2011-10-10T08:09:30.517500\",\"2011-10-10T09:42:23.164000\",\"2011-10-10T11:28:05.323000\"],\"y\":[0.0235,0.032,0.029,0.0235,0.028,0.0325,0.028,0.0355,0.0305,0.0285,0.021,0.0145]},{\"mode\":\"lines\",\"name\":\"id-584408\",\"type\":\"scatter\",\"x\":[\"2011-10-10T13:24:00.828500\",\"2011-10-10T14:09:16.631000\",\"2011-10-10T14:43:54.547500\",\"2011-10-10T15:14:01.324500\",\"2011-10-10T15:41:53.356000\",\"2011-10-10T16:08:49.624000\",\"2011-10-10T16:34:21.450000\",\"2011-10-10T16:59:47.348500\",\"2011-10-10T17:25:21.576000\",\"2011-10-10T17:51:25.923500\",\"2011-10-10T18:20:12.248500\",\"2011-10-10T18:49:48.246000\",\"2011-10-10T19:21:32.343500\",\"2011-10-10T19:52:37.896500\",\"2011-10-10T20:25:30.236000\",\"2011-10-10T20:58:37.373000\",\"2011-10-10T21:33:26.942500\",\"2011-10-10T22:11:47.309000\",\"2011-10-10T22:50:56.572500\",\"2011-10-10T23:31:08.509500\",\"2011-10-11T00:15:37.502000\",\"2011-10-11T01:04:36.249000\",\"2011-10-11T01:51:35.496500\",\"2011-10-11T02:37:16.165000\",\"2011-10-11T03:23:41.988000\",\"2011-10-11T04:11:54.795500\",\"2011-10-11T05:05:11.956500\",\"2011-10-11T06:09:32.721500\",\"2011-10-11T07:40:33.849500\",\"2011-10-11T09:57:57.279000\",\"2011-10-11T12:24:04.872500\",\"2011-10-11T13:44:52.223500\"],\"y\":[0.049,0.06,0.0615,0.0645,0.049,0.053,0.052,0.0595,0.0555,0.056,0.05,0.047,0.053,0.046,0.0415,0.0435,0.052,0.048,0.0505,0.0495,0.0515,0.047,0.041,0.0445,0.051,0.042,0.0445,0.0385,0.033,0.0235,0.0305,0.0385]},{\"mode\":\"lines\",\"name\":\"id-584552\",\"type\":\"scatter\",\"x\":[\"2011-10-10T19:35:01.337000\",\"2011-10-10T20:07:20.305500\",\"2011-10-10T20:40:25.754500\",\"2011-10-10T21:14:06.812000\",\"2011-10-10T21:51:59.478500\",\"2011-10-10T22:30:21.290500\",\"2011-10-10T23:10:11.263000\",\"2011-10-10T23:53:06.274500\",\"2011-10-11T00:41:11.223500\",\"2011-10-11T01:29:41.291000\",\"2011-10-11T02:16:28.464500\",\"2011-10-11T03:02:52.149500\",\"2011-10-11T03:49:01.661000\",\"2011-10-11T04:36:47.959000\",\"2011-10-11T05:30:56.189500\",\"2011-10-11T06:42:34.255500\",\"2011-10-11T08:25:43.625500\",\"2011-10-11T11:01:48.198000\",\"2011-10-11T13:03:29.688500\",\"2011-10-11T14:09:49.051500\",\"2011-10-11T14:58:56.748500\",\"2011-10-11T15:42:05.172000\",\"2011-10-11T16:20:35.362000\",\"2011-10-11T16:57:10.510000\",\"2011-10-11T17:33:23.894000\",\"2011-10-11T18:09:22.843500\"],\"y\":[0.065,0.0425,0.0595,0.0465,0.0545,0.0575,0.049,0.0345,0.0475,0.0345,0.0435,0.033,0.031,0.0375,0.0375,0.0375,0.033,0.03,0.032,0.037,0.0435,0.038,0.0465,0.042,0.037,0.046]},{\"mode\":\"lines\",\"name\":\"id-584825\",\"type\":\"scatter\",\"x\":[\"2011-10-10T17:53:31.105000\",\"2011-10-10T18:21:12.566000\",\"2011-10-10T18:50:35.309500\",\"2011-10-10T19:21:53.549500\",\"2011-10-10T19:53:11.879000\",\"2011-10-10T20:26:55.457000\",\"2011-10-10T20:59:44.497500\",\"2011-10-10T21:34:54.329500\",\"2011-10-10T22:10:50.279500\",\"2011-10-10T22:49:33.010500\",\"2011-10-10T23:29:23.670500\",\"2011-10-11T00:13:18.583500\",\"2011-10-11T00:59:39.420000\",\"2011-10-11T01:47:19.254000\",\"2011-10-11T02:33:33.655000\",\"2011-10-11T03:19:06.594000\",\"2011-10-11T04:07:45.923500\",\"2011-10-11T05:00:37.415000\",\"2011-10-11T06:01:49.509500\",\"2011-10-11T07:25:29.860000\",\"2011-10-11T09:33:38.038000\",\"2011-10-11T12:05:39.994000\",\"2011-10-11T13:35:09.410500\",\"2011-10-11T14:31:02.181000\",\"2011-10-11T15:16:32.505500\",\"2011-10-11T15:58:05.589000\",\"2011-10-11T16:35:29.367500\",\"2011-10-11T17:11:29.686000\",\"2011-10-11T17:46:10.168000\",\"2011-10-11T18:22:31.517500\"],\"y\":[0.036,0.032,0.0235,0.0285,0.0335,0.024,0.0245,0.0275,0.0275,0.028,0.019,0.0245,0.018,0.0205,0.0185,0.0225,0.0195,0.016,0.0225,0.0125,0.0135,0.0165,0.017,0.0215,0.0225,0.024,0.025,0.0205,0.018,0.019]},{\"mode\":\"lines\",\"name\":\"id-584998\",\"type\":\"scatter\",\"x\":[\"2011-10-10T02:09:37.746500\",\"2011-10-10T02:38:29.669000\",\"2011-10-10T03:08:35.318000\",\"2011-10-10T03:38:45.646000\",\"2011-10-10T04:11:41.629500\",\"2011-10-10T04:45:49.316500\",\"2011-10-10T05:24:57.399500\",\"2011-10-10T06:08:39.069000\",\"2011-10-10T07:01:30.233000\",\"2011-10-10T08:11:25.147000\",\"2011-10-10T09:40:52.200000\",\"2011-10-10T11:27:40.210000\",\"2011-10-10T12:51:36.680000\",\"2011-10-10T13:47:01.499000\",\"2011-10-10T14:25:07.401000\",\"2011-10-10T14:58:02.423000\",\"2011-10-10T15:27:19.168000\",\"2011-10-10T15:54:36.141500\",\"2011-10-10T16:20:35.915500\",\"2011-10-10T16:46:54.325000\",\"2011-10-10T17:12:11.954000\",\"2011-10-10T17:37:24.200500\",\"2011-10-10T18:04:14.910000\",\"2011-10-10T18:34:18.052000\",\"2011-10-10T19:05:31.707000\",\"2011-10-10T19:37:31.750000\",\"2011-10-10T20:11:28.004000\",\"2011-10-10T20:43:55.422500\",\"2011-10-10T21:17:59.393000\",\"2011-10-10T21:53:50.802500\",\"2011-10-10T22:31:04.796000\",\"2011-10-10T23:09:52.617500\",\"2011-10-10T23:52:41.525500\",\"2011-10-11T00:40:33.924000\",\"2011-10-11T01:29:11.765500\",\"2011-10-11T02:13:32.350500\",\"2011-10-11T02:58:11.809000\",\"2011-10-11T03:44:07.934500\",\"2011-10-11T04:32:49.447000\",\"2011-10-11T05:29:44.580500\",\"2011-10-11T06:38:44.092500\",\"2011-10-11T08:23:55.993500\",\"2011-10-11T10:58:44.511500\"],\"y\":[0.066,0.072,0.066,0.0735,0.058,0.0555,0.06,0.0515,0.0495,0.0385,0.0435,0.04,0.0515,0.064,0.07,0.0695,0.0655,0.0645,0.051,0.0485,0.069,0.055,0.052,0.0585,0.0505,0.0565,0.056,0.0615,0.0575,0.0505,0.0525,0.0505,0.0545,0.046,0.0505,0.0425,0.036,0.047,0.0445,0.041,0.0355,0.031,0.0245]},{\"mode\":\"lines\",\"name\":\"id-585006\",\"type\":\"scatter\",\"x\":[\"2011-10-10T23:58:54.542500\",\"2011-10-11T00:47:07.097500\",\"2011-10-11T01:34:09.062000\",\"2011-10-11T02:19:54.202500\",\"2011-10-11T03:04:31.839500\",\"2011-10-11T03:51:13.131000\",\"2011-10-11T04:40:23.844000\",\"2011-10-11T05:38:04.676000\",\"2011-10-11T06:55:15.654500\",\"2011-10-11T08:54:12.160500\",\"2011-10-11T11:33:07.954500\",\"2011-10-11T13:19:28.246500\",\"2011-10-11T14:20:24.032000\",\"2011-10-11T15:08:39.807500\",\"2011-10-11T15:50:21.476500\",\"2011-10-11T16:28:32.111000\",\"2011-10-11T17:04:29.388000\",\"2011-10-11T17:39:38.703000\",\"2011-10-11T18:14:49.140500\",\"2011-10-11T18:52:57.342500\",\"2011-10-11T19:31:33.337000\",\"2011-10-11T20:11:09.455000\",\"2011-10-11T20:52:02.547000\"],\"y\":[0.0105,0.01,0.012,0.0095,0.0085,0.011,0.0105,0.01,0.014,0.0095,0.0115,0.0125,0.012,0.012,0.011,0.0095,0.0145,0.0135,0.008,0.0115,0.014,0.012,0.0105]},{\"mode\":\"lines\",\"name\":\"id-585034\",\"type\":\"scatter\",\"x\":[\"2011-10-10T02:09:08.224500\",\"2011-10-10T02:36:26.879000\",\"2011-10-10T03:04:50.233500\",\"2011-10-10T03:33:25.063000\",\"2011-10-10T04:05:16.666000\",\"2011-10-10T04:39:35.585000\",\"2011-10-10T05:16:37.077000\",\"2011-10-10T05:59:40.505000\",\"2011-10-10T06:49:59.717500\",\"2011-10-10T07:52:04.472500\",\"2011-10-10T09:19:37.886000\",\"2011-10-10T11:07:08.021000\"],\"y\":[0.055,0.0455,0.046,0.044,0.046,0.045,0.0445,0.0425,0.0405,0.0335,0.031,0.036]},{\"mode\":\"lines\",\"name\":\"id-585184\",\"type\":\"scatter\",\"x\":[\"2011-10-10T02:09:22.314000\",\"2011-10-10T02:38:49.650000\",\"2011-10-10T03:07:53.979000\",\"2011-10-10T03:37:51.711500\",\"2011-10-10T04:10:46.379500\",\"2011-10-10T04:45:54.538000\",\"2011-10-10T05:24:21.867500\",\"2011-10-10T06:08:14.149000\",\"2011-10-10T06:59:02.301500\",\"2011-10-10T08:05:52.997500\",\"2011-10-10T09:34:03.351500\",\"2011-10-10T11:19:44.062500\",\"2011-10-10T12:46:16.861500\",\"2011-10-10T13:40:34.263000\",\"2011-10-10T14:22:10.991000\",\"2011-10-10T14:56:04.124500\",\"2011-10-10T15:25:47.122000\",\"2011-10-10T15:53:05.732500\",\"2011-10-10T16:19:23.045000\",\"2011-10-10T16:45:11.550500\",\"2011-10-10T17:11:05.638500\",\"2011-10-10T17:37:08.272000\",\"2011-10-10T18:03:53.639000\",\"2011-10-10T18:32:46.051000\",\"2011-10-10T19:04:17.713500\",\"2011-10-10T19:36:08.585500\",\"2011-10-10T20:09:41.596000\",\"2011-10-10T20:42:15.794500\",\"2011-10-10T21:16:25.205000\",\"2011-10-10T21:51:16.798000\",\"2011-10-10T22:29:02.230500\",\"2011-10-10T23:08:28.864000\",\"2011-10-10T23:52:12.273500\",\"2011-10-11T00:41:11.896000\",\"2011-10-11T01:30:08.126000\",\"2011-10-11T02:15:39.698500\",\"2011-10-11T02:59:54.948000\",\"2011-10-11T03:45:51.695500\",\"2011-10-11T04:34:04.201000\",\"2011-10-11T05:30:35.100500\",\"2011-10-11T06:43:30.422000\",\"2011-10-11T08:31:43.783000\",\"2011-10-11T11:09:55.338000\"],\"y\":[0.065,0.07,0.061,0.056,0.056,0.064,0.0625,0.05,0.054,0.05,0.0385,0.039,0.0495,0.0515,0.0565,0.051,0.0625,0.06,0.0575,0.066,0.0585,0.0565,0.0545,0.0555,0.056,0.0475,0.052,0.049,0.046,0.043,0.0425,0.04,0.038,0.0385,0.0435,0.0345,0.03,0.0375,0.037,0.035,0.037,0.024,0.025]},{\"mode\":\"lines\",\"name\":\"id-585686\",\"type\":\"scatter\",\"x\":[\"2011-10-10T02:09:38.251000\",\"2011-10-10T02:40:06.308500\",\"2011-10-10T03:10:09.991500\",\"2011-10-10T03:41:32.092000\",\"2011-10-10T04:14:25.738000\",\"2011-10-10T04:49:03.618500\",\"2011-10-10T05:27:47.326000\",\"2011-10-10T06:10:41.592500\",\"2011-10-10T07:02:11.597000\",\"2011-10-10T08:11:20.042000\",\"2011-10-10T09:41:34.903000\",\"2011-10-10T11:25:31.383500\",\"2011-10-10T12:49:50.426000\",\"2011-10-10T13:43:43.349000\",\"2011-10-10T14:23:22.976500\",\"2011-10-10T14:56:23.495000\",\"2011-10-10T15:25:51.989000\",\"2011-10-10T15:53:26.143000\",\"2011-10-10T16:20:07.920500\",\"2011-10-10T16:46:07.473000\",\"2011-10-10T17:12:24.392000\",\"2011-10-10T17:38:09.912500\",\"2011-10-10T18:04:26.963000\",\"2011-10-10T18:32:52.318000\",\"2011-10-10T19:04:04.698000\",\"2011-10-10T19:35:08.493500\",\"2011-10-10T20:07:10.728500\",\"2011-10-10T20:39:57.866000\",\"2011-10-10T21:13:34.733000\",\"2011-10-10T21:47:34.533500\",\"2011-10-10T22:24:12.155500\",\"2011-10-10T23:04:56.404000\",\"2011-10-10T23:47:10.286000\",\"2011-10-11T00:32:56.985500\",\"2011-10-11T01:19:42.118500\",\"2011-10-11T02:06:01.326000\",\"2011-10-11T02:50:28.121500\"],\"y\":[0.016,0.018,0.0195,0.012,0.013,0.016,0.0155,0.014,0.018,0.0175,0.0125,0.0145,0.011,0.0125,0.017,0.014,0.0115,0.0075,0.009,0.0115,0.008,0.0155,0.0155,0.0105,0.0115,0.013,0.011,0.0085,0.0105,0.0135,0.015,0.011,0.0125,0.01,0.0135,0.0115,0.0085]},{\"mode\":\"lines\",\"name\":\"id-587385\",\"type\":\"scatter\",\"x\":[\"2011-10-10T02:10:09.254000\",\"2011-10-10T02:40:40.102500\",\"2011-10-10T03:10:34.257000\",\"2011-10-10T03:41:13.880500\",\"2011-10-10T04:13:51.802000\",\"2011-10-10T04:48:54.820500\"],\"y\":[0.0345,0.033,0.0345,0.0435,0.0385,0.0325]},{\"mode\":\"lines\",\"name\":\"id-587427\",\"type\":\"scatter\",\"x\":[\"2011-10-10T02:08:56.653000\",\"2011-10-10T02:37:16.156000\"],\"y\":[0.023,0.0215]},{\"mode\":\"lines\",\"name\":\"id-587956\",\"type\":\"scatter\",\"x\":[\"2011-10-10T02:09:40.290000\",\"2011-10-10T02:39:17.723500\",\"2011-10-10T03:08:58.438500\",\"2011-10-10T03:40:19.552000\",\"2011-10-10T04:12:53.818000\",\"2011-10-10T04:48:45.702000\",\"2011-10-10T05:28:17.032500\",\"2011-10-10T06:13:08.820000\",\"2011-10-10T07:08:51.813000\",\"2011-10-10T08:20:49.468000\",\"2011-10-10T09:54:29.725500\",\"2011-10-10T11:40:40.540000\",\"2011-10-10T12:59:23.004000\",\"2011-10-10T13:50:25.709000\",\"2011-10-10T14:28:15.995000\",\"2011-10-10T15:00:49.170500\",\"2011-10-10T15:31:08.816500\",\"2011-10-10T15:59:01.838000\",\"2011-10-10T16:25:06.344000\",\"2011-10-10T16:50:54.788500\",\"2011-10-10T17:16:55.442000\"],\"y\":[0.024,0.0205,0.025,0.024,0.027,0.026,0.0265,0.022,0.028,0.026,0.0205,0.021,0.017,0.02,0.0205,0.0255,0.031,0.023,0.0155,0.018,0.027]},{\"mode\":\"lines\",\"name\":\"id-588082\",\"type\":\"scatter\",\"x\":[\"2011-10-10T02:09:25.572000\",\"2011-10-10T02:38:01.237500\",\"2011-10-10T03:07:14.287000\",\"2011-10-10T03:35:51.995500\",\"2011-10-10T04:08:06.917500\",\"2011-10-10T04:41:28.423500\",\"2011-10-10T05:18:41.863500\",\"2011-10-10T06:00:25.910000\",\"2011-10-10T06:50:50.707000\",\"2011-10-10T07:55:27.943500\",\"2011-10-10T09:19:54.844500\",\"2011-10-10T11:03:50.881000\",\"2011-10-10T12:35:01.344000\",\"2011-10-10T13:33:56.714500\",\"2011-10-10T14:16:00.109500\",\"2011-10-10T14:49:55.434000\",\"2011-10-10T15:19:39.027500\",\"2011-10-10T15:47:15.258000\",\"2011-10-10T16:13:56.895500\",\"2011-10-10T16:39:32.145500\",\"2011-10-10T17:05:28.200000\"],\"y\":[0.015,0.019,0.0145,0.0215,0.0165,0.021,0.014,0.0175,0.0175,0.016,0.012,0.0165,0.0135,0.0165,0.0135,0.0165,0.0155,0.018,0.016,0.0175,0.015]},{\"mode\":\"lines\",\"name\":\"id-588119\",\"type\":\"scatter\",\"x\":[\"2011-10-10T02:09:48.891000\",\"2011-10-10T02:38:45.114000\",\"2011-10-10T03:07:44.336500\",\"2011-10-10T03:37:38.192500\",\"2011-10-10T04:10:22.777500\",\"2011-10-10T04:45:14.938500\",\"2011-10-10T05:23:23.152500\",\"2011-10-10T06:06:29.448500\",\"2011-10-10T07:00:25.764000\",\"2011-10-10T08:06:01.364500\",\"2011-10-10T09:35:09.184000\",\"2011-10-10T11:21:24.696000\",\"2011-10-10T12:48:14.181500\",\"2011-10-10T13:43:38.892000\",\"2011-10-10T14:23:13.005000\",\"2011-10-10T14:55:58.807000\",\"2011-10-10T15:24:53.953500\",\"2011-10-10T15:52:19.484500\",\"2011-10-10T16:18:11.001500\",\"2011-10-10T16:43:56.541000\",\"2011-10-10T17:08:55.731500\",\"2011-10-10T17:35:04.225000\",\"2011-10-10T18:01:47.557500\",\"2011-10-10T18:30:09.818000\",\"2011-10-10T19:00:39.230500\"],\"y\":[0.0535,0.0625,0.062,0.0515,0.0595,0.0445,0.047,0.05,0.0445,0.0345,0.033,0.0385,0.036,0.043,0.051,0.046,0.0485,0.044,0.0405,0.047,0.042,0.037,0.043,0.0365,0.0375]},{\"mode\":\"lines\",\"name\":\"id-588171\",\"type\":\"scatter\",\"x\":[\"2011-10-10T02:09:15.590000\",\"2011-10-10T02:38:50.320500\",\"2011-10-10T03:07:55.832500\",\"2011-10-10T03:39:07.185000\",\"2011-10-10T04:11:22.419500\",\"2011-10-10T04:45:37.753000\",\"2011-10-10T05:22:30.983500\",\"2011-10-10T06:05:36.763500\",\"2011-10-10T06:56:26.198000\",\"2011-10-10T08:01:29.071000\",\"2011-10-10T09:26:59.794500\",\"2011-10-10T11:11:17.969500\",\"2011-10-10T12:42:10.233000\",\"2011-10-10T13:39:24.243500\",\"2011-10-10T14:19:47.963000\",\"2011-10-10T14:53:13.158500\",\"2011-10-10T15:22:59.622000\",\"2011-10-10T15:50:20.624500\",\"2011-10-10T16:16:54.025000\",\"2011-10-10T16:43:05.235000\",\"2011-10-10T17:08:53.723000\"],\"y\":[0.017,0.0225,0.0155,0.0195,0.021,0.0195,0.0155,0.0205,0.0195,0.013,0.015,0.014,0.016,0.018,0.0155,0.023,0.017,0.0155,0.017,0.0085,0.013]},{\"mode\":\"lines\",\"name\":\"id-588233\",\"type\":\"scatter\",\"x\":[\"2011-10-10T02:09:39.620000\",\"2011-10-10T02:39:37.039000\",\"2011-10-10T03:08:49.172500\",\"2011-10-10T03:39:00.904000\",\"2011-10-10T04:11:47.753000\",\"2011-10-10T04:46:12.450000\",\"2011-10-10T05:25:05.526000\",\"2011-10-10T06:07:47.606000\",\"2011-10-10T07:00:06.451000\",\"2011-10-10T08:07:59.780000\",\"2011-10-10T09:36:37.771000\",\"2011-10-10T11:24:36.398000\",\"2011-10-10T12:51:33.332000\",\"2011-10-10T13:46:08.740000\",\"2011-10-10T14:26:12.082000\",\"2011-10-10T14:58:47.051000\",\"2011-10-10T15:27:13.105500\",\"2011-10-10T15:54:40.605500\",\"2011-10-10T16:20:37.723500\",\"2011-10-10T16:45:44.631000\",\"2011-10-10T17:10:47.760000\",\"2011-10-10T17:36:42.218000\",\"2011-10-10T18:03:27.757000\",\"2011-10-10T18:31:37.252500\",\"2011-10-10T19:01:55.529000\"],\"y\":[0.045,0.0435,0.048,0.051,0.0455,0.0535,0.042,0.0395,0.0455,0.0385,0.039,0.0225,0.0355,0.0305,0.0345,0.04,0.041,0.045,0.0385,0.041,0.038,0.041,0.0365,0.036,0.041]},{\"mode\":\"lines\",\"name\":\"id-588235\",\"type\":\"scatter\",\"x\":[\"2011-10-10T02:24:26.417000\",\"2011-10-10T02:53:46.097500\",\"2011-10-10T03:22:56.576000\",\"2011-10-10T03:53:54.377000\",\"2011-10-10T04:28:10.910000\",\"2011-10-10T05:04:37.378000\",\"2011-10-10T05:46:25.509500\",\"2011-10-10T06:33:57.362500\",\"2011-10-10T07:31:57.993000\",\"2011-10-10T08:46:20.315000\",\"2011-10-10T10:23:03.067000\",\"2011-10-10T12:07:08.695000\",\"2011-10-10T13:18:06.953500\",\"2011-10-10T14:03:53.567500\",\"2011-10-10T14:38:58.643500\",\"2011-10-10T15:10:17.487000\",\"2011-10-10T15:39:29.223000\",\"2011-10-10T16:06:43.226000\",\"2011-10-10T16:33:12.582000\",\"2011-10-10T16:58:43.001000\",\"2011-10-10T17:24:08.684500\",\"2011-10-10T17:49:42.196500\",\"2011-10-10T18:17:42.390000\",\"2011-10-10T18:47:58.889000\",\"2011-10-10T19:20:17.885500\",\"2011-10-10T19:53:09.815000\",\"2011-10-10T20:26:38.275000\",\"2011-10-10T20:58:39.939500\",\"2011-10-10T21:34:24.960500\",\"2011-10-10T22:12:15.900000\",\"2011-10-10T22:50:33.311000\",\"2011-10-10T23:30:59.115500\",\"2011-10-11T00:16:29.825500\"],\"y\":[0.0345,0.041,0.034,0.029,0.033,0.028,0.0285,0.025,0.0275,0.014,0.018,0.0205,0.026,0.0225,0.0265,0.0245,0.031,0.026,0.025,0.024,0.025,0.019,0.023,0.027,0.022,0.027,0.027,0.0255,0.023,0.0175,0.0235,0.026,0.025]},{\"mode\":\"lines\",\"name\":\"id-588270\",\"type\":\"scatter\",\"x\":[\"2011-10-10T02:09:43.543500\",\"2011-10-10T02:39:11.273500\",\"2011-10-10T03:10:02.952500\",\"2011-10-10T03:40:39.937000\",\"2011-10-10T04:12:40.621500\",\"2011-10-10T04:47:03.642500\",\"2011-10-10T05:25:00.004000\",\"2011-10-10T06:07:56.744500\",\"2011-10-10T07:00:48.687500\",\"2011-10-10T08:09:01.100000\",\"2011-10-10T09:37:31.177000\",\"2011-10-10T11:19:39.004500\",\"2011-10-10T12:47:53.808500\",\"2011-10-10T13:42:36.362000\",\"2011-10-10T14:22:58.333000\",\"2011-10-10T14:55:49.488500\",\"2011-10-10T15:24:42.180000\",\"2011-10-10T15:52:01.899500\",\"2011-10-10T16:18:46.696000\",\"2011-10-10T16:44:31.708500\",\"2011-10-10T17:09:30.415000\",\"2011-10-10T17:35:40.267000\",\"2011-10-10T18:02:46.071500\",\"2011-10-10T18:32:17.249000\",\"2011-10-10T19:03:23.107500\",\"2011-10-10T19:35:35.331000\"],\"y\":[0.053,0.054,0.054,0.0535,0.045,0.0435,0.045,0.0445,0.04,0.0365,0.0225,0.025,0.036,0.0385,0.0405,0.035,0.0405,0.0295,0.04,0.0375,0.0325,0.0295,0.0315,0.038,0.033,0.033]},{\"mode\":\"lines\",\"name\":\"id-588379\",\"type\":\"scatter\",\"x\":[\"2011-10-10T02:08:31.853500\",\"2011-10-10T02:37:47.644500\",\"2011-10-10T03:07:01.990000\",\"2011-10-10T03:36:41.870000\",\"2011-10-10T04:08:11.891000\",\"2011-10-10T04:42:27.879500\",\"2011-10-10T05:20:34.905000\",\"2011-10-10T06:01:47.081500\",\"2011-10-10T06:53:33.653500\",\"2011-10-10T08:01:55.419500\",\"2011-10-10T09:26:45.107500\",\"2011-10-10T11:11:52.285500\",\"2011-10-10T12:40:49.287500\",\"2011-10-10T13:37:08.342500\",\"2011-10-10T14:18:06.183500\",\"2011-10-10T14:51:41.545500\",\"2011-10-10T15:21:26.927000\",\"2011-10-10T15:48:38.508000\",\"2011-10-10T16:14:44.081000\",\"2011-10-10T16:40:42.942500\",\"2011-10-10T17:06:06.470500\",\"2011-10-10T17:31:28.280500\",\"2011-10-10T17:56:41.525000\",\"2011-10-10T18:25:31.097000\",\"2011-10-10T18:55:18.986500\",\"2011-10-10T19:26:40.869000\",\"2011-10-10T19:59:56.206500\",\"2011-10-10T20:33:26.119500\",\"2011-10-10T21:06:56.399500\",\"2011-10-10T21:42:33.170500\"],\"y\":[0.046,0.0475,0.0485,0.051,0.0365,0.0385,0.0425,0.029,0.042,0.031,0.021,0.025,0.033,0.0325,0.035,0.0525,0.032,0.0345,0.033,0.037,0.0315,0.033,0.0355,0.0325,0.032,0.0265,0.0275,0.029,0.0315,0.034]},{\"mode\":\"lines\",\"name\":\"id-588382\",\"type\":\"scatter\",\"x\":[\"2011-10-10T18:04:07.008500\",\"2011-10-10T18:32:51.313000\",\"2011-10-10T19:03:08.890500\",\"2011-10-10T19:34:43.227000\",\"2011-10-10T20:06:41.623000\",\"2011-10-10T20:39:57.662000\",\"2011-10-10T21:14:15.499500\",\"2011-10-10T21:51:07.016500\",\"2011-10-10T22:28:21.240000\",\"2011-10-10T23:07:30.933500\",\"2011-10-10T23:48:17.107500\",\"2011-10-11T00:34:59.240000\",\"2011-10-11T01:23:26.102500\",\"2011-10-11T02:09:10.168000\",\"2011-10-11T02:52:52.225500\",\"2011-10-11T03:39:03.998000\",\"2011-10-11T04:27:17.179500\",\"2011-10-11T05:23:26.305500\",\"2011-10-11T06:34:19.952500\",\"2011-10-11T08:15:46.680500\",\"2011-10-11T10:46:19.979500\",\"2011-10-11T12:53:42.300500\",\"2011-10-11T14:02:43.512000\",\"2011-10-11T14:54:39.771500\",\"2011-10-11T15:38:25.442500\",\"2011-10-11T16:16:49.086000\",\"2011-10-11T16:52:31.075000\",\"2011-10-11T17:28:16.571000\",\"2011-10-11T18:03:36.345000\",\"2011-10-11T18:42:02.830500\",\"2011-10-11T19:21:50.900500\",\"2011-10-11T20:02:28.859000\",\"2011-10-11T20:42:00.997000\"],\"y\":[0.018,0.0125,0.0105,0.0135,0.0125,0.0125,0.0115,0.0155,0.012,0.009,0.0145,0.0115,0.007,0.01,0.009,0.0085,0.013,0.0065,0.0095,0.0105,0.006,0.0155,0.0085,0.011,0.0045,0.01,0.0075,0.012,0.0095,0.011,0.007,0.0085,0.009]},{\"mode\":\"lines\",\"name\":\"id-588386\",\"type\":\"scatter\",\"x\":[\"2011-10-10T02:09:40.350000\",\"2011-10-10T02:38:06.403500\",\"2011-10-10T03:06:52.388000\",\"2011-10-10T03:36:56.487000\",\"2011-10-10T04:08:30.683500\",\"2011-10-10T04:43:07.726500\",\"2011-10-10T05:21:00.617000\",\"2011-10-10T06:04:55.798000\",\"2011-10-10T06:57:13.461000\",\"2011-10-10T08:01:49.700000\",\"2011-10-10T09:31:25.298000\",\"2011-10-10T11:16:31.336000\",\"2011-10-10T12:44:21.687500\",\"2011-10-10T13:41:29.690500\",\"2011-10-10T14:21:35.461500\",\"2011-10-10T14:54:35.859500\",\"2011-10-10T15:23:30.303000\",\"2011-10-10T15:51:04.624500\",\"2011-10-10T16:17:12.392000\",\"2011-10-10T16:43:24.050500\",\"2011-10-10T17:10:07.873500\",\"2011-10-10T17:37:13.193000\",\"2011-10-10T18:04:49.436000\",\"2011-10-10T18:33:51.618500\",\"2011-10-10T19:04:59.841500\",\"2011-10-10T19:36:27.508500\",\"2011-10-10T20:09:11.450000\"],\"y\":[0.0435,0.039,0.0405,0.048,0.0385,0.0345,0.039,0.037,0.0305,0.0325,0.028,0.031,0.029,0.039,0.048,0.035,0.0365,0.032,0.0355,0.032,0.0375,0.0385,0.034,0.04,0.0335,0.0445,0.035]},{\"mode\":\"lines\",\"name\":\"id-588460\",\"type\":\"scatter\",\"x\":[\"2011-10-10T04:09:18.001500\",\"2011-10-10T04:44:24.643000\",\"2011-10-10T05:22:25.104000\",\"2011-10-10T06:06:30.280500\",\"2011-10-10T06:59:53.689000\",\"2011-10-10T08:05:56.438500\",\"2011-10-10T09:31:41.434500\",\"2011-10-10T11:16:52.415500\",\"2011-10-10T12:44:53.993000\",\"2011-10-10T13:40:49.034000\",\"2011-10-10T14:21:44.123500\",\"2011-10-10T14:55:49.867500\",\"2011-10-10T15:24:59.325000\",\"2011-10-10T15:53:07.104000\",\"2011-10-10T16:20:08.486500\",\"2011-10-10T16:46:11.896500\",\"2011-10-10T17:11:06.989000\",\"2011-10-10T17:36:28.499500\",\"2011-10-10T18:02:34.316000\",\"2011-10-10T18:32:12.073000\",\"2011-10-10T19:02:28.634000\",\"2011-10-10T19:34:29.762000\",\"2011-10-10T20:08:16.974500\",\"2011-10-10T20:40:54.034000\",\"2011-10-10T21:15:29.545000\",\"2011-10-10T21:52:20.312000\",\"2011-10-10T22:32:13.921000\",\"2011-10-10T23:14:13.001000\",\"2011-10-10T23:59:36.843500\",\"2011-10-11T00:48:08.708500\",\"2011-10-11T01:36:30.175000\"],\"y\":[0.07,0.0565,0.0665,0.0615,0.0395,0.043,0.028,0.0345,0.0455,0.0595,0.0635,0.0585,0.055,0.0545,0.049,0.051,0.0555,0.051,0.049,0.0455,0.047,0.0515,0.0505,0.038,0.0425,0.0385,0.0415,0.044,0.0475,0.036,0.0425]},{\"mode\":\"lines\",\"name\":\"id-588486\",\"type\":\"scatter\",\"x\":[\"2011-10-10T02:45:52.412500\",\"2011-10-10T03:16:11.275500\",\"2011-10-10T03:47:20.175500\",\"2011-10-10T04:19:37.307000\",\"2011-10-10T04:55:12.739500\",\"2011-10-10T05:35:36.351000\",\"2011-10-10T06:19:54.722500\",\"2011-10-10T07:16:41.807500\",\"2011-10-10T08:29:10.927000\",\"2011-10-10T10:04:05.468500\",\"2011-10-10T11:48:24.456000\",\"2011-10-10T13:04:36.107500\",\"2011-10-10T13:55:40.545500\",\"2011-10-10T14:33:08.883000\",\"2011-10-10T15:05:23.022500\",\"2011-10-10T15:34:40.724500\",\"2011-10-10T16:02:01.908500\",\"2011-10-10T16:28:21.112500\",\"2011-10-10T16:53:47.094500\",\"2011-10-10T17:20:48.191500\",\"2011-10-10T17:47:06.963500\",\"2011-10-10T18:15:36.113500\",\"2011-10-10T18:45:04.524000\",\"2011-10-10T19:17:07.102500\",\"2011-10-10T19:48:28.591000\",\"2011-10-10T20:21:36.324500\",\"2011-10-10T20:54:48.921000\",\"2011-10-10T21:29:01.664000\",\"2011-10-10T22:06:24.795000\",\"2011-10-10T22:46:26.069500\",\"2011-10-10T23:25:26.028500\",\"2011-10-11T00:10:07.400500\"],\"y\":[0.0885,0.085,0.073,0.0845,0.0755,0.0675,0.0685,0.0495,0.0415,0.039,0.0455,0.0675,0.0665,0.067,0.074,0.0635,0.067,0.062,0.0585,0.0555,0.051,0.0545,0.046,0.0485,0.045,0.052,0.046,0.0465,0.0455,0.0525,0.0385,0.033]},{\"mode\":\"lines\",\"name\":\"id-588576\",\"type\":\"scatter\",\"x\":[\"2011-10-10T03:33:17.933500\",\"2011-10-10T04:06:10.364500\",\"2011-10-10T04:40:45.415500\",\"2011-10-10T05:19:10.446500\",\"2011-10-10T06:02:16.882500\",\"2011-10-10T06:55:47.955500\",\"2011-10-10T08:01:41.419000\",\"2011-10-10T09:28:15.991000\",\"2011-10-10T11:14:21.822000\",\"2011-10-10T12:46:10.870000\",\"2011-10-10T13:42:49.009500\",\"2011-10-10T14:22:11.777000\",\"2011-10-10T14:55:30.043000\",\"2011-10-10T15:24:40.236000\",\"2011-10-10T15:52:31.228000\",\"2011-10-10T16:19:40.510500\",\"2011-10-10T16:45:44.359000\",\"2011-10-10T17:11:00.281500\",\"2011-10-10T17:36:17.413500\",\"2011-10-10T18:02:58.437500\",\"2011-10-10T18:30:55.620500\",\"2011-10-10T19:00:56.309000\",\"2011-10-10T19:31:54.292500\",\"2011-10-10T20:04:09.036000\",\"2011-10-10T20:37:38.104500\",\"2011-10-10T21:09:59.910000\",\"2011-10-10T21:44:28.522500\",\"2011-10-10T22:22:16.793500\",\"2011-10-10T23:02:13.667500\",\"2011-10-10T23:43:41.399000\",\"2011-10-11T00:30:39.192500\"],\"y\":[0.0165,0.0135,0.0155,0.0135,0.016,0.018,0.0115,0.01,0.007,0.005,0.0075,0.0145,0.0135,0.0125,0.0075,0.013,0.0125,0.0065,0.013,0.009,0.0095,0.016,0.0075,0.01,0.015,0.0085,0.0095,0.0115,0.0105,0.005,0.0065]},{\"mode\":\"lines\",\"name\":\"id-588738\",\"type\":\"scatter\",\"x\":[\"2011-10-10T05:52:28.961500\",\"2011-10-10T06:41:08.275000\",\"2011-10-10T07:43:02.904000\",\"2011-10-10T09:03:04.127500\",\"2011-10-10T10:45:48.685000\",\"2011-10-10T12:25:02.454500\",\"2011-10-10T13:27:58.207000\",\"2011-10-10T14:10:37.370000\",\"2011-10-10T14:45:10.827000\",\"2011-10-10T15:16:16.485500\",\"2011-10-10T15:45:25.194500\",\"2011-10-10T16:13:16.538500\",\"2011-10-10T16:39:15.190500\",\"2011-10-10T17:04:50.648000\",\"2011-10-10T17:30:52.215000\",\"2011-10-10T17:57:38.961500\",\"2011-10-10T18:27:54.987000\",\"2011-10-10T18:58:25.644500\",\"2011-10-10T19:30:01.585500\",\"2011-10-10T20:03:12.427000\",\"2011-10-10T20:37:10.408000\",\"2011-10-10T21:11:10.179500\",\"2011-10-10T21:47:41.888500\",\"2011-10-10T22:26:09.106000\",\"2011-10-10T23:05:49.973500\",\"2011-10-10T23:48:05.774000\",\"2011-10-11T00:35:17.155000\",\"2011-10-11T01:23:14.694500\"],\"y\":[0.04,0.0305,0.0225,0.018,0.015,0.019,0.023,0.027,0.0275,0.0315,0.0315,0.0245,0.03,0.021,0.0255,0.024,0.0265,0.024,0.021,0.023,0.022,0.018,0.0255,0.0145,0.022,0.022,0.0155,0.02]},{\"mode\":\"lines\",\"name\":\"id-589906\",\"type\":\"scatter\",\"x\":[\"2011-10-10T18:28:53.057500\",\"2011-10-10T18:59:07.001500\",\"2011-10-10T19:30:46.458000\",\"2011-10-10T20:02:26.205500\",\"2011-10-10T20:34:35.186500\",\"2011-10-10T21:07:46.267000\",\"2011-10-10T21:43:45.202000\",\"2011-10-10T22:21:44.524500\",\"2011-10-10T23:00:28.734000\",\"2011-10-10T23:41:11.677000\",\"2011-10-11T00:26:41.676000\",\"2011-10-11T01:15:46.654000\",\"2011-10-11T02:01:06.864500\",\"2011-10-11T02:45:49.329000\",\"2011-10-11T03:32:56.578500\",\"2011-10-11T04:20:16.573000\",\"2011-10-11T05:13:57.788500\",\"2011-10-11T06:15:31.560500\",\"2011-10-11T07:44:01.305000\",\"2011-10-11T10:02:12.175000\",\"2011-10-11T12:24:35.883000\",\"2011-10-11T13:44:37.179000\",\"2011-10-11T14:39:37.790500\",\"2011-10-11T15:23:47.546000\",\"2011-10-11T16:03:52.664000\",\"2011-10-11T16:40:47.061000\",\"2011-10-11T17:17:10.819500\"],\"y\":[0.0945,0.095,0.0895,0.085,0.0835,0.083,0.079,0.069,0.0655,0.0695,0.0655,0.0605,0.0565,0.068,0.0555,0.053,0.054,0.0545,0.041,0.0365,0.0425,0.0545,0.0565,0.0575,0.048,0.049,0.0485]},{\"mode\":\"lines\",\"name\":\"id-590187\",\"type\":\"scatter\",\"x\":[\"2011-10-10T19:20:40.364500\",\"2011-10-10T19:52:33.228000\",\"2011-10-10T20:25:48.859000\",\"2011-10-10T20:58:51.239500\",\"2011-10-10T21:34:22.417000\",\"2011-10-10T22:10:54.047500\",\"2011-10-10T22:50:01.708000\",\"2011-10-10T23:31:25.114500\",\"2011-10-11T00:16:33.907000\",\"2011-10-11T01:06:03.196500\",\"2011-10-11T01:53:40.117000\",\"2011-10-11T02:38:18.662000\",\"2011-10-11T03:23:52.208500\",\"2011-10-11T04:11:00.888500\",\"2011-10-11T05:02:59.663000\",\"2011-10-11T06:05:45.698000\",\"2011-10-11T07:34:08.738500\",\"2011-10-11T09:47:31.419000\",\"2011-10-11T12:15:33.082500\",\"2011-10-11T13:40:08.260500\",\"2011-10-11T14:37:00.995000\",\"2011-10-11T15:23:03.181500\"],\"y\":[0.0725,0.066,0.0615,0.0575,0.064,0.051,0.0545,0.048,0.031,0.0385,0.0445,0.039,0.037,0.036,0.033,0.031,0.025,0.0235,0.032,0.027,0.044,0.0355]},{\"mode\":\"lines\",\"name\":\"id-590298\",\"type\":\"scatter\",\"x\":[\"2011-10-10T20:03:23.624000\",\"2011-10-10T20:36:28.124500\",\"2011-10-10T21:09:11.574000\",\"2011-10-10T21:43:55.578500\",\"2011-10-10T22:21:10.585500\",\"2011-10-10T23:00:27.804000\",\"2011-10-10T23:42:02.851000\",\"2011-10-11T00:29:13.294000\",\"2011-10-11T01:18:16.898500\",\"2011-10-11T02:04:52.696000\",\"2011-10-11T02:49:45.657500\",\"2011-10-11T03:35:57.195000\",\"2011-10-11T04:24:09.970500\",\"2011-10-11T05:16:33.205500\",\"2011-10-11T06:21:07.127000\",\"2011-10-11T07:55:48.763000\",\"2011-10-11T10:21:37.466000\",\"2011-10-11T12:39:03.645500\",\"2011-10-11T13:54:49.473000\",\"2011-10-11T14:47:20.508000\",\"2011-10-11T15:30:19.889000\",\"2011-10-11T16:09:29.008000\",\"2011-10-11T16:46:51.500500\",\"2011-10-11T17:21:56.723000\",\"2011-10-11T17:55:42.510500\",\"2011-10-11T18:32:32.262000\"],\"y\":[0.032,0.031,0.0355,0.034,0.0315,0.029,0.0315,0.032,0.0255,0.0275,0.021,0.018,0.0275,0.028,0.0225,0.0245,0.0145,0.0185,0.0245,0.023,0.0235,0.0225,0.0305,0.0215,0.0265,0.0275]},{\"mode\":\"lines\",\"name\":\"id-590365\",\"type\":\"scatter\",\"x\":[\"2011-10-10T21:02:54.484000\",\"2011-10-10T21:37:28.039000\",\"2011-10-10T22:15:20.016000\",\"2011-10-10T22:53:58.266500\",\"2011-10-10T23:35:20.765000\",\"2011-10-11T00:21:31.597000\",\"2011-10-11T01:09:56.376500\",\"2011-10-11T01:55:32.010000\",\"2011-10-11T02:39:15.209500\",\"2011-10-11T03:26:03.183500\",\"2011-10-11T04:12:20.608000\",\"2011-10-11T05:04:39.015000\",\"2011-10-11T06:07:08.119000\",\"2011-10-11T07:34:24.336500\",\"2011-10-11T09:51:44.932500\",\"2011-10-11T12:19:35.949000\",\"2011-10-11T13:46:11.807500\",\"2011-10-11T14:40:55.847500\",\"2011-10-11T15:25:42.819500\",\"2011-10-11T16:06:12.880000\",\"2011-10-11T16:43:01.348000\",\"2011-10-11T17:18:36.068500\",\"2011-10-11T17:54:11.463000\"],\"y\":[0.015,0.016,0.01,0.0115,0.018,0.011,0.0105,0.0125,0.0135,0.0145,0.0155,0.014,0.011,0.012,0.009,0.0095,0.0125,0.0145,0.0175,0.009,0.0125,0.018,0.012]},{\"mode\":\"lines\",\"name\":\"id-590390\",\"type\":\"scatter\",\"x\":[\"2011-10-10T20:08:21.859000\",\"2011-10-10T20:41:18.532000\",\"2011-10-10T21:15:29.522500\",\"2011-10-10T21:53:03.076000\",\"2011-10-10T22:31:38.063500\",\"2011-10-10T23:11:54.214000\",\"2011-10-10T23:54:41.857000\",\"2011-10-11T00:41:25.974500\",\"2011-10-11T01:28:53.775500\",\"2011-10-11T02:15:23.632000\",\"2011-10-11T02:58:20.314000\",\"2011-10-11T03:44:54.827500\",\"2011-10-11T04:31:38.205500\",\"2011-10-11T05:27:08.241000\",\"2011-10-11T06:36:41.107000\",\"2011-10-11T08:18:27.074500\",\"2011-10-11T10:47:55.130500\",\"2011-10-11T12:56:30.315000\",\"2011-10-11T14:04:59.124500\",\"2011-10-11T14:54:37.639000\",\"2011-10-11T15:37:21.594500\",\"2011-10-11T16:15:31.477000\",\"2011-10-11T16:52:01.223000\",\"2011-10-11T17:28:40.779500\",\"2011-10-11T18:04:23.075000\",\"2011-10-11T18:41:23.053000\",\"2011-10-11T19:20:28.454500\",\"2011-10-11T19:59:13.301000\",\"2011-10-11T20:39:27.058500\"],\"y\":[0.1505,0.1385,0.1295,0.1325,0.119,0.111,0.112,0.098,0.093,0.0795,0.093,0.093,0.0895,0.0805,0.079,0.0615,0.0445,0.0715,0.0865,0.0885,0.083,0.0875,0.08,0.0785,0.084,0.085,0.087,0.071,0.065]},{\"mode\":\"lines\",\"name\":\"id-590405\",\"type\":\"scatter\",\"x\":[\"2011-10-10T21:18:00.039500\",\"2011-10-10T21:54:35.517500\",\"2011-10-10T22:32:14.305000\",\"2011-10-10T23:11:10.058000\",\"2011-10-10T23:51:55.561500\",\"2011-10-11T00:38:39.676500\",\"2011-10-11T01:27:05.567500\",\"2011-10-11T02:12:38.869500\",\"2011-10-11T02:57:49.223000\",\"2011-10-11T03:45:19.588000\",\"2011-10-11T04:35:20.015000\",\"2011-10-11T05:31:25.955000\",\"2011-10-11T06:39:56.375000\",\"2011-10-11T08:20:31.865000\",\"2011-10-11T10:49:53.761000\",\"2011-10-11T12:58:39.519500\",\"2011-10-11T14:06:40.029500\",\"2011-10-11T14:57:21.101000\",\"2011-10-11T15:40:16.378000\",\"2011-10-11T16:18:13.684500\",\"2011-10-11T16:54:14.501500\",\"2011-10-11T17:30:10.960500\",\"2011-10-11T18:06:11.493500\"],\"y\":[0.035,0.042,0.0385,0.033,0.022,0.0255,0.026,0.0255,0.0245,0.02,0.02,0.0255,0.0215,0.0185,0.0155,0.0175,0.021,0.026,0.0275,0.0225,0.025,0.024,0.0305]},{\"mode\":\"lines\",\"name\":\"id-590761\",\"type\":\"scatter\",\"x\":[\"2011-10-10T22:32:47.882000\",\"2011-10-10T23:12:28.638000\",\"2011-10-10T23:55:39.462000\",\"2011-10-11T00:42:10.564500\",\"2011-10-11T01:29:50.535500\",\"2011-10-11T02:16:46.138500\",\"2011-10-11T03:01:15.973500\",\"2011-10-11T03:48:03.224500\",\"2011-10-11T04:37:27.185000\",\"2011-10-11T05:33:48.508500\",\"2011-10-11T06:43:55.174000\",\"2011-10-11T08:27:54.489500\",\"2011-10-11T11:05:33.336000\",\"2011-10-11T13:05:24.598500\",\"2011-10-11T14:11:20.555500\",\"2011-10-11T15:00:40.286000\",\"2011-10-11T15:42:12.011500\",\"2011-10-11T16:20:49.162500\",\"2011-10-11T16:57:29.100500\",\"2011-10-11T17:33:39.117500\",\"2011-10-11T18:08:38.712500\",\"2011-10-11T18:47:00.553000\",\"2011-10-11T19:25:06.792000\",\"2011-10-11T20:05:22.314000\",\"2011-10-11T20:45:51.034000\"],\"y\":[0.06,0.045,0.032,0.037,0.0345,0.0375,0.033,0.036,0.0375,0.0335,0.0355,0.0275,0.0275,0.0315,0.0375,0.0395,0.0395,0.0395,0.0395,0.0415,0.036,0.0335,0.035,0.0345,0.0325]},{\"mode\":\"lines\",\"name\":\"id-590806\",\"type\":\"scatter\",\"x\":[\"2011-10-10T21:55:59.284500\",\"2011-10-10T22:35:19.380500\",\"2011-10-10T23:15:52.873500\",\"2011-10-10T23:58:54.141000\",\"2011-10-11T00:46:08.400500\",\"2011-10-11T01:33:47.547000\",\"2011-10-11T02:19:18.871500\",\"2011-10-11T03:03:40.885500\",\"2011-10-11T03:52:26.017000\",\"2011-10-11T04:43:25.770000\",\"2011-10-11T05:41:10.923000\",\"2011-10-11T06:52:51.255000\",\"2011-10-11T08:39:56.956500\",\"2011-10-11T11:17:30.003000\",\"2011-10-11T13:11:42.631500\",\"2011-10-11T14:15:06.114500\",\"2011-10-11T15:02:32.688500\",\"2011-10-11T15:44:28.260000\",\"2011-10-11T16:22:34.369500\",\"2011-10-11T16:58:31.669000\",\"2011-10-11T17:32:56.729500\",\"2011-10-11T18:07:39.995500\",\"2011-10-11T18:45:34.433000\",\"2011-10-11T19:23:01.686000\",\"2011-10-11T20:01:40.826000\",\"2011-10-11T20:41:42.759000\",\"2011-10-11T21:22:18.753000\"],\"y\":[0.051,0.0445,0.0425,0.036,0.037,0.038,0.0415,0.0355,0.044,0.037,0.037,0.035,0.0385,0.039,0.03,0.0315,0.032,0.0325,0.0245,0.033,0.029,0.025,0.0335,0.0375,0.0205,0.024,0.0285]},{\"mode\":\"lines\",\"name\":\"id-590824\",\"type\":\"scatter\",\"x\":[\"2011-10-10T22:07:15.799500\",\"2011-10-10T22:47:02.405500\",\"2011-10-10T23:27:31.871500\",\"2011-10-11T00:12:00.267500\",\"2011-10-11T00:58:40.803000\",\"2011-10-11T01:44:25.876000\",\"2011-10-11T02:29:42.487500\",\"2011-10-11T03:15:15.860500\",\"2011-10-11T04:02:58.258500\",\"2011-10-11T04:53:32.317000\",\"2011-10-11T05:54:47.148500\",\"2011-10-11T07:18:29.657000\",\"2011-10-11T09:29:44.514000\",\"2011-10-11T12:04:57.651500\",\"2011-10-11T13:33:12.998000\",\"2011-10-11T14:30:27.594000\",\"2011-10-11T15:16:38.663000\",\"2011-10-11T15:57:16.778500\",\"2011-10-11T16:33:57.474500\",\"2011-10-11T17:10:15.627500\",\"2011-10-11T17:45:49.914000\",\"2011-10-11T18:22:34.024500\",\"2011-10-11T18:59:57.221500\",\"2011-10-11T19:38:54.779000\",\"2011-10-11T20:18:57.948000\"],\"y\":[0.0795,0.0865,0.0725,0.0675,0.0655,0.0685,0.055,0.06,0.048,0.0575,0.0545,0.0435,0.0385,0.0375,0.0525,0.058,0.067,0.058,0.0615,0.053,0.059,0.058,0.066,0.053,0.047]},{\"mode\":\"lines\",\"name\":\"id-590857\",\"type\":\"scatter\",\"x\":[\"2011-10-11T18:32:37.092500\",\"2011-10-11T19:09:43.109000\",\"2011-10-11T19:48:22.588000\",\"2011-10-11T20:29:34.562000\",\"2011-10-11T21:09:57.599000\",\"2011-10-11T21:46:11.772500\",\"2011-10-11T22:20:31.928000\",\"2011-10-11T22:54:40.073000\",\"2011-10-11T23:32:41.147500\",\"2011-10-12T00:14:49.067000\",\"2011-10-12T00:58:37.852000\"],\"y\":[0.076,0.066,0.0535,0.0475,0.061,0.054,0.065,0.056,0.057,0.0525,0.042]},{\"mode\":\"lines\",\"name\":\"id-590958\",\"type\":\"scatter\",\"x\":[\"2011-10-11T00:04:59.182000\",\"2011-10-11T00:53:30.416000\",\"2011-10-11T01:40:07.966500\",\"2011-10-11T02:25:47.721500\",\"2011-10-11T03:12:08.336500\",\"2011-10-11T03:59:52.189500\",\"2011-10-11T04:51:29.713500\",\"2011-10-11T05:52:19.479500\",\"2011-10-11T07:16:53.141000\",\"2011-10-11T09:22:31.925000\",\"2011-10-11T11:59:03.064000\",\"2011-10-11T13:34:55.168500\",\"2011-10-11T14:31:50.640500\",\"2011-10-11T15:18:56.635500\",\"2011-10-11T16:01:02.490000\",\"2011-10-11T16:36:57.177500\",\"2011-10-11T17:12:16.765500\",\"2011-10-11T17:47:39.491500\",\"2011-10-11T18:24:32.193000\",\"2011-10-11T19:03:12.465500\",\"2011-10-11T19:41:16.479500\",\"2011-10-11T20:22:25.361000\"],\"y\":[0.048,0.05,0.0485,0.0345,0.0405,0.034,0.043,0.034,0.035,0.033,0.032,0.0335,0.0365,0.0355,0.037,0.037,0.034,0.0295,0.0275,0.041,0.029,0.029]},{\"mode\":\"lines\",\"name\":\"id-591085\",\"type\":\"scatter\",\"x\":[\"2011-10-11T18:30:38.826000\",\"2011-10-11T19:08:48.318500\",\"2011-10-11T19:47:50.291000\",\"2011-10-11T20:29:00.715500\",\"2011-10-11T21:10:20.638500\",\"2011-10-11T21:46:32.662500\",\"2011-10-11T22:20:38.025500\",\"2011-10-11T22:56:07.346500\",\"2011-10-11T23:34:35.506500\",\"2011-10-12T00:16:36.720500\",\"2011-10-12T01:01:00.970500\"],\"y\":[0.0515,0.0555,0.049,0.0375,0.04,0.047,0.0425,0.045,0.0375,0.037,0.031]},{\"mode\":\"lines\",\"name\":\"id-591223\",\"type\":\"scatter\",\"x\":[\"2011-10-11T14:41:51.438000\",\"2011-10-11T15:26:14.364500\",\"2011-10-11T16:06:57.473500\",\"2011-10-11T16:43:08.939000\",\"2011-10-11T17:19:24.214000\",\"2011-10-11T17:53:32.935000\",\"2011-10-11T18:30:18.836500\",\"2011-10-11T19:09:25.810000\",\"2011-10-11T19:48:08.980500\",\"2011-10-11T20:30:09.056500\",\"2011-10-11T21:13:27.062000\",\"2011-10-11T21:52:07.014000\",\"2011-10-11T22:27:43.822000\",\"2011-10-11T23:04:41.206000\",\"2011-10-11T23:46:18.252500\",\"2011-10-12T00:29:44.026500\",\"2011-10-12T01:14:50.657000\"],\"y\":[0.051,0.0665,0.06,0.0765,0.0525,0.0625,0.06,0.0675,0.0555,0.0425,0.049,0.0475,0.0525,0.0465,0.0545,0.045,0.041]},{\"mode\":\"lines\",\"name\":\"id-591266\",\"type\":\"scatter\",\"x\":[\"2011-10-11T23:52:20.651000\",\"2011-10-12T00:35:26.050000\",\"2011-10-12T01:18:55.804500\"],\"y\":[0.048,0.049,0.035]},{\"mode\":\"lines\",\"name\":\"id-591319\",\"type\":\"scatter\",\"x\":[\"2011-10-11T00:11:22.321500\",\"2011-10-11T00:59:47.350500\",\"2011-10-11T01:45:09.619500\",\"2011-10-11T02:31:37.633500\",\"2011-10-11T03:18:08.804000\",\"2011-10-11T04:05:21.493000\",\"2011-10-11T04:57:37.921000\",\"2011-10-11T05:58:31.640500\",\"2011-10-11T07:20:07.376000\",\"2011-10-11T09:29:31.524000\",\"2011-10-11T12:06:44.133500\",\"2011-10-11T13:36:40.243000\",\"2011-10-11T14:33:47.572000\",\"2011-10-11T15:19:24.921000\",\"2011-10-11T16:00:59.375000\",\"2011-10-11T16:39:03.632500\",\"2011-10-11T17:14:40.839500\",\"2011-10-11T17:49:58.033500\",\"2011-10-11T18:27:11.178000\",\"2011-10-11T19:06:51.547000\",\"2011-10-11T19:45:54.211000\",\"2011-10-11T20:27:04.012000\"],\"y\":[0.0275,0.0255,0.0215,0.024,0.025,0.026,0.0295,0.026,0.033,0.0225,0.016,0.017,0.021,0.0245,0.0225,0.0145,0.025,0.0195,0.02,0.023,0.016,0.019]},{\"mode\":\"lines\",\"name\":\"id-591423\",\"type\":\"scatter\",\"x\":[\"2011-10-11T20:10:30.046500\",\"2011-10-11T20:49:07.203500\",\"2011-10-11T21:27:35.649000\",\"2011-10-11T22:03:44.934000\",\"2011-10-11T22:38:51.530500\",\"2011-10-11T23:15:01.578500\",\"2011-10-11T23:54:34.045500\",\"2011-10-12T00:36:49.959500\",\"2011-10-12T01:20:57.044000\"],\"y\":[0.0155,0.0115,0.015,0.015,0.0145,0.0125,0.013,0.0145,0.01]},{\"mode\":\"lines\",\"name\":\"id-591432\",\"type\":\"scatter\",\"x\":[\"2011-10-11T14:49:18.947000\",\"2011-10-11T15:33:40.385500\",\"2011-10-11T16:12:27.266500\",\"2011-10-11T16:47:53.436000\",\"2011-10-11T17:23:08.748500\",\"2011-10-11T17:58:51.548000\",\"2011-10-11T18:35:25.625000\",\"2011-10-11T19:12:31.290000\",\"2011-10-11T19:51:32.135000\",\"2011-10-11T20:33:53.354000\",\"2011-10-11T21:14:58.473000\",\"2011-10-11T21:51:01.192000\",\"2011-10-11T22:25:28.522500\",\"2011-10-11T23:00:06.982500\",\"2011-10-11T23:39:21.516000\",\"2011-10-12T00:21:37.219500\",\"2011-10-12T01:05:37.190500\"],\"y\":[0.0235,0.025,0.0245,0.0255,0.027,0.021,0.0255,0.022,0.0195,0.026,0.0265,0.0185,0.021,0.023,0.015,0.0145,0.019]},{\"mode\":\"lines\",\"name\":\"id-591728\",\"type\":\"scatter\",\"x\":[\"2011-10-11T02:27:18.031500\",\"2011-10-11T03:12:25.309500\",\"2011-10-11T03:59:09.914000\",\"2011-10-11T04:50:38.262000\",\"2011-10-11T05:49:36.896500\",\"2011-10-11T07:09:45.059000\",\"2011-10-11T09:07:55.032500\",\"2011-10-11T11:41:35.736500\",\"2011-10-11T13:22:54.099000\",\"2011-10-11T14:23:03.945000\",\"2011-10-11T15:09:56.174000\",\"2011-10-11T15:51:53.204500\",\"2011-10-11T16:29:56.537000\",\"2011-10-11T17:05:51.926500\",\"2011-10-11T17:41:22.438000\",\"2011-10-11T18:16:57.281500\",\"2011-10-11T18:54:18.868500\",\"2011-10-11T19:32:53.271000\",\"2011-10-11T20:13:15.186500\",\"2011-10-11T20:54:45.622000\",\"2011-10-11T21:34:08.269500\",\"2011-10-11T22:09:28.281500\",\"2011-10-11T22:43:04.498000\",\"2011-10-11T23:19:25.974500\",\"2011-10-12T00:00:42.073500\"],\"y\":[0.13,0.116,0.1225,0.1205,0.0995,0.0925,0.059,0.0685,0.0985,0.105,0.0985,0.1005,0.105,0.1065,0.108,0.094,0.0975,0.0965,0.0865,0.0875,0.0975,0.089,0.0905,0.0935,0.0805]},{\"mode\":\"lines\",\"name\":\"id-592124\",\"type\":\"scatter\",\"x\":[\"2011-10-11T04:34:42.349500\",\"2011-10-11T05:30:23.071000\",\"2011-10-11T06:41:21.257000\",\"2011-10-11T08:30:26.124500\",\"2011-10-11T11:08:13.858500\",\"2011-10-11T13:08:45.400000\",\"2011-10-11T14:12:36.779500\",\"2011-10-11T15:01:36.707000\",\"2011-10-11T15:44:29.027000\",\"2011-10-11T16:22:35.620500\",\"2011-10-11T16:58:03.119000\",\"2011-10-11T17:34:14.857000\",\"2011-10-11T18:10:26.284000\",\"2011-10-11T18:49:00.956000\",\"2011-10-11T19:27:52.981500\",\"2011-10-11T20:08:08.741500\",\"2011-10-11T20:49:35.725500\",\"2011-10-11T21:29:19.452000\",\"2011-10-11T22:03:48.408000\",\"2011-10-11T22:37:23.816000\",\"2011-10-11T23:12:14.646000\",\"2011-10-11T23:52:11.625500\",\"2011-10-12T00:33:57.528500\",\"2011-10-12T01:17:42.025000\"],\"y\":[0.057,0.055,0.053,0.0455,0.041,0.033,0.0535,0.042,0.0495,0.045,0.0475,0.047,0.048,0.043,0.0465,0.0385,0.0375,0.037,0.0415,0.0345,0.0425,0.0435,0.034,0.03]},{\"mode\":\"lines\",\"name\":\"id-592156\",\"type\":\"scatter\",\"x\":[\"2011-10-11T03:11:01.341000\",\"2011-10-11T03:56:23.277000\",\"2011-10-11T04:45:05.915500\",\"2011-10-11T05:42:30.520500\",\"2011-10-11T06:56:39.083500\",\"2011-10-11T08:49:09.420500\",\"2011-10-11T11:20:48.327000\",\"2011-10-11T13:14:01.702500\",\"2011-10-11T14:17:00.845000\",\"2011-10-11T15:05:14.434000\",\"2011-10-11T15:47:01.788500\",\"2011-10-11T16:23:48.187000\",\"2011-10-11T16:58:36.010500\",\"2011-10-11T17:33:28.847500\",\"2011-10-11T18:08:10.040000\",\"2011-10-11T18:45:38.058000\",\"2011-10-11T19:23:41.052500\",\"2011-10-11T20:03:38.256000\",\"2011-10-11T20:44:45.692500\",\"2011-10-11T21:25:19.225000\",\"2011-10-11T22:01:01.374500\",\"2011-10-11T22:36:42.905500\",\"2011-10-11T23:13:42.247000\",\"2011-10-11T23:53:41.652500\",\"2011-10-12T00:36:41.508000\"],\"y\":[0.076,0.074,0.0725,0.067,0.0705,0.049,0.048,0.057,0.071,0.069,0.0695,0.0655,0.0635,0.07,0.0705,0.0655,0.074,0.0695,0.058,0.065,0.0635,0.0545,0.052,0.0555,0.054]},{\"mode\":\"lines\",\"name\":\"id-592444\",\"type\":\"scatter\",\"x\":[\"2011-10-11T04:40:38.477500\",\"2011-10-11T05:35:40.805000\",\"2011-10-11T06:45:59.797000\",\"2011-10-11T08:32:50.867500\",\"2011-10-11T11:11:03.971500\",\"2011-10-11T13:09:51.977000\",\"2011-10-11T14:14:01.684000\",\"2011-10-11T15:03:35.340000\",\"2011-10-11T15:46:34.639000\",\"2011-10-11T16:23:47.522000\",\"2011-10-11T16:59:32.526500\",\"2011-10-11T17:35:01.793500\",\"2011-10-11T18:09:28.283500\",\"2011-10-11T18:48:16.394000\",\"2011-10-11T19:26:31.242500\",\"2011-10-11T20:06:49.329000\",\"2011-10-11T20:48:43.922500\",\"2011-10-11T21:28:52.156000\",\"2011-10-11T22:03:15.521000\",\"2011-10-11T22:37:03.716000\",\"2011-10-11T23:13:10.979000\",\"2011-10-11T23:53:13.351500\",\"2011-10-12T00:34:32.684000\"],\"y\":[0.033,0.0375,0.036,0.03,0.02,0.0195,0.0235,0.0295,0.0305,0.033,0.0365,0.0295,0.0305,0.03,0.03,0.0255,0.018,0.031,0.0315,0.03,0.0255,0.0335,0.0315]},{\"mode\":\"lines\",\"name\":\"id-593589\",\"type\":\"scatter\",\"x\":[\"2011-10-11T16:28:20.262000\",\"2011-10-11T17:04:11.432500\",\"2011-10-11T17:38:27.731000\",\"2011-10-11T18:14:05.089000\",\"2011-10-11T18:51:48.930500\",\"2011-10-11T19:29:24.412000\",\"2011-10-11T20:09:43.102500\",\"2011-10-11T20:50:08.200000\",\"2011-10-11T21:29:11.679000\",\"2011-10-11T22:04:35.302500\",\"2011-10-11T22:38:16.638500\",\"2011-10-11T23:13:44.660500\",\"2011-10-11T23:54:10.346000\",\"2011-10-12T00:37:36.430000\",\"2011-10-12T01:21:09.265000\"],\"y\":[0.022,0.022,0.022,0.0145,0.0205,0.0215,0.011,0.017,0.0215,0.018,0.025,0.0235,0.0155,0.0135,0.014]},{\"mode\":\"lines\",\"name\":\"id-593986\",\"type\":\"scatter\",\"x\":[\"2011-10-11T22:35:28.717500\",\"2011-10-11T23:12:44.825500\",\"2011-10-11T23:53:10.518000\",\"2011-10-12T00:36:34.862500\",\"2011-10-12T01:19:53.902000\"],\"y\":[0.029,0.0325,0.032,0.0325,0.0335]},{\"mode\":\"lines\",\"name\":\"id-594038\",\"type\":\"scatter\",\"x\":[\"2011-10-11T18:18:54.834000\",\"2011-10-11T18:57:03.661500\",\"2011-10-11T19:35:18.122500\",\"2011-10-11T20:16:25.828500\",\"2011-10-11T20:58:01.139500\",\"2011-10-11T21:37:33.254500\",\"2011-10-11T22:12:43.943500\",\"2011-10-11T22:47:27.127000\",\"2011-10-11T23:25:22.944500\",\"2011-10-12T00:06:47.649000\",\"2011-10-12T00:50:21.933500\",\"2011-10-12T01:32:38.829000\"],\"y\":[0.0555,0.0465,0.0615,0.0395,0.046,0.042,0.037,0.046,0.0355,0.035,0.025,0.0255]},{\"mode\":\"lines\",\"name\":\"id-594211\",\"type\":\"scatter\",\"x\":[\"2011-10-11T19:14:07.587500\",\"2011-10-11T19:51:43.817000\",\"2011-10-11T20:32:15.600000\",\"2011-10-11T21:12:17.748000\",\"2011-10-11T21:48:13.105000\",\"2011-10-11T22:22:26.997000\",\"2011-10-11T22:57:43.330500\",\"2011-10-11T23:35:45.611000\",\"2011-10-12T00:18:06.234000\",\"2011-10-12T01:03:32.974000\"],\"y\":[0.089,0.08,0.0625,0.058,0.062,0.0725,0.0785,0.0715,0.059,0.0495]},{\"mode\":\"lines\",\"name\":\"id-594223\",\"type\":\"scatter\",\"x\":[\"2011-10-11T19:11:29.397500\",\"2011-10-11T19:50:30.220000\",\"2011-10-11T20:30:26.615500\",\"2011-10-11T21:11:31.630500\",\"2011-10-11T21:48:12.528500\",\"2011-10-11T22:22:41.768500\",\"2011-10-11T22:58:36.881000\",\"2011-10-11T23:37:40.192000\",\"2011-10-12T00:18:44.688000\",\"2011-10-12T01:03:13.353500\"],\"y\":[0.0705,0.0635,0.0685,0.063,0.061,0.067,0.056,0.0505,0.0535,0.0495]},{\"mode\":\"lines\",\"name\":\"id-594458\",\"type\":\"scatter\",\"x\":[\"2011-10-11T23:02:41.583000\",\"2011-10-11T23:41:20.357000\",\"2011-10-12T00:24:38.386000\",\"2011-10-12T01:09:28.330500\"],\"y\":[0.06,0.0505,0.041,0.033]},{\"mode\":\"lines\",\"name\":\"id-594501\",\"type\":\"scatter\",\"x\":[\"2011-10-11T20:15:43.760000\",\"2011-10-11T20:57:13.756500\",\"2011-10-11T21:35:49.065500\",\"2011-10-11T22:10:39.321500\",\"2011-10-11T22:45:14.673500\",\"2011-10-11T23:21:40.461500\",\"2011-10-12T00:03:08.769000\",\"2011-10-12T00:46:58.445500\",\"2011-10-12T01:30:31.097500\"],\"y\":[0.048,0.0495,0.042,0.049,0.0475,0.046,0.037,0.0355,0.0415]},{\"mode\":\"lines\",\"name\":\"id-594694\",\"type\":\"scatter\",\"x\":[\"2011-10-11T22:29:17.352500\",\"2011-10-11T23:05:35.472000\",\"2011-10-11T23:44:13.930500\",\"2011-10-12T00:25:53.468500\",\"2011-10-12T01:10:35.942500\"],\"y\":[0.0465,0.057,0.052,0.0445,0.0335]},{\"mode\":\"lines\",\"name\":\"id-594771\",\"type\":\"scatter\",\"x\":[\"2011-10-11T20:52:10.106000\",\"2011-10-11T21:32:26.866500\",\"2011-10-11T22:08:02.006500\",\"2011-10-11T22:43:01.710500\",\"2011-10-11T23:19:40.908000\",\"2011-10-11T23:58:41.004000\",\"2011-10-12T00:41:45.696000\",\"2011-10-12T01:25:45.818000\"],\"y\":[0.054,0.0495,0.0545,0.047,0.0505,0.0475,0.0395,0.036]},{\"mode\":\"lines\",\"name\":\"id-595085\",\"type\":\"scatter\",\"x\":[\"2011-10-11T21:33:04.641500\",\"2011-10-11T22:08:12.647500\",\"2011-10-11T22:43:52.098000\",\"2011-10-11T23:20:44.077500\",\"2011-10-12T00:01:51.025500\",\"2011-10-12T00:46:23.634500\",\"2011-10-12T01:29:24.366000\"],\"y\":[0.0225,0.025,0.0225,0.0255,0.0165,0.0195,0.0155]},{\"mode\":\"lines\",\"name\":\"id-595203\",\"type\":\"scatter\",\"x\":[\"2011-10-11T21:35:39.385500\",\"2011-10-11T22:08:54.283000\",\"2011-10-11T22:43:18.724000\",\"2011-10-11T23:19:52.419000\",\"2011-10-11T23:59:20.336500\",\"2011-10-12T00:42:19.629000\",\"2011-10-12T01:25:34.955000\"],\"y\":[0.024,0.0195,0.0265,0.0165,0.025,0.016,0.0145]},{\"mode\":\"lines\",\"name\":\"id-595249\",\"type\":\"scatter\",\"x\":[\"2011-10-11T21:15:11.434500\",\"2011-10-11T21:50:18.631500\",\"2011-10-11T22:24:37.687500\",\"2011-10-11T23:00:01.071500\",\"2011-10-11T23:39:30.645000\",\"2011-10-12T00:22:24.787000\",\"2011-10-12T01:06:31.520000\"],\"y\":[0.0665,0.0715,0.0715,0.0585,0.062,0.043,0.0525]},{\"mode\":\"lines\",\"name\":\"id-595770\",\"type\":\"scatter\",\"x\":[],\"y\":[]},{\"mode\":\"lines\",\"name\":\"id-595843\",\"type\":\"scatter\",\"x\":[\"2011-10-11T23:37:09.140500\",\"2011-10-12T00:18:46.453000\",\"2011-10-12T01:02:54.223500\"],\"y\":[0.0515,0.0525,0.048]},{\"mode\":\"lines\",\"name\":\"id-596081\",\"type\":\"scatter\",\"x\":[\"2011-10-12T01:09:30.255500\"],\"y\":[0.0155]},{\"mode\":\"lines\",\"name\":\"id-596258\",\"type\":\"scatter\",\"x\":[\"2011-10-12T00:56:53.797500\"],\"y\":[0.0225]}],                        {\"template\":{\"data\":{\"bar\":[{\"error_x\":{\"color\":\"#2a3f5f\"},\"error_y\":{\"color\":\"#2a3f5f\"},\"marker\":{\"line\":{\"color\":\"#E5ECF6\",\"width\":0.5},\"pattern\":{\"fillmode\":\"overlay\",\"size\":10,\"solidity\":0.2}},\"type\":\"bar\"}],\"barpolar\":[{\"marker\":{\"line\":{\"color\":\"#E5ECF6\",\"width\":0.5},\"pattern\":{\"fillmode\":\"overlay\",\"size\":10,\"solidity\":0.2}},\"type\":\"barpolar\"}],\"carpet\":[{\"aaxis\":{\"endlinecolor\":\"#2a3f5f\",\"gridcolor\":\"white\",\"linecolor\":\"white\",\"minorgridcolor\":\"white\",\"startlinecolor\":\"#2a3f5f\"},\"baxis\":{\"endlinecolor\":\"#2a3f5f\",\"gridcolor\":\"white\",\"linecolor\":\"white\",\"minorgridcolor\":\"white\",\"startlinecolor\":\"#2a3f5f\"},\"type\":\"carpet\"}],\"choropleth\":[{\"colorbar\":{\"outlinewidth\":0,\"ticks\":\"\"},\"type\":\"choropleth\"}],\"contour\":[{\"colorbar\":{\"outlinewidth\":0,\"ticks\":\"\"},\"colorscale\":[[0.0,\"#0d0887\"],[0.1111111111111111,\"#46039f\"],[0.2222222222222222,\"#7201a8\"],[0.3333333333333333,\"#9c179e\"],[0.4444444444444444,\"#bd3786\"],[0.5555555555555556,\"#d8576b\"],[0.6666666666666666,\"#ed7953\"],[0.7777777777777778,\"#fb9f3a\"],[0.8888888888888888,\"#fdca26\"],[1.0,\"#f0f921\"]],\"type\":\"contour\"}],\"contourcarpet\":[{\"colorbar\":{\"outlinewidth\":0,\"ticks\":\"\"},\"type\":\"contourcarpet\"}],\"heatmap\":[{\"colorbar\":{\"outlinewidth\":0,\"ticks\":\"\"},\"colorscale\":[[0.0,\"#0d0887\"],[0.1111111111111111,\"#46039f\"],[0.2222222222222222,\"#7201a8\"],[0.3333333333333333,\"#9c179e\"],[0.4444444444444444,\"#bd3786\"],[0.5555555555555556,\"#d8576b\"],[0.6666666666666666,\"#ed7953\"],[0.7777777777777778,\"#fb9f3a\"],[0.8888888888888888,\"#fdca26\"],[1.0,\"#f0f921\"]],\"type\":\"heatmap\"}],\"heatmapgl\":[{\"colorbar\":{\"outlinewidth\":0,\"ticks\":\"\"},\"colorscale\":[[0.0,\"#0d0887\"],[0.1111111111111111,\"#46039f\"],[0.2222222222222222,\"#7201a8\"],[0.3333333333333333,\"#9c179e\"],[0.4444444444444444,\"#bd3786\"],[0.5555555555555556,\"#d8576b\"],[0.6666666666666666,\"#ed7953\"],[0.7777777777777778,\"#fb9f3a\"],[0.8888888888888888,\"#fdca26\"],[1.0,\"#f0f921\"]],\"type\":\"heatmapgl\"}],\"histogram\":[{\"marker\":{\"pattern\":{\"fillmode\":\"overlay\",\"size\":10,\"solidity\":0.2}},\"type\":\"histogram\"}],\"histogram2d\":[{\"colorbar\":{\"outlinewidth\":0,\"ticks\":\"\"},\"colorscale\":[[0.0,\"#0d0887\"],[0.1111111111111111,\"#46039f\"],[0.2222222222222222,\"#7201a8\"],[0.3333333333333333,\"#9c179e\"],[0.4444444444444444,\"#bd3786\"],[0.5555555555555556,\"#d8576b\"],[0.6666666666666666,\"#ed7953\"],[0.7777777777777778,\"#fb9f3a\"],[0.8888888888888888,\"#fdca26\"],[1.0,\"#f0f921\"]],\"type\":\"histogram2d\"}],\"histogram2dcontour\":[{\"colorbar\":{\"outlinewidth\":0,\"ticks\":\"\"},\"colorscale\":[[0.0,\"#0d0887\"],[0.1111111111111111,\"#46039f\"],[0.2222222222222222,\"#7201a8\"],[0.3333333333333333,\"#9c179e\"],[0.4444444444444444,\"#bd3786\"],[0.5555555555555556,\"#d8576b\"],[0.6666666666666666,\"#ed7953\"],[0.7777777777777778,\"#fb9f3a\"],[0.8888888888888888,\"#fdca26\"],[1.0,\"#f0f921\"]],\"type\":\"histogram2dcontour\"}],\"mesh3d\":[{\"colorbar\":{\"outlinewidth\":0,\"ticks\":\"\"},\"type\":\"mesh3d\"}],\"parcoords\":[{\"line\":{\"colorbar\":{\"outlinewidth\":0,\"ticks\":\"\"}},\"type\":\"parcoords\"}],\"pie\":[{\"automargin\":true,\"type\":\"pie\"}],\"scatter\":[{\"marker\":{\"colorbar\":{\"outlinewidth\":0,\"ticks\":\"\"}},\"type\":\"scatter\"}],\"scatter3d\":[{\"line\":{\"colorbar\":{\"outlinewidth\":0,\"ticks\":\"\"}},\"marker\":{\"colorbar\":{\"outlinewidth\":0,\"ticks\":\"\"}},\"type\":\"scatter3d\"}],\"scattercarpet\":[{\"marker\":{\"colorbar\":{\"outlinewidth\":0,\"ticks\":\"\"}},\"type\":\"scattercarpet\"}],\"scattergeo\":[{\"marker\":{\"colorbar\":{\"outlinewidth\":0,\"ticks\":\"\"}},\"type\":\"scattergeo\"}],\"scattergl\":[{\"marker\":{\"colorbar\":{\"outlinewidth\":0,\"ticks\":\"\"}},\"type\":\"scattergl\"}],\"scattermapbox\":[{\"marker\":{\"colorbar\":{\"outlinewidth\":0,\"ticks\":\"\"}},\"type\":\"scattermapbox\"}],\"scatterpolar\":[{\"marker\":{\"colorbar\":{\"outlinewidth\":0,\"ticks\":\"\"}},\"type\":\"scatterpolar\"}],\"scatterpolargl\":[{\"marker\":{\"colorbar\":{\"outlinewidth\":0,\"ticks\":\"\"}},\"type\":\"scatterpolargl\"}],\"scatterternary\":[{\"marker\":{\"colorbar\":{\"outlinewidth\":0,\"ticks\":\"\"}},\"type\":\"scatterternary\"}],\"surface\":[{\"colorbar\":{\"outlinewidth\":0,\"ticks\":\"\"},\"colorscale\":[[0.0,\"#0d0887\"],[0.1111111111111111,\"#46039f\"],[0.2222222222222222,\"#7201a8\"],[0.3333333333333333,\"#9c179e\"],[0.4444444444444444,\"#bd3786\"],[0.5555555555555556,\"#d8576b\"],[0.6666666666666666,\"#ed7953\"],[0.7777777777777778,\"#fb9f3a\"],[0.8888888888888888,\"#fdca26\"],[1.0,\"#f0f921\"]],\"type\":\"surface\"}],\"table\":[{\"cells\":{\"fill\":{\"color\":\"#EBF0F8\"},\"line\":{\"color\":\"white\"}},\"header\":{\"fill\":{\"color\":\"#C8D4E3\"},\"line\":{\"color\":\"white\"}},\"type\":\"table\"}]},\"layout\":{\"annotationdefaults\":{\"arrowcolor\":\"#2a3f5f\",\"arrowhead\":0,\"arrowwidth\":1},\"autotypenumbers\":\"strict\",\"coloraxis\":{\"colorbar\":{\"outlinewidth\":0,\"ticks\":\"\"}},\"colorscale\":{\"diverging\":[[0,\"#8e0152\"],[0.1,\"#c51b7d\"],[0.2,\"#de77ae\"],[0.3,\"#f1b6da\"],[0.4,\"#fde0ef\"],[0.5,\"#f7f7f7\"],[0.6,\"#e6f5d0\"],[0.7,\"#b8e186\"],[0.8,\"#7fbc41\"],[0.9,\"#4d9221\"],[1,\"#276419\"]],\"sequential\":[[0.0,\"#0d0887\"],[0.1111111111111111,\"#46039f\"],[0.2222222222222222,\"#7201a8\"],[0.3333333333333333,\"#9c179e\"],[0.4444444444444444,\"#bd3786\"],[0.5555555555555556,\"#d8576b\"],[0.6666666666666666,\"#ed7953\"],[0.7777777777777778,\"#fb9f3a\"],[0.8888888888888888,\"#fdca26\"],[1.0,\"#f0f921\"]],\"sequentialminus\":[[0.0,\"#0d0887\"],[0.1111111111111111,\"#46039f\"],[0.2222222222222222,\"#7201a8\"],[0.3333333333333333,\"#9c179e\"],[0.4444444444444444,\"#bd3786\"],[0.5555555555555556,\"#d8576b\"],[0.6666666666666666,\"#ed7953\"],[0.7777777777777778,\"#fb9f3a\"],[0.8888888888888888,\"#fdca26\"],[1.0,\"#f0f921\"]]},\"colorway\":[\"#636efa\",\"#EF553B\",\"#00cc96\",\"#ab63fa\",\"#FFA15A\",\"#19d3f3\",\"#FF6692\",\"#B6E880\",\"#FF97FF\",\"#FECB52\"],\"font\":{\"color\":\"#2a3f5f\"},\"geo\":{\"bgcolor\":\"white\",\"lakecolor\":\"white\",\"landcolor\":\"#E5ECF6\",\"showlakes\":true,\"showland\":true,\"subunitcolor\":\"white\"},\"hoverlabel\":{\"align\":\"left\"},\"hovermode\":\"closest\",\"mapbox\":{\"style\":\"light\"},\"paper_bgcolor\":\"white\",\"plot_bgcolor\":\"#E5ECF6\",\"polar\":{\"angularaxis\":{\"gridcolor\":\"white\",\"linecolor\":\"white\",\"ticks\":\"\"},\"bgcolor\":\"#E5ECF6\",\"radialaxis\":{\"gridcolor\":\"white\",\"linecolor\":\"white\",\"ticks\":\"\"}},\"scene\":{\"xaxis\":{\"backgroundcolor\":\"#E5ECF6\",\"gridcolor\":\"white\",\"gridwidth\":2,\"linecolor\":\"white\",\"showbackground\":true,\"ticks\":\"\",\"zerolinecolor\":\"white\"},\"yaxis\":{\"backgroundcolor\":\"#E5ECF6\",\"gridcolor\":\"white\",\"gridwidth\":2,\"linecolor\":\"white\",\"showbackground\":true,\"ticks\":\"\",\"zerolinecolor\":\"white\"},\"zaxis\":{\"backgroundcolor\":\"#E5ECF6\",\"gridcolor\":\"white\",\"gridwidth\":2,\"linecolor\":\"white\",\"showbackground\":true,\"ticks\":\"\",\"zerolinecolor\":\"white\"}},\"shapedefaults\":{\"line\":{\"color\":\"#2a3f5f\"}},\"ternary\":{\"aaxis\":{\"gridcolor\":\"white\",\"linecolor\":\"white\",\"ticks\":\"\"},\"baxis\":{\"gridcolor\":\"white\",\"linecolor\":\"white\",\"ticks\":\"\"},\"bgcolor\":\"#E5ECF6\",\"caxis\":{\"gridcolor\":\"white\",\"linecolor\":\"white\",\"ticks\":\"\"}},\"title\":{\"x\":0.05},\"xaxis\":{\"automargin\":true,\"gridcolor\":\"white\",\"linecolor\":\"white\",\"ticks\":\"\",\"title\":{\"standoff\":15},\"zerolinecolor\":\"white\",\"zerolinewidth\":2},\"yaxis\":{\"automargin\":true,\"gridcolor\":\"white\",\"linecolor\":\"white\",\"ticks\":\"\",\"title\":{\"standoff\":15},\"zerolinecolor\":\"white\",\"zerolinewidth\":2}}}},                        {\"responsive\": true}                    ).then(function(){\n",
       "                            \n",
       "var gd = document.getElementById('539aadd6-3e6c-45a1-a906-caf2ccbc5b5b');\n",
       "var x = new MutationObserver(function (mutations, observer) {{\n",
       "        var display = window.getComputedStyle(gd).display;\n",
       "        if (!display || display === 'none') {{\n",
       "            console.log([gd, 'removed!']);\n",
       "            Plotly.purge(gd);\n",
       "            observer.disconnect();\n",
       "        }}\n",
       "}});\n",
       "\n",
       "// Listen for the removal of the full notebook cells\n",
       "var notebookContainer = gd.closest('#notebook-container');\n",
       "if (notebookContainer) {{\n",
       "    x.observe(notebookContainer, {childList: true});\n",
       "}}\n",
       "\n",
       "// Listen for the clearing of the current output cell\n",
       "var outputEl = gd.closest('.output');\n",
       "if (outputEl) {{\n",
       "    x.observe(outputEl, {childList: true});\n",
       "}}\n",
       "\n",
       "                        })                };                });            </script>        </div>"
      ]
     },
     "metadata": {},
     "output_type": "display_data"
    }
   ],
   "source": [
    "%%time\n",
    "ctr = data.gather_all_average_ctrs(2000)\n",
    "get_average_ctr_plot(ctr)"
   ]
  },
  {
   "cell_type": "code",
   "execution_count": 38,
   "id": "c2bae000",
   "metadata": {},
   "outputs": [
    {
     "name": "stdout",
     "output_type": "stream",
     "text": [
      "LinUCB (alpha=0.1 with ZeroCosts\n",
      "Average reward: 0.0763\n",
      "Execution time: 41.4m\n"
     ]
    }
   ],
   "source": [
    "linucb02 = algorithms.LinUCB(\n",
    "    context_dimension=len(data.events[0].user_features),\n",
    "    n_arms=data.n_arms,\n",
    "    alpha=0.2,\n",
    ")\n",
    "ctr_linucb02 = evaluation.evaluate(linucb02, data, stop_after=NUM_OF_TRIALS)"
   ]
  },
  {
   "cell_type": "code",
   "execution_count": 39,
   "id": "f6c1282e",
   "metadata": {},
   "outputs": [
    {
     "name": "stdout",
     "output_type": "stream",
     "text": [
      "LinUCB (alpha=0.1 with ZeroCosts\n",
      "Average reward: 0.0801\n",
      "Execution time: 41.4m\n"
     ]
    }
   ],
   "source": [
    "linucb03 = algorithms.LinUCB(\n",
    "    context_dimension=len(data.events[0].user_features),\n",
    "    n_arms=data.n_arms,\n",
    "    alpha=0.3,\n",
    ")\n",
    "ctr_linucb03 = evaluation.evaluate(linucb03, data, stop_after=NUM_OF_TRIALS)"
   ]
  },
  {
   "cell_type": "code",
   "execution_count": 40,
   "id": "d8e50f9d",
   "metadata": {},
   "outputs": [
    {
     "name": "stdout",
     "output_type": "stream",
     "text": [
      "LinUCB (alpha=0.1 with ZeroCosts\n",
      "Average reward: 0.0837\n",
      "Execution time: 41.3m\n"
     ]
    }
   ],
   "source": [
    "linucb05 = algorithms.LinUCB(\n",
    "    context_dimension=len(data.events[0].user_features),\n",
    "    n_arms=data.n_arms,\n",
    "    alpha=0.5,\n",
    ")\n",
    "ctr_linucb05 = evaluation.evaluate(linucb, data, stop_after=NUM_OF_TRIALS)"
   ]
  },
  {
   "cell_type": "code",
   "execution_count": 41,
   "id": "228d11af",
   "metadata": {},
   "outputs": [
    {
     "name": "stdout",
     "output_type": "stream",
     "text": [
      "LinUCB (alpha=0.1 with ZeroCosts\n",
      "Average reward: 0.0849\n",
      "Execution time: 41.2m\n"
     ]
    }
   ],
   "source": [
    "linucb07 = algorithms.LinUCB(\n",
    "    context_dimension=len(data.events[0].user_features),\n",
    "    n_arms=data.n_arms,\n",
    "    alpha=0.7,\n",
    ")\n",
    "ctr_linucb07 = evaluation.evaluate(linucb, data, stop_after=NUM_OF_TRIALS)"
   ]
  },
  {
   "cell_type": "code",
   "execution_count": 42,
   "id": "1f3536e8",
   "metadata": {},
   "outputs": [
    {
     "data": {
      "image/png": "[encoded data removed]",
      "text/plain": [
       "<Figure size 720x360 with 1 Axes>"
      ]
     },
     "metadata": {
      "needs_background": "light"
     },
     "output_type": "display_data"
    }
   ],
   "source": [
    "plot_ctrs({\n",
    "    '0.2': ctr_linucb02,\n",
    "    '0.3': ctr_linucb03,\n",
    "    '0.5': ctr_linucb05,\n",
    "    '0.7': ctr_linucb07\n",
    "})\n"
   ]
  },
  {
   "cell_type": "code",
   "execution_count": null,
   "id": "3e8ffb06",
   "metadata": {},
   "outputs": [],
   "source": []
  },
  {
   "cell_type": "code",
   "execution_count": null,
   "id": "de575187",
   "metadata": {},
   "outputs": [],
   "source": [
    "d = len(data.events[0].user_features)\n",
    "\n",
    "bernoulli_costs = costs.BernoulliCosts(\n",
    "    feature_vector_size=d,\n",
    "    probabilities=[0.5]*d,\n",
    "    cost_values=[(1/d)*0.1]*d,  # Cost of all features is 10 percent of reward\n",
    "    \n",
    ")"
   ]
  },
  {
   "cell_type": "code",
   "execution_count": null,
   "id": "3d32ff27",
   "metadata": {},
   "outputs": [],
   "source": [
    "ctr_random_costs = evaluation.evaluate(p_random, data, bernoulli_costs, stop_after=NUM_OF_TRIALS)"
   ]
  },
  {
   "cell_type": "code",
   "execution_count": null,
   "id": "29dd99cd",
   "metadata": {},
   "outputs": [],
   "source": [
    "ctr_egreedy_costs = evaluation.evaluate(egreedy, data, bernoulli_costs, stop_after=NUM_OF_TRIALS)"
   ]
  },
  {
   "cell_type": "code",
   "execution_count": null,
   "id": "585df9fd",
   "metadata": {},
   "outputs": [],
   "source": [
    "ctr_linucb_costs = evaluation.evaluate(linucb, data, bernoulli_costs, stop_after=NUM_OF_TRIALS)"
   ]
  },
  {
   "cell_type": "code",
   "execution_count": null,
   "id": "8d6c0658",
   "metadata": {},
   "outputs": [],
   "source": [
    "fig, ax = plt.subplots(1,1, figsize=(10, 5));\n",
    "\n",
    "\n",
    "ax.plot(ctr_random_costs, label='Random')\n",
    "ax.plot(ctr_egreedy_costs, label='E-greedy')\n",
    "ax.plot(ctr_linucb_costs, label='LinUCB')\n",
    "ax.set_xlabel('Trial')\n",
    "ax.set_ylabel('Gain')\n",
    "ax.set_title('Evaluation with Bernoulli costs')\n",
    "plt.legend();"
   ]
  },
  {
   "cell_type": "code",
   "execution_count": null,
   "id": "31d34ae3",
   "metadata": {},
   "outputs": [],
   "source": []
  }
 ],
 "metadata": {
  "kernelspec": {
   "display_name": "Python 3 (ipykernel)",
   "language": "python",
   "name": "python3"
  },
  "language_info": {
   "codemirror_mode": {
    "name": "ipython",
    "version": 3
   },
   "file_extension": ".py",
   "mimetype": "text/x-python",
   "name": "python",
   "nbconvert_exporter": "python",
   "pygments_lexer": "ipython3",
   "version": "3.9.5"
  }
 },
 "nbformat": 4,
 "nbformat_minor": 5
}
