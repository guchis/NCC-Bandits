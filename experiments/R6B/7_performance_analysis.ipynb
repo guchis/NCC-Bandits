{
 "cells": [
  {
   "cell_type": "code",
   "execution_count": 1,
   "id": "df8d0d7c",
   "metadata": {},
   "outputs": [
    {
     "data": {
      "text/plain": [
       "'/Users/sbokupripeku/git/work/examples/costly_nonstationary_bandits'"
      ]
     },
     "execution_count": 1,
     "metadata": {},
     "output_type": "execute_result"
    }
   ],
   "source": [
    "import os\n",
    "os.chdir('../..')\n",
    "os.getcwd()"
   ]
  },
  {
   "cell_type": "code",
   "execution_count": 2,
   "id": "db46c120",
   "metadata": {},
   "outputs": [],
   "source": [
    "%load_ext autoreload\n",
    "%autoreload 2\n",
    "\n",
    "import pickle\n",
    "import matplotlib.pyplot as plt\n",
    "\n",
    "import algorithms\n",
    "import costs\n",
    "import evaluation\n",
    "import dataset\n",
    "from plotting.average_ctr import get_average_ctr_plot"
   ]
  },
  {
   "cell_type": "code",
   "execution_count": 4,
   "id": "153965e1",
   "metadata": {},
   "outputs": [
    {
     "name": "stdout",
     "output_type": "stream",
     "text": [
      "CPU times: user 3.18 s, sys: 993 ms, total: 4.17 s\n",
      "Wall time: 12.2 s\n"
     ]
    }
   ],
   "source": [
    "%%time\n",
    "import gc\n",
    "\n",
    "with open(\"dataset/r6b/subsample/data_10.pickle\", \"rb\") as f:\n",
    "    gc.disable()\n",
    "    data = pickle.load(f)\n",
    "    gc.enable()"
   ]
  },
  {
   "cell_type": "code",
   "execution_count": 34,
   "id": "fbd48ba7",
   "metadata": {},
   "outputs": [
    {
     "name": "stdout",
     "output_type": "stream",
     "text": [
      "PSLinUCB (alpha=0.1, omega=1000, delta=0.042) with ZeroCosts\n",
      "Average reward: 0.0679\n",
      "Execution time: 2.7m\n",
      "CPU times: user 17min 45s, sys: 2min 55s, total: 20min 40s\n",
      "Wall time: 2min 44s\n"
     ]
    }
   ],
   "source": [
    "%%time\n",
    "ps_linucb = algorithms.PSLinUCB(\n",
    "    context_dimension=len(data.events[0].user_features),\n",
    "    n_arms=data.n_arms,\n",
    "    alpha=0.1,\n",
    "    omega=1000,\n",
    "    delta=0.042\n",
    ")\n",
    "ctr_pslinucb = evaluation.evaluate(ps_linucb, data, stop_after=10000)\n",
    "change_points = ps_linucb.change_points"
   ]
  },
  {
   "cell_type": "code",
   "execution_count": 35,
   "id": "5ba3af28",
   "metadata": {},
   "outputs": [
    {
     "data": {
      "text/plain": [
       "0"
      ]
     },
     "execution_count": 35,
     "metadata": {},
     "output_type": "execute_result"
    }
   ],
   "source": [
    "import os\n",
    "os.system('say Готово')"
   ]
  },
  {
   "cell_type": "code",
   "execution_count": 28,
   "id": "ac2cef46",
   "metadata": {},
   "outputs": [
    {
     "name": "stdout",
     "output_type": "stream",
     "text": [
      "PSLinUCB (alpha=0.1, omega=1000, delta=0.042) with ZeroCosts\n",
      "Average reward: 0.0679\n",
      "Execution time: 2.5m\n",
      "CPU times: user 17min 11s, sys: 2min 36s, total: 19min 47s\n",
      "Wall time: 2min 31s\n"
     ]
    }
   ],
   "source": [
    "%%time\n",
    "ps_linucb = algorithms.PSLinUCB(\n",
    "    context_dimension=len(data.events[0].user_features),\n",
    "    n_arms=data.n_arms,\n",
    "    alpha=0.1,\n",
    "    omega=1000,\n",
    "    delta=0.042\n",
    ")\n",
    "ctr_pslinucb = evaluation.evaluate(ps_linucb, data, stop_after=10000)\n",
    "change_points = ps_linucb.change_points"
   ]
  },
  {
   "cell_type": "code",
   "execution_count": 29,
   "id": "e0e4151c",
   "metadata": {},
   "outputs": [
    {
     "data": {
      "text/plain": [
       "0"
      ]
     },
     "execution_count": 29,
     "metadata": {},
     "output_type": "execute_result"
    }
   ],
   "source": [
    "import os\n",
    "os.system('say Готово')"
   ]
  },
  {
   "cell_type": "code",
   "execution_count": null,
   "id": "3c673ff1",
   "metadata": {},
   "outputs": [],
   "source": []
  }
 ],
 "metadata": {
  "kernelspec": {
   "display_name": "Python 3 (ipykernel)",
   "language": "python",
   "name": "python3"
  },
  "language_info": {
   "codemirror_mode": {
    "name": "ipython",
    "version": 3
   },
   "file_extension": ".py",
   "mimetype": "text/x-python",
   "name": "python",
   "nbconvert_exporter": "python",
   "pygments_lexer": "ipython3",
   "version": "3.9.5"
  }
 },
 "nbformat": 4,
 "nbformat_minor": 5
}
