{
 "cells": [
  {
   "cell_type": "markdown",
   "id": "349ae48f",
   "metadata": {},
   "source": [
    "### Discretization\n",
    "\n",
    "One of the benchmark algorithms - SimOOS from \"Data-Driven Online Recommender Systems With Costly Information Acquisition\" works by enumerating all possible states. For it to work correctly each dimension of context vectors should have only a finite number of values in the whole dataset.\n",
    "\n",
    "In this notebook I want to see what happens if I discretize the context vectors, that is, I fix the number of values and round the values of context vectors to the closes possible value."
   ]
  },
  {
   "cell_type": "code",
   "execution_count": 1,
   "id": "f6a02241",
   "metadata": {},
   "outputs": [
    {
     "data": {
      "text/plain": [
       "'/Users/sbokupripeku/git/work/examples/costly_nonstationary_bandits'"
      ]
     },
     "execution_count": 1,
     "metadata": {},
     "output_type": "execute_result"
    }
   ],
   "source": [
    "import os\n",
    "os.chdir('../..')\n",
    "os.getcwd()"
   ]
  },
  {
   "cell_type": "code",
   "execution_count": 28,
   "id": "c827cdfa",
   "metadata": {},
   "outputs": [],
   "source": [
    "import pickle\n",
    "import numpy as np\n",
    "import matplotlib.pyplot as plt\n",
    "\n",
    "import algorithms\n",
    "import costs\n",
    "import evaluation\n",
    "import dataset"
   ]
  },
  {
   "cell_type": "code",
   "execution_count": 22,
   "id": "9a43208f",
   "metadata": {},
   "outputs": [
    {
     "name": "stdout",
     "output_type": "stream",
     "text": [
      "CPU times: user 4.03 s, sys: 3.53 s, total: 7.56 s\n",
      "Wall time: 33.3 s\n"
     ]
    }
   ],
   "source": [
    "%%time\n",
    "import gc\n",
    "\n",
    "with open(\"dataset/R6/subsample/data_04.pickle\", \"rb\") as f:\n",
    "    gc.disable()\n",
    "    data = pickle.load(f)\n",
    "    gc.enable()"
   ]
  },
  {
   "cell_type": "code",
   "execution_count": 4,
   "id": "7a81bfa2",
   "metadata": {},
   "outputs": [],
   "source": [
    "X = np.stack(\n",
    " [\n",
    "     ev.user_features for ev in data.events\n",
    " ]\n",
    ")\n"
   ]
  },
  {
   "cell_type": "code",
   "execution_count": 5,
   "id": "f02f82ce",
   "metadata": {},
   "outputs": [
    {
     "data": {
      "text/plain": [
       "(261871,)"
      ]
     },
     "execution_count": 5,
     "metadata": {},
     "output_type": "execute_result"
    }
   ],
   "source": [
    "column = 4\n",
    "np.unique(X[:, column]).shape"
   ]
  },
  {
   "cell_type": "code",
   "execution_count": 6,
   "id": "6663e7e0",
   "metadata": {},
   "outputs": [],
   "source": [
    "def discretize(array, num_bins):\n",
    "    x_min = min(array)\n",
    "    x_max = max(array)\n",
    "    bins = np.linspace(x_min, x_max, num_bins+1)\n",
    "    new_array = array.copy()\n",
    "    for i in range(len(array)):\n",
    "        x = array[i]\n",
    "        if x >= x_max:\n",
    "            new_x = x_max\n",
    "        elif x <= x_min:\n",
    "            new_x = x_min\n",
    "        else:\n",
    "            new_x = bins[np.digitize(x, bins)]\n",
    "        new_array[i] = new_x\n",
    "    return new_array"
   ]
  },
  {
   "cell_type": "code",
   "execution_count": 7,
   "id": "a4e5516c",
   "metadata": {},
   "outputs": [
    {
     "data": {
      "text/plain": [
       "[0, 0.25, 0.25, 0.5, 0.5, 0.75, 1.0, 1.0, 0.75, 0.75, 1]"
      ]
     },
     "execution_count": 7,
     "metadata": {},
     "output_type": "execute_result"
    }
   ],
   "source": [
    "discretize([0, 0.1, 0.2, 0.3, 0.4, 0.5, 0.9, 0.8, 0.7, 0.6, 1], 4)"
   ]
  },
  {
   "cell_type": "code",
   "execution_count": 8,
   "id": "8759a331",
   "metadata": {},
   "outputs": [
    {
     "data": {
      "text/plain": [
       "(3243176, 6)"
      ]
     },
     "execution_count": 8,
     "metadata": {},
     "output_type": "execute_result"
    }
   ],
   "source": [
    "X.shape"
   ]
  },
  {
   "cell_type": "code",
   "execution_count": 10,
   "id": "9312b1ba",
   "metadata": {},
   "outputs": [
    {
     "data": {
      "text/plain": [
       "array([[1.10000e-04, 0.00000e+00, 9.98651e-01, 8.01000e-04, 4.38000e-04,\n",
       "        1.00000e+00],\n",
       "       [2.02760e-02, 1.23500e-03, 1.74800e-03, 3.47500e-03, 9.73265e-01,\n",
       "        1.00000e+00],\n",
       "       [1.53300e-03, 3.00000e-06, 6.19900e-03, 4.67900e-03, 9.87586e-01,\n",
       "        1.00000e+00],\n",
       "       [2.67000e-04, 4.00000e-06, 2.27000e-04, 6.16000e-04, 9.98886e-01,\n",
       "        1.00000e+00],\n",
       "       [3.01460e-02, 2.24000e-04, 6.33680e-02, 3.55110e-02, 8.70751e-01,\n",
       "        1.00000e+00]])"
      ]
     },
     "execution_count": 10,
     "metadata": {},
     "output_type": "execute_result"
    }
   ],
   "source": [
    "X[:5, :]"
   ]
  },
  {
   "cell_type": "code",
   "execution_count": 14,
   "id": "ac818f3f",
   "metadata": {},
   "outputs": [],
   "source": [
    "X_disc = np.ones(X.shape)"
   ]
  },
  {
   "cell_type": "code",
   "execution_count": 49,
   "id": "0261be1b",
   "metadata": {},
   "outputs": [],
   "source": [
    "NUM_BINS = 1000\n",
    "for column in range(6):\n",
    "    X_disc[:, column] = discretize(X[:, column], NUM_BINS)"
   ]
  },
  {
   "cell_type": "code",
   "execution_count": 50,
   "id": "a7687a16",
   "metadata": {},
   "outputs": [
    {
     "data": {
      "text/plain": [
       "array([[9.77238000e-04, 0.00000000e+00, 9.98993007e-01, 9.98013000e-04,\n",
       "        1.00000000e-03, 1.00000000e+00],\n",
       "       [2.05219980e-02, 1.99988600e-03, 1.99998600e-03, 3.99205200e-03,\n",
       "        9.74000000e-01, 1.00000000e+00],\n",
       "       [1.95447600e-03, 9.99943000e-04, 6.99995100e-03, 4.99006500e-03,\n",
       "        9.88000000e-01, 1.00000000e+00],\n",
       "       ...,\n",
       "       [2.38446072e-01, 2.59985180e-01, 1.69998810e-02, 4.86032331e-01,\n",
       "        1.00000000e-03, 1.00000000e+00],\n",
       "       [2.93171400e-03, 1.99988600e-03, 9.99993000e-04, 5.98807800e-03,\n",
       "        9.91000000e-01, 1.00000000e+00],\n",
       "       [9.77238000e-04, 9.99943000e-04, 9.99993000e-04, 9.98013000e-04,\n",
       "        1.00000000e+00, 1.00000000e+00]])"
      ]
     },
     "execution_count": 50,
     "metadata": {},
     "output_type": "execute_result"
    }
   ],
   "source": [
    "X_disc"
   ]
  },
  {
   "cell_type": "code",
   "execution_count": 30,
   "id": "bbb9dd14",
   "metadata": {},
   "outputs": [],
   "source": [
    "NUM_OF_TRIALS = 100000"
   ]
  },
  {
   "cell_type": "code",
   "execution_count": null,
   "id": "1acc47e8",
   "metadata": {},
   "outputs": [],
   "source": []
  },
  {
   "cell_type": "code",
   "execution_count": 51,
   "id": "8124200e",
   "metadata": {},
   "outputs": [],
   "source": [
    "for event, x in zip(data.events,X_disc):\n",
    "    event.user_features = x"
   ]
  },
  {
   "cell_type": "code",
   "execution_count": 45,
   "id": "5c0f04be",
   "metadata": {},
   "outputs": [
    {
     "name": "stdout",
     "output_type": "stream",
     "text": [
      "Random policy with ZeroCosts\n",
      "Average reward: 0.033\n",
      "Execution time: 9.3s\n"
     ]
    }
   ],
   "source": [
    "p_random = algorithms.RandomPolicy()\n",
    "ctr_random = evaluation.evaluate(p_random, data, stop_after=NUM_OF_TRIALS)"
   ]
  },
  {
   "cell_type": "code",
   "execution_count": 46,
   "id": "5273fd7f",
   "metadata": {},
   "outputs": [
    {
     "name": "stdout",
     "output_type": "stream",
     "text": [
      "UCB1 (α=0.01) with ZeroCosts\n",
      "Average reward: 0.0492\n",
      "Execution time: 18.2s\n"
     ]
    }
   ],
   "source": [
    "ucb_alg = algorithms.UCB1(\n",
    "        n_arms=data.n_arms,\n",
    "        alpha=0.01,\n",
    "    )\n",
    "ctr_ucb = evaluation.evaluate(ucb_alg, data, stop_after=NUM_OF_TRIALS)"
   ]
  },
  {
   "cell_type": "code",
   "execution_count": 52,
   "id": "130a1515",
   "metadata": {},
   "outputs": [
    {
     "name": "stdout",
     "output_type": "stream",
     "text": [
      "LinUCB (alpha=0.3) with ZeroCosts\n",
      "Average reward: 0.049\n",
      "Execution time: 41.6s\n"
     ]
    }
   ],
   "source": [
    "linucb = algorithms.LinUCB(\n",
    "    context_dimension=len(data.events[0].user_features),\n",
    "    n_arms=data.n_arms,\n",
    "    alpha=0.3,\n",
    ")\n",
    "ctr_linucb = evaluation.evaluate(linucb, data, stop_after=NUM_OF_TRIALS)"
   ]
  },
  {
   "cell_type": "code",
   "execution_count": 53,
   "id": "d550bdc7",
   "metadata": {},
   "outputs": [
    {
     "data": {
      "image/png": "[encoded data removed]",
      "text/plain": [
       "<Figure size 1152x576 with 1 Axes>"
      ]
     },
     "metadata": {
      "needs_background": "light"
     },
     "output_type": "display_data"
    }
   ],
   "source": [
    "plot_ctrs(\n",
    "    {\n",
    "        'Random': ctr_random,\n",
    "        'UCB1': ctr_ucb,\n",
    "        'LinUCB': ctr_linucb,\n",
    "    },\n",
    ")\n"
   ]
  },
  {
   "cell_type": "code",
   "execution_count": null,
   "id": "63354c36",
   "metadata": {},
   "outputs": [],
   "source": []
  },
  {
   "cell_type": "code",
   "execution_count": null,
   "id": "00de8d3e",
   "metadata": {},
   "outputs": [],
   "source": []
  },
  {
   "cell_type": "code",
   "execution_count": null,
   "id": "e6b35875",
   "metadata": {},
   "outputs": [],
   "source": []
  },
  {
   "cell_type": "code",
   "execution_count": 36,
   "id": "988beb45",
   "metadata": {},
   "outputs": [
    {
     "ename": "ValueError",
     "evalue": "STOP",
     "output_type": "error",
     "traceback": [
      "\u001b[0;31m---------------------------------------------------------------------------\u001b[0m",
      "\u001b[0;31mValueError\u001b[0m                                Traceback (most recent call last)",
      "\u001b[0;32m/var/folders/_g/d2bwsxss6v9_1830lrh6wyth0000gn/T/ipykernel_92719/2966978527.py\u001b[0m in \u001b[0;36m<module>\u001b[0;34m\u001b[0m\n\u001b[0;32m----> 1\u001b[0;31m \u001b[0;32mraise\u001b[0m \u001b[0mValueError\u001b[0m\u001b[0;34m(\u001b[0m\u001b[0;34m\"STOP\"\u001b[0m\u001b[0;34m)\u001b[0m\u001b[0;34m\u001b[0m\u001b[0;34m\u001b[0m\u001b[0m\n\u001b[0m",
      "\u001b[0;31mValueError\u001b[0m: STOP"
     ]
    }
   ],
   "source": [
    "raise ValueError(\"STOP\")"
   ]
  },
  {
   "cell_type": "markdown",
   "id": "ff11ec8f",
   "metadata": {},
   "source": [
    "### For comparison running on original data"
   ]
  },
  {
   "cell_type": "code",
   "execution_count": 31,
   "id": "18c1525c",
   "metadata": {},
   "outputs": [
    {
     "name": "stdout",
     "output_type": "stream",
     "text": [
      "Random policy with ZeroCosts\n",
      "Average reward: 0.0319\n",
      "Execution time: 8.8s\n"
     ]
    }
   ],
   "source": [
    "p_random = algorithms.RandomPolicy()\n",
    "ctr_random = evaluation.evaluate(p_random, data, stop_after=NUM_OF_TRIALS)"
   ]
  },
  {
   "cell_type": "code",
   "execution_count": 32,
   "id": "d1bca8b7",
   "metadata": {},
   "outputs": [
    {
     "name": "stdout",
     "output_type": "stream",
     "text": [
      "UCB1 (α=0.01) with ZeroCosts\n",
      "Average reward: 0.0492\n",
      "Execution time: 17.3s\n"
     ]
    }
   ],
   "source": [
    "ucb_alg = algorithms.UCB1(\n",
    "        n_arms=data.n_arms,\n",
    "        alpha=0.01,\n",
    "    )\n",
    "ctr_ucb = evaluation.evaluate(ucb_alg, data, stop_after=NUM_OF_TRIALS)"
   ]
  },
  {
   "cell_type": "code",
   "execution_count": 33,
   "id": "cd3465be",
   "metadata": {},
   "outputs": [
    {
     "name": "stdout",
     "output_type": "stream",
     "text": [
      "LinUCB (alpha=0.3) with ZeroCosts\n",
      "Average reward: 0.0575\n",
      "Execution time: 44.1s\n"
     ]
    }
   ],
   "source": [
    "linucb = algorithms.LinUCB(\n",
    "    context_dimension=len(data.events[0].user_features),\n",
    "    n_arms=data.n_arms,\n",
    "    alpha=0.3,\n",
    ")\n",
    "ctr_linucb = evaluation.evaluate(linucb, data, stop_after=NUM_OF_TRIALS)"
   ]
  },
  {
   "cell_type": "code",
   "execution_count": 34,
   "id": "3fcc8050",
   "metadata": {},
   "outputs": [],
   "source": [
    "def plot_ctrs(ctr_dict, change_points=()):\n",
    "    fig, ax = plt.subplots(1,1, figsize=(16, 8));\n",
    "    \n",
    "    N = 40\n",
    "    \n",
    "    max_vline=0\n",
    "    \n",
    "    for label, ctr in ctr_dict.items():\n",
    "        ax.plot(ctr[N:], label=label)\n",
    "        max_vline=max(max_vline, max(ctr[N:]))\n",
    "    ax.set_xlabel('Trial')\n",
    "    ax.set_ylabel('CTR')\n",
    "    ax.set_title('Evaluation without costs')\n",
    "    \n",
    "    ax.vlines(change_points, 0, max_vline, label='change points', color='pink')\n",
    "\n",
    "    plt.legend();\n",
    "    plt.show();"
   ]
  },
  {
   "cell_type": "code",
   "execution_count": 35,
   "id": "86a505fd",
   "metadata": {},
   "outputs": [
    {
     "data": {
      "image/png": "[encoded data removed]",
      "text/plain": [
       "<Figure size 1152x576 with 1 Axes>"
      ]
     },
     "metadata": {
      "needs_background": "light"
     },
     "output_type": "display_data"
    }
   ],
   "source": [
    "plot_ctrs(\n",
    "    {\n",
    "        'Random': ctr_random,\n",
    "        'UCB1': ctr_ucb,\n",
    "        'LinUCB': ctr_linucb,\n",
    "    },\n",
    ")\n"
   ]
  },
  {
   "cell_type": "code",
   "execution_count": null,
   "id": "ccc9e4c9",
   "metadata": {},
   "outputs": [],
   "source": []
  },
  {
   "cell_type": "code",
   "execution_count": null,
   "id": "2a127147",
   "metadata": {},
   "outputs": [],
   "source": []
  },
  {
   "cell_type": "code",
   "execution_count": null,
   "id": "15c5ef0b",
   "metadata": {},
   "outputs": [],
   "source": []
  },
  {
   "cell_type": "code",
   "execution_count": null,
   "id": "bb8db6fe",
   "metadata": {},
   "outputs": [],
   "source": []
  },
  {
   "cell_type": "code",
   "execution_count": null,
   "id": "51cdaa10",
   "metadata": {},
   "outputs": [],
   "source": []
  }
 ],
 "metadata": {
  "kernelspec": {
   "display_name": "Python 3 (ipykernel)",
   "language": "python",
   "name": "python3"
  },
  "language_info": {
   "codemirror_mode": {
    "name": "ipython",
    "version": 3
   },
   "file_extension": ".py",
   "mimetype": "text/x-python",
   "name": "python",
   "nbconvert_exporter": "python",
   "pygments_lexer": "ipython3",
   "version": "3.9.5"
  }
 },
 "nbformat": 4,
 "nbformat_minor": 5
}
