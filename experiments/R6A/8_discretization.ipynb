{
 "cells": [
  {
   "cell_type": "markdown",
   "id": "349ae48f",
   "metadata": {},
   "source": [
    "### Discretization\n",
    "\n",
    "One of the benchmark algorithms - SimOOS from \"Data-Driven Online Recommender Systems With Costly Information Acquisition\" works by enumerating all possible states. For it to work correctly each dimension of context vectors should have only a finite number of values in the whole dataset.\n",
    "\n",
    "In this notebook I want to see what happens if I discretize the context vectors, that is, I fix the number of values and round the values of context vectors to the closes possible value."
   ]
  },
  {
   "cell_type": "markdown",
   "id": "ccbf84bb",
   "metadata": {},
   "source": [
    "## Preliminary results:\n",
    "\n",
    "After discretization old algorithms still perform quite okay, so it might be a valid way to proceed.\n",
    "Another reason why this preprocessing is valid is that features in R6A represent proximity to user cluster centroids. So discretizing them just maps the real proximity with several discrete proximity values, which are still informative.\n",
    "\n",
    "SimOOS performs badly on this data. \n",
    "Testing Algorithm1 is impossible, as it just takes too much time."
   ]
  },
  {
   "cell_type": "code",
   "execution_count": 1,
   "id": "f6a02241",
   "metadata": {},
   "outputs": [
    {
     "data": {
      "text/plain": [
       "'/Users/sbokupripeku/git/work/examples/costly_nonstationary_bandits'"
      ]
     },
     "execution_count": 1,
     "metadata": {},
     "output_type": "execute_result"
    }
   ],
   "source": [
    "import os\n",
    "os.chdir('../..')\n",
    "os.getcwd()"
   ]
  },
  {
   "cell_type": "code",
   "execution_count": 2,
   "id": "c827cdfa",
   "metadata": {},
   "outputs": [],
   "source": [
    "%load_ext autoreload\n",
    "%autoreload 2\n",
    "import pickle\n",
    "import numpy as np\n",
    "import matplotlib.pyplot as plt\n",
    "import time\n",
    "import warnings\n",
    "\n",
    "import algorithms\n",
    "import costs\n",
    "import evaluation\n",
    "import dataset"
   ]
  },
  {
   "cell_type": "code",
   "execution_count": 3,
   "id": "9a43208f",
   "metadata": {},
   "outputs": [
    {
     "name": "stdout",
     "output_type": "stream",
     "text": [
      "CPU times: user 401 ms, sys: 141 ms, total: 542 ms\n",
      "Wall time: 1.01 s\n"
     ]
    }
   ],
   "source": [
    "%%time\n",
    "import gc\n",
    "\n",
    "FILENAME = \"dataset/R6/subsample/data_04_medium_large.pickle\"\n",
    "\n",
    "\n",
    "with open(FILENAME, \"rb\") as f:\n",
    "    gc.disable()\n",
    "    data = pickle.load(f)\n",
    "    gc.enable()\n",
    "    \n"
   ]
  },
  {
   "cell_type": "markdown",
   "id": "18d78f74",
   "metadata": {},
   "source": [
    "## Experiment parameters"
   ]
  },
  {
   "cell_type": "code",
   "execution_count": 4,
   "id": "458602bc",
   "metadata": {},
   "outputs": [],
   "source": [
    "NUM_BINS = 4"
   ]
  },
  {
   "cell_type": "markdown",
   "id": "0034eda4",
   "metadata": {},
   "source": [
    "### Preprocess data"
   ]
  },
  {
   "cell_type": "code",
   "execution_count": 5,
   "id": "7a81bfa2",
   "metadata": {},
   "outputs": [],
   "source": [
    "X = np.stack(\n",
    " [\n",
    "     ev.user_features for ev in data.events\n",
    " ]\n",
    ")\n"
   ]
  },
  {
   "cell_type": "code",
   "execution_count": 6,
   "id": "f02f82ce",
   "metadata": {},
   "outputs": [
    {
     "data": {
      "text/plain": [
       "(125798,)"
      ]
     },
     "execution_count": 6,
     "metadata": {},
     "output_type": "execute_result"
    }
   ],
   "source": [
    "column = 4\n",
    "np.unique(X[:, column]).shape"
   ]
  },
  {
   "cell_type": "code",
   "execution_count": 7,
   "id": "6663e7e0",
   "metadata": {},
   "outputs": [],
   "source": [
    "def discretize(array, num_bins):\n",
    "    x_min = min(array)\n",
    "    x_max = max(array)\n",
    "    bins = np.linspace(x_min, x_max, num_bins+1)\n",
    "    new_array = array.copy()\n",
    "    for i in range(len(array)):\n",
    "        x = array[i]\n",
    "        if x >= x_max:\n",
    "            new_x = x_max\n",
    "        elif x <= x_min:\n",
    "            new_x = x_min\n",
    "        else:\n",
    "            new_x = bins[np.digitize(x, bins)]\n",
    "        new_array[i] = new_x\n",
    "    return new_array"
   ]
  },
  {
   "cell_type": "code",
   "execution_count": 8,
   "id": "13253e96",
   "metadata": {},
   "outputs": [],
   "source": [
    "def discretize_with_index(array, num_bins):\n",
    "    x_min = min(array)\n",
    "    x_max = max(array)\n",
    "    bins = np.linspace(x_min, x_max, num_bins+1)\n",
    "    new_array = array.copy()\n",
    "    for i in range(len(array)):\n",
    "        x = array[i]\n",
    "        if x >= x_max:\n",
    "            new_x = num_bins\n",
    "        elif x <= x_min:\n",
    "            new_x = 1\n",
    "        else:\n",
    "            new_x = np.digitize(x, bins)\n",
    "        new_array[i] = new_x\n",
    "    return new_array"
   ]
  },
  {
   "cell_type": "code",
   "execution_count": 9,
   "id": "a4e5516c",
   "metadata": {},
   "outputs": [
    {
     "data": {
      "text/plain": [
       "[0, 0.25, 0.25, 0.5, 0.5, 0.75, 1.0, 1.0, 0.75, 0.75, 1]"
      ]
     },
     "execution_count": 9,
     "metadata": {},
     "output_type": "execute_result"
    }
   ],
   "source": [
    "# Example\n",
    "discretize([0, 0.1, 0.2, 0.3, 0.4, 0.5, 0.9, 0.8, 0.7, 0.6, 1], 4)"
   ]
  },
  {
   "cell_type": "code",
   "execution_count": 10,
   "id": "acd7f9c6",
   "metadata": {},
   "outputs": [
    {
     "data": {
      "text/plain": [
       "[1, 1, 1, 2, 2, 3, 4, 4, 3, 3, 4]"
      ]
     },
     "execution_count": 10,
     "metadata": {},
     "output_type": "execute_result"
    }
   ],
   "source": [
    "# Example\n",
    "discretize_with_index([0, 0.1, 0.2, 0.3, 0.4, 0.5, 0.9, 0.8, 0.7, 0.6, 1], 4)"
   ]
  },
  {
   "cell_type": "code",
   "execution_count": 11,
   "id": "8759a331",
   "metadata": {},
   "outputs": [
    {
     "data": {
      "text/plain": [
       "(600000, 6)"
      ]
     },
     "execution_count": 11,
     "metadata": {},
     "output_type": "execute_result"
    }
   ],
   "source": [
    "X.shape"
   ]
  },
  {
   "cell_type": "code",
   "execution_count": 12,
   "id": "9312b1ba",
   "metadata": {},
   "outputs": [
    {
     "data": {
      "text/plain": [
       "array([[9.85230e-02, 6.92600e-03, 1.14530e-02, 6.63200e-02, 8.16778e-01,\n",
       "        1.00000e+00],\n",
       "       [4.42000e-04, 8.00000e-06, 1.68000e-04, 4.66000e-04, 9.98916e-01,\n",
       "        1.00000e+00],\n",
       "       [6.90000e-05, 2.00000e-06, 9.00000e-06, 4.30000e-05, 9.99876e-01,\n",
       "        1.00000e+00],\n",
       "       [4.79541e-01, 1.37040e-01, 4.47990e-02, 3.37886e-01, 7.35000e-04,\n",
       "        1.00000e+00],\n",
       "       [6.53461e-01, 1.62730e-02, 1.55137e-01, 1.73519e-01, 1.61000e-03,\n",
       "        1.00000e+00]])"
      ]
     },
     "execution_count": 12,
     "metadata": {},
     "output_type": "execute_result"
    }
   ],
   "source": [
    "X[:5, :]"
   ]
  },
  {
   "cell_type": "code",
   "execution_count": 13,
   "id": "ac818f3f",
   "metadata": {},
   "outputs": [],
   "source": [
    "X_disc = np.ones(X.shape, dtype=np.single)"
   ]
  },
  {
   "cell_type": "markdown",
   "id": "dd184afa",
   "metadata": {},
   "source": [
    "### Discretize each feature into NUM_BINS unique values "
   ]
  },
  {
   "cell_type": "code",
   "execution_count": 14,
   "id": "0261be1b",
   "metadata": {},
   "outputs": [
    {
     "name": "stdout",
     "output_type": "stream",
     "text": [
      "CPU times: user 7 s, sys: 140 ms, total: 7.14 s\n",
      "Wall time: 7.14 s\n"
     ]
    }
   ],
   "source": [
    "%%time\n",
    "\n",
    "for column in range(6):\n",
    "    X_disc[:, column] = discretize(X[:, column], NUM_BINS)"
   ]
  },
  {
   "cell_type": "code",
   "execution_count": 15,
   "id": "a7687a16",
   "metadata": {},
   "outputs": [
    {
     "data": {
      "text/plain": [
       "array([[0.24202025, 0.24999075, 0.249996  , 0.24933375, 1.        ,\n",
       "        1.        ],\n",
       "       [0.24202025, 0.24999075, 0.249996  , 0.24933375, 1.        ,\n",
       "        1.        ],\n",
       "       [0.24202025, 0.24999075, 0.249996  , 0.24933375, 1.        ,\n",
       "        1.        ],\n",
       "       ...,\n",
       "       [0.24202025, 0.24999075, 0.999984  , 0.24933375, 0.25      ,\n",
       "        1.        ],\n",
       "       [0.24202025, 0.24999075, 0.249996  , 0.997335  , 0.25      ,\n",
       "        1.        ],\n",
       "       [0.4840405 , 0.24999075, 0.499992  , 0.24933375, 0.25      ,\n",
       "        1.        ]], dtype=float32)"
      ]
     },
     "execution_count": 15,
     "metadata": {},
     "output_type": "execute_result"
    }
   ],
   "source": [
    "X_disc"
   ]
  },
  {
   "cell_type": "code",
   "execution_count": 16,
   "id": "6994fa05",
   "metadata": {},
   "outputs": [
    {
     "data": {
      "text/plain": [
       "array([0.24202025, 0.24202025, 0.24202025, ..., 0.24202025, 0.24202025,\n",
       "       0.4840405 ], dtype=float32)"
      ]
     },
     "execution_count": 16,
     "metadata": {},
     "output_type": "execute_result"
    }
   ],
   "source": [
    "X_disc[:, 0]"
   ]
  },
  {
   "cell_type": "code",
   "execution_count": 17,
   "id": "8124200e",
   "metadata": {},
   "outputs": [],
   "source": [
    "for event, x in zip(data.events,X_disc):\n",
    "    event.user_features = x"
   ]
  },
  {
   "cell_type": "code",
   "execution_count": 18,
   "id": "29c74f28",
   "metadata": {},
   "outputs": [],
   "source": [
    "a = np.stack([ev.user_features for ev in data.events[:10]])"
   ]
  },
  {
   "cell_type": "code",
   "execution_count": 19,
   "id": "65404526",
   "metadata": {},
   "outputs": [
    {
     "data": {
      "text/plain": [
       "array([[0.24202025, 0.24999075, 0.249996  , 0.24933375, 1.        ,\n",
       "        1.        ],\n",
       "       [0.24202025, 0.24999075, 0.999984  , 0.24933375, 0.25      ,\n",
       "        1.        ],\n",
       "       [0.4840405 , 0.24999075, 0.249996  , 0.4986675 , 0.25      ,\n",
       "        1.        ],\n",
       "       [0.72606075, 0.24999075, 0.249996  , 0.24933375, 0.25      ,\n",
       "        1.        ],\n",
       "       [0.72606075, 0.24999075, 0.249996  , 0.4986675 , 0.25      ,\n",
       "        1.        ]], dtype=float32)"
      ]
     },
     "execution_count": 19,
     "metadata": {},
     "output_type": "execute_result"
    }
   ],
   "source": [
    "np.unique(a, axis=0)"
   ]
  },
  {
   "cell_type": "markdown",
   "id": "2a28fac4",
   "metadata": {},
   "source": [
    "## Evaluate on preprocessed data"
   ]
  },
  {
   "cell_type": "code",
   "execution_count": 20,
   "id": "b6c4d818",
   "metadata": {},
   "outputs": [],
   "source": [
    "NUM_OF_TRIALS = 40000"
   ]
  },
  {
   "cell_type": "code",
   "execution_count": 21,
   "id": "5c0f04be",
   "metadata": {},
   "outputs": [
    {
     "name": "stdout",
     "output_type": "stream",
     "text": [
      "Random policy with ZeroCosts\n",
      "Average reward: 0.0251\n",
      "Execution time: 2.2s\n"
     ]
    }
   ],
   "source": [
    "p_random = algorithms.RandomPolicy()\n",
    "ctr_random = evaluation.evaluate(p_random, data, stop_after=NUM_OF_TRIALS)"
   ]
  },
  {
   "cell_type": "code",
   "execution_count": 22,
   "id": "5273fd7f",
   "metadata": {},
   "outputs": [
    {
     "name": "stdout",
     "output_type": "stream",
     "text": [
      "UCB1 (α=0.01) with ZeroCosts\n",
      "Average reward: 0.0365\n",
      "Execution time: 4.3s\n"
     ]
    }
   ],
   "source": [
    "ucb_alg = algorithms.UCB1(\n",
    "        n_trials=NUM_OF_TRIALS,\n",
    "        n_arms=data.n_arms,\n",
    "        alpha=0.01,\n",
    "    )\n",
    "ctr_ucb = evaluation.evaluate(ucb_alg, data, stop_after=NUM_OF_TRIALS)"
   ]
  },
  {
   "cell_type": "code",
   "execution_count": 23,
   "id": "130a1515",
   "metadata": {},
   "outputs": [
    {
     "name": "stdout",
     "output_type": "stream",
     "text": [
      "LinUCB (alpha=0.3) with ZeroCosts\n",
      "Average reward: 0.0376\n",
      "Execution time: 10.4s\n"
     ]
    }
   ],
   "source": [
    "linucb = algorithms.LinUCB(\n",
    "    n_trials=NUM_OF_TRIALS,\n",
    "    context_dimension=len(data.events[0].user_features),\n",
    "    n_arms=data.n_arms,\n",
    "    alpha=0.3,\n",
    ")\n",
    "ctr_linucb = evaluation.evaluate(linucb, data, stop_after=NUM_OF_TRIALS)"
   ]
  },
  {
   "cell_type": "code",
   "execution_count": 24,
   "id": "59f3f4c0",
   "metadata": {},
   "outputs": [
    {
     "name": "stdout",
     "output_type": "stream",
     "text": [
      "PSLinUCB (alpha=0.25, omega=6000, delta=0.04) with ZeroCosts\n",
      "Average reward: 0.0381\n",
      "Execution time: 11.3s\n"
     ]
    }
   ],
   "source": [
    "ps_linucb = algorithms.PSLinUCB(\n",
    "    n_trials=NUM_OF_TRIALS,\n",
    "    context_dimension=len(data.events[0].user_features),\n",
    "    n_arms=data.n_arms,\n",
    "    alpha=0.25,\n",
    "    omega=6000,\n",
    "    delta=0.04\n",
    ")\n",
    "ctr_pslinucb = evaluation.evaluate(ps_linucb, data, stop_after=NUM_OF_TRIALS)\n",
    "change_points = ps_linucb.change_points"
   ]
  },
  {
   "cell_type": "code",
   "execution_count": 25,
   "id": "029f193a",
   "metadata": {
    "scrolled": true
   },
   "outputs": [],
   "source": [
    "# s = time.time()\n",
    "# p_simoos = algorithms.SimOOSAlgorithm(\n",
    "#     all_contexts=X_disc[:, :], \n",
    "#     number_of_actions=data.n_arms,\n",
    "#     max_no_red_context=len(data.events[0].user_features),\n",
    "#     beta_SimOOS=0.6,\n",
    "#     delta_SimOOS=0.2,\n",
    "# )\n",
    "# print(f\"Took {time.time() - s} seconds\")\n",
    "\n",
    "\n",
    "# with warnings.catch_warnings():\n",
    "#     warnings.simplefilter(\"ignore\")\n",
    "#     s = time.time()\n",
    "#     ctr_simoos = evaluation.evaluate(\n",
    "#         p_simoos,\n",
    "#         data,\n",
    "#         stop_after=NUM_OF_TRIALS,\n",
    "#     )\n",
    "#     print(f\"Took {time.time() - s} seconds\")\n"
   ]
  },
  {
   "cell_type": "code",
   "execution_count": 26,
   "id": "7e9d24e3",
   "metadata": {},
   "outputs": [],
   "source": [
    "# del p_simoos\n",
    "# gc.collect()"
   ]
  },
  {
   "cell_type": "code",
   "execution_count": 27,
   "id": "24df9c4e",
   "metadata": {},
   "outputs": [],
   "source": [
    "# s = time.time()\n",
    "# p_alg1 = algorithms.Algorithm1(\n",
    "#     all_contexts=X_disc[:, :], \n",
    "#     number_of_actions=data.n_arms,\n",
    "#     max_no_red_context=len(data.events[0].user_features),\n",
    "#     beta=1.0,\n",
    "#     delta=0.12,\n",
    "#     window_length=2000,\n",
    "# )\n",
    "# print(f\"Took {time.time() - s} seconds\")\n",
    "\n",
    "\n",
    "# with warnings.catch_warnings():\n",
    "#     warnings.simplefilter(\"ignore\")\n",
    "#     s = time.time()\n",
    "#     ctr_alg1 = evaluation.evaluate(\n",
    "#         p_alg1,\n",
    "#         data,\n",
    "#         stop_after=NUM_OF_TRIALS,\n",
    "#     )\n",
    "#     print(f\"Took {time.time() - s} seconds\")\n"
   ]
  },
  {
   "cell_type": "code",
   "execution_count": null,
   "id": "78d1e90b",
   "metadata": {},
   "outputs": [],
   "source": []
  },
  {
   "cell_type": "code",
   "execution_count": 28,
   "id": "353fe18c",
   "metadata": {},
   "outputs": [
    {
     "data": {
      "text/plain": [
       "array([0.  , 0.25, 0.5 , 0.75, 1.  ], dtype=float32)"
      ]
     },
     "execution_count": 28,
     "metadata": {},
     "output_type": "execute_result"
    }
   ],
   "source": [
    "np.unique(X_disc[:, 4], axis=0)"
   ]
  },
  {
   "cell_type": "code",
   "execution_count": 29,
   "id": "5b64d9f6",
   "metadata": {},
   "outputs": [],
   "source": [
    "def plot_ctrs(ctr_dict, change_points=()):\n",
    "    fig, ax = plt.subplots(1,1, figsize=(16, 8));\n",
    "    \n",
    "    N = 40\n",
    "    \n",
    "    max_vline=0\n",
    "    \n",
    "    for label, ctr in ctr_dict.items():\n",
    "        ax.plot(ctr[N:], label=label)\n",
    "        max_vline=max(max_vline, max(ctr[N:]))\n",
    "    ax.set_xlabel('Trial')\n",
    "    ax.set_ylabel('CTR')\n",
    "    ax.set_title('Evaluation without costs')\n",
    "    \n",
    "    ax.vlines(change_points, 0, max_vline, label='change points', color='pink')\n",
    "\n",
    "    plt.legend();\n",
    "    plt.show();"
   ]
  },
  {
   "cell_type": "code",
   "execution_count": 30,
   "id": "d550bdc7",
   "metadata": {},
   "outputs": [
    {
     "data": {
      "image/png": "[encoded data removed]",
      "text/plain": [
       "<Figure size 1152x576 with 1 Axes>"
      ]
     },
     "metadata": {
      "needs_background": "light"
     },
     "output_type": "display_data"
    }
   ],
   "source": [
    "plot_ctrs(\n",
    "    {\n",
    "        'Random': ctr_random,\n",
    "        'UCB1': ctr_ucb,\n",
    "        'LinUCB': ctr_linucb,\n",
    "        'PS-LinUCB': ctr_pslinucb,\n",
    "#         'SimOOS': ctr_simoos,\n",
    "#         'Alg1': ctr_alg1,\n",
    "    },\n",
    ")\n"
   ]
  },
  {
   "cell_type": "code",
   "execution_count": null,
   "id": "63354c36",
   "metadata": {},
   "outputs": [],
   "source": []
  },
  {
   "cell_type": "markdown",
   "id": "ff11ec8f",
   "metadata": {},
   "source": [
    "## For comparison evaluate on original data"
   ]
  },
  {
   "cell_type": "code",
   "execution_count": 31,
   "id": "a138e026",
   "metadata": {},
   "outputs": [],
   "source": [
    "del data\n",
    "\n",
    "with open(FILENAME, \"rb\") as f:\n",
    "    gc.disable()\n",
    "    original_data = pickle.load(f)\n",
    "    gc.enable()"
   ]
  },
  {
   "cell_type": "code",
   "execution_count": 32,
   "id": "e52997fd",
   "metadata": {},
   "outputs": [],
   "source": [
    "a = np.stack([ev.user_features for ev in original_data.events[:10]])"
   ]
  },
  {
   "cell_type": "code",
   "execution_count": 33,
   "id": "b375f011",
   "metadata": {},
   "outputs": [
    {
     "data": {
      "text/plain": [
       "array([[6.90000e-05, 2.00000e-06, 9.00000e-06, 4.30000e-05, 9.99876e-01,\n",
       "        1.00000e+00],\n",
       "       [4.42000e-04, 8.00000e-06, 1.68000e-04, 4.66000e-04, 9.98916e-01,\n",
       "        1.00000e+00],\n",
       "       [1.63400e-03, 1.00000e-06, 9.96804e-01, 1.56100e-03, 1.00000e-06,\n",
       "        1.00000e+00],\n",
       "       [1.04070e-02, 6.25100e-03, 2.30000e-05, 1.29800e-03, 9.82021e-01,\n",
       "        1.00000e+00],\n",
       "       [6.61410e-02, 2.93300e-03, 1.40700e-03, 5.84000e-03, 9.23679e-01,\n",
       "        1.00000e+00],\n",
       "       [9.85230e-02, 6.92600e-03, 1.14530e-02, 6.63200e-02, 8.16778e-01,\n",
       "        1.00000e+00],\n",
       "       [4.79541e-01, 1.37040e-01, 4.47990e-02, 3.37886e-01, 7.35000e-04,\n",
       "        1.00000e+00],\n",
       "       [5.53029e-01, 4.58770e-02, 9.41290e-02, 2.91508e-01, 1.54570e-02,\n",
       "        1.00000e+00],\n",
       "       [5.76717e-01, 8.98400e-03, 1.94949e-01, 2.05601e-01, 1.37490e-02,\n",
       "        1.00000e+00],\n",
       "       [6.53461e-01, 1.62730e-02, 1.55137e-01, 1.73519e-01, 1.61000e-03,\n",
       "        1.00000e+00]])"
      ]
     },
     "execution_count": 33,
     "metadata": {},
     "output_type": "execute_result"
    }
   ],
   "source": [
    "np.unique(a, axis=0)"
   ]
  },
  {
   "cell_type": "code",
   "execution_count": 34,
   "id": "18c1525c",
   "metadata": {},
   "outputs": [
    {
     "name": "stdout",
     "output_type": "stream",
     "text": [
      "Random policy with ZeroCosts\n",
      "Average reward: 0.0236\n",
      "Execution time: 1.9s\n"
     ]
    }
   ],
   "source": [
    "p_random = algorithms.RandomPolicy()\n",
    "ctr_random = evaluation.evaluate(p_random, original_data, stop_after=NUM_OF_TRIALS)"
   ]
  },
  {
   "cell_type": "code",
   "execution_count": 35,
   "id": "d1bca8b7",
   "metadata": {},
   "outputs": [
    {
     "name": "stdout",
     "output_type": "stream",
     "text": [
      "UCB1 (α=0.01) with ZeroCosts\n",
      "Average reward: 0.0365\n",
      "Execution time: 4.0s\n"
     ]
    }
   ],
   "source": [
    "ucb_alg = algorithms.UCB1(\n",
    "        n_trials=NUM_OF_TRIALS,\n",
    "        n_arms=original_data.n_arms,\n",
    "        alpha=0.01,\n",
    "    )\n",
    "ctr_ucb = evaluation.evaluate(ucb_alg, original_data, stop_after=NUM_OF_TRIALS)"
   ]
  },
  {
   "cell_type": "code",
   "execution_count": 36,
   "id": "cd3465be",
   "metadata": {},
   "outputs": [
    {
     "name": "stdout",
     "output_type": "stream",
     "text": [
      "LinUCB (alpha=0.3) with ZeroCosts\n",
      "Average reward: 0.0392\n",
      "Execution time: 10.3s\n"
     ]
    }
   ],
   "source": [
    "linucb = algorithms.LinUCB(\n",
    "    n_trials=NUM_OF_TRIALS,\n",
    "    context_dimension=len(original_data.events[0].user_features),\n",
    "    n_arms=original_data.n_arms,\n",
    "    alpha=0.3,\n",
    ")\n",
    "ctr_linucb = evaluation.evaluate(linucb, original_data, stop_after=NUM_OF_TRIALS)"
   ]
  },
  {
   "cell_type": "code",
   "execution_count": 37,
   "id": "d173ac08",
   "metadata": {},
   "outputs": [
    {
     "name": "stdout",
     "output_type": "stream",
     "text": [
      "PSLinUCB (alpha=0.25, omega=6000, delta=0.04) with ZeroCosts\n",
      "Average reward: 0.0398\n",
      "Execution time: 11.7s\n"
     ]
    }
   ],
   "source": [
    "ps_linucb = algorithms.PSLinUCB(\n",
    "    n_trials=NUM_OF_TRIALS,\n",
    "    context_dimension=len(original_data.events[0].user_features),\n",
    "    n_arms=original_data.n_arms,\n",
    "    alpha=0.25,\n",
    "    omega=6000,\n",
    "    delta=0.04\n",
    ")\n",
    "ctr_pslinucb = evaluation.evaluate(ps_linucb, original_data, stop_after=NUM_OF_TRIALS)\n",
    "change_points = ps_linucb.change_points"
   ]
  },
  {
   "cell_type": "code",
   "execution_count": 38,
   "id": "86a505fd",
   "metadata": {},
   "outputs": [
    {
     "data": {
      "image/png": "[encoded data removed]",
      "text/plain": [
       "<Figure size 1152x576 with 1 Axes>"
      ]
     },
     "metadata": {
      "needs_background": "light"
     },
     "output_type": "display_data"
    }
   ],
   "source": [
    "plot_ctrs(\n",
    "    {\n",
    "        'Random': ctr_random,\n",
    "        'UCB1': ctr_ucb,\n",
    "        'LinUCB': ctr_linucb,\n",
    "        'PS-LinUCB': ctr_pslinucb,\n",
    "    },\n",
    ")\n"
   ]
  },
  {
   "cell_type": "code",
   "execution_count": null,
   "id": "51cdaa10",
   "metadata": {},
   "outputs": [],
   "source": []
  },
  {
   "cell_type": "code",
   "execution_count": null,
   "id": "f9490926",
   "metadata": {},
   "outputs": [],
   "source": []
  },
  {
   "cell_type": "code",
   "execution_count": null,
   "id": "6c9f34d0",
   "metadata": {},
   "outputs": [],
   "source": []
  },
  {
   "cell_type": "code",
   "execution_count": null,
   "id": "eff5160a",
   "metadata": {},
   "outputs": [],
   "source": []
  }
 ],
 "metadata": {
  "kernelspec": {
   "display_name": "Python 3 (ipykernel)",
   "language": "python",
   "name": "python3"
  },
  "language_info": {
   "codemirror_mode": {
    "name": "ipython",
    "version": 3
   },
   "file_extension": ".py",
   "mimetype": "text/x-python",
   "name": "python",
   "nbconvert_exporter": "python",
   "pygments_lexer": "ipython3",
   "version": "3.10.2"
  }
 },
 "nbformat": 4,
 "nbformat_minor": 5
}
