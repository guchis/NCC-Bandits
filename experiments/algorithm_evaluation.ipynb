{
 "cells": [
  {
   "cell_type": "code",
   "execution_count": 1,
   "id": "c1d7c182",
   "metadata": {},
   "outputs": [
    {
     "data": {
      "text/plain": [
       "'/Users/sbokupripeku/git/work/examples/costly_nonstationary_bandits'"
      ]
     },
     "execution_count": 1,
     "metadata": {},
     "output_type": "execute_result"
    }
   ],
   "source": [
    "import os\n",
    "os.chdir('..')\n",
    "os.getcwd()"
   ]
  },
  {
   "cell_type": "code",
   "execution_count": 2,
   "id": "24fd7f25",
   "metadata": {},
   "outputs": [],
   "source": [
    "%load_ext autoreload\n",
    "%autoreload 2\n",
    "\n",
    "import pickle\n",
    "import matplotlib.pyplot as plt\n",
    "\n",
    "import algorithms\n",
    "import costs\n",
    "import evaluation\n",
    "import dataset\n",
    "from plotting.average_ctr import get_average_ctr_plot"
   ]
  },
  {
   "cell_type": "code",
   "execution_count": 3,
   "id": "5970888b",
   "metadata": {},
   "outputs": [
    {
     "name": "stdout",
     "output_type": "stream",
     "text": [
      "CPU times: user 3.57 s, sys: 1.65 s, total: 5.22 s\n",
      "Wall time: 20.6 s\n"
     ]
    }
   ],
   "source": [
    "%%time\n",
    "import gc\n",
    "\n",
    "with open(\"dataset/R6/subsample/data_04.pickle\", \"rb\") as f:\n",
    "    gc.disable()\n",
    "    data = pickle.load(f)\n",
    "    gc.enable()"
   ]
  },
  {
   "cell_type": "code",
   "execution_count": 4,
   "id": "ea9bb564",
   "metadata": {},
   "outputs": [],
   "source": [
    "NUM_OF_TRIALS = None"
   ]
  },
  {
   "cell_type": "code",
   "execution_count": 6,
   "id": "661e8b7a",
   "metadata": {},
   "outputs": [
    {
     "name": "stdout",
     "output_type": "stream",
     "text": [
      "Random policy with ZeroCosts\n",
      "Average reward: 0.0396\n",
      "Execution time: 18.2s\n"
     ]
    }
   ],
   "source": [
    "p_random = algorithms.RandomPolicy()\n",
    "ctr_random = evaluation.evaluate(p_random, data, stop_after=NUM_OF_TRIALS)"
   ]
  },
  {
   "cell_type": "code",
   "execution_count": 7,
   "id": "8b50fd9c",
   "metadata": {},
   "outputs": [
    {
     "name": "stdout",
     "output_type": "stream",
     "text": [
      "E-greedy(epsilon=0.2) with ZeroCosts\n",
      "Average reward: 0.0544\n",
      "Execution time: 24.3s\n"
     ]
    }
   ],
   "source": [
    "egreedy = algorithms.EpsilonGreedy(epsilon=0.2, total_n_arms=data.n_arms)\n",
    "ctr_egreedy = evaluation.evaluate(egreedy, data, stop_after=NUM_OF_TRIALS)"
   ]
  },
  {
   "cell_type": "code",
   "execution_count": 8,
   "id": "0b028bdc",
   "metadata": {},
   "outputs": [
    {
     "name": "stdout",
     "output_type": "stream",
     "text": [
      "LinUCB (alpha=0.1 with ZeroCosts\n",
      "Average reward: 0.0588\n",
      "Execution time: 1.8m\n"
     ]
    }
   ],
   "source": [
    "linucb = algorithms.LinUCB(\n",
    "    context_dimension=len(data.events[0].user_features),\n",
    "    n_arms=data.n_arms,\n",
    "    alpha=0.1,\n",
    ")\n",
    "ctr_linucb = evaluation.evaluate(linucb, data, stop_after=NUM_OF_TRIALS)"
   ]
  },
  {
   "cell_type": "code",
   "execution_count": 9,
   "id": "bc68ec54",
   "metadata": {},
   "outputs": [
    {
     "data": {
      "image/png": "[encoded data removed]",
      "text/plain": [
       "<Figure size 720x360 with 1 Axes>"
      ]
     },
     "metadata": {
      "needs_background": "light"
     },
     "output_type": "display_data"
    }
   ],
   "source": [
    "fig, ax = plt.subplots(1,1, figsize=(10, 5));\n",
    "\n",
    "N = 50\n",
    "ax.plot(ctr_random[N:], label='Random')\n",
    "ax.plot(ctr_egreedy[N:], label='E-greedy')\n",
    "ax.plot(ctr_linucb[N:], label='LinUCB')\n",
    "ax.set_xlabel('Trial')\n",
    "ax.set_ylabel('CTR')\n",
    "ax.set_title('Evaluation without costs')\n",
    "\n",
    "\n",
    "plt.legend();"
   ]
  },
  {
   "cell_type": "code",
   "execution_count": 10,
   "id": "2250fa75",
   "metadata": {},
   "outputs": [],
   "source": [
    "d = len(data.events[0].user_features)\n",
    "\n",
    "bernoulli_costs = costs.BernoulliCosts(\n",
    "    feature_vector_size=d,\n",
    "    probabilities=[0.5]*d,\n",
    "    cost_values=[(1/d)*0.1]*d,  # Cost of all features is 10 percent of reward\n",
    "    \n",
    ")"
   ]
  },
  {
   "cell_type": "code",
   "execution_count": 11,
   "id": "23998927",
   "metadata": {},
   "outputs": [
    {
     "name": "stdout",
     "output_type": "stream",
     "text": [
      "Random policy with BernoulliCosts\n",
      "Average reward: -0.0107\n",
      "Execution time: 21.8s\n"
     ]
    }
   ],
   "source": [
    "ctr_random_costs = evaluation.evaluate(p_random, data, bernoulli_costs, stop_after=NUM_OF_TRIALS)"
   ]
  },
  {
   "cell_type": "code",
   "execution_count": 12,
   "id": "7a20674d",
   "metadata": {},
   "outputs": [
    {
     "name": "stdout",
     "output_type": "stream",
     "text": [
      "E-greedy(epsilon=0.2) with BernoulliCosts\n",
      "Average reward: 0.006\n",
      "Execution time: 28.4s\n"
     ]
    }
   ],
   "source": [
    "ctr_egreedy_costs = evaluation.evaluate(egreedy, data, bernoulli_costs, stop_after=NUM_OF_TRIALS)"
   ]
  },
  {
   "cell_type": "code",
   "execution_count": 14,
   "id": "9291d49a",
   "metadata": {},
   "outputs": [
    {
     "name": "stdout",
     "output_type": "stream",
     "text": [
      "LinUCB (alpha=0.1 with BernoulliCosts\n",
      "Average reward: 0.0086\n",
      "Execution time: 1.8m\n"
     ]
    }
   ],
   "source": [
    "ctr_linucb_costs = evaluation.evaluate(linucb, data, bernoulli_costs, stop_after=NUM_OF_TRIALS)"
   ]
  },
  {
   "cell_type": "code",
   "execution_count": 16,
   "id": "8b8680fa",
   "metadata": {},
   "outputs": [
    {
     "data": {
      "image/png": "[encoded data removed]",
      "text/plain": [
       "<Figure size 720x360 with 1 Axes>"
      ]
     },
     "metadata": {
      "needs_background": "light"
     },
     "output_type": "display_data"
    }
   ],
   "source": [
    "fig, ax = plt.subplots(1,1, figsize=(10, 5));\n",
    "\n",
    "\n",
    "ax.plot(ctr_random_costs[20:], label='Random')\n",
    "ax.plot(ctr_egreedy_costs, label='E-greedy')\n",
    "ax.plot(ctr_egreedy_costs, label='LinUCB')\n",
    "ax.set_xlabel('Trial')\n",
    "ax.set_ylabel('CTR')\n",
    "ax.set_title('Evaluation with Bernoulli costs')\n",
    "plt.legend();"
   ]
  },
  {
   "cell_type": "code",
   "execution_count": null,
   "id": "0e65edcf",
   "metadata": {},
   "outputs": [],
   "source": []
  }
 ],
 "metadata": {
  "kernelspec": {
   "display_name": "Python 3 (ipykernel)",
   "language": "python",
   "name": "python3"
  },
  "language_info": {
   "codemirror_mode": {
    "name": "ipython",
    "version": 3
   },
   "file_extension": ".py",
   "mimetype": "text/x-python",
   "name": "python",
   "nbconvert_exporter": "python",
   "pygments_lexer": "ipython3",
   "version": "3.9.5"
  }
 },
 "nbformat": 4,
 "nbformat_minor": 5
}
