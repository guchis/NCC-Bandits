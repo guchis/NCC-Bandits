{
 "cells": [
  {
   "cell_type": "markdown",
   "id": "bd264323",
   "metadata": {},
   "source": [
    "# Plot a histogram of arm choices for each stationary period.\n",
    "\n",
    "Use the environment from experiment 37."
   ]
  },
  {
   "cell_type": "code",
   "execution_count": 1,
   "id": "ba49eee3",
   "metadata": {},
   "outputs": [
    {
     "data": {
      "text/plain": [
       "'/Users/sbokupripeku/git/work/examples/costly_nonstationary_bandits'"
      ]
     },
     "execution_count": 1,
     "metadata": {},
     "output_type": "execute_result"
    }
   ],
   "source": [
    "import os\n",
    "os.chdir(\"../..\")\n",
    "os.getcwd()"
   ]
  },
  {
   "cell_type": "code",
   "execution_count": 2,
   "id": "0b748cbc",
   "metadata": {},
   "outputs": [],
   "source": [
    "%load_ext autoreload\n",
    "%autoreload 2\n",
    "\n",
    "import matplotlib.pyplot as plt\n",
    "import numpy as np\n",
    "import pandas as pd\n",
    "import time\n",
    "import pickle\n",
    "import math\n",
    "\n",
    "import algorithms\n",
    "import evaluation\n",
    "from src import costs\n",
    "from plotting.costs import plot_costs"
   ]
  },
  {
   "cell_type": "code",
   "execution_count": 3,
   "id": "e225d680",
   "metadata": {},
   "outputs": [],
   "source": [
    "np.random.seed(42)"
   ]
  },
  {
   "cell_type": "markdown",
   "id": "f0539743",
   "metadata": {},
   "source": [
    "# Load the evaluation data saved in experiment 20"
   ]
  },
  {
   "cell_type": "code",
   "execution_count": 4,
   "id": "4e758282",
   "metadata": {},
   "outputs": [],
   "source": [
    "with open('dataset/nursery/nursery_evaluation.pickle', 'rb') as f:\n",
    "    data = pickle.load(f)\n",
    "    \n",
    "all_contexts, all_rewards = data"
   ]
  },
  {
   "cell_type": "code",
   "execution_count": 5,
   "id": "4dfd5385",
   "metadata": {},
   "outputs": [
    {
     "data": {
      "text/html": [
       "<div>\n",
       "<style scoped>\n",
       "    .dataframe tbody tr th:only-of-type {\n",
       "        vertical-align: middle;\n",
       "    }\n",
       "\n",
       "    .dataframe tbody tr th {\n",
       "        vertical-align: top;\n",
       "    }\n",
       "\n",
       "    .dataframe thead th {\n",
       "        text-align: right;\n",
       "    }\n",
       "</style>\n",
       "<table border=\"1\" class=\"dataframe\">\n",
       "  <thead>\n",
       "    <tr style=\"text-align: right;\">\n",
       "      <th></th>\n",
       "      <th>form</th>\n",
       "      <th>children</th>\n",
       "      <th>housing</th>\n",
       "      <th>finance</th>\n",
       "      <th>health</th>\n",
       "    </tr>\n",
       "  </thead>\n",
       "  <tbody>\n",
       "    <tr>\n",
       "      <th>2</th>\n",
       "      <td>1</td>\n",
       "      <td>1</td>\n",
       "      <td>1</td>\n",
       "      <td>1</td>\n",
       "      <td>1</td>\n",
       "    </tr>\n",
       "    <tr>\n",
       "      <th>4</th>\n",
       "      <td>1</td>\n",
       "      <td>1</td>\n",
       "      <td>1</td>\n",
       "      <td>1</td>\n",
       "      <td>3</td>\n",
       "    </tr>\n",
       "    <tr>\n",
       "      <th>6</th>\n",
       "      <td>1</td>\n",
       "      <td>1</td>\n",
       "      <td>1</td>\n",
       "      <td>1</td>\n",
       "      <td>2</td>\n",
       "    </tr>\n",
       "    <tr>\n",
       "      <th>7</th>\n",
       "      <td>1</td>\n",
       "      <td>1</td>\n",
       "      <td>1</td>\n",
       "      <td>1</td>\n",
       "      <td>3</td>\n",
       "    </tr>\n",
       "    <tr>\n",
       "      <th>8</th>\n",
       "      <td>1</td>\n",
       "      <td>1</td>\n",
       "      <td>1</td>\n",
       "      <td>1</td>\n",
       "      <td>1</td>\n",
       "    </tr>\n",
       "    <tr>\n",
       "      <th>...</th>\n",
       "      <td>...</td>\n",
       "      <td>...</td>\n",
       "      <td>...</td>\n",
       "      <td>...</td>\n",
       "      <td>...</td>\n",
       "    </tr>\n",
       "    <tr>\n",
       "      <th>12952</th>\n",
       "      <td>4</td>\n",
       "      <td>4</td>\n",
       "      <td>3</td>\n",
       "      <td>2</td>\n",
       "      <td>3</td>\n",
       "    </tr>\n",
       "    <tr>\n",
       "      <th>12953</th>\n",
       "      <td>4</td>\n",
       "      <td>4</td>\n",
       "      <td>3</td>\n",
       "      <td>2</td>\n",
       "      <td>1</td>\n",
       "    </tr>\n",
       "    <tr>\n",
       "      <th>12955</th>\n",
       "      <td>4</td>\n",
       "      <td>4</td>\n",
       "      <td>3</td>\n",
       "      <td>2</td>\n",
       "      <td>3</td>\n",
       "    </tr>\n",
       "    <tr>\n",
       "      <th>12956</th>\n",
       "      <td>4</td>\n",
       "      <td>4</td>\n",
       "      <td>3</td>\n",
       "      <td>2</td>\n",
       "      <td>1</td>\n",
       "    </tr>\n",
       "    <tr>\n",
       "      <th>12957</th>\n",
       "      <td>4</td>\n",
       "      <td>4</td>\n",
       "      <td>3</td>\n",
       "      <td>2</td>\n",
       "      <td>2</td>\n",
       "    </tr>\n",
       "  </tbody>\n",
       "</table>\n",
       "<p>10000 rows × 5 columns</p>\n",
       "</div>"
      ],
      "text/plain": [
       "       form  children  housing  finance  health\n",
       "2         1         1        1        1       1\n",
       "4         1         1        1        1       3\n",
       "6         1         1        1        1       2\n",
       "7         1         1        1        1       3\n",
       "8         1         1        1        1       1\n",
       "...     ...       ...      ...      ...     ...\n",
       "12952     4         4        3        2       3\n",
       "12953     4         4        3        2       1\n",
       "12955     4         4        3        2       3\n",
       "12956     4         4        3        2       1\n",
       "12957     4         4        3        2       2\n",
       "\n",
       "[10000 rows x 5 columns]"
      ]
     },
     "execution_count": 5,
     "metadata": {},
     "output_type": "execute_result"
    }
   ],
   "source": [
    "all_contexts"
   ]
  },
  {
   "cell_type": "code",
   "execution_count": 6,
   "id": "5b8c791b",
   "metadata": {},
   "outputs": [
    {
     "data": {
      "text/plain": [
       "array([[1., 0., 0.],\n",
       "       [0., 1., 0.],\n",
       "       [0., 1., 0.],\n",
       "       ...,\n",
       "       [0., 0., 1.],\n",
       "       [1., 0., 0.],\n",
       "       [0., 0., 1.]])"
      ]
     },
     "execution_count": 6,
     "metadata": {},
     "output_type": "execute_result"
    }
   ],
   "source": [
    "all_rewards"
   ]
  },
  {
   "cell_type": "markdown",
   "id": "cc538745",
   "metadata": {},
   "source": [
    "## Set BETA parameter for the experiment"
   ]
  },
  {
   "cell_type": "code",
   "execution_count": 7,
   "id": "7c2b0501",
   "metadata": {},
   "outputs": [],
   "source": [
    "BETA = 1"
   ]
  },
  {
   "cell_type": "markdown",
   "id": "a1f22f9e",
   "metadata": {},
   "source": [
    "# Adding non-stationarity\n"
   ]
  },
  {
   "cell_type": "markdown",
   "id": "29fe230c",
   "metadata": {},
   "source": [
    "### Non-stationarity in rewards"
   ]
  },
  {
   "cell_type": "code",
   "execution_count": 8,
   "id": "6b8cab7b",
   "metadata": {},
   "outputs": [
    {
     "data": {
      "text/plain": [
       "10000"
      ]
     },
     "execution_count": 8,
     "metadata": {},
     "output_type": "execute_result"
    }
   ],
   "source": [
    "all_rewards.shape[0]"
   ]
  },
  {
   "cell_type": "code",
   "execution_count": 9,
   "id": "0aaea10e",
   "metadata": {},
   "outputs": [],
   "source": [
    "stationarity_regions = [\n",
    "    slice(0, 1000),\n",
    "    slice(1000, 2000),\n",
    "    slice(2000, 5000),\n",
    "    slice(5000, 8000),\n",
    "    slice(8000, all_contexts.shape[0]),\n",
    "]"
   ]
  },
  {
   "cell_type": "code",
   "execution_count": 10,
   "id": "99234270",
   "metadata": {},
   "outputs": [],
   "source": [
    "change_point_values = [x.start for x in stationarity_regions] + [stationarity_regions[-1].stop]\n",
    "change_point_values[0] += 1"
   ]
  },
  {
   "cell_type": "code",
   "execution_count": 11,
   "id": "07baf156",
   "metadata": {},
   "outputs": [
    {
     "data": {
      "text/plain": [
       "[1, 1000, 2000, 5000, 8000, 10000]"
      ]
     },
     "execution_count": 11,
     "metadata": {},
     "output_type": "execute_result"
    }
   ],
   "source": [
    "change_point_values"
   ]
  },
  {
   "cell_type": "code",
   "execution_count": 12,
   "id": "95230d1f",
   "metadata": {},
   "outputs": [
    {
     "data": {
      "text/plain": [
       "array([0.3396, 0.3366, 0.3238])"
      ]
     },
     "execution_count": 12,
     "metadata": {},
     "output_type": "execute_result"
    }
   ],
   "source": [
    "# We invert arm 0 with 2 and 1 with 3 (\n",
    "np.mean(all_rewards, axis=0)"
   ]
  },
  {
   "cell_type": "code",
   "execution_count": 13,
   "id": "2ad6b353",
   "metadata": {},
   "outputs": [],
   "source": [
    "nonstationary_rewards = np.copy(all_rewards)\n",
    "nonstationary_contexts = np.copy(all_contexts)\n",
    "\n",
    "mean_rewards = np.zeros(nonstationary_rewards.shape)\n",
    "\n",
    "n_arms = all_rewards.shape[1]\n",
    "\n",
    "for i, region in enumerate(stationarity_regions):\n",
    "    for arm_from in range(n_arms):\n",
    "        \n",
    "        additional_shift = 0\n",
    "        if i == 1 or i == 3:\n",
    "            additional_shift = 1\n",
    "        elif i == 2:\n",
    "            additional_shift = 2\n",
    "        \n",
    "        # Cyclic shift of class labels\n",
    "        arm_to = (arm_from + i + additional_shift) % n_arms\n",
    "        if i > 0:\n",
    "            nonstationary_rewards[region, arm_to] = all_rewards[region, arm_from]\n",
    "        \n",
    "        # For plotting\n",
    "        mean_rewards[region, arm_to] = (\n",
    "            np.ones(nonstationary_rewards[region, arm_to].shape) * np.mean(nonstationary_rewards[region, arm_to])\n",
    "        )"
   ]
  },
  {
   "cell_type": "code",
   "execution_count": 14,
   "id": "1fcad487",
   "metadata": {},
   "outputs": [
    {
     "data": {
      "text/plain": [
       "((10000, 5), (10000, 3))"
      ]
     },
     "execution_count": 14,
     "metadata": {},
     "output_type": "execute_result"
    }
   ],
   "source": [
    "nonstationary_contexts.shape, nonstationary_rewards.shape"
   ]
  },
  {
   "cell_type": "markdown",
   "id": "f697974f",
   "metadata": {},
   "source": [
    "## Plot expected reward"
   ]
  },
  {
   "cell_type": "code",
   "execution_count": 15,
   "id": "6f590277",
   "metadata": {},
   "outputs": [
    {
     "name": "stdout",
     "output_type": "stream",
     "text": [
      "Min expected reward for arm 1: 0.24433333333333335\n",
      "Min expected reward for arm 2: 0.022\n",
      "Min expected reward for arm 3: 0.0\n"
     ]
    },
    {
     "data": {
      "image/png": "[encoded data removed]",
      "text/plain": [
       "<Figure size 792x360 with 1 Axes>"
      ]
     },
     "metadata": {
      "needs_background": "light"
     },
     "output_type": "display_data"
    }
   ],
   "source": [
    "fig, ax = plt.subplots(1,1, figsize=(11,5))\n",
    "for arm in range(n_arms):\n",
    "    expected_gain = BETA * mean_rewards[:, arm] \n",
    "    ax.plot(expected_gain, label=f\"Arm {arm+1}\", linestyle=':', linewidth=5)\n",
    "    print(f\"Min expected reward for arm {arm+1}: {min(expected_gain)}\")\n",
    "\n",
    "    \n",
    "extraticks = change_point_values\n",
    "plt.xticks(extraticks, rotation=35, fontsize=16)\n",
    "\n",
    "plt.yticks(fontsize=16)\n",
    "\n",
    "ax.set_xlabel('Time step', fontsize=20)\n",
    "ax.set_ylabel(fr\"($\\beta$={BETA}) * Mean reward\", fontsize=20)\n",
    "\n",
    "lgd = ax.legend(loc=9, ncol=5, bbox_to_anchor=(0.5, 1.132), prop={'size': 15})\n",
    "\n",
    "\n",
    "plt.show()\n"
   ]
  },
  {
   "cell_type": "markdown",
   "id": "6d78c9f2",
   "metadata": {},
   "source": [
    "# Exchange rows\n",
    "Here we exchange the rows between stationarity regions. We do this so that we can achieve the pattern of mean rewards as specified in the beginning of this document."
   ]
  },
  {
   "cell_type": "code",
   "execution_count": 16,
   "id": "df931c09",
   "metadata": {},
   "outputs": [],
   "source": [
    "def exchange_rows(array, rows1:list, rows2: list):\n",
    "    array = array.copy()\n",
    "    assert len(rows1) == len(rows2)\n",
    "    assert len(set(rows1)) == len(rows1)\n",
    "    assert len(set(rows2)) == len(rows2)\n",
    "    assert set(rows1).intersection(set(rows2)) == set()\n",
    "    temp1 = array[rows1].copy()\n",
    "    temp2 = array[rows2].copy()\n",
    "\n",
    "    array[rows1] = temp2\n",
    "    array[rows2] = temp1\n",
    "    return array"
   ]
  },
  {
   "cell_type": "code",
   "execution_count": 17,
   "id": "9788eb56",
   "metadata": {},
   "outputs": [],
   "source": [
    "def rebalance_arms_between_regions(\n",
    "    contexts, rewards, arm_1, arm_2, region_1, region_2, percentage,\n",
    "):\n",
    "    assert arm_1 != arm_2\n",
    "    assert region_1 != region_2\n",
    "    \"\"\"Exchange rows in both context and reward arrays in such a way that rows\n",
    "    for arm_1 in region_1 are exchanged with arm_2 in region_2.\n",
    "    \n",
    "    \"\"\"\n",
    "    region_1_slice = stationarity_regions[region_1]\n",
    "    reg_1_mask = np.zeros(contexts.shape[0], dtype=bool)\n",
    "    reg_1_mask[region_1_slice] = True\n",
    "    \n",
    "    region_2_slice = stationarity_regions[region_2]\n",
    "    reg_2_mask = np.zeros(contexts.shape[0], dtype=bool)\n",
    "    reg_2_mask[region_2_slice] = True\n",
    "    \n",
    "    arm_1_mask = np.array(rewards[:, arm_1], dtype=bool)\n",
    "    arm_2_mask = np.array(rewards[:, arm_2], dtype=bool)\n",
    "    \n",
    "    mask1 = arm_1_mask & reg_1_mask\n",
    "    mask2 = arm_2_mask & reg_2_mask\n",
    "    \n",
    "    \n",
    "    rows1 = np.where(mask1)[0]\n",
    "    rows2 = np.where(mask2)[0]\n",
    "    \n",
    "    \n",
    "    num_rows_to_exchange = int(\n",
    "        percentage * min(len(rows1), len(rows2))\n",
    "    )\n",
    "    \n",
    "    rows1 = list(\n",
    "        np.random.choice(\n",
    "            rows1,\n",
    "            replace=False,\n",
    "            size=num_rows_to_exchange,\n",
    "        )\n",
    "    )\n",
    "    rows2 = list(\n",
    "        np.random.choice(\n",
    "            rows2,\n",
    "            replace=False,\n",
    "            size=num_rows_to_exchange,\n",
    "        )\n",
    "    )\n",
    "    \n",
    "    if len(rows1) > len(rows2):\n",
    "        rows1 = rows1[:len(rows2)]\n",
    "    else:\n",
    "        rows2 = rows2[:len(rows1)]\n",
    "    \n",
    "    \n",
    "    contexts = exchange_rows(contexts, rows1, rows2)\n",
    "    rewards = exchange_rows(rewards, rows1, rows2)\n",
    "    \n",
    "    return contexts, rewards"
   ]
  },
  {
   "cell_type": "code",
   "execution_count": 18,
   "id": "f1fb087b",
   "metadata": {},
   "outputs": [],
   "source": [
    "new_contexts, new_rewards = rebalance_arms_between_regions(\n",
    "    contexts=nonstationary_contexts,\n",
    "    rewards=nonstationary_rewards,\n",
    "    arm_1=1, \n",
    "    arm_2=2,\n",
    "    region_1=2, \n",
    "    region_2=3,\n",
    "    percentage=0.7,\n",
    ")\n",
    "\n",
    "new_contexts, new_rewards = rebalance_arms_between_regions(\n",
    "    contexts=new_contexts,\n",
    "    rewards=new_rewards,\n",
    "    arm_1=0, \n",
    "    arm_2=1,\n",
    "    region_1=3, \n",
    "    region_2=4,\n",
    "    percentage=0.6,\n",
    ")\n",
    "\n",
    "new_contexts, new_rewards = rebalance_arms_between_regions(\n",
    "    contexts=new_contexts,\n",
    "    rewards=new_rewards,\n",
    "    arm_1=2, \n",
    "    arm_2=1,\n",
    "    region_1=1, \n",
    "    region_2=4,\n",
    "    percentage=0.7,\n",
    ")\n",
    "\n",
    "new_contexts, new_rewards = rebalance_arms_between_regions(\n",
    "    contexts=new_contexts,\n",
    "    rewards=new_rewards,\n",
    "    arm_1=0, \n",
    "    arm_2=1,\n",
    "    region_1=3, \n",
    "    region_2=1,\n",
    "    percentage=0.7,\n",
    ")\n",
    "\n",
    "\n",
    "new_contexts, new_rewards = rebalance_arms_between_regions(\n",
    "    contexts=new_contexts,\n",
    "    rewards=new_rewards,\n",
    "    arm_1=0, \n",
    "    arm_2=2,\n",
    "    region_1=2, \n",
    "    region_2=3,\n",
    "    percentage=0.7,\n",
    ")\n",
    "\n",
    "new_contexts, new_rewards = rebalance_arms_between_regions(\n",
    "    contexts=new_contexts,\n",
    "    rewards=new_rewards,\n",
    "    arm_1=0, \n",
    "    arm_2=1,\n",
    "    region_1=2, \n",
    "    region_2=4,\n",
    "    percentage=0.8,\n",
    ")\n",
    "\n"
   ]
  },
  {
   "cell_type": "code",
   "execution_count": null,
   "id": "2c9fbb4f",
   "metadata": {},
   "outputs": [],
   "source": []
  },
  {
   "cell_type": "markdown",
   "id": "b7a1b5cc",
   "metadata": {},
   "source": [
    "## Plot expected reward after row exchanges"
   ]
  },
  {
   "cell_type": "code",
   "execution_count": 19,
   "id": "eed73cdd",
   "metadata": {},
   "outputs": [],
   "source": [
    "# compute mean rewards\n",
    "mean_rewards = np.zeros(new_rewards.shape)\n",
    "for i, region in enumerate(stationarity_regions):\n",
    "    for arm_from in range(n_arms):\n",
    "        # For plotting\n",
    "        mean_rewards[region, arm_from] = (\n",
    "            np.ones(new_rewards[region, arm_from].shape) * np.mean(new_rewards[region, arm_from])\n",
    "        )"
   ]
  },
  {
   "cell_type": "code",
   "execution_count": 20,
   "id": "11a15ebc",
   "metadata": {},
   "outputs": [
    {
     "data": {
      "image/png": "[encoded data removed]",
      "text/plain": [
       "<Figure size 792x360 with 1 Axes>"
      ]
     },
     "metadata": {
      "needs_background": "light"
     },
     "output_type": "display_data"
    }
   ],
   "source": [
    "fig, ax = plt.subplots(1,1, figsize=(11,5))\n",
    "for arm in range(n_arms):\n",
    "    expected_gain = BETA * mean_rewards[:, arm] \n",
    "    ax.plot(expected_gain, label=f\"Arm {arm}\", linestyle=':', linewidth=5)\n",
    "#     print(f\"Min expected reward for arm {arm}: {min(expected_gain)}\")\n",
    "    \n",
    "extraticks = change_point_values\n",
    "plt.xticks(extraticks, rotation=35, fontsize=16)\n",
    "plt.yticks(fontsize=16)\n",
    "\n",
    "ax.set_xlabel('Time step', fontsize=20)\n",
    "ax.set_ylabel(fr\"($\\beta$={BETA}) * Mean reward\", fontsize=20)\n",
    "\n",
    "lgd = ax.legend(loc=9, ncol=5, bbox_to_anchor=(0.5, 1.132), prop={'size': 15})\n",
    "plt.show()"
   ]
  },
  {
   "cell_type": "markdown",
   "id": "e8bcd307",
   "metadata": {},
   "source": [
    "## Validate the row exchange\n",
    "\n",
    "Validate that no rows disappeared and now new rows appeared."
   ]
  },
  {
   "cell_type": "code",
   "execution_count": 21,
   "id": "ff036825",
   "metadata": {},
   "outputs": [],
   "source": [
    "assert (np.sort(nonstationary_contexts, axis=0) == np.sort(new_contexts, axis=0)).all()"
   ]
  },
  {
   "cell_type": "code",
   "execution_count": 22,
   "id": "702847fc",
   "metadata": {},
   "outputs": [],
   "source": [
    "assert (np.sort(nonstationary_rewards, axis=0) == np.sort(new_rewards, axis=0)).all()"
   ]
  },
  {
   "cell_type": "markdown",
   "id": "bc043c4b",
   "metadata": {},
   "source": [
    "### Non-stationarity in costs"
   ]
  },
  {
   "cell_type": "code",
   "execution_count": 23,
   "id": "148dbc91",
   "metadata": {},
   "outputs": [],
   "source": [
    "np.random.seed(42)"
   ]
  },
  {
   "cell_type": "code",
   "execution_count": 24,
   "id": "a96b928e",
   "metadata": {},
   "outputs": [],
   "source": [
    "cost_change_points = [3000, 5000, 7000, 9000]\n",
    "interval_count = len(cost_change_points) + 1"
   ]
  },
  {
   "cell_type": "code",
   "execution_count": 25,
   "id": "6d042946",
   "metadata": {},
   "outputs": [],
   "source": [
    "cost_means_range = [0.03, 0.08]"
   ]
  },
  {
   "cell_type": "code",
   "execution_count": 26,
   "id": "7723b621",
   "metadata": {},
   "outputs": [],
   "source": [
    "COSTS_RANGE_SIZE = cost_means_range[1] - cost_means_range[0]"
   ]
  },
  {
   "cell_type": "code",
   "execution_count": 27,
   "id": "7b4ce894",
   "metadata": {},
   "outputs": [],
   "source": [
    "# Mean of gaussian distribution random in interval [0, 0.02] \n",
    "interval_means = [\n",
    "    np.random.uniform(\n",
    "        cost_means_range[0], cost_means_range[1], size=(new_contexts.shape[1],)\n",
    "    ) for i in range(interval_count)\n",
    "]"
   ]
  },
  {
   "cell_type": "code",
   "execution_count": 28,
   "id": "d801df91",
   "metadata": {},
   "outputs": [
    {
     "data": {
      "text/plain": [
       "[array([0.04872701, 0.07753572, 0.0665997 , 0.05993292, 0.03780093]),\n",
       " array([0.03779973, 0.03290418, 0.07330881, 0.06005575, 0.06540363]),\n",
       " array([0.03102922, 0.07849549, 0.07162213, 0.04061696, 0.03909125]),\n",
       " array([0.03917023, 0.04521211, 0.05623782, 0.05159725, 0.04456146]),\n",
       " array([0.06059264, 0.03697469, 0.04460723, 0.04831809, 0.0528035 ])]"
      ]
     },
     "execution_count": 28,
     "metadata": {},
     "output_type": "execute_result"
    }
   ],
   "source": [
    "interval_means"
   ]
  },
  {
   "cell_type": "code",
   "execution_count": 29,
   "id": "59ba2ffd",
   "metadata": {},
   "outputs": [],
   "source": [
    "# Fixed std\n",
    "interval_stds = [[0.001]*new_contexts.shape[1]]*interval_count"
   ]
  },
  {
   "cell_type": "code",
   "execution_count": 30,
   "id": "28de8f86",
   "metadata": {},
   "outputs": [],
   "source": [
    "def get_costs():\n",
    "    return costs.NonstationaryGaussianCosts(\n",
    "        feature_vector_size=new_contexts.shape[1],\n",
    "        change_points=cost_change_points,\n",
    "        interval_means=interval_means,\n",
    "        interval_stds=interval_stds,\n",
    "        random_seed=42,\n",
    "    )\n",
    "    "
   ]
  },
  {
   "cell_type": "code",
   "execution_count": 31,
   "id": "3ac89d71",
   "metadata": {},
   "outputs": [
    {
     "data": {
      "image/png": "[encoded data removed]",
      "text/plain": [
       "<Figure size 1080x576 with 1 Axes>"
      ]
     },
     "execution_count": 31,
     "metadata": {},
     "output_type": "execute_result"
    }
   ],
   "source": [
    "plot_costs(get_costs(), new_contexts.shape[0])"
   ]
  },
  {
   "cell_type": "code",
   "execution_count": 32,
   "id": "65bd80bc",
   "metadata": {},
   "outputs": [],
   "source": [
    "costs_obj = get_costs()"
   ]
  },
  {
   "cell_type": "code",
   "execution_count": 33,
   "id": "40ccb3da",
   "metadata": {},
   "outputs": [],
   "source": [
    "costs_vector = []\n",
    "for t in range(new_contexts.shape[0]):\n",
    "    costs_at_t = np.array(costs_obj.get_separate_costs(trial=t))\n",
    "    costs_vector.append(costs_at_t)\n",
    "\n",
    "costs_vector = np.stack(costs_vector)"
   ]
  },
  {
   "cell_type": "code",
   "execution_count": 34,
   "id": "ca8fc603",
   "metadata": {},
   "outputs": [
    {
     "data": {
      "text/plain": [
       "(10000, 5)"
      ]
     },
     "execution_count": 34,
     "metadata": {},
     "output_type": "execute_result"
    }
   ],
   "source": [
    "costs_vector.shape"
   ]
  },
  {
   "cell_type": "markdown",
   "id": "016f4a8e",
   "metadata": {},
   "source": [
    "## Save mean costs for plotting"
   ]
  },
  {
   "cell_type": "code",
   "execution_count": 35,
   "id": "8903ba84",
   "metadata": {},
   "outputs": [],
   "source": [
    "full_cost_change_points = [0] + cost_change_points + [new_contexts.shape[0]]\n",
    "cost_stationarity_regions = []\n",
    "for a, b in zip(full_cost_change_points, full_cost_change_points[1:]):\n",
    "    cost_stationarity_regions.append(slice(a,b))"
   ]
  },
  {
   "cell_type": "code",
   "execution_count": 36,
   "id": "a07e0ed7",
   "metadata": {},
   "outputs": [],
   "source": [
    "mean_costs = np.zeros(costs_vector.shape)\n",
    "for i, region in enumerate(cost_stationarity_regions):\n",
    "    for feature in range(new_contexts.shape[1]):\n",
    "        \n",
    "        # For plotting\n",
    "        mean_costs[region, feature] = (\n",
    "            np.ones(costs_vector[region, feature].shape) * interval_means[i][feature]\n",
    "        )"
   ]
  },
  {
   "cell_type": "code",
   "execution_count": 37,
   "id": "f59ebe4d",
   "metadata": {},
   "outputs": [
    {
     "data": {
      "image/png": "[encoded data removed]",
      "text/plain": [
       "<Figure size 792x360 with 1 Axes>"
      ]
     },
     "metadata": {
      "needs_background": "light"
     },
     "output_type": "display_data"
    }
   ],
   "source": [
    "fig, ax = plt.subplots(1,1, figsize=(11,5))\n",
    "for feature in range(new_contexts.shape[1]):\n",
    "    ax.plot(mean_costs[:, feature], label=f\"Feature {feature}\")\n",
    "\n",
    "extraticks = full_cost_change_points\n",
    "plt.xticks(extraticks, rotation=35, fontsize=16)\n",
    "\n",
    "plt.yticks(fontsize=16)\n",
    "\n",
    "ax.set_xlabel('Time step', fontsize=20)\n",
    "ax.set_ylabel(fr\"Mean cost\", fontsize=20)\n",
    "\n",
    "lgd = ax.legend(loc=9, ncol=5, bbox_to_anchor=(0.5, 1.132), prop={'size': 15})\n",
    "\n",
    "plt.show()"
   ]
  },
  {
   "cell_type": "markdown",
   "id": "f2745795",
   "metadata": {},
   "source": [
    "## Plot expected reward minus sum of costs"
   ]
  },
  {
   "cell_type": "code",
   "execution_count": 38,
   "id": "5a1b46fe",
   "metadata": {},
   "outputs": [],
   "source": [
    "all_change_point_values = sorted(list(set(cost_change_points).union(set(change_point_values)) ))"
   ]
  },
  {
   "cell_type": "code",
   "execution_count": 39,
   "id": "4456e039",
   "metadata": {},
   "outputs": [
    {
     "name": "stdout",
     "output_type": "stream",
     "text": [
      "Min expected gain for arm 1: -0.12394781794797932\n",
      "Min expected gain for arm 2: -0.24069385026660228\n",
      "Min expected gain for arm 3: -0.29821225004764745\n"
     ]
    },
    {
     "data": {
      "image/png": "[encoded data removed]",
      "text/plain": [
       "<Figure size 792x360 with 1 Axes>"
      ]
     },
     "metadata": {
      "needs_background": "light"
     },
     "output_type": "display_data"
    }
   ],
   "source": [
    "fig, ax = plt.subplots(1,1, figsize=(11,5))\n",
    "for arm in range(n_arms):\n",
    "    sum_of_costs = np.sum(costs_vector, axis=1)\n",
    "    expected_gain = BETA * mean_rewards[:, arm] - sum_of_costs\n",
    "    ax.plot(expected_gain, label=f\"Arm {arm+1}\", linestyle=':', linewidth=5)\n",
    "    print(f\"Min expected gain for arm {arm+1}: {min(expected_gain)}\")\n",
    "\n",
    "    \n",
    "extraticks = all_change_point_values\n",
    "plt.xticks(extraticks, rotation=35, fontsize=16)\n",
    "\n",
    "plt.yticks(fontsize=16)\n",
    "\n",
    "ax.set_xlabel('Time step', fontsize=20)\n",
    "ax.set_ylabel(fr\"($\\beta$={BETA}) * Mean reward - sum(costs)\", fontsize=20)\n",
    "\n",
    "lgd = ax.legend(loc=9, ncol=5, bbox_to_anchor=(0.5, 1.132), prop={'size': 15})\n",
    "\n",
    "\n",
    "plt.show()\n"
   ]
  },
  {
   "cell_type": "code",
   "execution_count": 40,
   "id": "a02733fd",
   "metadata": {},
   "outputs": [],
   "source": [
    "def plot_gains(gain_dict, reward_change_points=()):\n",
    "    fig, ax = plt.subplots(1,1, figsize=(15,8));\n",
    "        \n",
    "    \n",
    "    \n",
    "    ind_to_params = {\n",
    "        # ind: (mark, color)\n",
    "        0: ('x', 'k'),\n",
    "        1: ('o','g'),\n",
    "        2: ('s','r'),\n",
    "        3: ('^','blue'),\n",
    "        4: ('d','olive'),\n",
    "        5: ('>', 'm'),\n",
    "        6: ('*', 'c'),\n",
    "        7: ('<', 'y'),\n",
    "    }\n",
    "    \n",
    "    sorted_gain_dict = {\n",
    "        k:v for k,v in sorted(gain_dict.items(), key=lambda x: x[1][-1], reverse=True)\n",
    "    }\n",
    "    \n",
    "    \n",
    "    max_vline=0\n",
    "    \n",
    "    for ind, (label, gain) in enumerate(sorted_gain_dict.items()):\n",
    "        \n",
    "        mark, color = ind_to_params[ind]\n",
    "        ax.plot(gain, label=label, linestyle=':', marker=mark, markevery=750, fillstyle='none', color=color)\n",
    "        max_vline=max(max_vline, max(gain))\n",
    "    \n",
    "    plt.vlines(reward_change_points, ymin=0, ymax=max_vline, linestyle=':', alpha=0.4)\n",
    "    \n",
    "    extraticks = all_change_point_values\n",
    "    plt.xticks(extraticks, rotation=35, fontsize=16)\n",
    "    plt.yticks(fontsize=16)\n",
    "    \n",
    "    ax.set_xlabel('Time step', fontsize=20)\n",
    "    ax.set_ylabel('Cumulative gain', fontsize=20)\n",
    "    \n",
    "\n",
    "\n",
    "    plt.legend(prop={'size': 16});\n",
    "    plt.show();"
   ]
  },
  {
   "cell_type": "markdown",
   "id": "110056a5",
   "metadata": {},
   "source": [
    "# Created change points"
   ]
  },
  {
   "cell_type": "code",
   "execution_count": 41,
   "id": "b52b806a",
   "metadata": {},
   "outputs": [
    {
     "data": {
      "text/plain": [
       "[1, 1000, 2000, 5000, 8000, 10000]"
      ]
     },
     "execution_count": 41,
     "metadata": {},
     "output_type": "execute_result"
    }
   ],
   "source": [
    "# Reward changes\n",
    "change_point_values"
   ]
  },
  {
   "cell_type": "code",
   "execution_count": 42,
   "id": "29625086",
   "metadata": {},
   "outputs": [
    {
     "data": {
      "text/plain": [
       "[3000, 5000, 7000, 9000]"
      ]
     },
     "execution_count": 42,
     "metadata": {},
     "output_type": "execute_result"
    }
   ],
   "source": [
    "# Cost changes\n",
    "cost_change_points"
   ]
  },
  {
   "cell_type": "code",
   "execution_count": 43,
   "id": "bfe539ce",
   "metadata": {},
   "outputs": [
    {
     "data": {
      "text/plain": [
       "[1, 1000, 2000, 3000, 5000, 7000, 8000, 9000, 10000]"
      ]
     },
     "execution_count": 43,
     "metadata": {},
     "output_type": "execute_result"
    }
   ],
   "source": [
    "all_change_point_values"
   ]
  },
  {
   "cell_type": "code",
   "execution_count": 44,
   "id": "d8db6a4a",
   "metadata": {},
   "outputs": [],
   "source": [
    "all_stationarity_regions = [(l, r) for l,r in zip(all_change_point_values, all_change_point_values[1:])]\n",
    "N_STATIONARY_PERIODS = len(all_stationarity_regions)"
   ]
  },
  {
   "cell_type": "code",
   "execution_count": 45,
   "id": "c3a6141f",
   "metadata": {},
   "outputs": [
    {
     "data": {
      "text/plain": [
       "[(1, 1000),\n",
       " (1000, 2000),\n",
       " (2000, 3000),\n",
       " (3000, 5000),\n",
       " (5000, 7000),\n",
       " (7000, 8000),\n",
       " (8000, 9000),\n",
       " (9000, 10000)]"
      ]
     },
     "execution_count": 45,
     "metadata": {},
     "output_type": "execute_result"
    }
   ],
   "source": [
    "all_stationarity_regions"
   ]
  },
  {
   "cell_type": "code",
   "execution_count": null,
   "id": "3585331b",
   "metadata": {},
   "outputs": [],
   "source": []
  },
  {
   "cell_type": "markdown",
   "id": "6bdcf893",
   "metadata": {},
   "source": [
    "### Function to get histogram from list of chosen arms"
   ]
  },
  {
   "cell_type": "code",
   "execution_count": 46,
   "id": "8e59a0f1",
   "metadata": {},
   "outputs": [],
   "source": [
    "def get_histograms(arms_list, regions):\n",
    "    arms = np.array(arms_list)\n",
    "    n_arms = len(np.unique(arms))\n",
    "    n_regions = len(regions)\n",
    "    histograms = np.zeros((n_regions, n_arms))\n",
    "    for i, region in enumerate(regions):\n",
    "        arms_in_region = arms[slice(*region)]\n",
    "        region_histogram = np.zeros(n_arms)\n",
    "        for arm in range(n_arms):\n",
    "            region_histogram[arm] = np.count_nonzero(arms_in_region == arm)\n",
    "        histograms[i, :] = region_histogram\n",
    "        \n",
    "    return histograms"
   ]
  },
  {
   "cell_type": "markdown",
   "id": "cd6b31a0",
   "metadata": {},
   "source": [
    "# Running evaluation"
   ]
  },
  {
   "cell_type": "code",
   "execution_count": 47,
   "id": "0cd27080",
   "metadata": {},
   "outputs": [],
   "source": [
    "# Histogram dict for every algorithm. Averaged histograms are saved\n",
    "histograms = {}"
   ]
  },
  {
   "cell_type": "code",
   "execution_count": 48,
   "id": "2fbfaf26",
   "metadata": {},
   "outputs": [],
   "source": [
    "NUM_OF_TRIALS = all_contexts.shape[0]\n",
    "NUM_REPETITIONS = 5\n",
    "N_ARMS = all_rewards.shape[1]"
   ]
  },
  {
   "cell_type": "code",
   "execution_count": 49,
   "id": "93422c03",
   "metadata": {
    "scrolled": true
   },
   "outputs": [
    {
     "name": "stdout",
     "output_type": "stream",
     "text": [
      "Random policy\n",
      "Beta = 1\n",
      "Total gain: 3364.0\n",
      "\tTotal reward: 3364.0\n",
      "\tTotal cost: 0\n",
      "Execution time: 0.1s\n",
      "Random policy\n",
      "Beta = 1\n",
      "Total gain: 3333.0\n",
      "\tTotal reward: 3333.0\n",
      "\tTotal cost: 0\n",
      "Execution time: 0.0s\n",
      "Random policy\n",
      "Beta = 1\n",
      "Total gain: 3284.0\n",
      "\tTotal reward: 3284.0\n",
      "\tTotal cost: 0\n",
      "Execution time: 0.0s\n",
      "Random policy\n",
      "Beta = 1\n",
      "Total gain: 3301.0\n",
      "\tTotal reward: 3301.0\n",
      "\tTotal cost: 0\n",
      "Execution time: 0.0s\n",
      "Random policy\n",
      "Beta = 1\n",
      "Total gain: 3405.0\n",
      "\tTotal reward: 3405.0\n",
      "\tTotal cost: 0\n",
      "Execution time: 0.0s\n",
      "Average gain: 3337.4\n"
     ]
    }
   ],
   "source": [
    "gains_random = np.zeros((NUM_REPETITIONS, NUM_OF_TRIALS))\n",
    "hists = np.zeros((NUM_REPETITIONS, N_STATIONARY_PERIODS, N_ARMS))\n",
    "\n",
    "for i in range(NUM_REPETITIONS):\n",
    "    p_random = algorithms.RandomPolicy()\n",
    "    gain_random, _, _, arms_random = evaluation.evaluate_on_synthetic_data(\n",
    "        p_random,\n",
    "        new_contexts,\n",
    "        new_rewards,\n",
    "        costs_vector,\n",
    "        beta=BETA,\n",
    "        stop_after=NUM_OF_TRIALS,\n",
    "        return_full=True,\n",
    "    )\n",
    "    gains_random[i, :] = gain_random\n",
    "    hists[i, :, :] = get_histograms(arms_random, all_stationarity_regions)\n",
    "    \n",
    "histograms['Random'] = np.mean(hists, axis=0)\n",
    "gain_random = np.mean(gains_random, axis=0)\n",
    "print(f\"Average gain: {gain_random[-1]}\")"
   ]
  },
  {
   "cell_type": "code",
   "execution_count": 50,
   "id": "1b2522d9",
   "metadata": {
    "scrolled": true
   },
   "outputs": [
    {
     "name": "stdout",
     "output_type": "stream",
     "text": [
      "E-greedy(epsilon=0.03)\n",
      "Beta = 1\n",
      "Total gain: 3796.0\n",
      "\tTotal reward: 3796.0\n",
      "\tTotal cost: 0\n",
      "Execution time: 0.1s\n",
      "E-greedy(epsilon=0.03)\n",
      "Beta = 1\n",
      "Total gain: 3816.0\n",
      "\tTotal reward: 3816.0\n",
      "\tTotal cost: 0\n",
      "Execution time: 0.1s\n",
      "E-greedy(epsilon=0.03)\n",
      "Beta = 1\n",
      "Total gain: 4161.0\n",
      "\tTotal reward: 4161.0\n",
      "\tTotal cost: 0\n",
      "Execution time: 0.1s\n",
      "E-greedy(epsilon=0.03)\n",
      "Beta = 1\n",
      "Total gain: 3720.0\n",
      "\tTotal reward: 3720.0\n",
      "\tTotal cost: 0\n",
      "Execution time: 0.1s\n",
      "E-greedy(epsilon=0.03)\n",
      "Beta = 1\n",
      "Total gain: 3427.0\n",
      "\tTotal reward: 3427.0\n",
      "\tTotal cost: 0\n",
      "Execution time: 0.1s\n",
      "Average gain: 3784.0\n"
     ]
    }
   ],
   "source": [
    "gains_egreedy = np.zeros((NUM_REPETITIONS, NUM_OF_TRIALS))\n",
    "hists = np.zeros((NUM_REPETITIONS, N_STATIONARY_PERIODS, N_ARMS))\n",
    "\n",
    "for i in range(NUM_REPETITIONS):\n",
    "    egreedy = algorithms.EpsilonGreedy(epsilon=0.03, n_arms=new_rewards.shape[1])\n",
    "\n",
    "    gain_egreedy, _, _, arms_egreedy = evaluation.evaluate_on_synthetic_data(\n",
    "        egreedy,\n",
    "        new_contexts,\n",
    "        new_rewards,\n",
    "        costs_vector,\n",
    "        beta=BETA,\n",
    "        stop_after=NUM_OF_TRIALS,\n",
    "        return_full=True,\n",
    "    )\n",
    "    gains_egreedy[i, :] = gain_egreedy\n",
    "    hists[i, :, :] = get_histograms(arms_egreedy, all_stationarity_regions)\n",
    "    \n",
    "histograms['E-greedy'] = np.mean(hists, axis=0)\n",
    "gain_egreedy = np.mean(gains_egreedy, axis=0)\n",
    "print(f\"Average gain: {gain_egreedy[-1]}\")"
   ]
  },
  {
   "cell_type": "code",
   "execution_count": 51,
   "id": "674f8082",
   "metadata": {
    "scrolled": true
   },
   "outputs": [
    {
     "name": "stdout",
     "output_type": "stream",
     "text": [
      "UCB1 (α=0.6)\n",
      "Beta = 1\n",
      "Total gain: 5809.0\n",
      "\tTotal reward: 5809.0\n",
      "\tTotal cost: 0\n",
      "Execution time: 0.1s\n",
      "UCB1 (α=0.6)\n",
      "Beta = 1\n",
      "Total gain: 5809.0\n",
      "\tTotal reward: 5809.0\n",
      "\tTotal cost: 0\n",
      "Execution time: 0.1s\n",
      "UCB1 (α=0.6)\n",
      "Beta = 1\n",
      "Total gain: 5809.0\n",
      "\tTotal reward: 5809.0\n",
      "\tTotal cost: 0\n",
      "Execution time: 0.1s\n",
      "UCB1 (α=0.6)\n",
      "Beta = 1\n",
      "Total gain: 5809.0\n",
      "\tTotal reward: 5809.0\n",
      "\tTotal cost: 0\n",
      "Execution time: 0.1s\n",
      "UCB1 (α=0.6)\n",
      "Beta = 1\n",
      "Total gain: 5809.0\n",
      "\tTotal reward: 5809.0\n",
      "\tTotal cost: 0\n",
      "Execution time: 0.1s\n",
      "Average gain: 5809.0\n"
     ]
    }
   ],
   "source": [
    "gains_ucb = np.zeros((NUM_REPETITIONS, NUM_OF_TRIALS))\n",
    "hists = np.zeros((NUM_REPETITIONS, N_STATIONARY_PERIODS, N_ARMS))\n",
    "\n",
    "for i in range(NUM_REPETITIONS):\n",
    "\n",
    "    ucb_alg = algorithms.UCB1(\n",
    "            n_trials=NUM_OF_TRIALS,\n",
    "            n_arms=new_rewards.shape[1],\n",
    "            alpha=0.6,\n",
    "        )\n",
    "\n",
    "    gain_ucb, _, _, arms_ucb = evaluation.evaluate_on_synthetic_data(\n",
    "        ucb_alg,\n",
    "        new_contexts,\n",
    "        new_rewards,\n",
    "        costs_vector,\n",
    "        beta=BETA,\n",
    "        stop_after=NUM_OF_TRIALS,\n",
    "        return_full=True,\n",
    "    )\n",
    "    gains_ucb[i, :] = gain_ucb\n",
    "    hists[i, :, :] = get_histograms(arms_ucb, all_stationarity_regions)\n",
    "\n",
    "histograms['UCB1'] = np.mean(hists, axis=0)\n",
    "gain_ucb = np.mean(gains_ucb, axis=0)\n",
    "print(f\"Average gain: {gain_ucb[-1]}\")"
   ]
  },
  {
   "cell_type": "code",
   "execution_count": 52,
   "id": "1fcf6125",
   "metadata": {
    "scrolled": true
   },
   "outputs": [
    {
     "name": "stdout",
     "output_type": "stream",
     "text": [
      "LinUCB (alpha=0.5)\n",
      "Beta = 1\n",
      "Total gain: 4354.682208247001\n",
      "\tTotal reward: 7004.0\n",
      "\tTotal cost: 2649.317791753\n",
      "Execution time: 0.3s\n",
      "LinUCB (alpha=0.5)\n",
      "Beta = 1\n",
      "Total gain: 4354.682208247001\n",
      "\tTotal reward: 7004.0\n",
      "\tTotal cost: 2649.317791753\n",
      "Execution time: 0.3s\n",
      "LinUCB (alpha=0.5)\n",
      "Beta = 1\n",
      "Total gain: 4354.682208247001\n",
      "\tTotal reward: 7004.0\n",
      "\tTotal cost: 2649.317791753\n",
      "Execution time: 0.3s\n",
      "LinUCB (alpha=0.5)\n",
      "Beta = 1\n",
      "Total gain: 4354.682208247001\n",
      "\tTotal reward: 7004.0\n",
      "\tTotal cost: 2649.317791753\n",
      "Execution time: 0.4s\n",
      "LinUCB (alpha=0.5)\n",
      "Beta = 1\n",
      "Total gain: 4354.682208247001\n",
      "\tTotal reward: 7004.0\n",
      "\tTotal cost: 2649.317791753\n",
      "Execution time: 0.4s\n",
      "Average gain: 4354.682208247001\n"
     ]
    }
   ],
   "source": [
    "gains_linucb = np.zeros((NUM_REPETITIONS, NUM_OF_TRIALS))\n",
    "hists = np.zeros((NUM_REPETITIONS, N_STATIONARY_PERIODS, N_ARMS))\n",
    "\n",
    "for i in range(NUM_REPETITIONS):\n",
    "\n",
    "    linucb = algorithms.LinUCB(\n",
    "        n_trials=NUM_OF_TRIALS,\n",
    "        context_dimension=new_contexts.shape[1],\n",
    "        n_arms=new_rewards.shape[1],\n",
    "        alpha=0.5,\n",
    "    )\n",
    "    gain_linucb, _, _, arms_linucb = evaluation.evaluate_on_synthetic_data(\n",
    "        linucb,\n",
    "        new_contexts,\n",
    "        new_rewards,\n",
    "        costs_vector,\n",
    "        beta=BETA,\n",
    "        stop_after=NUM_OF_TRIALS,\n",
    "        return_full=True,\n",
    "    )\n",
    "    gains_linucb[i, :] = gain_linucb\n",
    "    hists[i, :, :] = get_histograms(arms_linucb, all_stationarity_regions)\n",
    "    \n",
    "histograms['LinUCB'] = np.mean(hists, axis=0)\n",
    "gain_linucb = np.mean(gains_linucb, axis=0)\n",
    "print(f\"Average gain: {gain_linucb[-1]}\")"
   ]
  },
  {
   "cell_type": "code",
   "execution_count": 53,
   "id": "1c6ea25f",
   "metadata": {
    "scrolled": true
   },
   "outputs": [
    {
     "name": "stdout",
     "output_type": "stream",
     "text": [
      "PSLinUCB (alpha=0.7, omega=100, delta=0.05)\n",
      "Beta = 1\n",
      "Total gain: 5742.682208246992\n",
      "\tTotal reward: 8392.0\n",
      "\tTotal cost: 2649.317791753\n",
      "Execution time: 0.6s\n",
      "PSLinUCB (alpha=0.7, omega=100, delta=0.05)\n",
      "Beta = 1\n",
      "Total gain: 5742.682208246992\n",
      "\tTotal reward: 8392.0\n",
      "\tTotal cost: 2649.317791753\n",
      "Execution time: 0.5s\n",
      "PSLinUCB (alpha=0.7, omega=100, delta=0.05)\n",
      "Beta = 1\n",
      "Total gain: 5742.682208246992\n",
      "\tTotal reward: 8392.0\n",
      "\tTotal cost: 2649.317791753\n",
      "Execution time: 0.6s\n",
      "PSLinUCB (alpha=0.7, omega=100, delta=0.05)\n",
      "Beta = 1\n",
      "Total gain: 5742.682208246992\n",
      "\tTotal reward: 8392.0\n",
      "\tTotal cost: 2649.317791753\n",
      "Execution time: 0.5s\n",
      "PSLinUCB (alpha=0.7, omega=100, delta=0.05)\n",
      "Beta = 1\n",
      "Total gain: 5742.682208246992\n",
      "\tTotal reward: 8392.0\n",
      "\tTotal cost: 2649.317791753\n",
      "Execution time: 0.5s\n",
      "Average gain: 5742.682208246992\n"
     ]
    }
   ],
   "source": [
    "gains_pslinucb = np.zeros((NUM_REPETITIONS, NUM_OF_TRIALS))\n",
    "hists = np.zeros((NUM_REPETITIONS, N_STATIONARY_PERIODS, N_ARMS))\n",
    "\n",
    "for i in range(NUM_REPETITIONS):\n",
    "\n",
    "    ps_linucb = algorithms.PSLinUCB(\n",
    "        n_trials=NUM_OF_TRIALS,\n",
    "        context_dimension=new_contexts.shape[1],\n",
    "        n_arms=new_rewards.shape[1],\n",
    "        alpha=0.7,\n",
    "        omega=100,\n",
    "        delta=0.05,\n",
    "    )\n",
    "\n",
    "\n",
    "    gain_pslinucb, _, _, arms_pslinucb = evaluation.evaluate_on_synthetic_data(\n",
    "        ps_linucb,\n",
    "        new_contexts,\n",
    "        new_rewards,\n",
    "        costs_vector,\n",
    "        beta=BETA,\n",
    "        stop_after=NUM_OF_TRIALS,\n",
    "        return_full=True,\n",
    "    )\n",
    "    gains_pslinucb[i, :] = gain_pslinucb\n",
    "    hists[i, :, :] = get_histograms(arms_pslinucb, all_stationarity_regions)\n",
    "    \n",
    "histograms['PSLinUCB'] = np.mean(hists, axis=0)\n",
    "gain_pslinucb = np.mean(gains_pslinucb, axis=0)\n",
    "print(f\"Average gain: {gain_pslinucb[-1]}\")"
   ]
  },
  {
   "cell_type": "code",
   "execution_count": 54,
   "id": "dd2e010e",
   "metadata": {
    "scrolled": true
   },
   "outputs": [
    {
     "name": "stdout",
     "output_type": "stream",
     "text": [
      "Took 0.0022020339965820312 seconds\n",
      "Trial 0, time 2022-06-15 13:33:52.984904\n",
      "Trial 500, time 2022-06-15 13:34:04.645191\n",
      "Trial 1000, time 2022-06-15 13:34:13.315062\n",
      "Trial 1500, time 2022-06-15 13:34:19.547283\n",
      "Trial 2000, time 2022-06-15 13:34:25.078223\n",
      "Trial 2500, time 2022-06-15 13:34:38.740593\n",
      "Trial 3000, time 2022-06-15 13:34:43.302146\n",
      "Trial 3500, time 2022-06-15 13:35:01.833259\n",
      "Trial 4000, time 2022-06-15 13:35:19.118298\n",
      "Trial 4500, time 2022-06-15 13:35:23.237786\n",
      "Trial 5000, time 2022-06-15 13:35:23.941293\n",
      "Trial 5500, time 2022-06-15 13:35:25.045210\n",
      "Trial 6000, time 2022-06-15 13:35:25.475700\n",
      "Trial 6500, time 2022-06-15 13:35:25.810455\n",
      "Trial 7000, time 2022-06-15 13:35:26.052503\n",
      "Trial 7500, time 2022-06-15 13:35:26.194553\n",
      "Trial 8000, time 2022-06-15 13:35:26.432588\n",
      "Trial 8500, time 2022-06-15 13:35:26.575118\n",
      "Trial 9000, time 2022-06-15 13:35:26.722391\n",
      "Trial 9500, time 2022-06-15 13:35:27.716932\n",
      "SimOOS (beta=1, delta=0.8)\n",
      "Beta = 1\n",
      "Total gain: 4048.5069226328087\n",
      "\tTotal reward: 5700.0\n",
      "\tTotal cost: 1651.4930773671927\n",
      "Execution time: 1.6m\n",
      "Took 96.09108090400696 seconds\n",
      "Took 0.0014290809631347656 seconds\n",
      "Trial 0, time 2022-06-15 13:35:29.078353\n",
      "Trial 500, time 2022-06-15 13:35:39.352655\n",
      "Trial 1000, time 2022-06-15 13:35:46.164844\n",
      "Trial 1500, time 2022-06-15 13:35:52.896284\n",
      "Trial 2000, time 2022-06-15 13:35:55.314718\n",
      "Trial 2500, time 2022-06-15 13:36:01.373884\n",
      "Trial 3000, time 2022-06-15 13:36:13.110327\n",
      "Trial 3500, time 2022-06-15 13:36:15.952204\n",
      "Trial 4000, time 2022-06-15 13:36:19.274581\n",
      "Trial 4500, time 2022-06-15 13:36:26.990277\n",
      "Trial 5000, time 2022-06-15 13:36:28.029557\n",
      "Trial 5500, time 2022-06-15 13:36:28.982605\n",
      "Trial 6000, time 2022-06-15 13:36:29.474636\n",
      "Trial 6500, time 2022-06-15 13:36:32.514389\n",
      "Trial 7000, time 2022-06-15 13:36:33.292658\n",
      "Trial 7500, time 2022-06-15 13:36:33.977556\n",
      "Trial 8000, time 2022-06-15 13:36:34.941585\n",
      "Trial 8500, time 2022-06-15 13:36:36.273268\n",
      "Trial 9000, time 2022-06-15 13:36:36.858926\n",
      "Trial 9500, time 2022-06-15 13:36:39.183575\n",
      "SimOOS (beta=1, delta=0.8)\n",
      "Beta = 1\n",
      "Total gain: 3334.145743936097\n",
      "\tTotal reward: 4671.0\n",
      "\tTotal cost: 1336.854256063901\n",
      "Execution time: 1.2m\n",
      "Took 71.89932799339294 seconds\n",
      "Took 0.001461029052734375 seconds\n",
      "Trial 0, time 2022-06-15 13:36:40.980113\n",
      "Trial 500, time 2022-06-15 13:36:51.789070\n",
      "Trial 1000, time 2022-06-15 13:37:12.530303\n",
      "Trial 1500, time 2022-06-15 13:37:21.863121\n",
      "Trial 2000, time 2022-06-15 13:37:23.800121\n",
      "Trial 2500, time 2022-06-15 13:37:25.532438\n",
      "Trial 3000, time 2022-06-15 13:37:44.495436\n",
      "Trial 3500, time 2022-06-15 13:37:48.760609\n",
      "Trial 4000, time 2022-06-15 13:37:49.696907\n",
      "Trial 4500, time 2022-06-15 13:37:50.482408\n",
      "Trial 5000, time 2022-06-15 13:37:50.891982\n",
      "Trial 5500, time 2022-06-15 13:37:51.712796\n",
      "Trial 6000, time 2022-06-15 13:37:55.197722\n",
      "Trial 6500, time 2022-06-15 13:37:59.537262\n",
      "Trial 7000, time 2022-06-15 13:38:00.807949\n",
      "Trial 7500, time 2022-06-15 13:38:09.490517\n",
      "Trial 8000, time 2022-06-15 13:38:11.633552\n",
      "Trial 8500, time 2022-06-15 13:38:12.516902\n",
      "Trial 9000, time 2022-06-15 13:38:13.111435\n",
      "Trial 9500, time 2022-06-15 13:38:14.379085\n",
      "SimOOS (beta=1, delta=0.8)\n",
      "Beta = 1\n",
      "Total gain: 4048.752068496856\n",
      "\tTotal reward: 5468.0\n",
      "\tTotal cost: 1419.2479315031476\n",
      "Execution time: 1.6m\n",
      "Took 95.34859013557434 seconds\n",
      "Took 0.0015380382537841797 seconds\n",
      "Trial 0, time 2022-06-15 13:38:16.332017\n",
      "Trial 500, time 2022-06-15 13:38:26.727904\n",
      "Trial 1000, time 2022-06-15 13:38:34.968579\n",
      "Trial 1500, time 2022-06-15 13:38:50.611633\n",
      "Trial 2000, time 2022-06-15 13:38:58.585157\n",
      "Trial 2500, time 2022-06-15 13:39:00.025476\n",
      "Trial 3000, time 2022-06-15 13:39:02.593708\n",
      "Trial 3500, time 2022-06-15 13:39:15.798867\n",
      "Trial 4000, time 2022-06-15 13:39:19.825245\n",
      "Trial 4500, time 2022-06-15 13:39:20.515554\n",
      "Trial 5000, time 2022-06-15 13:39:20.825616\n",
      "Trial 5500, time 2022-06-15 13:39:22.646357\n",
      "Trial 6000, time 2022-06-15 13:39:27.885593\n",
      "Trial 6500, time 2022-06-15 13:39:35.601167\n",
      "Trial 7000, time 2022-06-15 13:39:36.291372\n",
      "Trial 7500, time 2022-06-15 13:39:37.261867\n",
      "Trial 8000, time 2022-06-15 13:39:38.423114\n",
      "Trial 8500, time 2022-06-15 13:39:44.980566\n",
      "Trial 9000, time 2022-06-15 13:39:49.081374\n",
      "Trial 9500, time 2022-06-15 13:39:50.511104\n",
      "SimOOS (beta=1, delta=0.8)\n",
      "Beta = 1\n",
      "Total gain: 3906.366619705739\n",
      "\tTotal reward: 5224.0\n",
      "\tTotal cost: 1317.633380294263\n",
      "Execution time: 1.6m\n",
      "Took 95.61584091186523 seconds\n",
      "Took 0.0014729499816894531 seconds\n",
      "Trial 0, time 2022-06-15 13:39:51.950258\n",
      "Trial 500, time 2022-06-15 13:40:06.867024\n",
      "Trial 1000, time 2022-06-15 13:40:09.773529\n",
      "Trial 1500, time 2022-06-15 13:40:10.171328\n",
      "Trial 2000, time 2022-06-15 13:40:19.996717\n",
      "Trial 2500, time 2022-06-15 13:40:29.391766\n",
      "Trial 3000, time 2022-06-15 13:40:43.656551\n",
      "Trial 3500, time 2022-06-15 13:40:44.062570\n",
      "Trial 4000, time 2022-06-15 13:40:44.467096\n",
      "Trial 4500, time 2022-06-15 13:40:45.059796\n",
      "Trial 5000, time 2022-06-15 13:40:45.954354\n",
      "Trial 5500, time 2022-06-15 13:40:53.249198\n",
      "Trial 6000, time 2022-06-15 13:41:01.657959\n",
      "Trial 6500, time 2022-06-15 13:41:02.420276\n",
      "Trial 7000, time 2022-06-15 13:41:02.853272\n",
      "Trial 7500, time 2022-06-15 13:41:03.069129\n",
      "Trial 8000, time 2022-06-15 13:41:03.286368\n",
      "Trial 8500, time 2022-06-15 13:41:03.702043\n",
      "Trial 9000, time 2022-06-15 13:41:24.454537\n",
      "Trial 9500, time 2022-06-15 13:41:32.132503\n",
      "SimOOS (beta=1, delta=0.8)\n",
      "Beta = 1\n",
      "Total gain: 5677.939343940132\n",
      "\tTotal reward: 7208.0\n",
      "\tTotal cost: 1530.060656059855\n",
      "Execution time: 1.7m\n",
      "Took 100.97932195663452 seconds\n",
      "Average gain: 4203.142139742326\n"
     ]
    }
   ],
   "source": [
    "gains_simoos = np.zeros((NUM_REPETITIONS, NUM_OF_TRIALS))\n",
    "hists = np.zeros((NUM_REPETITIONS, N_STATIONARY_PERIODS, N_ARMS))\n",
    "\n",
    "for i in range(NUM_REPETITIONS):\n",
    "\n",
    "    s = time.time()\n",
    "    p_simoos = algorithms.SimOOSAlgorithm(\n",
    "        all_contexts=new_contexts, \n",
    "        number_of_actions=new_rewards.shape[1],\n",
    "        max_no_red_context=new_contexts.shape[1],\n",
    "        beta_SimOOS=BETA,\n",
    "        delta_SimOOS=0.8,\n",
    "    )\n",
    "    print(f\"Took {time.time() - s} seconds\")\n",
    "\n",
    "    import warnings\n",
    "    with warnings.catch_warnings():\n",
    "        warnings.simplefilter(\"ignore\")\n",
    "        s = time.time()\n",
    "        gain_simoos, _, _, arms_simoos = evaluation.evaluate_on_synthetic_data(\n",
    "            p_simoos,\n",
    "            new_contexts[:NUM_OF_TRIALS],\n",
    "            new_rewards[:NUM_OF_TRIALS],\n",
    "            costs_vector[:NUM_OF_TRIALS],\n",
    "            beta=BETA,\n",
    "            stop_after=NUM_OF_TRIALS,\n",
    "            return_full=True,\n",
    "        )\n",
    "        print(f\"Took {time.time() - s} seconds\")\n",
    "    gains_simoos[i, :] = gain_simoos\n",
    "    hists[i, :, :] = get_histograms(arms_simoos, all_stationarity_regions)\n",
    "    \n",
    "histograms['SimOOS'] = np.mean(hists, axis=0)\n",
    "gain_simoos = np.mean(gains_simoos, axis=0)\n",
    "print(f\"Average gain: {gain_simoos[-1]}\")"
   ]
  },
  {
   "cell_type": "code",
   "execution_count": null,
   "id": "b6c231e6",
   "metadata": {},
   "outputs": [],
   "source": []
  },
  {
   "cell_type": "code",
   "execution_count": null,
   "id": "087087e0",
   "metadata": {},
   "outputs": [],
   "source": []
  },
  {
   "cell_type": "code",
   "execution_count": 55,
   "id": "8fdfc347",
   "metadata": {
    "scrolled": true
   },
   "outputs": [
    {
     "name": "stdout",
     "output_type": "stream",
     "text": [
      "Took 0.0016541481018066406 seconds\n",
      "Round 0, time 2022-06-15 13:41:32.977099\n",
      "Round 500, time 2022-06-15 13:42:36.234214\n",
      "Round 1000, time 2022-06-15 13:43:44.822747\n",
      "Round 1500, time 2022-06-15 13:44:53.034002\n",
      "Round 2000, time 2022-06-15 13:46:01.153798\n",
      "Round 2500, time 2022-06-15 13:47:09.809062\n",
      "Round 3000, time 2022-06-15 13:48:17.834495\n",
      "Round 3500, time 2022-06-15 13:49:26.888115\n",
      "Round 4000, time 2022-06-15 13:50:35.021572\n",
      "Round 4500, time 2022-06-15 13:51:42.077263\n",
      "Round 5000, time 2022-06-15 13:52:49.821031\n",
      "Round 5500, time 2022-06-15 13:53:57.104891\n",
      "Round 6000, time 2022-06-15 13:55:04.313413\n",
      "Round 6500, time 2022-06-15 13:56:10.928270\n",
      "Round 7000, time 2022-06-15 13:57:18.250521\n",
      "Round 7500, time 2022-06-15 13:58:25.257580\n",
      "Round 8000, time 2022-06-15 13:59:31.961306\n",
      "Round 8500, time 2022-06-15 14:00:39.208128\n",
      "Round 9000, time 2022-06-15 14:01:46.460940\n",
      "Round 9500, time 2022-06-15 14:02:53.464548\n",
      "Algorithm1 (beta=1, delta=0.04, w=250)\n",
      "Beta = 1\n",
      "Total gain: 7490.325501183527\n",
      "\tTotal reward: 8598.0\n",
      "\tTotal cost: 1107.6744988164764\n",
      "Execution time: 22.5m\n",
      "Took 1347.942677974701 seconds\n",
      "Took 0.003997087478637695 seconds\n",
      "Round 0, time 2022-06-15 14:04:00.924217\n",
      "Round 500, time 2022-06-15 14:05:02.738241\n",
      "Round 1000, time 2022-06-15 14:06:09.383474\n",
      "Round 1500, time 2022-06-15 14:07:16.545991\n",
      "Round 2000, time 2022-06-15 14:08:25.191022\n",
      "Round 2500, time 2022-06-15 14:09:32.246083\n",
      "Round 3000, time 2022-06-15 14:10:40.532722\n",
      "Round 3500, time 2022-06-15 14:11:47.692719\n",
      "Round 4000, time 2022-06-15 14:12:54.772100\n",
      "Round 4500, time 2022-06-15 14:14:01.500341\n",
      "Round 5000, time 2022-06-15 14:15:08.566082\n",
      "Round 5500, time 2022-06-15 14:16:15.521041\n",
      "Round 6000, time 2022-06-15 14:17:22.229637\n",
      "Round 6500, time 2022-06-15 14:18:28.891144\n",
      "Round 7000, time 2022-06-15 14:19:35.617079\n",
      "Round 7500, time 2022-06-15 14:20:42.231132\n",
      "Round 8000, time 2022-06-15 14:21:49.895183\n",
      "Round 8500, time 2022-06-15 14:27:53.084413\n",
      "Round 9000, time 2022-06-15 15:40:03.536876\n",
      "Round 9500, time 2022-06-15 15:43:20.120073\n",
      "Algorithm1 (beta=1, delta=0.04, w=250)\n",
      "Beta = 1\n",
      "Total gain: 7640.850540752089\n",
      "\tTotal reward: 8530.0\n",
      "\tTotal cost: 889.149459247919\n",
      "Execution time: 100.4m\n",
      "Took 6025.937165737152 seconds\n",
      "Took 0.004589080810546875 seconds\n",
      "Round 0, time 2022-06-15 15:44:26.868963\n",
      "Round 500, time 2022-06-15 15:45:28.711870\n",
      "Round 1000, time 2022-06-15 15:46:35.311241\n",
      "Round 1500, time 2022-06-15 15:47:42.558218\n",
      "Round 2000, time 2022-06-15 15:48:49.677531\n",
      "Round 2500, time 2022-06-15 15:49:57.183058\n",
      "Round 3000, time 2022-06-15 15:51:04.344560\n",
      "Round 3500, time 2022-06-15 15:52:11.620654\n",
      "Round 4000, time 2022-06-15 15:53:18.682879\n",
      "Round 4500, time 2022-06-15 15:54:26.209896\n",
      "Round 5000, time 2022-06-15 15:55:33.749618\n",
      "Round 5500, time 2022-06-15 15:56:41.621517\n",
      "Round 6000, time 2022-06-15 15:57:49.318965\n",
      "Round 6500, time 2022-06-15 15:58:56.847354\n",
      "Round 7000, time 2022-06-15 16:00:04.500483\n",
      "Round 7500, time 2022-06-15 16:01:11.349040\n",
      "Round 8000, time 2022-06-15 16:02:18.706140\n",
      "Round 8500, time 2022-06-15 16:03:26.225375\n",
      "Round 9000, time 2022-06-15 16:04:33.015081\n",
      "Round 9500, time 2022-06-15 16:05:40.859840\n",
      "Algorithm1 (beta=1, delta=0.04, w=250)\n",
      "Beta = 1\n",
      "Total gain: 7534.242368200914\n",
      "\tTotal reward: 8442.0\n",
      "\tTotal cost: 907.7576317990957\n",
      "Execution time: 22.4m\n",
      "Took 1341.5047070980072 seconds\n",
      "Took 0.005075931549072266 seconds\n",
      "Round 0, time 2022-06-15 16:06:48.380154\n",
      "Round 500, time 2022-06-15 16:07:51.105176\n",
      "Round 1000, time 2022-06-15 16:08:58.282811\n",
      "Round 1500, time 2022-06-15 16:10:06.351772\n",
      "Round 2000, time 2022-06-15 16:11:13.830945\n",
      "Round 2500, time 2022-06-15 16:12:20.948311\n",
      "Round 3000, time 2022-06-15 16:13:28.151760\n",
      "Round 3500, time 2022-06-15 16:14:35.091162\n",
      "Round 4000, time 2022-06-15 16:15:42.326434\n",
      "Round 4500, time 2022-06-15 16:16:49.998843\n",
      "Round 5000, time 2022-06-15 16:17:57.183542\n",
      "Round 5500, time 2022-06-15 16:19:04.729390\n",
      "Round 6000, time 2022-06-15 16:20:12.119671\n",
      "Round 6500, time 2022-06-15 16:21:19.281726\n",
      "Round 7000, time 2022-06-15 16:22:26.465484\n",
      "Round 7500, time 2022-06-15 16:23:33.645414\n",
      "Round 8000, time 2022-06-15 16:24:40.725400\n",
      "Round 8500, time 2022-06-15 16:25:48.124007\n",
      "Round 9000, time 2022-06-15 16:26:55.034708\n",
      "Round 9500, time 2022-06-15 16:28:02.113827\n",
      "Algorithm1 (beta=1, delta=0.04, w=250)\n",
      "Beta = 1\n",
      "Total gain: 6583.9556990952615\n",
      "\tTotal reward: 8053.0\n",
      "\tTotal cost: 1469.044300904728\n",
      "Execution time: 22.3m\n",
      "Took 1340.8722808361053 seconds\n",
      "Took 0.004871845245361328 seconds\n",
      "Round 0, time 2022-06-15 16:29:09.258687\n",
      "Round 500, time 2022-06-15 16:30:11.107175\n",
      "Round 1000, time 2022-06-15 16:31:18.268421\n",
      "Round 1500, time 2022-06-15 16:32:25.650351\n",
      "Round 2000, time 2022-06-15 16:33:32.767623\n",
      "Round 2500, time 2022-06-15 16:34:39.770717\n",
      "Round 3000, time 2022-06-15 16:35:48.631178\n",
      "Round 3500, time 2022-06-15 16:36:57.224770\n",
      "Round 4000, time 2022-06-15 16:38:03.925675\n",
      "Round 4500, time 2022-06-15 16:39:12.331875\n",
      "Round 5000, time 2022-06-15 16:40:20.686737\n",
      "Round 5500, time 2022-06-15 16:41:28.279139\n",
      "Round 6000, time 2022-06-15 16:42:35.140335\n",
      "Round 6500, time 2022-06-15 16:43:41.784071\n",
      "Round 7000, time 2022-06-15 16:44:48.595794\n",
      "Round 7500, time 2022-06-15 16:45:56.025866\n",
      "Round 8000, time 2022-06-15 16:47:03.295023\n",
      "Round 8500, time 2022-06-15 16:48:10.487629\n",
      "Round 9000, time 2022-06-15 16:49:17.891887\n",
      "Round 9500, time 2022-06-15 16:50:25.573177\n",
      "Algorithm1 (beta=1, delta=0.04, w=250)\n",
      "Beta = 1\n",
      "Total gain: 6971.80806641811\n",
      "\tTotal reward: 8391.0\n",
      "\tTotal cost: 1419.1919335818757\n",
      "Execution time: 22.4m\n",
      "Took 1343.4773762226105 seconds\n",
      "Average gain: 7244.236435129981\n"
     ]
    }
   ],
   "source": [
    "gains_alg1 = np.zeros((NUM_REPETITIONS, NUM_OF_TRIALS))\n",
    "hists = np.zeros((NUM_REPETITIONS, N_STATIONARY_PERIODS, N_ARMS))\n",
    "\n",
    "for i in range(NUM_REPETITIONS):\n",
    "\n",
    "    s = time.time()\n",
    "    p_alg1 = algorithms.Algorithm1(\n",
    "        all_contexts=new_contexts, \n",
    "        number_of_actions=new_rewards.shape[1],\n",
    "        max_no_red_context=new_contexts.shape[1],\n",
    "        beta=BETA,\n",
    "        delta=0.04,\n",
    "        window_length=250,\n",
    "        costs_range=COSTS_RANGE_SIZE,\n",
    "        \n",
    "    )\n",
    "    print(f\"Took {time.time() - s} seconds\")\n",
    "\n",
    "    import warnings\n",
    "    with warnings.catch_warnings():\n",
    "        warnings.simplefilter(\"ignore\")\n",
    "        s = time.time()\n",
    "        gain_alg1, _, _, arms_alg1 = evaluation.evaluate_on_synthetic_data(\n",
    "            p_alg1,\n",
    "            new_contexts[:NUM_OF_TRIALS],\n",
    "            new_rewards[:NUM_OF_TRIALS],\n",
    "            costs_vector[:NUM_OF_TRIALS],\n",
    "            beta=BETA,\n",
    "            stop_after=NUM_OF_TRIALS,\n",
    "            return_full=True,\n",
    "        )\n",
    "        print(f\"Took {time.time() - s} seconds\")\n",
    "        gains_alg1[i, :] = gain_alg1\n",
    "        hists[i, :, :] = get_histograms(arms_alg1, all_stationarity_regions)\n",
    "    \n",
    "histograms['Algorithm1'] = np.mean(hists, axis=0)\n",
    "gain_alg1 = np.mean(gains_alg1, axis=0)\n",
    "print(f\"Average gain: {gain_alg1[-1]}\")"
   ]
  },
  {
   "cell_type": "markdown",
   "id": "a068a244",
   "metadata": {},
   "source": [
    "## Oracle"
   ]
  },
  {
   "cell_type": "code",
   "execution_count": 56,
   "id": "ae33b6ba",
   "metadata": {},
   "outputs": [],
   "source": [
    "cost_means = np.zeros((N_STATIONARY_PERIODS, costs_vector.shape[1]))\n",
    "for reg_num, region in enumerate(all_stationarity_regions):\n",
    "    region_costs = costs_vector[slice(*region)]\n",
    "    cost_means[reg_num, :] = region_costs.mean(axis=0)"
   ]
  },
  {
   "cell_type": "code",
   "execution_count": 57,
   "id": "38e38fc5",
   "metadata": {},
   "outputs": [
    {
     "name": "stdout",
     "output_type": "stream",
     "text": [
      "Took 0.5943570137023926 seconds\n",
      "Trial 0, time 2022-06-15 16:51:33.480443\n",
      "Trial 500, time 2022-06-15 16:51:33.486462\n",
      "Trial 1000, time 2022-06-15 16:51:33.491998\n",
      "Trial 1500, time 2022-06-15 16:51:33.497208\n",
      "Trial 2000, time 2022-06-15 16:51:33.502871\n",
      "Trial 2500, time 2022-06-15 16:51:33.508759\n",
      "Trial 3000, time 2022-06-15 16:51:33.514366\n",
      "Trial 3500, time 2022-06-15 16:51:33.519835\n",
      "Trial 4000, time 2022-06-15 16:51:33.525211\n",
      "Trial 4500, time 2022-06-15 16:51:33.530728\n",
      "Trial 5000, time 2022-06-15 16:51:33.536396\n",
      "Trial 5500, time 2022-06-15 16:51:33.542079\n",
      "Trial 6000, time 2022-06-15 16:51:33.547578\n",
      "Trial 6500, time 2022-06-15 16:51:33.553154\n",
      "Trial 7000, time 2022-06-15 16:51:33.558636\n",
      "Trial 7500, time 2022-06-15 16:51:33.564356\n",
      "Trial 8000, time 2022-06-15 16:51:33.569952\n",
      "Trial 8500, time 2022-06-15 16:51:33.575591\n",
      "Trial 9000, time 2022-06-15 16:51:33.581294\n",
      "Trial 9500, time 2022-06-15 16:51:33.587083\n",
      "Algorithm1-Oracle (beta=1)\n",
      "Beta = 1\n",
      "Total gain: 8780.69062052404\n",
      "\tTotal reward: 9245.0\n",
      "\tTotal cost: 464.3093794759759\n",
      "Execution time: 0.1s\n",
      "Took 0.11252975463867188 seconds\n",
      "Took 0.5950589179992676 seconds\n",
      "Trial 0, time 2022-06-15 16:51:34.188924\n",
      "Trial 500, time 2022-06-15 16:51:34.194258\n",
      "Trial 1000, time 2022-06-15 16:51:34.200086\n",
      "Trial 1500, time 2022-06-15 16:51:34.205638\n",
      "Trial 2000, time 2022-06-15 16:51:34.211321\n",
      "Trial 2500, time 2022-06-15 16:51:34.217412\n",
      "Trial 3000, time 2022-06-15 16:51:34.223063\n",
      "Trial 3500, time 2022-06-15 16:51:34.228882\n",
      "Trial 4000, time 2022-06-15 16:51:34.234627\n",
      "Trial 4500, time 2022-06-15 16:51:34.240654\n",
      "Trial 5000, time 2022-06-15 16:51:34.246162\n",
      "Trial 5500, time 2022-06-15 16:51:34.251764\n",
      "Trial 6000, time 2022-06-15 16:51:34.257604\n",
      "Trial 6500, time 2022-06-15 16:51:34.263149\n",
      "Trial 7000, time 2022-06-15 16:51:34.268761\n",
      "Trial 7500, time 2022-06-15 16:51:34.274334\n",
      "Trial 8000, time 2022-06-15 16:51:34.279952\n",
      "Trial 8500, time 2022-06-15 16:51:34.285666\n",
      "Trial 9000, time 2022-06-15 16:51:34.291338\n",
      "Trial 9500, time 2022-06-15 16:51:34.296963\n",
      "Algorithm1-Oracle (beta=1)\n",
      "Beta = 1\n",
      "Total gain: 8780.69062052404\n",
      "\tTotal reward: 9245.0\n",
      "\tTotal cost: 464.3093794759759\n",
      "Execution time: 0.1s\n",
      "Took 0.11409616470336914 seconds\n",
      "Took 0.5968868732452393 seconds\n",
      "Trial 0, time 2022-06-15 16:51:34.900838\n",
      "Trial 500, time 2022-06-15 16:51:34.906642\n",
      "Trial 1000, time 2022-06-15 16:51:34.911858\n",
      "Trial 1500, time 2022-06-15 16:51:34.917051\n",
      "Trial 2000, time 2022-06-15 16:51:34.922278\n",
      "Trial 2500, time 2022-06-15 16:51:34.927799\n",
      "Trial 3000, time 2022-06-15 16:51:34.933265\n",
      "Trial 3500, time 2022-06-15 16:51:34.938896\n",
      "Trial 4000, time 2022-06-15 16:51:34.944690\n",
      "Trial 4500, time 2022-06-15 16:51:34.950353\n",
      "Trial 5000, time 2022-06-15 16:51:34.956004\n",
      "Trial 5500, time 2022-06-15 16:51:34.961559\n",
      "Trial 6000, time 2022-06-15 16:51:34.967049\n",
      "Trial 6500, time 2022-06-15 16:51:34.972544\n",
      "Trial 7000, time 2022-06-15 16:51:34.978121\n",
      "Trial 7500, time 2022-06-15 16:51:34.983774\n",
      "Trial 8000, time 2022-06-15 16:51:34.989340\n",
      "Trial 8500, time 2022-06-15 16:51:34.995106\n",
      "Trial 9000, time 2022-06-15 16:51:35.000791\n",
      "Trial 9500, time 2022-06-15 16:51:35.006568\n",
      "Algorithm1-Oracle (beta=1)\n",
      "Beta = 1\n",
      "Total gain: 8780.69062052404\n",
      "\tTotal reward: 9245.0\n",
      "\tTotal cost: 464.3093794759759\n",
      "Execution time: 0.1s\n",
      "Took 0.11179804801940918 seconds\n",
      "Took 0.5952131748199463 seconds\n",
      "Trial 0, time 2022-06-15 16:51:35.608687\n",
      "Trial 500, time 2022-06-15 16:51:35.614231\n",
      "Trial 1000, time 2022-06-15 16:51:35.619875\n",
      "Trial 1500, time 2022-06-15 16:51:35.625324\n",
      "Trial 2000, time 2022-06-15 16:51:35.630688\n",
      "Trial 2500, time 2022-06-15 16:51:35.636468\n",
      "Trial 3000, time 2022-06-15 16:51:35.641988\n",
      "Trial 3500, time 2022-06-15 16:51:35.647831\n",
      "Trial 4000, time 2022-06-15 16:51:35.654176\n",
      "Trial 4500, time 2022-06-15 16:51:35.659845\n",
      "Trial 5000, time 2022-06-15 16:51:35.665587\n",
      "Trial 5500, time 2022-06-15 16:51:35.671149\n",
      "Trial 6000, time 2022-06-15 16:51:35.676731\n",
      "Trial 6500, time 2022-06-15 16:51:35.682301\n",
      "Trial 7000, time 2022-06-15 16:51:35.687807\n",
      "Trial 7500, time 2022-06-15 16:51:35.693521\n",
      "Trial 8000, time 2022-06-15 16:51:35.699217\n",
      "Trial 8500, time 2022-06-15 16:51:35.704950\n",
      "Trial 9000, time 2022-06-15 16:51:35.710666\n",
      "Trial 9500, time 2022-06-15 16:51:35.716357\n",
      "Algorithm1-Oracle (beta=1)\n",
      "Beta = 1\n",
      "Total gain: 8780.69062052404\n",
      "\tTotal reward: 9245.0\n",
      "\tTotal cost: 464.3093794759759\n",
      "Execution time: 0.1s\n",
      "Took 0.11375784873962402 seconds\n",
      "Took 0.5931799411773682 seconds\n",
      "Trial 0, time 2022-06-15 16:51:36.316494\n",
      "Trial 500, time 2022-06-15 16:51:36.321648\n",
      "Trial 1000, time 2022-06-15 16:51:36.326789\n",
      "Trial 1500, time 2022-06-15 16:51:36.331949\n",
      "Trial 2000, time 2022-06-15 16:51:36.337249\n",
      "Trial 2500, time 2022-06-15 16:51:36.342800\n",
      "Trial 3000, time 2022-06-15 16:51:36.348235\n",
      "Trial 3500, time 2022-06-15 16:51:36.354034\n",
      "Trial 4000, time 2022-06-15 16:51:36.359664\n",
      "Trial 4500, time 2022-06-15 16:51:36.365268\n",
      "Trial 5000, time 2022-06-15 16:51:36.370841\n",
      "Trial 5500, time 2022-06-15 16:51:36.376364\n",
      "Trial 6000, time 2022-06-15 16:51:36.381888\n",
      "Trial 6500, time 2022-06-15 16:51:36.387360\n",
      "Trial 7000, time 2022-06-15 16:51:36.392871\n",
      "Trial 7500, time 2022-06-15 16:51:36.398538\n",
      "Trial 8000, time 2022-06-15 16:51:36.404135\n",
      "Trial 8500, time 2022-06-15 16:51:36.409846\n",
      "Trial 9000, time 2022-06-15 16:51:36.415509\n",
      "Trial 9500, time 2022-06-15 16:51:36.421304\n",
      "Algorithm1-Oracle (beta=1)\n",
      "Beta = 1\n",
      "Total gain: 8780.69062052404\n",
      "\tTotal reward: 9245.0\n",
      "\tTotal cost: 464.3093794759759\n",
      "Execution time: 0.1s\n",
      "Took 0.11118316650390625 seconds\n",
      "Average gain: 8780.69062052404\n"
     ]
    }
   ],
   "source": [
    "gains_alg1_oracle = np.zeros((NUM_REPETITIONS, NUM_OF_TRIALS))\n",
    "hists = np.zeros((NUM_REPETITIONS, N_STATIONARY_PERIODS, N_ARMS))\n",
    "\n",
    "for i in range(NUM_REPETITIONS):\n",
    "\n",
    "    s = time.time()\n",
    "    p_alg1_oracle = algorithms.Algorithm1_Oracle(\n",
    "        all_contexts=new_contexts, \n",
    "        all_rewards=new_rewards,\n",
    "        cost_means=cost_means,\n",
    "        stationarity_periods=all_stationarity_regions,\n",
    "        number_of_actions=new_rewards.shape[1],\n",
    "        max_no_red_context=new_contexts.shape[1],\n",
    "        beta_SimOOS=BETA,\n",
    "        \n",
    "    )\n",
    "    print(f\"Took {time.time() - s} seconds\")\n",
    "\n",
    "    import warnings\n",
    "    with warnings.catch_warnings():\n",
    "        warnings.simplefilter(\"ignore\")\n",
    "        s = time.time()\n",
    "        gain_alg1_oracle, _, _, arms_alg1_oracle = evaluation.evaluate_on_synthetic_data(\n",
    "            p_alg1_oracle,\n",
    "            new_contexts[:NUM_OF_TRIALS],\n",
    "            new_rewards[:NUM_OF_TRIALS],\n",
    "            costs_vector[:NUM_OF_TRIALS],\n",
    "            beta=BETA,\n",
    "            stop_after=NUM_OF_TRIALS,\n",
    "            return_full=True,\n",
    "        )\n",
    "        print(f\"Took {time.time() - s} seconds\")\n",
    "        gains_alg1_oracle[i, :] = gain_alg1_oracle\n",
    "        hists[i, :, :] = get_histograms(arms_alg1_oracle, all_stationarity_regions)\n",
    "\n",
    "histograms['Oracle'] = np.mean(hists, axis=0)\n",
    "gain_alg1_oracle = np.mean(gains_alg1_oracle, axis=0)\n",
    "print(f\"Average gain: {gain_alg1_oracle[-1]}\")"
   ]
  },
  {
   "cell_type": "code",
   "execution_count": null,
   "id": "a8ae58f7",
   "metadata": {},
   "outputs": [],
   "source": []
  },
  {
   "cell_type": "code",
   "execution_count": null,
   "id": "1cd00de9",
   "metadata": {},
   "outputs": [],
   "source": []
  },
  {
   "cell_type": "code",
   "execution_count": 58,
   "id": "8aa3b530",
   "metadata": {},
   "outputs": [
    {
     "data": {
      "image/png": "[encoded data removed]",
      "text/plain": [
       "<Figure size 1080x576 with 1 Axes>"
      ]
     },
     "metadata": {
      "needs_background": "light"
     },
     "output_type": "display_data"
    }
   ],
   "source": [
    "plot_gains(\n",
    "    {\n",
    "    'Random': gain_random,\n",
    "#     'E-greedy': gain_egreedy,\n",
    "    'UCB1': gain_ucb,\n",
    "    'LinUCB': gain_linucb,\n",
    "    'PS-LinUCB': gain_pslinucb,\n",
    "    'SimOOS': gain_simoos,\n",
    "    'Algorithm1': gain_alg1,\n",
    "    'Oracle': gain_alg1_oracle,\n",
    "    },\n",
    "    reward_change_points=change_point_values,\n",
    ")\n"
   ]
  },
  {
   "cell_type": "code",
   "execution_count": null,
   "id": "3103b933",
   "metadata": {},
   "outputs": [],
   "source": []
  },
  {
   "cell_type": "markdown",
   "id": "8166440f",
   "metadata": {},
   "source": [
    "## Plot the histograms for each algorithm"
   ]
  },
  {
   "cell_type": "code",
   "execution_count": 59,
   "id": "515e1cd9",
   "metadata": {
    "scrolled": true
   },
   "outputs": [
    {
     "data": {
      "text/plain": [
       "{'Random': array([[337.4, 337.4, 324.2],\n",
       "        [344.6, 324.8, 330.6],\n",
       "        [348.6, 328.8, 322.6],\n",
       "        [681.4, 658.4, 660.2],\n",
       "        [638.8, 682.4, 678.8],\n",
       "        [344. , 329.2, 326.8],\n",
       "        [324.2, 336.4, 339.4],\n",
       "        [322.4, 338.8, 338.8]]),\n",
       " 'E-greedy': array([[  38.4,  949.2,   11.4],\n",
       "        [ 510.6,  478.2,   11.2],\n",
       "        [ 981. ,   10. ,    9. ],\n",
       "        [ 794.4,  447.8,  757.8],\n",
       "        [  19.2, 1291.4,  689.4],\n",
       "        [  11.4,  980.6,    8. ],\n",
       "        [  10.8,  977.4,   11.8],\n",
       "        [ 147.6,  844.2,    8.2]]),\n",
       " 'UCB1': array([[1.300e+01, 9.780e+02, 8.000e+00],\n",
       "        [9.610e+02, 3.800e+01, 1.000e+00],\n",
       "        [8.250e+02, 1.390e+02, 3.600e+01],\n",
       "        [2.740e+02, 9.300e+01, 1.633e+03],\n",
       "        [0.000e+00, 1.333e+03, 6.670e+02],\n",
       "        [0.000e+00, 1.000e+03, 0.000e+00],\n",
       "        [5.040e+02, 4.940e+02, 2.000e+00],\n",
       "        [1.000e+03, 0.000e+00, 0.000e+00]]),\n",
       " 'LinUCB': array([[3.870e+02, 6.070e+02, 5.000e+00],\n",
       "        [9.000e+02, 9.900e+01, 1.000e+00],\n",
       "        [6.390e+02, 3.600e+02, 1.000e+00],\n",
       "        [4.760e+02, 5.680e+02, 9.560e+02],\n",
       "        [9.600e+01, 1.491e+03, 4.130e+02],\n",
       "        [1.980e+02, 7.670e+02, 3.500e+01],\n",
       "        [7.420e+02, 2.580e+02, 0.000e+00],\n",
       "        [8.110e+02, 1.890e+02, 0.000e+00]]),\n",
       " 'PSLinUCB': array([[ 356.,  631.,   12.],\n",
       "        [ 867.,   58.,   75.],\n",
       "        [ 250.,  189.,  561.],\n",
       "        [ 173.,  345., 1482.],\n",
       "        [ 614., 1361.,   25.],\n",
       "        [ 268.,  732.,    0.],\n",
       "        [ 918.,   54.,   28.],\n",
       "        [ 915.,    7.,   78.]]),\n",
       " 'SimOOS': array([[ 364. ,  569.6,   65.4],\n",
       "        [ 422.2,  487. ,   90.8],\n",
       "        [ 327. ,  249.4,  423.6],\n",
       "        [ 276.4,  247.6, 1476. ],\n",
       "        [ 381.6, 1176. ,  442.4],\n",
       "        [ 190. ,  663.6,  146.4],\n",
       "        [ 416.6,  151.6,  431.8],\n",
       "        [ 631. ,  171. ,  198. ]]),\n",
       " 'Algorithm1': array([[ 369.2,  580.8,   49. ],\n",
       "        [ 700.2,  180.4,  119.4],\n",
       "        [ 268.4,  197.8,  533.8],\n",
       "        [  79. ,  387.2, 1533.8],\n",
       "        [ 506.4, 1351.8,  141.8],\n",
       "        [ 240.2,  709.8,   50. ],\n",
       "        [ 825.8,   49.2,  125. ],\n",
       "        [ 839.6,    8.2,  152.2]]),\n",
       " 'Oracle': array([[3.760e+02, 6.230e+02, 0.000e+00],\n",
       "        [7.880e+02, 1.000e+00, 2.110e+02],\n",
       "        [3.180e+02, 2.040e+02, 4.780e+02],\n",
       "        [0.000e+00, 3.900e+02, 1.610e+03],\n",
       "        [6.850e+02, 1.315e+03, 0.000e+00],\n",
       "        [3.050e+02, 6.950e+02, 0.000e+00],\n",
       "        [9.060e+02, 0.000e+00, 9.400e+01],\n",
       "        [8.900e+02, 0.000e+00, 1.100e+02]])}"
      ]
     },
     "execution_count": 59,
     "metadata": {},
     "output_type": "execute_result"
    }
   ],
   "source": [
    "histograms"
   ]
  },
  {
   "cell_type": "code",
   "execution_count": 60,
   "id": "e3157801",
   "metadata": {},
   "outputs": [
    {
     "data": {
      "text/plain": [
       "[(1, 1000),\n",
       " (1000, 2000),\n",
       " (2000, 3000),\n",
       " (3000, 5000),\n",
       " (5000, 7000),\n",
       " (7000, 8000),\n",
       " (8000, 9000),\n",
       " (9000, 10000)]"
      ]
     },
     "execution_count": 60,
     "metadata": {},
     "output_type": "execute_result"
    }
   ],
   "source": [
    "all_stationarity_regions"
   ]
  },
  {
   "cell_type": "markdown",
   "id": "a706c7a6",
   "metadata": {},
   "source": [
    "## Saving and loading data"
   ]
  },
  {
   "cell_type": "code",
   "execution_count": 61,
   "id": "e60680b0",
   "metadata": {},
   "outputs": [],
   "source": [
    "data_to_save = {\n",
    "    'histograms': histograms,\n",
    "    'all_stationarity_regions': all_stationarity_regions,\n",
    "}"
   ]
  },
  {
   "cell_type": "code",
   "execution_count": 62,
   "id": "c7f717ea",
   "metadata": {},
   "outputs": [],
   "source": [
    "with open('experiments/nursery/results/histograms.pickle', 'wb') as f:\n",
    "    pickle.dump(data_to_save, f)"
   ]
  },
  {
   "cell_type": "code",
   "execution_count": 63,
   "id": "a3b13132",
   "metadata": {},
   "outputs": [],
   "source": [
    "with open('experiments/nursery/results/histograms.pickle', 'rb') as f:\n",
    "    data_to_save = pickle.load(f)"
   ]
  },
  {
   "cell_type": "code",
   "execution_count": 64,
   "id": "bbb068dc",
   "metadata": {},
   "outputs": [],
   "source": [
    "histograms = data_to_save['histograms']\n",
    "all_stationarity_regions = data_to_save['all_stationarity_regions']"
   ]
  },
  {
   "cell_type": "code",
   "execution_count": null,
   "id": "91a26357",
   "metadata": {},
   "outputs": [],
   "source": []
  },
  {
   "cell_type": "code",
   "execution_count": 69,
   "id": "2b589116",
   "metadata": {},
   "outputs": [],
   "source": [
    "algs_to_plot = [\"Oracle\", \"Algorithm1\", \"PSLinUCB\"]\n",
    "colors = ['cyan', 'red', 'blue']"
   ]
  },
  {
   "cell_type": "code",
   "execution_count": 70,
   "id": "397ec653",
   "metadata": {},
   "outputs": [
    {
     "data": {
      "image/png": "[encoded data removed]",
      "text/plain": [
       "<Figure size 1080x360 with 8 Axes>"
      ]
     },
     "metadata": {
      "needs_background": "light"
     },
     "output_type": "display_data"
    }
   ],
   "source": [
    "fig, axs = plt.subplots(2, math.floor(N_STATIONARY_PERIODS/2), figsize=(15, 5))\n",
    "\n",
    "x = np.array([0, 1, 2])\n",
    "\n",
    "handles = []\n",
    "for period_num, ax in enumerate(axs.flatten()):\n",
    "    if period_num >= N_STATIONARY_PERIODS:\n",
    "        break\n",
    "    for alg_num, alg_name in enumerate(algs_to_plot):\n",
    "        \n",
    "        bar = ax.bar(-0.2 + x+alg_num*0.2,\n",
    "               histograms[alg_name][period_num, :],\n",
    "               width=0.2,\n",
    "               color=colors[alg_num],\n",
    "               label=alg_name,\n",
    "        )\n",
    "        period = all_stationarity_regions[period_num]\n",
    "        ax.set_title(fr\"$t\\ \\in \\ [{period[0]}, {period[1]-1}]$\")\n",
    "        if period_num == 0:\n",
    "            handles.append(bar)\n",
    "            \n",
    "        \n",
    "\n",
    "\n",
    "fig.legend(handles, algs_to_plot, loc=\"upper center\",  bbox_to_anchor=(0.5, 1.1), ncol=3, prop={'size': 16})\n",
    "plt.tight_layout()\n",
    "plt.show()"
   ]
  },
  {
   "cell_type": "code",
   "execution_count": null,
   "id": "29a4c639",
   "metadata": {},
   "outputs": [],
   "source": []
  },
  {
   "cell_type": "code",
   "execution_count": null,
   "id": "3bba94a9",
   "metadata": {},
   "outputs": [],
   "source": []
  }
 ],
 "metadata": {
  "kernelspec": {
   "display_name": "Python 3 (ipykernel)",
   "language": "python",
   "name": "python3"
  },
  "language_info": {
   "codemirror_mode": {
    "name": "ipython",
    "version": 3
   },
   "file_extension": ".py",
   "mimetype": "text/x-python",
   "name": "python",
   "nbconvert_exporter": "python",
   "pygments_lexer": "ipython3",
   "version": "3.10.4"
  }
 },
 "nbformat": 4,
 "nbformat_minor": 5
}
