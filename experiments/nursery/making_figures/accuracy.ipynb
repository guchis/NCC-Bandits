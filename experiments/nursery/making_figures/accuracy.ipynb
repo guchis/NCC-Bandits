{
 "cells": [
  {
   "cell_type": "code",
   "execution_count": 1,
   "id": "4afcb80e",
   "metadata": {},
   "outputs": [
    {
     "data": {
      "text/plain": [
       "'/Users/sbokupripeku/git/work/examples/costly_nonstationary_bandits'"
      ]
     },
     "execution_count": 1,
     "metadata": {},
     "output_type": "execute_result"
    }
   ],
   "source": [
    "import os\n",
    "os.chdir(\"../../../\")\n",
    "os.getcwd()"
   ]
  },
  {
   "cell_type": "code",
   "execution_count": 2,
   "id": "17102894",
   "metadata": {},
   "outputs": [],
   "source": [
    "import pickle\n",
    "import matplotlib.pyplot as plt\n",
    "from matplotlib.ticker import MaxNLocator\n",
    "import numpy as np\n",
    "\n",
    "import algorithms"
   ]
  },
  {
   "cell_type": "code",
   "execution_count": 3,
   "id": "5d2cf80e",
   "metadata": {},
   "outputs": [],
   "source": [
    "with open('experiments/nursery/results/policy_objects.pickle', 'rb') as f:\n",
    "    policies = pickle.load(f)"
   ]
  },
  {
   "cell_type": "code",
   "execution_count": 4,
   "id": "497a2b1e",
   "metadata": {},
   "outputs": [
    {
     "data": {
      "text/plain": [
       "({'Random': <algorithms.random_policy.RandomPolicy at 0x1040eedd0>,\n",
       "  '$\\\\epsilon$-greedy': <algorithms.egreedy.EpsilonGreedy at 0x1040ef460>,\n",
       "  'UCB1': <algorithms.ucb.UCB1 at 0x1040ecb80>,\n",
       "  'LinUCB': <algorithms.linucb.LinUCB at 0x1040ee920>,\n",
       "  'PS-LinUCB': <algorithms.ps_linucb.PSLinUCB at 0x1040ef490>,\n",
       "  'SimOOS': <algorithms.sim_oos.SimOOSAlgorithm at 0x11aaa4b20>,\n",
       "  'Algorithm1': <algorithms.alg1.Algorithm1 at 0x11aaa7190>,\n",
       "  'Oracle': <algorithms.oracle_alg1.Algorithm1_Oracle at 0x11ab34d60>},)"
      ]
     },
     "execution_count": 4,
     "metadata": {},
     "output_type": "execute_result"
    }
   ],
   "source": [
    "policies"
   ]
  },
  {
   "cell_type": "code",
   "execution_count": 5,
   "id": "0fb39baa",
   "metadata": {},
   "outputs": [],
   "source": [
    "alg1 = policies[0]['Algorithm1']\n",
    "oracle = policies[0]['Oracle']\n",
    "simoos = policies[0]['SimOOS']"
   ]
  },
  {
   "cell_type": "code",
   "execution_count": 6,
   "id": "8ee59121",
   "metadata": {},
   "outputs": [],
   "source": [
    "def get_accuracy_new(alg1_object):\n",
    "    N_FEATURES = alg1_object.max_no_red_context\n",
    "    counts = np.zeros(N_FEATURES+1, dtype=int)\n",
    "    rewards = np.zeros(N_FEATURES+1, dtype=int)\n",
    "    accuracies = np.zeros(N_FEATURES+1)\n",
    "    \n",
    "    T = len(alg1_object.selected_context_SimOOS)\n",
    "    \n",
    "    # for each l what happens when we observe up to l features\n",
    "    for l in range(len(counts)):\n",
    "        for j in range(l+1):\n",
    "            for t in range(T):\n",
    "                observation = alg1_object.selected_context_SimOOS[t, :]\n",
    "                reward = alg1_object.collected_rewards_SimOOS[t]\n",
    "                num_observed = np.count_nonzero(observation)\n",
    "                \n",
    "                indicator = 1 if (num_observed == j) else 0\n",
    "                counts[l] += indicator\n",
    "                rewards[l] += reward * indicator\n",
    "                \n",
    "    print(rewards)\n",
    "    print(counts)\n",
    "    for l in range(len(accuracies)):\n",
    "        accuracies[l] = rewards[l] / counts[l] if counts[l] != 0 else 0\n",
    "    return accuracies"
   ]
  },
  {
   "cell_type": "code",
   "execution_count": 7,
   "id": "89bed44c",
   "metadata": {},
   "outputs": [
    {
     "data": {
      "text/plain": [
       "[]"
      ]
     },
     "execution_count": 7,
     "metadata": {},
     "output_type": "execute_result"
    }
   ],
   "source": [
    "list(range(0))"
   ]
  },
  {
   "cell_type": "code",
   "execution_count": 8,
   "id": "a0890b24",
   "metadata": {},
   "outputs": [
    {
     "name": "stdout",
     "output_type": "stream",
     "text": [
      "[   0    1    8 7530 7532 7532]\n",
      "[    1     6    20  9992  9999 10000]\n"
     ]
    },
    {
     "data": {
      "text/plain": [
       "array([0.        , 0.16666667, 0.4       , 0.75360288, 0.75327533,\n",
       "       0.7532    ])"
      ]
     },
     "execution_count": 8,
     "metadata": {},
     "output_type": "execute_result"
    }
   ],
   "source": [
    "get_accuracy_new(alg1)"
   ]
  },
  {
   "cell_type": "code",
   "execution_count": 9,
   "id": "de309ef4",
   "metadata": {},
   "outputs": [
    {
     "data": {
      "text/plain": [
       "array([0., 0., 0., 0., 0.])"
      ]
     },
     "execution_count": 9,
     "metadata": {},
     "output_type": "execute_result"
    }
   ],
   "source": [
    "alg1.selected_context_SimOOS[0]"
   ]
  },
  {
   "cell_type": "code",
   "execution_count": 10,
   "id": "57c0a1ae",
   "metadata": {},
   "outputs": [
    {
     "data": {
      "text/plain": [
       "0.0"
      ]
     },
     "execution_count": 10,
     "metadata": {},
     "output_type": "execute_result"
    }
   ],
   "source": [
    "alg1.collected_rewards_SimOOS[0]"
   ]
  },
  {
   "cell_type": "code",
   "execution_count": null,
   "id": "6c735270",
   "metadata": {},
   "outputs": [],
   "source": []
  },
  {
   "cell_type": "code",
   "execution_count": null,
   "id": "519bf6c5",
   "metadata": {},
   "outputs": [],
   "source": []
  },
  {
   "cell_type": "code",
   "execution_count": null,
   "id": "95e6f91c",
   "metadata": {},
   "outputs": [],
   "source": []
  },
  {
   "cell_type": "code",
   "execution_count": 11,
   "id": "9a0e195a",
   "metadata": {},
   "outputs": [
    {
     "name": "stdout",
     "output_type": "stream",
     "text": [
      "[   0    1    8 7530 7532 7532]\n",
      "[    1     6    20  9992  9999 10000]\n",
      "[   0    1  643 1241 1241 3464]\n",
      "[    1     9  1092  2533  2538 10000]\n"
     ]
    }
   ],
   "source": [
    "accuracies = {\n",
    "    \n",
    "    'Algorithm1': get_accuracy_new(alg1),\n",
    "#     'Oracle': get_accuracy_new(oracle),\n",
    "    'Sim-OOS': get_accuracy_new(simoos),\n",
    "}"
   ]
  },
  {
   "cell_type": "code",
   "execution_count": 20,
   "id": "6b477456",
   "metadata": {},
   "outputs": [
    {
     "data": {
      "image/png": "[encoded data removed]",
      "text/plain": [
       "<Figure size 720x360 with 1 Axes>"
      ]
     },
     "metadata": {
      "needs_background": "light"
     },
     "output_type": "display_data"
    }
   ],
   "source": [
    "\n",
    "\n",
    "fig, ax = plt.subplots(1, figsize=(10, 5))\n",
    "ind_to_params = {\n",
    "        # ind: (mark, color)\n",
    "        0: ('d','red'), 1:('s', 'darkblue') , 2:('o','deepskyblue') , 3: ('>','orange'),\n",
    "        4: ('^', 'm'), 5: ('<', 'k'), 6: ('x','green'),\n",
    "    }\n",
    "\n",
    "for ind, (algorithm_name, accuracy_for_cost) in enumerate(accuracies.items()):\n",
    "    \n",
    "    if algorithm_name == 'Algorithm1':\n",
    "        algorithm_name = \"NCC-UCRL2\"\n",
    "    mark, color = ind_to_params[ind]\n",
    "    ax.plot(\n",
    "        range(len(accuracy_for_cost)),\n",
    "        accuracy_for_cost,\n",
    "        label=algorithm_name,\n",
    "        marker=mark, markersize=8, fillstyle='none',\n",
    "        c=color, linestyle=':', linewidth=3,\n",
    "    )\n",
    "    \n",
    "ax.set_xlabel('Number of observations', fontsize=26)\n",
    "ax.set_ylabel('Accuracy', fontsize=26)\n",
    "ax.set_ylim(0.0, 0.8)\n",
    "plt.xticks(fontsize=22)\n",
    "plt.yticks(fontsize=22)\n",
    "ax.xaxis.set_major_locator(MaxNLocator(integer=True)) # Only integer labels\n",
    "\n",
    "plt.legend(prop={'size': 24}, loc='lower right');\n",
    "plt.savefig('experiments/nursery/making_figures/nursery_accuracy.pdf', bbox_inches='tight')\n",
    "\n",
    "plt.show()"
   ]
  },
  {
   "cell_type": "code",
   "execution_count": null,
   "id": "587f2903",
   "metadata": {},
   "outputs": [],
   "source": []
  },
  {
   "cell_type": "code",
   "execution_count": null,
   "id": "cedee94e",
   "metadata": {},
   "outputs": [],
   "source": []
  }
 ],
 "metadata": {
  "kernelspec": {
   "display_name": "Python 3 (ipykernel)",
   "language": "python",
   "name": "python3"
  },
  "language_info": {
   "codemirror_mode": {
    "name": "ipython",
    "version": 3
   },
   "file_extension": ".py",
   "mimetype": "text/x-python",
   "name": "python",
   "nbconvert_exporter": "python",
   "pygments_lexer": "ipython3",
   "version": "3.10.4"
  }
 },
 "nbformat": 4,
 "nbformat_minor": 5
}
