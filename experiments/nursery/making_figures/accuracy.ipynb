{
 "cells": [
  {
   "cell_type": "code",
   "execution_count": 1,
   "id": "4afcb80e",
   "metadata": {},
   "outputs": [
    {
     "data": {
      "text/plain": [
       "'/Users/sbokupripeku/git/work/examples/costly_nonstationary_bandits'"
      ]
     },
     "execution_count": 1,
     "metadata": {},
     "output_type": "execute_result"
    }
   ],
   "source": [
    "import os\n",
    "os.chdir(\"../../../\")\n",
    "os.getcwd()"
   ]
  },
  {
   "cell_type": "code",
   "execution_count": 2,
   "id": "17102894",
   "metadata": {},
   "outputs": [],
   "source": [
    "import pickle\n",
    "import matplotlib.pyplot as plt\n",
    "from matplotlib.ticker import MaxNLocator\n",
    "import numpy as np\n",
    "\n",
    "from src import algorithms"
   ]
  },
  {
   "cell_type": "code",
   "execution_count": 3,
   "id": "5d2cf80e",
   "metadata": {},
   "outputs": [],
   "source": [
    "with open('experiments/nursery/results/policy_objects_v1.pickle', 'rb') as f:\n",
    "    policies = pickle.load(f)"
   ]
  },
  {
   "cell_type": "code",
   "execution_count": null,
   "id": "dbe7d903",
   "metadata": {},
   "outputs": [],
   "source": []
  },
  {
   "cell_type": "code",
   "execution_count": 4,
   "id": "497a2b1e",
   "metadata": {},
   "outputs": [
    {
     "data": {
      "text/plain": [
       "({'Random': <src.algorithms.random_policy.RandomPolicy at 0x107d83eb0>,\n",
       "  '$\\\\epsilon$-greedy': <src.algorithms.egreedy.EpsilonGreedy at 0x107d83550>,\n",
       "  'UCB1': <src.algorithms.ucb.UCB1 at 0x107d837c0>,\n",
       "  'LinUCB': <src.algorithms.linucb.LinUCB at 0x107d83370>,\n",
       "  'PS-LinUCB': <src.algorithms.ps_linucb.PSLinUCB at 0x107d80f40>,\n",
       "  'SimOOS': [<src.algorithms.sim_oos.SimOOSAlgorithm at 0x13a417580>,\n",
       "   <src.algorithms.sim_oos.SimOOSAlgorithm at 0x13a429c30>,\n",
       "   <src.algorithms.sim_oos.SimOOSAlgorithm at 0x13a434220>,\n",
       "   <src.algorithms.sim_oos.SimOOSAlgorithm at 0x13a4367d0>,\n",
       "   <src.algorithms.sim_oos.SimOOSAlgorithm at 0x13a448dc0>],\n",
       "  'Algorithm1': [<src.algorithms.alg1.Algorithm1 at 0x13a44b370>,\n",
       "   <src.algorithms.alg1.Algorithm1 at 0x13a4d8f40>,\n",
       "   <src.algorithms.alg1.Algorithm1 at 0x13bb52ad0>,\n",
       "   <src.algorithms.alg1.Algorithm1 at 0x13bbd46a0>,\n",
       "   <src.algorithms.alg1.Algorithm1 at 0x13e84e230>],\n",
       "  'Oracle': <src.algorithms.oracle_alg1.Algorithm1_Oracle at 0x13e8cfdc0>},)"
      ]
     },
     "execution_count": 4,
     "metadata": {},
     "output_type": "execute_result"
    }
   ],
   "source": [
    "policies"
   ]
  },
  {
   "cell_type": "code",
   "execution_count": 5,
   "id": "0fb39baa",
   "metadata": {},
   "outputs": [],
   "source": [
    "alg1_objects = policies[0]['Algorithm1']\n",
    "oracle = policies[0]['Oracle']\n",
    "simoos_objects = policies[0]['SimOOS']"
   ]
  },
  {
   "cell_type": "code",
   "execution_count": 6,
   "id": "8ee59121",
   "metadata": {},
   "outputs": [],
   "source": [
    "def get_accuracy_new(alg1_object):\n",
    "    N_FEATURES = alg1_object.max_no_red_context\n",
    "    counts = np.zeros(N_FEATURES+1, dtype=int)\n",
    "    rewards = np.zeros(N_FEATURES+1, dtype=int)\n",
    "    accuracies = np.zeros(N_FEATURES+1)\n",
    "    \n",
    "    T = len(alg1_object.selected_context_SimOOS)\n",
    "    \n",
    "    # for each l what happens when we observe up to l features\n",
    "    for l in range(len(counts)):\n",
    "        for j in range(l+1):\n",
    "            for t in range(T):\n",
    "                observation = alg1_object.selected_context_SimOOS[t, :]\n",
    "                reward = alg1_object.collected_rewards_SimOOS[t]\n",
    "                num_observed = np.count_nonzero(observation)\n",
    "                \n",
    "                indicator = 1 if (num_observed == j) else 0\n",
    "                counts[l] += indicator\n",
    "                rewards[l] += reward * indicator\n",
    "                \n",
    "    print(rewards)\n",
    "    print(counts)\n",
    "    for l in range(len(accuracies)):\n",
    "        accuracies[l] = rewards[l] / counts[l] if counts[l] != 0 else 0\n",
    "    return accuracies"
   ]
  },
  {
   "cell_type": "code",
   "execution_count": 7,
   "id": "a0890b24",
   "metadata": {},
   "outputs": [
    {
     "name": "stdout",
     "output_type": "stream",
     "text": [
      "[   2    2 8588 8595 8597 8598]\n",
      "[    3     8  9974  9992  9998 10000]\n"
     ]
    },
    {
     "data": {
      "text/plain": [
       "array([0.66666667, 0.25      , 0.8610387 , 0.86018815, 0.85987197,\n",
       "       0.8598    ])"
      ]
     },
     "execution_count": 7,
     "metadata": {},
     "output_type": "execute_result"
    }
   ],
   "source": [
    "get_accuracy_new(alg1_objects[0])"
   ]
  },
  {
   "cell_type": "code",
   "execution_count": null,
   "id": "6c735270",
   "metadata": {},
   "outputs": [],
   "source": []
  },
  {
   "cell_type": "code",
   "execution_count": null,
   "id": "519bf6c5",
   "metadata": {},
   "outputs": [],
   "source": []
  },
  {
   "cell_type": "code",
   "execution_count": 8,
   "id": "95e6f91c",
   "metadata": {},
   "outputs": [
    {
     "name": "stdout",
     "output_type": "stream",
     "text": [
      "[   2    2 8588 8595 8597 8598]\n",
      "[    3     8  9974  9992  9998 10000]\n",
      "[   0    2 8527 8529 8530 8530]\n",
      "[    1     8  9981  9993  9999 10000]\n",
      "[   0    5 8435 8437 8442 8442]\n",
      "[    1    13  9970  9982  9999 10000]\n",
      "[   0    2    6 8051 8053 8053]\n",
      "[    1     7    20  9992  9999 10000]\n",
      "[   0    2    9 8390 8391 8391]\n",
      "[    1     8    28  9993  9999 10000]\n"
     ]
    }
   ],
   "source": [
    "alg1_accuracies = np.stack([get_accuracy_new(alg1) for alg1 in alg1_objects])"
   ]
  },
  {
   "cell_type": "code",
   "execution_count": 9,
   "id": "7d5c6a40",
   "metadata": {},
   "outputs": [
    {
     "name": "stdout",
     "output_type": "stream",
     "text": [
      "[   0    5 1151 1962 5700 5700]\n",
      "[    1    17  2096  4156  9999 10000]\n",
      "[   0  418 2091 4671 4671 4671]\n",
      "[    1   706  4014  9994  9999 10000]\n",
      "[   1    2 1576 5047 5468 5468]\n",
      "[    4    12  2526  8037  9999 10000]\n",
      "[   0    1 2145 5224 5224 5224]\n",
      "[    1     9  3806  9994  9999 10000]\n",
      "[   0  137  147 7195 7208 7208]\n",
      "[    1   259   283  9951  9999 10000]\n"
     ]
    }
   ],
   "source": [
    "simoos_accuracies = np.stack([get_accuracy_new(simoos) for simoos in simoos_objects])"
   ]
  },
  {
   "cell_type": "code",
   "execution_count": 10,
   "id": "9a0e195a",
   "metadata": {},
   "outputs": [],
   "source": [
    "accuracies = {\n",
    "    \n",
    "    'Algorithm1': np.mean(alg1_accuracies, axis=0),\n",
    "#     'Oracle': get_accuracy_new(oracle),\n",
    "    'Sim-OOS': np.mean(simoos_accuracies, axis=0),\n",
    "}"
   ]
  },
  {
   "cell_type": "code",
   "execution_count": 18,
   "id": "6b477456",
   "metadata": {},
   "outputs": [
    {
     "data": {
      "image/png": "[encoded data removed]",
      "text/plain": [
       "<Figure size 504x360 with 1 Axes>"
      ]
     },
     "metadata": {
      "needs_background": "light"
     },
     "output_type": "display_data"
    }
   ],
   "source": [
    "\n",
    "\n",
    "fig, ax = plt.subplots(1, figsize=(7, 5))\n",
    "ind_to_params = {\n",
    "        # ind: (mark, color)\n",
    "        0: ('d','red'), 1:('s', 'darkblue') , 2:('o','deepskyblue') , 3: ('>','orange'),\n",
    "        4: ('^', 'm'), 5: ('<', 'k'), 6: ('x','green'),\n",
    "    }\n",
    "\n",
    "for ind, (algorithm_name, accuracy_for_cost) in enumerate(accuracies.items()):\n",
    "    \n",
    "    if algorithm_name == 'Algorithm1':\n",
    "        algorithm_name = \"NCC-UCRL2\"\n",
    "    mark, color = ind_to_params[ind]\n",
    "    ax.plot(\n",
    "        range(len(accuracy_for_cost)),\n",
    "        accuracy_for_cost,\n",
    "        label=algorithm_name,\n",
    "        marker=mark, markersize=8, fillstyle='none',\n",
    "        c=color, linestyle=':', linewidth=3,\n",
    "    )\n",
    "    \n",
    "ax.set_xlabel('Number Of Observations', fontsize=26)\n",
    "ax.set_ylabel('Accuracy', fontsize=26)\n",
    "ax.set_ylim(0.0, 1.0)\n",
    "plt.xticks(fontsize=22)\n",
    "plt.yticks(fontsize=22)\n",
    "ax.xaxis.set_major_locator(MaxNLocator(integer=True)) # Only integer labels\n",
    "\n",
    "plt.legend(prop={'size': 24}, loc='lower right');\n",
    "plt.savefig('experiments/nursery/making_figures/nursery_accuracy.pdf', bbox_inches='tight')\n",
    "\n",
    "plt.show()"
   ]
  },
  {
   "cell_type": "code",
   "execution_count": null,
   "id": "587f2903",
   "metadata": {},
   "outputs": [],
   "source": []
  },
  {
   "cell_type": "code",
   "execution_count": null,
   "id": "cedee94e",
   "metadata": {},
   "outputs": [],
   "source": []
  }
 ],
 "metadata": {
  "kernelspec": {
   "display_name": "Python 3 (ipykernel)",
   "language": "python",
   "name": "python3"
  },
  "language_info": {
   "codemirror_mode": {
    "name": "ipython",
    "version": 3
   },
   "file_extension": ".py",
   "mimetype": "text/x-python",
   "name": "python",
   "nbconvert_exporter": "python",
   "pygments_lexer": "ipython3",
   "version": "3.10.4"
  }
 },
 "nbformat": 4,
 "nbformat_minor": 5
}
