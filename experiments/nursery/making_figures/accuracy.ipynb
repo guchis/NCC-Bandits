{
 "cells": [
  {
   "cell_type": "code",
   "execution_count": 1,
   "id": "ac292498",
   "metadata": {},
   "outputs": [
    {
     "data": {
      "text/plain": [
       "'/Users/sbokupripeku/git/work/examples/costly_nonstationary_bandits'"
      ]
     },
     "execution_count": 1,
     "metadata": {},
     "output_type": "execute_result"
    }
   ],
   "source": [
    "import os\n",
    "os.chdir(\"../../../\")\n",
    "os.getcwd()"
   ]
  },
  {
   "cell_type": "code",
   "execution_count": 2,
   "id": "9709d7ca",
   "metadata": {},
   "outputs": [],
   "source": [
    "import pickle\n",
    "import matplotlib.pyplot as plt\n",
    "from matplotlib.ticker import MaxNLocator\n",
    "import numpy as np\n",
    "\n",
    "import algorithms"
   ]
  },
  {
   "cell_type": "code",
   "execution_count": 3,
   "id": "3a9e805a",
   "metadata": {},
   "outputs": [],
   "source": [
    "with open('experiments/nursery/results/policy_objects.pickle', 'rb') as f:\n",
    "    policies = pickle.load(f)"
   ]
  },
  {
   "cell_type": "code",
   "execution_count": 4,
   "id": "46985f07",
   "metadata": {},
   "outputs": [
    {
     "data": {
      "text/plain": [
       "({'Random': <algorithms.random_policy.RandomPolicy at 0x105d7f460>,\n",
       "  '$\\\\epsilon$-greedy': <algorithms.egreedy.EpsilonGreedy at 0x105d7f520>,\n",
       "  'UCB1': <algorithms.ucb.UCB1 at 0x105d7f370>,\n",
       "  'LinUCB': <algorithms.linucb.LinUCB at 0x105d7eaa0>,\n",
       "  'PS-LinUCB': <algorithms.ps_linucb.PSLinUCB at 0x105d7eb00>,\n",
       "  'SimOOS': <algorithms.sim_oos.SimOOSAlgorithm at 0x11f160b80>,\n",
       "  'Algorithm1': <algorithms.alg1.Algorithm1 at 0x11f1631f0>,\n",
       "  'Oracle': <algorithms.oracle_alg1.Algorithm1_Oracle at 0x11f1f0dc0>},)"
      ]
     },
     "execution_count": 4,
     "metadata": {},
     "output_type": "execute_result"
    }
   ],
   "source": [
    "policies"
   ]
  },
  {
   "cell_type": "code",
   "execution_count": 5,
   "id": "d32bc6ce",
   "metadata": {},
   "outputs": [],
   "source": [
    "alg1 = policies[0]['Algorithm1']\n",
    "oracle = policies[0]['Oracle']\n",
    "simoos = policies[0]['SimOOS']"
   ]
  },
  {
   "cell_type": "code",
   "execution_count": 6,
   "id": "31ab594e",
   "metadata": {},
   "outputs": [],
   "source": [
    "def get_accuracy_new(alg1_object):\n",
    "    N_FEATURES = alg1_object.max_no_red_context\n",
    "    counts = np.zeros(N_FEATURES+1, dtype=int)\n",
    "    rewards = np.zeros(N_FEATURES+1, dtype=int)\n",
    "    accuracies = np.zeros(N_FEATURES+1)\n",
    "    \n",
    "    T = len(alg1_object.selected_context_SimOOS)\n",
    "    \n",
    "    # for each l what happens when we observe up to l features\n",
    "    for l in range(len(counts)):\n",
    "        for j in range(l+1):\n",
    "            for t in range(T):\n",
    "                observation = alg1_object.selected_context_SimOOS[t, :]\n",
    "                reward = alg1_object.collected_rewards_SimOOS[t]\n",
    "                num_observed = np.count_nonzero(observation)\n",
    "                \n",
    "                indicator = 1 if (num_observed == j) else 0\n",
    "                counts[l] += indicator\n",
    "                rewards[l] += reward * indicator\n",
    "                \n",
    "    print(rewards)\n",
    "    print(counts)\n",
    "    for l in range(len(accuracies)):\n",
    "        accuracies[l] = rewards[l] / counts[l] if counts[l] != 0 else 0\n",
    "    return accuracies"
   ]
  },
  {
   "cell_type": "code",
   "execution_count": 7,
   "id": "9d9eab23",
   "metadata": {},
   "outputs": [
    {
     "data": {
      "text/plain": [
       "[]"
      ]
     },
     "execution_count": 7,
     "metadata": {},
     "output_type": "execute_result"
    }
   ],
   "source": [
    "list(range(0))"
   ]
  },
  {
   "cell_type": "code",
   "execution_count": 8,
   "id": "26b0d0d4",
   "metadata": {},
   "outputs": [
    {
     "name": "stdout",
     "output_type": "stream",
     "text": [
      "[   0    1    8 7530 7532 7532]\n",
      "[    1     6    20  9992  9999 10000]\n"
     ]
    },
    {
     "data": {
      "text/plain": [
       "array([0.        , 0.16666667, 0.4       , 0.75360288, 0.75327533,\n",
       "       0.7532    ])"
      ]
     },
     "execution_count": 8,
     "metadata": {},
     "output_type": "execute_result"
    }
   ],
   "source": [
    "get_accuracy_new(alg1)"
   ]
  },
  {
   "cell_type": "code",
   "execution_count": 9,
   "id": "89f21353",
   "metadata": {},
   "outputs": [
    {
     "data": {
      "text/plain": [
       "array([0., 0., 0., 0., 0.])"
      ]
     },
     "execution_count": 9,
     "metadata": {},
     "output_type": "execute_result"
    }
   ],
   "source": [
    "alg1.selected_context_SimOOS[0]"
   ]
  },
  {
   "cell_type": "code",
   "execution_count": 10,
   "id": "db7325cd",
   "metadata": {},
   "outputs": [
    {
     "data": {
      "text/plain": [
       "0.0"
      ]
     },
     "execution_count": 10,
     "metadata": {},
     "output_type": "execute_result"
    }
   ],
   "source": [
    "alg1.collected_rewards_SimOOS[0]"
   ]
  },
  {
   "cell_type": "code",
   "execution_count": null,
   "id": "22e4865d",
   "metadata": {},
   "outputs": [],
   "source": []
  },
  {
   "cell_type": "code",
   "execution_count": null,
   "id": "70661222",
   "metadata": {},
   "outputs": [],
   "source": []
  },
  {
   "cell_type": "code",
   "execution_count": null,
   "id": "d138d095",
   "metadata": {},
   "outputs": [],
   "source": []
  },
  {
   "cell_type": "code",
   "execution_count": 35,
   "id": "3bbb0b11",
   "metadata": {},
   "outputs": [
    {
     "name": "stdout",
     "output_type": "stream",
     "text": [
      "[   0    1    8 7530 7532 7532]\n",
      "[    1     6    20  9992  9999 10000]\n"
     ]
    }
   ],
   "source": [
    "accuracies = {\n",
    "#     'Oracle': get_accuracy_new(oracle),\n",
    "    'Algorithm1': get_accuracy_new(alg1),\n",
    "    \n",
    "#     'Sim-OOS': get_accuracy_new(simoos),\n",
    "}"
   ]
  },
  {
   "cell_type": "code",
   "execution_count": 37,
   "id": "5e766174",
   "metadata": {},
   "outputs": [
    {
     "data": {
      "image/png": "[encoded data removed]",
      "text/plain": [
       "<Figure size 720x360 with 1 Axes>"
      ]
     },
     "metadata": {
      "needs_background": "light"
     },
     "output_type": "display_data"
    }
   ],
   "source": [
    "\n",
    "\n",
    "fig, ax = plt.subplots(1, figsize=(10, 5))\n",
    "ind_to_params = {\n",
    "        # ind: (mark, color)\n",
    "        0: ('d','red'), 1: ('o','deepskyblue'), 2:('s', 'darkblue') , 3: ('>','orange'),\n",
    "        4: ('^', 'm'), 5: ('<', 'k'), 6: ('x','green'),\n",
    "    }\n",
    "\n",
    "for ind, (algorithm_name, accuracy_for_cost) in enumerate(accuracies.items()):\n",
    "    mark, color = ind_to_params[ind]\n",
    "    ax.plot(\n",
    "        range(len(accuracy_for_cost)),\n",
    "        accuracy_for_cost,\n",
    "        label=algorithm_name,\n",
    "        marker=mark, markersize=8, fillstyle='none',\n",
    "        c=color, linestyle=':', linewidth=3,\n",
    "    )\n",
    "    \n",
    "ax.set_xlabel('Number of observations', fontsize=26)\n",
    "ax.set_ylabel('Accuracy', fontsize=26)\n",
    "plt.xticks(fontsize=22)\n",
    "plt.yticks(fontsize=22)\n",
    "ax.xaxis.set_major_locator(MaxNLocator(integer=True)) # Only integer labels\n",
    "\n",
    "plt.legend(prop={'size': 22});\n",
    "\n",
    "plt.savefig('experiments/nursery/making_figures/nursery_accuracy.pdf', bbox_inches='tight')\n",
    "plt.show()"
   ]
  },
  {
   "cell_type": "code",
   "execution_count": null,
   "id": "c6e9eb36",
   "metadata": {},
   "outputs": [],
   "source": []
  },
  {
   "cell_type": "code",
   "execution_count": null,
   "id": "605c14f5",
   "metadata": {},
   "outputs": [],
   "source": []
  }
 ],
 "metadata": {
  "kernelspec": {
   "display_name": "Python 3 (ipykernel)",
   "language": "python",
   "name": "python3"
  },
  "language_info": {
   "codemirror_mode": {
    "name": "ipython",
    "version": 3
   },
   "file_extension": ".py",
   "mimetype": "text/x-python",
   "name": "python",
   "nbconvert_exporter": "python",
   "pygments_lexer": "ipython3",
   "version": "3.10.2"
  }
 },
 "nbformat": 4,
 "nbformat_minor": 5
}
