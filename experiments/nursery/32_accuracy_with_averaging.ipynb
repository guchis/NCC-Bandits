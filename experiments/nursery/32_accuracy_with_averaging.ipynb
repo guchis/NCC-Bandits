{
 "cells": [
  {
   "cell_type": "markdown",
   "id": "bd264323",
   "metadata": {},
   "source": [
    "# Compute accuracy for NCC-UCRL2 and Sim-OOS"
   ]
  },
  {
   "cell_type": "code",
   "execution_count": 1,
   "id": "ba49eee3",
   "metadata": {},
   "outputs": [
    {
     "data": {
      "text/plain": [
       "'/Users/sbokupripeku/git/work/examples/costly_nonstationary_bandits'"
      ]
     },
     "execution_count": 1,
     "metadata": {},
     "output_type": "execute_result"
    }
   ],
   "source": [
    "import os\n",
    "os.chdir(\"../..\")\n",
    "os.getcwd()"
   ]
  },
  {
   "cell_type": "code",
   "execution_count": 2,
   "id": "0b748cbc",
   "metadata": {},
   "outputs": [],
   "source": [
    "%load_ext autoreload\n",
    "%autoreload 2\n",
    "\n",
    "import matplotlib.pyplot as plt\n",
    "from matplotlib.ticker import MaxNLocator\n",
    "import numpy as np\n",
    "import pandas as pd\n",
    "import time\n",
    "import pickle\n",
    "\n",
    "import algorithms\n",
    "import evaluation\n",
    "import costs\n",
    "from plotting.costs import plot_costs"
   ]
  },
  {
   "cell_type": "code",
   "execution_count": 3,
   "id": "e225d680",
   "metadata": {},
   "outputs": [],
   "source": [
    "np.random.seed(42)"
   ]
  },
  {
   "cell_type": "markdown",
   "id": "011ea86f",
   "metadata": {},
   "source": [
    "# Load the evaluation data saved in experiment 20"
   ]
  },
  {
   "cell_type": "code",
   "execution_count": 4,
   "id": "dafe6c6f",
   "metadata": {},
   "outputs": [],
   "source": [
    "with open('dataset/nursery/nursery_evaluation.pickle', 'rb') as f:\n",
    "    data = pickle.load(f)\n",
    "    \n",
    "all_contexts, all_rewards = data"
   ]
  },
  {
   "cell_type": "code",
   "execution_count": 5,
   "id": "4dfd5385",
   "metadata": {},
   "outputs": [
    {
     "data": {
      "text/html": [
       "<div>\n",
       "<style scoped>\n",
       "    .dataframe tbody tr th:only-of-type {\n",
       "        vertical-align: middle;\n",
       "    }\n",
       "\n",
       "    .dataframe tbody tr th {\n",
       "        vertical-align: top;\n",
       "    }\n",
       "\n",
       "    .dataframe thead th {\n",
       "        text-align: right;\n",
       "    }\n",
       "</style>\n",
       "<table border=\"1\" class=\"dataframe\">\n",
       "  <thead>\n",
       "    <tr style=\"text-align: right;\">\n",
       "      <th></th>\n",
       "      <th>form</th>\n",
       "      <th>children</th>\n",
       "      <th>housing</th>\n",
       "      <th>finance</th>\n",
       "      <th>health</th>\n",
       "    </tr>\n",
       "  </thead>\n",
       "  <tbody>\n",
       "    <tr>\n",
       "      <th>2</th>\n",
       "      <td>1</td>\n",
       "      <td>1</td>\n",
       "      <td>1</td>\n",
       "      <td>1</td>\n",
       "      <td>1</td>\n",
       "    </tr>\n",
       "    <tr>\n",
       "      <th>4</th>\n",
       "      <td>1</td>\n",
       "      <td>1</td>\n",
       "      <td>1</td>\n",
       "      <td>1</td>\n",
       "      <td>3</td>\n",
       "    </tr>\n",
       "    <tr>\n",
       "      <th>6</th>\n",
       "      <td>1</td>\n",
       "      <td>1</td>\n",
       "      <td>1</td>\n",
       "      <td>1</td>\n",
       "      <td>2</td>\n",
       "    </tr>\n",
       "    <tr>\n",
       "      <th>7</th>\n",
       "      <td>1</td>\n",
       "      <td>1</td>\n",
       "      <td>1</td>\n",
       "      <td>1</td>\n",
       "      <td>3</td>\n",
       "    </tr>\n",
       "    <tr>\n",
       "      <th>8</th>\n",
       "      <td>1</td>\n",
       "      <td>1</td>\n",
       "      <td>1</td>\n",
       "      <td>1</td>\n",
       "      <td>1</td>\n",
       "    </tr>\n",
       "    <tr>\n",
       "      <th>...</th>\n",
       "      <td>...</td>\n",
       "      <td>...</td>\n",
       "      <td>...</td>\n",
       "      <td>...</td>\n",
       "      <td>...</td>\n",
       "    </tr>\n",
       "    <tr>\n",
       "      <th>12952</th>\n",
       "      <td>4</td>\n",
       "      <td>4</td>\n",
       "      <td>3</td>\n",
       "      <td>2</td>\n",
       "      <td>3</td>\n",
       "    </tr>\n",
       "    <tr>\n",
       "      <th>12953</th>\n",
       "      <td>4</td>\n",
       "      <td>4</td>\n",
       "      <td>3</td>\n",
       "      <td>2</td>\n",
       "      <td>1</td>\n",
       "    </tr>\n",
       "    <tr>\n",
       "      <th>12955</th>\n",
       "      <td>4</td>\n",
       "      <td>4</td>\n",
       "      <td>3</td>\n",
       "      <td>2</td>\n",
       "      <td>3</td>\n",
       "    </tr>\n",
       "    <tr>\n",
       "      <th>12956</th>\n",
       "      <td>4</td>\n",
       "      <td>4</td>\n",
       "      <td>3</td>\n",
       "      <td>2</td>\n",
       "      <td>1</td>\n",
       "    </tr>\n",
       "    <tr>\n",
       "      <th>12957</th>\n",
       "      <td>4</td>\n",
       "      <td>4</td>\n",
       "      <td>3</td>\n",
       "      <td>2</td>\n",
       "      <td>2</td>\n",
       "    </tr>\n",
       "  </tbody>\n",
       "</table>\n",
       "<p>10000 rows × 5 columns</p>\n",
       "</div>"
      ],
      "text/plain": [
       "       form  children  housing  finance  health\n",
       "2         1         1        1        1       1\n",
       "4         1         1        1        1       3\n",
       "6         1         1        1        1       2\n",
       "7         1         1        1        1       3\n",
       "8         1         1        1        1       1\n",
       "...     ...       ...      ...      ...     ...\n",
       "12952     4         4        3        2       3\n",
       "12953     4         4        3        2       1\n",
       "12955     4         4        3        2       3\n",
       "12956     4         4        3        2       1\n",
       "12957     4         4        3        2       2\n",
       "\n",
       "[10000 rows x 5 columns]"
      ]
     },
     "execution_count": 5,
     "metadata": {},
     "output_type": "execute_result"
    }
   ],
   "source": [
    "all_contexts"
   ]
  },
  {
   "cell_type": "code",
   "execution_count": 6,
   "id": "5b8c791b",
   "metadata": {},
   "outputs": [
    {
     "data": {
      "text/plain": [
       "array([[1., 0., 0.],\n",
       "       [0., 1., 0.],\n",
       "       [0., 1., 0.],\n",
       "       ...,\n",
       "       [0., 0., 1.],\n",
       "       [1., 0., 0.],\n",
       "       [0., 0., 1.]])"
      ]
     },
     "execution_count": 6,
     "metadata": {},
     "output_type": "execute_result"
    }
   ],
   "source": [
    "all_rewards"
   ]
  },
  {
   "cell_type": "markdown",
   "id": "520866b1",
   "metadata": {},
   "source": [
    "## Set BETA parameter for the experiment"
   ]
  },
  {
   "cell_type": "code",
   "execution_count": 7,
   "id": "7c2b0501",
   "metadata": {},
   "outputs": [],
   "source": [
    "BETA = 1"
   ]
  },
  {
   "cell_type": "markdown",
   "id": "a1f22f9e",
   "metadata": {},
   "source": [
    "# Adding non-stationarity\n"
   ]
  },
  {
   "cell_type": "markdown",
   "id": "29fe230c",
   "metadata": {},
   "source": [
    "### Non-stationarity in rewards"
   ]
  },
  {
   "cell_type": "code",
   "execution_count": 8,
   "id": "6b8cab7b",
   "metadata": {},
   "outputs": [
    {
     "data": {
      "text/plain": [
       "10000"
      ]
     },
     "execution_count": 8,
     "metadata": {},
     "output_type": "execute_result"
    }
   ],
   "source": [
    "all_rewards.shape[0]"
   ]
  },
  {
   "cell_type": "code",
   "execution_count": 9,
   "id": "0aaea10e",
   "metadata": {},
   "outputs": [],
   "source": [
    "stationarity_regions = [\n",
    "    slice(0, 500),\n",
    "    slice(500, 1000),\n",
    "    slice(1000, 2000),\n",
    "    slice(2000, 3500),\n",
    "    slice(3500, 5000),\n",
    "    slice(5000, 6500),\n",
    "    slice(6500, 8000),\n",
    "    slice(8000, all_contexts.shape[0]),\n",
    "]"
   ]
  },
  {
   "cell_type": "code",
   "execution_count": 10,
   "id": "99234270",
   "metadata": {},
   "outputs": [],
   "source": [
    "change_point_values = [x.start for x in stationarity_regions] + [stationarity_regions[-1].stop]\n",
    "change_point_values[0] += 1"
   ]
  },
  {
   "cell_type": "code",
   "execution_count": 11,
   "id": "07baf156",
   "metadata": {},
   "outputs": [
    {
     "data": {
      "text/plain": [
       "[1, 500, 1000, 2000, 3500, 5000, 6500, 8000, 10000]"
      ]
     },
     "execution_count": 11,
     "metadata": {},
     "output_type": "execute_result"
    }
   ],
   "source": [
    "change_point_values"
   ]
  },
  {
   "cell_type": "code",
   "execution_count": 12,
   "id": "95230d1f",
   "metadata": {},
   "outputs": [
    {
     "data": {
      "text/plain": [
       "array([0.3396, 0.3366, 0.3238])"
      ]
     },
     "execution_count": 12,
     "metadata": {},
     "output_type": "execute_result"
    }
   ],
   "source": [
    "# We invert arm 0 with 2 and 1 with 3 (\n",
    "np.mean(all_rewards, axis=0)"
   ]
  },
  {
   "cell_type": "code",
   "execution_count": 13,
   "id": "2ad6b353",
   "metadata": {},
   "outputs": [],
   "source": [
    "new_rewards = np.copy(all_rewards)\n",
    "new_contexts = np.copy(all_contexts)\n",
    "\n",
    "mean_rewards = np.zeros(new_rewards.shape)\n",
    "\n",
    "n_arms = all_rewards.shape[1]\n",
    "\n",
    "for i, region in enumerate(stationarity_regions):\n",
    "    for arm_from in range(n_arms):\n",
    "        # Cyclic shift of class labels\n",
    "        arm_to = (arm_from + i) % n_arms\n",
    "        if i > 0:\n",
    "            new_rewards[region, arm_to] = all_rewards[region, arm_from]\n",
    "        \n",
    "        # For plotting\n",
    "        mean_rewards[region, arm_to] = (\n",
    "            np.ones(new_rewards[region, arm_to].shape) * np.mean(new_rewards[region, arm_to])\n",
    "        )"
   ]
  },
  {
   "cell_type": "code",
   "execution_count": 14,
   "id": "1fcad487",
   "metadata": {},
   "outputs": [
    {
     "data": {
      "text/plain": [
       "((10000, 5), (10000, 3))"
      ]
     },
     "execution_count": 14,
     "metadata": {},
     "output_type": "execute_result"
    }
   ],
   "source": [
    "new_contexts.shape, new_rewards.shape"
   ]
  },
  {
   "cell_type": "markdown",
   "id": "f697974f",
   "metadata": {},
   "source": [
    "## Plot expected reward"
   ]
  },
  {
   "cell_type": "code",
   "execution_count": 15,
   "id": "6f590277",
   "metadata": {},
   "outputs": [
    {
     "name": "stdout",
     "output_type": "stream",
     "text": [
      "Min expected reward for arm 1: 0.0\n",
      "Min expected reward for arm 2: 0.022\n",
      "Min expected reward for arm 3: 0.0\n"
     ]
    },
    {
     "data": {
      "image/png": "[encoded data removed]",
      "text/plain": [
       "<Figure size 792x360 with 1 Axes>"
      ]
     },
     "metadata": {
      "needs_background": "light"
     },
     "output_type": "display_data"
    }
   ],
   "source": [
    "fig, ax = plt.subplots(1,1, figsize=(11,5))\n",
    "for arm in range(n_arms):\n",
    "    expected_gain = BETA * mean_rewards[:, arm] \n",
    "    ax.plot(expected_gain, label=f\"Arm {arm+1}\", linestyle=':', linewidth=5)\n",
    "    print(f\"Min expected reward for arm {arm+1}: {min(expected_gain)}\")\n",
    "\n",
    "    \n",
    "extraticks = change_point_values\n",
    "plt.xticks(extraticks, rotation=35, fontsize=16)\n",
    "\n",
    "plt.yticks(fontsize=16)\n",
    "\n",
    "ax.set_xlabel('Time step', fontsize=20)\n",
    "ax.set_ylabel(fr\"($\\beta$={BETA}) * Mean reward\", fontsize=20)\n",
    "\n",
    "lgd = ax.legend(loc=9, ncol=5, bbox_to_anchor=(0.5, 1.132), prop={'size': 15})\n",
    "\n",
    "\n",
    "plt.show()\n"
   ]
  },
  {
   "cell_type": "markdown",
   "id": "bc043c4b",
   "metadata": {},
   "source": [
    "### Non-stationarity in costs"
   ]
  },
  {
   "cell_type": "code",
   "execution_count": 16,
   "id": "a96b928e",
   "metadata": {},
   "outputs": [],
   "source": [
    "cost_change_points = [3000, 5000, 7000, 9000]\n",
    "interval_count = len(cost_change_points) + 1"
   ]
  },
  {
   "cell_type": "code",
   "execution_count": 17,
   "id": "6d042946",
   "metadata": {},
   "outputs": [],
   "source": [
    "cost_means_range = [0.01, 0.07]"
   ]
  },
  {
   "cell_type": "code",
   "execution_count": 18,
   "id": "7723b621",
   "metadata": {},
   "outputs": [],
   "source": [
    "COSTS_RANGE_SIZE = cost_means_range[1] - cost_means_range[0]"
   ]
  },
  {
   "cell_type": "code",
   "execution_count": 19,
   "id": "7b4ce894",
   "metadata": {},
   "outputs": [],
   "source": [
    "# Mean of gaussian distribution random in interval [0, 0.02] \n",
    "interval_means = [\n",
    "    np.random.uniform(\n",
    "        cost_means_range[0], cost_means_range[1], size=(new_contexts.shape[1],)\n",
    "    ) for i in range(interval_count)\n",
    "]"
   ]
  },
  {
   "cell_type": "code",
   "execution_count": 20,
   "id": "d801df91",
   "metadata": {},
   "outputs": [
    {
     "data": {
      "text/plain": [
       "[array([0.03247241, 0.06704286, 0.05391964, 0.04591951, 0.01936112]),\n",
       " array([0.01935967, 0.01348502, 0.06197057, 0.0460669 , 0.05248435]),\n",
       " array([0.01123507, 0.06819459, 0.05994656, 0.02274035, 0.0209095 ]),\n",
       " array([0.02100427, 0.02825453, 0.04148539, 0.0359167 , 0.02747375]),\n",
       " array([0.04671117, 0.01836963, 0.02752868, 0.03198171, 0.0373642 ])]"
      ]
     },
     "execution_count": 20,
     "metadata": {},
     "output_type": "execute_result"
    }
   ],
   "source": [
    "interval_means"
   ]
  },
  {
   "cell_type": "code",
   "execution_count": 21,
   "id": "59ba2ffd",
   "metadata": {},
   "outputs": [],
   "source": [
    "# Fixed std\n",
    "interval_stds = [[0.001]*new_contexts.shape[1]]*interval_count"
   ]
  },
  {
   "cell_type": "code",
   "execution_count": 22,
   "id": "28de8f86",
   "metadata": {},
   "outputs": [],
   "source": [
    "def get_costs():\n",
    "    return costs.NonstationaryGaussianCosts(\n",
    "        feature_vector_size=new_contexts.shape[1],\n",
    "        change_points=cost_change_points,\n",
    "        interval_means=interval_means,\n",
    "        interval_stds=interval_stds,\n",
    "        random_seed=42,\n",
    "    )\n",
    "    "
   ]
  },
  {
   "cell_type": "code",
   "execution_count": 23,
   "id": "3ac89d71",
   "metadata": {},
   "outputs": [
    {
     "data": {
      "image/png": "[encoded data removed]",
      "text/plain": [
       "<Figure size 1080x576 with 1 Axes>"
      ]
     },
     "execution_count": 23,
     "metadata": {},
     "output_type": "execute_result"
    }
   ],
   "source": [
    "plot_costs(get_costs(), new_contexts.shape[0])"
   ]
  },
  {
   "cell_type": "code",
   "execution_count": 24,
   "id": "65bd80bc",
   "metadata": {},
   "outputs": [],
   "source": [
    "costs_obj = get_costs()"
   ]
  },
  {
   "cell_type": "code",
   "execution_count": 25,
   "id": "40ccb3da",
   "metadata": {},
   "outputs": [],
   "source": [
    "costs_vector = []\n",
    "for t in range(new_contexts.shape[0]):\n",
    "    costs_at_t = np.array(costs_obj.get_separate_costs(trial=t))\n",
    "    costs_vector.append(costs_at_t)\n",
    "\n",
    "costs_vector = np.stack(costs_vector)"
   ]
  },
  {
   "cell_type": "code",
   "execution_count": 26,
   "id": "ca8fc603",
   "metadata": {},
   "outputs": [
    {
     "data": {
      "text/plain": [
       "(10000, 5)"
      ]
     },
     "execution_count": 26,
     "metadata": {},
     "output_type": "execute_result"
    }
   ],
   "source": [
    "costs_vector.shape"
   ]
  },
  {
   "cell_type": "markdown",
   "id": "016f4a8e",
   "metadata": {},
   "source": [
    "## Save mean costs for plotting"
   ]
  },
  {
   "cell_type": "code",
   "execution_count": 27,
   "id": "8903ba84",
   "metadata": {},
   "outputs": [],
   "source": [
    "full_cost_change_points = [0] + cost_change_points + [new_contexts.shape[0]]\n",
    "cost_stationarity_regions = []\n",
    "for a, b in zip(full_cost_change_points, full_cost_change_points[1:]):\n",
    "    cost_stationarity_regions.append(slice(a,b))"
   ]
  },
  {
   "cell_type": "code",
   "execution_count": 28,
   "id": "a07e0ed7",
   "metadata": {},
   "outputs": [],
   "source": [
    "mean_costs = np.zeros(costs_vector.shape)\n",
    "for i, region in enumerate(cost_stationarity_regions):\n",
    "    for feature in range(new_contexts.shape[1]):\n",
    "        \n",
    "        # For plotting\n",
    "        mean_costs[region, feature] = (\n",
    "            np.ones(costs_vector[region, feature].shape) * interval_means[i][feature]\n",
    "        )"
   ]
  },
  {
   "cell_type": "code",
   "execution_count": 29,
   "id": "f59ebe4d",
   "metadata": {},
   "outputs": [
    {
     "data": {
      "image/png": "[encoded data removed]",
      "text/plain": [
       "<Figure size 792x360 with 1 Axes>"
      ]
     },
     "metadata": {
      "needs_background": "light"
     },
     "output_type": "display_data"
    }
   ],
   "source": [
    "fig, ax = plt.subplots(1,1, figsize=(11,5))\n",
    "for feature in range(new_contexts.shape[1]):\n",
    "    ax.plot(mean_costs[:, feature], label=f\"Feature {feature}\")\n",
    "\n",
    "extraticks = full_cost_change_points\n",
    "plt.xticks(extraticks, rotation=35, fontsize=16)\n",
    "\n",
    "plt.yticks(fontsize=16)\n",
    "\n",
    "ax.set_xlabel('Time step', fontsize=20)\n",
    "ax.set_ylabel(fr\"Mean cost\", fontsize=20)\n",
    "\n",
    "lgd = ax.legend(loc=9, ncol=5, bbox_to_anchor=(0.5, 1.132), prop={'size': 15})\n",
    "\n",
    "plt.show()"
   ]
  },
  {
   "cell_type": "markdown",
   "id": "f2745795",
   "metadata": {},
   "source": [
    "## Plot expected reward minus sum of costs"
   ]
  },
  {
   "cell_type": "code",
   "execution_count": 30,
   "id": "5a1b46fe",
   "metadata": {},
   "outputs": [],
   "source": [
    "all_change_point_values = sorted(list(set(cost_change_points).union(set(change_point_values)) ))"
   ]
  },
  {
   "cell_type": "code",
   "execution_count": 31,
   "id": "4456e039",
   "metadata": {},
   "outputs": [
    {
     "name": "stdout",
     "output_type": "stream",
     "text": [
      "Min expected gain for arm 1: -0.22633150496472904\n",
      "Min expected gain for arm 2: -0.2036502630607873\n",
      "Min expected gain for arm 3: -0.22429558772004018\n"
     ]
    },
    {
     "data": {
      "image/png": "[encoded data removed]",
      "text/plain": [
       "<Figure size 792x360 with 1 Axes>"
      ]
     },
     "metadata": {
      "needs_background": "light"
     },
     "output_type": "display_data"
    }
   ],
   "source": [
    "fig, ax = plt.subplots(1,1, figsize=(11,5))\n",
    "for arm in range(n_arms):\n",
    "    sum_of_costs = np.sum(costs_vector, axis=1)\n",
    "    expected_gain = BETA * mean_rewards[:, arm] - sum_of_costs\n",
    "    ax.plot(expected_gain, label=f\"Arm {arm+1}\", linestyle=':', linewidth=5)\n",
    "    print(f\"Min expected gain for arm {arm+1}: {min(expected_gain)}\")\n",
    "\n",
    "    \n",
    "extraticks = all_change_point_values\n",
    "plt.xticks(extraticks, rotation=35, fontsize=16)\n",
    "\n",
    "plt.yticks(fontsize=16)\n",
    "\n",
    "ax.set_xlabel('Time step', fontsize=20)\n",
    "ax.set_ylabel(fr\"($\\beta$={BETA}) * Mean reward - sum(costs)\", fontsize=20)\n",
    "\n",
    "lgd = ax.legend(loc=9, ncol=5, bbox_to_anchor=(0.5, 1.132), prop={'size': 15})\n",
    "\n",
    "\n",
    "plt.show()\n"
   ]
  },
  {
   "cell_type": "markdown",
   "id": "cd6b31a0",
   "metadata": {},
   "source": [
    "## Testing on non-stationary data"
   ]
  },
  {
   "cell_type": "code",
   "execution_count": 32,
   "id": "2fbfaf26",
   "metadata": {},
   "outputs": [],
   "source": [
    "NUM_OF_TRIALS = all_contexts.shape[0]\n",
    "NUM_REPETITIONS = 5\n",
    "N_FEATURES = all_contexts.shape[1]"
   ]
  },
  {
   "cell_type": "code",
   "execution_count": 33,
   "id": "51f47053",
   "metadata": {},
   "outputs": [],
   "source": [
    "np.random.seed(42)"
   ]
  },
  {
   "cell_type": "code",
   "execution_count": 34,
   "id": "8e2bdeb7",
   "metadata": {},
   "outputs": [],
   "source": [
    "def get_accuracy_new(policy_object):\n",
    "    N_FEATURES = policy_object.max_no_red_context\n",
    "    counts = np.zeros(N_FEATURES+1, dtype=int)\n",
    "    rewards = np.zeros(N_FEATURES+1, dtype=int)\n",
    "    accuracies = np.zeros(N_FEATURES+1)\n",
    "    \n",
    "    T = len(policy_object.selected_context_SimOOS)\n",
    "    \n",
    "    # for each l what happens when we observe up to l features\n",
    "    for l in range(len(counts)):\n",
    "        for j in range(l+1):\n",
    "            for t in range(T):\n",
    "                observation = policy_object.selected_context_SimOOS[t, :]\n",
    "                reward = policy_object.collected_rewards_SimOOS[t]\n",
    "                num_observed = np.count_nonzero(observation)\n",
    "                \n",
    "                indicator = 1 if (num_observed == j) else 0\n",
    "                counts[l] += indicator\n",
    "                rewards[l] += reward * indicator\n",
    "                \n",
    "    print(rewards)\n",
    "    print(counts)\n",
    "    for l in range(len(accuracies)):\n",
    "        accuracies[l] = rewards[l] / counts[l] if counts[l] != 0 else 0\n",
    "    return accuracies"
   ]
  },
  {
   "cell_type": "code",
   "execution_count": 35,
   "id": "dd2e010e",
   "metadata": {
    "scrolled": false
   },
   "outputs": [
    {
     "name": "stdout",
     "output_type": "stream",
     "text": [
      "Took 0.0013990402221679688 seconds\n",
      "Trial 0, time 2022-06-08 10:36:39.219169\n",
      "Trial 500, time 2022-06-08 10:36:51.371122\n",
      "Trial 1000, time 2022-06-08 10:37:03.103465\n",
      "Trial 1500, time 2022-06-08 10:37:05.182249\n",
      "Trial 2000, time 2022-06-08 10:37:32.840353\n",
      "Trial 2500, time 2022-06-08 10:38:03.274099\n",
      "Trial 3000, time 2022-06-08 10:38:09.668627\n",
      "Trial 3500, time 2022-06-08 10:38:17.533879\n",
      "Trial 4000, time 2022-06-08 10:38:18.606574\n",
      "Trial 4500, time 2022-06-08 10:38:19.554714\n",
      "Trial 5000, time 2022-06-08 10:38:20.728600\n",
      "Trial 5500, time 2022-06-08 10:38:30.239408\n",
      "Trial 6000, time 2022-06-08 10:38:38.549583\n",
      "Trial 6500, time 2022-06-08 10:38:38.944713\n",
      "Trial 7000, time 2022-06-08 10:38:40.199720\n",
      "Trial 7500, time 2022-06-08 10:38:41.349742\n",
      "Trial 8000, time 2022-06-08 10:38:42.512464\n",
      "Trial 8500, time 2022-06-08 10:38:42.762081\n",
      "Trial 9000, time 2022-06-08 10:38:44.445141\n",
      "Trial 9500, time 2022-06-08 10:38:45.902201\n",
      "SimOOS (beta=1, delta=0.8)\n",
      "Beta = 1\n",
      "Total gain: 2903.5517130239627\n",
      "\tTotal reward: 4081.0\n",
      "\tTotal cost: 1177.4482869760557\n",
      "Execution time: 2.1m\n",
      "Took 128.56029605865479 seconds\n",
      "[   0    2  426 2827 4081 4081]\n",
      "[    1    11   893  6193  9999 10000]\n",
      "Took 0.0018596649169921875 seconds\n",
      "Trial 0, time 2022-06-08 10:38:48.247532\n",
      "Trial 500, time 2022-06-08 10:39:01.145011\n",
      "Trial 1000, time 2022-06-08 10:39:06.166332\n",
      "Trial 1500, time 2022-06-08 10:39:43.054431\n",
      "Trial 2000, time 2022-06-08 10:40:29.926484\n",
      "Trial 2500, time 2022-06-08 10:40:51.485316\n",
      "Trial 3000, time 2022-06-08 10:41:00.327307\n",
      "Trial 3500, time 2022-06-08 10:41:10.621177\n",
      "Trial 4000, time 2022-06-08 10:41:14.803192\n",
      "Trial 4500, time 2022-06-08 10:41:20.948776\n",
      "Trial 5000, time 2022-06-08 10:41:25.590041\n",
      "Trial 5500, time 2022-06-08 10:41:31.429384\n",
      "Trial 6000, time 2022-06-08 10:41:35.396543\n",
      "Trial 6500, time 2022-06-08 10:41:38.004538\n",
      "Trial 7000, time 2022-06-08 10:41:39.059340\n",
      "Trial 7500, time 2022-06-08 10:41:39.771596\n",
      "Trial 8000, time 2022-06-08 10:41:41.543276\n",
      "Trial 8500, time 2022-06-08 10:41:42.076350\n",
      "Trial 9000, time 2022-06-08 10:41:42.709649\n",
      "Trial 9500, time 2022-06-08 10:41:43.557156\n",
      "SimOOS (beta=1, delta=0.8)\n",
      "Beta = 1\n",
      "Total gain: 2495.83952929106\n",
      "\tTotal reward: 3942.0\n",
      "\tTotal cost: 1446.160470708941\n",
      "Execution time: 2.9m\n",
      "Took 175.844144821167 seconds\n",
      "[   0    4 1434 1942 1943 3942]\n",
      "[    1    20  2507  3839  3845 10000]\n",
      "Took 0.001870870590209961 seconds\n",
      "Trial 0, time 2022-06-08 10:41:44.574446\n",
      "Trial 500, time 2022-06-08 10:41:58.795693\n",
      "Trial 1000, time 2022-06-08 10:42:08.971719\n",
      "Trial 1500, time 2022-06-08 10:42:20.797820\n",
      "Trial 2000, time 2022-06-08 10:42:29.206473\n",
      "Trial 2500, time 2022-06-08 10:42:54.014906\n",
      "Trial 3000, time 2022-06-08 10:42:55.201795\n",
      "Trial 3500, time 2022-06-08 10:42:55.678588\n",
      "Trial 4000, time 2022-06-08 10:42:56.750436\n",
      "Trial 4500, time 2022-06-08 10:42:59.860641\n",
      "Trial 5000, time 2022-06-08 10:43:02.482568\n",
      "Trial 5500, time 2022-06-08 10:43:11.729427\n",
      "Trial 6000, time 2022-06-08 10:43:43.087569\n",
      "Trial 6500, time 2022-06-08 10:43:47.961786\n",
      "Trial 7000, time 2022-06-08 10:43:49.559098\n",
      "Trial 7500, time 2022-06-08 10:43:50.025284\n",
      "Trial 8000, time 2022-06-08 10:43:50.178235\n",
      "Trial 8500, time 2022-06-08 10:43:50.437282\n",
      "Trial 9000, time 2022-06-08 10:43:51.211778\n",
      "Trial 9500, time 2022-06-08 10:43:51.754923\n",
      "SimOOS (beta=1, delta=0.8)\n",
      "Beta = 1\n",
      "Total gain: 3046.694171329954\n",
      "\tTotal reward: 4296.0\n",
      "\tTotal cost: 1249.30582867005\n",
      "Execution time: 2.1m\n",
      "Took 127.49543285369873 seconds\n",
      "[   0  126 1399 1859 4296 4296]\n",
      "[    1   188  2220  3212  9999 10000]\n",
      "Took 0.004467964172363281 seconds\n",
      "Trial 0, time 2022-06-08 10:43:52.540108\n",
      "Trial 500, time 2022-06-08 10:44:08.308631\n",
      "Trial 1000, time 2022-06-08 10:44:10.673150\n",
      "Trial 1500, time 2022-06-08 10:44:19.050871\n",
      "Trial 2000, time 2022-06-08 10:44:19.789274\n",
      "Trial 2500, time 2022-06-08 10:44:22.751860\n",
      "Trial 3000, time 2022-06-08 10:44:29.838066\n",
      "Trial 3500, time 2022-06-08 10:44:53.425192\n",
      "Trial 4000, time 2022-06-08 10:44:54.097758\n",
      "Trial 4500, time 2022-06-08 10:44:54.359050\n",
      "Trial 5000, time 2022-06-08 10:44:54.620952\n",
      "Trial 5500, time 2022-06-08 10:44:54.887979\n",
      "Trial 6000, time 2022-06-08 10:44:55.044904\n",
      "Trial 6500, time 2022-06-08 10:44:55.203346\n",
      "Trial 7000, time 2022-06-08 10:44:56.345458\n",
      "Trial 7500, time 2022-06-08 10:45:11.450538\n",
      "Trial 8000, time 2022-06-08 10:45:14.034341\n",
      "Trial 8500, time 2022-06-08 10:45:14.368315\n",
      "Trial 9000, time 2022-06-08 10:45:15.737495\n",
      "Trial 9500, time 2022-06-08 10:45:16.689009\n",
      "SimOOS (beta=1, delta=0.8)\n",
      "Beta = 1\n",
      "Total gain: 3041.5671492489487\n",
      "\tTotal reward: 4314.0\n",
      "\tTotal cost: 1272.432850751047\n",
      "Execution time: 1.4m\n",
      "Took 84.48348784446716 seconds\n",
      "[  39   40  287 3129 4314 4314]\n",
      "[   73    81   607  6344  9999 10000]\n",
      "Took 0.0018410682678222656 seconds\n",
      "Trial 0, time 2022-06-08 10:45:17.491114\n",
      "Trial 500, time 2022-06-08 10:45:41.166896\n",
      "Trial 1000, time 2022-06-08 10:46:00.336473\n",
      "Trial 1500, time 2022-06-08 10:46:04.787344\n",
      "Trial 2000, time 2022-06-08 10:46:20.423567\n",
      "Trial 2500, time 2022-06-08 10:46:23.845758\n",
      "Trial 3000, time 2022-06-08 10:46:24.721936\n",
      "Trial 3500, time 2022-06-08 10:46:25.793155\n",
      "Trial 4000, time 2022-06-08 10:46:28.810424\n",
      "Trial 4500, time 2022-06-08 10:46:30.094165\n",
      "Trial 5000, time 2022-06-08 10:46:30.863387\n",
      "Trial 5500, time 2022-06-08 10:46:31.022190\n",
      "Trial 6000, time 2022-06-08 10:46:40.554427\n",
      "Trial 6500, time 2022-06-08 10:46:41.506404\n",
      "Trial 7000, time 2022-06-08 10:47:04.552652\n",
      "Trial 7500, time 2022-06-08 10:47:16.564586\n",
      "Trial 8000, time 2022-06-08 10:47:17.035932\n",
      "Trial 8500, time 2022-06-08 10:47:17.503572\n",
      "Trial 9000, time 2022-06-08 10:47:17.964800\n",
      "Trial 9500, time 2022-06-08 10:47:18.833067\n",
      "SimOOS (beta=1, delta=0.8)\n",
      "Beta = 1\n",
      "Total gain: 3010.110960554942\n",
      "\tTotal reward: 4324.0\n",
      "\tTotal cost: 1313.8890394450632\n",
      "Execution time: 2.1m\n",
      "Took 126.16176104545593 seconds\n",
      "[   0  270  407 1444 4324 4324]\n",
      "[    1   626   822  3047  9999 10000]\n",
      "Average gain: 2899.552704689774\n"
     ]
    }
   ],
   "source": [
    "gains_simoos = np.zeros((NUM_REPETITIONS, NUM_OF_TRIALS))\n",
    "rewards_simoos = np.zeros((NUM_REPETITIONS, NUM_OF_TRIALS))\n",
    "costs_simoos = np.zeros((NUM_REPETITIONS, NUM_OF_TRIALS))\n",
    "accuracies_simoos = np.zeros((NUM_REPETITIONS, N_FEATURES+1))\n",
    "\n",
    "for i in range(NUM_REPETITIONS):\n",
    "\n",
    "    s = time.time()\n",
    "    p_simoos = algorithms.SimOOSAlgorithm(\n",
    "        all_contexts=new_contexts, \n",
    "        number_of_actions=new_rewards.shape[1],\n",
    "        max_no_red_context=new_contexts.shape[1],\n",
    "        beta_SimOOS=BETA,\n",
    "        delta_SimOOS=0.8,\n",
    "    )\n",
    "    print(f\"Took {time.time() - s} seconds\")\n",
    "\n",
    "    import warnings\n",
    "    with warnings.catch_warnings():\n",
    "        warnings.simplefilter(\"ignore\")\n",
    "        s = time.time()\n",
    "        gain_simoos, reward_simoos, cost_simoos, _ = evaluation.evaluate_on_synthetic_data(\n",
    "            p_simoos,\n",
    "            new_contexts[:NUM_OF_TRIALS],\n",
    "            new_rewards[:NUM_OF_TRIALS],\n",
    "            costs_vector[:NUM_OF_TRIALS],\n",
    "            beta=BETA,\n",
    "            stop_after=NUM_OF_TRIALS,\n",
    "            return_full=True,\n",
    "        )\n",
    "        print(f\"Took {time.time() - s} seconds\")\n",
    "    gains_simoos[i, :] = gain_simoos\n",
    "    rewards_simoos[i, :] = reward_simoos\n",
    "    costs_simoos[i, :] = cost_simoos\n",
    "    accuracies_simoos[i, :] = get_accuracy_new(p_simoos)\n",
    "\n",
    "gain_simoos = np.mean(gains_simoos, axis=0)\n",
    "reward_simoos = np.mean(rewards_simoos, axis=0)\n",
    "cost_simoos = np.mean(costs_simoos, axis=0)\n",
    "accuracy_simoos = np.mean(accuracies_simoos, axis=0)\n",
    "print(f\"Average gain: {gain_simoos[-1]}\")"
   ]
  },
  {
   "cell_type": "code",
   "execution_count": null,
   "id": "8fdfc347",
   "metadata": {
    "scrolled": false
   },
   "outputs": [
    {
     "name": "stdout",
     "output_type": "stream",
     "text": [
      "Took 0.0015358924865722656 seconds\n",
      "Round 0, time 2022-06-08 10:47:24.192029\n",
      "Round 500, time 2022-06-08 10:48:27.932947\n",
      "Round 1000, time 2022-06-08 10:49:36.597675\n",
      "Round 1500, time 2022-06-08 10:50:44.832307\n",
      "Round 2000, time 2022-06-08 10:51:53.148504\n",
      "Round 2500, time 2022-06-08 10:53:01.662048\n",
      "Round 3000, time 2022-06-08 10:54:09.803795\n",
      "Round 3500, time 2022-06-08 10:55:18.239826\n",
      "Round 4000, time 2022-06-08 10:56:26.558676\n",
      "Round 4500, time 2022-06-08 10:57:34.898525\n",
      "Round 5000, time 2022-06-08 10:58:43.106760\n",
      "Round 5500, time 2022-06-08 10:59:51.540527\n",
      "Round 6000, time 2022-06-08 11:01:00.580414\n",
      "Round 6500, time 2022-06-08 11:02:10.879327\n",
      "Round 7000, time 2022-06-08 11:03:20.357892\n",
      "Round 7500, time 2022-06-08 11:04:30.596847\n",
      "Round 8000, time 2022-06-08 11:05:42.124848\n",
      "Round 8500, time 2022-06-08 11:06:51.193802\n",
      "Round 9000, time 2022-06-08 11:07:59.921774\n",
      "Round 9500, time 2022-06-08 11:09:09.425165\n",
      "Algorithm1 (beta=1, delta=0.04, w=250)\n",
      "Beta = 1\n",
      "Total gain: 6800.445460400327\n",
      "\tTotal reward: 7347.0\n",
      "\tTotal cost: 546.5545395996776\n",
      "Execution time: 23.0m\n",
      "Took 1377.0635142326355 seconds\n",
      "[   0    1 7342 7345 7346 7347]\n",
      "[    1     6  9982  9992  9998 10000]\n",
      "Took 0.004302263259887695 seconds\n",
      "Round 0, time 2022-06-08 11:10:21.761958\n",
      "Round 500, time 2022-06-08 11:11:26.503172\n",
      "Round 1000, time 2022-06-08 11:12:36.654359\n",
      "Round 1500, time 2022-06-08 11:13:46.353016\n",
      "Round 2000, time 2022-06-08 11:14:56.412842\n",
      "Round 2500, time 2022-06-08 11:16:04.499104\n",
      "Round 3000, time 2022-06-08 11:17:12.600441\n",
      "Round 3500, time 2022-06-08 11:18:20.161776\n",
      "Round 4000, time 2022-06-08 11:19:28.088708\n",
      "Round 4500, time 2022-06-08 11:20:35.694902\n",
      "Round 5000, time 2022-06-08 11:21:43.179017\n",
      "Round 5500, time 2022-06-08 11:22:50.813878\n",
      "Round 6000, time 2022-06-08 11:23:58.327459\n",
      "Round 6500, time 2022-06-08 11:25:05.805570\n",
      "Round 7000, time 2022-06-08 11:26:14.146756\n",
      "Round 7500, time 2022-06-08 11:27:21.820987\n",
      "Round 8000, time 2022-06-08 11:28:29.536080\n",
      "Round 8500, time 2022-06-08 11:29:37.144508\n",
      "Round 9000, time 2022-06-08 11:30:44.794973\n",
      "Round 9500, time 2022-06-08 11:31:52.411204\n",
      "Algorithm1 (beta=1, delta=0.04, w=250)\n",
      "Beta = 1\n",
      "Total gain: 7150.192878699708\n",
      "\tTotal reward: 7697.0\n",
      "\tTotal cost: 546.8071213002951\n",
      "Execution time: 22.6m\n",
      "Took 1358.3057117462158 seconds\n",
      "[   1    1 7691 7693 7697 7697]\n",
      "[    1     6  9979  9990  9999 10000]\n",
      "Took 0.003981113433837891 seconds\n",
      "Round 0, time 2022-06-08 11:33:00.539044\n",
      "Round 500, time 2022-06-08 11:34:03.915687\n",
      "Round 1000, time 2022-06-08 11:35:11.597629\n",
      "Round 1500, time 2022-06-08 11:36:19.185747\n",
      "Round 2000, time 2022-06-08 11:37:28.688017\n",
      "Round 2500, time 2022-06-08 11:38:36.720042\n",
      "Round 3000, time 2022-06-08 11:39:44.613564\n",
      "Round 3500, time 2022-06-08 11:40:52.150092\n",
      "Round 4000, time 2022-06-08 11:41:59.741334\n",
      "Round 4500, time 2022-06-08 11:43:07.497882\n",
      "Round 5000, time 2022-06-08 11:44:15.447919\n",
      "Round 5500, time 2022-06-08 11:45:23.139836\n",
      "Round 6000, time 2022-06-08 11:46:31.262267\n",
      "Round 6500, time 2022-06-08 11:47:38.775546\n",
      "Round 7000, time 2022-06-08 11:48:46.863017\n",
      "Round 7500, time 2022-06-08 11:49:54.385554\n",
      "Round 8000, time 2022-06-08 11:51:02.303345\n",
      "Round 8500, time 2022-06-08 11:52:09.896780\n",
      "Round 9000, time 2022-06-08 11:53:17.587354\n",
      "Round 9500, time 2022-06-08 11:54:25.074030\n",
      "Algorithm1 (beta=1, delta=0.04, w=250)\n",
      "Beta = 1\n",
      "Total gain: 6246.157415000015\n",
      "\tTotal reward: 7361.0\n",
      "\tTotal cost: 1114.84258499999\n",
      "Execution time: 22.5m\n",
      "Took 1352.2137198448181 seconds\n",
      "[   0    0    4 7361 7361 7361]\n",
      "[    1     6    19  9994  9999 10000]\n",
      "Took 0.004033088684082031 seconds\n",
      "Round 0, time 2022-06-08 11:55:33.230990\n",
      "Round 500, time 2022-06-08 11:56:35.921049\n",
      "Round 1000, time 2022-06-08 11:57:43.732236\n",
      "Round 1500, time 2022-06-08 11:58:51.851174\n",
      "Round 2000, time 2022-06-08 12:00:00.272382\n",
      "Round 2500, time 2022-06-08 12:01:08.728571\n",
      "Round 3000, time 2022-06-08 12:02:17.105783\n",
      "Round 3500, time 2022-06-08 12:03:25.643411\n",
      "Round 4000, time 2022-06-08 12:04:34.145517\n",
      "Round 4500, time 2022-06-08 12:05:42.349151\n",
      "Round 5000, time 2022-06-08 12:06:50.603144\n",
      "Round 5500, time 2022-06-08 12:07:58.939972\n",
      "Round 6000, time 2022-06-08 12:09:07.355006\n",
      "Round 6500, time 2022-06-08 12:10:16.204859\n",
      "Round 7000, time 2022-06-08 12:11:24.880492\n",
      "Round 7500, time 2022-06-08 12:12:33.609586\n",
      "Round 8000, time 2022-06-08 12:13:42.189748\n",
      "Round 8500, time 2022-06-08 12:14:50.874202\n",
      "Round 9000, time 2022-06-08 12:15:59.412872\n",
      "Round 9500, time 2022-06-08 12:17:08.156072\n",
      "Algorithm1 (beta=1, delta=0.04, w=250)\n",
      "Beta = 1\n",
      "Total gain: 3080.9379286493313\n",
      "\tTotal reward: 4859.0\n",
      "\tTotal cost: 1778.0620713506723\n",
      "Execution time: 22.7m\n",
      "Took 1363.1141719818115 seconds\n",
      "[   0    2  407  422  425 4859]\n",
      "[    1    11   667   709   720 10000]\n",
      "Took 0.0037631988525390625 seconds\n",
      "Round 0, time 2022-06-08 12:18:16.816791\n",
      "Round 500, time 2022-06-08 12:19:19.828848\n",
      "Round 1000, time 2022-06-08 12:20:28.022605\n",
      "Round 1500, time 2022-06-08 12:21:36.405740\n",
      "Round 2000, time 2022-06-08 12:22:44.910936\n",
      "Round 2500, time 2022-06-08 12:23:53.251164\n",
      "Round 3000, time 2022-06-08 12:25:01.604100\n",
      "Round 3500, time 2022-06-08 12:26:09.419459\n",
      "Round 4000, time 2022-06-08 12:27:16.933585\n",
      "Round 4500, time 2022-06-08 12:28:24.325972\n",
      "Round 5000, time 2022-06-08 12:29:31.838910\n",
      "Round 5500, time 2022-06-08 12:30:39.293563\n",
      "Round 6000, time 2022-06-08 12:31:46.761696\n",
      "Round 6500, time 2022-06-08 12:32:54.220587\n",
      "Round 7000, time 2022-06-08 12:34:02.394667\n"
     ]
    }
   ],
   "source": [
    "gains_alg1 = np.zeros((NUM_REPETITIONS, NUM_OF_TRIALS))\n",
    "rewards_alg1 = np.zeros((NUM_REPETITIONS, NUM_OF_TRIALS))\n",
    "costs_alg1 = np.zeros((NUM_REPETITIONS, NUM_OF_TRIALS))\n",
    "accuracies_alg1 = np.zeros((NUM_REPETITIONS, N_FEATURES+1))\n",
    "\n",
    "for i in range(NUM_REPETITIONS):\n",
    "\n",
    "    s = time.time()\n",
    "    p_alg1 = algorithms.Algorithm1(\n",
    "        all_contexts=new_contexts, \n",
    "        number_of_actions=new_rewards.shape[1],\n",
    "        max_no_red_context=new_contexts.shape[1],\n",
    "        beta=BETA,\n",
    "        delta=0.04,\n",
    "        window_length=250,\n",
    "        costs_range=COSTS_RANGE_SIZE,\n",
    "    )\n",
    "    print(f\"Took {time.time() - s} seconds\")\n",
    "\n",
    "    import warnings\n",
    "    with warnings.catch_warnings():\n",
    "        warnings.simplefilter(\"ignore\")\n",
    "        s = time.time()\n",
    "        gain_alg1, reward_alg1, cost_alg1, _ = evaluation.evaluate_on_synthetic_data(\n",
    "            p_alg1,\n",
    "            new_contexts[:NUM_OF_TRIALS],\n",
    "            new_rewards[:NUM_OF_TRIALS],\n",
    "            costs_vector[:NUM_OF_TRIALS],\n",
    "            beta=BETA,\n",
    "            stop_after=NUM_OF_TRIALS,\n",
    "            return_full=True,\n",
    "        )\n",
    "        print(f\"Took {time.time() - s} seconds\")\n",
    "        gains_alg1[i, :] = gain_alg1\n",
    "        rewards_alg1[i, :] = reward_alg1\n",
    "        costs_alg1[i, :] = cost_alg1\n",
    "        accuracies_alg1[i, :] = get_accuracy_new(p_alg1)\n",
    "\n",
    "gain_alg1 = np.mean(gains_alg1, axis=0)\n",
    "reward_alg1 = np.mean(rewards_alg1, axis=0)\n",
    "cost_alg1 = np.mean(costs_alg1, axis=0)\n",
    "accuracy_alg1 = np.mean(accuracies_alg1, axis=0)\n",
    "print(f\"Average gain: {gain_alg1[-1]}\")"
   ]
  },
  {
   "cell_type": "markdown",
   "id": "cc200b2f",
   "metadata": {},
   "source": [
    "### Oracle"
   ]
  },
  {
   "cell_type": "code",
   "execution_count": null,
   "id": "bcaac7b8",
   "metadata": {},
   "outputs": [],
   "source": [
    "all_stationarity_regions = [(l, r) for l,r in zip(all_change_point_values, all_change_point_values[1:])]\n",
    "N_STATIONARY_PERIODS = len(all_stationarity_regions)\n",
    "\n",
    "cost_means = np.zeros((N_STATIONARY_PERIODS, costs_vector.shape[1]))\n",
    "for reg_num, region in enumerate(all_stationarity_regions):\n",
    "    region_costs = costs_vector[slice(*region)]\n",
    "    cost_means[reg_num, :] = region_costs.mean(axis=0)"
   ]
  },
  {
   "cell_type": "code",
   "execution_count": null,
   "id": "e6863460",
   "metadata": {},
   "outputs": [],
   "source": [
    "gains_alg1_oracle = np.zeros((NUM_REPETITIONS, NUM_OF_TRIALS))\n",
    "rewards_alg1_oracle = np.zeros((NUM_REPETITIONS, NUM_OF_TRIALS))\n",
    "costs_alg1_oracle = np.zeros((NUM_REPETITIONS, NUM_OF_TRIALS))\n",
    "accuracies_alg1_oracle = np.zeros((NUM_REPETITIONS, N_FEATURES+1))\n",
    "\n",
    "for i in range(NUM_REPETITIONS):\n",
    "\n",
    "    s = time.time()\n",
    "    p_alg1_oracle = algorithms.Algorithm1_Oracle(\n",
    "        all_contexts=new_contexts, \n",
    "        all_rewards=new_rewards,\n",
    "        cost_means=cost_means,\n",
    "        stationarity_periods=all_stationarity_regions,\n",
    "        number_of_actions=new_rewards.shape[1],\n",
    "        max_no_red_context=new_contexts.shape[1],\n",
    "        beta_SimOOS=BETA,\n",
    "        \n",
    "    )\n",
    "    print(f\"Took {time.time() - s} seconds\")\n",
    "\n",
    "    import warnings\n",
    "    with warnings.catch_warnings():\n",
    "        warnings.simplefilter(\"ignore\")\n",
    "        s = time.time()\n",
    "        gain_alg1_oracle, reward_alg1_oracle, cost_alg1_oracle, _ = evaluation.evaluate_on_synthetic_data(\n",
    "            p_alg1_oracle,\n",
    "            new_contexts[:NUM_OF_TRIALS],\n",
    "            new_rewards[:NUM_OF_TRIALS],\n",
    "            costs_vector[:NUM_OF_TRIALS],\n",
    "            beta=BETA,\n",
    "            stop_after=NUM_OF_TRIALS,\n",
    "            return_full=True,\n",
    "        )\n",
    "        print(f\"Took {time.time() - s} seconds\")\n",
    "        gains_alg1_oracle[i, :] = gain_alg1_oracle\n",
    "        rewards_alg1_oracle[i, :] = reward_alg1_oracle\n",
    "        costs_alg1_oracle[i, :] = cost_alg1_oracle\n",
    "        accuracies_alg1_oracle[i, :] = get_accuracy_new(p_alg1_oracle)\n",
    "\n",
    "\n",
    "\n",
    "gain_alg1_oracle = np.mean(gains_alg1_oracle, axis=0)\n",
    "reward_alg1_oracle = np.mean(rewards_alg1_oracle, axis=0)\n",
    "cost_alg1_oracle = np.mean(costs_alg1_oracle, axis=0)\n",
    "accuracy_alg1_oracle = np.mean(accuracies_alg1_oracle, axis=0)\n",
    "print(f\"Average gain: {gain_alg1_oracle[-1]}\")"
   ]
  },
  {
   "cell_type": "code",
   "execution_count": null,
   "id": "aef426b6",
   "metadata": {},
   "outputs": [],
   "source": []
  },
  {
   "cell_type": "code",
   "execution_count": null,
   "id": "60071ecf",
   "metadata": {},
   "outputs": [],
   "source": []
  },
  {
   "cell_type": "code",
   "execution_count": null,
   "id": "0f233994",
   "metadata": {},
   "outputs": [],
   "source": []
  },
  {
   "cell_type": "code",
   "execution_count": null,
   "id": "26ea7138",
   "metadata": {},
   "outputs": [],
   "source": []
  },
  {
   "cell_type": "code",
   "execution_count": null,
   "id": "f727d741",
   "metadata": {},
   "outputs": [],
   "source": [
    "data_to_save = {\n",
    "    'mean_accuracies': {\n",
    "        'SimOOS': accuracy_simoos,\n",
    "        'Algorithm1': accuracy_alg1,\n",
    "        'Oracle': accuracy_alg1_oracle,\n",
    "    },\n",
    "    'accuracies': {\n",
    "        'SimOOS': accuracies_simoos,\n",
    "        'Algorithm1': accuracies_alg1,\n",
    "        'Oracle': accuracies_alg1_oracle,\n",
    "    },\n",
    "    'reward_change_points': change_point_values,\n",
    "    'cost_change_points': cost_change_points,\n",
    "    'all_change_points': all_change_point_values,\n",
    "}"
   ]
  },
  {
   "cell_type": "code",
   "execution_count": null,
   "id": "ed31591c",
   "metadata": {},
   "outputs": [],
   "source": [
    "with open('experiments/nursery/results/accuracies_averaging.pickle', 'wb') as f:\n",
    "    pickle.dump(data_to_save, f)"
   ]
  },
  {
   "cell_type": "markdown",
   "id": "ca368caf",
   "metadata": {},
   "source": [
    "## Load data back"
   ]
  },
  {
   "cell_type": "code",
   "execution_count": null,
   "id": "0e6180f9",
   "metadata": {},
   "outputs": [],
   "source": [
    "# with open('experiments/nursery/results/accuracies_averaging.pickle', 'rb') as f:\n",
    "#     data_to_save = pickle.load(f)"
   ]
  },
  {
   "cell_type": "code",
   "execution_count": null,
   "id": "b6d9c6d7",
   "metadata": {},
   "outputs": [],
   "source": [
    "accuracies = data_to_save['mean_accuracies']"
   ]
  },
  {
   "cell_type": "code",
   "execution_count": null,
   "id": "6754bf37",
   "metadata": {},
   "outputs": [],
   "source": [
    "accuracies "
   ]
  },
  {
   "cell_type": "code",
   "execution_count": null,
   "id": "44526f6e",
   "metadata": {},
   "outputs": [],
   "source": [
    "accuracies_to_plot = {\n",
    "    'NCC-UCRL2': accuracies['Algorithm1'],\n",
    "    'Sim-OOS': accuracies['SimOOS']\n",
    "}"
   ]
  },
  {
   "cell_type": "code",
   "execution_count": null,
   "id": "80180ced",
   "metadata": {},
   "outputs": [],
   "source": [
    "\n",
    "\n",
    "fig, ax = plt.subplots(1, figsize=(10, 5))\n",
    "ind_to_params = {\n",
    "        # ind: (mark, color)\n",
    "        0: ('d','red'), 1:('s', 'darkblue') , 2:('o','deepskyblue') , 3: ('>','orange'),\n",
    "        4: ('^', 'm'), 5: ('<', 'k'), 6: ('x','green'),\n",
    "    }\n",
    "\n",
    "for ind, (algorithm_name, accuracy_for_cost) in enumerate(accuracies_to_plot.items()):\n",
    "\n",
    "    mark, color = ind_to_params[ind]\n",
    "    ax.plot(\n",
    "        range(len(accuracy_for_cost)),\n",
    "        accuracy_for_cost,\n",
    "        label=algorithm_name,\n",
    "        marker=mark, markersize=8, fillstyle='none',\n",
    "        c=color, linestyle=':', linewidth=3,\n",
    "    )\n",
    "    \n",
    "ax.set_xlabel('Number Of Observations', fontsize=26)\n",
    "ax.set_ylabel('Accuracy', fontsize=26)\n",
    "ax.set_ylim(0.0, 0.8)\n",
    "plt.xticks(fontsize=22)\n",
    "plt.yticks(fontsize=22)\n",
    "ax.xaxis.set_major_locator(MaxNLocator(integer=True)) # Only integer labels\n",
    "\n",
    "plt.legend(prop={'size': 24}, loc='lower right');\n",
    "plt.savefig('experiments/nursery/making_figures/nursery_accuracy_alt_final.pdf', bbox_inches='tight')\n",
    "\n",
    "plt.show()"
   ]
  },
  {
   "cell_type": "code",
   "execution_count": null,
   "id": "3bd5b2df",
   "metadata": {},
   "outputs": [],
   "source": []
  },
  {
   "cell_type": "code",
   "execution_count": null,
   "id": "3eb996bd",
   "metadata": {},
   "outputs": [],
   "source": []
  },
  {
   "cell_type": "markdown",
   "id": "bd34347c",
   "metadata": {},
   "source": []
  },
  {
   "cell_type": "code",
   "execution_count": null,
   "id": "324ff1f4",
   "metadata": {},
   "outputs": [],
   "source": [
    "def plot_gains(gain_dict, reward_change_points=(), cost_change_points=()):\n",
    "    fig, ax = plt.subplots(1,1, figsize=(15,8));\n",
    "        \n",
    "    \n",
    "    \n",
    "    ind_to_params = {\n",
    "        # ind: (mark, color)\n",
    "        0: ('x', 'k'),\n",
    "        1: ('o','g'),\n",
    "        2: ('s','r'),\n",
    "        3: ('^','blue'),\n",
    "        4: ('d','olive'),\n",
    "        5: ('>', 'm'),\n",
    "        6: ('*', 'c'),\n",
    "        7: ('<', 'y'),\n",
    "    }\n",
    "    \n",
    "    sorted_gain_dict = {\n",
    "        k:v for k,v in sorted(gain_dict.items(), key=lambda x: x[1][-1], reverse=True)\n",
    "    }\n",
    "    \n",
    "    \n",
    "    max_vline=0\n",
    "    \n",
    "    for ind, (label, gain) in enumerate(sorted_gain_dict.items()):\n",
    "        \n",
    "        mark, color = ind_to_params[ind]\n",
    "        ax.plot(gain, label=label, linestyle=':', \n",
    "                marker=mark, markevery=750, markersize=10,\n",
    "                fillstyle='none', color=color,\n",
    "                linewidth=3,\n",
    "               )\n",
    "        max_vline=max(max_vline, max(gain))\n",
    "    \n",
    "    plt.vlines(\n",
    "        reward_change_points, ymin=0, ymax=max_vline, linestyle=':', alpha=0.4, label='Change points'\n",
    "    )\n",
    "    \n",
    "    \n",
    "    extraticks = all_change_point_values\n",
    "    plt.xticks(extraticks, rotation=35, fontsize=20)\n",
    "    plt.yticks(fontsize=20)\n",
    "    \n",
    "    ax.set_xlabel('Time step', fontsize=26)\n",
    "    ax.set_ylabel('Cumulative gain', fontsize=26)\n",
    "    \n",
    "    plt.legend(prop={'size': 20});\n",
    "    plt.show();"
   ]
  },
  {
   "cell_type": "code",
   "execution_count": null,
   "id": "8aa3b530",
   "metadata": {},
   "outputs": [],
   "source": [
    "plot_gains(\n",
    "    {\n",
    "    'SimOOS': gain_simoos,\n",
    "    'Algorithm1': gain_alg1,\n",
    "    },\n",
    "    reward_change_points=change_point_values,\n",
    "    cost_change_points=cost_change_points,\n",
    ")\n"
   ]
  },
  {
   "cell_type": "code",
   "execution_count": null,
   "id": "946f5b74",
   "metadata": {},
   "outputs": [],
   "source": []
  }
 ],
 "metadata": {
  "kernelspec": {
   "display_name": "Python 3 (ipykernel)",
   "language": "python",
   "name": "python3"
  },
  "language_info": {
   "codemirror_mode": {
    "name": "ipython",
    "version": 3
   },
   "file_extension": ".py",
   "mimetype": "text/x-python",
   "name": "python",
   "nbconvert_exporter": "python",
   "pygments_lexer": "ipython3",
   "version": "3.10.4"
  }
 },
 "nbformat": 4,
 "nbformat_minor": 5
}
