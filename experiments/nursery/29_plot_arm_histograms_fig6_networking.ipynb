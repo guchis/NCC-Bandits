{
 "cells": [
  {
   "cell_type": "markdown",
   "id": "bd264323",
   "metadata": {},
   "source": [
    "# Plot a histogram of arm choices for each stationary period.\n"
   ]
  },
  {
   "cell_type": "code",
   "execution_count": 1,
   "id": "ba49eee3",
   "metadata": {},
   "outputs": [
    {
     "data": {
      "text/plain": [
       "'/Users/sbokupripeku/git/work/examples/costly_nonstationary_bandits'"
      ]
     },
     "execution_count": 1,
     "metadata": {},
     "output_type": "execute_result"
    }
   ],
   "source": [
    "import os\n",
    "os.chdir(\"../..\")\n",
    "os.getcwd()"
   ]
  },
  {
   "cell_type": "code",
   "execution_count": 2,
   "id": "0b748cbc",
   "metadata": {},
   "outputs": [],
   "source": [
    "%load_ext autoreload\n",
    "%autoreload 2\n",
    "\n",
    "import matplotlib.pyplot as plt\n",
    "import numpy as np\n",
    "import pandas as pd\n",
    "import time\n",
    "import pickle\n",
    "import math\n",
    "\n",
    "from src import algorithms\n",
    "from src import evaluation\n",
    "from src import costs\n",
    "from src.plotting.costs import plot_costs"
   ]
  },
  {
   "cell_type": "code",
   "execution_count": 3,
   "id": "e225d680",
   "metadata": {},
   "outputs": [],
   "source": [
    "np.random.seed(42)"
   ]
  },
  {
   "cell_type": "markdown",
   "id": "f0539743",
   "metadata": {},
   "source": [
    "# Load the evaluation data saved in experiment 20"
   ]
  },
  {
   "cell_type": "code",
   "execution_count": 4,
   "id": "4e758282",
   "metadata": {},
   "outputs": [],
   "source": [
    "with open('dataset/nursery/nursery_evaluation.pickle', 'rb') as f:\n",
    "    data = pickle.load(f)\n",
    "    \n",
    "all_contexts, all_rewards = data"
   ]
  },
  {
   "cell_type": "code",
   "execution_count": 5,
   "id": "4dfd5385",
   "metadata": {},
   "outputs": [
    {
     "data": {
      "text/html": [
       "<div>\n",
       "<style scoped>\n",
       "    .dataframe tbody tr th:only-of-type {\n",
       "        vertical-align: middle;\n",
       "    }\n",
       "\n",
       "    .dataframe tbody tr th {\n",
       "        vertical-align: top;\n",
       "    }\n",
       "\n",
       "    .dataframe thead th {\n",
       "        text-align: right;\n",
       "    }\n",
       "</style>\n",
       "<table border=\"1\" class=\"dataframe\">\n",
       "  <thead>\n",
       "    <tr style=\"text-align: right;\">\n",
       "      <th></th>\n",
       "      <th>form</th>\n",
       "      <th>children</th>\n",
       "      <th>housing</th>\n",
       "      <th>finance</th>\n",
       "      <th>health</th>\n",
       "    </tr>\n",
       "  </thead>\n",
       "  <tbody>\n",
       "    <tr>\n",
       "      <th>1</th>\n",
       "      <td>1</td>\n",
       "      <td>1</td>\n",
       "      <td>1</td>\n",
       "      <td>1</td>\n",
       "      <td>3</td>\n",
       "    </tr>\n",
       "    <tr>\n",
       "      <th>4</th>\n",
       "      <td>1</td>\n",
       "      <td>1</td>\n",
       "      <td>1</td>\n",
       "      <td>1</td>\n",
       "      <td>3</td>\n",
       "    </tr>\n",
       "    <tr>\n",
       "      <th>5</th>\n",
       "      <td>1</td>\n",
       "      <td>1</td>\n",
       "      <td>1</td>\n",
       "      <td>1</td>\n",
       "      <td>1</td>\n",
       "    </tr>\n",
       "    <tr>\n",
       "      <th>7</th>\n",
       "      <td>1</td>\n",
       "      <td>1</td>\n",
       "      <td>1</td>\n",
       "      <td>1</td>\n",
       "      <td>3</td>\n",
       "    </tr>\n",
       "    <tr>\n",
       "      <th>8</th>\n",
       "      <td>1</td>\n",
       "      <td>1</td>\n",
       "      <td>1</td>\n",
       "      <td>1</td>\n",
       "      <td>1</td>\n",
       "    </tr>\n",
       "    <tr>\n",
       "      <th>...</th>\n",
       "      <td>...</td>\n",
       "      <td>...</td>\n",
       "      <td>...</td>\n",
       "      <td>...</td>\n",
       "      <td>...</td>\n",
       "    </tr>\n",
       "    <tr>\n",
       "      <th>12950</th>\n",
       "      <td>4</td>\n",
       "      <td>4</td>\n",
       "      <td>3</td>\n",
       "      <td>1</td>\n",
       "      <td>1</td>\n",
       "    </tr>\n",
       "    <tr>\n",
       "      <th>12951</th>\n",
       "      <td>4</td>\n",
       "      <td>4</td>\n",
       "      <td>3</td>\n",
       "      <td>2</td>\n",
       "      <td>2</td>\n",
       "    </tr>\n",
       "    <tr>\n",
       "      <th>12953</th>\n",
       "      <td>4</td>\n",
       "      <td>4</td>\n",
       "      <td>3</td>\n",
       "      <td>2</td>\n",
       "      <td>1</td>\n",
       "    </tr>\n",
       "    <tr>\n",
       "      <th>12954</th>\n",
       "      <td>4</td>\n",
       "      <td>4</td>\n",
       "      <td>3</td>\n",
       "      <td>2</td>\n",
       "      <td>2</td>\n",
       "    </tr>\n",
       "    <tr>\n",
       "      <th>12958</th>\n",
       "      <td>4</td>\n",
       "      <td>4</td>\n",
       "      <td>3</td>\n",
       "      <td>2</td>\n",
       "      <td>3</td>\n",
       "    </tr>\n",
       "  </tbody>\n",
       "</table>\n",
       "<p>10000 rows × 5 columns</p>\n",
       "</div>"
      ],
      "text/plain": [
       "       form  children  housing  finance  health\n",
       "1         1         1        1        1       3\n",
       "4         1         1        1        1       3\n",
       "5         1         1        1        1       1\n",
       "7         1         1        1        1       3\n",
       "8         1         1        1        1       1\n",
       "...     ...       ...      ...      ...     ...\n",
       "12950     4         4        3        1       1\n",
       "12951     4         4        3        2       2\n",
       "12953     4         4        3        2       1\n",
       "12954     4         4        3        2       2\n",
       "12958     4         4        3        2       3\n",
       "\n",
       "[10000 rows x 5 columns]"
      ]
     },
     "execution_count": 5,
     "metadata": {},
     "output_type": "execute_result"
    }
   ],
   "source": [
    "all_contexts"
   ]
  },
  {
   "cell_type": "code",
   "execution_count": 6,
   "id": "5b8c791b",
   "metadata": {},
   "outputs": [
    {
     "data": {
      "text/plain": [
       "array([[0., 1., 0.],\n",
       "       [0., 1., 0.],\n",
       "       [1., 0., 0.],\n",
       "       ...,\n",
       "       [1., 0., 0.],\n",
       "       [0., 0., 1.],\n",
       "       [0., 0., 1.]])"
      ]
     },
     "execution_count": 6,
     "metadata": {},
     "output_type": "execute_result"
    }
   ],
   "source": [
    "all_rewards"
   ]
  },
  {
   "cell_type": "markdown",
   "id": "cc538745",
   "metadata": {},
   "source": [
    "## Set BETA parameter for the experiment"
   ]
  },
  {
   "cell_type": "code",
   "execution_count": 7,
   "id": "7c2b0501",
   "metadata": {},
   "outputs": [],
   "source": [
    "BETA = 1"
   ]
  },
  {
   "cell_type": "markdown",
   "id": "a1f22f9e",
   "metadata": {},
   "source": [
    "# Adding non-stationarity\n"
   ]
  },
  {
   "cell_type": "markdown",
   "id": "29fe230c",
   "metadata": {},
   "source": [
    "### Non-stationarity in rewards"
   ]
  },
  {
   "cell_type": "code",
   "execution_count": 8,
   "id": "6b8cab7b",
   "metadata": {},
   "outputs": [
    {
     "data": {
      "text/plain": [
       "10000"
      ]
     },
     "execution_count": 8,
     "metadata": {},
     "output_type": "execute_result"
    }
   ],
   "source": [
    "all_rewards.shape[0]"
   ]
  },
  {
   "cell_type": "code",
   "execution_count": 9,
   "id": "0aaea10e",
   "metadata": {},
   "outputs": [],
   "source": [
    "stationarity_regions = [\n",
    "    slice(0, 500),\n",
    "    slice(500, 1000),\n",
    "    slice(1000, 2000),\n",
    "    slice(2000, 3500),\n",
    "    slice(3500, 5000),\n",
    "    slice(5000, 6500),\n",
    "    slice(6500, 8000),\n",
    "    slice(8000, all_contexts.shape[0]),\n",
    "]"
   ]
  },
  {
   "cell_type": "code",
   "execution_count": 10,
   "id": "99234270",
   "metadata": {},
   "outputs": [],
   "source": [
    "change_point_values = [x.start for x in stationarity_regions] + [stationarity_regions[-1].stop]\n",
    "change_point_values[0] += 1"
   ]
  },
  {
   "cell_type": "code",
   "execution_count": 11,
   "id": "07baf156",
   "metadata": {},
   "outputs": [
    {
     "data": {
      "text/plain": [
       "[1, 500, 1000, 2000, 3500, 5000, 6500, 8000, 10000]"
      ]
     },
     "execution_count": 11,
     "metadata": {},
     "output_type": "execute_result"
    }
   ],
   "source": [
    "change_point_values"
   ]
  },
  {
   "cell_type": "code",
   "execution_count": 12,
   "id": "95230d1f",
   "metadata": {},
   "outputs": [
    {
     "data": {
      "text/plain": [
       "array([0.3405, 0.3372, 0.3223])"
      ]
     },
     "execution_count": 12,
     "metadata": {},
     "output_type": "execute_result"
    }
   ],
   "source": [
    "# We invert arm 0 with 2 and 1 with 3 (\n",
    "np.mean(all_rewards, axis=0)"
   ]
  },
  {
   "cell_type": "code",
   "execution_count": 13,
   "id": "2ad6b353",
   "metadata": {},
   "outputs": [],
   "source": [
    "new_rewards = np.copy(all_rewards)\n",
    "new_contexts = np.copy(all_contexts)\n",
    "\n",
    "mean_rewards = np.zeros(new_rewards.shape)\n",
    "\n",
    "n_arms = all_rewards.shape[1]\n",
    "\n",
    "for i, region in enumerate(stationarity_regions):\n",
    "    for arm_from in range(n_arms):\n",
    "        # Cyclic shift of class labels\n",
    "        arm_to = (arm_from + i) % n_arms\n",
    "        if i > 0:\n",
    "            new_rewards[region, arm_to] = all_rewards[region, arm_from]\n",
    "        \n",
    "        # For plotting\n",
    "        mean_rewards[region, arm_to] = (\n",
    "            np.ones(new_rewards[region, arm_to].shape) * np.mean(new_rewards[region, arm_to])\n",
    "        )"
   ]
  },
  {
   "cell_type": "code",
   "execution_count": 14,
   "id": "1fcad487",
   "metadata": {},
   "outputs": [
    {
     "data": {
      "text/plain": [
       "((10000, 5), (10000, 3))"
      ]
     },
     "execution_count": 14,
     "metadata": {},
     "output_type": "execute_result"
    }
   ],
   "source": [
    "new_contexts.shape, new_rewards.shape"
   ]
  },
  {
   "cell_type": "markdown",
   "id": "f697974f",
   "metadata": {},
   "source": [
    "## Plot expected reward"
   ]
  },
  {
   "cell_type": "code",
   "execution_count": 15,
   "id": "6f590277",
   "metadata": {},
   "outputs": [
    {
     "name": "stdout",
     "output_type": "stream",
     "text": [
      "Min expected reward for arm 1: 0.0\n",
      "Min expected reward for arm 2: 0.023\n",
      "Min expected reward for arm 3: 0.0\n"
     ]
    },
    {
     "data": {
      "image/png": "[encoded data removed]",
      "text/plain": [
       "<Figure size 792x360 with 1 Axes>"
      ]
     },
     "metadata": {
      "needs_background": "light"
     },
     "output_type": "display_data"
    }
   ],
   "source": [
    "fig, ax = plt.subplots(1,1, figsize=(11,5))\n",
    "for arm in range(n_arms):\n",
    "    expected_gain = BETA * mean_rewards[:, arm] \n",
    "    ax.plot(expected_gain, label=f\"Arm {arm+1}\", linestyle=':', linewidth=5)\n",
    "    print(f\"Min expected reward for arm {arm+1}: {min(expected_gain)}\")\n",
    "\n",
    "    \n",
    "extraticks = change_point_values\n",
    "plt.xticks(extraticks, rotation=35, fontsize=16)\n",
    "\n",
    "plt.yticks(fontsize=16)\n",
    "\n",
    "ax.set_xlabel('Time step', fontsize=20)\n",
    "ax.set_ylabel(fr\"($\\beta$={BETA}) * Mean reward\", fontsize=20)\n",
    "\n",
    "lgd = ax.legend(loc=9, ncol=5, bbox_to_anchor=(0.5, 1.132), prop={'size': 15})\n",
    "\n",
    "\n",
    "plt.show()\n"
   ]
  },
  {
   "cell_type": "markdown",
   "id": "bc043c4b",
   "metadata": {},
   "source": [
    "### Non-stationarity in costs"
   ]
  },
  {
   "cell_type": "code",
   "execution_count": 16,
   "id": "a96b928e",
   "metadata": {},
   "outputs": [],
   "source": [
    "cost_change_points = [3000, 5000, 7000, 9000]\n",
    "interval_count = len(cost_change_points) + 1"
   ]
  },
  {
   "cell_type": "code",
   "execution_count": 17,
   "id": "6d042946",
   "metadata": {},
   "outputs": [],
   "source": [
    "cost_means_range = [0.01, 0.05]"
   ]
  },
  {
   "cell_type": "code",
   "execution_count": 18,
   "id": "7723b621",
   "metadata": {},
   "outputs": [],
   "source": [
    "COSTS_RANGE_SIZE = cost_means_range[1] - cost_means_range[0]"
   ]
  },
  {
   "cell_type": "code",
   "execution_count": 19,
   "id": "7b4ce894",
   "metadata": {},
   "outputs": [],
   "source": [
    "# Mean of gaussian distribution random in interval [0, 0.02] \n",
    "interval_means = [\n",
    "    np.random.uniform(\n",
    "        cost_means_range[0], cost_means_range[1], size=(new_contexts.shape[1],)\n",
    "    ) for i in range(interval_count)\n",
    "]"
   ]
  },
  {
   "cell_type": "code",
   "execution_count": 20,
   "id": "d801df91",
   "metadata": {},
   "outputs": [
    {
     "data": {
      "text/plain": [
       "[array([0.0249816 , 0.04802857, 0.03927976, 0.03394634, 0.01624075]),\n",
       " array([0.01623978, 0.01232334, 0.04464705, 0.0340446 , 0.0383229 ]),\n",
       " array([0.01082338, 0.04879639, 0.04329771, 0.01849356, 0.017273  ]),\n",
       " array([0.01733618, 0.02216969, 0.03099026, 0.0272778 , 0.02164917]),\n",
       " array([0.03447412, 0.01557975, 0.02168579, 0.02465447, 0.0282428 ])]"
      ]
     },
     "execution_count": 20,
     "metadata": {},
     "output_type": "execute_result"
    }
   ],
   "source": [
    "interval_means"
   ]
  },
  {
   "cell_type": "code",
   "execution_count": 21,
   "id": "59ba2ffd",
   "metadata": {},
   "outputs": [],
   "source": [
    "# Fixed std\n",
    "interval_stds = [[0.001]*new_contexts.shape[1]]*interval_count"
   ]
  },
  {
   "cell_type": "code",
   "execution_count": 22,
   "id": "28de8f86",
   "metadata": {},
   "outputs": [],
   "source": [
    "def get_costs():\n",
    "    return costs.NonstationaryGaussianCosts(\n",
    "        feature_vector_size=new_contexts.shape[1],\n",
    "        change_points=cost_change_points,\n",
    "        interval_means=interval_means,\n",
    "        interval_stds=interval_stds,\n",
    "        random_seed=42,\n",
    "    )\n",
    "    "
   ]
  },
  {
   "cell_type": "code",
   "execution_count": 23,
   "id": "3ac89d71",
   "metadata": {},
   "outputs": [
    {
     "data": {
      "image/png": "[encoded data removed]",
      "text/plain": [
       "<Figure size 1080x576 with 1 Axes>"
      ]
     },
     "execution_count": 23,
     "metadata": {},
     "output_type": "execute_result"
    }
   ],
   "source": [
    "plot_costs(get_costs(), new_contexts.shape[0])"
   ]
  },
  {
   "cell_type": "code",
   "execution_count": 24,
   "id": "65bd80bc",
   "metadata": {},
   "outputs": [],
   "source": [
    "costs_obj = get_costs()"
   ]
  },
  {
   "cell_type": "code",
   "execution_count": 25,
   "id": "40ccb3da",
   "metadata": {},
   "outputs": [],
   "source": [
    "costs_vector = []\n",
    "for t in range(new_contexts.shape[0]):\n",
    "    costs_at_t = np.array(costs_obj.get_separate_costs(trial=t))\n",
    "    costs_vector.append(costs_at_t)\n",
    "\n",
    "costs_vector = np.stack(costs_vector)"
   ]
  },
  {
   "cell_type": "code",
   "execution_count": 26,
   "id": "ca8fc603",
   "metadata": {},
   "outputs": [
    {
     "data": {
      "text/plain": [
       "(10000, 5)"
      ]
     },
     "execution_count": 26,
     "metadata": {},
     "output_type": "execute_result"
    }
   ],
   "source": [
    "costs_vector.shape"
   ]
  },
  {
   "cell_type": "markdown",
   "id": "016f4a8e",
   "metadata": {},
   "source": [
    "## Save mean costs for plotting"
   ]
  },
  {
   "cell_type": "code",
   "execution_count": 27,
   "id": "8903ba84",
   "metadata": {},
   "outputs": [],
   "source": [
    "full_cost_change_points = [0] + cost_change_points + [new_contexts.shape[0]]\n",
    "cost_stationarity_regions = []\n",
    "for a, b in zip(full_cost_change_points, full_cost_change_points[1:]):\n",
    "    cost_stationarity_regions.append(slice(a,b))"
   ]
  },
  {
   "cell_type": "code",
   "execution_count": 28,
   "id": "a07e0ed7",
   "metadata": {},
   "outputs": [],
   "source": [
    "mean_costs = np.zeros(costs_vector.shape)\n",
    "for i, region in enumerate(cost_stationarity_regions):\n",
    "    for feature in range(new_contexts.shape[1]):\n",
    "        \n",
    "        # For plotting\n",
    "        mean_costs[region, feature] = (\n",
    "            np.ones(costs_vector[region, feature].shape) * interval_means[i][feature]\n",
    "        )"
   ]
  },
  {
   "cell_type": "code",
   "execution_count": 29,
   "id": "f59ebe4d",
   "metadata": {},
   "outputs": [
    {
     "data": {
      "image/png": "[encoded data removed]",
      "text/plain": [
       "<Figure size 792x360 with 1 Axes>"
      ]
     },
     "metadata": {
      "needs_background": "light"
     },
     "output_type": "display_data"
    }
   ],
   "source": [
    "fig, ax = plt.subplots(1,1, figsize=(11,5))\n",
    "for feature in range(new_contexts.shape[1]):\n",
    "    ax.plot(mean_costs[:, feature], label=f\"Feature {feature}\")\n",
    "\n",
    "extraticks = full_cost_change_points\n",
    "plt.xticks(extraticks, rotation=35, fontsize=16)\n",
    "\n",
    "plt.yticks(fontsize=16)\n",
    "\n",
    "ax.set_xlabel('Time step', fontsize=20)\n",
    "ax.set_ylabel(fr\"Mean cost\", fontsize=20)\n",
    "\n",
    "lgd = ax.legend(loc=9, ncol=5, bbox_to_anchor=(0.5, 1.132), prop={'size': 15})\n",
    "\n",
    "plt.show()"
   ]
  },
  {
   "cell_type": "markdown",
   "id": "f2745795",
   "metadata": {},
   "source": [
    "## Plot expected reward minus sum of costs"
   ]
  },
  {
   "cell_type": "code",
   "execution_count": 30,
   "id": "5a1b46fe",
   "metadata": {},
   "outputs": [],
   "source": [
    "all_change_point_values = sorted(list(set(cost_change_points).union(set(change_point_values)) ))"
   ]
  },
  {
   "cell_type": "code",
   "execution_count": 31,
   "id": "4456e039",
   "metadata": {},
   "outputs": [
    {
     "name": "stdout",
     "output_type": "stream",
     "text": [
      "Min expected gain for arm 1: -0.1700929951305659\n",
      "Min expected gain for arm 2: -0.14641175322662411\n",
      "Min expected gain for arm 3: -0.16805707788587704\n"
     ]
    },
    {
     "data": {
      "image/png": "[encoded data removed]",
      "text/plain": [
       "<Figure size 792x360 with 1 Axes>"
      ]
     },
     "metadata": {
      "needs_background": "light"
     },
     "output_type": "display_data"
    }
   ],
   "source": [
    "fig, ax = plt.subplots(1,1, figsize=(11,5))\n",
    "for arm in range(n_arms):\n",
    "    sum_of_costs = np.sum(costs_vector, axis=1)\n",
    "    expected_gain = BETA * mean_rewards[:, arm] - sum_of_costs\n",
    "    ax.plot(expected_gain, label=f\"Arm {arm+1}\", linestyle=':', linewidth=5)\n",
    "    print(f\"Min expected gain for arm {arm+1}: {min(expected_gain)}\")\n",
    "\n",
    "    \n",
    "extraticks = all_change_point_values\n",
    "plt.xticks(extraticks, rotation=35, fontsize=16)\n",
    "\n",
    "plt.yticks(fontsize=16)\n",
    "\n",
    "ax.set_xlabel('Time step', fontsize=20)\n",
    "ax.set_ylabel(fr\"($\\beta$={BETA}) * Mean reward - sum(costs)\", fontsize=20)\n",
    "\n",
    "lgd = ax.legend(loc=9, ncol=5, bbox_to_anchor=(0.5, 1.132), prop={'size': 15})\n",
    "\n",
    "\n",
    "plt.show()\n"
   ]
  },
  {
   "cell_type": "code",
   "execution_count": 32,
   "id": "a02733fd",
   "metadata": {},
   "outputs": [],
   "source": [
    "def plot_gains(gain_dict, reward_change_points=()):\n",
    "    fig, ax = plt.subplots(1,1, figsize=(15,8));\n",
    "        \n",
    "    \n",
    "    \n",
    "    ind_to_params = {\n",
    "        # ind: (mark, color)\n",
    "        0: ('x', 'k'),\n",
    "        1: ('o','g'),\n",
    "        2: ('s','r'),\n",
    "        3: ('^','blue'),\n",
    "        4: ('d','olive'),\n",
    "        5: ('>', 'm'),\n",
    "        6: ('*', 'c'),\n",
    "        7: ('<', 'y'),\n",
    "    }\n",
    "    \n",
    "    sorted_gain_dict = {\n",
    "        k:v for k,v in sorted(gain_dict.items(), key=lambda x: x[1][-1], reverse=True)\n",
    "    }\n",
    "    \n",
    "    \n",
    "    max_vline=0\n",
    "    \n",
    "    for ind, (label, gain) in enumerate(sorted_gain_dict.items()):\n",
    "        \n",
    "        mark, color = ind_to_params[ind]\n",
    "        ax.plot(gain, label=label, linestyle=':', marker=mark, markevery=750, fillstyle='none', color=color)\n",
    "        max_vline=max(max_vline, max(gain))\n",
    "    \n",
    "    plt.vlines(reward_change_points, ymin=0, ymax=max_vline, linestyle=':', alpha=0.4)\n",
    "    \n",
    "    extraticks = all_change_point_values\n",
    "    plt.xticks(extraticks, rotation=35, fontsize=16)\n",
    "    plt.yticks(fontsize=16)\n",
    "    \n",
    "    ax.set_xlabel('Time step', fontsize=20)\n",
    "    ax.set_ylabel('Cumulative gain', fontsize=20)\n",
    "    \n",
    "\n",
    "\n",
    "    plt.legend(prop={'size': 16});\n",
    "    plt.show();"
   ]
  },
  {
   "cell_type": "markdown",
   "id": "110056a5",
   "metadata": {},
   "source": [
    "# Created change points"
   ]
  },
  {
   "cell_type": "code",
   "execution_count": 33,
   "id": "b52b806a",
   "metadata": {},
   "outputs": [
    {
     "data": {
      "text/plain": [
       "[1, 500, 1000, 2000, 3500, 5000, 6500, 8000, 10000]"
      ]
     },
     "execution_count": 33,
     "metadata": {},
     "output_type": "execute_result"
    }
   ],
   "source": [
    "# Reward changes\n",
    "change_point_values"
   ]
  },
  {
   "cell_type": "code",
   "execution_count": 34,
   "id": "29625086",
   "metadata": {},
   "outputs": [
    {
     "data": {
      "text/plain": [
       "[3000, 5000, 7000, 9000]"
      ]
     },
     "execution_count": 34,
     "metadata": {},
     "output_type": "execute_result"
    }
   ],
   "source": [
    "# Cost changes\n",
    "cost_change_points"
   ]
  },
  {
   "cell_type": "code",
   "execution_count": 35,
   "id": "bfe539ce",
   "metadata": {},
   "outputs": [
    {
     "data": {
      "text/plain": [
       "[1, 500, 1000, 2000, 3000, 3500, 5000, 6500, 7000, 8000, 9000, 10000]"
      ]
     },
     "execution_count": 35,
     "metadata": {},
     "output_type": "execute_result"
    }
   ],
   "source": [
    "all_change_point_values"
   ]
  },
  {
   "cell_type": "code",
   "execution_count": 36,
   "id": "d8db6a4a",
   "metadata": {},
   "outputs": [],
   "source": [
    "all_stationarity_regions = [(l, r) for l,r in zip(all_change_point_values, all_change_point_values[1:])]\n",
    "N_STATIONARY_PERIODS = len(all_stationarity_regions)"
   ]
  },
  {
   "cell_type": "code",
   "execution_count": 37,
   "id": "c3a6141f",
   "metadata": {},
   "outputs": [
    {
     "data": {
      "text/plain": [
       "[(1, 500),\n",
       " (500, 1000),\n",
       " (1000, 2000),\n",
       " (2000, 3000),\n",
       " (3000, 3500),\n",
       " (3500, 5000),\n",
       " (5000, 6500),\n",
       " (6500, 7000),\n",
       " (7000, 8000),\n",
       " (8000, 9000),\n",
       " (9000, 10000)]"
      ]
     },
     "execution_count": 37,
     "metadata": {},
     "output_type": "execute_result"
    }
   ],
   "source": [
    "all_stationarity_regions"
   ]
  },
  {
   "cell_type": "code",
   "execution_count": null,
   "id": "3585331b",
   "metadata": {},
   "outputs": [],
   "source": []
  },
  {
   "cell_type": "markdown",
   "id": "6bdcf893",
   "metadata": {},
   "source": [
    "### Function to get histogram from list of chosen arms"
   ]
  },
  {
   "cell_type": "code",
   "execution_count": 38,
   "id": "8e59a0f1",
   "metadata": {},
   "outputs": [],
   "source": [
    "def get_histograms(arms_list, regions):\n",
    "    arms = np.array(arms_list)\n",
    "    n_arms = len(np.unique(arms))\n",
    "    n_regions = len(regions)\n",
    "    histograms = np.zeros((n_regions, n_arms))\n",
    "    for i, region in enumerate(regions):\n",
    "        arms_in_region = arms[slice(*region)]\n",
    "        region_histogram = np.zeros(n_arms)\n",
    "        for arm in range(n_arms):\n",
    "            region_histogram[arm] = np.count_nonzero(arms_in_region == arm)\n",
    "        histograms[i, :] = region_histogram\n",
    "        \n",
    "    return histograms"
   ]
  },
  {
   "cell_type": "markdown",
   "id": "cd6b31a0",
   "metadata": {},
   "source": [
    "# Running evaluation"
   ]
  },
  {
   "cell_type": "code",
   "execution_count": 39,
   "id": "0cd27080",
   "metadata": {},
   "outputs": [],
   "source": [
    "# Histogram dict for every algorithm. Averaged histograms are saved\n",
    "histograms = {}"
   ]
  },
  {
   "cell_type": "code",
   "execution_count": 40,
   "id": "2fbfaf26",
   "metadata": {},
   "outputs": [],
   "source": [
    "NUM_OF_TRIALS = all_contexts.shape[0]\n",
    "NUM_REPETITIONS = 5\n",
    "N_ARMS = all_rewards.shape[1]"
   ]
  },
  {
   "cell_type": "code",
   "execution_count": 41,
   "id": "51f47053",
   "metadata": {},
   "outputs": [],
   "source": [
    "np.random.seed(42)"
   ]
  },
  {
   "cell_type": "code",
   "execution_count": 42,
   "id": "93422c03",
   "metadata": {
    "scrolled": true
   },
   "outputs": [
    {
     "name": "stdout",
     "output_type": "stream",
     "text": [
      "Random policy\n",
      "Beta = 1\n",
      "Total gain: 3332.0\n",
      "\tTotal reward: 3332.0\n",
      "\tTotal cost: 0\n",
      "Execution time: 0.1s\n",
      "Random policy\n",
      "Beta = 1\n",
      "Total gain: 3446.0\n",
      "\tTotal reward: 3446.0\n",
      "\tTotal cost: 0\n",
      "Execution time: 0.1s\n",
      "Random policy\n",
      "Beta = 1\n",
      "Total gain: 3271.0\n",
      "\tTotal reward: 3271.0\n",
      "\tTotal cost: 0\n",
      "Execution time: 0.1s\n",
      "Random policy\n",
      "Beta = 1\n",
      "Total gain: 3251.0\n",
      "\tTotal reward: 3251.0\n",
      "\tTotal cost: 0\n",
      "Execution time: 0.1s\n",
      "Random policy\n",
      "Beta = 1\n",
      "Total gain: 3353.0\n",
      "\tTotal reward: 3353.0\n",
      "\tTotal cost: 0\n",
      "Execution time: 0.1s\n",
      "Average gain: 3330.6\n"
     ]
    }
   ],
   "source": [
    "gains_random = np.zeros((NUM_REPETITIONS, NUM_OF_TRIALS))\n",
    "hists = np.zeros((NUM_REPETITIONS, N_STATIONARY_PERIODS, N_ARMS))\n",
    "\n",
    "for i in range(NUM_REPETITIONS):\n",
    "    p_random = algorithms.RandomPolicy()\n",
    "    gain_random, _, _, arms_random = evaluation.evaluate_on_synthetic_data(\n",
    "        p_random,\n",
    "        new_contexts,\n",
    "        new_rewards,\n",
    "        costs_vector,\n",
    "        beta=BETA,\n",
    "        stop_after=NUM_OF_TRIALS,\n",
    "        return_full=True,\n",
    "    )\n",
    "    gains_random[i, :] = gain_random\n",
    "    hists[i, :, :] = get_histograms(arms_random, all_stationarity_regions)\n",
    "    \n",
    "histograms['Random'] = np.mean(hists, axis=0)\n",
    "gain_random = np.mean(gains_random, axis=0)\n",
    "print(f\"Average gain: {gain_random[-1]}\")"
   ]
  },
  {
   "cell_type": "code",
   "execution_count": 43,
   "id": "1b2522d9",
   "metadata": {
    "scrolled": true
   },
   "outputs": [
    {
     "name": "stdout",
     "output_type": "stream",
     "text": [
      "E-greedy(epsilon=0.03)\n",
      "Beta = 1\n",
      "Total gain: 3732.0\n",
      "\tTotal reward: 3732.0\n",
      "\tTotal cost: 0\n",
      "Execution time: 0.1s\n",
      "E-greedy(epsilon=0.03)\n",
      "Beta = 1\n",
      "Total gain: 3917.0\n",
      "\tTotal reward: 3917.0\n",
      "\tTotal cost: 0\n",
      "Execution time: 0.1s\n",
      "E-greedy(epsilon=0.03)\n",
      "Beta = 1\n",
      "Total gain: 3731.0\n",
      "\tTotal reward: 3731.0\n",
      "\tTotal cost: 0\n",
      "Execution time: 0.1s\n",
      "E-greedy(epsilon=0.03)\n",
      "Beta = 1\n",
      "Total gain: 3815.0\n",
      "\tTotal reward: 3815.0\n",
      "\tTotal cost: 0\n",
      "Execution time: 0.1s\n",
      "E-greedy(epsilon=0.03)\n",
      "Beta = 1\n",
      "Total gain: 3714.0\n",
      "\tTotal reward: 3714.0\n",
      "\tTotal cost: 0\n",
      "Execution time: 0.1s\n",
      "Average gain: 3781.8\n"
     ]
    }
   ],
   "source": [
    "gains_egreedy = np.zeros((NUM_REPETITIONS, NUM_OF_TRIALS))\n",
    "hists = np.zeros((NUM_REPETITIONS, N_STATIONARY_PERIODS, N_ARMS))\n",
    "\n",
    "for i in range(NUM_REPETITIONS):\n",
    "    egreedy = algorithms.EpsilonGreedy(epsilon=0.03, n_arms=new_rewards.shape[1])\n",
    "\n",
    "    gain_egreedy, _, _, arms_egreedy = evaluation.evaluate_on_synthetic_data(\n",
    "        egreedy,\n",
    "        new_contexts,\n",
    "        new_rewards,\n",
    "        costs_vector,\n",
    "        beta=BETA,\n",
    "        stop_after=NUM_OF_TRIALS,\n",
    "        return_full=True,\n",
    "    )\n",
    "    gains_egreedy[i, :] = gain_egreedy\n",
    "    hists[i, :, :] = get_histograms(arms_egreedy, all_stationarity_regions)\n",
    "    \n",
    "histograms['E-greedy'] = np.mean(hists, axis=0)\n",
    "gain_egreedy = np.mean(gains_egreedy, axis=0)\n",
    "print(f\"Average gain: {gain_egreedy[-1]}\")"
   ]
  },
  {
   "cell_type": "code",
   "execution_count": 44,
   "id": "674f8082",
   "metadata": {
    "scrolled": true
   },
   "outputs": [
    {
     "name": "stdout",
     "output_type": "stream",
     "text": [
      "UCB1 (α=0.6)\n",
      "Beta = 1\n",
      "Total gain: 5270.0\n",
      "\tTotal reward: 5270.0\n",
      "\tTotal cost: 0\n",
      "Execution time: 0.1s\n",
      "UCB1 (α=0.6)\n",
      "Beta = 1\n",
      "Total gain: 5270.0\n",
      "\tTotal reward: 5270.0\n",
      "\tTotal cost: 0\n",
      "Execution time: 0.1s\n",
      "UCB1 (α=0.6)\n",
      "Beta = 1\n",
      "Total gain: 5270.0\n",
      "\tTotal reward: 5270.0\n",
      "\tTotal cost: 0\n",
      "Execution time: 0.1s\n",
      "UCB1 (α=0.6)\n",
      "Beta = 1\n",
      "Total gain: 5270.0\n",
      "\tTotal reward: 5270.0\n",
      "\tTotal cost: 0\n",
      "Execution time: 0.1s\n",
      "UCB1 (α=0.6)\n",
      "Beta = 1\n",
      "Total gain: 5270.0\n",
      "\tTotal reward: 5270.0\n",
      "\tTotal cost: 0\n",
      "Execution time: 0.1s\n",
      "Average gain: 5270.0\n"
     ]
    }
   ],
   "source": [
    "gains_ucb = np.zeros((NUM_REPETITIONS, NUM_OF_TRIALS))\n",
    "hists = np.zeros((NUM_REPETITIONS, N_STATIONARY_PERIODS, N_ARMS))\n",
    "\n",
    "for i in range(NUM_REPETITIONS):\n",
    "\n",
    "    ucb_alg = algorithms.UCB1(\n",
    "            n_trials=NUM_OF_TRIALS,\n",
    "            n_arms=new_rewards.shape[1],\n",
    "            alpha=0.6,\n",
    "        )\n",
    "\n",
    "    gain_ucb, _, _, arms_ucb = evaluation.evaluate_on_synthetic_data(\n",
    "        ucb_alg,\n",
    "        new_contexts,\n",
    "        new_rewards,\n",
    "        costs_vector,\n",
    "        beta=BETA,\n",
    "        stop_after=NUM_OF_TRIALS,\n",
    "        return_full=True,\n",
    "    )\n",
    "    gains_ucb[i, :] = gain_ucb\n",
    "    hists[i, :, :] = get_histograms(arms_ucb, all_stationarity_regions)\n",
    "\n",
    "histograms['UCB1'] = np.mean(hists, axis=0)\n",
    "gain_ucb = np.mean(gains_ucb, axis=0)\n",
    "print(f\"Average gain: {gain_ucb[-1]}\")"
   ]
  },
  {
   "cell_type": "code",
   "execution_count": 45,
   "id": "1fcf6125",
   "metadata": {
    "scrolled": true
   },
   "outputs": [
    {
     "name": "stdout",
     "output_type": "stream",
     "text": [
      "LinUCB (alpha=0.5)\n",
      "Beta = 1\n",
      "Total gain: 2829.551070859981\n",
      "\tTotal reward: 4249.0\n",
      "\tTotal cost: 1419.4489291400032\n",
      "Execution time: 0.4s\n",
      "LinUCB (alpha=0.5)\n",
      "Beta = 1\n",
      "Total gain: 2829.551070859981\n",
      "\tTotal reward: 4249.0\n",
      "\tTotal cost: 1419.4489291400032\n",
      "Execution time: 0.4s\n",
      "LinUCB (alpha=0.5)\n",
      "Beta = 1\n",
      "Total gain: 2829.551070859981\n",
      "\tTotal reward: 4249.0\n",
      "\tTotal cost: 1419.4489291400032\n",
      "Execution time: 0.4s\n",
      "LinUCB (alpha=0.5)\n",
      "Beta = 1\n",
      "Total gain: 2829.551070859981\n",
      "\tTotal reward: 4249.0\n",
      "\tTotal cost: 1419.4489291400032\n",
      "Execution time: 0.4s\n",
      "LinUCB (alpha=0.5)\n",
      "Beta = 1\n",
      "Total gain: 2829.551070859981\n",
      "\tTotal reward: 4249.0\n",
      "\tTotal cost: 1419.4489291400032\n",
      "Execution time: 0.4s\n",
      "Average gain: 2829.551070859981\n"
     ]
    }
   ],
   "source": [
    "gains_linucb = np.zeros((NUM_REPETITIONS, NUM_OF_TRIALS))\n",
    "hists = np.zeros((NUM_REPETITIONS, N_STATIONARY_PERIODS, N_ARMS))\n",
    "\n",
    "for i in range(NUM_REPETITIONS):\n",
    "\n",
    "    linucb = algorithms.LinUCB(\n",
    "        n_trials=NUM_OF_TRIALS,\n",
    "        context_dimension=new_contexts.shape[1],\n",
    "        n_arms=new_rewards.shape[1],\n",
    "        alpha=0.5,\n",
    "    )\n",
    "    gain_linucb, _, _, arms_linucb = evaluation.evaluate_on_synthetic_data(\n",
    "        linucb,\n",
    "        new_contexts,\n",
    "        new_rewards,\n",
    "        costs_vector,\n",
    "        beta=BETA,\n",
    "        stop_after=NUM_OF_TRIALS,\n",
    "        return_full=True,\n",
    "    )\n",
    "    gains_linucb[i, :] = gain_linucb\n",
    "    hists[i, :, :] = get_histograms(arms_linucb, all_stationarity_regions)\n",
    "    \n",
    "histograms['LinUCB'] = np.mean(hists, axis=0)\n",
    "gain_linucb = np.mean(gains_linucb, axis=0)\n",
    "print(f\"Average gain: {gain_linucb[-1]}\")"
   ]
  },
  {
   "cell_type": "code",
   "execution_count": 46,
   "id": "1c6ea25f",
   "metadata": {
    "scrolled": true
   },
   "outputs": [
    {
     "name": "stdout",
     "output_type": "stream",
     "text": [
      "PSLinUCB (alpha=0.7, omega=100, delta=0.05)\n",
      "Beta = 1\n",
      "Total gain: 5769.551070859987\n",
      "\tTotal reward: 7189.0\n",
      "\tTotal cost: 1419.4489291400032\n",
      "Execution time: 0.5s\n",
      "PSLinUCB (alpha=0.7, omega=100, delta=0.05)\n",
      "Beta = 1\n",
      "Total gain: 5769.551070859987\n",
      "\tTotal reward: 7189.0\n",
      "\tTotal cost: 1419.4489291400032\n",
      "Execution time: 0.5s\n",
      "PSLinUCB (alpha=0.7, omega=100, delta=0.05)\n",
      "Beta = 1\n",
      "Total gain: 5769.551070859987\n",
      "\tTotal reward: 7189.0\n",
      "\tTotal cost: 1419.4489291400032\n",
      "Execution time: 0.5s\n",
      "PSLinUCB (alpha=0.7, omega=100, delta=0.05)\n",
      "Beta = 1\n",
      "Total gain: 5769.551070859987\n",
      "\tTotal reward: 7189.0\n",
      "\tTotal cost: 1419.4489291400032\n",
      "Execution time: 0.5s\n",
      "PSLinUCB (alpha=0.7, omega=100, delta=0.05)\n",
      "Beta = 1\n",
      "Total gain: 5769.551070859987\n",
      "\tTotal reward: 7189.0\n",
      "\tTotal cost: 1419.4489291400032\n",
      "Execution time: 0.4s\n",
      "Average gain: 5769.551070859987\n"
     ]
    }
   ],
   "source": [
    "gains_pslinucb = np.zeros((NUM_REPETITIONS, NUM_OF_TRIALS))\n",
    "hists = np.zeros((NUM_REPETITIONS, N_STATIONARY_PERIODS, N_ARMS))\n",
    "\n",
    "for i in range(NUM_REPETITIONS):\n",
    "\n",
    "    ps_linucb = algorithms.PSLinUCB(\n",
    "        n_trials=NUM_OF_TRIALS,\n",
    "        context_dimension=new_contexts.shape[1],\n",
    "        n_arms=new_rewards.shape[1],\n",
    "        alpha=0.7,\n",
    "        omega=100,\n",
    "        delta=0.05,\n",
    "    )\n",
    "\n",
    "\n",
    "    gain_pslinucb, _, _, arms_pslinucb = evaluation.evaluate_on_synthetic_data(\n",
    "        ps_linucb,\n",
    "        new_contexts,\n",
    "        new_rewards,\n",
    "        costs_vector,\n",
    "        beta=BETA,\n",
    "        stop_after=NUM_OF_TRIALS,\n",
    "        return_full=True,\n",
    "    )\n",
    "    gains_pslinucb[i, :] = gain_pslinucb\n",
    "    hists[i, :, :] = get_histograms(arms_pslinucb, all_stationarity_regions)\n",
    "    \n",
    "histograms['PSLinUCB'] = np.mean(hists, axis=0)\n",
    "gain_pslinucb = np.mean(gains_pslinucb, axis=0)\n",
    "print(f\"Average gain: {gain_pslinucb[-1]}\")"
   ]
  },
  {
   "cell_type": "code",
   "execution_count": 47,
   "id": "dd2e010e",
   "metadata": {
    "scrolled": true
   },
   "outputs": [
    {
     "name": "stdout",
     "output_type": "stream",
     "text": [
      "Took 0.0014488697052001953 seconds\n",
      "Trial 0, time 2022-05-25 22:29:38.935069\n",
      "Trial 500, time 2022-05-25 22:30:04.330540\n",
      "Trial 1000, time 2022-05-25 22:30:17.713780\n",
      "Trial 1500, time 2022-05-25 22:30:39.989536\n",
      "Trial 2000, time 2022-05-25 22:31:03.123779\n",
      "Trial 2500, time 2022-05-25 22:31:07.099636\n",
      "Trial 3000, time 2022-05-25 22:31:08.503399\n",
      "Trial 3500, time 2022-05-25 22:31:10.022846\n",
      "Trial 4000, time 2022-05-25 22:31:10.861217\n",
      "Trial 4500, time 2022-05-25 22:31:11.159153\n",
      "Trial 5000, time 2022-05-25 22:31:13.201708\n",
      "Trial 5500, time 2022-05-25 22:31:23.549517\n",
      "Trial 6000, time 2022-05-25 22:31:24.833458\n",
      "Trial 6500, time 2022-05-25 22:31:26.735396\n",
      "Trial 7000, time 2022-05-25 22:31:27.815221\n",
      "Trial 7500, time 2022-05-25 22:31:32.655411\n",
      "Trial 8000, time 2022-05-25 22:31:43.861620\n",
      "Trial 8500, time 2022-05-25 22:31:53.423675\n",
      "Trial 9000, time 2022-05-25 22:32:02.879711\n",
      "Trial 9500, time 2022-05-25 22:32:04.737088\n",
      "SimOOS (beta=1, delta=0.8)\n",
      "Beta = 1\n",
      "Total gain: 2972.9226960062765\n",
      "\tTotal reward: 3918.0\n",
      "\tTotal cost: 945.0773039937193\n",
      "Execution time: 2.5m\n",
      "Took 147.8942892551422 seconds\n",
      "Took 0.0019049644470214844 seconds\n",
      "Trial 0, time 2022-05-25 22:32:06.833487\n",
      "Trial 500, time 2022-05-25 22:32:27.057202\n",
      "Trial 1000, time 2022-05-25 22:33:05.709294\n",
      "Trial 1500, time 2022-05-25 22:33:19.483835\n",
      "Trial 2000, time 2022-05-25 22:33:31.901012\n",
      "Trial 2500, time 2022-05-25 22:34:04.904216\n",
      "Trial 3000, time 2022-05-25 22:34:10.554623\n",
      "Trial 3500, time 2022-05-25 22:34:12.285747\n",
      "Trial 4000, time 2022-05-25 22:34:12.755248\n",
      "Trial 4500, time 2022-05-25 22:34:13.125262\n",
      "Trial 5000, time 2022-05-25 22:34:13.711701\n",
      "Trial 5500, time 2022-05-25 22:34:17.968933\n",
      "Trial 6000, time 2022-05-25 22:34:20.537726\n",
      "Trial 6500, time 2022-05-25 22:34:20.977433\n",
      "Trial 7000, time 2022-05-25 22:34:23.164172\n",
      "Trial 7500, time 2022-05-25 22:34:24.801153\n",
      "Trial 8000, time 2022-05-25 22:34:25.185862\n",
      "Trial 8500, time 2022-05-25 22:34:25.976309\n",
      "Trial 9000, time 2022-05-25 22:34:27.715741\n",
      "Trial 9500, time 2022-05-25 22:34:29.524467\n",
      "SimOOS (beta=1, delta=0.8)\n",
      "Beta = 1\n",
      "Total gain: 3227.6110487198953\n",
      "\tTotal reward: 4224.0\n",
      "\tTotal cost: 996.3889512800988\n",
      "Execution time: 2.5m\n",
      "Took 148.36330008506775 seconds\n",
      "Took 0.0014278888702392578 seconds\n",
      "Trial 0, time 2022-05-25 22:34:35.198723\n",
      "Trial 500, time 2022-05-25 22:35:15.654967\n",
      "Trial 1000, time 2022-05-25 22:35:39.661894\n",
      "Trial 1500, time 2022-05-25 22:35:45.744993\n",
      "Trial 2000, time 2022-05-25 22:35:47.661318\n",
      "Trial 2500, time 2022-05-25 22:35:48.338517\n",
      "Trial 3000, time 2022-05-25 22:35:49.225022\n",
      "Trial 3500, time 2022-05-25 22:35:50.245436\n",
      "Trial 4000, time 2022-05-25 22:35:51.022504\n",
      "Trial 4500, time 2022-05-25 22:35:52.553691\n",
      "Trial 5000, time 2022-05-25 22:35:54.068176\n",
      "Trial 5500, time 2022-05-25 22:35:57.952406\n",
      "Trial 6000, time 2022-05-25 22:35:59.061614\n",
      "Trial 6500, time 2022-05-25 22:36:02.730119\n",
      "Trial 7000, time 2022-05-25 22:36:12.093242\n",
      "Trial 7500, time 2022-05-25 22:36:14.400502\n",
      "Trial 8000, time 2022-05-25 22:36:15.077526\n",
      "Trial 8500, time 2022-05-25 22:36:20.424545\n",
      "Trial 9000, time 2022-05-25 22:36:22.304468\n",
      "Trial 9500, time 2022-05-25 22:36:27.100860\n",
      "SimOOS (beta=1, delta=0.8)\n",
      "Beta = 1\n",
      "Total gain: 2334.6090759523186\n",
      "\tTotal reward: 3386.0\n",
      "\tTotal cost: 1051.3909240476928\n",
      "Execution time: 2.0m\n",
      "Took 117.90789198875427 seconds\n",
      "Took 0.0045032501220703125 seconds\n",
      "Trial 0, time 2022-05-25 22:36:33.112684\n",
      "Trial 500, time 2022-05-25 22:37:00.312966\n",
      "Trial 1000, time 2022-05-25 22:37:08.642140\n",
      "Trial 1500, time 2022-05-25 22:37:35.334499\n",
      "Trial 2000, time 2022-05-25 22:37:53.390930\n",
      "Trial 2500, time 2022-05-25 22:37:54.595637\n",
      "Trial 3000, time 2022-05-25 22:38:03.055410\n",
      "Trial 3500, time 2022-05-25 22:38:29.319748\n",
      "Trial 4000, time 2022-05-25 22:38:31.513780\n",
      "Trial 4500, time 2022-05-25 22:38:31.856975\n",
      "Trial 5000, time 2022-05-25 22:38:35.979517\n",
      "Trial 5500, time 2022-05-25 22:38:36.135579\n",
      "Trial 6000, time 2022-05-25 22:38:36.396953\n",
      "Trial 6500, time 2022-05-25 22:38:36.551067\n",
      "Trial 7000, time 2022-05-25 22:38:37.440274\n",
      "Trial 7500, time 2022-05-25 22:38:37.913726\n",
      "Trial 8000, time 2022-05-25 22:38:38.388868\n",
      "Trial 8500, time 2022-05-25 22:38:38.548430\n",
      "Trial 9000, time 2022-05-25 22:39:02.838635\n",
      "Trial 9500, time 2022-05-25 22:39:23.248546\n",
      "SimOOS (beta=1, delta=0.8)\n",
      "Beta = 1\n",
      "Total gain: 3751.322278230882\n",
      "\tTotal reward: 4730.0\n",
      "\tTotal cost: 978.6777217691058\n",
      "Execution time: 2.9m\n",
      "Took 172.14776706695557 seconds\n",
      "Took 0.0018513202667236328 seconds\n",
      "Trial 0, time 2022-05-25 22:39:25.263157\n",
      "Trial 500, time 2022-05-25 22:39:46.872690\n",
      "Trial 1000, time 2022-05-25 22:39:52.909503\n",
      "Trial 1500, time 2022-05-25 22:40:03.833589\n",
      "Trial 2000, time 2022-05-25 22:40:22.717637\n",
      "Trial 2500, time 2022-05-25 22:40:25.766329\n",
      "Trial 3000, time 2022-05-25 22:40:27.260505\n",
      "Trial 3500, time 2022-05-25 22:40:29.484413\n",
      "Trial 4000, time 2022-05-25 22:40:30.036806\n",
      "Trial 4500, time 2022-05-25 22:40:33.390940\n",
      "Trial 5000, time 2022-05-25 22:40:34.879969\n",
      "Trial 5500, time 2022-05-25 22:40:36.159215\n",
      "Trial 6000, time 2022-05-25 22:41:12.116349\n",
      "Trial 6500, time 2022-05-25 22:41:35.404190\n",
      "Trial 7000, time 2022-05-25 22:41:44.425863\n",
      "Trial 7500, time 2022-05-25 22:41:46.403538\n",
      "Trial 8000, time 2022-05-25 22:41:48.609034\n",
      "Trial 8500, time 2022-05-25 22:41:53.848427\n",
      "Trial 9000, time 2022-05-25 22:42:06.059620\n",
      "Trial 9500, time 2022-05-25 22:42:07.667288\n",
      "SimOOS (beta=1, delta=0.8)\n",
      "Beta = 1\n",
      "Total gain: 3712.047017276961\n",
      "\tTotal reward: 4592.0\n",
      "\tTotal cost: 879.9529827230597\n",
      "Execution time: 2.7m\n",
      "Took 162.7594301700592 seconds\n",
      "Average gain: 3199.702423237267\n"
     ]
    }
   ],
   "source": [
    "gains_simoos = np.zeros((NUM_REPETITIONS, NUM_OF_TRIALS))\n",
    "hists = np.zeros((NUM_REPETITIONS, N_STATIONARY_PERIODS, N_ARMS))\n",
    "\n",
    "for i in range(NUM_REPETITIONS):\n",
    "\n",
    "    s = time.time()\n",
    "    p_simoos = algorithms.SimOOSAlgorithm(\n",
    "        all_contexts=new_contexts, \n",
    "        number_of_actions=new_rewards.shape[1],\n",
    "        max_no_red_context=new_contexts.shape[1],\n",
    "        beta_SimOOS=BETA,\n",
    "        delta_SimOOS=0.8,\n",
    "    )\n",
    "    print(f\"Took {time.time() - s} seconds\")\n",
    "\n",
    "    import warnings\n",
    "    with warnings.catch_warnings():\n",
    "        warnings.simplefilter(\"ignore\")\n",
    "        s = time.time()\n",
    "        gain_simoos, _, _, arms_simoos = evaluation.evaluate_on_synthetic_data(\n",
    "            p_simoos,\n",
    "            new_contexts[:NUM_OF_TRIALS],\n",
    "            new_rewards[:NUM_OF_TRIALS],\n",
    "            costs_vector[:NUM_OF_TRIALS],\n",
    "            beta=BETA,\n",
    "            stop_after=NUM_OF_TRIALS,\n",
    "            return_full=True,\n",
    "        )\n",
    "        print(f\"Took {time.time() - s} seconds\")\n",
    "    gains_simoos[i, :] = gain_simoos\n",
    "    hists[i, :, :] = get_histograms(arms_simoos, all_stationarity_regions)\n",
    "    \n",
    "histograms['SimOOS'] = np.mean(hists, axis=0)\n",
    "gain_simoos = np.mean(gains_simoos, axis=0)\n",
    "print(f\"Average gain: {gain_simoos[-1]}\")"
   ]
  },
  {
   "cell_type": "code",
   "execution_count": null,
   "id": "b6c231e6",
   "metadata": {},
   "outputs": [],
   "source": []
  },
  {
   "cell_type": "code",
   "execution_count": null,
   "id": "087087e0",
   "metadata": {},
   "outputs": [],
   "source": []
  },
  {
   "cell_type": "code",
   "execution_count": 48,
   "id": "8fdfc347",
   "metadata": {
    "scrolled": true
   },
   "outputs": [
    {
     "name": "stdout",
     "output_type": "stream",
     "text": [
      "Took 0.002050161361694336 seconds\n",
      "Round 0, time 2022-05-25 22:42:08.137593\n",
      "Round 500, time 2022-05-25 22:43:15.850553\n",
      "Round 1000, time 2022-05-25 22:44:29.373872\n",
      "Round 1500, time 2022-05-25 22:45:41.981216\n",
      "Round 2000, time 2022-05-25 22:46:54.873870\n",
      "Round 2500, time 2022-05-25 22:48:07.996287\n",
      "Round 3000, time 2022-05-25 22:49:21.332653\n",
      "Round 3500, time 2022-05-25 22:50:34.209258\n",
      "Round 4000, time 2022-05-25 22:51:46.988280\n",
      "Round 4500, time 2022-05-25 22:53:00.888999\n",
      "Round 5000, time 2022-05-25 22:54:13.813258\n",
      "Round 5500, time 2022-05-25 22:55:27.065840\n",
      "Round 6000, time 2022-05-25 22:56:39.776632\n",
      "Round 6500, time 2022-05-25 22:57:52.653260\n",
      "Round 7000, time 2022-05-25 22:59:05.605217\n",
      "Round 7500, time 2022-05-25 23:00:18.962547\n",
      "Round 8000, time 2022-05-25 23:01:36.926075\n",
      "Round 8500, time 2022-05-25 23:02:51.286405\n",
      "Round 9000, time 2022-05-25 23:04:05.560864\n",
      "Round 9500, time 2022-05-25 23:05:19.591094\n",
      "Algorithm1 (beta=1, delta=0.04, w=250)\n",
      "Beta = 1\n",
      "Total gain: 7433.762150303802\n",
      "\tTotal reward: 7865.0\n",
      "\tTotal cost: 431.2378496962209\n",
      "Execution time: 24.4m\n",
      "Took 1465.7554769515991 seconds\n",
      "Took 0.007050991058349609 seconds\n",
      "Round 0, time 2022-05-25 23:06:33.900919\n",
      "Round 500, time 2022-05-25 23:07:43.997729\n",
      "Round 1000, time 2022-05-25 23:08:59.204271\n",
      "Round 1500, time 2022-05-25 23:10:15.790956\n",
      "Round 2000, time 2022-05-25 23:11:31.844818\n",
      "Round 2500, time 2022-05-25 23:12:46.976832\n",
      "Round 3000, time 2022-05-25 23:14:03.892523\n",
      "Round 3500, time 2022-05-25 23:15:20.997339\n",
      "Round 4000, time 2022-05-25 23:16:37.924780\n",
      "Round 4500, time 2022-05-25 23:17:55.087559\n",
      "Round 5000, time 2022-05-25 23:19:11.759755\n",
      "Round 5500, time 2022-05-25 23:20:30.707210\n",
      "Round 6000, time 2022-05-25 23:21:49.863074\n",
      "Round 6500, time 2022-05-25 23:23:07.846941\n",
      "Round 7000, time 2022-05-25 23:24:24.890454\n",
      "Round 7500, time 2022-05-25 23:25:42.681060\n",
      "Round 8000, time 2022-05-25 23:26:59.664275\n",
      "Round 8500, time 2022-05-25 23:28:18.510013\n",
      "Round 9000, time 2022-05-25 23:29:34.906422\n",
      "Round 9500, time 2022-05-25 23:30:50.801056\n",
      "Algorithm1 (beta=1, delta=0.04, w=250)\n",
      "Beta = 1\n",
      "Total gain: 6014.10910423158\n",
      "\tTotal reward: 7233.0\n",
      "\tTotal cost: 1218.8908957684378\n",
      "Execution time: 25.6m\n",
      "Took 1533.9367046356201 seconds\n",
      "Took 0.00506591796875 seconds\n",
      "Round 0, time 2022-05-25 23:32:07.843976\n",
      "Round 500, time 2022-05-25 23:33:18.624524\n",
      "Round 1000, time 2022-05-25 23:34:35.495744\n",
      "Round 1500, time 2022-05-25 23:35:48.691543\n",
      "Round 2000, time 2022-05-25 23:37:01.542940\n",
      "Round 2500, time 2022-05-25 23:38:14.857974\n",
      "Round 3000, time 2022-05-25 23:39:27.889412\n",
      "Round 3500, time 2022-05-25 23:40:40.695162\n",
      "Round 4000, time 2022-05-25 23:41:53.116696\n",
      "Round 4500, time 2022-05-25 23:43:06.222334\n",
      "Round 5000, time 2022-05-25 23:44:19.324586\n",
      "Round 5500, time 2022-05-25 23:45:31.981823\n",
      "Round 6000, time 2022-05-25 23:46:44.642195\n",
      "Round 6500, time 2022-05-25 23:47:57.487626\n",
      "Round 7000, time 2022-05-25 23:49:10.333177\n",
      "Round 7500, time 2022-05-25 23:50:23.080438\n",
      "Round 8000, time 2022-05-25 23:51:36.079177\n",
      "Round 8500, time 2022-05-25 23:52:48.848847\n",
      "Round 9000, time 2022-05-25 23:54:01.502060\n",
      "Round 9500, time 2022-05-25 23:55:14.114275\n",
      "Algorithm1 (beta=1, delta=0.04, w=250)\n",
      "Beta = 1\n",
      "Total gain: 6919.496243236081\n",
      "\tTotal reward: 7530.0\n",
      "\tTotal cost: 610.503756763933\n",
      "Execution time: 24.3m\n",
      "Took 1458.9145419597626 seconds\n",
      "Took 0.008610248565673828 seconds\n",
      "Round 0, time 2022-05-25 23:56:26.769433\n",
      "Round 500, time 2022-05-25 23:57:34.245081\n",
      "Round 1000, time 2022-05-25 23:58:47.050680\n",
      "Round 1500, time 2022-05-26 00:00:00.119986\n",
      "Round 2000, time 2022-05-26 00:01:13.362430\n",
      "Round 2500, time 2022-05-26 00:02:26.612967\n",
      "Round 3000, time 2022-05-26 00:03:39.459616\n",
      "Round 3500, time 2022-05-26 00:04:52.423301\n",
      "Round 4000, time 2022-05-26 00:06:05.410073\n",
      "Round 4500, time 2022-05-26 00:07:18.590251\n",
      "Round 5000, time 2022-05-26 00:08:31.618841\n",
      "Round 5500, time 2022-05-26 00:09:44.764879\n",
      "Round 6000, time 2022-05-26 00:10:57.977778\n",
      "Round 6500, time 2022-05-26 00:12:10.992081\n",
      "Round 7000, time 2022-05-26 00:13:24.780183\n",
      "Round 7500, time 2022-05-26 00:14:38.278966\n",
      "Round 8000, time 2022-05-26 00:15:51.855109\n",
      "Round 8500, time 2022-05-26 00:17:04.669563\n",
      "Round 9000, time 2022-05-26 00:18:18.020583\n",
      "Round 9500, time 2022-05-26 00:19:30.912219\n",
      "Algorithm1 (beta=1, delta=0.04, w=250)\n",
      "Beta = 1\n",
      "Total gain: 6534.67712501018\n",
      "\tTotal reward: 7291.0\n",
      "\tTotal cost: 756.3228749898242\n",
      "Execution time: 24.3m\n",
      "Took 1456.6565001010895 seconds\n",
      "Took 0.006665945053100586 seconds\n",
      "Round 0, time 2022-05-26 00:20:43.434652\n",
      "Round 500, time 2022-05-26 00:21:51.312737\n",
      "Round 1000, time 2022-05-26 00:23:03.956760\n",
      "Round 1500, time 2022-05-26 00:24:16.946632\n",
      "Round 2000, time 2022-05-26 00:25:29.935936\n",
      "Round 2500, time 2022-05-26 00:26:42.469393\n",
      "Round 3000, time 2022-05-26 00:27:55.359938\n",
      "Round 3500, time 2022-05-26 00:29:08.363105\n",
      "Round 4000, time 2022-05-26 00:30:21.770749\n",
      "Round 4500, time 2022-05-26 00:31:34.609971\n",
      "Round 5000, time 2022-05-26 00:32:47.561145\n",
      "Round 5500, time 2022-05-26 00:34:00.376013\n",
      "Round 6000, time 2022-05-26 00:35:13.310811\n",
      "Round 6500, time 2022-05-26 00:36:25.737072\n",
      "Round 7000, time 2022-05-26 00:37:38.741644\n",
      "Round 7500, time 2022-05-26 00:38:49.142932\n",
      "Round 8000, time 2022-05-26 00:39:57.638456\n",
      "Round 8500, time 2022-05-26 00:41:05.796187\n",
      "Round 9000, time 2022-05-26 00:42:13.890370\n",
      "Round 9500, time 2022-05-26 00:43:22.109489\n",
      "Algorithm1 (beta=1, delta=0.04, w=250)\n",
      "Beta = 1\n",
      "Total gain: 5488.764313441516\n",
      "\tTotal reward: 6521.0\n",
      "\tTotal cost: 1032.2356865584734\n",
      "Execution time: 23.8m\n",
      "Took 1425.855388879776 seconds\n",
      "Average gain: 6478.161787244631\n"
     ]
    }
   ],
   "source": [
    "gains_alg1 = np.zeros((NUM_REPETITIONS, NUM_OF_TRIALS))\n",
    "hists = np.zeros((NUM_REPETITIONS, N_STATIONARY_PERIODS, N_ARMS))\n",
    "\n",
    "for i in range(NUM_REPETITIONS):\n",
    "\n",
    "    s = time.time()\n",
    "    p_alg1 = algorithms.Algorithm1(\n",
    "        all_contexts=new_contexts, \n",
    "        number_of_actions=new_rewards.shape[1],\n",
    "        max_no_red_context=new_contexts.shape[1],\n",
    "        beta=BETA,\n",
    "        delta=0.04,\n",
    "        window_length=250,\n",
    "        costs_range=COSTS_RANGE_SIZE,\n",
    "        \n",
    "    )\n",
    "    print(f\"Took {time.time() - s} seconds\")\n",
    "\n",
    "    import warnings\n",
    "    with warnings.catch_warnings():\n",
    "        warnings.simplefilter(\"ignore\")\n",
    "        s = time.time()\n",
    "        gain_alg1, _, _, arms_alg1 = evaluation.evaluate_on_synthetic_data(\n",
    "            p_alg1,\n",
    "            new_contexts[:NUM_OF_TRIALS],\n",
    "            new_rewards[:NUM_OF_TRIALS],\n",
    "            costs_vector[:NUM_OF_TRIALS],\n",
    "            beta=BETA,\n",
    "            stop_after=NUM_OF_TRIALS,\n",
    "            return_full=True,\n",
    "        )\n",
    "        print(f\"Took {time.time() - s} seconds\")\n",
    "        gains_alg1[i, :] = gain_alg1\n",
    "        hists[i, :, :] = get_histograms(arms_alg1, all_stationarity_regions)\n",
    "    \n",
    "histograms['Algorithm1'] = np.mean(hists, axis=0)\n",
    "gain_alg1 = np.mean(gains_alg1, axis=0)\n",
    "print(f\"Average gain: {gain_alg1[-1]}\")"
   ]
  },
  {
   "cell_type": "markdown",
   "id": "a068a244",
   "metadata": {},
   "source": [
    "## Oracle"
   ]
  },
  {
   "cell_type": "code",
   "execution_count": 49,
   "id": "ae33b6ba",
   "metadata": {},
   "outputs": [],
   "source": [
    "cost_means = np.zeros((N_STATIONARY_PERIODS, costs_vector.shape[1]))\n",
    "for reg_num, region in enumerate(all_stationarity_regions):\n",
    "    region_costs = costs_vector[slice(*region)]\n",
    "    cost_means[reg_num, :] = region_costs.mean(axis=0)"
   ]
  },
  {
   "cell_type": "code",
   "execution_count": 50,
   "id": "38e38fc5",
   "metadata": {},
   "outputs": [
    {
     "name": "stderr",
     "output_type": "stream",
     "text": [
      "/Users/sbokupripeku/git/work/examples/costly_nonstationary_bandits/algorithms/oracle_alg1.py:78: RuntimeWarning: invalid value encountered in double_scalars\n",
      "  true_average_reward[per_num, i, j, k] = sum_of_rewards[per_num, i, j, k] / number_of_visits_for_average_reward[per_num, i, j, k]\n"
     ]
    },
    {
     "name": "stdout",
     "output_type": "stream",
     "text": [
      "Took 0.6195907592773438 seconds\n",
      "Trial 0, time 2022-05-26 00:44:30.039076\n",
      "Trial 500, time 2022-05-26 00:44:30.044766\n",
      "Trial 1000, time 2022-05-26 00:44:30.050514\n",
      "Trial 1500, time 2022-05-26 00:44:30.056733\n",
      "Trial 2000, time 2022-05-26 00:44:30.062918\n",
      "Trial 2500, time 2022-05-26 00:44:30.068496\n",
      "Trial 3000, time 2022-05-26 00:44:30.074062\n",
      "Trial 3500, time 2022-05-26 00:44:30.079651\n",
      "Trial 4000, time 2022-05-26 00:44:30.087276\n",
      "Trial 4500, time 2022-05-26 00:44:30.093786\n",
      "Trial 5000, time 2022-05-26 00:44:30.100347\n",
      "Trial 5500, time 2022-05-26 00:44:30.105994\n",
      "Trial 6000, time 2022-05-26 00:44:30.111573\n",
      "Trial 6500, time 2022-05-26 00:44:30.117267\n",
      "Trial 7000, time 2022-05-26 00:44:30.123103\n",
      "Trial 7500, time 2022-05-26 00:44:30.129764\n",
      "Trial 8000, time 2022-05-26 00:44:30.136318\n",
      "Trial 8500, time 2022-05-26 00:44:30.142948\n",
      "Trial 9000, time 2022-05-26 00:44:30.149548\n",
      "Trial 9500, time 2022-05-26 00:44:30.156255\n",
      "Algorithm1-Oracle (beta=1)\n",
      "Beta = 1\n",
      "Total gain: 7609.932315667515\n",
      "\tTotal reward: 8526.0\n",
      "\tTotal cost: 916.0676843324716\n",
      "Execution time: 0.1s\n",
      "Took 0.12408304214477539 seconds\n"
     ]
    },
    {
     "name": "stderr",
     "output_type": "stream",
     "text": [
      "/Users/sbokupripeku/git/work/examples/costly_nonstationary_bandits/algorithms/oracle_alg1.py:78: RuntimeWarning: invalid value encountered in double_scalars\n",
      "  true_average_reward[per_num, i, j, k] = sum_of_rewards[per_num, i, j, k] / number_of_visits_for_average_reward[per_num, i, j, k]\n"
     ]
    },
    {
     "name": "stdout",
     "output_type": "stream",
     "text": [
      "Took 0.6121900081634521 seconds\n",
      "Trial 0, time 2022-05-26 00:44:30.776132\n",
      "Trial 500, time 2022-05-26 00:44:30.781651\n",
      "Trial 1000, time 2022-05-26 00:44:30.787303\n",
      "Trial 1500, time 2022-05-26 00:44:30.793509\n",
      "Trial 2000, time 2022-05-26 00:44:30.799656\n",
      "Trial 2500, time 2022-05-26 00:44:30.805168\n",
      "Trial 3000, time 2022-05-26 00:44:30.810728\n",
      "Trial 3500, time 2022-05-26 00:44:30.816368\n",
      "Trial 4000, time 2022-05-26 00:44:30.822992\n",
      "Trial 4500, time 2022-05-26 00:44:30.829693\n",
      "Trial 5000, time 2022-05-26 00:44:30.836228\n",
      "Trial 5500, time 2022-05-26 00:44:30.841827\n",
      "Trial 6000, time 2022-05-26 00:44:30.847519\n",
      "Trial 6500, time 2022-05-26 00:44:30.853091\n",
      "Trial 7000, time 2022-05-26 00:44:30.858967\n",
      "Trial 7500, time 2022-05-26 00:44:30.865588\n",
      "Trial 8000, time 2022-05-26 00:44:30.872155\n",
      "Trial 8500, time 2022-05-26 00:44:30.878797\n",
      "Trial 9000, time 2022-05-26 00:44:30.885511\n",
      "Trial 9500, time 2022-05-26 00:44:30.892190\n",
      "Algorithm1-Oracle (beta=1)\n",
      "Beta = 1\n",
      "Total gain: 7609.932315667515\n",
      "\tTotal reward: 8526.0\n",
      "\tTotal cost: 916.0676843324716\n",
      "Execution time: 0.1s\n",
      "Took 0.12303829193115234 seconds\n"
     ]
    },
    {
     "name": "stderr",
     "output_type": "stream",
     "text": [
      "/Users/sbokupripeku/git/work/examples/costly_nonstationary_bandits/algorithms/oracle_alg1.py:78: RuntimeWarning: invalid value encountered in double_scalars\n",
      "  true_average_reward[per_num, i, j, k] = sum_of_rewards[per_num, i, j, k] / number_of_visits_for_average_reward[per_num, i, j, k]\n"
     ]
    },
    {
     "name": "stdout",
     "output_type": "stream",
     "text": [
      "Took 0.6116361618041992 seconds\n",
      "Trial 0, time 2022-05-26 00:44:31.511607\n",
      "Trial 500, time 2022-05-26 00:44:31.517257\n",
      "Trial 1000, time 2022-05-26 00:44:31.522826\n",
      "Trial 1500, time 2022-05-26 00:44:31.529115\n",
      "Trial 2000, time 2022-05-26 00:44:31.535272\n",
      "Trial 2500, time 2022-05-26 00:44:31.540816\n",
      "Trial 3000, time 2022-05-26 00:44:31.546395\n",
      "Trial 3500, time 2022-05-26 00:44:31.552147\n",
      "Trial 4000, time 2022-05-26 00:44:31.558907\n",
      "Trial 4500, time 2022-05-26 00:44:31.565532\n",
      "Trial 5000, time 2022-05-26 00:44:31.572854\n",
      "Trial 5500, time 2022-05-26 00:44:31.578435\n",
      "Trial 6000, time 2022-05-26 00:44:31.584082\n",
      "Trial 6500, time 2022-05-26 00:44:31.589716\n",
      "Trial 7000, time 2022-05-26 00:44:31.595586\n",
      "Trial 7500, time 2022-05-26 00:44:31.602295\n",
      "Trial 8000, time 2022-05-26 00:44:31.608910\n",
      "Trial 8500, time 2022-05-26 00:44:31.615594\n",
      "Trial 9000, time 2022-05-26 00:44:31.622232\n",
      "Trial 9500, time 2022-05-26 00:44:31.628929\n",
      "Algorithm1-Oracle (beta=1)\n",
      "Beta = 1\n",
      "Total gain: 7609.932315667515\n",
      "\tTotal reward: 8526.0\n",
      "\tTotal cost: 916.0676843324716\n",
      "Execution time: 0.1s\n",
      "Took 0.12432479858398438 seconds\n"
     ]
    },
    {
     "name": "stderr",
     "output_type": "stream",
     "text": [
      "/Users/sbokupripeku/git/work/examples/costly_nonstationary_bandits/algorithms/oracle_alg1.py:78: RuntimeWarning: invalid value encountered in double_scalars\n",
      "  true_average_reward[per_num, i, j, k] = sum_of_rewards[per_num, i, j, k] / number_of_visits_for_average_reward[per_num, i, j, k]\n"
     ]
    },
    {
     "name": "stdout",
     "output_type": "stream",
     "text": [
      "Took 0.6123497486114502 seconds\n",
      "Trial 0, time 2022-05-26 00:44:32.249134\n",
      "Trial 500, time 2022-05-26 00:44:32.254777\n",
      "Trial 1000, time 2022-05-26 00:44:32.260287\n",
      "Trial 1500, time 2022-05-26 00:44:32.266386\n",
      "Trial 2000, time 2022-05-26 00:44:32.272576\n",
      "Trial 2500, time 2022-05-26 00:44:32.278149\n",
      "Trial 3000, time 2022-05-26 00:44:32.283665\n",
      "Trial 3500, time 2022-05-26 00:44:32.289343\n",
      "Trial 4000, time 2022-05-26 00:44:32.295935\n",
      "Trial 4500, time 2022-05-26 00:44:32.302454\n",
      "Trial 5000, time 2022-05-26 00:44:32.308975\n",
      "Trial 5500, time 2022-05-26 00:44:32.314559\n",
      "Trial 6000, time 2022-05-26 00:44:32.320236\n",
      "Trial 6500, time 2022-05-26 00:44:32.325897\n",
      "Trial 7000, time 2022-05-26 00:44:32.331774\n",
      "Trial 7500, time 2022-05-26 00:44:32.338363\n",
      "Trial 8000, time 2022-05-26 00:44:32.344926\n",
      "Trial 8500, time 2022-05-26 00:44:32.351556\n",
      "Trial 9000, time 2022-05-26 00:44:32.358181\n",
      "Trial 9500, time 2022-05-26 00:44:32.364871\n",
      "Algorithm1-Oracle (beta=1)\n",
      "Beta = 1\n",
      "Total gain: 7609.932315667515\n",
      "\tTotal reward: 8526.0\n",
      "\tTotal cost: 916.0676843324716\n",
      "Execution time: 0.1s\n",
      "Took 0.12277889251708984 seconds\n"
     ]
    },
    {
     "name": "stderr",
     "output_type": "stream",
     "text": [
      "/Users/sbokupripeku/git/work/examples/costly_nonstationary_bandits/algorithms/oracle_alg1.py:78: RuntimeWarning: invalid value encountered in double_scalars\n",
      "  true_average_reward[per_num, i, j, k] = sum_of_rewards[per_num, i, j, k] / number_of_visits_for_average_reward[per_num, i, j, k]\n"
     ]
    },
    {
     "name": "stdout",
     "output_type": "stream",
     "text": [
      "Took 0.6117050647735596 seconds\n",
      "Trial 0, time 2022-05-26 00:44:32.984400\n",
      "Trial 500, time 2022-05-26 00:44:32.990162\n",
      "Trial 1000, time 2022-05-26 00:44:32.995730\n",
      "Trial 1500, time 2022-05-26 00:44:33.001866\n",
      "Trial 2000, time 2022-05-26 00:44:33.008000\n",
      "Trial 2500, time 2022-05-26 00:44:33.013535\n",
      "Trial 3000, time 2022-05-26 00:44:33.019053\n",
      "Trial 3500, time 2022-05-26 00:44:33.024713\n",
      "Trial 4000, time 2022-05-26 00:44:33.031267\n",
      "Trial 4500, time 2022-05-26 00:44:33.037697\n",
      "Trial 5000, time 2022-05-26 00:44:33.044248\n",
      "Trial 5500, time 2022-05-26 00:44:33.049933\n",
      "Trial 6000, time 2022-05-26 00:44:33.055545\n",
      "Trial 6500, time 2022-05-26 00:44:33.061138\n",
      "Trial 7000, time 2022-05-26 00:44:33.067067\n",
      "Trial 7500, time 2022-05-26 00:44:33.073815\n",
      "Trial 8000, time 2022-05-26 00:44:33.080463\n",
      "Trial 8500, time 2022-05-26 00:44:33.087109\n",
      "Trial 9000, time 2022-05-26 00:44:33.093782\n",
      "Trial 9500, time 2022-05-26 00:44:33.100537\n",
      "Algorithm1-Oracle (beta=1)\n",
      "Beta = 1\n",
      "Total gain: 7609.932315667515\n",
      "\tTotal reward: 8526.0\n",
      "\tTotal cost: 916.0676843324716\n",
      "Execution time: 0.1s\n",
      "Took 0.12305307388305664 seconds\n",
      "Average gain: 7609.932315667515\n"
     ]
    }
   ],
   "source": [
    "gains_alg1_oracle = np.zeros((NUM_REPETITIONS, NUM_OF_TRIALS))\n",
    "hists = np.zeros((NUM_REPETITIONS, N_STATIONARY_PERIODS, N_ARMS))\n",
    "\n",
    "for i in range(NUM_REPETITIONS):\n",
    "\n",
    "    s = time.time()\n",
    "    p_alg1_oracle = algorithms.Algorithm1_Oracle(\n",
    "        all_contexts=new_contexts, \n",
    "        all_rewards=new_rewards,\n",
    "        cost_means=cost_means,\n",
    "        stationarity_periods=all_stationarity_regions,\n",
    "        number_of_actions=new_rewards.shape[1],\n",
    "        max_no_red_context=new_contexts.shape[1],\n",
    "        beta_SimOOS=BETA,\n",
    "        \n",
    "    )\n",
    "    print(f\"Took {time.time() - s} seconds\")\n",
    "\n",
    "    import warnings\n",
    "    with warnings.catch_warnings():\n",
    "        warnings.simplefilter(\"ignore\")\n",
    "        s = time.time()\n",
    "        gain_alg1_oracle, _, _, arms_alg1_oracle = evaluation.evaluate_on_synthetic_data(\n",
    "            p_alg1_oracle,\n",
    "            new_contexts[:NUM_OF_TRIALS],\n",
    "            new_rewards[:NUM_OF_TRIALS],\n",
    "            costs_vector[:NUM_OF_TRIALS],\n",
    "            beta=BETA,\n",
    "            stop_after=NUM_OF_TRIALS,\n",
    "            return_full=True,\n",
    "        )\n",
    "        print(f\"Took {time.time() - s} seconds\")\n",
    "        gains_alg1_oracle[i, :] = gain_alg1_oracle\n",
    "        hists[i, :, :] = get_histograms(arms_alg1_oracle, all_stationarity_regions)\n",
    "\n",
    "histograms['Oracle'] = np.mean(hists, axis=0)\n",
    "gain_alg1_oracle = np.mean(gains_alg1_oracle, axis=0)\n",
    "print(f\"Average gain: {gain_alg1_oracle[-1]}\")"
   ]
  },
  {
   "cell_type": "code",
   "execution_count": null,
   "id": "a8ae58f7",
   "metadata": {},
   "outputs": [],
   "source": []
  },
  {
   "cell_type": "code",
   "execution_count": null,
   "id": "1cd00de9",
   "metadata": {},
   "outputs": [],
   "source": []
  },
  {
   "cell_type": "code",
   "execution_count": 51,
   "id": "8aa3b530",
   "metadata": {},
   "outputs": [
    {
     "data": {
      "image/png": "[encoded data removed]",
      "text/plain": [
       "<Figure size 1080x576 with 1 Axes>"
      ]
     },
     "metadata": {
      "needs_background": "light"
     },
     "output_type": "display_data"
    }
   ],
   "source": [
    "plot_gains(\n",
    "    {\n",
    "    'Random': gain_random,\n",
    "#     'E-greedy': gain_egreedy,\n",
    "    'UCB1': gain_ucb,\n",
    "    'LinUCB': gain_linucb,\n",
    "    'PS-LinUCB': gain_pslinucb,\n",
    "    'SimOOS': gain_simoos,\n",
    "    'Algorithm1': gain_alg1,\n",
    "    'Oracle': gain_alg1_oracle,\n",
    "    },\n",
    "    reward_change_points=change_point_values,\n",
    ")\n"
   ]
  },
  {
   "cell_type": "code",
   "execution_count": null,
   "id": "3103b933",
   "metadata": {},
   "outputs": [],
   "source": []
  },
  {
   "cell_type": "markdown",
   "id": "8166440f",
   "metadata": {},
   "source": [
    "## Plot the histograms for each algorithm"
   ]
  },
  {
   "cell_type": "code",
   "execution_count": 52,
   "id": "515e1cd9",
   "metadata": {
    "scrolled": true
   },
   "outputs": [
    {
     "data": {
      "text/plain": [
       "{'Random': array([[164.8, 170.4, 163.8],\n",
       "        [172.6, 168. , 159.4],\n",
       "        [344.6, 324.8, 330.6],\n",
       "        [349. , 328.4, 322.6],\n",
       "        [175.8, 162.2, 162. ],\n",
       "        [506.4, 496.2, 497.4],\n",
       "        [475.2, 518.2, 506.6],\n",
       "        [163.8, 164. , 172.2],\n",
       "        [344.8, 331. , 324.2],\n",
       "        [320.4, 335.8, 343.8],\n",
       "        [324.4, 337. , 338.6]]),\n",
       " 'E-greedy': array([[ 154. ,  339.6,    5.4],\n",
       "        [  31.6,  410.8,   57.6],\n",
       "        [ 446.8,  308. ,  245.2],\n",
       "        [ 788.4,   78. ,  133.6],\n",
       "        [ 392.6,    4.2,  103.2],\n",
       "        [ 355.6,   14.2, 1130.2],\n",
       "        [  13.2,   15.2, 1471.6],\n",
       "        [   5.4,    3.8,  490.8],\n",
       "        [  11.8,    7. ,  981.2],\n",
       "        [ 422. ,   54.6,  523.4],\n",
       "        [ 901.8,   32.8,   65.4]]),\n",
       " 'UCB1': array([[6.000e+00, 4.860e+02, 7.000e+00],\n",
       "        [1.000e+00, 3.800e+01, 4.610e+02],\n",
       "        [9.260e+02, 9.000e+00, 6.500e+01],\n",
       "        [2.040e+02, 2.320e+02, 5.640e+02],\n",
       "        [5.000e+00, 2.100e+02, 2.850e+02],\n",
       "        [2.900e+01, 1.090e+02, 1.362e+03],\n",
       "        [6.400e+01, 1.312e+03, 1.240e+02],\n",
       "        [2.700e+01, 4.010e+02, 7.200e+01],\n",
       "        [1.160e+02, 5.290e+02, 3.550e+02],\n",
       "        [1.000e+03, 0.000e+00, 0.000e+00],\n",
       "        [1.000e+03, 0.000e+00, 0.000e+00]]),\n",
       " 'LinUCB': array([[ 193.,  301.,    5.],\n",
       "        [ 149.,  348.,    3.],\n",
       "        [ 643.,   65.,  292.],\n",
       "        [ 686.,   28.,  286.],\n",
       "        [ 217.,  198.,   85.],\n",
       "        [ 218.,  814.,  468.],\n",
       "        [  38., 1102.,  360.],\n",
       "        [  77.,  411.,   12.],\n",
       "        [ 335.,  632.,   33.],\n",
       "        [ 447.,  547.,    6.],\n",
       "        [ 635.,  260.,  105.]]),\n",
       " 'PSLinUCB': array([[190., 302.,   7.],\n",
       "        [ 42., 168., 290.],\n",
       "        [659., 116., 225.],\n",
       "        [405.,  87., 508.],\n",
       "        [172., 123., 205.],\n",
       "        [155., 421., 924.],\n",
       "        [121., 857., 522.],\n",
       "        [156., 259.,  85.],\n",
       "        [354., 261., 385.],\n",
       "        [167., 341., 492.],\n",
       "        [673., 327.,   0.]]),\n",
       " 'SimOOS': array([[161.2, 248.4,  89.4],\n",
       "        [ 95.2, 204.4, 200.4],\n",
       "        [374. , 227.8, 398.2],\n",
       "        [404.4, 234. , 361.6],\n",
       "        [148.6, 157. , 194.4],\n",
       "        [476.8, 371.4, 651.8],\n",
       "        [368.2, 450.4, 681.4],\n",
       "        [ 86.8, 252.6, 160.6],\n",
       "        [191.2, 349.2, 459.6],\n",
       "        [225.8, 354.6, 419.6],\n",
       "        [354. , 316.2, 329.8]]),\n",
       " 'Algorithm1': array([[177.8, 271.8,  49.4],\n",
       "        [ 63.6, 191.2, 245.2],\n",
       "        [512.8, 107. , 380.2],\n",
       "        [341.8, 314.8, 343.4],\n",
       "        [181.2, 138.6, 180.2],\n",
       "        [140. , 536.8, 823.2],\n",
       "        [254. , 711.4, 534.6],\n",
       "        [132.8, 271.8,  95.4],\n",
       "        [354. , 446.6, 199.4],\n",
       "        [474. , 334.2, 191.8],\n",
       "        [509.8, 337.2, 153. ]]),\n",
       " 'Oracle': array([[  0., 499.,   0.],\n",
       "        [  1.,   0., 499.],\n",
       "        [632.,  16., 352.],\n",
       "        [340., 330., 330.],\n",
       "        [  0., 250., 250.],\n",
       "        [103., 520., 877.],\n",
       "        [  0., 999., 501.],\n",
       "        [ 57., 219., 224.],\n",
       "        [347., 431., 222.],\n",
       "        [576., 330.,  94.],\n",
       "        [592., 320.,  88.]])}"
      ]
     },
     "execution_count": 52,
     "metadata": {},
     "output_type": "execute_result"
    }
   ],
   "source": [
    "histograms"
   ]
  },
  {
   "cell_type": "code",
   "execution_count": 53,
   "id": "e3157801",
   "metadata": {},
   "outputs": [
    {
     "data": {
      "text/plain": [
       "[(1, 500),\n",
       " (500, 1000),\n",
       " (1000, 2000),\n",
       " (2000, 3000),\n",
       " (3000, 3500),\n",
       " (3500, 5000),\n",
       " (5000, 6500),\n",
       " (6500, 7000),\n",
       " (7000, 8000),\n",
       " (8000, 9000),\n",
       " (9000, 10000)]"
      ]
     },
     "execution_count": 53,
     "metadata": {},
     "output_type": "execute_result"
    }
   ],
   "source": [
    "all_stationarity_regions"
   ]
  },
  {
   "cell_type": "markdown",
   "id": "a706c7a6",
   "metadata": {},
   "source": [
    "## Saving and loading data"
   ]
  },
  {
   "cell_type": "code",
   "execution_count": 54,
   "id": "e60680b0",
   "metadata": {},
   "outputs": [],
   "source": [
    "data_to_save = {\n",
    "    'histograms': histograms,\n",
    "    'all_stationarity_regions': all_stationarity_regions,\n",
    "}"
   ]
  },
  {
   "cell_type": "code",
   "execution_count": 55,
   "id": "c7f717ea",
   "metadata": {},
   "outputs": [],
   "source": [
    "with open('experiments/nursery/results/histograms.pickle', 'wb') as f:\n",
    "    pickle.dump(data_to_save, f)"
   ]
  },
  {
   "cell_type": "code",
   "execution_count": 56,
   "id": "a3b13132",
   "metadata": {},
   "outputs": [],
   "source": [
    "with open('experiments/nursery/results/histograms.pickle', 'rb') as f:\n",
    "    data_to_save = pickle.load(f)"
   ]
  },
  {
   "cell_type": "code",
   "execution_count": 57,
   "id": "bbb068dc",
   "metadata": {},
   "outputs": [],
   "source": [
    "histograms = data_to_save['histograms']\n",
    "all_stationarity_regions = data_to_save['all_stationarity_regions']"
   ]
  },
  {
   "cell_type": "code",
   "execution_count": null,
   "id": "91a26357",
   "metadata": {},
   "outputs": [],
   "source": []
  },
  {
   "cell_type": "code",
   "execution_count": 58,
   "id": "2b589116",
   "metadata": {},
   "outputs": [],
   "source": [
    "algs_to_plot = [\"Oracle\", \"Algorithm1\", \"PSLinUCB\"]\n",
    "colors = ['cyan', 'red', 'blue']"
   ]
  },
  {
   "cell_type": "code",
   "execution_count": 59,
   "id": "397ec653",
   "metadata": {},
   "outputs": [
    {
     "data": {
      "image/png": "[encoded data removed]",
      "text/plain": [
       "<Figure size 1080x360 with 10 Axes>"
      ]
     },
     "metadata": {
      "needs_background": "light"
     },
     "output_type": "display_data"
    }
   ],
   "source": [
    "fig, axs = plt.subplots(2, math.floor(N_STATIONARY_PERIODS/2), figsize=(15, 5))\n",
    "\n",
    "x = np.array([0, 1, 2])\n",
    "\n",
    "handles = []\n",
    "for period_num, ax in enumerate(axs.flatten()):\n",
    "    if period_num >= N_STATIONARY_PERIODS:\n",
    "        break\n",
    "    for alg_num, alg_name in enumerate(algs_to_plot):\n",
    "        \n",
    "        bar = ax.bar(-0.2 + x+alg_num*0.2,\n",
    "               histograms[alg_name][period_num, :],\n",
    "               width=0.2,\n",
    "               color=colors[alg_num],\n",
    "               label=alg_name,\n",
    "        )\n",
    "        period = all_stationarity_regions[period_num]\n",
    "        ax.set_title(fr\"$t\\ \\in \\ [{period[0]}, {period[1]-1}]$\")\n",
    "        if period_num == 0:\n",
    "            handles.append(bar)\n",
    "            \n",
    "        \n",
    "\n",
    "\n",
    "fig.legend(handles, algs_to_plot, loc=\"upper center\",  bbox_to_anchor=(0.5, 1.1), ncol=3, prop={'size': 16})\n",
    "plt.tight_layout()\n",
    "plt.show()"
   ]
  },
  {
   "cell_type": "code",
   "execution_count": null,
   "id": "29a4c639",
   "metadata": {},
   "outputs": [],
   "source": []
  },
  {
   "cell_type": "code",
   "execution_count": null,
   "id": "3bba94a9",
   "metadata": {},
   "outputs": [],
   "source": []
  }
 ],
 "metadata": {
  "kernelspec": {
   "display_name": "Python 3 (ipykernel)",
   "language": "python",
   "name": "python3"
  },
  "language_info": {
   "codemirror_mode": {
    "name": "ipython",
    "version": 3
   },
   "file_extension": ".py",
   "mimetype": "text/x-python",
   "name": "python",
   "nbconvert_exporter": "python",
   "pygments_lexer": "ipython3",
   "version": "3.10.2"
  }
 },
 "nbformat": 4,
 "nbformat_minor": 5
}
