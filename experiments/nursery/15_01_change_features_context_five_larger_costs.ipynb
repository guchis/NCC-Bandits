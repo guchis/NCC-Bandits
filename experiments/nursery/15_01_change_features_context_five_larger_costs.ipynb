{
 "cells": [
  {
   "cell_type": "markdown",
   "id": "bd264323",
   "metadata": {},
   "source": [
    "# Same as in 14_01 but larger costs\n",
    "\n",
    "\n",
    "### Previous description\n",
    "\n",
    "In these series of experiments (14, 14_01, 14_02) I use the non-stationarity pattern from 10_01 but use other features. Here I choose features based on their weights in a linear model learned in offline fashion. I leave the features that have high importance and several features that have low importance. I do this to see if Algorithm1 is able to not \"buy\" features that are less useful for prediction.\n",
    "\n",
    "14 - 4 features \\\n",
    "14_01 - 5 features \\\n",
    "14_02 - 6 features\n",
    "\n",
    "Non-stationarity patter replicates 10_1.\n",
    "The tuning was done in notebooks 6 and 9.\n",
    "\n",
    "Here we have features:\n",
    "\n",
    "- parents\n",
    "- has_nurs\n",
    "- children\n",
    "- form\n",
    "- health\t"
   ]
  },
  {
   "cell_type": "code",
   "execution_count": null,
   "id": "8c7210ce",
   "metadata": {},
   "outputs": [],
   "source": []
  },
  {
   "cell_type": "code",
   "execution_count": 1,
   "id": "ba49eee3",
   "metadata": {},
   "outputs": [
    {
     "data": {
      "text/plain": [
       "'/Users/sbokupripeku/git/work/examples/costly_nonstationary_bandits'"
      ]
     },
     "execution_count": 1,
     "metadata": {},
     "output_type": "execute_result"
    }
   ],
   "source": [
    "import os\n",
    "os.chdir(\"../..\")\n",
    "os.getcwd()"
   ]
  },
  {
   "cell_type": "code",
   "execution_count": 2,
   "id": "0b748cbc",
   "metadata": {},
   "outputs": [],
   "source": [
    "%load_ext autoreload\n",
    "%autoreload 2\n",
    "\n",
    "import matplotlib.pyplot as plt\n",
    "import numpy as np\n",
    "import pandas as pd\n",
    "import time\n",
    "\n",
    "import algorithms\n",
    "from src import evaluation\n",
    "from src import costs\n",
    "from plotting.costs import plot_costs"
   ]
  },
  {
   "cell_type": "code",
   "execution_count": 3,
   "id": "e225d680",
   "metadata": {},
   "outputs": [],
   "source": [
    "np.random.seed(42)"
   ]
  },
  {
   "cell_type": "code",
   "execution_count": 4,
   "id": "00262152",
   "metadata": {},
   "outputs": [],
   "source": [
    "csv_file = 'experiments/nursery/nursery.csv'"
   ]
  },
  {
   "cell_type": "code",
   "execution_count": 5,
   "id": "d07d0d95",
   "metadata": {},
   "outputs": [],
   "source": [
    "df = pd.read_csv(csv_file)"
   ]
  },
  {
   "cell_type": "code",
   "execution_count": 6,
   "id": "b5f67b1c",
   "metadata": {},
   "outputs": [
    {
     "data": {
      "text/html": [
       "<div>\n",
       "<style scoped>\n",
       "    .dataframe tbody tr th:only-of-type {\n",
       "        vertical-align: middle;\n",
       "    }\n",
       "\n",
       "    .dataframe tbody tr th {\n",
       "        vertical-align: top;\n",
       "    }\n",
       "\n",
       "    .dataframe thead th {\n",
       "        text-align: right;\n",
       "    }\n",
       "</style>\n",
       "<table border=\"1\" class=\"dataframe\">\n",
       "  <thead>\n",
       "    <tr style=\"text-align: right;\">\n",
       "      <th></th>\n",
       "      <th>parents</th>\n",
       "      <th>has_nurs</th>\n",
       "      <th>form</th>\n",
       "      <th>children</th>\n",
       "      <th>housing</th>\n",
       "      <th>finance</th>\n",
       "      <th>social</th>\n",
       "      <th>health</th>\n",
       "      <th>final evaluation</th>\n",
       "    </tr>\n",
       "  </thead>\n",
       "  <tbody>\n",
       "    <tr>\n",
       "      <th>0</th>\n",
       "      <td>usual</td>\n",
       "      <td>proper</td>\n",
       "      <td>complete</td>\n",
       "      <td>1</td>\n",
       "      <td>convenient</td>\n",
       "      <td>convenient</td>\n",
       "      <td>nonprob</td>\n",
       "      <td>recommended</td>\n",
       "      <td>recommend</td>\n",
       "    </tr>\n",
       "    <tr>\n",
       "      <th>1</th>\n",
       "      <td>usual</td>\n",
       "      <td>proper</td>\n",
       "      <td>complete</td>\n",
       "      <td>1</td>\n",
       "      <td>convenient</td>\n",
       "      <td>convenient</td>\n",
       "      <td>nonprob</td>\n",
       "      <td>priority</td>\n",
       "      <td>priority</td>\n",
       "    </tr>\n",
       "    <tr>\n",
       "      <th>2</th>\n",
       "      <td>usual</td>\n",
       "      <td>proper</td>\n",
       "      <td>complete</td>\n",
       "      <td>1</td>\n",
       "      <td>convenient</td>\n",
       "      <td>convenient</td>\n",
       "      <td>nonprob</td>\n",
       "      <td>not_recom</td>\n",
       "      <td>not_recom</td>\n",
       "    </tr>\n",
       "    <tr>\n",
       "      <th>3</th>\n",
       "      <td>usual</td>\n",
       "      <td>proper</td>\n",
       "      <td>complete</td>\n",
       "      <td>1</td>\n",
       "      <td>convenient</td>\n",
       "      <td>convenient</td>\n",
       "      <td>slightly_prob</td>\n",
       "      <td>recommended</td>\n",
       "      <td>recommend</td>\n",
       "    </tr>\n",
       "    <tr>\n",
       "      <th>4</th>\n",
       "      <td>usual</td>\n",
       "      <td>proper</td>\n",
       "      <td>complete</td>\n",
       "      <td>1</td>\n",
       "      <td>convenient</td>\n",
       "      <td>convenient</td>\n",
       "      <td>slightly_prob</td>\n",
       "      <td>priority</td>\n",
       "      <td>priority</td>\n",
       "    </tr>\n",
       "    <tr>\n",
       "      <th>...</th>\n",
       "      <td>...</td>\n",
       "      <td>...</td>\n",
       "      <td>...</td>\n",
       "      <td>...</td>\n",
       "      <td>...</td>\n",
       "      <td>...</td>\n",
       "      <td>...</td>\n",
       "      <td>...</td>\n",
       "      <td>...</td>\n",
       "    </tr>\n",
       "    <tr>\n",
       "      <th>12955</th>\n",
       "      <td>great_pret</td>\n",
       "      <td>very_crit</td>\n",
       "      <td>foster</td>\n",
       "      <td>more</td>\n",
       "      <td>critical</td>\n",
       "      <td>inconv</td>\n",
       "      <td>slightly_prob</td>\n",
       "      <td>priority</td>\n",
       "      <td>spec_prior</td>\n",
       "    </tr>\n",
       "    <tr>\n",
       "      <th>12956</th>\n",
       "      <td>great_pret</td>\n",
       "      <td>very_crit</td>\n",
       "      <td>foster</td>\n",
       "      <td>more</td>\n",
       "      <td>critical</td>\n",
       "      <td>inconv</td>\n",
       "      <td>slightly_prob</td>\n",
       "      <td>not_recom</td>\n",
       "      <td>not_recom</td>\n",
       "    </tr>\n",
       "    <tr>\n",
       "      <th>12957</th>\n",
       "      <td>great_pret</td>\n",
       "      <td>very_crit</td>\n",
       "      <td>foster</td>\n",
       "      <td>more</td>\n",
       "      <td>critical</td>\n",
       "      <td>inconv</td>\n",
       "      <td>problematic</td>\n",
       "      <td>recommended</td>\n",
       "      <td>spec_prior</td>\n",
       "    </tr>\n",
       "    <tr>\n",
       "      <th>12958</th>\n",
       "      <td>great_pret</td>\n",
       "      <td>very_crit</td>\n",
       "      <td>foster</td>\n",
       "      <td>more</td>\n",
       "      <td>critical</td>\n",
       "      <td>inconv</td>\n",
       "      <td>problematic</td>\n",
       "      <td>priority</td>\n",
       "      <td>spec_prior</td>\n",
       "    </tr>\n",
       "    <tr>\n",
       "      <th>12959</th>\n",
       "      <td>great_pret</td>\n",
       "      <td>very_crit</td>\n",
       "      <td>foster</td>\n",
       "      <td>more</td>\n",
       "      <td>critical</td>\n",
       "      <td>inconv</td>\n",
       "      <td>problematic</td>\n",
       "      <td>not_recom</td>\n",
       "      <td>not_recom</td>\n",
       "    </tr>\n",
       "  </tbody>\n",
       "</table>\n",
       "<p>12960 rows × 9 columns</p>\n",
       "</div>"
      ],
      "text/plain": [
       "          parents   has_nurs      form children     housing     finance  \\\n",
       "0           usual     proper  complete        1  convenient  convenient   \n",
       "1           usual     proper  complete        1  convenient  convenient   \n",
       "2           usual     proper  complete        1  convenient  convenient   \n",
       "3           usual     proper  complete        1  convenient  convenient   \n",
       "4           usual     proper  complete        1  convenient  convenient   \n",
       "...           ...        ...       ...      ...         ...         ...   \n",
       "12955  great_pret  very_crit    foster     more    critical      inconv   \n",
       "12956  great_pret  very_crit    foster     more    critical      inconv   \n",
       "12957  great_pret  very_crit    foster     more    critical      inconv   \n",
       "12958  great_pret  very_crit    foster     more    critical      inconv   \n",
       "12959  great_pret  very_crit    foster     more    critical      inconv   \n",
       "\n",
       "              social       health final evaluation  \n",
       "0            nonprob  recommended        recommend  \n",
       "1            nonprob     priority         priority  \n",
       "2            nonprob    not_recom        not_recom  \n",
       "3      slightly_prob  recommended        recommend  \n",
       "4      slightly_prob     priority         priority  \n",
       "...              ...          ...              ...  \n",
       "12955  slightly_prob     priority       spec_prior  \n",
       "12956  slightly_prob    not_recom        not_recom  \n",
       "12957    problematic  recommended       spec_prior  \n",
       "12958    problematic     priority       spec_prior  \n",
       "12959    problematic    not_recom        not_recom  \n",
       "\n",
       "[12960 rows x 9 columns]"
      ]
     },
     "execution_count": 6,
     "metadata": {},
     "output_type": "execute_result"
    }
   ],
   "source": [
    "df"
   ]
  },
  {
   "cell_type": "code",
   "execution_count": 7,
   "id": "ac95ab9e",
   "metadata": {},
   "outputs": [],
   "source": [
    "df_num = df.astype('category')"
   ]
  },
  {
   "cell_type": "code",
   "execution_count": 8,
   "id": "00e719af",
   "metadata": {},
   "outputs": [
    {
     "data": {
      "text/plain": [
       "0         recommend\n",
       "1          priority\n",
       "2         not_recom\n",
       "3         recommend\n",
       "4          priority\n",
       "            ...    \n",
       "12955    spec_prior\n",
       "12956     not_recom\n",
       "12957    spec_prior\n",
       "12958    spec_prior\n",
       "12959     not_recom\n",
       "Name: final evaluation, Length: 12960, dtype: category\n",
       "Categories (5, object): ['not_recom', 'priority', 'recommend', 'spec_prior', 'very_recom']"
      ]
     },
     "execution_count": 8,
     "metadata": {},
     "output_type": "execute_result"
    }
   ],
   "source": [
    "df_num['final evaluation']"
   ]
  },
  {
   "cell_type": "code",
   "execution_count": 9,
   "id": "20633567",
   "metadata": {},
   "outputs": [],
   "source": [
    "# Order categories correctly, because order has meaning.\n",
    "df_num.parents = df_num.parents.cat.reorder_categories(['usual', 'pretentious', 'great_pret'])\n",
    "df_num.has_nurs = df_num.has_nurs.cat.reorder_categories(\n",
    "    ['proper', 'less_proper',  'improper', 'critical', 'very_crit']\n",
    ")\n",
    "df_num.form = df_num.form.cat.reorder_categories(['complete', 'completed', 'incomplete', 'foster'])\n",
    "df_num.children = df_num.children.cat.reorder_categories(['1', '2', '3', 'more'])\n",
    "df_num.housing = df_num.housing.cat.reorder_categories(['convenient', 'less_conv', 'critical'])\n",
    "df_num.finance = df_num.finance.cat.reorder_categories(['convenient', 'inconv'])\n",
    "df_num.social = df_num.social.cat.reorder_categories(['nonprob', 'slightly_prob', 'problematic'])\n",
    "df_num.health = df_num.health.cat.reorder_categories(['not_recom', 'recommended', 'priority'])\n",
    "df_num['final evaluation'] = df_num['final evaluation'].cat.reorder_categories(\n",
    "    ['not_recom', 'recommend',  'very_recom', 'priority', 'spec_prior',]\n",
    ")\n"
   ]
  },
  {
   "cell_type": "code",
   "execution_count": 10,
   "id": "d86ab5bb",
   "metadata": {},
   "outputs": [
    {
     "data": {
      "text/html": [
       "<div>\n",
       "<style scoped>\n",
       "    .dataframe tbody tr th:only-of-type {\n",
       "        vertical-align: middle;\n",
       "    }\n",
       "\n",
       "    .dataframe tbody tr th {\n",
       "        vertical-align: top;\n",
       "    }\n",
       "\n",
       "    .dataframe thead th {\n",
       "        text-align: right;\n",
       "    }\n",
       "</style>\n",
       "<table border=\"1\" class=\"dataframe\">\n",
       "  <thead>\n",
       "    <tr style=\"text-align: right;\">\n",
       "      <th></th>\n",
       "      <th>parents</th>\n",
       "      <th>has_nurs</th>\n",
       "      <th>form</th>\n",
       "      <th>children</th>\n",
       "      <th>housing</th>\n",
       "      <th>finance</th>\n",
       "      <th>social</th>\n",
       "      <th>health</th>\n",
       "      <th>final evaluation</th>\n",
       "    </tr>\n",
       "  </thead>\n",
       "  <tbody>\n",
       "    <tr>\n",
       "      <th>0</th>\n",
       "      <td>usual</td>\n",
       "      <td>proper</td>\n",
       "      <td>complete</td>\n",
       "      <td>1</td>\n",
       "      <td>convenient</td>\n",
       "      <td>convenient</td>\n",
       "      <td>nonprob</td>\n",
       "      <td>recommended</td>\n",
       "      <td>recommend</td>\n",
       "    </tr>\n",
       "    <tr>\n",
       "      <th>1</th>\n",
       "      <td>usual</td>\n",
       "      <td>proper</td>\n",
       "      <td>complete</td>\n",
       "      <td>1</td>\n",
       "      <td>convenient</td>\n",
       "      <td>convenient</td>\n",
       "      <td>nonprob</td>\n",
       "      <td>priority</td>\n",
       "      <td>priority</td>\n",
       "    </tr>\n",
       "    <tr>\n",
       "      <th>2</th>\n",
       "      <td>usual</td>\n",
       "      <td>proper</td>\n",
       "      <td>complete</td>\n",
       "      <td>1</td>\n",
       "      <td>convenient</td>\n",
       "      <td>convenient</td>\n",
       "      <td>nonprob</td>\n",
       "      <td>not_recom</td>\n",
       "      <td>not_recom</td>\n",
       "    </tr>\n",
       "    <tr>\n",
       "      <th>3</th>\n",
       "      <td>usual</td>\n",
       "      <td>proper</td>\n",
       "      <td>complete</td>\n",
       "      <td>1</td>\n",
       "      <td>convenient</td>\n",
       "      <td>convenient</td>\n",
       "      <td>slightly_prob</td>\n",
       "      <td>recommended</td>\n",
       "      <td>recommend</td>\n",
       "    </tr>\n",
       "    <tr>\n",
       "      <th>4</th>\n",
       "      <td>usual</td>\n",
       "      <td>proper</td>\n",
       "      <td>complete</td>\n",
       "      <td>1</td>\n",
       "      <td>convenient</td>\n",
       "      <td>convenient</td>\n",
       "      <td>slightly_prob</td>\n",
       "      <td>priority</td>\n",
       "      <td>priority</td>\n",
       "    </tr>\n",
       "    <tr>\n",
       "      <th>...</th>\n",
       "      <td>...</td>\n",
       "      <td>...</td>\n",
       "      <td>...</td>\n",
       "      <td>...</td>\n",
       "      <td>...</td>\n",
       "      <td>...</td>\n",
       "      <td>...</td>\n",
       "      <td>...</td>\n",
       "      <td>...</td>\n",
       "    </tr>\n",
       "    <tr>\n",
       "      <th>12955</th>\n",
       "      <td>great_pret</td>\n",
       "      <td>very_crit</td>\n",
       "      <td>foster</td>\n",
       "      <td>more</td>\n",
       "      <td>critical</td>\n",
       "      <td>inconv</td>\n",
       "      <td>slightly_prob</td>\n",
       "      <td>priority</td>\n",
       "      <td>spec_prior</td>\n",
       "    </tr>\n",
       "    <tr>\n",
       "      <th>12956</th>\n",
       "      <td>great_pret</td>\n",
       "      <td>very_crit</td>\n",
       "      <td>foster</td>\n",
       "      <td>more</td>\n",
       "      <td>critical</td>\n",
       "      <td>inconv</td>\n",
       "      <td>slightly_prob</td>\n",
       "      <td>not_recom</td>\n",
       "      <td>not_recom</td>\n",
       "    </tr>\n",
       "    <tr>\n",
       "      <th>12957</th>\n",
       "      <td>great_pret</td>\n",
       "      <td>very_crit</td>\n",
       "      <td>foster</td>\n",
       "      <td>more</td>\n",
       "      <td>critical</td>\n",
       "      <td>inconv</td>\n",
       "      <td>problematic</td>\n",
       "      <td>recommended</td>\n",
       "      <td>spec_prior</td>\n",
       "    </tr>\n",
       "    <tr>\n",
       "      <th>12958</th>\n",
       "      <td>great_pret</td>\n",
       "      <td>very_crit</td>\n",
       "      <td>foster</td>\n",
       "      <td>more</td>\n",
       "      <td>critical</td>\n",
       "      <td>inconv</td>\n",
       "      <td>problematic</td>\n",
       "      <td>priority</td>\n",
       "      <td>spec_prior</td>\n",
       "    </tr>\n",
       "    <tr>\n",
       "      <th>12959</th>\n",
       "      <td>great_pret</td>\n",
       "      <td>very_crit</td>\n",
       "      <td>foster</td>\n",
       "      <td>more</td>\n",
       "      <td>critical</td>\n",
       "      <td>inconv</td>\n",
       "      <td>problematic</td>\n",
       "      <td>not_recom</td>\n",
       "      <td>not_recom</td>\n",
       "    </tr>\n",
       "  </tbody>\n",
       "</table>\n",
       "<p>12960 rows × 9 columns</p>\n",
       "</div>"
      ],
      "text/plain": [
       "          parents   has_nurs      form children     housing     finance  \\\n",
       "0           usual     proper  complete        1  convenient  convenient   \n",
       "1           usual     proper  complete        1  convenient  convenient   \n",
       "2           usual     proper  complete        1  convenient  convenient   \n",
       "3           usual     proper  complete        1  convenient  convenient   \n",
       "4           usual     proper  complete        1  convenient  convenient   \n",
       "...           ...        ...       ...      ...         ...         ...   \n",
       "12955  great_pret  very_crit    foster     more    critical      inconv   \n",
       "12956  great_pret  very_crit    foster     more    critical      inconv   \n",
       "12957  great_pret  very_crit    foster     more    critical      inconv   \n",
       "12958  great_pret  very_crit    foster     more    critical      inconv   \n",
       "12959  great_pret  very_crit    foster     more    critical      inconv   \n",
       "\n",
       "              social       health final evaluation  \n",
       "0            nonprob  recommended        recommend  \n",
       "1            nonprob     priority         priority  \n",
       "2            nonprob    not_recom        not_recom  \n",
       "3      slightly_prob  recommended        recommend  \n",
       "4      slightly_prob     priority         priority  \n",
       "...              ...          ...              ...  \n",
       "12955  slightly_prob     priority       spec_prior  \n",
       "12956  slightly_prob    not_recom        not_recom  \n",
       "12957    problematic  recommended       spec_prior  \n",
       "12958    problematic     priority       spec_prior  \n",
       "12959    problematic    not_recom        not_recom  \n",
       "\n",
       "[12960 rows x 9 columns]"
      ]
     },
     "execution_count": 10,
     "metadata": {},
     "output_type": "execute_result"
    }
   ],
   "source": [
    "df_num"
   ]
  },
  {
   "cell_type": "code",
   "execution_count": 11,
   "id": "7e7dc95d",
   "metadata": {},
   "outputs": [],
   "source": [
    "for colname in df:\n",
    "    df_num[colname] = df_num[colname].cat.codes + 1"
   ]
  },
  {
   "cell_type": "code",
   "execution_count": 12,
   "id": "7d602823",
   "metadata": {},
   "outputs": [
    {
     "data": {
      "text/html": [
       "<div>\n",
       "<style scoped>\n",
       "    .dataframe tbody tr th:only-of-type {\n",
       "        vertical-align: middle;\n",
       "    }\n",
       "\n",
       "    .dataframe tbody tr th {\n",
       "        vertical-align: top;\n",
       "    }\n",
       "\n",
       "    .dataframe thead th {\n",
       "        text-align: right;\n",
       "    }\n",
       "</style>\n",
       "<table border=\"1\" class=\"dataframe\">\n",
       "  <thead>\n",
       "    <tr style=\"text-align: right;\">\n",
       "      <th></th>\n",
       "      <th>parents</th>\n",
       "      <th>has_nurs</th>\n",
       "      <th>form</th>\n",
       "      <th>children</th>\n",
       "      <th>housing</th>\n",
       "      <th>finance</th>\n",
       "      <th>social</th>\n",
       "      <th>health</th>\n",
       "      <th>final evaluation</th>\n",
       "    </tr>\n",
       "  </thead>\n",
       "  <tbody>\n",
       "    <tr>\n",
       "      <th>0</th>\n",
       "      <td>1</td>\n",
       "      <td>1</td>\n",
       "      <td>1</td>\n",
       "      <td>1</td>\n",
       "      <td>1</td>\n",
       "      <td>1</td>\n",
       "      <td>1</td>\n",
       "      <td>2</td>\n",
       "      <td>2</td>\n",
       "    </tr>\n",
       "    <tr>\n",
       "      <th>1</th>\n",
       "      <td>1</td>\n",
       "      <td>1</td>\n",
       "      <td>1</td>\n",
       "      <td>1</td>\n",
       "      <td>1</td>\n",
       "      <td>1</td>\n",
       "      <td>1</td>\n",
       "      <td>3</td>\n",
       "      <td>4</td>\n",
       "    </tr>\n",
       "    <tr>\n",
       "      <th>2</th>\n",
       "      <td>1</td>\n",
       "      <td>1</td>\n",
       "      <td>1</td>\n",
       "      <td>1</td>\n",
       "      <td>1</td>\n",
       "      <td>1</td>\n",
       "      <td>1</td>\n",
       "      <td>1</td>\n",
       "      <td>1</td>\n",
       "    </tr>\n",
       "    <tr>\n",
       "      <th>3</th>\n",
       "      <td>1</td>\n",
       "      <td>1</td>\n",
       "      <td>1</td>\n",
       "      <td>1</td>\n",
       "      <td>1</td>\n",
       "      <td>1</td>\n",
       "      <td>2</td>\n",
       "      <td>2</td>\n",
       "      <td>2</td>\n",
       "    </tr>\n",
       "    <tr>\n",
       "      <th>4</th>\n",
       "      <td>1</td>\n",
       "      <td>1</td>\n",
       "      <td>1</td>\n",
       "      <td>1</td>\n",
       "      <td>1</td>\n",
       "      <td>1</td>\n",
       "      <td>2</td>\n",
       "      <td>3</td>\n",
       "      <td>4</td>\n",
       "    </tr>\n",
       "    <tr>\n",
       "      <th>...</th>\n",
       "      <td>...</td>\n",
       "      <td>...</td>\n",
       "      <td>...</td>\n",
       "      <td>...</td>\n",
       "      <td>...</td>\n",
       "      <td>...</td>\n",
       "      <td>...</td>\n",
       "      <td>...</td>\n",
       "      <td>...</td>\n",
       "    </tr>\n",
       "    <tr>\n",
       "      <th>12955</th>\n",
       "      <td>3</td>\n",
       "      <td>5</td>\n",
       "      <td>4</td>\n",
       "      <td>4</td>\n",
       "      <td>3</td>\n",
       "      <td>2</td>\n",
       "      <td>2</td>\n",
       "      <td>3</td>\n",
       "      <td>5</td>\n",
       "    </tr>\n",
       "    <tr>\n",
       "      <th>12956</th>\n",
       "      <td>3</td>\n",
       "      <td>5</td>\n",
       "      <td>4</td>\n",
       "      <td>4</td>\n",
       "      <td>3</td>\n",
       "      <td>2</td>\n",
       "      <td>2</td>\n",
       "      <td>1</td>\n",
       "      <td>1</td>\n",
       "    </tr>\n",
       "    <tr>\n",
       "      <th>12957</th>\n",
       "      <td>3</td>\n",
       "      <td>5</td>\n",
       "      <td>4</td>\n",
       "      <td>4</td>\n",
       "      <td>3</td>\n",
       "      <td>2</td>\n",
       "      <td>3</td>\n",
       "      <td>2</td>\n",
       "      <td>5</td>\n",
       "    </tr>\n",
       "    <tr>\n",
       "      <th>12958</th>\n",
       "      <td>3</td>\n",
       "      <td>5</td>\n",
       "      <td>4</td>\n",
       "      <td>4</td>\n",
       "      <td>3</td>\n",
       "      <td>2</td>\n",
       "      <td>3</td>\n",
       "      <td>3</td>\n",
       "      <td>5</td>\n",
       "    </tr>\n",
       "    <tr>\n",
       "      <th>12959</th>\n",
       "      <td>3</td>\n",
       "      <td>5</td>\n",
       "      <td>4</td>\n",
       "      <td>4</td>\n",
       "      <td>3</td>\n",
       "      <td>2</td>\n",
       "      <td>3</td>\n",
       "      <td>1</td>\n",
       "      <td>1</td>\n",
       "    </tr>\n",
       "  </tbody>\n",
       "</table>\n",
       "<p>12960 rows × 9 columns</p>\n",
       "</div>"
      ],
      "text/plain": [
       "       parents  has_nurs  form  children  housing  finance  social  health  \\\n",
       "0            1         1     1         1        1        1       1       2   \n",
       "1            1         1     1         1        1        1       1       3   \n",
       "2            1         1     1         1        1        1       1       1   \n",
       "3            1         1     1         1        1        1       2       2   \n",
       "4            1         1     1         1        1        1       2       3   \n",
       "...        ...       ...   ...       ...      ...      ...     ...     ...   \n",
       "12955        3         5     4         4        3        2       2       3   \n",
       "12956        3         5     4         4        3        2       2       1   \n",
       "12957        3         5     4         4        3        2       3       2   \n",
       "12958        3         5     4         4        3        2       3       3   \n",
       "12959        3         5     4         4        3        2       3       1   \n",
       "\n",
       "       final evaluation  \n",
       "0                     2  \n",
       "1                     4  \n",
       "2                     1  \n",
       "3                     2  \n",
       "4                     4  \n",
       "...                 ...  \n",
       "12955                 5  \n",
       "12956                 1  \n",
       "12957                 5  \n",
       "12958                 5  \n",
       "12959                 1  \n",
       "\n",
       "[12960 rows x 9 columns]"
      ]
     },
     "execution_count": 12,
     "metadata": {},
     "output_type": "execute_result"
    }
   ],
   "source": [
    "df_num"
   ]
  },
  {
   "cell_type": "markdown",
   "id": "660421ec",
   "metadata": {},
   "source": [
    "# Dropping features\n",
    " Features are dropped according to their usefulness for the logistic regression model in experiment 13.\n",
    " \n",
    " We leave the most important features and 1 or 2 least important."
   ]
  },
  {
   "cell_type": "code",
   "execution_count": 13,
   "id": "e903f623",
   "metadata": {},
   "outputs": [],
   "source": [
    "# final evaluation is target variable\n",
    "\n",
    "all_contexts = df_num.drop(['social', 'finance', 'final evaluation'], axis=1)\n",
    "\n",
    "# In this notebook also drop children column. In next we'll try how it goes together with this column.\n",
    "\n",
    "all_contexts = all_contexts.drop(['housing'], axis=1).to_numpy()"
   ]
  },
  {
   "cell_type": "code",
   "execution_count": 14,
   "id": "dc9b91ef",
   "metadata": {},
   "outputs": [
    {
     "data": {
      "text/plain": [
       "(12960, 5)"
      ]
     },
     "execution_count": 14,
     "metadata": {},
     "output_type": "execute_result"
    }
   ],
   "source": [
    "all_contexts.shape"
   ]
  },
  {
   "cell_type": "code",
   "execution_count": 15,
   "id": "4dfd5385",
   "metadata": {},
   "outputs": [
    {
     "data": {
      "text/plain": [
       "array([[1, 1, 1, 1, 2],\n",
       "       [1, 1, 1, 1, 3],\n",
       "       [1, 1, 1, 1, 1],\n",
       "       ...,\n",
       "       [3, 5, 4, 4, 2],\n",
       "       [3, 5, 4, 4, 3],\n",
       "       [3, 5, 4, 4, 1]], dtype=int8)"
      ]
     },
     "execution_count": 15,
     "metadata": {},
     "output_type": "execute_result"
    }
   ],
   "source": [
    "all_contexts"
   ]
  },
  {
   "cell_type": "code",
   "execution_count": 16,
   "id": "bd939b7b",
   "metadata": {},
   "outputs": [],
   "source": [
    "y = df_num['final evaluation']"
   ]
  },
  {
   "cell_type": "code",
   "execution_count": 17,
   "id": "ca56a05d",
   "metadata": {},
   "outputs": [
    {
     "data": {
      "text/plain": [
       "1    4320\n",
       "4    4266\n",
       "5    4044\n",
       "3     328\n",
       "2       2\n",
       "Name: final evaluation, dtype: int64"
      ]
     },
     "execution_count": 17,
     "metadata": {},
     "output_type": "execute_result"
    }
   ],
   "source": [
    "y.value_counts()"
   ]
  },
  {
   "cell_type": "code",
   "execution_count": 18,
   "id": "01a7d455",
   "metadata": {},
   "outputs": [],
   "source": [
    "# Drop arms with small rewards"
   ]
  },
  {
   "cell_type": "code",
   "execution_count": 19,
   "id": "312d4ea7",
   "metadata": {},
   "outputs": [],
   "source": [
    "# Values meaning:\n",
    "# not recommended (1)\n",
    "# recommend (2)\n",
    "# very recommend (3)\n",
    "# priority acceptance (4)\n",
    "# special priority (5)"
   ]
  },
  {
   "cell_type": "code",
   "execution_count": 20,
   "id": "94af7782",
   "metadata": {},
   "outputs": [
    {
     "data": {
      "text/plain": [
       "0        False\n",
       "1         True\n",
       "2         True\n",
       "3        False\n",
       "4         True\n",
       "         ...  \n",
       "12955     True\n",
       "12956     True\n",
       "12957     True\n",
       "12958     True\n",
       "12959     True\n",
       "Name: final evaluation, Length: 12960, dtype: bool"
      ]
     },
     "execution_count": 20,
     "metadata": {},
     "output_type": "execute_result"
    }
   ],
   "source": [
    "(y != 3) & (y != 2)"
   ]
  },
  {
   "cell_type": "code",
   "execution_count": 21,
   "id": "52b61081",
   "metadata": {},
   "outputs": [],
   "source": [
    "all_contexts = all_contexts[(y != 3) & (y != 2)]"
   ]
  },
  {
   "cell_type": "code",
   "execution_count": 22,
   "id": "136150bd",
   "metadata": {},
   "outputs": [],
   "source": [
    "y = y[(y != 3) & (y != 2)]"
   ]
  },
  {
   "cell_type": "code",
   "execution_count": 23,
   "id": "13a12536",
   "metadata": {},
   "outputs": [
    {
     "data": {
      "text/plain": [
       "1    4320\n",
       "4    4266\n",
       "5    4044\n",
       "Name: final evaluation, dtype: int64"
      ]
     },
     "execution_count": 23,
     "metadata": {},
     "output_type": "execute_result"
    }
   ],
   "source": [
    "y.value_counts()"
   ]
  },
  {
   "cell_type": "code",
   "execution_count": 24,
   "id": "a786eb7a",
   "metadata": {},
   "outputs": [
    {
     "data": {
      "text/plain": [
       "0"
      ]
     },
     "execution_count": 24,
     "metadata": {},
     "output_type": "execute_result"
    }
   ],
   "source": [
    "np.sum(np.where(y == 3, 1, 0))"
   ]
  },
  {
   "cell_type": "code",
   "execution_count": 25,
   "id": "f227567c",
   "metadata": {},
   "outputs": [],
   "source": [
    "unique = np.unique(y)\n",
    "all_rewards = np.zeros((y.shape[0], len(unique)))\n",
    "for n_arm, y_value in enumerate(unique):\n",
    "    all_rewards[:, n_arm] = np.where(y == y_value, 1, 0)\n",
    "    "
   ]
  },
  {
   "cell_type": "code",
   "execution_count": 26,
   "id": "5b8c791b",
   "metadata": {},
   "outputs": [
    {
     "data": {
      "text/plain": [
       "array([[0., 1., 0.],\n",
       "       [1., 0., 0.],\n",
       "       [0., 1., 0.],\n",
       "       ...,\n",
       "       [0., 0., 1.],\n",
       "       [0., 0., 1.],\n",
       "       [1., 0., 0.]])"
      ]
     },
     "execution_count": 26,
     "metadata": {},
     "output_type": "execute_result"
    }
   ],
   "source": [
    "all_rewards"
   ]
  },
  {
   "cell_type": "code",
   "execution_count": 27,
   "id": "98ff8fda",
   "metadata": {},
   "outputs": [
    {
     "data": {
      "text/plain": [
       "array([4320, 4266, 4044])"
      ]
     },
     "execution_count": 27,
     "metadata": {},
     "output_type": "execute_result"
    }
   ],
   "source": [
    "np.array(np.sum(all_rewards, axis=0), dtype=int)"
   ]
  },
  {
   "cell_type": "markdown",
   "id": "b6dc7429",
   "metadata": {},
   "source": [
    "### Find which features are useful\n",
    "\n",
    "It might be useful to move this to another notebook later for better organization."
   ]
  },
  {
   "cell_type": "code",
   "execution_count": 28,
   "id": "45c48902",
   "metadata": {},
   "outputs": [
    {
     "name": "stdout",
     "output_type": "stream",
     "text": [
      "0\n",
      "[[ -0.03664704  -0.02537716  -0.01417635  -0.02038412 -11.7296576 ]]\n",
      "1\n",
      "[[-0.9939611  -0.91543476 -0.17259338 -0.24073126  1.4794933 ]]\n",
      "2\n",
      "[[1.78598517 1.61455451 0.31764541 0.44591087 3.24204631]]\n"
     ]
    }
   ],
   "source": [
    "from sklearn.linear_model import LinearRegression, LogisticRegression\n",
    "\n",
    "\n",
    "coefs = np.zeros((all_rewards.shape[1], all_contexts.shape[1]))\n",
    "for n_arm in range(all_rewards.shape[1]):\n",
    "    print(n_arm)\n",
    "    model = LogisticRegression()\n",
    "    model.fit(all_contexts, all_rewards[:, n_arm])\n",
    "    print(model.coef_)\n",
    "    coefs[n_arm, :] = model.coef_\n"
   ]
  },
  {
   "cell_type": "code",
   "execution_count": 29,
   "id": "8c217f07",
   "metadata": {},
   "outputs": [
    {
     "data": {
      "text/plain": [
       "array([ 0.25179234,  0.22458086,  0.04362523,  0.0615985 , -2.33603933])"
      ]
     },
     "execution_count": 29,
     "metadata": {},
     "output_type": "execute_result"
    }
   ],
   "source": [
    "np.mean(coefs, axis= 0)"
   ]
  },
  {
   "cell_type": "code",
   "execution_count": 30,
   "id": "7c2b0501",
   "metadata": {},
   "outputs": [],
   "source": [
    "BETA = 1"
   ]
  },
  {
   "cell_type": "markdown",
   "id": "a1f22f9e",
   "metadata": {},
   "source": [
    "# Adding non-stationarity\n"
   ]
  },
  {
   "cell_type": "markdown",
   "id": "29fe230c",
   "metadata": {},
   "source": [
    "### Non-stationarity in rewards"
   ]
  },
  {
   "cell_type": "code",
   "execution_count": 31,
   "id": "6b8cab7b",
   "metadata": {},
   "outputs": [
    {
     "data": {
      "text/plain": [
       "12630"
      ]
     },
     "execution_count": 31,
     "metadata": {},
     "output_type": "execute_result"
    }
   ],
   "source": [
    "all_rewards.shape[0]"
   ]
  },
  {
   "cell_type": "code",
   "execution_count": 32,
   "id": "0aaea10e",
   "metadata": {},
   "outputs": [],
   "source": [
    "stationarity_regions = [\n",
    "    slice(0, 500),\n",
    "    slice(500, 1000),\n",
    "    slice(1000, 2000),\n",
    "    slice(2000, 3500),\n",
    "    slice(3500, 5000),\n",
    "    slice(5000, 6500),\n",
    "    slice(6500, 8000),\n",
    "    slice(8000, 11000),\n",
    "    slice(11000, all_contexts.shape[0]),\n",
    "]"
   ]
  },
  {
   "cell_type": "code",
   "execution_count": 33,
   "id": "99234270",
   "metadata": {},
   "outputs": [],
   "source": [
    "change_point_values = [x.start for x in stationarity_regions] + [stationarity_regions[-1].stop]\n",
    "change_point_values[0] += 1"
   ]
  },
  {
   "cell_type": "code",
   "execution_count": 34,
   "id": "07baf156",
   "metadata": {},
   "outputs": [
    {
     "data": {
      "text/plain": [
       "[1, 500, 1000, 2000, 3500, 5000, 6500, 8000, 11000, 12630]"
      ]
     },
     "execution_count": 34,
     "metadata": {},
     "output_type": "execute_result"
    }
   ],
   "source": [
    "change_point_values"
   ]
  },
  {
   "cell_type": "code",
   "execution_count": 35,
   "id": "95230d1f",
   "metadata": {},
   "outputs": [
    {
     "data": {
      "text/plain": [
       "array([0.34204276, 0.33776722, 0.32019002])"
      ]
     },
     "execution_count": 35,
     "metadata": {},
     "output_type": "execute_result"
    }
   ],
   "source": [
    "# We invert arm 0 with 2 and 1 with 3 (\n",
    "np.mean(all_rewards, axis=0)"
   ]
  },
  {
   "cell_type": "code",
   "execution_count": 36,
   "id": "2ad6b353",
   "metadata": {},
   "outputs": [],
   "source": [
    "new_rewards = np.copy(all_rewards)\n",
    "new_contexts = np.copy(all_contexts)\n",
    "\n",
    "mean_rewards = np.zeros(new_rewards.shape)\n",
    "\n",
    "n_arms = all_rewards.shape[1]\n",
    "\n",
    "for i, region in enumerate(stationarity_regions):\n",
    "    for arm_from in range(n_arms):\n",
    "        # Cyclic shift of class labels\n",
    "        arm_to = (arm_from + i) % n_arms\n",
    "        if i > 0:\n",
    "            new_rewards[region, arm_to] = all_rewards[region, arm_from]\n",
    "        \n",
    "        # For plotting\n",
    "        mean_rewards[region, arm_to] = (\n",
    "            np.ones(new_rewards[region, arm_to].shape) * np.mean(new_rewards[region, arm_to])\n",
    "        )"
   ]
  },
  {
   "cell_type": "code",
   "execution_count": 37,
   "id": "1fcad487",
   "metadata": {},
   "outputs": [
    {
     "data": {
      "text/plain": [
       "((12630, 5), (12630, 3))"
      ]
     },
     "execution_count": 37,
     "metadata": {},
     "output_type": "execute_result"
    }
   ],
   "source": [
    "new_contexts.shape, new_rewards.shape"
   ]
  },
  {
   "cell_type": "markdown",
   "id": "f697974f",
   "metadata": {},
   "source": [
    "## Plot expected reward"
   ]
  },
  {
   "cell_type": "code",
   "execution_count": 38,
   "id": "6f590277",
   "metadata": {},
   "outputs": [
    {
     "name": "stdout",
     "output_type": "stream",
     "text": [
      "Min expected reward for arm 1: 0.0\n",
      "Min expected reward for arm 2: 0.0\n",
      "Min expected reward for arm 3: 0.0\n"
     ]
    },
    {
     "data": {
      "image/png": "[encoded data removed]",
      "text/plain": [
       "<Figure size 792x360 with 1 Axes>"
      ]
     },
     "metadata": {
      "needs_background": "light"
     },
     "output_type": "display_data"
    }
   ],
   "source": [
    "fig, ax = plt.subplots(1,1, figsize=(11,5))\n",
    "for arm in range(n_arms):\n",
    "    expected_gain = BETA * mean_rewards[:, arm] \n",
    "    ax.plot(expected_gain, label=f\"Arm {arm+1}\", linestyle=':', linewidth=5)\n",
    "    print(f\"Min expected reward for arm {arm+1}: {min(expected_gain)}\")\n",
    "\n",
    "    \n",
    "extraticks = change_point_values\n",
    "plt.xticks(extraticks, rotation=35, fontsize=16)\n",
    "\n",
    "plt.yticks(fontsize=16)\n",
    "\n",
    "ax.set_xlabel('Time step', fontsize=20)\n",
    "ax.set_ylabel(fr\"($\\beta$={BETA}) * Mean reward\", fontsize=20)\n",
    "\n",
    "lgd = ax.legend(loc=9, ncol=5, bbox_to_anchor=(0.5, 1.132), prop={'size': 15})\n",
    "plt.savefig('mean_rewards.pdf', dpi=300, bbox_extra_artists=(lgd,), bbox_inches='tight')\n",
    "\n",
    "\n",
    "plt.show()\n"
   ]
  },
  {
   "cell_type": "markdown",
   "id": "bc043c4b",
   "metadata": {},
   "source": [
    "### Non-stationarity in costs"
   ]
  },
  {
   "cell_type": "code",
   "execution_count": 39,
   "id": "a96b928e",
   "metadata": {},
   "outputs": [],
   "source": [
    "cost_change_points = [3000, 5000, 7000, 9000, 11000]\n",
    "interval_count = len(cost_change_points) + 1"
   ]
  },
  {
   "cell_type": "code",
   "execution_count": 40,
   "id": "7b4ce894",
   "metadata": {},
   "outputs": [],
   "source": [
    "# Mean of gaussian distribution random in interval [0, 0.02] \n",
    "interval_means = [np.random.uniform(0.03, 0.1, size=(new_contexts.shape[1],)) for i in range(interval_count)]"
   ]
  },
  {
   "cell_type": "code",
   "execution_count": 41,
   "id": "d801df91",
   "metadata": {},
   "outputs": [
    {
     "data": {
      "text/plain": [
       "[array([0.05621781, 0.09655   , 0.08123958, 0.07190609, 0.0409213 ]),\n",
       " array([0.04091962, 0.03406585, 0.09063233, 0.07207805, 0.07956508]),\n",
       " array([0.03144091, 0.09789369, 0.08827098, 0.04486374, 0.04272775]),\n",
       " array([0.04283832, 0.05129696, 0.06673295, 0.06023615, 0.05038604]),\n",
       " array([0.0728297 , 0.03976457, 0.05045013, 0.05564533, 0.0619249 ]),\n",
       " array([0.08496232, 0.04397716, 0.06599641, 0.07146902, 0.03325153])]"
      ]
     },
     "execution_count": 41,
     "metadata": {},
     "output_type": "execute_result"
    }
   ],
   "source": [
    "interval_means"
   ]
  },
  {
   "cell_type": "code",
   "execution_count": 42,
   "id": "59ba2ffd",
   "metadata": {},
   "outputs": [],
   "source": [
    "# Fixed std\n",
    "interval_stds = [[0.001]*new_contexts.shape[1]]*interval_count"
   ]
  },
  {
   "cell_type": "code",
   "execution_count": 43,
   "id": "28de8f86",
   "metadata": {},
   "outputs": [],
   "source": [
    "def get_costs():\n",
    "    return costs.NonstationaryGaussianCosts(\n",
    "        feature_vector_size=new_contexts.shape[1],\n",
    "        change_points=cost_change_points,\n",
    "        interval_means=interval_means,\n",
    "        interval_stds=interval_stds,\n",
    "        random_seed=42,\n",
    "    )\n",
    "    "
   ]
  },
  {
   "cell_type": "code",
   "execution_count": 44,
   "id": "3ac89d71",
   "metadata": {},
   "outputs": [
    {
     "data": {
      "image/png": "[encoded data removed]",
      "text/plain": [
       "<Figure size 1080x576 with 1 Axes>"
      ]
     },
     "execution_count": 44,
     "metadata": {},
     "output_type": "execute_result"
    }
   ],
   "source": [
    "plot_costs(get_costs(), new_contexts.shape[0])"
   ]
  },
  {
   "cell_type": "code",
   "execution_count": 45,
   "id": "65bd80bc",
   "metadata": {},
   "outputs": [],
   "source": [
    "costs_obj = get_costs()"
   ]
  },
  {
   "cell_type": "code",
   "execution_count": 46,
   "id": "40ccb3da",
   "metadata": {},
   "outputs": [],
   "source": [
    "costs_vector = []\n",
    "for t in range(new_contexts.shape[0]):\n",
    "    costs_at_t = np.array(costs_obj.get_separate_costs(trial=t))\n",
    "    costs_vector.append(costs_at_t)\n",
    "\n",
    "costs_vector = np.stack(costs_vector)"
   ]
  },
  {
   "cell_type": "code",
   "execution_count": 47,
   "id": "ca8fc603",
   "metadata": {},
   "outputs": [
    {
     "data": {
      "text/plain": [
       "(12630, 5)"
      ]
     },
     "execution_count": 47,
     "metadata": {},
     "output_type": "execute_result"
    }
   ],
   "source": [
    "costs_vector.shape"
   ]
  },
  {
   "cell_type": "markdown",
   "id": "f2745795",
   "metadata": {},
   "source": [
    "## Plot expected reward minus sum of costs"
   ]
  },
  {
   "cell_type": "code",
   "execution_count": 48,
   "id": "5a1b46fe",
   "metadata": {},
   "outputs": [],
   "source": [
    "all_change_point_values = sorted(list(set(cost_change_points).union(set(change_point_values)) ))"
   ]
  },
  {
   "cell_type": "code",
   "execution_count": 49,
   "id": "4456e039",
   "metadata": {},
   "outputs": [
    {
     "name": "stdout",
     "output_type": "stream",
     "text": [
      "Min expected gain for arm 1: -0.35445075988181063\n",
      "Min expected gain for arm 2: -0.3537695179778688\n",
      "Min expected gain for arm 3: -0.35241484263712175\n"
     ]
    },
    {
     "data": {
      "image/png": "[encoded data removed]",
      "text/plain": [
       "<Figure size 792x360 with 1 Axes>"
      ]
     },
     "metadata": {
      "needs_background": "light"
     },
     "output_type": "display_data"
    }
   ],
   "source": [
    "fig, ax = plt.subplots(1,1, figsize=(11,5))\n",
    "for arm in range(n_arms):\n",
    "    sum_of_costs = np.sum(costs_vector, axis=1)\n",
    "    expected_gain = BETA * mean_rewards[:, arm] - sum_of_costs\n",
    "    ax.plot(expected_gain, label=f\"Arm {arm+1}\", linestyle=':', linewidth=5)\n",
    "    print(f\"Min expected gain for arm {arm+1}: {min(expected_gain)}\")\n",
    "\n",
    "    \n",
    "extraticks = all_change_point_values\n",
    "plt.xticks(extraticks, rotation=35, fontsize=16)\n",
    "\n",
    "plt.yticks(fontsize=16)\n",
    "\n",
    "ax.set_xlabel('Time step', fontsize=20)\n",
    "ax.set_ylabel(fr\"($\\beta$={BETA}) * Mean reward - sum(costs)\", fontsize=20)\n",
    "\n",
    "lgd = ax.legend(loc=9, ncol=5, bbox_to_anchor=(0.5, 1.132), prop={'size': 15})\n",
    "plt.savefig('mean_rewards.pdf', dpi=300, bbox_extra_artists=(lgd,), bbox_inches='tight')\n",
    "\n",
    "\n",
    "plt.show()\n"
   ]
  },
  {
   "cell_type": "code",
   "execution_count": 50,
   "id": "a02733fd",
   "metadata": {},
   "outputs": [],
   "source": [
    "def plot_gains(gain_dict, change_points=()):\n",
    "    fig, ax = plt.subplots(1,1, figsize=(11, 6));\n",
    "        \n",
    "    max_vline=0\n",
    "    \n",
    "    ind_to_params = {\n",
    "        # ind: (mark, color)\n",
    "        0: ('x', 'k'),\n",
    "        1: ('o','g'),\n",
    "        2: ('s','r'),\n",
    "        3: ('^','blue'),\n",
    "        4: ('d','olive'),\n",
    "        5: ('>', 'm'),\n",
    "        6: ('*', 'c'),\n",
    "        7: ('<', 'y'),\n",
    "    }\n",
    "    \n",
    "    sorted_gain_dict = {\n",
    "        k:v for k,v in sorted(gain_dict.items(), key=lambda x: x[1][-1], reverse=True)\n",
    "    }\n",
    "    \n",
    "    for ind, (label, gain) in enumerate(sorted_gain_dict.items()):\n",
    "        \n",
    "        mark, color = ind_to_params[ind]\n",
    "        ax.plot(gain, label=label, linestyle=':', marker=mark, markevery=750, fillstyle='none', color=color)\n",
    "        max_vline=max(max_vline, max(gain))\n",
    "    \n",
    "    extraticks = all_change_point_values\n",
    "    plt.xticks(list(plt.xticks()[0][2:-1]) + extraticks, rotation=35, fontsize=16)\n",
    "    plt.yticks(fontsize=16)\n",
    "    \n",
    "    ax.set_xlabel('Time step', fontsize=20)\n",
    "    ax.set_ylabel('Cumulative gain', fontsize=20)\n",
    "    \n",
    "\n",
    "\n",
    "    plt.legend(prop={'size': 16});\n",
    "    plt.show();"
   ]
  },
  {
   "cell_type": "markdown",
   "id": "cd6b31a0",
   "metadata": {},
   "source": [
    "## Testing on non-stationary data"
   ]
  },
  {
   "cell_type": "code",
   "execution_count": 51,
   "id": "2fbfaf26",
   "metadata": {},
   "outputs": [],
   "source": [
    "NUM_OF_TRIALS = all_contexts.shape[0]\n",
    "NUM_REPETITIONS = 1"
   ]
  },
  {
   "cell_type": "code",
   "execution_count": 52,
   "id": "51f47053",
   "metadata": {},
   "outputs": [],
   "source": [
    "np.random.seed(42)"
   ]
  },
  {
   "cell_type": "code",
   "execution_count": 53,
   "id": "93422c03",
   "metadata": {
    "scrolled": true
   },
   "outputs": [
    {
     "name": "stdout",
     "output_type": "stream",
     "text": [
      "Random policy\n",
      "Beta = 1\n",
      "Total gain: 4250.0\n",
      "\tTotal reward: 4250.0\n",
      "\tTotal cost: 0\n",
      "Execution time: 0.1s\n",
      "Average gain: 4250.0\n"
     ]
    }
   ],
   "source": [
    "gains = np.zeros((NUM_REPETITIONS, NUM_OF_TRIALS))\n",
    "\n",
    "for i in range(NUM_REPETITIONS):\n",
    "    p_random = algorithms.RandomPolicy()\n",
    "    gain_random = evaluation.evaluate_on_synthetic_data(\n",
    "        p_random,\n",
    "        new_contexts,\n",
    "        new_rewards,\n",
    "        costs_vector,\n",
    "        beta=BETA,\n",
    "        stop_after=NUM_OF_TRIALS,\n",
    "    )\n",
    "    gains[i, :] = gain_random\n",
    "    \n",
    "gain_random = np.mean(gains, axis=0)\n",
    "print(f\"Average gain: {gain_random[-1]}\")"
   ]
  },
  {
   "cell_type": "code",
   "execution_count": 54,
   "id": "1b2522d9",
   "metadata": {
    "scrolled": true
   },
   "outputs": [
    {
     "name": "stdout",
     "output_type": "stream",
     "text": [
      "E-greedy(epsilon=0.01)\n",
      "Beta = 1\n",
      "Total gain: 4241.0\n",
      "\tTotal reward: 4241.0\n",
      "\tTotal cost: 0\n",
      "Execution time: 0.1s\n",
      "Average gain: 4241.0\n"
     ]
    }
   ],
   "source": [
    "gains = np.zeros((NUM_REPETITIONS, NUM_OF_TRIALS))\n",
    "for i in range(NUM_REPETITIONS):\n",
    "    egreedy = algorithms.EpsilonGreedy(epsilon=0.01, n_arms=new_rewards.shape[1])\n",
    "\n",
    "    gain_egreedy = evaluation.evaluate_on_synthetic_data(\n",
    "        egreedy,\n",
    "        new_contexts,\n",
    "        new_rewards,\n",
    "        costs_vector,\n",
    "        beta=BETA,\n",
    "        stop_after=NUM_OF_TRIALS,\n",
    "    )\n",
    "    gains[i, :] = gain_egreedy\n",
    "    \n",
    "gain_egreedy = np.mean(gains, axis=0)\n",
    "print(f\"Average gain: {gain_egreedy[-1]}\")"
   ]
  },
  {
   "cell_type": "code",
   "execution_count": 61,
   "id": "674f8082",
   "metadata": {
    "scrolled": true
   },
   "outputs": [
    {
     "name": "stdout",
     "output_type": "stream",
     "text": [
      "UCB1 (α=0.8)\n",
      "Beta = 1\n",
      "Total gain: 5528.0\n",
      "\tTotal reward: 5528.0\n",
      "\tTotal cost: 0\n",
      "Execution time: 0.1s\n",
      "Average gain: 5528.0\n"
     ]
    }
   ],
   "source": [
    "gains = np.zeros((NUM_REPETITIONS, NUM_OF_TRIALS))\n",
    "for i in range(NUM_REPETITIONS):\n",
    "\n",
    "    ucb_alg = algorithms.UCB1(\n",
    "            n_trials=NUM_OF_TRIALS,\n",
    "            n_arms=new_rewards.shape[1],\n",
    "            alpha=0.8,\n",
    "        )\n",
    "\n",
    "    gain_ucb = evaluation.evaluate_on_synthetic_data(\n",
    "        ucb_alg,\n",
    "        new_contexts,\n",
    "        new_rewards,\n",
    "        costs_vector,\n",
    "        beta=BETA,\n",
    "        stop_after=NUM_OF_TRIALS,\n",
    "    )\n",
    "    gains[i, :] = gain_ucb\n",
    "\n",
    "gain_ucb = np.mean(gains, axis=0)\n",
    "print(f\"Average gain: {gain_ucb[-1]}\")"
   ]
  },
  {
   "cell_type": "code",
   "execution_count": 56,
   "id": "1fcf6125",
   "metadata": {
    "scrolled": true
   },
   "outputs": [
    {
     "name": "stdout",
     "output_type": "stream",
     "text": [
      "LinUCB (alpha=0.7)\n",
      "Beta = 1\n",
      "Total gain: 1567.9619660591711\n",
      "\tTotal reward: 5446.0\n",
      "\tTotal cost: 3878.0380339408102\n",
      "Execution time: 0.5s\n",
      "Average gain: 1567.9619660591711\n"
     ]
    }
   ],
   "source": [
    "gains = np.zeros((NUM_REPETITIONS, NUM_OF_TRIALS))\n",
    "for i in range(NUM_REPETITIONS):\n",
    "\n",
    "    linucb = algorithms.LinUCB(\n",
    "        n_trials=NUM_OF_TRIALS,\n",
    "        context_dimension=new_contexts.shape[1],\n",
    "        n_arms=new_rewards.shape[1],\n",
    "        alpha=0.9,\n",
    "    )\n",
    "    gain_linucb = evaluation.evaluate_on_synthetic_data(\n",
    "        linucb,\n",
    "        new_contexts,\n",
    "        new_rewards,\n",
    "        costs_vector,\n",
    "        beta=BETA,\n",
    "        stop_after=NUM_OF_TRIALS,\n",
    "    )\n",
    "    gains[i, :] = gain_linucb\n",
    "\n",
    "gain_linucb = np.mean(gains, axis=0)\n",
    "print(f\"Average gain: {gain_linucb[-1]}\")"
   ]
  },
  {
   "cell_type": "code",
   "execution_count": 57,
   "id": "1c6ea25f",
   "metadata": {
    "scrolled": true
   },
   "outputs": [
    {
     "name": "stdout",
     "output_type": "stream",
     "text": [
      "PSLinUCB (alpha=0.5, omega=100, delta=0.1)\n",
      "Beta = 1\n",
      "Total gain: 5663.96196605917\n",
      "\tTotal reward: 9542.0\n",
      "\tTotal cost: 3878.0380339408102\n",
      "Execution time: 1.4s\n",
      "Average gain: 5663.96196605917\n"
     ]
    }
   ],
   "source": [
    "gains = np.zeros((NUM_REPETITIONS, NUM_OF_TRIALS))\n",
    "for i in range(NUM_REPETITIONS):\n",
    "\n",
    "    ps_linucb = algorithms.PSLinUCB(\n",
    "        n_trials=NUM_OF_TRIALS,\n",
    "        context_dimension=new_contexts.shape[1],\n",
    "        n_arms=new_rewards.shape[1],\n",
    "        alpha=0.5,\n",
    "        omega=100,\n",
    "        delta=0.1,\n",
    "    )\n",
    "\n",
    "\n",
    "    gain_pslinucb = evaluation.evaluate_on_synthetic_data(\n",
    "        ps_linucb,\n",
    "        new_contexts,\n",
    "        new_rewards,\n",
    "        costs_vector,\n",
    "        beta=BETA,\n",
    "        stop_after=NUM_OF_TRIALS,\n",
    "    )\n",
    "    change_points = ps_linucb.change_points\n",
    "    gains[i, :] = gain_pslinucb\n",
    "\n",
    "gain_pslinucb = np.mean(gains, axis=0)\n",
    "print(f\"Average gain: {gain_pslinucb[-1]}\")"
   ]
  },
  {
   "cell_type": "code",
   "execution_count": 62,
   "id": "dd2e010e",
   "metadata": {
    "scrolled": false
   },
   "outputs": [
    {
     "name": "stdout",
     "output_type": "stream",
     "text": [
      "Took 0.01645803451538086 seconds\n",
      "Trial 0, time 2022-05-11 09:24:01.990429\n",
      "Trial 500, time 2022-05-11 09:24:14.948889\n",
      "Trial 1000, time 2022-05-11 09:24:23.548681\n",
      "Trial 1500, time 2022-05-11 09:24:36.429242\n",
      "Trial 2000, time 2022-05-11 09:24:49.838145\n",
      "Trial 2500, time 2022-05-11 09:25:02.412930\n",
      "Trial 3000, time 2022-05-11 09:25:15.050992\n",
      "Trial 3500, time 2022-05-11 09:25:26.870408\n",
      "Trial 4000, time 2022-05-11 09:25:38.698359\n",
      "Trial 4500, time 2022-05-11 09:25:52.172928\n",
      "Trial 5000, time 2022-05-11 09:26:07.042971\n",
      "Trial 5500, time 2022-05-11 09:26:08.911762\n",
      "Trial 6000, time 2022-05-11 09:26:20.571050\n",
      "Trial 6500, time 2022-05-11 09:26:23.828942\n",
      "Trial 7000, time 2022-05-11 09:26:33.862524\n",
      "Trial 7500, time 2022-05-11 09:26:36.760276\n",
      "Trial 8000, time 2022-05-11 09:26:44.561328\n",
      "Trial 8500, time 2022-05-11 09:26:44.980919\n",
      "Trial 9000, time 2022-05-11 09:26:56.036821\n",
      "Trial 9500, time 2022-05-11 09:26:59.053450\n",
      "Trial 10000, time 2022-05-11 09:27:00.770776\n",
      "Trial 10500, time 2022-05-11 09:27:02.418174\n",
      "Trial 11000, time 2022-05-11 09:27:04.064169\n",
      "Trial 11500, time 2022-05-11 09:27:05.899951\n",
      "Trial 12000, time 2022-05-11 09:27:07.566605\n",
      "Trial 12500, time 2022-05-11 09:27:09.214323\n",
      "SimOOS (beta=1, delta=0.2)\n",
      "Beta = 1\n",
      "Total gain: 2264.1214983224754\n",
      "\tTotal reward: 4582.0\n",
      "\tTotal cost: 2317.878501677538\n",
      "Execution time: 3.1m\n",
      "Took 187.761638879776 seconds\n",
      "Average gain: 2264.1214983224754\n"
     ]
    }
   ],
   "source": [
    "gains = np.zeros((NUM_REPETITIONS, NUM_OF_TRIALS))\n",
    "for i in range(NUM_REPETITIONS):\n",
    "\n",
    "    s = time.time()\n",
    "    p_simoos = algorithms.SimOOSAlgorithm(\n",
    "        all_contexts=new_contexts, \n",
    "        number_of_actions=new_rewards.shape[1],\n",
    "        max_no_red_context=new_contexts.shape[1],\n",
    "        beta_SimOOS=BETA,\n",
    "        delta_SimOOS=0.2,\n",
    "    )\n",
    "    print(f\"Took {time.time() - s} seconds\")\n",
    "\n",
    "    import warnings\n",
    "    with warnings.catch_warnings():\n",
    "        warnings.simplefilter(\"ignore\")\n",
    "        s = time.time()\n",
    "        gain_simoos = evaluation.evaluate_on_synthetic_data(\n",
    "            p_simoos,\n",
    "            new_contexts[:NUM_OF_TRIALS],\n",
    "            new_rewards[:NUM_OF_TRIALS],\n",
    "            costs_vector[:NUM_OF_TRIALS],\n",
    "            beta=BETA,\n",
    "            stop_after=NUM_OF_TRIALS,\n",
    "        )\n",
    "        print(f\"Took {time.time() - s} seconds\")\n",
    "    gains[i, :] = gain_simoos\n",
    "\n",
    "gain_simoos = np.mean(gains, axis=0)\n",
    "print(f\"Average gain: {gain_simoos[-1]}\")"
   ]
  },
  {
   "cell_type": "code",
   "execution_count": 59,
   "id": "91e3d3b5",
   "metadata": {
    "scrolled": false
   },
   "outputs": [
    {
     "name": "stdout",
     "output_type": "stream",
     "text": [
      "Took 0.0024042129516601562 seconds\n",
      "Round 0, time 2022-05-10 19:41:18.196635\n",
      "Round 500, time 2022-05-10 19:44:46.747520\n",
      "Round 1000, time 2022-05-10 19:49:06.632813\n",
      "Round 1500, time 2022-05-10 19:53:13.888589\n",
      "Round 2000, time 2022-05-10 19:57:04.890505\n",
      "Round 2500, time 2022-05-10 20:00:53.395894\n",
      "Round 3000, time 2022-05-10 20:04:38.722213\n",
      "Round 3500, time 2022-05-10 20:08:20.756076\n",
      "Round 4000, time 2022-05-10 20:12:11.108576\n",
      "Round 4500, time 2022-05-10 20:15:59.638838\n",
      "Round 5000, time 2022-05-10 20:19:46.297516\n",
      "Round 5500, time 2022-05-10 20:23:35.232617\n",
      "Round 6000, time 2022-05-10 20:27:18.071831\n",
      "Round 6500, time 2022-05-10 20:31:02.391981\n",
      "Round 7000, time 2022-05-10 20:34:54.083284\n",
      "Round 7500, time 2022-05-10 20:38:43.838773\n",
      "Round 8000, time 2022-05-10 20:42:32.156411\n",
      "Round 8500, time 2022-05-10 20:46:14.151540\n",
      "Round 9000, time 2022-05-10 20:49:58.808817\n",
      "Round 9500, time 2022-05-10 20:53:31.645996\n",
      "Round 10000, time 2022-05-10 20:57:06.500030\n",
      "Round 10500, time 2022-05-10 21:00:40.842620\n",
      "Round 11000, time 2022-05-10 21:04:10.911336\n",
      "Round 11500, time 2022-05-10 21:07:40.551781\n",
      "Round 12000, time 2022-05-10 21:11:05.424064\n",
      "Round 12500, time 2022-05-10 21:14:22.779627\n",
      "Algorithm1 (beta=1, delta=0.3, w=250)\n",
      "Beta = 1\n",
      "Total gain: 5481.4174411992635\n",
      "\tTotal reward: 9318.0\n",
      "\tTotal cost: 3836.5825588007237\n",
      "Execution time: 93.9m\n",
      "Took 5635.828050851822 seconds\n",
      "Average gain: 5481.4174411992635\n"
     ]
    }
   ],
   "source": [
    "gains = np.zeros((NUM_REPETITIONS, NUM_OF_TRIALS))\n",
    "for i in range(NUM_REPETITIONS):\n",
    "\n",
    "    s = time.time()\n",
    "    p_alg1 = algorithms.Algorithm1(\n",
    "        all_contexts=new_contexts, \n",
    "        number_of_actions=new_rewards.shape[1],\n",
    "        max_no_red_context=new_contexts.shape[1],\n",
    "        beta=BETA,\n",
    "        delta=0.3,\n",
    "        window_length=250,\n",
    "    )\n",
    "    print(f\"Took {time.time() - s} seconds\")\n",
    "\n",
    "    import warnings\n",
    "    with warnings.catch_warnings():\n",
    "        warnings.simplefilter(\"ignore\")\n",
    "        s = time.time()\n",
    "        gain_alg1 = evaluation.evaluate_on_synthetic_data(\n",
    "            p_alg1,\n",
    "            new_contexts[:NUM_OF_TRIALS],\n",
    "            new_rewards[:NUM_OF_TRIALS],\n",
    "            costs_vector[:NUM_OF_TRIALS],\n",
    "            beta=BETA,\n",
    "            stop_after=NUM_OF_TRIALS,\n",
    "        )\n",
    "        print(f\"Took {time.time() - s} seconds\")\n",
    "        gains[i, :] = gain_alg1\n",
    "\n",
    "gain_alg1 = np.mean(gains, axis=0)\n",
    "print(f\"Average gain: {gain_alg1[-1]}\")"
   ]
  },
  {
   "cell_type": "code",
   "execution_count": null,
   "id": "e0bd464d",
   "metadata": {},
   "outputs": [],
   "source": []
  },
  {
   "cell_type": "code",
   "execution_count": null,
   "id": "1d99a524",
   "metadata": {},
   "outputs": [],
   "source": []
  },
  {
   "cell_type": "code",
   "execution_count": null,
   "id": "0f233994",
   "metadata": {},
   "outputs": [],
   "source": []
  },
  {
   "cell_type": "code",
   "execution_count": null,
   "id": "f727d741",
   "metadata": {},
   "outputs": [],
   "source": []
  },
  {
   "cell_type": "code",
   "execution_count": null,
   "id": "db16ed1f",
   "metadata": {},
   "outputs": [],
   "source": []
  },
  {
   "cell_type": "code",
   "execution_count": null,
   "id": "20acc4d3",
   "metadata": {},
   "outputs": [],
   "source": []
  },
  {
   "cell_type": "code",
   "execution_count": 64,
   "id": "8aa3b530",
   "metadata": {},
   "outputs": [
    {
     "data": {
      "image/png": "[encoded data removed]",
      "text/plain": [
       "<Figure size 792x432 with 1 Axes>"
      ]
     },
     "metadata": {
      "needs_background": "light"
     },
     "output_type": "display_data"
    }
   ],
   "source": [
    "plot_gains({\n",
    "    'Random': gain_random,\n",
    "    'E-greedy': gain_egreedy,\n",
    "    'UCB1': gain_ucb,\n",
    "    'LinUCB': gain_linucb,\n",
    "    'PS-LinUCB': gain_pslinucb,\n",
    "    'SimOOS': gain_simoos,\n",
    "    'Algorithm1': gain_alg1,\n",
    "},\n",
    ")\n"
   ]
  },
  {
   "cell_type": "code",
   "execution_count": null,
   "id": "3103b933",
   "metadata": {},
   "outputs": [],
   "source": []
  }
 ],
 "metadata": {
  "kernelspec": {
   "display_name": "Python 3 (ipykernel)",
   "language": "python",
   "name": "python3"
  },
  "language_info": {
   "codemirror_mode": {
    "name": "ipython",
    "version": 3
   },
   "file_extension": ".py",
   "mimetype": "text/x-python",
   "name": "python",
   "nbconvert_exporter": "python",
   "pygments_lexer": "ipython3",
   "version": "3.10.2"
  }
 },
 "nbformat": 4,
 "nbformat_minor": 5
}
