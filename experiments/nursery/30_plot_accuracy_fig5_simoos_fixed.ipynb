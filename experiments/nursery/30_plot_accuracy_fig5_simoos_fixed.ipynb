{
 "cells": [
  {
   "cell_type": "markdown",
   "id": "bd264323",
   "metadata": {},
   "source": [
    "# Add new analyses to the evaluation\n",
    "\n",
    "Plot accuracy depending on chosen costs."
   ]
  },
  {
   "cell_type": "code",
   "execution_count": 1,
   "id": "ba49eee3",
   "metadata": {},
   "outputs": [
    {
     "data": {
      "text/plain": [
       "'/Users/sbokupripeku/git/work/examples/costly_nonstationary_bandits'"
      ]
     },
     "execution_count": 1,
     "metadata": {},
     "output_type": "execute_result"
    }
   ],
   "source": [
    "import os\n",
    "os.chdir(\"../..\")\n",
    "os.getcwd()"
   ]
  },
  {
   "cell_type": "code",
   "execution_count": 2,
   "id": "0b748cbc",
   "metadata": {},
   "outputs": [],
   "source": [
    "%load_ext autoreload\n",
    "%autoreload 2\n",
    "\n",
    "import matplotlib.pyplot as plt\n",
    "import numpy as np\n",
    "import pandas as pd\n",
    "import time\n",
    "import pickle\n",
    "\n",
    "import algorithms\n",
    "import evaluation\n",
    "import costs\n",
    "from plotting.costs import plot_costs"
   ]
  },
  {
   "cell_type": "code",
   "execution_count": 3,
   "id": "e225d680",
   "metadata": {},
   "outputs": [],
   "source": [
    "np.random.seed(42)"
   ]
  },
  {
   "cell_type": "markdown",
   "id": "438edb6a",
   "metadata": {},
   "source": [
    "# Load the evaluation data saved in experiment 20"
   ]
  },
  {
   "cell_type": "code",
   "execution_count": 4,
   "id": "a4232bd4",
   "metadata": {},
   "outputs": [],
   "source": [
    "with open('dataset/nursery/nursery_evaluation.pickle', 'rb') as f:\n",
    "    data = pickle.load(f)\n",
    "    \n",
    "all_contexts, all_rewards = data"
   ]
  },
  {
   "cell_type": "code",
   "execution_count": 5,
   "id": "4dfd5385",
   "metadata": {},
   "outputs": [
    {
     "data": {
      "text/html": [
       "<div>\n",
       "<style scoped>\n",
       "    .dataframe tbody tr th:only-of-type {\n",
       "        vertical-align: middle;\n",
       "    }\n",
       "\n",
       "    .dataframe tbody tr th {\n",
       "        vertical-align: top;\n",
       "    }\n",
       "\n",
       "    .dataframe thead th {\n",
       "        text-align: right;\n",
       "    }\n",
       "</style>\n",
       "<table border=\"1\" class=\"dataframe\">\n",
       "  <thead>\n",
       "    <tr style=\"text-align: right;\">\n",
       "      <th></th>\n",
       "      <th>form</th>\n",
       "      <th>children</th>\n",
       "      <th>housing</th>\n",
       "      <th>finance</th>\n",
       "      <th>health</th>\n",
       "    </tr>\n",
       "  </thead>\n",
       "  <tbody>\n",
       "    <tr>\n",
       "      <th>2</th>\n",
       "      <td>1</td>\n",
       "      <td>1</td>\n",
       "      <td>1</td>\n",
       "      <td>1</td>\n",
       "      <td>1</td>\n",
       "    </tr>\n",
       "    <tr>\n",
       "      <th>4</th>\n",
       "      <td>1</td>\n",
       "      <td>1</td>\n",
       "      <td>1</td>\n",
       "      <td>1</td>\n",
       "      <td>3</td>\n",
       "    </tr>\n",
       "    <tr>\n",
       "      <th>6</th>\n",
       "      <td>1</td>\n",
       "      <td>1</td>\n",
       "      <td>1</td>\n",
       "      <td>1</td>\n",
       "      <td>2</td>\n",
       "    </tr>\n",
       "    <tr>\n",
       "      <th>7</th>\n",
       "      <td>1</td>\n",
       "      <td>1</td>\n",
       "      <td>1</td>\n",
       "      <td>1</td>\n",
       "      <td>3</td>\n",
       "    </tr>\n",
       "    <tr>\n",
       "      <th>8</th>\n",
       "      <td>1</td>\n",
       "      <td>1</td>\n",
       "      <td>1</td>\n",
       "      <td>1</td>\n",
       "      <td>1</td>\n",
       "    </tr>\n",
       "    <tr>\n",
       "      <th>...</th>\n",
       "      <td>...</td>\n",
       "      <td>...</td>\n",
       "      <td>...</td>\n",
       "      <td>...</td>\n",
       "      <td>...</td>\n",
       "    </tr>\n",
       "    <tr>\n",
       "      <th>12952</th>\n",
       "      <td>4</td>\n",
       "      <td>4</td>\n",
       "      <td>3</td>\n",
       "      <td>2</td>\n",
       "      <td>3</td>\n",
       "    </tr>\n",
       "    <tr>\n",
       "      <th>12953</th>\n",
       "      <td>4</td>\n",
       "      <td>4</td>\n",
       "      <td>3</td>\n",
       "      <td>2</td>\n",
       "      <td>1</td>\n",
       "    </tr>\n",
       "    <tr>\n",
       "      <th>12955</th>\n",
       "      <td>4</td>\n",
       "      <td>4</td>\n",
       "      <td>3</td>\n",
       "      <td>2</td>\n",
       "      <td>3</td>\n",
       "    </tr>\n",
       "    <tr>\n",
       "      <th>12956</th>\n",
       "      <td>4</td>\n",
       "      <td>4</td>\n",
       "      <td>3</td>\n",
       "      <td>2</td>\n",
       "      <td>1</td>\n",
       "    </tr>\n",
       "    <tr>\n",
       "      <th>12957</th>\n",
       "      <td>4</td>\n",
       "      <td>4</td>\n",
       "      <td>3</td>\n",
       "      <td>2</td>\n",
       "      <td>2</td>\n",
       "    </tr>\n",
       "  </tbody>\n",
       "</table>\n",
       "<p>10000 rows × 5 columns</p>\n",
       "</div>"
      ],
      "text/plain": [
       "       form  children  housing  finance  health\n",
       "2         1         1        1        1       1\n",
       "4         1         1        1        1       3\n",
       "6         1         1        1        1       2\n",
       "7         1         1        1        1       3\n",
       "8         1         1        1        1       1\n",
       "...     ...       ...      ...      ...     ...\n",
       "12952     4         4        3        2       3\n",
       "12953     4         4        3        2       1\n",
       "12955     4         4        3        2       3\n",
       "12956     4         4        3        2       1\n",
       "12957     4         4        3        2       2\n",
       "\n",
       "[10000 rows x 5 columns]"
      ]
     },
     "execution_count": 5,
     "metadata": {},
     "output_type": "execute_result"
    }
   ],
   "source": [
    "all_contexts"
   ]
  },
  {
   "cell_type": "markdown",
   "id": "dc709c48",
   "metadata": {},
   "source": [
    "## DROP for debug"
   ]
  },
  {
   "cell_type": "code",
   "execution_count": 6,
   "id": "86392731",
   "metadata": {},
   "outputs": [],
   "source": [
    "# all_contexts = all_contexts.drop(columns=['form', 'children'])"
   ]
  },
  {
   "cell_type": "code",
   "execution_count": null,
   "id": "0e49d9a8",
   "metadata": {},
   "outputs": [],
   "source": []
  },
  {
   "cell_type": "code",
   "execution_count": 7,
   "id": "5b8c791b",
   "metadata": {},
   "outputs": [
    {
     "data": {
      "text/plain": [
       "array([[1., 0., 0.],\n",
       "       [0., 1., 0.],\n",
       "       [0., 1., 0.],\n",
       "       ...,\n",
       "       [0., 0., 1.],\n",
       "       [1., 0., 0.],\n",
       "       [0., 0., 1.]])"
      ]
     },
     "execution_count": 7,
     "metadata": {},
     "output_type": "execute_result"
    }
   ],
   "source": [
    "all_rewards"
   ]
  },
  {
   "cell_type": "markdown",
   "id": "00406095",
   "metadata": {},
   "source": [
    "## Set BETA parameter for the experiment"
   ]
  },
  {
   "cell_type": "code",
   "execution_count": 8,
   "id": "7c2b0501",
   "metadata": {},
   "outputs": [],
   "source": [
    "BETA = 1"
   ]
  },
  {
   "cell_type": "markdown",
   "id": "a1f22f9e",
   "metadata": {},
   "source": [
    "# Adding non-stationarity\n"
   ]
  },
  {
   "cell_type": "markdown",
   "id": "29fe230c",
   "metadata": {},
   "source": [
    "### Non-stationarity in rewards"
   ]
  },
  {
   "cell_type": "code",
   "execution_count": 9,
   "id": "6b8cab7b",
   "metadata": {},
   "outputs": [
    {
     "data": {
      "text/plain": [
       "10000"
      ]
     },
     "execution_count": 9,
     "metadata": {},
     "output_type": "execute_result"
    }
   ],
   "source": [
    "all_rewards.shape[0]"
   ]
  },
  {
   "cell_type": "code",
   "execution_count": 10,
   "id": "0aaea10e",
   "metadata": {},
   "outputs": [],
   "source": [
    "stationarity_regions = [\n",
    "    slice(0, 500),\n",
    "    slice(500, 1000),\n",
    "    slice(1000, 2000),\n",
    "    slice(2000, 3500),\n",
    "    slice(3500, 5000),\n",
    "    slice(5000, 6500),\n",
    "    slice(6500, 8000),\n",
    "    slice(8000, all_contexts.shape[0]),\n",
    "]"
   ]
  },
  {
   "cell_type": "code",
   "execution_count": 11,
   "id": "99234270",
   "metadata": {},
   "outputs": [],
   "source": [
    "change_point_values = [x.start for x in stationarity_regions] + [stationarity_regions[-1].stop]\n",
    "change_point_values[0] += 1"
   ]
  },
  {
   "cell_type": "code",
   "execution_count": 12,
   "id": "07baf156",
   "metadata": {},
   "outputs": [
    {
     "data": {
      "text/plain": [
       "[1, 500, 1000, 2000, 3500, 5000, 6500, 8000, 10000]"
      ]
     },
     "execution_count": 12,
     "metadata": {},
     "output_type": "execute_result"
    }
   ],
   "source": [
    "change_point_values"
   ]
  },
  {
   "cell_type": "code",
   "execution_count": 13,
   "id": "95230d1f",
   "metadata": {},
   "outputs": [
    {
     "data": {
      "text/plain": [
       "array([0.3396, 0.3366, 0.3238])"
      ]
     },
     "execution_count": 13,
     "metadata": {},
     "output_type": "execute_result"
    }
   ],
   "source": [
    "# We invert arm 0 with 2 and 1 with 3 (\n",
    "np.mean(all_rewards, axis=0)"
   ]
  },
  {
   "cell_type": "code",
   "execution_count": 14,
   "id": "2ad6b353",
   "metadata": {},
   "outputs": [],
   "source": [
    "new_rewards = np.copy(all_rewards)\n",
    "new_contexts = np.copy(all_contexts)\n",
    "\n",
    "mean_rewards = np.zeros(new_rewards.shape)\n",
    "\n",
    "n_arms = all_rewards.shape[1]\n",
    "\n",
    "for i, region in enumerate(stationarity_regions):\n",
    "    for arm_from in range(n_arms):\n",
    "        # Cyclic shift of class labels\n",
    "        arm_to = (arm_from + i) % n_arms\n",
    "        if i > 0:\n",
    "            new_rewards[region, arm_to] = all_rewards[region, arm_from]\n",
    "        \n",
    "        # For plotting\n",
    "        mean_rewards[region, arm_to] = (\n",
    "            np.ones(new_rewards[region, arm_to].shape) * np.mean(new_rewards[region, arm_to])\n",
    "        )"
   ]
  },
  {
   "cell_type": "code",
   "execution_count": 15,
   "id": "1fcad487",
   "metadata": {},
   "outputs": [
    {
     "data": {
      "text/plain": [
       "((10000, 5), (10000, 3))"
      ]
     },
     "execution_count": 15,
     "metadata": {},
     "output_type": "execute_result"
    }
   ],
   "source": [
    "new_contexts.shape, new_rewards.shape"
   ]
  },
  {
   "cell_type": "markdown",
   "id": "f697974f",
   "metadata": {},
   "source": [
    "## Plot expected reward"
   ]
  },
  {
   "cell_type": "code",
   "execution_count": 16,
   "id": "6f590277",
   "metadata": {},
   "outputs": [
    {
     "name": "stdout",
     "output_type": "stream",
     "text": [
      "Min expected reward for arm 1: 0.0\n",
      "Min expected reward for arm 2: 0.022\n",
      "Min expected reward for arm 3: 0.0\n"
     ]
    },
    {
     "data": {
      "image/png": "[encoded data removed]",
      "text/plain": [
       "<Figure size 792x360 with 1 Axes>"
      ]
     },
     "metadata": {
      "needs_background": "light"
     },
     "output_type": "display_data"
    }
   ],
   "source": [
    "fig, ax = plt.subplots(1,1, figsize=(11,5))\n",
    "for arm in range(n_arms):\n",
    "    expected_gain = BETA * mean_rewards[:, arm] \n",
    "    ax.plot(expected_gain, label=f\"Arm {arm+1}\", linestyle=':', linewidth=5)\n",
    "    print(f\"Min expected reward for arm {arm+1}: {min(expected_gain)}\")\n",
    "\n",
    "    \n",
    "extraticks = change_point_values\n",
    "plt.xticks(extraticks, rotation=35, fontsize=16)\n",
    "\n",
    "plt.yticks(fontsize=16)\n",
    "\n",
    "ax.set_xlabel('Time step', fontsize=20)\n",
    "ax.set_ylabel(fr\"($\\beta$={BETA}) * Mean reward\", fontsize=20)\n",
    "\n",
    "lgd = ax.legend(loc=9, ncol=5, bbox_to_anchor=(0.5, 1.132), prop={'size': 15})\n",
    "\n",
    "\n",
    "plt.show()\n"
   ]
  },
  {
   "cell_type": "code",
   "execution_count": 17,
   "id": "51f47053",
   "metadata": {},
   "outputs": [],
   "source": [
    "np.random.seed(42)"
   ]
  },
  {
   "cell_type": "markdown",
   "id": "d967d7ff",
   "metadata": {},
   "source": [
    "# Compute accuracy plot for Alg1\n",
    "\n",
    "Chose several cost intervals. For each range of costs compute the accuracy plot (accuracy for l = number of observed features)."
   ]
  },
  {
   "cell_type": "code",
   "execution_count": 18,
   "id": "31a9b7ff",
   "metadata": {},
   "outputs": [],
   "source": [
    "cost_intervals = [\n",
    "    [0.01, 0.05],\n",
    "#     [0.02, 0.06],\n",
    "#     [0.03, 0.07],\n",
    "#     [0.04, 0.08],\n",
    "]"
   ]
  },
  {
   "cell_type": "markdown",
   "id": "a1348c90",
   "metadata": {},
   "source": [
    "### Generate costs for each cost interval"
   ]
  },
  {
   "cell_type": "code",
   "execution_count": 19,
   "id": "1af1d8e1",
   "metadata": {},
   "outputs": [],
   "source": [
    "cost_change_points = [3000, 5000, 7000, 9000]\n",
    "interval_count = len(cost_change_points) + 1\n",
    "\n",
    "all_costs_vectors = []\n",
    "for cost_means_range in cost_intervals:\n",
    "\n",
    "\n",
    "    # Mean of gaussian distribution random in interval [0, 0.02] \n",
    "    interval_means = [\n",
    "        np.random.uniform(\n",
    "            cost_means_range[0], cost_means_range[1], size=(new_contexts.shape[1],)\n",
    "        ) for i in range(interval_count)\n",
    "    ]\n",
    "\n",
    "    # Fixed std\n",
    "    interval_stds = [[0.001]*new_contexts.shape[1]]*interval_count\n",
    "\n",
    "\n",
    "    costs_obj = costs.NonstationaryGaussianCosts(\n",
    "            feature_vector_size=new_contexts.shape[1],\n",
    "            change_points=cost_change_points,\n",
    "            interval_means=interval_means,\n",
    "            interval_stds=interval_stds,\n",
    "            random_seed=42,\n",
    "        )\n",
    "\n",
    "    costs_vector = []\n",
    "    for t in range(new_contexts.shape[0]):\n",
    "        costs_at_t = np.array(costs_obj.get_separate_costs(trial=t))\n",
    "        costs_vector.append(costs_at_t)\n",
    "\n",
    "    costs_vector = np.stack(costs_vector)\n",
    "    all_costs_vectors.append(costs_vector)"
   ]
  },
  {
   "cell_type": "markdown",
   "id": "c22e487a",
   "metadata": {},
   "source": [
    "## Run evaluation for different costs_vectors"
   ]
  },
  {
   "cell_type": "code",
   "execution_count": 20,
   "id": "acf5d413",
   "metadata": {},
   "outputs": [],
   "source": [
    "def get_accuracy(alg1_object):\n",
    "    N_FEATURES = alg1_object.max_no_red_context\n",
    "    l_counts = np.zeros(N_FEATURES+1)\n",
    "    l_rewards = np.zeros(N_FEATURES+1)\n",
    "    \n",
    "    for observation, reward in zip(alg1_object.selected_context_SimOOS, alg1_object.collected_rewards_SimOOS):\n",
    "        num_observed = np.count_nonzero(observation)\n",
    "        for k in range(num_observed+1):\n",
    "            l_counts[k] += 1\n",
    "            l_rewards[k] += reward  \n",
    "            \n",
    "    return l_rewards / l_counts"
   ]
  },
  {
   "cell_type": "code",
   "execution_count": 21,
   "id": "2dc7f0bf",
   "metadata": {},
   "outputs": [],
   "source": [
    "NUM_OF_TRIALS = all_contexts.shape[0]\n",
    "NUM_REPETITIONS = 1"
   ]
  },
  {
   "cell_type": "code",
   "execution_count": 22,
   "id": "bf208d1e",
   "metadata": {},
   "outputs": [
    {
     "name": "stdout",
     "output_type": "stream",
     "text": [
      "Round 0, time 2022-05-30 17:15:28.013345\n",
      "Round 500, time 2022-05-30 17:16:39.221434\n",
      "Round 1000, time 2022-05-30 17:17:47.748598\n",
      "Round 1500, time 2022-05-30 17:18:59.330094\n",
      "Round 2000, time 2022-05-30 17:20:09.932924\n",
      "Round 2500, time 2022-05-30 17:21:17.062979\n",
      "Round 3000, time 2022-05-30 17:22:24.144940\n",
      "Round 3500, time 2022-05-30 17:23:30.979853\n",
      "Round 4000, time 2022-05-30 17:24:41.889992\n",
      "Round 4500, time 2022-05-30 17:25:48.738062\n",
      "Round 5000, time 2022-05-30 17:26:55.701123\n",
      "Round 5500, time 2022-05-30 17:28:02.738776\n",
      "Round 6000, time 2022-05-30 17:29:09.614086\n",
      "Round 6500, time 2022-05-30 17:30:16.344073\n",
      "Round 7000, time 2022-05-30 17:31:23.504109\n",
      "Round 7500, time 2022-05-30 17:32:30.253015\n",
      "Round 8000, time 2022-05-30 17:33:37.133593\n",
      "Round 8500, time 2022-05-30 17:34:43.744763\n",
      "Round 9000, time 2022-05-30 17:35:51.110506\n",
      "Round 9500, time 2022-05-30 17:36:58.047402\n",
      "Algorithm1 (beta=1, delta=0.04, w=250)\n",
      "Beta = 1\n",
      "Total gain: 5834.659653308171\n",
      "\tTotal reward: 6919.0\n",
      "\tTotal cost: 1084.3403466918294\n",
      "Execution time: 22.6m\n",
      "Took 1356.8023569583893 seconds\n",
      "Average accuracy: [0.6919     0.6919692  0.68986384 0.69026459 0.69096239 0.33333333]\n"
     ]
    }
   ],
   "source": [
    "accuracies_alg1 = {}\n",
    "\n",
    "for i, cost_interval in enumerate(cost_intervals):\n",
    "    interval_costs_vector = all_costs_vectors[i]\n",
    "    COSTS_RANGE_SIZE = cost_interval[1] - cost_interval[0]\n",
    "    \n",
    "    # Run evaluation (possibly with repetition)\n",
    "    accuracies_to_average = np.zeros((NUM_REPETITIONS, new_contexts.shape[1]+1))\n",
    "    for rep in range(NUM_REPETITIONS):\n",
    "        p_alg1 = algorithms.Algorithm1(\n",
    "            all_contexts=new_contexts, \n",
    "            number_of_actions=new_rewards.shape[1],\n",
    "            max_no_red_context=new_contexts.shape[1],\n",
    "            beta=BETA,\n",
    "            delta=0.04,\n",
    "            window_length=250,\n",
    "            costs_range=COSTS_RANGE_SIZE,\n",
    "\n",
    "        )\n",
    "\n",
    "        import warnings\n",
    "        with warnings.catch_warnings():\n",
    "            warnings.simplefilter(\"ignore\")\n",
    "            s = time.time()\n",
    "            gain_alg1 = evaluation.evaluate_on_synthetic_data(\n",
    "                p_alg1,\n",
    "                new_contexts[:NUM_OF_TRIALS],\n",
    "                new_rewards[:NUM_OF_TRIALS],\n",
    "                costs_vector[:NUM_OF_TRIALS],\n",
    "                beta=BETA,\n",
    "                stop_after=NUM_OF_TRIALS,\n",
    "            )\n",
    "            print(f\"Took {time.time() - s} seconds\")\n",
    "        \n",
    "        accuracy = get_accuracy(p_alg1)  \n",
    "        accuracies_to_average[rep, :] = accuracy\n",
    "\n",
    "    mean_accuracy = np.mean(accuracies_to_average, axis=0)\n",
    "    print(f\"Average accuracy: {mean_accuracy}\")\n",
    "       \n",
    "    accuracies_alg1[tuple(cost_interval)] = mean_accuracy"
   ]
  },
  {
   "cell_type": "code",
   "execution_count": 23,
   "id": "b21bdbf8",
   "metadata": {},
   "outputs": [
    {
     "name": "stderr",
     "output_type": "stream",
     "text": [
      "/Users/sbokupripeku/git/work/examples/costly_nonstationary_bandits/algorithms/oracle_alg1.py:78: RuntimeWarning: invalid value encountered in double_scalars\n",
      "  true_average_reward[per_num, i, j, k] = sum_of_rewards[per_num, i, j, k] / number_of_visits_for_average_reward[per_num, i, j, k]\n"
     ]
    },
    {
     "name": "stdout",
     "output_type": "stream",
     "text": [
      "Trial 0, time 2022-05-30 17:38:05.670346\n",
      "Trial 500, time 2022-05-30 17:38:05.675923\n",
      "Trial 1000, time 2022-05-30 17:38:05.681621\n",
      "Trial 1500, time 2022-05-30 17:38:05.687605\n",
      "Trial 2000, time 2022-05-30 17:38:05.693504\n",
      "Trial 2500, time 2022-05-30 17:38:05.699763\n",
      "Trial 3000, time 2022-05-30 17:38:05.706005\n",
      "Trial 3500, time 2022-05-30 17:38:05.711666\n",
      "Trial 4000, time 2022-05-30 17:38:05.718151\n",
      "Trial 4500, time 2022-05-30 17:38:05.724649\n",
      "Trial 5000, time 2022-05-30 17:38:05.731105\n",
      "Trial 5500, time 2022-05-30 17:38:05.736715\n",
      "Trial 6000, time 2022-05-30 17:38:05.742419\n",
      "Trial 6500, time 2022-05-30 17:38:05.747962\n",
      "Trial 7000, time 2022-05-30 17:38:05.753796\n",
      "Trial 7500, time 2022-05-30 17:38:05.760593\n",
      "Trial 8000, time 2022-05-30 17:38:05.767121\n",
      "Trial 8500, time 2022-05-30 17:38:05.773800\n",
      "Trial 9000, time 2022-05-30 17:38:05.780422\n",
      "Trial 9500, time 2022-05-30 17:38:05.787127\n",
      "Algorithm1-Oracle (beta=1)\n",
      "Beta = 1\n",
      "Total gain: 7567.296897971211\n",
      "\tTotal reward: 8583.0\n",
      "\tTotal cost: 1015.7031020287809\n",
      "Execution time: 0.1s\n",
      "Took 0.12371611595153809 seconds\n",
      "Average accuracy: [0.8583     0.8583     0.85317647 0.93352824 0.93352824 0.92525914]\n"
     ]
    }
   ],
   "source": [
    "all_change_point_values = sorted(list(set(cost_change_points).union(set(change_point_values)) ))\n",
    "all_stationarity_regions = [(l, r) for l,r in zip(all_change_point_values, all_change_point_values[1:])]\n",
    "N_STATIONARY_PERIODS = len(all_stationarity_regions)\n",
    "\n",
    "cost_means = np.zeros((N_STATIONARY_PERIODS, costs_vector.shape[1]))\n",
    "for reg_num, region in enumerate(all_stationarity_regions):\n",
    "    region_costs = costs_vector[slice(*region)]\n",
    "    cost_means[reg_num, :] = region_costs.mean(axis=0)\n",
    "\n",
    "\n",
    "accuracies_oracle = {}\n",
    "\n",
    "for i, cost_interval in enumerate(cost_intervals):\n",
    "    interval_costs_vector = all_costs_vectors[i]\n",
    "    COSTS_RANGE_SIZE = cost_interval[1] - cost_interval[0]\n",
    "    \n",
    "    # Run evaluation (possibly with repetition)\n",
    "    accuracies_to_average = np.zeros((NUM_REPETITIONS, new_contexts.shape[1]+1))\n",
    "    for rep in range(NUM_REPETITIONS):\n",
    "        p_alg1 = algorithms.Algorithm1_Oracle(\n",
    "            all_contexts=new_contexts,\n",
    "            all_rewards=new_rewards,\n",
    "            cost_means=cost_means,\n",
    "            stationarity_periods=all_stationarity_regions,\n",
    "            number_of_actions=new_rewards.shape[1],\n",
    "            max_no_red_context=new_contexts.shape[1],\n",
    "            beta_SimOOS=BETA,\n",
    "        )\n",
    "\n",
    "        import warnings\n",
    "        with warnings.catch_warnings():\n",
    "            warnings.simplefilter(\"ignore\")\n",
    "            s = time.time()\n",
    "            gain_alg1 = evaluation.evaluate_on_synthetic_data(\n",
    "                p_alg1,\n",
    "                new_contexts[:NUM_OF_TRIALS],\n",
    "                new_rewards[:NUM_OF_TRIALS],\n",
    "                costs_vector[:NUM_OF_TRIALS],\n",
    "                beta=BETA,\n",
    "                stop_after=NUM_OF_TRIALS,\n",
    "            )\n",
    "            print(f\"Took {time.time() - s} seconds\")\n",
    "        \n",
    "        accuracy = get_accuracy(p_alg1)  \n",
    "        accuracies_to_average[rep, :] = accuracy\n",
    "\n",
    "    mean_accuracy = np.mean(accuracies_to_average, axis=0)\n",
    "    print(f\"Average accuracy: {mean_accuracy}\")\n",
    "       \n",
    "    accuracies_oracle[tuple(cost_interval)] = mean_accuracy"
   ]
  },
  {
   "cell_type": "code",
   "execution_count": 24,
   "id": "3858858e",
   "metadata": {},
   "outputs": [],
   "source": [
    "accuracies = {\n",
    "    'Algorithm1': accuracies_alg1,\n",
    "    'Oracle': accuracies_oracle,\n",
    "}"
   ]
  },
  {
   "cell_type": "markdown",
   "id": "70c84358",
   "metadata": {},
   "source": [
    "## Save accuracies"
   ]
  },
  {
   "cell_type": "code",
   "execution_count": 25,
   "id": "1ed46509",
   "metadata": {},
   "outputs": [],
   "source": [
    "with open('experiments/nursery/results/accuracies.pickle', 'wb') as f:\n",
    "    pickle.dump(accuracies, f)"
   ]
  },
  {
   "cell_type": "markdown",
   "id": "b96a1c6a",
   "metadata": {},
   "source": [
    "## Load accuracies"
   ]
  },
  {
   "cell_type": "code",
   "execution_count": 26,
   "id": "82477fea",
   "metadata": {},
   "outputs": [],
   "source": [
    "with open('experiments/nursery/results/accuracies.pickle', 'rb') as f:\n",
    "    accuracies = pickle.load(f)"
   ]
  },
  {
   "cell_type": "code",
   "execution_count": null,
   "id": "465e1c64",
   "metadata": {},
   "outputs": [],
   "source": []
  },
  {
   "cell_type": "code",
   "execution_count": 27,
   "id": "8f46c8ea",
   "metadata": {},
   "outputs": [],
   "source": [
    "accuracies = {\n",
    "    'Algorithm1': next(iter(accuracies_alg1.values())),\n",
    "    'Oracle': next(iter(accuracies_oracle)),\n",
    "}"
   ]
  },
  {
   "cell_type": "code",
   "execution_count": null,
   "id": "b4d5032d",
   "metadata": {},
   "outputs": [],
   "source": []
  },
  {
   "cell_type": "code",
   "execution_count": 28,
   "id": "c19909b7",
   "metadata": {},
   "outputs": [
    {
     "data": {
      "image/png": "[encoded data removed]",
      "text/plain": [
       "<Figure size 720x360 with 1 Axes>"
      ]
     },
     "metadata": {
      "needs_background": "light"
     },
     "output_type": "display_data"
    }
   ],
   "source": [
    "from matplotlib.ticker import MaxNLocator\n",
    "\n",
    "fig, ax = plt.subplots(1, figsize=(10, 5))\n",
    "ind_to_params = {\n",
    "        # ind: (mark, color)\n",
    "        0: ('s', 'darkblue'), 1: ('d','red'), 2: ('o','deepskyblue'), 3: ('>','orange'),\n",
    "        4: ('^', 'm'), 5: ('<', 'k'), 6: ('x','green'),\n",
    "    }\n",
    "\n",
    "for ind, (cost_interval, accuracy_for_cost) in enumerate(accuracies.items()):\n",
    "    mark, color = ind_to_params[ind]\n",
    "    ax.plot(\n",
    "        range(len(accuracy_for_cost)),\n",
    "        accuracy_for_cost,\n",
    "        label=fr\"c $\\in$ {list(cost_interval)}\",\n",
    "        marker=mark, markersize=8, fillstyle='none',\n",
    "        c=color, linestyle=':', linewidth=3,\n",
    "    )\n",
    "    \n",
    "ax.set_xlabel('Number of observations', fontsize=20)\n",
    "ax.set_ylabel('Accuracy', fontsize=20)\n",
    "plt.xticks(fontsize=16)\n",
    "plt.yticks(fontsize=16)\n",
    "ax.xaxis.set_major_locator(MaxNLocator(integer=True)) # Only integer labels\n",
    "\n",
    "plt.legend(prop={'size': 16});\n",
    "plt.show()"
   ]
  },
  {
   "cell_type": "markdown",
   "id": "41718ff3",
   "metadata": {},
   "source": [
    "- Plot without up to l\n",
    "- plot oracle\n",
    "- plot simoos\n",
    "- think about it\n"
   ]
  }
 ],
 "metadata": {
  "kernelspec": {
   "display_name": "Python 3 (ipykernel)",
   "language": "python",
   "name": "python3"
  },
  "language_info": {
   "codemirror_mode": {
    "name": "ipython",
    "version": 3
   },
   "file_extension": ".py",
   "mimetype": "text/x-python",
   "name": "python",
   "nbconvert_exporter": "python",
   "pygments_lexer": "ipython3",
   "version": "3.10.2"
  }
 },
 "nbformat": 4,
 "nbformat_minor": 5
}
