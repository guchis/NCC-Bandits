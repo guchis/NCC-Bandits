{
 "cells": [
  {
   "cell_type": "markdown",
   "id": "bd264323",
   "metadata": {},
   "source": [
    "# Same as in 5_01 but now with more change points\n",
    "\n"
   ]
  },
  {
   "cell_type": "code",
   "execution_count": 1,
   "id": "ba49eee3",
   "metadata": {},
   "outputs": [
    {
     "data": {
      "text/plain": [
       "'/Users/sbokupripeku/git/work/examples/costly_nonstationary_bandits'"
      ]
     },
     "execution_count": 1,
     "metadata": {},
     "output_type": "execute_result"
    }
   ],
   "source": [
    "import os\n",
    "os.chdir(\"../..\")\n",
    "os.getcwd()"
   ]
  },
  {
   "cell_type": "code",
   "execution_count": 2,
   "id": "0b748cbc",
   "metadata": {},
   "outputs": [],
   "source": [
    "%load_ext autoreload\n",
    "%autoreload 2\n",
    "\n",
    "import matplotlib.pyplot as plt\n",
    "import numpy as np\n",
    "import pandas as pd\n",
    "import time\n",
    "\n",
    "import algorithms\n",
    "import evaluation\n",
    "from src import costs\n",
    "from plotting.costs import plot_costs"
   ]
  },
  {
   "cell_type": "code",
   "execution_count": 3,
   "id": "e225d680",
   "metadata": {},
   "outputs": [],
   "source": [
    "np.random.seed(42)"
   ]
  },
  {
   "cell_type": "code",
   "execution_count": 4,
   "id": "00262152",
   "metadata": {},
   "outputs": [],
   "source": [
    "csv_file = 'experiments/nursery/nursery.csv'"
   ]
  },
  {
   "cell_type": "code",
   "execution_count": 5,
   "id": "d07d0d95",
   "metadata": {},
   "outputs": [],
   "source": [
    "df = pd.read_csv(csv_file)"
   ]
  },
  {
   "cell_type": "code",
   "execution_count": 6,
   "id": "b5f67b1c",
   "metadata": {},
   "outputs": [
    {
     "data": {
      "text/html": [
       "<div>\n",
       "<style scoped>\n",
       "    .dataframe tbody tr th:only-of-type {\n",
       "        vertical-align: middle;\n",
       "    }\n",
       "\n",
       "    .dataframe tbody tr th {\n",
       "        vertical-align: top;\n",
       "    }\n",
       "\n",
       "    .dataframe thead th {\n",
       "        text-align: right;\n",
       "    }\n",
       "</style>\n",
       "<table border=\"1\" class=\"dataframe\">\n",
       "  <thead>\n",
       "    <tr style=\"text-align: right;\">\n",
       "      <th></th>\n",
       "      <th>parents</th>\n",
       "      <th>has_nurs</th>\n",
       "      <th>form</th>\n",
       "      <th>children</th>\n",
       "      <th>housing</th>\n",
       "      <th>finance</th>\n",
       "      <th>social</th>\n",
       "      <th>health</th>\n",
       "      <th>final evaluation</th>\n",
       "    </tr>\n",
       "  </thead>\n",
       "  <tbody>\n",
       "    <tr>\n",
       "      <th>0</th>\n",
       "      <td>usual</td>\n",
       "      <td>proper</td>\n",
       "      <td>complete</td>\n",
       "      <td>1</td>\n",
       "      <td>convenient</td>\n",
       "      <td>convenient</td>\n",
       "      <td>nonprob</td>\n",
       "      <td>recommended</td>\n",
       "      <td>recommend</td>\n",
       "    </tr>\n",
       "    <tr>\n",
       "      <th>1</th>\n",
       "      <td>usual</td>\n",
       "      <td>proper</td>\n",
       "      <td>complete</td>\n",
       "      <td>1</td>\n",
       "      <td>convenient</td>\n",
       "      <td>convenient</td>\n",
       "      <td>nonprob</td>\n",
       "      <td>priority</td>\n",
       "      <td>priority</td>\n",
       "    </tr>\n",
       "    <tr>\n",
       "      <th>2</th>\n",
       "      <td>usual</td>\n",
       "      <td>proper</td>\n",
       "      <td>complete</td>\n",
       "      <td>1</td>\n",
       "      <td>convenient</td>\n",
       "      <td>convenient</td>\n",
       "      <td>nonprob</td>\n",
       "      <td>not_recom</td>\n",
       "      <td>not_recom</td>\n",
       "    </tr>\n",
       "    <tr>\n",
       "      <th>3</th>\n",
       "      <td>usual</td>\n",
       "      <td>proper</td>\n",
       "      <td>complete</td>\n",
       "      <td>1</td>\n",
       "      <td>convenient</td>\n",
       "      <td>convenient</td>\n",
       "      <td>slightly_prob</td>\n",
       "      <td>recommended</td>\n",
       "      <td>recommend</td>\n",
       "    </tr>\n",
       "    <tr>\n",
       "      <th>4</th>\n",
       "      <td>usual</td>\n",
       "      <td>proper</td>\n",
       "      <td>complete</td>\n",
       "      <td>1</td>\n",
       "      <td>convenient</td>\n",
       "      <td>convenient</td>\n",
       "      <td>slightly_prob</td>\n",
       "      <td>priority</td>\n",
       "      <td>priority</td>\n",
       "    </tr>\n",
       "    <tr>\n",
       "      <th>...</th>\n",
       "      <td>...</td>\n",
       "      <td>...</td>\n",
       "      <td>...</td>\n",
       "      <td>...</td>\n",
       "      <td>...</td>\n",
       "      <td>...</td>\n",
       "      <td>...</td>\n",
       "      <td>...</td>\n",
       "      <td>...</td>\n",
       "    </tr>\n",
       "    <tr>\n",
       "      <th>12955</th>\n",
       "      <td>great_pret</td>\n",
       "      <td>very_crit</td>\n",
       "      <td>foster</td>\n",
       "      <td>more</td>\n",
       "      <td>critical</td>\n",
       "      <td>inconv</td>\n",
       "      <td>slightly_prob</td>\n",
       "      <td>priority</td>\n",
       "      <td>spec_prior</td>\n",
       "    </tr>\n",
       "    <tr>\n",
       "      <th>12956</th>\n",
       "      <td>great_pret</td>\n",
       "      <td>very_crit</td>\n",
       "      <td>foster</td>\n",
       "      <td>more</td>\n",
       "      <td>critical</td>\n",
       "      <td>inconv</td>\n",
       "      <td>slightly_prob</td>\n",
       "      <td>not_recom</td>\n",
       "      <td>not_recom</td>\n",
       "    </tr>\n",
       "    <tr>\n",
       "      <th>12957</th>\n",
       "      <td>great_pret</td>\n",
       "      <td>very_crit</td>\n",
       "      <td>foster</td>\n",
       "      <td>more</td>\n",
       "      <td>critical</td>\n",
       "      <td>inconv</td>\n",
       "      <td>problematic</td>\n",
       "      <td>recommended</td>\n",
       "      <td>spec_prior</td>\n",
       "    </tr>\n",
       "    <tr>\n",
       "      <th>12958</th>\n",
       "      <td>great_pret</td>\n",
       "      <td>very_crit</td>\n",
       "      <td>foster</td>\n",
       "      <td>more</td>\n",
       "      <td>critical</td>\n",
       "      <td>inconv</td>\n",
       "      <td>problematic</td>\n",
       "      <td>priority</td>\n",
       "      <td>spec_prior</td>\n",
       "    </tr>\n",
       "    <tr>\n",
       "      <th>12959</th>\n",
       "      <td>great_pret</td>\n",
       "      <td>very_crit</td>\n",
       "      <td>foster</td>\n",
       "      <td>more</td>\n",
       "      <td>critical</td>\n",
       "      <td>inconv</td>\n",
       "      <td>problematic</td>\n",
       "      <td>not_recom</td>\n",
       "      <td>not_recom</td>\n",
       "    </tr>\n",
       "  </tbody>\n",
       "</table>\n",
       "<p>12960 rows × 9 columns</p>\n",
       "</div>"
      ],
      "text/plain": [
       "          parents   has_nurs      form children     housing     finance  \\\n",
       "0           usual     proper  complete        1  convenient  convenient   \n",
       "1           usual     proper  complete        1  convenient  convenient   \n",
       "2           usual     proper  complete        1  convenient  convenient   \n",
       "3           usual     proper  complete        1  convenient  convenient   \n",
       "4           usual     proper  complete        1  convenient  convenient   \n",
       "...           ...        ...       ...      ...         ...         ...   \n",
       "12955  great_pret  very_crit    foster     more    critical      inconv   \n",
       "12956  great_pret  very_crit    foster     more    critical      inconv   \n",
       "12957  great_pret  very_crit    foster     more    critical      inconv   \n",
       "12958  great_pret  very_crit    foster     more    critical      inconv   \n",
       "12959  great_pret  very_crit    foster     more    critical      inconv   \n",
       "\n",
       "              social       health final evaluation  \n",
       "0            nonprob  recommended        recommend  \n",
       "1            nonprob     priority         priority  \n",
       "2            nonprob    not_recom        not_recom  \n",
       "3      slightly_prob  recommended        recommend  \n",
       "4      slightly_prob     priority         priority  \n",
       "...              ...          ...              ...  \n",
       "12955  slightly_prob     priority       spec_prior  \n",
       "12956  slightly_prob    not_recom        not_recom  \n",
       "12957    problematic  recommended       spec_prior  \n",
       "12958    problematic     priority       spec_prior  \n",
       "12959    problematic    not_recom        not_recom  \n",
       "\n",
       "[12960 rows x 9 columns]"
      ]
     },
     "execution_count": 6,
     "metadata": {},
     "output_type": "execute_result"
    }
   ],
   "source": [
    "df"
   ]
  },
  {
   "cell_type": "code",
   "execution_count": 7,
   "id": "ac95ab9e",
   "metadata": {},
   "outputs": [],
   "source": [
    "df_num = df.astype('category')"
   ]
  },
  {
   "cell_type": "code",
   "execution_count": 8,
   "id": "00e719af",
   "metadata": {},
   "outputs": [
    {
     "data": {
      "text/plain": [
       "0         recommend\n",
       "1          priority\n",
       "2         not_recom\n",
       "3         recommend\n",
       "4          priority\n",
       "            ...    \n",
       "12955    spec_prior\n",
       "12956     not_recom\n",
       "12957    spec_prior\n",
       "12958    spec_prior\n",
       "12959     not_recom\n",
       "Name: final evaluation, Length: 12960, dtype: category\n",
       "Categories (5, object): ['not_recom', 'priority', 'recommend', 'spec_prior', 'very_recom']"
      ]
     },
     "execution_count": 8,
     "metadata": {},
     "output_type": "execute_result"
    }
   ],
   "source": [
    "df_num['final evaluation']"
   ]
  },
  {
   "cell_type": "code",
   "execution_count": 9,
   "id": "20633567",
   "metadata": {},
   "outputs": [],
   "source": [
    "# Order categories correctly, because order has meaning.\n",
    "df_num.parents = df_num.parents.cat.reorder_categories(['usual', 'pretentious', 'great_pret'])\n",
    "df_num.has_nurs = df_num.has_nurs.cat.reorder_categories(\n",
    "    ['proper', 'less_proper',  'improper', 'critical', 'very_crit']\n",
    ")\n",
    "df_num.form = df_num.form.cat.reorder_categories(['complete', 'completed', 'incomplete', 'foster'])\n",
    "df_num.children = df_num.children.cat.reorder_categories(['1', '2', '3', 'more'])\n",
    "df_num.housing = df_num.housing.cat.reorder_categories(['convenient', 'less_conv', 'critical'])\n",
    "df_num.finance = df_num.finance.cat.reorder_categories(['convenient', 'inconv'])\n",
    "df_num.social = df_num.social.cat.reorder_categories(['nonprob', 'slightly_prob', 'problematic'])\n",
    "df_num.health = df_num.health.cat.reorder_categories(['not_recom', 'recommended', 'priority'])\n",
    "df_num['final evaluation'] = df_num['final evaluation'].cat.reorder_categories(\n",
    "    ['not_recom', 'recommend',  'very_recom', 'priority', 'spec_prior',]\n",
    ")\n"
   ]
  },
  {
   "cell_type": "code",
   "execution_count": 10,
   "id": "d86ab5bb",
   "metadata": {},
   "outputs": [
    {
     "data": {
      "text/html": [
       "<div>\n",
       "<style scoped>\n",
       "    .dataframe tbody tr th:only-of-type {\n",
       "        vertical-align: middle;\n",
       "    }\n",
       "\n",
       "    .dataframe tbody tr th {\n",
       "        vertical-align: top;\n",
       "    }\n",
       "\n",
       "    .dataframe thead th {\n",
       "        text-align: right;\n",
       "    }\n",
       "</style>\n",
       "<table border=\"1\" class=\"dataframe\">\n",
       "  <thead>\n",
       "    <tr style=\"text-align: right;\">\n",
       "      <th></th>\n",
       "      <th>parents</th>\n",
       "      <th>has_nurs</th>\n",
       "      <th>form</th>\n",
       "      <th>children</th>\n",
       "      <th>housing</th>\n",
       "      <th>finance</th>\n",
       "      <th>social</th>\n",
       "      <th>health</th>\n",
       "      <th>final evaluation</th>\n",
       "    </tr>\n",
       "  </thead>\n",
       "  <tbody>\n",
       "    <tr>\n",
       "      <th>0</th>\n",
       "      <td>usual</td>\n",
       "      <td>proper</td>\n",
       "      <td>complete</td>\n",
       "      <td>1</td>\n",
       "      <td>convenient</td>\n",
       "      <td>convenient</td>\n",
       "      <td>nonprob</td>\n",
       "      <td>recommended</td>\n",
       "      <td>recommend</td>\n",
       "    </tr>\n",
       "    <tr>\n",
       "      <th>1</th>\n",
       "      <td>usual</td>\n",
       "      <td>proper</td>\n",
       "      <td>complete</td>\n",
       "      <td>1</td>\n",
       "      <td>convenient</td>\n",
       "      <td>convenient</td>\n",
       "      <td>nonprob</td>\n",
       "      <td>priority</td>\n",
       "      <td>priority</td>\n",
       "    </tr>\n",
       "    <tr>\n",
       "      <th>2</th>\n",
       "      <td>usual</td>\n",
       "      <td>proper</td>\n",
       "      <td>complete</td>\n",
       "      <td>1</td>\n",
       "      <td>convenient</td>\n",
       "      <td>convenient</td>\n",
       "      <td>nonprob</td>\n",
       "      <td>not_recom</td>\n",
       "      <td>not_recom</td>\n",
       "    </tr>\n",
       "    <tr>\n",
       "      <th>3</th>\n",
       "      <td>usual</td>\n",
       "      <td>proper</td>\n",
       "      <td>complete</td>\n",
       "      <td>1</td>\n",
       "      <td>convenient</td>\n",
       "      <td>convenient</td>\n",
       "      <td>slightly_prob</td>\n",
       "      <td>recommended</td>\n",
       "      <td>recommend</td>\n",
       "    </tr>\n",
       "    <tr>\n",
       "      <th>4</th>\n",
       "      <td>usual</td>\n",
       "      <td>proper</td>\n",
       "      <td>complete</td>\n",
       "      <td>1</td>\n",
       "      <td>convenient</td>\n",
       "      <td>convenient</td>\n",
       "      <td>slightly_prob</td>\n",
       "      <td>priority</td>\n",
       "      <td>priority</td>\n",
       "    </tr>\n",
       "    <tr>\n",
       "      <th>...</th>\n",
       "      <td>...</td>\n",
       "      <td>...</td>\n",
       "      <td>...</td>\n",
       "      <td>...</td>\n",
       "      <td>...</td>\n",
       "      <td>...</td>\n",
       "      <td>...</td>\n",
       "      <td>...</td>\n",
       "      <td>...</td>\n",
       "    </tr>\n",
       "    <tr>\n",
       "      <th>12955</th>\n",
       "      <td>great_pret</td>\n",
       "      <td>very_crit</td>\n",
       "      <td>foster</td>\n",
       "      <td>more</td>\n",
       "      <td>critical</td>\n",
       "      <td>inconv</td>\n",
       "      <td>slightly_prob</td>\n",
       "      <td>priority</td>\n",
       "      <td>spec_prior</td>\n",
       "    </tr>\n",
       "    <tr>\n",
       "      <th>12956</th>\n",
       "      <td>great_pret</td>\n",
       "      <td>very_crit</td>\n",
       "      <td>foster</td>\n",
       "      <td>more</td>\n",
       "      <td>critical</td>\n",
       "      <td>inconv</td>\n",
       "      <td>slightly_prob</td>\n",
       "      <td>not_recom</td>\n",
       "      <td>not_recom</td>\n",
       "    </tr>\n",
       "    <tr>\n",
       "      <th>12957</th>\n",
       "      <td>great_pret</td>\n",
       "      <td>very_crit</td>\n",
       "      <td>foster</td>\n",
       "      <td>more</td>\n",
       "      <td>critical</td>\n",
       "      <td>inconv</td>\n",
       "      <td>problematic</td>\n",
       "      <td>recommended</td>\n",
       "      <td>spec_prior</td>\n",
       "    </tr>\n",
       "    <tr>\n",
       "      <th>12958</th>\n",
       "      <td>great_pret</td>\n",
       "      <td>very_crit</td>\n",
       "      <td>foster</td>\n",
       "      <td>more</td>\n",
       "      <td>critical</td>\n",
       "      <td>inconv</td>\n",
       "      <td>problematic</td>\n",
       "      <td>priority</td>\n",
       "      <td>spec_prior</td>\n",
       "    </tr>\n",
       "    <tr>\n",
       "      <th>12959</th>\n",
       "      <td>great_pret</td>\n",
       "      <td>very_crit</td>\n",
       "      <td>foster</td>\n",
       "      <td>more</td>\n",
       "      <td>critical</td>\n",
       "      <td>inconv</td>\n",
       "      <td>problematic</td>\n",
       "      <td>not_recom</td>\n",
       "      <td>not_recom</td>\n",
       "    </tr>\n",
       "  </tbody>\n",
       "</table>\n",
       "<p>12960 rows × 9 columns</p>\n",
       "</div>"
      ],
      "text/plain": [
       "          parents   has_nurs      form children     housing     finance  \\\n",
       "0           usual     proper  complete        1  convenient  convenient   \n",
       "1           usual     proper  complete        1  convenient  convenient   \n",
       "2           usual     proper  complete        1  convenient  convenient   \n",
       "3           usual     proper  complete        1  convenient  convenient   \n",
       "4           usual     proper  complete        1  convenient  convenient   \n",
       "...           ...        ...       ...      ...         ...         ...   \n",
       "12955  great_pret  very_crit    foster     more    critical      inconv   \n",
       "12956  great_pret  very_crit    foster     more    critical      inconv   \n",
       "12957  great_pret  very_crit    foster     more    critical      inconv   \n",
       "12958  great_pret  very_crit    foster     more    critical      inconv   \n",
       "12959  great_pret  very_crit    foster     more    critical      inconv   \n",
       "\n",
       "              social       health final evaluation  \n",
       "0            nonprob  recommended        recommend  \n",
       "1            nonprob     priority         priority  \n",
       "2            nonprob    not_recom        not_recom  \n",
       "3      slightly_prob  recommended        recommend  \n",
       "4      slightly_prob     priority         priority  \n",
       "...              ...          ...              ...  \n",
       "12955  slightly_prob     priority       spec_prior  \n",
       "12956  slightly_prob    not_recom        not_recom  \n",
       "12957    problematic  recommended       spec_prior  \n",
       "12958    problematic     priority       spec_prior  \n",
       "12959    problematic    not_recom        not_recom  \n",
       "\n",
       "[12960 rows x 9 columns]"
      ]
     },
     "execution_count": 10,
     "metadata": {},
     "output_type": "execute_result"
    }
   ],
   "source": [
    "df_num"
   ]
  },
  {
   "cell_type": "code",
   "execution_count": 11,
   "id": "7e7dc95d",
   "metadata": {},
   "outputs": [],
   "source": [
    "for colname in df:\n",
    "    df_num[colname] = df_num[colname].cat.codes + 1"
   ]
  },
  {
   "cell_type": "code",
   "execution_count": 12,
   "id": "7d602823",
   "metadata": {},
   "outputs": [
    {
     "data": {
      "text/html": [
       "<div>\n",
       "<style scoped>\n",
       "    .dataframe tbody tr th:only-of-type {\n",
       "        vertical-align: middle;\n",
       "    }\n",
       "\n",
       "    .dataframe tbody tr th {\n",
       "        vertical-align: top;\n",
       "    }\n",
       "\n",
       "    .dataframe thead th {\n",
       "        text-align: right;\n",
       "    }\n",
       "</style>\n",
       "<table border=\"1\" class=\"dataframe\">\n",
       "  <thead>\n",
       "    <tr style=\"text-align: right;\">\n",
       "      <th></th>\n",
       "      <th>parents</th>\n",
       "      <th>has_nurs</th>\n",
       "      <th>form</th>\n",
       "      <th>children</th>\n",
       "      <th>housing</th>\n",
       "      <th>finance</th>\n",
       "      <th>social</th>\n",
       "      <th>health</th>\n",
       "      <th>final evaluation</th>\n",
       "    </tr>\n",
       "  </thead>\n",
       "  <tbody>\n",
       "    <tr>\n",
       "      <th>0</th>\n",
       "      <td>1</td>\n",
       "      <td>1</td>\n",
       "      <td>1</td>\n",
       "      <td>1</td>\n",
       "      <td>1</td>\n",
       "      <td>1</td>\n",
       "      <td>1</td>\n",
       "      <td>2</td>\n",
       "      <td>2</td>\n",
       "    </tr>\n",
       "    <tr>\n",
       "      <th>1</th>\n",
       "      <td>1</td>\n",
       "      <td>1</td>\n",
       "      <td>1</td>\n",
       "      <td>1</td>\n",
       "      <td>1</td>\n",
       "      <td>1</td>\n",
       "      <td>1</td>\n",
       "      <td>3</td>\n",
       "      <td>4</td>\n",
       "    </tr>\n",
       "    <tr>\n",
       "      <th>2</th>\n",
       "      <td>1</td>\n",
       "      <td>1</td>\n",
       "      <td>1</td>\n",
       "      <td>1</td>\n",
       "      <td>1</td>\n",
       "      <td>1</td>\n",
       "      <td>1</td>\n",
       "      <td>1</td>\n",
       "      <td>1</td>\n",
       "    </tr>\n",
       "    <tr>\n",
       "      <th>3</th>\n",
       "      <td>1</td>\n",
       "      <td>1</td>\n",
       "      <td>1</td>\n",
       "      <td>1</td>\n",
       "      <td>1</td>\n",
       "      <td>1</td>\n",
       "      <td>2</td>\n",
       "      <td>2</td>\n",
       "      <td>2</td>\n",
       "    </tr>\n",
       "    <tr>\n",
       "      <th>4</th>\n",
       "      <td>1</td>\n",
       "      <td>1</td>\n",
       "      <td>1</td>\n",
       "      <td>1</td>\n",
       "      <td>1</td>\n",
       "      <td>1</td>\n",
       "      <td>2</td>\n",
       "      <td>3</td>\n",
       "      <td>4</td>\n",
       "    </tr>\n",
       "    <tr>\n",
       "      <th>...</th>\n",
       "      <td>...</td>\n",
       "      <td>...</td>\n",
       "      <td>...</td>\n",
       "      <td>...</td>\n",
       "      <td>...</td>\n",
       "      <td>...</td>\n",
       "      <td>...</td>\n",
       "      <td>...</td>\n",
       "      <td>...</td>\n",
       "    </tr>\n",
       "    <tr>\n",
       "      <th>12955</th>\n",
       "      <td>3</td>\n",
       "      <td>5</td>\n",
       "      <td>4</td>\n",
       "      <td>4</td>\n",
       "      <td>3</td>\n",
       "      <td>2</td>\n",
       "      <td>2</td>\n",
       "      <td>3</td>\n",
       "      <td>5</td>\n",
       "    </tr>\n",
       "    <tr>\n",
       "      <th>12956</th>\n",
       "      <td>3</td>\n",
       "      <td>5</td>\n",
       "      <td>4</td>\n",
       "      <td>4</td>\n",
       "      <td>3</td>\n",
       "      <td>2</td>\n",
       "      <td>2</td>\n",
       "      <td>1</td>\n",
       "      <td>1</td>\n",
       "    </tr>\n",
       "    <tr>\n",
       "      <th>12957</th>\n",
       "      <td>3</td>\n",
       "      <td>5</td>\n",
       "      <td>4</td>\n",
       "      <td>4</td>\n",
       "      <td>3</td>\n",
       "      <td>2</td>\n",
       "      <td>3</td>\n",
       "      <td>2</td>\n",
       "      <td>5</td>\n",
       "    </tr>\n",
       "    <tr>\n",
       "      <th>12958</th>\n",
       "      <td>3</td>\n",
       "      <td>5</td>\n",
       "      <td>4</td>\n",
       "      <td>4</td>\n",
       "      <td>3</td>\n",
       "      <td>2</td>\n",
       "      <td>3</td>\n",
       "      <td>3</td>\n",
       "      <td>5</td>\n",
       "    </tr>\n",
       "    <tr>\n",
       "      <th>12959</th>\n",
       "      <td>3</td>\n",
       "      <td>5</td>\n",
       "      <td>4</td>\n",
       "      <td>4</td>\n",
       "      <td>3</td>\n",
       "      <td>2</td>\n",
       "      <td>3</td>\n",
       "      <td>1</td>\n",
       "      <td>1</td>\n",
       "    </tr>\n",
       "  </tbody>\n",
       "</table>\n",
       "<p>12960 rows × 9 columns</p>\n",
       "</div>"
      ],
      "text/plain": [
       "       parents  has_nurs  form  children  housing  finance  social  health  \\\n",
       "0            1         1     1         1        1        1       1       2   \n",
       "1            1         1     1         1        1        1       1       3   \n",
       "2            1         1     1         1        1        1       1       1   \n",
       "3            1         1     1         1        1        1       2       2   \n",
       "4            1         1     1         1        1        1       2       3   \n",
       "...        ...       ...   ...       ...      ...      ...     ...     ...   \n",
       "12955        3         5     4         4        3        2       2       3   \n",
       "12956        3         5     4         4        3        2       2       1   \n",
       "12957        3         5     4         4        3        2       3       2   \n",
       "12958        3         5     4         4        3        2       3       3   \n",
       "12959        3         5     4         4        3        2       3       1   \n",
       "\n",
       "       final evaluation  \n",
       "0                     2  \n",
       "1                     4  \n",
       "2                     1  \n",
       "3                     2  \n",
       "4                     4  \n",
       "...                 ...  \n",
       "12955                 5  \n",
       "12956                 1  \n",
       "12957                 5  \n",
       "12958                 5  \n",
       "12959                 1  \n",
       "\n",
       "[12960 rows x 9 columns]"
      ]
     },
     "execution_count": 12,
     "metadata": {},
     "output_type": "execute_result"
    }
   ],
   "source": [
    "df_num"
   ]
  },
  {
   "cell_type": "code",
   "execution_count": 13,
   "id": "e903f623",
   "metadata": {},
   "outputs": [],
   "source": [
    "# Features are dropped according to their usefulness for the linear regression model.\n",
    "# final evaluation is target variable\n",
    "\n",
    "all_contexts = df_num.drop(['parents', 'has_nurs', 'social', 'social', 'final evaluation'], axis=1)\n",
    "\n",
    "# For debug and testing drop some more columns\n",
    "all_contexts = all_contexts.drop(['form'], axis=1).to_numpy()\n",
    "# all_contexts = all_contexts.drop(['finance', 'form'], axis=1).to_numpy()"
   ]
  },
  {
   "cell_type": "code",
   "execution_count": 14,
   "id": "dc9b91ef",
   "metadata": {},
   "outputs": [
    {
     "data": {
      "text/plain": [
       "(12960, 4)"
      ]
     },
     "execution_count": 14,
     "metadata": {},
     "output_type": "execute_result"
    }
   ],
   "source": [
    "all_contexts.shape"
   ]
  },
  {
   "cell_type": "code",
   "execution_count": 15,
   "id": "4dfd5385",
   "metadata": {},
   "outputs": [
    {
     "data": {
      "text/plain": [
       "array([[1, 1, 1, 2],\n",
       "       [1, 1, 1, 3],\n",
       "       [1, 1, 1, 1],\n",
       "       ...,\n",
       "       [4, 3, 2, 2],\n",
       "       [4, 3, 2, 3],\n",
       "       [4, 3, 2, 1]], dtype=int8)"
      ]
     },
     "execution_count": 15,
     "metadata": {},
     "output_type": "execute_result"
    }
   ],
   "source": [
    "all_contexts"
   ]
  },
  {
   "cell_type": "code",
   "execution_count": 16,
   "id": "bd939b7b",
   "metadata": {},
   "outputs": [],
   "source": [
    "y = df_num['final evaluation']"
   ]
  },
  {
   "cell_type": "code",
   "execution_count": 17,
   "id": "ca56a05d",
   "metadata": {},
   "outputs": [
    {
     "data": {
      "text/plain": [
       "1    4320\n",
       "4    4266\n",
       "5    4044\n",
       "3     328\n",
       "2       2\n",
       "Name: final evaluation, dtype: int64"
      ]
     },
     "execution_count": 17,
     "metadata": {},
     "output_type": "execute_result"
    }
   ],
   "source": [
    "y.value_counts()"
   ]
  },
  {
   "cell_type": "code",
   "execution_count": 18,
   "id": "01a7d455",
   "metadata": {},
   "outputs": [],
   "source": [
    "# Drop arms with small rewards"
   ]
  },
  {
   "cell_type": "code",
   "execution_count": 19,
   "id": "312d4ea7",
   "metadata": {},
   "outputs": [],
   "source": [
    "# Values meaning:\n",
    "# not recommended (1)\n",
    "# recommend (2)\n",
    "# very recommend (3)\n",
    "# priority acceptance (4)\n",
    "# special priority (5)"
   ]
  },
  {
   "cell_type": "code",
   "execution_count": 20,
   "id": "94af7782",
   "metadata": {},
   "outputs": [],
   "source": [
    "y[y == 2] = 4"
   ]
  },
  {
   "cell_type": "code",
   "execution_count": 21,
   "id": "94e74971",
   "metadata": {},
   "outputs": [],
   "source": [
    "y[y == 3] = 4"
   ]
  },
  {
   "cell_type": "code",
   "execution_count": 22,
   "id": "13a12536",
   "metadata": {},
   "outputs": [
    {
     "data": {
      "text/plain": [
       "4    4596\n",
       "1    4320\n",
       "5    4044\n",
       "Name: final evaluation, dtype: int64"
      ]
     },
     "execution_count": 22,
     "metadata": {},
     "output_type": "execute_result"
    }
   ],
   "source": [
    "y.value_counts()"
   ]
  },
  {
   "cell_type": "code",
   "execution_count": 23,
   "id": "a786eb7a",
   "metadata": {},
   "outputs": [
    {
     "data": {
      "text/plain": [
       "0"
      ]
     },
     "execution_count": 23,
     "metadata": {},
     "output_type": "execute_result"
    }
   ],
   "source": [
    "np.sum(np.where(y == 3, 1, 0))"
   ]
  },
  {
   "cell_type": "code",
   "execution_count": 24,
   "id": "f227567c",
   "metadata": {},
   "outputs": [],
   "source": [
    "unique = np.unique(y)\n",
    "all_rewards = np.zeros((y.shape[0], len(unique)))\n",
    "for n_arm, y_value in enumerate(unique):\n",
    "    all_rewards[:, n_arm] = np.where(y == y_value, 1, 0)\n",
    "    "
   ]
  },
  {
   "cell_type": "code",
   "execution_count": 25,
   "id": "5b8c791b",
   "metadata": {},
   "outputs": [
    {
     "data": {
      "text/plain": [
       "array([[0., 1., 0.],\n",
       "       [0., 1., 0.],\n",
       "       [1., 0., 0.],\n",
       "       ...,\n",
       "       [0., 0., 1.],\n",
       "       [0., 0., 1.],\n",
       "       [1., 0., 0.]])"
      ]
     },
     "execution_count": 25,
     "metadata": {},
     "output_type": "execute_result"
    }
   ],
   "source": [
    "all_rewards"
   ]
  },
  {
   "cell_type": "code",
   "execution_count": 26,
   "id": "98ff8fda",
   "metadata": {},
   "outputs": [
    {
     "data": {
      "text/plain": [
       "array([4320, 4596, 4044])"
      ]
     },
     "execution_count": 26,
     "metadata": {},
     "output_type": "execute_result"
    }
   ],
   "source": [
    "np.array(np.sum(all_rewards, axis=0), dtype=int)"
   ]
  },
  {
   "cell_type": "markdown",
   "id": "b6dc7429",
   "metadata": {},
   "source": [
    "### Find which features are useful\n",
    "\n",
    "It might be useful to move this to another notebook later for better organization."
   ]
  },
  {
   "cell_type": "code",
   "execution_count": 27,
   "id": "45c48902",
   "metadata": {},
   "outputs": [
    {
     "name": "stdout",
     "output_type": "stream",
     "text": [
      "0\n",
      "[[ 5.95789122e-07 -1.09000277e-07  2.93197482e-07 -1.18003215e+01]]\n",
      "1\n",
      "[[-0.18603078 -0.33239928 -0.26522023  1.05266489]]\n",
      "2\n",
      "[[0.23537151 0.42056171 0.33544766 1.71326315]]\n"
     ]
    }
   ],
   "source": [
    "from sklearn.linear_model import LinearRegression, LogisticRegression\n",
    "\n",
    "\n",
    "coefs = np.zeros((all_rewards.shape[1], all_contexts.shape[1]))\n",
    "for n_arm in range(all_rewards.shape[1]):\n",
    "    print(n_arm)\n",
    "    model = LogisticRegression()\n",
    "    model.fit(all_contexts, all_rewards[:, n_arm])\n",
    "    print(model.coef_)\n",
    "    coefs[n_arm, :] = model.coef_\n"
   ]
  },
  {
   "cell_type": "code",
   "execution_count": 28,
   "id": "8c217f07",
   "metadata": {},
   "outputs": [
    {
     "data": {
      "text/plain": [
       "array([ 0.01644711,  0.02938744,  0.02340924, -3.01146448])"
      ]
     },
     "execution_count": 28,
     "metadata": {},
     "output_type": "execute_result"
    }
   ],
   "source": [
    "np.mean(coefs, axis= 0)"
   ]
  },
  {
   "cell_type": "code",
   "execution_count": null,
   "id": "cbcb890e",
   "metadata": {},
   "outputs": [],
   "source": []
  },
  {
   "cell_type": "markdown",
   "id": "fda5418e",
   "metadata": {},
   "source": [
    "## Algorithm evaluation"
   ]
  },
  {
   "cell_type": "code",
   "execution_count": 29,
   "id": "540a87f4",
   "metadata": {},
   "outputs": [],
   "source": [
    "NUM_OF_TRIALS = all_contexts.shape[0]"
   ]
  },
  {
   "cell_type": "code",
   "execution_count": 30,
   "id": "3732d633",
   "metadata": {},
   "outputs": [],
   "source": [
    "NUM_REPETITIONS = 1"
   ]
  },
  {
   "cell_type": "code",
   "execution_count": 31,
   "id": "7c2b0501",
   "metadata": {},
   "outputs": [],
   "source": [
    "BETA = 1"
   ]
  },
  {
   "cell_type": "code",
   "execution_count": 32,
   "id": "8042c594",
   "metadata": {},
   "outputs": [],
   "source": [
    "np.random.seed(42)"
   ]
  },
  {
   "cell_type": "code",
   "execution_count": 33,
   "id": "23e75fd5",
   "metadata": {},
   "outputs": [],
   "source": [
    "def plot_gains(gain_dict, change_points=()):\n",
    "    fig, ax = plt.subplots(1,1, figsize=(11, 6));\n",
    "        \n",
    "    max_vline=0\n",
    "    \n",
    "    ind_to_params = {\n",
    "        # ind: (mark, color)\n",
    "        0: ('x', 'k'),\n",
    "        1: ('o','g'),\n",
    "        2: ('s','r'),\n",
    "        3: ('^','blue'),\n",
    "        4: ('d','olive'),\n",
    "        5: ('>', 'm'),\n",
    "        6: ('*', 'c'),\n",
    "        7: ('<', 'y'),\n",
    "    }\n",
    "    \n",
    "    sorted_gain_dict = {\n",
    "        k:v for k,v in sorted(gain_dict.items(), key=lambda x: x[1][-1], reverse=True)\n",
    "    }\n",
    "    \n",
    "    for ind, (label, gain) in enumerate(sorted_gain_dict.items()):\n",
    "        \n",
    "        mark, color = ind_to_params[ind]\n",
    "        ax.plot(gain, label=label, linestyle=':', marker=mark, markevery=750, fillstyle='none', color=color)\n",
    "        max_vline=max(max_vline, max(gain))\n",
    "    \n",
    "    extraticks = [1, 3000, 4000, 5000, 6000, 7000, 8000, 9000, 11000, 12960]\n",
    "    plt.xticks(list(plt.xticks()[0][2:-1]) + extraticks, rotation=35, fontsize=16)\n",
    "    plt.yticks(fontsize=16)\n",
    "    \n",
    "    ax.set_xlabel('Time step', fontsize=20)\n",
    "    ax.set_ylabel('Cumulative gain', fontsize=20)\n",
    "    \n",
    "\n",
    "\n",
    "    plt.legend(prop={'size': 16});\n",
    "    plt.show();"
   ]
  },
  {
   "cell_type": "markdown",
   "id": "a1f22f9e",
   "metadata": {},
   "source": [
    "# Adding non-stationarity\n"
   ]
  },
  {
   "cell_type": "markdown",
   "id": "29fe230c",
   "metadata": {},
   "source": [
    "### Non-stationarity in rewards"
   ]
  },
  {
   "cell_type": "code",
   "execution_count": 34,
   "id": "6b8cab7b",
   "metadata": {},
   "outputs": [
    {
     "data": {
      "text/plain": [
       "12960"
      ]
     },
     "execution_count": 34,
     "metadata": {},
     "output_type": "execute_result"
    }
   ],
   "source": [
    "all_rewards.shape[0]"
   ]
  },
  {
   "cell_type": "code",
   "execution_count": 35,
   "id": "a8655ff4",
   "metadata": {},
   "outputs": [],
   "source": [
    "# inverted_regions = [\n",
    "#     slice(2000, 5000),\n",
    "#     slice(10000, 11000),\n",
    "# ]"
   ]
  },
  {
   "cell_type": "code",
   "execution_count": 36,
   "id": "0aaea10e",
   "metadata": {},
   "outputs": [],
   "source": [
    "stationarity_regions = [\n",
    "    slice(0, 3000),\n",
    "    slice(3000, 6000),\n",
    "    slice(6000, 9000),\n",
    "    slice(9000, 12960),\n",
    "]"
   ]
  },
  {
   "cell_type": "code",
   "execution_count": 37,
   "id": "95230d1f",
   "metadata": {},
   "outputs": [
    {
     "data": {
      "text/plain": [
       "array([0.33333333, 0.35462963, 0.31203704])"
      ]
     },
     "execution_count": 37,
     "metadata": {},
     "output_type": "execute_result"
    }
   ],
   "source": [
    "# We invert arm 0 with 2 and 1 with 3 (\n",
    "np.mean(all_rewards, axis=0)"
   ]
  },
  {
   "cell_type": "code",
   "execution_count": 38,
   "id": "2ad6b353",
   "metadata": {},
   "outputs": [],
   "source": [
    "new_rewards = np.copy(all_rewards)\n",
    "new_contexts = np.copy(all_contexts)\n",
    "\n",
    "mean_rewards = np.zeros(new_rewards.shape)\n",
    "\n",
    "n_arms = all_rewards.shape[1]\n",
    "\n",
    "for i, region in enumerate(stationarity_regions):\n",
    "    for arm_from in range(n_arms):\n",
    "        # Cyclic shift of class labels\n",
    "        arm_to = (arm_from + i) % n_arms\n",
    "        new_rewards[region, arm_to] = all_rewards[region, arm_from]\n",
    "        \n",
    "        # For plotting\n",
    "        mean_rewards[region, arm_to] = (\n",
    "            np.ones(new_rewards[region, arm_to].shape) * np.mean(new_rewards[region, arm_to])\n",
    "        )"
   ]
  },
  {
   "cell_type": "code",
   "execution_count": 39,
   "id": "1fcad487",
   "metadata": {},
   "outputs": [
    {
     "data": {
      "text/plain": [
       "((12960, 4), (12960, 3))"
      ]
     },
     "execution_count": 39,
     "metadata": {},
     "output_type": "execute_result"
    }
   ],
   "source": [
    "new_contexts.shape, new_rewards.shape"
   ]
  },
  {
   "cell_type": "markdown",
   "id": "bc043c4b",
   "metadata": {},
   "source": [
    "### Non-stationarity in costs"
   ]
  },
  {
   "cell_type": "code",
   "execution_count": 40,
   "id": "a96b928e",
   "metadata": {},
   "outputs": [],
   "source": [
    "cost_change_points = [3000, 5000, 7000, 9000, 11000]\n",
    "interval_count = len(cost_change_points) + 1"
   ]
  },
  {
   "cell_type": "code",
   "execution_count": 41,
   "id": "7b4ce894",
   "metadata": {},
   "outputs": [],
   "source": [
    "# Mean of gaussian distribution random in interval [0, 0.02] \n",
    "interval_means = [np.random.uniform(0.01, 0.03, size=(new_contexts.shape[1],)) for i in range(interval_count)]"
   ]
  },
  {
   "cell_type": "code",
   "execution_count": 42,
   "id": "d801df91",
   "metadata": {},
   "outputs": [
    {
     "data": {
      "text/plain": [
       "[array([0.0174908 , 0.02901429, 0.02463988, 0.02197317]),\n",
       " array([0.01312037, 0.01311989, 0.01116167, 0.02732352]),\n",
       " array([0.0220223 , 0.02416145, 0.01041169, 0.0293982 ]),\n",
       " array([0.02664885, 0.01424678, 0.0136365 , 0.01366809]),\n",
       " array([0.01608484, 0.02049513, 0.0186389 , 0.01582458]),\n",
       " array([0.02223706, 0.01278988, 0.01584289, 0.01732724])]"
      ]
     },
     "execution_count": 42,
     "metadata": {},
     "output_type": "execute_result"
    }
   ],
   "source": [
    "interval_means"
   ]
  },
  {
   "cell_type": "code",
   "execution_count": 43,
   "id": "59ba2ffd",
   "metadata": {},
   "outputs": [],
   "source": [
    "# Fixed std\n",
    "interval_stds = [[0.001]*new_contexts.shape[1]]*interval_count"
   ]
  },
  {
   "cell_type": "code",
   "execution_count": 44,
   "id": "28de8f86",
   "metadata": {},
   "outputs": [],
   "source": [
    "def get_costs():\n",
    "    return costs.NonstationaryGaussianCosts(\n",
    "        feature_vector_size=new_contexts.shape[1],\n",
    "        change_points=cost_change_points,\n",
    "        interval_means=interval_means,\n",
    "        interval_stds=interval_stds,\n",
    "        random_seed=42,\n",
    "    )\n",
    "    "
   ]
  },
  {
   "cell_type": "code",
   "execution_count": 45,
   "id": "3ac89d71",
   "metadata": {},
   "outputs": [
    {
     "data": {
      "image/png": "[encoded data removed]",
      "text/plain": [
       "<Figure size 1080x576 with 1 Axes>"
      ]
     },
     "execution_count": 45,
     "metadata": {},
     "output_type": "execute_result"
    }
   ],
   "source": [
    "plot_costs(get_costs(), new_contexts.shape[0])"
   ]
  },
  {
   "cell_type": "code",
   "execution_count": 46,
   "id": "65bd80bc",
   "metadata": {},
   "outputs": [],
   "source": [
    "costs_obj = get_costs()"
   ]
  },
  {
   "cell_type": "code",
   "execution_count": 47,
   "id": "40ccb3da",
   "metadata": {},
   "outputs": [],
   "source": [
    "costs_vector = []\n",
    "for t in range(new_contexts.shape[0]):\n",
    "    costs_at_t = np.array(costs_obj.get_separate_costs(trial=t))\n",
    "    costs_vector.append(costs_at_t)\n",
    "\n",
    "costs_vector = np.stack(costs_vector)"
   ]
  },
  {
   "cell_type": "code",
   "execution_count": 48,
   "id": "ca8fc603",
   "metadata": {},
   "outputs": [
    {
     "data": {
      "text/plain": [
       "(12960, 4)"
      ]
     },
     "execution_count": 48,
     "metadata": {},
     "output_type": "execute_result"
    }
   ],
   "source": [
    "costs_vector.shape"
   ]
  },
  {
   "cell_type": "markdown",
   "id": "dbb5ce40",
   "metadata": {},
   "source": [
    "## Plot expected reward"
   ]
  },
  {
   "cell_type": "code",
   "execution_count": 49,
   "id": "8e20ce12",
   "metadata": {},
   "outputs": [
    {
     "name": "stdout",
     "output_type": "stream",
     "text": [
      "Min expected reward for arm 1: 0.22\n",
      "Min expected reward for arm 2: 0.17525252525252524\n",
      "Min expected reward for arm 3: 0.031\n"
     ]
    },
    {
     "data": {
      "image/png": "[encoded data removed]",
      "text/plain": [
       "<Figure size 792x360 with 1 Axes>"
      ]
     },
     "metadata": {
      "needs_background": "light"
     },
     "output_type": "display_data"
    }
   ],
   "source": [
    "fig, ax = plt.subplots(1,1, figsize=(11,5))\n",
    "for arm in range(n_arms):\n",
    "    sum_of_costs = np.sum(costs_vector, axis=1)\n",
    "    expected_gain = BETA * mean_rewards[:, arm] \n",
    "    ax.plot(expected_gain, label=f\"Arm {arm+1}\", linestyle=':', linewidth=5)\n",
    "    print(f\"Min expected reward for arm {arm+1}: {min(expected_gain)}\")\n",
    "\n",
    "    \n",
    "extraticks = [1, 4000, 6000, 8000, 12960]\n",
    "plt.xticks(extraticks, rotation=35, fontsize=16)\n",
    "\n",
    "plt.yticks(fontsize=16)\n",
    "\n",
    "ax.set_xlabel('Time step', fontsize=20)\n",
    "ax.set_ylabel(fr\"($\\beta$={BETA}) * Mean reward\", fontsize=20)\n",
    "\n",
    "lgd = ax.legend(loc=9, ncol=5, bbox_to_anchor=(0.5, 1.132), prop={'size': 15})\n",
    "plt.savefig('mean_rewards.pdf', dpi=300, bbox_extra_artists=(lgd,), bbox_inches='tight')\n",
    "\n",
    "\n",
    "plt.show()\n"
   ]
  },
  {
   "cell_type": "markdown",
   "id": "f2745795",
   "metadata": {},
   "source": [
    "## Plot expected reward minus sum of costs"
   ]
  },
  {
   "cell_type": "code",
   "execution_count": 50,
   "id": "4456e039",
   "metadata": {},
   "outputs": [
    {
     "name": "stdout",
     "output_type": "stream",
     "text": [
      "Min expected gain for arm 1: 0.1281402206953411\n",
      "Min expected gain for arm 2: 0.09768495156164038\n",
      "Min expected gain for arm 3: -0.06989035941846704\n"
     ]
    },
    {
     "data": {
      "image/png": "[encoded data removed]",
      "text/plain": [
       "<Figure size 792x360 with 1 Axes>"
      ]
     },
     "metadata": {
      "needs_background": "light"
     },
     "output_type": "display_data"
    }
   ],
   "source": [
    "fig, ax = plt.subplots(1,1, figsize=(11,5))\n",
    "for arm in range(n_arms):\n",
    "    sum_of_costs = np.sum(costs_vector, axis=1)\n",
    "    expected_gain = BETA * mean_rewards[:, arm] - sum_of_costs\n",
    "    ax.plot(expected_gain, label=f\"Arm {arm+1}\", linestyle=':', linewidth=5)\n",
    "    print(f\"Min expected gain for arm {arm+1}: {min(expected_gain)}\")\n",
    "\n",
    "    \n",
    "extraticks = [1, 3000, 4000, 5000, 6000, 7000, 8000, 9000, 11000, 12960]\n",
    "plt.xticks(extraticks, rotation=35, fontsize=16)\n",
    "\n",
    "plt.yticks(fontsize=16)\n",
    "\n",
    "ax.set_xlabel('Time step', fontsize=20)\n",
    "ax.set_ylabel(fr\"($\\beta$={BETA}) * Mean reward - sum(costs)\", fontsize=20)\n",
    "\n",
    "lgd = ax.legend(loc=9, ncol=5, bbox_to_anchor=(0.5, 1.132), prop={'size': 15})\n",
    "plt.savefig('mean_rewards.pdf', dpi=300, bbox_extra_artists=(lgd,), bbox_inches='tight')\n",
    "\n",
    "\n",
    "plt.show()\n"
   ]
  },
  {
   "cell_type": "markdown",
   "id": "cd6b31a0",
   "metadata": {},
   "source": [
    "## Testing on non-stationary data"
   ]
  },
  {
   "cell_type": "code",
   "execution_count": 51,
   "id": "51f47053",
   "metadata": {},
   "outputs": [],
   "source": [
    "np.random.seed(42)"
   ]
  },
  {
   "cell_type": "code",
   "execution_count": 52,
   "id": "93422c03",
   "metadata": {
    "scrolled": true
   },
   "outputs": [
    {
     "name": "stdout",
     "output_type": "stream",
     "text": [
      "Random policy\n",
      "Beta = 1\n",
      "Total gain: 4381.0\n",
      "\tTotal reward: 4381.0\n",
      "\tTotal cost: 0\n",
      "Execution time: 0.1s\n",
      "Average gain: 4381.0\n"
     ]
    }
   ],
   "source": [
    "gains = np.zeros((NUM_REPETITIONS, NUM_OF_TRIALS))\n",
    "\n",
    "for i in range(NUM_REPETITIONS):\n",
    "    p_random = algorithms.RandomPolicy()\n",
    "    gain_random = evaluation.evaluate_on_synthetic_data(\n",
    "        p_random,\n",
    "        new_contexts,\n",
    "        new_rewards,\n",
    "        costs_vector,\n",
    "        beta=BETA,\n",
    "        stop_after=NUM_OF_TRIALS,\n",
    "    )\n",
    "    gains[i, :] = gain_random\n",
    "    \n",
    "gain_random = np.mean(gains, axis=0)\n",
    "print(f\"Average gain: {gain_random[-1]}\")"
   ]
  },
  {
   "cell_type": "code",
   "execution_count": 53,
   "id": "1b2522d9",
   "metadata": {
    "scrolled": true
   },
   "outputs": [
    {
     "name": "stdout",
     "output_type": "stream",
     "text": [
      "E-greedy(epsilon=0.01)\n",
      "Beta = 1\n",
      "Total gain: 4898.0\n",
      "\tTotal reward: 4898.0\n",
      "\tTotal cost: 0\n",
      "Execution time: 0.1s\n",
      "Average gain: 4898.0\n"
     ]
    }
   ],
   "source": [
    "gains = np.zeros((NUM_REPETITIONS, NUM_OF_TRIALS))\n",
    "for i in range(NUM_REPETITIONS):\n",
    "    egreedy = algorithms.EpsilonGreedy(epsilon=0.01, n_arms=new_rewards.shape[1])\n",
    "\n",
    "    gain_egreedy = evaluation.evaluate_on_synthetic_data(\n",
    "        egreedy,\n",
    "        new_contexts,\n",
    "        new_rewards,\n",
    "        costs_vector,\n",
    "        beta=BETA,\n",
    "        stop_after=NUM_OF_TRIALS,\n",
    "    )\n",
    "    gains[i, :] = gain_egreedy\n",
    "    \n",
    "gain_egreedy = np.mean(gains, axis=0)\n",
    "print(f\"Average gain: {gain_egreedy[-1]}\")"
   ]
  },
  {
   "cell_type": "code",
   "execution_count": 54,
   "id": "674f8082",
   "metadata": {
    "scrolled": true
   },
   "outputs": [
    {
     "name": "stdout",
     "output_type": "stream",
     "text": [
      "UCB1 (α=0.45)\n",
      "Beta = 1\n",
      "Total gain: 6836.0\n",
      "\tTotal reward: 6836.0\n",
      "\tTotal cost: 0\n",
      "Execution time: 0.1s\n",
      "Average gain: 6836.0\n"
     ]
    }
   ],
   "source": [
    "gains = np.zeros((NUM_REPETITIONS, NUM_OF_TRIALS))\n",
    "for i in range(NUM_REPETITIONS):\n",
    "\n",
    "    ucb_alg = algorithms.UCB1(\n",
    "            n_trials=NUM_OF_TRIALS,\n",
    "            n_arms=new_rewards.shape[1],\n",
    "            alpha=0.45,\n",
    "        )\n",
    "\n",
    "    gain_ucb = evaluation.evaluate_on_synthetic_data(\n",
    "        ucb_alg,\n",
    "        new_contexts,\n",
    "        new_rewards,\n",
    "        costs_vector,\n",
    "        beta=BETA,\n",
    "        stop_after=NUM_OF_TRIALS,\n",
    "    )\n",
    "    gains[i, :] = gain_ucb\n",
    "\n",
    "gain_ucb = np.mean(gains, axis=0)\n",
    "print(f\"Average gain: {gain_ucb[-1]}\")"
   ]
  },
  {
   "cell_type": "code",
   "execution_count": 55,
   "id": "1fcf6125",
   "metadata": {
    "scrolled": true
   },
   "outputs": [
    {
     "name": "stdout",
     "output_type": "stream",
     "text": [
      "LinUCB (alpha=0.5)\n",
      "Beta = 1\n",
      "Total gain: 6287.044313789942\n",
      "\tTotal reward: 7280.0\n",
      "\tTotal cost: 992.9556862100449\n",
      "Execution time: 0.4s\n",
      "Average gain: 6287.044313789942\n"
     ]
    }
   ],
   "source": [
    "gains = np.zeros((NUM_REPETITIONS, NUM_OF_TRIALS))\n",
    "for i in range(NUM_REPETITIONS):\n",
    "\n",
    "    linucb = algorithms.LinUCB(\n",
    "        n_trials=NUM_OF_TRIALS,\n",
    "        context_dimension=new_contexts.shape[1],\n",
    "        n_arms=new_rewards.shape[1],\n",
    "        alpha=0.5,\n",
    "    )\n",
    "    gain_linucb = evaluation.evaluate_on_synthetic_data(\n",
    "        linucb,\n",
    "        new_contexts,\n",
    "        new_rewards,\n",
    "        costs_vector,\n",
    "        beta=BETA,\n",
    "        stop_after=NUM_OF_TRIALS,\n",
    "    )\n",
    "    gains[i, :] = gain_linucb\n",
    "\n",
    "gain_linucb = np.mean(gains, axis=0)\n",
    "print(f\"Average gain: {gain_linucb[-1]}\")"
   ]
  },
  {
   "cell_type": "code",
   "execution_count": 56,
   "id": "1c6ea25f",
   "metadata": {
    "scrolled": true
   },
   "outputs": [
    {
     "name": "stdout",
     "output_type": "stream",
     "text": [
      "PSLinUCB (alpha=0.7, omega=100, delta=0.03)\n",
      "Beta = 1\n",
      "Total gain: 9264.044313789924\n",
      "\tTotal reward: 10257.0\n",
      "\tTotal cost: 992.9556862100449\n",
      "Execution time: 0.6s\n",
      "Average gain: 9264.044313789924\n"
     ]
    }
   ],
   "source": [
    "gains = np.zeros((NUM_REPETITIONS, NUM_OF_TRIALS))\n",
    "for i in range(NUM_REPETITIONS):\n",
    "\n",
    "    ps_linucb = algorithms.PSLinUCB(\n",
    "        n_trials=NUM_OF_TRIALS,\n",
    "        context_dimension=new_contexts.shape[1],\n",
    "        n_arms=new_rewards.shape[1],\n",
    "        alpha=0.7,\n",
    "        omega=100,\n",
    "        delta=0.03,\n",
    "    )\n",
    "\n",
    "\n",
    "    gain_pslinucb = evaluation.evaluate_on_synthetic_data(\n",
    "        ps_linucb,\n",
    "        new_contexts,\n",
    "        new_rewards,\n",
    "        costs_vector,\n",
    "        beta=BETA,\n",
    "        stop_after=NUM_OF_TRIALS,\n",
    "    )\n",
    "    change_points = ps_linucb.change_points\n",
    "    gains[i, :] = gain_pslinucb\n",
    "\n",
    "gain_pslinucb = np.mean(gains, axis=0)\n",
    "print(f\"Average gain: {gain_pslinucb[-1]}\")"
   ]
  },
  {
   "cell_type": "code",
   "execution_count": 57,
   "id": "dd2e010e",
   "metadata": {
    "scrolled": false
   },
   "outputs": [
    {
     "name": "stdout",
     "output_type": "stream",
     "text": [
      "Took 0.001252889633178711 seconds\n",
      "Trial 0, time 2022-05-06 19:04:45.524265\n",
      "Trial 500, time 2022-05-06 19:04:46.451074\n",
      "Trial 1000, time 2022-05-06 19:04:46.561423\n",
      "Trial 1500, time 2022-05-06 19:04:46.671418\n",
      "Trial 2000, time 2022-05-06 19:04:46.731426\n",
      "Trial 2500, time 2022-05-06 19:04:46.839355\n",
      "Trial 3000, time 2022-05-06 19:04:46.904305\n",
      "Trial 3500, time 2022-05-06 19:04:46.966119\n",
      "Trial 4000, time 2022-05-06 19:04:47.026442\n",
      "Trial 4500, time 2022-05-06 19:04:48.831241\n",
      "Trial 5000, time 2022-05-06 19:04:48.994098\n",
      "Trial 5500, time 2022-05-06 19:04:49.102148\n",
      "Trial 6000, time 2022-05-06 19:04:49.209548\n",
      "Trial 6500, time 2022-05-06 19:04:49.270608\n",
      "Trial 7000, time 2022-05-06 19:04:49.380676\n",
      "Trial 7500, time 2022-05-06 19:04:49.539054\n",
      "Trial 8000, time 2022-05-06 19:04:49.601895\n",
      "Trial 8500, time 2022-05-06 19:04:49.663434\n",
      "Trial 9000, time 2022-05-06 19:04:49.724201\n",
      "Trial 9500, time 2022-05-06 19:04:49.783947\n",
      "Trial 10000, time 2022-05-06 19:04:50.661261\n",
      "Trial 10500, time 2022-05-06 19:04:50.815771\n",
      "Trial 11000, time 2022-05-06 19:04:50.923550\n",
      "Trial 11500, time 2022-05-06 19:04:51.031542\n",
      "Trial 12000, time 2022-05-06 19:04:51.140465\n",
      "Trial 12500, time 2022-05-06 19:04:51.246460\n",
      "SimOOS (beta=1, delta=0.08)\n",
      "Beta = 1\n",
      "Total gain: 6179.611070102624\n",
      "\tTotal reward: 6397.0\n",
      "\tTotal cost: 217.38892989737587\n",
      "Execution time: 5.8s\n",
      "Took 5.777301073074341 seconds\n",
      "Average gain: 6179.611070102624\n"
     ]
    }
   ],
   "source": [
    "gains = np.zeros((NUM_REPETITIONS, NUM_OF_TRIALS))\n",
    "for i in range(NUM_REPETITIONS):\n",
    "\n",
    "    s = time.time()\n",
    "    p_simoos = algorithms.SimOOSAlgorithm(\n",
    "        all_contexts=new_contexts, \n",
    "        number_of_actions=new_rewards.shape[1],\n",
    "        max_no_red_context=new_contexts.shape[1],\n",
    "        beta_SimOOS=BETA,\n",
    "        delta_SimOOS=0.08,\n",
    "    )\n",
    "    print(f\"Took {time.time() - s} seconds\")\n",
    "\n",
    "    import warnings\n",
    "    with warnings.catch_warnings():\n",
    "        warnings.simplefilter(\"ignore\")\n",
    "        s = time.time()\n",
    "        gain_simoos = evaluation.evaluate_on_synthetic_data(\n",
    "            p_simoos,\n",
    "            new_contexts[:NUM_OF_TRIALS],\n",
    "            new_rewards[:NUM_OF_TRIALS],\n",
    "            costs_vector[:NUM_OF_TRIALS],\n",
    "            beta=BETA,\n",
    "            stop_after=NUM_OF_TRIALS,\n",
    "        )\n",
    "        print(f\"Took {time.time() - s} seconds\")\n",
    "    gains[i, :] = gain_simoos\n",
    "\n",
    "gain_simoos = np.mean(gains, axis=0)\n",
    "print(f\"Average gain: {gain_simoos[-1]}\")"
   ]
  },
  {
   "cell_type": "code",
   "execution_count": 58,
   "id": "91e3d3b5",
   "metadata": {
    "scrolled": false
   },
   "outputs": [
    {
     "name": "stdout",
     "output_type": "stream",
     "text": [
      "Took 0.0011110305786132812 seconds\n",
      "Round 0, time 2022-05-06 19:04:51.326371\n",
      "Round 500, time 2022-05-06 19:05:23.989677\n",
      "Round 1000, time 2022-05-06 19:05:57.896274\n",
      "Round 1500, time 2022-05-06 19:06:31.583275\n",
      "Round 2000, time 2022-05-06 19:07:06.563964\n",
      "Round 2500, time 2022-05-06 19:07:40.179034\n",
      "Round 3000, time 2022-05-06 19:08:14.580050\n",
      "Round 3500, time 2022-05-06 19:08:49.325866\n",
      "Round 4000, time 2022-05-06 19:09:24.483370\n",
      "Round 4500, time 2022-05-06 19:10:00.183188\n",
      "Round 5000, time 2022-05-06 19:10:34.717559\n",
      "Round 5500, time 2022-05-06 19:11:09.227823\n",
      "Round 6000, time 2022-05-06 19:11:43.279897\n",
      "Round 6500, time 2022-05-06 19:12:17.879514\n",
      "Round 7000, time 2022-05-06 19:12:53.060794\n",
      "Round 7500, time 2022-05-06 19:13:27.172896\n",
      "Round 8000, time 2022-05-06 19:14:01.605063\n",
      "Round 8500, time 2022-05-06 19:14:36.138796\n",
      "Round 9000, time 2022-05-06 19:15:10.384089\n",
      "Round 9500, time 2022-05-06 19:15:46.673931\n",
      "Round 10000, time 2022-05-06 19:16:23.225632\n",
      "Round 10500, time 2022-05-06 19:16:59.457261\n",
      "Round 11000, time 2022-05-06 19:17:35.345352\n",
      "Round 11500, time 2022-05-06 19:18:11.411936\n",
      "Round 12000, time 2022-05-06 19:18:46.266080\n",
      "Round 12500, time 2022-05-06 19:19:21.135891\n",
      "Algorithm1 (beta=1, delta=0.9, w=250)\n",
      "Beta = 1\n",
      "Total gain: 9648.7924541413\n",
      "\tTotal reward: 10641.0\n",
      "\tTotal cost: 992.2075458586835\n",
      "Execution time: 15.0m\n",
      "Took 902.9316370487213 seconds\n",
      "Average gain: 9648.7924541413\n"
     ]
    }
   ],
   "source": [
    "gains = np.zeros((NUM_REPETITIONS, NUM_OF_TRIALS))\n",
    "for i in range(NUM_REPETITIONS):\n",
    "\n",
    "    s = time.time()\n",
    "    p_alg1 = algorithms.Algorithm1(\n",
    "        all_contexts=new_contexts, \n",
    "        number_of_actions=new_rewards.shape[1],\n",
    "        max_no_red_context=new_contexts.shape[1],\n",
    "        beta=BETA,\n",
    "        delta=0.9,\n",
    "        window_length=250,\n",
    "        feature_flag=True,\n",
    "    )\n",
    "    print(f\"Took {time.time() - s} seconds\")\n",
    "\n",
    "    import warnings\n",
    "    with warnings.catch_warnings():\n",
    "        warnings.simplefilter(\"ignore\")\n",
    "        s = time.time()\n",
    "        gain_alg1 = evaluation.evaluate_on_synthetic_data(\n",
    "            p_alg1,\n",
    "            new_contexts[:NUM_OF_TRIALS],\n",
    "            new_rewards[:NUM_OF_TRIALS],\n",
    "            costs_vector[:NUM_OF_TRIALS],\n",
    "            beta=BETA,\n",
    "            stop_after=NUM_OF_TRIALS,\n",
    "        )\n",
    "        print(f\"Took {time.time() - s} seconds\")\n",
    "        gains[i, :] = gain_alg1\n",
    "\n",
    "gain_alg1 = np.mean(gains, axis=0)\n",
    "print(f\"Average gain: {gain_alg1[-1]}\")"
   ]
  },
  {
   "cell_type": "code",
   "execution_count": null,
   "id": "e0bd464d",
   "metadata": {},
   "outputs": [],
   "source": []
  },
  {
   "cell_type": "code",
   "execution_count": 59,
   "id": "8b0d9bd0",
   "metadata": {},
   "outputs": [
    {
     "data": {
      "image/png": "[encoded data removed]",
      "text/plain": [
       "<Figure size 792x432 with 1 Axes>"
      ]
     },
     "metadata": {
      "needs_background": "light"
     },
     "output_type": "display_data"
    }
   ],
   "source": [
    "plot_gains({\n",
    "    'Random': gain_random,\n",
    "    'E-greedy': gain_egreedy,\n",
    "    'UCB1': gain_ucb,\n",
    "    'LinUCB': gain_linucb,\n",
    "    'PS-LinUCB': gain_pslinucb,\n",
    "    'SimOOS': gain_simoos,\n",
    "    'Algorithm1': gain_alg1,\n",
    "},\n",
    ")\n"
   ]
  },
  {
   "cell_type": "code",
   "execution_count": null,
   "id": "54b86d65",
   "metadata": {},
   "outputs": [],
   "source": []
  }
 ],
 "metadata": {
  "kernelspec": {
   "display_name": "Python 3 (ipykernel)",
   "language": "python",
   "name": "python3"
  },
  "language_info": {
   "codemirror_mode": {
    "name": "ipython",
    "version": 3
   },
   "file_extension": ".py",
   "mimetype": "text/x-python",
   "name": "python",
   "nbconvert_exporter": "python",
   "pygments_lexer": "ipython3",
   "version": "3.10.2"
  }
 },
 "nbformat": 4,
 "nbformat_minor": 5
}
