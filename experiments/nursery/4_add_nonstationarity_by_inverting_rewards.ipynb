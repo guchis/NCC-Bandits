{
 "cells": [
  {
   "cell_type": "markdown",
   "id": "bd264323",
   "metadata": {},
   "source": [
    "# Adding non-stationarity\n",
    "\n",
    "In this notebook we add non-stationarity into the nursery dataset.\n",
    "\n",
    "Here we follow the setting in [1] and just invert the class labels at a specified time point, simulating concept shift.\n",
    "\n",
    "[1] Context Attentive Bandits: Contextual Bandit with Restricted Context https://arxiv.org/pdf/1705.03821.pdf\n"
   ]
  },
  {
   "cell_type": "code",
   "execution_count": 1,
   "id": "ba49eee3",
   "metadata": {},
   "outputs": [
    {
     "data": {
      "text/plain": [
       "'/Users/sbokupripeku/git/work/examples/costly_nonstationary_bandits'"
      ]
     },
     "execution_count": 1,
     "metadata": {},
     "output_type": "execute_result"
    }
   ],
   "source": [
    "import os\n",
    "os.chdir(\"../..\")\n",
    "os.getcwd()"
   ]
  },
  {
   "cell_type": "code",
   "execution_count": 134,
   "id": "0b748cbc",
   "metadata": {},
   "outputs": [
    {
     "name": "stdout",
     "output_type": "stream",
     "text": [
      "The autoreload extension is already loaded. To reload it, use:\n",
      "  %reload_ext autoreload\n"
     ]
    }
   ],
   "source": [
    "%load_ext autoreload\n",
    "%autoreload 2\n",
    "\n",
    "import matplotlib.pyplot as plt\n",
    "import numpy as np\n",
    "import pandas as pd\n",
    "import time\n",
    "\n",
    "import algorithms\n",
    "import evaluation"
   ]
  },
  {
   "cell_type": "code",
   "execution_count": 135,
   "id": "e225d680",
   "metadata": {},
   "outputs": [],
   "source": [
    "np.random.seed(42)"
   ]
  },
  {
   "cell_type": "code",
   "execution_count": 136,
   "id": "059530d5",
   "metadata": {},
   "outputs": [],
   "source": [
    "csv_file = 'experiments/nursery/nursery.csv'"
   ]
  },
  {
   "cell_type": "code",
   "execution_count": 137,
   "id": "485bfc76",
   "metadata": {},
   "outputs": [],
   "source": [
    "df = pd.read_csv(csv_file)"
   ]
  },
  {
   "cell_type": "code",
   "execution_count": 138,
   "id": "1663f166",
   "metadata": {},
   "outputs": [
    {
     "data": {
      "text/html": [
       "<div>\n",
       "<style scoped>\n",
       "    .dataframe tbody tr th:only-of-type {\n",
       "        vertical-align: middle;\n",
       "    }\n",
       "\n",
       "    .dataframe tbody tr th {\n",
       "        vertical-align: top;\n",
       "    }\n",
       "\n",
       "    .dataframe thead th {\n",
       "        text-align: right;\n",
       "    }\n",
       "</style>\n",
       "<table border=\"1\" class=\"dataframe\">\n",
       "  <thead>\n",
       "    <tr style=\"text-align: right;\">\n",
       "      <th></th>\n",
       "      <th>parents</th>\n",
       "      <th>has_nurs</th>\n",
       "      <th>form</th>\n",
       "      <th>children</th>\n",
       "      <th>housing</th>\n",
       "      <th>finance</th>\n",
       "      <th>social</th>\n",
       "      <th>health</th>\n",
       "      <th>final evaluation</th>\n",
       "    </tr>\n",
       "  </thead>\n",
       "  <tbody>\n",
       "    <tr>\n",
       "      <th>0</th>\n",
       "      <td>usual</td>\n",
       "      <td>proper</td>\n",
       "      <td>complete</td>\n",
       "      <td>1</td>\n",
       "      <td>convenient</td>\n",
       "      <td>convenient</td>\n",
       "      <td>nonprob</td>\n",
       "      <td>recommended</td>\n",
       "      <td>recommend</td>\n",
       "    </tr>\n",
       "    <tr>\n",
       "      <th>1</th>\n",
       "      <td>usual</td>\n",
       "      <td>proper</td>\n",
       "      <td>complete</td>\n",
       "      <td>1</td>\n",
       "      <td>convenient</td>\n",
       "      <td>convenient</td>\n",
       "      <td>nonprob</td>\n",
       "      <td>priority</td>\n",
       "      <td>priority</td>\n",
       "    </tr>\n",
       "    <tr>\n",
       "      <th>2</th>\n",
       "      <td>usual</td>\n",
       "      <td>proper</td>\n",
       "      <td>complete</td>\n",
       "      <td>1</td>\n",
       "      <td>convenient</td>\n",
       "      <td>convenient</td>\n",
       "      <td>nonprob</td>\n",
       "      <td>not_recom</td>\n",
       "      <td>not_recom</td>\n",
       "    </tr>\n",
       "    <tr>\n",
       "      <th>3</th>\n",
       "      <td>usual</td>\n",
       "      <td>proper</td>\n",
       "      <td>complete</td>\n",
       "      <td>1</td>\n",
       "      <td>convenient</td>\n",
       "      <td>convenient</td>\n",
       "      <td>slightly_prob</td>\n",
       "      <td>recommended</td>\n",
       "      <td>recommend</td>\n",
       "    </tr>\n",
       "    <tr>\n",
       "      <th>4</th>\n",
       "      <td>usual</td>\n",
       "      <td>proper</td>\n",
       "      <td>complete</td>\n",
       "      <td>1</td>\n",
       "      <td>convenient</td>\n",
       "      <td>convenient</td>\n",
       "      <td>slightly_prob</td>\n",
       "      <td>priority</td>\n",
       "      <td>priority</td>\n",
       "    </tr>\n",
       "    <tr>\n",
       "      <th>...</th>\n",
       "      <td>...</td>\n",
       "      <td>...</td>\n",
       "      <td>...</td>\n",
       "      <td>...</td>\n",
       "      <td>...</td>\n",
       "      <td>...</td>\n",
       "      <td>...</td>\n",
       "      <td>...</td>\n",
       "      <td>...</td>\n",
       "    </tr>\n",
       "    <tr>\n",
       "      <th>12955</th>\n",
       "      <td>great_pret</td>\n",
       "      <td>very_crit</td>\n",
       "      <td>foster</td>\n",
       "      <td>more</td>\n",
       "      <td>critical</td>\n",
       "      <td>inconv</td>\n",
       "      <td>slightly_prob</td>\n",
       "      <td>priority</td>\n",
       "      <td>spec_prior</td>\n",
       "    </tr>\n",
       "    <tr>\n",
       "      <th>12956</th>\n",
       "      <td>great_pret</td>\n",
       "      <td>very_crit</td>\n",
       "      <td>foster</td>\n",
       "      <td>more</td>\n",
       "      <td>critical</td>\n",
       "      <td>inconv</td>\n",
       "      <td>slightly_prob</td>\n",
       "      <td>not_recom</td>\n",
       "      <td>not_recom</td>\n",
       "    </tr>\n",
       "    <tr>\n",
       "      <th>12957</th>\n",
       "      <td>great_pret</td>\n",
       "      <td>very_crit</td>\n",
       "      <td>foster</td>\n",
       "      <td>more</td>\n",
       "      <td>critical</td>\n",
       "      <td>inconv</td>\n",
       "      <td>problematic</td>\n",
       "      <td>recommended</td>\n",
       "      <td>spec_prior</td>\n",
       "    </tr>\n",
       "    <tr>\n",
       "      <th>12958</th>\n",
       "      <td>great_pret</td>\n",
       "      <td>very_crit</td>\n",
       "      <td>foster</td>\n",
       "      <td>more</td>\n",
       "      <td>critical</td>\n",
       "      <td>inconv</td>\n",
       "      <td>problematic</td>\n",
       "      <td>priority</td>\n",
       "      <td>spec_prior</td>\n",
       "    </tr>\n",
       "    <tr>\n",
       "      <th>12959</th>\n",
       "      <td>great_pret</td>\n",
       "      <td>very_crit</td>\n",
       "      <td>foster</td>\n",
       "      <td>more</td>\n",
       "      <td>critical</td>\n",
       "      <td>inconv</td>\n",
       "      <td>problematic</td>\n",
       "      <td>not_recom</td>\n",
       "      <td>not_recom</td>\n",
       "    </tr>\n",
       "  </tbody>\n",
       "</table>\n",
       "<p>12960 rows × 9 columns</p>\n",
       "</div>"
      ],
      "text/plain": [
       "          parents   has_nurs      form children     housing     finance  \\\n",
       "0           usual     proper  complete        1  convenient  convenient   \n",
       "1           usual     proper  complete        1  convenient  convenient   \n",
       "2           usual     proper  complete        1  convenient  convenient   \n",
       "3           usual     proper  complete        1  convenient  convenient   \n",
       "4           usual     proper  complete        1  convenient  convenient   \n",
       "...           ...        ...       ...      ...         ...         ...   \n",
       "12955  great_pret  very_crit    foster     more    critical      inconv   \n",
       "12956  great_pret  very_crit    foster     more    critical      inconv   \n",
       "12957  great_pret  very_crit    foster     more    critical      inconv   \n",
       "12958  great_pret  very_crit    foster     more    critical      inconv   \n",
       "12959  great_pret  very_crit    foster     more    critical      inconv   \n",
       "\n",
       "              social       health final evaluation  \n",
       "0            nonprob  recommended        recommend  \n",
       "1            nonprob     priority         priority  \n",
       "2            nonprob    not_recom        not_recom  \n",
       "3      slightly_prob  recommended        recommend  \n",
       "4      slightly_prob     priority         priority  \n",
       "...              ...          ...              ...  \n",
       "12955  slightly_prob     priority       spec_prior  \n",
       "12956  slightly_prob    not_recom        not_recom  \n",
       "12957    problematic  recommended       spec_prior  \n",
       "12958    problematic     priority       spec_prior  \n",
       "12959    problematic    not_recom        not_recom  \n",
       "\n",
       "[12960 rows x 9 columns]"
      ]
     },
     "execution_count": 138,
     "metadata": {},
     "output_type": "execute_result"
    }
   ],
   "source": [
    "df"
   ]
  },
  {
   "cell_type": "code",
   "execution_count": 139,
   "id": "e302eb38",
   "metadata": {},
   "outputs": [],
   "source": [
    "df_num = df.astype('category')"
   ]
  },
  {
   "cell_type": "code",
   "execution_count": 140,
   "id": "ed01233a",
   "metadata": {},
   "outputs": [
    {
     "data": {
      "text/plain": [
       "0         recommend\n",
       "1          priority\n",
       "2         not_recom\n",
       "3         recommend\n",
       "4          priority\n",
       "            ...    \n",
       "12955    spec_prior\n",
       "12956     not_recom\n",
       "12957    spec_prior\n",
       "12958    spec_prior\n",
       "12959     not_recom\n",
       "Name: final evaluation, Length: 12960, dtype: category\n",
       "Categories (5, object): ['not_recom', 'priority', 'recommend', 'spec_prior', 'very_recom']"
      ]
     },
     "execution_count": 140,
     "metadata": {},
     "output_type": "execute_result"
    }
   ],
   "source": [
    "df_num['final evaluation']"
   ]
  },
  {
   "cell_type": "code",
   "execution_count": 141,
   "id": "29cb22da",
   "metadata": {},
   "outputs": [],
   "source": [
    "# Order categories correctly, because order has meaning.\n",
    "df_num.parents = df_num.parents.cat.reorder_categories(['usual', 'pretentious', 'great_pret'])\n",
    "df_num.has_nurs = df_num.has_nurs.cat.reorder_categories(\n",
    "    ['proper', 'less_proper',  'improper', 'critical', 'very_crit']\n",
    ")\n",
    "df_num.form = df_num.form.cat.reorder_categories(['complete', 'completed', 'incomplete', 'foster'])\n",
    "df_num.children = df_num.children.cat.reorder_categories(['1', '2', '3', 'more'])\n",
    "df_num.housing = df_num.housing.cat.reorder_categories(['convenient', 'less_conv', 'critical'])\n",
    "df_num.finance = df_num.finance.cat.reorder_categories(['convenient', 'inconv'])\n",
    "df_num.social = df_num.social.cat.reorder_categories(['nonprob', 'slightly_prob', 'problematic'])\n",
    "df_num.health = df_num.health.cat.reorder_categories(['not_recom', 'recommended', 'priority'])\n",
    "df_num['final evaluation'] = df_num['final evaluation'].cat.reorder_categories(\n",
    "    ['not_recom', 'recommend',  'very_recom', 'priority', 'spec_prior',]\n",
    ")\n"
   ]
  },
  {
   "cell_type": "code",
   "execution_count": 142,
   "id": "7aa77340",
   "metadata": {},
   "outputs": [
    {
     "data": {
      "text/html": [
       "<div>\n",
       "<style scoped>\n",
       "    .dataframe tbody tr th:only-of-type {\n",
       "        vertical-align: middle;\n",
       "    }\n",
       "\n",
       "    .dataframe tbody tr th {\n",
       "        vertical-align: top;\n",
       "    }\n",
       "\n",
       "    .dataframe thead th {\n",
       "        text-align: right;\n",
       "    }\n",
       "</style>\n",
       "<table border=\"1\" class=\"dataframe\">\n",
       "  <thead>\n",
       "    <tr style=\"text-align: right;\">\n",
       "      <th></th>\n",
       "      <th>parents</th>\n",
       "      <th>has_nurs</th>\n",
       "      <th>form</th>\n",
       "      <th>children</th>\n",
       "      <th>housing</th>\n",
       "      <th>finance</th>\n",
       "      <th>social</th>\n",
       "      <th>health</th>\n",
       "      <th>final evaluation</th>\n",
       "    </tr>\n",
       "  </thead>\n",
       "  <tbody>\n",
       "    <tr>\n",
       "      <th>0</th>\n",
       "      <td>usual</td>\n",
       "      <td>proper</td>\n",
       "      <td>complete</td>\n",
       "      <td>1</td>\n",
       "      <td>convenient</td>\n",
       "      <td>convenient</td>\n",
       "      <td>nonprob</td>\n",
       "      <td>recommended</td>\n",
       "      <td>recommend</td>\n",
       "    </tr>\n",
       "    <tr>\n",
       "      <th>1</th>\n",
       "      <td>usual</td>\n",
       "      <td>proper</td>\n",
       "      <td>complete</td>\n",
       "      <td>1</td>\n",
       "      <td>convenient</td>\n",
       "      <td>convenient</td>\n",
       "      <td>nonprob</td>\n",
       "      <td>priority</td>\n",
       "      <td>priority</td>\n",
       "    </tr>\n",
       "    <tr>\n",
       "      <th>2</th>\n",
       "      <td>usual</td>\n",
       "      <td>proper</td>\n",
       "      <td>complete</td>\n",
       "      <td>1</td>\n",
       "      <td>convenient</td>\n",
       "      <td>convenient</td>\n",
       "      <td>nonprob</td>\n",
       "      <td>not_recom</td>\n",
       "      <td>not_recom</td>\n",
       "    </tr>\n",
       "    <tr>\n",
       "      <th>3</th>\n",
       "      <td>usual</td>\n",
       "      <td>proper</td>\n",
       "      <td>complete</td>\n",
       "      <td>1</td>\n",
       "      <td>convenient</td>\n",
       "      <td>convenient</td>\n",
       "      <td>slightly_prob</td>\n",
       "      <td>recommended</td>\n",
       "      <td>recommend</td>\n",
       "    </tr>\n",
       "    <tr>\n",
       "      <th>4</th>\n",
       "      <td>usual</td>\n",
       "      <td>proper</td>\n",
       "      <td>complete</td>\n",
       "      <td>1</td>\n",
       "      <td>convenient</td>\n",
       "      <td>convenient</td>\n",
       "      <td>slightly_prob</td>\n",
       "      <td>priority</td>\n",
       "      <td>priority</td>\n",
       "    </tr>\n",
       "    <tr>\n",
       "      <th>...</th>\n",
       "      <td>...</td>\n",
       "      <td>...</td>\n",
       "      <td>...</td>\n",
       "      <td>...</td>\n",
       "      <td>...</td>\n",
       "      <td>...</td>\n",
       "      <td>...</td>\n",
       "      <td>...</td>\n",
       "      <td>...</td>\n",
       "    </tr>\n",
       "    <tr>\n",
       "      <th>12955</th>\n",
       "      <td>great_pret</td>\n",
       "      <td>very_crit</td>\n",
       "      <td>foster</td>\n",
       "      <td>more</td>\n",
       "      <td>critical</td>\n",
       "      <td>inconv</td>\n",
       "      <td>slightly_prob</td>\n",
       "      <td>priority</td>\n",
       "      <td>spec_prior</td>\n",
       "    </tr>\n",
       "    <tr>\n",
       "      <th>12956</th>\n",
       "      <td>great_pret</td>\n",
       "      <td>very_crit</td>\n",
       "      <td>foster</td>\n",
       "      <td>more</td>\n",
       "      <td>critical</td>\n",
       "      <td>inconv</td>\n",
       "      <td>slightly_prob</td>\n",
       "      <td>not_recom</td>\n",
       "      <td>not_recom</td>\n",
       "    </tr>\n",
       "    <tr>\n",
       "      <th>12957</th>\n",
       "      <td>great_pret</td>\n",
       "      <td>very_crit</td>\n",
       "      <td>foster</td>\n",
       "      <td>more</td>\n",
       "      <td>critical</td>\n",
       "      <td>inconv</td>\n",
       "      <td>problematic</td>\n",
       "      <td>recommended</td>\n",
       "      <td>spec_prior</td>\n",
       "    </tr>\n",
       "    <tr>\n",
       "      <th>12958</th>\n",
       "      <td>great_pret</td>\n",
       "      <td>very_crit</td>\n",
       "      <td>foster</td>\n",
       "      <td>more</td>\n",
       "      <td>critical</td>\n",
       "      <td>inconv</td>\n",
       "      <td>problematic</td>\n",
       "      <td>priority</td>\n",
       "      <td>spec_prior</td>\n",
       "    </tr>\n",
       "    <tr>\n",
       "      <th>12959</th>\n",
       "      <td>great_pret</td>\n",
       "      <td>very_crit</td>\n",
       "      <td>foster</td>\n",
       "      <td>more</td>\n",
       "      <td>critical</td>\n",
       "      <td>inconv</td>\n",
       "      <td>problematic</td>\n",
       "      <td>not_recom</td>\n",
       "      <td>not_recom</td>\n",
       "    </tr>\n",
       "  </tbody>\n",
       "</table>\n",
       "<p>12960 rows × 9 columns</p>\n",
       "</div>"
      ],
      "text/plain": [
       "          parents   has_nurs      form children     housing     finance  \\\n",
       "0           usual     proper  complete        1  convenient  convenient   \n",
       "1           usual     proper  complete        1  convenient  convenient   \n",
       "2           usual     proper  complete        1  convenient  convenient   \n",
       "3           usual     proper  complete        1  convenient  convenient   \n",
       "4           usual     proper  complete        1  convenient  convenient   \n",
       "...           ...        ...       ...      ...         ...         ...   \n",
       "12955  great_pret  very_crit    foster     more    critical      inconv   \n",
       "12956  great_pret  very_crit    foster     more    critical      inconv   \n",
       "12957  great_pret  very_crit    foster     more    critical      inconv   \n",
       "12958  great_pret  very_crit    foster     more    critical      inconv   \n",
       "12959  great_pret  very_crit    foster     more    critical      inconv   \n",
       "\n",
       "              social       health final evaluation  \n",
       "0            nonprob  recommended        recommend  \n",
       "1            nonprob     priority         priority  \n",
       "2            nonprob    not_recom        not_recom  \n",
       "3      slightly_prob  recommended        recommend  \n",
       "4      slightly_prob     priority         priority  \n",
       "...              ...          ...              ...  \n",
       "12955  slightly_prob     priority       spec_prior  \n",
       "12956  slightly_prob    not_recom        not_recom  \n",
       "12957    problematic  recommended       spec_prior  \n",
       "12958    problematic     priority       spec_prior  \n",
       "12959    problematic    not_recom        not_recom  \n",
       "\n",
       "[12960 rows x 9 columns]"
      ]
     },
     "execution_count": 142,
     "metadata": {},
     "output_type": "execute_result"
    }
   ],
   "source": [
    "df_num"
   ]
  },
  {
   "cell_type": "code",
   "execution_count": 143,
   "id": "9e8028cc",
   "metadata": {},
   "outputs": [],
   "source": [
    "for colname in df:\n",
    "    df_num[colname] = df_num[colname].cat.codes + 1"
   ]
  },
  {
   "cell_type": "code",
   "execution_count": 144,
   "id": "e4084ca4",
   "metadata": {},
   "outputs": [
    {
     "data": {
      "text/html": [
       "<div>\n",
       "<style scoped>\n",
       "    .dataframe tbody tr th:only-of-type {\n",
       "        vertical-align: middle;\n",
       "    }\n",
       "\n",
       "    .dataframe tbody tr th {\n",
       "        vertical-align: top;\n",
       "    }\n",
       "\n",
       "    .dataframe thead th {\n",
       "        text-align: right;\n",
       "    }\n",
       "</style>\n",
       "<table border=\"1\" class=\"dataframe\">\n",
       "  <thead>\n",
       "    <tr style=\"text-align: right;\">\n",
       "      <th></th>\n",
       "      <th>parents</th>\n",
       "      <th>has_nurs</th>\n",
       "      <th>form</th>\n",
       "      <th>children</th>\n",
       "      <th>housing</th>\n",
       "      <th>finance</th>\n",
       "      <th>social</th>\n",
       "      <th>health</th>\n",
       "      <th>final evaluation</th>\n",
       "    </tr>\n",
       "  </thead>\n",
       "  <tbody>\n",
       "    <tr>\n",
       "      <th>0</th>\n",
       "      <td>1</td>\n",
       "      <td>1</td>\n",
       "      <td>1</td>\n",
       "      <td>1</td>\n",
       "      <td>1</td>\n",
       "      <td>1</td>\n",
       "      <td>1</td>\n",
       "      <td>2</td>\n",
       "      <td>2</td>\n",
       "    </tr>\n",
       "    <tr>\n",
       "      <th>1</th>\n",
       "      <td>1</td>\n",
       "      <td>1</td>\n",
       "      <td>1</td>\n",
       "      <td>1</td>\n",
       "      <td>1</td>\n",
       "      <td>1</td>\n",
       "      <td>1</td>\n",
       "      <td>3</td>\n",
       "      <td>4</td>\n",
       "    </tr>\n",
       "    <tr>\n",
       "      <th>2</th>\n",
       "      <td>1</td>\n",
       "      <td>1</td>\n",
       "      <td>1</td>\n",
       "      <td>1</td>\n",
       "      <td>1</td>\n",
       "      <td>1</td>\n",
       "      <td>1</td>\n",
       "      <td>1</td>\n",
       "      <td>1</td>\n",
       "    </tr>\n",
       "    <tr>\n",
       "      <th>3</th>\n",
       "      <td>1</td>\n",
       "      <td>1</td>\n",
       "      <td>1</td>\n",
       "      <td>1</td>\n",
       "      <td>1</td>\n",
       "      <td>1</td>\n",
       "      <td>2</td>\n",
       "      <td>2</td>\n",
       "      <td>2</td>\n",
       "    </tr>\n",
       "    <tr>\n",
       "      <th>4</th>\n",
       "      <td>1</td>\n",
       "      <td>1</td>\n",
       "      <td>1</td>\n",
       "      <td>1</td>\n",
       "      <td>1</td>\n",
       "      <td>1</td>\n",
       "      <td>2</td>\n",
       "      <td>3</td>\n",
       "      <td>4</td>\n",
       "    </tr>\n",
       "    <tr>\n",
       "      <th>...</th>\n",
       "      <td>...</td>\n",
       "      <td>...</td>\n",
       "      <td>...</td>\n",
       "      <td>...</td>\n",
       "      <td>...</td>\n",
       "      <td>...</td>\n",
       "      <td>...</td>\n",
       "      <td>...</td>\n",
       "      <td>...</td>\n",
       "    </tr>\n",
       "    <tr>\n",
       "      <th>12955</th>\n",
       "      <td>3</td>\n",
       "      <td>5</td>\n",
       "      <td>4</td>\n",
       "      <td>4</td>\n",
       "      <td>3</td>\n",
       "      <td>2</td>\n",
       "      <td>2</td>\n",
       "      <td>3</td>\n",
       "      <td>5</td>\n",
       "    </tr>\n",
       "    <tr>\n",
       "      <th>12956</th>\n",
       "      <td>3</td>\n",
       "      <td>5</td>\n",
       "      <td>4</td>\n",
       "      <td>4</td>\n",
       "      <td>3</td>\n",
       "      <td>2</td>\n",
       "      <td>2</td>\n",
       "      <td>1</td>\n",
       "      <td>1</td>\n",
       "    </tr>\n",
       "    <tr>\n",
       "      <th>12957</th>\n",
       "      <td>3</td>\n",
       "      <td>5</td>\n",
       "      <td>4</td>\n",
       "      <td>4</td>\n",
       "      <td>3</td>\n",
       "      <td>2</td>\n",
       "      <td>3</td>\n",
       "      <td>2</td>\n",
       "      <td>5</td>\n",
       "    </tr>\n",
       "    <tr>\n",
       "      <th>12958</th>\n",
       "      <td>3</td>\n",
       "      <td>5</td>\n",
       "      <td>4</td>\n",
       "      <td>4</td>\n",
       "      <td>3</td>\n",
       "      <td>2</td>\n",
       "      <td>3</td>\n",
       "      <td>3</td>\n",
       "      <td>5</td>\n",
       "    </tr>\n",
       "    <tr>\n",
       "      <th>12959</th>\n",
       "      <td>3</td>\n",
       "      <td>5</td>\n",
       "      <td>4</td>\n",
       "      <td>4</td>\n",
       "      <td>3</td>\n",
       "      <td>2</td>\n",
       "      <td>3</td>\n",
       "      <td>1</td>\n",
       "      <td>1</td>\n",
       "    </tr>\n",
       "  </tbody>\n",
       "</table>\n",
       "<p>12960 rows × 9 columns</p>\n",
       "</div>"
      ],
      "text/plain": [
       "       parents  has_nurs  form  children  housing  finance  social  health  \\\n",
       "0            1         1     1         1        1        1       1       2   \n",
       "1            1         1     1         1        1        1       1       3   \n",
       "2            1         1     1         1        1        1       1       1   \n",
       "3            1         1     1         1        1        1       2       2   \n",
       "4            1         1     1         1        1        1       2       3   \n",
       "...        ...       ...   ...       ...      ...      ...     ...     ...   \n",
       "12955        3         5     4         4        3        2       2       3   \n",
       "12956        3         5     4         4        3        2       2       1   \n",
       "12957        3         5     4         4        3        2       3       2   \n",
       "12958        3         5     4         4        3        2       3       3   \n",
       "12959        3         5     4         4        3        2       3       1   \n",
       "\n",
       "       final evaluation  \n",
       "0                     2  \n",
       "1                     4  \n",
       "2                     1  \n",
       "3                     2  \n",
       "4                     4  \n",
       "...                 ...  \n",
       "12955                 5  \n",
       "12956                 1  \n",
       "12957                 5  \n",
       "12958                 5  \n",
       "12959                 1  \n",
       "\n",
       "[12960 rows x 9 columns]"
      ]
     },
     "execution_count": 144,
     "metadata": {},
     "output_type": "execute_result"
    }
   ],
   "source": [
    "df_num"
   ]
  },
  {
   "cell_type": "code",
   "execution_count": 189,
   "id": "7fa4bb04",
   "metadata": {},
   "outputs": [],
   "source": [
    "# Features are dropped according to their usefulness for the linear regression model.\n",
    "# final evaluation is target variable\n",
    "\n",
    "all_contexts = df_num.drop(['parents', 'has_nurs', 'social', 'social', 'final evaluation'], axis=1).to_numpy()\n",
    "# all_contexts = df_num.drop(['final evaluation'], axis=1).to_numpy()"
   ]
  },
  {
   "cell_type": "code",
   "execution_count": 190,
   "id": "57b62568",
   "metadata": {},
   "outputs": [
    {
     "data": {
      "text/plain": [
       "(12960, 5)"
      ]
     },
     "execution_count": 190,
     "metadata": {},
     "output_type": "execute_result"
    }
   ],
   "source": [
    "all_contexts.shape"
   ]
  },
  {
   "cell_type": "code",
   "execution_count": 191,
   "id": "28c93fe2",
   "metadata": {},
   "outputs": [
    {
     "data": {
      "text/plain": [
       "array([[1, 1, 1, 1, 2],\n",
       "       [1, 1, 1, 1, 3],\n",
       "       [1, 1, 1, 1, 1],\n",
       "       ...,\n",
       "       [4, 4, 3, 2, 2],\n",
       "       [4, 4, 3, 2, 3],\n",
       "       [4, 4, 3, 2, 1]], dtype=int8)"
      ]
     },
     "execution_count": 191,
     "metadata": {},
     "output_type": "execute_result"
    }
   ],
   "source": [
    "all_contexts"
   ]
  },
  {
   "cell_type": "code",
   "execution_count": 192,
   "id": "bcb46dfa",
   "metadata": {},
   "outputs": [],
   "source": [
    "y = df_num['final evaluation']"
   ]
  },
  {
   "cell_type": "code",
   "execution_count": 193,
   "id": "6494a2aa",
   "metadata": {},
   "outputs": [
    {
     "data": {
      "text/plain": [
       "328"
      ]
     },
     "execution_count": 193,
     "metadata": {},
     "output_type": "execute_result"
    }
   ],
   "source": [
    "np.sum(np.where(y == 3, 1, 0))"
   ]
  },
  {
   "cell_type": "code",
   "execution_count": 194,
   "id": "3ccfdc15",
   "metadata": {},
   "outputs": [],
   "source": [
    "unique = np.unique(y)\n",
    "all_rewards = np.zeros((y.shape[0], len(unique)))\n",
    "for n_arm, y_value in enumerate(unique):\n",
    "    all_rewards[:, n_arm] = np.where(y == y_value, 1, 0)\n",
    "    "
   ]
  },
  {
   "cell_type": "code",
   "execution_count": 195,
   "id": "d8fc26e4",
   "metadata": {},
   "outputs": [
    {
     "data": {
      "text/plain": [
       "array([[0., 1., 0., 0., 0.],\n",
       "       [0., 0., 0., 1., 0.],\n",
       "       [1., 0., 0., 0., 0.],\n",
       "       ...,\n",
       "       [0., 0., 0., 0., 1.],\n",
       "       [0., 0., 0., 0., 1.],\n",
       "       [1., 0., 0., 0., 0.]])"
      ]
     },
     "execution_count": 195,
     "metadata": {},
     "output_type": "execute_result"
    }
   ],
   "source": [
    "all_rewards"
   ]
  },
  {
   "cell_type": "code",
   "execution_count": 196,
   "id": "05a505b3",
   "metadata": {},
   "outputs": [
    {
     "data": {
      "text/plain": [
       "array([4320,    2,  328, 4266, 4044])"
      ]
     },
     "execution_count": 196,
     "metadata": {},
     "output_type": "execute_result"
    }
   ],
   "source": [
    "np.array(np.sum(all_rewards, axis=0), dtype=int)"
   ]
  },
  {
   "cell_type": "markdown",
   "id": "0c74e6ae",
   "metadata": {},
   "source": [
    "### Fixed costs"
   ]
  },
  {
   "cell_type": "code",
   "execution_count": 197,
   "id": "28da1bc7",
   "metadata": {},
   "outputs": [
    {
     "data": {
      "text/plain": [
       "(12960, 5)"
      ]
     },
     "execution_count": 197,
     "metadata": {},
     "output_type": "execute_result"
    }
   ],
   "source": [
    "costs_vector = np.zeros(all_contexts.shape)\n",
    "for i in range(all_contexts.shape[0]):\n",
    "    costs_vector[i, :] = np.array([0.01]*all_contexts.shape[1])\n",
    "\n",
    "costs_vector.shape"
   ]
  },
  {
   "cell_type": "code",
   "execution_count": 231,
   "id": "d41ea2a4",
   "metadata": {},
   "outputs": [
    {
     "data": {
      "text/plain": [
       "array([[0.01, 0.01, 0.01, 0.01, 0.01],\n",
       "       [0.01, 0.01, 0.01, 0.01, 0.01],\n",
       "       [0.01, 0.01, 0.01, 0.01, 0.01],\n",
       "       ...,\n",
       "       [0.01, 0.01, 0.01, 0.01, 0.01],\n",
       "       [0.01, 0.01, 0.01, 0.01, 0.01],\n",
       "       [0.01, 0.01, 0.01, 0.01, 0.01]])"
      ]
     },
     "execution_count": 231,
     "metadata": {},
     "output_type": "execute_result"
    }
   ],
   "source": [
    "costs_vector"
   ]
  },
  {
   "cell_type": "markdown",
   "id": "73fa202f",
   "metadata": {},
   "source": [
    "### Find which features are useful\n",
    "\n",
    "It might be useful to move this to another notebook later for better organization."
   ]
  },
  {
   "cell_type": "code",
   "execution_count": 198,
   "id": "b8bb3e48",
   "metadata": {},
   "outputs": [
    {
     "name": "stdout",
     "output_type": "stream",
     "text": [
      "0\n",
      "[[ 1.00874939e-06  1.00874939e-06  1.71216336e-06  7.00242432e-06\n",
      "  -1.18003277e+01]]\n",
      "1\n",
      "[[-1.00688966e+00 -1.00688966e+00 -9.20130877e-01 -6.75008481e-01\n",
      "  -2.88573527e-06]]\n",
      "2\n",
      "[[-3.50255274e-01 -5.25236207e-01 -1.03003203e+00 -7.12640611e-01\n",
      "  -5.93148020e-06]]\n",
      "3\n",
      "[[-0.09202874 -0.12760096 -0.22597658 -0.1828116   1.08822288]]\n",
      "4\n",
      "[[0.16874485 0.23693937 0.4233646  0.33768011 1.72468372]]\n"
     ]
    }
   ],
   "source": [
    "from sklearn.linear_model import LinearRegression, LogisticRegression\n",
    "\n",
    "\n",
    "coefs = np.zeros((5, all_contexts.shape[1]))\n",
    "for n_arm in range(5):\n",
    "    print(n_arm)\n",
    "    model = LogisticRegression()\n",
    "    model.fit(all_contexts, all_rewards[:, n_arm])\n",
    "    print(model.coef_)\n",
    "    coefs[n_arm, :] = model.coef_\n"
   ]
  },
  {
   "cell_type": "code",
   "execution_count": 199,
   "id": "6089edba",
   "metadata": {},
   "outputs": [
    {
     "data": {
      "text/plain": [
       "array([-0.25608556, -0.28455729, -0.35055463, -0.24655472, -1.79748598])"
      ]
     },
     "execution_count": 199,
     "metadata": {},
     "output_type": "execute_result"
    }
   ],
   "source": [
    "np.mean(coefs, axis= 0)"
   ]
  },
  {
   "cell_type": "code",
   "execution_count": null,
   "id": "0f925962",
   "metadata": {},
   "outputs": [],
   "source": []
  },
  {
   "cell_type": "markdown",
   "id": "fda5418e",
   "metadata": {},
   "source": [
    "## Algorithm evaluation"
   ]
  },
  {
   "cell_type": "code",
   "execution_count": 201,
   "id": "540a87f4",
   "metadata": {},
   "outputs": [],
   "source": [
    "NUM_OF_TRIALS = all_contexts.shape[0]"
   ]
  },
  {
   "cell_type": "code",
   "execution_count": 202,
   "id": "3732d633",
   "metadata": {},
   "outputs": [],
   "source": [
    "NUM_REPETITIONS = 5"
   ]
  },
  {
   "cell_type": "code",
   "execution_count": 203,
   "id": "8042c594",
   "metadata": {},
   "outputs": [],
   "source": [
    "np.random.seed(42)"
   ]
  },
  {
   "cell_type": "code",
   "execution_count": null,
   "id": "fba38262",
   "metadata": {},
   "outputs": [],
   "source": []
  },
  {
   "cell_type": "code",
   "execution_count": 204,
   "id": "989c14cc",
   "metadata": {
    "scrolled": true
   },
   "outputs": [
    {
     "name": "stdout",
     "output_type": "stream",
     "text": [
      "Random policy\n",
      "Total gain: 2652.0\n",
      "\tTotal reward: 2652.0\n",
      "\tTotal cost: 0\n",
      "Execution time: 0.1s\n",
      "\n",
      "Random policy\n",
      "Total gain: 2570.0\n",
      "\tTotal reward: 2570.0\n",
      "\tTotal cost: 0\n",
      "Execution time: 0.1s\n",
      "\n",
      "Random policy\n",
      "Total gain: 2519.0\n",
      "\tTotal reward: 2519.0\n",
      "\tTotal cost: 0\n",
      "Execution time: 0.1s\n",
      "\n",
      "Random policy\n",
      "Total gain: 2586.0\n",
      "\tTotal reward: 2586.0\n",
      "\tTotal cost: 0\n",
      "Execution time: 0.1s\n",
      "\n",
      "Random policy\n",
      "Total gain: 2619.0\n",
      "\tTotal reward: 2619.0\n",
      "\tTotal cost: 0\n",
      "Execution time: 0.1s\n",
      "\n",
      "Average gain: 2589.2\n"
     ]
    }
   ],
   "source": [
    "gains = np.zeros((NUM_REPETITIONS, NUM_OF_TRIALS))\n",
    "\n",
    "for i in range(NUM_REPETITIONS):\n",
    "    p_random = algorithms.RandomPolicy()\n",
    "    gain_random = evaluation.evaluate_on_synthetic_data(\n",
    "        p_random,\n",
    "        all_contexts,\n",
    "        all_rewards,\n",
    "        costs_vector,\n",
    "        stop_after=NUM_OF_TRIALS,\n",
    "    )\n",
    "    gains[i, :] = gain_random\n",
    "    \n",
    "gain_random = np.mean(gains, axis=0)\n",
    "print(f\"Average gain: {gain_random[-1]}\")"
   ]
  },
  {
   "cell_type": "code",
   "execution_count": 205,
   "id": "cf8f9ec8",
   "metadata": {
    "scrolled": true
   },
   "outputs": [
    {
     "name": "stdout",
     "output_type": "stream",
     "text": [
      "E-greedy(epsilon=0.01)\n",
      "Total gain: 4229.0\n",
      "\tTotal reward: 4229.0\n",
      "\tTotal cost: 0\n",
      "Execution time: 0.1s\n",
      "\n",
      "E-greedy(epsilon=0.01)\n",
      "Total gain: 4294.0\n",
      "\tTotal reward: 4294.0\n",
      "\tTotal cost: 0\n",
      "Execution time: 0.1s\n",
      "\n",
      "E-greedy(epsilon=0.01)\n",
      "Total gain: 4235.0\n",
      "\tTotal reward: 4235.0\n",
      "\tTotal cost: 0\n",
      "Execution time: 0.1s\n",
      "\n",
      "E-greedy(epsilon=0.01)\n",
      "Total gain: 4378.0\n",
      "\tTotal reward: 4378.0\n",
      "\tTotal cost: 0\n",
      "Execution time: 0.1s\n",
      "\n",
      "E-greedy(epsilon=0.01)\n",
      "Total gain: 4225.0\n",
      "\tTotal reward: 4225.0\n",
      "\tTotal cost: 0\n",
      "Execution time: 0.1s\n",
      "\n",
      "Average gain: 4272.2\n"
     ]
    }
   ],
   "source": [
    "gains = np.zeros((NUM_REPETITIONS, NUM_OF_TRIALS))\n",
    "for i in range(NUM_REPETITIONS):\n",
    "    egreedy = algorithms.EpsilonGreedy(epsilon=0.01, n_arms=all_rewards.shape[1])\n",
    "\n",
    "    gain_egreedy = evaluation.evaluate_on_synthetic_data(\n",
    "        egreedy,\n",
    "        all_contexts,\n",
    "        all_rewards,\n",
    "        costs_vector,\n",
    "        stop_after=NUM_OF_TRIALS,\n",
    "    )\n",
    "    gains[i, :] = gain_egreedy\n",
    "    \n",
    "gain_egreedy = np.mean(gains, axis=0)\n",
    "print(f\"Average gain: {gain_egreedy[-1]}\")"
   ]
  },
  {
   "cell_type": "code",
   "execution_count": 206,
   "id": "40698f6b",
   "metadata": {},
   "outputs": [
    {
     "name": "stdout",
     "output_type": "stream",
     "text": [
      "UCB1 (α=0.45)\n",
      "Total gain: 6645.0\n",
      "\tTotal reward: 6645.0\n",
      "\tTotal cost: 0\n",
      "Execution time: 0.1s\n",
      "\n",
      "UCB1 (α=0.45)\n",
      "Total gain: 6645.0\n",
      "\tTotal reward: 6645.0\n",
      "\tTotal cost: 0\n",
      "Execution time: 0.1s\n",
      "\n",
      "UCB1 (α=0.45)\n",
      "Total gain: 6645.0\n",
      "\tTotal reward: 6645.0\n",
      "\tTotal cost: 0\n",
      "Execution time: 0.1s\n",
      "\n",
      "UCB1 (α=0.45)\n",
      "Total gain: 6645.0\n",
      "\tTotal reward: 6645.0\n",
      "\tTotal cost: 0\n",
      "Execution time: 0.1s\n",
      "\n",
      "UCB1 (α=0.45)\n",
      "Total gain: 6645.0\n",
      "\tTotal reward: 6645.0\n",
      "\tTotal cost: 0\n",
      "Execution time: 0.1s\n",
      "\n",
      "Average gain: 6645.0\n"
     ]
    }
   ],
   "source": [
    "gains = np.zeros((NUM_REPETITIONS, NUM_OF_TRIALS))\n",
    "for i in range(NUM_REPETITIONS):\n",
    "    ucb_alg = algorithms.UCB1(\n",
    "            n_trials=NUM_OF_TRIALS,\n",
    "            n_arms=all_rewards.shape[1],\n",
    "            alpha=0.45,\n",
    "        )\n",
    "\n",
    "    gain_ucb = evaluation.evaluate_on_synthetic_data(\n",
    "        ucb_alg,\n",
    "        all_contexts,\n",
    "        all_rewards,\n",
    "        costs_vector,\n",
    "        stop_after=NUM_OF_TRIALS,\n",
    "    )\n",
    "    gains[i, :] = gain_ucb\n",
    "    \n",
    "gain_ucb = np.mean(gains, axis=0)\n",
    "print(f\"Average gain: {gain_ucb[-1]}\")"
   ]
  },
  {
   "cell_type": "code",
   "execution_count": 207,
   "id": "922c8bfb",
   "metadata": {
    "scrolled": false
   },
   "outputs": [
    {
     "name": "stdout",
     "output_type": "stream",
     "text": [
      "LinUCB (alpha=0.45)\n",
      "Total gain: 8697.999999998685\n",
      "\tTotal reward: 9346.0\n",
      "\tTotal cost: 647.9999999999584\n",
      "Execution time: 0.5s\n",
      "\n",
      "LinUCB (alpha=0.45)\n",
      "Total gain: 8697.999999998685\n",
      "\tTotal reward: 9346.0\n",
      "\tTotal cost: 647.9999999999584\n",
      "Execution time: 0.5s\n",
      "\n",
      "LinUCB (alpha=0.45)\n",
      "Total gain: 8697.999999998685\n",
      "\tTotal reward: 9346.0\n",
      "\tTotal cost: 647.9999999999584\n",
      "Execution time: 0.5s\n",
      "\n",
      "LinUCB (alpha=0.45)\n",
      "Total gain: 8697.999999998685\n",
      "\tTotal reward: 9346.0\n",
      "\tTotal cost: 647.9999999999584\n",
      "Execution time: 0.5s\n",
      "\n",
      "LinUCB (alpha=0.45)\n",
      "Total gain: 8697.999999998685\n",
      "\tTotal reward: 9346.0\n",
      "\tTotal cost: 647.9999999999584\n",
      "Execution time: 0.5s\n",
      "\n",
      "Average gain: 8697.999999998685\n"
     ]
    }
   ],
   "source": [
    "gains = np.zeros((NUM_REPETITIONS, NUM_OF_TRIALS))\n",
    "for i in range(NUM_REPETITIONS):\n",
    "\n",
    "    linucb = algorithms.LinUCB(\n",
    "        n_trials=NUM_OF_TRIALS,\n",
    "        context_dimension=all_contexts.shape[1],\n",
    "        n_arms=all_rewards.shape[1],\n",
    "        alpha=0.45,\n",
    "    )\n",
    "    gain_linucb = evaluation.evaluate_on_synthetic_data(\n",
    "        linucb,\n",
    "        all_contexts,\n",
    "        all_rewards,\n",
    "        costs_vector,\n",
    "        stop_after=NUM_OF_TRIALS,\n",
    "    )\n",
    "    gains[i, :] = gain_linucb\n",
    "\n",
    "gain_linucb = np.mean(gains, axis=0)\n",
    "print(f\"Average gain: {gain_linucb[-1]}\")"
   ]
  },
  {
   "cell_type": "code",
   "execution_count": 208,
   "id": "65015e52",
   "metadata": {
    "scrolled": false
   },
   "outputs": [
    {
     "name": "stdout",
     "output_type": "stream",
     "text": [
      "PSLinUCB (alpha=0.1, omega=500, delta=0.15)\n",
      "Total gain: 8851.999999998867\n",
      "\tTotal reward: 9500.0\n",
      "\tTotal cost: 647.9999999999584\n",
      "Execution time: 1.9s\n",
      "\n",
      "PSLinUCB (alpha=0.1, omega=500, delta=0.15)\n",
      "Total gain: 8851.999999998867\n",
      "\tTotal reward: 9500.0\n",
      "\tTotal cost: 647.9999999999584\n",
      "Execution time: 1.8s\n",
      "\n",
      "PSLinUCB (alpha=0.1, omega=500, delta=0.15)\n",
      "Total gain: 8851.999999998867\n",
      "\tTotal reward: 9500.0\n",
      "\tTotal cost: 647.9999999999584\n",
      "Execution time: 1.8s\n",
      "\n",
      "PSLinUCB (alpha=0.1, omega=500, delta=0.15)\n",
      "Total gain: 8851.999999998867\n",
      "\tTotal reward: 9500.0\n",
      "\tTotal cost: 647.9999999999584\n",
      "Execution time: 1.8s\n",
      "\n",
      "PSLinUCB (alpha=0.1, omega=500, delta=0.15)\n",
      "Total gain: 8851.999999998867\n",
      "\tTotal reward: 9500.0\n",
      "\tTotal cost: 647.9999999999584\n",
      "Execution time: 1.9s\n",
      "\n",
      "Average gain: 8851.999999998867\n"
     ]
    }
   ],
   "source": [
    "gains = np.zeros((NUM_REPETITIONS, NUM_OF_TRIALS))\n",
    "for i in range(NUM_REPETITIONS):\n",
    "    ps_linucb = algorithms.PSLinUCB(\n",
    "        n_trials=NUM_OF_TRIALS,\n",
    "        context_dimension=all_contexts.shape[1],\n",
    "        n_arms=all_rewards.shape[1],\n",
    "        alpha=0.1,\n",
    "        omega=500,\n",
    "        delta=0.15,\n",
    "    )\n",
    "\n",
    "\n",
    "    gain_pslinucb = evaluation.evaluate_on_synthetic_data(\n",
    "        ps_linucb,\n",
    "        all_contexts,\n",
    "        all_rewards,\n",
    "        costs_vector,\n",
    "        stop_after=NUM_OF_TRIALS,\n",
    "    )\n",
    "    change_points = ps_linucb.change_points\n",
    "    gains[i, :] = gain_pslinucb\n",
    "\n",
    "gain_pslinucb = np.mean(gains, axis=0)\n",
    "print(f\"Average gain: {gain_pslinucb[-1]}\")"
   ]
  },
  {
   "cell_type": "code",
   "execution_count": 209,
   "id": "9137e15b",
   "metadata": {},
   "outputs": [
    {
     "name": "stdout",
     "output_type": "stream",
     "text": [
      "Took 0.0026061534881591797 seconds\n",
      "Trial 0, time 2022-04-11 17:20:26.126370\n",
      "Trial 500, time 2022-04-11 17:21:24.601299\n",
      "Trial 1000, time 2022-04-11 17:22:29.701186\n",
      "Trial 1500, time 2022-04-11 17:23:34.476170\n",
      "Trial 2000, time 2022-04-11 17:24:16.260414\n",
      "Trial 2500, time 2022-04-11 17:24:23.813500\n",
      "Trial 3000, time 2022-04-11 17:24:26.619680\n",
      "Trial 3500, time 2022-04-11 17:24:26.979349\n",
      "Trial 4000, time 2022-04-11 17:24:27.476684\n",
      "Trial 4500, time 2022-04-11 17:24:27.978123\n",
      "Trial 5000, time 2022-04-11 17:24:28.346335\n",
      "Trial 5500, time 2022-04-11 17:24:28.702550\n",
      "Trial 6000, time 2022-04-11 17:24:29.063474\n",
      "Trial 6500, time 2022-04-11 17:24:29.415256\n",
      "Trial 7000, time 2022-04-11 17:24:29.909590\n",
      "Trial 7500, time 2022-04-11 17:24:30.277094\n",
      "Trial 8000, time 2022-04-11 17:24:30.653479\n",
      "Trial 8500, time 2022-04-11 17:24:31.004126\n",
      "Trial 9000, time 2022-04-11 17:24:31.362154\n",
      "Trial 9500, time 2022-04-11 17:24:31.713385\n",
      "Trial 10000, time 2022-04-11 17:24:32.079559\n",
      "Trial 10500, time 2022-04-11 17:24:32.465356\n",
      "Trial 11000, time 2022-04-11 17:24:32.816877\n",
      "Trial 11500, time 2022-04-11 17:24:33.186786\n",
      "Trial 12000, time 2022-04-11 17:24:33.540493\n",
      "Trial 12500, time 2022-04-11 17:24:34.046538\n",
      "SimOOS (beta=0.1, delta=0.08)\n",
      "Total gain: 6168.84999999858\n",
      "\tTotal reward: 6814.0\n",
      "\tTotal cost: 645.149999999961\n",
      "Execution time: 4.1m\n",
      "\n",
      "Took 248.276132106781 seconds\n",
      "Took 0.0017173290252685547 seconds\n",
      "Trial 0, time 2022-04-11 17:24:34.405062\n",
      "Trial 500, time 2022-04-11 17:25:03.913458\n",
      "Trial 1000, time 2022-04-11 17:25:10.223207\n",
      "Trial 1500, time 2022-04-11 17:25:10.599609\n",
      "Trial 2000, time 2022-04-11 17:25:11.711656\n",
      "Trial 2500, time 2022-04-11 17:25:12.219436\n",
      "Trial 3000, time 2022-04-11 17:25:26.748807\n",
      "Trial 3500, time 2022-04-11 17:25:27.887606\n",
      "Trial 4000, time 2022-04-11 17:25:28.392112\n",
      "Trial 4500, time 2022-04-11 17:25:30.750063\n",
      "Trial 5000, time 2022-04-11 17:25:32.461608\n",
      "Trial 5500, time 2022-04-11 17:25:32.898204\n",
      "Trial 6000, time 2022-04-11 17:25:33.150440\n",
      "Trial 6500, time 2022-04-11 17:25:33.529405\n",
      "Trial 7000, time 2022-04-11 17:25:34.665088\n",
      "Trial 7500, time 2022-04-11 17:25:34.920709\n",
      "Trial 8000, time 2022-04-11 17:25:35.172419\n",
      "Trial 8500, time 2022-04-11 17:25:35.442573\n",
      "Trial 9000, time 2022-04-11 17:25:35.702636\n",
      "Trial 9500, time 2022-04-11 17:25:36.518032\n",
      "Trial 10000, time 2022-04-11 17:25:36.926880\n",
      "Trial 10500, time 2022-04-11 17:25:37.300830\n",
      "Trial 11000, time 2022-04-11 17:25:38.108930\n",
      "Trial 11500, time 2022-04-11 17:25:38.379834\n",
      "Trial 12000, time 2022-04-11 17:25:38.669206\n",
      "Trial 12500, time 2022-04-11 17:25:38.943491\n",
      "SimOOS (beta=0.1, delta=0.08)\n",
      "Total gain: 6110.369999999982\n",
      "\tTotal reward: 6461.0\n",
      "\tTotal cost: 350.62999999991877\n",
      "Execution time: 1.1m\n",
      "\n",
      "Took 64.78160095214844 seconds\n",
      "Took 0.0016598701477050781 seconds\n",
      "Trial 0, time 2022-04-11 17:25:39.186857\n",
      "Trial 500, time 2022-04-11 17:25:52.974512\n",
      "Trial 1000, time 2022-04-11 17:26:20.290433\n",
      "Trial 1500, time 2022-04-11 17:26:22.691440\n",
      "Trial 2000, time 2022-04-11 17:26:23.077205\n",
      "Trial 2500, time 2022-04-11 17:26:36.400735\n",
      "Trial 3000, time 2022-04-11 17:26:37.034417\n",
      "Trial 3500, time 2022-04-11 17:26:37.936984\n",
      "Trial 4000, time 2022-04-11 17:26:39.226241\n",
      "Trial 4500, time 2022-04-11 17:26:40.249486\n",
      "Trial 5000, time 2022-04-11 17:26:41.402130\n",
      "Trial 5500, time 2022-04-11 17:26:42.031250\n",
      "Trial 6000, time 2022-04-11 17:26:42.566173\n",
      "Trial 6500, time 2022-04-11 17:26:42.804796\n",
      "Trial 7000, time 2022-04-11 17:26:43.056505\n",
      "Trial 7500, time 2022-04-11 17:26:43.422501\n",
      "Trial 8000, time 2022-04-11 17:26:43.925871\n",
      "Trial 8500, time 2022-04-11 17:26:44.964686\n",
      "Trial 9000, time 2022-04-11 17:26:45.591204\n",
      "Trial 9500, time 2022-04-11 17:26:45.846619\n",
      "Trial 10000, time 2022-04-11 17:26:46.098267\n",
      "Trial 10500, time 2022-04-11 17:26:46.349886\n",
      "Trial 11000, time 2022-04-11 17:26:46.604103\n",
      "Trial 11500, time 2022-04-11 17:26:48.755674\n",
      "Trial 12000, time 2022-04-11 17:26:49.413219\n",
      "Trial 12500, time 2022-04-11 17:26:49.797568\n",
      "SimOOS (beta=0.1, delta=0.08)\n",
      "Total gain: 6827.400000000406\n",
      "\tTotal reward: 7183.0\n",
      "\tTotal cost: 355.59999999992226\n",
      "Execution time: 1.2m\n",
      "\n",
      "Took 70.84125304222107 seconds\n",
      "Took 0.0014801025390625 seconds\n",
      "Trial 0, time 2022-04-11 17:26:50.029800\n",
      "Trial 500, time 2022-04-11 17:26:54.530126\n",
      "Trial 1000, time 2022-04-11 17:26:55.795546\n",
      "Trial 1500, time 2022-04-11 17:26:56.419344\n",
      "Trial 2000, time 2022-04-11 17:26:57.539709\n",
      "Trial 2500, time 2022-04-11 17:26:58.901768\n",
      "Trial 3000, time 2022-04-11 17:26:59.141405\n",
      "Trial 3500, time 2022-04-11 17:26:59.373629\n",
      "Trial 4000, time 2022-04-11 17:27:00.724547\n",
      "Trial 4500, time 2022-04-11 17:27:01.190889\n",
      "Trial 5000, time 2022-04-11 17:27:03.389081\n",
      "Trial 5500, time 2022-04-11 17:27:06.108737\n",
      "Trial 6000, time 2022-04-11 17:27:06.332011\n",
      "Trial 6500, time 2022-04-11 17:27:06.561536\n",
      "Trial 7000, time 2022-04-11 17:27:06.798956\n",
      "Trial 7500, time 2022-04-11 17:27:07.036706\n",
      "Trial 8000, time 2022-04-11 17:27:07.269687\n",
      "Trial 8500, time 2022-04-11 17:27:07.512068\n",
      "Trial 9000, time 2022-04-11 17:27:08.131595\n",
      "Trial 9500, time 2022-04-11 17:27:08.742251\n",
      "Trial 10000, time 2022-04-11 17:27:08.973192\n",
      "Trial 10500, time 2022-04-11 17:27:09.345705\n",
      "Trial 11000, time 2022-04-11 17:27:09.600703\n",
      "Trial 11500, time 2022-04-11 17:27:09.858971\n",
      "Trial 12000, time 2022-04-11 17:27:10.088722\n",
      "Trial 12500, time 2022-04-11 17:27:10.596071\n",
      "SimOOS (beta=0.1, delta=0.08)\n",
      "Total gain: 8707.349999997814\n",
      "\tTotal reward: 8832.0\n",
      "\tTotal cost: 124.65000000002686\n",
      "Execution time: 20.8s\n",
      "\n",
      "Took 20.800236701965332 seconds\n",
      "Took 0.0013778209686279297 seconds\n",
      "Trial 0, time 2022-04-11 17:27:10.831397\n",
      "Trial 500, time 2022-04-11 17:27:23.814195\n",
      "Trial 1000, time 2022-04-11 17:28:09.101808\n",
      "Trial 1500, time 2022-04-11 17:28:35.469323\n",
      "Trial 2000, time 2022-04-11 17:28:37.006591\n",
      "Trial 2500, time 2022-04-11 17:28:37.677582\n",
      "Trial 3000, time 2022-04-11 17:28:38.366008\n",
      "Trial 3500, time 2022-04-11 17:28:39.010965\n",
      "Trial 4000, time 2022-04-11 17:28:39.278592\n",
      "Trial 4500, time 2022-04-11 17:28:39.555546\n",
      "Trial 5000, time 2022-04-11 17:28:40.204597\n",
      "Trial 5500, time 2022-04-11 17:28:41.022389\n",
      "Trial 6000, time 2022-04-11 17:28:41.299651\n",
      "Trial 6500, time 2022-04-11 17:28:41.948334\n",
      "Trial 7000, time 2022-04-11 17:28:42.213938\n",
      "Trial 7500, time 2022-04-11 17:28:42.511245\n",
      "Trial 8000, time 2022-04-11 17:29:08.731158\n",
      "Trial 8500, time 2022-04-11 17:29:39.820562\n",
      "Trial 9000, time 2022-04-11 17:29:40.215244\n",
      "Trial 9500, time 2022-04-11 17:29:40.610292\n",
      "Trial 10000, time 2022-04-11 17:29:41.008268\n",
      "Trial 10500, time 2022-04-11 17:29:41.296607\n",
      "Trial 11000, time 2022-04-11 17:29:41.577222\n",
      "Trial 11500, time 2022-04-11 17:29:41.846908\n",
      "Trial 12000, time 2022-04-11 17:29:42.276835\n",
      "Trial 12500, time 2022-04-11 17:29:42.568280\n",
      "SimOOS (beta=0.1, delta=0.08)\n",
      "Total gain: 6880.420000000389\n",
      "\tTotal reward: 7375.0\n",
      "\tTotal cost: 494.580000000112\n",
      "Execution time: 2.5m\n",
      "\n",
      "Took 151.99630904197693 seconds\n",
      "Average gain: 6938.877999999434\n"
     ]
    }
   ],
   "source": [
    "gains = np.zeros((NUM_REPETITIONS, NUM_OF_TRIALS))\n",
    "for i in range(NUM_REPETITIONS):\n",
    "\n",
    "    s = time.time()\n",
    "    p_simoos = algorithms.SimOOSAlgorithm(\n",
    "        all_contexts=all_contexts, \n",
    "        number_of_actions=all_rewards.shape[1],\n",
    "        max_no_red_context=all_contexts.shape[1],\n",
    "        beta_SimOOS=0.1,\n",
    "        delta_SimOOS=0.08,\n",
    "    )\n",
    "    print(f\"Took {time.time() - s} seconds\")\n",
    "\n",
    "    import warnings\n",
    "    with warnings.catch_warnings():\n",
    "        warnings.simplefilter(\"ignore\")\n",
    "        s = time.time()\n",
    "        gain_simoos = evaluation.evaluate_on_synthetic_data(\n",
    "            p_simoos,\n",
    "            all_contexts[:NUM_OF_TRIALS],\n",
    "            all_rewards[:NUM_OF_TRIALS],\n",
    "            costs_vector[:NUM_OF_TRIALS],\n",
    "            stop_after=NUM_OF_TRIALS,\n",
    "        )\n",
    "        print(f\"Took {time.time() - s} seconds\")\n",
    "    gains[i, :] = gain_simoos\n",
    "\n",
    "gain_simoos = np.mean(gains, axis=0)\n",
    "print(f\"Average gain: {gain_simoos[-1]}\")"
   ]
  },
  {
   "cell_type": "code",
   "execution_count": 210,
   "id": "46c12357",
   "metadata": {},
   "outputs": [
    {
     "name": "stdout",
     "output_type": "stream",
     "text": [
      "Took 0.003528118133544922 seconds\n",
      "Round 0, time 2022-04-11 17:29:42.895899\n",
      "Round 500, time 2022-04-11 17:31:57.202504\n",
      "Round 1000, time 2022-04-11 17:40:17.152661\n",
      "Round 1500, time 2022-04-11 17:54:41.680993\n",
      "Round 2000, time 2022-04-11 18:07:21.155587\n",
      "Round 2500, time 2022-04-11 18:19:04.153166\n",
      "Round 3000, time 2022-04-11 18:31:52.629604\n",
      "Round 3500, time 2022-04-11 18:45:14.093382\n",
      "Round 4000, time 2022-04-11 18:58:18.954449\n",
      "Round 4500, time 2022-04-11 19:10:32.786176\n",
      "Round 5000, time 2022-04-11 19:23:31.970290\n",
      "Round 5500, time 2022-04-11 19:36:29.677202\n",
      "Round 6000, time 2022-04-11 19:49:33.178379\n",
      "Round 6500, time 2022-04-11 20:02:42.839648\n",
      "Round 7000, time 2022-04-11 20:15:35.979501\n",
      "Round 7500, time 2022-04-11 20:28:16.943347\n",
      "Round 8000, time 2022-04-11 20:40:37.189683\n",
      "Round 8500, time 2022-04-11 20:53:29.144006\n",
      "Round 9000, time 2022-04-11 21:05:52.090443\n",
      "Round 9500, time 2022-04-11 21:17:53.802374\n",
      "Round 10000, time 2022-04-11 21:30:45.045264\n",
      "Round 10500, time 2022-04-11 21:43:48.559450\n",
      "Round 11000, time 2022-04-11 21:56:54.407421\n",
      "Round 11500, time 2022-04-11 22:09:28.857319\n",
      "Round 12000, time 2022-04-11 22:21:20.136264\n",
      "Round 12500, time 2022-04-11 22:33:47.750966\n",
      "Algorithm1 (beta=1.0, delta=0.1, w=1000)\n",
      "Total gain: 6093.2\n",
      "\tTotal reward: 6094.0\n",
      "\tTotal cost: 0.8000000000000004\n",
      "Execution time: 320.1m\n",
      "\n",
      "Took 19203.334185123444 seconds\n"
     ]
    }
   ],
   "source": [
    "# gains = np.zeros((NUM_REPETITIONS, NUM_OF_TRIALS))\n",
    "# for i in range(NUM_REPETITIONS):\n",
    "\n",
    "s = time.time()\n",
    "p_alg1 = algorithms.Algorithm1(\n",
    "    all_contexts=all_contexts, \n",
    "    number_of_actions=all_rewards.shape[1],\n",
    "    max_no_red_context=all_contexts.shape[1],\n",
    "    beta=1.0,\n",
    "    delta=0.1,\n",
    "    window_length=1000,\n",
    ")\n",
    "print(f\"Took {time.time() - s} seconds\")\n",
    "\n",
    "import warnings\n",
    "with warnings.catch_warnings():\n",
    "    warnings.simplefilter(\"ignore\")\n",
    "    s = time.time()\n",
    "    gain_alg1 = evaluation.evaluate_on_synthetic_data(\n",
    "        p_alg1,\n",
    "        all_contexts[:NUM_OF_TRIALS],\n",
    "        all_rewards[:NUM_OF_TRIALS],\n",
    "        costs_vector[:NUM_OF_TRIALS],\n",
    "        stop_after=NUM_OF_TRIALS,\n",
    "    )\n",
    "    print(f\"Took {time.time() - s} seconds\")\n",
    "    gains[i, :] = gain_alg1\n",
    "\n",
    "# gain_alg1 = np.mean(gains, axis=0)\n",
    "# print(f\"Average gain: {gain_alg1[-1]}\")"
   ]
  },
  {
   "cell_type": "code",
   "execution_count": 211,
   "id": "23e75fd5",
   "metadata": {},
   "outputs": [],
   "source": [
    "def plot_gains(gain_dict, change_points=()):\n",
    "    fig, ax = plt.subplots(1,1, figsize=(11, 6));\n",
    "        \n",
    "    max_vline=0\n",
    "    \n",
    "    ind_to_params = {\n",
    "        # ind: (mark, color)\n",
    "        0: ('x', 'k'),\n",
    "        1: ('o','g'),\n",
    "        2: ('s','r'),\n",
    "        3: ('^','blue'),\n",
    "        4: ('d','olive'),\n",
    "        5: ('>', 'm'),\n",
    "        6: ('*', 'c'),\n",
    "    }\n",
    "    \n",
    "    sorted_gain_dict = {\n",
    "        k:v for k,v in sorted(gain_dict.items(), key=lambda x: x[1][-1], reverse=True)\n",
    "    }\n",
    "    \n",
    "    for ind, (label, gain) in enumerate(sorted_gain_dict.items()):\n",
    "        \n",
    "        mark, color = ind_to_params[ind]\n",
    "        ax.plot(gain, label=label, linestyle=':', marker=mark, markevery=750, fillstyle='none', color=color)\n",
    "        max_vline=max(max_vline, max(gain))\n",
    "    \n",
    "    extraticks = [1, 500, 1000]\n",
    "    plt.xticks(list(plt.xticks()[0][2:-1]) + extraticks, rotation=35, fontsize=16)\n",
    "    plt.yticks(fontsize=16)\n",
    "    \n",
    "    ax.set_xlabel('Time step', fontsize=20)\n",
    "    ax.set_ylabel('Cumulative gain', fontsize=20)\n",
    "    \n",
    "\n",
    "\n",
    "    plt.legend(prop={'size': 16});\n",
    "    plt.show();"
   ]
  },
  {
   "cell_type": "code",
   "execution_count": 212,
   "id": "60403c13",
   "metadata": {},
   "outputs": [
    {
     "data": {
      "text/plain": [
       "(12960,)"
      ]
     },
     "execution_count": 212,
     "metadata": {},
     "output_type": "execute_result"
    }
   ],
   "source": [
    "(gain_egreedy / gain_random).shape"
   ]
  },
  {
   "cell_type": "code",
   "execution_count": 213,
   "id": "0ffd86fe",
   "metadata": {
    "scrolled": false
   },
   "outputs": [
    {
     "data": {
      "image/png": "[encoded data removed]",
      "text/plain": [
       "<Figure size 792x432 with 1 Axes>"
      ]
     },
     "metadata": {
      "needs_background": "light"
     },
     "output_type": "display_data"
    }
   ],
   "source": [
    "plot_gains({\n",
    "    'Random': gain_random,\n",
    "    'E-greedy': gain_egreedy,\n",
    "    'UCB1': gain_ucb,\n",
    "    'LinUCB': gain_linucb,\n",
    "    'PS-LinUCB': gain_pslinucb,\n",
    "    'SimOOS': gain_simoos,\n",
    "    'Algorithm1': gain_alg1,\n",
    "},\n",
    ")\n"
   ]
  },
  {
   "cell_type": "raw",
   "id": "6a4332db",
   "metadata": {},
   "source": []
  },
  {
   "cell_type": "code",
   "execution_count": null,
   "id": "4b6eb78e",
   "metadata": {},
   "outputs": [],
   "source": []
  },
  {
   "cell_type": "markdown",
   "id": "a1f22f9e",
   "metadata": {},
   "source": [
    "# Adding non-stationarity\n"
   ]
  },
  {
   "cell_type": "code",
   "execution_count": 214,
   "id": "7596b654",
   "metadata": {},
   "outputs": [],
   "source": [
    "inverted_regions = [\n",
    "    slice(3000, 7000),\n",
    "#     slice(6000, 7000),\n",
    "]"
   ]
  },
  {
   "cell_type": "code",
   "execution_count": 215,
   "id": "e013968c",
   "metadata": {},
   "outputs": [
    {
     "data": {
      "text/plain": [
       "array([0, 0, 0, 0, 0])"
      ]
     },
     "execution_count": 215,
     "metadata": {},
     "output_type": "execute_result"
    }
   ],
   "source": [
    "# We invert arm 0 with 1 and 2 with 3 (\n",
    "np.array(np.mean(all_rewards, axis=0), dtype=int)"
   ]
  },
  {
   "cell_type": "code",
   "execution_count": 216,
   "id": "33a9d0fe",
   "metadata": {},
   "outputs": [],
   "source": [
    "arm_from_to = {\n",
    "    0: 1,\n",
    "    1: 0,\n",
    "    2: 3,\n",
    "    3: 2\n",
    "}"
   ]
  },
  {
   "cell_type": "code",
   "execution_count": 217,
   "id": "2ad6b353",
   "metadata": {},
   "outputs": [],
   "source": [
    "new_rewards = np.copy(all_rewards)\n",
    "new_contexts = np.copy(all_contexts)\n",
    "\n",
    "for region in inverted_regions:\n",
    "    for arm_from in arm_from_to:\n",
    "        arm_to = arm_from_to[arm_from]\n",
    "        \n",
    "        new_rewards[region, arm_to] = all_rewards[region, arm_from]\n",
    "        "
   ]
  },
  {
   "cell_type": "code",
   "execution_count": 218,
   "id": "1fcad487",
   "metadata": {},
   "outputs": [
    {
     "data": {
      "text/plain": [
       "((12960, 5), (12960, 5))"
      ]
     },
     "execution_count": 218,
     "metadata": {},
     "output_type": "execute_result"
    }
   ],
   "source": [
    "new_contexts.shape, new_rewards.shape"
   ]
  },
  {
   "cell_type": "code",
   "execution_count": null,
   "id": "daec2cc7",
   "metadata": {},
   "outputs": [],
   "source": []
  },
  {
   "cell_type": "code",
   "execution_count": null,
   "id": "28de8f86",
   "metadata": {},
   "outputs": [],
   "source": []
  },
  {
   "cell_type": "markdown",
   "id": "cd6b31a0",
   "metadata": {},
   "source": [
    "## Testing on non-stationary data"
   ]
  },
  {
   "cell_type": "code",
   "execution_count": 219,
   "id": "51f47053",
   "metadata": {},
   "outputs": [],
   "source": [
    "np.random.seed(42)"
   ]
  },
  {
   "cell_type": "code",
   "execution_count": 220,
   "id": "93422c03",
   "metadata": {
    "scrolled": true
   },
   "outputs": [
    {
     "name": "stdout",
     "output_type": "stream",
     "text": [
      "Random policy\n",
      "Total gain: 2616.0\n",
      "\tTotal reward: 2616.0\n",
      "\tTotal cost: 0\n",
      "Execution time: 0.1s\n",
      "\n",
      "Random policy\n",
      "Total gain: 2550.0\n",
      "\tTotal reward: 2550.0\n",
      "\tTotal cost: 0\n",
      "Execution time: 0.1s\n",
      "\n",
      "Random policy\n",
      "Total gain: 2566.0\n",
      "\tTotal reward: 2566.0\n",
      "\tTotal cost: 0\n",
      "Execution time: 0.1s\n",
      "\n",
      "Random policy\n",
      "Total gain: 2594.0\n",
      "\tTotal reward: 2594.0\n",
      "\tTotal cost: 0\n",
      "Execution time: 0.1s\n",
      "\n",
      "Random policy\n",
      "Total gain: 2581.0\n",
      "\tTotal reward: 2581.0\n",
      "\tTotal cost: 0\n",
      "Execution time: 0.1s\n",
      "\n",
      "Average gain: 2581.4\n"
     ]
    }
   ],
   "source": [
    "gains = np.zeros((NUM_REPETITIONS, NUM_OF_TRIALS))\n",
    "\n",
    "for i in range(NUM_REPETITIONS):\n",
    "    p_random = algorithms.RandomPolicy()\n",
    "    gain_random = evaluation.evaluate_on_synthetic_data(\n",
    "        p_random,\n",
    "        new_contexts,\n",
    "        new_rewards,\n",
    "        costs_vector,\n",
    "        stop_after=NUM_OF_TRIALS,\n",
    "    )\n",
    "    gains[i, :] = gain_random\n",
    "    \n",
    "gain_random = np.mean(gains, axis=0)\n",
    "print(f\"Average gain: {gain_random[-1]}\")"
   ]
  },
  {
   "cell_type": "code",
   "execution_count": 221,
   "id": "1b2522d9",
   "metadata": {
    "scrolled": true
   },
   "outputs": [
    {
     "name": "stdout",
     "output_type": "stream",
     "text": [
      "E-greedy(epsilon=0.01)\n",
      "Total gain: 3767.0\n",
      "\tTotal reward: 3767.0\n",
      "\tTotal cost: 0\n",
      "Execution time: 0.1s\n",
      "\n",
      "E-greedy(epsilon=0.01)\n",
      "Total gain: 3038.0\n",
      "\tTotal reward: 3038.0\n",
      "\tTotal cost: 0\n",
      "Execution time: 0.1s\n",
      "\n",
      "E-greedy(epsilon=0.01)\n",
      "Total gain: 3695.0\n",
      "\tTotal reward: 3695.0\n",
      "\tTotal cost: 0\n",
      "Execution time: 0.1s\n",
      "\n",
      "E-greedy(epsilon=0.01)\n",
      "Total gain: 3548.0\n",
      "\tTotal reward: 3548.0\n",
      "\tTotal cost: 0\n",
      "Execution time: 0.1s\n",
      "\n",
      "E-greedy(epsilon=0.01)\n",
      "Total gain: 3726.0\n",
      "\tTotal reward: 3726.0\n",
      "\tTotal cost: 0\n",
      "Execution time: 0.1s\n",
      "\n",
      "Average gain: 3554.8\n"
     ]
    }
   ],
   "source": [
    "gains = np.zeros((NUM_REPETITIONS, NUM_OF_TRIALS))\n",
    "for i in range(NUM_REPETITIONS):\n",
    "    egreedy = algorithms.EpsilonGreedy(epsilon=0.01, n_arms=new_rewards.shape[1])\n",
    "\n",
    "    gain_egreedy = evaluation.evaluate_on_synthetic_data(\n",
    "        egreedy,\n",
    "        new_contexts,\n",
    "        new_rewards,\n",
    "        costs_vector,\n",
    "        stop_after=NUM_OF_TRIALS,\n",
    "    )\n",
    "    gains[i, :] = gain_egreedy\n",
    "    \n",
    "gain_egreedy = np.mean(gains, axis=0)\n",
    "print(f\"Average gain: {gain_egreedy[-1]}\")"
   ]
  },
  {
   "cell_type": "code",
   "execution_count": 222,
   "id": "674f8082",
   "metadata": {
    "scrolled": true
   },
   "outputs": [
    {
     "name": "stdout",
     "output_type": "stream",
     "text": [
      "UCB1 (α=0.45)\n",
      "Total gain: 6297.0\n",
      "\tTotal reward: 6297.0\n",
      "\tTotal cost: 0\n",
      "Execution time: 0.1s\n",
      "\n"
     ]
    }
   ],
   "source": [
    "ucb_alg = algorithms.UCB1(\n",
    "        n_trials=NUM_OF_TRIALS,\n",
    "        n_arms=new_rewards.shape[1],\n",
    "        alpha=0.45,\n",
    "    )\n",
    "\n",
    "gain_ucb = evaluation.evaluate_on_synthetic_data(\n",
    "    ucb_alg,\n",
    "    new_contexts,\n",
    "    new_rewards,\n",
    "    costs_vector,\n",
    "    stop_after=NUM_OF_TRIALS,\n",
    ")\n",
    "gains[i, :] = gain_ucb\n",
    "\n"
   ]
  },
  {
   "cell_type": "code",
   "execution_count": 223,
   "id": "1fcf6125",
   "metadata": {
    "scrolled": true
   },
   "outputs": [
    {
     "name": "stdout",
     "output_type": "stream",
     "text": [
      "LinUCB (alpha=0.45)\n",
      "Total gain: 7072.999999998172\n",
      "\tTotal reward: 7721.0\n",
      "\tTotal cost: 647.9999999999584\n",
      "Execution time: 1.0s\n",
      "\n"
     ]
    }
   ],
   "source": [
    "linucb = algorithms.LinUCB(\n",
    "    n_trials=NUM_OF_TRIALS,\n",
    "    context_dimension=new_contexts.shape[1],\n",
    "    n_arms=new_rewards.shape[1],\n",
    "    alpha=0.45,\n",
    ")\n",
    "gain_linucb = evaluation.evaluate_on_synthetic_data(\n",
    "    linucb,\n",
    "    new_contexts,\n",
    "    new_rewards,\n",
    "    costs_vector,\n",
    "    stop_after=NUM_OF_TRIALS,\n",
    ")\n",
    "gains[i, :] = gain_linucb\n",
    "\n"
   ]
  },
  {
   "cell_type": "code",
   "execution_count": 237,
   "id": "1c6ea25f",
   "metadata": {
    "scrolled": true
   },
   "outputs": [
    {
     "name": "stdout",
     "output_type": "stream",
     "text": [
      "PSLinUCB (alpha=0.1, omega=500, delta=0.15)\n",
      "Total gain: 5977.99999999817\n",
      "\tTotal reward: 6626.0\n",
      "\tTotal cost: 647.9999999999584\n",
      "Execution time: 1.2s\n",
      "\n"
     ]
    }
   ],
   "source": [
    "ps_linucb = algorithms.PSLinUCB(\n",
    "    n_trials=NUM_OF_TRIALS,\n",
    "    context_dimension=new_contexts.shape[1],\n",
    "    n_arms=new_rewards.shape[1],\n",
    "    alpha=0.1,\n",
    "    omega=500,\n",
    "    delta=0.15,\n",
    ")\n",
    "\n",
    "\n",
    "gain_pslinucb = evaluation.evaluate_on_synthetic_data(\n",
    "    ps_linucb,\n",
    "    new_contexts,\n",
    "    new_rewards,\n",
    "    costs_vector,\n",
    "    stop_after=NUM_OF_TRIALS,\n",
    ")\n",
    "change_points = ps_linucb.change_points\n",
    "gains[i, :] = gain_pslinucb\n",
    "\n"
   ]
  },
  {
   "cell_type": "code",
   "execution_count": 225,
   "id": "dd2e010e",
   "metadata": {
    "scrolled": false
   },
   "outputs": [
    {
     "name": "stdout",
     "output_type": "stream",
     "text": [
      "Took 0.00519108772277832 seconds\n",
      "Trial 0, time 2022-04-11 22:49:50.264727\n",
      "Trial 500, time 2022-04-11 22:51:01.074487\n",
      "Trial 1000, time 2022-04-11 22:52:21.917303\n",
      "Trial 1500, time 2022-04-11 22:53:42.474457\n",
      "Trial 2000, time 2022-04-11 22:54:34.496554\n",
      "Trial 2500, time 2022-04-11 22:54:43.948701\n",
      "Trial 3000, time 2022-04-11 22:54:47.743116\n",
      "Trial 3500, time 2022-04-11 22:54:48.250782\n",
      "Trial 4000, time 2022-04-11 22:54:48.922318\n",
      "Trial 4500, time 2022-04-11 22:54:49.537349\n",
      "Trial 5000, time 2022-04-11 22:54:50.253264\n",
      "Trial 5500, time 2022-04-11 22:54:50.832016\n",
      "Trial 6000, time 2022-04-11 22:54:51.200073\n",
      "Trial 6500, time 2022-04-11 22:54:51.784136\n",
      "Trial 7000, time 2022-04-11 22:54:52.575077\n",
      "Trial 7500, time 2022-04-11 22:54:54.156362\n",
      "Trial 8000, time 2022-04-11 22:54:54.920696\n",
      "Trial 8500, time 2022-04-11 22:54:55.383433\n",
      "Trial 9000, time 2022-04-11 22:54:56.192091\n",
      "Trial 9500, time 2022-04-11 22:54:56.574047\n",
      "Trial 10000, time 2022-04-11 22:54:56.966409\n",
      "Trial 10500, time 2022-04-11 22:54:57.505109\n",
      "Trial 11000, time 2022-04-11 22:54:58.152679\n",
      "Trial 11500, time 2022-04-11 22:54:58.794227\n",
      "Trial 12000, time 2022-04-11 22:54:59.353147\n",
      "Trial 12500, time 2022-04-11 22:54:59.746549\n",
      "SimOOS (beta=0.1, delta=0.08)\n",
      "Total gain: 3508.2499999996467\n",
      "\tTotal reward: 4149.0\n",
      "\tTotal cost: 640.749999999965\n",
      "Execution time: 5.2m\n",
      "\n",
      "Took 309.8536801338196 seconds\n",
      "Took 0.004816770553588867 seconds\n",
      "Trial 0, time 2022-04-11 22:55:00.124480\n",
      "Trial 500, time 2022-04-11 22:55:36.524097\n",
      "Trial 1000, time 2022-04-11 22:55:44.290411\n",
      "Trial 1500, time 2022-04-11 22:55:44.715847\n",
      "Trial 2000, time 2022-04-11 22:55:46.432529\n",
      "Trial 2500, time 2022-04-11 22:55:47.006014\n",
      "Trial 3000, time 2022-04-11 22:56:04.972650\n",
      "Trial 3500, time 2022-04-11 22:56:06.463789\n",
      "Trial 4000, time 2022-04-11 22:56:07.674575\n",
      "Trial 4500, time 2022-04-11 22:56:08.176858\n",
      "Trial 5000, time 2022-04-11 22:56:08.418137\n",
      "Trial 5500, time 2022-04-11 22:56:12.494542\n",
      "Trial 6000, time 2022-04-11 22:56:15.720828\n",
      "Trial 6500, time 2022-04-11 22:56:16.253520\n",
      "Trial 7000, time 2022-04-11 22:56:16.521093\n",
      "Trial 7500, time 2022-04-11 22:56:16.780957\n",
      "Trial 8000, time 2022-04-11 22:56:17.051483\n",
      "Trial 8500, time 2022-04-11 22:56:17.651701\n",
      "Trial 9000, time 2022-04-11 22:56:21.330681\n",
      "Trial 9500, time 2022-04-11 22:56:25.322413\n",
      "Trial 10000, time 2022-04-11 22:56:29.203045\n",
      "Trial 10500, time 2022-04-11 22:56:33.770153\n",
      "Trial 11000, time 2022-04-11 22:56:34.315848\n",
      "Trial 11500, time 2022-04-11 22:56:37.223803\n",
      "Trial 12000, time 2022-04-11 22:56:37.802930\n",
      "Trial 12500, time 2022-04-11 22:56:38.034532\n",
      "SimOOS (beta=0.1, delta=0.08)\n",
      "Total gain: 3349.3899999992445\n",
      "\tTotal reward: 3639.0\n",
      "\tTotal cost: 289.6099999999782\n",
      "Execution time: 1.6m\n",
      "\n",
      "Took 98.1255350112915 seconds\n",
      "Took 0.007852792739868164 seconds\n",
      "Trial 0, time 2022-04-11 22:56:38.257633\n",
      "Trial 500, time 2022-04-11 22:56:55.814019\n",
      "Trial 1000, time 2022-04-11 22:57:30.056375\n",
      "Trial 1500, time 2022-04-11 22:57:32.915949\n",
      "Trial 2000, time 2022-04-11 22:57:33.434907\n",
      "Trial 2500, time 2022-04-11 22:57:50.686493\n",
      "Trial 3000, time 2022-04-11 22:57:51.648837\n",
      "Trial 3500, time 2022-04-11 22:57:53.495145\n",
      "Trial 4000, time 2022-04-11 22:57:54.239069\n",
      "Trial 4500, time 2022-04-11 22:57:54.825592\n",
      "Trial 5000, time 2022-04-11 22:57:55.296340\n",
      "Trial 5500, time 2022-04-11 22:57:58.281813\n",
      "Trial 6000, time 2022-04-11 22:58:02.122432\n",
      "Trial 6500, time 2022-04-11 22:58:02.400599\n",
      "Trial 7000, time 2022-04-11 22:58:02.685354\n",
      "Trial 7500, time 2022-04-11 22:58:05.656094\n",
      "Trial 8000, time 2022-04-11 22:58:07.869613\n",
      "Trial 8500, time 2022-04-11 22:58:08.305404\n",
      "Trial 9000, time 2022-04-11 22:58:08.723518\n",
      "Trial 9500, time 2022-04-11 22:58:08.985918\n",
      "Trial 10000, time 2022-04-11 22:58:10.983846\n",
      "Trial 10500, time 2022-04-11 22:58:12.710357\n",
      "Trial 11000, time 2022-04-11 22:58:13.744493\n",
      "Trial 11500, time 2022-04-11 22:58:16.076603\n",
      "Trial 12000, time 2022-04-11 22:58:17.216283\n",
      "Trial 12500, time 2022-04-11 22:58:17.949225\n",
      "SimOOS (beta=0.1, delta=0.08)\n",
      "Total gain: 5990.100000000234\n",
      "\tTotal reward: 6341.0\n",
      "\tTotal cost: 350.89999999992483\n",
      "Execution time: 1.7m\n",
      "\n",
      "Took 100.12405204772949 seconds\n",
      "Took 0.004678964614868164 seconds\n",
      "Trial 0, time 2022-04-11 22:58:18.386468\n",
      "Trial 500, time 2022-04-11 22:58:24.244215\n",
      "Trial 1000, time 2022-04-11 22:58:25.733509\n",
      "Trial 1500, time 2022-04-11 22:58:26.486255\n",
      "Trial 2000, time 2022-04-11 22:58:28.281972\n",
      "Trial 2500, time 2022-04-11 22:58:29.828188\n",
      "Trial 3000, time 2022-04-11 22:58:30.068293\n",
      "Trial 3500, time 2022-04-11 22:58:30.358612\n",
      "Trial 4000, time 2022-04-11 22:58:32.344471\n",
      "Trial 4500, time 2022-04-11 22:58:35.077271\n",
      "Trial 5000, time 2022-04-11 22:58:39.231629\n",
      "Trial 5500, time 2022-04-11 22:58:40.486735\n",
      "Trial 6000, time 2022-04-11 22:58:40.835028\n",
      "Trial 6500, time 2022-04-11 22:58:41.229424\n",
      "Trial 7000, time 2022-04-11 22:58:41.486899\n",
      "Trial 7500, time 2022-04-11 22:58:41.737872\n",
      "Trial 8000, time 2022-04-11 22:58:42.039728\n",
      "Trial 8500, time 2022-04-11 22:58:50.516831\n",
      "Trial 9000, time 2022-04-11 22:58:51.209040\n",
      "Trial 9500, time 2022-04-11 22:58:51.701187\n",
      "Trial 10000, time 2022-04-11 22:58:52.259990\n",
      "Trial 10500, time 2022-04-11 22:58:52.765004\n",
      "Trial 11000, time 2022-04-11 22:58:52.973869\n",
      "Trial 11500, time 2022-04-11 22:58:53.198277\n",
      "Trial 12000, time 2022-04-11 22:58:53.429453\n",
      "Trial 12500, time 2022-04-11 22:58:53.926005\n",
      "SimOOS (beta=0.1, delta=0.08)\n",
      "Total gain: 6098.149999997919\n",
      "\tTotal reward: 6218.0\n",
      "\tTotal cost: 119.85000000002441\n",
      "Execution time: 35.8s\n",
      "\n",
      "Took 35.80642223358154 seconds\n",
      "Took 0.009343862533569336 seconds\n",
      "Trial 0, time 2022-04-11 22:58:54.202518\n",
      "Trial 500, time 2022-04-11 22:59:10.691051\n",
      "Trial 1000, time 2022-04-11 23:00:07.858613\n",
      "Trial 1500, time 2022-04-11 23:00:41.183649\n",
      "Trial 2000, time 2022-04-11 23:00:43.177080\n",
      "Trial 2500, time 2022-04-11 23:00:44.329960\n",
      "Trial 3000, time 2022-04-11 23:00:45.229887\n",
      "Trial 3500, time 2022-04-11 23:00:45.657415\n",
      "Trial 4000, time 2022-04-11 23:00:45.953534\n",
      "Trial 4500, time 2022-04-11 23:00:46.240849\n",
      "Trial 5000, time 2022-04-11 23:01:08.443736\n",
      "Trial 5500, time 2022-04-11 23:02:00.845412\n",
      "Trial 6000, time 2022-04-11 23:02:02.773082\n",
      "Trial 6500, time 2022-04-11 23:02:03.990951\n",
      "Trial 7000, time 2022-04-11 23:02:04.748523\n",
      "Trial 7500, time 2022-04-11 23:02:05.053639\n",
      "Trial 8000, time 2022-04-11 23:02:05.830877\n",
      "Trial 8500, time 2022-04-11 23:02:06.467129\n",
      "Trial 9000, time 2022-04-11 23:02:07.235799\n",
      "Trial 9500, time 2022-04-11 23:02:11.968491\n",
      "Trial 10000, time 2022-04-11 23:02:14.304187\n",
      "Trial 10500, time 2022-04-11 23:02:20.566873\n",
      "Trial 11000, time 2022-04-11 23:02:27.411865\n",
      "Trial 11500, time 2022-04-11 23:02:28.232808\n",
      "Trial 12000, time 2022-04-11 23:02:28.825998\n",
      "Trial 12500, time 2022-04-11 23:02:29.262156\n",
      "SimOOS (beta=0.1, delta=0.08)\n",
      "Total gain: 4256.8800000004\n",
      "\tTotal reward: 4763.0\n",
      "\tTotal cost: 506.1200000001128\n",
      "Execution time: 3.6m\n",
      "\n",
      "Took 215.33773493766785 seconds\n",
      "Average gain: 4640.553999999489\n"
     ]
    }
   ],
   "source": [
    "gains = np.zeros((NUM_REPETITIONS, NUM_OF_TRIALS))\n",
    "for i in range(NUM_REPETITIONS):\n",
    "\n",
    "    s = time.time()\n",
    "    p_simoos = algorithms.SimOOSAlgorithm(\n",
    "        all_contexts=new_contexts, \n",
    "        number_of_actions=new_rewards.shape[1],\n",
    "        max_no_red_context=new_contexts.shape[1],\n",
    "        beta_SimOOS=0.1,\n",
    "        delta_SimOOS=0.08,\n",
    "    )\n",
    "    print(f\"Took {time.time() - s} seconds\")\n",
    "\n",
    "    import warnings\n",
    "    with warnings.catch_warnings():\n",
    "        warnings.simplefilter(\"ignore\")\n",
    "        s = time.time()\n",
    "        gain_simoos = evaluation.evaluate_on_synthetic_data(\n",
    "            p_simoos,\n",
    "            new_contexts[:NUM_OF_TRIALS],\n",
    "            new_rewards[:NUM_OF_TRIALS],\n",
    "            costs_vector[:NUM_OF_TRIALS],\n",
    "            stop_after=NUM_OF_TRIALS,\n",
    "        )\n",
    "        print(f\"Took {time.time() - s} seconds\")\n",
    "    gains[i, :] = gain_simoos\n",
    "\n",
    "gain_simoos = np.mean(gains, axis=0)\n",
    "print(f\"Average gain: {gain_simoos[-1]}\")"
   ]
  },
  {
   "cell_type": "code",
   "execution_count": 226,
   "id": "91e3d3b5",
   "metadata": {
    "scrolled": false
   },
   "outputs": [
    {
     "name": "stdout",
     "output_type": "stream",
     "text": [
      "Took 0.04187488555908203 seconds\n",
      "Round 0, time 2022-04-11 23:02:29.706209\n",
      "Round 500, time 2022-04-11 23:07:10.614721\n",
      "Round 1000, time 2022-04-11 23:22:54.836873\n",
      "Round 1500, time 2022-04-11 23:46:17.588665\n",
      "Round 2000, time 2022-04-12 00:09:51.438772\n",
      "Round 2500, time 2022-04-12 00:33:46.348214\n",
      "Round 3000, time 2022-04-12 00:57:27.581038\n",
      "Round 3500, time 2022-04-12 01:21:46.496573\n",
      "Round 4000, time 2022-04-12 01:46:19.463525\n",
      "Round 4500, time 2022-04-12 02:10:59.691960\n",
      "Round 5000, time 2022-04-12 02:35:48.923548\n",
      "Round 5500, time 2022-04-12 03:00:30.684688\n",
      "Round 6000, time 2022-04-12 03:25:17.812178\n",
      "Round 6500, time 2022-04-12 03:50:04.067645\n",
      "Round 7000, time 2022-04-12 04:14:30.160823\n",
      "Round 7500, time 2022-04-12 04:39:11.635450\n",
      "Round 8000, time 2022-04-12 05:03:38.473824\n",
      "Round 8500, time 2022-04-12 05:28:29.861518\n",
      "Round 9000, time 2022-04-12 05:53:06.020866\n",
      "Round 9500, time 2022-04-12 06:17:49.036188\n",
      "Round 10000, time 2022-04-12 06:42:30.999459\n",
      "Round 10500, time 2022-04-12 07:07:11.043663\n",
      "Round 11000, time 2022-04-12 07:26:57.285695\n",
      "Round 11500, time 2022-04-12 07:38:26.113441\n",
      "Round 12000, time 2022-04-12 07:49:37.663711\n",
      "Round 12500, time 2022-04-12 08:07:16.878843\n",
      "Algorithm1 (beta=1.0, delta=0.1, w=1000)\n",
      "Total gain: 6040.2\n",
      "\tTotal reward: 6041.0\n",
      "\tTotal cost: 0.8000000000000004\n",
      "Execution time: 565.1m\n",
      "\n",
      "Took 33906.890557050705 seconds\n"
     ]
    }
   ],
   "source": [
    "# gains = np.zeros((NUM_REPETITIONS, NUM_OF_TRIALS))\n",
    "# for i in range(NUM_REPETITIONS):\n",
    "\n",
    "s = time.time()\n",
    "p_alg1 = algorithms.Algorithm1(\n",
    "    all_contexts=new_contexts, \n",
    "    number_of_actions=new_rewards.shape[1],\n",
    "    max_no_red_context=new_contexts.shape[1],\n",
    "    beta=1.0,\n",
    "    delta=0.1,\n",
    "    window_length=1000,\n",
    ")\n",
    "print(f\"Took {time.time() - s} seconds\")\n",
    "\n",
    "import warnings\n",
    "with warnings.catch_warnings():\n",
    "    warnings.simplefilter(\"ignore\")\n",
    "    s = time.time()\n",
    "    gain_alg1 = evaluation.evaluate_on_synthetic_data(\n",
    "        p_alg1,\n",
    "        new_contexts[:NUM_OF_TRIALS],\n",
    "        new_rewards[:NUM_OF_TRIALS],\n",
    "        costs_vector[:NUM_OF_TRIALS],\n",
    "        stop_after=NUM_OF_TRIALS,\n",
    "    )\n",
    "    print(f\"Took {time.time() - s} seconds\")\n",
    "    gains[i, :] = gain_alg1\n",
    "\n",
    "# gain_alg1 = np.mean(gains, axis=0)\n",
    "# print(f\"Average gain: {gain_alg1[-1]}\")"
   ]
  },
  {
   "cell_type": "code",
   "execution_count": 239,
   "id": "a0a5fbc7",
   "metadata": {},
   "outputs": [
    {
     "data": {
      "image/png": "[encoded data removed]",
      "text/plain": [
       "<Figure size 792x432 with 1 Axes>"
      ]
     },
     "metadata": {
      "needs_background": "light"
     },
     "output_type": "display_data"
    }
   ],
   "source": [
    "plot_gains({\n",
    "    'Random': gain_random,\n",
    "    'E-greedy': gain_egreedy,\n",
    "    'UCB1': gain_ucb,\n",
    "    'LinUCB': gain_linucb,\n",
    "    'PS-LinUCB': gain_pslinucb,\n",
    "    'SimOOS': gain_simoos,\n",
    "    'Algorithm1': gain_alg1,\n",
    "},\n",
    ")\n"
   ]
  },
  {
   "cell_type": "code",
   "execution_count": 232,
   "id": "d046f836",
   "metadata": {},
   "outputs": [
    {
     "data": {
      "text/plain": [
       "array([2414.95, 2414.9 , 2414.85, 2414.8 , 2414.75, 2414.7 , 2414.65,\n",
       "       2414.6 , 2414.55, 2414.5 , 2414.45, 2414.4 , 2414.35, 2414.3 ,\n",
       "       2414.25, 2414.2 , 2414.15, 2414.1 , 2414.05, 2414.  , 2413.95,\n",
       "       2413.9 , 2413.85, 2413.8 , 2413.75, 2413.7 , 2413.65, 2413.6 ,\n",
       "       2413.55, 2413.5 , 2413.45, 2413.4 , 2413.35, 2413.3 , 2413.25,\n",
       "       2413.2 , 2413.15, 2413.1 , 2413.05, 2413.  , 2412.95, 2412.9 ,\n",
       "       2412.85, 2412.8 , 2412.75, 2412.7 , 2412.65, 2412.6 , 2412.55,\n",
       "       2412.5 , 2412.45, 2412.4 , 2412.35, 2412.3 , 2412.25, 2412.2 ,\n",
       "       2412.15, 2412.1 , 2412.05, 2412.  , 2411.95, 2411.9 , 2411.85,\n",
       "       2411.8 , 2411.75, 2411.7 , 2411.65, 2411.6 , 2411.55, 2411.5 ,\n",
       "       2411.45, 2411.4 , 2411.35, 2411.3 , 2411.25, 2411.2 , 2411.15,\n",
       "       2411.1 , 2411.05, 2411.  , 2410.95, 2410.9 , 2410.85, 2410.8 ,\n",
       "       2410.75, 2410.7 , 2410.65, 2410.6 , 2410.55, 2410.5 , 2410.45,\n",
       "       2410.4 , 2410.35, 2410.3 , 2410.25, 2410.2 , 2410.15, 2410.1 ,\n",
       "       2410.05, 2410.  , 2409.95, 2409.9 , 2409.85, 2409.8 , 2409.75,\n",
       "       2409.7 , 2409.65, 2409.6 , 2409.55, 2409.5 , 2409.45, 2409.4 ,\n",
       "       2409.35, 2409.3 , 2409.25, 2409.2 , 2409.15, 2409.1 , 2409.05,\n",
       "       2409.  , 2408.95, 2408.9 , 2408.85, 2408.8 , 2408.75, 2408.7 ,\n",
       "       2408.65, 2408.6 , 2408.55, 2408.5 , 2408.45, 2408.4 , 2408.35,\n",
       "       2408.3 , 2408.25, 2408.2 , 2408.15, 2408.1 , 2408.05, 2408.  ,\n",
       "       2407.95, 2407.9 , 2407.85, 2407.8 , 2407.75, 2407.7 , 2407.65,\n",
       "       2407.6 , 2407.55, 2407.5 , 2407.45, 2407.4 , 2407.35, 2407.3 ,\n",
       "       2407.25, 2407.2 , 2407.15, 2407.1 , 2407.05, 2407.  , 2406.95,\n",
       "       2406.9 , 2406.85, 2406.8 , 2406.75, 2406.7 , 2406.65, 2406.6 ,\n",
       "       2406.55, 2406.5 , 2406.45, 2406.4 , 2406.35, 2406.3 , 2406.25,\n",
       "       2406.2 , 2406.15, 2406.1 , 2406.05, 2406.  , 2405.95, 2405.9 ,\n",
       "       2405.85, 2405.8 , 2405.75, 2405.7 , 2405.65, 2405.6 , 2405.55,\n",
       "       2405.5 , 2405.45, 2405.4 , 2405.35, 2405.3 , 2405.25, 2405.2 ,\n",
       "       2405.15, 2405.1 , 2405.05, 2405.  ])"
      ]
     },
     "execution_count": 232,
     "metadata": {},
     "output_type": "execute_result"
    }
   ],
   "source": [
    "gain_pslinucb[3200:3400]"
   ]
  },
  {
   "cell_type": "markdown",
   "id": "975d7d42",
   "metadata": {},
   "source": [
    "## Debugging"
   ]
  },
  {
   "cell_type": "code",
   "execution_count": 241,
   "id": "0352706a",
   "metadata": {},
   "outputs": [
    {
     "data": {
      "image/png": "[encoded data removed]",
      "text/plain": [
       "<Figure size 1152x576 with 1 Axes>"
      ]
     },
     "metadata": {
      "needs_background": "light"
     },
     "output_type": "display_data"
    }
   ],
   "source": [
    "fig, ax = plt.subplots(1,1, figsize=(16, 8))\n",
    "until = 10000\n",
    "ax.plot(ucb_alg.ucbs[:until, 0], label=f\"Arm 0\");\n",
    "ax.plot(ucb_alg.ucbs[:until, 1], label=f\"Arm 1\");\n",
    "ax.plot(ucb_alg.ucbs[:until, 2], label=f\"Arm 1\");\n",
    "ax.plot(ucb_alg.ucbs[:until, 3], label=f\"Arm 1\");\n",
    "\n",
    "ax.set_title('UCB1');\n",
    "ax.set_xlabel('Time');\n",
    "ax.set_ylabel('Upper confidence bound');\n",
    "plt.legend();"
   ]
  },
  {
   "cell_type": "raw",
   "id": "83acb680",
   "metadata": {},
   "source": []
  },
  {
   "cell_type": "code",
   "execution_count": 240,
   "id": "10629ff4",
   "metadata": {},
   "outputs": [
    {
     "data": {
      "image/png": "[encoded data removed]",
      "text/plain": [
       "<Figure size 1152x576 with 1 Axes>"
      ]
     },
     "metadata": {
      "needs_background": "light"
     },
     "output_type": "display_data"
    }
   ],
   "source": [
    "fig, ax = plt.subplots(1,1, figsize=(16, 8))\n",
    "for i in range(5):\n",
    "    ax.plot(linucb.ucbs[:until, i], label=f\"Arm {i}\", alpha=0.6);\n",
    "ax.set_title('LinUCB');\n",
    "ax.set_xlabel('Time');\n",
    "ax.set_ylabel('Upper confidence bound');\n",
    "plt.legend();"
   ]
  },
  {
   "cell_type": "code",
   "execution_count": 238,
   "id": "c531a74a",
   "metadata": {},
   "outputs": [
    {
     "data": {
      "image/png": "[encoded data removed]",
      "text/plain": [
       "<Figure size 1152x576 with 1 Axes>"
      ]
     },
     "metadata": {
      "needs_background": "light"
     },
     "output_type": "display_data"
    }
   ],
   "source": [
    "fig, ax = plt.subplots(1,1, figsize=(16, 8))\n",
    "for i in range(4):\n",
    "    ax.plot(ps_linucb.ucbs[:, i], label=f\"Arm {i}\", alpha=0.6);\n",
    "ax.set_title('PS-LinUCB');\n",
    "ax.set_xlabel('Time');\n",
    "ax.set_ylabel('Upper confidence bound');\n",
    "plt.legend();"
   ]
  },
  {
   "cell_type": "code",
   "execution_count": null,
   "id": "06bdb32f",
   "metadata": {},
   "outputs": [],
   "source": []
  },
  {
   "cell_type": "code",
   "execution_count": null,
   "id": "180361a3",
   "metadata": {},
   "outputs": [],
   "source": []
  }
 ],
 "metadata": {
  "kernelspec": {
   "display_name": "Python 3 (ipykernel)",
   "language": "python",
   "name": "python3"
  },
  "language_info": {
   "codemirror_mode": {
    "name": "ipython",
    "version": 3
   },
   "file_extension": ".py",
   "mimetype": "text/x-python",
   "name": "python",
   "nbconvert_exporter": "python",
   "pygments_lexer": "ipython3",
   "version": "3.10.2"
  }
 },
 "nbformat": 4,
 "nbformat_minor": 5
}
