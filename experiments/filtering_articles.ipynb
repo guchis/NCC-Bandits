{
 "cells": [
  {
   "cell_type": "markdown",
   "id": "a0ee1342",
   "metadata": {},
   "source": [
    "# Filtering data\n",
    "We want to emphasize the non-stationary character of the data. To do this we filter out articles that exist for less than 18 hours, because they tend to have constant popularity."
   ]
  },
  {
   "cell_type": "code",
   "execution_count": 2,
   "id": "124fded5",
   "metadata": {},
   "outputs": [
    {
     "data": {
      "text/plain": [
       "'/Users/sbokupripeku/git/work/examples/costly_nonstationary_bandits'"
      ]
     },
     "execution_count": 2,
     "metadata": {},
     "output_type": "execute_result"
    }
   ],
   "source": [
    "import os\n",
    "os.chdir('..')\n",
    "os.getcwd()"
   ]
  },
  {
   "cell_type": "code",
   "execution_count": 8,
   "id": "c403e005",
   "metadata": {},
   "outputs": [
    {
     "name": "stdout",
     "output_type": "stream",
     "text": [
      "The autoreload extension is already loaded. To reload it, use:\n",
      "  %reload_ext autoreload\n"
     ]
    }
   ],
   "source": [
    "%load_ext autoreload\n",
    "%autoreload 2\n",
    "\n",
    "from datetime import timedelta\n",
    "import time\n",
    "import numpy as np\n",
    "import pickle\n",
    "\n",
    "import dataset\n",
    "from plotting.average_ctr import get_average_ctr_plot"
   ]
  },
  {
   "cell_type": "markdown",
   "id": "3efdeb75",
   "metadata": {},
   "source": [
    "### Let's find the short lived articles\n",
    "We do this by checking already gathered average ctr data.\n",
    "The timestamps were averaged over 4000 points, so its an approximation. But usually there are much more than 4000 timestamps in one hour."
   ]
  },
  {
   "cell_type": "code",
   "execution_count": 10,
   "id": "e7623604",
   "metadata": {},
   "outputs": [],
   "source": [
    "with open('total_click_through_rates.pickle', 'rb') as f:\n",
    "    article_ctrs = pickle.load(f)"
   ]
  },
  {
   "cell_type": "code",
   "execution_count": 11,
   "id": "9428aaca",
   "metadata": {},
   "outputs": [],
   "source": [
    "article_lives = []\n",
    "zero_length = []\n",
    "for article_id, (ctrs, tss) in article_ctrs.items():\n",
    "    if not tss:\n",
    "        zero_length.append(article_id)\n",
    "        continue\n",
    "    start_ts = tss[0]\n",
    "    end_ts = tss[-1]\n",
    "    life = end_ts - start_ts\n",
    "    article_lives.append((article_id, life))"
   ]
  },
  {
   "cell_type": "code",
   "execution_count": 12,
   "id": "a12a849b",
   "metadata": {},
   "outputs": [
    {
     "data": {
      "text/plain": [
       "[('109527', 0.0),\n",
       " ('109526', 1027.5750000476837),\n",
       " ('109781', 4639.049999952316),\n",
       " ('109688', 5115.450000047684),\n",
       " ('109523', 5183.549999952316),\n",
       " ('109593', 5207.924999952316),\n",
       " ('109677', 6392.700000047684),\n",
       " ('109759', 6874.050000190735),\n",
       " ('109695', 7371.225000143051),\n",
       " ('109570', 7505.399999856949)]"
      ]
     },
     "execution_count": 12,
     "metadata": {},
     "output_type": "execute_result"
    }
   ],
   "source": [
    "sorted_lives = list(sorted(article_lives, key=lambda x: x[1], reverse=False))\n",
    "sorted_lives[:10]"
   ]
  },
  {
   "cell_type": "code",
   "execution_count": 13,
   "id": "1e40b78d",
   "metadata": {},
   "outputs": [],
   "source": [
    "short_lived_ids = [art_id for art_id, life in sorted_lives if life < 18*3600]"
   ]
  },
  {
   "cell_type": "code",
   "execution_count": 16,
   "id": "be8e327c",
   "metadata": {},
   "outputs": [],
   "source": [
    "filtered_ids = [\n",
    "    '109505', # zero-length\n",
    "    \n",
    "]\n",
    "filtered_ids += short_lived_ids\n",
    "filtered_ctrs = {k:v for k,v in article_ctrs.items() if k not in filtered_ids}"
   ]
  },
  {
   "cell_type": "code",
   "execution_count": 18,
   "id": "6f430f8d",
   "metadata": {},
   "outputs": [],
   "source": [
    "import plotly.io as pio\n",
    "pio.renderers.default = 'browser'\n",
    "get_average_ctr_plot(filtered_ctrs)"
   ]
  },
  {
   "cell_type": "code",
   "execution_count": 77,
   "id": "907ce43a",
   "metadata": {},
   "outputs": [],
   "source": [
    "# Lets take may 4 as small data, 4,5 as medium, 4,5,6 as large"
   ]
  },
  {
   "cell_type": "code",
   "execution_count": 81,
   "id": "9aeefb69",
   "metadata": {},
   "outputs": [],
   "source": [
    "with open('filtered_article_ids.pickle', 'wb') as f:\n",
    "        pickle.dump(filtered_ids, f)"
   ]
  },
  {
   "cell_type": "markdown",
   "id": "1e5540c9",
   "metadata": {},
   "source": [
    "## Saving subsets of data\n",
    "Here we save subsets of data for later use.\n",
    "Small data for quick testing, medium and big to verify results on a larger timescale."
   ]
  },
  {
   "cell_type": "code",
   "execution_count": 19,
   "id": "478c93cb",
   "metadata": {},
   "outputs": [
    {
     "name": "stdout",
     "output_type": "stream",
     "text": [
      "3533535 events with 27 articles, from files  ['dataset/R6/ydata-fp-td-clicks-v1_0.20090504']\n",
      "CPU times: user 4min 51s, sys: 16.1 s, total: 5min 7s\n",
      "Wall time: 5min 22s\n"
     ]
    }
   ],
   "source": [
    "%%time\n",
    "small_data = dataset.Dataset()\n",
    "small_data.fill_yahoo_events(\n",
    "    filenames=[\"dataset/R6/ydata-fp-td-clicks-v1_0.20090504\"],\n",
    "    filtered_ids=filtered_ids\n",
    ")"
   ]
  },
  {
   "cell_type": "code",
   "execution_count": 20,
   "id": "c4eb2245",
   "metadata": {},
   "outputs": [
    {
     "name": "stdout",
     "output_type": "stream",
     "text": [
      "CPU times: user 8.67 s, sys: 6.12 s, total: 14.8 s\n",
      "Wall time: 23.3 s\n"
     ]
    }
   ],
   "source": [
    "%%time\n",
    "with open(\"dataset/R6/subsample/data_04.pickle\", \"wb\") as f:\n",
    "    pickle.dump(small_data, f)\n",
    "del small_data"
   ]
  },
  {
   "cell_type": "code",
   "execution_count": 21,
   "id": "c1e061cd",
   "metadata": {},
   "outputs": [
    {
     "name": "stdout",
     "output_type": "stream",
     "text": [
      "6776711 events with 37 articles, from files  ['dataset/R6/ydata-fp-td-clicks-v1_0.20090504', 'dataset/R6/ydata-fp-td-clicks-v1_0.20090505']\n",
      "CPU times: user 9min 38s, sys: 35.1 s, total: 10min 13s\n",
      "Wall time: 11min 8s\n"
     ]
    }
   ],
   "source": [
    "%%time\n",
    "medium_data = dataset.Dataset()\n",
    "medium_data.fill_yahoo_events(\n",
    "    filenames=[\n",
    "        \"dataset/R6/ydata-fp-td-clicks-v1_0.20090504\",\n",
    "        \"dataset/R6/ydata-fp-td-clicks-v1_0.20090505\"\n",
    "    ],\n",
    "    filtered_ids=filtered_ids\n",
    ")"
   ]
  },
  {
   "cell_type": "code",
   "execution_count": 22,
   "id": "9f256d2d",
   "metadata": {},
   "outputs": [
    {
     "name": "stdout",
     "output_type": "stream",
     "text": [
      "CPU times: user 14.2 s, sys: 14.8 s, total: 29 s\n",
      "Wall time: 1min 8s\n"
     ]
    }
   ],
   "source": [
    "%%time\n",
    "with open(\"dataset/R6/subsample/data_04_05.pickle\", \"wb\") as f:\n",
    "    pickle.dump(medium_data, f)\n",
    "del medium_data"
   ]
  },
  {
   "cell_type": "code",
   "execution_count": 23,
   "id": "bf120468",
   "metadata": {},
   "outputs": [
    {
     "name": "stdout",
     "output_type": "stream",
     "text": [
      "10036576 events with 48 articles, from files  ['dataset/R6/ydata-fp-td-clicks-v1_0.20090504', 'dataset/R6/ydata-fp-td-clicks-v1_0.20090505', 'dataset/R6/ydata-fp-td-clicks-v1_0.20090506']\n",
      "CPU times: user 14min 33s, sys: 55 s, total: 15min 28s\n",
      "Wall time: 16min 21s\n"
     ]
    }
   ],
   "source": [
    "%%time\n",
    "big_data = dataset.Dataset()\n",
    "big_data.fill_yahoo_events(\n",
    "    filenames=[\n",
    "        \"dataset/R6/ydata-fp-td-clicks-v1_0.20090504\", \n",
    "        \"dataset/R6/ydata-fp-td-clicks-v1_0.20090505\",\n",
    "        \"dataset/R6/ydata-fp-td-clicks-v1_0.20090506\",\n",
    "    ],\n",
    "    filtered_ids=filtered_ids\n",
    ")"
   ]
  },
  {
   "cell_type": "code",
   "execution_count": 24,
   "id": "87903626",
   "metadata": {},
   "outputs": [
    {
     "name": "stdout",
     "output_type": "stream",
     "text": [
      "CPU times: user 21.1 s, sys: 17.8 s, total: 38.8 s\n",
      "Wall time: 54.7 s\n"
     ]
    }
   ],
   "source": [
    "%%time\n",
    "with open(\"dataset/R6/subsample/data_04_05_06.pickle\", \"wb\") as f:\n",
    "    pickle.dump(big_data, f)\n",
    "del big_data"
   ]
  }
 ],
 "metadata": {
  "kernelspec": {
   "display_name": "Python 3 (ipykernel)",
   "language": "python",
   "name": "python3"
  },
  "language_info": {
   "codemirror_mode": {
    "name": "ipython",
    "version": 3
   },
   "file_extension": ".py",
   "mimetype": "text/x-python",
   "name": "python",
   "nbconvert_exporter": "python",
   "pygments_lexer": "ipython3",
   "version": "3.9.5"
  }
 },
 "nbformat": 4,
 "nbformat_minor": 5
}
